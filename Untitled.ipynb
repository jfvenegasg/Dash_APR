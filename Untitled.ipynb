{
 "cells": [
  {
   "cell_type": "code",
   "execution_count": 54,
   "id": "488aadfe-8332-4a40-9b2c-d7ed80d93af2",
   "metadata": {},
   "outputs": [],
   "source": [
    "# libreria para trabajar con mapas \n",
    "import folium \n",
    "import pandas as pd"
   ]
  },
  {
   "cell_type": "code",
   "execution_count": 55,
   "id": "578e22f7-afc3-472e-a125-64ee385e84c0",
   "metadata": {},
   "outputs": [
    {
     "data": {
      "text/html": [
       "<div style=\"width:100%;\"><div style=\"position:relative;width:100%;height:0;padding-bottom:60%;\"><span style=\"color:#565656\">Make this Notebook Trusted to load map: File -> Trust Notebook</span><iframe srcdoc=\"&lt;!DOCTYPE html&gt;\n",
       "&lt;head&gt;    \n",
       "    &lt;meta http-equiv=&quot;content-type&quot; content=&quot;text/html; charset=UTF-8&quot; /&gt;\n",
       "    \n",
       "        &lt;script&gt;\n",
       "            L_NO_TOUCH = false;\n",
       "            L_DISABLE_3D = false;\n",
       "        &lt;/script&gt;\n",
       "    \n",
       "    &lt;style&gt;html, body {width: 100%;height: 100%;margin: 0;padding: 0;}&lt;/style&gt;\n",
       "    &lt;style&gt;#map {position:absolute;top:0;bottom:0;right:0;left:0;}&lt;/style&gt;\n",
       "    &lt;script src=&quot;https://cdn.jsdelivr.net/npm/leaflet@1.6.0/dist/leaflet.js&quot;&gt;&lt;/script&gt;\n",
       "    &lt;script src=&quot;https://code.jquery.com/jquery-1.12.4.min.js&quot;&gt;&lt;/script&gt;\n",
       "    &lt;script src=&quot;https://maxcdn.bootstrapcdn.com/bootstrap/3.2.0/js/bootstrap.min.js&quot;&gt;&lt;/script&gt;\n",
       "    &lt;script src=&quot;https://cdnjs.cloudflare.com/ajax/libs/Leaflet.awesome-markers/2.0.2/leaflet.awesome-markers.js&quot;&gt;&lt;/script&gt;\n",
       "    &lt;link rel=&quot;stylesheet&quot; href=&quot;https://cdn.jsdelivr.net/npm/leaflet@1.6.0/dist/leaflet.css&quot;/&gt;\n",
       "    &lt;link rel=&quot;stylesheet&quot; href=&quot;https://maxcdn.bootstrapcdn.com/bootstrap/3.2.0/css/bootstrap.min.css&quot;/&gt;\n",
       "    &lt;link rel=&quot;stylesheet&quot; href=&quot;https://maxcdn.bootstrapcdn.com/bootstrap/3.2.0/css/bootstrap-theme.min.css&quot;/&gt;\n",
       "    &lt;link rel=&quot;stylesheet&quot; href=&quot;https://maxcdn.bootstrapcdn.com/font-awesome/4.6.3/css/font-awesome.min.css&quot;/&gt;\n",
       "    &lt;link rel=&quot;stylesheet&quot; href=&quot;https://cdnjs.cloudflare.com/ajax/libs/Leaflet.awesome-markers/2.0.2/leaflet.awesome-markers.css&quot;/&gt;\n",
       "    &lt;link rel=&quot;stylesheet&quot; href=&quot;https://cdn.jsdelivr.net/gh/python-visualization/folium/folium/templates/leaflet.awesome.rotate.min.css&quot;/&gt;\n",
       "    \n",
       "            &lt;meta name=&quot;viewport&quot; content=&quot;width=device-width,\n",
       "                initial-scale=1.0, maximum-scale=1.0, user-scalable=no&quot; /&gt;\n",
       "            &lt;style&gt;\n",
       "                #map_3363b13d48900a5a3557c34c8ec4baaf {\n",
       "                    position: relative;\n",
       "                    width: 100.0%;\n",
       "                    height: 100.0%;\n",
       "                    left: 0.0%;\n",
       "                    top: 0.0%;\n",
       "                }\n",
       "            &lt;/style&gt;\n",
       "        \n",
       "    &lt;script src=&quot;https://cdnjs.cloudflare.com/ajax/libs/leaflet-minimap/3.6.1/Control.MiniMap.js&quot;&gt;&lt;/script&gt;\n",
       "    &lt;link rel=&quot;stylesheet&quot; href=&quot;https://cdnjs.cloudflare.com/ajax/libs/leaflet-minimap/3.6.1/Control.MiniMap.css&quot;/&gt;\n",
       "&lt;/head&gt;\n",
       "&lt;body&gt;    \n",
       "    \n",
       "            &lt;div class=&quot;folium-map&quot; id=&quot;map_3363b13d48900a5a3557c34c8ec4baaf&quot; &gt;&lt;/div&gt;\n",
       "        \n",
       "&lt;/body&gt;\n",
       "&lt;script&gt;    \n",
       "    \n",
       "            var map_3363b13d48900a5a3557c34c8ec4baaf = L.map(\n",
       "                &quot;map_3363b13d48900a5a3557c34c8ec4baaf&quot;,\n",
       "                {\n",
       "                    center: [-39.925826, -73.114501],\n",
       "                    crs: L.CRS.EPSG3857,\n",
       "                    zoom: 10,\n",
       "                    zoomControl: true,\n",
       "                    preferCanvas: false,\n",
       "                }\n",
       "            );\n",
       "\n",
       "            \n",
       "\n",
       "        \n",
       "    \n",
       "            var tile_layer_8ee7ae4535ae07e50c3d6e58ffcda981 = L.tileLayer(\n",
       "                &quot;https://{s}.tile.openstreetmap.org/{z}/{x}/{y}.png&quot;,\n",
       "                {&quot;attribution&quot;: &quot;Data by \\u0026copy; \\u003ca href=\\&quot;http://openstreetmap.org\\&quot;\\u003eOpenStreetMap\\u003c/a\\u003e, under \\u003ca href=\\&quot;http://www.openstreetmap.org/copyright\\&quot;\\u003eODbL\\u003c/a\\u003e.&quot;, &quot;detectRetina&quot;: false, &quot;maxNativeZoom&quot;: 18, &quot;maxZoom&quot;: 18, &quot;minZoom&quot;: 0, &quot;noWrap&quot;: false, &quot;opacity&quot;: 1, &quot;subdomains&quot;: &quot;abc&quot;, &quot;tms&quot;: false}\n",
       "            ).addTo(map_3363b13d48900a5a3557c34c8ec4baaf);\n",
       "        \n",
       "    \n",
       "            var marker_a61a0e13ddc4be9242d74b171d75fcb8 = L.marker(\n",
       "                [-39.8062305249, -73.0547464487],\n",
       "                {}\n",
       "            ).addTo(map_3363b13d48900a5a3557c34c8ec4baaf);\n",
       "        \n",
       "    \n",
       "            marker_a61a0e13ddc4be9242d74b171d75fcb8.bindTooltip(\n",
       "                `&lt;div&gt;\n",
       "                     PISHUINCO\n",
       "                 &lt;/div&gt;`,\n",
       "                {&quot;sticky&quot;: true}\n",
       "            );\n",
       "        \n",
       "    \n",
       "            var marker_46f5fd8dd129054f4e4c2b442fc8a856 = L.marker(\n",
       "                [-39.7283824204, -73.3948919817],\n",
       "                {}\n",
       "            ).addTo(map_3363b13d48900a5a3557c34c8ec4baaf);\n",
       "        \n",
       "    \n",
       "            marker_46f5fd8dd129054f4e4c2b442fc8a856.bindTooltip(\n",
       "                `&lt;div&gt;\n",
       "                     CURIÑANCO\n",
       "                 &lt;/div&gt;`,\n",
       "                {&quot;sticky&quot;: true}\n",
       "            );\n",
       "        \n",
       "    \n",
       "            var marker_c2dfe44e7e414596418a09f21ca4ba2c = L.marker(\n",
       "                [-39.7930844112, -73.124067117],\n",
       "                {}\n",
       "            ).addTo(map_3363b13d48900a5a3557c34c8ec4baaf);\n",
       "        \n",
       "    \n",
       "            marker_c2dfe44e7e414596418a09f21ca4ba2c.bindTooltip(\n",
       "                `&lt;div&gt;\n",
       "                     HUELLELHUE\n",
       "                 &lt;/div&gt;`,\n",
       "                {&quot;sticky&quot;: true}\n",
       "            );\n",
       "        \n",
       "    \n",
       "            var marker_f664879765e6768fdb9e756219729111 = L.marker(\n",
       "                [-39.8715639883, -73.1852346315],\n",
       "                {}\n",
       "            ).addTo(map_3363b13d48900a5a3557c34c8ec4baaf);\n",
       "        \n",
       "    \n",
       "            marker_f664879765e6768fdb9e756219729111.bindTooltip(\n",
       "                `&lt;div&gt;\n",
       "                     LAS GAVIOTAS\n",
       "                 &lt;/div&gt;`,\n",
       "                {&quot;sticky&quot;: true}\n",
       "            );\n",
       "        \n",
       "    \n",
       "            var marker_1019f58f19ada318fef46b0c264e1a10 = L.marker(\n",
       "                [-39.8547751549, -73.3907718436],\n",
       "                {}\n",
       "            ).addTo(map_3363b13d48900a5a3557c34c8ec4baaf);\n",
       "        \n",
       "    \n",
       "            marker_1019f58f19ada318fef46b0c264e1a10.bindTooltip(\n",
       "                `&lt;div&gt;\n",
       "                     NIEBLA-LOS MOLINOS\n",
       "                 &lt;/div&gt;`,\n",
       "                {&quot;sticky&quot;: true}\n",
       "            );\n",
       "        \n",
       "    \n",
       "            var marker_047f900d8cfdc0d319036f9169331867 = L.marker(\n",
       "                [-39.7603001637, -73.2705681336],\n",
       "                {}\n",
       "            ).addTo(map_3363b13d48900a5a3557c34c8ec4baaf);\n",
       "        \n",
       "    \n",
       "            marker_047f900d8cfdc0d319036f9169331867.bindTooltip(\n",
       "                `&lt;div&gt;\n",
       "                     PUNUCAPA\n",
       "                 &lt;/div&gt;`,\n",
       "                {&quot;sticky&quot;: true}\n",
       "            );\n",
       "        \n",
       "    \n",
       "            var marker_3e5f23b0450d2e7b0a432fa2d4097ba0 = L.marker(\n",
       "                [-39.831480037, -73.4025892212],\n",
       "                {}\n",
       "            ).addTo(map_3363b13d48900a5a3557c34c8ec4baaf);\n",
       "        \n",
       "    \n",
       "            marker_3e5f23b0450d2e7b0a432fa2d4097ba0.bindTooltip(\n",
       "                `&lt;div&gt;\n",
       "                     SAN IGNACIO-PLAYA ROSADA\n",
       "                 &lt;/div&gt;`,\n",
       "                {&quot;sticky&quot;: true}\n",
       "            );\n",
       "        \n",
       "    \n",
       "            var marker_07fafba360dfbcac26549a46eb78ab60 = L.marker(\n",
       "                [-39.8649364171, -73.3728400295],\n",
       "                {}\n",
       "            ).addTo(map_3363b13d48900a5a3557c34c8ec4baaf);\n",
       "        \n",
       "    \n",
       "            marker_07fafba360dfbcac26549a46eb78ab60.bindTooltip(\n",
       "                `&lt;div&gt;\n",
       "                     TRES ESPINOS\n",
       "                 &lt;/div&gt;`,\n",
       "                {&quot;sticky&quot;: true}\n",
       "            );\n",
       "        \n",
       "    \n",
       "            var marker_b6e197d25e8e4cfd181c2cc29776bc24 = L.marker(\n",
       "                [-39.7314121294, -73.1091043702],\n",
       "                {}\n",
       "            ).addTo(map_3363b13d48900a5a3557c34c8ec4baaf);\n",
       "        \n",
       "    \n",
       "            marker_b6e197d25e8e4cfd181c2cc29776bc24.bindTooltip(\n",
       "                `&lt;div&gt;\n",
       "                     VILLA CAYUMAPU\n",
       "                 &lt;/div&gt;`,\n",
       "                {&quot;sticky&quot;: true}\n",
       "            );\n",
       "        \n",
       "    \n",
       "            var marker_6adf5fe7d0478ca64773bb2f1c3a3d79 = L.marker(\n",
       "                [-39.772903642, -73.1970058325],\n",
       "                {}\n",
       "            ).addTo(map_3363b13d48900a5a3557c34c8ec4baaf);\n",
       "        \n",
       "    \n",
       "            marker_6adf5fe7d0478ca64773bb2f1c3a3d79.bindTooltip(\n",
       "                `&lt;div&gt;\n",
       "                     EL ARENAL SANTA ELVIRA\n",
       "                 &lt;/div&gt;`,\n",
       "                {&quot;sticky&quot;: true}\n",
       "            );\n",
       "        \n",
       "    \n",
       "            var marker_2dc024dc3b6297cc4cf869dbc735e29b = L.marker(\n",
       "                [-39.8673123199, -73.2088638403],\n",
       "                {}\n",
       "            ).addTo(map_3363b13d48900a5a3557c34c8ec4baaf);\n",
       "        \n",
       "    \n",
       "            marker_2dc024dc3b6297cc4cf869dbc735e29b.bindTooltip(\n",
       "                `&lt;div&gt;\n",
       "                     PAILLAO\n",
       "                 &lt;/div&gt;`,\n",
       "                {&quot;sticky&quot;: true}\n",
       "            );\n",
       "        \n",
       "    \n",
       "            var marker_c89a8e9d527b7d00957ac4cf35f21303 = L.marker(\n",
       "                [-39.7802702288, -73.2412708338],\n",
       "                {}\n",
       "            ).addTo(map_3363b13d48900a5a3557c34c8ec4baaf);\n",
       "        \n",
       "    \n",
       "            marker_c89a8e9d527b7d00957ac4cf35f21303.bindTooltip(\n",
       "                `&lt;div&gt;\n",
       "                     CABO BLANCO\n",
       "                 &lt;/div&gt;`,\n",
       "                {&quot;sticky&quot;: true}\n",
       "            );\n",
       "        \n",
       "    \n",
       "            var marker_89aa0fff313a5fb3a59ba05812f6bbbc = L.marker(\n",
       "                [-39.7737197231, -73.2102553189],\n",
       "                {}\n",
       "            ).addTo(map_3363b13d48900a5a3557c34c8ec4baaf);\n",
       "        \n",
       "    \n",
       "            marker_89aa0fff313a5fb3a59ba05812f6bbbc.bindTooltip(\n",
       "                `&lt;div&gt;\n",
       "                     EL ARENAL KM 2\n",
       "                 &lt;/div&gt;`,\n",
       "                {&quot;sticky&quot;: true}\n",
       "            );\n",
       "        \n",
       "    \n",
       "            var marker_0fa7d02350a5b9b29c5aa3b5ed278969 = L.marker(\n",
       "                [-39.7772055631, -73.3135380035],\n",
       "                {}\n",
       "            ).addTo(map_3363b13d48900a5a3557c34c8ec4baaf);\n",
       "        \n",
       "    \n",
       "            marker_0fa7d02350a5b9b29c5aa3b5ed278969.bindTooltip(\n",
       "                `&lt;div&gt;\n",
       "                     Chabelita\n",
       "                 &lt;/div&gt;`,\n",
       "                {&quot;sticky&quot;: true}\n",
       "            );\n",
       "        \n",
       "    \n",
       "            var marker_a28aeb913c4937db5ee694bf6f9ee38d = L.marker(\n",
       "                [-40.1296581637, -72.7254940272],\n",
       "                {}\n",
       "            ).addTo(map_3363b13d48900a5a3557c34c8ec4baaf);\n",
       "        \n",
       "    \n",
       "            marker_a28aeb913c4937db5ee694bf6f9ee38d.bindTooltip(\n",
       "                `&lt;div&gt;\n",
       "                     ARCO IRIS\n",
       "                 &lt;/div&gt;`,\n",
       "                {&quot;sticky&quot;: true}\n",
       "            );\n",
       "        \n",
       "    \n",
       "            var marker_33cec7ab2ad6589b9166997a5d2583d5 = L.marker(\n",
       "                [-40.0676228293, -72.6179175677],\n",
       "                {}\n",
       "            ).addTo(map_3363b13d48900a5a3557c34c8ec4baaf);\n",
       "        \n",
       "    \n",
       "            marker_33cec7ab2ad6589b9166997a5d2583d5.bindTooltip(\n",
       "                `&lt;div&gt;\n",
       "                     EL LLOLLY\n",
       "                 &lt;/div&gt;`,\n",
       "                {&quot;sticky&quot;: true}\n",
       "            );\n",
       "        \n",
       "    \n",
       "            var marker_192aadca3445abcf1378dbaf8b946de7 = L.marker(\n",
       "                [-40.1515807831, -72.8962419781],\n",
       "                {}\n",
       "            ).addTo(map_3363b13d48900a5a3557c34c8ec4baaf);\n",
       "        \n",
       "    \n",
       "            marker_192aadca3445abcf1378dbaf8b946de7.bindTooltip(\n",
       "                `&lt;div&gt;\n",
       "                     PICHIRROPULLI\n",
       "                 &lt;/div&gt;`,\n",
       "                {&quot;sticky&quot;: true}\n",
       "            );\n",
       "        \n",
       "    \n",
       "            var marker_35325e4cac5fd044e00fd568387b5b69 = L.marker(\n",
       "                [-39.9784746305, -72.8320348617],\n",
       "                {}\n",
       "            ).addTo(map_3363b13d48900a5a3557c34c8ec4baaf);\n",
       "        \n",
       "    \n",
       "            marker_35325e4cac5fd044e00fd568387b5b69.bindTooltip(\n",
       "                `&lt;div&gt;\n",
       "                     REUMEN\n",
       "                 &lt;/div&gt;`,\n",
       "                {&quot;sticky&quot;: true}\n",
       "            );\n",
       "        \n",
       "    \n",
       "            var marker_504c185390558db90eeca0a293e07a15 = L.marker(\n",
       "                [-40.1233358588, -72.6748177353],\n",
       "                {}\n",
       "            ).addTo(map_3363b13d48900a5a3557c34c8ec4baaf);\n",
       "        \n",
       "    \n",
       "            marker_504c185390558db90eeca0a293e07a15.bindTooltip(\n",
       "                `&lt;div&gt;\n",
       "                     SANTA FILOMENA\n",
       "                 &lt;/div&gt;`,\n",
       "                {&quot;sticky&quot;: true}\n",
       "            );\n",
       "        \n",
       "    \n",
       "            var marker_2568bc73c2077a24194c20727c8d17d3 = L.marker(\n",
       "                [-40.0949272285, -72.8333381781],\n",
       "                {}\n",
       "            ).addTo(map_3363b13d48900a5a3557c34c8ec4baaf);\n",
       "        \n",
       "    \n",
       "            marker_2568bc73c2077a24194c20727c8d17d3.bindTooltip(\n",
       "                `&lt;div&gt;\n",
       "                     MANAO\n",
       "                 &lt;/div&gt;`,\n",
       "                {&quot;sticky&quot;: true}\n",
       "            );\n",
       "        \n",
       "    \n",
       "            var marker_ff88c5636f51a51e1552b0cd35ced4ca = L.marker(\n",
       "                [-40.1805296564, -72.5619049938],\n",
       "                {}\n",
       "            ).addTo(map_3363b13d48900a5a3557c34c8ec4baaf);\n",
       "        \n",
       "    \n",
       "            marker_ff88c5636f51a51e1552b0cd35ced4ca.bindTooltip(\n",
       "                `&lt;div&gt;\n",
       "                     SANTA ROSA CHICA\n",
       "                 &lt;/div&gt;`,\n",
       "                {&quot;sticky&quot;: true}\n",
       "            );\n",
       "        \n",
       "    \n",
       "            var marker_c3d909ab9f95577673763f047bb0aae9 = L.marker(\n",
       "                [-40.1380925113, -72.5825449417],\n",
       "                {}\n",
       "            ).addTo(map_3363b13d48900a5a3557c34c8ec4baaf);\n",
       "        \n",
       "    \n",
       "            marker_c3d909ab9f95577673763f047bb0aae9.bindTooltip(\n",
       "                `&lt;div&gt;\n",
       "                     SANTA ROSA GRANDE\n",
       "                 &lt;/div&gt;`,\n",
       "                {&quot;sticky&quot;: true}\n",
       "            );\n",
       "        \n",
       "    \n",
       "            var marker_0622dbd9d5b8d381340ee52e24ebde1c = L.marker(\n",
       "                [-40.0154940534, -72.7914597178],\n",
       "                {}\n",
       "            ).addTo(map_3363b13d48900a5a3557c34c8ec4baaf);\n",
       "        \n",
       "    \n",
       "            marker_0622dbd9d5b8d381340ee52e24ebde1c.bindTooltip(\n",
       "                `&lt;div&gt;\n",
       "                     LUMACO PAILLACO\n",
       "                 &lt;/div&gt;`,\n",
       "                {&quot;sticky&quot;: true}\n",
       "            );\n",
       "        \n",
       "    \n",
       "            var marker_69fd31c457a5940c27e674f1fb32773e = L.marker(\n",
       "                [-40.0746752187, -72.6747765849],\n",
       "                {}\n",
       "            ).addTo(map_3363b13d48900a5a3557c34c8ec4baaf);\n",
       "        \n",
       "    \n",
       "            marker_69fd31c457a5940c27e674f1fb32773e.bindTooltip(\n",
       "                `&lt;div&gt;\n",
       "                     EL MAITEN\n",
       "                 &lt;/div&gt;`,\n",
       "                {&quot;sticky&quot;: true}\n",
       "            );\n",
       "        \n",
       "    \n",
       "            var marker_739688f23f32bf5f8a484127d8eda8b2 = L.marker(\n",
       "                [-40.1221748177, -72.6855485214],\n",
       "                {}\n",
       "            ).addTo(map_3363b13d48900a5a3557c34c8ec4baaf);\n",
       "        \n",
       "    \n",
       "            marker_739688f23f32bf5f8a484127d8eda8b2.bindTooltip(\n",
       "                `&lt;div&gt;\n",
       "                     SANTA FILOMENA II\n",
       "                 &lt;/div&gt;`,\n",
       "                {&quot;sticky&quot;: true}\n",
       "            );\n",
       "        \n",
       "    \n",
       "            var marker_4d42a5a129cff00cb20a76dfee21824b = L.marker(\n",
       "                [-39.8074856345, -72.9572455712],\n",
       "                {}\n",
       "            ).addTo(map_3363b13d48900a5a3557c34c8ec4baaf);\n",
       "        \n",
       "    \n",
       "            marker_4d42a5a129cff00cb20a76dfee21824b.bindTooltip(\n",
       "                `&lt;div&gt;\n",
       "                     ANTILHUE\n",
       "                 &lt;/div&gt;`,\n",
       "                {&quot;sticky&quot;: true}\n",
       "            );\n",
       "        \n",
       "    \n",
       "            var marker_b330326e17abb5c9ab94687b5d80a42a = L.marker(\n",
       "                [-39.8710682914, -72.6678013129],\n",
       "                {}\n",
       "            ).addTo(map_3363b13d48900a5a3557c34c8ec4baaf);\n",
       "        \n",
       "    \n",
       "            marker_b330326e17abb5c9ab94687b5d80a42a.bindTooltip(\n",
       "                `&lt;div&gt;\n",
       "                     FOLILCO LOS LAGOS\n",
       "                 &lt;/div&gt;`,\n",
       "                {&quot;sticky&quot;: true}\n",
       "            );\n",
       "        \n",
       "    \n",
       "            var marker_f471d8a2e27a03cd0771bfea3d6cce0c = L.marker(\n",
       "                [-39.9084433218, -72.5733916686],\n",
       "                {}\n",
       "            ).addTo(map_3363b13d48900a5a3557c34c8ec4baaf);\n",
       "        \n",
       "    \n",
       "            marker_f471d8a2e27a03cd0771bfea3d6cce0c.bindTooltip(\n",
       "                `&lt;div&gt;\n",
       "                     QUILQUILCO\n",
       "                 &lt;/div&gt;`,\n",
       "                {&quot;sticky&quot;: true}\n",
       "            );\n",
       "        \n",
       "    \n",
       "            var marker_34dd2d49c50d39ec7ac0b83d47a33191 = L.marker(\n",
       "                [-39.8171126188, -72.4425065285],\n",
       "                {}\n",
       "            ).addTo(map_3363b13d48900a5a3557c34c8ec4baaf);\n",
       "        \n",
       "    \n",
       "            marker_34dd2d49c50d39ec7ac0b83d47a33191.bindTooltip(\n",
       "                `&lt;div&gt;\n",
       "                     RIÑIHUE\n",
       "                 &lt;/div&gt;`,\n",
       "                {&quot;sticky&quot;: true}\n",
       "            );\n",
       "        \n",
       "    \n",
       "            var marker_ffdf6be96b8ab915379525036958c6ac = L.marker(\n",
       "                [-39.7751787818, -72.6519491619],\n",
       "                {}\n",
       "            ).addTo(map_3363b13d48900a5a3557c34c8ec4baaf);\n",
       "        \n",
       "    \n",
       "            marker_ffdf6be96b8ab915379525036958c6ac.bindTooltip(\n",
       "                `&lt;div&gt;\n",
       "                     USTARITZ\n",
       "                 &lt;/div&gt;`,\n",
       "                {&quot;sticky&quot;: true}\n",
       "            );\n",
       "        \n",
       "    \n",
       "            var marker_430767af449f7d785aee9ca07e44c029 = L.marker(\n",
       "                [-39.9987530843, -72.7108188025],\n",
       "                {}\n",
       "            ).addTo(map_3363b13d48900a5a3557c34c8ec4baaf);\n",
       "        \n",
       "    \n",
       "            marker_430767af449f7d785aee9ca07e44c029.bindTooltip(\n",
       "                `&lt;div&gt;\n",
       "                     EL SALTO\n",
       "                 &lt;/div&gt;`,\n",
       "                {&quot;sticky&quot;: true}\n",
       "            );\n",
       "        \n",
       "    \n",
       "            var marker_4b2fbf207df8ee01df1d1babd145831e = L.marker(\n",
       "                [-40.0154665081, -72.5215180883],\n",
       "                {}\n",
       "            ).addTo(map_3363b13d48900a5a3557c34c8ec4baaf);\n",
       "        \n",
       "    \n",
       "            marker_4b2fbf207df8ee01df1d1babd145831e.bindTooltip(\n",
       "                `&lt;div&gt;\n",
       "                     PELLINADA LAS QUINIENTAS\n",
       "                 &lt;/div&gt;`,\n",
       "                {&quot;sticky&quot;: true}\n",
       "            );\n",
       "        \n",
       "    \n",
       "            var marker_050896704701b99b2871941f0efa5a90 = L.marker(\n",
       "                [-39.8526730412, -72.7929315347],\n",
       "                {}\n",
       "            ).addTo(map_3363b13d48900a5a3557c34c8ec4baaf);\n",
       "        \n",
       "    \n",
       "            marker_050896704701b99b2871941f0efa5a90.bindTooltip(\n",
       "                `&lt;div&gt;\n",
       "                     PANCUL\n",
       "                 &lt;/div&gt;`,\n",
       "                {&quot;sticky&quot;: true}\n",
       "            );\n",
       "        \n",
       "    \n",
       "            var marker_d6d0f9e86f42f642c87063654e2dc8da = L.marker(\n",
       "                [-39.8705154943, -72.781619174],\n",
       "                {}\n",
       "            ).addTo(map_3363b13d48900a5a3557c34c8ec4baaf);\n",
       "        \n",
       "    \n",
       "            marker_d6d0f9e86f42f642c87063654e2dc8da.bindTooltip(\n",
       "                `&lt;div&gt;\n",
       "                     LOS COLIGÜES\n",
       "                 &lt;/div&gt;`,\n",
       "                {&quot;sticky&quot;: true}\n",
       "            );\n",
       "        \n",
       "    \n",
       "            var marker_999c45222fe1817e91ea4a10867f1e06 = L.marker(\n",
       "                [-39.8817714432, -72.6708273322],\n",
       "                {}\n",
       "            ).addTo(map_3363b13d48900a5a3557c34c8ec4baaf);\n",
       "        \n",
       "    \n",
       "            marker_999c45222fe1817e91ea4a10867f1e06.bindTooltip(\n",
       "                `&lt;div&gt;\n",
       "                     COLO COLO\n",
       "                 &lt;/div&gt;`,\n",
       "                {&quot;sticky&quot;: true}\n",
       "            );\n",
       "        \n",
       "    \n",
       "            var marker_df02e964d1551e3dfe837e8f9c1cadb2 = L.marker(\n",
       "                [-39.9027809062, -72.5930946759],\n",
       "                {}\n",
       "            ).addTo(map_3363b13d48900a5a3557c34c8ec4baaf);\n",
       "        \n",
       "    \n",
       "            marker_df02e964d1551e3dfe837e8f9c1cadb2.bindTooltip(\n",
       "                `&lt;div&gt;\n",
       "                     LAS HUELLLAS\n",
       "                 &lt;/div&gt;`,\n",
       "                {&quot;sticky&quot;: true}\n",
       "            );\n",
       "        \n",
       "    \n",
       "            var marker_f61ded4b08a3c1fa25b77c2332f17981 = L.marker(\n",
       "                [-39.8171525324, -72.6981700465],\n",
       "                {}\n",
       "            ).addTo(map_3363b13d48900a5a3557c34c8ec4baaf);\n",
       "        \n",
       "    \n",
       "            marker_f61ded4b08a3c1fa25b77c2332f17981.bindTooltip(\n",
       "                `&lt;div&gt;\n",
       "                     San Pedro\n",
       "                 &lt;/div&gt;`,\n",
       "                {&quot;sticky&quot;: true}\n",
       "            );\n",
       "        \n",
       "    \n",
       "            var marker_edb61f31463ea2fefadbea1184ae4630 = L.marker(\n",
       "                [-39.9151109593, -72.78974687],\n",
       "                {}\n",
       "            ).addTo(map_3363b13d48900a5a3557c34c8ec4baaf);\n",
       "        \n",
       "    \n",
       "            marker_edb61f31463ea2fefadbea1184ae4630.bindTooltip(\n",
       "                `&lt;div&gt;\n",
       "                     Lipingue\n",
       "                 &lt;/div&gt;`,\n",
       "                {&quot;sticky&quot;: true}\n",
       "            );\n",
       "        \n",
       "    \n",
       "            var marker_5798b6dd42e90a9cf6770a652f37b525 = L.marker(\n",
       "                [-39.9809683663, -72.7929665382],\n",
       "                {}\n",
       "            ).addTo(map_3363b13d48900a5a3557c34c8ec4baaf);\n",
       "        \n",
       "    \n",
       "            marker_5798b6dd42e90a9cf6770a652f37b525.bindTooltip(\n",
       "                `&lt;div&gt;\n",
       "                     El Trebol\n",
       "                 &lt;/div&gt;`,\n",
       "                {&quot;sticky&quot;: true}\n",
       "            );\n",
       "        \n",
       "    \n",
       "            var marker_a83ac3e9062e4f85241f1baaea9ac5df = L.marker(\n",
       "                [-39.891383155, -72.7942956633],\n",
       "                {}\n",
       "            ).addTo(map_3363b13d48900a5a3557c34c8ec4baaf);\n",
       "        \n",
       "    \n",
       "            marker_a83ac3e9062e4f85241f1baaea9ac5df.bindTooltip(\n",
       "                `&lt;div&gt;\n",
       "                     Collico Sur\n",
       "                 &lt;/div&gt;`,\n",
       "                {&quot;sticky&quot;: true}\n",
       "            );\n",
       "        \n",
       "    \n",
       "            var marker_28a1f49de710a2fefca5d16a96a9c386 = L.marker(\n",
       "                [-39.854954476, -72.6609940373],\n",
       "                {}\n",
       "            ).addTo(map_3363b13d48900a5a3557c34c8ec4baaf);\n",
       "        \n",
       "    \n",
       "            marker_28a1f49de710a2fefca5d16a96a9c386.bindTooltip(\n",
       "                `&lt;div&gt;\n",
       "                     Mi Tierra\n",
       "                 &lt;/div&gt;`,\n",
       "                {&quot;sticky&quot;: true}\n",
       "            );\n",
       "        \n",
       "    \n",
       "            var marker_765c2d710acf6a04a4dcfb85e497a893 = L.marker(\n",
       "                [-39.8597946179, -72.7236128048],\n",
       "                {}\n",
       "            ).addTo(map_3363b13d48900a5a3557c34c8ec4baaf);\n",
       "        \n",
       "    \n",
       "            marker_765c2d710acf6a04a4dcfb85e497a893.bindTooltip(\n",
       "                `&lt;div&gt;\n",
       "                     Puñaco\n",
       "                 &lt;/div&gt;`,\n",
       "                {&quot;sticky&quot;: true}\n",
       "            );\n",
       "        \n",
       "    \n",
       "            var marker_edd08b941620102eb439bbf9d162909d = L.marker(\n",
       "                [-39.8183071179, -72.8753063555],\n",
       "                {}\n",
       "            ).addTo(map_3363b13d48900a5a3557c34c8ec4baaf);\n",
       "        \n",
       "    \n",
       "            marker_edd08b941620102eb439bbf9d162909d.bindTooltip(\n",
       "                `&lt;div&gt;\n",
       "                     Purey\n",
       "                 &lt;/div&gt;`,\n",
       "                {&quot;sticky&quot;: true}\n",
       "            );\n",
       "        \n",
       "    \n",
       "            var marker_56c778e04fd3c500ee0e224df67a133e = L.marker(\n",
       "                [-39.8631470531, -73.4340874604],\n",
       "                {}\n",
       "            ).addTo(map_3363b13d48900a5a3557c34c8ec4baaf);\n",
       "        \n",
       "    \n",
       "            marker_56c778e04fd3c500ee0e224df67a133e.bindTooltip(\n",
       "                `&lt;div&gt;\n",
       "                     AMARGO-SAN CARLOS\n",
       "                 &lt;/div&gt;`,\n",
       "                {&quot;sticky&quot;: true}\n",
       "            );\n",
       "        \n",
       "    \n",
       "            var marker_c777a6164f515eed43539b3b32fe9d96 = L.marker(\n",
       "                [-39.8754350487, -73.3587930086],\n",
       "                {}\n",
       "            ).addTo(map_3363b13d48900a5a3557c34c8ec4baaf);\n",
       "        \n",
       "    \n",
       "            marker_c777a6164f515eed43539b3b32fe9d96.bindTooltip(\n",
       "                `&lt;div&gt;\n",
       "                     ISLA DEL REY\n",
       "                 &lt;/div&gt;`,\n",
       "                {&quot;sticky&quot;: true}\n",
       "            );\n",
       "        \n",
       "    \n",
       "            var marker_a92d3e4ed8a42cd2fb24f3f78590ed24 = L.marker(\n",
       "                [-39.8905057848, -73.3917808877],\n",
       "                {}\n",
       "            ).addTo(map_3363b13d48900a5a3557c34c8ec4baaf);\n",
       "        \n",
       "    \n",
       "            marker_a92d3e4ed8a42cd2fb24f3f78590ed24.bindTooltip(\n",
       "                `&lt;div&gt;\n",
       "                     ISLA MANCERA\n",
       "                 &lt;/div&gt;`,\n",
       "                {&quot;sticky&quot;: true}\n",
       "            );\n",
       "        \n",
       "    \n",
       "            var marker_f016b6125b37f5ad528ee010b94f3248 = L.marker(\n",
       "                [-39.8964415368, -73.417776163],\n",
       "                {}\n",
       "            ).addTo(map_3363b13d48900a5a3557c34c8ec4baaf);\n",
       "        \n",
       "    \n",
       "            marker_f016b6125b37f5ad528ee010b94f3248.bindTooltip(\n",
       "                `&lt;div&gt;\n",
       "                     LA AGUADA\n",
       "                 &lt;/div&gt;`,\n",
       "                {&quot;sticky&quot;: true}\n",
       "            );\n",
       "        \n",
       "    \n",
       "            var marker_2e91a14f85282bf735be98333f195c88 = L.marker(\n",
       "                [-39.9656281859, -73.6194983481],\n",
       "                {}\n",
       "            ).addTo(map_3363b13d48900a5a3557c34c8ec4baaf);\n",
       "        \n",
       "    \n",
       "            marker_2e91a14f85282bf735be98333f195c88.bindTooltip(\n",
       "                `&lt;div&gt;\n",
       "                     CHAIHUIN\n",
       "                 &lt;/div&gt;`,\n",
       "                {&quot;sticky&quot;: true}\n",
       "            );\n",
       "        \n",
       "    \n",
       "            var marker_071b569f7b2d47c0459b9c185746a6f5 = L.marker(\n",
       "                [-39.8970045115, -73.4310820761],\n",
       "                {}\n",
       "            ).addTo(map_3363b13d48900a5a3557c34c8ec4baaf);\n",
       "        \n",
       "    \n",
       "            marker_071b569f7b2d47c0459b9c185746a6f5.bindTooltip(\n",
       "                `&lt;div&gt;\n",
       "                     CERROS DE CORRAL\n",
       "                 &lt;/div&gt;`,\n",
       "                {&quot;sticky&quot;: true}\n",
       "            );\n",
       "        \n",
       "    \n",
       "            var circle_marker_a816bb561bf2ce8f7ff1fdb6d41f5e96 = L.circleMarker(\n",
       "                [-39.8062305249, -73.0547464487],\n",
       "                {&quot;bubblingMouseEvents&quot;: true, &quot;color&quot;: &quot;#3388ff&quot;, &quot;dashArray&quot;: null, &quot;dashOffset&quot;: null, &quot;fill&quot;: false, &quot;fillColor&quot;: &quot;#3388ff&quot;, &quot;fillOpacity&quot;: 0.2, &quot;fillRule&quot;: &quot;evenodd&quot;, &quot;lineCap&quot;: &quot;round&quot;, &quot;lineJoin&quot;: &quot;round&quot;, &quot;opacity&quot;: 1.0, &quot;radius&quot;: 5, &quot;stroke&quot;: true, &quot;weight&quot;: 3}\n",
       "            ).addTo(map_3363b13d48900a5a3557c34c8ec4baaf);\n",
       "        \n",
       "    \n",
       "            var circle_marker_626003a662623d59d6e8e1f9620c7da4 = L.circleMarker(\n",
       "                [-39.7283824204, -73.3948919817],\n",
       "                {&quot;bubblingMouseEvents&quot;: true, &quot;color&quot;: &quot;#3388ff&quot;, &quot;dashArray&quot;: null, &quot;dashOffset&quot;: null, &quot;fill&quot;: false, &quot;fillColor&quot;: &quot;#3388ff&quot;, &quot;fillOpacity&quot;: 0.2, &quot;fillRule&quot;: &quot;evenodd&quot;, &quot;lineCap&quot;: &quot;round&quot;, &quot;lineJoin&quot;: &quot;round&quot;, &quot;opacity&quot;: 1.0, &quot;radius&quot;: 5, &quot;stroke&quot;: true, &quot;weight&quot;: 3}\n",
       "            ).addTo(map_3363b13d48900a5a3557c34c8ec4baaf);\n",
       "        \n",
       "    \n",
       "            var circle_marker_2479088882031d7ce1fa12a8a2adfc45 = L.circleMarker(\n",
       "                [-39.7930844112, -73.124067117],\n",
       "                {&quot;bubblingMouseEvents&quot;: true, &quot;color&quot;: &quot;#3388ff&quot;, &quot;dashArray&quot;: null, &quot;dashOffset&quot;: null, &quot;fill&quot;: false, &quot;fillColor&quot;: &quot;#3388ff&quot;, &quot;fillOpacity&quot;: 0.2, &quot;fillRule&quot;: &quot;evenodd&quot;, &quot;lineCap&quot;: &quot;round&quot;, &quot;lineJoin&quot;: &quot;round&quot;, &quot;opacity&quot;: 1.0, &quot;radius&quot;: 5, &quot;stroke&quot;: true, &quot;weight&quot;: 3}\n",
       "            ).addTo(map_3363b13d48900a5a3557c34c8ec4baaf);\n",
       "        \n",
       "    \n",
       "            var circle_marker_ac5baa48df6ea2da055bb03cc48e7462 = L.circleMarker(\n",
       "                [-39.8715639883, -73.1852346315],\n",
       "                {&quot;bubblingMouseEvents&quot;: true, &quot;color&quot;: &quot;#3388ff&quot;, &quot;dashArray&quot;: null, &quot;dashOffset&quot;: null, &quot;fill&quot;: false, &quot;fillColor&quot;: &quot;#3388ff&quot;, &quot;fillOpacity&quot;: 0.2, &quot;fillRule&quot;: &quot;evenodd&quot;, &quot;lineCap&quot;: &quot;round&quot;, &quot;lineJoin&quot;: &quot;round&quot;, &quot;opacity&quot;: 1.0, &quot;radius&quot;: 5, &quot;stroke&quot;: true, &quot;weight&quot;: 3}\n",
       "            ).addTo(map_3363b13d48900a5a3557c34c8ec4baaf);\n",
       "        \n",
       "    \n",
       "            var circle_marker_5edb5a71f11619cbd2e162d6404fafcc = L.circleMarker(\n",
       "                [-39.8547751549, -73.3907718436],\n",
       "                {&quot;bubblingMouseEvents&quot;: true, &quot;color&quot;: &quot;#3388ff&quot;, &quot;dashArray&quot;: null, &quot;dashOffset&quot;: null, &quot;fill&quot;: false, &quot;fillColor&quot;: &quot;#3388ff&quot;, &quot;fillOpacity&quot;: 0.2, &quot;fillRule&quot;: &quot;evenodd&quot;, &quot;lineCap&quot;: &quot;round&quot;, &quot;lineJoin&quot;: &quot;round&quot;, &quot;opacity&quot;: 1.0, &quot;radius&quot;: 5, &quot;stroke&quot;: true, &quot;weight&quot;: 3}\n",
       "            ).addTo(map_3363b13d48900a5a3557c34c8ec4baaf);\n",
       "        \n",
       "    \n",
       "            var circle_marker_be7520c9fa95bdfe0b168802ecc1d6d6 = L.circleMarker(\n",
       "                [-39.7603001637, -73.2705681336],\n",
       "                {&quot;bubblingMouseEvents&quot;: true, &quot;color&quot;: &quot;#3388ff&quot;, &quot;dashArray&quot;: null, &quot;dashOffset&quot;: null, &quot;fill&quot;: false, &quot;fillColor&quot;: &quot;#3388ff&quot;, &quot;fillOpacity&quot;: 0.2, &quot;fillRule&quot;: &quot;evenodd&quot;, &quot;lineCap&quot;: &quot;round&quot;, &quot;lineJoin&quot;: &quot;round&quot;, &quot;opacity&quot;: 1.0, &quot;radius&quot;: 5, &quot;stroke&quot;: true, &quot;weight&quot;: 3}\n",
       "            ).addTo(map_3363b13d48900a5a3557c34c8ec4baaf);\n",
       "        \n",
       "    \n",
       "            var circle_marker_c256d13c6666f5b7e19e6e86601f5ab0 = L.circleMarker(\n",
       "                [-39.831480037, -73.4025892212],\n",
       "                {&quot;bubblingMouseEvents&quot;: true, &quot;color&quot;: &quot;#3388ff&quot;, &quot;dashArray&quot;: null, &quot;dashOffset&quot;: null, &quot;fill&quot;: false, &quot;fillColor&quot;: &quot;#3388ff&quot;, &quot;fillOpacity&quot;: 0.2, &quot;fillRule&quot;: &quot;evenodd&quot;, &quot;lineCap&quot;: &quot;round&quot;, &quot;lineJoin&quot;: &quot;round&quot;, &quot;opacity&quot;: 1.0, &quot;radius&quot;: 5, &quot;stroke&quot;: true, &quot;weight&quot;: 3}\n",
       "            ).addTo(map_3363b13d48900a5a3557c34c8ec4baaf);\n",
       "        \n",
       "    \n",
       "            var circle_marker_e98214bac6961a76f71646fff2dd1b8b = L.circleMarker(\n",
       "                [-39.8649364171, -73.3728400295],\n",
       "                {&quot;bubblingMouseEvents&quot;: true, &quot;color&quot;: &quot;#3388ff&quot;, &quot;dashArray&quot;: null, &quot;dashOffset&quot;: null, &quot;fill&quot;: false, &quot;fillColor&quot;: &quot;#3388ff&quot;, &quot;fillOpacity&quot;: 0.2, &quot;fillRule&quot;: &quot;evenodd&quot;, &quot;lineCap&quot;: &quot;round&quot;, &quot;lineJoin&quot;: &quot;round&quot;, &quot;opacity&quot;: 1.0, &quot;radius&quot;: 5, &quot;stroke&quot;: true, &quot;weight&quot;: 3}\n",
       "            ).addTo(map_3363b13d48900a5a3557c34c8ec4baaf);\n",
       "        \n",
       "    \n",
       "            var circle_marker_fe2cf45e1ff4d1195f344404cdcffb51 = L.circleMarker(\n",
       "                [-39.7314121294, -73.1091043702],\n",
       "                {&quot;bubblingMouseEvents&quot;: true, &quot;color&quot;: &quot;#3388ff&quot;, &quot;dashArray&quot;: null, &quot;dashOffset&quot;: null, &quot;fill&quot;: false, &quot;fillColor&quot;: &quot;#3388ff&quot;, &quot;fillOpacity&quot;: 0.2, &quot;fillRule&quot;: &quot;evenodd&quot;, &quot;lineCap&quot;: &quot;round&quot;, &quot;lineJoin&quot;: &quot;round&quot;, &quot;opacity&quot;: 1.0, &quot;radius&quot;: 5, &quot;stroke&quot;: true, &quot;weight&quot;: 3}\n",
       "            ).addTo(map_3363b13d48900a5a3557c34c8ec4baaf);\n",
       "        \n",
       "    \n",
       "            var circle_marker_ccfbb2634ade9a7d5d5a8dcd024c93ea = L.circleMarker(\n",
       "                [-39.772903642, -73.1970058325],\n",
       "                {&quot;bubblingMouseEvents&quot;: true, &quot;color&quot;: &quot;#3388ff&quot;, &quot;dashArray&quot;: null, &quot;dashOffset&quot;: null, &quot;fill&quot;: false, &quot;fillColor&quot;: &quot;#3388ff&quot;, &quot;fillOpacity&quot;: 0.2, &quot;fillRule&quot;: &quot;evenodd&quot;, &quot;lineCap&quot;: &quot;round&quot;, &quot;lineJoin&quot;: &quot;round&quot;, &quot;opacity&quot;: 1.0, &quot;radius&quot;: 5, &quot;stroke&quot;: true, &quot;weight&quot;: 3}\n",
       "            ).addTo(map_3363b13d48900a5a3557c34c8ec4baaf);\n",
       "        \n",
       "    \n",
       "            var circle_marker_041edc156b5f3f8a6b732a616329b38e = L.circleMarker(\n",
       "                [-39.8673123199, -73.2088638403],\n",
       "                {&quot;bubblingMouseEvents&quot;: true, &quot;color&quot;: &quot;#3388ff&quot;, &quot;dashArray&quot;: null, &quot;dashOffset&quot;: null, &quot;fill&quot;: false, &quot;fillColor&quot;: &quot;#3388ff&quot;, &quot;fillOpacity&quot;: 0.2, &quot;fillRule&quot;: &quot;evenodd&quot;, &quot;lineCap&quot;: &quot;round&quot;, &quot;lineJoin&quot;: &quot;round&quot;, &quot;opacity&quot;: 1.0, &quot;radius&quot;: 5, &quot;stroke&quot;: true, &quot;weight&quot;: 3}\n",
       "            ).addTo(map_3363b13d48900a5a3557c34c8ec4baaf);\n",
       "        \n",
       "    \n",
       "            var circle_marker_1f693296e5f9a17b33b4a938b8fd26c9 = L.circleMarker(\n",
       "                [-39.7802702288, -73.2412708338],\n",
       "                {&quot;bubblingMouseEvents&quot;: true, &quot;color&quot;: &quot;#3388ff&quot;, &quot;dashArray&quot;: null, &quot;dashOffset&quot;: null, &quot;fill&quot;: false, &quot;fillColor&quot;: &quot;#3388ff&quot;, &quot;fillOpacity&quot;: 0.2, &quot;fillRule&quot;: &quot;evenodd&quot;, &quot;lineCap&quot;: &quot;round&quot;, &quot;lineJoin&quot;: &quot;round&quot;, &quot;opacity&quot;: 1.0, &quot;radius&quot;: 5, &quot;stroke&quot;: true, &quot;weight&quot;: 3}\n",
       "            ).addTo(map_3363b13d48900a5a3557c34c8ec4baaf);\n",
       "        \n",
       "    \n",
       "            var circle_marker_78bd4b646cf2f30ef6a70b18e53204e1 = L.circleMarker(\n",
       "                [-39.7737197231, -73.2102553189],\n",
       "                {&quot;bubblingMouseEvents&quot;: true, &quot;color&quot;: &quot;#3388ff&quot;, &quot;dashArray&quot;: null, &quot;dashOffset&quot;: null, &quot;fill&quot;: false, &quot;fillColor&quot;: &quot;#3388ff&quot;, &quot;fillOpacity&quot;: 0.2, &quot;fillRule&quot;: &quot;evenodd&quot;, &quot;lineCap&quot;: &quot;round&quot;, &quot;lineJoin&quot;: &quot;round&quot;, &quot;opacity&quot;: 1.0, &quot;radius&quot;: 5, &quot;stroke&quot;: true, &quot;weight&quot;: 3}\n",
       "            ).addTo(map_3363b13d48900a5a3557c34c8ec4baaf);\n",
       "        \n",
       "    \n",
       "            var circle_marker_4680f4be8cbaccfab00575516d122247 = L.circleMarker(\n",
       "                [-39.7772055631, -73.3135380035],\n",
       "                {&quot;bubblingMouseEvents&quot;: true, &quot;color&quot;: &quot;#3388ff&quot;, &quot;dashArray&quot;: null, &quot;dashOffset&quot;: null, &quot;fill&quot;: false, &quot;fillColor&quot;: &quot;#3388ff&quot;, &quot;fillOpacity&quot;: 0.2, &quot;fillRule&quot;: &quot;evenodd&quot;, &quot;lineCap&quot;: &quot;round&quot;, &quot;lineJoin&quot;: &quot;round&quot;, &quot;opacity&quot;: 1.0, &quot;radius&quot;: 5, &quot;stroke&quot;: true, &quot;weight&quot;: 3}\n",
       "            ).addTo(map_3363b13d48900a5a3557c34c8ec4baaf);\n",
       "        \n",
       "    \n",
       "            var circle_marker_c1aad5251d45b1f4dde637399e14e205 = L.circleMarker(\n",
       "                [-40.1296581637, -72.7254940272],\n",
       "                {&quot;bubblingMouseEvents&quot;: true, &quot;color&quot;: &quot;#3388ff&quot;, &quot;dashArray&quot;: null, &quot;dashOffset&quot;: null, &quot;fill&quot;: false, &quot;fillColor&quot;: &quot;#3388ff&quot;, &quot;fillOpacity&quot;: 0.2, &quot;fillRule&quot;: &quot;evenodd&quot;, &quot;lineCap&quot;: &quot;round&quot;, &quot;lineJoin&quot;: &quot;round&quot;, &quot;opacity&quot;: 1.0, &quot;radius&quot;: 5, &quot;stroke&quot;: true, &quot;weight&quot;: 3}\n",
       "            ).addTo(map_3363b13d48900a5a3557c34c8ec4baaf);\n",
       "        \n",
       "    \n",
       "            var circle_marker_96a74d8985e7f3a0a6e7df2bf8e6686a = L.circleMarker(\n",
       "                [-40.0676228293, -72.6179175677],\n",
       "                {&quot;bubblingMouseEvents&quot;: true, &quot;color&quot;: &quot;#3388ff&quot;, &quot;dashArray&quot;: null, &quot;dashOffset&quot;: null, &quot;fill&quot;: false, &quot;fillColor&quot;: &quot;#3388ff&quot;, &quot;fillOpacity&quot;: 0.2, &quot;fillRule&quot;: &quot;evenodd&quot;, &quot;lineCap&quot;: &quot;round&quot;, &quot;lineJoin&quot;: &quot;round&quot;, &quot;opacity&quot;: 1.0, &quot;radius&quot;: 5, &quot;stroke&quot;: true, &quot;weight&quot;: 3}\n",
       "            ).addTo(map_3363b13d48900a5a3557c34c8ec4baaf);\n",
       "        \n",
       "    \n",
       "            var circle_marker_2032fb4a60f2cd5ee6d6a3f96f20bd61 = L.circleMarker(\n",
       "                [-40.1515807831, -72.8962419781],\n",
       "                {&quot;bubblingMouseEvents&quot;: true, &quot;color&quot;: &quot;#3388ff&quot;, &quot;dashArray&quot;: null, &quot;dashOffset&quot;: null, &quot;fill&quot;: false, &quot;fillColor&quot;: &quot;#3388ff&quot;, &quot;fillOpacity&quot;: 0.2, &quot;fillRule&quot;: &quot;evenodd&quot;, &quot;lineCap&quot;: &quot;round&quot;, &quot;lineJoin&quot;: &quot;round&quot;, &quot;opacity&quot;: 1.0, &quot;radius&quot;: 5, &quot;stroke&quot;: true, &quot;weight&quot;: 3}\n",
       "            ).addTo(map_3363b13d48900a5a3557c34c8ec4baaf);\n",
       "        \n",
       "    \n",
       "            var circle_marker_0440eb37ff0045d3cf03154c864e2be8 = L.circleMarker(\n",
       "                [-39.9784746305, -72.8320348617],\n",
       "                {&quot;bubblingMouseEvents&quot;: true, &quot;color&quot;: &quot;#3388ff&quot;, &quot;dashArray&quot;: null, &quot;dashOffset&quot;: null, &quot;fill&quot;: false, &quot;fillColor&quot;: &quot;#3388ff&quot;, &quot;fillOpacity&quot;: 0.2, &quot;fillRule&quot;: &quot;evenodd&quot;, &quot;lineCap&quot;: &quot;round&quot;, &quot;lineJoin&quot;: &quot;round&quot;, &quot;opacity&quot;: 1.0, &quot;radius&quot;: 5, &quot;stroke&quot;: true, &quot;weight&quot;: 3}\n",
       "            ).addTo(map_3363b13d48900a5a3557c34c8ec4baaf);\n",
       "        \n",
       "    \n",
       "            var circle_marker_a4412720444a0cf17bf6de19dcdecba8 = L.circleMarker(\n",
       "                [-40.1233358588, -72.6748177353],\n",
       "                {&quot;bubblingMouseEvents&quot;: true, &quot;color&quot;: &quot;#3388ff&quot;, &quot;dashArray&quot;: null, &quot;dashOffset&quot;: null, &quot;fill&quot;: false, &quot;fillColor&quot;: &quot;#3388ff&quot;, &quot;fillOpacity&quot;: 0.2, &quot;fillRule&quot;: &quot;evenodd&quot;, &quot;lineCap&quot;: &quot;round&quot;, &quot;lineJoin&quot;: &quot;round&quot;, &quot;opacity&quot;: 1.0, &quot;radius&quot;: 5, &quot;stroke&quot;: true, &quot;weight&quot;: 3}\n",
       "            ).addTo(map_3363b13d48900a5a3557c34c8ec4baaf);\n",
       "        \n",
       "    \n",
       "            var circle_marker_9a0b0f1cebbd5ab3826cf262f280adb3 = L.circleMarker(\n",
       "                [-40.0949272285, -72.8333381781],\n",
       "                {&quot;bubblingMouseEvents&quot;: true, &quot;color&quot;: &quot;#3388ff&quot;, &quot;dashArray&quot;: null, &quot;dashOffset&quot;: null, &quot;fill&quot;: false, &quot;fillColor&quot;: &quot;#3388ff&quot;, &quot;fillOpacity&quot;: 0.2, &quot;fillRule&quot;: &quot;evenodd&quot;, &quot;lineCap&quot;: &quot;round&quot;, &quot;lineJoin&quot;: &quot;round&quot;, &quot;opacity&quot;: 1.0, &quot;radius&quot;: 5, &quot;stroke&quot;: true, &quot;weight&quot;: 3}\n",
       "            ).addTo(map_3363b13d48900a5a3557c34c8ec4baaf);\n",
       "        \n",
       "    \n",
       "            var circle_marker_8bff7ceeb7d375e3c501a62bb8088474 = L.circleMarker(\n",
       "                [-40.1805296564, -72.5619049938],\n",
       "                {&quot;bubblingMouseEvents&quot;: true, &quot;color&quot;: &quot;#3388ff&quot;, &quot;dashArray&quot;: null, &quot;dashOffset&quot;: null, &quot;fill&quot;: false, &quot;fillColor&quot;: &quot;#3388ff&quot;, &quot;fillOpacity&quot;: 0.2, &quot;fillRule&quot;: &quot;evenodd&quot;, &quot;lineCap&quot;: &quot;round&quot;, &quot;lineJoin&quot;: &quot;round&quot;, &quot;opacity&quot;: 1.0, &quot;radius&quot;: 5, &quot;stroke&quot;: true, &quot;weight&quot;: 3}\n",
       "            ).addTo(map_3363b13d48900a5a3557c34c8ec4baaf);\n",
       "        \n",
       "    \n",
       "            var circle_marker_e56fe674a2eeb62c50309b6124009c2c = L.circleMarker(\n",
       "                [-40.1380925113, -72.5825449417],\n",
       "                {&quot;bubblingMouseEvents&quot;: true, &quot;color&quot;: &quot;#3388ff&quot;, &quot;dashArray&quot;: null, &quot;dashOffset&quot;: null, &quot;fill&quot;: false, &quot;fillColor&quot;: &quot;#3388ff&quot;, &quot;fillOpacity&quot;: 0.2, &quot;fillRule&quot;: &quot;evenodd&quot;, &quot;lineCap&quot;: &quot;round&quot;, &quot;lineJoin&quot;: &quot;round&quot;, &quot;opacity&quot;: 1.0, &quot;radius&quot;: 5, &quot;stroke&quot;: true, &quot;weight&quot;: 3}\n",
       "            ).addTo(map_3363b13d48900a5a3557c34c8ec4baaf);\n",
       "        \n",
       "    \n",
       "            var circle_marker_f8116736f37473a1d076cf9b1b0089a2 = L.circleMarker(\n",
       "                [-40.0154940534, -72.7914597178],\n",
       "                {&quot;bubblingMouseEvents&quot;: true, &quot;color&quot;: &quot;#3388ff&quot;, &quot;dashArray&quot;: null, &quot;dashOffset&quot;: null, &quot;fill&quot;: false, &quot;fillColor&quot;: &quot;#3388ff&quot;, &quot;fillOpacity&quot;: 0.2, &quot;fillRule&quot;: &quot;evenodd&quot;, &quot;lineCap&quot;: &quot;round&quot;, &quot;lineJoin&quot;: &quot;round&quot;, &quot;opacity&quot;: 1.0, &quot;radius&quot;: 5, &quot;stroke&quot;: true, &quot;weight&quot;: 3}\n",
       "            ).addTo(map_3363b13d48900a5a3557c34c8ec4baaf);\n",
       "        \n",
       "    \n",
       "            var circle_marker_a9ce751271a6aa3d589b6e82e19cb215 = L.circleMarker(\n",
       "                [-40.0746752187, -72.6747765849],\n",
       "                {&quot;bubblingMouseEvents&quot;: true, &quot;color&quot;: &quot;#3388ff&quot;, &quot;dashArray&quot;: null, &quot;dashOffset&quot;: null, &quot;fill&quot;: false, &quot;fillColor&quot;: &quot;#3388ff&quot;, &quot;fillOpacity&quot;: 0.2, &quot;fillRule&quot;: &quot;evenodd&quot;, &quot;lineCap&quot;: &quot;round&quot;, &quot;lineJoin&quot;: &quot;round&quot;, &quot;opacity&quot;: 1.0, &quot;radius&quot;: 5, &quot;stroke&quot;: true, &quot;weight&quot;: 3}\n",
       "            ).addTo(map_3363b13d48900a5a3557c34c8ec4baaf);\n",
       "        \n",
       "    \n",
       "            var circle_marker_22dbec8699960793d5480a9249cc45be = L.circleMarker(\n",
       "                [-40.1221748177, -72.6855485214],\n",
       "                {&quot;bubblingMouseEvents&quot;: true, &quot;color&quot;: &quot;#3388ff&quot;, &quot;dashArray&quot;: null, &quot;dashOffset&quot;: null, &quot;fill&quot;: false, &quot;fillColor&quot;: &quot;#3388ff&quot;, &quot;fillOpacity&quot;: 0.2, &quot;fillRule&quot;: &quot;evenodd&quot;, &quot;lineCap&quot;: &quot;round&quot;, &quot;lineJoin&quot;: &quot;round&quot;, &quot;opacity&quot;: 1.0, &quot;radius&quot;: 5, &quot;stroke&quot;: true, &quot;weight&quot;: 3}\n",
       "            ).addTo(map_3363b13d48900a5a3557c34c8ec4baaf);\n",
       "        \n",
       "    \n",
       "            var circle_marker_13537422c52450745cee63794bb92a3d = L.circleMarker(\n",
       "                [-39.8074856345, -72.9572455712],\n",
       "                {&quot;bubblingMouseEvents&quot;: true, &quot;color&quot;: &quot;#3388ff&quot;, &quot;dashArray&quot;: null, &quot;dashOffset&quot;: null, &quot;fill&quot;: false, &quot;fillColor&quot;: &quot;#3388ff&quot;, &quot;fillOpacity&quot;: 0.2, &quot;fillRule&quot;: &quot;evenodd&quot;, &quot;lineCap&quot;: &quot;round&quot;, &quot;lineJoin&quot;: &quot;round&quot;, &quot;opacity&quot;: 1.0, &quot;radius&quot;: 5, &quot;stroke&quot;: true, &quot;weight&quot;: 3}\n",
       "            ).addTo(map_3363b13d48900a5a3557c34c8ec4baaf);\n",
       "        \n",
       "    \n",
       "            var circle_marker_0e26971a00fec939de3dfe92d9761745 = L.circleMarker(\n",
       "                [-39.8710682914, -72.6678013129],\n",
       "                {&quot;bubblingMouseEvents&quot;: true, &quot;color&quot;: &quot;#3388ff&quot;, &quot;dashArray&quot;: null, &quot;dashOffset&quot;: null, &quot;fill&quot;: false, &quot;fillColor&quot;: &quot;#3388ff&quot;, &quot;fillOpacity&quot;: 0.2, &quot;fillRule&quot;: &quot;evenodd&quot;, &quot;lineCap&quot;: &quot;round&quot;, &quot;lineJoin&quot;: &quot;round&quot;, &quot;opacity&quot;: 1.0, &quot;radius&quot;: 5, &quot;stroke&quot;: true, &quot;weight&quot;: 3}\n",
       "            ).addTo(map_3363b13d48900a5a3557c34c8ec4baaf);\n",
       "        \n",
       "    \n",
       "            var circle_marker_be67e8e843522849cada4edb349dcb80 = L.circleMarker(\n",
       "                [-39.9084433218, -72.5733916686],\n",
       "                {&quot;bubblingMouseEvents&quot;: true, &quot;color&quot;: &quot;#3388ff&quot;, &quot;dashArray&quot;: null, &quot;dashOffset&quot;: null, &quot;fill&quot;: false, &quot;fillColor&quot;: &quot;#3388ff&quot;, &quot;fillOpacity&quot;: 0.2, &quot;fillRule&quot;: &quot;evenodd&quot;, &quot;lineCap&quot;: &quot;round&quot;, &quot;lineJoin&quot;: &quot;round&quot;, &quot;opacity&quot;: 1.0, &quot;radius&quot;: 5, &quot;stroke&quot;: true, &quot;weight&quot;: 3}\n",
       "            ).addTo(map_3363b13d48900a5a3557c34c8ec4baaf);\n",
       "        \n",
       "    \n",
       "            var circle_marker_e3a69e31ae5748912d5a29cf48deded1 = L.circleMarker(\n",
       "                [-39.8171126188, -72.4425065285],\n",
       "                {&quot;bubblingMouseEvents&quot;: true, &quot;color&quot;: &quot;#3388ff&quot;, &quot;dashArray&quot;: null, &quot;dashOffset&quot;: null, &quot;fill&quot;: false, &quot;fillColor&quot;: &quot;#3388ff&quot;, &quot;fillOpacity&quot;: 0.2, &quot;fillRule&quot;: &quot;evenodd&quot;, &quot;lineCap&quot;: &quot;round&quot;, &quot;lineJoin&quot;: &quot;round&quot;, &quot;opacity&quot;: 1.0, &quot;radius&quot;: 5, &quot;stroke&quot;: true, &quot;weight&quot;: 3}\n",
       "            ).addTo(map_3363b13d48900a5a3557c34c8ec4baaf);\n",
       "        \n",
       "    \n",
       "            var circle_marker_52a7083fbc6d8ff87ca2631ae7986a58 = L.circleMarker(\n",
       "                [-39.7751787818, -72.6519491619],\n",
       "                {&quot;bubblingMouseEvents&quot;: true, &quot;color&quot;: &quot;#3388ff&quot;, &quot;dashArray&quot;: null, &quot;dashOffset&quot;: null, &quot;fill&quot;: false, &quot;fillColor&quot;: &quot;#3388ff&quot;, &quot;fillOpacity&quot;: 0.2, &quot;fillRule&quot;: &quot;evenodd&quot;, &quot;lineCap&quot;: &quot;round&quot;, &quot;lineJoin&quot;: &quot;round&quot;, &quot;opacity&quot;: 1.0, &quot;radius&quot;: 5, &quot;stroke&quot;: true, &quot;weight&quot;: 3}\n",
       "            ).addTo(map_3363b13d48900a5a3557c34c8ec4baaf);\n",
       "        \n",
       "    \n",
       "            var circle_marker_2c58703680c9f8a127b89b1308f3f2ec = L.circleMarker(\n",
       "                [-39.9987530843, -72.7108188025],\n",
       "                {&quot;bubblingMouseEvents&quot;: true, &quot;color&quot;: &quot;#3388ff&quot;, &quot;dashArray&quot;: null, &quot;dashOffset&quot;: null, &quot;fill&quot;: false, &quot;fillColor&quot;: &quot;#3388ff&quot;, &quot;fillOpacity&quot;: 0.2, &quot;fillRule&quot;: &quot;evenodd&quot;, &quot;lineCap&quot;: &quot;round&quot;, &quot;lineJoin&quot;: &quot;round&quot;, &quot;opacity&quot;: 1.0, &quot;radius&quot;: 5, &quot;stroke&quot;: true, &quot;weight&quot;: 3}\n",
       "            ).addTo(map_3363b13d48900a5a3557c34c8ec4baaf);\n",
       "        \n",
       "    \n",
       "            var circle_marker_b58c26417a6228827b1d8db1f71a3707 = L.circleMarker(\n",
       "                [-40.0154665081, -72.5215180883],\n",
       "                {&quot;bubblingMouseEvents&quot;: true, &quot;color&quot;: &quot;#3388ff&quot;, &quot;dashArray&quot;: null, &quot;dashOffset&quot;: null, &quot;fill&quot;: false, &quot;fillColor&quot;: &quot;#3388ff&quot;, &quot;fillOpacity&quot;: 0.2, &quot;fillRule&quot;: &quot;evenodd&quot;, &quot;lineCap&quot;: &quot;round&quot;, &quot;lineJoin&quot;: &quot;round&quot;, &quot;opacity&quot;: 1.0, &quot;radius&quot;: 5, &quot;stroke&quot;: true, &quot;weight&quot;: 3}\n",
       "            ).addTo(map_3363b13d48900a5a3557c34c8ec4baaf);\n",
       "        \n",
       "    \n",
       "            var circle_marker_8ee384e65a16a9b237e82aedc54b08cf = L.circleMarker(\n",
       "                [-39.8526730412, -72.7929315347],\n",
       "                {&quot;bubblingMouseEvents&quot;: true, &quot;color&quot;: &quot;#3388ff&quot;, &quot;dashArray&quot;: null, &quot;dashOffset&quot;: null, &quot;fill&quot;: false, &quot;fillColor&quot;: &quot;#3388ff&quot;, &quot;fillOpacity&quot;: 0.2, &quot;fillRule&quot;: &quot;evenodd&quot;, &quot;lineCap&quot;: &quot;round&quot;, &quot;lineJoin&quot;: &quot;round&quot;, &quot;opacity&quot;: 1.0, &quot;radius&quot;: 5, &quot;stroke&quot;: true, &quot;weight&quot;: 3}\n",
       "            ).addTo(map_3363b13d48900a5a3557c34c8ec4baaf);\n",
       "        \n",
       "    \n",
       "            var circle_marker_96d91adb542e642c8cf8666b5e5d54b4 = L.circleMarker(\n",
       "                [-39.8705154943, -72.781619174],\n",
       "                {&quot;bubblingMouseEvents&quot;: true, &quot;color&quot;: &quot;#3388ff&quot;, &quot;dashArray&quot;: null, &quot;dashOffset&quot;: null, &quot;fill&quot;: false, &quot;fillColor&quot;: &quot;#3388ff&quot;, &quot;fillOpacity&quot;: 0.2, &quot;fillRule&quot;: &quot;evenodd&quot;, &quot;lineCap&quot;: &quot;round&quot;, &quot;lineJoin&quot;: &quot;round&quot;, &quot;opacity&quot;: 1.0, &quot;radius&quot;: 5, &quot;stroke&quot;: true, &quot;weight&quot;: 3}\n",
       "            ).addTo(map_3363b13d48900a5a3557c34c8ec4baaf);\n",
       "        \n",
       "    \n",
       "            var circle_marker_a62b2804c5f8432429166811430fdfcf = L.circleMarker(\n",
       "                [-39.8817714432, -72.6708273322],\n",
       "                {&quot;bubblingMouseEvents&quot;: true, &quot;color&quot;: &quot;#3388ff&quot;, &quot;dashArray&quot;: null, &quot;dashOffset&quot;: null, &quot;fill&quot;: false, &quot;fillColor&quot;: &quot;#3388ff&quot;, &quot;fillOpacity&quot;: 0.2, &quot;fillRule&quot;: &quot;evenodd&quot;, &quot;lineCap&quot;: &quot;round&quot;, &quot;lineJoin&quot;: &quot;round&quot;, &quot;opacity&quot;: 1.0, &quot;radius&quot;: 5, &quot;stroke&quot;: true, &quot;weight&quot;: 3}\n",
       "            ).addTo(map_3363b13d48900a5a3557c34c8ec4baaf);\n",
       "        \n",
       "    \n",
       "            var circle_marker_0aec737e257aa1de86f88184120eaf82 = L.circleMarker(\n",
       "                [-39.9027809062, -72.5930946759],\n",
       "                {&quot;bubblingMouseEvents&quot;: true, &quot;color&quot;: &quot;#3388ff&quot;, &quot;dashArray&quot;: null, &quot;dashOffset&quot;: null, &quot;fill&quot;: false, &quot;fillColor&quot;: &quot;#3388ff&quot;, &quot;fillOpacity&quot;: 0.2, &quot;fillRule&quot;: &quot;evenodd&quot;, &quot;lineCap&quot;: &quot;round&quot;, &quot;lineJoin&quot;: &quot;round&quot;, &quot;opacity&quot;: 1.0, &quot;radius&quot;: 5, &quot;stroke&quot;: true, &quot;weight&quot;: 3}\n",
       "            ).addTo(map_3363b13d48900a5a3557c34c8ec4baaf);\n",
       "        \n",
       "    \n",
       "            var circle_marker_79e6152c4cbeb8d37ba6526795e8b85d = L.circleMarker(\n",
       "                [-39.8171525324, -72.6981700465],\n",
       "                {&quot;bubblingMouseEvents&quot;: true, &quot;color&quot;: &quot;#3388ff&quot;, &quot;dashArray&quot;: null, &quot;dashOffset&quot;: null, &quot;fill&quot;: false, &quot;fillColor&quot;: &quot;#3388ff&quot;, &quot;fillOpacity&quot;: 0.2, &quot;fillRule&quot;: &quot;evenodd&quot;, &quot;lineCap&quot;: &quot;round&quot;, &quot;lineJoin&quot;: &quot;round&quot;, &quot;opacity&quot;: 1.0, &quot;radius&quot;: 5, &quot;stroke&quot;: true, &quot;weight&quot;: 3}\n",
       "            ).addTo(map_3363b13d48900a5a3557c34c8ec4baaf);\n",
       "        \n",
       "    \n",
       "            var circle_marker_dc94d473dc9118be223a6a65cfe3d88f = L.circleMarker(\n",
       "                [-39.9151109593, -72.78974687],\n",
       "                {&quot;bubblingMouseEvents&quot;: true, &quot;color&quot;: &quot;#3388ff&quot;, &quot;dashArray&quot;: null, &quot;dashOffset&quot;: null, &quot;fill&quot;: false, &quot;fillColor&quot;: &quot;#3388ff&quot;, &quot;fillOpacity&quot;: 0.2, &quot;fillRule&quot;: &quot;evenodd&quot;, &quot;lineCap&quot;: &quot;round&quot;, &quot;lineJoin&quot;: &quot;round&quot;, &quot;opacity&quot;: 1.0, &quot;radius&quot;: 5, &quot;stroke&quot;: true, &quot;weight&quot;: 3}\n",
       "            ).addTo(map_3363b13d48900a5a3557c34c8ec4baaf);\n",
       "        \n",
       "    \n",
       "            var circle_marker_7dd1b61c8f4a6db54751b0cd099523eb = L.circleMarker(\n",
       "                [-39.9809683663, -72.7929665382],\n",
       "                {&quot;bubblingMouseEvents&quot;: true, &quot;color&quot;: &quot;#3388ff&quot;, &quot;dashArray&quot;: null, &quot;dashOffset&quot;: null, &quot;fill&quot;: false, &quot;fillColor&quot;: &quot;#3388ff&quot;, &quot;fillOpacity&quot;: 0.2, &quot;fillRule&quot;: &quot;evenodd&quot;, &quot;lineCap&quot;: &quot;round&quot;, &quot;lineJoin&quot;: &quot;round&quot;, &quot;opacity&quot;: 1.0, &quot;radius&quot;: 5, &quot;stroke&quot;: true, &quot;weight&quot;: 3}\n",
       "            ).addTo(map_3363b13d48900a5a3557c34c8ec4baaf);\n",
       "        \n",
       "    \n",
       "            var circle_marker_0911b205616a9206e182f4cd0256d699 = L.circleMarker(\n",
       "                [-39.891383155, -72.7942956633],\n",
       "                {&quot;bubblingMouseEvents&quot;: true, &quot;color&quot;: &quot;#3388ff&quot;, &quot;dashArray&quot;: null, &quot;dashOffset&quot;: null, &quot;fill&quot;: false, &quot;fillColor&quot;: &quot;#3388ff&quot;, &quot;fillOpacity&quot;: 0.2, &quot;fillRule&quot;: &quot;evenodd&quot;, &quot;lineCap&quot;: &quot;round&quot;, &quot;lineJoin&quot;: &quot;round&quot;, &quot;opacity&quot;: 1.0, &quot;radius&quot;: 5, &quot;stroke&quot;: true, &quot;weight&quot;: 3}\n",
       "            ).addTo(map_3363b13d48900a5a3557c34c8ec4baaf);\n",
       "        \n",
       "    \n",
       "            var circle_marker_903f7a6336d9fb9b7ff2c065e00f63b0 = L.circleMarker(\n",
       "                [-39.854954476, -72.6609940373],\n",
       "                {&quot;bubblingMouseEvents&quot;: true, &quot;color&quot;: &quot;#3388ff&quot;, &quot;dashArray&quot;: null, &quot;dashOffset&quot;: null, &quot;fill&quot;: false, &quot;fillColor&quot;: &quot;#3388ff&quot;, &quot;fillOpacity&quot;: 0.2, &quot;fillRule&quot;: &quot;evenodd&quot;, &quot;lineCap&quot;: &quot;round&quot;, &quot;lineJoin&quot;: &quot;round&quot;, &quot;opacity&quot;: 1.0, &quot;radius&quot;: 5, &quot;stroke&quot;: true, &quot;weight&quot;: 3}\n",
       "            ).addTo(map_3363b13d48900a5a3557c34c8ec4baaf);\n",
       "        \n",
       "    \n",
       "            var circle_marker_f6111d0b1d353e2233f3838a79d4fb19 = L.circleMarker(\n",
       "                [-39.8597946179, -72.7236128048],\n",
       "                {&quot;bubblingMouseEvents&quot;: true, &quot;color&quot;: &quot;#3388ff&quot;, &quot;dashArray&quot;: null, &quot;dashOffset&quot;: null, &quot;fill&quot;: false, &quot;fillColor&quot;: &quot;#3388ff&quot;, &quot;fillOpacity&quot;: 0.2, &quot;fillRule&quot;: &quot;evenodd&quot;, &quot;lineCap&quot;: &quot;round&quot;, &quot;lineJoin&quot;: &quot;round&quot;, &quot;opacity&quot;: 1.0, &quot;radius&quot;: 5, &quot;stroke&quot;: true, &quot;weight&quot;: 3}\n",
       "            ).addTo(map_3363b13d48900a5a3557c34c8ec4baaf);\n",
       "        \n",
       "    \n",
       "            var circle_marker_429b57e84b666914f74505b7333ef70d = L.circleMarker(\n",
       "                [-39.8183071179, -72.8753063555],\n",
       "                {&quot;bubblingMouseEvents&quot;: true, &quot;color&quot;: &quot;#3388ff&quot;, &quot;dashArray&quot;: null, &quot;dashOffset&quot;: null, &quot;fill&quot;: false, &quot;fillColor&quot;: &quot;#3388ff&quot;, &quot;fillOpacity&quot;: 0.2, &quot;fillRule&quot;: &quot;evenodd&quot;, &quot;lineCap&quot;: &quot;round&quot;, &quot;lineJoin&quot;: &quot;round&quot;, &quot;opacity&quot;: 1.0, &quot;radius&quot;: 5, &quot;stroke&quot;: true, &quot;weight&quot;: 3}\n",
       "            ).addTo(map_3363b13d48900a5a3557c34c8ec4baaf);\n",
       "        \n",
       "    \n",
       "            var circle_marker_740e1cabebc0dc2b83382c72f2df3472 = L.circleMarker(\n",
       "                [-39.8631470531, -73.4340874604],\n",
       "                {&quot;bubblingMouseEvents&quot;: true, &quot;color&quot;: &quot;#3388ff&quot;, &quot;dashArray&quot;: null, &quot;dashOffset&quot;: null, &quot;fill&quot;: false, &quot;fillColor&quot;: &quot;#3388ff&quot;, &quot;fillOpacity&quot;: 0.2, &quot;fillRule&quot;: &quot;evenodd&quot;, &quot;lineCap&quot;: &quot;round&quot;, &quot;lineJoin&quot;: &quot;round&quot;, &quot;opacity&quot;: 1.0, &quot;radius&quot;: 5, &quot;stroke&quot;: true, &quot;weight&quot;: 3}\n",
       "            ).addTo(map_3363b13d48900a5a3557c34c8ec4baaf);\n",
       "        \n",
       "    \n",
       "            var circle_marker_714f0bb6bf1c295f2ba710c968ef1edf = L.circleMarker(\n",
       "                [-39.8754350487, -73.3587930086],\n",
       "                {&quot;bubblingMouseEvents&quot;: true, &quot;color&quot;: &quot;#3388ff&quot;, &quot;dashArray&quot;: null, &quot;dashOffset&quot;: null, &quot;fill&quot;: false, &quot;fillColor&quot;: &quot;#3388ff&quot;, &quot;fillOpacity&quot;: 0.2, &quot;fillRule&quot;: &quot;evenodd&quot;, &quot;lineCap&quot;: &quot;round&quot;, &quot;lineJoin&quot;: &quot;round&quot;, &quot;opacity&quot;: 1.0, &quot;radius&quot;: 5, &quot;stroke&quot;: true, &quot;weight&quot;: 3}\n",
       "            ).addTo(map_3363b13d48900a5a3557c34c8ec4baaf);\n",
       "        \n",
       "    \n",
       "            var circle_marker_243c81410c442bb65cf83d23d393c435 = L.circleMarker(\n",
       "                [-39.8905057848, -73.3917808877],\n",
       "                {&quot;bubblingMouseEvents&quot;: true, &quot;color&quot;: &quot;#3388ff&quot;, &quot;dashArray&quot;: null, &quot;dashOffset&quot;: null, &quot;fill&quot;: false, &quot;fillColor&quot;: &quot;#3388ff&quot;, &quot;fillOpacity&quot;: 0.2, &quot;fillRule&quot;: &quot;evenodd&quot;, &quot;lineCap&quot;: &quot;round&quot;, &quot;lineJoin&quot;: &quot;round&quot;, &quot;opacity&quot;: 1.0, &quot;radius&quot;: 5, &quot;stroke&quot;: true, &quot;weight&quot;: 3}\n",
       "            ).addTo(map_3363b13d48900a5a3557c34c8ec4baaf);\n",
       "        \n",
       "    \n",
       "            var circle_marker_90b4696618290d0bacbf88ab5fd9e06d = L.circleMarker(\n",
       "                [-39.8964415368, -73.417776163],\n",
       "                {&quot;bubblingMouseEvents&quot;: true, &quot;color&quot;: &quot;#3388ff&quot;, &quot;dashArray&quot;: null, &quot;dashOffset&quot;: null, &quot;fill&quot;: false, &quot;fillColor&quot;: &quot;#3388ff&quot;, &quot;fillOpacity&quot;: 0.2, &quot;fillRule&quot;: &quot;evenodd&quot;, &quot;lineCap&quot;: &quot;round&quot;, &quot;lineJoin&quot;: &quot;round&quot;, &quot;opacity&quot;: 1.0, &quot;radius&quot;: 5, &quot;stroke&quot;: true, &quot;weight&quot;: 3}\n",
       "            ).addTo(map_3363b13d48900a5a3557c34c8ec4baaf);\n",
       "        \n",
       "    \n",
       "            var circle_marker_534fb0988d8966b28cbea2ec1ee75694 = L.circleMarker(\n",
       "                [-39.9656281859, -73.6194983481],\n",
       "                {&quot;bubblingMouseEvents&quot;: true, &quot;color&quot;: &quot;#3388ff&quot;, &quot;dashArray&quot;: null, &quot;dashOffset&quot;: null, &quot;fill&quot;: false, &quot;fillColor&quot;: &quot;#3388ff&quot;, &quot;fillOpacity&quot;: 0.2, &quot;fillRule&quot;: &quot;evenodd&quot;, &quot;lineCap&quot;: &quot;round&quot;, &quot;lineJoin&quot;: &quot;round&quot;, &quot;opacity&quot;: 1.0, &quot;radius&quot;: 5, &quot;stroke&quot;: true, &quot;weight&quot;: 3}\n",
       "            ).addTo(map_3363b13d48900a5a3557c34c8ec4baaf);\n",
       "        \n",
       "    \n",
       "            var circle_marker_acdda130a6dbce872c95bf6a2d25447f = L.circleMarker(\n",
       "                [-39.8970045115, -73.4310820761],\n",
       "                {&quot;bubblingMouseEvents&quot;: true, &quot;color&quot;: &quot;#3388ff&quot;, &quot;dashArray&quot;: null, &quot;dashOffset&quot;: null, &quot;fill&quot;: false, &quot;fillColor&quot;: &quot;#3388ff&quot;, &quot;fillOpacity&quot;: 0.2, &quot;fillRule&quot;: &quot;evenodd&quot;, &quot;lineCap&quot;: &quot;round&quot;, &quot;lineJoin&quot;: &quot;round&quot;, &quot;opacity&quot;: 1.0, &quot;radius&quot;: 5, &quot;stroke&quot;: true, &quot;weight&quot;: 3}\n",
       "            ).addTo(map_3363b13d48900a5a3557c34c8ec4baaf);\n",
       "        \n",
       "    \n",
       "            var tile_layer_ce796dab30fd31dd2c33e86b70dc4313 = L.tileLayer(\n",
       "                &quot;https://{s}.tile.openstreetmap.org/{z}/{x}/{y}.png&quot;,\n",
       "                {&quot;attribution&quot;: &quot;Data by \\u0026copy; \\u003ca href=\\&quot;http://openstreetmap.org\\&quot;\\u003eOpenStreetMap\\u003c/a\\u003e, under \\u003ca href=\\&quot;http://www.openstreetmap.org/copyright\\&quot;\\u003eODbL\\u003c/a\\u003e.&quot;, &quot;detectRetina&quot;: false, &quot;maxNativeZoom&quot;: 18, &quot;maxZoom&quot;: 18, &quot;minZoom&quot;: 0, &quot;noWrap&quot;: false, &quot;opacity&quot;: 1, &quot;subdomains&quot;: &quot;abc&quot;, &quot;tms&quot;: false}\n",
       "            );\n",
       "            var mini_map_e5d9f7fd158655dd0f365272eb29feb7 = new L.Control.MiniMap(\n",
       "                tile_layer_ce796dab30fd31dd2c33e86b70dc4313,\n",
       "                {&quot;autoToggleDisplay&quot;: false, &quot;centerFixed&quot;: false, &quot;collapsedHeight&quot;: 25, &quot;collapsedWidth&quot;: 25, &quot;height&quot;: 150, &quot;minimized&quot;: false, &quot;position&quot;: &quot;bottomleft&quot;, &quot;toggleDisplay&quot;: true, &quot;width&quot;: 150, &quot;zoomAnimation&quot;: false, &quot;zoomLevelOffset&quot;: -5}\n",
       "            );\n",
       "            map_3363b13d48900a5a3557c34c8ec4baaf.addControl(mini_map_e5d9f7fd158655dd0f365272eb29feb7);\n",
       "        \n",
       "&lt;/script&gt;\" style=\"position:absolute;width:100%;height:100%;left:0;top:0;border:none !important;\" allowfullscreen webkitallowfullscreen mozallowfullscreen></iframe></div></div>"
      ],
      "text/plain": [
       "<folium.folium.Map at 0x20588b9c8e0>"
      ]
     },
     "execution_count": 55,
     "metadata": {},
     "output_type": "execute_result"
    }
   ],
   "source": [
    "# Primero creamos el mapa con la libreria folium y la funcion Map,tiles es el proveedor del mapa.\n",
    "#El mapa esta centrado en valdivia\n",
    "map = folium.Map(location = [-39.925826, -73.114501], tiles = \"OpenStreetMap\", zoom_start = 10)\n",
    "\n",
    "#Aca estoy cargando el set de datos que subi a la carpeta.\n",
    "datos = pd.read_excel('base_ssr.xlsx', sheet_name='Sistemas_APR',usecols=\"B:U\",skiprows=2)\n",
    "\n",
    "#Valdivia\n",
    "datos_nombres_valdivia=list(datos.iloc[1963:1977,12])\n",
    "datos_lat_valdivia=datos.iloc[1963:1977,19] \n",
    "datos_long_valdivia=datos.iloc[1963:1977,18]\n",
    "\n",
    "#Paillaco\n",
    "datos_nombres_paillaco=list(datos.iloc[1919:1930,12])\n",
    "datos_lat_paillaco=datos.iloc[1919:1930,19] \n",
    "datos_long_paillaco=datos.iloc[1919:1930,18]\n",
    "\n",
    "#Los Lagos\n",
    "datos_nombres_loslagos=list(datos.iloc[1885:1903,12])\n",
    "datos_lat_loslagos=datos.iloc[1885:1903,19] \n",
    "datos_long_loslagos=datos.iloc[1885:1903,18]\n",
    "\n",
    "#Corral\n",
    "datos_nombres_corral=list(datos.iloc[1873:1879,12])\n",
    "datos_lat_corral=datos.iloc[1873:1879,19] \n",
    "datos_long_corral=datos.iloc[1873:1879,18]\n",
    "\n",
    "#Creación del par de coordenadas\n",
    "locations_valdivia = list(zip(datos_lat_valdivia, datos_long_valdivia))\n",
    "locations_paillaco = list(zip(datos_lat_paillaco, datos_long_paillaco))\n",
    "locations_loslagos = list(zip(datos_lat_loslagos, datos_long_loslagos))\n",
    "locations_corral = list(zip(datos_lat_corral, datos_long_corral))\n",
    "\n",
    "\n",
    "#Creación de las listas\n",
    "nombres = datos_nombres_valdivia+datos_nombres_paillaco+datos_nombres_loslagos+datos_nombres_corral\n",
    "locations=locations_valdivia+locations_paillaco+locations_loslagos+locations_corral\n",
    "\n",
    "#Aca agregamos un marcador con la ubicación de valdivia\n",
    "for i in range(len(locations)):\n",
    "    nombre=nombres[i]\n",
    "    folium.Marker(location=locations[i],tooltip=nombre).add_to(map)\n",
    "    \n",
    "for i in range(len(locations)):\n",
    "    folium.CircleMarker(location=locations[i],radius=5).add_to(map)\n",
    "map\n",
    "\n",
    "# Aca estoy agregando un minimap en la esquina,para esto hay que cargar la funcion plugins desde la libreria folium\n",
    "from folium import plugins\n",
    "minimap = plugins.MiniMap(position=\"bottomleft\",toggle_display=True)\n",
    "map.add_child(minimap)\n",
    "map"
   ]
  },
  {
   "cell_type": "code",
   "execution_count": 56,
   "id": "1c494b3c-2d39-48c8-9d9c-d90525643a62",
   "metadata": {},
   "outputs": [
    {
     "data": {
      "text/html": [
       "<div style=\"width:100%;\"><div style=\"position:relative;width:100%;height:0;padding-bottom:60%;\"><span style=\"color:#565656\">Make this Notebook Trusted to load map: File -> Trust Notebook</span><iframe srcdoc=\"&lt;!DOCTYPE html&gt;\n",
       "&lt;head&gt;    \n",
       "    &lt;meta http-equiv=&quot;content-type&quot; content=&quot;text/html; charset=UTF-8&quot; /&gt;\n",
       "    \n",
       "        &lt;script&gt;\n",
       "            L_NO_TOUCH = false;\n",
       "            L_DISABLE_3D = false;\n",
       "        &lt;/script&gt;\n",
       "    \n",
       "    &lt;style&gt;html, body {width: 100%;height: 100%;margin: 0;padding: 0;}&lt;/style&gt;\n",
       "    &lt;style&gt;#map {position:absolute;top:0;bottom:0;right:0;left:0;}&lt;/style&gt;\n",
       "    &lt;script src=&quot;https://cdn.jsdelivr.net/npm/leaflet@1.6.0/dist/leaflet.js&quot;&gt;&lt;/script&gt;\n",
       "    &lt;script src=&quot;https://code.jquery.com/jquery-1.12.4.min.js&quot;&gt;&lt;/script&gt;\n",
       "    &lt;script src=&quot;https://maxcdn.bootstrapcdn.com/bootstrap/3.2.0/js/bootstrap.min.js&quot;&gt;&lt;/script&gt;\n",
       "    &lt;script src=&quot;https://cdnjs.cloudflare.com/ajax/libs/Leaflet.awesome-markers/2.0.2/leaflet.awesome-markers.js&quot;&gt;&lt;/script&gt;\n",
       "    &lt;link rel=&quot;stylesheet&quot; href=&quot;https://cdn.jsdelivr.net/npm/leaflet@1.6.0/dist/leaflet.css&quot;/&gt;\n",
       "    &lt;link rel=&quot;stylesheet&quot; href=&quot;https://maxcdn.bootstrapcdn.com/bootstrap/3.2.0/css/bootstrap.min.css&quot;/&gt;\n",
       "    &lt;link rel=&quot;stylesheet&quot; href=&quot;https://maxcdn.bootstrapcdn.com/bootstrap/3.2.0/css/bootstrap-theme.min.css&quot;/&gt;\n",
       "    &lt;link rel=&quot;stylesheet&quot; href=&quot;https://maxcdn.bootstrapcdn.com/font-awesome/4.6.3/css/font-awesome.min.css&quot;/&gt;\n",
       "    &lt;link rel=&quot;stylesheet&quot; href=&quot;https://cdnjs.cloudflare.com/ajax/libs/Leaflet.awesome-markers/2.0.2/leaflet.awesome-markers.css&quot;/&gt;\n",
       "    &lt;link rel=&quot;stylesheet&quot; href=&quot;https://cdn.jsdelivr.net/gh/python-visualization/folium/folium/templates/leaflet.awesome.rotate.min.css&quot;/&gt;\n",
       "    \n",
       "            &lt;meta name=&quot;viewport&quot; content=&quot;width=device-width,\n",
       "                initial-scale=1.0, maximum-scale=1.0, user-scalable=no&quot; /&gt;\n",
       "            &lt;style&gt;\n",
       "                #map_a8c4e2e7356ac93224f6a0a77afb0dcf {\n",
       "                    position: relative;\n",
       "                    width: 100.0%;\n",
       "                    height: 100.0%;\n",
       "                    left: 0.0%;\n",
       "                    top: 0.0%;\n",
       "                }\n",
       "            &lt;/style&gt;\n",
       "        \n",
       "&lt;/head&gt;\n",
       "&lt;body&gt;    \n",
       "    \n",
       "            &lt;div class=&quot;folium-map&quot; id=&quot;map_a8c4e2e7356ac93224f6a0a77afb0dcf&quot; &gt;&lt;/div&gt;\n",
       "        \n",
       "&lt;/body&gt;\n",
       "&lt;script&gt;    \n",
       "    \n",
       "            var map_a8c4e2e7356ac93224f6a0a77afb0dcf = L.map(\n",
       "                &quot;map_a8c4e2e7356ac93224f6a0a77afb0dcf&quot;,\n",
       "                {\n",
       "                    center: [-39.925826, -73.114501],\n",
       "                    crs: L.CRS.EPSG3857,\n",
       "                    zoom: 9.5,\n",
       "                    zoomControl: true,\n",
       "                    preferCanvas: false,\n",
       "                }\n",
       "            );\n",
       "\n",
       "            \n",
       "\n",
       "        \n",
       "    \n",
       "            var tile_layer_472c124ad930292a9859cf5f591c7a25 = L.tileLayer(\n",
       "                &quot;https://{s}.tile.openstreetmap.org/{z}/{x}/{y}.png&quot;,\n",
       "                {&quot;attribution&quot;: &quot;Data by \\u0026copy; \\u003ca href=\\&quot;http://openstreetmap.org\\&quot;\\u003eOpenStreetMap\\u003c/a\\u003e, under \\u003ca href=\\&quot;http://www.openstreetmap.org/copyright\\&quot;\\u003eODbL\\u003c/a\\u003e.&quot;, &quot;detectRetina&quot;: false, &quot;maxNativeZoom&quot;: 18, &quot;maxZoom&quot;: 18, &quot;minZoom&quot;: 0, &quot;noWrap&quot;: false, &quot;opacity&quot;: 1, &quot;subdomains&quot;: &quot;abc&quot;, &quot;tms&quot;: false}\n",
       "            ).addTo(map_a8c4e2e7356ac93224f6a0a77afb0dcf);\n",
       "        \n",
       "    \n",
       "            var circle_c7ac6e674e4c9e99c546bcf04fd152bb = L.circle(\n",
       "                [-39.8062305249, -73.0547464487],\n",
       "                {&quot;bubblingMouseEvents&quot;: true, &quot;color&quot;: &quot;#ffff00ff&quot;, &quot;dashArray&quot;: null, &quot;dashOffset&quot;: null, &quot;fill&quot;: false, &quot;fillColor&quot;: &quot;#ffff00ff&quot;, &quot;fillOpacity&quot;: 0.2, &quot;fillRule&quot;: &quot;evenodd&quot;, &quot;lineCap&quot;: &quot;round&quot;, &quot;lineJoin&quot;: &quot;round&quot;, &quot;opacity&quot;: 1.0, &quot;radius&quot;: 450, &quot;stroke&quot;: true, &quot;weight&quot;: 3}\n",
       "            ).addTo(map_a8c4e2e7356ac93224f6a0a77afb0dcf);\n",
       "        \n",
       "    \n",
       "            var circle_dfc917a05f52d7979aaf0929bea1a734 = L.circle(\n",
       "                [-39.7283824204, -73.3948919817],\n",
       "                {&quot;bubblingMouseEvents&quot;: true, &quot;color&quot;: &quot;#ff0000ff&quot;, &quot;dashArray&quot;: null, &quot;dashOffset&quot;: null, &quot;fill&quot;: false, &quot;fillColor&quot;: &quot;#ff0000ff&quot;, &quot;fillOpacity&quot;: 0.2, &quot;fillRule&quot;: &quot;evenodd&quot;, &quot;lineCap&quot;: &quot;round&quot;, &quot;lineJoin&quot;: &quot;round&quot;, &quot;opacity&quot;: 1.0, &quot;radius&quot;: 450, &quot;stroke&quot;: true, &quot;weight&quot;: 3}\n",
       "            ).addTo(map_a8c4e2e7356ac93224f6a0a77afb0dcf);\n",
       "        \n",
       "    \n",
       "            var circle_22f7071daa6c27b866e4b4e17674c1fc = L.circle(\n",
       "                [-39.7930844112, -73.124067117],\n",
       "                {&quot;bubblingMouseEvents&quot;: true, &quot;color&quot;: &quot;#ffff00ff&quot;, &quot;dashArray&quot;: null, &quot;dashOffset&quot;: null, &quot;fill&quot;: false, &quot;fillColor&quot;: &quot;#ffff00ff&quot;, &quot;fillOpacity&quot;: 0.2, &quot;fillRule&quot;: &quot;evenodd&quot;, &quot;lineCap&quot;: &quot;round&quot;, &quot;lineJoin&quot;: &quot;round&quot;, &quot;opacity&quot;: 1.0, &quot;radius&quot;: 450, &quot;stroke&quot;: true, &quot;weight&quot;: 3}\n",
       "            ).addTo(map_a8c4e2e7356ac93224f6a0a77afb0dcf);\n",
       "        \n",
       "    \n",
       "            var circle_550dd15f7d588a8b281f5cedecd76304 = L.circle(\n",
       "                [-39.8715639883, -73.1852346315],\n",
       "                {&quot;bubblingMouseEvents&quot;: true, &quot;color&quot;: &quot;#ff0000ff&quot;, &quot;dashArray&quot;: null, &quot;dashOffset&quot;: null, &quot;fill&quot;: false, &quot;fillColor&quot;: &quot;#ff0000ff&quot;, &quot;fillOpacity&quot;: 0.2, &quot;fillRule&quot;: &quot;evenodd&quot;, &quot;lineCap&quot;: &quot;round&quot;, &quot;lineJoin&quot;: &quot;round&quot;, &quot;opacity&quot;: 1.0, &quot;radius&quot;: 450, &quot;stroke&quot;: true, &quot;weight&quot;: 3}\n",
       "            ).addTo(map_a8c4e2e7356ac93224f6a0a77afb0dcf);\n",
       "        \n",
       "    \n",
       "            var circle_02b76954d956fe544eb85a402bdb7dc3 = L.circle(\n",
       "                [-39.8547751549, -73.3907718436],\n",
       "                {&quot;bubblingMouseEvents&quot;: true, &quot;color&quot;: &quot;#800080ff&quot;, &quot;dashArray&quot;: null, &quot;dashOffset&quot;: null, &quot;fill&quot;: false, &quot;fillColor&quot;: &quot;#800080ff&quot;, &quot;fillOpacity&quot;: 0.2, &quot;fillRule&quot;: &quot;evenodd&quot;, &quot;lineCap&quot;: &quot;round&quot;, &quot;lineJoin&quot;: &quot;round&quot;, &quot;opacity&quot;: 1.0, &quot;radius&quot;: 450, &quot;stroke&quot;: true, &quot;weight&quot;: 3}\n",
       "            ).addTo(map_a8c4e2e7356ac93224f6a0a77afb0dcf);\n",
       "        \n",
       "    \n",
       "            var circle_af57638914d08f1633f626a445843cff = L.circle(\n",
       "                [-39.7603001637, -73.2705681336],\n",
       "                {&quot;bubblingMouseEvents&quot;: true, &quot;color&quot;: &quot;#ffff00ff&quot;, &quot;dashArray&quot;: null, &quot;dashOffset&quot;: null, &quot;fill&quot;: false, &quot;fillColor&quot;: &quot;#ffff00ff&quot;, &quot;fillOpacity&quot;: 0.2, &quot;fillRule&quot;: &quot;evenodd&quot;, &quot;lineCap&quot;: &quot;round&quot;, &quot;lineJoin&quot;: &quot;round&quot;, &quot;opacity&quot;: 1.0, &quot;radius&quot;: 450, &quot;stroke&quot;: true, &quot;weight&quot;: 3}\n",
       "            ).addTo(map_a8c4e2e7356ac93224f6a0a77afb0dcf);\n",
       "        \n",
       "    \n",
       "            var circle_6d3e1cee429249d17c9b14b7f4d3bef7 = L.circle(\n",
       "                [-39.831480037, -73.4025892212],\n",
       "                {&quot;bubblingMouseEvents&quot;: true, &quot;color&quot;: &quot;#ffa500ff&quot;, &quot;dashArray&quot;: null, &quot;dashOffset&quot;: null, &quot;fill&quot;: false, &quot;fillColor&quot;: &quot;#ffa500ff&quot;, &quot;fillOpacity&quot;: 0.2, &quot;fillRule&quot;: &quot;evenodd&quot;, &quot;lineCap&quot;: &quot;round&quot;, &quot;lineJoin&quot;: &quot;round&quot;, &quot;opacity&quot;: 1.0, &quot;radius&quot;: 450, &quot;stroke&quot;: true, &quot;weight&quot;: 3}\n",
       "            ).addTo(map_a8c4e2e7356ac93224f6a0a77afb0dcf);\n",
       "        \n",
       "    \n",
       "            var circle_fa112216e8a4452f495015f7f39edb11 = L.circle(\n",
       "                [-39.8649364171, -73.3728400295],\n",
       "                {&quot;bubblingMouseEvents&quot;: true, &quot;color&quot;: &quot;#ff0000ff&quot;, &quot;dashArray&quot;: null, &quot;dashOffset&quot;: null, &quot;fill&quot;: false, &quot;fillColor&quot;: &quot;#ff0000ff&quot;, &quot;fillOpacity&quot;: 0.2, &quot;fillRule&quot;: &quot;evenodd&quot;, &quot;lineCap&quot;: &quot;round&quot;, &quot;lineJoin&quot;: &quot;round&quot;, &quot;opacity&quot;: 1.0, &quot;radius&quot;: 450, &quot;stroke&quot;: true, &quot;weight&quot;: 3}\n",
       "            ).addTo(map_a8c4e2e7356ac93224f6a0a77afb0dcf);\n",
       "        \n",
       "    \n",
       "            var circle_5f67e6ba01fcda6929c7d94ab19f5efa = L.circle(\n",
       "                [-39.7314121294, -73.1091043702],\n",
       "                {&quot;bubblingMouseEvents&quot;: true, &quot;color&quot;: &quot;#ff0000ff&quot;, &quot;dashArray&quot;: null, &quot;dashOffset&quot;: null, &quot;fill&quot;: false, &quot;fillColor&quot;: &quot;#ff0000ff&quot;, &quot;fillOpacity&quot;: 0.2, &quot;fillRule&quot;: &quot;evenodd&quot;, &quot;lineCap&quot;: &quot;round&quot;, &quot;lineJoin&quot;: &quot;round&quot;, &quot;opacity&quot;: 1.0, &quot;radius&quot;: 450, &quot;stroke&quot;: true, &quot;weight&quot;: 3}\n",
       "            ).addTo(map_a8c4e2e7356ac93224f6a0a77afb0dcf);\n",
       "        \n",
       "    \n",
       "            var circle_d5322ae3f52dc0331c3f435c55c1a571 = L.circle(\n",
       "                [-39.772903642, -73.1970058325],\n",
       "                {&quot;bubblingMouseEvents&quot;: true, &quot;color&quot;: &quot;#ffa500ff&quot;, &quot;dashArray&quot;: null, &quot;dashOffset&quot;: null, &quot;fill&quot;: false, &quot;fillColor&quot;: &quot;#ffa500ff&quot;, &quot;fillOpacity&quot;: 0.2, &quot;fillRule&quot;: &quot;evenodd&quot;, &quot;lineCap&quot;: &quot;round&quot;, &quot;lineJoin&quot;: &quot;round&quot;, &quot;opacity&quot;: 1.0, &quot;radius&quot;: 450, &quot;stroke&quot;: true, &quot;weight&quot;: 3}\n",
       "            ).addTo(map_a8c4e2e7356ac93224f6a0a77afb0dcf);\n",
       "        \n",
       "    \n",
       "            var circle_1aa75ed3c4d4d00864a34361fedf1fe1 = L.circle(\n",
       "                [-39.8673123199, -73.2088638403],\n",
       "                {&quot;bubblingMouseEvents&quot;: true, &quot;color&quot;: &quot;#ffa500ff&quot;, &quot;dashArray&quot;: null, &quot;dashOffset&quot;: null, &quot;fill&quot;: false, &quot;fillColor&quot;: &quot;#ffa500ff&quot;, &quot;fillOpacity&quot;: 0.2, &quot;fillRule&quot;: &quot;evenodd&quot;, &quot;lineCap&quot;: &quot;round&quot;, &quot;lineJoin&quot;: &quot;round&quot;, &quot;opacity&quot;: 1.0, &quot;radius&quot;: 450, &quot;stroke&quot;: true, &quot;weight&quot;: 3}\n",
       "            ).addTo(map_a8c4e2e7356ac93224f6a0a77afb0dcf);\n",
       "        \n",
       "    \n",
       "            var circle_6969ea3a573940b31055cbbe50795493 = L.circle(\n",
       "                [-39.7802702288, -73.2412708338],\n",
       "                {&quot;bubblingMouseEvents&quot;: true, &quot;color&quot;: &quot;#ffff00ff&quot;, &quot;dashArray&quot;: null, &quot;dashOffset&quot;: null, &quot;fill&quot;: false, &quot;fillColor&quot;: &quot;#ffff00ff&quot;, &quot;fillOpacity&quot;: 0.2, &quot;fillRule&quot;: &quot;evenodd&quot;, &quot;lineCap&quot;: &quot;round&quot;, &quot;lineJoin&quot;: &quot;round&quot;, &quot;opacity&quot;: 1.0, &quot;radius&quot;: 450, &quot;stroke&quot;: true, &quot;weight&quot;: 3}\n",
       "            ).addTo(map_a8c4e2e7356ac93224f6a0a77afb0dcf);\n",
       "        \n",
       "    \n",
       "            var circle_16abc47f0bffab22b369842048e35bb0 = L.circle(\n",
       "                [-39.7737197231, -73.2102553189],\n",
       "                {&quot;bubblingMouseEvents&quot;: true, &quot;color&quot;: &quot;#ffa500ff&quot;, &quot;dashArray&quot;: null, &quot;dashOffset&quot;: null, &quot;fill&quot;: false, &quot;fillColor&quot;: &quot;#ffa500ff&quot;, &quot;fillOpacity&quot;: 0.2, &quot;fillRule&quot;: &quot;evenodd&quot;, &quot;lineCap&quot;: &quot;round&quot;, &quot;lineJoin&quot;: &quot;round&quot;, &quot;opacity&quot;: 1.0, &quot;radius&quot;: 450, &quot;stroke&quot;: true, &quot;weight&quot;: 3}\n",
       "            ).addTo(map_a8c4e2e7356ac93224f6a0a77afb0dcf);\n",
       "        \n",
       "    \n",
       "            var circle_a09686faf4a0c37659de31a572f9636c = L.circle(\n",
       "                [-39.7772055631, -73.3135380035],\n",
       "                {&quot;bubblingMouseEvents&quot;: true, &quot;color&quot;: &quot;#ffff00ff&quot;, &quot;dashArray&quot;: null, &quot;dashOffset&quot;: null, &quot;fill&quot;: false, &quot;fillColor&quot;: &quot;#ffff00ff&quot;, &quot;fillOpacity&quot;: 0.2, &quot;fillRule&quot;: &quot;evenodd&quot;, &quot;lineCap&quot;: &quot;round&quot;, &quot;lineJoin&quot;: &quot;round&quot;, &quot;opacity&quot;: 1.0, &quot;radius&quot;: 450, &quot;stroke&quot;: true, &quot;weight&quot;: 3}\n",
       "            ).addTo(map_a8c4e2e7356ac93224f6a0a77afb0dcf);\n",
       "        \n",
       "    \n",
       "            var circle_bf2bf099d8d7628ef0646bcf1762ffde = L.circle(\n",
       "                [-40.1296581637, -72.7254940272],\n",
       "                {&quot;bubblingMouseEvents&quot;: true, &quot;color&quot;: &quot;#ffff00ff&quot;, &quot;dashArray&quot;: null, &quot;dashOffset&quot;: null, &quot;fill&quot;: false, &quot;fillColor&quot;: &quot;#ffff00ff&quot;, &quot;fillOpacity&quot;: 0.2, &quot;fillRule&quot;: &quot;evenodd&quot;, &quot;lineCap&quot;: &quot;round&quot;, &quot;lineJoin&quot;: &quot;round&quot;, &quot;opacity&quot;: 1.0, &quot;radius&quot;: 450, &quot;stroke&quot;: true, &quot;weight&quot;: 3}\n",
       "            ).addTo(map_a8c4e2e7356ac93224f6a0a77afb0dcf);\n",
       "        \n",
       "    \n",
       "            var circle_5f39dff0c6cecc405cdacc37409c73bd = L.circle(\n",
       "                [-40.0676228293, -72.6179175677],\n",
       "                {&quot;bubblingMouseEvents&quot;: true, &quot;color&quot;: &quot;#ffff00ff&quot;, &quot;dashArray&quot;: null, &quot;dashOffset&quot;: null, &quot;fill&quot;: false, &quot;fillColor&quot;: &quot;#ffff00ff&quot;, &quot;fillOpacity&quot;: 0.2, &quot;fillRule&quot;: &quot;evenodd&quot;, &quot;lineCap&quot;: &quot;round&quot;, &quot;lineJoin&quot;: &quot;round&quot;, &quot;opacity&quot;: 1.0, &quot;radius&quot;: 450, &quot;stroke&quot;: true, &quot;weight&quot;: 3}\n",
       "            ).addTo(map_a8c4e2e7356ac93224f6a0a77afb0dcf);\n",
       "        \n",
       "    \n",
       "            var circle_60b8f5daaad3f6f5657de38af93bb81d = L.circle(\n",
       "                [-40.1515807831, -72.8962419781],\n",
       "                {&quot;bubblingMouseEvents&quot;: true, &quot;color&quot;: &quot;#ff0000ff&quot;, &quot;dashArray&quot;: null, &quot;dashOffset&quot;: null, &quot;fill&quot;: false, &quot;fillColor&quot;: &quot;#ff0000ff&quot;, &quot;fillOpacity&quot;: 0.2, &quot;fillRule&quot;: &quot;evenodd&quot;, &quot;lineCap&quot;: &quot;round&quot;, &quot;lineJoin&quot;: &quot;round&quot;, &quot;opacity&quot;: 1.0, &quot;radius&quot;: 450, &quot;stroke&quot;: true, &quot;weight&quot;: 3}\n",
       "            ).addTo(map_a8c4e2e7356ac93224f6a0a77afb0dcf);\n",
       "        \n",
       "    \n",
       "            var circle_7f96dcf45e30841bf9175c3d1c436f64 = L.circle(\n",
       "                [-39.9784746305, -72.8320348617],\n",
       "                {&quot;bubblingMouseEvents&quot;: true, &quot;color&quot;: &quot;#ff0000ff&quot;, &quot;dashArray&quot;: null, &quot;dashOffset&quot;: null, &quot;fill&quot;: false, &quot;fillColor&quot;: &quot;#ff0000ff&quot;, &quot;fillOpacity&quot;: 0.2, &quot;fillRule&quot;: &quot;evenodd&quot;, &quot;lineCap&quot;: &quot;round&quot;, &quot;lineJoin&quot;: &quot;round&quot;, &quot;opacity&quot;: 1.0, &quot;radius&quot;: 450, &quot;stroke&quot;: true, &quot;weight&quot;: 3}\n",
       "            ).addTo(map_a8c4e2e7356ac93224f6a0a77afb0dcf);\n",
       "        \n",
       "    \n",
       "            var circle_7520876c0fdc730b2cd49989edb3a669 = L.circle(\n",
       "                [-40.1233358588, -72.6748177353],\n",
       "                {&quot;bubblingMouseEvents&quot;: true, &quot;color&quot;: &quot;#ffff00ff&quot;, &quot;dashArray&quot;: null, &quot;dashOffset&quot;: null, &quot;fill&quot;: false, &quot;fillColor&quot;: &quot;#ffff00ff&quot;, &quot;fillOpacity&quot;: 0.2, &quot;fillRule&quot;: &quot;evenodd&quot;, &quot;lineCap&quot;: &quot;round&quot;, &quot;lineJoin&quot;: &quot;round&quot;, &quot;opacity&quot;: 1.0, &quot;radius&quot;: 450, &quot;stroke&quot;: true, &quot;weight&quot;: 3}\n",
       "            ).addTo(map_a8c4e2e7356ac93224f6a0a77afb0dcf);\n",
       "        \n",
       "    \n",
       "            var circle_bdf1965eca84acd04ec9cb11d60b2252 = L.circle(\n",
       "                [-40.0949272285, -72.8333381781],\n",
       "                {&quot;bubblingMouseEvents&quot;: true, &quot;color&quot;: &quot;#008000ff&quot;, &quot;dashArray&quot;: null, &quot;dashOffset&quot;: null, &quot;fill&quot;: false, &quot;fillColor&quot;: &quot;#008000ff&quot;, &quot;fillOpacity&quot;: 0.2, &quot;fillRule&quot;: &quot;evenodd&quot;, &quot;lineCap&quot;: &quot;round&quot;, &quot;lineJoin&quot;: &quot;round&quot;, &quot;opacity&quot;: 1.0, &quot;radius&quot;: 450, &quot;stroke&quot;: true, &quot;weight&quot;: 3}\n",
       "            ).addTo(map_a8c4e2e7356ac93224f6a0a77afb0dcf);\n",
       "        \n",
       "    \n",
       "            var circle_0fecfd25de9747f04b81fd45177da1e9 = L.circle(\n",
       "                [-40.1805296564, -72.5619049938],\n",
       "                {&quot;bubblingMouseEvents&quot;: true, &quot;color&quot;: &quot;#ffff00ff&quot;, &quot;dashArray&quot;: null, &quot;dashOffset&quot;: null, &quot;fill&quot;: false, &quot;fillColor&quot;: &quot;#ffff00ff&quot;, &quot;fillOpacity&quot;: 0.2, &quot;fillRule&quot;: &quot;evenodd&quot;, &quot;lineCap&quot;: &quot;round&quot;, &quot;lineJoin&quot;: &quot;round&quot;, &quot;opacity&quot;: 1.0, &quot;radius&quot;: 450, &quot;stroke&quot;: true, &quot;weight&quot;: 3}\n",
       "            ).addTo(map_a8c4e2e7356ac93224f6a0a77afb0dcf);\n",
       "        \n",
       "    \n",
       "            var circle_d703640ae860a04d61f356c1b3a90ca5 = L.circle(\n",
       "                [-40.1380925113, -72.5825449417],\n",
       "                {&quot;bubblingMouseEvents&quot;: true, &quot;color&quot;: &quot;#ffff00ff&quot;, &quot;dashArray&quot;: null, &quot;dashOffset&quot;: null, &quot;fill&quot;: false, &quot;fillColor&quot;: &quot;#ffff00ff&quot;, &quot;fillOpacity&quot;: 0.2, &quot;fillRule&quot;: &quot;evenodd&quot;, &quot;lineCap&quot;: &quot;round&quot;, &quot;lineJoin&quot;: &quot;round&quot;, &quot;opacity&quot;: 1.0, &quot;radius&quot;: 450, &quot;stroke&quot;: true, &quot;weight&quot;: 3}\n",
       "            ).addTo(map_a8c4e2e7356ac93224f6a0a77afb0dcf);\n",
       "        \n",
       "    \n",
       "            var circle_ae3410d222853d505bad8e3928d93bdc = L.circle(\n",
       "                [-40.0154940534, -72.7914597178],\n",
       "                {&quot;bubblingMouseEvents&quot;: true, &quot;color&quot;: &quot;#ffa500ff&quot;, &quot;dashArray&quot;: null, &quot;dashOffset&quot;: null, &quot;fill&quot;: false, &quot;fillColor&quot;: &quot;#ffa500ff&quot;, &quot;fillOpacity&quot;: 0.2, &quot;fillRule&quot;: &quot;evenodd&quot;, &quot;lineCap&quot;: &quot;round&quot;, &quot;lineJoin&quot;: &quot;round&quot;, &quot;opacity&quot;: 1.0, &quot;radius&quot;: 450, &quot;stroke&quot;: true, &quot;weight&quot;: 3}\n",
       "            ).addTo(map_a8c4e2e7356ac93224f6a0a77afb0dcf);\n",
       "        \n",
       "    \n",
       "            var circle_9c170ba310d9113eb7db0c8df50be502 = L.circle(\n",
       "                [-40.0746752187, -72.6747765849],\n",
       "                {&quot;bubblingMouseEvents&quot;: true, &quot;color&quot;: &quot;#008000ff&quot;, &quot;dashArray&quot;: null, &quot;dashOffset&quot;: null, &quot;fill&quot;: false, &quot;fillColor&quot;: &quot;#008000ff&quot;, &quot;fillOpacity&quot;: 0.2, &quot;fillRule&quot;: &quot;evenodd&quot;, &quot;lineCap&quot;: &quot;round&quot;, &quot;lineJoin&quot;: &quot;round&quot;, &quot;opacity&quot;: 1.0, &quot;radius&quot;: 450, &quot;stroke&quot;: true, &quot;weight&quot;: 3}\n",
       "            ).addTo(map_a8c4e2e7356ac93224f6a0a77afb0dcf);\n",
       "        \n",
       "    \n",
       "            var circle_7020b4b9df32e770ee97d9794439f8b2 = L.circle(\n",
       "                [-40.1221748177, -72.6855485214],\n",
       "                {&quot;bubblingMouseEvents&quot;: true, &quot;color&quot;: &quot;#008000ff&quot;, &quot;dashArray&quot;: null, &quot;dashOffset&quot;: null, &quot;fill&quot;: false, &quot;fillColor&quot;: &quot;#008000ff&quot;, &quot;fillOpacity&quot;: 0.2, &quot;fillRule&quot;: &quot;evenodd&quot;, &quot;lineCap&quot;: &quot;round&quot;, &quot;lineJoin&quot;: &quot;round&quot;, &quot;opacity&quot;: 1.0, &quot;radius&quot;: 450, &quot;stroke&quot;: true, &quot;weight&quot;: 3}\n",
       "            ).addTo(map_a8c4e2e7356ac93224f6a0a77afb0dcf);\n",
       "        \n",
       "    \n",
       "            var circle_26a4022a6962843a7a8f8e8b47919ecc = L.circle(\n",
       "                [-39.8074856345, -72.9572455712],\n",
       "                {&quot;bubblingMouseEvents&quot;: true, &quot;color&quot;: &quot;#ff0000ff&quot;, &quot;dashArray&quot;: null, &quot;dashOffset&quot;: null, &quot;fill&quot;: false, &quot;fillColor&quot;: &quot;#ff0000ff&quot;, &quot;fillOpacity&quot;: 0.2, &quot;fillRule&quot;: &quot;evenodd&quot;, &quot;lineCap&quot;: &quot;round&quot;, &quot;lineJoin&quot;: &quot;round&quot;, &quot;opacity&quot;: 1.0, &quot;radius&quot;: 450, &quot;stroke&quot;: true, &quot;weight&quot;: 3}\n",
       "            ).addTo(map_a8c4e2e7356ac93224f6a0a77afb0dcf);\n",
       "        \n",
       "    \n",
       "            var circle_66bd25268e0ae3b26afbd8ad801be768 = L.circle(\n",
       "                [-39.8710682914, -72.6678013129],\n",
       "                {&quot;bubblingMouseEvents&quot;: true, &quot;color&quot;: &quot;#ffff00ff&quot;, &quot;dashArray&quot;: null, &quot;dashOffset&quot;: null, &quot;fill&quot;: false, &quot;fillColor&quot;: &quot;#ffff00ff&quot;, &quot;fillOpacity&quot;: 0.2, &quot;fillRule&quot;: &quot;evenodd&quot;, &quot;lineCap&quot;: &quot;round&quot;, &quot;lineJoin&quot;: &quot;round&quot;, &quot;opacity&quot;: 1.0, &quot;radius&quot;: 450, &quot;stroke&quot;: true, &quot;weight&quot;: 3}\n",
       "            ).addTo(map_a8c4e2e7356ac93224f6a0a77afb0dcf);\n",
       "        \n",
       "    \n",
       "            var circle_08dca259d72e8eb881bc66a86feb45f4 = L.circle(\n",
       "                [-39.9084433218, -72.5733916686],\n",
       "                {&quot;bubblingMouseEvents&quot;: true, &quot;color&quot;: &quot;#008000ff&quot;, &quot;dashArray&quot;: null, &quot;dashOffset&quot;: null, &quot;fill&quot;: false, &quot;fillColor&quot;: &quot;#008000ff&quot;, &quot;fillOpacity&quot;: 0.2, &quot;fillRule&quot;: &quot;evenodd&quot;, &quot;lineCap&quot;: &quot;round&quot;, &quot;lineJoin&quot;: &quot;round&quot;, &quot;opacity&quot;: 1.0, &quot;radius&quot;: 450, &quot;stroke&quot;: true, &quot;weight&quot;: 3}\n",
       "            ).addTo(map_a8c4e2e7356ac93224f6a0a77afb0dcf);\n",
       "        \n",
       "    \n",
       "            var circle_71c4ed336f62d691758504a5eae79f20 = L.circle(\n",
       "                [-39.8171126188, -72.4425065285],\n",
       "                {&quot;bubblingMouseEvents&quot;: true, &quot;color&quot;: &quot;#008000ff&quot;, &quot;dashArray&quot;: null, &quot;dashOffset&quot;: null, &quot;fill&quot;: false, &quot;fillColor&quot;: &quot;#008000ff&quot;, &quot;fillOpacity&quot;: 0.2, &quot;fillRule&quot;: &quot;evenodd&quot;, &quot;lineCap&quot;: &quot;round&quot;, &quot;lineJoin&quot;: &quot;round&quot;, &quot;opacity&quot;: 1.0, &quot;radius&quot;: 450, &quot;stroke&quot;: true, &quot;weight&quot;: 3}\n",
       "            ).addTo(map_a8c4e2e7356ac93224f6a0a77afb0dcf);\n",
       "        \n",
       "    \n",
       "            var circle_128addc947f47e679bc1b29c545b2c09 = L.circle(\n",
       "                [-39.7751787818, -72.6519491619],\n",
       "                {&quot;bubblingMouseEvents&quot;: true, &quot;color&quot;: &quot;#ffff00ff&quot;, &quot;dashArray&quot;: null, &quot;dashOffset&quot;: null, &quot;fill&quot;: false, &quot;fillColor&quot;: &quot;#ffff00ff&quot;, &quot;fillOpacity&quot;: 0.2, &quot;fillRule&quot;: &quot;evenodd&quot;, &quot;lineCap&quot;: &quot;round&quot;, &quot;lineJoin&quot;: &quot;round&quot;, &quot;opacity&quot;: 1.0, &quot;radius&quot;: 450, &quot;stroke&quot;: true, &quot;weight&quot;: 3}\n",
       "            ).addTo(map_a8c4e2e7356ac93224f6a0a77afb0dcf);\n",
       "        \n",
       "    \n",
       "            var circle_92cb441825d85f1070514d07b6e05800 = L.circle(\n",
       "                [-39.9987530843, -72.7108188025],\n",
       "                {&quot;bubblingMouseEvents&quot;: true, &quot;color&quot;: &quot;#ffa500ff&quot;, &quot;dashArray&quot;: null, &quot;dashOffset&quot;: null, &quot;fill&quot;: false, &quot;fillColor&quot;: &quot;#ffa500ff&quot;, &quot;fillOpacity&quot;: 0.2, &quot;fillRule&quot;: &quot;evenodd&quot;, &quot;lineCap&quot;: &quot;round&quot;, &quot;lineJoin&quot;: &quot;round&quot;, &quot;opacity&quot;: 1.0, &quot;radius&quot;: 450, &quot;stroke&quot;: true, &quot;weight&quot;: 3}\n",
       "            ).addTo(map_a8c4e2e7356ac93224f6a0a77afb0dcf);\n",
       "        \n",
       "    \n",
       "            var circle_036388c1e8bb511c447a18a69225c621 = L.circle(\n",
       "                [-40.0154665081, -72.5215180883],\n",
       "                {&quot;bubblingMouseEvents&quot;: true, &quot;color&quot;: &quot;#ffff00ff&quot;, &quot;dashArray&quot;: null, &quot;dashOffset&quot;: null, &quot;fill&quot;: false, &quot;fillColor&quot;: &quot;#ffff00ff&quot;, &quot;fillOpacity&quot;: 0.2, &quot;fillRule&quot;: &quot;evenodd&quot;, &quot;lineCap&quot;: &quot;round&quot;, &quot;lineJoin&quot;: &quot;round&quot;, &quot;opacity&quot;: 1.0, &quot;radius&quot;: 450, &quot;stroke&quot;: true, &quot;weight&quot;: 3}\n",
       "            ).addTo(map_a8c4e2e7356ac93224f6a0a77afb0dcf);\n",
       "        \n",
       "    \n",
       "            var circle_8902214ec90e3e17e2fbb4b9365483fa = L.circle(\n",
       "                [-39.8526730412, -72.7929315347],\n",
       "                {&quot;bubblingMouseEvents&quot;: true, &quot;color&quot;: &quot;#ffa500ff&quot;, &quot;dashArray&quot;: null, &quot;dashOffset&quot;: null, &quot;fill&quot;: false, &quot;fillColor&quot;: &quot;#ffa500ff&quot;, &quot;fillOpacity&quot;: 0.2, &quot;fillRule&quot;: &quot;evenodd&quot;, &quot;lineCap&quot;: &quot;round&quot;, &quot;lineJoin&quot;: &quot;round&quot;, &quot;opacity&quot;: 1.0, &quot;radius&quot;: 450, &quot;stroke&quot;: true, &quot;weight&quot;: 3}\n",
       "            ).addTo(map_a8c4e2e7356ac93224f6a0a77afb0dcf);\n",
       "        \n",
       "    \n",
       "            var circle_0e7d24a03d8d8014ffc836ec63278072 = L.circle(\n",
       "                [-39.8705154943, -72.781619174],\n",
       "                {&quot;bubblingMouseEvents&quot;: true, &quot;color&quot;: &quot;#ffff00ff&quot;, &quot;dashArray&quot;: null, &quot;dashOffset&quot;: null, &quot;fill&quot;: false, &quot;fillColor&quot;: &quot;#ffff00ff&quot;, &quot;fillOpacity&quot;: 0.2, &quot;fillRule&quot;: &quot;evenodd&quot;, &quot;lineCap&quot;: &quot;round&quot;, &quot;lineJoin&quot;: &quot;round&quot;, &quot;opacity&quot;: 1.0, &quot;radius&quot;: 450, &quot;stroke&quot;: true, &quot;weight&quot;: 3}\n",
       "            ).addTo(map_a8c4e2e7356ac93224f6a0a77afb0dcf);\n",
       "        \n",
       "    \n",
       "            var circle_a3d5aca9d5212240a65e68a3f1c0de1c = L.circle(\n",
       "                [-39.8817714432, -72.6708273322],\n",
       "                {&quot;bubblingMouseEvents&quot;: true, &quot;color&quot;: &quot;#008000ff&quot;, &quot;dashArray&quot;: null, &quot;dashOffset&quot;: null, &quot;fill&quot;: false, &quot;fillColor&quot;: &quot;#008000ff&quot;, &quot;fillOpacity&quot;: 0.2, &quot;fillRule&quot;: &quot;evenodd&quot;, &quot;lineCap&quot;: &quot;round&quot;, &quot;lineJoin&quot;: &quot;round&quot;, &quot;opacity&quot;: 1.0, &quot;radius&quot;: 450, &quot;stroke&quot;: true, &quot;weight&quot;: 3}\n",
       "            ).addTo(map_a8c4e2e7356ac93224f6a0a77afb0dcf);\n",
       "        \n",
       "    \n",
       "            var circle_2c1c687361e9429d7590425ae741289b = L.circle(\n",
       "                [-39.9027809062, -72.5930946759],\n",
       "                {&quot;bubblingMouseEvents&quot;: true, &quot;color&quot;: &quot;#008000ff&quot;, &quot;dashArray&quot;: null, &quot;dashOffset&quot;: null, &quot;fill&quot;: false, &quot;fillColor&quot;: &quot;#008000ff&quot;, &quot;fillOpacity&quot;: 0.2, &quot;fillRule&quot;: &quot;evenodd&quot;, &quot;lineCap&quot;: &quot;round&quot;, &quot;lineJoin&quot;: &quot;round&quot;, &quot;opacity&quot;: 1.0, &quot;radius&quot;: 450, &quot;stroke&quot;: true, &quot;weight&quot;: 3}\n",
       "            ).addTo(map_a8c4e2e7356ac93224f6a0a77afb0dcf);\n",
       "        \n",
       "    \n",
       "            var circle_570fb7813a2814bb6c7e95c0476a46ef = L.circle(\n",
       "                [-39.8171525324, -72.6981700465],\n",
       "                {&quot;bubblingMouseEvents&quot;: true, &quot;color&quot;: &quot;#ffff00ff&quot;, &quot;dashArray&quot;: null, &quot;dashOffset&quot;: null, &quot;fill&quot;: false, &quot;fillColor&quot;: &quot;#ffff00ff&quot;, &quot;fillOpacity&quot;: 0.2, &quot;fillRule&quot;: &quot;evenodd&quot;, &quot;lineCap&quot;: &quot;round&quot;, &quot;lineJoin&quot;: &quot;round&quot;, &quot;opacity&quot;: 1.0, &quot;radius&quot;: 450, &quot;stroke&quot;: true, &quot;weight&quot;: 3}\n",
       "            ).addTo(map_a8c4e2e7356ac93224f6a0a77afb0dcf);\n",
       "        \n",
       "    \n",
       "            var circle_eef77705beaba242ed2749fd183237be = L.circle(\n",
       "                [-39.9151109593, -72.78974687],\n",
       "                {&quot;bubblingMouseEvents&quot;: true, &quot;color&quot;: &quot;#ffff00ff&quot;, &quot;dashArray&quot;: null, &quot;dashOffset&quot;: null, &quot;fill&quot;: false, &quot;fillColor&quot;: &quot;#ffff00ff&quot;, &quot;fillOpacity&quot;: 0.2, &quot;fillRule&quot;: &quot;evenodd&quot;, &quot;lineCap&quot;: &quot;round&quot;, &quot;lineJoin&quot;: &quot;round&quot;, &quot;opacity&quot;: 1.0, &quot;radius&quot;: 450, &quot;stroke&quot;: true, &quot;weight&quot;: 3}\n",
       "            ).addTo(map_a8c4e2e7356ac93224f6a0a77afb0dcf);\n",
       "        \n",
       "    \n",
       "            var circle_4dee925739c239951429e1f18bc4fa3a = L.circle(\n",
       "                [-39.9809683663, -72.7929665382],\n",
       "                {&quot;bubblingMouseEvents&quot;: true, &quot;color&quot;: &quot;#008000ff&quot;, &quot;dashArray&quot;: null, &quot;dashOffset&quot;: null, &quot;fill&quot;: false, &quot;fillColor&quot;: &quot;#008000ff&quot;, &quot;fillOpacity&quot;: 0.2, &quot;fillRule&quot;: &quot;evenodd&quot;, &quot;lineCap&quot;: &quot;round&quot;, &quot;lineJoin&quot;: &quot;round&quot;, &quot;opacity&quot;: 1.0, &quot;radius&quot;: 450, &quot;stroke&quot;: true, &quot;weight&quot;: 3}\n",
       "            ).addTo(map_a8c4e2e7356ac93224f6a0a77afb0dcf);\n",
       "        \n",
       "    \n",
       "            var circle_295b5f6bc318d1e20f2eb749623252c8 = L.circle(\n",
       "                [-39.891383155, -72.7942956633],\n",
       "                {&quot;bubblingMouseEvents&quot;: true, &quot;color&quot;: &quot;#008000ff&quot;, &quot;dashArray&quot;: null, &quot;dashOffset&quot;: null, &quot;fill&quot;: false, &quot;fillColor&quot;: &quot;#008000ff&quot;, &quot;fillOpacity&quot;: 0.2, &quot;fillRule&quot;: &quot;evenodd&quot;, &quot;lineCap&quot;: &quot;round&quot;, &quot;lineJoin&quot;: &quot;round&quot;, &quot;opacity&quot;: 1.0, &quot;radius&quot;: 450, &quot;stroke&quot;: true, &quot;weight&quot;: 3}\n",
       "            ).addTo(map_a8c4e2e7356ac93224f6a0a77afb0dcf);\n",
       "        \n",
       "    \n",
       "            var circle_af9e677c8795f1cedfcc37d235bd9810 = L.circle(\n",
       "                [-39.854954476, -72.6609940373],\n",
       "                {&quot;bubblingMouseEvents&quot;: true, &quot;color&quot;: &quot;#008000ff&quot;, &quot;dashArray&quot;: null, &quot;dashOffset&quot;: null, &quot;fill&quot;: false, &quot;fillColor&quot;: &quot;#008000ff&quot;, &quot;fillOpacity&quot;: 0.2, &quot;fillRule&quot;: &quot;evenodd&quot;, &quot;lineCap&quot;: &quot;round&quot;, &quot;lineJoin&quot;: &quot;round&quot;, &quot;opacity&quot;: 1.0, &quot;radius&quot;: 450, &quot;stroke&quot;: true, &quot;weight&quot;: 3}\n",
       "            ).addTo(map_a8c4e2e7356ac93224f6a0a77afb0dcf);\n",
       "        \n",
       "    \n",
       "            var circle_0ab55b62385357727ef7369dded5f834 = L.circle(\n",
       "                [-39.8597946179, -72.7236128048],\n",
       "                {&quot;bubblingMouseEvents&quot;: true, &quot;color&quot;: &quot;#008000ff&quot;, &quot;dashArray&quot;: null, &quot;dashOffset&quot;: null, &quot;fill&quot;: false, &quot;fillColor&quot;: &quot;#008000ff&quot;, &quot;fillOpacity&quot;: 0.2, &quot;fillRule&quot;: &quot;evenodd&quot;, &quot;lineCap&quot;: &quot;round&quot;, &quot;lineJoin&quot;: &quot;round&quot;, &quot;opacity&quot;: 1.0, &quot;radius&quot;: 450, &quot;stroke&quot;: true, &quot;weight&quot;: 3}\n",
       "            ).addTo(map_a8c4e2e7356ac93224f6a0a77afb0dcf);\n",
       "        \n",
       "    \n",
       "            var circle_c67dd2f55d691108037a1a1ef5c89af7 = L.circle(\n",
       "                [-39.8183071179, -72.8753063555],\n",
       "                {&quot;bubblingMouseEvents&quot;: true, &quot;color&quot;: &quot;#008000ff&quot;, &quot;dashArray&quot;: null, &quot;dashOffset&quot;: null, &quot;fill&quot;: false, &quot;fillColor&quot;: &quot;#008000ff&quot;, &quot;fillOpacity&quot;: 0.2, &quot;fillRule&quot;: &quot;evenodd&quot;, &quot;lineCap&quot;: &quot;round&quot;, &quot;lineJoin&quot;: &quot;round&quot;, &quot;opacity&quot;: 1.0, &quot;radius&quot;: 450, &quot;stroke&quot;: true, &quot;weight&quot;: 3}\n",
       "            ).addTo(map_a8c4e2e7356ac93224f6a0a77afb0dcf);\n",
       "        \n",
       "    \n",
       "            var circle_6fe9a82405917b3592e33b0a6d729d73 = L.circle(\n",
       "                [-39.8631470531, -73.4340874604],\n",
       "                {&quot;bubblingMouseEvents&quot;: true, &quot;color&quot;: &quot;#800080ff&quot;, &quot;dashArray&quot;: null, &quot;dashOffset&quot;: null, &quot;fill&quot;: false, &quot;fillColor&quot;: &quot;#800080ff&quot;, &quot;fillOpacity&quot;: 0.2, &quot;fillRule&quot;: &quot;evenodd&quot;, &quot;lineCap&quot;: &quot;round&quot;, &quot;lineJoin&quot;: &quot;round&quot;, &quot;opacity&quot;: 1.0, &quot;radius&quot;: 450, &quot;stroke&quot;: true, &quot;weight&quot;: 3}\n",
       "            ).addTo(map_a8c4e2e7356ac93224f6a0a77afb0dcf);\n",
       "        \n",
       "    \n",
       "            var circle_33a4051e35ea42890c1efe82a10b5ce9 = L.circle(\n",
       "                [-39.8754350487, -73.3587930086],\n",
       "                {&quot;bubblingMouseEvents&quot;: true, &quot;color&quot;: &quot;#ffa500ff&quot;, &quot;dashArray&quot;: null, &quot;dashOffset&quot;: null, &quot;fill&quot;: false, &quot;fillColor&quot;: &quot;#ffa500ff&quot;, &quot;fillOpacity&quot;: 0.2, &quot;fillRule&quot;: &quot;evenodd&quot;, &quot;lineCap&quot;: &quot;round&quot;, &quot;lineJoin&quot;: &quot;round&quot;, &quot;opacity&quot;: 1.0, &quot;radius&quot;: 450, &quot;stroke&quot;: true, &quot;weight&quot;: 3}\n",
       "            ).addTo(map_a8c4e2e7356ac93224f6a0a77afb0dcf);\n",
       "        \n",
       "    \n",
       "            var circle_e30b451ecae7753468d5d97a9d27ca01 = L.circle(\n",
       "                [-39.8905057848, -73.3917808877],\n",
       "                {&quot;bubblingMouseEvents&quot;: true, &quot;color&quot;: &quot;#008000ff&quot;, &quot;dashArray&quot;: null, &quot;dashOffset&quot;: null, &quot;fill&quot;: false, &quot;fillColor&quot;: &quot;#008000ff&quot;, &quot;fillOpacity&quot;: 0.2, &quot;fillRule&quot;: &quot;evenodd&quot;, &quot;lineCap&quot;: &quot;round&quot;, &quot;lineJoin&quot;: &quot;round&quot;, &quot;opacity&quot;: 1.0, &quot;radius&quot;: 450, &quot;stroke&quot;: true, &quot;weight&quot;: 3}\n",
       "            ).addTo(map_a8c4e2e7356ac93224f6a0a77afb0dcf);\n",
       "        \n",
       "    \n",
       "            var circle_5497509fda5bacf306dc3f0a77cf6059 = L.circle(\n",
       "                [-39.8964415368, -73.417776163],\n",
       "                {&quot;bubblingMouseEvents&quot;: true, &quot;color&quot;: &quot;#ffa500ff&quot;, &quot;dashArray&quot;: null, &quot;dashOffset&quot;: null, &quot;fill&quot;: false, &quot;fillColor&quot;: &quot;#ffa500ff&quot;, &quot;fillOpacity&quot;: 0.2, &quot;fillRule&quot;: &quot;evenodd&quot;, &quot;lineCap&quot;: &quot;round&quot;, &quot;lineJoin&quot;: &quot;round&quot;, &quot;opacity&quot;: 1.0, &quot;radius&quot;: 450, &quot;stroke&quot;: true, &quot;weight&quot;: 3}\n",
       "            ).addTo(map_a8c4e2e7356ac93224f6a0a77afb0dcf);\n",
       "        \n",
       "    \n",
       "            var circle_4c8776cc3d58be8ca2c0c1733c8314d5 = L.circle(\n",
       "                [-39.9656281859, -73.6194983481],\n",
       "                {&quot;bubblingMouseEvents&quot;: true, &quot;color&quot;: &quot;#ffa500ff&quot;, &quot;dashArray&quot;: null, &quot;dashOffset&quot;: null, &quot;fill&quot;: false, &quot;fillColor&quot;: &quot;#ffa500ff&quot;, &quot;fillOpacity&quot;: 0.2, &quot;fillRule&quot;: &quot;evenodd&quot;, &quot;lineCap&quot;: &quot;round&quot;, &quot;lineJoin&quot;: &quot;round&quot;, &quot;opacity&quot;: 1.0, &quot;radius&quot;: 450, &quot;stroke&quot;: true, &quot;weight&quot;: 3}\n",
       "            ).addTo(map_a8c4e2e7356ac93224f6a0a77afb0dcf);\n",
       "        \n",
       "    \n",
       "            var circle_1b6176a425c56714c4cfd0eaed8f91d0 = L.circle(\n",
       "                [-39.8970045115, -73.4310820761],\n",
       "                {&quot;bubblingMouseEvents&quot;: true, &quot;color&quot;: &quot;#ffff00ff&quot;, &quot;dashArray&quot;: null, &quot;dashOffset&quot;: null, &quot;fill&quot;: false, &quot;fillColor&quot;: &quot;#ffff00ff&quot;, &quot;fillOpacity&quot;: 0.2, &quot;fillRule&quot;: &quot;evenodd&quot;, &quot;lineCap&quot;: &quot;round&quot;, &quot;lineJoin&quot;: &quot;round&quot;, &quot;opacity&quot;: 1.0, &quot;radius&quot;: 450, &quot;stroke&quot;: true, &quot;weight&quot;: 3}\n",
       "            ).addTo(map_a8c4e2e7356ac93224f6a0a77afb0dcf);\n",
       "        \n",
       "&lt;/script&gt;\" style=\"position:absolute;width:100%;height:100%;left:0;top:0;border:none !important;\" allowfullscreen webkitallowfullscreen mozallowfullscreen></iframe></div></div>"
      ],
      "text/plain": [
       "<folium.folium.Map at 0x20587b7a530>"
      ]
     },
     "execution_count": 56,
     "metadata": {},
     "output_type": "execute_result"
    }
   ],
   "source": [
    "from folium import plugins\n",
    "map = folium.Map(location = [-39.925826, -73.114501], tiles = \"OpenStreetMap\", zoom_start = 9.5)\n",
    "\n",
    "#Recopilación de datos\n",
    "datos_beneficiarios_valdivia=list(datos.iloc[1963:1977,9])\n",
    "datos_beneficiarios_paillaco=list(datos.iloc[1919:1930,9])\n",
    "datos_beneficiarios_loslagos=list(datos.iloc[1885:1903,9])\n",
    "datos_beneficiarios_corral=list(datos.iloc[1873:1879,9])\n",
    "\n",
    "beneficiarios = datos_beneficiarios_valdivia+datos_beneficiarios_paillaco+datos_beneficiarios_loslagos+datos_beneficiarios_corral\n",
    "\n",
    "colormap = folium.StepColormap(colors=['green','yellow','orange','red','purple'] ,\n",
    "                           index=[121,298,546,964,2294,4021],\n",
    "                           vmin= 121,\n",
    "                           vmax=4021)\n",
    "map = folium.Map(location = [-39.925826, -73.114501], tiles = \"OpenStreetMap\", zoom_start = 9.5)\n",
    "\n",
    "for i in range(len(locations)):\n",
    "    folium.Circle(location=locations[i],radius=450,color=colormap(beneficiarios[i]),).add_to(map)\n",
    "    nombre=nombres[i]\n",
    "map"
   ]
  },
  {
   "cell_type": "code",
   "execution_count": 57,
   "id": "77284582-f9d8-41ff-ab08-4c0143a690be",
   "metadata": {},
   "outputs": [
    {
     "data": {
      "text/html": [
       "<div style=\"width:100%;\"><div style=\"position:relative;width:100%;height:0;padding-bottom:60%;\"><span style=\"color:#565656\">Make this Notebook Trusted to load map: File -> Trust Notebook</span><iframe srcdoc=\"&lt;!DOCTYPE html&gt;\n",
       "&lt;head&gt;    \n",
       "    &lt;meta http-equiv=&quot;content-type&quot; content=&quot;text/html; charset=UTF-8&quot; /&gt;\n",
       "    \n",
       "        &lt;script&gt;\n",
       "            L_NO_TOUCH = false;\n",
       "            L_DISABLE_3D = false;\n",
       "        &lt;/script&gt;\n",
       "    \n",
       "    &lt;style&gt;html, body {width: 100%;height: 100%;margin: 0;padding: 0;}&lt;/style&gt;\n",
       "    &lt;style&gt;#map {position:absolute;top:0;bottom:0;right:0;left:0;}&lt;/style&gt;\n",
       "    &lt;script src=&quot;https://cdn.jsdelivr.net/npm/leaflet@1.6.0/dist/leaflet.js&quot;&gt;&lt;/script&gt;\n",
       "    &lt;script src=&quot;https://code.jquery.com/jquery-1.12.4.min.js&quot;&gt;&lt;/script&gt;\n",
       "    &lt;script src=&quot;https://maxcdn.bootstrapcdn.com/bootstrap/3.2.0/js/bootstrap.min.js&quot;&gt;&lt;/script&gt;\n",
       "    &lt;script src=&quot;https://cdnjs.cloudflare.com/ajax/libs/Leaflet.awesome-markers/2.0.2/leaflet.awesome-markers.js&quot;&gt;&lt;/script&gt;\n",
       "    &lt;link rel=&quot;stylesheet&quot; href=&quot;https://cdn.jsdelivr.net/npm/leaflet@1.6.0/dist/leaflet.css&quot;/&gt;\n",
       "    &lt;link rel=&quot;stylesheet&quot; href=&quot;https://maxcdn.bootstrapcdn.com/bootstrap/3.2.0/css/bootstrap.min.css&quot;/&gt;\n",
       "    &lt;link rel=&quot;stylesheet&quot; href=&quot;https://maxcdn.bootstrapcdn.com/bootstrap/3.2.0/css/bootstrap-theme.min.css&quot;/&gt;\n",
       "    &lt;link rel=&quot;stylesheet&quot; href=&quot;https://maxcdn.bootstrapcdn.com/font-awesome/4.6.3/css/font-awesome.min.css&quot;/&gt;\n",
       "    &lt;link rel=&quot;stylesheet&quot; href=&quot;https://cdnjs.cloudflare.com/ajax/libs/Leaflet.awesome-markers/2.0.2/leaflet.awesome-markers.css&quot;/&gt;\n",
       "    &lt;link rel=&quot;stylesheet&quot; href=&quot;https://cdn.jsdelivr.net/gh/python-visualization/folium/folium/templates/leaflet.awesome.rotate.min.css&quot;/&gt;\n",
       "    \n",
       "            &lt;meta name=&quot;viewport&quot; content=&quot;width=device-width,\n",
       "                initial-scale=1.0, maximum-scale=1.0, user-scalable=no&quot; /&gt;\n",
       "            &lt;style&gt;\n",
       "                #map_4f1b1c39f13bf2b36cecbaedcfc20e88 {\n",
       "                    position: relative;\n",
       "                    width: 100.0%;\n",
       "                    height: 100.0%;\n",
       "                    left: 0.0%;\n",
       "                    top: 0.0%;\n",
       "                }\n",
       "            &lt;/style&gt;\n",
       "        \n",
       "&lt;/head&gt;\n",
       "&lt;body&gt;    \n",
       "    \n",
       "            &lt;div class=&quot;folium-map&quot; id=&quot;map_4f1b1c39f13bf2b36cecbaedcfc20e88&quot; &gt;&lt;/div&gt;\n",
       "        \n",
       "&lt;/body&gt;\n",
       "&lt;script&gt;    \n",
       "    \n",
       "            var map_4f1b1c39f13bf2b36cecbaedcfc20e88 = L.map(\n",
       "                &quot;map_4f1b1c39f13bf2b36cecbaedcfc20e88&quot;,\n",
       "                {\n",
       "                    center: [-39.925826, -73.114501],\n",
       "                    crs: L.CRS.EPSG3857,\n",
       "                    zoom: 9.5,\n",
       "                    zoomControl: true,\n",
       "                    preferCanvas: false,\n",
       "                }\n",
       "            );\n",
       "\n",
       "            \n",
       "\n",
       "        \n",
       "    \n",
       "            var tile_layer_8a411a8d85d79567137f2eba4b473805 = L.tileLayer(\n",
       "                &quot;https://{s}.tile.openstreetmap.org/{z}/{x}/{y}.png&quot;,\n",
       "                {&quot;attribution&quot;: &quot;Data by \\u0026copy; \\u003ca href=\\&quot;http://openstreetmap.org\\&quot;\\u003eOpenStreetMap\\u003c/a\\u003e, under \\u003ca href=\\&quot;http://www.openstreetmap.org/copyright\\&quot;\\u003eODbL\\u003c/a\\u003e.&quot;, &quot;detectRetina&quot;: false, &quot;maxNativeZoom&quot;: 18, &quot;maxZoom&quot;: 18, &quot;minZoom&quot;: 0, &quot;noWrap&quot;: false, &quot;opacity&quot;: 1, &quot;subdomains&quot;: &quot;abc&quot;, &quot;tms&quot;: false}\n",
       "            ).addTo(map_4f1b1c39f13bf2b36cecbaedcfc20e88);\n",
       "        \n",
       "    \n",
       "            var marker_617a5939d9eda82c0d1aec0626616ded = L.marker(\n",
       "                [-39.8062305249, -73.0547464487],\n",
       "                {}\n",
       "            ).addTo(map_4f1b1c39f13bf2b36cecbaedcfc20e88);\n",
       "        \n",
       "    \n",
       "            var icon_bef603eb44848020518a54ae3fde0155 = L.AwesomeMarkers.icon(\n",
       "                {&quot;extraClasses&quot;: &quot;fa-rotate-0&quot;, &quot;icon&quot;: &quot;info-sign&quot;, &quot;iconColor&quot;: &quot;white&quot;, &quot;markerColor&quot;: &quot;green&quot;, &quot;prefix&quot;: &quot;glyphicon&quot;}\n",
       "            );\n",
       "            marker_617a5939d9eda82c0d1aec0626616ded.setIcon(icon_bef603eb44848020518a54ae3fde0155);\n",
       "        \n",
       "    \n",
       "        var popup_fb7e9e465cc6b71d886e8df95d0e162c = L.popup({&quot;maxWidth&quot;: &quot;100%&quot;});\n",
       "\n",
       "        \n",
       "            var html_1e92bc4b45707bfbf33cef56cc4c4f55 = $(`&lt;div id=&quot;html_1e92bc4b45707bfbf33cef56cc4c4f55&quot; style=&quot;width: 100.0%; height: 100.0%;&quot;&gt;Número de personas beneficiadas 322.0&lt;/div&gt;`)[0];\n",
       "            popup_fb7e9e465cc6b71d886e8df95d0e162c.setContent(html_1e92bc4b45707bfbf33cef56cc4c4f55);\n",
       "        \n",
       "\n",
       "        marker_617a5939d9eda82c0d1aec0626616ded.bindPopup(popup_fb7e9e465cc6b71d886e8df95d0e162c)\n",
       "        ;\n",
       "\n",
       "        \n",
       "    \n",
       "    \n",
       "            marker_617a5939d9eda82c0d1aec0626616ded.bindTooltip(\n",
       "                `&lt;div&gt;\n",
       "                     PISHUINCO\n",
       "                 &lt;/div&gt;`,\n",
       "                {&quot;sticky&quot;: true}\n",
       "            );\n",
       "        \n",
       "    \n",
       "            var marker_28ed99e0a1e1d46189186207613c0134 = L.marker(\n",
       "                [-39.7283824204, -73.3948919817],\n",
       "                {}\n",
       "            ).addTo(map_4f1b1c39f13bf2b36cecbaedcfc20e88);\n",
       "        \n",
       "    \n",
       "            var icon_100e16730bfde855162eae058a4dc3b2 = L.AwesomeMarkers.icon(\n",
       "                {&quot;extraClasses&quot;: &quot;fa-rotate-0&quot;, &quot;icon&quot;: &quot;info-sign&quot;, &quot;iconColor&quot;: &quot;white&quot;, &quot;markerColor&quot;: &quot;purple&quot;, &quot;prefix&quot;: &quot;glyphicon&quot;}\n",
       "            );\n",
       "            marker_28ed99e0a1e1d46189186207613c0134.setIcon(icon_100e16730bfde855162eae058a4dc3b2);\n",
       "        \n",
       "    \n",
       "        var popup_0df787c7a7f706d9f50d7580c45ed81a = L.popup({&quot;maxWidth&quot;: &quot;100%&quot;});\n",
       "\n",
       "        \n",
       "            var html_eaff184f43c5abe80120d282a0b439dd = $(`&lt;div id=&quot;html_eaff184f43c5abe80120d282a0b439dd&quot; style=&quot;width: 100.0%; height: 100.0%;&quot;&gt;Número de personas beneficiadas 2294.0&lt;/div&gt;`)[0];\n",
       "            popup_0df787c7a7f706d9f50d7580c45ed81a.setContent(html_eaff184f43c5abe80120d282a0b439dd);\n",
       "        \n",
       "\n",
       "        marker_28ed99e0a1e1d46189186207613c0134.bindPopup(popup_0df787c7a7f706d9f50d7580c45ed81a)\n",
       "        ;\n",
       "\n",
       "        \n",
       "    \n",
       "    \n",
       "            marker_28ed99e0a1e1d46189186207613c0134.bindTooltip(\n",
       "                `&lt;div&gt;\n",
       "                     CURIÑANCO\n",
       "                 &lt;/div&gt;`,\n",
       "                {&quot;sticky&quot;: true}\n",
       "            );\n",
       "        \n",
       "    \n",
       "            var marker_65a7981814407cf5c0fe3eeef642d2f0 = L.marker(\n",
       "                [-39.7930844112, -73.124067117],\n",
       "                {}\n",
       "            ).addTo(map_4f1b1c39f13bf2b36cecbaedcfc20e88);\n",
       "        \n",
       "    \n",
       "            var icon_1e9b75bdf94dce8044f5c18c143681ff = L.AwesomeMarkers.icon(\n",
       "                {&quot;extraClasses&quot;: &quot;fa-rotate-0&quot;, &quot;icon&quot;: &quot;info-sign&quot;, &quot;iconColor&quot;: &quot;white&quot;, &quot;markerColor&quot;: &quot;green&quot;, &quot;prefix&quot;: &quot;glyphicon&quot;}\n",
       "            );\n",
       "            marker_65a7981814407cf5c0fe3eeef642d2f0.setIcon(icon_1e9b75bdf94dce8044f5c18c143681ff);\n",
       "        \n",
       "    \n",
       "        var popup_c568a0b3552849074cf7cd0e606dfb34 = L.popup({&quot;maxWidth&quot;: &quot;100%&quot;});\n",
       "\n",
       "        \n",
       "            var html_0c39034b15a94ee3d3bfbf33ad90b802 = $(`&lt;div id=&quot;html_0c39034b15a94ee3d3bfbf33ad90b802&quot; style=&quot;width: 100.0%; height: 100.0%;&quot;&gt;Número de personas beneficiadas 310.0&lt;/div&gt;`)[0];\n",
       "            popup_c568a0b3552849074cf7cd0e606dfb34.setContent(html_0c39034b15a94ee3d3bfbf33ad90b802);\n",
       "        \n",
       "\n",
       "        marker_65a7981814407cf5c0fe3eeef642d2f0.bindPopup(popup_c568a0b3552849074cf7cd0e606dfb34)\n",
       "        ;\n",
       "\n",
       "        \n",
       "    \n",
       "    \n",
       "            marker_65a7981814407cf5c0fe3eeef642d2f0.bindTooltip(\n",
       "                `&lt;div&gt;\n",
       "                     HUELLELHUE\n",
       "                 &lt;/div&gt;`,\n",
       "                {&quot;sticky&quot;: true}\n",
       "            );\n",
       "        \n",
       "    \n",
       "            var marker_a96ea005db9c765f81f231e488b522c2 = L.marker(\n",
       "                [-39.8715639883, -73.1852346315],\n",
       "                {}\n",
       "            ).addTo(map_4f1b1c39f13bf2b36cecbaedcfc20e88);\n",
       "        \n",
       "    \n",
       "            var icon_3e52fda2bebe84f99fd5958e41d20847 = L.AwesomeMarkers.icon(\n",
       "                {&quot;extraClasses&quot;: &quot;fa-rotate-0&quot;, &quot;icon&quot;: &quot;info-sign&quot;, &quot;iconColor&quot;: &quot;white&quot;, &quot;markerColor&quot;: &quot;red&quot;, &quot;prefix&quot;: &quot;glyphicon&quot;}\n",
       "            );\n",
       "            marker_a96ea005db9c765f81f231e488b522c2.setIcon(icon_3e52fda2bebe84f99fd5958e41d20847);\n",
       "        \n",
       "    \n",
       "        var popup_82d23e011738c40b8b52c80adc74e06b = L.popup({&quot;maxWidth&quot;: &quot;100%&quot;});\n",
       "\n",
       "        \n",
       "            var html_8b2270dc6411a893fc8b377aa7f10940 = $(`&lt;div id=&quot;html_8b2270dc6411a893fc8b377aa7f10940&quot; style=&quot;width: 100.0%; height: 100.0%;&quot;&gt;Número de personas beneficiadas 1048.0&lt;/div&gt;`)[0];\n",
       "            popup_82d23e011738c40b8b52c80adc74e06b.setContent(html_8b2270dc6411a893fc8b377aa7f10940);\n",
       "        \n",
       "\n",
       "        marker_a96ea005db9c765f81f231e488b522c2.bindPopup(popup_82d23e011738c40b8b52c80adc74e06b)\n",
       "        ;\n",
       "\n",
       "        \n",
       "    \n",
       "    \n",
       "            marker_a96ea005db9c765f81f231e488b522c2.bindTooltip(\n",
       "                `&lt;div&gt;\n",
       "                     LAS GAVIOTAS\n",
       "                 &lt;/div&gt;`,\n",
       "                {&quot;sticky&quot;: true}\n",
       "            );\n",
       "        \n",
       "    \n",
       "            var marker_9332ced07c7ae114e82bacd518de2b2c = L.marker(\n",
       "                [-39.8547751549, -73.3907718436],\n",
       "                {}\n",
       "            ).addTo(map_4f1b1c39f13bf2b36cecbaedcfc20e88);\n",
       "        \n",
       "    \n",
       "            var icon_a0ad6d0ca2bf3ff86d1e8288590e7006 = L.AwesomeMarkers.icon(\n",
       "                {&quot;extraClasses&quot;: &quot;fa-rotate-0&quot;, &quot;icon&quot;: &quot;info-sign&quot;, &quot;iconColor&quot;: &quot;white&quot;, &quot;markerColor&quot;: &quot;purple&quot;, &quot;prefix&quot;: &quot;glyphicon&quot;}\n",
       "            );\n",
       "            marker_9332ced07c7ae114e82bacd518de2b2c.setIcon(icon_a0ad6d0ca2bf3ff86d1e8288590e7006);\n",
       "        \n",
       "    \n",
       "        var popup_9d163b8658c0ca6078ea7c3a720e4368 = L.popup({&quot;maxWidth&quot;: &quot;100%&quot;});\n",
       "\n",
       "        \n",
       "            var html_2b6f21b18b3aa79a7bfd1f9e307b88b9 = $(`&lt;div id=&quot;html_2b6f21b18b3aa79a7bfd1f9e307b88b9&quot; style=&quot;width: 100.0%; height: 100.0%;&quot;&gt;Número de personas beneficiadas 4021.0&lt;/div&gt;`)[0];\n",
       "            popup_9d163b8658c0ca6078ea7c3a720e4368.setContent(html_2b6f21b18b3aa79a7bfd1f9e307b88b9);\n",
       "        \n",
       "\n",
       "        marker_9332ced07c7ae114e82bacd518de2b2c.bindPopup(popup_9d163b8658c0ca6078ea7c3a720e4368)\n",
       "        ;\n",
       "\n",
       "        \n",
       "    \n",
       "    \n",
       "            marker_9332ced07c7ae114e82bacd518de2b2c.bindTooltip(\n",
       "                `&lt;div&gt;\n",
       "                     NIEBLA-LOS MOLINOS\n",
       "                 &lt;/div&gt;`,\n",
       "                {&quot;sticky&quot;: true}\n",
       "            );\n",
       "        \n",
       "    \n",
       "            var marker_1cc66a36246acc66557e484cf8db0ac1 = L.marker(\n",
       "                [-39.7603001637, -73.2705681336],\n",
       "                {}\n",
       "            ).addTo(map_4f1b1c39f13bf2b36cecbaedcfc20e88);\n",
       "        \n",
       "    \n",
       "            var icon_bbae348ee81ec3c7cf3991dc35d08297 = L.AwesomeMarkers.icon(\n",
       "                {&quot;extraClasses&quot;: &quot;fa-rotate-0&quot;, &quot;icon&quot;: &quot;info-sign&quot;, &quot;iconColor&quot;: &quot;white&quot;, &quot;markerColor&quot;: &quot;green&quot;, &quot;prefix&quot;: &quot;glyphicon&quot;}\n",
       "            );\n",
       "            marker_1cc66a36246acc66557e484cf8db0ac1.setIcon(icon_bbae348ee81ec3c7cf3991dc35d08297);\n",
       "        \n",
       "    \n",
       "        var popup_79a819905366bc673f30d84d1fc4ea5e = L.popup({&quot;maxWidth&quot;: &quot;100%&quot;});\n",
       "\n",
       "        \n",
       "            var html_f64cb8f40f4f1517c789c45d48be7000 = $(`&lt;div id=&quot;html_f64cb8f40f4f1517c789c45d48be7000&quot; style=&quot;width: 100.0%; height: 100.0%;&quot;&gt;Número de personas beneficiadas 459.0&lt;/div&gt;`)[0];\n",
       "            popup_79a819905366bc673f30d84d1fc4ea5e.setContent(html_f64cb8f40f4f1517c789c45d48be7000);\n",
       "        \n",
       "\n",
       "        marker_1cc66a36246acc66557e484cf8db0ac1.bindPopup(popup_79a819905366bc673f30d84d1fc4ea5e)\n",
       "        ;\n",
       "\n",
       "        \n",
       "    \n",
       "    \n",
       "            marker_1cc66a36246acc66557e484cf8db0ac1.bindTooltip(\n",
       "                `&lt;div&gt;\n",
       "                     PUNUCAPA\n",
       "                 &lt;/div&gt;`,\n",
       "                {&quot;sticky&quot;: true}\n",
       "            );\n",
       "        \n",
       "    \n",
       "            var marker_e0f089370dae326dad71e461140c3645 = L.marker(\n",
       "                [-39.831480037, -73.4025892212],\n",
       "                {}\n",
       "            ).addTo(map_4f1b1c39f13bf2b36cecbaedcfc20e88);\n",
       "        \n",
       "    \n",
       "            var icon_2ca374c3eb33ba78a7dcf33d27b5380a = L.AwesomeMarkers.icon(\n",
       "                {&quot;extraClasses&quot;: &quot;fa-rotate-0&quot;, &quot;icon&quot;: &quot;info-sign&quot;, &quot;iconColor&quot;: &quot;white&quot;, &quot;markerColor&quot;: &quot;orange&quot;, &quot;prefix&quot;: &quot;glyphicon&quot;}\n",
       "            );\n",
       "            marker_e0f089370dae326dad71e461140c3645.setIcon(icon_2ca374c3eb33ba78a7dcf33d27b5380a);\n",
       "        \n",
       "    \n",
       "        var popup_c5907e8a2c5e76f764a1f3a4826ecbce = L.popup({&quot;maxWidth&quot;: &quot;100%&quot;});\n",
       "\n",
       "        \n",
       "            var html_84d06fef645585cc73a91a63f4f34d02 = $(`&lt;div id=&quot;html_84d06fef645585cc73a91a63f4f34d02&quot; style=&quot;width: 100.0%; height: 100.0%;&quot;&gt;Número de personas beneficiadas 936.0&lt;/div&gt;`)[0];\n",
       "            popup_c5907e8a2c5e76f764a1f3a4826ecbce.setContent(html_84d06fef645585cc73a91a63f4f34d02);\n",
       "        \n",
       "\n",
       "        marker_e0f089370dae326dad71e461140c3645.bindPopup(popup_c5907e8a2c5e76f764a1f3a4826ecbce)\n",
       "        ;\n",
       "\n",
       "        \n",
       "    \n",
       "    \n",
       "            marker_e0f089370dae326dad71e461140c3645.bindTooltip(\n",
       "                `&lt;div&gt;\n",
       "                     SAN IGNACIO-PLAYA ROSADA\n",
       "                 &lt;/div&gt;`,\n",
       "                {&quot;sticky&quot;: true}\n",
       "            );\n",
       "        \n",
       "    \n",
       "            var marker_e937d787c4c8d3d9d3d4f13798db452a = L.marker(\n",
       "                [-39.8649364171, -73.3728400295],\n",
       "                {}\n",
       "            ).addTo(map_4f1b1c39f13bf2b36cecbaedcfc20e88);\n",
       "        \n",
       "    \n",
       "            var icon_8fb6d7664aea49d436917f4c2be84263 = L.AwesomeMarkers.icon(\n",
       "                {&quot;extraClasses&quot;: &quot;fa-rotate-0&quot;, &quot;icon&quot;: &quot;info-sign&quot;, &quot;iconColor&quot;: &quot;white&quot;, &quot;markerColor&quot;: &quot;red&quot;, &quot;prefix&quot;: &quot;glyphicon&quot;}\n",
       "            );\n",
       "            marker_e937d787c4c8d3d9d3d4f13798db452a.setIcon(icon_8fb6d7664aea49d436917f4c2be84263);\n",
       "        \n",
       "    \n",
       "        var popup_d82e74f801dcfdf2fad48e2288957511 = L.popup({&quot;maxWidth&quot;: &quot;100%&quot;});\n",
       "\n",
       "        \n",
       "            var html_1a8823234dea366985864b67844359b6 = $(`&lt;div id=&quot;html_1a8823234dea366985864b67844359b6&quot; style=&quot;width: 100.0%; height: 100.0%;&quot;&gt;Número de personas beneficiadas 1091.0&lt;/div&gt;`)[0];\n",
       "            popup_d82e74f801dcfdf2fad48e2288957511.setContent(html_1a8823234dea366985864b67844359b6);\n",
       "        \n",
       "\n",
       "        marker_e937d787c4c8d3d9d3d4f13798db452a.bindPopup(popup_d82e74f801dcfdf2fad48e2288957511)\n",
       "        ;\n",
       "\n",
       "        \n",
       "    \n",
       "    \n",
       "            marker_e937d787c4c8d3d9d3d4f13798db452a.bindTooltip(\n",
       "                `&lt;div&gt;\n",
       "                     TRES ESPINOS\n",
       "                 &lt;/div&gt;`,\n",
       "                {&quot;sticky&quot;: true}\n",
       "            );\n",
       "        \n",
       "    \n",
       "            var marker_48c0ab9573aee6ec08d73429534c5790 = L.marker(\n",
       "                [-39.7314121294, -73.1091043702],\n",
       "                {}\n",
       "            ).addTo(map_4f1b1c39f13bf2b36cecbaedcfc20e88);\n",
       "        \n",
       "    \n",
       "            var icon_d18fa3683bdc39589824b97c60cfd1e0 = L.AwesomeMarkers.icon(\n",
       "                {&quot;extraClasses&quot;: &quot;fa-rotate-0&quot;, &quot;icon&quot;: &quot;info-sign&quot;, &quot;iconColor&quot;: &quot;white&quot;, &quot;markerColor&quot;: &quot;red&quot;, &quot;prefix&quot;: &quot;glyphicon&quot;}\n",
       "            );\n",
       "            marker_48c0ab9573aee6ec08d73429534c5790.setIcon(icon_d18fa3683bdc39589824b97c60cfd1e0);\n",
       "        \n",
       "    \n",
       "        var popup_e2d009fc2daf23ebef65d34e9bd0e83c = L.popup({&quot;maxWidth&quot;: &quot;100%&quot;});\n",
       "\n",
       "        \n",
       "            var html_f80859670208b157ab08b38a798eade1 = $(`&lt;div id=&quot;html_f80859670208b157ab08b38a798eade1&quot; style=&quot;width: 100.0%; height: 100.0%;&quot;&gt;Número de personas beneficiadas 1327.0&lt;/div&gt;`)[0];\n",
       "            popup_e2d009fc2daf23ebef65d34e9bd0e83c.setContent(html_f80859670208b157ab08b38a798eade1);\n",
       "        \n",
       "\n",
       "        marker_48c0ab9573aee6ec08d73429534c5790.bindPopup(popup_e2d009fc2daf23ebef65d34e9bd0e83c)\n",
       "        ;\n",
       "\n",
       "        \n",
       "    \n",
       "    \n",
       "            marker_48c0ab9573aee6ec08d73429534c5790.bindTooltip(\n",
       "                `&lt;div&gt;\n",
       "                     VILLA CAYUMAPU\n",
       "                 &lt;/div&gt;`,\n",
       "                {&quot;sticky&quot;: true}\n",
       "            );\n",
       "        \n",
       "    \n",
       "            var marker_5d5a46627128ce0110fa0f21dc0500f8 = L.marker(\n",
       "                [-39.772903642, -73.1970058325],\n",
       "                {}\n",
       "            ).addTo(map_4f1b1c39f13bf2b36cecbaedcfc20e88);\n",
       "        \n",
       "    \n",
       "            var icon_aba2b260652b0c874f182f9d1390c9d8 = L.AwesomeMarkers.icon(\n",
       "                {&quot;extraClasses&quot;: &quot;fa-rotate-0&quot;, &quot;icon&quot;: &quot;info-sign&quot;, &quot;iconColor&quot;: &quot;white&quot;, &quot;markerColor&quot;: &quot;orange&quot;, &quot;prefix&quot;: &quot;glyphicon&quot;}\n",
       "            );\n",
       "            marker_5d5a46627128ce0110fa0f21dc0500f8.setIcon(icon_aba2b260652b0c874f182f9d1390c9d8);\n",
       "        \n",
       "    \n",
       "        var popup_1560d830042013ef5ca8a24e9569118b = L.popup({&quot;maxWidth&quot;: &quot;100%&quot;});\n",
       "\n",
       "        \n",
       "            var html_db1cea60f4bf5f79db93718311d0d54b = $(`&lt;div id=&quot;html_db1cea60f4bf5f79db93718311d0d54b&quot; style=&quot;width: 100.0%; height: 100.0%;&quot;&gt;Número de personas beneficiadas 549.0&lt;/div&gt;`)[0];\n",
       "            popup_1560d830042013ef5ca8a24e9569118b.setContent(html_db1cea60f4bf5f79db93718311d0d54b);\n",
       "        \n",
       "\n",
       "        marker_5d5a46627128ce0110fa0f21dc0500f8.bindPopup(popup_1560d830042013ef5ca8a24e9569118b)\n",
       "        ;\n",
       "\n",
       "        \n",
       "    \n",
       "    \n",
       "            marker_5d5a46627128ce0110fa0f21dc0500f8.bindTooltip(\n",
       "                `&lt;div&gt;\n",
       "                     EL ARENAL SANTA ELVIRA\n",
       "                 &lt;/div&gt;`,\n",
       "                {&quot;sticky&quot;: true}\n",
       "            );\n",
       "        \n",
       "    \n",
       "            var marker_f0e3e1a8444d396a6b851678a2b80989 = L.marker(\n",
       "                [-39.8673123199, -73.2088638403],\n",
       "                {}\n",
       "            ).addTo(map_4f1b1c39f13bf2b36cecbaedcfc20e88);\n",
       "        \n",
       "    \n",
       "            var icon_79d998d4545d7662ca656bf0039caa78 = L.AwesomeMarkers.icon(\n",
       "                {&quot;extraClasses&quot;: &quot;fa-rotate-0&quot;, &quot;icon&quot;: &quot;info-sign&quot;, &quot;iconColor&quot;: &quot;white&quot;, &quot;markerColor&quot;: &quot;orange&quot;, &quot;prefix&quot;: &quot;glyphicon&quot;}\n",
       "            );\n",
       "            marker_f0e3e1a8444d396a6b851678a2b80989.setIcon(icon_79d998d4545d7662ca656bf0039caa78);\n",
       "        \n",
       "    \n",
       "        var popup_665d2cbdf33fee6febce58b5e90e4896 = L.popup({&quot;maxWidth&quot;: &quot;100%&quot;});\n",
       "\n",
       "        \n",
       "            var html_6aef4e1e82ac0005277a34930e9d5750 = $(`&lt;div id=&quot;html_6aef4e1e82ac0005277a34930e9d5750&quot; style=&quot;width: 100.0%; height: 100.0%;&quot;&gt;Número de personas beneficiadas 871.0&lt;/div&gt;`)[0];\n",
       "            popup_665d2cbdf33fee6febce58b5e90e4896.setContent(html_6aef4e1e82ac0005277a34930e9d5750);\n",
       "        \n",
       "\n",
       "        marker_f0e3e1a8444d396a6b851678a2b80989.bindPopup(popup_665d2cbdf33fee6febce58b5e90e4896)\n",
       "        ;\n",
       "\n",
       "        \n",
       "    \n",
       "    \n",
       "            marker_f0e3e1a8444d396a6b851678a2b80989.bindTooltip(\n",
       "                `&lt;div&gt;\n",
       "                     PAILLAO\n",
       "                 &lt;/div&gt;`,\n",
       "                {&quot;sticky&quot;: true}\n",
       "            );\n",
       "        \n",
       "    \n",
       "            var marker_10909d7df5607bc4183ac27f2c022ab8 = L.marker(\n",
       "                [-39.7802702288, -73.2412708338],\n",
       "                {}\n",
       "            ).addTo(map_4f1b1c39f13bf2b36cecbaedcfc20e88);\n",
       "        \n",
       "    \n",
       "            var icon_f8ec49926fbb21a2e54f86ee410f7d56 = L.AwesomeMarkers.icon(\n",
       "                {&quot;extraClasses&quot;: &quot;fa-rotate-0&quot;, &quot;icon&quot;: &quot;info-sign&quot;, &quot;iconColor&quot;: &quot;white&quot;, &quot;markerColor&quot;: &quot;green&quot;, &quot;prefix&quot;: &quot;glyphicon&quot;}\n",
       "            );\n",
       "            marker_10909d7df5607bc4183ac27f2c022ab8.setIcon(icon_f8ec49926fbb21a2e54f86ee410f7d56);\n",
       "        \n",
       "    \n",
       "        var popup_9e4ad1ac324893ad75183d7985d62877 = L.popup({&quot;maxWidth&quot;: &quot;100%&quot;});\n",
       "\n",
       "        \n",
       "            var html_922fcc137d7718bc42482f813a3311b5 = $(`&lt;div id=&quot;html_922fcc137d7718bc42482f813a3311b5&quot; style=&quot;width: 100.0%; height: 100.0%;&quot;&gt;Número de personas beneficiadas 543.0&lt;/div&gt;`)[0];\n",
       "            popup_9e4ad1ac324893ad75183d7985d62877.setContent(html_922fcc137d7718bc42482f813a3311b5);\n",
       "        \n",
       "\n",
       "        marker_10909d7df5607bc4183ac27f2c022ab8.bindPopup(popup_9e4ad1ac324893ad75183d7985d62877)\n",
       "        ;\n",
       "\n",
       "        \n",
       "    \n",
       "    \n",
       "            marker_10909d7df5607bc4183ac27f2c022ab8.bindTooltip(\n",
       "                `&lt;div&gt;\n",
       "                     CABO BLANCO\n",
       "                 &lt;/div&gt;`,\n",
       "                {&quot;sticky&quot;: true}\n",
       "            );\n",
       "        \n",
       "    \n",
       "            var marker_9cb5d8ec1079c982b9203f808dd905ae = L.marker(\n",
       "                [-39.7737197231, -73.2102553189],\n",
       "                {}\n",
       "            ).addTo(map_4f1b1c39f13bf2b36cecbaedcfc20e88);\n",
       "        \n",
       "    \n",
       "            var icon_65dc1312a07a4efcf2776892e27bf188 = L.AwesomeMarkers.icon(\n",
       "                {&quot;extraClasses&quot;: &quot;fa-rotate-0&quot;, &quot;icon&quot;: &quot;info-sign&quot;, &quot;iconColor&quot;: &quot;white&quot;, &quot;markerColor&quot;: &quot;orange&quot;, &quot;prefix&quot;: &quot;glyphicon&quot;}\n",
       "            );\n",
       "            marker_9cb5d8ec1079c982b9203f808dd905ae.setIcon(icon_65dc1312a07a4efcf2776892e27bf188);\n",
       "        \n",
       "    \n",
       "        var popup_bb4f6fe2410fad294a96540b1823b625 = L.popup({&quot;maxWidth&quot;: &quot;100%&quot;});\n",
       "\n",
       "        \n",
       "            var html_4ae26ca0d3604d39813aa845a8dced0d = $(`&lt;div id=&quot;html_4ae26ca0d3604d39813aa845a8dced0d&quot; style=&quot;width: 100.0%; height: 100.0%;&quot;&gt;Número de personas beneficiadas 623.0&lt;/div&gt;`)[0];\n",
       "            popup_bb4f6fe2410fad294a96540b1823b625.setContent(html_4ae26ca0d3604d39813aa845a8dced0d);\n",
       "        \n",
       "\n",
       "        marker_9cb5d8ec1079c982b9203f808dd905ae.bindPopup(popup_bb4f6fe2410fad294a96540b1823b625)\n",
       "        ;\n",
       "\n",
       "        \n",
       "    \n",
       "    \n",
       "            marker_9cb5d8ec1079c982b9203f808dd905ae.bindTooltip(\n",
       "                `&lt;div&gt;\n",
       "                     EL ARENAL KM 2\n",
       "                 &lt;/div&gt;`,\n",
       "                {&quot;sticky&quot;: true}\n",
       "            );\n",
       "        \n",
       "    \n",
       "            var marker_faadd8cec880fa207ff480f4a1c27fba = L.marker(\n",
       "                [-39.7772055631, -73.3135380035],\n",
       "                {}\n",
       "            ).addTo(map_4f1b1c39f13bf2b36cecbaedcfc20e88);\n",
       "        \n",
       "    \n",
       "            var icon_e216cac782ed78399c6a74b6fec28c61 = L.AwesomeMarkers.icon(\n",
       "                {&quot;extraClasses&quot;: &quot;fa-rotate-0&quot;, &quot;icon&quot;: &quot;info-sign&quot;, &quot;iconColor&quot;: &quot;white&quot;, &quot;markerColor&quot;: &quot;green&quot;, &quot;prefix&quot;: &quot;glyphicon&quot;}\n",
       "            );\n",
       "            marker_faadd8cec880fa207ff480f4a1c27fba.setIcon(icon_e216cac782ed78399c6a74b6fec28c61);\n",
       "        \n",
       "    \n",
       "        var popup_58539642f84e6a85e1fedecaeeb6f53b = L.popup({&quot;maxWidth&quot;: &quot;100%&quot;});\n",
       "\n",
       "        \n",
       "            var html_09f31532397a08cca609612900fa8432 = $(`&lt;div id=&quot;html_09f31532397a08cca609612900fa8432&quot; style=&quot;width: 100.0%; height: 100.0%;&quot;&gt;Número de personas beneficiadas 434.0&lt;/div&gt;`)[0];\n",
       "            popup_58539642f84e6a85e1fedecaeeb6f53b.setContent(html_09f31532397a08cca609612900fa8432);\n",
       "        \n",
       "\n",
       "        marker_faadd8cec880fa207ff480f4a1c27fba.bindPopup(popup_58539642f84e6a85e1fedecaeeb6f53b)\n",
       "        ;\n",
       "\n",
       "        \n",
       "    \n",
       "    \n",
       "            marker_faadd8cec880fa207ff480f4a1c27fba.bindTooltip(\n",
       "                `&lt;div&gt;\n",
       "                     Chabelita\n",
       "                 &lt;/div&gt;`,\n",
       "                {&quot;sticky&quot;: true}\n",
       "            );\n",
       "        \n",
       "    \n",
       "            var marker_5964893a8c63826c5515d54c2077d030 = L.marker(\n",
       "                [-40.1296581637, -72.7254940272],\n",
       "                {}\n",
       "            ).addTo(map_4f1b1c39f13bf2b36cecbaedcfc20e88);\n",
       "        \n",
       "    \n",
       "            var icon_915b8867bb1fb2c934ac3d12b0226b72 = L.AwesomeMarkers.icon(\n",
       "                {&quot;extraClasses&quot;: &quot;fa-rotate-0&quot;, &quot;icon&quot;: &quot;info-sign&quot;, &quot;iconColor&quot;: &quot;white&quot;, &quot;markerColor&quot;: &quot;green&quot;, &quot;prefix&quot;: &quot;glyphicon&quot;}\n",
       "            );\n",
       "            marker_5964893a8c63826c5515d54c2077d030.setIcon(icon_915b8867bb1fb2c934ac3d12b0226b72);\n",
       "        \n",
       "    \n",
       "        var popup_e97df9ef1395cdc189cab43107303f32 = L.popup({&quot;maxWidth&quot;: &quot;100%&quot;});\n",
       "\n",
       "        \n",
       "            var html_6e6973a1730136fbec9cc0bc4a4d847b = $(`&lt;div id=&quot;html_6e6973a1730136fbec9cc0bc4a4d847b&quot; style=&quot;width: 100.0%; height: 100.0%;&quot;&gt;Número de personas beneficiadas 394.0&lt;/div&gt;`)[0];\n",
       "            popup_e97df9ef1395cdc189cab43107303f32.setContent(html_6e6973a1730136fbec9cc0bc4a4d847b);\n",
       "        \n",
       "\n",
       "        marker_5964893a8c63826c5515d54c2077d030.bindPopup(popup_e97df9ef1395cdc189cab43107303f32)\n",
       "        ;\n",
       "\n",
       "        \n",
       "    \n",
       "    \n",
       "            marker_5964893a8c63826c5515d54c2077d030.bindTooltip(\n",
       "                `&lt;div&gt;\n",
       "                     ARCO IRIS\n",
       "                 &lt;/div&gt;`,\n",
       "                {&quot;sticky&quot;: true}\n",
       "            );\n",
       "        \n",
       "    \n",
       "            var marker_661b843917ee01446e20df943dc44158 = L.marker(\n",
       "                [-40.0676228293, -72.6179175677],\n",
       "                {}\n",
       "            ).addTo(map_4f1b1c39f13bf2b36cecbaedcfc20e88);\n",
       "        \n",
       "    \n",
       "            var icon_746cb98c6b6d244fd74377e47c1d51bf = L.AwesomeMarkers.icon(\n",
       "                {&quot;extraClasses&quot;: &quot;fa-rotate-0&quot;, &quot;icon&quot;: &quot;info-sign&quot;, &quot;iconColor&quot;: &quot;white&quot;, &quot;markerColor&quot;: &quot;green&quot;, &quot;prefix&quot;: &quot;glyphicon&quot;}\n",
       "            );\n",
       "            marker_661b843917ee01446e20df943dc44158.setIcon(icon_746cb98c6b6d244fd74377e47c1d51bf);\n",
       "        \n",
       "    \n",
       "        var popup_604b67c213a813632c65d8984f21f0df = L.popup({&quot;maxWidth&quot;: &quot;100%&quot;});\n",
       "\n",
       "        \n",
       "            var html_cb28eeb8ea57e73bd378923383ced7db = $(`&lt;div id=&quot;html_cb28eeb8ea57e73bd378923383ced7db&quot; style=&quot;width: 100.0%; height: 100.0%;&quot;&gt;Número de personas beneficiadas 428.0&lt;/div&gt;`)[0];\n",
       "            popup_604b67c213a813632c65d8984f21f0df.setContent(html_cb28eeb8ea57e73bd378923383ced7db);\n",
       "        \n",
       "\n",
       "        marker_661b843917ee01446e20df943dc44158.bindPopup(popup_604b67c213a813632c65d8984f21f0df)\n",
       "        ;\n",
       "\n",
       "        \n",
       "    \n",
       "    \n",
       "            marker_661b843917ee01446e20df943dc44158.bindTooltip(\n",
       "                `&lt;div&gt;\n",
       "                     EL LLOLLY\n",
       "                 &lt;/div&gt;`,\n",
       "                {&quot;sticky&quot;: true}\n",
       "            );\n",
       "        \n",
       "    \n",
       "            var marker_b336108eecfae0fb0c8b25042d54a061 = L.marker(\n",
       "                [-40.1515807831, -72.8962419781],\n",
       "                {}\n",
       "            ).addTo(map_4f1b1c39f13bf2b36cecbaedcfc20e88);\n",
       "        \n",
       "    \n",
       "            var icon_fbadea49b6496af7840238764b90e0da = L.AwesomeMarkers.icon(\n",
       "                {&quot;extraClasses&quot;: &quot;fa-rotate-0&quot;, &quot;icon&quot;: &quot;info-sign&quot;, &quot;iconColor&quot;: &quot;white&quot;, &quot;markerColor&quot;: &quot;red&quot;, &quot;prefix&quot;: &quot;glyphicon&quot;}\n",
       "            );\n",
       "            marker_b336108eecfae0fb0c8b25042d54a061.setIcon(icon_fbadea49b6496af7840238764b90e0da);\n",
       "        \n",
       "    \n",
       "        var popup_068b440e251e9d20930d5460d5f0f202 = L.popup({&quot;maxWidth&quot;: &quot;100%&quot;});\n",
       "\n",
       "        \n",
       "            var html_adca11d471a0058635a768aedaa2e458 = $(`&lt;div id=&quot;html_adca11d471a0058635a768aedaa2e458&quot; style=&quot;width: 100.0%; height: 100.0%;&quot;&gt;Número de personas beneficiadas 1079.0&lt;/div&gt;`)[0];\n",
       "            popup_068b440e251e9d20930d5460d5f0f202.setContent(html_adca11d471a0058635a768aedaa2e458);\n",
       "        \n",
       "\n",
       "        marker_b336108eecfae0fb0c8b25042d54a061.bindPopup(popup_068b440e251e9d20930d5460d5f0f202)\n",
       "        ;\n",
       "\n",
       "        \n",
       "    \n",
       "    \n",
       "            marker_b336108eecfae0fb0c8b25042d54a061.bindTooltip(\n",
       "                `&lt;div&gt;\n",
       "                     PICHIRROPULLI\n",
       "                 &lt;/div&gt;`,\n",
       "                {&quot;sticky&quot;: true}\n",
       "            );\n",
       "        \n",
       "    \n",
       "            var marker_82d21cceb9597deb7824debd053cc188 = L.marker(\n",
       "                [-39.9784746305, -72.8320348617],\n",
       "                {}\n",
       "            ).addTo(map_4f1b1c39f13bf2b36cecbaedcfc20e88);\n",
       "        \n",
       "    \n",
       "            var icon_0496c3b56f161f792971702d8a958019 = L.AwesomeMarkers.icon(\n",
       "                {&quot;extraClasses&quot;: &quot;fa-rotate-0&quot;, &quot;icon&quot;: &quot;info-sign&quot;, &quot;iconColor&quot;: &quot;white&quot;, &quot;markerColor&quot;: &quot;red&quot;, &quot;prefix&quot;: &quot;glyphicon&quot;}\n",
       "            );\n",
       "            marker_82d21cceb9597deb7824debd053cc188.setIcon(icon_0496c3b56f161f792971702d8a958019);\n",
       "        \n",
       "    \n",
       "        var popup_9170b55200aba983cab76be1b3bbbab8 = L.popup({&quot;maxWidth&quot;: &quot;100%&quot;});\n",
       "\n",
       "        \n",
       "            var html_54863d08ef8d574d857e3ecb099e46b6 = $(`&lt;div id=&quot;html_54863d08ef8d574d857e3ecb099e46b6&quot; style=&quot;width: 100.0%; height: 100.0%;&quot;&gt;Número de personas beneficiadas 1442.0&lt;/div&gt;`)[0];\n",
       "            popup_9170b55200aba983cab76be1b3bbbab8.setContent(html_54863d08ef8d574d857e3ecb099e46b6);\n",
       "        \n",
       "\n",
       "        marker_82d21cceb9597deb7824debd053cc188.bindPopup(popup_9170b55200aba983cab76be1b3bbbab8)\n",
       "        ;\n",
       "\n",
       "        \n",
       "    \n",
       "    \n",
       "            marker_82d21cceb9597deb7824debd053cc188.bindTooltip(\n",
       "                `&lt;div&gt;\n",
       "                     REUMEN\n",
       "                 &lt;/div&gt;`,\n",
       "                {&quot;sticky&quot;: true}\n",
       "            );\n",
       "        \n",
       "    \n",
       "            var marker_5e73284dfb1a22698c37f70838a50c2b = L.marker(\n",
       "                [-40.1233358588, -72.6748177353],\n",
       "                {}\n",
       "            ).addTo(map_4f1b1c39f13bf2b36cecbaedcfc20e88);\n",
       "        \n",
       "    \n",
       "            var icon_9147554f5ba04d38c46a3bea5fefafd7 = L.AwesomeMarkers.icon(\n",
       "                {&quot;extraClasses&quot;: &quot;fa-rotate-0&quot;, &quot;icon&quot;: &quot;info-sign&quot;, &quot;iconColor&quot;: &quot;white&quot;, &quot;markerColor&quot;: &quot;green&quot;, &quot;prefix&quot;: &quot;glyphicon&quot;}\n",
       "            );\n",
       "            marker_5e73284dfb1a22698c37f70838a50c2b.setIcon(icon_9147554f5ba04d38c46a3bea5fefafd7);\n",
       "        \n",
       "    \n",
       "        var popup_dc8bd43039994edcf9d00b7b7d1f6643 = L.popup({&quot;maxWidth&quot;: &quot;100%&quot;});\n",
       "\n",
       "        \n",
       "            var html_14f78f5d7b0d17091e99bc246e28b15d = $(`&lt;div id=&quot;html_14f78f5d7b0d17091e99bc246e28b15d&quot; style=&quot;width: 100.0%; height: 100.0%;&quot;&gt;Número de personas beneficiadas 403.0&lt;/div&gt;`)[0];\n",
       "            popup_dc8bd43039994edcf9d00b7b7d1f6643.setContent(html_14f78f5d7b0d17091e99bc246e28b15d);\n",
       "        \n",
       "\n",
       "        marker_5e73284dfb1a22698c37f70838a50c2b.bindPopup(popup_dc8bd43039994edcf9d00b7b7d1f6643)\n",
       "        ;\n",
       "\n",
       "        \n",
       "    \n",
       "    \n",
       "            marker_5e73284dfb1a22698c37f70838a50c2b.bindTooltip(\n",
       "                `&lt;div&gt;\n",
       "                     SANTA FILOMENA\n",
       "                 &lt;/div&gt;`,\n",
       "                {&quot;sticky&quot;: true}\n",
       "            );\n",
       "        \n",
       "    \n",
       "            var marker_98a7744c516e345adc6d9ff6409cc3f6 = L.marker(\n",
       "                [-40.0949272285, -72.8333381781],\n",
       "                {}\n",
       "            ).addTo(map_4f1b1c39f13bf2b36cecbaedcfc20e88);\n",
       "        \n",
       "    \n",
       "            var icon_091d3c2a655b04d2c166660315a75821 = L.AwesomeMarkers.icon(\n",
       "                {&quot;extraClasses&quot;: &quot;fa-rotate-0&quot;, &quot;icon&quot;: &quot;info-sign&quot;, &quot;iconColor&quot;: &quot;white&quot;, &quot;markerColor&quot;: &quot;darkred&quot;, &quot;prefix&quot;: &quot;glyphicon&quot;}\n",
       "            );\n",
       "            marker_98a7744c516e345adc6d9ff6409cc3f6.setIcon(icon_091d3c2a655b04d2c166660315a75821);\n",
       "        \n",
       "    \n",
       "        var popup_14c75be478c1ab4262de2fc72f839056 = L.popup({&quot;maxWidth&quot;: &quot;100%&quot;});\n",
       "\n",
       "        \n",
       "            var html_ae571495974729be5a26c9eff89aac75 = $(`&lt;div id=&quot;html_ae571495974729be5a26c9eff89aac75&quot; style=&quot;width: 100.0%; height: 100.0%;&quot;&gt;Número de personas beneficiadas 220.0&lt;/div&gt;`)[0];\n",
       "            popup_14c75be478c1ab4262de2fc72f839056.setContent(html_ae571495974729be5a26c9eff89aac75);\n",
       "        \n",
       "\n",
       "        marker_98a7744c516e345adc6d9ff6409cc3f6.bindPopup(popup_14c75be478c1ab4262de2fc72f839056)\n",
       "        ;\n",
       "\n",
       "        \n",
       "    \n",
       "    \n",
       "            marker_98a7744c516e345adc6d9ff6409cc3f6.bindTooltip(\n",
       "                `&lt;div&gt;\n",
       "                     MANAO\n",
       "                 &lt;/div&gt;`,\n",
       "                {&quot;sticky&quot;: true}\n",
       "            );\n",
       "        \n",
       "    \n",
       "            var marker_854d30ebe7eb686e6b417f6c98a33c5e = L.marker(\n",
       "                [-40.1805296564, -72.5619049938],\n",
       "                {}\n",
       "            ).addTo(map_4f1b1c39f13bf2b36cecbaedcfc20e88);\n",
       "        \n",
       "    \n",
       "            var icon_d44517d7018c14518210553600b1585b = L.AwesomeMarkers.icon(\n",
       "                {&quot;extraClasses&quot;: &quot;fa-rotate-0&quot;, &quot;icon&quot;: &quot;info-sign&quot;, &quot;iconColor&quot;: &quot;white&quot;, &quot;markerColor&quot;: &quot;green&quot;, &quot;prefix&quot;: &quot;glyphicon&quot;}\n",
       "            );\n",
       "            marker_854d30ebe7eb686e6b417f6c98a33c5e.setIcon(icon_d44517d7018c14518210553600b1585b);\n",
       "        \n",
       "    \n",
       "        var popup_8e4bc101c0100f8c4af29e8cefb12518 = L.popup({&quot;maxWidth&quot;: &quot;100%&quot;});\n",
       "\n",
       "        \n",
       "            var html_6f898cbb4b9e0643af9359d2c7aa5878 = $(`&lt;div id=&quot;html_6f898cbb4b9e0643af9359d2c7aa5878&quot; style=&quot;width: 100.0%; height: 100.0%;&quot;&gt;Número de personas beneficiadas 394.0&lt;/div&gt;`)[0];\n",
       "            popup_8e4bc101c0100f8c4af29e8cefb12518.setContent(html_6f898cbb4b9e0643af9359d2c7aa5878);\n",
       "        \n",
       "\n",
       "        marker_854d30ebe7eb686e6b417f6c98a33c5e.bindPopup(popup_8e4bc101c0100f8c4af29e8cefb12518)\n",
       "        ;\n",
       "\n",
       "        \n",
       "    \n",
       "    \n",
       "            marker_854d30ebe7eb686e6b417f6c98a33c5e.bindTooltip(\n",
       "                `&lt;div&gt;\n",
       "                     SANTA ROSA CHICA\n",
       "                 &lt;/div&gt;`,\n",
       "                {&quot;sticky&quot;: true}\n",
       "            );\n",
       "        \n",
       "    \n",
       "            var marker_6842c0677b8f6a17c4b357af9bb48c5c = L.marker(\n",
       "                [-40.1380925113, -72.5825449417],\n",
       "                {}\n",
       "            ).addTo(map_4f1b1c39f13bf2b36cecbaedcfc20e88);\n",
       "        \n",
       "    \n",
       "            var icon_4ae1160b416a4b19d1b46ed9a860cae3 = L.AwesomeMarkers.icon(\n",
       "                {&quot;extraClasses&quot;: &quot;fa-rotate-0&quot;, &quot;icon&quot;: &quot;info-sign&quot;, &quot;iconColor&quot;: &quot;white&quot;, &quot;markerColor&quot;: &quot;green&quot;, &quot;prefix&quot;: &quot;glyphicon&quot;}\n",
       "            );\n",
       "            marker_6842c0677b8f6a17c4b357af9bb48c5c.setIcon(icon_4ae1160b416a4b19d1b46ed9a860cae3);\n",
       "        \n",
       "    \n",
       "        var popup_48dc5f880e551f08daa30e151d7be3dc = L.popup({&quot;maxWidth&quot;: &quot;100%&quot;});\n",
       "\n",
       "        \n",
       "            var html_33d76b68213f6db7af7dfe2956b191ef = $(`&lt;div id=&quot;html_33d76b68213f6db7af7dfe2956b191ef&quot; style=&quot;width: 100.0%; height: 100.0%;&quot;&gt;Número de personas beneficiadas 319.0&lt;/div&gt;`)[0];\n",
       "            popup_48dc5f880e551f08daa30e151d7be3dc.setContent(html_33d76b68213f6db7af7dfe2956b191ef);\n",
       "        \n",
       "\n",
       "        marker_6842c0677b8f6a17c4b357af9bb48c5c.bindPopup(popup_48dc5f880e551f08daa30e151d7be3dc)\n",
       "        ;\n",
       "\n",
       "        \n",
       "    \n",
       "    \n",
       "            marker_6842c0677b8f6a17c4b357af9bb48c5c.bindTooltip(\n",
       "                `&lt;div&gt;\n",
       "                     SANTA ROSA GRANDE\n",
       "                 &lt;/div&gt;`,\n",
       "                {&quot;sticky&quot;: true}\n",
       "            );\n",
       "        \n",
       "    \n",
       "            var marker_50296557d938e7382431976e4817e20d = L.marker(\n",
       "                [-40.0154940534, -72.7914597178],\n",
       "                {}\n",
       "            ).addTo(map_4f1b1c39f13bf2b36cecbaedcfc20e88);\n",
       "        \n",
       "    \n",
       "            var icon_c42d051cabe0472d86c2cf6f8f275d85 = L.AwesomeMarkers.icon(\n",
       "                {&quot;extraClasses&quot;: &quot;fa-rotate-0&quot;, &quot;icon&quot;: &quot;info-sign&quot;, &quot;iconColor&quot;: &quot;white&quot;, &quot;markerColor&quot;: &quot;orange&quot;, &quot;prefix&quot;: &quot;glyphicon&quot;}\n",
       "            );\n",
       "            marker_50296557d938e7382431976e4817e20d.setIcon(icon_c42d051cabe0472d86c2cf6f8f275d85);\n",
       "        \n",
       "    \n",
       "        var popup_c922ae8945409d1e25b352106a20a2bd = L.popup({&quot;maxWidth&quot;: &quot;100%&quot;});\n",
       "\n",
       "        \n",
       "            var html_76f7ebd4e1fcab02d4ea3938384d847d = $(`&lt;div id=&quot;html_76f7ebd4e1fcab02d4ea3938384d847d&quot; style=&quot;width: 100.0%; height: 100.0%;&quot;&gt;Número de personas beneficiadas 710.0&lt;/div&gt;`)[0];\n",
       "            popup_c922ae8945409d1e25b352106a20a2bd.setContent(html_76f7ebd4e1fcab02d4ea3938384d847d);\n",
       "        \n",
       "\n",
       "        marker_50296557d938e7382431976e4817e20d.bindPopup(popup_c922ae8945409d1e25b352106a20a2bd)\n",
       "        ;\n",
       "\n",
       "        \n",
       "    \n",
       "    \n",
       "            marker_50296557d938e7382431976e4817e20d.bindTooltip(\n",
       "                `&lt;div&gt;\n",
       "                     LUMACO PAILLACO\n",
       "                 &lt;/div&gt;`,\n",
       "                {&quot;sticky&quot;: true}\n",
       "            );\n",
       "        \n",
       "    \n",
       "            var marker_8df259ab22cd1d891522751d4ad9e8c1 = L.marker(\n",
       "                [-40.0746752187, -72.6747765849],\n",
       "                {}\n",
       "            ).addTo(map_4f1b1c39f13bf2b36cecbaedcfc20e88);\n",
       "        \n",
       "    \n",
       "            var icon_8b2df0a042310d50ae95d7acea2536dd = L.AwesomeMarkers.icon(\n",
       "                {&quot;extraClasses&quot;: &quot;fa-rotate-0&quot;, &quot;icon&quot;: &quot;info-sign&quot;, &quot;iconColor&quot;: &quot;white&quot;, &quot;markerColor&quot;: &quot;darkred&quot;, &quot;prefix&quot;: &quot;glyphicon&quot;}\n",
       "            );\n",
       "            marker_8df259ab22cd1d891522751d4ad9e8c1.setIcon(icon_8b2df0a042310d50ae95d7acea2536dd);\n",
       "        \n",
       "    \n",
       "        var popup_7589c4e222dc46f8b8fb6587f4230a22 = L.popup({&quot;maxWidth&quot;: &quot;100%&quot;});\n",
       "\n",
       "        \n",
       "            var html_0302c547beee932149a65a6ea3b8800f = $(`&lt;div id=&quot;html_0302c547beee932149a65a6ea3b8800f&quot; style=&quot;width: 100.0%; height: 100.0%;&quot;&gt;Número de personas beneficiadas 155.0&lt;/div&gt;`)[0];\n",
       "            popup_7589c4e222dc46f8b8fb6587f4230a22.setContent(html_0302c547beee932149a65a6ea3b8800f);\n",
       "        \n",
       "\n",
       "        marker_8df259ab22cd1d891522751d4ad9e8c1.bindPopup(popup_7589c4e222dc46f8b8fb6587f4230a22)\n",
       "        ;\n",
       "\n",
       "        \n",
       "    \n",
       "    \n",
       "            marker_8df259ab22cd1d891522751d4ad9e8c1.bindTooltip(\n",
       "                `&lt;div&gt;\n",
       "                     EL MAITEN\n",
       "                 &lt;/div&gt;`,\n",
       "                {&quot;sticky&quot;: true}\n",
       "            );\n",
       "        \n",
       "    \n",
       "            var marker_51bcab2ec85ded72285430033772a364 = L.marker(\n",
       "                [-40.1221748177, -72.6855485214],\n",
       "                {}\n",
       "            ).addTo(map_4f1b1c39f13bf2b36cecbaedcfc20e88);\n",
       "        \n",
       "    \n",
       "            var icon_605bd3567dcc1206f65118929a4edd7c = L.AwesomeMarkers.icon(\n",
       "                {&quot;extraClasses&quot;: &quot;fa-rotate-0&quot;, &quot;icon&quot;: &quot;info-sign&quot;, &quot;iconColor&quot;: &quot;white&quot;, &quot;markerColor&quot;: &quot;darkred&quot;, &quot;prefix&quot;: &quot;glyphicon&quot;}\n",
       "            );\n",
       "            marker_51bcab2ec85ded72285430033772a364.setIcon(icon_605bd3567dcc1206f65118929a4edd7c);\n",
       "        \n",
       "    \n",
       "        var popup_a462bd01a46de97a9351936409655762 = L.popup({&quot;maxWidth&quot;: &quot;100%&quot;});\n",
       "\n",
       "        \n",
       "            var html_a582da38037f4a53e8c5429bca63bcb6 = $(`&lt;div id=&quot;html_a582da38037f4a53e8c5429bca63bcb6&quot; style=&quot;width: 100.0%; height: 100.0%;&quot;&gt;Número de personas beneficiadas 211.0&lt;/div&gt;`)[0];\n",
       "            popup_a462bd01a46de97a9351936409655762.setContent(html_a582da38037f4a53e8c5429bca63bcb6);\n",
       "        \n",
       "\n",
       "        marker_51bcab2ec85ded72285430033772a364.bindPopup(popup_a462bd01a46de97a9351936409655762)\n",
       "        ;\n",
       "\n",
       "        \n",
       "    \n",
       "    \n",
       "            marker_51bcab2ec85ded72285430033772a364.bindTooltip(\n",
       "                `&lt;div&gt;\n",
       "                     SANTA FILOMENA II\n",
       "                 &lt;/div&gt;`,\n",
       "                {&quot;sticky&quot;: true}\n",
       "            );\n",
       "        \n",
       "    \n",
       "            var marker_897320e23fc9ab238188156d23645985 = L.marker(\n",
       "                [-39.8074856345, -72.9572455712],\n",
       "                {}\n",
       "            ).addTo(map_4f1b1c39f13bf2b36cecbaedcfc20e88);\n",
       "        \n",
       "    \n",
       "            var icon_16e4c192e14501ba3c0180e3694fa177 = L.AwesomeMarkers.icon(\n",
       "                {&quot;extraClasses&quot;: &quot;fa-rotate-0&quot;, &quot;icon&quot;: &quot;info-sign&quot;, &quot;iconColor&quot;: &quot;white&quot;, &quot;markerColor&quot;: &quot;red&quot;, &quot;prefix&quot;: &quot;glyphicon&quot;}\n",
       "            );\n",
       "            marker_897320e23fc9ab238188156d23645985.setIcon(icon_16e4c192e14501ba3c0180e3694fa177);\n",
       "        \n",
       "    \n",
       "        var popup_8e725e28d66056a1b6c787c8f9e7e893 = L.popup({&quot;maxWidth&quot;: &quot;100%&quot;});\n",
       "\n",
       "        \n",
       "            var html_e324b50ff751a34ae65d7d2d36895305 = $(`&lt;div id=&quot;html_e324b50ff751a34ae65d7d2d36895305&quot; style=&quot;width: 100.0%; height: 100.0%;&quot;&gt;Número de personas beneficiadas 1414.0&lt;/div&gt;`)[0];\n",
       "            popup_8e725e28d66056a1b6c787c8f9e7e893.setContent(html_e324b50ff751a34ae65d7d2d36895305);\n",
       "        \n",
       "\n",
       "        marker_897320e23fc9ab238188156d23645985.bindPopup(popup_8e725e28d66056a1b6c787c8f9e7e893)\n",
       "        ;\n",
       "\n",
       "        \n",
       "    \n",
       "    \n",
       "            marker_897320e23fc9ab238188156d23645985.bindTooltip(\n",
       "                `&lt;div&gt;\n",
       "                     ANTILHUE\n",
       "                 &lt;/div&gt;`,\n",
       "                {&quot;sticky&quot;: true}\n",
       "            );\n",
       "        \n",
       "    \n",
       "            var marker_4f5ed6db17fa18ba936cf0afb9a5697e = L.marker(\n",
       "                [-39.8710682914, -72.6678013129],\n",
       "                {}\n",
       "            ).addTo(map_4f1b1c39f13bf2b36cecbaedcfc20e88);\n",
       "        \n",
       "    \n",
       "            var icon_ce925f156c6cf735fa970191d1e83a21 = L.AwesomeMarkers.icon(\n",
       "                {&quot;extraClasses&quot;: &quot;fa-rotate-0&quot;, &quot;icon&quot;: &quot;info-sign&quot;, &quot;iconColor&quot;: &quot;white&quot;, &quot;markerColor&quot;: &quot;green&quot;, &quot;prefix&quot;: &quot;glyphicon&quot;}\n",
       "            );\n",
       "            marker_4f5ed6db17fa18ba936cf0afb9a5697e.setIcon(icon_ce925f156c6cf735fa970191d1e83a21);\n",
       "        \n",
       "    \n",
       "        var popup_3ccb6d08a9daf7585bf2f579a9fe98db = L.popup({&quot;maxWidth&quot;: &quot;100%&quot;});\n",
       "\n",
       "        \n",
       "            var html_791e1e5420e7e30be69fefaf97b37e8a = $(`&lt;div id=&quot;html_791e1e5420e7e30be69fefaf97b37e8a&quot; style=&quot;width: 100.0%; height: 100.0%;&quot;&gt;Número de personas beneficiadas 474.0&lt;/div&gt;`)[0];\n",
       "            popup_3ccb6d08a9daf7585bf2f579a9fe98db.setContent(html_791e1e5420e7e30be69fefaf97b37e8a);\n",
       "        \n",
       "\n",
       "        marker_4f5ed6db17fa18ba936cf0afb9a5697e.bindPopup(popup_3ccb6d08a9daf7585bf2f579a9fe98db)\n",
       "        ;\n",
       "\n",
       "        \n",
       "    \n",
       "    \n",
       "            marker_4f5ed6db17fa18ba936cf0afb9a5697e.bindTooltip(\n",
       "                `&lt;div&gt;\n",
       "                     FOLILCO LOS LAGOS\n",
       "                 &lt;/div&gt;`,\n",
       "                {&quot;sticky&quot;: true}\n",
       "            );\n",
       "        \n",
       "    \n",
       "            var marker_2a2068a79a7266de9ed0d87aff65383a = L.marker(\n",
       "                [-39.9084433218, -72.5733916686],\n",
       "                {}\n",
       "            ).addTo(map_4f1b1c39f13bf2b36cecbaedcfc20e88);\n",
       "        \n",
       "    \n",
       "            var icon_117495d7b82bfd7fd0ebab505680c506 = L.AwesomeMarkers.icon(\n",
       "                {&quot;extraClasses&quot;: &quot;fa-rotate-0&quot;, &quot;icon&quot;: &quot;info-sign&quot;, &quot;iconColor&quot;: &quot;white&quot;, &quot;markerColor&quot;: &quot;darkred&quot;, &quot;prefix&quot;: &quot;glyphicon&quot;}\n",
       "            );\n",
       "            marker_2a2068a79a7266de9ed0d87aff65383a.setIcon(icon_117495d7b82bfd7fd0ebab505680c506);\n",
       "        \n",
       "    \n",
       "        var popup_dcc3f27f3dfb061fbad938af01b6036e = L.popup({&quot;maxWidth&quot;: &quot;100%&quot;});\n",
       "\n",
       "        \n",
       "            var html_0e9d4110486d6a5f1d9d03c249f16950 = $(`&lt;div id=&quot;html_0e9d4110486d6a5f1d9d03c249f16950&quot; style=&quot;width: 100.0%; height: 100.0%;&quot;&gt;Número de personas beneficiadas 149.0&lt;/div&gt;`)[0];\n",
       "            popup_dcc3f27f3dfb061fbad938af01b6036e.setContent(html_0e9d4110486d6a5f1d9d03c249f16950);\n",
       "        \n",
       "\n",
       "        marker_2a2068a79a7266de9ed0d87aff65383a.bindPopup(popup_dcc3f27f3dfb061fbad938af01b6036e)\n",
       "        ;\n",
       "\n",
       "        \n",
       "    \n",
       "    \n",
       "            marker_2a2068a79a7266de9ed0d87aff65383a.bindTooltip(\n",
       "                `&lt;div&gt;\n",
       "                     QUILQUILCO\n",
       "                 &lt;/div&gt;`,\n",
       "                {&quot;sticky&quot;: true}\n",
       "            );\n",
       "        \n",
       "    \n",
       "            var marker_6d2bd503c5422a351c97c91af110d1f9 = L.marker(\n",
       "                [-39.8171126188, -72.4425065285],\n",
       "                {}\n",
       "            ).addTo(map_4f1b1c39f13bf2b36cecbaedcfc20e88);\n",
       "        \n",
       "    \n",
       "            var icon_0dc59e128168b9e6a7002e4a0d4be8ca = L.AwesomeMarkers.icon(\n",
       "                {&quot;extraClasses&quot;: &quot;fa-rotate-0&quot;, &quot;icon&quot;: &quot;info-sign&quot;, &quot;iconColor&quot;: &quot;white&quot;, &quot;markerColor&quot;: &quot;darkred&quot;, &quot;prefix&quot;: &quot;glyphicon&quot;}\n",
       "            );\n",
       "            marker_6d2bd503c5422a351c97c91af110d1f9.setIcon(icon_0dc59e128168b9e6a7002e4a0d4be8ca);\n",
       "        \n",
       "    \n",
       "        var popup_89490a73570fb5185e6c90fa2a44d9c1 = L.popup({&quot;maxWidth&quot;: &quot;100%&quot;});\n",
       "\n",
       "        \n",
       "            var html_a6eb1c9147dfa5a6e9fbb38c84a7a0b6 = $(`&lt;div id=&quot;html_a6eb1c9147dfa5a6e9fbb38c84a7a0b6&quot; style=&quot;width: 100.0%; height: 100.0%;&quot;&gt;Número de personas beneficiadas 208.0&lt;/div&gt;`)[0];\n",
       "            popup_89490a73570fb5185e6c90fa2a44d9c1.setContent(html_a6eb1c9147dfa5a6e9fbb38c84a7a0b6);\n",
       "        \n",
       "\n",
       "        marker_6d2bd503c5422a351c97c91af110d1f9.bindPopup(popup_89490a73570fb5185e6c90fa2a44d9c1)\n",
       "        ;\n",
       "\n",
       "        \n",
       "    \n",
       "    \n",
       "            marker_6d2bd503c5422a351c97c91af110d1f9.bindTooltip(\n",
       "                `&lt;div&gt;\n",
       "                     RIÑIHUE\n",
       "                 &lt;/div&gt;`,\n",
       "                {&quot;sticky&quot;: true}\n",
       "            );\n",
       "        \n",
       "    \n",
       "            var marker_726a074399d4aaf7f91631ed27f2deec = L.marker(\n",
       "                [-39.7751787818, -72.6519491619],\n",
       "                {}\n",
       "            ).addTo(map_4f1b1c39f13bf2b36cecbaedcfc20e88);\n",
       "        \n",
       "    \n",
       "            var icon_b80bad4c8192cd19fabb206d204cf432 = L.AwesomeMarkers.icon(\n",
       "                {&quot;extraClasses&quot;: &quot;fa-rotate-0&quot;, &quot;icon&quot;: &quot;info-sign&quot;, &quot;iconColor&quot;: &quot;white&quot;, &quot;markerColor&quot;: &quot;green&quot;, &quot;prefix&quot;: &quot;glyphicon&quot;}\n",
       "            );\n",
       "            marker_726a074399d4aaf7f91631ed27f2deec.setIcon(icon_b80bad4c8192cd19fabb206d204cf432);\n",
       "        \n",
       "    \n",
       "        var popup_c2242c2aa2ae0f002174de35afff97c7 = L.popup({&quot;maxWidth&quot;: &quot;100%&quot;});\n",
       "\n",
       "        \n",
       "            var html_60e9615c8f4037c57602c854ce1a632a = $(`&lt;div id=&quot;html_60e9615c8f4037c57602c854ce1a632a&quot; style=&quot;width: 100.0%; height: 100.0%;&quot;&gt;Número de personas beneficiadas 434.0&lt;/div&gt;`)[0];\n",
       "            popup_c2242c2aa2ae0f002174de35afff97c7.setContent(html_60e9615c8f4037c57602c854ce1a632a);\n",
       "        \n",
       "\n",
       "        marker_726a074399d4aaf7f91631ed27f2deec.bindPopup(popup_c2242c2aa2ae0f002174de35afff97c7)\n",
       "        ;\n",
       "\n",
       "        \n",
       "    \n",
       "    \n",
       "            marker_726a074399d4aaf7f91631ed27f2deec.bindTooltip(\n",
       "                `&lt;div&gt;\n",
       "                     USTARITZ\n",
       "                 &lt;/div&gt;`,\n",
       "                {&quot;sticky&quot;: true}\n",
       "            );\n",
       "        \n",
       "    \n",
       "            var marker_c6db3436365c28e0641fc5e5ed0e2ac9 = L.marker(\n",
       "                [-39.9987530843, -72.7108188025],\n",
       "                {}\n",
       "            ).addTo(map_4f1b1c39f13bf2b36cecbaedcfc20e88);\n",
       "        \n",
       "    \n",
       "            var icon_3b06431153a4667fb0144548cd4e99e9 = L.AwesomeMarkers.icon(\n",
       "                {&quot;extraClasses&quot;: &quot;fa-rotate-0&quot;, &quot;icon&quot;: &quot;info-sign&quot;, &quot;iconColor&quot;: &quot;white&quot;, &quot;markerColor&quot;: &quot;orange&quot;, &quot;prefix&quot;: &quot;glyphicon&quot;}\n",
       "            );\n",
       "            marker_c6db3436365c28e0641fc5e5ed0e2ac9.setIcon(icon_3b06431153a4667fb0144548cd4e99e9);\n",
       "        \n",
       "    \n",
       "        var popup_f63609dccdac170c7d6839e28b8848a5 = L.popup({&quot;maxWidth&quot;: &quot;100%&quot;});\n",
       "\n",
       "        \n",
       "            var html_a3e1cd72266dfa1b748a1c7cd9e5a3ca = $(`&lt;div id=&quot;html_a3e1cd72266dfa1b748a1c7cd9e5a3ca&quot; style=&quot;width: 100.0%; height: 100.0%;&quot;&gt;Número de personas beneficiadas 592.0&lt;/div&gt;`)[0];\n",
       "            popup_f63609dccdac170c7d6839e28b8848a5.setContent(html_a3e1cd72266dfa1b748a1c7cd9e5a3ca);\n",
       "        \n",
       "\n",
       "        marker_c6db3436365c28e0641fc5e5ed0e2ac9.bindPopup(popup_f63609dccdac170c7d6839e28b8848a5)\n",
       "        ;\n",
       "\n",
       "        \n",
       "    \n",
       "    \n",
       "            marker_c6db3436365c28e0641fc5e5ed0e2ac9.bindTooltip(\n",
       "                `&lt;div&gt;\n",
       "                     EL SALTO\n",
       "                 &lt;/div&gt;`,\n",
       "                {&quot;sticky&quot;: true}\n",
       "            );\n",
       "        \n",
       "    \n",
       "            var marker_6e14fde7f58bcf9407c9f158b54e65aa = L.marker(\n",
       "                [-40.0154665081, -72.5215180883],\n",
       "                {}\n",
       "            ).addTo(map_4f1b1c39f13bf2b36cecbaedcfc20e88);\n",
       "        \n",
       "    \n",
       "            var icon_557e46807fefe3720533080573fcb83a = L.AwesomeMarkers.icon(\n",
       "                {&quot;extraClasses&quot;: &quot;fa-rotate-0&quot;, &quot;icon&quot;: &quot;info-sign&quot;, &quot;iconColor&quot;: &quot;white&quot;, &quot;markerColor&quot;: &quot;green&quot;, &quot;prefix&quot;: &quot;glyphicon&quot;}\n",
       "            );\n",
       "            marker_6e14fde7f58bcf9407c9f158b54e65aa.setIcon(icon_557e46807fefe3720533080573fcb83a);\n",
       "        \n",
       "    \n",
       "        var popup_18307c8426b17b13cfdbe3ce70b27cad = L.popup({&quot;maxWidth&quot;: &quot;100%&quot;});\n",
       "\n",
       "        \n",
       "            var html_9a266aec452ac2f169aed7d049ad8704 = $(`&lt;div id=&quot;html_9a266aec452ac2f169aed7d049ad8704&quot; style=&quot;width: 100.0%; height: 100.0%;&quot;&gt;Número de personas beneficiadas 434.0&lt;/div&gt;`)[0];\n",
       "            popup_18307c8426b17b13cfdbe3ce70b27cad.setContent(html_9a266aec452ac2f169aed7d049ad8704);\n",
       "        \n",
       "\n",
       "        marker_6e14fde7f58bcf9407c9f158b54e65aa.bindPopup(popup_18307c8426b17b13cfdbe3ce70b27cad)\n",
       "        ;\n",
       "\n",
       "        \n",
       "    \n",
       "    \n",
       "            marker_6e14fde7f58bcf9407c9f158b54e65aa.bindTooltip(\n",
       "                `&lt;div&gt;\n",
       "                     PELLINADA LAS QUINIENTAS\n",
       "                 &lt;/div&gt;`,\n",
       "                {&quot;sticky&quot;: true}\n",
       "            );\n",
       "        \n",
       "    \n",
       "            var marker_db5c1c09d887ba9058f40f49446a2a9a = L.marker(\n",
       "                [-39.8526730412, -72.7929315347],\n",
       "                {}\n",
       "            ).addTo(map_4f1b1c39f13bf2b36cecbaedcfc20e88);\n",
       "        \n",
       "    \n",
       "            var icon_e81faeaefaf03cb966dc8824afffee5e = L.AwesomeMarkers.icon(\n",
       "                {&quot;extraClasses&quot;: &quot;fa-rotate-0&quot;, &quot;icon&quot;: &quot;info-sign&quot;, &quot;iconColor&quot;: &quot;white&quot;, &quot;markerColor&quot;: &quot;orange&quot;, &quot;prefix&quot;: &quot;glyphicon&quot;}\n",
       "            );\n",
       "            marker_db5c1c09d887ba9058f40f49446a2a9a.setIcon(icon_e81faeaefaf03cb966dc8824afffee5e);\n",
       "        \n",
       "    \n",
       "        var popup_cda591c50f68a57a9fd9796a4bf70ded = L.popup({&quot;maxWidth&quot;: &quot;100%&quot;});\n",
       "\n",
       "        \n",
       "            var html_20bba4b2caba36a7af833958c7421248 = $(`&lt;div id=&quot;html_20bba4b2caba36a7af833958c7421248&quot; style=&quot;width: 100.0%; height: 100.0%;&quot;&gt;Número de personas beneficiadas 729.0&lt;/div&gt;`)[0];\n",
       "            popup_cda591c50f68a57a9fd9796a4bf70ded.setContent(html_20bba4b2caba36a7af833958c7421248);\n",
       "        \n",
       "\n",
       "        marker_db5c1c09d887ba9058f40f49446a2a9a.bindPopup(popup_cda591c50f68a57a9fd9796a4bf70ded)\n",
       "        ;\n",
       "\n",
       "        \n",
       "    \n",
       "    \n",
       "            marker_db5c1c09d887ba9058f40f49446a2a9a.bindTooltip(\n",
       "                `&lt;div&gt;\n",
       "                     PANCUL\n",
       "                 &lt;/div&gt;`,\n",
       "                {&quot;sticky&quot;: true}\n",
       "            );\n",
       "        \n",
       "    \n",
       "            var marker_9d033e6c173e20fe66a8e422882414ed = L.marker(\n",
       "                [-39.8705154943, -72.781619174],\n",
       "                {}\n",
       "            ).addTo(map_4f1b1c39f13bf2b36cecbaedcfc20e88);\n",
       "        \n",
       "    \n",
       "            var icon_77ed9c1728b7e2def0a564ef023792b0 = L.AwesomeMarkers.icon(\n",
       "                {&quot;extraClasses&quot;: &quot;fa-rotate-0&quot;, &quot;icon&quot;: &quot;info-sign&quot;, &quot;iconColor&quot;: &quot;white&quot;, &quot;markerColor&quot;: &quot;green&quot;, &quot;prefix&quot;: &quot;glyphicon&quot;}\n",
       "            );\n",
       "            marker_9d033e6c173e20fe66a8e422882414ed.setIcon(icon_77ed9c1728b7e2def0a564ef023792b0);\n",
       "        \n",
       "    \n",
       "        var popup_52257583833b4fdb4887168f96bd0dd0 = L.popup({&quot;maxWidth&quot;: &quot;100%&quot;});\n",
       "\n",
       "        \n",
       "            var html_3db1d3b2f7f35f58e26b42c6a3de8e7d = $(`&lt;div id=&quot;html_3db1d3b2f7f35f58e26b42c6a3de8e7d&quot; style=&quot;width: 100.0%; height: 100.0%;&quot;&gt;Número de personas beneficiadas 456.0&lt;/div&gt;`)[0];\n",
       "            popup_52257583833b4fdb4887168f96bd0dd0.setContent(html_3db1d3b2f7f35f58e26b42c6a3de8e7d);\n",
       "        \n",
       "\n",
       "        marker_9d033e6c173e20fe66a8e422882414ed.bindPopup(popup_52257583833b4fdb4887168f96bd0dd0)\n",
       "        ;\n",
       "\n",
       "        \n",
       "    \n",
       "    \n",
       "            marker_9d033e6c173e20fe66a8e422882414ed.bindTooltip(\n",
       "                `&lt;div&gt;\n",
       "                     LOS COLIGÜES\n",
       "                 &lt;/div&gt;`,\n",
       "                {&quot;sticky&quot;: true}\n",
       "            );\n",
       "        \n",
       "    \n",
       "            var marker_16865465423c5590374ac43fe920b1f8 = L.marker(\n",
       "                [-39.8817714432, -72.6708273322],\n",
       "                {}\n",
       "            ).addTo(map_4f1b1c39f13bf2b36cecbaedcfc20e88);\n",
       "        \n",
       "    \n",
       "            var icon_af57b8f6ed4f95502b3514c1dc6c18c8 = L.AwesomeMarkers.icon(\n",
       "                {&quot;extraClasses&quot;: &quot;fa-rotate-0&quot;, &quot;icon&quot;: &quot;info-sign&quot;, &quot;iconColor&quot;: &quot;white&quot;, &quot;markerColor&quot;: &quot;darkred&quot;, &quot;prefix&quot;: &quot;glyphicon&quot;}\n",
       "            );\n",
       "            marker_16865465423c5590374ac43fe920b1f8.setIcon(icon_af57b8f6ed4f95502b3514c1dc6c18c8);\n",
       "        \n",
       "    \n",
       "        var popup_3b628ab6f00368658e34ccbef2303bb5 = L.popup({&quot;maxWidth&quot;: &quot;100%&quot;});\n",
       "\n",
       "        \n",
       "            var html_b0a1817be0cc820354a2d54fc6374592 = $(`&lt;div id=&quot;html_b0a1817be0cc820354a2d54fc6374592&quot; style=&quot;width: 100.0%; height: 100.0%;&quot;&gt;Número de personas beneficiadas 298.0&lt;/div&gt;`)[0];\n",
       "            popup_3b628ab6f00368658e34ccbef2303bb5.setContent(html_b0a1817be0cc820354a2d54fc6374592);\n",
       "        \n",
       "\n",
       "        marker_16865465423c5590374ac43fe920b1f8.bindPopup(popup_3b628ab6f00368658e34ccbef2303bb5)\n",
       "        ;\n",
       "\n",
       "        \n",
       "    \n",
       "    \n",
       "            marker_16865465423c5590374ac43fe920b1f8.bindTooltip(\n",
       "                `&lt;div&gt;\n",
       "                     COLO COLO\n",
       "                 &lt;/div&gt;`,\n",
       "                {&quot;sticky&quot;: true}\n",
       "            );\n",
       "        \n",
       "    \n",
       "            var marker_79970812e007d8d1e628f31fdc6a74dc = L.marker(\n",
       "                [-39.9027809062, -72.5930946759],\n",
       "                {}\n",
       "            ).addTo(map_4f1b1c39f13bf2b36cecbaedcfc20e88);\n",
       "        \n",
       "    \n",
       "            var icon_cdc30704bcc17204fefa4b7de646e8f4 = L.AwesomeMarkers.icon(\n",
       "                {&quot;extraClasses&quot;: &quot;fa-rotate-0&quot;, &quot;icon&quot;: &quot;info-sign&quot;, &quot;iconColor&quot;: &quot;white&quot;, &quot;markerColor&quot;: &quot;darkred&quot;, &quot;prefix&quot;: &quot;glyphicon&quot;}\n",
       "            );\n",
       "            marker_79970812e007d8d1e628f31fdc6a74dc.setIcon(icon_cdc30704bcc17204fefa4b7de646e8f4);\n",
       "        \n",
       "    \n",
       "        var popup_d4dba8f73f52bd878dce652298c356f5 = L.popup({&quot;maxWidth&quot;: &quot;100%&quot;});\n",
       "\n",
       "        \n",
       "            var html_3a223ee816ef09d61ff98fab87510d61 = $(`&lt;div id=&quot;html_3a223ee816ef09d61ff98fab87510d61&quot; style=&quot;width: 100.0%; height: 100.0%;&quot;&gt;Número de personas beneficiadas 276.0&lt;/div&gt;`)[0];\n",
       "            popup_d4dba8f73f52bd878dce652298c356f5.setContent(html_3a223ee816ef09d61ff98fab87510d61);\n",
       "        \n",
       "\n",
       "        marker_79970812e007d8d1e628f31fdc6a74dc.bindPopup(popup_d4dba8f73f52bd878dce652298c356f5)\n",
       "        ;\n",
       "\n",
       "        \n",
       "    \n",
       "    \n",
       "            marker_79970812e007d8d1e628f31fdc6a74dc.bindTooltip(\n",
       "                `&lt;div&gt;\n",
       "                     LAS HUELLLAS\n",
       "                 &lt;/div&gt;`,\n",
       "                {&quot;sticky&quot;: true}\n",
       "            );\n",
       "        \n",
       "    \n",
       "            var marker_851017f2f6894a399156e7b340515811 = L.marker(\n",
       "                [-39.8171525324, -72.6981700465],\n",
       "                {}\n",
       "            ).addTo(map_4f1b1c39f13bf2b36cecbaedcfc20e88);\n",
       "        \n",
       "    \n",
       "            var icon_4e42ce7dd7defee8167525fe3492c58e = L.AwesomeMarkers.icon(\n",
       "                {&quot;extraClasses&quot;: &quot;fa-rotate-0&quot;, &quot;icon&quot;: &quot;info-sign&quot;, &quot;iconColor&quot;: &quot;white&quot;, &quot;markerColor&quot;: &quot;green&quot;, &quot;prefix&quot;: &quot;glyphicon&quot;}\n",
       "            );\n",
       "            marker_851017f2f6894a399156e7b340515811.setIcon(icon_4e42ce7dd7defee8167525fe3492c58e);\n",
       "        \n",
       "    \n",
       "        var popup_0dd394abdd5b6ead5c2d1a5aa49e0e94 = L.popup({&quot;maxWidth&quot;: &quot;100%&quot;});\n",
       "\n",
       "        \n",
       "            var html_e9b483589c07d04f69445acde567d57a = $(`&lt;div id=&quot;html_e9b483589c07d04f69445acde567d57a&quot; style=&quot;width: 100.0%; height: 100.0%;&quot;&gt;Número de personas beneficiadas 375.0&lt;/div&gt;`)[0];\n",
       "            popup_0dd394abdd5b6ead5c2d1a5aa49e0e94.setContent(html_e9b483589c07d04f69445acde567d57a);\n",
       "        \n",
       "\n",
       "        marker_851017f2f6894a399156e7b340515811.bindPopup(popup_0dd394abdd5b6ead5c2d1a5aa49e0e94)\n",
       "        ;\n",
       "\n",
       "        \n",
       "    \n",
       "    \n",
       "            marker_851017f2f6894a399156e7b340515811.bindTooltip(\n",
       "                `&lt;div&gt;\n",
       "                     San Pedro\n",
       "                 &lt;/div&gt;`,\n",
       "                {&quot;sticky&quot;: true}\n",
       "            );\n",
       "        \n",
       "    \n",
       "            var marker_0e588a1637ba49d2947c5f23e26de6fc = L.marker(\n",
       "                [-39.9151109593, -72.78974687],\n",
       "                {}\n",
       "            ).addTo(map_4f1b1c39f13bf2b36cecbaedcfc20e88);\n",
       "        \n",
       "    \n",
       "            var icon_898bdce94deb1da1a43fe75feb822d8f = L.AwesomeMarkers.icon(\n",
       "                {&quot;extraClasses&quot;: &quot;fa-rotate-0&quot;, &quot;icon&quot;: &quot;info-sign&quot;, &quot;iconColor&quot;: &quot;white&quot;, &quot;markerColor&quot;: &quot;green&quot;, &quot;prefix&quot;: &quot;glyphicon&quot;}\n",
       "            );\n",
       "            marker_0e588a1637ba49d2947c5f23e26de6fc.setIcon(icon_898bdce94deb1da1a43fe75feb822d8f);\n",
       "        \n",
       "    \n",
       "        var popup_8d24434c672f9ec9b3c47a23050fb42c = L.popup({&quot;maxWidth&quot;: &quot;100%&quot;});\n",
       "\n",
       "        \n",
       "            var html_4f3934c09873248e8787a570a2bf8039 = $(`&lt;div id=&quot;html_4f3934c09873248e8787a570a2bf8039&quot; style=&quot;width: 100.0%; height: 100.0%;&quot;&gt;Número de personas beneficiadas 434.0&lt;/div&gt;`)[0];\n",
       "            popup_8d24434c672f9ec9b3c47a23050fb42c.setContent(html_4f3934c09873248e8787a570a2bf8039);\n",
       "        \n",
       "\n",
       "        marker_0e588a1637ba49d2947c5f23e26de6fc.bindPopup(popup_8d24434c672f9ec9b3c47a23050fb42c)\n",
       "        ;\n",
       "\n",
       "        \n",
       "    \n",
       "    \n",
       "            marker_0e588a1637ba49d2947c5f23e26de6fc.bindTooltip(\n",
       "                `&lt;div&gt;\n",
       "                     Lipingue\n",
       "                 &lt;/div&gt;`,\n",
       "                {&quot;sticky&quot;: true}\n",
       "            );\n",
       "        \n",
       "    \n",
       "            var marker_1a0bb79ce4892d155454533f441d0c01 = L.marker(\n",
       "                [-39.9809683663, -72.7929665382],\n",
       "                {}\n",
       "            ).addTo(map_4f1b1c39f13bf2b36cecbaedcfc20e88);\n",
       "        \n",
       "    \n",
       "            var icon_824a3e1d422fa185f79873ea0961e1ca = L.AwesomeMarkers.icon(\n",
       "                {&quot;extraClasses&quot;: &quot;fa-rotate-0&quot;, &quot;icon&quot;: &quot;info-sign&quot;, &quot;iconColor&quot;: &quot;white&quot;, &quot;markerColor&quot;: &quot;darkred&quot;, &quot;prefix&quot;: &quot;glyphicon&quot;}\n",
       "            );\n",
       "            marker_1a0bb79ce4892d155454533f441d0c01.setIcon(icon_824a3e1d422fa185f79873ea0961e1ca);\n",
       "        \n",
       "    \n",
       "        var popup_5df802f2e173457c63c9d9d7f5ce9e39 = L.popup({&quot;maxWidth&quot;: &quot;100%&quot;});\n",
       "\n",
       "        \n",
       "            var html_6589dbe75116f0d5730647fc0a2e8f3c = $(`&lt;div id=&quot;html_6589dbe75116f0d5730647fc0a2e8f3c&quot; style=&quot;width: 100.0%; height: 100.0%;&quot;&gt;Número de personas beneficiadas 208.0&lt;/div&gt;`)[0];\n",
       "            popup_5df802f2e173457c63c9d9d7f5ce9e39.setContent(html_6589dbe75116f0d5730647fc0a2e8f3c);\n",
       "        \n",
       "\n",
       "        marker_1a0bb79ce4892d155454533f441d0c01.bindPopup(popup_5df802f2e173457c63c9d9d7f5ce9e39)\n",
       "        ;\n",
       "\n",
       "        \n",
       "    \n",
       "    \n",
       "            marker_1a0bb79ce4892d155454533f441d0c01.bindTooltip(\n",
       "                `&lt;div&gt;\n",
       "                     El Trebol\n",
       "                 &lt;/div&gt;`,\n",
       "                {&quot;sticky&quot;: true}\n",
       "            );\n",
       "        \n",
       "    \n",
       "            var marker_c1b9c671a3c6c31d8b11154aad8541fe = L.marker(\n",
       "                [-39.891383155, -72.7942956633],\n",
       "                {}\n",
       "            ).addTo(map_4f1b1c39f13bf2b36cecbaedcfc20e88);\n",
       "        \n",
       "    \n",
       "            var icon_fd7faf13a62c05861aa37f1707de4f39 = L.AwesomeMarkers.icon(\n",
       "                {&quot;extraClasses&quot;: &quot;fa-rotate-0&quot;, &quot;icon&quot;: &quot;info-sign&quot;, &quot;iconColor&quot;: &quot;white&quot;, &quot;markerColor&quot;: &quot;darkred&quot;, &quot;prefix&quot;: &quot;glyphicon&quot;}\n",
       "            );\n",
       "            marker_c1b9c671a3c6c31d8b11154aad8541fe.setIcon(icon_fd7faf13a62c05861aa37f1707de4f39);\n",
       "        \n",
       "    \n",
       "        var popup_a6cfe71264111e1106093345d2fa0658 = L.popup({&quot;maxWidth&quot;: &quot;100%&quot;});\n",
       "\n",
       "        \n",
       "            var html_4177eed4a77e5bfdfa323c272b8e8a50 = $(`&lt;div id=&quot;html_4177eed4a77e5bfdfa323c272b8e8a50&quot; style=&quot;width: 100.0%; height: 100.0%;&quot;&gt;Número de personas beneficiadas 236.0&lt;/div&gt;`)[0];\n",
       "            popup_a6cfe71264111e1106093345d2fa0658.setContent(html_4177eed4a77e5bfdfa323c272b8e8a50);\n",
       "        \n",
       "\n",
       "        marker_c1b9c671a3c6c31d8b11154aad8541fe.bindPopup(popup_a6cfe71264111e1106093345d2fa0658)\n",
       "        ;\n",
       "\n",
       "        \n",
       "    \n",
       "    \n",
       "            marker_c1b9c671a3c6c31d8b11154aad8541fe.bindTooltip(\n",
       "                `&lt;div&gt;\n",
       "                     Collico Sur\n",
       "                 &lt;/div&gt;`,\n",
       "                {&quot;sticky&quot;: true}\n",
       "            );\n",
       "        \n",
       "    \n",
       "            var marker_3922e48d871c0502b233d501d6f5eade = L.marker(\n",
       "                [-39.854954476, -72.6609940373],\n",
       "                {}\n",
       "            ).addTo(map_4f1b1c39f13bf2b36cecbaedcfc20e88);\n",
       "        \n",
       "    \n",
       "            var icon_831e07aeb7c5f5cd20371c3a48de4420 = L.AwesomeMarkers.icon(\n",
       "                {&quot;extraClasses&quot;: &quot;fa-rotate-0&quot;, &quot;icon&quot;: &quot;info-sign&quot;, &quot;iconColor&quot;: &quot;white&quot;, &quot;markerColor&quot;: &quot;darkred&quot;, &quot;prefix&quot;: &quot;glyphicon&quot;}\n",
       "            );\n",
       "            marker_3922e48d871c0502b233d501d6f5eade.setIcon(icon_831e07aeb7c5f5cd20371c3a48de4420);\n",
       "        \n",
       "    \n",
       "        var popup_4743abcfe5e63ebbb17d68edbcaa45c9 = L.popup({&quot;maxWidth&quot;: &quot;100%&quot;});\n",
       "\n",
       "        \n",
       "            var html_b6a480388ed5c3f4e7901bfcb8c77093 = $(`&lt;div id=&quot;html_b6a480388ed5c3f4e7901bfcb8c77093&quot; style=&quot;width: 100.0%; height: 100.0%;&quot;&gt;Número de personas beneficiadas 71.0&lt;/div&gt;`)[0];\n",
       "            popup_4743abcfe5e63ebbb17d68edbcaa45c9.setContent(html_b6a480388ed5c3f4e7901bfcb8c77093);\n",
       "        \n",
       "\n",
       "        marker_3922e48d871c0502b233d501d6f5eade.bindPopup(popup_4743abcfe5e63ebbb17d68edbcaa45c9)\n",
       "        ;\n",
       "\n",
       "        \n",
       "    \n",
       "    \n",
       "            marker_3922e48d871c0502b233d501d6f5eade.bindTooltip(\n",
       "                `&lt;div&gt;\n",
       "                     Mi Tierra\n",
       "                 &lt;/div&gt;`,\n",
       "                {&quot;sticky&quot;: true}\n",
       "            );\n",
       "        \n",
       "    \n",
       "            var marker_bb577d22642f50499feed93f5ba4c53c = L.marker(\n",
       "                [-39.8597946179, -72.7236128048],\n",
       "                {}\n",
       "            ).addTo(map_4f1b1c39f13bf2b36cecbaedcfc20e88);\n",
       "        \n",
       "    \n",
       "            var icon_0991562e0def7d124fb76a765ec75726 = L.AwesomeMarkers.icon(\n",
       "                {&quot;extraClasses&quot;: &quot;fa-rotate-0&quot;, &quot;icon&quot;: &quot;info-sign&quot;, &quot;iconColor&quot;: &quot;white&quot;, &quot;markerColor&quot;: &quot;darkred&quot;, &quot;prefix&quot;: &quot;glyphicon&quot;}\n",
       "            );\n",
       "            marker_bb577d22642f50499feed93f5ba4c53c.setIcon(icon_0991562e0def7d124fb76a765ec75726);\n",
       "        \n",
       "    \n",
       "        var popup_0c6f627fb545d3aed47d271518429171 = L.popup({&quot;maxWidth&quot;: &quot;100%&quot;});\n",
       "\n",
       "        \n",
       "            var html_6b526ee59b32253c8ba316cac34aa898 = $(`&lt;div id=&quot;html_6b526ee59b32253c8ba316cac34aa898&quot; style=&quot;width: 100.0%; height: 100.0%;&quot;&gt;Número de personas beneficiadas 81.0&lt;/div&gt;`)[0];\n",
       "            popup_0c6f627fb545d3aed47d271518429171.setContent(html_6b526ee59b32253c8ba316cac34aa898);\n",
       "        \n",
       "\n",
       "        marker_bb577d22642f50499feed93f5ba4c53c.bindPopup(popup_0c6f627fb545d3aed47d271518429171)\n",
       "        ;\n",
       "\n",
       "        \n",
       "    \n",
       "    \n",
       "            marker_bb577d22642f50499feed93f5ba4c53c.bindTooltip(\n",
       "                `&lt;div&gt;\n",
       "                     Puñaco\n",
       "                 &lt;/div&gt;`,\n",
       "                {&quot;sticky&quot;: true}\n",
       "            );\n",
       "        \n",
       "    \n",
       "            var marker_65dfddb15cf7c3afced26315cb7f5b97 = L.marker(\n",
       "                [-39.8183071179, -72.8753063555],\n",
       "                {}\n",
       "            ).addTo(map_4f1b1c39f13bf2b36cecbaedcfc20e88);\n",
       "        \n",
       "    \n",
       "            var icon_a3be4e1b04739e0f86728baa3df3f39b = L.AwesomeMarkers.icon(\n",
       "                {&quot;extraClasses&quot;: &quot;fa-rotate-0&quot;, &quot;icon&quot;: &quot;info-sign&quot;, &quot;iconColor&quot;: &quot;white&quot;, &quot;markerColor&quot;: &quot;darkred&quot;, &quot;prefix&quot;: &quot;glyphicon&quot;}\n",
       "            );\n",
       "            marker_65dfddb15cf7c3afced26315cb7f5b97.setIcon(icon_a3be4e1b04739e0f86728baa3df3f39b);\n",
       "        \n",
       "    \n",
       "        var popup_55c5318aa87eac74e44728a39d14fa60 = L.popup({&quot;maxWidth&quot;: &quot;100%&quot;});\n",
       "\n",
       "        \n",
       "            var html_5a49523da8576b0e5f7dafefa822e12c = $(`&lt;div id=&quot;html_5a49523da8576b0e5f7dafefa822e12c&quot; style=&quot;width: 100.0%; height: 100.0%;&quot;&gt;Número de personas beneficiadas 78.0&lt;/div&gt;`)[0];\n",
       "            popup_55c5318aa87eac74e44728a39d14fa60.setContent(html_5a49523da8576b0e5f7dafefa822e12c);\n",
       "        \n",
       "\n",
       "        marker_65dfddb15cf7c3afced26315cb7f5b97.bindPopup(popup_55c5318aa87eac74e44728a39d14fa60)\n",
       "        ;\n",
       "\n",
       "        \n",
       "    \n",
       "    \n",
       "            marker_65dfddb15cf7c3afced26315cb7f5b97.bindTooltip(\n",
       "                `&lt;div&gt;\n",
       "                     Purey\n",
       "                 &lt;/div&gt;`,\n",
       "                {&quot;sticky&quot;: true}\n",
       "            );\n",
       "        \n",
       "    \n",
       "            var marker_057314ca9f9521837441a76eed508133 = L.marker(\n",
       "                [-39.8631470531, -73.4340874604],\n",
       "                {}\n",
       "            ).addTo(map_4f1b1c39f13bf2b36cecbaedcfc20e88);\n",
       "        \n",
       "    \n",
       "            var icon_12dfa478e6a6cdb557c4ec192df19f81 = L.AwesomeMarkers.icon(\n",
       "                {&quot;extraClasses&quot;: &quot;fa-rotate-0&quot;, &quot;icon&quot;: &quot;info-sign&quot;, &quot;iconColor&quot;: &quot;white&quot;, &quot;markerColor&quot;: &quot;purple&quot;, &quot;prefix&quot;: &quot;glyphicon&quot;}\n",
       "            );\n",
       "            marker_057314ca9f9521837441a76eed508133.setIcon(icon_12dfa478e6a6cdb557c4ec192df19f81);\n",
       "        \n",
       "    \n",
       "        var popup_17bfe20562d9e0004695a6a99aaf7681 = L.popup({&quot;maxWidth&quot;: &quot;100%&quot;});\n",
       "\n",
       "        \n",
       "            var html_464d90d3ed933f9cff3a7937d97967cd = $(`&lt;div id=&quot;html_464d90d3ed933f9cff3a7937d97967cd&quot; style=&quot;width: 100.0%; height: 100.0%;&quot;&gt;Número de personas beneficiadas 2412.0&lt;/div&gt;`)[0];\n",
       "            popup_17bfe20562d9e0004695a6a99aaf7681.setContent(html_464d90d3ed933f9cff3a7937d97967cd);\n",
       "        \n",
       "\n",
       "        marker_057314ca9f9521837441a76eed508133.bindPopup(popup_17bfe20562d9e0004695a6a99aaf7681)\n",
       "        ;\n",
       "\n",
       "        \n",
       "    \n",
       "    \n",
       "            marker_057314ca9f9521837441a76eed508133.bindTooltip(\n",
       "                `&lt;div&gt;\n",
       "                     AMARGO-SAN CARLOS\n",
       "                 &lt;/div&gt;`,\n",
       "                {&quot;sticky&quot;: true}\n",
       "            );\n",
       "        \n",
       "    \n",
       "            var marker_530a2f06c01b29179883f28ae70cfd57 = L.marker(\n",
       "                [-39.8754350487, -73.3587930086],\n",
       "                {}\n",
       "            ).addTo(map_4f1b1c39f13bf2b36cecbaedcfc20e88);\n",
       "        \n",
       "    \n",
       "            var icon_777e1ad337cbfac6e1ca0b5d39b1ae4a = L.AwesomeMarkers.icon(\n",
       "                {&quot;extraClasses&quot;: &quot;fa-rotate-0&quot;, &quot;icon&quot;: &quot;info-sign&quot;, &quot;iconColor&quot;: &quot;white&quot;, &quot;markerColor&quot;: &quot;orange&quot;, &quot;prefix&quot;: &quot;glyphicon&quot;}\n",
       "            );\n",
       "            marker_530a2f06c01b29179883f28ae70cfd57.setIcon(icon_777e1ad337cbfac6e1ca0b5d39b1ae4a);\n",
       "        \n",
       "    \n",
       "        var popup_7679f7b113168c5db1d80b25a236c13c = L.popup({&quot;maxWidth&quot;: &quot;100%&quot;});\n",
       "\n",
       "        \n",
       "            var html_92496f2b07b6bc4d158500b0837b4e99 = $(`&lt;div id=&quot;html_92496f2b07b6bc4d158500b0837b4e99&quot; style=&quot;width: 100.0%; height: 100.0%;&quot;&gt;Número de personas beneficiadas 620.0&lt;/div&gt;`)[0];\n",
       "            popup_7679f7b113168c5db1d80b25a236c13c.setContent(html_92496f2b07b6bc4d158500b0837b4e99);\n",
       "        \n",
       "\n",
       "        marker_530a2f06c01b29179883f28ae70cfd57.bindPopup(popup_7679f7b113168c5db1d80b25a236c13c)\n",
       "        ;\n",
       "\n",
       "        \n",
       "    \n",
       "    \n",
       "            marker_530a2f06c01b29179883f28ae70cfd57.bindTooltip(\n",
       "                `&lt;div&gt;\n",
       "                     ISLA DEL REY\n",
       "                 &lt;/div&gt;`,\n",
       "                {&quot;sticky&quot;: true}\n",
       "            );\n",
       "        \n",
       "    \n",
       "            var marker_e7d870dfedfe78017bad607d85a35c8f = L.marker(\n",
       "                [-39.8905057848, -73.3917808877],\n",
       "                {}\n",
       "            ).addTo(map_4f1b1c39f13bf2b36cecbaedcfc20e88);\n",
       "        \n",
       "    \n",
       "            var icon_ccefb50ce869960c859ed1f0f20eab2d = L.AwesomeMarkers.icon(\n",
       "                {&quot;extraClasses&quot;: &quot;fa-rotate-0&quot;, &quot;icon&quot;: &quot;info-sign&quot;, &quot;iconColor&quot;: &quot;white&quot;, &quot;markerColor&quot;: &quot;darkred&quot;, &quot;prefix&quot;: &quot;glyphicon&quot;}\n",
       "            );\n",
       "            marker_e7d870dfedfe78017bad607d85a35c8f.setIcon(icon_ccefb50ce869960c859ed1f0f20eab2d);\n",
       "        \n",
       "    \n",
       "        var popup_984a384845f14741988ccd74ea7a044d = L.popup({&quot;maxWidth&quot;: &quot;100%&quot;});\n",
       "\n",
       "        \n",
       "            var html_b6860f11386235328cc2b51dbea2626d = $(`&lt;div id=&quot;html_b6860f11386235328cc2b51dbea2626d&quot; style=&quot;width: 100.0%; height: 100.0%;&quot;&gt;Número de personas beneficiadas 267.0&lt;/div&gt;`)[0];\n",
       "            popup_984a384845f14741988ccd74ea7a044d.setContent(html_b6860f11386235328cc2b51dbea2626d);\n",
       "        \n",
       "\n",
       "        marker_e7d870dfedfe78017bad607d85a35c8f.bindPopup(popup_984a384845f14741988ccd74ea7a044d)\n",
       "        ;\n",
       "\n",
       "        \n",
       "    \n",
       "    \n",
       "            marker_e7d870dfedfe78017bad607d85a35c8f.bindTooltip(\n",
       "                `&lt;div&gt;\n",
       "                     ISLA MANCERA\n",
       "                 &lt;/div&gt;`,\n",
       "                {&quot;sticky&quot;: true}\n",
       "            );\n",
       "        \n",
       "    \n",
       "            var marker_b18f6f74b7918e7877a12461378ab373 = L.marker(\n",
       "                [-39.8964415368, -73.417776163],\n",
       "                {}\n",
       "            ).addTo(map_4f1b1c39f13bf2b36cecbaedcfc20e88);\n",
       "        \n",
       "    \n",
       "            var icon_c79058c2242c3a6fa0a1c9829e77e979 = L.AwesomeMarkers.icon(\n",
       "                {&quot;extraClasses&quot;: &quot;fa-rotate-0&quot;, &quot;icon&quot;: &quot;info-sign&quot;, &quot;iconColor&quot;: &quot;white&quot;, &quot;markerColor&quot;: &quot;orange&quot;, &quot;prefix&quot;: &quot;glyphicon&quot;}\n",
       "            );\n",
       "            marker_b18f6f74b7918e7877a12461378ab373.setIcon(icon_c79058c2242c3a6fa0a1c9829e77e979);\n",
       "        \n",
       "    \n",
       "        var popup_9a29336d3c247a5a723a43fd3b4240a4 = L.popup({&quot;maxWidth&quot;: &quot;100%&quot;});\n",
       "\n",
       "        \n",
       "            var html_c73fa919ebcd5c0c85eff91e0f96a291 = $(`&lt;div id=&quot;html_c73fa919ebcd5c0c85eff91e0f96a291&quot; style=&quot;width: 100.0%; height: 100.0%;&quot;&gt;Número de personas beneficiadas 626.0&lt;/div&gt;`)[0];\n",
       "            popup_9a29336d3c247a5a723a43fd3b4240a4.setContent(html_c73fa919ebcd5c0c85eff91e0f96a291);\n",
       "        \n",
       "\n",
       "        marker_b18f6f74b7918e7877a12461378ab373.bindPopup(popup_9a29336d3c247a5a723a43fd3b4240a4)\n",
       "        ;\n",
       "\n",
       "        \n",
       "    \n",
       "    \n",
       "            marker_b18f6f74b7918e7877a12461378ab373.bindTooltip(\n",
       "                `&lt;div&gt;\n",
       "                     LA AGUADA\n",
       "                 &lt;/div&gt;`,\n",
       "                {&quot;sticky&quot;: true}\n",
       "            );\n",
       "        \n",
       "    \n",
       "            var marker_2db42b357511e13d32c3e0fca206e706 = L.marker(\n",
       "                [-39.9656281859, -73.6194983481],\n",
       "                {}\n",
       "            ).addTo(map_4f1b1c39f13bf2b36cecbaedcfc20e88);\n",
       "        \n",
       "    \n",
       "            var icon_2a262812647321e2657bddb327d2b819 = L.AwesomeMarkers.icon(\n",
       "                {&quot;extraClasses&quot;: &quot;fa-rotate-0&quot;, &quot;icon&quot;: &quot;info-sign&quot;, &quot;iconColor&quot;: &quot;white&quot;, &quot;markerColor&quot;: &quot;orange&quot;, &quot;prefix&quot;: &quot;glyphicon&quot;}\n",
       "            );\n",
       "            marker_2db42b357511e13d32c3e0fca206e706.setIcon(icon_2a262812647321e2657bddb327d2b819);\n",
       "        \n",
       "    \n",
       "        var popup_7154ac8b23d175600749622dd38b50b0 = L.popup({&quot;maxWidth&quot;: &quot;100%&quot;});\n",
       "\n",
       "        \n",
       "            var html_a58d171ba8114fd3600eb52c13f0dd1a = $(`&lt;div id=&quot;html_a58d171ba8114fd3600eb52c13f0dd1a&quot; style=&quot;width: 100.0%; height: 100.0%;&quot;&gt;Número de personas beneficiadas 744.0&lt;/div&gt;`)[0];\n",
       "            popup_7154ac8b23d175600749622dd38b50b0.setContent(html_a58d171ba8114fd3600eb52c13f0dd1a);\n",
       "        \n",
       "\n",
       "        marker_2db42b357511e13d32c3e0fca206e706.bindPopup(popup_7154ac8b23d175600749622dd38b50b0)\n",
       "        ;\n",
       "\n",
       "        \n",
       "    \n",
       "    \n",
       "            marker_2db42b357511e13d32c3e0fca206e706.bindTooltip(\n",
       "                `&lt;div&gt;\n",
       "                     CHAIHUIN\n",
       "                 &lt;/div&gt;`,\n",
       "                {&quot;sticky&quot;: true}\n",
       "            );\n",
       "        \n",
       "    \n",
       "            var marker_fa5e30920d2e2ca04e14cd7a14b2c4b9 = L.marker(\n",
       "                [-39.8970045115, -73.4310820761],\n",
       "                {}\n",
       "            ).addTo(map_4f1b1c39f13bf2b36cecbaedcfc20e88);\n",
       "        \n",
       "    \n",
       "            var icon_c4f56b37412674e16bfd3ea96aaa9ab4 = L.AwesomeMarkers.icon(\n",
       "                {&quot;extraClasses&quot;: &quot;fa-rotate-0&quot;, &quot;icon&quot;: &quot;info-sign&quot;, &quot;iconColor&quot;: &quot;white&quot;, &quot;markerColor&quot;: &quot;green&quot;, &quot;prefix&quot;: &quot;glyphicon&quot;}\n",
       "            );\n",
       "            marker_fa5e30920d2e2ca04e14cd7a14b2c4b9.setIcon(icon_c4f56b37412674e16bfd3ea96aaa9ab4);\n",
       "        \n",
       "    \n",
       "        var popup_bdea68458bc9cd8539a37761d4c04dbc = L.popup({&quot;maxWidth&quot;: &quot;100%&quot;});\n",
       "\n",
       "        \n",
       "            var html_5cd8740e02668e124df9d20754ef5528 = $(`&lt;div id=&quot;html_5cd8740e02668e124df9d20754ef5528&quot; style=&quot;width: 100.0%; height: 100.0%;&quot;&gt;Número de personas beneficiadas 484.0&lt;/div&gt;`)[0];\n",
       "            popup_bdea68458bc9cd8539a37761d4c04dbc.setContent(html_5cd8740e02668e124df9d20754ef5528);\n",
       "        \n",
       "\n",
       "        marker_fa5e30920d2e2ca04e14cd7a14b2c4b9.bindPopup(popup_bdea68458bc9cd8539a37761d4c04dbc)\n",
       "        ;\n",
       "\n",
       "        \n",
       "    \n",
       "    \n",
       "            marker_fa5e30920d2e2ca04e14cd7a14b2c4b9.bindTooltip(\n",
       "                `&lt;div&gt;\n",
       "                     CERROS DE CORRAL\n",
       "                 &lt;/div&gt;`,\n",
       "                {&quot;sticky&quot;: true}\n",
       "            );\n",
       "        \n",
       "&lt;/script&gt;\" style=\"position:absolute;width:100%;height:100%;left:0;top:0;border:none !important;\" allowfullscreen webkitallowfullscreen mozallowfullscreen></iframe></div></div>"
      ],
      "text/plain": [
       "<folium.folium.Map at 0x20588361960>"
      ]
     },
     "execution_count": 57,
     "metadata": {},
     "output_type": "execute_result"
    }
   ],
   "source": [
    "map = folium.Map(location = [-39.925826, -73.114501], tiles = \"OpenStreetMap\", zoom_start = 9.5)\n",
    "\n",
    "\n",
    "color_beneficiario=[]\n",
    "\n",
    "for j in range(len(locations)):\n",
    "    u=beneficiarios[j]\n",
    "    if u<299:\n",
    "        colores='darkred'\n",
    "    if u>=299 and u<546:\n",
    "        colores='green'\n",
    "    if u>=546 and u<964:\n",
    "        colores='orange'\n",
    "    if u>=964 and u<2294:\n",
    "        colores='red'               \n",
    "    if u>=2294:\n",
    "        colores='purple'\n",
    "    color_beneficiario.append(colores)\n",
    "    folium.Marker(\n",
    "    location=locations[j],\n",
    "    popup=(\"Número de personas beneficiadas \"+str(beneficiarios[j])),\n",
    "    tooltip=nombres[j],\n",
    "    icon=folium.Icon(color=colores),\n",
    ").add_to(map)\n",
    "    \n",
    "map\n"
   ]
  },
  {
   "cell_type": "code",
   "execution_count": 58,
   "id": "6f75b46c-5d57-4c8e-9724-2953df919bcf",
   "metadata": {},
   "outputs": [
    {
     "data": {
      "application/vnd.plotly.v1+json": {
       "config": {
        "plotlyServerURL": "https://plot.ly"
       },
       "data": [
        {
         "colorscale": [
          [
           0,
           "#00083e"
          ],
          [
           0.5,
           "#ededee"
          ],
          [
           1,
           "#ffffff"
          ]
         ],
         "hoverinfo": "none",
         "opacity": 0.75,
         "showscale": false,
         "type": "heatmap",
         "z": [
          [
           0,
           0,
           0,
           0
          ],
          [
           0.5,
           0.5,
           0.5,
           0.5
          ],
          [
           1,
           1,
           1,
           1
          ],
          [
           0.5,
           0.5,
           0.5,
           0.5
          ],
          [
           1,
           1,
           1,
           1
          ],
          [
           0.5,
           0.5,
           0.5,
           0.5
          ],
          [
           1,
           1,
           1,
           1
          ],
          [
           0.5,
           0.5,
           0.5,
           0.5
          ],
          [
           1,
           1,
           1,
           1
          ],
          [
           0.5,
           0.5,
           0.5,
           0.5
          ],
          [
           1,
           1,
           1,
           1
          ],
          [
           0.5,
           0.5,
           0.5,
           0.5
          ],
          [
           1,
           1,
           1,
           1
          ],
          [
           0.5,
           0.5,
           0.5,
           0.5
          ],
          [
           1,
           1,
           1,
           1
          ],
          [
           0.5,
           0.5,
           0.5,
           0.5
          ],
          [
           1,
           1,
           1,
           1
          ],
          [
           0.5,
           0.5,
           0.5,
           0.5
          ],
          [
           1,
           1,
           1,
           1
          ],
          [
           0.5,
           0.5,
           0.5,
           0.5
          ],
          [
           1,
           1,
           1,
           1
          ],
          [
           0.5,
           0.5,
           0.5,
           0.5
          ],
          [
           1,
           1,
           1,
           1
          ],
          [
           0.5,
           0.5,
           0.5,
           0.5
          ],
          [
           1,
           1,
           1,
           1
          ],
          [
           0.5,
           0.5,
           0.5,
           0.5
          ],
          [
           1,
           1,
           1,
           1
          ],
          [
           0.5,
           0.5,
           0.5,
           0.5
          ],
          [
           1,
           1,
           1,
           1
          ],
          [
           0.5,
           0.5,
           0.5,
           0.5
          ],
          [
           1,
           1,
           1,
           1
          ],
          [
           0.5,
           0.5,
           0.5,
           0.5
          ],
          [
           1,
           1,
           1,
           1
          ],
          [
           0.5,
           0.5,
           0.5,
           0.5
          ],
          [
           1,
           1,
           1,
           1
          ],
          [
           0.5,
           0.5,
           0.5,
           0.5
          ],
          [
           1,
           1,
           1,
           1
          ],
          [
           0.5,
           0.5,
           0.5,
           0.5
          ],
          [
           1,
           1,
           1,
           1
          ],
          [
           0.5,
           0.5,
           0.5,
           0.5
          ],
          [
           1,
           1,
           1,
           1
          ],
          [
           0.5,
           0.5,
           0.5,
           0.5
          ],
          [
           1,
           1,
           1,
           1
          ],
          [
           0.5,
           0.5,
           0.5,
           0.5
          ],
          [
           1,
           1,
           1,
           1
          ],
          [
           0.5,
           0.5,
           0.5,
           0.5
          ],
          [
           1,
           1,
           1,
           1
          ],
          [
           0.5,
           0.5,
           0.5,
           0.5
          ],
          [
           1,
           1,
           1,
           1
          ],
          [
           0.5,
           0.5,
           0.5,
           0.5
          ]
         ]
        }
       ],
       "layout": {
        "annotations": [
         {
          "align": "left",
          "font": {
           "color": "#ffffff"
          },
          "showarrow": false,
          "text": "<b>Nombre Ubicación</b>",
          "x": -0.45,
          "xanchor": "left",
          "xref": "x",
          "y": 0,
          "yref": "y"
         },
         {
          "align": "left",
          "font": {
           "color": "#ffffff"
          },
          "showarrow": false,
          "text": "<b>Beneficiarios</b>",
          "x": 0.55,
          "xanchor": "left",
          "xref": "x",
          "y": 0,
          "yref": "y"
         },
         {
          "align": "left",
          "font": {
           "color": "#ffffff"
          },
          "showarrow": false,
          "text": "<b>Color</b>",
          "x": 1.55,
          "xanchor": "left",
          "xref": "x",
          "y": 0,
          "yref": "y"
         },
         {
          "align": "left",
          "font": {
           "color": "#ffffff"
          },
          "showarrow": false,
          "text": "<b>Comunas</b>",
          "x": 2.55,
          "xanchor": "left",
          "xref": "x",
          "y": 0,
          "yref": "y"
         },
         {
          "align": "left",
          "font": {
           "color": "#000000"
          },
          "showarrow": false,
          "text": "PISHUINCO",
          "x": -0.45,
          "xanchor": "left",
          "xref": "x",
          "y": 1,
          "yref": "y"
         },
         {
          "align": "left",
          "font": {
           "color": "#000000"
          },
          "showarrow": false,
          "text": "322.0",
          "x": 0.55,
          "xanchor": "left",
          "xref": "x",
          "y": 1,
          "yref": "y"
         },
         {
          "align": "left",
          "font": {
           "color": "#000000"
          },
          "showarrow": false,
          "text": "green",
          "x": 1.55,
          "xanchor": "left",
          "xref": "x",
          "y": 1,
          "yref": "y"
         },
         {
          "align": "left",
          "font": {
           "color": "#000000"
          },
          "showarrow": false,
          "text": "Valdivia",
          "x": 2.55,
          "xanchor": "left",
          "xref": "x",
          "y": 1,
          "yref": "y"
         },
         {
          "align": "left",
          "font": {
           "color": "#000000"
          },
          "showarrow": false,
          "text": "CURIÑANCO",
          "x": -0.45,
          "xanchor": "left",
          "xref": "x",
          "y": 2,
          "yref": "y"
         },
         {
          "align": "left",
          "font": {
           "color": "#000000"
          },
          "showarrow": false,
          "text": "2294.0",
          "x": 0.55,
          "xanchor": "left",
          "xref": "x",
          "y": 2,
          "yref": "y"
         },
         {
          "align": "left",
          "font": {
           "color": "#000000"
          },
          "showarrow": false,
          "text": "purple",
          "x": 1.55,
          "xanchor": "left",
          "xref": "x",
          "y": 2,
          "yref": "y"
         },
         {
          "align": "left",
          "font": {
           "color": "#000000"
          },
          "showarrow": false,
          "text": "Valdivia",
          "x": 2.55,
          "xanchor": "left",
          "xref": "x",
          "y": 2,
          "yref": "y"
         },
         {
          "align": "left",
          "font": {
           "color": "#000000"
          },
          "showarrow": false,
          "text": "HUELLELHUE",
          "x": -0.45,
          "xanchor": "left",
          "xref": "x",
          "y": 3,
          "yref": "y"
         },
         {
          "align": "left",
          "font": {
           "color": "#000000"
          },
          "showarrow": false,
          "text": "310.0",
          "x": 0.55,
          "xanchor": "left",
          "xref": "x",
          "y": 3,
          "yref": "y"
         },
         {
          "align": "left",
          "font": {
           "color": "#000000"
          },
          "showarrow": false,
          "text": "green",
          "x": 1.55,
          "xanchor": "left",
          "xref": "x",
          "y": 3,
          "yref": "y"
         },
         {
          "align": "left",
          "font": {
           "color": "#000000"
          },
          "showarrow": false,
          "text": "Valdivia",
          "x": 2.55,
          "xanchor": "left",
          "xref": "x",
          "y": 3,
          "yref": "y"
         },
         {
          "align": "left",
          "font": {
           "color": "#000000"
          },
          "showarrow": false,
          "text": "LAS GAVIOTAS",
          "x": -0.45,
          "xanchor": "left",
          "xref": "x",
          "y": 4,
          "yref": "y"
         },
         {
          "align": "left",
          "font": {
           "color": "#000000"
          },
          "showarrow": false,
          "text": "1048.0",
          "x": 0.55,
          "xanchor": "left",
          "xref": "x",
          "y": 4,
          "yref": "y"
         },
         {
          "align": "left",
          "font": {
           "color": "#000000"
          },
          "showarrow": false,
          "text": "red",
          "x": 1.55,
          "xanchor": "left",
          "xref": "x",
          "y": 4,
          "yref": "y"
         },
         {
          "align": "left",
          "font": {
           "color": "#000000"
          },
          "showarrow": false,
          "text": "Valdivia",
          "x": 2.55,
          "xanchor": "left",
          "xref": "x",
          "y": 4,
          "yref": "y"
         },
         {
          "align": "left",
          "font": {
           "color": "#000000"
          },
          "showarrow": false,
          "text": "NIEBLA-LOS MOLINOS",
          "x": -0.45,
          "xanchor": "left",
          "xref": "x",
          "y": 5,
          "yref": "y"
         },
         {
          "align": "left",
          "font": {
           "color": "#000000"
          },
          "showarrow": false,
          "text": "4021.0",
          "x": 0.55,
          "xanchor": "left",
          "xref": "x",
          "y": 5,
          "yref": "y"
         },
         {
          "align": "left",
          "font": {
           "color": "#000000"
          },
          "showarrow": false,
          "text": "purple",
          "x": 1.55,
          "xanchor": "left",
          "xref": "x",
          "y": 5,
          "yref": "y"
         },
         {
          "align": "left",
          "font": {
           "color": "#000000"
          },
          "showarrow": false,
          "text": "Valdivia",
          "x": 2.55,
          "xanchor": "left",
          "xref": "x",
          "y": 5,
          "yref": "y"
         },
         {
          "align": "left",
          "font": {
           "color": "#000000"
          },
          "showarrow": false,
          "text": "PUNUCAPA",
          "x": -0.45,
          "xanchor": "left",
          "xref": "x",
          "y": 6,
          "yref": "y"
         },
         {
          "align": "left",
          "font": {
           "color": "#000000"
          },
          "showarrow": false,
          "text": "459.0",
          "x": 0.55,
          "xanchor": "left",
          "xref": "x",
          "y": 6,
          "yref": "y"
         },
         {
          "align": "left",
          "font": {
           "color": "#000000"
          },
          "showarrow": false,
          "text": "green",
          "x": 1.55,
          "xanchor": "left",
          "xref": "x",
          "y": 6,
          "yref": "y"
         },
         {
          "align": "left",
          "font": {
           "color": "#000000"
          },
          "showarrow": false,
          "text": "Valdivia",
          "x": 2.55,
          "xanchor": "left",
          "xref": "x",
          "y": 6,
          "yref": "y"
         },
         {
          "align": "left",
          "font": {
           "color": "#000000"
          },
          "showarrow": false,
          "text": "SAN IGNACIO-PLAYA ROSADA",
          "x": -0.45,
          "xanchor": "left",
          "xref": "x",
          "y": 7,
          "yref": "y"
         },
         {
          "align": "left",
          "font": {
           "color": "#000000"
          },
          "showarrow": false,
          "text": "936.0",
          "x": 0.55,
          "xanchor": "left",
          "xref": "x",
          "y": 7,
          "yref": "y"
         },
         {
          "align": "left",
          "font": {
           "color": "#000000"
          },
          "showarrow": false,
          "text": "orange",
          "x": 1.55,
          "xanchor": "left",
          "xref": "x",
          "y": 7,
          "yref": "y"
         },
         {
          "align": "left",
          "font": {
           "color": "#000000"
          },
          "showarrow": false,
          "text": "Valdivia",
          "x": 2.55,
          "xanchor": "left",
          "xref": "x",
          "y": 7,
          "yref": "y"
         },
         {
          "align": "left",
          "font": {
           "color": "#000000"
          },
          "showarrow": false,
          "text": "TRES ESPINOS",
          "x": -0.45,
          "xanchor": "left",
          "xref": "x",
          "y": 8,
          "yref": "y"
         },
         {
          "align": "left",
          "font": {
           "color": "#000000"
          },
          "showarrow": false,
          "text": "1091.0",
          "x": 0.55,
          "xanchor": "left",
          "xref": "x",
          "y": 8,
          "yref": "y"
         },
         {
          "align": "left",
          "font": {
           "color": "#000000"
          },
          "showarrow": false,
          "text": "red",
          "x": 1.55,
          "xanchor": "left",
          "xref": "x",
          "y": 8,
          "yref": "y"
         },
         {
          "align": "left",
          "font": {
           "color": "#000000"
          },
          "showarrow": false,
          "text": "Valdivia",
          "x": 2.55,
          "xanchor": "left",
          "xref": "x",
          "y": 8,
          "yref": "y"
         },
         {
          "align": "left",
          "font": {
           "color": "#000000"
          },
          "showarrow": false,
          "text": "VILLA CAYUMAPU",
          "x": -0.45,
          "xanchor": "left",
          "xref": "x",
          "y": 9,
          "yref": "y"
         },
         {
          "align": "left",
          "font": {
           "color": "#000000"
          },
          "showarrow": false,
          "text": "1327.0",
          "x": 0.55,
          "xanchor": "left",
          "xref": "x",
          "y": 9,
          "yref": "y"
         },
         {
          "align": "left",
          "font": {
           "color": "#000000"
          },
          "showarrow": false,
          "text": "red",
          "x": 1.55,
          "xanchor": "left",
          "xref": "x",
          "y": 9,
          "yref": "y"
         },
         {
          "align": "left",
          "font": {
           "color": "#000000"
          },
          "showarrow": false,
          "text": "Valdivia",
          "x": 2.55,
          "xanchor": "left",
          "xref": "x",
          "y": 9,
          "yref": "y"
         },
         {
          "align": "left",
          "font": {
           "color": "#000000"
          },
          "showarrow": false,
          "text": "EL ARENAL SANTA ELVIRA",
          "x": -0.45,
          "xanchor": "left",
          "xref": "x",
          "y": 10,
          "yref": "y"
         },
         {
          "align": "left",
          "font": {
           "color": "#000000"
          },
          "showarrow": false,
          "text": "549.0",
          "x": 0.55,
          "xanchor": "left",
          "xref": "x",
          "y": 10,
          "yref": "y"
         },
         {
          "align": "left",
          "font": {
           "color": "#000000"
          },
          "showarrow": false,
          "text": "orange",
          "x": 1.55,
          "xanchor": "left",
          "xref": "x",
          "y": 10,
          "yref": "y"
         },
         {
          "align": "left",
          "font": {
           "color": "#000000"
          },
          "showarrow": false,
          "text": "Valdivia",
          "x": 2.55,
          "xanchor": "left",
          "xref": "x",
          "y": 10,
          "yref": "y"
         },
         {
          "align": "left",
          "font": {
           "color": "#000000"
          },
          "showarrow": false,
          "text": "PAILLAO",
          "x": -0.45,
          "xanchor": "left",
          "xref": "x",
          "y": 11,
          "yref": "y"
         },
         {
          "align": "left",
          "font": {
           "color": "#000000"
          },
          "showarrow": false,
          "text": "871.0",
          "x": 0.55,
          "xanchor": "left",
          "xref": "x",
          "y": 11,
          "yref": "y"
         },
         {
          "align": "left",
          "font": {
           "color": "#000000"
          },
          "showarrow": false,
          "text": "orange",
          "x": 1.55,
          "xanchor": "left",
          "xref": "x",
          "y": 11,
          "yref": "y"
         },
         {
          "align": "left",
          "font": {
           "color": "#000000"
          },
          "showarrow": false,
          "text": "Valdivia",
          "x": 2.55,
          "xanchor": "left",
          "xref": "x",
          "y": 11,
          "yref": "y"
         },
         {
          "align": "left",
          "font": {
           "color": "#000000"
          },
          "showarrow": false,
          "text": "CABO BLANCO",
          "x": -0.45,
          "xanchor": "left",
          "xref": "x",
          "y": 12,
          "yref": "y"
         },
         {
          "align": "left",
          "font": {
           "color": "#000000"
          },
          "showarrow": false,
          "text": "543.0",
          "x": 0.55,
          "xanchor": "left",
          "xref": "x",
          "y": 12,
          "yref": "y"
         },
         {
          "align": "left",
          "font": {
           "color": "#000000"
          },
          "showarrow": false,
          "text": "green",
          "x": 1.55,
          "xanchor": "left",
          "xref": "x",
          "y": 12,
          "yref": "y"
         },
         {
          "align": "left",
          "font": {
           "color": "#000000"
          },
          "showarrow": false,
          "text": "Valdivia",
          "x": 2.55,
          "xanchor": "left",
          "xref": "x",
          "y": 12,
          "yref": "y"
         },
         {
          "align": "left",
          "font": {
           "color": "#000000"
          },
          "showarrow": false,
          "text": "EL ARENAL KM 2",
          "x": -0.45,
          "xanchor": "left",
          "xref": "x",
          "y": 13,
          "yref": "y"
         },
         {
          "align": "left",
          "font": {
           "color": "#000000"
          },
          "showarrow": false,
          "text": "623.0",
          "x": 0.55,
          "xanchor": "left",
          "xref": "x",
          "y": 13,
          "yref": "y"
         },
         {
          "align": "left",
          "font": {
           "color": "#000000"
          },
          "showarrow": false,
          "text": "orange",
          "x": 1.55,
          "xanchor": "left",
          "xref": "x",
          "y": 13,
          "yref": "y"
         },
         {
          "align": "left",
          "font": {
           "color": "#000000"
          },
          "showarrow": false,
          "text": "Valdivia",
          "x": 2.55,
          "xanchor": "left",
          "xref": "x",
          "y": 13,
          "yref": "y"
         },
         {
          "align": "left",
          "font": {
           "color": "#000000"
          },
          "showarrow": false,
          "text": "Chabelita",
          "x": -0.45,
          "xanchor": "left",
          "xref": "x",
          "y": 14,
          "yref": "y"
         },
         {
          "align": "left",
          "font": {
           "color": "#000000"
          },
          "showarrow": false,
          "text": "434.0",
          "x": 0.55,
          "xanchor": "left",
          "xref": "x",
          "y": 14,
          "yref": "y"
         },
         {
          "align": "left",
          "font": {
           "color": "#000000"
          },
          "showarrow": false,
          "text": "green",
          "x": 1.55,
          "xanchor": "left",
          "xref": "x",
          "y": 14,
          "yref": "y"
         },
         {
          "align": "left",
          "font": {
           "color": "#000000"
          },
          "showarrow": false,
          "text": "Valdivia",
          "x": 2.55,
          "xanchor": "left",
          "xref": "x",
          "y": 14,
          "yref": "y"
         },
         {
          "align": "left",
          "font": {
           "color": "#000000"
          },
          "showarrow": false,
          "text": "ARCO IRIS",
          "x": -0.45,
          "xanchor": "left",
          "xref": "x",
          "y": 15,
          "yref": "y"
         },
         {
          "align": "left",
          "font": {
           "color": "#000000"
          },
          "showarrow": false,
          "text": "394.0",
          "x": 0.55,
          "xanchor": "left",
          "xref": "x",
          "y": 15,
          "yref": "y"
         },
         {
          "align": "left",
          "font": {
           "color": "#000000"
          },
          "showarrow": false,
          "text": "green",
          "x": 1.55,
          "xanchor": "left",
          "xref": "x",
          "y": 15,
          "yref": "y"
         },
         {
          "align": "left",
          "font": {
           "color": "#000000"
          },
          "showarrow": false,
          "text": "Paillaco",
          "x": 2.55,
          "xanchor": "left",
          "xref": "x",
          "y": 15,
          "yref": "y"
         },
         {
          "align": "left",
          "font": {
           "color": "#000000"
          },
          "showarrow": false,
          "text": "EL LLOLLY",
          "x": -0.45,
          "xanchor": "left",
          "xref": "x",
          "y": 16,
          "yref": "y"
         },
         {
          "align": "left",
          "font": {
           "color": "#000000"
          },
          "showarrow": false,
          "text": "428.0",
          "x": 0.55,
          "xanchor": "left",
          "xref": "x",
          "y": 16,
          "yref": "y"
         },
         {
          "align": "left",
          "font": {
           "color": "#000000"
          },
          "showarrow": false,
          "text": "green",
          "x": 1.55,
          "xanchor": "left",
          "xref": "x",
          "y": 16,
          "yref": "y"
         },
         {
          "align": "left",
          "font": {
           "color": "#000000"
          },
          "showarrow": false,
          "text": "Paillaco",
          "x": 2.55,
          "xanchor": "left",
          "xref": "x",
          "y": 16,
          "yref": "y"
         },
         {
          "align": "left",
          "font": {
           "color": "#000000"
          },
          "showarrow": false,
          "text": "PICHIRROPULLI",
          "x": -0.45,
          "xanchor": "left",
          "xref": "x",
          "y": 17,
          "yref": "y"
         },
         {
          "align": "left",
          "font": {
           "color": "#000000"
          },
          "showarrow": false,
          "text": "1079.0",
          "x": 0.55,
          "xanchor": "left",
          "xref": "x",
          "y": 17,
          "yref": "y"
         },
         {
          "align": "left",
          "font": {
           "color": "#000000"
          },
          "showarrow": false,
          "text": "red",
          "x": 1.55,
          "xanchor": "left",
          "xref": "x",
          "y": 17,
          "yref": "y"
         },
         {
          "align": "left",
          "font": {
           "color": "#000000"
          },
          "showarrow": false,
          "text": "Paillaco",
          "x": 2.55,
          "xanchor": "left",
          "xref": "x",
          "y": 17,
          "yref": "y"
         },
         {
          "align": "left",
          "font": {
           "color": "#000000"
          },
          "showarrow": false,
          "text": "REUMEN",
          "x": -0.45,
          "xanchor": "left",
          "xref": "x",
          "y": 18,
          "yref": "y"
         },
         {
          "align": "left",
          "font": {
           "color": "#000000"
          },
          "showarrow": false,
          "text": "1442.0",
          "x": 0.55,
          "xanchor": "left",
          "xref": "x",
          "y": 18,
          "yref": "y"
         },
         {
          "align": "left",
          "font": {
           "color": "#000000"
          },
          "showarrow": false,
          "text": "red",
          "x": 1.55,
          "xanchor": "left",
          "xref": "x",
          "y": 18,
          "yref": "y"
         },
         {
          "align": "left",
          "font": {
           "color": "#000000"
          },
          "showarrow": false,
          "text": "Paillaco",
          "x": 2.55,
          "xanchor": "left",
          "xref": "x",
          "y": 18,
          "yref": "y"
         },
         {
          "align": "left",
          "font": {
           "color": "#000000"
          },
          "showarrow": false,
          "text": "SANTA FILOMENA",
          "x": -0.45,
          "xanchor": "left",
          "xref": "x",
          "y": 19,
          "yref": "y"
         },
         {
          "align": "left",
          "font": {
           "color": "#000000"
          },
          "showarrow": false,
          "text": "403.0",
          "x": 0.55,
          "xanchor": "left",
          "xref": "x",
          "y": 19,
          "yref": "y"
         },
         {
          "align": "left",
          "font": {
           "color": "#000000"
          },
          "showarrow": false,
          "text": "green",
          "x": 1.55,
          "xanchor": "left",
          "xref": "x",
          "y": 19,
          "yref": "y"
         },
         {
          "align": "left",
          "font": {
           "color": "#000000"
          },
          "showarrow": false,
          "text": "Paillaco",
          "x": 2.55,
          "xanchor": "left",
          "xref": "x",
          "y": 19,
          "yref": "y"
         },
         {
          "align": "left",
          "font": {
           "color": "#000000"
          },
          "showarrow": false,
          "text": "MANAO",
          "x": -0.45,
          "xanchor": "left",
          "xref": "x",
          "y": 20,
          "yref": "y"
         },
         {
          "align": "left",
          "font": {
           "color": "#000000"
          },
          "showarrow": false,
          "text": "220.0",
          "x": 0.55,
          "xanchor": "left",
          "xref": "x",
          "y": 20,
          "yref": "y"
         },
         {
          "align": "left",
          "font": {
           "color": "#000000"
          },
          "showarrow": false,
          "text": "darkred",
          "x": 1.55,
          "xanchor": "left",
          "xref": "x",
          "y": 20,
          "yref": "y"
         },
         {
          "align": "left",
          "font": {
           "color": "#000000"
          },
          "showarrow": false,
          "text": "Paillaco",
          "x": 2.55,
          "xanchor": "left",
          "xref": "x",
          "y": 20,
          "yref": "y"
         },
         {
          "align": "left",
          "font": {
           "color": "#000000"
          },
          "showarrow": false,
          "text": "SANTA ROSA CHICA",
          "x": -0.45,
          "xanchor": "left",
          "xref": "x",
          "y": 21,
          "yref": "y"
         },
         {
          "align": "left",
          "font": {
           "color": "#000000"
          },
          "showarrow": false,
          "text": "394.0",
          "x": 0.55,
          "xanchor": "left",
          "xref": "x",
          "y": 21,
          "yref": "y"
         },
         {
          "align": "left",
          "font": {
           "color": "#000000"
          },
          "showarrow": false,
          "text": "green",
          "x": 1.55,
          "xanchor": "left",
          "xref": "x",
          "y": 21,
          "yref": "y"
         },
         {
          "align": "left",
          "font": {
           "color": "#000000"
          },
          "showarrow": false,
          "text": "Paillaco",
          "x": 2.55,
          "xanchor": "left",
          "xref": "x",
          "y": 21,
          "yref": "y"
         },
         {
          "align": "left",
          "font": {
           "color": "#000000"
          },
          "showarrow": false,
          "text": "SANTA ROSA GRANDE",
          "x": -0.45,
          "xanchor": "left",
          "xref": "x",
          "y": 22,
          "yref": "y"
         },
         {
          "align": "left",
          "font": {
           "color": "#000000"
          },
          "showarrow": false,
          "text": "319.0",
          "x": 0.55,
          "xanchor": "left",
          "xref": "x",
          "y": 22,
          "yref": "y"
         },
         {
          "align": "left",
          "font": {
           "color": "#000000"
          },
          "showarrow": false,
          "text": "green",
          "x": 1.55,
          "xanchor": "left",
          "xref": "x",
          "y": 22,
          "yref": "y"
         },
         {
          "align": "left",
          "font": {
           "color": "#000000"
          },
          "showarrow": false,
          "text": "Paillaco",
          "x": 2.55,
          "xanchor": "left",
          "xref": "x",
          "y": 22,
          "yref": "y"
         },
         {
          "align": "left",
          "font": {
           "color": "#000000"
          },
          "showarrow": false,
          "text": "LUMACO PAILLACO",
          "x": -0.45,
          "xanchor": "left",
          "xref": "x",
          "y": 23,
          "yref": "y"
         },
         {
          "align": "left",
          "font": {
           "color": "#000000"
          },
          "showarrow": false,
          "text": "710.0",
          "x": 0.55,
          "xanchor": "left",
          "xref": "x",
          "y": 23,
          "yref": "y"
         },
         {
          "align": "left",
          "font": {
           "color": "#000000"
          },
          "showarrow": false,
          "text": "orange",
          "x": 1.55,
          "xanchor": "left",
          "xref": "x",
          "y": 23,
          "yref": "y"
         },
         {
          "align": "left",
          "font": {
           "color": "#000000"
          },
          "showarrow": false,
          "text": "Paillaco",
          "x": 2.55,
          "xanchor": "left",
          "xref": "x",
          "y": 23,
          "yref": "y"
         },
         {
          "align": "left",
          "font": {
           "color": "#000000"
          },
          "showarrow": false,
          "text": "EL MAITEN",
          "x": -0.45,
          "xanchor": "left",
          "xref": "x",
          "y": 24,
          "yref": "y"
         },
         {
          "align": "left",
          "font": {
           "color": "#000000"
          },
          "showarrow": false,
          "text": "155.0",
          "x": 0.55,
          "xanchor": "left",
          "xref": "x",
          "y": 24,
          "yref": "y"
         },
         {
          "align": "left",
          "font": {
           "color": "#000000"
          },
          "showarrow": false,
          "text": "darkred",
          "x": 1.55,
          "xanchor": "left",
          "xref": "x",
          "y": 24,
          "yref": "y"
         },
         {
          "align": "left",
          "font": {
           "color": "#000000"
          },
          "showarrow": false,
          "text": "Paillaco",
          "x": 2.55,
          "xanchor": "left",
          "xref": "x",
          "y": 24,
          "yref": "y"
         },
         {
          "align": "left",
          "font": {
           "color": "#000000"
          },
          "showarrow": false,
          "text": "SANTA FILOMENA II",
          "x": -0.45,
          "xanchor": "left",
          "xref": "x",
          "y": 25,
          "yref": "y"
         },
         {
          "align": "left",
          "font": {
           "color": "#000000"
          },
          "showarrow": false,
          "text": "211.0",
          "x": 0.55,
          "xanchor": "left",
          "xref": "x",
          "y": 25,
          "yref": "y"
         },
         {
          "align": "left",
          "font": {
           "color": "#000000"
          },
          "showarrow": false,
          "text": "darkred",
          "x": 1.55,
          "xanchor": "left",
          "xref": "x",
          "y": 25,
          "yref": "y"
         },
         {
          "align": "left",
          "font": {
           "color": "#000000"
          },
          "showarrow": false,
          "text": "Paillaco",
          "x": 2.55,
          "xanchor": "left",
          "xref": "x",
          "y": 25,
          "yref": "y"
         },
         {
          "align": "left",
          "font": {
           "color": "#000000"
          },
          "showarrow": false,
          "text": "ANTILHUE",
          "x": -0.45,
          "xanchor": "left",
          "xref": "x",
          "y": 26,
          "yref": "y"
         },
         {
          "align": "left",
          "font": {
           "color": "#000000"
          },
          "showarrow": false,
          "text": "1414.0",
          "x": 0.55,
          "xanchor": "left",
          "xref": "x",
          "y": 26,
          "yref": "y"
         },
         {
          "align": "left",
          "font": {
           "color": "#000000"
          },
          "showarrow": false,
          "text": "red",
          "x": 1.55,
          "xanchor": "left",
          "xref": "x",
          "y": 26,
          "yref": "y"
         },
         {
          "align": "left",
          "font": {
           "color": "#000000"
          },
          "showarrow": false,
          "text": "Los Lagos",
          "x": 2.55,
          "xanchor": "left",
          "xref": "x",
          "y": 26,
          "yref": "y"
         },
         {
          "align": "left",
          "font": {
           "color": "#000000"
          },
          "showarrow": false,
          "text": "FOLILCO LOS LAGOS",
          "x": -0.45,
          "xanchor": "left",
          "xref": "x",
          "y": 27,
          "yref": "y"
         },
         {
          "align": "left",
          "font": {
           "color": "#000000"
          },
          "showarrow": false,
          "text": "474.0",
          "x": 0.55,
          "xanchor": "left",
          "xref": "x",
          "y": 27,
          "yref": "y"
         },
         {
          "align": "left",
          "font": {
           "color": "#000000"
          },
          "showarrow": false,
          "text": "green",
          "x": 1.55,
          "xanchor": "left",
          "xref": "x",
          "y": 27,
          "yref": "y"
         },
         {
          "align": "left",
          "font": {
           "color": "#000000"
          },
          "showarrow": false,
          "text": "Los Lagos",
          "x": 2.55,
          "xanchor": "left",
          "xref": "x",
          "y": 27,
          "yref": "y"
         },
         {
          "align": "left",
          "font": {
           "color": "#000000"
          },
          "showarrow": false,
          "text": "QUILQUILCO",
          "x": -0.45,
          "xanchor": "left",
          "xref": "x",
          "y": 28,
          "yref": "y"
         },
         {
          "align": "left",
          "font": {
           "color": "#000000"
          },
          "showarrow": false,
          "text": "149.0",
          "x": 0.55,
          "xanchor": "left",
          "xref": "x",
          "y": 28,
          "yref": "y"
         },
         {
          "align": "left",
          "font": {
           "color": "#000000"
          },
          "showarrow": false,
          "text": "darkred",
          "x": 1.55,
          "xanchor": "left",
          "xref": "x",
          "y": 28,
          "yref": "y"
         },
         {
          "align": "left",
          "font": {
           "color": "#000000"
          },
          "showarrow": false,
          "text": "Los Lagos",
          "x": 2.55,
          "xanchor": "left",
          "xref": "x",
          "y": 28,
          "yref": "y"
         },
         {
          "align": "left",
          "font": {
           "color": "#000000"
          },
          "showarrow": false,
          "text": "RIÑIHUE",
          "x": -0.45,
          "xanchor": "left",
          "xref": "x",
          "y": 29,
          "yref": "y"
         },
         {
          "align": "left",
          "font": {
           "color": "#000000"
          },
          "showarrow": false,
          "text": "208.0",
          "x": 0.55,
          "xanchor": "left",
          "xref": "x",
          "y": 29,
          "yref": "y"
         },
         {
          "align": "left",
          "font": {
           "color": "#000000"
          },
          "showarrow": false,
          "text": "darkred",
          "x": 1.55,
          "xanchor": "left",
          "xref": "x",
          "y": 29,
          "yref": "y"
         },
         {
          "align": "left",
          "font": {
           "color": "#000000"
          },
          "showarrow": false,
          "text": "Los Lagos",
          "x": 2.55,
          "xanchor": "left",
          "xref": "x",
          "y": 29,
          "yref": "y"
         },
         {
          "align": "left",
          "font": {
           "color": "#000000"
          },
          "showarrow": false,
          "text": "USTARITZ",
          "x": -0.45,
          "xanchor": "left",
          "xref": "x",
          "y": 30,
          "yref": "y"
         },
         {
          "align": "left",
          "font": {
           "color": "#000000"
          },
          "showarrow": false,
          "text": "434.0",
          "x": 0.55,
          "xanchor": "left",
          "xref": "x",
          "y": 30,
          "yref": "y"
         },
         {
          "align": "left",
          "font": {
           "color": "#000000"
          },
          "showarrow": false,
          "text": "green",
          "x": 1.55,
          "xanchor": "left",
          "xref": "x",
          "y": 30,
          "yref": "y"
         },
         {
          "align": "left",
          "font": {
           "color": "#000000"
          },
          "showarrow": false,
          "text": "Los Lagos",
          "x": 2.55,
          "xanchor": "left",
          "xref": "x",
          "y": 30,
          "yref": "y"
         },
         {
          "align": "left",
          "font": {
           "color": "#000000"
          },
          "showarrow": false,
          "text": "EL SALTO",
          "x": -0.45,
          "xanchor": "left",
          "xref": "x",
          "y": 31,
          "yref": "y"
         },
         {
          "align": "left",
          "font": {
           "color": "#000000"
          },
          "showarrow": false,
          "text": "592.0",
          "x": 0.55,
          "xanchor": "left",
          "xref": "x",
          "y": 31,
          "yref": "y"
         },
         {
          "align": "left",
          "font": {
           "color": "#000000"
          },
          "showarrow": false,
          "text": "orange",
          "x": 1.55,
          "xanchor": "left",
          "xref": "x",
          "y": 31,
          "yref": "y"
         },
         {
          "align": "left",
          "font": {
           "color": "#000000"
          },
          "showarrow": false,
          "text": "Los Lagos",
          "x": 2.55,
          "xanchor": "left",
          "xref": "x",
          "y": 31,
          "yref": "y"
         },
         {
          "align": "left",
          "font": {
           "color": "#000000"
          },
          "showarrow": false,
          "text": "PELLINADA LAS QUINIENTAS",
          "x": -0.45,
          "xanchor": "left",
          "xref": "x",
          "y": 32,
          "yref": "y"
         },
         {
          "align": "left",
          "font": {
           "color": "#000000"
          },
          "showarrow": false,
          "text": "434.0",
          "x": 0.55,
          "xanchor": "left",
          "xref": "x",
          "y": 32,
          "yref": "y"
         },
         {
          "align": "left",
          "font": {
           "color": "#000000"
          },
          "showarrow": false,
          "text": "green",
          "x": 1.55,
          "xanchor": "left",
          "xref": "x",
          "y": 32,
          "yref": "y"
         },
         {
          "align": "left",
          "font": {
           "color": "#000000"
          },
          "showarrow": false,
          "text": "Los Lagos",
          "x": 2.55,
          "xanchor": "left",
          "xref": "x",
          "y": 32,
          "yref": "y"
         },
         {
          "align": "left",
          "font": {
           "color": "#000000"
          },
          "showarrow": false,
          "text": "PANCUL",
          "x": -0.45,
          "xanchor": "left",
          "xref": "x",
          "y": 33,
          "yref": "y"
         },
         {
          "align": "left",
          "font": {
           "color": "#000000"
          },
          "showarrow": false,
          "text": "729.0",
          "x": 0.55,
          "xanchor": "left",
          "xref": "x",
          "y": 33,
          "yref": "y"
         },
         {
          "align": "left",
          "font": {
           "color": "#000000"
          },
          "showarrow": false,
          "text": "orange",
          "x": 1.55,
          "xanchor": "left",
          "xref": "x",
          "y": 33,
          "yref": "y"
         },
         {
          "align": "left",
          "font": {
           "color": "#000000"
          },
          "showarrow": false,
          "text": "Los Lagos",
          "x": 2.55,
          "xanchor": "left",
          "xref": "x",
          "y": 33,
          "yref": "y"
         },
         {
          "align": "left",
          "font": {
           "color": "#000000"
          },
          "showarrow": false,
          "text": "LOS COLIGÜES",
          "x": -0.45,
          "xanchor": "left",
          "xref": "x",
          "y": 34,
          "yref": "y"
         },
         {
          "align": "left",
          "font": {
           "color": "#000000"
          },
          "showarrow": false,
          "text": "456.0",
          "x": 0.55,
          "xanchor": "left",
          "xref": "x",
          "y": 34,
          "yref": "y"
         },
         {
          "align": "left",
          "font": {
           "color": "#000000"
          },
          "showarrow": false,
          "text": "green",
          "x": 1.55,
          "xanchor": "left",
          "xref": "x",
          "y": 34,
          "yref": "y"
         },
         {
          "align": "left",
          "font": {
           "color": "#000000"
          },
          "showarrow": false,
          "text": "Los Lagos",
          "x": 2.55,
          "xanchor": "left",
          "xref": "x",
          "y": 34,
          "yref": "y"
         },
         {
          "align": "left",
          "font": {
           "color": "#000000"
          },
          "showarrow": false,
          "text": "COLO COLO",
          "x": -0.45,
          "xanchor": "left",
          "xref": "x",
          "y": 35,
          "yref": "y"
         },
         {
          "align": "left",
          "font": {
           "color": "#000000"
          },
          "showarrow": false,
          "text": "298.0",
          "x": 0.55,
          "xanchor": "left",
          "xref": "x",
          "y": 35,
          "yref": "y"
         },
         {
          "align": "left",
          "font": {
           "color": "#000000"
          },
          "showarrow": false,
          "text": "darkred",
          "x": 1.55,
          "xanchor": "left",
          "xref": "x",
          "y": 35,
          "yref": "y"
         },
         {
          "align": "left",
          "font": {
           "color": "#000000"
          },
          "showarrow": false,
          "text": "Los Lagos",
          "x": 2.55,
          "xanchor": "left",
          "xref": "x",
          "y": 35,
          "yref": "y"
         },
         {
          "align": "left",
          "font": {
           "color": "#000000"
          },
          "showarrow": false,
          "text": "LAS HUELLLAS",
          "x": -0.45,
          "xanchor": "left",
          "xref": "x",
          "y": 36,
          "yref": "y"
         },
         {
          "align": "left",
          "font": {
           "color": "#000000"
          },
          "showarrow": false,
          "text": "276.0",
          "x": 0.55,
          "xanchor": "left",
          "xref": "x",
          "y": 36,
          "yref": "y"
         },
         {
          "align": "left",
          "font": {
           "color": "#000000"
          },
          "showarrow": false,
          "text": "darkred",
          "x": 1.55,
          "xanchor": "left",
          "xref": "x",
          "y": 36,
          "yref": "y"
         },
         {
          "align": "left",
          "font": {
           "color": "#000000"
          },
          "showarrow": false,
          "text": "Los Lagos",
          "x": 2.55,
          "xanchor": "left",
          "xref": "x",
          "y": 36,
          "yref": "y"
         },
         {
          "align": "left",
          "font": {
           "color": "#000000"
          },
          "showarrow": false,
          "text": "San Pedro",
          "x": -0.45,
          "xanchor": "left",
          "xref": "x",
          "y": 37,
          "yref": "y"
         },
         {
          "align": "left",
          "font": {
           "color": "#000000"
          },
          "showarrow": false,
          "text": "375.0",
          "x": 0.55,
          "xanchor": "left",
          "xref": "x",
          "y": 37,
          "yref": "y"
         },
         {
          "align": "left",
          "font": {
           "color": "#000000"
          },
          "showarrow": false,
          "text": "green",
          "x": 1.55,
          "xanchor": "left",
          "xref": "x",
          "y": 37,
          "yref": "y"
         },
         {
          "align": "left",
          "font": {
           "color": "#000000"
          },
          "showarrow": false,
          "text": "Los Lagos",
          "x": 2.55,
          "xanchor": "left",
          "xref": "x",
          "y": 37,
          "yref": "y"
         },
         {
          "align": "left",
          "font": {
           "color": "#000000"
          },
          "showarrow": false,
          "text": "Lipingue",
          "x": -0.45,
          "xanchor": "left",
          "xref": "x",
          "y": 38,
          "yref": "y"
         },
         {
          "align": "left",
          "font": {
           "color": "#000000"
          },
          "showarrow": false,
          "text": "434.0",
          "x": 0.55,
          "xanchor": "left",
          "xref": "x",
          "y": 38,
          "yref": "y"
         },
         {
          "align": "left",
          "font": {
           "color": "#000000"
          },
          "showarrow": false,
          "text": "green",
          "x": 1.55,
          "xanchor": "left",
          "xref": "x",
          "y": 38,
          "yref": "y"
         },
         {
          "align": "left",
          "font": {
           "color": "#000000"
          },
          "showarrow": false,
          "text": "Los Lagos",
          "x": 2.55,
          "xanchor": "left",
          "xref": "x",
          "y": 38,
          "yref": "y"
         },
         {
          "align": "left",
          "font": {
           "color": "#000000"
          },
          "showarrow": false,
          "text": "El Trebol",
          "x": -0.45,
          "xanchor": "left",
          "xref": "x",
          "y": 39,
          "yref": "y"
         },
         {
          "align": "left",
          "font": {
           "color": "#000000"
          },
          "showarrow": false,
          "text": "208.0",
          "x": 0.55,
          "xanchor": "left",
          "xref": "x",
          "y": 39,
          "yref": "y"
         },
         {
          "align": "left",
          "font": {
           "color": "#000000"
          },
          "showarrow": false,
          "text": "darkred",
          "x": 1.55,
          "xanchor": "left",
          "xref": "x",
          "y": 39,
          "yref": "y"
         },
         {
          "align": "left",
          "font": {
           "color": "#000000"
          },
          "showarrow": false,
          "text": "Los Lagos",
          "x": 2.55,
          "xanchor": "left",
          "xref": "x",
          "y": 39,
          "yref": "y"
         },
         {
          "align": "left",
          "font": {
           "color": "#000000"
          },
          "showarrow": false,
          "text": "Collico Sur",
          "x": -0.45,
          "xanchor": "left",
          "xref": "x",
          "y": 40,
          "yref": "y"
         },
         {
          "align": "left",
          "font": {
           "color": "#000000"
          },
          "showarrow": false,
          "text": "236.0",
          "x": 0.55,
          "xanchor": "left",
          "xref": "x",
          "y": 40,
          "yref": "y"
         },
         {
          "align": "left",
          "font": {
           "color": "#000000"
          },
          "showarrow": false,
          "text": "darkred",
          "x": 1.55,
          "xanchor": "left",
          "xref": "x",
          "y": 40,
          "yref": "y"
         },
         {
          "align": "left",
          "font": {
           "color": "#000000"
          },
          "showarrow": false,
          "text": "Los Lagos",
          "x": 2.55,
          "xanchor": "left",
          "xref": "x",
          "y": 40,
          "yref": "y"
         },
         {
          "align": "left",
          "font": {
           "color": "#000000"
          },
          "showarrow": false,
          "text": "Mi Tierra",
          "x": -0.45,
          "xanchor": "left",
          "xref": "x",
          "y": 41,
          "yref": "y"
         },
         {
          "align": "left",
          "font": {
           "color": "#000000"
          },
          "showarrow": false,
          "text": "71.0",
          "x": 0.55,
          "xanchor": "left",
          "xref": "x",
          "y": 41,
          "yref": "y"
         },
         {
          "align": "left",
          "font": {
           "color": "#000000"
          },
          "showarrow": false,
          "text": "darkred",
          "x": 1.55,
          "xanchor": "left",
          "xref": "x",
          "y": 41,
          "yref": "y"
         },
         {
          "align": "left",
          "font": {
           "color": "#000000"
          },
          "showarrow": false,
          "text": "Los Lagos",
          "x": 2.55,
          "xanchor": "left",
          "xref": "x",
          "y": 41,
          "yref": "y"
         },
         {
          "align": "left",
          "font": {
           "color": "#000000"
          },
          "showarrow": false,
          "text": "Puñaco",
          "x": -0.45,
          "xanchor": "left",
          "xref": "x",
          "y": 42,
          "yref": "y"
         },
         {
          "align": "left",
          "font": {
           "color": "#000000"
          },
          "showarrow": false,
          "text": "81.0",
          "x": 0.55,
          "xanchor": "left",
          "xref": "x",
          "y": 42,
          "yref": "y"
         },
         {
          "align": "left",
          "font": {
           "color": "#000000"
          },
          "showarrow": false,
          "text": "darkred",
          "x": 1.55,
          "xanchor": "left",
          "xref": "x",
          "y": 42,
          "yref": "y"
         },
         {
          "align": "left",
          "font": {
           "color": "#000000"
          },
          "showarrow": false,
          "text": "Los Lagos",
          "x": 2.55,
          "xanchor": "left",
          "xref": "x",
          "y": 42,
          "yref": "y"
         },
         {
          "align": "left",
          "font": {
           "color": "#000000"
          },
          "showarrow": false,
          "text": "Purey",
          "x": -0.45,
          "xanchor": "left",
          "xref": "x",
          "y": 43,
          "yref": "y"
         },
         {
          "align": "left",
          "font": {
           "color": "#000000"
          },
          "showarrow": false,
          "text": "78.0",
          "x": 0.55,
          "xanchor": "left",
          "xref": "x",
          "y": 43,
          "yref": "y"
         },
         {
          "align": "left",
          "font": {
           "color": "#000000"
          },
          "showarrow": false,
          "text": "darkred",
          "x": 1.55,
          "xanchor": "left",
          "xref": "x",
          "y": 43,
          "yref": "y"
         },
         {
          "align": "left",
          "font": {
           "color": "#000000"
          },
          "showarrow": false,
          "text": "Los Lagos",
          "x": 2.55,
          "xanchor": "left",
          "xref": "x",
          "y": 43,
          "yref": "y"
         },
         {
          "align": "left",
          "font": {
           "color": "#000000"
          },
          "showarrow": false,
          "text": "AMARGO-SAN CARLOS",
          "x": -0.45,
          "xanchor": "left",
          "xref": "x",
          "y": 44,
          "yref": "y"
         },
         {
          "align": "left",
          "font": {
           "color": "#000000"
          },
          "showarrow": false,
          "text": "2412.0",
          "x": 0.55,
          "xanchor": "left",
          "xref": "x",
          "y": 44,
          "yref": "y"
         },
         {
          "align": "left",
          "font": {
           "color": "#000000"
          },
          "showarrow": false,
          "text": "purple",
          "x": 1.55,
          "xanchor": "left",
          "xref": "x",
          "y": 44,
          "yref": "y"
         },
         {
          "align": "left",
          "font": {
           "color": "#000000"
          },
          "showarrow": false,
          "text": "Corral",
          "x": 2.55,
          "xanchor": "left",
          "xref": "x",
          "y": 44,
          "yref": "y"
         },
         {
          "align": "left",
          "font": {
           "color": "#000000"
          },
          "showarrow": false,
          "text": "ISLA DEL REY",
          "x": -0.45,
          "xanchor": "left",
          "xref": "x",
          "y": 45,
          "yref": "y"
         },
         {
          "align": "left",
          "font": {
           "color": "#000000"
          },
          "showarrow": false,
          "text": "620.0",
          "x": 0.55,
          "xanchor": "left",
          "xref": "x",
          "y": 45,
          "yref": "y"
         },
         {
          "align": "left",
          "font": {
           "color": "#000000"
          },
          "showarrow": false,
          "text": "orange",
          "x": 1.55,
          "xanchor": "left",
          "xref": "x",
          "y": 45,
          "yref": "y"
         },
         {
          "align": "left",
          "font": {
           "color": "#000000"
          },
          "showarrow": false,
          "text": "Corral",
          "x": 2.55,
          "xanchor": "left",
          "xref": "x",
          "y": 45,
          "yref": "y"
         },
         {
          "align": "left",
          "font": {
           "color": "#000000"
          },
          "showarrow": false,
          "text": "ISLA MANCERA",
          "x": -0.45,
          "xanchor": "left",
          "xref": "x",
          "y": 46,
          "yref": "y"
         },
         {
          "align": "left",
          "font": {
           "color": "#000000"
          },
          "showarrow": false,
          "text": "267.0",
          "x": 0.55,
          "xanchor": "left",
          "xref": "x",
          "y": 46,
          "yref": "y"
         },
         {
          "align": "left",
          "font": {
           "color": "#000000"
          },
          "showarrow": false,
          "text": "darkred",
          "x": 1.55,
          "xanchor": "left",
          "xref": "x",
          "y": 46,
          "yref": "y"
         },
         {
          "align": "left",
          "font": {
           "color": "#000000"
          },
          "showarrow": false,
          "text": "Corral",
          "x": 2.55,
          "xanchor": "left",
          "xref": "x",
          "y": 46,
          "yref": "y"
         },
         {
          "align": "left",
          "font": {
           "color": "#000000"
          },
          "showarrow": false,
          "text": "LA AGUADA",
          "x": -0.45,
          "xanchor": "left",
          "xref": "x",
          "y": 47,
          "yref": "y"
         },
         {
          "align": "left",
          "font": {
           "color": "#000000"
          },
          "showarrow": false,
          "text": "626.0",
          "x": 0.55,
          "xanchor": "left",
          "xref": "x",
          "y": 47,
          "yref": "y"
         },
         {
          "align": "left",
          "font": {
           "color": "#000000"
          },
          "showarrow": false,
          "text": "orange",
          "x": 1.55,
          "xanchor": "left",
          "xref": "x",
          "y": 47,
          "yref": "y"
         },
         {
          "align": "left",
          "font": {
           "color": "#000000"
          },
          "showarrow": false,
          "text": "Corral",
          "x": 2.55,
          "xanchor": "left",
          "xref": "x",
          "y": 47,
          "yref": "y"
         },
         {
          "align": "left",
          "font": {
           "color": "#000000"
          },
          "showarrow": false,
          "text": "CHAIHUIN",
          "x": -0.45,
          "xanchor": "left",
          "xref": "x",
          "y": 48,
          "yref": "y"
         },
         {
          "align": "left",
          "font": {
           "color": "#000000"
          },
          "showarrow": false,
          "text": "744.0",
          "x": 0.55,
          "xanchor": "left",
          "xref": "x",
          "y": 48,
          "yref": "y"
         },
         {
          "align": "left",
          "font": {
           "color": "#000000"
          },
          "showarrow": false,
          "text": "orange",
          "x": 1.55,
          "xanchor": "left",
          "xref": "x",
          "y": 48,
          "yref": "y"
         },
         {
          "align": "left",
          "font": {
           "color": "#000000"
          },
          "showarrow": false,
          "text": "Corral",
          "x": 2.55,
          "xanchor": "left",
          "xref": "x",
          "y": 48,
          "yref": "y"
         },
         {
          "align": "left",
          "font": {
           "color": "#000000"
          },
          "showarrow": false,
          "text": "CERROS DE CORRAL",
          "x": -0.45,
          "xanchor": "left",
          "xref": "x",
          "y": 49,
          "yref": "y"
         },
         {
          "align": "left",
          "font": {
           "color": "#000000"
          },
          "showarrow": false,
          "text": "484.0",
          "x": 0.55,
          "xanchor": "left",
          "xref": "x",
          "y": 49,
          "yref": "y"
         },
         {
          "align": "left",
          "font": {
           "color": "#000000"
          },
          "showarrow": false,
          "text": "green",
          "x": 1.55,
          "xanchor": "left",
          "xref": "x",
          "y": 49,
          "yref": "y"
         },
         {
          "align": "left",
          "font": {
           "color": "#000000"
          },
          "showarrow": false,
          "text": "Corral",
          "x": 2.55,
          "xanchor": "left",
          "xref": "x",
          "y": 49,
          "yref": "y"
         }
        ],
        "autosize": true,
        "margin": {
         "b": 0,
         "l": 0,
         "r": 0,
         "t": 0
        },
        "template": {
         "data": {
          "bar": [
           {
            "error_x": {
             "color": "#2a3f5f"
            },
            "error_y": {
             "color": "#2a3f5f"
            },
            "marker": {
             "line": {
              "color": "#E5ECF6",
              "width": 0.5
             },
             "pattern": {
              "fillmode": "overlay",
              "size": 10,
              "solidity": 0.2
             }
            },
            "type": "bar"
           }
          ],
          "barpolar": [
           {
            "marker": {
             "line": {
              "color": "#E5ECF6",
              "width": 0.5
             },
             "pattern": {
              "fillmode": "overlay",
              "size": 10,
              "solidity": 0.2
             }
            },
            "type": "barpolar"
           }
          ],
          "carpet": [
           {
            "aaxis": {
             "endlinecolor": "#2a3f5f",
             "gridcolor": "white",
             "linecolor": "white",
             "minorgridcolor": "white",
             "startlinecolor": "#2a3f5f"
            },
            "baxis": {
             "endlinecolor": "#2a3f5f",
             "gridcolor": "white",
             "linecolor": "white",
             "minorgridcolor": "white",
             "startlinecolor": "#2a3f5f"
            },
            "type": "carpet"
           }
          ],
          "choropleth": [
           {
            "colorbar": {
             "outlinewidth": 0,
             "ticks": ""
            },
            "type": "choropleth"
           }
          ],
          "contour": [
           {
            "colorbar": {
             "outlinewidth": 0,
             "ticks": ""
            },
            "colorscale": [
             [
              0,
              "#0d0887"
             ],
             [
              0.1111111111111111,
              "#46039f"
             ],
             [
              0.2222222222222222,
              "#7201a8"
             ],
             [
              0.3333333333333333,
              "#9c179e"
             ],
             [
              0.4444444444444444,
              "#bd3786"
             ],
             [
              0.5555555555555556,
              "#d8576b"
             ],
             [
              0.6666666666666666,
              "#ed7953"
             ],
             [
              0.7777777777777778,
              "#fb9f3a"
             ],
             [
              0.8888888888888888,
              "#fdca26"
             ],
             [
              1,
              "#f0f921"
             ]
            ],
            "type": "contour"
           }
          ],
          "contourcarpet": [
           {
            "colorbar": {
             "outlinewidth": 0,
             "ticks": ""
            },
            "type": "contourcarpet"
           }
          ],
          "heatmap": [
           {
            "colorbar": {
             "outlinewidth": 0,
             "ticks": ""
            },
            "colorscale": [
             [
              0,
              "#0d0887"
             ],
             [
              0.1111111111111111,
              "#46039f"
             ],
             [
              0.2222222222222222,
              "#7201a8"
             ],
             [
              0.3333333333333333,
              "#9c179e"
             ],
             [
              0.4444444444444444,
              "#bd3786"
             ],
             [
              0.5555555555555556,
              "#d8576b"
             ],
             [
              0.6666666666666666,
              "#ed7953"
             ],
             [
              0.7777777777777778,
              "#fb9f3a"
             ],
             [
              0.8888888888888888,
              "#fdca26"
             ],
             [
              1,
              "#f0f921"
             ]
            ],
            "type": "heatmap"
           }
          ],
          "heatmapgl": [
           {
            "colorbar": {
             "outlinewidth": 0,
             "ticks": ""
            },
            "colorscale": [
             [
              0,
              "#0d0887"
             ],
             [
              0.1111111111111111,
              "#46039f"
             ],
             [
              0.2222222222222222,
              "#7201a8"
             ],
             [
              0.3333333333333333,
              "#9c179e"
             ],
             [
              0.4444444444444444,
              "#bd3786"
             ],
             [
              0.5555555555555556,
              "#d8576b"
             ],
             [
              0.6666666666666666,
              "#ed7953"
             ],
             [
              0.7777777777777778,
              "#fb9f3a"
             ],
             [
              0.8888888888888888,
              "#fdca26"
             ],
             [
              1,
              "#f0f921"
             ]
            ],
            "type": "heatmapgl"
           }
          ],
          "histogram": [
           {
            "marker": {
             "pattern": {
              "fillmode": "overlay",
              "size": 10,
              "solidity": 0.2
             }
            },
            "type": "histogram"
           }
          ],
          "histogram2d": [
           {
            "colorbar": {
             "outlinewidth": 0,
             "ticks": ""
            },
            "colorscale": [
             [
              0,
              "#0d0887"
             ],
             [
              0.1111111111111111,
              "#46039f"
             ],
             [
              0.2222222222222222,
              "#7201a8"
             ],
             [
              0.3333333333333333,
              "#9c179e"
             ],
             [
              0.4444444444444444,
              "#bd3786"
             ],
             [
              0.5555555555555556,
              "#d8576b"
             ],
             [
              0.6666666666666666,
              "#ed7953"
             ],
             [
              0.7777777777777778,
              "#fb9f3a"
             ],
             [
              0.8888888888888888,
              "#fdca26"
             ],
             [
              1,
              "#f0f921"
             ]
            ],
            "type": "histogram2d"
           }
          ],
          "histogram2dcontour": [
           {
            "colorbar": {
             "outlinewidth": 0,
             "ticks": ""
            },
            "colorscale": [
             [
              0,
              "#0d0887"
             ],
             [
              0.1111111111111111,
              "#46039f"
             ],
             [
              0.2222222222222222,
              "#7201a8"
             ],
             [
              0.3333333333333333,
              "#9c179e"
             ],
             [
              0.4444444444444444,
              "#bd3786"
             ],
             [
              0.5555555555555556,
              "#d8576b"
             ],
             [
              0.6666666666666666,
              "#ed7953"
             ],
             [
              0.7777777777777778,
              "#fb9f3a"
             ],
             [
              0.8888888888888888,
              "#fdca26"
             ],
             [
              1,
              "#f0f921"
             ]
            ],
            "type": "histogram2dcontour"
           }
          ],
          "mesh3d": [
           {
            "colorbar": {
             "outlinewidth": 0,
             "ticks": ""
            },
            "type": "mesh3d"
           }
          ],
          "parcoords": [
           {
            "line": {
             "colorbar": {
              "outlinewidth": 0,
              "ticks": ""
             }
            },
            "type": "parcoords"
           }
          ],
          "pie": [
           {
            "automargin": true,
            "type": "pie"
           }
          ],
          "scatter": [
           {
            "fillpattern": {
             "fillmode": "overlay",
             "size": 10,
             "solidity": 0.2
            },
            "type": "scatter"
           }
          ],
          "scatter3d": [
           {
            "line": {
             "colorbar": {
              "outlinewidth": 0,
              "ticks": ""
             }
            },
            "marker": {
             "colorbar": {
              "outlinewidth": 0,
              "ticks": ""
             }
            },
            "type": "scatter3d"
           }
          ],
          "scattercarpet": [
           {
            "marker": {
             "colorbar": {
              "outlinewidth": 0,
              "ticks": ""
             }
            },
            "type": "scattercarpet"
           }
          ],
          "scattergeo": [
           {
            "marker": {
             "colorbar": {
              "outlinewidth": 0,
              "ticks": ""
             }
            },
            "type": "scattergeo"
           }
          ],
          "scattergl": [
           {
            "marker": {
             "colorbar": {
              "outlinewidth": 0,
              "ticks": ""
             }
            },
            "type": "scattergl"
           }
          ],
          "scattermapbox": [
           {
            "marker": {
             "colorbar": {
              "outlinewidth": 0,
              "ticks": ""
             }
            },
            "type": "scattermapbox"
           }
          ],
          "scatterpolar": [
           {
            "marker": {
             "colorbar": {
              "outlinewidth": 0,
              "ticks": ""
             }
            },
            "type": "scatterpolar"
           }
          ],
          "scatterpolargl": [
           {
            "marker": {
             "colorbar": {
              "outlinewidth": 0,
              "ticks": ""
             }
            },
            "type": "scatterpolargl"
           }
          ],
          "scatterternary": [
           {
            "marker": {
             "colorbar": {
              "outlinewidth": 0,
              "ticks": ""
             }
            },
            "type": "scatterternary"
           }
          ],
          "surface": [
           {
            "colorbar": {
             "outlinewidth": 0,
             "ticks": ""
            },
            "colorscale": [
             [
              0,
              "#0d0887"
             ],
             [
              0.1111111111111111,
              "#46039f"
             ],
             [
              0.2222222222222222,
              "#7201a8"
             ],
             [
              0.3333333333333333,
              "#9c179e"
             ],
             [
              0.4444444444444444,
              "#bd3786"
             ],
             [
              0.5555555555555556,
              "#d8576b"
             ],
             [
              0.6666666666666666,
              "#ed7953"
             ],
             [
              0.7777777777777778,
              "#fb9f3a"
             ],
             [
              0.8888888888888888,
              "#fdca26"
             ],
             [
              1,
              "#f0f921"
             ]
            ],
            "type": "surface"
           }
          ],
          "table": [
           {
            "cells": {
             "fill": {
              "color": "#EBF0F8"
             },
             "line": {
              "color": "white"
             }
            },
            "header": {
             "fill": {
              "color": "#C8D4E3"
             },
             "line": {
              "color": "white"
             }
            },
            "type": "table"
           }
          ]
         },
         "layout": {
          "annotationdefaults": {
           "arrowcolor": "#2a3f5f",
           "arrowhead": 0,
           "arrowwidth": 1
          },
          "autotypenumbers": "strict",
          "coloraxis": {
           "colorbar": {
            "outlinewidth": 0,
            "ticks": ""
           }
          },
          "colorscale": {
           "diverging": [
            [
             0,
             "#8e0152"
            ],
            [
             0.1,
             "#c51b7d"
            ],
            [
             0.2,
             "#de77ae"
            ],
            [
             0.3,
             "#f1b6da"
            ],
            [
             0.4,
             "#fde0ef"
            ],
            [
             0.5,
             "#f7f7f7"
            ],
            [
             0.6,
             "#e6f5d0"
            ],
            [
             0.7,
             "#b8e186"
            ],
            [
             0.8,
             "#7fbc41"
            ],
            [
             0.9,
             "#4d9221"
            ],
            [
             1,
             "#276419"
            ]
           ],
           "sequential": [
            [
             0,
             "#0d0887"
            ],
            [
             0.1111111111111111,
             "#46039f"
            ],
            [
             0.2222222222222222,
             "#7201a8"
            ],
            [
             0.3333333333333333,
             "#9c179e"
            ],
            [
             0.4444444444444444,
             "#bd3786"
            ],
            [
             0.5555555555555556,
             "#d8576b"
            ],
            [
             0.6666666666666666,
             "#ed7953"
            ],
            [
             0.7777777777777778,
             "#fb9f3a"
            ],
            [
             0.8888888888888888,
             "#fdca26"
            ],
            [
             1,
             "#f0f921"
            ]
           ],
           "sequentialminus": [
            [
             0,
             "#0d0887"
            ],
            [
             0.1111111111111111,
             "#46039f"
            ],
            [
             0.2222222222222222,
             "#7201a8"
            ],
            [
             0.3333333333333333,
             "#9c179e"
            ],
            [
             0.4444444444444444,
             "#bd3786"
            ],
            [
             0.5555555555555556,
             "#d8576b"
            ],
            [
             0.6666666666666666,
             "#ed7953"
            ],
            [
             0.7777777777777778,
             "#fb9f3a"
            ],
            [
             0.8888888888888888,
             "#fdca26"
            ],
            [
             1,
             "#f0f921"
            ]
           ]
          },
          "colorway": [
           "#636efa",
           "#EF553B",
           "#00cc96",
           "#ab63fa",
           "#FFA15A",
           "#19d3f3",
           "#FF6692",
           "#B6E880",
           "#FF97FF",
           "#FECB52"
          ],
          "font": {
           "color": "#2a3f5f"
          },
          "geo": {
           "bgcolor": "white",
           "lakecolor": "white",
           "landcolor": "#E5ECF6",
           "showlakes": true,
           "showland": true,
           "subunitcolor": "white"
          },
          "hoverlabel": {
           "align": "left"
          },
          "hovermode": "closest",
          "mapbox": {
           "style": "light"
          },
          "paper_bgcolor": "white",
          "plot_bgcolor": "#E5ECF6",
          "polar": {
           "angularaxis": {
            "gridcolor": "white",
            "linecolor": "white",
            "ticks": ""
           },
           "bgcolor": "#E5ECF6",
           "radialaxis": {
            "gridcolor": "white",
            "linecolor": "white",
            "ticks": ""
           }
          },
          "scene": {
           "xaxis": {
            "backgroundcolor": "#E5ECF6",
            "gridcolor": "white",
            "gridwidth": 2,
            "linecolor": "white",
            "showbackground": true,
            "ticks": "",
            "zerolinecolor": "white"
           },
           "yaxis": {
            "backgroundcolor": "#E5ECF6",
            "gridcolor": "white",
            "gridwidth": 2,
            "linecolor": "white",
            "showbackground": true,
            "ticks": "",
            "zerolinecolor": "white"
           },
           "zaxis": {
            "backgroundcolor": "#E5ECF6",
            "gridcolor": "white",
            "gridwidth": 2,
            "linecolor": "white",
            "showbackground": true,
            "ticks": "",
            "zerolinecolor": "white"
           }
          },
          "shapedefaults": {
           "line": {
            "color": "#2a3f5f"
           }
          },
          "ternary": {
           "aaxis": {
            "gridcolor": "white",
            "linecolor": "white",
            "ticks": ""
           },
           "baxis": {
            "gridcolor": "white",
            "linecolor": "white",
            "ticks": ""
           },
           "bgcolor": "#E5ECF6",
           "caxis": {
            "gridcolor": "white",
            "linecolor": "white",
            "ticks": ""
           }
          },
          "title": {
           "x": 0.05
          },
          "xaxis": {
           "automargin": true,
           "gridcolor": "white",
           "linecolor": "white",
           "ticks": "",
           "title": {
            "standoff": 15
           },
           "zerolinecolor": "white",
           "zerolinewidth": 2
          },
          "yaxis": {
           "automargin": true,
           "gridcolor": "white",
           "linecolor": "white",
           "ticks": "",
           "title": {
            "standoff": 15
           },
           "zerolinecolor": "white",
           "zerolinewidth": 2
          }
         }
        },
        "xaxis": {
         "autorange": true,
         "dtick": 1,
         "gridwidth": 2,
         "range": [
          -0.5,
          3.5
         ],
         "showticklabels": false,
         "tick0": -0.5,
         "ticks": "",
         "zeroline": false
        },
        "yaxis": {
         "autorange": true,
         "dtick": 1,
         "gridwidth": 2,
         "range": [
          49.5,
          -0.5
         ],
         "showticklabels": false,
         "tick0": 0.5,
         "ticks": "",
         "zeroline": false
        }
       }
      },
      "image/png": "[encoded data removed]",
      "text/html": [
       "<div>                            <div id=\"54c6e606-734b-4c51-838d-cdf03a040217\" class=\"plotly-graph-div\" style=\"height:1550px; width:100%;\"></div>            <script type=\"text/javascript\">                require([\"plotly\"], function(Plotly) {                    window.PLOTLYENV=window.PLOTLYENV || {};                                    if (document.getElementById(\"54c6e606-734b-4c51-838d-cdf03a040217\")) {                    Plotly.newPlot(                        \"54c6e606-734b-4c51-838d-cdf03a040217\",                        [{\"colorscale\":[[0,\"#00083e\"],[0.5,\"#ededee\"],[1,\"#ffffff\"]],\"hoverinfo\":\"none\",\"opacity\":0.75,\"showscale\":false,\"z\":[[0,0,0,0],[0.5,0.5,0.5,0.5],[1,1,1,1],[0.5,0.5,0.5,0.5],[1,1,1,1],[0.5,0.5,0.5,0.5],[1,1,1,1],[0.5,0.5,0.5,0.5],[1,1,1,1],[0.5,0.5,0.5,0.5],[1,1,1,1],[0.5,0.5,0.5,0.5],[1,1,1,1],[0.5,0.5,0.5,0.5],[1,1,1,1],[0.5,0.5,0.5,0.5],[1,1,1,1],[0.5,0.5,0.5,0.5],[1,1,1,1],[0.5,0.5,0.5,0.5],[1,1,1,1],[0.5,0.5,0.5,0.5],[1,1,1,1],[0.5,0.5,0.5,0.5],[1,1,1,1],[0.5,0.5,0.5,0.5],[1,1,1,1],[0.5,0.5,0.5,0.5],[1,1,1,1],[0.5,0.5,0.5,0.5],[1,1,1,1],[0.5,0.5,0.5,0.5],[1,1,1,1],[0.5,0.5,0.5,0.5],[1,1,1,1],[0.5,0.5,0.5,0.5],[1,1,1,1],[0.5,0.5,0.5,0.5],[1,1,1,1],[0.5,0.5,0.5,0.5],[1,1,1,1],[0.5,0.5,0.5,0.5],[1,1,1,1],[0.5,0.5,0.5,0.5],[1,1,1,1],[0.5,0.5,0.5,0.5],[1,1,1,1],[0.5,0.5,0.5,0.5],[1,1,1,1],[0.5,0.5,0.5,0.5]],\"type\":\"heatmap\"}],                        {\"annotations\":[{\"align\":\"left\",\"font\":{\"color\":\"#ffffff\"},\"showarrow\":false,\"text\":\"<b>Nombre Ubicaci\\u00f3n</b>\",\"x\":-0.45,\"xanchor\":\"left\",\"xref\":\"x\",\"y\":0,\"yref\":\"y\"},{\"align\":\"left\",\"font\":{\"color\":\"#ffffff\"},\"showarrow\":false,\"text\":\"<b>Beneficiarios</b>\",\"x\":0.55,\"xanchor\":\"left\",\"xref\":\"x\",\"y\":0,\"yref\":\"y\"},{\"align\":\"left\",\"font\":{\"color\":\"#ffffff\"},\"showarrow\":false,\"text\":\"<b>Color</b>\",\"x\":1.55,\"xanchor\":\"left\",\"xref\":\"x\",\"y\":0,\"yref\":\"y\"},{\"align\":\"left\",\"font\":{\"color\":\"#ffffff\"},\"showarrow\":false,\"text\":\"<b>Comunas</b>\",\"x\":2.55,\"xanchor\":\"left\",\"xref\":\"x\",\"y\":0,\"yref\":\"y\"},{\"align\":\"left\",\"font\":{\"color\":\"#000000\"},\"showarrow\":false,\"text\":\"PISHUINCO\",\"x\":-0.45,\"xanchor\":\"left\",\"xref\":\"x\",\"y\":1,\"yref\":\"y\"},{\"align\":\"left\",\"font\":{\"color\":\"#000000\"},\"showarrow\":false,\"text\":\"322.0\",\"x\":0.55,\"xanchor\":\"left\",\"xref\":\"x\",\"y\":1,\"yref\":\"y\"},{\"align\":\"left\",\"font\":{\"color\":\"#000000\"},\"showarrow\":false,\"text\":\"green\",\"x\":1.55,\"xanchor\":\"left\",\"xref\":\"x\",\"y\":1,\"yref\":\"y\"},{\"align\":\"left\",\"font\":{\"color\":\"#000000\"},\"showarrow\":false,\"text\":\"Valdivia\",\"x\":2.55,\"xanchor\":\"left\",\"xref\":\"x\",\"y\":1,\"yref\":\"y\"},{\"align\":\"left\",\"font\":{\"color\":\"#000000\"},\"showarrow\":false,\"text\":\"CURI\\u00d1ANCO\",\"x\":-0.45,\"xanchor\":\"left\",\"xref\":\"x\",\"y\":2,\"yref\":\"y\"},{\"align\":\"left\",\"font\":{\"color\":\"#000000\"},\"showarrow\":false,\"text\":\"2294.0\",\"x\":0.55,\"xanchor\":\"left\",\"xref\":\"x\",\"y\":2,\"yref\":\"y\"},{\"align\":\"left\",\"font\":{\"color\":\"#000000\"},\"showarrow\":false,\"text\":\"purple\",\"x\":1.55,\"xanchor\":\"left\",\"xref\":\"x\",\"y\":2,\"yref\":\"y\"},{\"align\":\"left\",\"font\":{\"color\":\"#000000\"},\"showarrow\":false,\"text\":\"Valdivia\",\"x\":2.55,\"xanchor\":\"left\",\"xref\":\"x\",\"y\":2,\"yref\":\"y\"},{\"align\":\"left\",\"font\":{\"color\":\"#000000\"},\"showarrow\":false,\"text\":\"HUELLELHUE\",\"x\":-0.45,\"xanchor\":\"left\",\"xref\":\"x\",\"y\":3,\"yref\":\"y\"},{\"align\":\"left\",\"font\":{\"color\":\"#000000\"},\"showarrow\":false,\"text\":\"310.0\",\"x\":0.55,\"xanchor\":\"left\",\"xref\":\"x\",\"y\":3,\"yref\":\"y\"},{\"align\":\"left\",\"font\":{\"color\":\"#000000\"},\"showarrow\":false,\"text\":\"green\",\"x\":1.55,\"xanchor\":\"left\",\"xref\":\"x\",\"y\":3,\"yref\":\"y\"},{\"align\":\"left\",\"font\":{\"color\":\"#000000\"},\"showarrow\":false,\"text\":\"Valdivia\",\"x\":2.55,\"xanchor\":\"left\",\"xref\":\"x\",\"y\":3,\"yref\":\"y\"},{\"align\":\"left\",\"font\":{\"color\":\"#000000\"},\"showarrow\":false,\"text\":\"LAS GAVIOTAS\",\"x\":-0.45,\"xanchor\":\"left\",\"xref\":\"x\",\"y\":4,\"yref\":\"y\"},{\"align\":\"left\",\"font\":{\"color\":\"#000000\"},\"showarrow\":false,\"text\":\"1048.0\",\"x\":0.55,\"xanchor\":\"left\",\"xref\":\"x\",\"y\":4,\"yref\":\"y\"},{\"align\":\"left\",\"font\":{\"color\":\"#000000\"},\"showarrow\":false,\"text\":\"red\",\"x\":1.55,\"xanchor\":\"left\",\"xref\":\"x\",\"y\":4,\"yref\":\"y\"},{\"align\":\"left\",\"font\":{\"color\":\"#000000\"},\"showarrow\":false,\"text\":\"Valdivia\",\"x\":2.55,\"xanchor\":\"left\",\"xref\":\"x\",\"y\":4,\"yref\":\"y\"},{\"align\":\"left\",\"font\":{\"color\":\"#000000\"},\"showarrow\":false,\"text\":\"NIEBLA-LOS MOLINOS\",\"x\":-0.45,\"xanchor\":\"left\",\"xref\":\"x\",\"y\":5,\"yref\":\"y\"},{\"align\":\"left\",\"font\":{\"color\":\"#000000\"},\"showarrow\":false,\"text\":\"4021.0\",\"x\":0.55,\"xanchor\":\"left\",\"xref\":\"x\",\"y\":5,\"yref\":\"y\"},{\"align\":\"left\",\"font\":{\"color\":\"#000000\"},\"showarrow\":false,\"text\":\"purple\",\"x\":1.55,\"xanchor\":\"left\",\"xref\":\"x\",\"y\":5,\"yref\":\"y\"},{\"align\":\"left\",\"font\":{\"color\":\"#000000\"},\"showarrow\":false,\"text\":\"Valdivia\",\"x\":2.55,\"xanchor\":\"left\",\"xref\":\"x\",\"y\":5,\"yref\":\"y\"},{\"align\":\"left\",\"font\":{\"color\":\"#000000\"},\"showarrow\":false,\"text\":\"PUNUCAPA\",\"x\":-0.45,\"xanchor\":\"left\",\"xref\":\"x\",\"y\":6,\"yref\":\"y\"},{\"align\":\"left\",\"font\":{\"color\":\"#000000\"},\"showarrow\":false,\"text\":\"459.0\",\"x\":0.55,\"xanchor\":\"left\",\"xref\":\"x\",\"y\":6,\"yref\":\"y\"},{\"align\":\"left\",\"font\":{\"color\":\"#000000\"},\"showarrow\":false,\"text\":\"green\",\"x\":1.55,\"xanchor\":\"left\",\"xref\":\"x\",\"y\":6,\"yref\":\"y\"},{\"align\":\"left\",\"font\":{\"color\":\"#000000\"},\"showarrow\":false,\"text\":\"Valdivia\",\"x\":2.55,\"xanchor\":\"left\",\"xref\":\"x\",\"y\":6,\"yref\":\"y\"},{\"align\":\"left\",\"font\":{\"color\":\"#000000\"},\"showarrow\":false,\"text\":\"SAN IGNACIO-PLAYA ROSADA\",\"x\":-0.45,\"xanchor\":\"left\",\"xref\":\"x\",\"y\":7,\"yref\":\"y\"},{\"align\":\"left\",\"font\":{\"color\":\"#000000\"},\"showarrow\":false,\"text\":\"936.0\",\"x\":0.55,\"xanchor\":\"left\",\"xref\":\"x\",\"y\":7,\"yref\":\"y\"},{\"align\":\"left\",\"font\":{\"color\":\"#000000\"},\"showarrow\":false,\"text\":\"orange\",\"x\":1.55,\"xanchor\":\"left\",\"xref\":\"x\",\"y\":7,\"yref\":\"y\"},{\"align\":\"left\",\"font\":{\"color\":\"#000000\"},\"showarrow\":false,\"text\":\"Valdivia\",\"x\":2.55,\"xanchor\":\"left\",\"xref\":\"x\",\"y\":7,\"yref\":\"y\"},{\"align\":\"left\",\"font\":{\"color\":\"#000000\"},\"showarrow\":false,\"text\":\"TRES ESPINOS\",\"x\":-0.45,\"xanchor\":\"left\",\"xref\":\"x\",\"y\":8,\"yref\":\"y\"},{\"align\":\"left\",\"font\":{\"color\":\"#000000\"},\"showarrow\":false,\"text\":\"1091.0\",\"x\":0.55,\"xanchor\":\"left\",\"xref\":\"x\",\"y\":8,\"yref\":\"y\"},{\"align\":\"left\",\"font\":{\"color\":\"#000000\"},\"showarrow\":false,\"text\":\"red\",\"x\":1.55,\"xanchor\":\"left\",\"xref\":\"x\",\"y\":8,\"yref\":\"y\"},{\"align\":\"left\",\"font\":{\"color\":\"#000000\"},\"showarrow\":false,\"text\":\"Valdivia\",\"x\":2.55,\"xanchor\":\"left\",\"xref\":\"x\",\"y\":8,\"yref\":\"y\"},{\"align\":\"left\",\"font\":{\"color\":\"#000000\"},\"showarrow\":false,\"text\":\"VILLA CAYUMAPU\",\"x\":-0.45,\"xanchor\":\"left\",\"xref\":\"x\",\"y\":9,\"yref\":\"y\"},{\"align\":\"left\",\"font\":{\"color\":\"#000000\"},\"showarrow\":false,\"text\":\"1327.0\",\"x\":0.55,\"xanchor\":\"left\",\"xref\":\"x\",\"y\":9,\"yref\":\"y\"},{\"align\":\"left\",\"font\":{\"color\":\"#000000\"},\"showarrow\":false,\"text\":\"red\",\"x\":1.55,\"xanchor\":\"left\",\"xref\":\"x\",\"y\":9,\"yref\":\"y\"},{\"align\":\"left\",\"font\":{\"color\":\"#000000\"},\"showarrow\":false,\"text\":\"Valdivia\",\"x\":2.55,\"xanchor\":\"left\",\"xref\":\"x\",\"y\":9,\"yref\":\"y\"},{\"align\":\"left\",\"font\":{\"color\":\"#000000\"},\"showarrow\":false,\"text\":\"EL ARENAL SANTA ELVIRA\",\"x\":-0.45,\"xanchor\":\"left\",\"xref\":\"x\",\"y\":10,\"yref\":\"y\"},{\"align\":\"left\",\"font\":{\"color\":\"#000000\"},\"showarrow\":false,\"text\":\"549.0\",\"x\":0.55,\"xanchor\":\"left\",\"xref\":\"x\",\"y\":10,\"yref\":\"y\"},{\"align\":\"left\",\"font\":{\"color\":\"#000000\"},\"showarrow\":false,\"text\":\"orange\",\"x\":1.55,\"xanchor\":\"left\",\"xref\":\"x\",\"y\":10,\"yref\":\"y\"},{\"align\":\"left\",\"font\":{\"color\":\"#000000\"},\"showarrow\":false,\"text\":\"Valdivia\",\"x\":2.55,\"xanchor\":\"left\",\"xref\":\"x\",\"y\":10,\"yref\":\"y\"},{\"align\":\"left\",\"font\":{\"color\":\"#000000\"},\"showarrow\":false,\"text\":\"PAILLAO\",\"x\":-0.45,\"xanchor\":\"left\",\"xref\":\"x\",\"y\":11,\"yref\":\"y\"},{\"align\":\"left\",\"font\":{\"color\":\"#000000\"},\"showarrow\":false,\"text\":\"871.0\",\"x\":0.55,\"xanchor\":\"left\",\"xref\":\"x\",\"y\":11,\"yref\":\"y\"},{\"align\":\"left\",\"font\":{\"color\":\"#000000\"},\"showarrow\":false,\"text\":\"orange\",\"x\":1.55,\"xanchor\":\"left\",\"xref\":\"x\",\"y\":11,\"yref\":\"y\"},{\"align\":\"left\",\"font\":{\"color\":\"#000000\"},\"showarrow\":false,\"text\":\"Valdivia\",\"x\":2.55,\"xanchor\":\"left\",\"xref\":\"x\",\"y\":11,\"yref\":\"y\"},{\"align\":\"left\",\"font\":{\"color\":\"#000000\"},\"showarrow\":false,\"text\":\"CABO BLANCO\",\"x\":-0.45,\"xanchor\":\"left\",\"xref\":\"x\",\"y\":12,\"yref\":\"y\"},{\"align\":\"left\",\"font\":{\"color\":\"#000000\"},\"showarrow\":false,\"text\":\"543.0\",\"x\":0.55,\"xanchor\":\"left\",\"xref\":\"x\",\"y\":12,\"yref\":\"y\"},{\"align\":\"left\",\"font\":{\"color\":\"#000000\"},\"showarrow\":false,\"text\":\"green\",\"x\":1.55,\"xanchor\":\"left\",\"xref\":\"x\",\"y\":12,\"yref\":\"y\"},{\"align\":\"left\",\"font\":{\"color\":\"#000000\"},\"showarrow\":false,\"text\":\"Valdivia\",\"x\":2.55,\"xanchor\":\"left\",\"xref\":\"x\",\"y\":12,\"yref\":\"y\"},{\"align\":\"left\",\"font\":{\"color\":\"#000000\"},\"showarrow\":false,\"text\":\"EL ARENAL KM 2\",\"x\":-0.45,\"xanchor\":\"left\",\"xref\":\"x\",\"y\":13,\"yref\":\"y\"},{\"align\":\"left\",\"font\":{\"color\":\"#000000\"},\"showarrow\":false,\"text\":\"623.0\",\"x\":0.55,\"xanchor\":\"left\",\"xref\":\"x\",\"y\":13,\"yref\":\"y\"},{\"align\":\"left\",\"font\":{\"color\":\"#000000\"},\"showarrow\":false,\"text\":\"orange\",\"x\":1.55,\"xanchor\":\"left\",\"xref\":\"x\",\"y\":13,\"yref\":\"y\"},{\"align\":\"left\",\"font\":{\"color\":\"#000000\"},\"showarrow\":false,\"text\":\"Valdivia\",\"x\":2.55,\"xanchor\":\"left\",\"xref\":\"x\",\"y\":13,\"yref\":\"y\"},{\"align\":\"left\",\"font\":{\"color\":\"#000000\"},\"showarrow\":false,\"text\":\"Chabelita\",\"x\":-0.45,\"xanchor\":\"left\",\"xref\":\"x\",\"y\":14,\"yref\":\"y\"},{\"align\":\"left\",\"font\":{\"color\":\"#000000\"},\"showarrow\":false,\"text\":\"434.0\",\"x\":0.55,\"xanchor\":\"left\",\"xref\":\"x\",\"y\":14,\"yref\":\"y\"},{\"align\":\"left\",\"font\":{\"color\":\"#000000\"},\"showarrow\":false,\"text\":\"green\",\"x\":1.55,\"xanchor\":\"left\",\"xref\":\"x\",\"y\":14,\"yref\":\"y\"},{\"align\":\"left\",\"font\":{\"color\":\"#000000\"},\"showarrow\":false,\"text\":\"Valdivia\",\"x\":2.55,\"xanchor\":\"left\",\"xref\":\"x\",\"y\":14,\"yref\":\"y\"},{\"align\":\"left\",\"font\":{\"color\":\"#000000\"},\"showarrow\":false,\"text\":\"ARCO IRIS\",\"x\":-0.45,\"xanchor\":\"left\",\"xref\":\"x\",\"y\":15,\"yref\":\"y\"},{\"align\":\"left\",\"font\":{\"color\":\"#000000\"},\"showarrow\":false,\"text\":\"394.0\",\"x\":0.55,\"xanchor\":\"left\",\"xref\":\"x\",\"y\":15,\"yref\":\"y\"},{\"align\":\"left\",\"font\":{\"color\":\"#000000\"},\"showarrow\":false,\"text\":\"green\",\"x\":1.55,\"xanchor\":\"left\",\"xref\":\"x\",\"y\":15,\"yref\":\"y\"},{\"align\":\"left\",\"font\":{\"color\":\"#000000\"},\"showarrow\":false,\"text\":\"Paillaco\",\"x\":2.55,\"xanchor\":\"left\",\"xref\":\"x\",\"y\":15,\"yref\":\"y\"},{\"align\":\"left\",\"font\":{\"color\":\"#000000\"},\"showarrow\":false,\"text\":\"EL LLOLLY\",\"x\":-0.45,\"xanchor\":\"left\",\"xref\":\"x\",\"y\":16,\"yref\":\"y\"},{\"align\":\"left\",\"font\":{\"color\":\"#000000\"},\"showarrow\":false,\"text\":\"428.0\",\"x\":0.55,\"xanchor\":\"left\",\"xref\":\"x\",\"y\":16,\"yref\":\"y\"},{\"align\":\"left\",\"font\":{\"color\":\"#000000\"},\"showarrow\":false,\"text\":\"green\",\"x\":1.55,\"xanchor\":\"left\",\"xref\":\"x\",\"y\":16,\"yref\":\"y\"},{\"align\":\"left\",\"font\":{\"color\":\"#000000\"},\"showarrow\":false,\"text\":\"Paillaco\",\"x\":2.55,\"xanchor\":\"left\",\"xref\":\"x\",\"y\":16,\"yref\":\"y\"},{\"align\":\"left\",\"font\":{\"color\":\"#000000\"},\"showarrow\":false,\"text\":\"PICHIRROPULLI\",\"x\":-0.45,\"xanchor\":\"left\",\"xref\":\"x\",\"y\":17,\"yref\":\"y\"},{\"align\":\"left\",\"font\":{\"color\":\"#000000\"},\"showarrow\":false,\"text\":\"1079.0\",\"x\":0.55,\"xanchor\":\"left\",\"xref\":\"x\",\"y\":17,\"yref\":\"y\"},{\"align\":\"left\",\"font\":{\"color\":\"#000000\"},\"showarrow\":false,\"text\":\"red\",\"x\":1.55,\"xanchor\":\"left\",\"xref\":\"x\",\"y\":17,\"yref\":\"y\"},{\"align\":\"left\",\"font\":{\"color\":\"#000000\"},\"showarrow\":false,\"text\":\"Paillaco\",\"x\":2.55,\"xanchor\":\"left\",\"xref\":\"x\",\"y\":17,\"yref\":\"y\"},{\"align\":\"left\",\"font\":{\"color\":\"#000000\"},\"showarrow\":false,\"text\":\"REUMEN\",\"x\":-0.45,\"xanchor\":\"left\",\"xref\":\"x\",\"y\":18,\"yref\":\"y\"},{\"align\":\"left\",\"font\":{\"color\":\"#000000\"},\"showarrow\":false,\"text\":\"1442.0\",\"x\":0.55,\"xanchor\":\"left\",\"xref\":\"x\",\"y\":18,\"yref\":\"y\"},{\"align\":\"left\",\"font\":{\"color\":\"#000000\"},\"showarrow\":false,\"text\":\"red\",\"x\":1.55,\"xanchor\":\"left\",\"xref\":\"x\",\"y\":18,\"yref\":\"y\"},{\"align\":\"left\",\"font\":{\"color\":\"#000000\"},\"showarrow\":false,\"text\":\"Paillaco\",\"x\":2.55,\"xanchor\":\"left\",\"xref\":\"x\",\"y\":18,\"yref\":\"y\"},{\"align\":\"left\",\"font\":{\"color\":\"#000000\"},\"showarrow\":false,\"text\":\"SANTA FILOMENA\",\"x\":-0.45,\"xanchor\":\"left\",\"xref\":\"x\",\"y\":19,\"yref\":\"y\"},{\"align\":\"left\",\"font\":{\"color\":\"#000000\"},\"showarrow\":false,\"text\":\"403.0\",\"x\":0.55,\"xanchor\":\"left\",\"xref\":\"x\",\"y\":19,\"yref\":\"y\"},{\"align\":\"left\",\"font\":{\"color\":\"#000000\"},\"showarrow\":false,\"text\":\"green\",\"x\":1.55,\"xanchor\":\"left\",\"xref\":\"x\",\"y\":19,\"yref\":\"y\"},{\"align\":\"left\",\"font\":{\"color\":\"#000000\"},\"showarrow\":false,\"text\":\"Paillaco\",\"x\":2.55,\"xanchor\":\"left\",\"xref\":\"x\",\"y\":19,\"yref\":\"y\"},{\"align\":\"left\",\"font\":{\"color\":\"#000000\"},\"showarrow\":false,\"text\":\"MANAO\",\"x\":-0.45,\"xanchor\":\"left\",\"xref\":\"x\",\"y\":20,\"yref\":\"y\"},{\"align\":\"left\",\"font\":{\"color\":\"#000000\"},\"showarrow\":false,\"text\":\"220.0\",\"x\":0.55,\"xanchor\":\"left\",\"xref\":\"x\",\"y\":20,\"yref\":\"y\"},{\"align\":\"left\",\"font\":{\"color\":\"#000000\"},\"showarrow\":false,\"text\":\"darkred\",\"x\":1.55,\"xanchor\":\"left\",\"xref\":\"x\",\"y\":20,\"yref\":\"y\"},{\"align\":\"left\",\"font\":{\"color\":\"#000000\"},\"showarrow\":false,\"text\":\"Paillaco\",\"x\":2.55,\"xanchor\":\"left\",\"xref\":\"x\",\"y\":20,\"yref\":\"y\"},{\"align\":\"left\",\"font\":{\"color\":\"#000000\"},\"showarrow\":false,\"text\":\"SANTA ROSA CHICA\",\"x\":-0.45,\"xanchor\":\"left\",\"xref\":\"x\",\"y\":21,\"yref\":\"y\"},{\"align\":\"left\",\"font\":{\"color\":\"#000000\"},\"showarrow\":false,\"text\":\"394.0\",\"x\":0.55,\"xanchor\":\"left\",\"xref\":\"x\",\"y\":21,\"yref\":\"y\"},{\"align\":\"left\",\"font\":{\"color\":\"#000000\"},\"showarrow\":false,\"text\":\"green\",\"x\":1.55,\"xanchor\":\"left\",\"xref\":\"x\",\"y\":21,\"yref\":\"y\"},{\"align\":\"left\",\"font\":{\"color\":\"#000000\"},\"showarrow\":false,\"text\":\"Paillaco\",\"x\":2.55,\"xanchor\":\"left\",\"xref\":\"x\",\"y\":21,\"yref\":\"y\"},{\"align\":\"left\",\"font\":{\"color\":\"#000000\"},\"showarrow\":false,\"text\":\"SANTA ROSA GRANDE\",\"x\":-0.45,\"xanchor\":\"left\",\"xref\":\"x\",\"y\":22,\"yref\":\"y\"},{\"align\":\"left\",\"font\":{\"color\":\"#000000\"},\"showarrow\":false,\"text\":\"319.0\",\"x\":0.55,\"xanchor\":\"left\",\"xref\":\"x\",\"y\":22,\"yref\":\"y\"},{\"align\":\"left\",\"font\":{\"color\":\"#000000\"},\"showarrow\":false,\"text\":\"green\",\"x\":1.55,\"xanchor\":\"left\",\"xref\":\"x\",\"y\":22,\"yref\":\"y\"},{\"align\":\"left\",\"font\":{\"color\":\"#000000\"},\"showarrow\":false,\"text\":\"Paillaco\",\"x\":2.55,\"xanchor\":\"left\",\"xref\":\"x\",\"y\":22,\"yref\":\"y\"},{\"align\":\"left\",\"font\":{\"color\":\"#000000\"},\"showarrow\":false,\"text\":\"LUMACO PAILLACO\",\"x\":-0.45,\"xanchor\":\"left\",\"xref\":\"x\",\"y\":23,\"yref\":\"y\"},{\"align\":\"left\",\"font\":{\"color\":\"#000000\"},\"showarrow\":false,\"text\":\"710.0\",\"x\":0.55,\"xanchor\":\"left\",\"xref\":\"x\",\"y\":23,\"yref\":\"y\"},{\"align\":\"left\",\"font\":{\"color\":\"#000000\"},\"showarrow\":false,\"text\":\"orange\",\"x\":1.55,\"xanchor\":\"left\",\"xref\":\"x\",\"y\":23,\"yref\":\"y\"},{\"align\":\"left\",\"font\":{\"color\":\"#000000\"},\"showarrow\":false,\"text\":\"Paillaco\",\"x\":2.55,\"xanchor\":\"left\",\"xref\":\"x\",\"y\":23,\"yref\":\"y\"},{\"align\":\"left\",\"font\":{\"color\":\"#000000\"},\"showarrow\":false,\"text\":\"EL MAITEN\",\"x\":-0.45,\"xanchor\":\"left\",\"xref\":\"x\",\"y\":24,\"yref\":\"y\"},{\"align\":\"left\",\"font\":{\"color\":\"#000000\"},\"showarrow\":false,\"text\":\"155.0\",\"x\":0.55,\"xanchor\":\"left\",\"xref\":\"x\",\"y\":24,\"yref\":\"y\"},{\"align\":\"left\",\"font\":{\"color\":\"#000000\"},\"showarrow\":false,\"text\":\"darkred\",\"x\":1.55,\"xanchor\":\"left\",\"xref\":\"x\",\"y\":24,\"yref\":\"y\"},{\"align\":\"left\",\"font\":{\"color\":\"#000000\"},\"showarrow\":false,\"text\":\"Paillaco\",\"x\":2.55,\"xanchor\":\"left\",\"xref\":\"x\",\"y\":24,\"yref\":\"y\"},{\"align\":\"left\",\"font\":{\"color\":\"#000000\"},\"showarrow\":false,\"text\":\"SANTA FILOMENA II\",\"x\":-0.45,\"xanchor\":\"left\",\"xref\":\"x\",\"y\":25,\"yref\":\"y\"},{\"align\":\"left\",\"font\":{\"color\":\"#000000\"},\"showarrow\":false,\"text\":\"211.0\",\"x\":0.55,\"xanchor\":\"left\",\"xref\":\"x\",\"y\":25,\"yref\":\"y\"},{\"align\":\"left\",\"font\":{\"color\":\"#000000\"},\"showarrow\":false,\"text\":\"darkred\",\"x\":1.55,\"xanchor\":\"left\",\"xref\":\"x\",\"y\":25,\"yref\":\"y\"},{\"align\":\"left\",\"font\":{\"color\":\"#000000\"},\"showarrow\":false,\"text\":\"Paillaco\",\"x\":2.55,\"xanchor\":\"left\",\"xref\":\"x\",\"y\":25,\"yref\":\"y\"},{\"align\":\"left\",\"font\":{\"color\":\"#000000\"},\"showarrow\":false,\"text\":\"ANTILHUE\",\"x\":-0.45,\"xanchor\":\"left\",\"xref\":\"x\",\"y\":26,\"yref\":\"y\"},{\"align\":\"left\",\"font\":{\"color\":\"#000000\"},\"showarrow\":false,\"text\":\"1414.0\",\"x\":0.55,\"xanchor\":\"left\",\"xref\":\"x\",\"y\":26,\"yref\":\"y\"},{\"align\":\"left\",\"font\":{\"color\":\"#000000\"},\"showarrow\":false,\"text\":\"red\",\"x\":1.55,\"xanchor\":\"left\",\"xref\":\"x\",\"y\":26,\"yref\":\"y\"},{\"align\":\"left\",\"font\":{\"color\":\"#000000\"},\"showarrow\":false,\"text\":\"Los Lagos\",\"x\":2.55,\"xanchor\":\"left\",\"xref\":\"x\",\"y\":26,\"yref\":\"y\"},{\"align\":\"left\",\"font\":{\"color\":\"#000000\"},\"showarrow\":false,\"text\":\"FOLILCO LOS LAGOS\",\"x\":-0.45,\"xanchor\":\"left\",\"xref\":\"x\",\"y\":27,\"yref\":\"y\"},{\"align\":\"left\",\"font\":{\"color\":\"#000000\"},\"showarrow\":false,\"text\":\"474.0\",\"x\":0.55,\"xanchor\":\"left\",\"xref\":\"x\",\"y\":27,\"yref\":\"y\"},{\"align\":\"left\",\"font\":{\"color\":\"#000000\"},\"showarrow\":false,\"text\":\"green\",\"x\":1.55,\"xanchor\":\"left\",\"xref\":\"x\",\"y\":27,\"yref\":\"y\"},{\"align\":\"left\",\"font\":{\"color\":\"#000000\"},\"showarrow\":false,\"text\":\"Los Lagos\",\"x\":2.55,\"xanchor\":\"left\",\"xref\":\"x\",\"y\":27,\"yref\":\"y\"},{\"align\":\"left\",\"font\":{\"color\":\"#000000\"},\"showarrow\":false,\"text\":\"QUILQUILCO\",\"x\":-0.45,\"xanchor\":\"left\",\"xref\":\"x\",\"y\":28,\"yref\":\"y\"},{\"align\":\"left\",\"font\":{\"color\":\"#000000\"},\"showarrow\":false,\"text\":\"149.0\",\"x\":0.55,\"xanchor\":\"left\",\"xref\":\"x\",\"y\":28,\"yref\":\"y\"},{\"align\":\"left\",\"font\":{\"color\":\"#000000\"},\"showarrow\":false,\"text\":\"darkred\",\"x\":1.55,\"xanchor\":\"left\",\"xref\":\"x\",\"y\":28,\"yref\":\"y\"},{\"align\":\"left\",\"font\":{\"color\":\"#000000\"},\"showarrow\":false,\"text\":\"Los Lagos\",\"x\":2.55,\"xanchor\":\"left\",\"xref\":\"x\",\"y\":28,\"yref\":\"y\"},{\"align\":\"left\",\"font\":{\"color\":\"#000000\"},\"showarrow\":false,\"text\":\"RI\\u00d1IHUE\",\"x\":-0.45,\"xanchor\":\"left\",\"xref\":\"x\",\"y\":29,\"yref\":\"y\"},{\"align\":\"left\",\"font\":{\"color\":\"#000000\"},\"showarrow\":false,\"text\":\"208.0\",\"x\":0.55,\"xanchor\":\"left\",\"xref\":\"x\",\"y\":29,\"yref\":\"y\"},{\"align\":\"left\",\"font\":{\"color\":\"#000000\"},\"showarrow\":false,\"text\":\"darkred\",\"x\":1.55,\"xanchor\":\"left\",\"xref\":\"x\",\"y\":29,\"yref\":\"y\"},{\"align\":\"left\",\"font\":{\"color\":\"#000000\"},\"showarrow\":false,\"text\":\"Los Lagos\",\"x\":2.55,\"xanchor\":\"left\",\"xref\":\"x\",\"y\":29,\"yref\":\"y\"},{\"align\":\"left\",\"font\":{\"color\":\"#000000\"},\"showarrow\":false,\"text\":\"USTARITZ\",\"x\":-0.45,\"xanchor\":\"left\",\"xref\":\"x\",\"y\":30,\"yref\":\"y\"},{\"align\":\"left\",\"font\":{\"color\":\"#000000\"},\"showarrow\":false,\"text\":\"434.0\",\"x\":0.55,\"xanchor\":\"left\",\"xref\":\"x\",\"y\":30,\"yref\":\"y\"},{\"align\":\"left\",\"font\":{\"color\":\"#000000\"},\"showarrow\":false,\"text\":\"green\",\"x\":1.55,\"xanchor\":\"left\",\"xref\":\"x\",\"y\":30,\"yref\":\"y\"},{\"align\":\"left\",\"font\":{\"color\":\"#000000\"},\"showarrow\":false,\"text\":\"Los Lagos\",\"x\":2.55,\"xanchor\":\"left\",\"xref\":\"x\",\"y\":30,\"yref\":\"y\"},{\"align\":\"left\",\"font\":{\"color\":\"#000000\"},\"showarrow\":false,\"text\":\"EL SALTO\",\"x\":-0.45,\"xanchor\":\"left\",\"xref\":\"x\",\"y\":31,\"yref\":\"y\"},{\"align\":\"left\",\"font\":{\"color\":\"#000000\"},\"showarrow\":false,\"text\":\"592.0\",\"x\":0.55,\"xanchor\":\"left\",\"xref\":\"x\",\"y\":31,\"yref\":\"y\"},{\"align\":\"left\",\"font\":{\"color\":\"#000000\"},\"showarrow\":false,\"text\":\"orange\",\"x\":1.55,\"xanchor\":\"left\",\"xref\":\"x\",\"y\":31,\"yref\":\"y\"},{\"align\":\"left\",\"font\":{\"color\":\"#000000\"},\"showarrow\":false,\"text\":\"Los Lagos\",\"x\":2.55,\"xanchor\":\"left\",\"xref\":\"x\",\"y\":31,\"yref\":\"y\"},{\"align\":\"left\",\"font\":{\"color\":\"#000000\"},\"showarrow\":false,\"text\":\"PELLINADA LAS QUINIENTAS\",\"x\":-0.45,\"xanchor\":\"left\",\"xref\":\"x\",\"y\":32,\"yref\":\"y\"},{\"align\":\"left\",\"font\":{\"color\":\"#000000\"},\"showarrow\":false,\"text\":\"434.0\",\"x\":0.55,\"xanchor\":\"left\",\"xref\":\"x\",\"y\":32,\"yref\":\"y\"},{\"align\":\"left\",\"font\":{\"color\":\"#000000\"},\"showarrow\":false,\"text\":\"green\",\"x\":1.55,\"xanchor\":\"left\",\"xref\":\"x\",\"y\":32,\"yref\":\"y\"},{\"align\":\"left\",\"font\":{\"color\":\"#000000\"},\"showarrow\":false,\"text\":\"Los Lagos\",\"x\":2.55,\"xanchor\":\"left\",\"xref\":\"x\",\"y\":32,\"yref\":\"y\"},{\"align\":\"left\",\"font\":{\"color\":\"#000000\"},\"showarrow\":false,\"text\":\"PANCUL\",\"x\":-0.45,\"xanchor\":\"left\",\"xref\":\"x\",\"y\":33,\"yref\":\"y\"},{\"align\":\"left\",\"font\":{\"color\":\"#000000\"},\"showarrow\":false,\"text\":\"729.0\",\"x\":0.55,\"xanchor\":\"left\",\"xref\":\"x\",\"y\":33,\"yref\":\"y\"},{\"align\":\"left\",\"font\":{\"color\":\"#000000\"},\"showarrow\":false,\"text\":\"orange\",\"x\":1.55,\"xanchor\":\"left\",\"xref\":\"x\",\"y\":33,\"yref\":\"y\"},{\"align\":\"left\",\"font\":{\"color\":\"#000000\"},\"showarrow\":false,\"text\":\"Los Lagos\",\"x\":2.55,\"xanchor\":\"left\",\"xref\":\"x\",\"y\":33,\"yref\":\"y\"},{\"align\":\"left\",\"font\":{\"color\":\"#000000\"},\"showarrow\":false,\"text\":\"LOS COLIG\\u00dcES\",\"x\":-0.45,\"xanchor\":\"left\",\"xref\":\"x\",\"y\":34,\"yref\":\"y\"},{\"align\":\"left\",\"font\":{\"color\":\"#000000\"},\"showarrow\":false,\"text\":\"456.0\",\"x\":0.55,\"xanchor\":\"left\",\"xref\":\"x\",\"y\":34,\"yref\":\"y\"},{\"align\":\"left\",\"font\":{\"color\":\"#000000\"},\"showarrow\":false,\"text\":\"green\",\"x\":1.55,\"xanchor\":\"left\",\"xref\":\"x\",\"y\":34,\"yref\":\"y\"},{\"align\":\"left\",\"font\":{\"color\":\"#000000\"},\"showarrow\":false,\"text\":\"Los Lagos\",\"x\":2.55,\"xanchor\":\"left\",\"xref\":\"x\",\"y\":34,\"yref\":\"y\"},{\"align\":\"left\",\"font\":{\"color\":\"#000000\"},\"showarrow\":false,\"text\":\"COLO COLO\",\"x\":-0.45,\"xanchor\":\"left\",\"xref\":\"x\",\"y\":35,\"yref\":\"y\"},{\"align\":\"left\",\"font\":{\"color\":\"#000000\"},\"showarrow\":false,\"text\":\"298.0\",\"x\":0.55,\"xanchor\":\"left\",\"xref\":\"x\",\"y\":35,\"yref\":\"y\"},{\"align\":\"left\",\"font\":{\"color\":\"#000000\"},\"showarrow\":false,\"text\":\"darkred\",\"x\":1.55,\"xanchor\":\"left\",\"xref\":\"x\",\"y\":35,\"yref\":\"y\"},{\"align\":\"left\",\"font\":{\"color\":\"#000000\"},\"showarrow\":false,\"text\":\"Los Lagos\",\"x\":2.55,\"xanchor\":\"left\",\"xref\":\"x\",\"y\":35,\"yref\":\"y\"},{\"align\":\"left\",\"font\":{\"color\":\"#000000\"},\"showarrow\":false,\"text\":\"LAS HUELLLAS\",\"x\":-0.45,\"xanchor\":\"left\",\"xref\":\"x\",\"y\":36,\"yref\":\"y\"},{\"align\":\"left\",\"font\":{\"color\":\"#000000\"},\"showarrow\":false,\"text\":\"276.0\",\"x\":0.55,\"xanchor\":\"left\",\"xref\":\"x\",\"y\":36,\"yref\":\"y\"},{\"align\":\"left\",\"font\":{\"color\":\"#000000\"},\"showarrow\":false,\"text\":\"darkred\",\"x\":1.55,\"xanchor\":\"left\",\"xref\":\"x\",\"y\":36,\"yref\":\"y\"},{\"align\":\"left\",\"font\":{\"color\":\"#000000\"},\"showarrow\":false,\"text\":\"Los Lagos\",\"x\":2.55,\"xanchor\":\"left\",\"xref\":\"x\",\"y\":36,\"yref\":\"y\"},{\"align\":\"left\",\"font\":{\"color\":\"#000000\"},\"showarrow\":false,\"text\":\"San Pedro\",\"x\":-0.45,\"xanchor\":\"left\",\"xref\":\"x\",\"y\":37,\"yref\":\"y\"},{\"align\":\"left\",\"font\":{\"color\":\"#000000\"},\"showarrow\":false,\"text\":\"375.0\",\"x\":0.55,\"xanchor\":\"left\",\"xref\":\"x\",\"y\":37,\"yref\":\"y\"},{\"align\":\"left\",\"font\":{\"color\":\"#000000\"},\"showarrow\":false,\"text\":\"green\",\"x\":1.55,\"xanchor\":\"left\",\"xref\":\"x\",\"y\":37,\"yref\":\"y\"},{\"align\":\"left\",\"font\":{\"color\":\"#000000\"},\"showarrow\":false,\"text\":\"Los Lagos\",\"x\":2.55,\"xanchor\":\"left\",\"xref\":\"x\",\"y\":37,\"yref\":\"y\"},{\"align\":\"left\",\"font\":{\"color\":\"#000000\"},\"showarrow\":false,\"text\":\"Lipingue\",\"x\":-0.45,\"xanchor\":\"left\",\"xref\":\"x\",\"y\":38,\"yref\":\"y\"},{\"align\":\"left\",\"font\":{\"color\":\"#000000\"},\"showarrow\":false,\"text\":\"434.0\",\"x\":0.55,\"xanchor\":\"left\",\"xref\":\"x\",\"y\":38,\"yref\":\"y\"},{\"align\":\"left\",\"font\":{\"color\":\"#000000\"},\"showarrow\":false,\"text\":\"green\",\"x\":1.55,\"xanchor\":\"left\",\"xref\":\"x\",\"y\":38,\"yref\":\"y\"},{\"align\":\"left\",\"font\":{\"color\":\"#000000\"},\"showarrow\":false,\"text\":\"Los Lagos\",\"x\":2.55,\"xanchor\":\"left\",\"xref\":\"x\",\"y\":38,\"yref\":\"y\"},{\"align\":\"left\",\"font\":{\"color\":\"#000000\"},\"showarrow\":false,\"text\":\"El Trebol\",\"x\":-0.45,\"xanchor\":\"left\",\"xref\":\"x\",\"y\":39,\"yref\":\"y\"},{\"align\":\"left\",\"font\":{\"color\":\"#000000\"},\"showarrow\":false,\"text\":\"208.0\",\"x\":0.55,\"xanchor\":\"left\",\"xref\":\"x\",\"y\":39,\"yref\":\"y\"},{\"align\":\"left\",\"font\":{\"color\":\"#000000\"},\"showarrow\":false,\"text\":\"darkred\",\"x\":1.55,\"xanchor\":\"left\",\"xref\":\"x\",\"y\":39,\"yref\":\"y\"},{\"align\":\"left\",\"font\":{\"color\":\"#000000\"},\"showarrow\":false,\"text\":\"Los Lagos\",\"x\":2.55,\"xanchor\":\"left\",\"xref\":\"x\",\"y\":39,\"yref\":\"y\"},{\"align\":\"left\",\"font\":{\"color\":\"#000000\"},\"showarrow\":false,\"text\":\"Collico Sur\",\"x\":-0.45,\"xanchor\":\"left\",\"xref\":\"x\",\"y\":40,\"yref\":\"y\"},{\"align\":\"left\",\"font\":{\"color\":\"#000000\"},\"showarrow\":false,\"text\":\"236.0\",\"x\":0.55,\"xanchor\":\"left\",\"xref\":\"x\",\"y\":40,\"yref\":\"y\"},{\"align\":\"left\",\"font\":{\"color\":\"#000000\"},\"showarrow\":false,\"text\":\"darkred\",\"x\":1.55,\"xanchor\":\"left\",\"xref\":\"x\",\"y\":40,\"yref\":\"y\"},{\"align\":\"left\",\"font\":{\"color\":\"#000000\"},\"showarrow\":false,\"text\":\"Los Lagos\",\"x\":2.55,\"xanchor\":\"left\",\"xref\":\"x\",\"y\":40,\"yref\":\"y\"},{\"align\":\"left\",\"font\":{\"color\":\"#000000\"},\"showarrow\":false,\"text\":\"Mi Tierra\",\"x\":-0.45,\"xanchor\":\"left\",\"xref\":\"x\",\"y\":41,\"yref\":\"y\"},{\"align\":\"left\",\"font\":{\"color\":\"#000000\"},\"showarrow\":false,\"text\":\"71.0\",\"x\":0.55,\"xanchor\":\"left\",\"xref\":\"x\",\"y\":41,\"yref\":\"y\"},{\"align\":\"left\",\"font\":{\"color\":\"#000000\"},\"showarrow\":false,\"text\":\"darkred\",\"x\":1.55,\"xanchor\":\"left\",\"xref\":\"x\",\"y\":41,\"yref\":\"y\"},{\"align\":\"left\",\"font\":{\"color\":\"#000000\"},\"showarrow\":false,\"text\":\"Los Lagos\",\"x\":2.55,\"xanchor\":\"left\",\"xref\":\"x\",\"y\":41,\"yref\":\"y\"},{\"align\":\"left\",\"font\":{\"color\":\"#000000\"},\"showarrow\":false,\"text\":\"Pu\\u00f1aco\",\"x\":-0.45,\"xanchor\":\"left\",\"xref\":\"x\",\"y\":42,\"yref\":\"y\"},{\"align\":\"left\",\"font\":{\"color\":\"#000000\"},\"showarrow\":false,\"text\":\"81.0\",\"x\":0.55,\"xanchor\":\"left\",\"xref\":\"x\",\"y\":42,\"yref\":\"y\"},{\"align\":\"left\",\"font\":{\"color\":\"#000000\"},\"showarrow\":false,\"text\":\"darkred\",\"x\":1.55,\"xanchor\":\"left\",\"xref\":\"x\",\"y\":42,\"yref\":\"y\"},{\"align\":\"left\",\"font\":{\"color\":\"#000000\"},\"showarrow\":false,\"text\":\"Los Lagos\",\"x\":2.55,\"xanchor\":\"left\",\"xref\":\"x\",\"y\":42,\"yref\":\"y\"},{\"align\":\"left\",\"font\":{\"color\":\"#000000\"},\"showarrow\":false,\"text\":\"Purey\",\"x\":-0.45,\"xanchor\":\"left\",\"xref\":\"x\",\"y\":43,\"yref\":\"y\"},{\"align\":\"left\",\"font\":{\"color\":\"#000000\"},\"showarrow\":false,\"text\":\"78.0\",\"x\":0.55,\"xanchor\":\"left\",\"xref\":\"x\",\"y\":43,\"yref\":\"y\"},{\"align\":\"left\",\"font\":{\"color\":\"#000000\"},\"showarrow\":false,\"text\":\"darkred\",\"x\":1.55,\"xanchor\":\"left\",\"xref\":\"x\",\"y\":43,\"yref\":\"y\"},{\"align\":\"left\",\"font\":{\"color\":\"#000000\"},\"showarrow\":false,\"text\":\"Los Lagos\",\"x\":2.55,\"xanchor\":\"left\",\"xref\":\"x\",\"y\":43,\"yref\":\"y\"},{\"align\":\"left\",\"font\":{\"color\":\"#000000\"},\"showarrow\":false,\"text\":\"AMARGO-SAN CARLOS\",\"x\":-0.45,\"xanchor\":\"left\",\"xref\":\"x\",\"y\":44,\"yref\":\"y\"},{\"align\":\"left\",\"font\":{\"color\":\"#000000\"},\"showarrow\":false,\"text\":\"2412.0\",\"x\":0.55,\"xanchor\":\"left\",\"xref\":\"x\",\"y\":44,\"yref\":\"y\"},{\"align\":\"left\",\"font\":{\"color\":\"#000000\"},\"showarrow\":false,\"text\":\"purple\",\"x\":1.55,\"xanchor\":\"left\",\"xref\":\"x\",\"y\":44,\"yref\":\"y\"},{\"align\":\"left\",\"font\":{\"color\":\"#000000\"},\"showarrow\":false,\"text\":\"Corral\",\"x\":2.55,\"xanchor\":\"left\",\"xref\":\"x\",\"y\":44,\"yref\":\"y\"},{\"align\":\"left\",\"font\":{\"color\":\"#000000\"},\"showarrow\":false,\"text\":\"ISLA DEL REY\",\"x\":-0.45,\"xanchor\":\"left\",\"xref\":\"x\",\"y\":45,\"yref\":\"y\"},{\"align\":\"left\",\"font\":{\"color\":\"#000000\"},\"showarrow\":false,\"text\":\"620.0\",\"x\":0.55,\"xanchor\":\"left\",\"xref\":\"x\",\"y\":45,\"yref\":\"y\"},{\"align\":\"left\",\"font\":{\"color\":\"#000000\"},\"showarrow\":false,\"text\":\"orange\",\"x\":1.55,\"xanchor\":\"left\",\"xref\":\"x\",\"y\":45,\"yref\":\"y\"},{\"align\":\"left\",\"font\":{\"color\":\"#000000\"},\"showarrow\":false,\"text\":\"Corral\",\"x\":2.55,\"xanchor\":\"left\",\"xref\":\"x\",\"y\":45,\"yref\":\"y\"},{\"align\":\"left\",\"font\":{\"color\":\"#000000\"},\"showarrow\":false,\"text\":\"ISLA MANCERA\",\"x\":-0.45,\"xanchor\":\"left\",\"xref\":\"x\",\"y\":46,\"yref\":\"y\"},{\"align\":\"left\",\"font\":{\"color\":\"#000000\"},\"showarrow\":false,\"text\":\"267.0\",\"x\":0.55,\"xanchor\":\"left\",\"xref\":\"x\",\"y\":46,\"yref\":\"y\"},{\"align\":\"left\",\"font\":{\"color\":\"#000000\"},\"showarrow\":false,\"text\":\"darkred\",\"x\":1.55,\"xanchor\":\"left\",\"xref\":\"x\",\"y\":46,\"yref\":\"y\"},{\"align\":\"left\",\"font\":{\"color\":\"#000000\"},\"showarrow\":false,\"text\":\"Corral\",\"x\":2.55,\"xanchor\":\"left\",\"xref\":\"x\",\"y\":46,\"yref\":\"y\"},{\"align\":\"left\",\"font\":{\"color\":\"#000000\"},\"showarrow\":false,\"text\":\"LA AGUADA\",\"x\":-0.45,\"xanchor\":\"left\",\"xref\":\"x\",\"y\":47,\"yref\":\"y\"},{\"align\":\"left\",\"font\":{\"color\":\"#000000\"},\"showarrow\":false,\"text\":\"626.0\",\"x\":0.55,\"xanchor\":\"left\",\"xref\":\"x\",\"y\":47,\"yref\":\"y\"},{\"align\":\"left\",\"font\":{\"color\":\"#000000\"},\"showarrow\":false,\"text\":\"orange\",\"x\":1.55,\"xanchor\":\"left\",\"xref\":\"x\",\"y\":47,\"yref\":\"y\"},{\"align\":\"left\",\"font\":{\"color\":\"#000000\"},\"showarrow\":false,\"text\":\"Corral\",\"x\":2.55,\"xanchor\":\"left\",\"xref\":\"x\",\"y\":47,\"yref\":\"y\"},{\"align\":\"left\",\"font\":{\"color\":\"#000000\"},\"showarrow\":false,\"text\":\"CHAIHUIN\",\"x\":-0.45,\"xanchor\":\"left\",\"xref\":\"x\",\"y\":48,\"yref\":\"y\"},{\"align\":\"left\",\"font\":{\"color\":\"#000000\"},\"showarrow\":false,\"text\":\"744.0\",\"x\":0.55,\"xanchor\":\"left\",\"xref\":\"x\",\"y\":48,\"yref\":\"y\"},{\"align\":\"left\",\"font\":{\"color\":\"#000000\"},\"showarrow\":false,\"text\":\"orange\",\"x\":1.55,\"xanchor\":\"left\",\"xref\":\"x\",\"y\":48,\"yref\":\"y\"},{\"align\":\"left\",\"font\":{\"color\":\"#000000\"},\"showarrow\":false,\"text\":\"Corral\",\"x\":2.55,\"xanchor\":\"left\",\"xref\":\"x\",\"y\":48,\"yref\":\"y\"},{\"align\":\"left\",\"font\":{\"color\":\"#000000\"},\"showarrow\":false,\"text\":\"CERROS DE CORRAL\",\"x\":-0.45,\"xanchor\":\"left\",\"xref\":\"x\",\"y\":49,\"yref\":\"y\"},{\"align\":\"left\",\"font\":{\"color\":\"#000000\"},\"showarrow\":false,\"text\":\"484.0\",\"x\":0.55,\"xanchor\":\"left\",\"xref\":\"x\",\"y\":49,\"yref\":\"y\"},{\"align\":\"left\",\"font\":{\"color\":\"#000000\"},\"showarrow\":false,\"text\":\"green\",\"x\":1.55,\"xanchor\":\"left\",\"xref\":\"x\",\"y\":49,\"yref\":\"y\"},{\"align\":\"left\",\"font\":{\"color\":\"#000000\"},\"showarrow\":false,\"text\":\"Corral\",\"x\":2.55,\"xanchor\":\"left\",\"xref\":\"x\",\"y\":49,\"yref\":\"y\"}],\"height\":1550,\"margin\":{\"b\":0,\"l\":0,\"r\":0,\"t\":0},\"xaxis\":{\"dtick\":1,\"gridwidth\":2,\"showticklabels\":false,\"tick0\":-0.5,\"ticks\":\"\",\"zeroline\":false},\"yaxis\":{\"autorange\":\"reversed\",\"dtick\":1,\"gridwidth\":2,\"showticklabels\":false,\"tick0\":0.5,\"ticks\":\"\",\"zeroline\":false},\"template\":{\"data\":{\"histogram2dcontour\":[{\"type\":\"histogram2dcontour\",\"colorbar\":{\"outlinewidth\":0,\"ticks\":\"\"},\"colorscale\":[[0.0,\"#0d0887\"],[0.1111111111111111,\"#46039f\"],[0.2222222222222222,\"#7201a8\"],[0.3333333333333333,\"#9c179e\"],[0.4444444444444444,\"#bd3786\"],[0.5555555555555556,\"#d8576b\"],[0.6666666666666666,\"#ed7953\"],[0.7777777777777778,\"#fb9f3a\"],[0.8888888888888888,\"#fdca26\"],[1.0,\"#f0f921\"]]}],\"choropleth\":[{\"type\":\"choropleth\",\"colorbar\":{\"outlinewidth\":0,\"ticks\":\"\"}}],\"histogram2d\":[{\"type\":\"histogram2d\",\"colorbar\":{\"outlinewidth\":0,\"ticks\":\"\"},\"colorscale\":[[0.0,\"#0d0887\"],[0.1111111111111111,\"#46039f\"],[0.2222222222222222,\"#7201a8\"],[0.3333333333333333,\"#9c179e\"],[0.4444444444444444,\"#bd3786\"],[0.5555555555555556,\"#d8576b\"],[0.6666666666666666,\"#ed7953\"],[0.7777777777777778,\"#fb9f3a\"],[0.8888888888888888,\"#fdca26\"],[1.0,\"#f0f921\"]]}],\"heatmap\":[{\"type\":\"heatmap\",\"colorbar\":{\"outlinewidth\":0,\"ticks\":\"\"},\"colorscale\":[[0.0,\"#0d0887\"],[0.1111111111111111,\"#46039f\"],[0.2222222222222222,\"#7201a8\"],[0.3333333333333333,\"#9c179e\"],[0.4444444444444444,\"#bd3786\"],[0.5555555555555556,\"#d8576b\"],[0.6666666666666666,\"#ed7953\"],[0.7777777777777778,\"#fb9f3a\"],[0.8888888888888888,\"#fdca26\"],[1.0,\"#f0f921\"]]}],\"heatmapgl\":[{\"type\":\"heatmapgl\",\"colorbar\":{\"outlinewidth\":0,\"ticks\":\"\"},\"colorscale\":[[0.0,\"#0d0887\"],[0.1111111111111111,\"#46039f\"],[0.2222222222222222,\"#7201a8\"],[0.3333333333333333,\"#9c179e\"],[0.4444444444444444,\"#bd3786\"],[0.5555555555555556,\"#d8576b\"],[0.6666666666666666,\"#ed7953\"],[0.7777777777777778,\"#fb9f3a\"],[0.8888888888888888,\"#fdca26\"],[1.0,\"#f0f921\"]]}],\"contourcarpet\":[{\"type\":\"contourcarpet\",\"colorbar\":{\"outlinewidth\":0,\"ticks\":\"\"}}],\"contour\":[{\"type\":\"contour\",\"colorbar\":{\"outlinewidth\":0,\"ticks\":\"\"},\"colorscale\":[[0.0,\"#0d0887\"],[0.1111111111111111,\"#46039f\"],[0.2222222222222222,\"#7201a8\"],[0.3333333333333333,\"#9c179e\"],[0.4444444444444444,\"#bd3786\"],[0.5555555555555556,\"#d8576b\"],[0.6666666666666666,\"#ed7953\"],[0.7777777777777778,\"#fb9f3a\"],[0.8888888888888888,\"#fdca26\"],[1.0,\"#f0f921\"]]}],\"surface\":[{\"type\":\"surface\",\"colorbar\":{\"outlinewidth\":0,\"ticks\":\"\"},\"colorscale\":[[0.0,\"#0d0887\"],[0.1111111111111111,\"#46039f\"],[0.2222222222222222,\"#7201a8\"],[0.3333333333333333,\"#9c179e\"],[0.4444444444444444,\"#bd3786\"],[0.5555555555555556,\"#d8576b\"],[0.6666666666666666,\"#ed7953\"],[0.7777777777777778,\"#fb9f3a\"],[0.8888888888888888,\"#fdca26\"],[1.0,\"#f0f921\"]]}],\"mesh3d\":[{\"type\":\"mesh3d\",\"colorbar\":{\"outlinewidth\":0,\"ticks\":\"\"}}],\"scatter\":[{\"fillpattern\":{\"fillmode\":\"overlay\",\"size\":10,\"solidity\":0.2},\"type\":\"scatter\"}],\"parcoords\":[{\"type\":\"parcoords\",\"line\":{\"colorbar\":{\"outlinewidth\":0,\"ticks\":\"\"}}}],\"scatterpolargl\":[{\"type\":\"scatterpolargl\",\"marker\":{\"colorbar\":{\"outlinewidth\":0,\"ticks\":\"\"}}}],\"bar\":[{\"error_x\":{\"color\":\"#2a3f5f\"},\"error_y\":{\"color\":\"#2a3f5f\"},\"marker\":{\"line\":{\"color\":\"#E5ECF6\",\"width\":0.5},\"pattern\":{\"fillmode\":\"overlay\",\"size\":10,\"solidity\":0.2}},\"type\":\"bar\"}],\"scattergeo\":[{\"type\":\"scattergeo\",\"marker\":{\"colorbar\":{\"outlinewidth\":0,\"ticks\":\"\"}}}],\"scatterpolar\":[{\"type\":\"scatterpolar\",\"marker\":{\"colorbar\":{\"outlinewidth\":0,\"ticks\":\"\"}}}],\"histogram\":[{\"marker\":{\"pattern\":{\"fillmode\":\"overlay\",\"size\":10,\"solidity\":0.2}},\"type\":\"histogram\"}],\"scattergl\":[{\"type\":\"scattergl\",\"marker\":{\"colorbar\":{\"outlinewidth\":0,\"ticks\":\"\"}}}],\"scatter3d\":[{\"type\":\"scatter3d\",\"line\":{\"colorbar\":{\"outlinewidth\":0,\"ticks\":\"\"}},\"marker\":{\"colorbar\":{\"outlinewidth\":0,\"ticks\":\"\"}}}],\"scattermapbox\":[{\"type\":\"scattermapbox\",\"marker\":{\"colorbar\":{\"outlinewidth\":0,\"ticks\":\"\"}}}],\"scatterternary\":[{\"type\":\"scatterternary\",\"marker\":{\"colorbar\":{\"outlinewidth\":0,\"ticks\":\"\"}}}],\"scattercarpet\":[{\"type\":\"scattercarpet\",\"marker\":{\"colorbar\":{\"outlinewidth\":0,\"ticks\":\"\"}}}],\"carpet\":[{\"aaxis\":{\"endlinecolor\":\"#2a3f5f\",\"gridcolor\":\"white\",\"linecolor\":\"white\",\"minorgridcolor\":\"white\",\"startlinecolor\":\"#2a3f5f\"},\"baxis\":{\"endlinecolor\":\"#2a3f5f\",\"gridcolor\":\"white\",\"linecolor\":\"white\",\"minorgridcolor\":\"white\",\"startlinecolor\":\"#2a3f5f\"},\"type\":\"carpet\"}],\"table\":[{\"cells\":{\"fill\":{\"color\":\"#EBF0F8\"},\"line\":{\"color\":\"white\"}},\"header\":{\"fill\":{\"color\":\"#C8D4E3\"},\"line\":{\"color\":\"white\"}},\"type\":\"table\"}],\"barpolar\":[{\"marker\":{\"line\":{\"color\":\"#E5ECF6\",\"width\":0.5},\"pattern\":{\"fillmode\":\"overlay\",\"size\":10,\"solidity\":0.2}},\"type\":\"barpolar\"}],\"pie\":[{\"automargin\":true,\"type\":\"pie\"}]},\"layout\":{\"autotypenumbers\":\"strict\",\"colorway\":[\"#636efa\",\"#EF553B\",\"#00cc96\",\"#ab63fa\",\"#FFA15A\",\"#19d3f3\",\"#FF6692\",\"#B6E880\",\"#FF97FF\",\"#FECB52\"],\"font\":{\"color\":\"#2a3f5f\"},\"hovermode\":\"closest\",\"hoverlabel\":{\"align\":\"left\"},\"paper_bgcolor\":\"white\",\"plot_bgcolor\":\"#E5ECF6\",\"polar\":{\"bgcolor\":\"#E5ECF6\",\"angularaxis\":{\"gridcolor\":\"white\",\"linecolor\":\"white\",\"ticks\":\"\"},\"radialaxis\":{\"gridcolor\":\"white\",\"linecolor\":\"white\",\"ticks\":\"\"}},\"ternary\":{\"bgcolor\":\"#E5ECF6\",\"aaxis\":{\"gridcolor\":\"white\",\"linecolor\":\"white\",\"ticks\":\"\"},\"baxis\":{\"gridcolor\":\"white\",\"linecolor\":\"white\",\"ticks\":\"\"},\"caxis\":{\"gridcolor\":\"white\",\"linecolor\":\"white\",\"ticks\":\"\"}},\"coloraxis\":{\"colorbar\":{\"outlinewidth\":0,\"ticks\":\"\"}},\"colorscale\":{\"sequential\":[[0.0,\"#0d0887\"],[0.1111111111111111,\"#46039f\"],[0.2222222222222222,\"#7201a8\"],[0.3333333333333333,\"#9c179e\"],[0.4444444444444444,\"#bd3786\"],[0.5555555555555556,\"#d8576b\"],[0.6666666666666666,\"#ed7953\"],[0.7777777777777778,\"#fb9f3a\"],[0.8888888888888888,\"#fdca26\"],[1.0,\"#f0f921\"]],\"sequentialminus\":[[0.0,\"#0d0887\"],[0.1111111111111111,\"#46039f\"],[0.2222222222222222,\"#7201a8\"],[0.3333333333333333,\"#9c179e\"],[0.4444444444444444,\"#bd3786\"],[0.5555555555555556,\"#d8576b\"],[0.6666666666666666,\"#ed7953\"],[0.7777777777777778,\"#fb9f3a\"],[0.8888888888888888,\"#fdca26\"],[1.0,\"#f0f921\"]],\"diverging\":[[0,\"#8e0152\"],[0.1,\"#c51b7d\"],[0.2,\"#de77ae\"],[0.3,\"#f1b6da\"],[0.4,\"#fde0ef\"],[0.5,\"#f7f7f7\"],[0.6,\"#e6f5d0\"],[0.7,\"#b8e186\"],[0.8,\"#7fbc41\"],[0.9,\"#4d9221\"],[1,\"#276419\"]]},\"xaxis\":{\"gridcolor\":\"white\",\"linecolor\":\"white\",\"ticks\":\"\",\"title\":{\"standoff\":15},\"zerolinecolor\":\"white\",\"automargin\":true,\"zerolinewidth\":2},\"yaxis\":{\"gridcolor\":\"white\",\"linecolor\":\"white\",\"ticks\":\"\",\"title\":{\"standoff\":15},\"zerolinecolor\":\"white\",\"automargin\":true,\"zerolinewidth\":2},\"scene\":{\"xaxis\":{\"backgroundcolor\":\"#E5ECF6\",\"gridcolor\":\"white\",\"linecolor\":\"white\",\"showbackground\":true,\"ticks\":\"\",\"zerolinecolor\":\"white\",\"gridwidth\":2},\"yaxis\":{\"backgroundcolor\":\"#E5ECF6\",\"gridcolor\":\"white\",\"linecolor\":\"white\",\"showbackground\":true,\"ticks\":\"\",\"zerolinecolor\":\"white\",\"gridwidth\":2},\"zaxis\":{\"backgroundcolor\":\"#E5ECF6\",\"gridcolor\":\"white\",\"linecolor\":\"white\",\"showbackground\":true,\"ticks\":\"\",\"zerolinecolor\":\"white\",\"gridwidth\":2}},\"shapedefaults\":{\"line\":{\"color\":\"#2a3f5f\"}},\"annotationdefaults\":{\"arrowcolor\":\"#2a3f5f\",\"arrowhead\":0,\"arrowwidth\":1},\"geo\":{\"bgcolor\":\"white\",\"landcolor\":\"#E5ECF6\",\"subunitcolor\":\"white\",\"showland\":true,\"showlakes\":true,\"lakecolor\":\"white\"},\"title\":{\"x\":0.05},\"mapbox\":{\"style\":\"light\"}}}},                        {\"responsive\": true}                    ).then(function(){\n",
       "                            \n",
       "var gd = document.getElementById('54c6e606-734b-4c51-838d-cdf03a040217');\n",
       "var x = new MutationObserver(function (mutations, observer) {{\n",
       "        var display = window.getComputedStyle(gd).display;\n",
       "        if (!display || display === 'none') {{\n",
       "            console.log([gd, 'removed!']);\n",
       "            Plotly.purge(gd);\n",
       "            observer.disconnect();\n",
       "        }}\n",
       "}});\n",
       "\n",
       "// Listen for the removal of the full notebook cells\n",
       "var notebookContainer = gd.closest('#notebook-container');\n",
       "if (notebookContainer) {{\n",
       "    x.observe(notebookContainer, {childList: true});\n",
       "}}\n",
       "\n",
       "// Listen for the clearing of the current output cell\n",
       "var outputEl = gd.closest('.output');\n",
       "if (outputEl) {{\n",
       "    x.observe(outputEl, {childList: true});\n",
       "}}\n",
       "\n",
       "                        })                };                });            </script>        </div>"
      ]
     },
     "metadata": {},
     "output_type": "display_data"
    }
   ],
   "source": [
    "import pandas as pd\n",
    "import plotly.figure_factory as ff\n",
    "\n",
    "#Creación de tabla\n",
    "tabla = pd.DataFrame()\n",
    "tabla['Nombre Ubicación'] = None\n",
    "tabla['Beneficiarios']=None\n",
    "tabla['Color']=None\n",
    "tabla['Comunas']=None\n",
    "\n",
    "#Recopilación de datos\n",
    "datos_comunas_valdivia=list(datos.iloc[1963:1977,3])\n",
    "datos_comunas_paillaco=list(datos.iloc[1919:1930,3])\n",
    "datos_comunas_loslagos=list(datos.iloc[1885:1903,3])\n",
    "datos_comunas_corral=list(datos.iloc[1873:1879,3])\n",
    "datos_comunas=datos_comunas_valdivia+datos_comunas_paillaco+datos_comunas_loslagos+datos_comunas_corral\n",
    "\n",
    "#Se agregan datos a la tabla\n",
    "tabla['Nombre Ubicación'] = nombres\n",
    "tabla['Beneficiarios'] = beneficiarios\n",
    "tabla['Color'] = color_beneficiario\n",
    "tabla['Comunas'] = datos_comunas\n",
    "\n",
    "\n",
    "ff.create_table(tabla)"
   ]
  },
  {
   "cell_type": "code",
   "execution_count": 59,
   "id": "fbb8d50a-f1ea-4c7c-bce8-e03abd4d3d9c",
   "metadata": {},
   "outputs": [
    {
     "data": {
      "application/vnd.plotly.v1+json": {
       "config": {
        "plotlyServerURL": "https://plot.ly"
       },
       "data": [
        {
         "alignmentgroup": "True",
         "hovertemplate": "Nombre Ubicación=%{x}<br>Beneficiarios=%{y}<extra></extra>",
         "legendgroup": "PISHUINCO",
         "marker": {
          "color": "green",
          "pattern": {
           "shape": ""
          }
         },
         "name": "PISHUINCO",
         "offsetgroup": "PISHUINCO",
         "orientation": "v",
         "showlegend": true,
         "textposition": "auto",
         "type": "bar",
         "x": [
          "PISHUINCO"
         ],
         "xaxis": "x",
         "y": [
          322
         ],
         "yaxis": "y"
        },
        {
         "alignmentgroup": "True",
         "hovertemplate": "Nombre Ubicación=%{x}<br>Beneficiarios=%{y}<extra></extra>",
         "legendgroup": "CURIÑANCO",
         "marker": {
          "color": "purple",
          "pattern": {
           "shape": ""
          }
         },
         "name": "CURIÑANCO",
         "offsetgroup": "CURIÑANCO",
         "orientation": "v",
         "showlegend": true,
         "textposition": "auto",
         "type": "bar",
         "x": [
          "CURIÑANCO"
         ],
         "xaxis": "x",
         "y": [
          2294
         ],
         "yaxis": "y"
        },
        {
         "alignmentgroup": "True",
         "hovertemplate": "Nombre Ubicación=%{x}<br>Beneficiarios=%{y}<extra></extra>",
         "legendgroup": "HUELLELHUE",
         "marker": {
          "color": "green",
          "pattern": {
           "shape": ""
          }
         },
         "name": "HUELLELHUE",
         "offsetgroup": "HUELLELHUE",
         "orientation": "v",
         "showlegend": true,
         "textposition": "auto",
         "type": "bar",
         "x": [
          "HUELLELHUE"
         ],
         "xaxis": "x",
         "y": [
          310
         ],
         "yaxis": "y"
        },
        {
         "alignmentgroup": "True",
         "hovertemplate": "Nombre Ubicación=%{x}<br>Beneficiarios=%{y}<extra></extra>",
         "legendgroup": "LAS GAVIOTAS",
         "marker": {
          "color": "red",
          "pattern": {
           "shape": ""
          }
         },
         "name": "LAS GAVIOTAS",
         "offsetgroup": "LAS GAVIOTAS",
         "orientation": "v",
         "showlegend": true,
         "textposition": "auto",
         "type": "bar",
         "x": [
          "LAS GAVIOTAS"
         ],
         "xaxis": "x",
         "y": [
          1048
         ],
         "yaxis": "y"
        },
        {
         "alignmentgroup": "True",
         "hovertemplate": "Nombre Ubicación=%{x}<br>Beneficiarios=%{y}<extra></extra>",
         "legendgroup": "NIEBLA-LOS MOLINOS",
         "marker": {
          "color": "purple",
          "pattern": {
           "shape": ""
          }
         },
         "name": "NIEBLA-LOS MOLINOS",
         "offsetgroup": "NIEBLA-LOS MOLINOS",
         "orientation": "v",
         "showlegend": true,
         "textposition": "auto",
         "type": "bar",
         "x": [
          "NIEBLA-LOS MOLINOS"
         ],
         "xaxis": "x",
         "y": [
          4021
         ],
         "yaxis": "y"
        },
        {
         "alignmentgroup": "True",
         "hovertemplate": "Nombre Ubicación=%{x}<br>Beneficiarios=%{y}<extra></extra>",
         "legendgroup": "PUNUCAPA",
         "marker": {
          "color": "green",
          "pattern": {
           "shape": ""
          }
         },
         "name": "PUNUCAPA",
         "offsetgroup": "PUNUCAPA",
         "orientation": "v",
         "showlegend": true,
         "textposition": "auto",
         "type": "bar",
         "x": [
          "PUNUCAPA"
         ],
         "xaxis": "x",
         "y": [
          459
         ],
         "yaxis": "y"
        },
        {
         "alignmentgroup": "True",
         "hovertemplate": "Nombre Ubicación=%{x}<br>Beneficiarios=%{y}<extra></extra>",
         "legendgroup": "SAN IGNACIO-PLAYA ROSADA",
         "marker": {
          "color": "orange",
          "pattern": {
           "shape": ""
          }
         },
         "name": "SAN IGNACIO-PLAYA ROSADA",
         "offsetgroup": "SAN IGNACIO-PLAYA ROSADA",
         "orientation": "v",
         "showlegend": true,
         "textposition": "auto",
         "type": "bar",
         "x": [
          "SAN IGNACIO-PLAYA ROSADA"
         ],
         "xaxis": "x",
         "y": [
          936
         ],
         "yaxis": "y"
        },
        {
         "alignmentgroup": "True",
         "hovertemplate": "Nombre Ubicación=%{x}<br>Beneficiarios=%{y}<extra></extra>",
         "legendgroup": "TRES ESPINOS",
         "marker": {
          "color": "red",
          "pattern": {
           "shape": ""
          }
         },
         "name": "TRES ESPINOS",
         "offsetgroup": "TRES ESPINOS",
         "orientation": "v",
         "showlegend": true,
         "textposition": "auto",
         "type": "bar",
         "x": [
          "TRES ESPINOS"
         ],
         "xaxis": "x",
         "y": [
          1091
         ],
         "yaxis": "y"
        },
        {
         "alignmentgroup": "True",
         "hovertemplate": "Nombre Ubicación=%{x}<br>Beneficiarios=%{y}<extra></extra>",
         "legendgroup": "VILLA CAYUMAPU",
         "marker": {
          "color": "red",
          "pattern": {
           "shape": ""
          }
         },
         "name": "VILLA CAYUMAPU",
         "offsetgroup": "VILLA CAYUMAPU",
         "orientation": "v",
         "showlegend": true,
         "textposition": "auto",
         "type": "bar",
         "x": [
          "VILLA CAYUMAPU"
         ],
         "xaxis": "x",
         "y": [
          1327
         ],
         "yaxis": "y"
        },
        {
         "alignmentgroup": "True",
         "hovertemplate": "Nombre Ubicación=%{x}<br>Beneficiarios=%{y}<extra></extra>",
         "legendgroup": "EL ARENAL SANTA ELVIRA",
         "marker": {
          "color": "orange",
          "pattern": {
           "shape": ""
          }
         },
         "name": "EL ARENAL SANTA ELVIRA",
         "offsetgroup": "EL ARENAL SANTA ELVIRA",
         "orientation": "v",
         "showlegend": true,
         "textposition": "auto",
         "type": "bar",
         "x": [
          "EL ARENAL SANTA ELVIRA"
         ],
         "xaxis": "x",
         "y": [
          549
         ],
         "yaxis": "y"
        },
        {
         "alignmentgroup": "True",
         "hovertemplate": "Nombre Ubicación=%{x}<br>Beneficiarios=%{y}<extra></extra>",
         "legendgroup": "PAILLAO",
         "marker": {
          "color": "orange",
          "pattern": {
           "shape": ""
          }
         },
         "name": "PAILLAO",
         "offsetgroup": "PAILLAO",
         "orientation": "v",
         "showlegend": true,
         "textposition": "auto",
         "type": "bar",
         "x": [
          "PAILLAO"
         ],
         "xaxis": "x",
         "y": [
          871
         ],
         "yaxis": "y"
        },
        {
         "alignmentgroup": "True",
         "hovertemplate": "Nombre Ubicación=%{x}<br>Beneficiarios=%{y}<extra></extra>",
         "legendgroup": "CABO BLANCO",
         "marker": {
          "color": "green",
          "pattern": {
           "shape": ""
          }
         },
         "name": "CABO BLANCO",
         "offsetgroup": "CABO BLANCO",
         "orientation": "v",
         "showlegend": true,
         "textposition": "auto",
         "type": "bar",
         "x": [
          "CABO BLANCO"
         ],
         "xaxis": "x",
         "y": [
          543
         ],
         "yaxis": "y"
        },
        {
         "alignmentgroup": "True",
         "hovertemplate": "Nombre Ubicación=%{x}<br>Beneficiarios=%{y}<extra></extra>",
         "legendgroup": "EL ARENAL KM 2",
         "marker": {
          "color": "orange",
          "pattern": {
           "shape": ""
          }
         },
         "name": "EL ARENAL KM 2",
         "offsetgroup": "EL ARENAL KM 2",
         "orientation": "v",
         "showlegend": true,
         "textposition": "auto",
         "type": "bar",
         "x": [
          "EL ARENAL KM 2"
         ],
         "xaxis": "x",
         "y": [
          623
         ],
         "yaxis": "y"
        },
        {
         "alignmentgroup": "True",
         "hovertemplate": "Nombre Ubicación=%{x}<br>Beneficiarios=%{y}<extra></extra>",
         "legendgroup": "Chabelita",
         "marker": {
          "color": "green",
          "pattern": {
           "shape": ""
          }
         },
         "name": "Chabelita",
         "offsetgroup": "Chabelita",
         "orientation": "v",
         "showlegend": true,
         "textposition": "auto",
         "type": "bar",
         "x": [
          "Chabelita"
         ],
         "xaxis": "x",
         "y": [
          434
         ],
         "yaxis": "y"
        },
        {
         "alignmentgroup": "True",
         "hovertemplate": "Nombre Ubicación=%{x}<br>Beneficiarios=%{y}<extra></extra>",
         "legendgroup": "ARCO IRIS",
         "marker": {
          "color": "green",
          "pattern": {
           "shape": ""
          }
         },
         "name": "ARCO IRIS",
         "offsetgroup": "ARCO IRIS",
         "orientation": "v",
         "showlegend": true,
         "textposition": "auto",
         "type": "bar",
         "x": [
          "ARCO IRIS"
         ],
         "xaxis": "x",
         "y": [
          394
         ],
         "yaxis": "y"
        },
        {
         "alignmentgroup": "True",
         "hovertemplate": "Nombre Ubicación=%{x}<br>Beneficiarios=%{y}<extra></extra>",
         "legendgroup": "EL LLOLLY",
         "marker": {
          "color": "green",
          "pattern": {
           "shape": ""
          }
         },
         "name": "EL LLOLLY",
         "offsetgroup": "EL LLOLLY",
         "orientation": "v",
         "showlegend": true,
         "textposition": "auto",
         "type": "bar",
         "x": [
          "EL LLOLLY"
         ],
         "xaxis": "x",
         "y": [
          428
         ],
         "yaxis": "y"
        },
        {
         "alignmentgroup": "True",
         "hovertemplate": "Nombre Ubicación=%{x}<br>Beneficiarios=%{y}<extra></extra>",
         "legendgroup": "PICHIRROPULLI",
         "marker": {
          "color": "red",
          "pattern": {
           "shape": ""
          }
         },
         "name": "PICHIRROPULLI",
         "offsetgroup": "PICHIRROPULLI",
         "orientation": "v",
         "showlegend": true,
         "textposition": "auto",
         "type": "bar",
         "x": [
          "PICHIRROPULLI"
         ],
         "xaxis": "x",
         "y": [
          1079
         ],
         "yaxis": "y"
        },
        {
         "alignmentgroup": "True",
         "hovertemplate": "Nombre Ubicación=%{x}<br>Beneficiarios=%{y}<extra></extra>",
         "legendgroup": "REUMEN",
         "marker": {
          "color": "red",
          "pattern": {
           "shape": ""
          }
         },
         "name": "REUMEN",
         "offsetgroup": "REUMEN",
         "orientation": "v",
         "showlegend": true,
         "textposition": "auto",
         "type": "bar",
         "x": [
          "REUMEN"
         ],
         "xaxis": "x",
         "y": [
          1442
         ],
         "yaxis": "y"
        },
        {
         "alignmentgroup": "True",
         "hovertemplate": "Nombre Ubicación=%{x}<br>Beneficiarios=%{y}<extra></extra>",
         "legendgroup": "SANTA FILOMENA",
         "marker": {
          "color": "green",
          "pattern": {
           "shape": ""
          }
         },
         "name": "SANTA FILOMENA",
         "offsetgroup": "SANTA FILOMENA",
         "orientation": "v",
         "showlegend": true,
         "textposition": "auto",
         "type": "bar",
         "x": [
          "SANTA FILOMENA"
         ],
         "xaxis": "x",
         "y": [
          403
         ],
         "yaxis": "y"
        },
        {
         "alignmentgroup": "True",
         "hovertemplate": "Nombre Ubicación=%{x}<br>Beneficiarios=%{y}<extra></extra>",
         "legendgroup": "MANAO",
         "marker": {
          "color": "darkred",
          "pattern": {
           "shape": ""
          }
         },
         "name": "MANAO",
         "offsetgroup": "MANAO",
         "orientation": "v",
         "showlegend": true,
         "textposition": "auto",
         "type": "bar",
         "x": [
          "MANAO"
         ],
         "xaxis": "x",
         "y": [
          220
         ],
         "yaxis": "y"
        },
        {
         "alignmentgroup": "True",
         "hovertemplate": "Nombre Ubicación=%{x}<br>Beneficiarios=%{y}<extra></extra>",
         "legendgroup": "SANTA ROSA CHICA",
         "marker": {
          "color": "green",
          "pattern": {
           "shape": ""
          }
         },
         "name": "SANTA ROSA CHICA",
         "offsetgroup": "SANTA ROSA CHICA",
         "orientation": "v",
         "showlegend": true,
         "textposition": "auto",
         "type": "bar",
         "x": [
          "SANTA ROSA CHICA"
         ],
         "xaxis": "x",
         "y": [
          394
         ],
         "yaxis": "y"
        },
        {
         "alignmentgroup": "True",
         "hovertemplate": "Nombre Ubicación=%{x}<br>Beneficiarios=%{y}<extra></extra>",
         "legendgroup": "SANTA ROSA GRANDE",
         "marker": {
          "color": "green",
          "pattern": {
           "shape": ""
          }
         },
         "name": "SANTA ROSA GRANDE",
         "offsetgroup": "SANTA ROSA GRANDE",
         "orientation": "v",
         "showlegend": true,
         "textposition": "auto",
         "type": "bar",
         "x": [
          "SANTA ROSA GRANDE"
         ],
         "xaxis": "x",
         "y": [
          319
         ],
         "yaxis": "y"
        },
        {
         "alignmentgroup": "True",
         "hovertemplate": "Nombre Ubicación=%{x}<br>Beneficiarios=%{y}<extra></extra>",
         "legendgroup": "LUMACO PAILLACO",
         "marker": {
          "color": "orange",
          "pattern": {
           "shape": ""
          }
         },
         "name": "LUMACO PAILLACO",
         "offsetgroup": "LUMACO PAILLACO",
         "orientation": "v",
         "showlegend": true,
         "textposition": "auto",
         "type": "bar",
         "x": [
          "LUMACO PAILLACO"
         ],
         "xaxis": "x",
         "y": [
          710
         ],
         "yaxis": "y"
        },
        {
         "alignmentgroup": "True",
         "hovertemplate": "Nombre Ubicación=%{x}<br>Beneficiarios=%{y}<extra></extra>",
         "legendgroup": "EL MAITEN",
         "marker": {
          "color": "darkred",
          "pattern": {
           "shape": ""
          }
         },
         "name": "EL MAITEN",
         "offsetgroup": "EL MAITEN",
         "orientation": "v",
         "showlegend": true,
         "textposition": "auto",
         "type": "bar",
         "x": [
          "EL MAITEN"
         ],
         "xaxis": "x",
         "y": [
          155
         ],
         "yaxis": "y"
        },
        {
         "alignmentgroup": "True",
         "hovertemplate": "Nombre Ubicación=%{x}<br>Beneficiarios=%{y}<extra></extra>",
         "legendgroup": "SANTA FILOMENA II",
         "marker": {
          "color": "darkred",
          "pattern": {
           "shape": ""
          }
         },
         "name": "SANTA FILOMENA II",
         "offsetgroup": "SANTA FILOMENA II",
         "orientation": "v",
         "showlegend": true,
         "textposition": "auto",
         "type": "bar",
         "x": [
          "SANTA FILOMENA II"
         ],
         "xaxis": "x",
         "y": [
          211
         ],
         "yaxis": "y"
        },
        {
         "alignmentgroup": "True",
         "hovertemplate": "Nombre Ubicación=%{x}<br>Beneficiarios=%{y}<extra></extra>",
         "legendgroup": "ANTILHUE",
         "marker": {
          "color": "red",
          "pattern": {
           "shape": ""
          }
         },
         "name": "ANTILHUE",
         "offsetgroup": "ANTILHUE",
         "orientation": "v",
         "showlegend": true,
         "textposition": "auto",
         "type": "bar",
         "x": [
          "ANTILHUE"
         ],
         "xaxis": "x",
         "y": [
          1414
         ],
         "yaxis": "y"
        },
        {
         "alignmentgroup": "True",
         "hovertemplate": "Nombre Ubicación=%{x}<br>Beneficiarios=%{y}<extra></extra>",
         "legendgroup": "FOLILCO LOS LAGOS",
         "marker": {
          "color": "green",
          "pattern": {
           "shape": ""
          }
         },
         "name": "FOLILCO LOS LAGOS",
         "offsetgroup": "FOLILCO LOS LAGOS",
         "orientation": "v",
         "showlegend": true,
         "textposition": "auto",
         "type": "bar",
         "x": [
          "FOLILCO LOS LAGOS"
         ],
         "xaxis": "x",
         "y": [
          474
         ],
         "yaxis": "y"
        },
        {
         "alignmentgroup": "True",
         "hovertemplate": "Nombre Ubicación=%{x}<br>Beneficiarios=%{y}<extra></extra>",
         "legendgroup": "QUILQUILCO",
         "marker": {
          "color": "darkred",
          "pattern": {
           "shape": ""
          }
         },
         "name": "QUILQUILCO",
         "offsetgroup": "QUILQUILCO",
         "orientation": "v",
         "showlegend": true,
         "textposition": "auto",
         "type": "bar",
         "x": [
          "QUILQUILCO"
         ],
         "xaxis": "x",
         "y": [
          149
         ],
         "yaxis": "y"
        },
        {
         "alignmentgroup": "True",
         "hovertemplate": "Nombre Ubicación=%{x}<br>Beneficiarios=%{y}<extra></extra>",
         "legendgroup": "RIÑIHUE",
         "marker": {
          "color": "darkred",
          "pattern": {
           "shape": ""
          }
         },
         "name": "RIÑIHUE",
         "offsetgroup": "RIÑIHUE",
         "orientation": "v",
         "showlegend": true,
         "textposition": "auto",
         "type": "bar",
         "x": [
          "RIÑIHUE"
         ],
         "xaxis": "x",
         "y": [
          208
         ],
         "yaxis": "y"
        },
        {
         "alignmentgroup": "True",
         "hovertemplate": "Nombre Ubicación=%{x}<br>Beneficiarios=%{y}<extra></extra>",
         "legendgroup": "USTARITZ",
         "marker": {
          "color": "green",
          "pattern": {
           "shape": ""
          }
         },
         "name": "USTARITZ",
         "offsetgroup": "USTARITZ",
         "orientation": "v",
         "showlegend": true,
         "textposition": "auto",
         "type": "bar",
         "x": [
          "USTARITZ"
         ],
         "xaxis": "x",
         "y": [
          434
         ],
         "yaxis": "y"
        },
        {
         "alignmentgroup": "True",
         "hovertemplate": "Nombre Ubicación=%{x}<br>Beneficiarios=%{y}<extra></extra>",
         "legendgroup": "EL SALTO",
         "marker": {
          "color": "orange",
          "pattern": {
           "shape": ""
          }
         },
         "name": "EL SALTO",
         "offsetgroup": "EL SALTO",
         "orientation": "v",
         "showlegend": true,
         "textposition": "auto",
         "type": "bar",
         "x": [
          "EL SALTO"
         ],
         "xaxis": "x",
         "y": [
          592
         ],
         "yaxis": "y"
        },
        {
         "alignmentgroup": "True",
         "hovertemplate": "Nombre Ubicación=%{x}<br>Beneficiarios=%{y}<extra></extra>",
         "legendgroup": "PELLINADA LAS QUINIENTAS",
         "marker": {
          "color": "green",
          "pattern": {
           "shape": ""
          }
         },
         "name": "PELLINADA LAS QUINIENTAS",
         "offsetgroup": "PELLINADA LAS QUINIENTAS",
         "orientation": "v",
         "showlegend": true,
         "textposition": "auto",
         "type": "bar",
         "x": [
          "PELLINADA LAS QUINIENTAS"
         ],
         "xaxis": "x",
         "y": [
          434
         ],
         "yaxis": "y"
        },
        {
         "alignmentgroup": "True",
         "hovertemplate": "Nombre Ubicación=%{x}<br>Beneficiarios=%{y}<extra></extra>",
         "legendgroup": "PANCUL",
         "marker": {
          "color": "orange",
          "pattern": {
           "shape": ""
          }
         },
         "name": "PANCUL",
         "offsetgroup": "PANCUL",
         "orientation": "v",
         "showlegend": true,
         "textposition": "auto",
         "type": "bar",
         "x": [
          "PANCUL"
         ],
         "xaxis": "x",
         "y": [
          729
         ],
         "yaxis": "y"
        },
        {
         "alignmentgroup": "True",
         "hovertemplate": "Nombre Ubicación=%{x}<br>Beneficiarios=%{y}<extra></extra>",
         "legendgroup": "LOS COLIGÜES",
         "marker": {
          "color": "green",
          "pattern": {
           "shape": ""
          }
         },
         "name": "LOS COLIGÜES",
         "offsetgroup": "LOS COLIGÜES",
         "orientation": "v",
         "showlegend": true,
         "textposition": "auto",
         "type": "bar",
         "x": [
          "LOS COLIGÜES"
         ],
         "xaxis": "x",
         "y": [
          456
         ],
         "yaxis": "y"
        },
        {
         "alignmentgroup": "True",
         "hovertemplate": "Nombre Ubicación=%{x}<br>Beneficiarios=%{y}<extra></extra>",
         "legendgroup": "COLO COLO",
         "marker": {
          "color": "darkred",
          "pattern": {
           "shape": ""
          }
         },
         "name": "COLO COLO",
         "offsetgroup": "COLO COLO",
         "orientation": "v",
         "showlegend": true,
         "textposition": "auto",
         "type": "bar",
         "x": [
          "COLO COLO"
         ],
         "xaxis": "x",
         "y": [
          298
         ],
         "yaxis": "y"
        },
        {
         "alignmentgroup": "True",
         "hovertemplate": "Nombre Ubicación=%{x}<br>Beneficiarios=%{y}<extra></extra>",
         "legendgroup": "LAS HUELLLAS",
         "marker": {
          "color": "darkred",
          "pattern": {
           "shape": ""
          }
         },
         "name": "LAS HUELLLAS",
         "offsetgroup": "LAS HUELLLAS",
         "orientation": "v",
         "showlegend": true,
         "textposition": "auto",
         "type": "bar",
         "x": [
          "LAS HUELLLAS"
         ],
         "xaxis": "x",
         "y": [
          276
         ],
         "yaxis": "y"
        },
        {
         "alignmentgroup": "True",
         "hovertemplate": "Nombre Ubicación=%{x}<br>Beneficiarios=%{y}<extra></extra>",
         "legendgroup": "San Pedro",
         "marker": {
          "color": "green",
          "pattern": {
           "shape": ""
          }
         },
         "name": "San Pedro",
         "offsetgroup": "San Pedro",
         "orientation": "v",
         "showlegend": true,
         "textposition": "auto",
         "type": "bar",
         "x": [
          "San Pedro"
         ],
         "xaxis": "x",
         "y": [
          375
         ],
         "yaxis": "y"
        },
        {
         "alignmentgroup": "True",
         "hovertemplate": "Nombre Ubicación=%{x}<br>Beneficiarios=%{y}<extra></extra>",
         "legendgroup": "Lipingue",
         "marker": {
          "color": "green",
          "pattern": {
           "shape": ""
          }
         },
         "name": "Lipingue",
         "offsetgroup": "Lipingue",
         "orientation": "v",
         "showlegend": true,
         "textposition": "auto",
         "type": "bar",
         "x": [
          "Lipingue"
         ],
         "xaxis": "x",
         "y": [
          434
         ],
         "yaxis": "y"
        },
        {
         "alignmentgroup": "True",
         "hovertemplate": "Nombre Ubicación=%{x}<br>Beneficiarios=%{y}<extra></extra>",
         "legendgroup": "El Trebol",
         "marker": {
          "color": "darkred",
          "pattern": {
           "shape": ""
          }
         },
         "name": "El Trebol",
         "offsetgroup": "El Trebol",
         "orientation": "v",
         "showlegend": true,
         "textposition": "auto",
         "type": "bar",
         "x": [
          "El Trebol"
         ],
         "xaxis": "x",
         "y": [
          208
         ],
         "yaxis": "y"
        },
        {
         "alignmentgroup": "True",
         "hovertemplate": "Nombre Ubicación=%{x}<br>Beneficiarios=%{y}<extra></extra>",
         "legendgroup": "Collico Sur",
         "marker": {
          "color": "darkred",
          "pattern": {
           "shape": ""
          }
         },
         "name": "Collico Sur",
         "offsetgroup": "Collico Sur",
         "orientation": "v",
         "showlegend": true,
         "textposition": "auto",
         "type": "bar",
         "x": [
          "Collico Sur"
         ],
         "xaxis": "x",
         "y": [
          236
         ],
         "yaxis": "y"
        },
        {
         "alignmentgroup": "True",
         "hovertemplate": "Nombre Ubicación=%{x}<br>Beneficiarios=%{y}<extra></extra>",
         "legendgroup": "Mi Tierra",
         "marker": {
          "color": "darkred",
          "pattern": {
           "shape": ""
          }
         },
         "name": "Mi Tierra",
         "offsetgroup": "Mi Tierra",
         "orientation": "v",
         "showlegend": true,
         "textposition": "auto",
         "type": "bar",
         "x": [
          "Mi Tierra"
         ],
         "xaxis": "x",
         "y": [
          71
         ],
         "yaxis": "y"
        },
        {
         "alignmentgroup": "True",
         "hovertemplate": "Nombre Ubicación=%{x}<br>Beneficiarios=%{y}<extra></extra>",
         "legendgroup": "Puñaco",
         "marker": {
          "color": "darkred",
          "pattern": {
           "shape": ""
          }
         },
         "name": "Puñaco",
         "offsetgroup": "Puñaco",
         "orientation": "v",
         "showlegend": true,
         "textposition": "auto",
         "type": "bar",
         "x": [
          "Puñaco"
         ],
         "xaxis": "x",
         "y": [
          81
         ],
         "yaxis": "y"
        },
        {
         "alignmentgroup": "True",
         "hovertemplate": "Nombre Ubicación=%{x}<br>Beneficiarios=%{y}<extra></extra>",
         "legendgroup": "Purey",
         "marker": {
          "color": "darkred",
          "pattern": {
           "shape": ""
          }
         },
         "name": "Purey",
         "offsetgroup": "Purey",
         "orientation": "v",
         "showlegend": true,
         "textposition": "auto",
         "type": "bar",
         "x": [
          "Purey"
         ],
         "xaxis": "x",
         "y": [
          78
         ],
         "yaxis": "y"
        },
        {
         "alignmentgroup": "True",
         "hovertemplate": "Nombre Ubicación=%{x}<br>Beneficiarios=%{y}<extra></extra>",
         "legendgroup": "AMARGO-SAN CARLOS",
         "marker": {
          "color": "purple",
          "pattern": {
           "shape": ""
          }
         },
         "name": "AMARGO-SAN CARLOS",
         "offsetgroup": "AMARGO-SAN CARLOS",
         "orientation": "v",
         "showlegend": true,
         "textposition": "auto",
         "type": "bar",
         "x": [
          "AMARGO-SAN CARLOS"
         ],
         "xaxis": "x",
         "y": [
          2412
         ],
         "yaxis": "y"
        },
        {
         "alignmentgroup": "True",
         "hovertemplate": "Nombre Ubicación=%{x}<br>Beneficiarios=%{y}<extra></extra>",
         "legendgroup": "ISLA DEL REY",
         "marker": {
          "color": "orange",
          "pattern": {
           "shape": ""
          }
         },
         "name": "ISLA DEL REY",
         "offsetgroup": "ISLA DEL REY",
         "orientation": "v",
         "showlegend": true,
         "textposition": "auto",
         "type": "bar",
         "x": [
          "ISLA DEL REY"
         ],
         "xaxis": "x",
         "y": [
          620
         ],
         "yaxis": "y"
        },
        {
         "alignmentgroup": "True",
         "hovertemplate": "Nombre Ubicación=%{x}<br>Beneficiarios=%{y}<extra></extra>",
         "legendgroup": "ISLA MANCERA",
         "marker": {
          "color": "darkred",
          "pattern": {
           "shape": ""
          }
         },
         "name": "ISLA MANCERA",
         "offsetgroup": "ISLA MANCERA",
         "orientation": "v",
         "showlegend": true,
         "textposition": "auto",
         "type": "bar",
         "x": [
          "ISLA MANCERA"
         ],
         "xaxis": "x",
         "y": [
          267
         ],
         "yaxis": "y"
        },
        {
         "alignmentgroup": "True",
         "hovertemplate": "Nombre Ubicación=%{x}<br>Beneficiarios=%{y}<extra></extra>",
         "legendgroup": "LA AGUADA",
         "marker": {
          "color": "orange",
          "pattern": {
           "shape": ""
          }
         },
         "name": "LA AGUADA",
         "offsetgroup": "LA AGUADA",
         "orientation": "v",
         "showlegend": true,
         "textposition": "auto",
         "type": "bar",
         "x": [
          "LA AGUADA"
         ],
         "xaxis": "x",
         "y": [
          626
         ],
         "yaxis": "y"
        },
        {
         "alignmentgroup": "True",
         "hovertemplate": "Nombre Ubicación=%{x}<br>Beneficiarios=%{y}<extra></extra>",
         "legendgroup": "CHAIHUIN",
         "marker": {
          "color": "orange",
          "pattern": {
           "shape": ""
          }
         },
         "name": "CHAIHUIN",
         "offsetgroup": "CHAIHUIN",
         "orientation": "v",
         "showlegend": true,
         "textposition": "auto",
         "type": "bar",
         "x": [
          "CHAIHUIN"
         ],
         "xaxis": "x",
         "y": [
          744
         ],
         "yaxis": "y"
        },
        {
         "alignmentgroup": "True",
         "hovertemplate": "Nombre Ubicación=%{x}<br>Beneficiarios=%{y}<extra></extra>",
         "legendgroup": "CERROS DE CORRAL",
         "marker": {
          "color": "green",
          "pattern": {
           "shape": ""
          }
         },
         "name": "CERROS DE CORRAL",
         "offsetgroup": "CERROS DE CORRAL",
         "orientation": "v",
         "showlegend": true,
         "textposition": "auto",
         "type": "bar",
         "x": [
          "CERROS DE CORRAL"
         ],
         "xaxis": "x",
         "y": [
          484
         ],
         "yaxis": "y"
        }
       ],
       "layout": {
        "autosize": true,
        "barmode": "relative",
        "legend": {
         "title": {
          "text": "Nombre Ubicación"
         },
         "tracegroupgap": 0
        },
        "template": {
         "data": {
          "bar": [
           {
            "error_x": {
             "color": "#2a3f5f"
            },
            "error_y": {
             "color": "#2a3f5f"
            },
            "marker": {
             "line": {
              "color": "#E5ECF6",
              "width": 0.5
             },
             "pattern": {
              "fillmode": "overlay",
              "size": 10,
              "solidity": 0.2
             }
            },
            "type": "bar"
           }
          ],
          "barpolar": [
           {
            "marker": {
             "line": {
              "color": "#E5ECF6",
              "width": 0.5
             },
             "pattern": {
              "fillmode": "overlay",
              "size": 10,
              "solidity": 0.2
             }
            },
            "type": "barpolar"
           }
          ],
          "carpet": [
           {
            "aaxis": {
             "endlinecolor": "#2a3f5f",
             "gridcolor": "white",
             "linecolor": "white",
             "minorgridcolor": "white",
             "startlinecolor": "#2a3f5f"
            },
            "baxis": {
             "endlinecolor": "#2a3f5f",
             "gridcolor": "white",
             "linecolor": "white",
             "minorgridcolor": "white",
             "startlinecolor": "#2a3f5f"
            },
            "type": "carpet"
           }
          ],
          "choropleth": [
           {
            "colorbar": {
             "outlinewidth": 0,
             "ticks": ""
            },
            "type": "choropleth"
           }
          ],
          "contour": [
           {
            "colorbar": {
             "outlinewidth": 0,
             "ticks": ""
            },
            "colorscale": [
             [
              0,
              "#0d0887"
             ],
             [
              0.1111111111111111,
              "#46039f"
             ],
             [
              0.2222222222222222,
              "#7201a8"
             ],
             [
              0.3333333333333333,
              "#9c179e"
             ],
             [
              0.4444444444444444,
              "#bd3786"
             ],
             [
              0.5555555555555556,
              "#d8576b"
             ],
             [
              0.6666666666666666,
              "#ed7953"
             ],
             [
              0.7777777777777778,
              "#fb9f3a"
             ],
             [
              0.8888888888888888,
              "#fdca26"
             ],
             [
              1,
              "#f0f921"
             ]
            ],
            "type": "contour"
           }
          ],
          "contourcarpet": [
           {
            "colorbar": {
             "outlinewidth": 0,
             "ticks": ""
            },
            "type": "contourcarpet"
           }
          ],
          "heatmap": [
           {
            "colorbar": {
             "outlinewidth": 0,
             "ticks": ""
            },
            "colorscale": [
             [
              0,
              "#0d0887"
             ],
             [
              0.1111111111111111,
              "#46039f"
             ],
             [
              0.2222222222222222,
              "#7201a8"
             ],
             [
              0.3333333333333333,
              "#9c179e"
             ],
             [
              0.4444444444444444,
              "#bd3786"
             ],
             [
              0.5555555555555556,
              "#d8576b"
             ],
             [
              0.6666666666666666,
              "#ed7953"
             ],
             [
              0.7777777777777778,
              "#fb9f3a"
             ],
             [
              0.8888888888888888,
              "#fdca26"
             ],
             [
              1,
              "#f0f921"
             ]
            ],
            "type": "heatmap"
           }
          ],
          "heatmapgl": [
           {
            "colorbar": {
             "outlinewidth": 0,
             "ticks": ""
            },
            "colorscale": [
             [
              0,
              "#0d0887"
             ],
             [
              0.1111111111111111,
              "#46039f"
             ],
             [
              0.2222222222222222,
              "#7201a8"
             ],
             [
              0.3333333333333333,
              "#9c179e"
             ],
             [
              0.4444444444444444,
              "#bd3786"
             ],
             [
              0.5555555555555556,
              "#d8576b"
             ],
             [
              0.6666666666666666,
              "#ed7953"
             ],
             [
              0.7777777777777778,
              "#fb9f3a"
             ],
             [
              0.8888888888888888,
              "#fdca26"
             ],
             [
              1,
              "#f0f921"
             ]
            ],
            "type": "heatmapgl"
           }
          ],
          "histogram": [
           {
            "marker": {
             "pattern": {
              "fillmode": "overlay",
              "size": 10,
              "solidity": 0.2
             }
            },
            "type": "histogram"
           }
          ],
          "histogram2d": [
           {
            "colorbar": {
             "outlinewidth": 0,
             "ticks": ""
            },
            "colorscale": [
             [
              0,
              "#0d0887"
             ],
             [
              0.1111111111111111,
              "#46039f"
             ],
             [
              0.2222222222222222,
              "#7201a8"
             ],
             [
              0.3333333333333333,
              "#9c179e"
             ],
             [
              0.4444444444444444,
              "#bd3786"
             ],
             [
              0.5555555555555556,
              "#d8576b"
             ],
             [
              0.6666666666666666,
              "#ed7953"
             ],
             [
              0.7777777777777778,
              "#fb9f3a"
             ],
             [
              0.8888888888888888,
              "#fdca26"
             ],
             [
              1,
              "#f0f921"
             ]
            ],
            "type": "histogram2d"
           }
          ],
          "histogram2dcontour": [
           {
            "colorbar": {
             "outlinewidth": 0,
             "ticks": ""
            },
            "colorscale": [
             [
              0,
              "#0d0887"
             ],
             [
              0.1111111111111111,
              "#46039f"
             ],
             [
              0.2222222222222222,
              "#7201a8"
             ],
             [
              0.3333333333333333,
              "#9c179e"
             ],
             [
              0.4444444444444444,
              "#bd3786"
             ],
             [
              0.5555555555555556,
              "#d8576b"
             ],
             [
              0.6666666666666666,
              "#ed7953"
             ],
             [
              0.7777777777777778,
              "#fb9f3a"
             ],
             [
              0.8888888888888888,
              "#fdca26"
             ],
             [
              1,
              "#f0f921"
             ]
            ],
            "type": "histogram2dcontour"
           }
          ],
          "mesh3d": [
           {
            "colorbar": {
             "outlinewidth": 0,
             "ticks": ""
            },
            "type": "mesh3d"
           }
          ],
          "parcoords": [
           {
            "line": {
             "colorbar": {
              "outlinewidth": 0,
              "ticks": ""
             }
            },
            "type": "parcoords"
           }
          ],
          "pie": [
           {
            "automargin": true,
            "type": "pie"
           }
          ],
          "scatter": [
           {
            "fillpattern": {
             "fillmode": "overlay",
             "size": 10,
             "solidity": 0.2
            },
            "type": "scatter"
           }
          ],
          "scatter3d": [
           {
            "line": {
             "colorbar": {
              "outlinewidth": 0,
              "ticks": ""
             }
            },
            "marker": {
             "colorbar": {
              "outlinewidth": 0,
              "ticks": ""
             }
            },
            "type": "scatter3d"
           }
          ],
          "scattercarpet": [
           {
            "marker": {
             "colorbar": {
              "outlinewidth": 0,
              "ticks": ""
             }
            },
            "type": "scattercarpet"
           }
          ],
          "scattergeo": [
           {
            "marker": {
             "colorbar": {
              "outlinewidth": 0,
              "ticks": ""
             }
            },
            "type": "scattergeo"
           }
          ],
          "scattergl": [
           {
            "marker": {
             "colorbar": {
              "outlinewidth": 0,
              "ticks": ""
             }
            },
            "type": "scattergl"
           }
          ],
          "scattermapbox": [
           {
            "marker": {
             "colorbar": {
              "outlinewidth": 0,
              "ticks": ""
             }
            },
            "type": "scattermapbox"
           }
          ],
          "scatterpolar": [
           {
            "marker": {
             "colorbar": {
              "outlinewidth": 0,
              "ticks": ""
             }
            },
            "type": "scatterpolar"
           }
          ],
          "scatterpolargl": [
           {
            "marker": {
             "colorbar": {
              "outlinewidth": 0,
              "ticks": ""
             }
            },
            "type": "scatterpolargl"
           }
          ],
          "scatterternary": [
           {
            "marker": {
             "colorbar": {
              "outlinewidth": 0,
              "ticks": ""
             }
            },
            "type": "scatterternary"
           }
          ],
          "surface": [
           {
            "colorbar": {
             "outlinewidth": 0,
             "ticks": ""
            },
            "colorscale": [
             [
              0,
              "#0d0887"
             ],
             [
              0.1111111111111111,
              "#46039f"
             ],
             [
              0.2222222222222222,
              "#7201a8"
             ],
             [
              0.3333333333333333,
              "#9c179e"
             ],
             [
              0.4444444444444444,
              "#bd3786"
             ],
             [
              0.5555555555555556,
              "#d8576b"
             ],
             [
              0.6666666666666666,
              "#ed7953"
             ],
             [
              0.7777777777777778,
              "#fb9f3a"
             ],
             [
              0.8888888888888888,
              "#fdca26"
             ],
             [
              1,
              "#f0f921"
             ]
            ],
            "type": "surface"
           }
          ],
          "table": [
           {
            "cells": {
             "fill": {
              "color": "#EBF0F8"
             },
             "line": {
              "color": "white"
             }
            },
            "header": {
             "fill": {
              "color": "#C8D4E3"
             },
             "line": {
              "color": "white"
             }
            },
            "type": "table"
           }
          ]
         },
         "layout": {
          "annotationdefaults": {
           "arrowcolor": "#2a3f5f",
           "arrowhead": 0,
           "arrowwidth": 1
          },
          "autotypenumbers": "strict",
          "coloraxis": {
           "colorbar": {
            "outlinewidth": 0,
            "ticks": ""
           }
          },
          "colorscale": {
           "diverging": [
            [
             0,
             "#8e0152"
            ],
            [
             0.1,
             "#c51b7d"
            ],
            [
             0.2,
             "#de77ae"
            ],
            [
             0.3,
             "#f1b6da"
            ],
            [
             0.4,
             "#fde0ef"
            ],
            [
             0.5,
             "#f7f7f7"
            ],
            [
             0.6,
             "#e6f5d0"
            ],
            [
             0.7,
             "#b8e186"
            ],
            [
             0.8,
             "#7fbc41"
            ],
            [
             0.9,
             "#4d9221"
            ],
            [
             1,
             "#276419"
            ]
           ],
           "sequential": [
            [
             0,
             "#0d0887"
            ],
            [
             0.1111111111111111,
             "#46039f"
            ],
            [
             0.2222222222222222,
             "#7201a8"
            ],
            [
             0.3333333333333333,
             "#9c179e"
            ],
            [
             0.4444444444444444,
             "#bd3786"
            ],
            [
             0.5555555555555556,
             "#d8576b"
            ],
            [
             0.6666666666666666,
             "#ed7953"
            ],
            [
             0.7777777777777778,
             "#fb9f3a"
            ],
            [
             0.8888888888888888,
             "#fdca26"
            ],
            [
             1,
             "#f0f921"
            ]
           ],
           "sequentialminus": [
            [
             0,
             "#0d0887"
            ],
            [
             0.1111111111111111,
             "#46039f"
            ],
            [
             0.2222222222222222,
             "#7201a8"
            ],
            [
             0.3333333333333333,
             "#9c179e"
            ],
            [
             0.4444444444444444,
             "#bd3786"
            ],
            [
             0.5555555555555556,
             "#d8576b"
            ],
            [
             0.6666666666666666,
             "#ed7953"
            ],
            [
             0.7777777777777778,
             "#fb9f3a"
            ],
            [
             0.8888888888888888,
             "#fdca26"
            ],
            [
             1,
             "#f0f921"
            ]
           ]
          },
          "colorway": [
           "#636efa",
           "#EF553B",
           "#00cc96",
           "#ab63fa",
           "#FFA15A",
           "#19d3f3",
           "#FF6692",
           "#B6E880",
           "#FF97FF",
           "#FECB52"
          ],
          "font": {
           "color": "#2a3f5f"
          },
          "geo": {
           "bgcolor": "white",
           "lakecolor": "white",
           "landcolor": "#E5ECF6",
           "showlakes": true,
           "showland": true,
           "subunitcolor": "white"
          },
          "hoverlabel": {
           "align": "left"
          },
          "hovermode": "closest",
          "mapbox": {
           "style": "light"
          },
          "paper_bgcolor": "white",
          "plot_bgcolor": "#E5ECF6",
          "polar": {
           "angularaxis": {
            "gridcolor": "white",
            "linecolor": "white",
            "ticks": ""
           },
           "bgcolor": "#E5ECF6",
           "radialaxis": {
            "gridcolor": "white",
            "linecolor": "white",
            "ticks": ""
           }
          },
          "scene": {
           "xaxis": {
            "backgroundcolor": "#E5ECF6",
            "gridcolor": "white",
            "gridwidth": 2,
            "linecolor": "white",
            "showbackground": true,
            "ticks": "",
            "zerolinecolor": "white"
           },
           "yaxis": {
            "backgroundcolor": "#E5ECF6",
            "gridcolor": "white",
            "gridwidth": 2,
            "linecolor": "white",
            "showbackground": true,
            "ticks": "",
            "zerolinecolor": "white"
           },
           "zaxis": {
            "backgroundcolor": "#E5ECF6",
            "gridcolor": "white",
            "gridwidth": 2,
            "linecolor": "white",
            "showbackground": true,
            "ticks": "",
            "zerolinecolor": "white"
           }
          },
          "shapedefaults": {
           "line": {
            "color": "#2a3f5f"
           }
          },
          "ternary": {
           "aaxis": {
            "gridcolor": "white",
            "linecolor": "white",
            "ticks": ""
           },
           "baxis": {
            "gridcolor": "white",
            "linecolor": "white",
            "ticks": ""
           },
           "bgcolor": "#E5ECF6",
           "caxis": {
            "gridcolor": "white",
            "linecolor": "white",
            "ticks": ""
           }
          },
          "title": {
           "x": 0.05
          },
          "xaxis": {
           "automargin": true,
           "gridcolor": "white",
           "linecolor": "white",
           "ticks": "",
           "title": {
            "standoff": 15
           },
           "zerolinecolor": "white",
           "zerolinewidth": 2
          },
          "yaxis": {
           "automargin": true,
           "gridcolor": "white",
           "linecolor": "white",
           "ticks": "",
           "title": {
            "standoff": 15
           },
           "zerolinecolor": "white",
           "zerolinewidth": 2
          }
         }
        },
        "title": {
         "text": "Beneficiarios por sector de instalación de APR"
        },
        "xaxis": {
         "anchor": "y",
         "autorange": true,
         "categoryarray": [
          "PISHUINCO",
          "CURIÑANCO",
          "HUELLELHUE",
          "LAS GAVIOTAS",
          "NIEBLA-LOS MOLINOS",
          "PUNUCAPA",
          "SAN IGNACIO-PLAYA ROSADA",
          "TRES ESPINOS",
          "VILLA CAYUMAPU",
          "EL ARENAL SANTA ELVIRA",
          "PAILLAO",
          "CABO BLANCO",
          "EL ARENAL KM 2",
          "Chabelita",
          "ARCO IRIS",
          "EL LLOLLY",
          "PICHIRROPULLI",
          "REUMEN",
          "SANTA FILOMENA",
          "MANAO",
          "SANTA ROSA CHICA",
          "SANTA ROSA GRANDE",
          "LUMACO PAILLACO",
          "EL MAITEN",
          "SANTA FILOMENA II",
          "ANTILHUE",
          "FOLILCO LOS LAGOS",
          "QUILQUILCO",
          "RIÑIHUE",
          "USTARITZ",
          "EL SALTO",
          "PELLINADA LAS QUINIENTAS",
          "PANCUL",
          "LOS COLIGÜES",
          "COLO COLO",
          "LAS HUELLLAS",
          "San Pedro",
          "Lipingue",
          "El Trebol",
          "Collico Sur",
          "Mi Tierra",
          "Puñaco",
          "Purey",
          "AMARGO-SAN CARLOS",
          "ISLA DEL REY",
          "ISLA MANCERA",
          "LA AGUADA",
          "CHAIHUIN",
          "CERROS DE CORRAL"
         ],
         "categoryorder": "array",
         "domain": [
          0,
          1
         ],
         "range": [
          -0.5,
          48.5
         ],
         "title": {
          "text": "Nombre Ubicación"
         },
         "type": "category"
        },
        "yaxis": {
         "anchor": "x",
         "autorange": true,
         "domain": [
          0,
          1
         ],
         "range": [
          0,
          4232.631578947368
         ],
         "title": {
          "text": "Beneficiarios"
         },
         "type": "linear"
        }
       }
      },
      "image/png": "[encoded data removed]",
      "text/html": [
       "<div>                            <div id=\"d1a264e1-4f6a-42eb-95e1-196fa4c12fb5\" class=\"plotly-graph-div\" style=\"height:525px; width:100%;\"></div>            <script type=\"text/javascript\">                require([\"plotly\"], function(Plotly) {                    window.PLOTLYENV=window.PLOTLYENV || {};                                    if (document.getElementById(\"d1a264e1-4f6a-42eb-95e1-196fa4c12fb5\")) {                    Plotly.newPlot(                        \"d1a264e1-4f6a-42eb-95e1-196fa4c12fb5\",                        [{\"alignmentgroup\":\"True\",\"hovertemplate\":\"Nombre Ubicaci\\u00f3n=%{x}<br>Beneficiarios=%{y}<extra></extra>\",\"legendgroup\":\"PISHUINCO\",\"marker\":{\"color\":\"green\",\"pattern\":{\"shape\":\"\"}},\"name\":\"PISHUINCO\",\"offsetgroup\":\"PISHUINCO\",\"orientation\":\"v\",\"showlegend\":true,\"textposition\":\"auto\",\"x\":[\"PISHUINCO\"],\"xaxis\":\"x\",\"y\":[322.0],\"yaxis\":\"y\",\"type\":\"bar\"},{\"alignmentgroup\":\"True\",\"hovertemplate\":\"Nombre Ubicaci\\u00f3n=%{x}<br>Beneficiarios=%{y}<extra></extra>\",\"legendgroup\":\"CURI\\u00d1ANCO\",\"marker\":{\"color\":\"purple\",\"pattern\":{\"shape\":\"\"}},\"name\":\"CURI\\u00d1ANCO\",\"offsetgroup\":\"CURI\\u00d1ANCO\",\"orientation\":\"v\",\"showlegend\":true,\"textposition\":\"auto\",\"x\":[\"CURI\\u00d1ANCO\"],\"xaxis\":\"x\",\"y\":[2294.0],\"yaxis\":\"y\",\"type\":\"bar\"},{\"alignmentgroup\":\"True\",\"hovertemplate\":\"Nombre Ubicaci\\u00f3n=%{x}<br>Beneficiarios=%{y}<extra></extra>\",\"legendgroup\":\"HUELLELHUE\",\"marker\":{\"color\":\"green\",\"pattern\":{\"shape\":\"\"}},\"name\":\"HUELLELHUE\",\"offsetgroup\":\"HUELLELHUE\",\"orientation\":\"v\",\"showlegend\":true,\"textposition\":\"auto\",\"x\":[\"HUELLELHUE\"],\"xaxis\":\"x\",\"y\":[310.0],\"yaxis\":\"y\",\"type\":\"bar\"},{\"alignmentgroup\":\"True\",\"hovertemplate\":\"Nombre Ubicaci\\u00f3n=%{x}<br>Beneficiarios=%{y}<extra></extra>\",\"legendgroup\":\"LAS GAVIOTAS\",\"marker\":{\"color\":\"red\",\"pattern\":{\"shape\":\"\"}},\"name\":\"LAS GAVIOTAS\",\"offsetgroup\":\"LAS GAVIOTAS\",\"orientation\":\"v\",\"showlegend\":true,\"textposition\":\"auto\",\"x\":[\"LAS GAVIOTAS\"],\"xaxis\":\"x\",\"y\":[1048.0],\"yaxis\":\"y\",\"type\":\"bar\"},{\"alignmentgroup\":\"True\",\"hovertemplate\":\"Nombre Ubicaci\\u00f3n=%{x}<br>Beneficiarios=%{y}<extra></extra>\",\"legendgroup\":\"NIEBLA-LOS MOLINOS\",\"marker\":{\"color\":\"purple\",\"pattern\":{\"shape\":\"\"}},\"name\":\"NIEBLA-LOS MOLINOS\",\"offsetgroup\":\"NIEBLA-LOS MOLINOS\",\"orientation\":\"v\",\"showlegend\":true,\"textposition\":\"auto\",\"x\":[\"NIEBLA-LOS MOLINOS\"],\"xaxis\":\"x\",\"y\":[4021.0],\"yaxis\":\"y\",\"type\":\"bar\"},{\"alignmentgroup\":\"True\",\"hovertemplate\":\"Nombre Ubicaci\\u00f3n=%{x}<br>Beneficiarios=%{y}<extra></extra>\",\"legendgroup\":\"PUNUCAPA\",\"marker\":{\"color\":\"green\",\"pattern\":{\"shape\":\"\"}},\"name\":\"PUNUCAPA\",\"offsetgroup\":\"PUNUCAPA\",\"orientation\":\"v\",\"showlegend\":true,\"textposition\":\"auto\",\"x\":[\"PUNUCAPA\"],\"xaxis\":\"x\",\"y\":[459.0],\"yaxis\":\"y\",\"type\":\"bar\"},{\"alignmentgroup\":\"True\",\"hovertemplate\":\"Nombre Ubicaci\\u00f3n=%{x}<br>Beneficiarios=%{y}<extra></extra>\",\"legendgroup\":\"SAN IGNACIO-PLAYA ROSADA\",\"marker\":{\"color\":\"orange\",\"pattern\":{\"shape\":\"\"}},\"name\":\"SAN IGNACIO-PLAYA ROSADA\",\"offsetgroup\":\"SAN IGNACIO-PLAYA ROSADA\",\"orientation\":\"v\",\"showlegend\":true,\"textposition\":\"auto\",\"x\":[\"SAN IGNACIO-PLAYA ROSADA\"],\"xaxis\":\"x\",\"y\":[936.0],\"yaxis\":\"y\",\"type\":\"bar\"},{\"alignmentgroup\":\"True\",\"hovertemplate\":\"Nombre Ubicaci\\u00f3n=%{x}<br>Beneficiarios=%{y}<extra></extra>\",\"legendgroup\":\"TRES ESPINOS\",\"marker\":{\"color\":\"red\",\"pattern\":{\"shape\":\"\"}},\"name\":\"TRES ESPINOS\",\"offsetgroup\":\"TRES ESPINOS\",\"orientation\":\"v\",\"showlegend\":true,\"textposition\":\"auto\",\"x\":[\"TRES ESPINOS\"],\"xaxis\":\"x\",\"y\":[1091.0],\"yaxis\":\"y\",\"type\":\"bar\"},{\"alignmentgroup\":\"True\",\"hovertemplate\":\"Nombre Ubicaci\\u00f3n=%{x}<br>Beneficiarios=%{y}<extra></extra>\",\"legendgroup\":\"VILLA CAYUMAPU\",\"marker\":{\"color\":\"red\",\"pattern\":{\"shape\":\"\"}},\"name\":\"VILLA CAYUMAPU\",\"offsetgroup\":\"VILLA CAYUMAPU\",\"orientation\":\"v\",\"showlegend\":true,\"textposition\":\"auto\",\"x\":[\"VILLA CAYUMAPU\"],\"xaxis\":\"x\",\"y\":[1327.0],\"yaxis\":\"y\",\"type\":\"bar\"},{\"alignmentgroup\":\"True\",\"hovertemplate\":\"Nombre Ubicaci\\u00f3n=%{x}<br>Beneficiarios=%{y}<extra></extra>\",\"legendgroup\":\"EL ARENAL SANTA ELVIRA\",\"marker\":{\"color\":\"orange\",\"pattern\":{\"shape\":\"\"}},\"name\":\"EL ARENAL SANTA ELVIRA\",\"offsetgroup\":\"EL ARENAL SANTA ELVIRA\",\"orientation\":\"v\",\"showlegend\":true,\"textposition\":\"auto\",\"x\":[\"EL ARENAL SANTA ELVIRA\"],\"xaxis\":\"x\",\"y\":[549.0],\"yaxis\":\"y\",\"type\":\"bar\"},{\"alignmentgroup\":\"True\",\"hovertemplate\":\"Nombre Ubicaci\\u00f3n=%{x}<br>Beneficiarios=%{y}<extra></extra>\",\"legendgroup\":\"PAILLAO\",\"marker\":{\"color\":\"orange\",\"pattern\":{\"shape\":\"\"}},\"name\":\"PAILLAO\",\"offsetgroup\":\"PAILLAO\",\"orientation\":\"v\",\"showlegend\":true,\"textposition\":\"auto\",\"x\":[\"PAILLAO\"],\"xaxis\":\"x\",\"y\":[871.0],\"yaxis\":\"y\",\"type\":\"bar\"},{\"alignmentgroup\":\"True\",\"hovertemplate\":\"Nombre Ubicaci\\u00f3n=%{x}<br>Beneficiarios=%{y}<extra></extra>\",\"legendgroup\":\"CABO BLANCO\",\"marker\":{\"color\":\"green\",\"pattern\":{\"shape\":\"\"}},\"name\":\"CABO BLANCO\",\"offsetgroup\":\"CABO BLANCO\",\"orientation\":\"v\",\"showlegend\":true,\"textposition\":\"auto\",\"x\":[\"CABO BLANCO\"],\"xaxis\":\"x\",\"y\":[543.0],\"yaxis\":\"y\",\"type\":\"bar\"},{\"alignmentgroup\":\"True\",\"hovertemplate\":\"Nombre Ubicaci\\u00f3n=%{x}<br>Beneficiarios=%{y}<extra></extra>\",\"legendgroup\":\"EL ARENAL KM 2\",\"marker\":{\"color\":\"orange\",\"pattern\":{\"shape\":\"\"}},\"name\":\"EL ARENAL KM 2\",\"offsetgroup\":\"EL ARENAL KM 2\",\"orientation\":\"v\",\"showlegend\":true,\"textposition\":\"auto\",\"x\":[\"EL ARENAL KM 2\"],\"xaxis\":\"x\",\"y\":[623.0],\"yaxis\":\"y\",\"type\":\"bar\"},{\"alignmentgroup\":\"True\",\"hovertemplate\":\"Nombre Ubicaci\\u00f3n=%{x}<br>Beneficiarios=%{y}<extra></extra>\",\"legendgroup\":\"Chabelita\",\"marker\":{\"color\":\"green\",\"pattern\":{\"shape\":\"\"}},\"name\":\"Chabelita\",\"offsetgroup\":\"Chabelita\",\"orientation\":\"v\",\"showlegend\":true,\"textposition\":\"auto\",\"x\":[\"Chabelita\"],\"xaxis\":\"x\",\"y\":[434.0],\"yaxis\":\"y\",\"type\":\"bar\"},{\"alignmentgroup\":\"True\",\"hovertemplate\":\"Nombre Ubicaci\\u00f3n=%{x}<br>Beneficiarios=%{y}<extra></extra>\",\"legendgroup\":\"ARCO IRIS\",\"marker\":{\"color\":\"green\",\"pattern\":{\"shape\":\"\"}},\"name\":\"ARCO IRIS\",\"offsetgroup\":\"ARCO IRIS\",\"orientation\":\"v\",\"showlegend\":true,\"textposition\":\"auto\",\"x\":[\"ARCO IRIS\"],\"xaxis\":\"x\",\"y\":[394.0],\"yaxis\":\"y\",\"type\":\"bar\"},{\"alignmentgroup\":\"True\",\"hovertemplate\":\"Nombre Ubicaci\\u00f3n=%{x}<br>Beneficiarios=%{y}<extra></extra>\",\"legendgroup\":\"EL LLOLLY\",\"marker\":{\"color\":\"green\",\"pattern\":{\"shape\":\"\"}},\"name\":\"EL LLOLLY\",\"offsetgroup\":\"EL LLOLLY\",\"orientation\":\"v\",\"showlegend\":true,\"textposition\":\"auto\",\"x\":[\"EL LLOLLY\"],\"xaxis\":\"x\",\"y\":[428.0],\"yaxis\":\"y\",\"type\":\"bar\"},{\"alignmentgroup\":\"True\",\"hovertemplate\":\"Nombre Ubicaci\\u00f3n=%{x}<br>Beneficiarios=%{y}<extra></extra>\",\"legendgroup\":\"PICHIRROPULLI\",\"marker\":{\"color\":\"red\",\"pattern\":{\"shape\":\"\"}},\"name\":\"PICHIRROPULLI\",\"offsetgroup\":\"PICHIRROPULLI\",\"orientation\":\"v\",\"showlegend\":true,\"textposition\":\"auto\",\"x\":[\"PICHIRROPULLI\"],\"xaxis\":\"x\",\"y\":[1079.0],\"yaxis\":\"y\",\"type\":\"bar\"},{\"alignmentgroup\":\"True\",\"hovertemplate\":\"Nombre Ubicaci\\u00f3n=%{x}<br>Beneficiarios=%{y}<extra></extra>\",\"legendgroup\":\"REUMEN\",\"marker\":{\"color\":\"red\",\"pattern\":{\"shape\":\"\"}},\"name\":\"REUMEN\",\"offsetgroup\":\"REUMEN\",\"orientation\":\"v\",\"showlegend\":true,\"textposition\":\"auto\",\"x\":[\"REUMEN\"],\"xaxis\":\"x\",\"y\":[1442.0],\"yaxis\":\"y\",\"type\":\"bar\"},{\"alignmentgroup\":\"True\",\"hovertemplate\":\"Nombre Ubicaci\\u00f3n=%{x}<br>Beneficiarios=%{y}<extra></extra>\",\"legendgroup\":\"SANTA FILOMENA\",\"marker\":{\"color\":\"green\",\"pattern\":{\"shape\":\"\"}},\"name\":\"SANTA FILOMENA\",\"offsetgroup\":\"SANTA FILOMENA\",\"orientation\":\"v\",\"showlegend\":true,\"textposition\":\"auto\",\"x\":[\"SANTA FILOMENA\"],\"xaxis\":\"x\",\"y\":[403.0],\"yaxis\":\"y\",\"type\":\"bar\"},{\"alignmentgroup\":\"True\",\"hovertemplate\":\"Nombre Ubicaci\\u00f3n=%{x}<br>Beneficiarios=%{y}<extra></extra>\",\"legendgroup\":\"MANAO\",\"marker\":{\"color\":\"darkred\",\"pattern\":{\"shape\":\"\"}},\"name\":\"MANAO\",\"offsetgroup\":\"MANAO\",\"orientation\":\"v\",\"showlegend\":true,\"textposition\":\"auto\",\"x\":[\"MANAO\"],\"xaxis\":\"x\",\"y\":[220.0],\"yaxis\":\"y\",\"type\":\"bar\"},{\"alignmentgroup\":\"True\",\"hovertemplate\":\"Nombre Ubicaci\\u00f3n=%{x}<br>Beneficiarios=%{y}<extra></extra>\",\"legendgroup\":\"SANTA ROSA CHICA\",\"marker\":{\"color\":\"green\",\"pattern\":{\"shape\":\"\"}},\"name\":\"SANTA ROSA CHICA\",\"offsetgroup\":\"SANTA ROSA CHICA\",\"orientation\":\"v\",\"showlegend\":true,\"textposition\":\"auto\",\"x\":[\"SANTA ROSA CHICA\"],\"xaxis\":\"x\",\"y\":[394.0],\"yaxis\":\"y\",\"type\":\"bar\"},{\"alignmentgroup\":\"True\",\"hovertemplate\":\"Nombre Ubicaci\\u00f3n=%{x}<br>Beneficiarios=%{y}<extra></extra>\",\"legendgroup\":\"SANTA ROSA GRANDE\",\"marker\":{\"color\":\"green\",\"pattern\":{\"shape\":\"\"}},\"name\":\"SANTA ROSA GRANDE\",\"offsetgroup\":\"SANTA ROSA GRANDE\",\"orientation\":\"v\",\"showlegend\":true,\"textposition\":\"auto\",\"x\":[\"SANTA ROSA GRANDE\"],\"xaxis\":\"x\",\"y\":[319.0],\"yaxis\":\"y\",\"type\":\"bar\"},{\"alignmentgroup\":\"True\",\"hovertemplate\":\"Nombre Ubicaci\\u00f3n=%{x}<br>Beneficiarios=%{y}<extra></extra>\",\"legendgroup\":\"LUMACO PAILLACO\",\"marker\":{\"color\":\"orange\",\"pattern\":{\"shape\":\"\"}},\"name\":\"LUMACO PAILLACO\",\"offsetgroup\":\"LUMACO PAILLACO\",\"orientation\":\"v\",\"showlegend\":true,\"textposition\":\"auto\",\"x\":[\"LUMACO PAILLACO\"],\"xaxis\":\"x\",\"y\":[710.0],\"yaxis\":\"y\",\"type\":\"bar\"},{\"alignmentgroup\":\"True\",\"hovertemplate\":\"Nombre Ubicaci\\u00f3n=%{x}<br>Beneficiarios=%{y}<extra></extra>\",\"legendgroup\":\"EL MAITEN\",\"marker\":{\"color\":\"darkred\",\"pattern\":{\"shape\":\"\"}},\"name\":\"EL MAITEN\",\"offsetgroup\":\"EL MAITEN\",\"orientation\":\"v\",\"showlegend\":true,\"textposition\":\"auto\",\"x\":[\"EL MAITEN\"],\"xaxis\":\"x\",\"y\":[155.0],\"yaxis\":\"y\",\"type\":\"bar\"},{\"alignmentgroup\":\"True\",\"hovertemplate\":\"Nombre Ubicaci\\u00f3n=%{x}<br>Beneficiarios=%{y}<extra></extra>\",\"legendgroup\":\"SANTA FILOMENA II\",\"marker\":{\"color\":\"darkred\",\"pattern\":{\"shape\":\"\"}},\"name\":\"SANTA FILOMENA II\",\"offsetgroup\":\"SANTA FILOMENA II\",\"orientation\":\"v\",\"showlegend\":true,\"textposition\":\"auto\",\"x\":[\"SANTA FILOMENA II\"],\"xaxis\":\"x\",\"y\":[211.0],\"yaxis\":\"y\",\"type\":\"bar\"},{\"alignmentgroup\":\"True\",\"hovertemplate\":\"Nombre Ubicaci\\u00f3n=%{x}<br>Beneficiarios=%{y}<extra></extra>\",\"legendgroup\":\"ANTILHUE\",\"marker\":{\"color\":\"red\",\"pattern\":{\"shape\":\"\"}},\"name\":\"ANTILHUE\",\"offsetgroup\":\"ANTILHUE\",\"orientation\":\"v\",\"showlegend\":true,\"textposition\":\"auto\",\"x\":[\"ANTILHUE\"],\"xaxis\":\"x\",\"y\":[1414.0],\"yaxis\":\"y\",\"type\":\"bar\"},{\"alignmentgroup\":\"True\",\"hovertemplate\":\"Nombre Ubicaci\\u00f3n=%{x}<br>Beneficiarios=%{y}<extra></extra>\",\"legendgroup\":\"FOLILCO LOS LAGOS\",\"marker\":{\"color\":\"green\",\"pattern\":{\"shape\":\"\"}},\"name\":\"FOLILCO LOS LAGOS\",\"offsetgroup\":\"FOLILCO LOS LAGOS\",\"orientation\":\"v\",\"showlegend\":true,\"textposition\":\"auto\",\"x\":[\"FOLILCO LOS LAGOS\"],\"xaxis\":\"x\",\"y\":[474.0],\"yaxis\":\"y\",\"type\":\"bar\"},{\"alignmentgroup\":\"True\",\"hovertemplate\":\"Nombre Ubicaci\\u00f3n=%{x}<br>Beneficiarios=%{y}<extra></extra>\",\"legendgroup\":\"QUILQUILCO\",\"marker\":{\"color\":\"darkred\",\"pattern\":{\"shape\":\"\"}},\"name\":\"QUILQUILCO\",\"offsetgroup\":\"QUILQUILCO\",\"orientation\":\"v\",\"showlegend\":true,\"textposition\":\"auto\",\"x\":[\"QUILQUILCO\"],\"xaxis\":\"x\",\"y\":[149.0],\"yaxis\":\"y\",\"type\":\"bar\"},{\"alignmentgroup\":\"True\",\"hovertemplate\":\"Nombre Ubicaci\\u00f3n=%{x}<br>Beneficiarios=%{y}<extra></extra>\",\"legendgroup\":\"RI\\u00d1IHUE\",\"marker\":{\"color\":\"darkred\",\"pattern\":{\"shape\":\"\"}},\"name\":\"RI\\u00d1IHUE\",\"offsetgroup\":\"RI\\u00d1IHUE\",\"orientation\":\"v\",\"showlegend\":true,\"textposition\":\"auto\",\"x\":[\"RI\\u00d1IHUE\"],\"xaxis\":\"x\",\"y\":[208.0],\"yaxis\":\"y\",\"type\":\"bar\"},{\"alignmentgroup\":\"True\",\"hovertemplate\":\"Nombre Ubicaci\\u00f3n=%{x}<br>Beneficiarios=%{y}<extra></extra>\",\"legendgroup\":\"USTARITZ\",\"marker\":{\"color\":\"green\",\"pattern\":{\"shape\":\"\"}},\"name\":\"USTARITZ\",\"offsetgroup\":\"USTARITZ\",\"orientation\":\"v\",\"showlegend\":true,\"textposition\":\"auto\",\"x\":[\"USTARITZ\"],\"xaxis\":\"x\",\"y\":[434.0],\"yaxis\":\"y\",\"type\":\"bar\"},{\"alignmentgroup\":\"True\",\"hovertemplate\":\"Nombre Ubicaci\\u00f3n=%{x}<br>Beneficiarios=%{y}<extra></extra>\",\"legendgroup\":\"EL SALTO\",\"marker\":{\"color\":\"orange\",\"pattern\":{\"shape\":\"\"}},\"name\":\"EL SALTO\",\"offsetgroup\":\"EL SALTO\",\"orientation\":\"v\",\"showlegend\":true,\"textposition\":\"auto\",\"x\":[\"EL SALTO\"],\"xaxis\":\"x\",\"y\":[592.0],\"yaxis\":\"y\",\"type\":\"bar\"},{\"alignmentgroup\":\"True\",\"hovertemplate\":\"Nombre Ubicaci\\u00f3n=%{x}<br>Beneficiarios=%{y}<extra></extra>\",\"legendgroup\":\"PELLINADA LAS QUINIENTAS\",\"marker\":{\"color\":\"green\",\"pattern\":{\"shape\":\"\"}},\"name\":\"PELLINADA LAS QUINIENTAS\",\"offsetgroup\":\"PELLINADA LAS QUINIENTAS\",\"orientation\":\"v\",\"showlegend\":true,\"textposition\":\"auto\",\"x\":[\"PELLINADA LAS QUINIENTAS\"],\"xaxis\":\"x\",\"y\":[434.0],\"yaxis\":\"y\",\"type\":\"bar\"},{\"alignmentgroup\":\"True\",\"hovertemplate\":\"Nombre Ubicaci\\u00f3n=%{x}<br>Beneficiarios=%{y}<extra></extra>\",\"legendgroup\":\"PANCUL\",\"marker\":{\"color\":\"orange\",\"pattern\":{\"shape\":\"\"}},\"name\":\"PANCUL\",\"offsetgroup\":\"PANCUL\",\"orientation\":\"v\",\"showlegend\":true,\"textposition\":\"auto\",\"x\":[\"PANCUL\"],\"xaxis\":\"x\",\"y\":[729.0],\"yaxis\":\"y\",\"type\":\"bar\"},{\"alignmentgroup\":\"True\",\"hovertemplate\":\"Nombre Ubicaci\\u00f3n=%{x}<br>Beneficiarios=%{y}<extra></extra>\",\"legendgroup\":\"LOS COLIG\\u00dcES\",\"marker\":{\"color\":\"green\",\"pattern\":{\"shape\":\"\"}},\"name\":\"LOS COLIG\\u00dcES\",\"offsetgroup\":\"LOS COLIG\\u00dcES\",\"orientation\":\"v\",\"showlegend\":true,\"textposition\":\"auto\",\"x\":[\"LOS COLIG\\u00dcES\"],\"xaxis\":\"x\",\"y\":[456.0],\"yaxis\":\"y\",\"type\":\"bar\"},{\"alignmentgroup\":\"True\",\"hovertemplate\":\"Nombre Ubicaci\\u00f3n=%{x}<br>Beneficiarios=%{y}<extra></extra>\",\"legendgroup\":\"COLO COLO\",\"marker\":{\"color\":\"darkred\",\"pattern\":{\"shape\":\"\"}},\"name\":\"COLO COLO\",\"offsetgroup\":\"COLO COLO\",\"orientation\":\"v\",\"showlegend\":true,\"textposition\":\"auto\",\"x\":[\"COLO COLO\"],\"xaxis\":\"x\",\"y\":[298.0],\"yaxis\":\"y\",\"type\":\"bar\"},{\"alignmentgroup\":\"True\",\"hovertemplate\":\"Nombre Ubicaci\\u00f3n=%{x}<br>Beneficiarios=%{y}<extra></extra>\",\"legendgroup\":\"LAS HUELLLAS\",\"marker\":{\"color\":\"darkred\",\"pattern\":{\"shape\":\"\"}},\"name\":\"LAS HUELLLAS\",\"offsetgroup\":\"LAS HUELLLAS\",\"orientation\":\"v\",\"showlegend\":true,\"textposition\":\"auto\",\"x\":[\"LAS HUELLLAS\"],\"xaxis\":\"x\",\"y\":[276.0],\"yaxis\":\"y\",\"type\":\"bar\"},{\"alignmentgroup\":\"True\",\"hovertemplate\":\"Nombre Ubicaci\\u00f3n=%{x}<br>Beneficiarios=%{y}<extra></extra>\",\"legendgroup\":\"San Pedro\",\"marker\":{\"color\":\"green\",\"pattern\":{\"shape\":\"\"}},\"name\":\"San Pedro\",\"offsetgroup\":\"San Pedro\",\"orientation\":\"v\",\"showlegend\":true,\"textposition\":\"auto\",\"x\":[\"San Pedro\"],\"xaxis\":\"x\",\"y\":[375.0],\"yaxis\":\"y\",\"type\":\"bar\"},{\"alignmentgroup\":\"True\",\"hovertemplate\":\"Nombre Ubicaci\\u00f3n=%{x}<br>Beneficiarios=%{y}<extra></extra>\",\"legendgroup\":\"Lipingue\",\"marker\":{\"color\":\"green\",\"pattern\":{\"shape\":\"\"}},\"name\":\"Lipingue\",\"offsetgroup\":\"Lipingue\",\"orientation\":\"v\",\"showlegend\":true,\"textposition\":\"auto\",\"x\":[\"Lipingue\"],\"xaxis\":\"x\",\"y\":[434.0],\"yaxis\":\"y\",\"type\":\"bar\"},{\"alignmentgroup\":\"True\",\"hovertemplate\":\"Nombre Ubicaci\\u00f3n=%{x}<br>Beneficiarios=%{y}<extra></extra>\",\"legendgroup\":\"El Trebol\",\"marker\":{\"color\":\"darkred\",\"pattern\":{\"shape\":\"\"}},\"name\":\"El Trebol\",\"offsetgroup\":\"El Trebol\",\"orientation\":\"v\",\"showlegend\":true,\"textposition\":\"auto\",\"x\":[\"El Trebol\"],\"xaxis\":\"x\",\"y\":[208.0],\"yaxis\":\"y\",\"type\":\"bar\"},{\"alignmentgroup\":\"True\",\"hovertemplate\":\"Nombre Ubicaci\\u00f3n=%{x}<br>Beneficiarios=%{y}<extra></extra>\",\"legendgroup\":\"Collico Sur\",\"marker\":{\"color\":\"darkred\",\"pattern\":{\"shape\":\"\"}},\"name\":\"Collico Sur\",\"offsetgroup\":\"Collico Sur\",\"orientation\":\"v\",\"showlegend\":true,\"textposition\":\"auto\",\"x\":[\"Collico Sur\"],\"xaxis\":\"x\",\"y\":[236.0],\"yaxis\":\"y\",\"type\":\"bar\"},{\"alignmentgroup\":\"True\",\"hovertemplate\":\"Nombre Ubicaci\\u00f3n=%{x}<br>Beneficiarios=%{y}<extra></extra>\",\"legendgroup\":\"Mi Tierra\",\"marker\":{\"color\":\"darkred\",\"pattern\":{\"shape\":\"\"}},\"name\":\"Mi Tierra\",\"offsetgroup\":\"Mi Tierra\",\"orientation\":\"v\",\"showlegend\":true,\"textposition\":\"auto\",\"x\":[\"Mi Tierra\"],\"xaxis\":\"x\",\"y\":[71.0],\"yaxis\":\"y\",\"type\":\"bar\"},{\"alignmentgroup\":\"True\",\"hovertemplate\":\"Nombre Ubicaci\\u00f3n=%{x}<br>Beneficiarios=%{y}<extra></extra>\",\"legendgroup\":\"Pu\\u00f1aco\",\"marker\":{\"color\":\"darkred\",\"pattern\":{\"shape\":\"\"}},\"name\":\"Pu\\u00f1aco\",\"offsetgroup\":\"Pu\\u00f1aco\",\"orientation\":\"v\",\"showlegend\":true,\"textposition\":\"auto\",\"x\":[\"Pu\\u00f1aco\"],\"xaxis\":\"x\",\"y\":[81.0],\"yaxis\":\"y\",\"type\":\"bar\"},{\"alignmentgroup\":\"True\",\"hovertemplate\":\"Nombre Ubicaci\\u00f3n=%{x}<br>Beneficiarios=%{y}<extra></extra>\",\"legendgroup\":\"Purey\",\"marker\":{\"color\":\"darkred\",\"pattern\":{\"shape\":\"\"}},\"name\":\"Purey\",\"offsetgroup\":\"Purey\",\"orientation\":\"v\",\"showlegend\":true,\"textposition\":\"auto\",\"x\":[\"Purey\"],\"xaxis\":\"x\",\"y\":[78.0],\"yaxis\":\"y\",\"type\":\"bar\"},{\"alignmentgroup\":\"True\",\"hovertemplate\":\"Nombre Ubicaci\\u00f3n=%{x}<br>Beneficiarios=%{y}<extra></extra>\",\"legendgroup\":\"AMARGO-SAN CARLOS\",\"marker\":{\"color\":\"purple\",\"pattern\":{\"shape\":\"\"}},\"name\":\"AMARGO-SAN CARLOS\",\"offsetgroup\":\"AMARGO-SAN CARLOS\",\"orientation\":\"v\",\"showlegend\":true,\"textposition\":\"auto\",\"x\":[\"AMARGO-SAN CARLOS\"],\"xaxis\":\"x\",\"y\":[2412.0],\"yaxis\":\"y\",\"type\":\"bar\"},{\"alignmentgroup\":\"True\",\"hovertemplate\":\"Nombre Ubicaci\\u00f3n=%{x}<br>Beneficiarios=%{y}<extra></extra>\",\"legendgroup\":\"ISLA DEL REY\",\"marker\":{\"color\":\"orange\",\"pattern\":{\"shape\":\"\"}},\"name\":\"ISLA DEL REY\",\"offsetgroup\":\"ISLA DEL REY\",\"orientation\":\"v\",\"showlegend\":true,\"textposition\":\"auto\",\"x\":[\"ISLA DEL REY\"],\"xaxis\":\"x\",\"y\":[620.0],\"yaxis\":\"y\",\"type\":\"bar\"},{\"alignmentgroup\":\"True\",\"hovertemplate\":\"Nombre Ubicaci\\u00f3n=%{x}<br>Beneficiarios=%{y}<extra></extra>\",\"legendgroup\":\"ISLA MANCERA\",\"marker\":{\"color\":\"darkred\",\"pattern\":{\"shape\":\"\"}},\"name\":\"ISLA MANCERA\",\"offsetgroup\":\"ISLA MANCERA\",\"orientation\":\"v\",\"showlegend\":true,\"textposition\":\"auto\",\"x\":[\"ISLA MANCERA\"],\"xaxis\":\"x\",\"y\":[267.0],\"yaxis\":\"y\",\"type\":\"bar\"},{\"alignmentgroup\":\"True\",\"hovertemplate\":\"Nombre Ubicaci\\u00f3n=%{x}<br>Beneficiarios=%{y}<extra></extra>\",\"legendgroup\":\"LA AGUADA\",\"marker\":{\"color\":\"orange\",\"pattern\":{\"shape\":\"\"}},\"name\":\"LA AGUADA\",\"offsetgroup\":\"LA AGUADA\",\"orientation\":\"v\",\"showlegend\":true,\"textposition\":\"auto\",\"x\":[\"LA AGUADA\"],\"xaxis\":\"x\",\"y\":[626.0],\"yaxis\":\"y\",\"type\":\"bar\"},{\"alignmentgroup\":\"True\",\"hovertemplate\":\"Nombre Ubicaci\\u00f3n=%{x}<br>Beneficiarios=%{y}<extra></extra>\",\"legendgroup\":\"CHAIHUIN\",\"marker\":{\"color\":\"orange\",\"pattern\":{\"shape\":\"\"}},\"name\":\"CHAIHUIN\",\"offsetgroup\":\"CHAIHUIN\",\"orientation\":\"v\",\"showlegend\":true,\"textposition\":\"auto\",\"x\":[\"CHAIHUIN\"],\"xaxis\":\"x\",\"y\":[744.0],\"yaxis\":\"y\",\"type\":\"bar\"},{\"alignmentgroup\":\"True\",\"hovertemplate\":\"Nombre Ubicaci\\u00f3n=%{x}<br>Beneficiarios=%{y}<extra></extra>\",\"legendgroup\":\"CERROS DE CORRAL\",\"marker\":{\"color\":\"green\",\"pattern\":{\"shape\":\"\"}},\"name\":\"CERROS DE CORRAL\",\"offsetgroup\":\"CERROS DE CORRAL\",\"orientation\":\"v\",\"showlegend\":true,\"textposition\":\"auto\",\"x\":[\"CERROS DE CORRAL\"],\"xaxis\":\"x\",\"y\":[484.0],\"yaxis\":\"y\",\"type\":\"bar\"}],                        {\"template\":{\"data\":{\"histogram2dcontour\":[{\"type\":\"histogram2dcontour\",\"colorbar\":{\"outlinewidth\":0,\"ticks\":\"\"},\"colorscale\":[[0.0,\"#0d0887\"],[0.1111111111111111,\"#46039f\"],[0.2222222222222222,\"#7201a8\"],[0.3333333333333333,\"#9c179e\"],[0.4444444444444444,\"#bd3786\"],[0.5555555555555556,\"#d8576b\"],[0.6666666666666666,\"#ed7953\"],[0.7777777777777778,\"#fb9f3a\"],[0.8888888888888888,\"#fdca26\"],[1.0,\"#f0f921\"]]}],\"choropleth\":[{\"type\":\"choropleth\",\"colorbar\":{\"outlinewidth\":0,\"ticks\":\"\"}}],\"histogram2d\":[{\"type\":\"histogram2d\",\"colorbar\":{\"outlinewidth\":0,\"ticks\":\"\"},\"colorscale\":[[0.0,\"#0d0887\"],[0.1111111111111111,\"#46039f\"],[0.2222222222222222,\"#7201a8\"],[0.3333333333333333,\"#9c179e\"],[0.4444444444444444,\"#bd3786\"],[0.5555555555555556,\"#d8576b\"],[0.6666666666666666,\"#ed7953\"],[0.7777777777777778,\"#fb9f3a\"],[0.8888888888888888,\"#fdca26\"],[1.0,\"#f0f921\"]]}],\"heatmap\":[{\"type\":\"heatmap\",\"colorbar\":{\"outlinewidth\":0,\"ticks\":\"\"},\"colorscale\":[[0.0,\"#0d0887\"],[0.1111111111111111,\"#46039f\"],[0.2222222222222222,\"#7201a8\"],[0.3333333333333333,\"#9c179e\"],[0.4444444444444444,\"#bd3786\"],[0.5555555555555556,\"#d8576b\"],[0.6666666666666666,\"#ed7953\"],[0.7777777777777778,\"#fb9f3a\"],[0.8888888888888888,\"#fdca26\"],[1.0,\"#f0f921\"]]}],\"heatmapgl\":[{\"type\":\"heatmapgl\",\"colorbar\":{\"outlinewidth\":0,\"ticks\":\"\"},\"colorscale\":[[0.0,\"#0d0887\"],[0.1111111111111111,\"#46039f\"],[0.2222222222222222,\"#7201a8\"],[0.3333333333333333,\"#9c179e\"],[0.4444444444444444,\"#bd3786\"],[0.5555555555555556,\"#d8576b\"],[0.6666666666666666,\"#ed7953\"],[0.7777777777777778,\"#fb9f3a\"],[0.8888888888888888,\"#fdca26\"],[1.0,\"#f0f921\"]]}],\"contourcarpet\":[{\"type\":\"contourcarpet\",\"colorbar\":{\"outlinewidth\":0,\"ticks\":\"\"}}],\"contour\":[{\"type\":\"contour\",\"colorbar\":{\"outlinewidth\":0,\"ticks\":\"\"},\"colorscale\":[[0.0,\"#0d0887\"],[0.1111111111111111,\"#46039f\"],[0.2222222222222222,\"#7201a8\"],[0.3333333333333333,\"#9c179e\"],[0.4444444444444444,\"#bd3786\"],[0.5555555555555556,\"#d8576b\"],[0.6666666666666666,\"#ed7953\"],[0.7777777777777778,\"#fb9f3a\"],[0.8888888888888888,\"#fdca26\"],[1.0,\"#f0f921\"]]}],\"surface\":[{\"type\":\"surface\",\"colorbar\":{\"outlinewidth\":0,\"ticks\":\"\"},\"colorscale\":[[0.0,\"#0d0887\"],[0.1111111111111111,\"#46039f\"],[0.2222222222222222,\"#7201a8\"],[0.3333333333333333,\"#9c179e\"],[0.4444444444444444,\"#bd3786\"],[0.5555555555555556,\"#d8576b\"],[0.6666666666666666,\"#ed7953\"],[0.7777777777777778,\"#fb9f3a\"],[0.8888888888888888,\"#fdca26\"],[1.0,\"#f0f921\"]]}],\"mesh3d\":[{\"type\":\"mesh3d\",\"colorbar\":{\"outlinewidth\":0,\"ticks\":\"\"}}],\"scatter\":[{\"fillpattern\":{\"fillmode\":\"overlay\",\"size\":10,\"solidity\":0.2},\"type\":\"scatter\"}],\"parcoords\":[{\"type\":\"parcoords\",\"line\":{\"colorbar\":{\"outlinewidth\":0,\"ticks\":\"\"}}}],\"scatterpolargl\":[{\"type\":\"scatterpolargl\",\"marker\":{\"colorbar\":{\"outlinewidth\":0,\"ticks\":\"\"}}}],\"bar\":[{\"error_x\":{\"color\":\"#2a3f5f\"},\"error_y\":{\"color\":\"#2a3f5f\"},\"marker\":{\"line\":{\"color\":\"#E5ECF6\",\"width\":0.5},\"pattern\":{\"fillmode\":\"overlay\",\"size\":10,\"solidity\":0.2}},\"type\":\"bar\"}],\"scattergeo\":[{\"type\":\"scattergeo\",\"marker\":{\"colorbar\":{\"outlinewidth\":0,\"ticks\":\"\"}}}],\"scatterpolar\":[{\"type\":\"scatterpolar\",\"marker\":{\"colorbar\":{\"outlinewidth\":0,\"ticks\":\"\"}}}],\"histogram\":[{\"marker\":{\"pattern\":{\"fillmode\":\"overlay\",\"size\":10,\"solidity\":0.2}},\"type\":\"histogram\"}],\"scattergl\":[{\"type\":\"scattergl\",\"marker\":{\"colorbar\":{\"outlinewidth\":0,\"ticks\":\"\"}}}],\"scatter3d\":[{\"type\":\"scatter3d\",\"line\":{\"colorbar\":{\"outlinewidth\":0,\"ticks\":\"\"}},\"marker\":{\"colorbar\":{\"outlinewidth\":0,\"ticks\":\"\"}}}],\"scattermapbox\":[{\"type\":\"scattermapbox\",\"marker\":{\"colorbar\":{\"outlinewidth\":0,\"ticks\":\"\"}}}],\"scatterternary\":[{\"type\":\"scatterternary\",\"marker\":{\"colorbar\":{\"outlinewidth\":0,\"ticks\":\"\"}}}],\"scattercarpet\":[{\"type\":\"scattercarpet\",\"marker\":{\"colorbar\":{\"outlinewidth\":0,\"ticks\":\"\"}}}],\"carpet\":[{\"aaxis\":{\"endlinecolor\":\"#2a3f5f\",\"gridcolor\":\"white\",\"linecolor\":\"white\",\"minorgridcolor\":\"white\",\"startlinecolor\":\"#2a3f5f\"},\"baxis\":{\"endlinecolor\":\"#2a3f5f\",\"gridcolor\":\"white\",\"linecolor\":\"white\",\"minorgridcolor\":\"white\",\"startlinecolor\":\"#2a3f5f\"},\"type\":\"carpet\"}],\"table\":[{\"cells\":{\"fill\":{\"color\":\"#EBF0F8\"},\"line\":{\"color\":\"white\"}},\"header\":{\"fill\":{\"color\":\"#C8D4E3\"},\"line\":{\"color\":\"white\"}},\"type\":\"table\"}],\"barpolar\":[{\"marker\":{\"line\":{\"color\":\"#E5ECF6\",\"width\":0.5},\"pattern\":{\"fillmode\":\"overlay\",\"size\":10,\"solidity\":0.2}},\"type\":\"barpolar\"}],\"pie\":[{\"automargin\":true,\"type\":\"pie\"}]},\"layout\":{\"autotypenumbers\":\"strict\",\"colorway\":[\"#636efa\",\"#EF553B\",\"#00cc96\",\"#ab63fa\",\"#FFA15A\",\"#19d3f3\",\"#FF6692\",\"#B6E880\",\"#FF97FF\",\"#FECB52\"],\"font\":{\"color\":\"#2a3f5f\"},\"hovermode\":\"closest\",\"hoverlabel\":{\"align\":\"left\"},\"paper_bgcolor\":\"white\",\"plot_bgcolor\":\"#E5ECF6\",\"polar\":{\"bgcolor\":\"#E5ECF6\",\"angularaxis\":{\"gridcolor\":\"white\",\"linecolor\":\"white\",\"ticks\":\"\"},\"radialaxis\":{\"gridcolor\":\"white\",\"linecolor\":\"white\",\"ticks\":\"\"}},\"ternary\":{\"bgcolor\":\"#E5ECF6\",\"aaxis\":{\"gridcolor\":\"white\",\"linecolor\":\"white\",\"ticks\":\"\"},\"baxis\":{\"gridcolor\":\"white\",\"linecolor\":\"white\",\"ticks\":\"\"},\"caxis\":{\"gridcolor\":\"white\",\"linecolor\":\"white\",\"ticks\":\"\"}},\"coloraxis\":{\"colorbar\":{\"outlinewidth\":0,\"ticks\":\"\"}},\"colorscale\":{\"sequential\":[[0.0,\"#0d0887\"],[0.1111111111111111,\"#46039f\"],[0.2222222222222222,\"#7201a8\"],[0.3333333333333333,\"#9c179e\"],[0.4444444444444444,\"#bd3786\"],[0.5555555555555556,\"#d8576b\"],[0.6666666666666666,\"#ed7953\"],[0.7777777777777778,\"#fb9f3a\"],[0.8888888888888888,\"#fdca26\"],[1.0,\"#f0f921\"]],\"sequentialminus\":[[0.0,\"#0d0887\"],[0.1111111111111111,\"#46039f\"],[0.2222222222222222,\"#7201a8\"],[0.3333333333333333,\"#9c179e\"],[0.4444444444444444,\"#bd3786\"],[0.5555555555555556,\"#d8576b\"],[0.6666666666666666,\"#ed7953\"],[0.7777777777777778,\"#fb9f3a\"],[0.8888888888888888,\"#fdca26\"],[1.0,\"#f0f921\"]],\"diverging\":[[0,\"#8e0152\"],[0.1,\"#c51b7d\"],[0.2,\"#de77ae\"],[0.3,\"#f1b6da\"],[0.4,\"#fde0ef\"],[0.5,\"#f7f7f7\"],[0.6,\"#e6f5d0\"],[0.7,\"#b8e186\"],[0.8,\"#7fbc41\"],[0.9,\"#4d9221\"],[1,\"#276419\"]]},\"xaxis\":{\"gridcolor\":\"white\",\"linecolor\":\"white\",\"ticks\":\"\",\"title\":{\"standoff\":15},\"zerolinecolor\":\"white\",\"automargin\":true,\"zerolinewidth\":2},\"yaxis\":{\"gridcolor\":\"white\",\"linecolor\":\"white\",\"ticks\":\"\",\"title\":{\"standoff\":15},\"zerolinecolor\":\"white\",\"automargin\":true,\"zerolinewidth\":2},\"scene\":{\"xaxis\":{\"backgroundcolor\":\"#E5ECF6\",\"gridcolor\":\"white\",\"linecolor\":\"white\",\"showbackground\":true,\"ticks\":\"\",\"zerolinecolor\":\"white\",\"gridwidth\":2},\"yaxis\":{\"backgroundcolor\":\"#E5ECF6\",\"gridcolor\":\"white\",\"linecolor\":\"white\",\"showbackground\":true,\"ticks\":\"\",\"zerolinecolor\":\"white\",\"gridwidth\":2},\"zaxis\":{\"backgroundcolor\":\"#E5ECF6\",\"gridcolor\":\"white\",\"linecolor\":\"white\",\"showbackground\":true,\"ticks\":\"\",\"zerolinecolor\":\"white\",\"gridwidth\":2}},\"shapedefaults\":{\"line\":{\"color\":\"#2a3f5f\"}},\"annotationdefaults\":{\"arrowcolor\":\"#2a3f5f\",\"arrowhead\":0,\"arrowwidth\":1},\"geo\":{\"bgcolor\":\"white\",\"landcolor\":\"#E5ECF6\",\"subunitcolor\":\"white\",\"showland\":true,\"showlakes\":true,\"lakecolor\":\"white\"},\"title\":{\"x\":0.05},\"mapbox\":{\"style\":\"light\"}}},\"xaxis\":{\"anchor\":\"y\",\"domain\":[0.0,1.0],\"title\":{\"text\":\"Nombre Ubicaci\\u00f3n\"},\"categoryorder\":\"array\",\"categoryarray\":[\"PISHUINCO\",\"CURI\\u00d1ANCO\",\"HUELLELHUE\",\"LAS GAVIOTAS\",\"NIEBLA-LOS MOLINOS\",\"PUNUCAPA\",\"SAN IGNACIO-PLAYA ROSADA\",\"TRES ESPINOS\",\"VILLA CAYUMAPU\",\"EL ARENAL SANTA ELVIRA\",\"PAILLAO\",\"CABO BLANCO\",\"EL ARENAL KM 2\",\"Chabelita\",\"ARCO IRIS\",\"EL LLOLLY\",\"PICHIRROPULLI\",\"REUMEN\",\"SANTA FILOMENA\",\"MANAO\",\"SANTA ROSA CHICA\",\"SANTA ROSA GRANDE\",\"LUMACO PAILLACO\",\"EL MAITEN\",\"SANTA FILOMENA II\",\"ANTILHUE\",\"FOLILCO LOS LAGOS\",\"QUILQUILCO\",\"RI\\u00d1IHUE\",\"USTARITZ\",\"EL SALTO\",\"PELLINADA LAS QUINIENTAS\",\"PANCUL\",\"LOS COLIG\\u00dcES\",\"COLO COLO\",\"LAS HUELLLAS\",\"San Pedro\",\"Lipingue\",\"El Trebol\",\"Collico Sur\",\"Mi Tierra\",\"Pu\\u00f1aco\",\"Purey\",\"AMARGO-SAN CARLOS\",\"ISLA DEL REY\",\"ISLA MANCERA\",\"LA AGUADA\",\"CHAIHUIN\",\"CERROS DE CORRAL\"]},\"yaxis\":{\"anchor\":\"x\",\"domain\":[0.0,1.0],\"title\":{\"text\":\"Beneficiarios\"}},\"legend\":{\"title\":{\"text\":\"Nombre Ubicaci\\u00f3n\"},\"tracegroupgap\":0},\"title\":{\"text\":\"Beneficiarios por sector de instalaci\\u00f3n de APR\"},\"barmode\":\"relative\"},                        {\"responsive\": true}                    ).then(function(){\n",
       "                            \n",
       "var gd = document.getElementById('d1a264e1-4f6a-42eb-95e1-196fa4c12fb5');\n",
       "var x = new MutationObserver(function (mutations, observer) {{\n",
       "        var display = window.getComputedStyle(gd).display;\n",
       "        if (!display || display === 'none') {{\n",
       "            console.log([gd, 'removed!']);\n",
       "            Plotly.purge(gd);\n",
       "            observer.disconnect();\n",
       "        }}\n",
       "}});\n",
       "\n",
       "// Listen for the removal of the full notebook cells\n",
       "var notebookContainer = gd.closest('#notebook-container');\n",
       "if (notebookContainer) {{\n",
       "    x.observe(notebookContainer, {childList: true});\n",
       "}}\n",
       "\n",
       "// Listen for the clearing of the current output cell\n",
       "var outputEl = gd.closest('.output');\n",
       "if (outputEl) {{\n",
       "    x.observe(outputEl, {childList: true});\n",
       "}}\n",
       "\n",
       "                        })                };                });            </script>        </div>"
      ]
     },
     "metadata": {},
     "output_type": "display_data"
    }
   ],
   "source": [
    "import plotly.express as px\n",
    "#Aca estamos llamando al set de datos de la tabla,que viene precargado en la librería\n",
    "\n",
    "fig = px.bar(tabla, x=\"Nombre Ubicación\", y=\"Beneficiarios\",color=\"Nombre Ubicación\",\n",
    "             title=\"Beneficiarios por sector de instalación de APR\",\n",
    "             color_discrete_sequence=color_beneficiario)\n",
    "fig.show()"
   ]
  },
  {
   "cell_type": "code",
   "execution_count": 65,
   "id": "17027aa5-a23b-4581-8e00-fb8d2eec765d",
   "metadata": {},
   "outputs": [
    {
     "data": {
      "application/vnd.plotly.v1+json": {
       "config": {
        "plotlyServerURL": "https://plot.ly"
       },
       "data": [
        {
         "alignmentgroup": "True",
         "boxpoints": "all",
         "hovertemplate": "Beneficiarios=%{x}<extra></extra>",
         "legendgroup": "",
         "marker": {
          "color": "#636efa"
         },
         "name": "",
         "notched": false,
         "offsetgroup": "",
         "orientation": "h",
         "showlegend": false,
         "type": "box",
         "x": [
          322,
          2294,
          310,
          1048,
          4021,
          459,
          936,
          1091,
          1327,
          549,
          871,
          543,
          623,
          434,
          394,
          428,
          1079,
          1442,
          403,
          220,
          394,
          319,
          710,
          155,
          211,
          1414,
          474,
          149,
          208,
          434,
          592,
          434,
          729,
          456,
          298,
          276,
          375,
          434,
          208,
          236,
          71,
          81,
          78,
          2412,
          620,
          267,
          626,
          744,
          484
         ],
         "x0": " ",
         "xaxis": "x",
         "y0": " ",
         "yaxis": "y"
        }
       ],
       "layout": {
        "autosize": true,
        "boxmode": "group",
        "legend": {
         "tracegroupgap": 0
        },
        "margin": {
         "t": 60
        },
        "template": {
         "data": {
          "bar": [
           {
            "error_x": {
             "color": "#2a3f5f"
            },
            "error_y": {
             "color": "#2a3f5f"
            },
            "marker": {
             "line": {
              "color": "#E5ECF6",
              "width": 0.5
             },
             "pattern": {
              "fillmode": "overlay",
              "size": 10,
              "solidity": 0.2
             }
            },
            "type": "bar"
           }
          ],
          "barpolar": [
           {
            "marker": {
             "line": {
              "color": "#E5ECF6",
              "width": 0.5
             },
             "pattern": {
              "fillmode": "overlay",
              "size": 10,
              "solidity": 0.2
             }
            },
            "type": "barpolar"
           }
          ],
          "carpet": [
           {
            "aaxis": {
             "endlinecolor": "#2a3f5f",
             "gridcolor": "white",
             "linecolor": "white",
             "minorgridcolor": "white",
             "startlinecolor": "#2a3f5f"
            },
            "baxis": {
             "endlinecolor": "#2a3f5f",
             "gridcolor": "white",
             "linecolor": "white",
             "minorgridcolor": "white",
             "startlinecolor": "#2a3f5f"
            },
            "type": "carpet"
           }
          ],
          "choropleth": [
           {
            "colorbar": {
             "outlinewidth": 0,
             "ticks": ""
            },
            "type": "choropleth"
           }
          ],
          "contour": [
           {
            "colorbar": {
             "outlinewidth": 0,
             "ticks": ""
            },
            "colorscale": [
             [
              0,
              "#0d0887"
             ],
             [
              0.1111111111111111,
              "#46039f"
             ],
             [
              0.2222222222222222,
              "#7201a8"
             ],
             [
              0.3333333333333333,
              "#9c179e"
             ],
             [
              0.4444444444444444,
              "#bd3786"
             ],
             [
              0.5555555555555556,
              "#d8576b"
             ],
             [
              0.6666666666666666,
              "#ed7953"
             ],
             [
              0.7777777777777778,
              "#fb9f3a"
             ],
             [
              0.8888888888888888,
              "#fdca26"
             ],
             [
              1,
              "#f0f921"
             ]
            ],
            "type": "contour"
           }
          ],
          "contourcarpet": [
           {
            "colorbar": {
             "outlinewidth": 0,
             "ticks": ""
            },
            "type": "contourcarpet"
           }
          ],
          "heatmap": [
           {
            "colorbar": {
             "outlinewidth": 0,
             "ticks": ""
            },
            "colorscale": [
             [
              0,
              "#0d0887"
             ],
             [
              0.1111111111111111,
              "#46039f"
             ],
             [
              0.2222222222222222,
              "#7201a8"
             ],
             [
              0.3333333333333333,
              "#9c179e"
             ],
             [
              0.4444444444444444,
              "#bd3786"
             ],
             [
              0.5555555555555556,
              "#d8576b"
             ],
             [
              0.6666666666666666,
              "#ed7953"
             ],
             [
              0.7777777777777778,
              "#fb9f3a"
             ],
             [
              0.8888888888888888,
              "#fdca26"
             ],
             [
              1,
              "#f0f921"
             ]
            ],
            "type": "heatmap"
           }
          ],
          "heatmapgl": [
           {
            "colorbar": {
             "outlinewidth": 0,
             "ticks": ""
            },
            "colorscale": [
             [
              0,
              "#0d0887"
             ],
             [
              0.1111111111111111,
              "#46039f"
             ],
             [
              0.2222222222222222,
              "#7201a8"
             ],
             [
              0.3333333333333333,
              "#9c179e"
             ],
             [
              0.4444444444444444,
              "#bd3786"
             ],
             [
              0.5555555555555556,
              "#d8576b"
             ],
             [
              0.6666666666666666,
              "#ed7953"
             ],
             [
              0.7777777777777778,
              "#fb9f3a"
             ],
             [
              0.8888888888888888,
              "#fdca26"
             ],
             [
              1,
              "#f0f921"
             ]
            ],
            "type": "heatmapgl"
           }
          ],
          "histogram": [
           {
            "marker": {
             "pattern": {
              "fillmode": "overlay",
              "size": 10,
              "solidity": 0.2
             }
            },
            "type": "histogram"
           }
          ],
          "histogram2d": [
           {
            "colorbar": {
             "outlinewidth": 0,
             "ticks": ""
            },
            "colorscale": [
             [
              0,
              "#0d0887"
             ],
             [
              0.1111111111111111,
              "#46039f"
             ],
             [
              0.2222222222222222,
              "#7201a8"
             ],
             [
              0.3333333333333333,
              "#9c179e"
             ],
             [
              0.4444444444444444,
              "#bd3786"
             ],
             [
              0.5555555555555556,
              "#d8576b"
             ],
             [
              0.6666666666666666,
              "#ed7953"
             ],
             [
              0.7777777777777778,
              "#fb9f3a"
             ],
             [
              0.8888888888888888,
              "#fdca26"
             ],
             [
              1,
              "#f0f921"
             ]
            ],
            "type": "histogram2d"
           }
          ],
          "histogram2dcontour": [
           {
            "colorbar": {
             "outlinewidth": 0,
             "ticks": ""
            },
            "colorscale": [
             [
              0,
              "#0d0887"
             ],
             [
              0.1111111111111111,
              "#46039f"
             ],
             [
              0.2222222222222222,
              "#7201a8"
             ],
             [
              0.3333333333333333,
              "#9c179e"
             ],
             [
              0.4444444444444444,
              "#bd3786"
             ],
             [
              0.5555555555555556,
              "#d8576b"
             ],
             [
              0.6666666666666666,
              "#ed7953"
             ],
             [
              0.7777777777777778,
              "#fb9f3a"
             ],
             [
              0.8888888888888888,
              "#fdca26"
             ],
             [
              1,
              "#f0f921"
             ]
            ],
            "type": "histogram2dcontour"
           }
          ],
          "mesh3d": [
           {
            "colorbar": {
             "outlinewidth": 0,
             "ticks": ""
            },
            "type": "mesh3d"
           }
          ],
          "parcoords": [
           {
            "line": {
             "colorbar": {
              "outlinewidth": 0,
              "ticks": ""
             }
            },
            "type": "parcoords"
           }
          ],
          "pie": [
           {
            "automargin": true,
            "type": "pie"
           }
          ],
          "scatter": [
           {
            "fillpattern": {
             "fillmode": "overlay",
             "size": 10,
             "solidity": 0.2
            },
            "type": "scatter"
           }
          ],
          "scatter3d": [
           {
            "line": {
             "colorbar": {
              "outlinewidth": 0,
              "ticks": ""
             }
            },
            "marker": {
             "colorbar": {
              "outlinewidth": 0,
              "ticks": ""
             }
            },
            "type": "scatter3d"
           }
          ],
          "scattercarpet": [
           {
            "marker": {
             "colorbar": {
              "outlinewidth": 0,
              "ticks": ""
             }
            },
            "type": "scattercarpet"
           }
          ],
          "scattergeo": [
           {
            "marker": {
             "colorbar": {
              "outlinewidth": 0,
              "ticks": ""
             }
            },
            "type": "scattergeo"
           }
          ],
          "scattergl": [
           {
            "marker": {
             "colorbar": {
              "outlinewidth": 0,
              "ticks": ""
             }
            },
            "type": "scattergl"
           }
          ],
          "scattermapbox": [
           {
            "marker": {
             "colorbar": {
              "outlinewidth": 0,
              "ticks": ""
             }
            },
            "type": "scattermapbox"
           }
          ],
          "scatterpolar": [
           {
            "marker": {
             "colorbar": {
              "outlinewidth": 0,
              "ticks": ""
             }
            },
            "type": "scatterpolar"
           }
          ],
          "scatterpolargl": [
           {
            "marker": {
             "colorbar": {
              "outlinewidth": 0,
              "ticks": ""
             }
            },
            "type": "scatterpolargl"
           }
          ],
          "scatterternary": [
           {
            "marker": {
             "colorbar": {
              "outlinewidth": 0,
              "ticks": ""
             }
            },
            "type": "scatterternary"
           }
          ],
          "surface": [
           {
            "colorbar": {
             "outlinewidth": 0,
             "ticks": ""
            },
            "colorscale": [
             [
              0,
              "#0d0887"
             ],
             [
              0.1111111111111111,
              "#46039f"
             ],
             [
              0.2222222222222222,
              "#7201a8"
             ],
             [
              0.3333333333333333,
              "#9c179e"
             ],
             [
              0.4444444444444444,
              "#bd3786"
             ],
             [
              0.5555555555555556,
              "#d8576b"
             ],
             [
              0.6666666666666666,
              "#ed7953"
             ],
             [
              0.7777777777777778,
              "#fb9f3a"
             ],
             [
              0.8888888888888888,
              "#fdca26"
             ],
             [
              1,
              "#f0f921"
             ]
            ],
            "type": "surface"
           }
          ],
          "table": [
           {
            "cells": {
             "fill": {
              "color": "#EBF0F8"
             },
             "line": {
              "color": "white"
             }
            },
            "header": {
             "fill": {
              "color": "#C8D4E3"
             },
             "line": {
              "color": "white"
             }
            },
            "type": "table"
           }
          ]
         },
         "layout": {
          "annotationdefaults": {
           "arrowcolor": "#2a3f5f",
           "arrowhead": 0,
           "arrowwidth": 1
          },
          "autotypenumbers": "strict",
          "coloraxis": {
           "colorbar": {
            "outlinewidth": 0,
            "ticks": ""
           }
          },
          "colorscale": {
           "diverging": [
            [
             0,
             "#8e0152"
            ],
            [
             0.1,
             "#c51b7d"
            ],
            [
             0.2,
             "#de77ae"
            ],
            [
             0.3,
             "#f1b6da"
            ],
            [
             0.4,
             "#fde0ef"
            ],
            [
             0.5,
             "#f7f7f7"
            ],
            [
             0.6,
             "#e6f5d0"
            ],
            [
             0.7,
             "#b8e186"
            ],
            [
             0.8,
             "#7fbc41"
            ],
            [
             0.9,
             "#4d9221"
            ],
            [
             1,
             "#276419"
            ]
           ],
           "sequential": [
            [
             0,
             "#0d0887"
            ],
            [
             0.1111111111111111,
             "#46039f"
            ],
            [
             0.2222222222222222,
             "#7201a8"
            ],
            [
             0.3333333333333333,
             "#9c179e"
            ],
            [
             0.4444444444444444,
             "#bd3786"
            ],
            [
             0.5555555555555556,
             "#d8576b"
            ],
            [
             0.6666666666666666,
             "#ed7953"
            ],
            [
             0.7777777777777778,
             "#fb9f3a"
            ],
            [
             0.8888888888888888,
             "#fdca26"
            ],
            [
             1,
             "#f0f921"
            ]
           ],
           "sequentialminus": [
            [
             0,
             "#0d0887"
            ],
            [
             0.1111111111111111,
             "#46039f"
            ],
            [
             0.2222222222222222,
             "#7201a8"
            ],
            [
             0.3333333333333333,
             "#9c179e"
            ],
            [
             0.4444444444444444,
             "#bd3786"
            ],
            [
             0.5555555555555556,
             "#d8576b"
            ],
            [
             0.6666666666666666,
             "#ed7953"
            ],
            [
             0.7777777777777778,
             "#fb9f3a"
            ],
            [
             0.8888888888888888,
             "#fdca26"
            ],
            [
             1,
             "#f0f921"
            ]
           ]
          },
          "colorway": [
           "#636efa",
           "#EF553B",
           "#00cc96",
           "#ab63fa",
           "#FFA15A",
           "#19d3f3",
           "#FF6692",
           "#B6E880",
           "#FF97FF",
           "#FECB52"
          ],
          "font": {
           "color": "#2a3f5f"
          },
          "geo": {
           "bgcolor": "white",
           "lakecolor": "white",
           "landcolor": "#E5ECF6",
           "showlakes": true,
           "showland": true,
           "subunitcolor": "white"
          },
          "hoverlabel": {
           "align": "left"
          },
          "hovermode": "closest",
          "mapbox": {
           "style": "light"
          },
          "paper_bgcolor": "white",
          "plot_bgcolor": "#E5ECF6",
          "polar": {
           "angularaxis": {
            "gridcolor": "white",
            "linecolor": "white",
            "ticks": ""
           },
           "bgcolor": "#E5ECF6",
           "radialaxis": {
            "gridcolor": "white",
            "linecolor": "white",
            "ticks": ""
           }
          },
          "scene": {
           "xaxis": {
            "backgroundcolor": "#E5ECF6",
            "gridcolor": "white",
            "gridwidth": 2,
            "linecolor": "white",
            "showbackground": true,
            "ticks": "",
            "zerolinecolor": "white"
           },
           "yaxis": {
            "backgroundcolor": "#E5ECF6",
            "gridcolor": "white",
            "gridwidth": 2,
            "linecolor": "white",
            "showbackground": true,
            "ticks": "",
            "zerolinecolor": "white"
           },
           "zaxis": {
            "backgroundcolor": "#E5ECF6",
            "gridcolor": "white",
            "gridwidth": 2,
            "linecolor": "white",
            "showbackground": true,
            "ticks": "",
            "zerolinecolor": "white"
           }
          },
          "shapedefaults": {
           "line": {
            "color": "#2a3f5f"
           }
          },
          "ternary": {
           "aaxis": {
            "gridcolor": "white",
            "linecolor": "white",
            "ticks": ""
           },
           "baxis": {
            "gridcolor": "white",
            "linecolor": "white",
            "ticks": ""
           },
           "bgcolor": "#E5ECF6",
           "caxis": {
            "gridcolor": "white",
            "linecolor": "white",
            "ticks": ""
           }
          },
          "title": {
           "x": 0.05
          },
          "xaxis": {
           "automargin": true,
           "gridcolor": "white",
           "linecolor": "white",
           "ticks": "",
           "title": {
            "standoff": 15
           },
           "zerolinecolor": "white",
           "zerolinewidth": 2
          },
          "yaxis": {
           "automargin": true,
           "gridcolor": "white",
           "linecolor": "white",
           "ticks": "",
           "title": {
            "standoff": 15
           },
           "zerolinecolor": "white",
           "zerolinewidth": 2
          }
         }
        },
        "title": {
         "text": "Distribución de sistemas de Agua Potable Rural"
        },
        "xaxis": {
         "anchor": "y",
         "autorange": true,
         "domain": [
          0,
          1
         ],
         "range": [
          -148.44444444444446,
          4240.444444444444
         ],
         "title": {
          "text": "Beneficiarios"
         },
         "type": "linear"
        },
        "yaxis": {
         "anchor": "x",
         "autorange": true,
         "domain": [
          0,
          1
         ],
         "range": [
          -0.5138248847926268,
          0.5
         ],
         "type": "category"
        }
       }
      },
      "image/png": "[encoded data removed]",
      "text/html": [
       "<div>                            <div id=\"d9b8acd1-8116-44a1-ab0d-9d77e507b070\" class=\"plotly-graph-div\" style=\"height:525px; width:100%;\"></div>            <script type=\"text/javascript\">                require([\"plotly\"], function(Plotly) {                    window.PLOTLYENV=window.PLOTLYENV || {};                                    if (document.getElementById(\"d9b8acd1-8116-44a1-ab0d-9d77e507b070\")) {                    Plotly.newPlot(                        \"d9b8acd1-8116-44a1-ab0d-9d77e507b070\",                        [{\"alignmentgroup\":\"True\",\"boxpoints\":\"all\",\"hovertemplate\":\"Beneficiarios=%{x}<extra></extra>\",\"legendgroup\":\"\",\"marker\":{\"color\":\"#636efa\"},\"name\":\"\",\"notched\":false,\"offsetgroup\":\"\",\"orientation\":\"h\",\"showlegend\":false,\"x\":[322.0,2294.0,310.0,1048.0,4021.0,459.0,936.0,1091.0,1327.0,549.0,871.0,543.0,623.0,434.0,394.0,428.0,1079.0,1442.0,403.0,220.0,394.0,319.0,710.0,155.0,211.0,1414.0,474.0,149.0,208.0,434.0,592.0,434.0,729.0,456.0,298.0,276.0,375.0,434.0,208.0,236.0,71.0,81.0,78.0,2412.0,620.0,267.0,626.0,744.0,484.0],\"x0\":\" \",\"xaxis\":\"x\",\"y0\":\" \",\"yaxis\":\"y\",\"type\":\"box\"}],                        {\"template\":{\"data\":{\"histogram2dcontour\":[{\"type\":\"histogram2dcontour\",\"colorbar\":{\"outlinewidth\":0,\"ticks\":\"\"},\"colorscale\":[[0.0,\"#0d0887\"],[0.1111111111111111,\"#46039f\"],[0.2222222222222222,\"#7201a8\"],[0.3333333333333333,\"#9c179e\"],[0.4444444444444444,\"#bd3786\"],[0.5555555555555556,\"#d8576b\"],[0.6666666666666666,\"#ed7953\"],[0.7777777777777778,\"#fb9f3a\"],[0.8888888888888888,\"#fdca26\"],[1.0,\"#f0f921\"]]}],\"choropleth\":[{\"type\":\"choropleth\",\"colorbar\":{\"outlinewidth\":0,\"ticks\":\"\"}}],\"histogram2d\":[{\"type\":\"histogram2d\",\"colorbar\":{\"outlinewidth\":0,\"ticks\":\"\"},\"colorscale\":[[0.0,\"#0d0887\"],[0.1111111111111111,\"#46039f\"],[0.2222222222222222,\"#7201a8\"],[0.3333333333333333,\"#9c179e\"],[0.4444444444444444,\"#bd3786\"],[0.5555555555555556,\"#d8576b\"],[0.6666666666666666,\"#ed7953\"],[0.7777777777777778,\"#fb9f3a\"],[0.8888888888888888,\"#fdca26\"],[1.0,\"#f0f921\"]]}],\"heatmap\":[{\"type\":\"heatmap\",\"colorbar\":{\"outlinewidth\":0,\"ticks\":\"\"},\"colorscale\":[[0.0,\"#0d0887\"],[0.1111111111111111,\"#46039f\"],[0.2222222222222222,\"#7201a8\"],[0.3333333333333333,\"#9c179e\"],[0.4444444444444444,\"#bd3786\"],[0.5555555555555556,\"#d8576b\"],[0.6666666666666666,\"#ed7953\"],[0.7777777777777778,\"#fb9f3a\"],[0.8888888888888888,\"#fdca26\"],[1.0,\"#f0f921\"]]}],\"heatmapgl\":[{\"type\":\"heatmapgl\",\"colorbar\":{\"outlinewidth\":0,\"ticks\":\"\"},\"colorscale\":[[0.0,\"#0d0887\"],[0.1111111111111111,\"#46039f\"],[0.2222222222222222,\"#7201a8\"],[0.3333333333333333,\"#9c179e\"],[0.4444444444444444,\"#bd3786\"],[0.5555555555555556,\"#d8576b\"],[0.6666666666666666,\"#ed7953\"],[0.7777777777777778,\"#fb9f3a\"],[0.8888888888888888,\"#fdca26\"],[1.0,\"#f0f921\"]]}],\"contourcarpet\":[{\"type\":\"contourcarpet\",\"colorbar\":{\"outlinewidth\":0,\"ticks\":\"\"}}],\"contour\":[{\"type\":\"contour\",\"colorbar\":{\"outlinewidth\":0,\"ticks\":\"\"},\"colorscale\":[[0.0,\"#0d0887\"],[0.1111111111111111,\"#46039f\"],[0.2222222222222222,\"#7201a8\"],[0.3333333333333333,\"#9c179e\"],[0.4444444444444444,\"#bd3786\"],[0.5555555555555556,\"#d8576b\"],[0.6666666666666666,\"#ed7953\"],[0.7777777777777778,\"#fb9f3a\"],[0.8888888888888888,\"#fdca26\"],[1.0,\"#f0f921\"]]}],\"surface\":[{\"type\":\"surface\",\"colorbar\":{\"outlinewidth\":0,\"ticks\":\"\"},\"colorscale\":[[0.0,\"#0d0887\"],[0.1111111111111111,\"#46039f\"],[0.2222222222222222,\"#7201a8\"],[0.3333333333333333,\"#9c179e\"],[0.4444444444444444,\"#bd3786\"],[0.5555555555555556,\"#d8576b\"],[0.6666666666666666,\"#ed7953\"],[0.7777777777777778,\"#fb9f3a\"],[0.8888888888888888,\"#fdca26\"],[1.0,\"#f0f921\"]]}],\"mesh3d\":[{\"type\":\"mesh3d\",\"colorbar\":{\"outlinewidth\":0,\"ticks\":\"\"}}],\"scatter\":[{\"fillpattern\":{\"fillmode\":\"overlay\",\"size\":10,\"solidity\":0.2},\"type\":\"scatter\"}],\"parcoords\":[{\"type\":\"parcoords\",\"line\":{\"colorbar\":{\"outlinewidth\":0,\"ticks\":\"\"}}}],\"scatterpolargl\":[{\"type\":\"scatterpolargl\",\"marker\":{\"colorbar\":{\"outlinewidth\":0,\"ticks\":\"\"}}}],\"bar\":[{\"error_x\":{\"color\":\"#2a3f5f\"},\"error_y\":{\"color\":\"#2a3f5f\"},\"marker\":{\"line\":{\"color\":\"#E5ECF6\",\"width\":0.5},\"pattern\":{\"fillmode\":\"overlay\",\"size\":10,\"solidity\":0.2}},\"type\":\"bar\"}],\"scattergeo\":[{\"type\":\"scattergeo\",\"marker\":{\"colorbar\":{\"outlinewidth\":0,\"ticks\":\"\"}}}],\"scatterpolar\":[{\"type\":\"scatterpolar\",\"marker\":{\"colorbar\":{\"outlinewidth\":0,\"ticks\":\"\"}}}],\"histogram\":[{\"marker\":{\"pattern\":{\"fillmode\":\"overlay\",\"size\":10,\"solidity\":0.2}},\"type\":\"histogram\"}],\"scattergl\":[{\"type\":\"scattergl\",\"marker\":{\"colorbar\":{\"outlinewidth\":0,\"ticks\":\"\"}}}],\"scatter3d\":[{\"type\":\"scatter3d\",\"line\":{\"colorbar\":{\"outlinewidth\":0,\"ticks\":\"\"}},\"marker\":{\"colorbar\":{\"outlinewidth\":0,\"ticks\":\"\"}}}],\"scattermapbox\":[{\"type\":\"scattermapbox\",\"marker\":{\"colorbar\":{\"outlinewidth\":0,\"ticks\":\"\"}}}],\"scatterternary\":[{\"type\":\"scatterternary\",\"marker\":{\"colorbar\":{\"outlinewidth\":0,\"ticks\":\"\"}}}],\"scattercarpet\":[{\"type\":\"scattercarpet\",\"marker\":{\"colorbar\":{\"outlinewidth\":0,\"ticks\":\"\"}}}],\"carpet\":[{\"aaxis\":{\"endlinecolor\":\"#2a3f5f\",\"gridcolor\":\"white\",\"linecolor\":\"white\",\"minorgridcolor\":\"white\",\"startlinecolor\":\"#2a3f5f\"},\"baxis\":{\"endlinecolor\":\"#2a3f5f\",\"gridcolor\":\"white\",\"linecolor\":\"white\",\"minorgridcolor\":\"white\",\"startlinecolor\":\"#2a3f5f\"},\"type\":\"carpet\"}],\"table\":[{\"cells\":{\"fill\":{\"color\":\"#EBF0F8\"},\"line\":{\"color\":\"white\"}},\"header\":{\"fill\":{\"color\":\"#C8D4E3\"},\"line\":{\"color\":\"white\"}},\"type\":\"table\"}],\"barpolar\":[{\"marker\":{\"line\":{\"color\":\"#E5ECF6\",\"width\":0.5},\"pattern\":{\"fillmode\":\"overlay\",\"size\":10,\"solidity\":0.2}},\"type\":\"barpolar\"}],\"pie\":[{\"automargin\":true,\"type\":\"pie\"}]},\"layout\":{\"autotypenumbers\":\"strict\",\"colorway\":[\"#636efa\",\"#EF553B\",\"#00cc96\",\"#ab63fa\",\"#FFA15A\",\"#19d3f3\",\"#FF6692\",\"#B6E880\",\"#FF97FF\",\"#FECB52\"],\"font\":{\"color\":\"#2a3f5f\"},\"hovermode\":\"closest\",\"hoverlabel\":{\"align\":\"left\"},\"paper_bgcolor\":\"white\",\"plot_bgcolor\":\"#E5ECF6\",\"polar\":{\"bgcolor\":\"#E5ECF6\",\"angularaxis\":{\"gridcolor\":\"white\",\"linecolor\":\"white\",\"ticks\":\"\"},\"radialaxis\":{\"gridcolor\":\"white\",\"linecolor\":\"white\",\"ticks\":\"\"}},\"ternary\":{\"bgcolor\":\"#E5ECF6\",\"aaxis\":{\"gridcolor\":\"white\",\"linecolor\":\"white\",\"ticks\":\"\"},\"baxis\":{\"gridcolor\":\"white\",\"linecolor\":\"white\",\"ticks\":\"\"},\"caxis\":{\"gridcolor\":\"white\",\"linecolor\":\"white\",\"ticks\":\"\"}},\"coloraxis\":{\"colorbar\":{\"outlinewidth\":0,\"ticks\":\"\"}},\"colorscale\":{\"sequential\":[[0.0,\"#0d0887\"],[0.1111111111111111,\"#46039f\"],[0.2222222222222222,\"#7201a8\"],[0.3333333333333333,\"#9c179e\"],[0.4444444444444444,\"#bd3786\"],[0.5555555555555556,\"#d8576b\"],[0.6666666666666666,\"#ed7953\"],[0.7777777777777778,\"#fb9f3a\"],[0.8888888888888888,\"#fdca26\"],[1.0,\"#f0f921\"]],\"sequentialminus\":[[0.0,\"#0d0887\"],[0.1111111111111111,\"#46039f\"],[0.2222222222222222,\"#7201a8\"],[0.3333333333333333,\"#9c179e\"],[0.4444444444444444,\"#bd3786\"],[0.5555555555555556,\"#d8576b\"],[0.6666666666666666,\"#ed7953\"],[0.7777777777777778,\"#fb9f3a\"],[0.8888888888888888,\"#fdca26\"],[1.0,\"#f0f921\"]],\"diverging\":[[0,\"#8e0152\"],[0.1,\"#c51b7d\"],[0.2,\"#de77ae\"],[0.3,\"#f1b6da\"],[0.4,\"#fde0ef\"],[0.5,\"#f7f7f7\"],[0.6,\"#e6f5d0\"],[0.7,\"#b8e186\"],[0.8,\"#7fbc41\"],[0.9,\"#4d9221\"],[1,\"#276419\"]]},\"xaxis\":{\"gridcolor\":\"white\",\"linecolor\":\"white\",\"ticks\":\"\",\"title\":{\"standoff\":15},\"zerolinecolor\":\"white\",\"automargin\":true,\"zerolinewidth\":2},\"yaxis\":{\"gridcolor\":\"white\",\"linecolor\":\"white\",\"ticks\":\"\",\"title\":{\"standoff\":15},\"zerolinecolor\":\"white\",\"automargin\":true,\"zerolinewidth\":2},\"scene\":{\"xaxis\":{\"backgroundcolor\":\"#E5ECF6\",\"gridcolor\":\"white\",\"linecolor\":\"white\",\"showbackground\":true,\"ticks\":\"\",\"zerolinecolor\":\"white\",\"gridwidth\":2},\"yaxis\":{\"backgroundcolor\":\"#E5ECF6\",\"gridcolor\":\"white\",\"linecolor\":\"white\",\"showbackground\":true,\"ticks\":\"\",\"zerolinecolor\":\"white\",\"gridwidth\":2},\"zaxis\":{\"backgroundcolor\":\"#E5ECF6\",\"gridcolor\":\"white\",\"linecolor\":\"white\",\"showbackground\":true,\"ticks\":\"\",\"zerolinecolor\":\"white\",\"gridwidth\":2}},\"shapedefaults\":{\"line\":{\"color\":\"#2a3f5f\"}},\"annotationdefaults\":{\"arrowcolor\":\"#2a3f5f\",\"arrowhead\":0,\"arrowwidth\":1},\"geo\":{\"bgcolor\":\"white\",\"landcolor\":\"#E5ECF6\",\"subunitcolor\":\"white\",\"showland\":true,\"showlakes\":true,\"lakecolor\":\"white\"},\"title\":{\"x\":0.05},\"mapbox\":{\"style\":\"light\"}}},\"xaxis\":{\"anchor\":\"y\",\"domain\":[0.0,1.0],\"title\":{\"text\":\"Beneficiarios\"}},\"yaxis\":{\"anchor\":\"x\",\"domain\":[0.0,1.0]},\"legend\":{\"tracegroupgap\":0},\"margin\":{\"t\":60},\"boxmode\":\"group\",\"title\":{\"text\":\"Distribuci\\u00f3n de sistemas de Agua Potable Rural\"}},                        {\"responsive\": true}                    ).then(function(){\n",
       "                            \n",
       "var gd = document.getElementById('d9b8acd1-8116-44a1-ab0d-9d77e507b070');\n",
       "var x = new MutationObserver(function (mutations, observer) {{\n",
       "        var display = window.getComputedStyle(gd).display;\n",
       "        if (!display || display === 'none') {{\n",
       "            console.log([gd, 'removed!']);\n",
       "            Plotly.purge(gd);\n",
       "            observer.disconnect();\n",
       "        }}\n",
       "}});\n",
       "\n",
       "// Listen for the removal of the full notebook cells\n",
       "var notebookContainer = gd.closest('#notebook-container');\n",
       "if (notebookContainer) {{\n",
       "    x.observe(notebookContainer, {childList: true});\n",
       "}}\n",
       "\n",
       "// Listen for the clearing of the current output cell\n",
       "var outputEl = gd.closest('.output');\n",
       "if (outputEl) {{\n",
       "    x.observe(outputEl, {childList: true});\n",
       "}}\n",
       "\n",
       "                        })                };                });            </script>        </div>"
      ]
     },
     "metadata": {},
     "output_type": "display_data"
    }
   ],
   "source": [
    "df = px.data.tips()\n",
    "fig = px.box(tabla, x=\"Beneficiarios\", points=\"all\")\n",
    "fig.update_layout(title_text=\"Distribución de sistemas de Agua Potable Rural\")\n",
    "fig.show()"
   ]
  },
  {
   "cell_type": "code",
   "execution_count": null,
   "id": "4ba27ff4-92cf-4d18-a6e0-3da1ff44bef8",
   "metadata": {},
   "outputs": [],
   "source": []
  },
  {
   "cell_type": "code",
   "execution_count": null,
   "id": "ec274d6b-43f4-4a8b-8956-7741085e2864",
   "metadata": {},
   "outputs": [],
   "source": []
  }
 ],
 "metadata": {
  "kernelspec": {
   "display_name": "Python 3 (ipykernel)",
   "language": "python",
   "name": "python3"
  },
  "language_info": {
   "codemirror_mode": {
    "name": "ipython",
    "version": 3
   },
   "file_extension": ".py",
   "mimetype": "text/x-python",
   "name": "python",
   "nbconvert_exporter": "python",
   "pygments_lexer": "ipython3",
   "version": "3.10.7"
  }
 },
 "nbformat": 4,
 "nbformat_minor": 5
}
