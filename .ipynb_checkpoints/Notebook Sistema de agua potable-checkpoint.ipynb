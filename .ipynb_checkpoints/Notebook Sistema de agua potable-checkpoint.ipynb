{
 "cells": [
  {
   "cell_type": "code",
   "execution_count": 1,
   "id": "4db9e58a",
   "metadata": {},
   "outputs": [],
   "source": [
    "# libreria para trabajar con mapas \n",
    "import folium \n",
    "import pandas as pd"
   ]
  },
  {
   "cell_type": "code",
   "execution_count": 2,
   "id": "1b5725c8",
   "metadata": {},
   "outputs": [
    {
     "data": {
      "text/html": [
       "<div style=\"width:100%;\"><div style=\"position:relative;width:100%;height:0;padding-bottom:60%;\"><span style=\"color:#565656\">Make this Notebook Trusted to load map: File -> Trust Notebook</span><iframe srcdoc=\"&lt;!DOCTYPE html&gt;\n",
       "&lt;head&gt;    \n",
       "    &lt;meta http-equiv=&quot;content-type&quot; content=&quot;text/html; charset=UTF-8&quot; /&gt;\n",
       "    \n",
       "        &lt;script&gt;\n",
       "            L_NO_TOUCH = false;\n",
       "            L_DISABLE_3D = false;\n",
       "        &lt;/script&gt;\n",
       "    \n",
       "    &lt;style&gt;html, body {width: 100%;height: 100%;margin: 0;padding: 0;}&lt;/style&gt;\n",
       "    &lt;style&gt;#map {position:absolute;top:0;bottom:0;right:0;left:0;}&lt;/style&gt;\n",
       "    &lt;script src=&quot;https://cdn.jsdelivr.net/npm/leaflet@1.6.0/dist/leaflet.js&quot;&gt;&lt;/script&gt;\n",
       "    &lt;script src=&quot;https://code.jquery.com/jquery-1.12.4.min.js&quot;&gt;&lt;/script&gt;\n",
       "    &lt;script src=&quot;https://maxcdn.bootstrapcdn.com/bootstrap/3.2.0/js/bootstrap.min.js&quot;&gt;&lt;/script&gt;\n",
       "    &lt;script src=&quot;https://cdnjs.cloudflare.com/ajax/libs/Leaflet.awesome-markers/2.0.2/leaflet.awesome-markers.js&quot;&gt;&lt;/script&gt;\n",
       "    &lt;link rel=&quot;stylesheet&quot; href=&quot;https://cdn.jsdelivr.net/npm/leaflet@1.6.0/dist/leaflet.css&quot;/&gt;\n",
       "    &lt;link rel=&quot;stylesheet&quot; href=&quot;https://maxcdn.bootstrapcdn.com/bootstrap/3.2.0/css/bootstrap.min.css&quot;/&gt;\n",
       "    &lt;link rel=&quot;stylesheet&quot; href=&quot;https://maxcdn.bootstrapcdn.com/bootstrap/3.2.0/css/bootstrap-theme.min.css&quot;/&gt;\n",
       "    &lt;link rel=&quot;stylesheet&quot; href=&quot;https://maxcdn.bootstrapcdn.com/font-awesome/4.6.3/css/font-awesome.min.css&quot;/&gt;\n",
       "    &lt;link rel=&quot;stylesheet&quot; href=&quot;https://cdnjs.cloudflare.com/ajax/libs/Leaflet.awesome-markers/2.0.2/leaflet.awesome-markers.css&quot;/&gt;\n",
       "    &lt;link rel=&quot;stylesheet&quot; href=&quot;https://cdn.jsdelivr.net/gh/python-visualization/folium/folium/templates/leaflet.awesome.rotate.min.css&quot;/&gt;\n",
       "    \n",
       "            &lt;meta name=&quot;viewport&quot; content=&quot;width=device-width,\n",
       "                initial-scale=1.0, maximum-scale=1.0, user-scalable=no&quot; /&gt;\n",
       "            &lt;style&gt;\n",
       "                #map_0f4834a2fb8cba779bbf65f3dbfa3722 {\n",
       "                    position: relative;\n",
       "                    width: 100.0%;\n",
       "                    height: 100.0%;\n",
       "                    left: 0.0%;\n",
       "                    top: 0.0%;\n",
       "                }\n",
       "            &lt;/style&gt;\n",
       "        \n",
       "    &lt;script src=&quot;https://cdnjs.cloudflare.com/ajax/libs/leaflet-minimap/3.6.1/Control.MiniMap.js&quot;&gt;&lt;/script&gt;\n",
       "    &lt;link rel=&quot;stylesheet&quot; href=&quot;https://cdnjs.cloudflare.com/ajax/libs/leaflet-minimap/3.6.1/Control.MiniMap.css&quot;/&gt;\n",
       "&lt;/head&gt;\n",
       "&lt;body&gt;    \n",
       "    \n",
       "            &lt;div class=&quot;folium-map&quot; id=&quot;map_0f4834a2fb8cba779bbf65f3dbfa3722&quot; &gt;&lt;/div&gt;\n",
       "        \n",
       "&lt;/body&gt;\n",
       "&lt;script&gt;    \n",
       "    \n",
       "            var map_0f4834a2fb8cba779bbf65f3dbfa3722 = L.map(\n",
       "                &quot;map_0f4834a2fb8cba779bbf65f3dbfa3722&quot;,\n",
       "                {\n",
       "                    center: [-39.81422, -73.24589],\n",
       "                    crs: L.CRS.EPSG3857,\n",
       "                    zoom: 11,\n",
       "                    zoomControl: true,\n",
       "                    preferCanvas: false,\n",
       "                }\n",
       "            );\n",
       "\n",
       "            \n",
       "\n",
       "        \n",
       "    \n",
       "            var tile_layer_82baf582007c8673f321802a542f6211 = L.tileLayer(\n",
       "                &quot;https://{s}.tile.openstreetmap.org/{z}/{x}/{y}.png&quot;,\n",
       "                {&quot;attribution&quot;: &quot;Data by \\u0026copy; \\u003ca href=\\&quot;http://openstreetmap.org\\&quot;\\u003eOpenStreetMap\\u003c/a\\u003e, under \\u003ca href=\\&quot;http://www.openstreetmap.org/copyright\\&quot;\\u003eODbL\\u003c/a\\u003e.&quot;, &quot;detectRetina&quot;: false, &quot;maxNativeZoom&quot;: 18, &quot;maxZoom&quot;: 18, &quot;minZoom&quot;: 0, &quot;noWrap&quot;: false, &quot;opacity&quot;: 1, &quot;subdomains&quot;: &quot;abc&quot;, &quot;tms&quot;: false}\n",
       "            ).addTo(map_0f4834a2fb8cba779bbf65f3dbfa3722);\n",
       "        \n",
       "    \n",
       "            var marker_a164f612b76851f0ab51831cfae4a7de = L.marker(\n",
       "                [-39.8062305249, -73.0547464487],\n",
       "                {}\n",
       "            ).addTo(map_0f4834a2fb8cba779bbf65f3dbfa3722);\n",
       "        \n",
       "    \n",
       "        var popup_333f81b4a3bf83a6650c91409f5ee219 = L.popup({&quot;maxWidth&quot;: &quot;100%&quot;});\n",
       "\n",
       "        \n",
       "            var html_b47e1eb6e442d7d283343d5f3493fad3 = $(`&lt;div id=&quot;html_b47e1eb6e442d7d283343d5f3493fad3&quot; style=&quot;width: 100.0%; height: 100.0%;&quot;&gt;&lt;i&gt;Punto de prueba&lt;/i&gt;&lt;/div&gt;`)[0];\n",
       "            popup_333f81b4a3bf83a6650c91409f5ee219.setContent(html_b47e1eb6e442d7d283343d5f3493fad3);\n",
       "        \n",
       "\n",
       "        marker_a164f612b76851f0ab51831cfae4a7de.bindPopup(popup_333f81b4a3bf83a6650c91409f5ee219)\n",
       "        ;\n",
       "\n",
       "        \n",
       "    \n",
       "    \n",
       "            marker_a164f612b76851f0ab51831cfae4a7de.bindTooltip(\n",
       "                `&lt;div&gt;\n",
       "                     PISHUINCO\n",
       "                 &lt;/div&gt;`,\n",
       "                {&quot;sticky&quot;: true}\n",
       "            );\n",
       "        \n",
       "    \n",
       "            var marker_64e6bc77aa00c4fdde6ed2ab7b1c92d9 = L.marker(\n",
       "                [-39.7283824204, -73.3948919817],\n",
       "                {}\n",
       "            ).addTo(map_0f4834a2fb8cba779bbf65f3dbfa3722);\n",
       "        \n",
       "    \n",
       "        var popup_df024b7602ab178763ca9cbdf5fe8756 = L.popup({&quot;maxWidth&quot;: &quot;100%&quot;});\n",
       "\n",
       "        \n",
       "            var html_f2d9b763b7ff1e7b33c515372feca74a = $(`&lt;div id=&quot;html_f2d9b763b7ff1e7b33c515372feca74a&quot; style=&quot;width: 100.0%; height: 100.0%;&quot;&gt;&lt;i&gt;Punto de prueba&lt;/i&gt;&lt;/div&gt;`)[0];\n",
       "            popup_df024b7602ab178763ca9cbdf5fe8756.setContent(html_f2d9b763b7ff1e7b33c515372feca74a);\n",
       "        \n",
       "\n",
       "        marker_64e6bc77aa00c4fdde6ed2ab7b1c92d9.bindPopup(popup_df024b7602ab178763ca9cbdf5fe8756)\n",
       "        ;\n",
       "\n",
       "        \n",
       "    \n",
       "    \n",
       "            marker_64e6bc77aa00c4fdde6ed2ab7b1c92d9.bindTooltip(\n",
       "                `&lt;div&gt;\n",
       "                     CURIÑANCO\n",
       "                 &lt;/div&gt;`,\n",
       "                {&quot;sticky&quot;: true}\n",
       "            );\n",
       "        \n",
       "    \n",
       "            var marker_62f8e873542093370e0752cec75a9ea9 = L.marker(\n",
       "                [-39.7930844112, -73.124067117],\n",
       "                {}\n",
       "            ).addTo(map_0f4834a2fb8cba779bbf65f3dbfa3722);\n",
       "        \n",
       "    \n",
       "        var popup_f8a74e7b39df607026e76b0fe87e609e = L.popup({&quot;maxWidth&quot;: &quot;100%&quot;});\n",
       "\n",
       "        \n",
       "            var html_5754556770d1aa2cfe9199833ad399c8 = $(`&lt;div id=&quot;html_5754556770d1aa2cfe9199833ad399c8&quot; style=&quot;width: 100.0%; height: 100.0%;&quot;&gt;&lt;i&gt;Punto de prueba&lt;/i&gt;&lt;/div&gt;`)[0];\n",
       "            popup_f8a74e7b39df607026e76b0fe87e609e.setContent(html_5754556770d1aa2cfe9199833ad399c8);\n",
       "        \n",
       "\n",
       "        marker_62f8e873542093370e0752cec75a9ea9.bindPopup(popup_f8a74e7b39df607026e76b0fe87e609e)\n",
       "        ;\n",
       "\n",
       "        \n",
       "    \n",
       "    \n",
       "            marker_62f8e873542093370e0752cec75a9ea9.bindTooltip(\n",
       "                `&lt;div&gt;\n",
       "                     HUELLELHUE\n",
       "                 &lt;/div&gt;`,\n",
       "                {&quot;sticky&quot;: true}\n",
       "            );\n",
       "        \n",
       "    \n",
       "            var marker_c7781343be7a2e8a1683dff856c5723b = L.marker(\n",
       "                [-39.8715639883, -73.1852346315],\n",
       "                {}\n",
       "            ).addTo(map_0f4834a2fb8cba779bbf65f3dbfa3722);\n",
       "        \n",
       "    \n",
       "        var popup_40456f560e231e33dc6696879a97f81d = L.popup({&quot;maxWidth&quot;: &quot;100%&quot;});\n",
       "\n",
       "        \n",
       "            var html_5f549dcb9db7b1303ae2bebb7edf61c2 = $(`&lt;div id=&quot;html_5f549dcb9db7b1303ae2bebb7edf61c2&quot; style=&quot;width: 100.0%; height: 100.0%;&quot;&gt;&lt;i&gt;Punto de prueba&lt;/i&gt;&lt;/div&gt;`)[0];\n",
       "            popup_40456f560e231e33dc6696879a97f81d.setContent(html_5f549dcb9db7b1303ae2bebb7edf61c2);\n",
       "        \n",
       "\n",
       "        marker_c7781343be7a2e8a1683dff856c5723b.bindPopup(popup_40456f560e231e33dc6696879a97f81d)\n",
       "        ;\n",
       "\n",
       "        \n",
       "    \n",
       "    \n",
       "            marker_c7781343be7a2e8a1683dff856c5723b.bindTooltip(\n",
       "                `&lt;div&gt;\n",
       "                     LAS GAVIOTAS\n",
       "                 &lt;/div&gt;`,\n",
       "                {&quot;sticky&quot;: true}\n",
       "            );\n",
       "        \n",
       "    \n",
       "            var marker_c0191b69432ba8c05d5fd4fb5152c6c4 = L.marker(\n",
       "                [-39.8547751549, -73.3907718436],\n",
       "                {}\n",
       "            ).addTo(map_0f4834a2fb8cba779bbf65f3dbfa3722);\n",
       "        \n",
       "    \n",
       "        var popup_d094e9c239d8f225708a792974a96fec = L.popup({&quot;maxWidth&quot;: &quot;100%&quot;});\n",
       "\n",
       "        \n",
       "            var html_7139002be65567e7842b891c6464ab07 = $(`&lt;div id=&quot;html_7139002be65567e7842b891c6464ab07&quot; style=&quot;width: 100.0%; height: 100.0%;&quot;&gt;&lt;i&gt;Punto de prueba&lt;/i&gt;&lt;/div&gt;`)[0];\n",
       "            popup_d094e9c239d8f225708a792974a96fec.setContent(html_7139002be65567e7842b891c6464ab07);\n",
       "        \n",
       "\n",
       "        marker_c0191b69432ba8c05d5fd4fb5152c6c4.bindPopup(popup_d094e9c239d8f225708a792974a96fec)\n",
       "        ;\n",
       "\n",
       "        \n",
       "    \n",
       "    \n",
       "            marker_c0191b69432ba8c05d5fd4fb5152c6c4.bindTooltip(\n",
       "                `&lt;div&gt;\n",
       "                     NIEBLA-LOS MOLINOS\n",
       "                 &lt;/div&gt;`,\n",
       "                {&quot;sticky&quot;: true}\n",
       "            );\n",
       "        \n",
       "    \n",
       "            var marker_10d5b799c961ebc9427d0ec8b34aeb46 = L.marker(\n",
       "                [-39.7603001637, -73.2705681336],\n",
       "                {}\n",
       "            ).addTo(map_0f4834a2fb8cba779bbf65f3dbfa3722);\n",
       "        \n",
       "    \n",
       "        var popup_6ee27c90d774e36b8994f54183bc75d3 = L.popup({&quot;maxWidth&quot;: &quot;100%&quot;});\n",
       "\n",
       "        \n",
       "            var html_5ed6866f9c8dd9aed9626056602e4ff8 = $(`&lt;div id=&quot;html_5ed6866f9c8dd9aed9626056602e4ff8&quot; style=&quot;width: 100.0%; height: 100.0%;&quot;&gt;&lt;i&gt;Punto de prueba&lt;/i&gt;&lt;/div&gt;`)[0];\n",
       "            popup_6ee27c90d774e36b8994f54183bc75d3.setContent(html_5ed6866f9c8dd9aed9626056602e4ff8);\n",
       "        \n",
       "\n",
       "        marker_10d5b799c961ebc9427d0ec8b34aeb46.bindPopup(popup_6ee27c90d774e36b8994f54183bc75d3)\n",
       "        ;\n",
       "\n",
       "        \n",
       "    \n",
       "    \n",
       "            marker_10d5b799c961ebc9427d0ec8b34aeb46.bindTooltip(\n",
       "                `&lt;div&gt;\n",
       "                     PUNUCAPA\n",
       "                 &lt;/div&gt;`,\n",
       "                {&quot;sticky&quot;: true}\n",
       "            );\n",
       "        \n",
       "    \n",
       "            var marker_e6045fff06c47f775bd597de8578143d = L.marker(\n",
       "                [-39.831480037, -73.4025892212],\n",
       "                {}\n",
       "            ).addTo(map_0f4834a2fb8cba779bbf65f3dbfa3722);\n",
       "        \n",
       "    \n",
       "        var popup_3aa8c499a934f31d196c6b5b42938916 = L.popup({&quot;maxWidth&quot;: &quot;100%&quot;});\n",
       "\n",
       "        \n",
       "            var html_05c14eea4fc7d29885b55197899b26a3 = $(`&lt;div id=&quot;html_05c14eea4fc7d29885b55197899b26a3&quot; style=&quot;width: 100.0%; height: 100.0%;&quot;&gt;&lt;i&gt;Punto de prueba&lt;/i&gt;&lt;/div&gt;`)[0];\n",
       "            popup_3aa8c499a934f31d196c6b5b42938916.setContent(html_05c14eea4fc7d29885b55197899b26a3);\n",
       "        \n",
       "\n",
       "        marker_e6045fff06c47f775bd597de8578143d.bindPopup(popup_3aa8c499a934f31d196c6b5b42938916)\n",
       "        ;\n",
       "\n",
       "        \n",
       "    \n",
       "    \n",
       "            marker_e6045fff06c47f775bd597de8578143d.bindTooltip(\n",
       "                `&lt;div&gt;\n",
       "                     SAN IGNACIO-PLAYA ROSADA\n",
       "                 &lt;/div&gt;`,\n",
       "                {&quot;sticky&quot;: true}\n",
       "            );\n",
       "        \n",
       "    \n",
       "            var marker_079b3e4e2c3f6a10a476cb8f73c72672 = L.marker(\n",
       "                [-39.8649364171, -73.3728400295],\n",
       "                {}\n",
       "            ).addTo(map_0f4834a2fb8cba779bbf65f3dbfa3722);\n",
       "        \n",
       "    \n",
       "        var popup_14677abd8ddb67690cd42cbe38b17a38 = L.popup({&quot;maxWidth&quot;: &quot;100%&quot;});\n",
       "\n",
       "        \n",
       "            var html_d9258ab28ef5f004c721a0e99c93933e = $(`&lt;div id=&quot;html_d9258ab28ef5f004c721a0e99c93933e&quot; style=&quot;width: 100.0%; height: 100.0%;&quot;&gt;&lt;i&gt;Punto de prueba&lt;/i&gt;&lt;/div&gt;`)[0];\n",
       "            popup_14677abd8ddb67690cd42cbe38b17a38.setContent(html_d9258ab28ef5f004c721a0e99c93933e);\n",
       "        \n",
       "\n",
       "        marker_079b3e4e2c3f6a10a476cb8f73c72672.bindPopup(popup_14677abd8ddb67690cd42cbe38b17a38)\n",
       "        ;\n",
       "\n",
       "        \n",
       "    \n",
       "    \n",
       "            marker_079b3e4e2c3f6a10a476cb8f73c72672.bindTooltip(\n",
       "                `&lt;div&gt;\n",
       "                     TRES ESPINOS\n",
       "                 &lt;/div&gt;`,\n",
       "                {&quot;sticky&quot;: true}\n",
       "            );\n",
       "        \n",
       "    \n",
       "            var marker_e4fc606bb828cff84f3698d05bcd3208 = L.marker(\n",
       "                [-39.7314121294, -73.1091043702],\n",
       "                {}\n",
       "            ).addTo(map_0f4834a2fb8cba779bbf65f3dbfa3722);\n",
       "        \n",
       "    \n",
       "        var popup_056b9e6178489ac32ae453cfe2c6b896 = L.popup({&quot;maxWidth&quot;: &quot;100%&quot;});\n",
       "\n",
       "        \n",
       "            var html_54e7b3270e2af912b56f4744734bd732 = $(`&lt;div id=&quot;html_54e7b3270e2af912b56f4744734bd732&quot; style=&quot;width: 100.0%; height: 100.0%;&quot;&gt;&lt;i&gt;Punto de prueba&lt;/i&gt;&lt;/div&gt;`)[0];\n",
       "            popup_056b9e6178489ac32ae453cfe2c6b896.setContent(html_54e7b3270e2af912b56f4744734bd732);\n",
       "        \n",
       "\n",
       "        marker_e4fc606bb828cff84f3698d05bcd3208.bindPopup(popup_056b9e6178489ac32ae453cfe2c6b896)\n",
       "        ;\n",
       "\n",
       "        \n",
       "    \n",
       "    \n",
       "            marker_e4fc606bb828cff84f3698d05bcd3208.bindTooltip(\n",
       "                `&lt;div&gt;\n",
       "                     VILLA CAYUMAPU\n",
       "                 &lt;/div&gt;`,\n",
       "                {&quot;sticky&quot;: true}\n",
       "            );\n",
       "        \n",
       "    \n",
       "            var marker_c70f70bf5b8ded2c95e15829444145ea = L.marker(\n",
       "                [-39.772903642, -73.1970058325],\n",
       "                {}\n",
       "            ).addTo(map_0f4834a2fb8cba779bbf65f3dbfa3722);\n",
       "        \n",
       "    \n",
       "        var popup_eeb3b96777d123e40ee0c87e2e61a4fa = L.popup({&quot;maxWidth&quot;: &quot;100%&quot;});\n",
       "\n",
       "        \n",
       "            var html_895f87526d7488df5b40258099f53d3b = $(`&lt;div id=&quot;html_895f87526d7488df5b40258099f53d3b&quot; style=&quot;width: 100.0%; height: 100.0%;&quot;&gt;&lt;i&gt;Punto de prueba&lt;/i&gt;&lt;/div&gt;`)[0];\n",
       "            popup_eeb3b96777d123e40ee0c87e2e61a4fa.setContent(html_895f87526d7488df5b40258099f53d3b);\n",
       "        \n",
       "\n",
       "        marker_c70f70bf5b8ded2c95e15829444145ea.bindPopup(popup_eeb3b96777d123e40ee0c87e2e61a4fa)\n",
       "        ;\n",
       "\n",
       "        \n",
       "    \n",
       "    \n",
       "            marker_c70f70bf5b8ded2c95e15829444145ea.bindTooltip(\n",
       "                `&lt;div&gt;\n",
       "                     EL ARENAL SANTA ELVIRA\n",
       "                 &lt;/div&gt;`,\n",
       "                {&quot;sticky&quot;: true}\n",
       "            );\n",
       "        \n",
       "    \n",
       "            var marker_0a8ed6fccc144aa46b2249d5b9bc17ff = L.marker(\n",
       "                [-39.8673123199, -73.2088638403],\n",
       "                {}\n",
       "            ).addTo(map_0f4834a2fb8cba779bbf65f3dbfa3722);\n",
       "        \n",
       "    \n",
       "        var popup_1225935cde5fc8995e23ea7da23d24d0 = L.popup({&quot;maxWidth&quot;: &quot;100%&quot;});\n",
       "\n",
       "        \n",
       "            var html_d242c121b29939b940a515989389e91d = $(`&lt;div id=&quot;html_d242c121b29939b940a515989389e91d&quot; style=&quot;width: 100.0%; height: 100.0%;&quot;&gt;&lt;i&gt;Punto de prueba&lt;/i&gt;&lt;/div&gt;`)[0];\n",
       "            popup_1225935cde5fc8995e23ea7da23d24d0.setContent(html_d242c121b29939b940a515989389e91d);\n",
       "        \n",
       "\n",
       "        marker_0a8ed6fccc144aa46b2249d5b9bc17ff.bindPopup(popup_1225935cde5fc8995e23ea7da23d24d0)\n",
       "        ;\n",
       "\n",
       "        \n",
       "    \n",
       "    \n",
       "            marker_0a8ed6fccc144aa46b2249d5b9bc17ff.bindTooltip(\n",
       "                `&lt;div&gt;\n",
       "                     PAILLAO\n",
       "                 &lt;/div&gt;`,\n",
       "                {&quot;sticky&quot;: true}\n",
       "            );\n",
       "        \n",
       "    \n",
       "            var marker_712fb81a3412d7d95a33b8073f915c9b = L.marker(\n",
       "                [-39.7802702288, -73.2412708338],\n",
       "                {}\n",
       "            ).addTo(map_0f4834a2fb8cba779bbf65f3dbfa3722);\n",
       "        \n",
       "    \n",
       "        var popup_521a88eec4271509079413512dc1c928 = L.popup({&quot;maxWidth&quot;: &quot;100%&quot;});\n",
       "\n",
       "        \n",
       "            var html_51182954bec59bad933f213680e8a9c4 = $(`&lt;div id=&quot;html_51182954bec59bad933f213680e8a9c4&quot; style=&quot;width: 100.0%; height: 100.0%;&quot;&gt;&lt;i&gt;Punto de prueba&lt;/i&gt;&lt;/div&gt;`)[0];\n",
       "            popup_521a88eec4271509079413512dc1c928.setContent(html_51182954bec59bad933f213680e8a9c4);\n",
       "        \n",
       "\n",
       "        marker_712fb81a3412d7d95a33b8073f915c9b.bindPopup(popup_521a88eec4271509079413512dc1c928)\n",
       "        ;\n",
       "\n",
       "        \n",
       "    \n",
       "    \n",
       "            marker_712fb81a3412d7d95a33b8073f915c9b.bindTooltip(\n",
       "                `&lt;div&gt;\n",
       "                     CABO BLANCO\n",
       "                 &lt;/div&gt;`,\n",
       "                {&quot;sticky&quot;: true}\n",
       "            );\n",
       "        \n",
       "    \n",
       "            var marker_a7cee10d8fccec22338ec0f2bb6cedc0 = L.marker(\n",
       "                [-39.7737197231, -73.2102553189],\n",
       "                {}\n",
       "            ).addTo(map_0f4834a2fb8cba779bbf65f3dbfa3722);\n",
       "        \n",
       "    \n",
       "        var popup_15d2166bd7eba73eecb05cac4245973e = L.popup({&quot;maxWidth&quot;: &quot;100%&quot;});\n",
       "\n",
       "        \n",
       "            var html_08d451e4344119fed2b99b6751a7f6b9 = $(`&lt;div id=&quot;html_08d451e4344119fed2b99b6751a7f6b9&quot; style=&quot;width: 100.0%; height: 100.0%;&quot;&gt;&lt;i&gt;Punto de prueba&lt;/i&gt;&lt;/div&gt;`)[0];\n",
       "            popup_15d2166bd7eba73eecb05cac4245973e.setContent(html_08d451e4344119fed2b99b6751a7f6b9);\n",
       "        \n",
       "\n",
       "        marker_a7cee10d8fccec22338ec0f2bb6cedc0.bindPopup(popup_15d2166bd7eba73eecb05cac4245973e)\n",
       "        ;\n",
       "\n",
       "        \n",
       "    \n",
       "    \n",
       "            marker_a7cee10d8fccec22338ec0f2bb6cedc0.bindTooltip(\n",
       "                `&lt;div&gt;\n",
       "                     EL ARENAL KM 2\n",
       "                 &lt;/div&gt;`,\n",
       "                {&quot;sticky&quot;: true}\n",
       "            );\n",
       "        \n",
       "    \n",
       "            var marker_f3d6a53fd508ebc790ecb4d28b1da880 = L.marker(\n",
       "                [-39.7772055631, -73.3135380035],\n",
       "                {}\n",
       "            ).addTo(map_0f4834a2fb8cba779bbf65f3dbfa3722);\n",
       "        \n",
       "    \n",
       "        var popup_ca5cd45b1dcf3c922d052e2b6f609322 = L.popup({&quot;maxWidth&quot;: &quot;100%&quot;});\n",
       "\n",
       "        \n",
       "            var html_b5fd740d731b627de6783518e8494708 = $(`&lt;div id=&quot;html_b5fd740d731b627de6783518e8494708&quot; style=&quot;width: 100.0%; height: 100.0%;&quot;&gt;&lt;i&gt;Punto de prueba&lt;/i&gt;&lt;/div&gt;`)[0];\n",
       "            popup_ca5cd45b1dcf3c922d052e2b6f609322.setContent(html_b5fd740d731b627de6783518e8494708);\n",
       "        \n",
       "\n",
       "        marker_f3d6a53fd508ebc790ecb4d28b1da880.bindPopup(popup_ca5cd45b1dcf3c922d052e2b6f609322)\n",
       "        ;\n",
       "\n",
       "        \n",
       "    \n",
       "    \n",
       "            marker_f3d6a53fd508ebc790ecb4d28b1da880.bindTooltip(\n",
       "                `&lt;div&gt;\n",
       "                     Chabelita\n",
       "                 &lt;/div&gt;`,\n",
       "                {&quot;sticky&quot;: true}\n",
       "            );\n",
       "        \n",
       "    \n",
       "            var circle_marker_8346bc5448b3691509375dc574884a73 = L.circleMarker(\n",
       "                [-39.8062305249, -73.0547464487],\n",
       "                {&quot;bubblingMouseEvents&quot;: true, &quot;color&quot;: &quot;#3388ff&quot;, &quot;dashArray&quot;: null, &quot;dashOffset&quot;: null, &quot;fill&quot;: false, &quot;fillColor&quot;: &quot;#3388ff&quot;, &quot;fillOpacity&quot;: 0.2, &quot;fillRule&quot;: &quot;evenodd&quot;, &quot;lineCap&quot;: &quot;round&quot;, &quot;lineJoin&quot;: &quot;round&quot;, &quot;opacity&quot;: 1.0, &quot;radius&quot;: 5, &quot;stroke&quot;: true, &quot;weight&quot;: 3}\n",
       "            ).addTo(map_0f4834a2fb8cba779bbf65f3dbfa3722);\n",
       "        \n",
       "    \n",
       "            var circle_marker_c5965d4f2e77300f08876bfa8921d572 = L.circleMarker(\n",
       "                [-39.7283824204, -73.3948919817],\n",
       "                {&quot;bubblingMouseEvents&quot;: true, &quot;color&quot;: &quot;#3388ff&quot;, &quot;dashArray&quot;: null, &quot;dashOffset&quot;: null, &quot;fill&quot;: false, &quot;fillColor&quot;: &quot;#3388ff&quot;, &quot;fillOpacity&quot;: 0.2, &quot;fillRule&quot;: &quot;evenodd&quot;, &quot;lineCap&quot;: &quot;round&quot;, &quot;lineJoin&quot;: &quot;round&quot;, &quot;opacity&quot;: 1.0, &quot;radius&quot;: 5, &quot;stroke&quot;: true, &quot;weight&quot;: 3}\n",
       "            ).addTo(map_0f4834a2fb8cba779bbf65f3dbfa3722);\n",
       "        \n",
       "    \n",
       "            var circle_marker_a68e1a9e64265cbbf4ec8efe74e06324 = L.circleMarker(\n",
       "                [-39.7930844112, -73.124067117],\n",
       "                {&quot;bubblingMouseEvents&quot;: true, &quot;color&quot;: &quot;#3388ff&quot;, &quot;dashArray&quot;: null, &quot;dashOffset&quot;: null, &quot;fill&quot;: false, &quot;fillColor&quot;: &quot;#3388ff&quot;, &quot;fillOpacity&quot;: 0.2, &quot;fillRule&quot;: &quot;evenodd&quot;, &quot;lineCap&quot;: &quot;round&quot;, &quot;lineJoin&quot;: &quot;round&quot;, &quot;opacity&quot;: 1.0, &quot;radius&quot;: 5, &quot;stroke&quot;: true, &quot;weight&quot;: 3}\n",
       "            ).addTo(map_0f4834a2fb8cba779bbf65f3dbfa3722);\n",
       "        \n",
       "    \n",
       "            var circle_marker_2e6bc53bbaee812c9a971b1cbf115c8e = L.circleMarker(\n",
       "                [-39.8715639883, -73.1852346315],\n",
       "                {&quot;bubblingMouseEvents&quot;: true, &quot;color&quot;: &quot;#3388ff&quot;, &quot;dashArray&quot;: null, &quot;dashOffset&quot;: null, &quot;fill&quot;: false, &quot;fillColor&quot;: &quot;#3388ff&quot;, &quot;fillOpacity&quot;: 0.2, &quot;fillRule&quot;: &quot;evenodd&quot;, &quot;lineCap&quot;: &quot;round&quot;, &quot;lineJoin&quot;: &quot;round&quot;, &quot;opacity&quot;: 1.0, &quot;radius&quot;: 5, &quot;stroke&quot;: true, &quot;weight&quot;: 3}\n",
       "            ).addTo(map_0f4834a2fb8cba779bbf65f3dbfa3722);\n",
       "        \n",
       "    \n",
       "            var circle_marker_adb92c9e4247638d708f62478069fec7 = L.circleMarker(\n",
       "                [-39.8547751549, -73.3907718436],\n",
       "                {&quot;bubblingMouseEvents&quot;: true, &quot;color&quot;: &quot;#3388ff&quot;, &quot;dashArray&quot;: null, &quot;dashOffset&quot;: null, &quot;fill&quot;: false, &quot;fillColor&quot;: &quot;#3388ff&quot;, &quot;fillOpacity&quot;: 0.2, &quot;fillRule&quot;: &quot;evenodd&quot;, &quot;lineCap&quot;: &quot;round&quot;, &quot;lineJoin&quot;: &quot;round&quot;, &quot;opacity&quot;: 1.0, &quot;radius&quot;: 5, &quot;stroke&quot;: true, &quot;weight&quot;: 3}\n",
       "            ).addTo(map_0f4834a2fb8cba779bbf65f3dbfa3722);\n",
       "        \n",
       "    \n",
       "            var circle_marker_c1bf7167b356db104d4524263d49df58 = L.circleMarker(\n",
       "                [-39.7603001637, -73.2705681336],\n",
       "                {&quot;bubblingMouseEvents&quot;: true, &quot;color&quot;: &quot;#3388ff&quot;, &quot;dashArray&quot;: null, &quot;dashOffset&quot;: null, &quot;fill&quot;: false, &quot;fillColor&quot;: &quot;#3388ff&quot;, &quot;fillOpacity&quot;: 0.2, &quot;fillRule&quot;: &quot;evenodd&quot;, &quot;lineCap&quot;: &quot;round&quot;, &quot;lineJoin&quot;: &quot;round&quot;, &quot;opacity&quot;: 1.0, &quot;radius&quot;: 5, &quot;stroke&quot;: true, &quot;weight&quot;: 3}\n",
       "            ).addTo(map_0f4834a2fb8cba779bbf65f3dbfa3722);\n",
       "        \n",
       "    \n",
       "            var circle_marker_76216351e4eb6b24eec2769de714bba9 = L.circleMarker(\n",
       "                [-39.831480037, -73.4025892212],\n",
       "                {&quot;bubblingMouseEvents&quot;: true, &quot;color&quot;: &quot;#3388ff&quot;, &quot;dashArray&quot;: null, &quot;dashOffset&quot;: null, &quot;fill&quot;: false, &quot;fillColor&quot;: &quot;#3388ff&quot;, &quot;fillOpacity&quot;: 0.2, &quot;fillRule&quot;: &quot;evenodd&quot;, &quot;lineCap&quot;: &quot;round&quot;, &quot;lineJoin&quot;: &quot;round&quot;, &quot;opacity&quot;: 1.0, &quot;radius&quot;: 5, &quot;stroke&quot;: true, &quot;weight&quot;: 3}\n",
       "            ).addTo(map_0f4834a2fb8cba779bbf65f3dbfa3722);\n",
       "        \n",
       "    \n",
       "            var circle_marker_d8c329c4793a9149c3b849eb61faea5e = L.circleMarker(\n",
       "                [-39.8649364171, -73.3728400295],\n",
       "                {&quot;bubblingMouseEvents&quot;: true, &quot;color&quot;: &quot;#3388ff&quot;, &quot;dashArray&quot;: null, &quot;dashOffset&quot;: null, &quot;fill&quot;: false, &quot;fillColor&quot;: &quot;#3388ff&quot;, &quot;fillOpacity&quot;: 0.2, &quot;fillRule&quot;: &quot;evenodd&quot;, &quot;lineCap&quot;: &quot;round&quot;, &quot;lineJoin&quot;: &quot;round&quot;, &quot;opacity&quot;: 1.0, &quot;radius&quot;: 5, &quot;stroke&quot;: true, &quot;weight&quot;: 3}\n",
       "            ).addTo(map_0f4834a2fb8cba779bbf65f3dbfa3722);\n",
       "        \n",
       "    \n",
       "            var circle_marker_a02278769d0d30e821b41ba3bc6dd8aa = L.circleMarker(\n",
       "                [-39.7314121294, -73.1091043702],\n",
       "                {&quot;bubblingMouseEvents&quot;: true, &quot;color&quot;: &quot;#3388ff&quot;, &quot;dashArray&quot;: null, &quot;dashOffset&quot;: null, &quot;fill&quot;: false, &quot;fillColor&quot;: &quot;#3388ff&quot;, &quot;fillOpacity&quot;: 0.2, &quot;fillRule&quot;: &quot;evenodd&quot;, &quot;lineCap&quot;: &quot;round&quot;, &quot;lineJoin&quot;: &quot;round&quot;, &quot;opacity&quot;: 1.0, &quot;radius&quot;: 5, &quot;stroke&quot;: true, &quot;weight&quot;: 3}\n",
       "            ).addTo(map_0f4834a2fb8cba779bbf65f3dbfa3722);\n",
       "        \n",
       "    \n",
       "            var circle_marker_590ac5697db0bcf2ba13b513b4943b9d = L.circleMarker(\n",
       "                [-39.772903642, -73.1970058325],\n",
       "                {&quot;bubblingMouseEvents&quot;: true, &quot;color&quot;: &quot;#3388ff&quot;, &quot;dashArray&quot;: null, &quot;dashOffset&quot;: null, &quot;fill&quot;: false, &quot;fillColor&quot;: &quot;#3388ff&quot;, &quot;fillOpacity&quot;: 0.2, &quot;fillRule&quot;: &quot;evenodd&quot;, &quot;lineCap&quot;: &quot;round&quot;, &quot;lineJoin&quot;: &quot;round&quot;, &quot;opacity&quot;: 1.0, &quot;radius&quot;: 5, &quot;stroke&quot;: true, &quot;weight&quot;: 3}\n",
       "            ).addTo(map_0f4834a2fb8cba779bbf65f3dbfa3722);\n",
       "        \n",
       "    \n",
       "            var circle_marker_c48803b5ca070a7ff4bc09ef9893a57a = L.circleMarker(\n",
       "                [-39.8673123199, -73.2088638403],\n",
       "                {&quot;bubblingMouseEvents&quot;: true, &quot;color&quot;: &quot;#3388ff&quot;, &quot;dashArray&quot;: null, &quot;dashOffset&quot;: null, &quot;fill&quot;: false, &quot;fillColor&quot;: &quot;#3388ff&quot;, &quot;fillOpacity&quot;: 0.2, &quot;fillRule&quot;: &quot;evenodd&quot;, &quot;lineCap&quot;: &quot;round&quot;, &quot;lineJoin&quot;: &quot;round&quot;, &quot;opacity&quot;: 1.0, &quot;radius&quot;: 5, &quot;stroke&quot;: true, &quot;weight&quot;: 3}\n",
       "            ).addTo(map_0f4834a2fb8cba779bbf65f3dbfa3722);\n",
       "        \n",
       "    \n",
       "            var circle_marker_61d2e157965dffc5606b2e5b5bfaab09 = L.circleMarker(\n",
       "                [-39.7802702288, -73.2412708338],\n",
       "                {&quot;bubblingMouseEvents&quot;: true, &quot;color&quot;: &quot;#3388ff&quot;, &quot;dashArray&quot;: null, &quot;dashOffset&quot;: null, &quot;fill&quot;: false, &quot;fillColor&quot;: &quot;#3388ff&quot;, &quot;fillOpacity&quot;: 0.2, &quot;fillRule&quot;: &quot;evenodd&quot;, &quot;lineCap&quot;: &quot;round&quot;, &quot;lineJoin&quot;: &quot;round&quot;, &quot;opacity&quot;: 1.0, &quot;radius&quot;: 5, &quot;stroke&quot;: true, &quot;weight&quot;: 3}\n",
       "            ).addTo(map_0f4834a2fb8cba779bbf65f3dbfa3722);\n",
       "        \n",
       "    \n",
       "            var circle_marker_b55003a6c89a29a5e1b9190a6c80a183 = L.circleMarker(\n",
       "                [-39.7737197231, -73.2102553189],\n",
       "                {&quot;bubblingMouseEvents&quot;: true, &quot;color&quot;: &quot;#3388ff&quot;, &quot;dashArray&quot;: null, &quot;dashOffset&quot;: null, &quot;fill&quot;: false, &quot;fillColor&quot;: &quot;#3388ff&quot;, &quot;fillOpacity&quot;: 0.2, &quot;fillRule&quot;: &quot;evenodd&quot;, &quot;lineCap&quot;: &quot;round&quot;, &quot;lineJoin&quot;: &quot;round&quot;, &quot;opacity&quot;: 1.0, &quot;radius&quot;: 5, &quot;stroke&quot;: true, &quot;weight&quot;: 3}\n",
       "            ).addTo(map_0f4834a2fb8cba779bbf65f3dbfa3722);\n",
       "        \n",
       "    \n",
       "            var circle_marker_d04211206f842571627cb54c174ea7ae = L.circleMarker(\n",
       "                [-39.7772055631, -73.3135380035],\n",
       "                {&quot;bubblingMouseEvents&quot;: true, &quot;color&quot;: &quot;#3388ff&quot;, &quot;dashArray&quot;: null, &quot;dashOffset&quot;: null, &quot;fill&quot;: false, &quot;fillColor&quot;: &quot;#3388ff&quot;, &quot;fillOpacity&quot;: 0.2, &quot;fillRule&quot;: &quot;evenodd&quot;, &quot;lineCap&quot;: &quot;round&quot;, &quot;lineJoin&quot;: &quot;round&quot;, &quot;opacity&quot;: 1.0, &quot;radius&quot;: 5, &quot;stroke&quot;: true, &quot;weight&quot;: 3}\n",
       "            ).addTo(map_0f4834a2fb8cba779bbf65f3dbfa3722);\n",
       "        \n",
       "    \n",
       "            var tile_layer_4da18456203af7a93a30f06b788f1f70 = L.tileLayer(\n",
       "                &quot;https://{s}.tile.openstreetmap.org/{z}/{x}/{y}.png&quot;,\n",
       "                {&quot;attribution&quot;: &quot;Data by \\u0026copy; \\u003ca href=\\&quot;http://openstreetmap.org\\&quot;\\u003eOpenStreetMap\\u003c/a\\u003e, under \\u003ca href=\\&quot;http://www.openstreetmap.org/copyright\\&quot;\\u003eODbL\\u003c/a\\u003e.&quot;, &quot;detectRetina&quot;: false, &quot;maxNativeZoom&quot;: 18, &quot;maxZoom&quot;: 18, &quot;minZoom&quot;: 0, &quot;noWrap&quot;: false, &quot;opacity&quot;: 1, &quot;subdomains&quot;: &quot;abc&quot;, &quot;tms&quot;: false}\n",
       "            );\n",
       "            var mini_map_a8c7b24327207bd9a5753c971934c2f2 = new L.Control.MiniMap(\n",
       "                tile_layer_4da18456203af7a93a30f06b788f1f70,\n",
       "                {&quot;autoToggleDisplay&quot;: false, &quot;centerFixed&quot;: false, &quot;collapsedHeight&quot;: 25, &quot;collapsedWidth&quot;: 25, &quot;height&quot;: 150, &quot;minimized&quot;: false, &quot;position&quot;: &quot;bottomright&quot;, &quot;toggleDisplay&quot;: false, &quot;width&quot;: 150, &quot;zoomAnimation&quot;: false, &quot;zoomLevelOffset&quot;: -5}\n",
       "            );\n",
       "            map_0f4834a2fb8cba779bbf65f3dbfa3722.addControl(mini_map_a8c7b24327207bd9a5753c971934c2f2);\n",
       "        \n",
       "&lt;/script&gt;\" style=\"position:absolute;width:100%;height:100%;left:0;top:0;border:none !important;\" allowfullscreen webkitallowfullscreen mozallowfullscreen></iframe></div></div>"
      ],
      "text/plain": [
       "<folium.folium.Map at 0x16d03b63ac0>"
      ]
     },
     "execution_count": 2,
     "metadata": {},
     "output_type": "execute_result"
    }
   ],
   "source": [
    "# Primero creamos el mapa con la libreria folium y la funcion Map,tiles es el proveedor del mapa.\n",
    "#El mapa esta centrado en valdivia\n",
    "map = folium.Map(location = [-39.81422,-73.24589], tiles = \"OpenStreetMap\", zoom_start = 11)\n",
    "\n",
    "#Aca estoy cargando el set de datos que subi a la carpeta.\n",
    "df = pd.read_excel('base_ssr.xlsx', sheet_name='Sistemas_APR',usecols=\"B:U\",skiprows=2)\n",
    "df\n",
    "\n",
    "df_lat=df.iloc[1963:1977,19] \n",
    "df_long=df.iloc[1963:1977,18]\n",
    "\n",
    "df_nombres=df.iloc[1963:1977,12]\n",
    "df_nombres\n",
    "\n",
    "nombres = list(df_nombres)\n",
    "nombres\n",
    "\n",
    "locations = list(zip(df_lat, df_long))\n",
    "locations\n",
    "\n",
    "\n",
    "#Aca agregamos un marcador con la ubicación de valdivia\n",
    "for i in range(len(locations)):\n",
    "    nombre=nombres[i]\n",
    "    folium.Marker(location=locations[i],popup=\"<i>Punto de prueba</i>\",tooltip=nombre).add_to(map)\n",
    "\n",
    "\n",
    "for i in range(len(locations)):\n",
    "    folium.CircleMarker(location=locations[i],radius=5).add_to(map)\n",
    "map\n",
    "\n",
    "# Aca estoy agregando un minimap en la esquina,para esto hay que cargar la funcion plugins desde la libreria folium\n",
    "from folium import plugins\n",
    "minimap = plugins.MiniMap()\n",
    "map.add_child(minimap)\n",
    "map\n"
   ]
  },
  {
   "cell_type": "code",
   "execution_count": 3,
   "id": "465c4638",
   "metadata": {},
   "outputs": [],
   "source": [
    "# Aca estoy cargando el archivo excel completo,para eso primero cargo la libreria pandas\n",
    "#si no la tienes --> py -m pip install pandas, despues te podria lanzar algun error entonces tambien instala py -m pip install openpyxl\n",
    "import pandas as pd\n",
    "\n",
    "#Aca estoy cargando el set de datos que subi a la carpeta.\n",
    "#df = pd.read_excel('base_ssr.xlsx', sheet_name='Sistemas_APR',usecols=\"B:U\",skiprows=2)\n",
    "#df\n",
    "\n",
    "#df_lat=df.iloc[1964:1977,19] \n",
    "#df_long=df.iloc[1964:1977,18]\n",
    "\n",
    "#locations = list(zip(df_lat, df_long))\n",
    "#locations"
   ]
  },
  {
   "cell_type": "code",
   "execution_count": 4,
   "id": "bbe3ce59",
   "metadata": {},
   "outputs": [
    {
     "data": {
      "text/html": [
       "<div style=\"width:100%;\"><div style=\"position:relative;width:100%;height:0;padding-bottom:60%;\"><span style=\"color:#565656\">Make this Notebook Trusted to load map: File -> Trust Notebook</span><iframe srcdoc=\"&lt;!DOCTYPE html&gt;\n",
       "&lt;head&gt;    \n",
       "    &lt;meta http-equiv=&quot;content-type&quot; content=&quot;text/html; charset=UTF-8&quot; /&gt;\n",
       "    \n",
       "        &lt;script&gt;\n",
       "            L_NO_TOUCH = false;\n",
       "            L_DISABLE_3D = false;\n",
       "        &lt;/script&gt;\n",
       "    \n",
       "    &lt;style&gt;html, body {width: 100%;height: 100%;margin: 0;padding: 0;}&lt;/style&gt;\n",
       "    &lt;style&gt;#map {position:absolute;top:0;bottom:0;right:0;left:0;}&lt;/style&gt;\n",
       "    &lt;script src=&quot;https://cdn.jsdelivr.net/npm/leaflet@1.6.0/dist/leaflet.js&quot;&gt;&lt;/script&gt;\n",
       "    &lt;script src=&quot;https://code.jquery.com/jquery-1.12.4.min.js&quot;&gt;&lt;/script&gt;\n",
       "    &lt;script src=&quot;https://maxcdn.bootstrapcdn.com/bootstrap/3.2.0/js/bootstrap.min.js&quot;&gt;&lt;/script&gt;\n",
       "    &lt;script src=&quot;https://cdnjs.cloudflare.com/ajax/libs/Leaflet.awesome-markers/2.0.2/leaflet.awesome-markers.js&quot;&gt;&lt;/script&gt;\n",
       "    &lt;link rel=&quot;stylesheet&quot; href=&quot;https://cdn.jsdelivr.net/npm/leaflet@1.6.0/dist/leaflet.css&quot;/&gt;\n",
       "    &lt;link rel=&quot;stylesheet&quot; href=&quot;https://maxcdn.bootstrapcdn.com/bootstrap/3.2.0/css/bootstrap.min.css&quot;/&gt;\n",
       "    &lt;link rel=&quot;stylesheet&quot; href=&quot;https://maxcdn.bootstrapcdn.com/bootstrap/3.2.0/css/bootstrap-theme.min.css&quot;/&gt;\n",
       "    &lt;link rel=&quot;stylesheet&quot; href=&quot;https://maxcdn.bootstrapcdn.com/font-awesome/4.6.3/css/font-awesome.min.css&quot;/&gt;\n",
       "    &lt;link rel=&quot;stylesheet&quot; href=&quot;https://cdnjs.cloudflare.com/ajax/libs/Leaflet.awesome-markers/2.0.2/leaflet.awesome-markers.css&quot;/&gt;\n",
       "    &lt;link rel=&quot;stylesheet&quot; href=&quot;https://cdn.jsdelivr.net/gh/python-visualization/folium/folium/templates/leaflet.awesome.rotate.min.css&quot;/&gt;\n",
       "    \n",
       "            &lt;meta name=&quot;viewport&quot; content=&quot;width=device-width,\n",
       "                initial-scale=1.0, maximum-scale=1.0, user-scalable=no&quot; /&gt;\n",
       "            &lt;style&gt;\n",
       "                #map_1135ecca2f9cf0897e2eddf2d0797112 {\n",
       "                    position: relative;\n",
       "                    width: 100.0%;\n",
       "                    height: 100.0%;\n",
       "                    left: 0.0%;\n",
       "                    top: 0.0%;\n",
       "                }\n",
       "            &lt;/style&gt;\n",
       "        \n",
       "&lt;/head&gt;\n",
       "&lt;body&gt;    \n",
       "    \n",
       "            &lt;div class=&quot;folium-map&quot; id=&quot;map_1135ecca2f9cf0897e2eddf2d0797112&quot; &gt;&lt;/div&gt;\n",
       "        \n",
       "&lt;/body&gt;\n",
       "&lt;script&gt;    \n",
       "    \n",
       "            var map_1135ecca2f9cf0897e2eddf2d0797112 = L.map(\n",
       "                &quot;map_1135ecca2f9cf0897e2eddf2d0797112&quot;,\n",
       "                {\n",
       "                    center: [-39.81422, -73.24589],\n",
       "                    crs: L.CRS.EPSG3857,\n",
       "                    zoom: 11,\n",
       "                    zoomControl: true,\n",
       "                    preferCanvas: false,\n",
       "                }\n",
       "            );\n",
       "\n",
       "            \n",
       "\n",
       "        \n",
       "    \n",
       "            var tile_layer_fa222edd6b670b617a1ad1363a2f3b27 = L.tileLayer(\n",
       "                &quot;https://{s}.tile.openstreetmap.org/{z}/{x}/{y}.png&quot;,\n",
       "                {&quot;attribution&quot;: &quot;Data by \\u0026copy; \\u003ca href=\\&quot;http://openstreetmap.org\\&quot;\\u003eOpenStreetMap\\u003c/a\\u003e, under \\u003ca href=\\&quot;http://www.openstreetmap.org/copyright\\&quot;\\u003eODbL\\u003c/a\\u003e.&quot;, &quot;detectRetina&quot;: false, &quot;maxNativeZoom&quot;: 18, &quot;maxZoom&quot;: 18, &quot;minZoom&quot;: 0, &quot;noWrap&quot;: false, &quot;opacity&quot;: 1, &quot;subdomains&quot;: &quot;abc&quot;, &quot;tms&quot;: false}\n",
       "            ).addTo(map_1135ecca2f9cf0897e2eddf2d0797112);\n",
       "        \n",
       "    \n",
       "            var circle_a038a0e753058194d346fd4d69b6dcdc = L.circle(\n",
       "                [-39.8062305249, -73.0547464487],\n",
       "                {&quot;bubblingMouseEvents&quot;: true, &quot;color&quot;: &quot;#ffff00ff&quot;, &quot;dashArray&quot;: null, &quot;dashOffset&quot;: null, &quot;fill&quot;: false, &quot;fillColor&quot;: &quot;#ffff00ff&quot;, &quot;fillOpacity&quot;: 0.2, &quot;fillRule&quot;: &quot;evenodd&quot;, &quot;lineCap&quot;: &quot;round&quot;, &quot;lineJoin&quot;: &quot;round&quot;, &quot;opacity&quot;: 1.0, &quot;radius&quot;: 100, &quot;stroke&quot;: true, &quot;weight&quot;: 3}\n",
       "            ).addTo(map_1135ecca2f9cf0897e2eddf2d0797112);\n",
       "        \n",
       "    \n",
       "            var circle_4dcf4d8d876d0a984008702cce0b31f4 = L.circle(\n",
       "                [-39.7283824204, -73.3948919817],\n",
       "                {&quot;bubblingMouseEvents&quot;: true, &quot;color&quot;: &quot;#ff0000ff&quot;, &quot;dashArray&quot;: null, &quot;dashOffset&quot;: null, &quot;fill&quot;: false, &quot;fillColor&quot;: &quot;#ff0000ff&quot;, &quot;fillOpacity&quot;: 0.2, &quot;fillRule&quot;: &quot;evenodd&quot;, &quot;lineCap&quot;: &quot;round&quot;, &quot;lineJoin&quot;: &quot;round&quot;, &quot;opacity&quot;: 1.0, &quot;radius&quot;: 100, &quot;stroke&quot;: true, &quot;weight&quot;: 3}\n",
       "            ).addTo(map_1135ecca2f9cf0897e2eddf2d0797112);\n",
       "        \n",
       "    \n",
       "            var circle_56242f29a21019c7bde91206792bbac5 = L.circle(\n",
       "                [-39.7930844112, -73.124067117],\n",
       "                {&quot;bubblingMouseEvents&quot;: true, &quot;color&quot;: &quot;#ffff00ff&quot;, &quot;dashArray&quot;: null, &quot;dashOffset&quot;: null, &quot;fill&quot;: false, &quot;fillColor&quot;: &quot;#ffff00ff&quot;, &quot;fillOpacity&quot;: 0.2, &quot;fillRule&quot;: &quot;evenodd&quot;, &quot;lineCap&quot;: &quot;round&quot;, &quot;lineJoin&quot;: &quot;round&quot;, &quot;opacity&quot;: 1.0, &quot;radius&quot;: 100, &quot;stroke&quot;: true, &quot;weight&quot;: 3}\n",
       "            ).addTo(map_1135ecca2f9cf0897e2eddf2d0797112);\n",
       "        \n",
       "    \n",
       "            var circle_c48f35f3184bc8e42d741b9a58cd89a1 = L.circle(\n",
       "                [-39.8715639883, -73.1852346315],\n",
       "                {&quot;bubblingMouseEvents&quot;: true, &quot;color&quot;: &quot;#ff0000ff&quot;, &quot;dashArray&quot;: null, &quot;dashOffset&quot;: null, &quot;fill&quot;: false, &quot;fillColor&quot;: &quot;#ff0000ff&quot;, &quot;fillOpacity&quot;: 0.2, &quot;fillRule&quot;: &quot;evenodd&quot;, &quot;lineCap&quot;: &quot;round&quot;, &quot;lineJoin&quot;: &quot;round&quot;, &quot;opacity&quot;: 1.0, &quot;radius&quot;: 100, &quot;stroke&quot;: true, &quot;weight&quot;: 3}\n",
       "            ).addTo(map_1135ecca2f9cf0897e2eddf2d0797112);\n",
       "        \n",
       "    \n",
       "            var circle_977c4a3db0c787fabf8414b5eea23066 = L.circle(\n",
       "                [-39.8547751549, -73.3907718436],\n",
       "                {&quot;bubblingMouseEvents&quot;: true, &quot;color&quot;: &quot;#800080ff&quot;, &quot;dashArray&quot;: null, &quot;dashOffset&quot;: null, &quot;fill&quot;: false, &quot;fillColor&quot;: &quot;#800080ff&quot;, &quot;fillOpacity&quot;: 0.2, &quot;fillRule&quot;: &quot;evenodd&quot;, &quot;lineCap&quot;: &quot;round&quot;, &quot;lineJoin&quot;: &quot;round&quot;, &quot;opacity&quot;: 1.0, &quot;radius&quot;: 100, &quot;stroke&quot;: true, &quot;weight&quot;: 3}\n",
       "            ).addTo(map_1135ecca2f9cf0897e2eddf2d0797112);\n",
       "        \n",
       "    \n",
       "            var circle_6e3737b78efb78b83030a7ae0f8f7c9b = L.circle(\n",
       "                [-39.7603001637, -73.2705681336],\n",
       "                {&quot;bubblingMouseEvents&quot;: true, &quot;color&quot;: &quot;#ffff00ff&quot;, &quot;dashArray&quot;: null, &quot;dashOffset&quot;: null, &quot;fill&quot;: false, &quot;fillColor&quot;: &quot;#ffff00ff&quot;, &quot;fillOpacity&quot;: 0.2, &quot;fillRule&quot;: &quot;evenodd&quot;, &quot;lineCap&quot;: &quot;round&quot;, &quot;lineJoin&quot;: &quot;round&quot;, &quot;opacity&quot;: 1.0, &quot;radius&quot;: 100, &quot;stroke&quot;: true, &quot;weight&quot;: 3}\n",
       "            ).addTo(map_1135ecca2f9cf0897e2eddf2d0797112);\n",
       "        \n",
       "    \n",
       "            var circle_dc3c226f9e759ddb14d4375d05e101b3 = L.circle(\n",
       "                [-39.831480037, -73.4025892212],\n",
       "                {&quot;bubblingMouseEvents&quot;: true, &quot;color&quot;: &quot;#ffa500ff&quot;, &quot;dashArray&quot;: null, &quot;dashOffset&quot;: null, &quot;fill&quot;: false, &quot;fillColor&quot;: &quot;#ffa500ff&quot;, &quot;fillOpacity&quot;: 0.2, &quot;fillRule&quot;: &quot;evenodd&quot;, &quot;lineCap&quot;: &quot;round&quot;, &quot;lineJoin&quot;: &quot;round&quot;, &quot;opacity&quot;: 1.0, &quot;radius&quot;: 100, &quot;stroke&quot;: true, &quot;weight&quot;: 3}\n",
       "            ).addTo(map_1135ecca2f9cf0897e2eddf2d0797112);\n",
       "        \n",
       "    \n",
       "            var circle_3b92658bf669b7b997ef043761d3a4df = L.circle(\n",
       "                [-39.8649364171, -73.3728400295],\n",
       "                {&quot;bubblingMouseEvents&quot;: true, &quot;color&quot;: &quot;#ff0000ff&quot;, &quot;dashArray&quot;: null, &quot;dashOffset&quot;: null, &quot;fill&quot;: false, &quot;fillColor&quot;: &quot;#ff0000ff&quot;, &quot;fillOpacity&quot;: 0.2, &quot;fillRule&quot;: &quot;evenodd&quot;, &quot;lineCap&quot;: &quot;round&quot;, &quot;lineJoin&quot;: &quot;round&quot;, &quot;opacity&quot;: 1.0, &quot;radius&quot;: 100, &quot;stroke&quot;: true, &quot;weight&quot;: 3}\n",
       "            ).addTo(map_1135ecca2f9cf0897e2eddf2d0797112);\n",
       "        \n",
       "    \n",
       "            var circle_d7632722f8e1db91a21aed755825c6d3 = L.circle(\n",
       "                [-39.7314121294, -73.1091043702],\n",
       "                {&quot;bubblingMouseEvents&quot;: true, &quot;color&quot;: &quot;#ff0000ff&quot;, &quot;dashArray&quot;: null, &quot;dashOffset&quot;: null, &quot;fill&quot;: false, &quot;fillColor&quot;: &quot;#ff0000ff&quot;, &quot;fillOpacity&quot;: 0.2, &quot;fillRule&quot;: &quot;evenodd&quot;, &quot;lineCap&quot;: &quot;round&quot;, &quot;lineJoin&quot;: &quot;round&quot;, &quot;opacity&quot;: 1.0, &quot;radius&quot;: 100, &quot;stroke&quot;: true, &quot;weight&quot;: 3}\n",
       "            ).addTo(map_1135ecca2f9cf0897e2eddf2d0797112);\n",
       "        \n",
       "    \n",
       "            var circle_2ab96fb731b9304bae968089c4605e8f = L.circle(\n",
       "                [-39.772903642, -73.1970058325],\n",
       "                {&quot;bubblingMouseEvents&quot;: true, &quot;color&quot;: &quot;#ffa500ff&quot;, &quot;dashArray&quot;: null, &quot;dashOffset&quot;: null, &quot;fill&quot;: false, &quot;fillColor&quot;: &quot;#ffa500ff&quot;, &quot;fillOpacity&quot;: 0.2, &quot;fillRule&quot;: &quot;evenodd&quot;, &quot;lineCap&quot;: &quot;round&quot;, &quot;lineJoin&quot;: &quot;round&quot;, &quot;opacity&quot;: 1.0, &quot;radius&quot;: 100, &quot;stroke&quot;: true, &quot;weight&quot;: 3}\n",
       "            ).addTo(map_1135ecca2f9cf0897e2eddf2d0797112);\n",
       "        \n",
       "    \n",
       "            var circle_4d251c54fc270642d3fafd5a5554ee1a = L.circle(\n",
       "                [-39.8673123199, -73.2088638403],\n",
       "                {&quot;bubblingMouseEvents&quot;: true, &quot;color&quot;: &quot;#ffa500ff&quot;, &quot;dashArray&quot;: null, &quot;dashOffset&quot;: null, &quot;fill&quot;: false, &quot;fillColor&quot;: &quot;#ffa500ff&quot;, &quot;fillOpacity&quot;: 0.2, &quot;fillRule&quot;: &quot;evenodd&quot;, &quot;lineCap&quot;: &quot;round&quot;, &quot;lineJoin&quot;: &quot;round&quot;, &quot;opacity&quot;: 1.0, &quot;radius&quot;: 100, &quot;stroke&quot;: true, &quot;weight&quot;: 3}\n",
       "            ).addTo(map_1135ecca2f9cf0897e2eddf2d0797112);\n",
       "        \n",
       "    \n",
       "            var circle_2469530d824a2d9dca189fc281bcd77b = L.circle(\n",
       "                [-39.7802702288, -73.2412708338],\n",
       "                {&quot;bubblingMouseEvents&quot;: true, &quot;color&quot;: &quot;#ffff00ff&quot;, &quot;dashArray&quot;: null, &quot;dashOffset&quot;: null, &quot;fill&quot;: false, &quot;fillColor&quot;: &quot;#ffff00ff&quot;, &quot;fillOpacity&quot;: 0.2, &quot;fillRule&quot;: &quot;evenodd&quot;, &quot;lineCap&quot;: &quot;round&quot;, &quot;lineJoin&quot;: &quot;round&quot;, &quot;opacity&quot;: 1.0, &quot;radius&quot;: 100, &quot;stroke&quot;: true, &quot;weight&quot;: 3}\n",
       "            ).addTo(map_1135ecca2f9cf0897e2eddf2d0797112);\n",
       "        \n",
       "    \n",
       "            var circle_98429b5a1770392a549ca67e691ad692 = L.circle(\n",
       "                [-39.7737197231, -73.2102553189],\n",
       "                {&quot;bubblingMouseEvents&quot;: true, &quot;color&quot;: &quot;#ffa500ff&quot;, &quot;dashArray&quot;: null, &quot;dashOffset&quot;: null, &quot;fill&quot;: false, &quot;fillColor&quot;: &quot;#ffa500ff&quot;, &quot;fillOpacity&quot;: 0.2, &quot;fillRule&quot;: &quot;evenodd&quot;, &quot;lineCap&quot;: &quot;round&quot;, &quot;lineJoin&quot;: &quot;round&quot;, &quot;opacity&quot;: 1.0, &quot;radius&quot;: 100, &quot;stroke&quot;: true, &quot;weight&quot;: 3}\n",
       "            ).addTo(map_1135ecca2f9cf0897e2eddf2d0797112);\n",
       "        \n",
       "    \n",
       "            var circle_7d59b90a3cbf25a1c686d3f1d1e5da6b = L.circle(\n",
       "                [-39.7772055631, -73.3135380035],\n",
       "                {&quot;bubblingMouseEvents&quot;: true, &quot;color&quot;: &quot;#ffff00ff&quot;, &quot;dashArray&quot;: null, &quot;dashOffset&quot;: null, &quot;fill&quot;: false, &quot;fillColor&quot;: &quot;#ffff00ff&quot;, &quot;fillOpacity&quot;: 0.2, &quot;fillRule&quot;: &quot;evenodd&quot;, &quot;lineCap&quot;: &quot;round&quot;, &quot;lineJoin&quot;: &quot;round&quot;, &quot;opacity&quot;: 1.0, &quot;radius&quot;: 100, &quot;stroke&quot;: true, &quot;weight&quot;: 3}\n",
       "            ).addTo(map_1135ecca2f9cf0897e2eddf2d0797112);\n",
       "        \n",
       "&lt;/script&gt;\" style=\"position:absolute;width:100%;height:100%;left:0;top:0;border:none !important;\" allowfullscreen webkitallowfullscreen mozallowfullscreen></iframe></div></div>"
      ],
      "text/plain": [
       "<folium.folium.Map at 0x16d0371a0e0>"
      ]
     },
     "execution_count": 4,
     "metadata": {},
     "output_type": "execute_result"
    }
   ],
   "source": [
    "from folium import plugins\n",
    "map = folium.Map(location = [-39.81422,-73.24589], tiles = \"OpenStreetMap\", zoom_start = 11)\n",
    "\n",
    "df_beneficio=df.iloc[1963:1977,9]\n",
    "beneficio = list(df_beneficio)\n",
    "\n",
    "colormap = folium.StepColormap(colors=['green','yellow','orange','red','purple'] ,\n",
    "                           index=[121,298,546,964,2294,4021],\n",
    "                           vmin= 121,\n",
    "                           vmax=4021)\n",
    "map = folium.Map(location = [-39.81422,-73.24589], tiles = \"OpenStreetMap\", zoom_start = 11)\n",
    "for i in range(len(locations)):\n",
    "    folium.Circle(location=locations[i],radius=100,color=colormap(beneficio[i]),).add_to(map)\n",
    "    nombre=nombres[i]\n",
    "map"
   ]
  },
  {
   "cell_type": "code",
   "execution_count": 26,
   "id": "d60bc52a-355f-4c00-af60-676c09bdc064",
   "metadata": {},
   "outputs": [
    {
     "data": {
      "text/html": [
       "<div style=\"width:100%;\"><div style=\"position:relative;width:100%;height:0;padding-bottom:60%;\"><span style=\"color:#565656\">Make this Notebook Trusted to load map: File -> Trust Notebook</span><iframe srcdoc=\"&lt;!DOCTYPE html&gt;\n",
       "&lt;head&gt;    \n",
       "    &lt;meta http-equiv=&quot;content-type&quot; content=&quot;text/html; charset=UTF-8&quot; /&gt;\n",
       "    \n",
       "        &lt;script&gt;\n",
       "            L_NO_TOUCH = false;\n",
       "            L_DISABLE_3D = false;\n",
       "        &lt;/script&gt;\n",
       "    \n",
       "    &lt;style&gt;html, body {width: 100%;height: 100%;margin: 0;padding: 0;}&lt;/style&gt;\n",
       "    &lt;style&gt;#map {position:absolute;top:0;bottom:0;right:0;left:0;}&lt;/style&gt;\n",
       "    &lt;script src=&quot;https://cdn.jsdelivr.net/npm/leaflet@1.6.0/dist/leaflet.js&quot;&gt;&lt;/script&gt;\n",
       "    &lt;script src=&quot;https://code.jquery.com/jquery-1.12.4.min.js&quot;&gt;&lt;/script&gt;\n",
       "    &lt;script src=&quot;https://maxcdn.bootstrapcdn.com/bootstrap/3.2.0/js/bootstrap.min.js&quot;&gt;&lt;/script&gt;\n",
       "    &lt;script src=&quot;https://cdnjs.cloudflare.com/ajax/libs/Leaflet.awesome-markers/2.0.2/leaflet.awesome-markers.js&quot;&gt;&lt;/script&gt;\n",
       "    &lt;link rel=&quot;stylesheet&quot; href=&quot;https://cdn.jsdelivr.net/npm/leaflet@1.6.0/dist/leaflet.css&quot;/&gt;\n",
       "    &lt;link rel=&quot;stylesheet&quot; href=&quot;https://maxcdn.bootstrapcdn.com/bootstrap/3.2.0/css/bootstrap.min.css&quot;/&gt;\n",
       "    &lt;link rel=&quot;stylesheet&quot; href=&quot;https://maxcdn.bootstrapcdn.com/bootstrap/3.2.0/css/bootstrap-theme.min.css&quot;/&gt;\n",
       "    &lt;link rel=&quot;stylesheet&quot; href=&quot;https://maxcdn.bootstrapcdn.com/font-awesome/4.6.3/css/font-awesome.min.css&quot;/&gt;\n",
       "    &lt;link rel=&quot;stylesheet&quot; href=&quot;https://cdnjs.cloudflare.com/ajax/libs/Leaflet.awesome-markers/2.0.2/leaflet.awesome-markers.css&quot;/&gt;\n",
       "    &lt;link rel=&quot;stylesheet&quot; href=&quot;https://cdn.jsdelivr.net/gh/python-visualization/folium/folium/templates/leaflet.awesome.rotate.min.css&quot;/&gt;\n",
       "    \n",
       "            &lt;meta name=&quot;viewport&quot; content=&quot;width=device-width,\n",
       "                initial-scale=1.0, maximum-scale=1.0, user-scalable=no&quot; /&gt;\n",
       "            &lt;style&gt;\n",
       "                #map_53cea40d0d01d989cbf037351fb2ac4d {\n",
       "                    position: relative;\n",
       "                    width: 100.0%;\n",
       "                    height: 100.0%;\n",
       "                    left: 0.0%;\n",
       "                    top: 0.0%;\n",
       "                }\n",
       "            &lt;/style&gt;\n",
       "        \n",
       "&lt;/head&gt;\n",
       "&lt;body&gt;    \n",
       "    \n",
       "            &lt;div class=&quot;folium-map&quot; id=&quot;map_53cea40d0d01d989cbf037351fb2ac4d&quot; &gt;&lt;/div&gt;\n",
       "        \n",
       "&lt;/body&gt;\n",
       "&lt;script&gt;    \n",
       "    \n",
       "            var map_53cea40d0d01d989cbf037351fb2ac4d = L.map(\n",
       "                &quot;map_53cea40d0d01d989cbf037351fb2ac4d&quot;,\n",
       "                {\n",
       "                    center: [-39.81422, -73.24589],\n",
       "                    crs: L.CRS.EPSG3857,\n",
       "                    zoom: 11,\n",
       "                    zoomControl: true,\n",
       "                    preferCanvas: false,\n",
       "                }\n",
       "            );\n",
       "\n",
       "            \n",
       "\n",
       "        \n",
       "    \n",
       "            var tile_layer_353c11e73d0bd3c4b1d16f7bac178a50 = L.tileLayer(\n",
       "                &quot;https://{s}.tile.openstreetmap.org/{z}/{x}/{y}.png&quot;,\n",
       "                {&quot;attribution&quot;: &quot;Data by \\u0026copy; \\u003ca href=\\&quot;http://openstreetmap.org\\&quot;\\u003eOpenStreetMap\\u003c/a\\u003e, under \\u003ca href=\\&quot;http://www.openstreetmap.org/copyright\\&quot;\\u003eODbL\\u003c/a\\u003e.&quot;, &quot;detectRetina&quot;: false, &quot;maxNativeZoom&quot;: 18, &quot;maxZoom&quot;: 18, &quot;minZoom&quot;: 0, &quot;noWrap&quot;: false, &quot;opacity&quot;: 1, &quot;subdomains&quot;: &quot;abc&quot;, &quot;tms&quot;: false}\n",
       "            ).addTo(map_53cea40d0d01d989cbf037351fb2ac4d);\n",
       "        \n",
       "    \n",
       "            var marker_99b82f5303ff222f313531c8fbe62c2b = L.marker(\n",
       "                [-39.8062305249, -73.0547464487],\n",
       "                {}\n",
       "            ).addTo(map_53cea40d0d01d989cbf037351fb2ac4d);\n",
       "        \n",
       "    \n",
       "            var icon_45717e69afd38cd6362dc9cb9bbc6d2f = L.AwesomeMarkers.icon(\n",
       "                {&quot;extraClasses&quot;: &quot;fa-rotate-0&quot;, &quot;icon&quot;: &quot;info-sign&quot;, &quot;iconColor&quot;: &quot;white&quot;, &quot;markerColor&quot;: &quot;green&quot;, &quot;prefix&quot;: &quot;glyphicon&quot;}\n",
       "            );\n",
       "            marker_99b82f5303ff222f313531c8fbe62c2b.setIcon(icon_45717e69afd38cd6362dc9cb9bbc6d2f);\n",
       "        \n",
       "    \n",
       "        var popup_51add1297364d1fb33692fc026632371 = L.popup({&quot;maxWidth&quot;: &quot;100%&quot;});\n",
       "\n",
       "        \n",
       "            var html_ce43c33ff68fb3de9ceb4b7174955575 = $(`&lt;div id=&quot;html_ce43c33ff68fb3de9ceb4b7174955575&quot; style=&quot;width: 100.0%; height: 100.0%;&quot;&gt;Punto&lt;/div&gt;`)[0];\n",
       "            popup_51add1297364d1fb33692fc026632371.setContent(html_ce43c33ff68fb3de9ceb4b7174955575);\n",
       "        \n",
       "\n",
       "        marker_99b82f5303ff222f313531c8fbe62c2b.bindPopup(popup_51add1297364d1fb33692fc026632371)\n",
       "        ;\n",
       "\n",
       "        \n",
       "    \n",
       "    \n",
       "            marker_99b82f5303ff222f313531c8fbe62c2b.bindTooltip(\n",
       "                `&lt;div&gt;\n",
       "                     PISHUINCO\n",
       "                 &lt;/div&gt;`,\n",
       "                {&quot;sticky&quot;: true}\n",
       "            );\n",
       "        \n",
       "    \n",
       "            var marker_d4687f590e5261bdb4364ac4875f28f9 = L.marker(\n",
       "                [-39.7283824204, -73.3948919817],\n",
       "                {}\n",
       "            ).addTo(map_53cea40d0d01d989cbf037351fb2ac4d);\n",
       "        \n",
       "    \n",
       "            var icon_9a96ca70b7ed1ae048923075756ea87e = L.AwesomeMarkers.icon(\n",
       "                {&quot;extraClasses&quot;: &quot;fa-rotate-0&quot;, &quot;icon&quot;: &quot;info-sign&quot;, &quot;iconColor&quot;: &quot;white&quot;, &quot;markerColor&quot;: &quot;darkpurple&quot;, &quot;prefix&quot;: &quot;glyphicon&quot;}\n",
       "            );\n",
       "            marker_d4687f590e5261bdb4364ac4875f28f9.setIcon(icon_9a96ca70b7ed1ae048923075756ea87e);\n",
       "        \n",
       "    \n",
       "        var popup_d1519ce1a9437ba442d874557ed3ec44 = L.popup({&quot;maxWidth&quot;: &quot;100%&quot;});\n",
       "\n",
       "        \n",
       "            var html_62790e8fc7af17345b5ec2bf5b013803 = $(`&lt;div id=&quot;html_62790e8fc7af17345b5ec2bf5b013803&quot; style=&quot;width: 100.0%; height: 100.0%;&quot;&gt;Punto&lt;/div&gt;`)[0];\n",
       "            popup_d1519ce1a9437ba442d874557ed3ec44.setContent(html_62790e8fc7af17345b5ec2bf5b013803);\n",
       "        \n",
       "\n",
       "        marker_d4687f590e5261bdb4364ac4875f28f9.bindPopup(popup_d1519ce1a9437ba442d874557ed3ec44)\n",
       "        ;\n",
       "\n",
       "        \n",
       "    \n",
       "    \n",
       "            marker_d4687f590e5261bdb4364ac4875f28f9.bindTooltip(\n",
       "                `&lt;div&gt;\n",
       "                     CURIÑANCO\n",
       "                 &lt;/div&gt;`,\n",
       "                {&quot;sticky&quot;: true}\n",
       "            );\n",
       "        \n",
       "    \n",
       "            var marker_77b4c8701a955c4f634a097a7e0fcc72 = L.marker(\n",
       "                [-39.7930844112, -73.124067117],\n",
       "                {}\n",
       "            ).addTo(map_53cea40d0d01d989cbf037351fb2ac4d);\n",
       "        \n",
       "    \n",
       "            var icon_e866aeb15f1db028e6a877a4429009eb = L.AwesomeMarkers.icon(\n",
       "                {&quot;extraClasses&quot;: &quot;fa-rotate-0&quot;, &quot;icon&quot;: &quot;info-sign&quot;, &quot;iconColor&quot;: &quot;white&quot;, &quot;markerColor&quot;: &quot;green&quot;, &quot;prefix&quot;: &quot;glyphicon&quot;}\n",
       "            );\n",
       "            marker_77b4c8701a955c4f634a097a7e0fcc72.setIcon(icon_e866aeb15f1db028e6a877a4429009eb);\n",
       "        \n",
       "    \n",
       "        var popup_ff9d4bafa94743096b9b9c735aa95965 = L.popup({&quot;maxWidth&quot;: &quot;100%&quot;});\n",
       "\n",
       "        \n",
       "            var html_14af37cc4e0548af6300df6d0af1182c = $(`&lt;div id=&quot;html_14af37cc4e0548af6300df6d0af1182c&quot; style=&quot;width: 100.0%; height: 100.0%;&quot;&gt;Punto&lt;/div&gt;`)[0];\n",
       "            popup_ff9d4bafa94743096b9b9c735aa95965.setContent(html_14af37cc4e0548af6300df6d0af1182c);\n",
       "        \n",
       "\n",
       "        marker_77b4c8701a955c4f634a097a7e0fcc72.bindPopup(popup_ff9d4bafa94743096b9b9c735aa95965)\n",
       "        ;\n",
       "\n",
       "        \n",
       "    \n",
       "    \n",
       "            marker_77b4c8701a955c4f634a097a7e0fcc72.bindTooltip(\n",
       "                `&lt;div&gt;\n",
       "                     HUELLELHUE\n",
       "                 &lt;/div&gt;`,\n",
       "                {&quot;sticky&quot;: true}\n",
       "            );\n",
       "        \n",
       "    \n",
       "            var marker_7c07ea46ee902f6ac7949b1e8bfe79b5 = L.marker(\n",
       "                [-39.8715639883, -73.1852346315],\n",
       "                {}\n",
       "            ).addTo(map_53cea40d0d01d989cbf037351fb2ac4d);\n",
       "        \n",
       "    \n",
       "            var icon_1280c4ee5a9b92d8826e380d676d2621 = L.AwesomeMarkers.icon(\n",
       "                {&quot;extraClasses&quot;: &quot;fa-rotate-0&quot;, &quot;icon&quot;: &quot;info-sign&quot;, &quot;iconColor&quot;: &quot;white&quot;, &quot;markerColor&quot;: &quot;red&quot;, &quot;prefix&quot;: &quot;glyphicon&quot;}\n",
       "            );\n",
       "            marker_7c07ea46ee902f6ac7949b1e8bfe79b5.setIcon(icon_1280c4ee5a9b92d8826e380d676d2621);\n",
       "        \n",
       "    \n",
       "        var popup_3674f629697d26caf983f6a177f1fe8b = L.popup({&quot;maxWidth&quot;: &quot;100%&quot;});\n",
       "\n",
       "        \n",
       "            var html_562153f457de57f173082853a503ead4 = $(`&lt;div id=&quot;html_562153f457de57f173082853a503ead4&quot; style=&quot;width: 100.0%; height: 100.0%;&quot;&gt;Punto&lt;/div&gt;`)[0];\n",
       "            popup_3674f629697d26caf983f6a177f1fe8b.setContent(html_562153f457de57f173082853a503ead4);\n",
       "        \n",
       "\n",
       "        marker_7c07ea46ee902f6ac7949b1e8bfe79b5.bindPopup(popup_3674f629697d26caf983f6a177f1fe8b)\n",
       "        ;\n",
       "\n",
       "        \n",
       "    \n",
       "    \n",
       "            marker_7c07ea46ee902f6ac7949b1e8bfe79b5.bindTooltip(\n",
       "                `&lt;div&gt;\n",
       "                     LAS GAVIOTAS\n",
       "                 &lt;/div&gt;`,\n",
       "                {&quot;sticky&quot;: true}\n",
       "            );\n",
       "        \n",
       "    \n",
       "            var marker_1aa02b02a2b48e99fa62c3ae2f765bf3 = L.marker(\n",
       "                [-39.8547751549, -73.3907718436],\n",
       "                {}\n",
       "            ).addTo(map_53cea40d0d01d989cbf037351fb2ac4d);\n",
       "        \n",
       "    \n",
       "            var icon_c4594dae06d02830905c1947ca8dba1e = L.AwesomeMarkers.icon(\n",
       "                {&quot;extraClasses&quot;: &quot;fa-rotate-0&quot;, &quot;icon&quot;: &quot;info-sign&quot;, &quot;iconColor&quot;: &quot;white&quot;, &quot;markerColor&quot;: &quot;darkpurple&quot;, &quot;prefix&quot;: &quot;glyphicon&quot;}\n",
       "            );\n",
       "            marker_1aa02b02a2b48e99fa62c3ae2f765bf3.setIcon(icon_c4594dae06d02830905c1947ca8dba1e);\n",
       "        \n",
       "    \n",
       "        var popup_43b77142b35c1ce26464ce6a0ef304e6 = L.popup({&quot;maxWidth&quot;: &quot;100%&quot;});\n",
       "\n",
       "        \n",
       "            var html_cbab9d0dbd8981a9e328aa53d1a1a449 = $(`&lt;div id=&quot;html_cbab9d0dbd8981a9e328aa53d1a1a449&quot; style=&quot;width: 100.0%; height: 100.0%;&quot;&gt;Punto&lt;/div&gt;`)[0];\n",
       "            popup_43b77142b35c1ce26464ce6a0ef304e6.setContent(html_cbab9d0dbd8981a9e328aa53d1a1a449);\n",
       "        \n",
       "\n",
       "        marker_1aa02b02a2b48e99fa62c3ae2f765bf3.bindPopup(popup_43b77142b35c1ce26464ce6a0ef304e6)\n",
       "        ;\n",
       "\n",
       "        \n",
       "    \n",
       "    \n",
       "            marker_1aa02b02a2b48e99fa62c3ae2f765bf3.bindTooltip(\n",
       "                `&lt;div&gt;\n",
       "                     NIEBLA-LOS MOLINOS\n",
       "                 &lt;/div&gt;`,\n",
       "                {&quot;sticky&quot;: true}\n",
       "            );\n",
       "        \n",
       "    \n",
       "            var marker_5ab27cf026e0b3d88a9ea74ecfa1b64f = L.marker(\n",
       "                [-39.7603001637, -73.2705681336],\n",
       "                {}\n",
       "            ).addTo(map_53cea40d0d01d989cbf037351fb2ac4d);\n",
       "        \n",
       "    \n",
       "            var icon_ca98193ac99ce78e6e1407774c62b338 = L.AwesomeMarkers.icon(\n",
       "                {&quot;extraClasses&quot;: &quot;fa-rotate-0&quot;, &quot;icon&quot;: &quot;info-sign&quot;, &quot;iconColor&quot;: &quot;white&quot;, &quot;markerColor&quot;: &quot;green&quot;, &quot;prefix&quot;: &quot;glyphicon&quot;}\n",
       "            );\n",
       "            marker_5ab27cf026e0b3d88a9ea74ecfa1b64f.setIcon(icon_ca98193ac99ce78e6e1407774c62b338);\n",
       "        \n",
       "    \n",
       "        var popup_dbc4355a72f7f954c350d31abf675957 = L.popup({&quot;maxWidth&quot;: &quot;100%&quot;});\n",
       "\n",
       "        \n",
       "            var html_1a08c2d6a032af86edce3ba62445bf39 = $(`&lt;div id=&quot;html_1a08c2d6a032af86edce3ba62445bf39&quot; style=&quot;width: 100.0%; height: 100.0%;&quot;&gt;Punto&lt;/div&gt;`)[0];\n",
       "            popup_dbc4355a72f7f954c350d31abf675957.setContent(html_1a08c2d6a032af86edce3ba62445bf39);\n",
       "        \n",
       "\n",
       "        marker_5ab27cf026e0b3d88a9ea74ecfa1b64f.bindPopup(popup_dbc4355a72f7f954c350d31abf675957)\n",
       "        ;\n",
       "\n",
       "        \n",
       "    \n",
       "    \n",
       "            marker_5ab27cf026e0b3d88a9ea74ecfa1b64f.bindTooltip(\n",
       "                `&lt;div&gt;\n",
       "                     PUNUCAPA\n",
       "                 &lt;/div&gt;`,\n",
       "                {&quot;sticky&quot;: true}\n",
       "            );\n",
       "        \n",
       "    \n",
       "            var marker_2157aa4ddbb977f90a768fe2bb6500cd = L.marker(\n",
       "                [-39.831480037, -73.4025892212],\n",
       "                {}\n",
       "            ).addTo(map_53cea40d0d01d989cbf037351fb2ac4d);\n",
       "        \n",
       "    \n",
       "            var icon_7ba8f3724287f86176852a895436aaeb = L.AwesomeMarkers.icon(\n",
       "                {&quot;extraClasses&quot;: &quot;fa-rotate-0&quot;, &quot;icon&quot;: &quot;info-sign&quot;, &quot;iconColor&quot;: &quot;white&quot;, &quot;markerColor&quot;: &quot;orange&quot;, &quot;prefix&quot;: &quot;glyphicon&quot;}\n",
       "            );\n",
       "            marker_2157aa4ddbb977f90a768fe2bb6500cd.setIcon(icon_7ba8f3724287f86176852a895436aaeb);\n",
       "        \n",
       "    \n",
       "        var popup_7dffe61b87146cf2c506b2fd1876d40e = L.popup({&quot;maxWidth&quot;: &quot;100%&quot;});\n",
       "\n",
       "        \n",
       "            var html_98100678e8240dc43ea09e935bf7aabb = $(`&lt;div id=&quot;html_98100678e8240dc43ea09e935bf7aabb&quot; style=&quot;width: 100.0%; height: 100.0%;&quot;&gt;Punto&lt;/div&gt;`)[0];\n",
       "            popup_7dffe61b87146cf2c506b2fd1876d40e.setContent(html_98100678e8240dc43ea09e935bf7aabb);\n",
       "        \n",
       "\n",
       "        marker_2157aa4ddbb977f90a768fe2bb6500cd.bindPopup(popup_7dffe61b87146cf2c506b2fd1876d40e)\n",
       "        ;\n",
       "\n",
       "        \n",
       "    \n",
       "    \n",
       "            marker_2157aa4ddbb977f90a768fe2bb6500cd.bindTooltip(\n",
       "                `&lt;div&gt;\n",
       "                     SAN IGNACIO-PLAYA ROSADA\n",
       "                 &lt;/div&gt;`,\n",
       "                {&quot;sticky&quot;: true}\n",
       "            );\n",
       "        \n",
       "    \n",
       "            var marker_cdb1ec27c11af6d63f34782429149284 = L.marker(\n",
       "                [-39.8649364171, -73.3728400295],\n",
       "                {}\n",
       "            ).addTo(map_53cea40d0d01d989cbf037351fb2ac4d);\n",
       "        \n",
       "    \n",
       "            var icon_8dccd9f12c16dfdbc89e7276a5aa69af = L.AwesomeMarkers.icon(\n",
       "                {&quot;extraClasses&quot;: &quot;fa-rotate-0&quot;, &quot;icon&quot;: &quot;info-sign&quot;, &quot;iconColor&quot;: &quot;white&quot;, &quot;markerColor&quot;: &quot;red&quot;, &quot;prefix&quot;: &quot;glyphicon&quot;}\n",
       "            );\n",
       "            marker_cdb1ec27c11af6d63f34782429149284.setIcon(icon_8dccd9f12c16dfdbc89e7276a5aa69af);\n",
       "        \n",
       "    \n",
       "        var popup_f1a40d6c4d22f7b5c243f2b7157286a8 = L.popup({&quot;maxWidth&quot;: &quot;100%&quot;});\n",
       "\n",
       "        \n",
       "            var html_1a8248fce356783a0104ee81727f7623 = $(`&lt;div id=&quot;html_1a8248fce356783a0104ee81727f7623&quot; style=&quot;width: 100.0%; height: 100.0%;&quot;&gt;Punto&lt;/div&gt;`)[0];\n",
       "            popup_f1a40d6c4d22f7b5c243f2b7157286a8.setContent(html_1a8248fce356783a0104ee81727f7623);\n",
       "        \n",
       "\n",
       "        marker_cdb1ec27c11af6d63f34782429149284.bindPopup(popup_f1a40d6c4d22f7b5c243f2b7157286a8)\n",
       "        ;\n",
       "\n",
       "        \n",
       "    \n",
       "    \n",
       "            marker_cdb1ec27c11af6d63f34782429149284.bindTooltip(\n",
       "                `&lt;div&gt;\n",
       "                     TRES ESPINOS\n",
       "                 &lt;/div&gt;`,\n",
       "                {&quot;sticky&quot;: true}\n",
       "            );\n",
       "        \n",
       "    \n",
       "            var marker_1113ae96e81ae4a65ebbf185e70241a6 = L.marker(\n",
       "                [-39.7314121294, -73.1091043702],\n",
       "                {}\n",
       "            ).addTo(map_53cea40d0d01d989cbf037351fb2ac4d);\n",
       "        \n",
       "    \n",
       "            var icon_c725e96b7ca9d50a09813fc5453ac5c2 = L.AwesomeMarkers.icon(\n",
       "                {&quot;extraClasses&quot;: &quot;fa-rotate-0&quot;, &quot;icon&quot;: &quot;info-sign&quot;, &quot;iconColor&quot;: &quot;white&quot;, &quot;markerColor&quot;: &quot;red&quot;, &quot;prefix&quot;: &quot;glyphicon&quot;}\n",
       "            );\n",
       "            marker_1113ae96e81ae4a65ebbf185e70241a6.setIcon(icon_c725e96b7ca9d50a09813fc5453ac5c2);\n",
       "        \n",
       "    \n",
       "        var popup_e900fe16d75f550e0393983ab01c1300 = L.popup({&quot;maxWidth&quot;: &quot;100%&quot;});\n",
       "\n",
       "        \n",
       "            var html_ad4d65086bfaf280597f6a93f375e02c = $(`&lt;div id=&quot;html_ad4d65086bfaf280597f6a93f375e02c&quot; style=&quot;width: 100.0%; height: 100.0%;&quot;&gt;Punto&lt;/div&gt;`)[0];\n",
       "            popup_e900fe16d75f550e0393983ab01c1300.setContent(html_ad4d65086bfaf280597f6a93f375e02c);\n",
       "        \n",
       "\n",
       "        marker_1113ae96e81ae4a65ebbf185e70241a6.bindPopup(popup_e900fe16d75f550e0393983ab01c1300)\n",
       "        ;\n",
       "\n",
       "        \n",
       "    \n",
       "    \n",
       "            marker_1113ae96e81ae4a65ebbf185e70241a6.bindTooltip(\n",
       "                `&lt;div&gt;\n",
       "                     VILLA CAYUMAPU\n",
       "                 &lt;/div&gt;`,\n",
       "                {&quot;sticky&quot;: true}\n",
       "            );\n",
       "        \n",
       "    \n",
       "            var marker_e5870c62afc600e967bb53da0d096121 = L.marker(\n",
       "                [-39.772903642, -73.1970058325],\n",
       "                {}\n",
       "            ).addTo(map_53cea40d0d01d989cbf037351fb2ac4d);\n",
       "        \n",
       "    \n",
       "            var icon_e87a93a296c6db0e31f18d784054775c = L.AwesomeMarkers.icon(\n",
       "                {&quot;extraClasses&quot;: &quot;fa-rotate-0&quot;, &quot;icon&quot;: &quot;info-sign&quot;, &quot;iconColor&quot;: &quot;white&quot;, &quot;markerColor&quot;: &quot;orange&quot;, &quot;prefix&quot;: &quot;glyphicon&quot;}\n",
       "            );\n",
       "            marker_e5870c62afc600e967bb53da0d096121.setIcon(icon_e87a93a296c6db0e31f18d784054775c);\n",
       "        \n",
       "    \n",
       "        var popup_2c2f9e0cc784d127cd84e208244a2260 = L.popup({&quot;maxWidth&quot;: &quot;100%&quot;});\n",
       "\n",
       "        \n",
       "            var html_6ea7ec19ad0ababfb62d13410742de33 = $(`&lt;div id=&quot;html_6ea7ec19ad0ababfb62d13410742de33&quot; style=&quot;width: 100.0%; height: 100.0%;&quot;&gt;Punto&lt;/div&gt;`)[0];\n",
       "            popup_2c2f9e0cc784d127cd84e208244a2260.setContent(html_6ea7ec19ad0ababfb62d13410742de33);\n",
       "        \n",
       "\n",
       "        marker_e5870c62afc600e967bb53da0d096121.bindPopup(popup_2c2f9e0cc784d127cd84e208244a2260)\n",
       "        ;\n",
       "\n",
       "        \n",
       "    \n",
       "    \n",
       "            marker_e5870c62afc600e967bb53da0d096121.bindTooltip(\n",
       "                `&lt;div&gt;\n",
       "                     EL ARENAL SANTA ELVIRA\n",
       "                 &lt;/div&gt;`,\n",
       "                {&quot;sticky&quot;: true}\n",
       "            );\n",
       "        \n",
       "    \n",
       "            var marker_2bdc5718e956d6049af5322f5f4c3519 = L.marker(\n",
       "                [-39.8673123199, -73.2088638403],\n",
       "                {}\n",
       "            ).addTo(map_53cea40d0d01d989cbf037351fb2ac4d);\n",
       "        \n",
       "    \n",
       "            var icon_4bc6bacbfb57bb6359e693d9ee771b89 = L.AwesomeMarkers.icon(\n",
       "                {&quot;extraClasses&quot;: &quot;fa-rotate-0&quot;, &quot;icon&quot;: &quot;info-sign&quot;, &quot;iconColor&quot;: &quot;white&quot;, &quot;markerColor&quot;: &quot;orange&quot;, &quot;prefix&quot;: &quot;glyphicon&quot;}\n",
       "            );\n",
       "            marker_2bdc5718e956d6049af5322f5f4c3519.setIcon(icon_4bc6bacbfb57bb6359e693d9ee771b89);\n",
       "        \n",
       "    \n",
       "        var popup_b301c024b45c1081d6343444614d5f66 = L.popup({&quot;maxWidth&quot;: &quot;100%&quot;});\n",
       "\n",
       "        \n",
       "            var html_0ab3ca1724f609350742610a982fb5fe = $(`&lt;div id=&quot;html_0ab3ca1724f609350742610a982fb5fe&quot; style=&quot;width: 100.0%; height: 100.0%;&quot;&gt;Punto&lt;/div&gt;`)[0];\n",
       "            popup_b301c024b45c1081d6343444614d5f66.setContent(html_0ab3ca1724f609350742610a982fb5fe);\n",
       "        \n",
       "\n",
       "        marker_2bdc5718e956d6049af5322f5f4c3519.bindPopup(popup_b301c024b45c1081d6343444614d5f66)\n",
       "        ;\n",
       "\n",
       "        \n",
       "    \n",
       "    \n",
       "            marker_2bdc5718e956d6049af5322f5f4c3519.bindTooltip(\n",
       "                `&lt;div&gt;\n",
       "                     PAILLAO\n",
       "                 &lt;/div&gt;`,\n",
       "                {&quot;sticky&quot;: true}\n",
       "            );\n",
       "        \n",
       "    \n",
       "            var marker_4159951bbb702a956cb761d249c8e6be = L.marker(\n",
       "                [-39.7802702288, -73.2412708338],\n",
       "                {}\n",
       "            ).addTo(map_53cea40d0d01d989cbf037351fb2ac4d);\n",
       "        \n",
       "    \n",
       "            var icon_a56ac881224b26a7656d11eef5688130 = L.AwesomeMarkers.icon(\n",
       "                {&quot;extraClasses&quot;: &quot;fa-rotate-0&quot;, &quot;icon&quot;: &quot;info-sign&quot;, &quot;iconColor&quot;: &quot;white&quot;, &quot;markerColor&quot;: &quot;green&quot;, &quot;prefix&quot;: &quot;glyphicon&quot;}\n",
       "            );\n",
       "            marker_4159951bbb702a956cb761d249c8e6be.setIcon(icon_a56ac881224b26a7656d11eef5688130);\n",
       "        \n",
       "    \n",
       "        var popup_ca5e57f9d24f0299d38232a8105759c0 = L.popup({&quot;maxWidth&quot;: &quot;100%&quot;});\n",
       "\n",
       "        \n",
       "            var html_71f99309733b0719964a0458bdb71640 = $(`&lt;div id=&quot;html_71f99309733b0719964a0458bdb71640&quot; style=&quot;width: 100.0%; height: 100.0%;&quot;&gt;Punto&lt;/div&gt;`)[0];\n",
       "            popup_ca5e57f9d24f0299d38232a8105759c0.setContent(html_71f99309733b0719964a0458bdb71640);\n",
       "        \n",
       "\n",
       "        marker_4159951bbb702a956cb761d249c8e6be.bindPopup(popup_ca5e57f9d24f0299d38232a8105759c0)\n",
       "        ;\n",
       "\n",
       "        \n",
       "    \n",
       "    \n",
       "            marker_4159951bbb702a956cb761d249c8e6be.bindTooltip(\n",
       "                `&lt;div&gt;\n",
       "                     CABO BLANCO\n",
       "                 &lt;/div&gt;`,\n",
       "                {&quot;sticky&quot;: true}\n",
       "            );\n",
       "        \n",
       "    \n",
       "            var marker_b43b2c877ae73ee90cde9f7df5f1ed21 = L.marker(\n",
       "                [-39.7737197231, -73.2102553189],\n",
       "                {}\n",
       "            ).addTo(map_53cea40d0d01d989cbf037351fb2ac4d);\n",
       "        \n",
       "    \n",
       "            var icon_0327eeb65dc2f9ce76bad42791877471 = L.AwesomeMarkers.icon(\n",
       "                {&quot;extraClasses&quot;: &quot;fa-rotate-0&quot;, &quot;icon&quot;: &quot;info-sign&quot;, &quot;iconColor&quot;: &quot;white&quot;, &quot;markerColor&quot;: &quot;orange&quot;, &quot;prefix&quot;: &quot;glyphicon&quot;}\n",
       "            );\n",
       "            marker_b43b2c877ae73ee90cde9f7df5f1ed21.setIcon(icon_0327eeb65dc2f9ce76bad42791877471);\n",
       "        \n",
       "    \n",
       "        var popup_fad30eabe0bf37dd01091983e08f024f = L.popup({&quot;maxWidth&quot;: &quot;100%&quot;});\n",
       "\n",
       "        \n",
       "            var html_492e39990bcb7ac31350644f59f6be58 = $(`&lt;div id=&quot;html_492e39990bcb7ac31350644f59f6be58&quot; style=&quot;width: 100.0%; height: 100.0%;&quot;&gt;Punto&lt;/div&gt;`)[0];\n",
       "            popup_fad30eabe0bf37dd01091983e08f024f.setContent(html_492e39990bcb7ac31350644f59f6be58);\n",
       "        \n",
       "\n",
       "        marker_b43b2c877ae73ee90cde9f7df5f1ed21.bindPopup(popup_fad30eabe0bf37dd01091983e08f024f)\n",
       "        ;\n",
       "\n",
       "        \n",
       "    \n",
       "    \n",
       "            marker_b43b2c877ae73ee90cde9f7df5f1ed21.bindTooltip(\n",
       "                `&lt;div&gt;\n",
       "                     EL ARENAL KM 2\n",
       "                 &lt;/div&gt;`,\n",
       "                {&quot;sticky&quot;: true}\n",
       "            );\n",
       "        \n",
       "    \n",
       "            var marker_2c26f99a96bdfbb786e66a2bc94f0564 = L.marker(\n",
       "                [-39.7772055631, -73.3135380035],\n",
       "                {}\n",
       "            ).addTo(map_53cea40d0d01d989cbf037351fb2ac4d);\n",
       "        \n",
       "    \n",
       "            var icon_145bd0d76552ff5984edd01defecf943 = L.AwesomeMarkers.icon(\n",
       "                {&quot;extraClasses&quot;: &quot;fa-rotate-0&quot;, &quot;icon&quot;: &quot;info-sign&quot;, &quot;iconColor&quot;: &quot;white&quot;, &quot;markerColor&quot;: &quot;green&quot;, &quot;prefix&quot;: &quot;glyphicon&quot;}\n",
       "            );\n",
       "            marker_2c26f99a96bdfbb786e66a2bc94f0564.setIcon(icon_145bd0d76552ff5984edd01defecf943);\n",
       "        \n",
       "    \n",
       "        var popup_8bbcd15b0e42a15257817434d14eac8e = L.popup({&quot;maxWidth&quot;: &quot;100%&quot;});\n",
       "\n",
       "        \n",
       "            var html_102457949c84411e6867cd653afe5a8d = $(`&lt;div id=&quot;html_102457949c84411e6867cd653afe5a8d&quot; style=&quot;width: 100.0%; height: 100.0%;&quot;&gt;Punto&lt;/div&gt;`)[0];\n",
       "            popup_8bbcd15b0e42a15257817434d14eac8e.setContent(html_102457949c84411e6867cd653afe5a8d);\n",
       "        \n",
       "\n",
       "        marker_2c26f99a96bdfbb786e66a2bc94f0564.bindPopup(popup_8bbcd15b0e42a15257817434d14eac8e)\n",
       "        ;\n",
       "\n",
       "        \n",
       "    \n",
       "    \n",
       "            marker_2c26f99a96bdfbb786e66a2bc94f0564.bindTooltip(\n",
       "                `&lt;div&gt;\n",
       "                     Chabelita\n",
       "                 &lt;/div&gt;`,\n",
       "                {&quot;sticky&quot;: true}\n",
       "            );\n",
       "        \n",
       "&lt;/script&gt;\" style=\"position:absolute;width:100%;height:100%;left:0;top:0;border:none !important;\" allowfullscreen webkitallowfullscreen mozallowfullscreen></iframe></div></div>"
      ],
      "text/plain": [
       "<folium.folium.Map at 0x16d098c76d0>"
      ]
     },
     "execution_count": 26,
     "metadata": {},
     "output_type": "execute_result"
    }
   ],
   "source": [
    "map = folium.Map(location = [-39.81422,-73.24589], tiles = \"OpenStreetMap\", zoom_start = 11)\n",
    "\n",
    "color_beneficiario=[]\n",
    "\n",
    "for j in range(len(locations)):\n",
    "    u=beneficio[j]\n",
    "    if u<299:\n",
    "        colores='darkred'\n",
    "    if u>=299 and u<546:\n",
    "        colores='green'\n",
    "    if u>=546 and u<964:\n",
    "        colores='orange'\n",
    "    if u>=964 and u<2294:\n",
    "        colores='red'               \n",
    "    if u>=2294:\n",
    "        colores='darkpurple'\n",
    "    color_beneficiario.append(colores)\n",
    "    folium.Marker(\n",
    "    location=locations[j],\n",
    "    popup=\"Punto\",\n",
    "    tooltip=nombres[j],\n",
    "    icon=folium.Icon(color=colores),\n",
    ").add_to(map)\n",
    "    \n",
    "map"
   ]
  },
  {
   "cell_type": "code",
   "execution_count": 6,
   "id": "240d3023-809f-4967-b4cd-a783f93bbcb6",
   "metadata": {},
   "outputs": [],
   "source": [
    "#Lista de colores\n",
    "#  'green', 'gray', 'darkred', 'lightblue', 'lightgray', 'pink', 'darkpurple', 'white', 'orange', 'beige', \n",
    "#'cadetblue', 'lightgreen', 'lightred', 'red', 'blue', 'black', 'darkblue', 'darkgreen', 'purple'"
   ]
  },
  {
   "cell_type": "code",
   "execution_count": 7,
   "id": "806a0ff1-e767-4c08-a606-3aa9775832f1",
   "metadata": {},
   "outputs": [
    {
     "name": "stdout",
     "output_type": "stream",
     "text": [
      "            Nombre Ubicación  Beneficiarios       Color\n",
      "0                  PISHUINCO          322.0       green\n",
      "1                  CURIÑANCO         2294.0         red\n",
      "2                 HUELLELHUE          310.0       green\n",
      "3               LAS GAVIOTAS         1048.0         red\n",
      "4         NIEBLA-LOS MOLINOS         4021.0  darkpurple\n",
      "5                   PUNUCAPA          459.0       green\n",
      "6   SAN IGNACIO-PLAYA ROSADA          936.0      orange\n",
      "7               TRES ESPINOS         1091.0         red\n",
      "8             VILLA CAYUMAPU         1327.0         red\n",
      "9     EL ARENAL SANTA ELVIRA          549.0      orange\n",
      "10                   PAILLAO          871.0      orange\n",
      "11               CABO BLANCO          543.0       green\n",
      "12            EL ARENAL KM 2          623.0      orange\n",
      "13                 Chabelita          434.0       green\n"
     ]
    }
   ],
   "source": [
    "import pandas as pd\n",
    "df = pd.DataFrame()\n",
    "df['Nombre Ubicación'] = None\n",
    "df['Beneficiarios']=None\n",
    "df['Color']=None\n",
    "\n",
    "nombres = list(df_nombres)\n",
    "\n",
    "beneficio = list(df_beneficio)\n",
    "color_b=list(color_beneficiario)\n",
    "\n",
    "df['Nombre Ubicación'] = nombres\n",
    "df['Beneficiarios'] = beneficio\n",
    "df['Color'] = color_b\n",
    "\n",
    "print(df)"
   ]
  },
  {
   "cell_type": "code",
   "execution_count": 29,
   "id": "2002ffb0-a48e-4c85-a200-64c906303ad7",
   "metadata": {},
   "outputs": [
    {
     "data": {
      "application/vnd.plotly.v1+json": {
       "config": {
        "plotlyServerURL": "https://plot.ly"
       },
       "data": [
        {
         "alignmentgroup": "True",
         "hovertemplate": "Nombre Ubicación=%{x}<br>Beneficiarios=%{y}<extra></extra>",
         "legendgroup": "PISHUINCO",
         "marker": {
          "color": "green",
          "pattern": {
           "shape": ""
          }
         },
         "name": "PISHUINCO",
         "offsetgroup": "PISHUINCO",
         "orientation": "v",
         "showlegend": true,
         "textposition": "auto",
         "type": "bar",
         "x": [
          "PISHUINCO"
         ],
         "xaxis": "x",
         "y": [
          322
         ],
         "yaxis": "y"
        },
        {
         "alignmentgroup": "True",
         "hovertemplate": "Nombre Ubicación=%{x}<br>Beneficiarios=%{y}<extra></extra>",
         "legendgroup": "CURIÑANCO",
         "marker": {
          "color": "purple",
          "pattern": {
           "shape": ""
          }
         },
         "name": "CURIÑANCO",
         "offsetgroup": "CURIÑANCO",
         "orientation": "v",
         "showlegend": true,
         "textposition": "auto",
         "type": "bar",
         "x": [
          "CURIÑANCO"
         ],
         "xaxis": "x",
         "y": [
          2294
         ],
         "yaxis": "y"
        },
        {
         "alignmentgroup": "True",
         "hovertemplate": "Nombre Ubicación=%{x}<br>Beneficiarios=%{y}<extra></extra>",
         "legendgroup": "HUELLELHUE",
         "marker": {
          "color": "green",
          "pattern": {
           "shape": ""
          }
         },
         "name": "HUELLELHUE",
         "offsetgroup": "HUELLELHUE",
         "orientation": "v",
         "showlegend": true,
         "textposition": "auto",
         "type": "bar",
         "x": [
          "HUELLELHUE"
         ],
         "xaxis": "x",
         "y": [
          310
         ],
         "yaxis": "y"
        },
        {
         "alignmentgroup": "True",
         "hovertemplate": "Nombre Ubicación=%{x}<br>Beneficiarios=%{y}<extra></extra>",
         "legendgroup": "LAS GAVIOTAS",
         "marker": {
          "color": "red",
          "pattern": {
           "shape": ""
          }
         },
         "name": "LAS GAVIOTAS",
         "offsetgroup": "LAS GAVIOTAS",
         "orientation": "v",
         "showlegend": true,
         "textposition": "auto",
         "type": "bar",
         "x": [
          "LAS GAVIOTAS"
         ],
         "xaxis": "x",
         "y": [
          1048
         ],
         "yaxis": "y"
        },
        {
         "alignmentgroup": "True",
         "hovertemplate": "Nombre Ubicación=%{x}<br>Beneficiarios=%{y}<extra></extra>",
         "legendgroup": "NIEBLA-LOS MOLINOS",
         "marker": {
          "color": "purple",
          "pattern": {
           "shape": ""
          }
         },
         "name": "NIEBLA-LOS MOLINOS",
         "offsetgroup": "NIEBLA-LOS MOLINOS",
         "orientation": "v",
         "showlegend": true,
         "textposition": "auto",
         "type": "bar",
         "x": [
          "NIEBLA-LOS MOLINOS"
         ],
         "xaxis": "x",
         "y": [
          4021
         ],
         "yaxis": "y"
        },
        {
         "alignmentgroup": "True",
         "hovertemplate": "Nombre Ubicación=%{x}<br>Beneficiarios=%{y}<extra></extra>",
         "legendgroup": "PUNUCAPA",
         "marker": {
          "color": "green",
          "pattern": {
           "shape": ""
          }
         },
         "name": "PUNUCAPA",
         "offsetgroup": "PUNUCAPA",
         "orientation": "v",
         "showlegend": true,
         "textposition": "auto",
         "type": "bar",
         "x": [
          "PUNUCAPA"
         ],
         "xaxis": "x",
         "y": [
          459
         ],
         "yaxis": "y"
        },
        {
         "alignmentgroup": "True",
         "hovertemplate": "Nombre Ubicación=%{x}<br>Beneficiarios=%{y}<extra></extra>",
         "legendgroup": "SAN IGNACIO-PLAYA ROSADA",
         "marker": {
          "color": "orange",
          "pattern": {
           "shape": ""
          }
         },
         "name": "SAN IGNACIO-PLAYA ROSADA",
         "offsetgroup": "SAN IGNACIO-PLAYA ROSADA",
         "orientation": "v",
         "showlegend": true,
         "textposition": "auto",
         "type": "bar",
         "x": [
          "SAN IGNACIO-PLAYA ROSADA"
         ],
         "xaxis": "x",
         "y": [
          936
         ],
         "yaxis": "y"
        },
        {
         "alignmentgroup": "True",
         "hovertemplate": "Nombre Ubicación=%{x}<br>Beneficiarios=%{y}<extra></extra>",
         "legendgroup": "TRES ESPINOS",
         "marker": {
          "color": "red",
          "pattern": {
           "shape": ""
          }
         },
         "name": "TRES ESPINOS",
         "offsetgroup": "TRES ESPINOS",
         "orientation": "v",
         "showlegend": true,
         "textposition": "auto",
         "type": "bar",
         "x": [
          "TRES ESPINOS"
         ],
         "xaxis": "x",
         "y": [
          1091
         ],
         "yaxis": "y"
        },
        {
         "alignmentgroup": "True",
         "hovertemplate": "Nombre Ubicación=%{x}<br>Beneficiarios=%{y}<extra></extra>",
         "legendgroup": "VILLA CAYUMAPU",
         "marker": {
          "color": "red",
          "pattern": {
           "shape": ""
          }
         },
         "name": "VILLA CAYUMAPU",
         "offsetgroup": "VILLA CAYUMAPU",
         "orientation": "v",
         "showlegend": true,
         "textposition": "auto",
         "type": "bar",
         "x": [
          "VILLA CAYUMAPU"
         ],
         "xaxis": "x",
         "y": [
          1327
         ],
         "yaxis": "y"
        },
        {
         "alignmentgroup": "True",
         "hovertemplate": "Nombre Ubicación=%{x}<br>Beneficiarios=%{y}<extra></extra>",
         "legendgroup": "EL ARENAL SANTA ELVIRA",
         "marker": {
          "color": "orange",
          "pattern": {
           "shape": ""
          }
         },
         "name": "EL ARENAL SANTA ELVIRA",
         "offsetgroup": "EL ARENAL SANTA ELVIRA",
         "orientation": "v",
         "showlegend": true,
         "textposition": "auto",
         "type": "bar",
         "x": [
          "EL ARENAL SANTA ELVIRA"
         ],
         "xaxis": "x",
         "y": [
          549
         ],
         "yaxis": "y"
        },
        {
         "alignmentgroup": "True",
         "hovertemplate": "Nombre Ubicación=%{x}<br>Beneficiarios=%{y}<extra></extra>",
         "legendgroup": "PAILLAO",
         "marker": {
          "color": "orange",
          "pattern": {
           "shape": ""
          }
         },
         "name": "PAILLAO",
         "offsetgroup": "PAILLAO",
         "orientation": "v",
         "showlegend": true,
         "textposition": "auto",
         "type": "bar",
         "x": [
          "PAILLAO"
         ],
         "xaxis": "x",
         "y": [
          871
         ],
         "yaxis": "y"
        },
        {
         "alignmentgroup": "True",
         "hovertemplate": "Nombre Ubicación=%{x}<br>Beneficiarios=%{y}<extra></extra>",
         "legendgroup": "CABO BLANCO",
         "marker": {
          "color": "green",
          "pattern": {
           "shape": ""
          }
         },
         "name": "CABO BLANCO",
         "offsetgroup": "CABO BLANCO",
         "orientation": "v",
         "showlegend": true,
         "textposition": "auto",
         "type": "bar",
         "x": [
          "CABO BLANCO"
         ],
         "xaxis": "x",
         "y": [
          543
         ],
         "yaxis": "y"
        },
        {
         "alignmentgroup": "True",
         "hovertemplate": "Nombre Ubicación=%{x}<br>Beneficiarios=%{y}<extra></extra>",
         "legendgroup": "EL ARENAL KM 2",
         "marker": {
          "color": "orange",
          "pattern": {
           "shape": ""
          }
         },
         "name": "EL ARENAL KM 2",
         "offsetgroup": "EL ARENAL KM 2",
         "orientation": "v",
         "showlegend": true,
         "textposition": "auto",
         "type": "bar",
         "x": [
          "EL ARENAL KM 2"
         ],
         "xaxis": "x",
         "y": [
          623
         ],
         "yaxis": "y"
        },
        {
         "alignmentgroup": "True",
         "hovertemplate": "Nombre Ubicación=%{x}<br>Beneficiarios=%{y}<extra></extra>",
         "legendgroup": "Chabelita",
         "marker": {
          "color": "green",
          "pattern": {
           "shape": ""
          }
         },
         "name": "Chabelita",
         "offsetgroup": "Chabelita",
         "orientation": "v",
         "showlegend": true,
         "textposition": "auto",
         "type": "bar",
         "x": [
          "Chabelita"
         ],
         "xaxis": "x",
         "y": [
          434
         ],
         "yaxis": "y"
        }
       ],
       "layout": {
        "autosize": true,
        "barmode": "relative",
        "legend": {
         "title": {
          "text": "Nombre Ubicación"
         },
         "tracegroupgap": 0
        },
        "template": {
         "data": {
          "bar": [
           {
            "error_x": {
             "color": "#2a3f5f"
            },
            "error_y": {
             "color": "#2a3f5f"
            },
            "marker": {
             "line": {
              "color": "#E5ECF6",
              "width": 0.5
             },
             "pattern": {
              "fillmode": "overlay",
              "size": 10,
              "solidity": 0.2
             }
            },
            "type": "bar"
           }
          ],
          "barpolar": [
           {
            "marker": {
             "line": {
              "color": "#E5ECF6",
              "width": 0.5
             },
             "pattern": {
              "fillmode": "overlay",
              "size": 10,
              "solidity": 0.2
             }
            },
            "type": "barpolar"
           }
          ],
          "carpet": [
           {
            "aaxis": {
             "endlinecolor": "#2a3f5f",
             "gridcolor": "white",
             "linecolor": "white",
             "minorgridcolor": "white",
             "startlinecolor": "#2a3f5f"
            },
            "baxis": {
             "endlinecolor": "#2a3f5f",
             "gridcolor": "white",
             "linecolor": "white",
             "minorgridcolor": "white",
             "startlinecolor": "#2a3f5f"
            },
            "type": "carpet"
           }
          ],
          "choropleth": [
           {
            "colorbar": {
             "outlinewidth": 0,
             "ticks": ""
            },
            "type": "choropleth"
           }
          ],
          "contour": [
           {
            "colorbar": {
             "outlinewidth": 0,
             "ticks": ""
            },
            "colorscale": [
             [
              0,
              "#0d0887"
             ],
             [
              0.1111111111111111,
              "#46039f"
             ],
             [
              0.2222222222222222,
              "#7201a8"
             ],
             [
              0.3333333333333333,
              "#9c179e"
             ],
             [
              0.4444444444444444,
              "#bd3786"
             ],
             [
              0.5555555555555556,
              "#d8576b"
             ],
             [
              0.6666666666666666,
              "#ed7953"
             ],
             [
              0.7777777777777778,
              "#fb9f3a"
             ],
             [
              0.8888888888888888,
              "#fdca26"
             ],
             [
              1,
              "#f0f921"
             ]
            ],
            "type": "contour"
           }
          ],
          "contourcarpet": [
           {
            "colorbar": {
             "outlinewidth": 0,
             "ticks": ""
            },
            "type": "contourcarpet"
           }
          ],
          "heatmap": [
           {
            "colorbar": {
             "outlinewidth": 0,
             "ticks": ""
            },
            "colorscale": [
             [
              0,
              "#0d0887"
             ],
             [
              0.1111111111111111,
              "#46039f"
             ],
             [
              0.2222222222222222,
              "#7201a8"
             ],
             [
              0.3333333333333333,
              "#9c179e"
             ],
             [
              0.4444444444444444,
              "#bd3786"
             ],
             [
              0.5555555555555556,
              "#d8576b"
             ],
             [
              0.6666666666666666,
              "#ed7953"
             ],
             [
              0.7777777777777778,
              "#fb9f3a"
             ],
             [
              0.8888888888888888,
              "#fdca26"
             ],
             [
              1,
              "#f0f921"
             ]
            ],
            "type": "heatmap"
           }
          ],
          "heatmapgl": [
           {
            "colorbar": {
             "outlinewidth": 0,
             "ticks": ""
            },
            "colorscale": [
             [
              0,
              "#0d0887"
             ],
             [
              0.1111111111111111,
              "#46039f"
             ],
             [
              0.2222222222222222,
              "#7201a8"
             ],
             [
              0.3333333333333333,
              "#9c179e"
             ],
             [
              0.4444444444444444,
              "#bd3786"
             ],
             [
              0.5555555555555556,
              "#d8576b"
             ],
             [
              0.6666666666666666,
              "#ed7953"
             ],
             [
              0.7777777777777778,
              "#fb9f3a"
             ],
             [
              0.8888888888888888,
              "#fdca26"
             ],
             [
              1,
              "#f0f921"
             ]
            ],
            "type": "heatmapgl"
           }
          ],
          "histogram": [
           {
            "marker": {
             "pattern": {
              "fillmode": "overlay",
              "size": 10,
              "solidity": 0.2
             }
            },
            "type": "histogram"
           }
          ],
          "histogram2d": [
           {
            "colorbar": {
             "outlinewidth": 0,
             "ticks": ""
            },
            "colorscale": [
             [
              0,
              "#0d0887"
             ],
             [
              0.1111111111111111,
              "#46039f"
             ],
             [
              0.2222222222222222,
              "#7201a8"
             ],
             [
              0.3333333333333333,
              "#9c179e"
             ],
             [
              0.4444444444444444,
              "#bd3786"
             ],
             [
              0.5555555555555556,
              "#d8576b"
             ],
             [
              0.6666666666666666,
              "#ed7953"
             ],
             [
              0.7777777777777778,
              "#fb9f3a"
             ],
             [
              0.8888888888888888,
              "#fdca26"
             ],
             [
              1,
              "#f0f921"
             ]
            ],
            "type": "histogram2d"
           }
          ],
          "histogram2dcontour": [
           {
            "colorbar": {
             "outlinewidth": 0,
             "ticks": ""
            },
            "colorscale": [
             [
              0,
              "#0d0887"
             ],
             [
              0.1111111111111111,
              "#46039f"
             ],
             [
              0.2222222222222222,
              "#7201a8"
             ],
             [
              0.3333333333333333,
              "#9c179e"
             ],
             [
              0.4444444444444444,
              "#bd3786"
             ],
             [
              0.5555555555555556,
              "#d8576b"
             ],
             [
              0.6666666666666666,
              "#ed7953"
             ],
             [
              0.7777777777777778,
              "#fb9f3a"
             ],
             [
              0.8888888888888888,
              "#fdca26"
             ],
             [
              1,
              "#f0f921"
             ]
            ],
            "type": "histogram2dcontour"
           }
          ],
          "mesh3d": [
           {
            "colorbar": {
             "outlinewidth": 0,
             "ticks": ""
            },
            "type": "mesh3d"
           }
          ],
          "parcoords": [
           {
            "line": {
             "colorbar": {
              "outlinewidth": 0,
              "ticks": ""
             }
            },
            "type": "parcoords"
           }
          ],
          "pie": [
           {
            "automargin": true,
            "type": "pie"
           }
          ],
          "scatter": [
           {
            "fillpattern": {
             "fillmode": "overlay",
             "size": 10,
             "solidity": 0.2
            },
            "type": "scatter"
           }
          ],
          "scatter3d": [
           {
            "line": {
             "colorbar": {
              "outlinewidth": 0,
              "ticks": ""
             }
            },
            "marker": {
             "colorbar": {
              "outlinewidth": 0,
              "ticks": ""
             }
            },
            "type": "scatter3d"
           }
          ],
          "scattercarpet": [
           {
            "marker": {
             "colorbar": {
              "outlinewidth": 0,
              "ticks": ""
             }
            },
            "type": "scattercarpet"
           }
          ],
          "scattergeo": [
           {
            "marker": {
             "colorbar": {
              "outlinewidth": 0,
              "ticks": ""
             }
            },
            "type": "scattergeo"
           }
          ],
          "scattergl": [
           {
            "marker": {
             "colorbar": {
              "outlinewidth": 0,
              "ticks": ""
             }
            },
            "type": "scattergl"
           }
          ],
          "scattermapbox": [
           {
            "marker": {
             "colorbar": {
              "outlinewidth": 0,
              "ticks": ""
             }
            },
            "type": "scattermapbox"
           }
          ],
          "scatterpolar": [
           {
            "marker": {
             "colorbar": {
              "outlinewidth": 0,
              "ticks": ""
             }
            },
            "type": "scatterpolar"
           }
          ],
          "scatterpolargl": [
           {
            "marker": {
             "colorbar": {
              "outlinewidth": 0,
              "ticks": ""
             }
            },
            "type": "scatterpolargl"
           }
          ],
          "scatterternary": [
           {
            "marker": {
             "colorbar": {
              "outlinewidth": 0,
              "ticks": ""
             }
            },
            "type": "scatterternary"
           }
          ],
          "surface": [
           {
            "colorbar": {
             "outlinewidth": 0,
             "ticks": ""
            },
            "colorscale": [
             [
              0,
              "#0d0887"
             ],
             [
              0.1111111111111111,
              "#46039f"
             ],
             [
              0.2222222222222222,
              "#7201a8"
             ],
             [
              0.3333333333333333,
              "#9c179e"
             ],
             [
              0.4444444444444444,
              "#bd3786"
             ],
             [
              0.5555555555555556,
              "#d8576b"
             ],
             [
              0.6666666666666666,
              "#ed7953"
             ],
             [
              0.7777777777777778,
              "#fb9f3a"
             ],
             [
              0.8888888888888888,
              "#fdca26"
             ],
             [
              1,
              "#f0f921"
             ]
            ],
            "type": "surface"
           }
          ],
          "table": [
           {
            "cells": {
             "fill": {
              "color": "#EBF0F8"
             },
             "line": {
              "color": "white"
             }
            },
            "header": {
             "fill": {
              "color": "#C8D4E3"
             },
             "line": {
              "color": "white"
             }
            },
            "type": "table"
           }
          ]
         },
         "layout": {
          "annotationdefaults": {
           "arrowcolor": "#2a3f5f",
           "arrowhead": 0,
           "arrowwidth": 1
          },
          "autotypenumbers": "strict",
          "coloraxis": {
           "colorbar": {
            "outlinewidth": 0,
            "ticks": ""
           }
          },
          "colorscale": {
           "diverging": [
            [
             0,
             "#8e0152"
            ],
            [
             0.1,
             "#c51b7d"
            ],
            [
             0.2,
             "#de77ae"
            ],
            [
             0.3,
             "#f1b6da"
            ],
            [
             0.4,
             "#fde0ef"
            ],
            [
             0.5,
             "#f7f7f7"
            ],
            [
             0.6,
             "#e6f5d0"
            ],
            [
             0.7,
             "#b8e186"
            ],
            [
             0.8,
             "#7fbc41"
            ],
            [
             0.9,
             "#4d9221"
            ],
            [
             1,
             "#276419"
            ]
           ],
           "sequential": [
            [
             0,
             "#0d0887"
            ],
            [
             0.1111111111111111,
             "#46039f"
            ],
            [
             0.2222222222222222,
             "#7201a8"
            ],
            [
             0.3333333333333333,
             "#9c179e"
            ],
            [
             0.4444444444444444,
             "#bd3786"
            ],
            [
             0.5555555555555556,
             "#d8576b"
            ],
            [
             0.6666666666666666,
             "#ed7953"
            ],
            [
             0.7777777777777778,
             "#fb9f3a"
            ],
            [
             0.8888888888888888,
             "#fdca26"
            ],
            [
             1,
             "#f0f921"
            ]
           ],
           "sequentialminus": [
            [
             0,
             "#0d0887"
            ],
            [
             0.1111111111111111,
             "#46039f"
            ],
            [
             0.2222222222222222,
             "#7201a8"
            ],
            [
             0.3333333333333333,
             "#9c179e"
            ],
            [
             0.4444444444444444,
             "#bd3786"
            ],
            [
             0.5555555555555556,
             "#d8576b"
            ],
            [
             0.6666666666666666,
             "#ed7953"
            ],
            [
             0.7777777777777778,
             "#fb9f3a"
            ],
            [
             0.8888888888888888,
             "#fdca26"
            ],
            [
             1,
             "#f0f921"
            ]
           ]
          },
          "colorway": [
           "#636efa",
           "#EF553B",
           "#00cc96",
           "#ab63fa",
           "#FFA15A",
           "#19d3f3",
           "#FF6692",
           "#B6E880",
           "#FF97FF",
           "#FECB52"
          ],
          "font": {
           "color": "#2a3f5f"
          },
          "geo": {
           "bgcolor": "white",
           "lakecolor": "white",
           "landcolor": "#E5ECF6",
           "showlakes": true,
           "showland": true,
           "subunitcolor": "white"
          },
          "hoverlabel": {
           "align": "left"
          },
          "hovermode": "closest",
          "mapbox": {
           "style": "light"
          },
          "paper_bgcolor": "white",
          "plot_bgcolor": "#E5ECF6",
          "polar": {
           "angularaxis": {
            "gridcolor": "white",
            "linecolor": "white",
            "ticks": ""
           },
           "bgcolor": "#E5ECF6",
           "radialaxis": {
            "gridcolor": "white",
            "linecolor": "white",
            "ticks": ""
           }
          },
          "scene": {
           "xaxis": {
            "backgroundcolor": "#E5ECF6",
            "gridcolor": "white",
            "gridwidth": 2,
            "linecolor": "white",
            "showbackground": true,
            "ticks": "",
            "zerolinecolor": "white"
           },
           "yaxis": {
            "backgroundcolor": "#E5ECF6",
            "gridcolor": "white",
            "gridwidth": 2,
            "linecolor": "white",
            "showbackground": true,
            "ticks": "",
            "zerolinecolor": "white"
           },
           "zaxis": {
            "backgroundcolor": "#E5ECF6",
            "gridcolor": "white",
            "gridwidth": 2,
            "linecolor": "white",
            "showbackground": true,
            "ticks": "",
            "zerolinecolor": "white"
           }
          },
          "shapedefaults": {
           "line": {
            "color": "#2a3f5f"
           }
          },
          "ternary": {
           "aaxis": {
            "gridcolor": "white",
            "linecolor": "white",
            "ticks": ""
           },
           "baxis": {
            "gridcolor": "white",
            "linecolor": "white",
            "ticks": ""
           },
           "bgcolor": "#E5ECF6",
           "caxis": {
            "gridcolor": "white",
            "linecolor": "white",
            "ticks": ""
           }
          },
          "title": {
           "x": 0.05
          },
          "xaxis": {
           "automargin": true,
           "gridcolor": "white",
           "linecolor": "white",
           "ticks": "",
           "title": {
            "standoff": 15
           },
           "zerolinecolor": "white",
           "zerolinewidth": 2
          },
          "yaxis": {
           "automargin": true,
           "gridcolor": "white",
           "linecolor": "white",
           "ticks": "",
           "title": {
            "standoff": 15
           },
           "zerolinecolor": "white",
           "zerolinewidth": 2
          }
         }
        },
        "title": {
         "text": "Beneficiarios por sector de instalación de APR"
        },
        "xaxis": {
         "anchor": "y",
         "autorange": true,
         "categoryarray": [
          "PISHUINCO",
          "CURIÑANCO",
          "HUELLELHUE",
          "LAS GAVIOTAS",
          "NIEBLA-LOS MOLINOS",
          "PUNUCAPA",
          "SAN IGNACIO-PLAYA ROSADA",
          "TRES ESPINOS",
          "VILLA CAYUMAPU",
          "EL ARENAL SANTA ELVIRA",
          "PAILLAO",
          "CABO BLANCO",
          "EL ARENAL KM 2",
          "Chabelita"
         ],
         "categoryorder": "array",
         "domain": [
          0,
          1
         ],
         "range": [
          -0.5,
          13.5
         ],
         "title": {
          "text": "Nombre Ubicación"
         },
         "type": "category"
        },
        "yaxis": {
         "anchor": "x",
         "autorange": true,
         "domain": [
          0,
          1
         ],
         "range": [
          0,
          4232.631578947368
         ],
         "title": {
          "text": "Beneficiarios"
         },
         "type": "linear"
        }
       }
      },
      "image/png": "[encoded data removed]",
      "text/html": [
       "<div>                            <div id=\"381080bb-b0c0-4153-863a-2105818f0dba\" class=\"plotly-graph-div\" style=\"height:525px; width:100%;\"></div>            <script type=\"text/javascript\">                require([\"plotly\"], function(Plotly) {                    window.PLOTLYENV=window.PLOTLYENV || {};                                    if (document.getElementById(\"381080bb-b0c0-4153-863a-2105818f0dba\")) {                    Plotly.newPlot(                        \"381080bb-b0c0-4153-863a-2105818f0dba\",                        [{\"alignmentgroup\":\"True\",\"hovertemplate\":\"Nombre Ubicaci\\u00f3n=%{x}<br>Beneficiarios=%{y}<extra></extra>\",\"legendgroup\":\"PISHUINCO\",\"marker\":{\"color\":\"green\",\"pattern\":{\"shape\":\"\"}},\"name\":\"PISHUINCO\",\"offsetgroup\":\"PISHUINCO\",\"orientation\":\"v\",\"showlegend\":true,\"textposition\":\"auto\",\"x\":[\"PISHUINCO\"],\"xaxis\":\"x\",\"y\":[322.0],\"yaxis\":\"y\",\"type\":\"bar\"},{\"alignmentgroup\":\"True\",\"hovertemplate\":\"Nombre Ubicaci\\u00f3n=%{x}<br>Beneficiarios=%{y}<extra></extra>\",\"legendgroup\":\"CURI\\u00d1ANCO\",\"marker\":{\"color\":\"purple\",\"pattern\":{\"shape\":\"\"}},\"name\":\"CURI\\u00d1ANCO\",\"offsetgroup\":\"CURI\\u00d1ANCO\",\"orientation\":\"v\",\"showlegend\":true,\"textposition\":\"auto\",\"x\":[\"CURI\\u00d1ANCO\"],\"xaxis\":\"x\",\"y\":[2294.0],\"yaxis\":\"y\",\"type\":\"bar\"},{\"alignmentgroup\":\"True\",\"hovertemplate\":\"Nombre Ubicaci\\u00f3n=%{x}<br>Beneficiarios=%{y}<extra></extra>\",\"legendgroup\":\"HUELLELHUE\",\"marker\":{\"color\":\"green\",\"pattern\":{\"shape\":\"\"}},\"name\":\"HUELLELHUE\",\"offsetgroup\":\"HUELLELHUE\",\"orientation\":\"v\",\"showlegend\":true,\"textposition\":\"auto\",\"x\":[\"HUELLELHUE\"],\"xaxis\":\"x\",\"y\":[310.0],\"yaxis\":\"y\",\"type\":\"bar\"},{\"alignmentgroup\":\"True\",\"hovertemplate\":\"Nombre Ubicaci\\u00f3n=%{x}<br>Beneficiarios=%{y}<extra></extra>\",\"legendgroup\":\"LAS GAVIOTAS\",\"marker\":{\"color\":\"red\",\"pattern\":{\"shape\":\"\"}},\"name\":\"LAS GAVIOTAS\",\"offsetgroup\":\"LAS GAVIOTAS\",\"orientation\":\"v\",\"showlegend\":true,\"textposition\":\"auto\",\"x\":[\"LAS GAVIOTAS\"],\"xaxis\":\"x\",\"y\":[1048.0],\"yaxis\":\"y\",\"type\":\"bar\"},{\"alignmentgroup\":\"True\",\"hovertemplate\":\"Nombre Ubicaci\\u00f3n=%{x}<br>Beneficiarios=%{y}<extra></extra>\",\"legendgroup\":\"NIEBLA-LOS MOLINOS\",\"marker\":{\"color\":\"purple\",\"pattern\":{\"shape\":\"\"}},\"name\":\"NIEBLA-LOS MOLINOS\",\"offsetgroup\":\"NIEBLA-LOS MOLINOS\",\"orientation\":\"v\",\"showlegend\":true,\"textposition\":\"auto\",\"x\":[\"NIEBLA-LOS MOLINOS\"],\"xaxis\":\"x\",\"y\":[4021.0],\"yaxis\":\"y\",\"type\":\"bar\"},{\"alignmentgroup\":\"True\",\"hovertemplate\":\"Nombre Ubicaci\\u00f3n=%{x}<br>Beneficiarios=%{y}<extra></extra>\",\"legendgroup\":\"PUNUCAPA\",\"marker\":{\"color\":\"green\",\"pattern\":{\"shape\":\"\"}},\"name\":\"PUNUCAPA\",\"offsetgroup\":\"PUNUCAPA\",\"orientation\":\"v\",\"showlegend\":true,\"textposition\":\"auto\",\"x\":[\"PUNUCAPA\"],\"xaxis\":\"x\",\"y\":[459.0],\"yaxis\":\"y\",\"type\":\"bar\"},{\"alignmentgroup\":\"True\",\"hovertemplate\":\"Nombre Ubicaci\\u00f3n=%{x}<br>Beneficiarios=%{y}<extra></extra>\",\"legendgroup\":\"SAN IGNACIO-PLAYA ROSADA\",\"marker\":{\"color\":\"orange\",\"pattern\":{\"shape\":\"\"}},\"name\":\"SAN IGNACIO-PLAYA ROSADA\",\"offsetgroup\":\"SAN IGNACIO-PLAYA ROSADA\",\"orientation\":\"v\",\"showlegend\":true,\"textposition\":\"auto\",\"x\":[\"SAN IGNACIO-PLAYA ROSADA\"],\"xaxis\":\"x\",\"y\":[936.0],\"yaxis\":\"y\",\"type\":\"bar\"},{\"alignmentgroup\":\"True\",\"hovertemplate\":\"Nombre Ubicaci\\u00f3n=%{x}<br>Beneficiarios=%{y}<extra></extra>\",\"legendgroup\":\"TRES ESPINOS\",\"marker\":{\"color\":\"red\",\"pattern\":{\"shape\":\"\"}},\"name\":\"TRES ESPINOS\",\"offsetgroup\":\"TRES ESPINOS\",\"orientation\":\"v\",\"showlegend\":true,\"textposition\":\"auto\",\"x\":[\"TRES ESPINOS\"],\"xaxis\":\"x\",\"y\":[1091.0],\"yaxis\":\"y\",\"type\":\"bar\"},{\"alignmentgroup\":\"True\",\"hovertemplate\":\"Nombre Ubicaci\\u00f3n=%{x}<br>Beneficiarios=%{y}<extra></extra>\",\"legendgroup\":\"VILLA CAYUMAPU\",\"marker\":{\"color\":\"red\",\"pattern\":{\"shape\":\"\"}},\"name\":\"VILLA CAYUMAPU\",\"offsetgroup\":\"VILLA CAYUMAPU\",\"orientation\":\"v\",\"showlegend\":true,\"textposition\":\"auto\",\"x\":[\"VILLA CAYUMAPU\"],\"xaxis\":\"x\",\"y\":[1327.0],\"yaxis\":\"y\",\"type\":\"bar\"},{\"alignmentgroup\":\"True\",\"hovertemplate\":\"Nombre Ubicaci\\u00f3n=%{x}<br>Beneficiarios=%{y}<extra></extra>\",\"legendgroup\":\"EL ARENAL SANTA ELVIRA\",\"marker\":{\"color\":\"orange\",\"pattern\":{\"shape\":\"\"}},\"name\":\"EL ARENAL SANTA ELVIRA\",\"offsetgroup\":\"EL ARENAL SANTA ELVIRA\",\"orientation\":\"v\",\"showlegend\":true,\"textposition\":\"auto\",\"x\":[\"EL ARENAL SANTA ELVIRA\"],\"xaxis\":\"x\",\"y\":[549.0],\"yaxis\":\"y\",\"type\":\"bar\"},{\"alignmentgroup\":\"True\",\"hovertemplate\":\"Nombre Ubicaci\\u00f3n=%{x}<br>Beneficiarios=%{y}<extra></extra>\",\"legendgroup\":\"PAILLAO\",\"marker\":{\"color\":\"orange\",\"pattern\":{\"shape\":\"\"}},\"name\":\"PAILLAO\",\"offsetgroup\":\"PAILLAO\",\"orientation\":\"v\",\"showlegend\":true,\"textposition\":\"auto\",\"x\":[\"PAILLAO\"],\"xaxis\":\"x\",\"y\":[871.0],\"yaxis\":\"y\",\"type\":\"bar\"},{\"alignmentgroup\":\"True\",\"hovertemplate\":\"Nombre Ubicaci\\u00f3n=%{x}<br>Beneficiarios=%{y}<extra></extra>\",\"legendgroup\":\"CABO BLANCO\",\"marker\":{\"color\":\"green\",\"pattern\":{\"shape\":\"\"}},\"name\":\"CABO BLANCO\",\"offsetgroup\":\"CABO BLANCO\",\"orientation\":\"v\",\"showlegend\":true,\"textposition\":\"auto\",\"x\":[\"CABO BLANCO\"],\"xaxis\":\"x\",\"y\":[543.0],\"yaxis\":\"y\",\"type\":\"bar\"},{\"alignmentgroup\":\"True\",\"hovertemplate\":\"Nombre Ubicaci\\u00f3n=%{x}<br>Beneficiarios=%{y}<extra></extra>\",\"legendgroup\":\"EL ARENAL KM 2\",\"marker\":{\"color\":\"orange\",\"pattern\":{\"shape\":\"\"}},\"name\":\"EL ARENAL KM 2\",\"offsetgroup\":\"EL ARENAL KM 2\",\"orientation\":\"v\",\"showlegend\":true,\"textposition\":\"auto\",\"x\":[\"EL ARENAL KM 2\"],\"xaxis\":\"x\",\"y\":[623.0],\"yaxis\":\"y\",\"type\":\"bar\"},{\"alignmentgroup\":\"True\",\"hovertemplate\":\"Nombre Ubicaci\\u00f3n=%{x}<br>Beneficiarios=%{y}<extra></extra>\",\"legendgroup\":\"Chabelita\",\"marker\":{\"color\":\"green\",\"pattern\":{\"shape\":\"\"}},\"name\":\"Chabelita\",\"offsetgroup\":\"Chabelita\",\"orientation\":\"v\",\"showlegend\":true,\"textposition\":\"auto\",\"x\":[\"Chabelita\"],\"xaxis\":\"x\",\"y\":[434.0],\"yaxis\":\"y\",\"type\":\"bar\"}],                        {\"template\":{\"data\":{\"histogram2dcontour\":[{\"type\":\"histogram2dcontour\",\"colorbar\":{\"outlinewidth\":0,\"ticks\":\"\"},\"colorscale\":[[0.0,\"#0d0887\"],[0.1111111111111111,\"#46039f\"],[0.2222222222222222,\"#7201a8\"],[0.3333333333333333,\"#9c179e\"],[0.4444444444444444,\"#bd3786\"],[0.5555555555555556,\"#d8576b\"],[0.6666666666666666,\"#ed7953\"],[0.7777777777777778,\"#fb9f3a\"],[0.8888888888888888,\"#fdca26\"],[1.0,\"#f0f921\"]]}],\"choropleth\":[{\"type\":\"choropleth\",\"colorbar\":{\"outlinewidth\":0,\"ticks\":\"\"}}],\"histogram2d\":[{\"type\":\"histogram2d\",\"colorbar\":{\"outlinewidth\":0,\"ticks\":\"\"},\"colorscale\":[[0.0,\"#0d0887\"],[0.1111111111111111,\"#46039f\"],[0.2222222222222222,\"#7201a8\"],[0.3333333333333333,\"#9c179e\"],[0.4444444444444444,\"#bd3786\"],[0.5555555555555556,\"#d8576b\"],[0.6666666666666666,\"#ed7953\"],[0.7777777777777778,\"#fb9f3a\"],[0.8888888888888888,\"#fdca26\"],[1.0,\"#f0f921\"]]}],\"heatmap\":[{\"type\":\"heatmap\",\"colorbar\":{\"outlinewidth\":0,\"ticks\":\"\"},\"colorscale\":[[0.0,\"#0d0887\"],[0.1111111111111111,\"#46039f\"],[0.2222222222222222,\"#7201a8\"],[0.3333333333333333,\"#9c179e\"],[0.4444444444444444,\"#bd3786\"],[0.5555555555555556,\"#d8576b\"],[0.6666666666666666,\"#ed7953\"],[0.7777777777777778,\"#fb9f3a\"],[0.8888888888888888,\"#fdca26\"],[1.0,\"#f0f921\"]]}],\"heatmapgl\":[{\"type\":\"heatmapgl\",\"colorbar\":{\"outlinewidth\":0,\"ticks\":\"\"},\"colorscale\":[[0.0,\"#0d0887\"],[0.1111111111111111,\"#46039f\"],[0.2222222222222222,\"#7201a8\"],[0.3333333333333333,\"#9c179e\"],[0.4444444444444444,\"#bd3786\"],[0.5555555555555556,\"#d8576b\"],[0.6666666666666666,\"#ed7953\"],[0.7777777777777778,\"#fb9f3a\"],[0.8888888888888888,\"#fdca26\"],[1.0,\"#f0f921\"]]}],\"contourcarpet\":[{\"type\":\"contourcarpet\",\"colorbar\":{\"outlinewidth\":0,\"ticks\":\"\"}}],\"contour\":[{\"type\":\"contour\",\"colorbar\":{\"outlinewidth\":0,\"ticks\":\"\"},\"colorscale\":[[0.0,\"#0d0887\"],[0.1111111111111111,\"#46039f\"],[0.2222222222222222,\"#7201a8\"],[0.3333333333333333,\"#9c179e\"],[0.4444444444444444,\"#bd3786\"],[0.5555555555555556,\"#d8576b\"],[0.6666666666666666,\"#ed7953\"],[0.7777777777777778,\"#fb9f3a\"],[0.8888888888888888,\"#fdca26\"],[1.0,\"#f0f921\"]]}],\"surface\":[{\"type\":\"surface\",\"colorbar\":{\"outlinewidth\":0,\"ticks\":\"\"},\"colorscale\":[[0.0,\"#0d0887\"],[0.1111111111111111,\"#46039f\"],[0.2222222222222222,\"#7201a8\"],[0.3333333333333333,\"#9c179e\"],[0.4444444444444444,\"#bd3786\"],[0.5555555555555556,\"#d8576b\"],[0.6666666666666666,\"#ed7953\"],[0.7777777777777778,\"#fb9f3a\"],[0.8888888888888888,\"#fdca26\"],[1.0,\"#f0f921\"]]}],\"mesh3d\":[{\"type\":\"mesh3d\",\"colorbar\":{\"outlinewidth\":0,\"ticks\":\"\"}}],\"scatter\":[{\"fillpattern\":{\"fillmode\":\"overlay\",\"size\":10,\"solidity\":0.2},\"type\":\"scatter\"}],\"parcoords\":[{\"type\":\"parcoords\",\"line\":{\"colorbar\":{\"outlinewidth\":0,\"ticks\":\"\"}}}],\"scatterpolargl\":[{\"type\":\"scatterpolargl\",\"marker\":{\"colorbar\":{\"outlinewidth\":0,\"ticks\":\"\"}}}],\"bar\":[{\"error_x\":{\"color\":\"#2a3f5f\"},\"error_y\":{\"color\":\"#2a3f5f\"},\"marker\":{\"line\":{\"color\":\"#E5ECF6\",\"width\":0.5},\"pattern\":{\"fillmode\":\"overlay\",\"size\":10,\"solidity\":0.2}},\"type\":\"bar\"}],\"scattergeo\":[{\"type\":\"scattergeo\",\"marker\":{\"colorbar\":{\"outlinewidth\":0,\"ticks\":\"\"}}}],\"scatterpolar\":[{\"type\":\"scatterpolar\",\"marker\":{\"colorbar\":{\"outlinewidth\":0,\"ticks\":\"\"}}}],\"histogram\":[{\"marker\":{\"pattern\":{\"fillmode\":\"overlay\",\"size\":10,\"solidity\":0.2}},\"type\":\"histogram\"}],\"scattergl\":[{\"type\":\"scattergl\",\"marker\":{\"colorbar\":{\"outlinewidth\":0,\"ticks\":\"\"}}}],\"scatter3d\":[{\"type\":\"scatter3d\",\"line\":{\"colorbar\":{\"outlinewidth\":0,\"ticks\":\"\"}},\"marker\":{\"colorbar\":{\"outlinewidth\":0,\"ticks\":\"\"}}}],\"scattermapbox\":[{\"type\":\"scattermapbox\",\"marker\":{\"colorbar\":{\"outlinewidth\":0,\"ticks\":\"\"}}}],\"scatterternary\":[{\"type\":\"scatterternary\",\"marker\":{\"colorbar\":{\"outlinewidth\":0,\"ticks\":\"\"}}}],\"scattercarpet\":[{\"type\":\"scattercarpet\",\"marker\":{\"colorbar\":{\"outlinewidth\":0,\"ticks\":\"\"}}}],\"carpet\":[{\"aaxis\":{\"endlinecolor\":\"#2a3f5f\",\"gridcolor\":\"white\",\"linecolor\":\"white\",\"minorgridcolor\":\"white\",\"startlinecolor\":\"#2a3f5f\"},\"baxis\":{\"endlinecolor\":\"#2a3f5f\",\"gridcolor\":\"white\",\"linecolor\":\"white\",\"minorgridcolor\":\"white\",\"startlinecolor\":\"#2a3f5f\"},\"type\":\"carpet\"}],\"table\":[{\"cells\":{\"fill\":{\"color\":\"#EBF0F8\"},\"line\":{\"color\":\"white\"}},\"header\":{\"fill\":{\"color\":\"#C8D4E3\"},\"line\":{\"color\":\"white\"}},\"type\":\"table\"}],\"barpolar\":[{\"marker\":{\"line\":{\"color\":\"#E5ECF6\",\"width\":0.5},\"pattern\":{\"fillmode\":\"overlay\",\"size\":10,\"solidity\":0.2}},\"type\":\"barpolar\"}],\"pie\":[{\"automargin\":true,\"type\":\"pie\"}]},\"layout\":{\"autotypenumbers\":\"strict\",\"colorway\":[\"#636efa\",\"#EF553B\",\"#00cc96\",\"#ab63fa\",\"#FFA15A\",\"#19d3f3\",\"#FF6692\",\"#B6E880\",\"#FF97FF\",\"#FECB52\"],\"font\":{\"color\":\"#2a3f5f\"},\"hovermode\":\"closest\",\"hoverlabel\":{\"align\":\"left\"},\"paper_bgcolor\":\"white\",\"plot_bgcolor\":\"#E5ECF6\",\"polar\":{\"bgcolor\":\"#E5ECF6\",\"angularaxis\":{\"gridcolor\":\"white\",\"linecolor\":\"white\",\"ticks\":\"\"},\"radialaxis\":{\"gridcolor\":\"white\",\"linecolor\":\"white\",\"ticks\":\"\"}},\"ternary\":{\"bgcolor\":\"#E5ECF6\",\"aaxis\":{\"gridcolor\":\"white\",\"linecolor\":\"white\",\"ticks\":\"\"},\"baxis\":{\"gridcolor\":\"white\",\"linecolor\":\"white\",\"ticks\":\"\"},\"caxis\":{\"gridcolor\":\"white\",\"linecolor\":\"white\",\"ticks\":\"\"}},\"coloraxis\":{\"colorbar\":{\"outlinewidth\":0,\"ticks\":\"\"}},\"colorscale\":{\"sequential\":[[0.0,\"#0d0887\"],[0.1111111111111111,\"#46039f\"],[0.2222222222222222,\"#7201a8\"],[0.3333333333333333,\"#9c179e\"],[0.4444444444444444,\"#bd3786\"],[0.5555555555555556,\"#d8576b\"],[0.6666666666666666,\"#ed7953\"],[0.7777777777777778,\"#fb9f3a\"],[0.8888888888888888,\"#fdca26\"],[1.0,\"#f0f921\"]],\"sequentialminus\":[[0.0,\"#0d0887\"],[0.1111111111111111,\"#46039f\"],[0.2222222222222222,\"#7201a8\"],[0.3333333333333333,\"#9c179e\"],[0.4444444444444444,\"#bd3786\"],[0.5555555555555556,\"#d8576b\"],[0.6666666666666666,\"#ed7953\"],[0.7777777777777778,\"#fb9f3a\"],[0.8888888888888888,\"#fdca26\"],[1.0,\"#f0f921\"]],\"diverging\":[[0,\"#8e0152\"],[0.1,\"#c51b7d\"],[0.2,\"#de77ae\"],[0.3,\"#f1b6da\"],[0.4,\"#fde0ef\"],[0.5,\"#f7f7f7\"],[0.6,\"#e6f5d0\"],[0.7,\"#b8e186\"],[0.8,\"#7fbc41\"],[0.9,\"#4d9221\"],[1,\"#276419\"]]},\"xaxis\":{\"gridcolor\":\"white\",\"linecolor\":\"white\",\"ticks\":\"\",\"title\":{\"standoff\":15},\"zerolinecolor\":\"white\",\"automargin\":true,\"zerolinewidth\":2},\"yaxis\":{\"gridcolor\":\"white\",\"linecolor\":\"white\",\"ticks\":\"\",\"title\":{\"standoff\":15},\"zerolinecolor\":\"white\",\"automargin\":true,\"zerolinewidth\":2},\"scene\":{\"xaxis\":{\"backgroundcolor\":\"#E5ECF6\",\"gridcolor\":\"white\",\"linecolor\":\"white\",\"showbackground\":true,\"ticks\":\"\",\"zerolinecolor\":\"white\",\"gridwidth\":2},\"yaxis\":{\"backgroundcolor\":\"#E5ECF6\",\"gridcolor\":\"white\",\"linecolor\":\"white\",\"showbackground\":true,\"ticks\":\"\",\"zerolinecolor\":\"white\",\"gridwidth\":2},\"zaxis\":{\"backgroundcolor\":\"#E5ECF6\",\"gridcolor\":\"white\",\"linecolor\":\"white\",\"showbackground\":true,\"ticks\":\"\",\"zerolinecolor\":\"white\",\"gridwidth\":2}},\"shapedefaults\":{\"line\":{\"color\":\"#2a3f5f\"}},\"annotationdefaults\":{\"arrowcolor\":\"#2a3f5f\",\"arrowhead\":0,\"arrowwidth\":1},\"geo\":{\"bgcolor\":\"white\",\"landcolor\":\"#E5ECF6\",\"subunitcolor\":\"white\",\"showland\":true,\"showlakes\":true,\"lakecolor\":\"white\"},\"title\":{\"x\":0.05},\"mapbox\":{\"style\":\"light\"}}},\"xaxis\":{\"anchor\":\"y\",\"domain\":[0.0,1.0],\"title\":{\"text\":\"Nombre Ubicaci\\u00f3n\"},\"categoryorder\":\"array\",\"categoryarray\":[\"PISHUINCO\",\"CURI\\u00d1ANCO\",\"HUELLELHUE\",\"LAS GAVIOTAS\",\"NIEBLA-LOS MOLINOS\",\"PUNUCAPA\",\"SAN IGNACIO-PLAYA ROSADA\",\"TRES ESPINOS\",\"VILLA CAYUMAPU\",\"EL ARENAL SANTA ELVIRA\",\"PAILLAO\",\"CABO BLANCO\",\"EL ARENAL KM 2\",\"Chabelita\"]},\"yaxis\":{\"anchor\":\"x\",\"domain\":[0.0,1.0],\"title\":{\"text\":\"Beneficiarios\"}},\"legend\":{\"title\":{\"text\":\"Nombre Ubicaci\\u00f3n\"},\"tracegroupgap\":0},\"title\":{\"text\":\"Beneficiarios por sector de instalaci\\u00f3n de APR\"},\"barmode\":\"relative\"},                        {\"responsive\": true}                    ).then(function(){\n",
       "                            \n",
       "var gd = document.getElementById('381080bb-b0c0-4153-863a-2105818f0dba');\n",
       "var x = new MutationObserver(function (mutations, observer) {{\n",
       "        var display = window.getComputedStyle(gd).display;\n",
       "        if (!display || display === 'none') {{\n",
       "            console.log([gd, 'removed!']);\n",
       "            Plotly.purge(gd);\n",
       "            observer.disconnect();\n",
       "        }}\n",
       "}});\n",
       "\n",
       "// Listen for the removal of the full notebook cells\n",
       "var notebookContainer = gd.closest('#notebook-container');\n",
       "if (notebookContainer) {{\n",
       "    x.observe(notebookContainer, {childList: true});\n",
       "}}\n",
       "\n",
       "// Listen for the clearing of the current output cell\n",
       "var outputEl = gd.closest('.output');\n",
       "if (outputEl) {{\n",
       "    x.observe(outputEl, {childList: true});\n",
       "}}\n",
       "\n",
       "                        })                };                });            </script>        </div>"
      ]
     },
     "metadata": {},
     "output_type": "display_data"
    }
   ],
   "source": [
    "import plotly.express as px\n",
    "#Aca estamos llamando al set de datos de la tabla,que viene precargado en la librería\n",
    "\n",
    "fig = px.bar(df, x=\"Nombre Ubicación\", y=\"Beneficiarios\",color=\"Nombre Ubicación\",\n",
    "             color_discrete_sequence=[\"green\", \"purple\", \"green\", \"red\", \"purple\",\"green\",\n",
    "                                      \"orange\", \"red\", \"red\", \"orange\", \"orange\", \"green\", \"orange\", \"green\"],title=\"Beneficiarios por sector de instalación de APR\")\n",
    "fig.show()\n"
   ]
  },
  {
   "cell_type": "code",
   "execution_count": null,
   "id": "0fde105a-e2eb-44cf-b7ee-b49c6c684c89",
   "metadata": {},
   "outputs": [],
   "source": []
  }
 ],
 "metadata": {
  "kernelspec": {
   "display_name": "Python 3 (ipykernel)",
   "language": "python",
   "name": "python3"
  },
  "language_info": {
   "codemirror_mode": {
    "name": "ipython",
    "version": 3
   },
   "file_extension": ".py",
   "mimetype": "text/x-python",
   "name": "python",
   "nbconvert_exporter": "python",
   "pygments_lexer": "ipython3",
   "version": "3.10.7"
  }
 },
 "nbformat": 4,
 "nbformat_minor": 5
}
