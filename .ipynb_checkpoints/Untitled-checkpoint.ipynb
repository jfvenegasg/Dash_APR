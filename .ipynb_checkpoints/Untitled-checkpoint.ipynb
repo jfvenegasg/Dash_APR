{
 "cells": [
  {
   "cell_type": "markdown",
   "id": "a592d45c-29a9-4137-ac4b-819584663ce5",
   "metadata": {},
   "source": [
    "# Análisis geográfico en Jupyterlab para sistemas de agua potable rural en la región de los Ríos"
   ]
  },
  {
   "cell_type": "markdown",
   "id": "5e8c3342-5d26-4978-ad10-103dcb08c412",
   "metadata": {},
   "source": [
    "<center>\n",
    "<img src=https://coprofam.org/wp-content/uploads/2022/02/Llave-de-agua.jpeg width=\"800\" height=\"600\">"
   ]
  },
  {
   "cell_type": "markdown",
   "id": "7e800537-65ff-4906-b76e-c1fc5247e7f5",
   "metadata": {},
   "source": [
    "<a id='Índice'></a>\n",
    "## Indice\n",
    "[Inicio ▲](#Indice)\n",
    "\n",
    "1. [Carga de librerias](#Carga-de-librerias)\n",
    "1. [Mapas](#Mapas)\n",
    "1. [Análisis de beneficiarios](#Análisis-de-beneficiarios)"
   ]
  },
  {
   "cell_type": "markdown",
   "id": "39ad4e0b-1b63-4b5b-8e19-5aeffff0ed38",
   "metadata": {},
   "source": [
    "<a id='Carga-de-librerias'></a>\n",
    "## Carga de librerias \n",
    "\n",
    "[Inicio ▲](#Indice)\n"
   ]
  },
  {
   "cell_type": "code",
   "execution_count": 1,
   "id": "488aadfe-8332-4a40-9b2c-d7ed80d93af2",
   "metadata": {},
   "outputs": [
    {
     "data": {
      "text/html": [
       "        <script type=\"text/javascript\">\n",
       "        window.PlotlyConfig = {MathJaxConfig: 'local'};\n",
       "        if (window.MathJax && window.MathJax.Hub && window.MathJax.Hub.Config) {window.MathJax.Hub.Config({SVG: {font: \"STIX-Web\"}});}\n",
       "        if (typeof require !== 'undefined') {\n",
       "        require.undef(\"plotly\");\n",
       "        requirejs.config({\n",
       "            paths: {\n",
       "                'plotly': ['https://cdn.plot.ly/plotly-2.14.0.min']\n",
       "            }\n",
       "        });\n",
       "        require(['plotly'], function(Plotly) {\n",
       "            window._Plotly = Plotly;\n",
       "        });\n",
       "        }\n",
       "        </script>\n",
       "        "
      ]
     },
     "metadata": {},
     "output_type": "display_data"
    }
   ],
   "source": [
    "# libreria para trabajar con mapas \n",
    "import folium \n",
    "import pandas as pd\n",
    "from folium import plugins\n",
    "\n",
    "import plotly.figure_factory as ff\n",
    "import plotly as plt\n",
    "import plotly.express as px\n",
    "plt.offline.init_notebook_mode(connected=True)"
   ]
  },
  {
   "cell_type": "markdown",
   "id": "f2a48aab-89c3-4556-9d72-ee19dd3cf3cc",
   "metadata": {},
   "source": [
    "<a id='Mapas'></a>\n",
    "## Mapas \n",
    "\n",
    "[Inicio ▲](#Indice)\n"
   ]
  },
  {
   "cell_type": "code",
   "execution_count": 2,
   "id": "578e22f7-afc3-472e-a125-64ee385e84c0",
   "metadata": {},
   "outputs": [
    {
     "data": {
      "text/html": [
       "<div style=\"width:100%;\"><div style=\"position:relative;width:100%;height:0;padding-bottom:60%;\"><span style=\"color:#565656\">Make this Notebook Trusted to load map: File -> Trust Notebook</span><iframe srcdoc=\"&lt;!DOCTYPE html&gt;\n",
       "&lt;head&gt;    \n",
       "    &lt;meta http-equiv=&quot;content-type&quot; content=&quot;text/html; charset=UTF-8&quot; /&gt;\n",
       "    \n",
       "        &lt;script&gt;\n",
       "            L_NO_TOUCH = false;\n",
       "            L_DISABLE_3D = false;\n",
       "        &lt;/script&gt;\n",
       "    \n",
       "    &lt;style&gt;html, body {width: 100%;height: 100%;margin: 0;padding: 0;}&lt;/style&gt;\n",
       "    &lt;style&gt;#map {position:absolute;top:0;bottom:0;right:0;left:0;}&lt;/style&gt;\n",
       "    &lt;script src=&quot;https://cdn.jsdelivr.net/npm/leaflet@1.6.0/dist/leaflet.js&quot;&gt;&lt;/script&gt;\n",
       "    &lt;script src=&quot;https://code.jquery.com/jquery-1.12.4.min.js&quot;&gt;&lt;/script&gt;\n",
       "    &lt;script src=&quot;https://maxcdn.bootstrapcdn.com/bootstrap/3.2.0/js/bootstrap.min.js&quot;&gt;&lt;/script&gt;\n",
       "    &lt;script src=&quot;https://cdnjs.cloudflare.com/ajax/libs/Leaflet.awesome-markers/2.0.2/leaflet.awesome-markers.js&quot;&gt;&lt;/script&gt;\n",
       "    &lt;link rel=&quot;stylesheet&quot; href=&quot;https://cdn.jsdelivr.net/npm/leaflet@1.6.0/dist/leaflet.css&quot;/&gt;\n",
       "    &lt;link rel=&quot;stylesheet&quot; href=&quot;https://maxcdn.bootstrapcdn.com/bootstrap/3.2.0/css/bootstrap.min.css&quot;/&gt;\n",
       "    &lt;link rel=&quot;stylesheet&quot; href=&quot;https://maxcdn.bootstrapcdn.com/bootstrap/3.2.0/css/bootstrap-theme.min.css&quot;/&gt;\n",
       "    &lt;link rel=&quot;stylesheet&quot; href=&quot;https://maxcdn.bootstrapcdn.com/font-awesome/4.6.3/css/font-awesome.min.css&quot;/&gt;\n",
       "    &lt;link rel=&quot;stylesheet&quot; href=&quot;https://cdnjs.cloudflare.com/ajax/libs/Leaflet.awesome-markers/2.0.2/leaflet.awesome-markers.css&quot;/&gt;\n",
       "    &lt;link rel=&quot;stylesheet&quot; href=&quot;https://cdn.jsdelivr.net/gh/python-visualization/folium/folium/templates/leaflet.awesome.rotate.min.css&quot;/&gt;\n",
       "    \n",
       "            &lt;meta name=&quot;viewport&quot; content=&quot;width=device-width,\n",
       "                initial-scale=1.0, maximum-scale=1.0, user-scalable=no&quot; /&gt;\n",
       "            &lt;style&gt;\n",
       "                #map_59bc51638dbaf11f34e440e667c7c971 {\n",
       "                    position: relative;\n",
       "                    width: 100.0%;\n",
       "                    height: 100.0%;\n",
       "                    left: 0.0%;\n",
       "                    top: 0.0%;\n",
       "                }\n",
       "            &lt;/style&gt;\n",
       "        \n",
       "    &lt;script src=&quot;https://cdnjs.cloudflare.com/ajax/libs/leaflet-minimap/3.6.1/Control.MiniMap.js&quot;&gt;&lt;/script&gt;\n",
       "    &lt;link rel=&quot;stylesheet&quot; href=&quot;https://cdnjs.cloudflare.com/ajax/libs/leaflet-minimap/3.6.1/Control.MiniMap.css&quot;/&gt;\n",
       "&lt;/head&gt;\n",
       "&lt;body&gt;    \n",
       "    \n",
       "            &lt;div class=&quot;folium-map&quot; id=&quot;map_59bc51638dbaf11f34e440e667c7c971&quot; &gt;&lt;/div&gt;\n",
       "        \n",
       "&lt;/body&gt;\n",
       "&lt;script&gt;    \n",
       "    \n",
       "            var map_59bc51638dbaf11f34e440e667c7c971 = L.map(\n",
       "                &quot;map_59bc51638dbaf11f34e440e667c7c971&quot;,\n",
       "                {\n",
       "                    center: [-39.925826, -73.114501],\n",
       "                    crs: L.CRS.EPSG3857,\n",
       "                    zoom: 10,\n",
       "                    zoomControl: true,\n",
       "                    preferCanvas: false,\n",
       "                }\n",
       "            );\n",
       "\n",
       "            \n",
       "\n",
       "        \n",
       "    \n",
       "            var tile_layer_7dafcacffe95d197ef1152c48b80ae70 = L.tileLayer(\n",
       "                &quot;https://{s}.tile.openstreetmap.org/{z}/{x}/{y}.png&quot;,\n",
       "                {&quot;attribution&quot;: &quot;Data by \\u0026copy; \\u003ca href=\\&quot;http://openstreetmap.org\\&quot;\\u003eOpenStreetMap\\u003c/a\\u003e, under \\u003ca href=\\&quot;http://www.openstreetmap.org/copyright\\&quot;\\u003eODbL\\u003c/a\\u003e.&quot;, &quot;detectRetina&quot;: false, &quot;maxNativeZoom&quot;: 18, &quot;maxZoom&quot;: 18, &quot;minZoom&quot;: 0, &quot;noWrap&quot;: false, &quot;opacity&quot;: 1, &quot;subdomains&quot;: &quot;abc&quot;, &quot;tms&quot;: false}\n",
       "            ).addTo(map_59bc51638dbaf11f34e440e667c7c971);\n",
       "        \n",
       "    \n",
       "            var marker_7277d6601ba16cd856080d954b7023f6 = L.marker(\n",
       "                [-39.8062305249, -73.0547464487],\n",
       "                {}\n",
       "            ).addTo(map_59bc51638dbaf11f34e440e667c7c971);\n",
       "        \n",
       "    \n",
       "            marker_7277d6601ba16cd856080d954b7023f6.bindTooltip(\n",
       "                `&lt;div&gt;\n",
       "                     PISHUINCO\n",
       "                 &lt;/div&gt;`,\n",
       "                {&quot;sticky&quot;: true}\n",
       "            );\n",
       "        \n",
       "    \n",
       "            var marker_57ae62e8be3eba3eb3bba64f951c0ae3 = L.marker(\n",
       "                [-39.7283824204, -73.3948919817],\n",
       "                {}\n",
       "            ).addTo(map_59bc51638dbaf11f34e440e667c7c971);\n",
       "        \n",
       "    \n",
       "            marker_57ae62e8be3eba3eb3bba64f951c0ae3.bindTooltip(\n",
       "                `&lt;div&gt;\n",
       "                     CURIÑANCO\n",
       "                 &lt;/div&gt;`,\n",
       "                {&quot;sticky&quot;: true}\n",
       "            );\n",
       "        \n",
       "    \n",
       "            var marker_610bc689406a3f19da5c21556083b936 = L.marker(\n",
       "                [-39.7930844112, -73.124067117],\n",
       "                {}\n",
       "            ).addTo(map_59bc51638dbaf11f34e440e667c7c971);\n",
       "        \n",
       "    \n",
       "            marker_610bc689406a3f19da5c21556083b936.bindTooltip(\n",
       "                `&lt;div&gt;\n",
       "                     HUELLELHUE\n",
       "                 &lt;/div&gt;`,\n",
       "                {&quot;sticky&quot;: true}\n",
       "            );\n",
       "        \n",
       "    \n",
       "            var marker_13db813760d768c31dbd6136b2a773e3 = L.marker(\n",
       "                [-39.8715639883, -73.1852346315],\n",
       "                {}\n",
       "            ).addTo(map_59bc51638dbaf11f34e440e667c7c971);\n",
       "        \n",
       "    \n",
       "            marker_13db813760d768c31dbd6136b2a773e3.bindTooltip(\n",
       "                `&lt;div&gt;\n",
       "                     LAS GAVIOTAS\n",
       "                 &lt;/div&gt;`,\n",
       "                {&quot;sticky&quot;: true}\n",
       "            );\n",
       "        \n",
       "    \n",
       "            var marker_65337619b3b7086a51d1eb5b951c3798 = L.marker(\n",
       "                [-39.8547751549, -73.3907718436],\n",
       "                {}\n",
       "            ).addTo(map_59bc51638dbaf11f34e440e667c7c971);\n",
       "        \n",
       "    \n",
       "            marker_65337619b3b7086a51d1eb5b951c3798.bindTooltip(\n",
       "                `&lt;div&gt;\n",
       "                     NIEBLA-LOS MOLINOS\n",
       "                 &lt;/div&gt;`,\n",
       "                {&quot;sticky&quot;: true}\n",
       "            );\n",
       "        \n",
       "    \n",
       "            var marker_60aa41362f563bf7e9b35cf0ed826430 = L.marker(\n",
       "                [-39.7603001637, -73.2705681336],\n",
       "                {}\n",
       "            ).addTo(map_59bc51638dbaf11f34e440e667c7c971);\n",
       "        \n",
       "    \n",
       "            marker_60aa41362f563bf7e9b35cf0ed826430.bindTooltip(\n",
       "                `&lt;div&gt;\n",
       "                     PUNUCAPA\n",
       "                 &lt;/div&gt;`,\n",
       "                {&quot;sticky&quot;: true}\n",
       "            );\n",
       "        \n",
       "    \n",
       "            var marker_91dbfc971321f0f631ca3124eee1948f = L.marker(\n",
       "                [-39.831480037, -73.4025892212],\n",
       "                {}\n",
       "            ).addTo(map_59bc51638dbaf11f34e440e667c7c971);\n",
       "        \n",
       "    \n",
       "            marker_91dbfc971321f0f631ca3124eee1948f.bindTooltip(\n",
       "                `&lt;div&gt;\n",
       "                     SAN IGNACIO-PLAYA ROSADA\n",
       "                 &lt;/div&gt;`,\n",
       "                {&quot;sticky&quot;: true}\n",
       "            );\n",
       "        \n",
       "    \n",
       "            var marker_8133aa54c569e34d6ecdea2c77a66643 = L.marker(\n",
       "                [-39.8649364171, -73.3728400295],\n",
       "                {}\n",
       "            ).addTo(map_59bc51638dbaf11f34e440e667c7c971);\n",
       "        \n",
       "    \n",
       "            marker_8133aa54c569e34d6ecdea2c77a66643.bindTooltip(\n",
       "                `&lt;div&gt;\n",
       "                     TRES ESPINOS\n",
       "                 &lt;/div&gt;`,\n",
       "                {&quot;sticky&quot;: true}\n",
       "            );\n",
       "        \n",
       "    \n",
       "            var marker_190bc2e2651d91c5b72cce6241b3e6ab = L.marker(\n",
       "                [-39.7314121294, -73.1091043702],\n",
       "                {}\n",
       "            ).addTo(map_59bc51638dbaf11f34e440e667c7c971);\n",
       "        \n",
       "    \n",
       "            marker_190bc2e2651d91c5b72cce6241b3e6ab.bindTooltip(\n",
       "                `&lt;div&gt;\n",
       "                     VILLA CAYUMAPU\n",
       "                 &lt;/div&gt;`,\n",
       "                {&quot;sticky&quot;: true}\n",
       "            );\n",
       "        \n",
       "    \n",
       "            var marker_e43c0dcae692693019c73063b6de8dad = L.marker(\n",
       "                [-39.772903642, -73.1970058325],\n",
       "                {}\n",
       "            ).addTo(map_59bc51638dbaf11f34e440e667c7c971);\n",
       "        \n",
       "    \n",
       "            marker_e43c0dcae692693019c73063b6de8dad.bindTooltip(\n",
       "                `&lt;div&gt;\n",
       "                     EL ARENAL SANTA ELVIRA\n",
       "                 &lt;/div&gt;`,\n",
       "                {&quot;sticky&quot;: true}\n",
       "            );\n",
       "        \n",
       "    \n",
       "            var marker_0aa508353d88cd06e3fb06a236f39956 = L.marker(\n",
       "                [-39.8673123199, -73.2088638403],\n",
       "                {}\n",
       "            ).addTo(map_59bc51638dbaf11f34e440e667c7c971);\n",
       "        \n",
       "    \n",
       "            marker_0aa508353d88cd06e3fb06a236f39956.bindTooltip(\n",
       "                `&lt;div&gt;\n",
       "                     PAILLAO\n",
       "                 &lt;/div&gt;`,\n",
       "                {&quot;sticky&quot;: true}\n",
       "            );\n",
       "        \n",
       "    \n",
       "            var marker_13e8781f47a900ec82a1efba62dccc6f = L.marker(\n",
       "                [-39.7802702288, -73.2412708338],\n",
       "                {}\n",
       "            ).addTo(map_59bc51638dbaf11f34e440e667c7c971);\n",
       "        \n",
       "    \n",
       "            marker_13e8781f47a900ec82a1efba62dccc6f.bindTooltip(\n",
       "                `&lt;div&gt;\n",
       "                     CABO BLANCO\n",
       "                 &lt;/div&gt;`,\n",
       "                {&quot;sticky&quot;: true}\n",
       "            );\n",
       "        \n",
       "    \n",
       "            var marker_213526efb36f289d48eecce48fe18942 = L.marker(\n",
       "                [-39.7737197231, -73.2102553189],\n",
       "                {}\n",
       "            ).addTo(map_59bc51638dbaf11f34e440e667c7c971);\n",
       "        \n",
       "    \n",
       "            marker_213526efb36f289d48eecce48fe18942.bindTooltip(\n",
       "                `&lt;div&gt;\n",
       "                     EL ARENAL KM 2\n",
       "                 &lt;/div&gt;`,\n",
       "                {&quot;sticky&quot;: true}\n",
       "            );\n",
       "        \n",
       "    \n",
       "            var marker_458035342596e33af3549b0727dc4095 = L.marker(\n",
       "                [-39.7772055631, -73.3135380035],\n",
       "                {}\n",
       "            ).addTo(map_59bc51638dbaf11f34e440e667c7c971);\n",
       "        \n",
       "    \n",
       "            marker_458035342596e33af3549b0727dc4095.bindTooltip(\n",
       "                `&lt;div&gt;\n",
       "                     Chabelita\n",
       "                 &lt;/div&gt;`,\n",
       "                {&quot;sticky&quot;: true}\n",
       "            );\n",
       "        \n",
       "    \n",
       "            var marker_3266a38637b898bc83570f357f9a755c = L.marker(\n",
       "                [-40.1296581637, -72.7254940272],\n",
       "                {}\n",
       "            ).addTo(map_59bc51638dbaf11f34e440e667c7c971);\n",
       "        \n",
       "    \n",
       "            marker_3266a38637b898bc83570f357f9a755c.bindTooltip(\n",
       "                `&lt;div&gt;\n",
       "                     ARCO IRIS\n",
       "                 &lt;/div&gt;`,\n",
       "                {&quot;sticky&quot;: true}\n",
       "            );\n",
       "        \n",
       "    \n",
       "            var marker_13641b2fd07b6b239017c6726858e008 = L.marker(\n",
       "                [-40.0676228293, -72.6179175677],\n",
       "                {}\n",
       "            ).addTo(map_59bc51638dbaf11f34e440e667c7c971);\n",
       "        \n",
       "    \n",
       "            marker_13641b2fd07b6b239017c6726858e008.bindTooltip(\n",
       "                `&lt;div&gt;\n",
       "                     EL LLOLLY\n",
       "                 &lt;/div&gt;`,\n",
       "                {&quot;sticky&quot;: true}\n",
       "            );\n",
       "        \n",
       "    \n",
       "            var marker_9811a0e9be03efd166750511682c8d12 = L.marker(\n",
       "                [-40.1515807831, -72.8962419781],\n",
       "                {}\n",
       "            ).addTo(map_59bc51638dbaf11f34e440e667c7c971);\n",
       "        \n",
       "    \n",
       "            marker_9811a0e9be03efd166750511682c8d12.bindTooltip(\n",
       "                `&lt;div&gt;\n",
       "                     PICHIRROPULLI\n",
       "                 &lt;/div&gt;`,\n",
       "                {&quot;sticky&quot;: true}\n",
       "            );\n",
       "        \n",
       "    \n",
       "            var marker_a52d8244d8c9277d8d1ccbbe44558b23 = L.marker(\n",
       "                [-39.9784746305, -72.8320348617],\n",
       "                {}\n",
       "            ).addTo(map_59bc51638dbaf11f34e440e667c7c971);\n",
       "        \n",
       "    \n",
       "            marker_a52d8244d8c9277d8d1ccbbe44558b23.bindTooltip(\n",
       "                `&lt;div&gt;\n",
       "                     REUMEN\n",
       "                 &lt;/div&gt;`,\n",
       "                {&quot;sticky&quot;: true}\n",
       "            );\n",
       "        \n",
       "    \n",
       "            var marker_2868971005f65162c7d684b701ffe566 = L.marker(\n",
       "                [-40.1233358588, -72.6748177353],\n",
       "                {}\n",
       "            ).addTo(map_59bc51638dbaf11f34e440e667c7c971);\n",
       "        \n",
       "    \n",
       "            marker_2868971005f65162c7d684b701ffe566.bindTooltip(\n",
       "                `&lt;div&gt;\n",
       "                     SANTA FILOMENA\n",
       "                 &lt;/div&gt;`,\n",
       "                {&quot;sticky&quot;: true}\n",
       "            );\n",
       "        \n",
       "    \n",
       "            var marker_a0cb402baee1aca3ed682f82fc30225c = L.marker(\n",
       "                [-40.0949272285, -72.8333381781],\n",
       "                {}\n",
       "            ).addTo(map_59bc51638dbaf11f34e440e667c7c971);\n",
       "        \n",
       "    \n",
       "            marker_a0cb402baee1aca3ed682f82fc30225c.bindTooltip(\n",
       "                `&lt;div&gt;\n",
       "                     MANAO\n",
       "                 &lt;/div&gt;`,\n",
       "                {&quot;sticky&quot;: true}\n",
       "            );\n",
       "        \n",
       "    \n",
       "            var marker_66fe6f506d85982f9f147ab9d78ae091 = L.marker(\n",
       "                [-40.1805296564, -72.5619049938],\n",
       "                {}\n",
       "            ).addTo(map_59bc51638dbaf11f34e440e667c7c971);\n",
       "        \n",
       "    \n",
       "            marker_66fe6f506d85982f9f147ab9d78ae091.bindTooltip(\n",
       "                `&lt;div&gt;\n",
       "                     SANTA ROSA CHICA\n",
       "                 &lt;/div&gt;`,\n",
       "                {&quot;sticky&quot;: true}\n",
       "            );\n",
       "        \n",
       "    \n",
       "            var marker_a86cb5ede15f0e6aee0a616cd3134cbe = L.marker(\n",
       "                [-40.1380925113, -72.5825449417],\n",
       "                {}\n",
       "            ).addTo(map_59bc51638dbaf11f34e440e667c7c971);\n",
       "        \n",
       "    \n",
       "            marker_a86cb5ede15f0e6aee0a616cd3134cbe.bindTooltip(\n",
       "                `&lt;div&gt;\n",
       "                     SANTA ROSA GRANDE\n",
       "                 &lt;/div&gt;`,\n",
       "                {&quot;sticky&quot;: true}\n",
       "            );\n",
       "        \n",
       "    \n",
       "            var marker_2d739bf503995c09241382eb48dc8e40 = L.marker(\n",
       "                [-40.0154940534, -72.7914597178],\n",
       "                {}\n",
       "            ).addTo(map_59bc51638dbaf11f34e440e667c7c971);\n",
       "        \n",
       "    \n",
       "            marker_2d739bf503995c09241382eb48dc8e40.bindTooltip(\n",
       "                `&lt;div&gt;\n",
       "                     LUMACO PAILLACO\n",
       "                 &lt;/div&gt;`,\n",
       "                {&quot;sticky&quot;: true}\n",
       "            );\n",
       "        \n",
       "    \n",
       "            var marker_5f97d008b9bdf5faa57a8eb4b305c1b5 = L.marker(\n",
       "                [-40.0746752187, -72.6747765849],\n",
       "                {}\n",
       "            ).addTo(map_59bc51638dbaf11f34e440e667c7c971);\n",
       "        \n",
       "    \n",
       "            marker_5f97d008b9bdf5faa57a8eb4b305c1b5.bindTooltip(\n",
       "                `&lt;div&gt;\n",
       "                     EL MAITEN\n",
       "                 &lt;/div&gt;`,\n",
       "                {&quot;sticky&quot;: true}\n",
       "            );\n",
       "        \n",
       "    \n",
       "            var marker_cab4bec6b401e425e68937aa15ae6ac4 = L.marker(\n",
       "                [-40.1221748177, -72.6855485214],\n",
       "                {}\n",
       "            ).addTo(map_59bc51638dbaf11f34e440e667c7c971);\n",
       "        \n",
       "    \n",
       "            marker_cab4bec6b401e425e68937aa15ae6ac4.bindTooltip(\n",
       "                `&lt;div&gt;\n",
       "                     SANTA FILOMENA II\n",
       "                 &lt;/div&gt;`,\n",
       "                {&quot;sticky&quot;: true}\n",
       "            );\n",
       "        \n",
       "    \n",
       "            var marker_9968baadaac68e005727e97d6345a3f2 = L.marker(\n",
       "                [-39.8074856345, -72.9572455712],\n",
       "                {}\n",
       "            ).addTo(map_59bc51638dbaf11f34e440e667c7c971);\n",
       "        \n",
       "    \n",
       "            marker_9968baadaac68e005727e97d6345a3f2.bindTooltip(\n",
       "                `&lt;div&gt;\n",
       "                     ANTILHUE\n",
       "                 &lt;/div&gt;`,\n",
       "                {&quot;sticky&quot;: true}\n",
       "            );\n",
       "        \n",
       "    \n",
       "            var marker_43b6b933dde8186a88afc71fd31a16d0 = L.marker(\n",
       "                [-39.8710682914, -72.6678013129],\n",
       "                {}\n",
       "            ).addTo(map_59bc51638dbaf11f34e440e667c7c971);\n",
       "        \n",
       "    \n",
       "            marker_43b6b933dde8186a88afc71fd31a16d0.bindTooltip(\n",
       "                `&lt;div&gt;\n",
       "                     FOLILCO LOS LAGOS\n",
       "                 &lt;/div&gt;`,\n",
       "                {&quot;sticky&quot;: true}\n",
       "            );\n",
       "        \n",
       "    \n",
       "            var marker_276f8bb63bd1a1ad8ed1b5a204c8cfd6 = L.marker(\n",
       "                [-39.9084433218, -72.5733916686],\n",
       "                {}\n",
       "            ).addTo(map_59bc51638dbaf11f34e440e667c7c971);\n",
       "        \n",
       "    \n",
       "            marker_276f8bb63bd1a1ad8ed1b5a204c8cfd6.bindTooltip(\n",
       "                `&lt;div&gt;\n",
       "                     QUILQUILCO\n",
       "                 &lt;/div&gt;`,\n",
       "                {&quot;sticky&quot;: true}\n",
       "            );\n",
       "        \n",
       "    \n",
       "            var marker_70d0ff4d4bc3ca5459d2f55aaf7055d4 = L.marker(\n",
       "                [-39.8171126188, -72.4425065285],\n",
       "                {}\n",
       "            ).addTo(map_59bc51638dbaf11f34e440e667c7c971);\n",
       "        \n",
       "    \n",
       "            marker_70d0ff4d4bc3ca5459d2f55aaf7055d4.bindTooltip(\n",
       "                `&lt;div&gt;\n",
       "                     RIÑIHUE\n",
       "                 &lt;/div&gt;`,\n",
       "                {&quot;sticky&quot;: true}\n",
       "            );\n",
       "        \n",
       "    \n",
       "            var marker_6c680e417972d1900b879816dac1b706 = L.marker(\n",
       "                [-39.7751787818, -72.6519491619],\n",
       "                {}\n",
       "            ).addTo(map_59bc51638dbaf11f34e440e667c7c971);\n",
       "        \n",
       "    \n",
       "            marker_6c680e417972d1900b879816dac1b706.bindTooltip(\n",
       "                `&lt;div&gt;\n",
       "                     USTARITZ\n",
       "                 &lt;/div&gt;`,\n",
       "                {&quot;sticky&quot;: true}\n",
       "            );\n",
       "        \n",
       "    \n",
       "            var marker_00b4e66854d333240e9219c61cdea7e1 = L.marker(\n",
       "                [-39.9987530843, -72.7108188025],\n",
       "                {}\n",
       "            ).addTo(map_59bc51638dbaf11f34e440e667c7c971);\n",
       "        \n",
       "    \n",
       "            marker_00b4e66854d333240e9219c61cdea7e1.bindTooltip(\n",
       "                `&lt;div&gt;\n",
       "                     EL SALTO\n",
       "                 &lt;/div&gt;`,\n",
       "                {&quot;sticky&quot;: true}\n",
       "            );\n",
       "        \n",
       "    \n",
       "            var marker_abe64f1ac6c73d46f9a7ac4aaa585dab = L.marker(\n",
       "                [-40.0154665081, -72.5215180883],\n",
       "                {}\n",
       "            ).addTo(map_59bc51638dbaf11f34e440e667c7c971);\n",
       "        \n",
       "    \n",
       "            marker_abe64f1ac6c73d46f9a7ac4aaa585dab.bindTooltip(\n",
       "                `&lt;div&gt;\n",
       "                     PELLINADA LAS QUINIENTAS\n",
       "                 &lt;/div&gt;`,\n",
       "                {&quot;sticky&quot;: true}\n",
       "            );\n",
       "        \n",
       "    \n",
       "            var marker_646be434917c43fb3f15398dfa3caf6c = L.marker(\n",
       "                [-39.8526730412, -72.7929315347],\n",
       "                {}\n",
       "            ).addTo(map_59bc51638dbaf11f34e440e667c7c971);\n",
       "        \n",
       "    \n",
       "            marker_646be434917c43fb3f15398dfa3caf6c.bindTooltip(\n",
       "                `&lt;div&gt;\n",
       "                     PANCUL\n",
       "                 &lt;/div&gt;`,\n",
       "                {&quot;sticky&quot;: true}\n",
       "            );\n",
       "        \n",
       "    \n",
       "            var marker_e801b510ed3f30ee5f822ed53845f114 = L.marker(\n",
       "                [-39.8705154943, -72.781619174],\n",
       "                {}\n",
       "            ).addTo(map_59bc51638dbaf11f34e440e667c7c971);\n",
       "        \n",
       "    \n",
       "            marker_e801b510ed3f30ee5f822ed53845f114.bindTooltip(\n",
       "                `&lt;div&gt;\n",
       "                     LOS COLIGÜES\n",
       "                 &lt;/div&gt;`,\n",
       "                {&quot;sticky&quot;: true}\n",
       "            );\n",
       "        \n",
       "    \n",
       "            var marker_697b11000b1937dbfdcc79a484f31901 = L.marker(\n",
       "                [-39.8817714432, -72.6708273322],\n",
       "                {}\n",
       "            ).addTo(map_59bc51638dbaf11f34e440e667c7c971);\n",
       "        \n",
       "    \n",
       "            marker_697b11000b1937dbfdcc79a484f31901.bindTooltip(\n",
       "                `&lt;div&gt;\n",
       "                     COLO COLO\n",
       "                 &lt;/div&gt;`,\n",
       "                {&quot;sticky&quot;: true}\n",
       "            );\n",
       "        \n",
       "    \n",
       "            var marker_e00bdca194c60aaa5cddc6821033784a = L.marker(\n",
       "                [-39.9027809062, -72.5930946759],\n",
       "                {}\n",
       "            ).addTo(map_59bc51638dbaf11f34e440e667c7c971);\n",
       "        \n",
       "    \n",
       "            marker_e00bdca194c60aaa5cddc6821033784a.bindTooltip(\n",
       "                `&lt;div&gt;\n",
       "                     LAS HUELLLAS\n",
       "                 &lt;/div&gt;`,\n",
       "                {&quot;sticky&quot;: true}\n",
       "            );\n",
       "        \n",
       "    \n",
       "            var marker_2afb46a5711b92903a5309646511cc70 = L.marker(\n",
       "                [-39.8171525324, -72.6981700465],\n",
       "                {}\n",
       "            ).addTo(map_59bc51638dbaf11f34e440e667c7c971);\n",
       "        \n",
       "    \n",
       "            marker_2afb46a5711b92903a5309646511cc70.bindTooltip(\n",
       "                `&lt;div&gt;\n",
       "                     San Pedro\n",
       "                 &lt;/div&gt;`,\n",
       "                {&quot;sticky&quot;: true}\n",
       "            );\n",
       "        \n",
       "    \n",
       "            var marker_bc6f1f89956b3412c9893a51fc84fcd6 = L.marker(\n",
       "                [-39.9151109593, -72.78974687],\n",
       "                {}\n",
       "            ).addTo(map_59bc51638dbaf11f34e440e667c7c971);\n",
       "        \n",
       "    \n",
       "            marker_bc6f1f89956b3412c9893a51fc84fcd6.bindTooltip(\n",
       "                `&lt;div&gt;\n",
       "                     Lipingue\n",
       "                 &lt;/div&gt;`,\n",
       "                {&quot;sticky&quot;: true}\n",
       "            );\n",
       "        \n",
       "    \n",
       "            var marker_38da52bfcc41edbd9c6eafcb92a3b380 = L.marker(\n",
       "                [-39.9809683663, -72.7929665382],\n",
       "                {}\n",
       "            ).addTo(map_59bc51638dbaf11f34e440e667c7c971);\n",
       "        \n",
       "    \n",
       "            marker_38da52bfcc41edbd9c6eafcb92a3b380.bindTooltip(\n",
       "                `&lt;div&gt;\n",
       "                     El Trebol\n",
       "                 &lt;/div&gt;`,\n",
       "                {&quot;sticky&quot;: true}\n",
       "            );\n",
       "        \n",
       "    \n",
       "            var marker_c790569bb0ed8d0200564a6b52eb5f38 = L.marker(\n",
       "                [-39.891383155, -72.7942956633],\n",
       "                {}\n",
       "            ).addTo(map_59bc51638dbaf11f34e440e667c7c971);\n",
       "        \n",
       "    \n",
       "            marker_c790569bb0ed8d0200564a6b52eb5f38.bindTooltip(\n",
       "                `&lt;div&gt;\n",
       "                     Collico Sur\n",
       "                 &lt;/div&gt;`,\n",
       "                {&quot;sticky&quot;: true}\n",
       "            );\n",
       "        \n",
       "    \n",
       "            var marker_d4e5b6dba13993fce26a2ec28d291bdd = L.marker(\n",
       "                [-39.854954476, -72.6609940373],\n",
       "                {}\n",
       "            ).addTo(map_59bc51638dbaf11f34e440e667c7c971);\n",
       "        \n",
       "    \n",
       "            marker_d4e5b6dba13993fce26a2ec28d291bdd.bindTooltip(\n",
       "                `&lt;div&gt;\n",
       "                     Mi Tierra\n",
       "                 &lt;/div&gt;`,\n",
       "                {&quot;sticky&quot;: true}\n",
       "            );\n",
       "        \n",
       "    \n",
       "            var marker_375b8cebb7db7c07d2cd5eca46a4b22c = L.marker(\n",
       "                [-39.8597946179, -72.7236128048],\n",
       "                {}\n",
       "            ).addTo(map_59bc51638dbaf11f34e440e667c7c971);\n",
       "        \n",
       "    \n",
       "            marker_375b8cebb7db7c07d2cd5eca46a4b22c.bindTooltip(\n",
       "                `&lt;div&gt;\n",
       "                     Puñaco\n",
       "                 &lt;/div&gt;`,\n",
       "                {&quot;sticky&quot;: true}\n",
       "            );\n",
       "        \n",
       "    \n",
       "            var marker_30a384c0c62906cd8d8a1494eee7dd70 = L.marker(\n",
       "                [-39.8183071179, -72.8753063555],\n",
       "                {}\n",
       "            ).addTo(map_59bc51638dbaf11f34e440e667c7c971);\n",
       "        \n",
       "    \n",
       "            marker_30a384c0c62906cd8d8a1494eee7dd70.bindTooltip(\n",
       "                `&lt;div&gt;\n",
       "                     Purey\n",
       "                 &lt;/div&gt;`,\n",
       "                {&quot;sticky&quot;: true}\n",
       "            );\n",
       "        \n",
       "    \n",
       "            var marker_3b3ad686d4d238e638ba0ea2336eda23 = L.marker(\n",
       "                [-39.8631470531, -73.4340874604],\n",
       "                {}\n",
       "            ).addTo(map_59bc51638dbaf11f34e440e667c7c971);\n",
       "        \n",
       "    \n",
       "            marker_3b3ad686d4d238e638ba0ea2336eda23.bindTooltip(\n",
       "                `&lt;div&gt;\n",
       "                     AMARGO-SAN CARLOS\n",
       "                 &lt;/div&gt;`,\n",
       "                {&quot;sticky&quot;: true}\n",
       "            );\n",
       "        \n",
       "    \n",
       "            var marker_78e5615307e9e138bd287d078898384d = L.marker(\n",
       "                [-39.8754350487, -73.3587930086],\n",
       "                {}\n",
       "            ).addTo(map_59bc51638dbaf11f34e440e667c7c971);\n",
       "        \n",
       "    \n",
       "            marker_78e5615307e9e138bd287d078898384d.bindTooltip(\n",
       "                `&lt;div&gt;\n",
       "                     ISLA DEL REY\n",
       "                 &lt;/div&gt;`,\n",
       "                {&quot;sticky&quot;: true}\n",
       "            );\n",
       "        \n",
       "    \n",
       "            var marker_44bbd1d05bd55e1cb946ab596686edcf = L.marker(\n",
       "                [-39.8905057848, -73.3917808877],\n",
       "                {}\n",
       "            ).addTo(map_59bc51638dbaf11f34e440e667c7c971);\n",
       "        \n",
       "    \n",
       "            marker_44bbd1d05bd55e1cb946ab596686edcf.bindTooltip(\n",
       "                `&lt;div&gt;\n",
       "                     ISLA MANCERA\n",
       "                 &lt;/div&gt;`,\n",
       "                {&quot;sticky&quot;: true}\n",
       "            );\n",
       "        \n",
       "    \n",
       "            var marker_800f5ad96ee704ccd4692cede0817528 = L.marker(\n",
       "                [-39.8964415368, -73.417776163],\n",
       "                {}\n",
       "            ).addTo(map_59bc51638dbaf11f34e440e667c7c971);\n",
       "        \n",
       "    \n",
       "            marker_800f5ad96ee704ccd4692cede0817528.bindTooltip(\n",
       "                `&lt;div&gt;\n",
       "                     LA AGUADA\n",
       "                 &lt;/div&gt;`,\n",
       "                {&quot;sticky&quot;: true}\n",
       "            );\n",
       "        \n",
       "    \n",
       "            var marker_5f0ee9131609694496843a2785ec44df = L.marker(\n",
       "                [-39.9656281859, -73.6194983481],\n",
       "                {}\n",
       "            ).addTo(map_59bc51638dbaf11f34e440e667c7c971);\n",
       "        \n",
       "    \n",
       "            marker_5f0ee9131609694496843a2785ec44df.bindTooltip(\n",
       "                `&lt;div&gt;\n",
       "                     CHAIHUIN\n",
       "                 &lt;/div&gt;`,\n",
       "                {&quot;sticky&quot;: true}\n",
       "            );\n",
       "        \n",
       "    \n",
       "            var marker_5936f0fd4914a2aea1e5fbbe84e9ac6e = L.marker(\n",
       "                [-39.8970045115, -73.4310820761],\n",
       "                {}\n",
       "            ).addTo(map_59bc51638dbaf11f34e440e667c7c971);\n",
       "        \n",
       "    \n",
       "            marker_5936f0fd4914a2aea1e5fbbe84e9ac6e.bindTooltip(\n",
       "                `&lt;div&gt;\n",
       "                     CERROS DE CORRAL\n",
       "                 &lt;/div&gt;`,\n",
       "                {&quot;sticky&quot;: true}\n",
       "            );\n",
       "        \n",
       "    \n",
       "            var circle_marker_8906c53f5406d3f58cc6b43ebb408f85 = L.circleMarker(\n",
       "                [-39.8062305249, -73.0547464487],\n",
       "                {&quot;bubblingMouseEvents&quot;: true, &quot;color&quot;: &quot;#3388ff&quot;, &quot;dashArray&quot;: null, &quot;dashOffset&quot;: null, &quot;fill&quot;: false, &quot;fillColor&quot;: &quot;#3388ff&quot;, &quot;fillOpacity&quot;: 0.2, &quot;fillRule&quot;: &quot;evenodd&quot;, &quot;lineCap&quot;: &quot;round&quot;, &quot;lineJoin&quot;: &quot;round&quot;, &quot;opacity&quot;: 1.0, &quot;radius&quot;: 5, &quot;stroke&quot;: true, &quot;weight&quot;: 3}\n",
       "            ).addTo(map_59bc51638dbaf11f34e440e667c7c971);\n",
       "        \n",
       "    \n",
       "            var circle_marker_d4d4ac8f6b0b934c48f196791f719e1e = L.circleMarker(\n",
       "                [-39.7283824204, -73.3948919817],\n",
       "                {&quot;bubblingMouseEvents&quot;: true, &quot;color&quot;: &quot;#3388ff&quot;, &quot;dashArray&quot;: null, &quot;dashOffset&quot;: null, &quot;fill&quot;: false, &quot;fillColor&quot;: &quot;#3388ff&quot;, &quot;fillOpacity&quot;: 0.2, &quot;fillRule&quot;: &quot;evenodd&quot;, &quot;lineCap&quot;: &quot;round&quot;, &quot;lineJoin&quot;: &quot;round&quot;, &quot;opacity&quot;: 1.0, &quot;radius&quot;: 5, &quot;stroke&quot;: true, &quot;weight&quot;: 3}\n",
       "            ).addTo(map_59bc51638dbaf11f34e440e667c7c971);\n",
       "        \n",
       "    \n",
       "            var circle_marker_da6836e29748cce79927ef3e9ec879bf = L.circleMarker(\n",
       "                [-39.7930844112, -73.124067117],\n",
       "                {&quot;bubblingMouseEvents&quot;: true, &quot;color&quot;: &quot;#3388ff&quot;, &quot;dashArray&quot;: null, &quot;dashOffset&quot;: null, &quot;fill&quot;: false, &quot;fillColor&quot;: &quot;#3388ff&quot;, &quot;fillOpacity&quot;: 0.2, &quot;fillRule&quot;: &quot;evenodd&quot;, &quot;lineCap&quot;: &quot;round&quot;, &quot;lineJoin&quot;: &quot;round&quot;, &quot;opacity&quot;: 1.0, &quot;radius&quot;: 5, &quot;stroke&quot;: true, &quot;weight&quot;: 3}\n",
       "            ).addTo(map_59bc51638dbaf11f34e440e667c7c971);\n",
       "        \n",
       "    \n",
       "            var circle_marker_e5c5bb89c89cbe600445545e1d6996b3 = L.circleMarker(\n",
       "                [-39.8715639883, -73.1852346315],\n",
       "                {&quot;bubblingMouseEvents&quot;: true, &quot;color&quot;: &quot;#3388ff&quot;, &quot;dashArray&quot;: null, &quot;dashOffset&quot;: null, &quot;fill&quot;: false, &quot;fillColor&quot;: &quot;#3388ff&quot;, &quot;fillOpacity&quot;: 0.2, &quot;fillRule&quot;: &quot;evenodd&quot;, &quot;lineCap&quot;: &quot;round&quot;, &quot;lineJoin&quot;: &quot;round&quot;, &quot;opacity&quot;: 1.0, &quot;radius&quot;: 5, &quot;stroke&quot;: true, &quot;weight&quot;: 3}\n",
       "            ).addTo(map_59bc51638dbaf11f34e440e667c7c971);\n",
       "        \n",
       "    \n",
       "            var circle_marker_6e7010a4d695ca46e80d9ad74c838d6b = L.circleMarker(\n",
       "                [-39.8547751549, -73.3907718436],\n",
       "                {&quot;bubblingMouseEvents&quot;: true, &quot;color&quot;: &quot;#3388ff&quot;, &quot;dashArray&quot;: null, &quot;dashOffset&quot;: null, &quot;fill&quot;: false, &quot;fillColor&quot;: &quot;#3388ff&quot;, &quot;fillOpacity&quot;: 0.2, &quot;fillRule&quot;: &quot;evenodd&quot;, &quot;lineCap&quot;: &quot;round&quot;, &quot;lineJoin&quot;: &quot;round&quot;, &quot;opacity&quot;: 1.0, &quot;radius&quot;: 5, &quot;stroke&quot;: true, &quot;weight&quot;: 3}\n",
       "            ).addTo(map_59bc51638dbaf11f34e440e667c7c971);\n",
       "        \n",
       "    \n",
       "            var circle_marker_bbcea10b8c87401d626c8397d1a66062 = L.circleMarker(\n",
       "                [-39.7603001637, -73.2705681336],\n",
       "                {&quot;bubblingMouseEvents&quot;: true, &quot;color&quot;: &quot;#3388ff&quot;, &quot;dashArray&quot;: null, &quot;dashOffset&quot;: null, &quot;fill&quot;: false, &quot;fillColor&quot;: &quot;#3388ff&quot;, &quot;fillOpacity&quot;: 0.2, &quot;fillRule&quot;: &quot;evenodd&quot;, &quot;lineCap&quot;: &quot;round&quot;, &quot;lineJoin&quot;: &quot;round&quot;, &quot;opacity&quot;: 1.0, &quot;radius&quot;: 5, &quot;stroke&quot;: true, &quot;weight&quot;: 3}\n",
       "            ).addTo(map_59bc51638dbaf11f34e440e667c7c971);\n",
       "        \n",
       "    \n",
       "            var circle_marker_85ab3fbec59dd41bf7aa15478590d334 = L.circleMarker(\n",
       "                [-39.831480037, -73.4025892212],\n",
       "                {&quot;bubblingMouseEvents&quot;: true, &quot;color&quot;: &quot;#3388ff&quot;, &quot;dashArray&quot;: null, &quot;dashOffset&quot;: null, &quot;fill&quot;: false, &quot;fillColor&quot;: &quot;#3388ff&quot;, &quot;fillOpacity&quot;: 0.2, &quot;fillRule&quot;: &quot;evenodd&quot;, &quot;lineCap&quot;: &quot;round&quot;, &quot;lineJoin&quot;: &quot;round&quot;, &quot;opacity&quot;: 1.0, &quot;radius&quot;: 5, &quot;stroke&quot;: true, &quot;weight&quot;: 3}\n",
       "            ).addTo(map_59bc51638dbaf11f34e440e667c7c971);\n",
       "        \n",
       "    \n",
       "            var circle_marker_bfc1d2daf6906adf092dd90a8a2af6c4 = L.circleMarker(\n",
       "                [-39.8649364171, -73.3728400295],\n",
       "                {&quot;bubblingMouseEvents&quot;: true, &quot;color&quot;: &quot;#3388ff&quot;, &quot;dashArray&quot;: null, &quot;dashOffset&quot;: null, &quot;fill&quot;: false, &quot;fillColor&quot;: &quot;#3388ff&quot;, &quot;fillOpacity&quot;: 0.2, &quot;fillRule&quot;: &quot;evenodd&quot;, &quot;lineCap&quot;: &quot;round&quot;, &quot;lineJoin&quot;: &quot;round&quot;, &quot;opacity&quot;: 1.0, &quot;radius&quot;: 5, &quot;stroke&quot;: true, &quot;weight&quot;: 3}\n",
       "            ).addTo(map_59bc51638dbaf11f34e440e667c7c971);\n",
       "        \n",
       "    \n",
       "            var circle_marker_38cef7bae553a23b49abee38588e1a63 = L.circleMarker(\n",
       "                [-39.7314121294, -73.1091043702],\n",
       "                {&quot;bubblingMouseEvents&quot;: true, &quot;color&quot;: &quot;#3388ff&quot;, &quot;dashArray&quot;: null, &quot;dashOffset&quot;: null, &quot;fill&quot;: false, &quot;fillColor&quot;: &quot;#3388ff&quot;, &quot;fillOpacity&quot;: 0.2, &quot;fillRule&quot;: &quot;evenodd&quot;, &quot;lineCap&quot;: &quot;round&quot;, &quot;lineJoin&quot;: &quot;round&quot;, &quot;opacity&quot;: 1.0, &quot;radius&quot;: 5, &quot;stroke&quot;: true, &quot;weight&quot;: 3}\n",
       "            ).addTo(map_59bc51638dbaf11f34e440e667c7c971);\n",
       "        \n",
       "    \n",
       "            var circle_marker_385c12b1f713e6141868b929731b01cf = L.circleMarker(\n",
       "                [-39.772903642, -73.1970058325],\n",
       "                {&quot;bubblingMouseEvents&quot;: true, &quot;color&quot;: &quot;#3388ff&quot;, &quot;dashArray&quot;: null, &quot;dashOffset&quot;: null, &quot;fill&quot;: false, &quot;fillColor&quot;: &quot;#3388ff&quot;, &quot;fillOpacity&quot;: 0.2, &quot;fillRule&quot;: &quot;evenodd&quot;, &quot;lineCap&quot;: &quot;round&quot;, &quot;lineJoin&quot;: &quot;round&quot;, &quot;opacity&quot;: 1.0, &quot;radius&quot;: 5, &quot;stroke&quot;: true, &quot;weight&quot;: 3}\n",
       "            ).addTo(map_59bc51638dbaf11f34e440e667c7c971);\n",
       "        \n",
       "    \n",
       "            var circle_marker_7d436724935112a0b204fb5e570301b5 = L.circleMarker(\n",
       "                [-39.8673123199, -73.2088638403],\n",
       "                {&quot;bubblingMouseEvents&quot;: true, &quot;color&quot;: &quot;#3388ff&quot;, &quot;dashArray&quot;: null, &quot;dashOffset&quot;: null, &quot;fill&quot;: false, &quot;fillColor&quot;: &quot;#3388ff&quot;, &quot;fillOpacity&quot;: 0.2, &quot;fillRule&quot;: &quot;evenodd&quot;, &quot;lineCap&quot;: &quot;round&quot;, &quot;lineJoin&quot;: &quot;round&quot;, &quot;opacity&quot;: 1.0, &quot;radius&quot;: 5, &quot;stroke&quot;: true, &quot;weight&quot;: 3}\n",
       "            ).addTo(map_59bc51638dbaf11f34e440e667c7c971);\n",
       "        \n",
       "    \n",
       "            var circle_marker_c566a9960966db5d65500f4c04a06e9f = L.circleMarker(\n",
       "                [-39.7802702288, -73.2412708338],\n",
       "                {&quot;bubblingMouseEvents&quot;: true, &quot;color&quot;: &quot;#3388ff&quot;, &quot;dashArray&quot;: null, &quot;dashOffset&quot;: null, &quot;fill&quot;: false, &quot;fillColor&quot;: &quot;#3388ff&quot;, &quot;fillOpacity&quot;: 0.2, &quot;fillRule&quot;: &quot;evenodd&quot;, &quot;lineCap&quot;: &quot;round&quot;, &quot;lineJoin&quot;: &quot;round&quot;, &quot;opacity&quot;: 1.0, &quot;radius&quot;: 5, &quot;stroke&quot;: true, &quot;weight&quot;: 3}\n",
       "            ).addTo(map_59bc51638dbaf11f34e440e667c7c971);\n",
       "        \n",
       "    \n",
       "            var circle_marker_09f820cde58c6e664263517b2c6c42c7 = L.circleMarker(\n",
       "                [-39.7737197231, -73.2102553189],\n",
       "                {&quot;bubblingMouseEvents&quot;: true, &quot;color&quot;: &quot;#3388ff&quot;, &quot;dashArray&quot;: null, &quot;dashOffset&quot;: null, &quot;fill&quot;: false, &quot;fillColor&quot;: &quot;#3388ff&quot;, &quot;fillOpacity&quot;: 0.2, &quot;fillRule&quot;: &quot;evenodd&quot;, &quot;lineCap&quot;: &quot;round&quot;, &quot;lineJoin&quot;: &quot;round&quot;, &quot;opacity&quot;: 1.0, &quot;radius&quot;: 5, &quot;stroke&quot;: true, &quot;weight&quot;: 3}\n",
       "            ).addTo(map_59bc51638dbaf11f34e440e667c7c971);\n",
       "        \n",
       "    \n",
       "            var circle_marker_cffb16303518fd29a2e8db93441c4563 = L.circleMarker(\n",
       "                [-39.7772055631, -73.3135380035],\n",
       "                {&quot;bubblingMouseEvents&quot;: true, &quot;color&quot;: &quot;#3388ff&quot;, &quot;dashArray&quot;: null, &quot;dashOffset&quot;: null, &quot;fill&quot;: false, &quot;fillColor&quot;: &quot;#3388ff&quot;, &quot;fillOpacity&quot;: 0.2, &quot;fillRule&quot;: &quot;evenodd&quot;, &quot;lineCap&quot;: &quot;round&quot;, &quot;lineJoin&quot;: &quot;round&quot;, &quot;opacity&quot;: 1.0, &quot;radius&quot;: 5, &quot;stroke&quot;: true, &quot;weight&quot;: 3}\n",
       "            ).addTo(map_59bc51638dbaf11f34e440e667c7c971);\n",
       "        \n",
       "    \n",
       "            var circle_marker_91975c95b34fc9856d46ad754e947d35 = L.circleMarker(\n",
       "                [-40.1296581637, -72.7254940272],\n",
       "                {&quot;bubblingMouseEvents&quot;: true, &quot;color&quot;: &quot;#3388ff&quot;, &quot;dashArray&quot;: null, &quot;dashOffset&quot;: null, &quot;fill&quot;: false, &quot;fillColor&quot;: &quot;#3388ff&quot;, &quot;fillOpacity&quot;: 0.2, &quot;fillRule&quot;: &quot;evenodd&quot;, &quot;lineCap&quot;: &quot;round&quot;, &quot;lineJoin&quot;: &quot;round&quot;, &quot;opacity&quot;: 1.0, &quot;radius&quot;: 5, &quot;stroke&quot;: true, &quot;weight&quot;: 3}\n",
       "            ).addTo(map_59bc51638dbaf11f34e440e667c7c971);\n",
       "        \n",
       "    \n",
       "            var circle_marker_b2bf14174eddde453b6173b9c0653519 = L.circleMarker(\n",
       "                [-40.0676228293, -72.6179175677],\n",
       "                {&quot;bubblingMouseEvents&quot;: true, &quot;color&quot;: &quot;#3388ff&quot;, &quot;dashArray&quot;: null, &quot;dashOffset&quot;: null, &quot;fill&quot;: false, &quot;fillColor&quot;: &quot;#3388ff&quot;, &quot;fillOpacity&quot;: 0.2, &quot;fillRule&quot;: &quot;evenodd&quot;, &quot;lineCap&quot;: &quot;round&quot;, &quot;lineJoin&quot;: &quot;round&quot;, &quot;opacity&quot;: 1.0, &quot;radius&quot;: 5, &quot;stroke&quot;: true, &quot;weight&quot;: 3}\n",
       "            ).addTo(map_59bc51638dbaf11f34e440e667c7c971);\n",
       "        \n",
       "    \n",
       "            var circle_marker_d359e86274dadb7ad685cb789881619b = L.circleMarker(\n",
       "                [-40.1515807831, -72.8962419781],\n",
       "                {&quot;bubblingMouseEvents&quot;: true, &quot;color&quot;: &quot;#3388ff&quot;, &quot;dashArray&quot;: null, &quot;dashOffset&quot;: null, &quot;fill&quot;: false, &quot;fillColor&quot;: &quot;#3388ff&quot;, &quot;fillOpacity&quot;: 0.2, &quot;fillRule&quot;: &quot;evenodd&quot;, &quot;lineCap&quot;: &quot;round&quot;, &quot;lineJoin&quot;: &quot;round&quot;, &quot;opacity&quot;: 1.0, &quot;radius&quot;: 5, &quot;stroke&quot;: true, &quot;weight&quot;: 3}\n",
       "            ).addTo(map_59bc51638dbaf11f34e440e667c7c971);\n",
       "        \n",
       "    \n",
       "            var circle_marker_0dc1ada396e8ec6e18af9a060bcb24b5 = L.circleMarker(\n",
       "                [-39.9784746305, -72.8320348617],\n",
       "                {&quot;bubblingMouseEvents&quot;: true, &quot;color&quot;: &quot;#3388ff&quot;, &quot;dashArray&quot;: null, &quot;dashOffset&quot;: null, &quot;fill&quot;: false, &quot;fillColor&quot;: &quot;#3388ff&quot;, &quot;fillOpacity&quot;: 0.2, &quot;fillRule&quot;: &quot;evenodd&quot;, &quot;lineCap&quot;: &quot;round&quot;, &quot;lineJoin&quot;: &quot;round&quot;, &quot;opacity&quot;: 1.0, &quot;radius&quot;: 5, &quot;stroke&quot;: true, &quot;weight&quot;: 3}\n",
       "            ).addTo(map_59bc51638dbaf11f34e440e667c7c971);\n",
       "        \n",
       "    \n",
       "            var circle_marker_a9dc6673d0f9ebe5285e6cea9fd7c000 = L.circleMarker(\n",
       "                [-40.1233358588, -72.6748177353],\n",
       "                {&quot;bubblingMouseEvents&quot;: true, &quot;color&quot;: &quot;#3388ff&quot;, &quot;dashArray&quot;: null, &quot;dashOffset&quot;: null, &quot;fill&quot;: false, &quot;fillColor&quot;: &quot;#3388ff&quot;, &quot;fillOpacity&quot;: 0.2, &quot;fillRule&quot;: &quot;evenodd&quot;, &quot;lineCap&quot;: &quot;round&quot;, &quot;lineJoin&quot;: &quot;round&quot;, &quot;opacity&quot;: 1.0, &quot;radius&quot;: 5, &quot;stroke&quot;: true, &quot;weight&quot;: 3}\n",
       "            ).addTo(map_59bc51638dbaf11f34e440e667c7c971);\n",
       "        \n",
       "    \n",
       "            var circle_marker_ccf79bef1ece7fae0fb83fa1148cd510 = L.circleMarker(\n",
       "                [-40.0949272285, -72.8333381781],\n",
       "                {&quot;bubblingMouseEvents&quot;: true, &quot;color&quot;: &quot;#3388ff&quot;, &quot;dashArray&quot;: null, &quot;dashOffset&quot;: null, &quot;fill&quot;: false, &quot;fillColor&quot;: &quot;#3388ff&quot;, &quot;fillOpacity&quot;: 0.2, &quot;fillRule&quot;: &quot;evenodd&quot;, &quot;lineCap&quot;: &quot;round&quot;, &quot;lineJoin&quot;: &quot;round&quot;, &quot;opacity&quot;: 1.0, &quot;radius&quot;: 5, &quot;stroke&quot;: true, &quot;weight&quot;: 3}\n",
       "            ).addTo(map_59bc51638dbaf11f34e440e667c7c971);\n",
       "        \n",
       "    \n",
       "            var circle_marker_3739363f34704be685783834ca712de4 = L.circleMarker(\n",
       "                [-40.1805296564, -72.5619049938],\n",
       "                {&quot;bubblingMouseEvents&quot;: true, &quot;color&quot;: &quot;#3388ff&quot;, &quot;dashArray&quot;: null, &quot;dashOffset&quot;: null, &quot;fill&quot;: false, &quot;fillColor&quot;: &quot;#3388ff&quot;, &quot;fillOpacity&quot;: 0.2, &quot;fillRule&quot;: &quot;evenodd&quot;, &quot;lineCap&quot;: &quot;round&quot;, &quot;lineJoin&quot;: &quot;round&quot;, &quot;opacity&quot;: 1.0, &quot;radius&quot;: 5, &quot;stroke&quot;: true, &quot;weight&quot;: 3}\n",
       "            ).addTo(map_59bc51638dbaf11f34e440e667c7c971);\n",
       "        \n",
       "    \n",
       "            var circle_marker_bfec0e999f5ca2e7d9f27f9c201b8a9e = L.circleMarker(\n",
       "                [-40.1380925113, -72.5825449417],\n",
       "                {&quot;bubblingMouseEvents&quot;: true, &quot;color&quot;: &quot;#3388ff&quot;, &quot;dashArray&quot;: null, &quot;dashOffset&quot;: null, &quot;fill&quot;: false, &quot;fillColor&quot;: &quot;#3388ff&quot;, &quot;fillOpacity&quot;: 0.2, &quot;fillRule&quot;: &quot;evenodd&quot;, &quot;lineCap&quot;: &quot;round&quot;, &quot;lineJoin&quot;: &quot;round&quot;, &quot;opacity&quot;: 1.0, &quot;radius&quot;: 5, &quot;stroke&quot;: true, &quot;weight&quot;: 3}\n",
       "            ).addTo(map_59bc51638dbaf11f34e440e667c7c971);\n",
       "        \n",
       "    \n",
       "            var circle_marker_1c762d5095eede3bccd14c61f7d14e56 = L.circleMarker(\n",
       "                [-40.0154940534, -72.7914597178],\n",
       "                {&quot;bubblingMouseEvents&quot;: true, &quot;color&quot;: &quot;#3388ff&quot;, &quot;dashArray&quot;: null, &quot;dashOffset&quot;: null, &quot;fill&quot;: false, &quot;fillColor&quot;: &quot;#3388ff&quot;, &quot;fillOpacity&quot;: 0.2, &quot;fillRule&quot;: &quot;evenodd&quot;, &quot;lineCap&quot;: &quot;round&quot;, &quot;lineJoin&quot;: &quot;round&quot;, &quot;opacity&quot;: 1.0, &quot;radius&quot;: 5, &quot;stroke&quot;: true, &quot;weight&quot;: 3}\n",
       "            ).addTo(map_59bc51638dbaf11f34e440e667c7c971);\n",
       "        \n",
       "    \n",
       "            var circle_marker_38cefbfb541f0910a91800a346d626a4 = L.circleMarker(\n",
       "                [-40.0746752187, -72.6747765849],\n",
       "                {&quot;bubblingMouseEvents&quot;: true, &quot;color&quot;: &quot;#3388ff&quot;, &quot;dashArray&quot;: null, &quot;dashOffset&quot;: null, &quot;fill&quot;: false, &quot;fillColor&quot;: &quot;#3388ff&quot;, &quot;fillOpacity&quot;: 0.2, &quot;fillRule&quot;: &quot;evenodd&quot;, &quot;lineCap&quot;: &quot;round&quot;, &quot;lineJoin&quot;: &quot;round&quot;, &quot;opacity&quot;: 1.0, &quot;radius&quot;: 5, &quot;stroke&quot;: true, &quot;weight&quot;: 3}\n",
       "            ).addTo(map_59bc51638dbaf11f34e440e667c7c971);\n",
       "        \n",
       "    \n",
       "            var circle_marker_cfaf418e1670ddfd660911c54c3e4ee4 = L.circleMarker(\n",
       "                [-40.1221748177, -72.6855485214],\n",
       "                {&quot;bubblingMouseEvents&quot;: true, &quot;color&quot;: &quot;#3388ff&quot;, &quot;dashArray&quot;: null, &quot;dashOffset&quot;: null, &quot;fill&quot;: false, &quot;fillColor&quot;: &quot;#3388ff&quot;, &quot;fillOpacity&quot;: 0.2, &quot;fillRule&quot;: &quot;evenodd&quot;, &quot;lineCap&quot;: &quot;round&quot;, &quot;lineJoin&quot;: &quot;round&quot;, &quot;opacity&quot;: 1.0, &quot;radius&quot;: 5, &quot;stroke&quot;: true, &quot;weight&quot;: 3}\n",
       "            ).addTo(map_59bc51638dbaf11f34e440e667c7c971);\n",
       "        \n",
       "    \n",
       "            var circle_marker_05b0b6cbb676336811c7b4893933d304 = L.circleMarker(\n",
       "                [-39.8074856345, -72.9572455712],\n",
       "                {&quot;bubblingMouseEvents&quot;: true, &quot;color&quot;: &quot;#3388ff&quot;, &quot;dashArray&quot;: null, &quot;dashOffset&quot;: null, &quot;fill&quot;: false, &quot;fillColor&quot;: &quot;#3388ff&quot;, &quot;fillOpacity&quot;: 0.2, &quot;fillRule&quot;: &quot;evenodd&quot;, &quot;lineCap&quot;: &quot;round&quot;, &quot;lineJoin&quot;: &quot;round&quot;, &quot;opacity&quot;: 1.0, &quot;radius&quot;: 5, &quot;stroke&quot;: true, &quot;weight&quot;: 3}\n",
       "            ).addTo(map_59bc51638dbaf11f34e440e667c7c971);\n",
       "        \n",
       "    \n",
       "            var circle_marker_33f69cec9669ff6c7323affd4a4676d6 = L.circleMarker(\n",
       "                [-39.8710682914, -72.6678013129],\n",
       "                {&quot;bubblingMouseEvents&quot;: true, &quot;color&quot;: &quot;#3388ff&quot;, &quot;dashArray&quot;: null, &quot;dashOffset&quot;: null, &quot;fill&quot;: false, &quot;fillColor&quot;: &quot;#3388ff&quot;, &quot;fillOpacity&quot;: 0.2, &quot;fillRule&quot;: &quot;evenodd&quot;, &quot;lineCap&quot;: &quot;round&quot;, &quot;lineJoin&quot;: &quot;round&quot;, &quot;opacity&quot;: 1.0, &quot;radius&quot;: 5, &quot;stroke&quot;: true, &quot;weight&quot;: 3}\n",
       "            ).addTo(map_59bc51638dbaf11f34e440e667c7c971);\n",
       "        \n",
       "    \n",
       "            var circle_marker_d7dd223edb7c93854023ca0cecbaefa0 = L.circleMarker(\n",
       "                [-39.9084433218, -72.5733916686],\n",
       "                {&quot;bubblingMouseEvents&quot;: true, &quot;color&quot;: &quot;#3388ff&quot;, &quot;dashArray&quot;: null, &quot;dashOffset&quot;: null, &quot;fill&quot;: false, &quot;fillColor&quot;: &quot;#3388ff&quot;, &quot;fillOpacity&quot;: 0.2, &quot;fillRule&quot;: &quot;evenodd&quot;, &quot;lineCap&quot;: &quot;round&quot;, &quot;lineJoin&quot;: &quot;round&quot;, &quot;opacity&quot;: 1.0, &quot;radius&quot;: 5, &quot;stroke&quot;: true, &quot;weight&quot;: 3}\n",
       "            ).addTo(map_59bc51638dbaf11f34e440e667c7c971);\n",
       "        \n",
       "    \n",
       "            var circle_marker_22427cc2bb68a4a69dafbd587fa982d7 = L.circleMarker(\n",
       "                [-39.8171126188, -72.4425065285],\n",
       "                {&quot;bubblingMouseEvents&quot;: true, &quot;color&quot;: &quot;#3388ff&quot;, &quot;dashArray&quot;: null, &quot;dashOffset&quot;: null, &quot;fill&quot;: false, &quot;fillColor&quot;: &quot;#3388ff&quot;, &quot;fillOpacity&quot;: 0.2, &quot;fillRule&quot;: &quot;evenodd&quot;, &quot;lineCap&quot;: &quot;round&quot;, &quot;lineJoin&quot;: &quot;round&quot;, &quot;opacity&quot;: 1.0, &quot;radius&quot;: 5, &quot;stroke&quot;: true, &quot;weight&quot;: 3}\n",
       "            ).addTo(map_59bc51638dbaf11f34e440e667c7c971);\n",
       "        \n",
       "    \n",
       "            var circle_marker_17263dcebc060369e85735dc9e16cc59 = L.circleMarker(\n",
       "                [-39.7751787818, -72.6519491619],\n",
       "                {&quot;bubblingMouseEvents&quot;: true, &quot;color&quot;: &quot;#3388ff&quot;, &quot;dashArray&quot;: null, &quot;dashOffset&quot;: null, &quot;fill&quot;: false, &quot;fillColor&quot;: &quot;#3388ff&quot;, &quot;fillOpacity&quot;: 0.2, &quot;fillRule&quot;: &quot;evenodd&quot;, &quot;lineCap&quot;: &quot;round&quot;, &quot;lineJoin&quot;: &quot;round&quot;, &quot;opacity&quot;: 1.0, &quot;radius&quot;: 5, &quot;stroke&quot;: true, &quot;weight&quot;: 3}\n",
       "            ).addTo(map_59bc51638dbaf11f34e440e667c7c971);\n",
       "        \n",
       "    \n",
       "            var circle_marker_920ef54fd1138071941ef9f30c4f72b5 = L.circleMarker(\n",
       "                [-39.9987530843, -72.7108188025],\n",
       "                {&quot;bubblingMouseEvents&quot;: true, &quot;color&quot;: &quot;#3388ff&quot;, &quot;dashArray&quot;: null, &quot;dashOffset&quot;: null, &quot;fill&quot;: false, &quot;fillColor&quot;: &quot;#3388ff&quot;, &quot;fillOpacity&quot;: 0.2, &quot;fillRule&quot;: &quot;evenodd&quot;, &quot;lineCap&quot;: &quot;round&quot;, &quot;lineJoin&quot;: &quot;round&quot;, &quot;opacity&quot;: 1.0, &quot;radius&quot;: 5, &quot;stroke&quot;: true, &quot;weight&quot;: 3}\n",
       "            ).addTo(map_59bc51638dbaf11f34e440e667c7c971);\n",
       "        \n",
       "    \n",
       "            var circle_marker_e0e37b57665e31a52d5f290316e87f92 = L.circleMarker(\n",
       "                [-40.0154665081, -72.5215180883],\n",
       "                {&quot;bubblingMouseEvents&quot;: true, &quot;color&quot;: &quot;#3388ff&quot;, &quot;dashArray&quot;: null, &quot;dashOffset&quot;: null, &quot;fill&quot;: false, &quot;fillColor&quot;: &quot;#3388ff&quot;, &quot;fillOpacity&quot;: 0.2, &quot;fillRule&quot;: &quot;evenodd&quot;, &quot;lineCap&quot;: &quot;round&quot;, &quot;lineJoin&quot;: &quot;round&quot;, &quot;opacity&quot;: 1.0, &quot;radius&quot;: 5, &quot;stroke&quot;: true, &quot;weight&quot;: 3}\n",
       "            ).addTo(map_59bc51638dbaf11f34e440e667c7c971);\n",
       "        \n",
       "    \n",
       "            var circle_marker_81da3c2edebf44d851e4c749a0b36ce7 = L.circleMarker(\n",
       "                [-39.8526730412, -72.7929315347],\n",
       "                {&quot;bubblingMouseEvents&quot;: true, &quot;color&quot;: &quot;#3388ff&quot;, &quot;dashArray&quot;: null, &quot;dashOffset&quot;: null, &quot;fill&quot;: false, &quot;fillColor&quot;: &quot;#3388ff&quot;, &quot;fillOpacity&quot;: 0.2, &quot;fillRule&quot;: &quot;evenodd&quot;, &quot;lineCap&quot;: &quot;round&quot;, &quot;lineJoin&quot;: &quot;round&quot;, &quot;opacity&quot;: 1.0, &quot;radius&quot;: 5, &quot;stroke&quot;: true, &quot;weight&quot;: 3}\n",
       "            ).addTo(map_59bc51638dbaf11f34e440e667c7c971);\n",
       "        \n",
       "    \n",
       "            var circle_marker_9c59c431b5fc516c28e339a9d4bfb588 = L.circleMarker(\n",
       "                [-39.8705154943, -72.781619174],\n",
       "                {&quot;bubblingMouseEvents&quot;: true, &quot;color&quot;: &quot;#3388ff&quot;, &quot;dashArray&quot;: null, &quot;dashOffset&quot;: null, &quot;fill&quot;: false, &quot;fillColor&quot;: &quot;#3388ff&quot;, &quot;fillOpacity&quot;: 0.2, &quot;fillRule&quot;: &quot;evenodd&quot;, &quot;lineCap&quot;: &quot;round&quot;, &quot;lineJoin&quot;: &quot;round&quot;, &quot;opacity&quot;: 1.0, &quot;radius&quot;: 5, &quot;stroke&quot;: true, &quot;weight&quot;: 3}\n",
       "            ).addTo(map_59bc51638dbaf11f34e440e667c7c971);\n",
       "        \n",
       "    \n",
       "            var circle_marker_3a3e5d4bb1957502053199c3dafa8f5a = L.circleMarker(\n",
       "                [-39.8817714432, -72.6708273322],\n",
       "                {&quot;bubblingMouseEvents&quot;: true, &quot;color&quot;: &quot;#3388ff&quot;, &quot;dashArray&quot;: null, &quot;dashOffset&quot;: null, &quot;fill&quot;: false, &quot;fillColor&quot;: &quot;#3388ff&quot;, &quot;fillOpacity&quot;: 0.2, &quot;fillRule&quot;: &quot;evenodd&quot;, &quot;lineCap&quot;: &quot;round&quot;, &quot;lineJoin&quot;: &quot;round&quot;, &quot;opacity&quot;: 1.0, &quot;radius&quot;: 5, &quot;stroke&quot;: true, &quot;weight&quot;: 3}\n",
       "            ).addTo(map_59bc51638dbaf11f34e440e667c7c971);\n",
       "        \n",
       "    \n",
       "            var circle_marker_870c04f698b355d3898dc40a1629c426 = L.circleMarker(\n",
       "                [-39.9027809062, -72.5930946759],\n",
       "                {&quot;bubblingMouseEvents&quot;: true, &quot;color&quot;: &quot;#3388ff&quot;, &quot;dashArray&quot;: null, &quot;dashOffset&quot;: null, &quot;fill&quot;: false, &quot;fillColor&quot;: &quot;#3388ff&quot;, &quot;fillOpacity&quot;: 0.2, &quot;fillRule&quot;: &quot;evenodd&quot;, &quot;lineCap&quot;: &quot;round&quot;, &quot;lineJoin&quot;: &quot;round&quot;, &quot;opacity&quot;: 1.0, &quot;radius&quot;: 5, &quot;stroke&quot;: true, &quot;weight&quot;: 3}\n",
       "            ).addTo(map_59bc51638dbaf11f34e440e667c7c971);\n",
       "        \n",
       "    \n",
       "            var circle_marker_670d6d75ed1cde1f30e92b30cea19ef2 = L.circleMarker(\n",
       "                [-39.8171525324, -72.6981700465],\n",
       "                {&quot;bubblingMouseEvents&quot;: true, &quot;color&quot;: &quot;#3388ff&quot;, &quot;dashArray&quot;: null, &quot;dashOffset&quot;: null, &quot;fill&quot;: false, &quot;fillColor&quot;: &quot;#3388ff&quot;, &quot;fillOpacity&quot;: 0.2, &quot;fillRule&quot;: &quot;evenodd&quot;, &quot;lineCap&quot;: &quot;round&quot;, &quot;lineJoin&quot;: &quot;round&quot;, &quot;opacity&quot;: 1.0, &quot;radius&quot;: 5, &quot;stroke&quot;: true, &quot;weight&quot;: 3}\n",
       "            ).addTo(map_59bc51638dbaf11f34e440e667c7c971);\n",
       "        \n",
       "    \n",
       "            var circle_marker_c56f27cfe876f768b0f9f3dc4a2e14a9 = L.circleMarker(\n",
       "                [-39.9151109593, -72.78974687],\n",
       "                {&quot;bubblingMouseEvents&quot;: true, &quot;color&quot;: &quot;#3388ff&quot;, &quot;dashArray&quot;: null, &quot;dashOffset&quot;: null, &quot;fill&quot;: false, &quot;fillColor&quot;: &quot;#3388ff&quot;, &quot;fillOpacity&quot;: 0.2, &quot;fillRule&quot;: &quot;evenodd&quot;, &quot;lineCap&quot;: &quot;round&quot;, &quot;lineJoin&quot;: &quot;round&quot;, &quot;opacity&quot;: 1.0, &quot;radius&quot;: 5, &quot;stroke&quot;: true, &quot;weight&quot;: 3}\n",
       "            ).addTo(map_59bc51638dbaf11f34e440e667c7c971);\n",
       "        \n",
       "    \n",
       "            var circle_marker_f5fb1250594a0620d51c1b008f0c87c4 = L.circleMarker(\n",
       "                [-39.9809683663, -72.7929665382],\n",
       "                {&quot;bubblingMouseEvents&quot;: true, &quot;color&quot;: &quot;#3388ff&quot;, &quot;dashArray&quot;: null, &quot;dashOffset&quot;: null, &quot;fill&quot;: false, &quot;fillColor&quot;: &quot;#3388ff&quot;, &quot;fillOpacity&quot;: 0.2, &quot;fillRule&quot;: &quot;evenodd&quot;, &quot;lineCap&quot;: &quot;round&quot;, &quot;lineJoin&quot;: &quot;round&quot;, &quot;opacity&quot;: 1.0, &quot;radius&quot;: 5, &quot;stroke&quot;: true, &quot;weight&quot;: 3}\n",
       "            ).addTo(map_59bc51638dbaf11f34e440e667c7c971);\n",
       "        \n",
       "    \n",
       "            var circle_marker_dd78ec30fdadde14d645e2db3e4168d7 = L.circleMarker(\n",
       "                [-39.891383155, -72.7942956633],\n",
       "                {&quot;bubblingMouseEvents&quot;: true, &quot;color&quot;: &quot;#3388ff&quot;, &quot;dashArray&quot;: null, &quot;dashOffset&quot;: null, &quot;fill&quot;: false, &quot;fillColor&quot;: &quot;#3388ff&quot;, &quot;fillOpacity&quot;: 0.2, &quot;fillRule&quot;: &quot;evenodd&quot;, &quot;lineCap&quot;: &quot;round&quot;, &quot;lineJoin&quot;: &quot;round&quot;, &quot;opacity&quot;: 1.0, &quot;radius&quot;: 5, &quot;stroke&quot;: true, &quot;weight&quot;: 3}\n",
       "            ).addTo(map_59bc51638dbaf11f34e440e667c7c971);\n",
       "        \n",
       "    \n",
       "            var circle_marker_c0b9449f3cc1063758d74ec535d87d8e = L.circleMarker(\n",
       "                [-39.854954476, -72.6609940373],\n",
       "                {&quot;bubblingMouseEvents&quot;: true, &quot;color&quot;: &quot;#3388ff&quot;, &quot;dashArray&quot;: null, &quot;dashOffset&quot;: null, &quot;fill&quot;: false, &quot;fillColor&quot;: &quot;#3388ff&quot;, &quot;fillOpacity&quot;: 0.2, &quot;fillRule&quot;: &quot;evenodd&quot;, &quot;lineCap&quot;: &quot;round&quot;, &quot;lineJoin&quot;: &quot;round&quot;, &quot;opacity&quot;: 1.0, &quot;radius&quot;: 5, &quot;stroke&quot;: true, &quot;weight&quot;: 3}\n",
       "            ).addTo(map_59bc51638dbaf11f34e440e667c7c971);\n",
       "        \n",
       "    \n",
       "            var circle_marker_92fe83d4faa46f2d844def79aa79f88a = L.circleMarker(\n",
       "                [-39.8597946179, -72.7236128048],\n",
       "                {&quot;bubblingMouseEvents&quot;: true, &quot;color&quot;: &quot;#3388ff&quot;, &quot;dashArray&quot;: null, &quot;dashOffset&quot;: null, &quot;fill&quot;: false, &quot;fillColor&quot;: &quot;#3388ff&quot;, &quot;fillOpacity&quot;: 0.2, &quot;fillRule&quot;: &quot;evenodd&quot;, &quot;lineCap&quot;: &quot;round&quot;, &quot;lineJoin&quot;: &quot;round&quot;, &quot;opacity&quot;: 1.0, &quot;radius&quot;: 5, &quot;stroke&quot;: true, &quot;weight&quot;: 3}\n",
       "            ).addTo(map_59bc51638dbaf11f34e440e667c7c971);\n",
       "        \n",
       "    \n",
       "            var circle_marker_f7c9aa54e95cd1ce5eeea649546bd522 = L.circleMarker(\n",
       "                [-39.8183071179, -72.8753063555],\n",
       "                {&quot;bubblingMouseEvents&quot;: true, &quot;color&quot;: &quot;#3388ff&quot;, &quot;dashArray&quot;: null, &quot;dashOffset&quot;: null, &quot;fill&quot;: false, &quot;fillColor&quot;: &quot;#3388ff&quot;, &quot;fillOpacity&quot;: 0.2, &quot;fillRule&quot;: &quot;evenodd&quot;, &quot;lineCap&quot;: &quot;round&quot;, &quot;lineJoin&quot;: &quot;round&quot;, &quot;opacity&quot;: 1.0, &quot;radius&quot;: 5, &quot;stroke&quot;: true, &quot;weight&quot;: 3}\n",
       "            ).addTo(map_59bc51638dbaf11f34e440e667c7c971);\n",
       "        \n",
       "    \n",
       "            var circle_marker_0abc7aabc58f1bc91342df5b893e06fd = L.circleMarker(\n",
       "                [-39.8631470531, -73.4340874604],\n",
       "                {&quot;bubblingMouseEvents&quot;: true, &quot;color&quot;: &quot;#3388ff&quot;, &quot;dashArray&quot;: null, &quot;dashOffset&quot;: null, &quot;fill&quot;: false, &quot;fillColor&quot;: &quot;#3388ff&quot;, &quot;fillOpacity&quot;: 0.2, &quot;fillRule&quot;: &quot;evenodd&quot;, &quot;lineCap&quot;: &quot;round&quot;, &quot;lineJoin&quot;: &quot;round&quot;, &quot;opacity&quot;: 1.0, &quot;radius&quot;: 5, &quot;stroke&quot;: true, &quot;weight&quot;: 3}\n",
       "            ).addTo(map_59bc51638dbaf11f34e440e667c7c971);\n",
       "        \n",
       "    \n",
       "            var circle_marker_f9f5bee2dae4682e461d448944a65762 = L.circleMarker(\n",
       "                [-39.8754350487, -73.3587930086],\n",
       "                {&quot;bubblingMouseEvents&quot;: true, &quot;color&quot;: &quot;#3388ff&quot;, &quot;dashArray&quot;: null, &quot;dashOffset&quot;: null, &quot;fill&quot;: false, &quot;fillColor&quot;: &quot;#3388ff&quot;, &quot;fillOpacity&quot;: 0.2, &quot;fillRule&quot;: &quot;evenodd&quot;, &quot;lineCap&quot;: &quot;round&quot;, &quot;lineJoin&quot;: &quot;round&quot;, &quot;opacity&quot;: 1.0, &quot;radius&quot;: 5, &quot;stroke&quot;: true, &quot;weight&quot;: 3}\n",
       "            ).addTo(map_59bc51638dbaf11f34e440e667c7c971);\n",
       "        \n",
       "    \n",
       "            var circle_marker_88bab0abc27ada09c9ba175d43c36291 = L.circleMarker(\n",
       "                [-39.8905057848, -73.3917808877],\n",
       "                {&quot;bubblingMouseEvents&quot;: true, &quot;color&quot;: &quot;#3388ff&quot;, &quot;dashArray&quot;: null, &quot;dashOffset&quot;: null, &quot;fill&quot;: false, &quot;fillColor&quot;: &quot;#3388ff&quot;, &quot;fillOpacity&quot;: 0.2, &quot;fillRule&quot;: &quot;evenodd&quot;, &quot;lineCap&quot;: &quot;round&quot;, &quot;lineJoin&quot;: &quot;round&quot;, &quot;opacity&quot;: 1.0, &quot;radius&quot;: 5, &quot;stroke&quot;: true, &quot;weight&quot;: 3}\n",
       "            ).addTo(map_59bc51638dbaf11f34e440e667c7c971);\n",
       "        \n",
       "    \n",
       "            var circle_marker_0a8e4cc9d690ae65d53e0133b1ad255c = L.circleMarker(\n",
       "                [-39.8964415368, -73.417776163],\n",
       "                {&quot;bubblingMouseEvents&quot;: true, &quot;color&quot;: &quot;#3388ff&quot;, &quot;dashArray&quot;: null, &quot;dashOffset&quot;: null, &quot;fill&quot;: false, &quot;fillColor&quot;: &quot;#3388ff&quot;, &quot;fillOpacity&quot;: 0.2, &quot;fillRule&quot;: &quot;evenodd&quot;, &quot;lineCap&quot;: &quot;round&quot;, &quot;lineJoin&quot;: &quot;round&quot;, &quot;opacity&quot;: 1.0, &quot;radius&quot;: 5, &quot;stroke&quot;: true, &quot;weight&quot;: 3}\n",
       "            ).addTo(map_59bc51638dbaf11f34e440e667c7c971);\n",
       "        \n",
       "    \n",
       "            var circle_marker_d781be17c2143fa4e20cab675c6492bc = L.circleMarker(\n",
       "                [-39.9656281859, -73.6194983481],\n",
       "                {&quot;bubblingMouseEvents&quot;: true, &quot;color&quot;: &quot;#3388ff&quot;, &quot;dashArray&quot;: null, &quot;dashOffset&quot;: null, &quot;fill&quot;: false, &quot;fillColor&quot;: &quot;#3388ff&quot;, &quot;fillOpacity&quot;: 0.2, &quot;fillRule&quot;: &quot;evenodd&quot;, &quot;lineCap&quot;: &quot;round&quot;, &quot;lineJoin&quot;: &quot;round&quot;, &quot;opacity&quot;: 1.0, &quot;radius&quot;: 5, &quot;stroke&quot;: true, &quot;weight&quot;: 3}\n",
       "            ).addTo(map_59bc51638dbaf11f34e440e667c7c971);\n",
       "        \n",
       "    \n",
       "            var circle_marker_4d318701e39fa5c3b0c90e56d3642d7d = L.circleMarker(\n",
       "                [-39.8970045115, -73.4310820761],\n",
       "                {&quot;bubblingMouseEvents&quot;: true, &quot;color&quot;: &quot;#3388ff&quot;, &quot;dashArray&quot;: null, &quot;dashOffset&quot;: null, &quot;fill&quot;: false, &quot;fillColor&quot;: &quot;#3388ff&quot;, &quot;fillOpacity&quot;: 0.2, &quot;fillRule&quot;: &quot;evenodd&quot;, &quot;lineCap&quot;: &quot;round&quot;, &quot;lineJoin&quot;: &quot;round&quot;, &quot;opacity&quot;: 1.0, &quot;radius&quot;: 5, &quot;stroke&quot;: true, &quot;weight&quot;: 3}\n",
       "            ).addTo(map_59bc51638dbaf11f34e440e667c7c971);\n",
       "        \n",
       "    \n",
       "            var tile_layer_60b88967f428766a27bdbf8efb69460e = L.tileLayer(\n",
       "                &quot;https://{s}.tile.openstreetmap.org/{z}/{x}/{y}.png&quot;,\n",
       "                {&quot;attribution&quot;: &quot;Data by \\u0026copy; \\u003ca href=\\&quot;http://openstreetmap.org\\&quot;\\u003eOpenStreetMap\\u003c/a\\u003e, under \\u003ca href=\\&quot;http://www.openstreetmap.org/copyright\\&quot;\\u003eODbL\\u003c/a\\u003e.&quot;, &quot;detectRetina&quot;: false, &quot;maxNativeZoom&quot;: 18, &quot;maxZoom&quot;: 18, &quot;minZoom&quot;: 0, &quot;noWrap&quot;: false, &quot;opacity&quot;: 1, &quot;subdomains&quot;: &quot;abc&quot;, &quot;tms&quot;: false}\n",
       "            );\n",
       "            var mini_map_92a6e8da5262d73b4245e893aa7e186e = new L.Control.MiniMap(\n",
       "                tile_layer_60b88967f428766a27bdbf8efb69460e,\n",
       "                {&quot;autoToggleDisplay&quot;: false, &quot;centerFixed&quot;: false, &quot;collapsedHeight&quot;: 25, &quot;collapsedWidth&quot;: 25, &quot;height&quot;: 150, &quot;minimized&quot;: false, &quot;position&quot;: &quot;bottomleft&quot;, &quot;toggleDisplay&quot;: true, &quot;width&quot;: 150, &quot;zoomAnimation&quot;: false, &quot;zoomLevelOffset&quot;: -5}\n",
       "            );\n",
       "            map_59bc51638dbaf11f34e440e667c7c971.addControl(mini_map_92a6e8da5262d73b4245e893aa7e186e);\n",
       "        \n",
       "&lt;/script&gt;\" style=\"position:absolute;width:100%;height:100%;left:0;top:0;border:none !important;\" allowfullscreen webkitallowfullscreen mozallowfullscreen></iframe></div></div>"
      ],
      "text/plain": [
       "<folium.folium.Map at 0x213a72306d0>"
      ]
     },
     "execution_count": 2,
     "metadata": {},
     "output_type": "execute_result"
    }
   ],
   "source": [
    "# Primero creamos el mapa con la libreria folium y la funcion Map,tiles es el proveedor del mapa.\n",
    "#El mapa esta centrado en valdivia\n",
    "map = folium.Map(location = [-39.925826, -73.114501], tiles = \"OpenStreetMap\", zoom_start = 10)\n",
    "\n",
    "#Aca estoy cargando el set de datos que subi a la carpeta.\n",
    "datos = pd.read_excel('base_ssr.xlsx', sheet_name='Sistemas_APR',usecols=\"B:U\",skiprows=2)\n",
    "\n",
    "#Valdivia\n",
    "datos_nombres_valdivia=list(datos.iloc[1963:1977,12])\n",
    "datos_lat_valdivia=datos.iloc[1963:1977,19] \n",
    "datos_long_valdivia=datos.iloc[1963:1977,18]\n",
    "\n",
    "#Paillaco\n",
    "datos_nombres_paillaco=list(datos.iloc[1919:1930,12])\n",
    "datos_lat_paillaco=datos.iloc[1919:1930,19] \n",
    "datos_long_paillaco=datos.iloc[1919:1930,18]\n",
    "\n",
    "#Los Lagos\n",
    "datos_nombres_loslagos=list(datos.iloc[1885:1903,12])\n",
    "datos_lat_loslagos=datos.iloc[1885:1903,19] \n",
    "datos_long_loslagos=datos.iloc[1885:1903,18]\n",
    "\n",
    "#Corral\n",
    "datos_nombres_corral=list(datos.iloc[1873:1879,12])\n",
    "datos_lat_corral=datos.iloc[1873:1879,19] \n",
    "datos_long_corral=datos.iloc[1873:1879,18]\n",
    "\n",
    "#Creación del par de coordenadas\n",
    "locations_valdivia = list(zip(datos_lat_valdivia, datos_long_valdivia))\n",
    "locations_paillaco = list(zip(datos_lat_paillaco, datos_long_paillaco))\n",
    "locations_loslagos = list(zip(datos_lat_loslagos, datos_long_loslagos))\n",
    "locations_corral = list(zip(datos_lat_corral, datos_long_corral))\n",
    "\n",
    "\n",
    "#Creación de las listas\n",
    "nombres = datos_nombres_valdivia+datos_nombres_paillaco+datos_nombres_loslagos+datos_nombres_corral\n",
    "locations=locations_valdivia+locations_paillaco+locations_loslagos+locations_corral\n",
    "\n",
    "#Aca agregamos un marcador con la ubicación de valdivia\n",
    "for i in range(len(locations)):\n",
    "    nombre=nombres[i]\n",
    "    folium.Marker(location=locations[i],tooltip=nombre).add_to(map)\n",
    "    \n",
    "for i in range(len(locations)):\n",
    "    folium.CircleMarker(location=locations[i],radius=5).add_to(map)\n",
    "map\n",
    "\n",
    "# Aca estoy agregando un minimap en la esquina,para esto hay que cargar la funcion plugins desde la libreria folium\n",
    "from folium import plugins\n",
    "minimap = plugins.MiniMap(position=\"bottomleft\",toggle_display=True)\n",
    "map.add_child(minimap)\n",
    "map"
   ]
  },
  {
   "cell_type": "code",
   "execution_count": 58,
   "id": "1c494b3c-2d39-48c8-9d9c-d90525643a62",
   "metadata": {},
   "outputs": [
    {
     "data": {
      "text/html": [
       "<div style=\"width:100%;\"><div style=\"position:relative;width:100%;height:0;padding-bottom:60%;\"><span style=\"color:#565656\">Make this Notebook Trusted to load map: File -> Trust Notebook</span><iframe srcdoc=\"&lt;!DOCTYPE html&gt;\n",
       "&lt;head&gt;    \n",
       "    &lt;meta http-equiv=&quot;content-type&quot; content=&quot;text/html; charset=UTF-8&quot; /&gt;\n",
       "    \n",
       "        &lt;script&gt;\n",
       "            L_NO_TOUCH = false;\n",
       "            L_DISABLE_3D = false;\n",
       "        &lt;/script&gt;\n",
       "    \n",
       "    &lt;style&gt;html, body {width: 100%;height: 100%;margin: 0;padding: 0;}&lt;/style&gt;\n",
       "    &lt;style&gt;#map {position:absolute;top:0;bottom:0;right:0;left:0;}&lt;/style&gt;\n",
       "    &lt;script src=&quot;https://cdn.jsdelivr.net/npm/leaflet@1.6.0/dist/leaflet.js&quot;&gt;&lt;/script&gt;\n",
       "    &lt;script src=&quot;https://code.jquery.com/jquery-1.12.4.min.js&quot;&gt;&lt;/script&gt;\n",
       "    &lt;script src=&quot;https://maxcdn.bootstrapcdn.com/bootstrap/3.2.0/js/bootstrap.min.js&quot;&gt;&lt;/script&gt;\n",
       "    &lt;script src=&quot;https://cdnjs.cloudflare.com/ajax/libs/Leaflet.awesome-markers/2.0.2/leaflet.awesome-markers.js&quot;&gt;&lt;/script&gt;\n",
       "    &lt;link rel=&quot;stylesheet&quot; href=&quot;https://cdn.jsdelivr.net/npm/leaflet@1.6.0/dist/leaflet.css&quot;/&gt;\n",
       "    &lt;link rel=&quot;stylesheet&quot; href=&quot;https://maxcdn.bootstrapcdn.com/bootstrap/3.2.0/css/bootstrap.min.css&quot;/&gt;\n",
       "    &lt;link rel=&quot;stylesheet&quot; href=&quot;https://maxcdn.bootstrapcdn.com/bootstrap/3.2.0/css/bootstrap-theme.min.css&quot;/&gt;\n",
       "    &lt;link rel=&quot;stylesheet&quot; href=&quot;https://maxcdn.bootstrapcdn.com/font-awesome/4.6.3/css/font-awesome.min.css&quot;/&gt;\n",
       "    &lt;link rel=&quot;stylesheet&quot; href=&quot;https://cdnjs.cloudflare.com/ajax/libs/Leaflet.awesome-markers/2.0.2/leaflet.awesome-markers.css&quot;/&gt;\n",
       "    &lt;link rel=&quot;stylesheet&quot; href=&quot;https://cdn.jsdelivr.net/gh/python-visualization/folium/folium/templates/leaflet.awesome.rotate.min.css&quot;/&gt;\n",
       "    \n",
       "            &lt;meta name=&quot;viewport&quot; content=&quot;width=device-width,\n",
       "                initial-scale=1.0, maximum-scale=1.0, user-scalable=no&quot; /&gt;\n",
       "            &lt;style&gt;\n",
       "                #map_11f1c67ce06d9c80173f1ed1118eebea {\n",
       "                    position: relative;\n",
       "                    width: 100.0%;\n",
       "                    height: 100.0%;\n",
       "                    left: 0.0%;\n",
       "                    top: 0.0%;\n",
       "                }\n",
       "            &lt;/style&gt;\n",
       "        \n",
       "&lt;/head&gt;\n",
       "&lt;body&gt;    \n",
       "    \n",
       "            &lt;div class=&quot;folium-map&quot; id=&quot;map_11f1c67ce06d9c80173f1ed1118eebea&quot; &gt;&lt;/div&gt;\n",
       "        \n",
       "&lt;/body&gt;\n",
       "&lt;script&gt;    \n",
       "    \n",
       "            var map_11f1c67ce06d9c80173f1ed1118eebea = L.map(\n",
       "                &quot;map_11f1c67ce06d9c80173f1ed1118eebea&quot;,\n",
       "                {\n",
       "                    center: [-39.925826, -73.114501],\n",
       "                    crs: L.CRS.EPSG3857,\n",
       "                    zoom: 9.5,\n",
       "                    zoomControl: true,\n",
       "                    preferCanvas: false,\n",
       "                }\n",
       "            );\n",
       "\n",
       "            \n",
       "\n",
       "        \n",
       "    \n",
       "            var tile_layer_bece03da8b85babc3d936940284470d1 = L.tileLayer(\n",
       "                &quot;https://{s}.tile.openstreetmap.org/{z}/{x}/{y}.png&quot;,\n",
       "                {&quot;attribution&quot;: &quot;Data by \\u0026copy; \\u003ca href=\\&quot;http://openstreetmap.org\\&quot;\\u003eOpenStreetMap\\u003c/a\\u003e, under \\u003ca href=\\&quot;http://www.openstreetmap.org/copyright\\&quot;\\u003eODbL\\u003c/a\\u003e.&quot;, &quot;detectRetina&quot;: false, &quot;maxNativeZoom&quot;: 18, &quot;maxZoom&quot;: 18, &quot;minZoom&quot;: 0, &quot;noWrap&quot;: false, &quot;opacity&quot;: 1, &quot;subdomains&quot;: &quot;abc&quot;, &quot;tms&quot;: false}\n",
       "            ).addTo(map_11f1c67ce06d9c80173f1ed1118eebea);\n",
       "        \n",
       "    \n",
       "            var circle_c80d6213b46f08c3012ef8f7746a875b = L.circle(\n",
       "                [-39.8062305249, -73.0547464487],\n",
       "                {&quot;bubblingMouseEvents&quot;: true, &quot;color&quot;: &quot;#008000ff&quot;, &quot;dashArray&quot;: null, &quot;dashOffset&quot;: null, &quot;fill&quot;: false, &quot;fillColor&quot;: &quot;#008000ff&quot;, &quot;fillOpacity&quot;: 0.2, &quot;fillRule&quot;: &quot;evenodd&quot;, &quot;lineCap&quot;: &quot;round&quot;, &quot;lineJoin&quot;: &quot;round&quot;, &quot;opacity&quot;: 1.0, &quot;radius&quot;: 450, &quot;stroke&quot;: true, &quot;weight&quot;: 3}\n",
       "            ).addTo(map_11f1c67ce06d9c80173f1ed1118eebea);\n",
       "        \n",
       "    \n",
       "            circle_c80d6213b46f08c3012ef8f7746a875b.bindTooltip(\n",
       "                `&lt;div&gt;\n",
       "                     PISHUINCO\n",
       "                 &lt;/div&gt;`,\n",
       "                {&quot;sticky&quot;: true}\n",
       "            );\n",
       "        \n",
       "    \n",
       "            var circle_ac96ec97853ca45f0a22004afad43664 = L.circle(\n",
       "                [-39.7283824204, -73.3948919817],\n",
       "                {&quot;bubblingMouseEvents&quot;: true, &quot;color&quot;: &quot;#800080ff&quot;, &quot;dashArray&quot;: null, &quot;dashOffset&quot;: null, &quot;fill&quot;: false, &quot;fillColor&quot;: &quot;#800080ff&quot;, &quot;fillOpacity&quot;: 0.2, &quot;fillRule&quot;: &quot;evenodd&quot;, &quot;lineCap&quot;: &quot;round&quot;, &quot;lineJoin&quot;: &quot;round&quot;, &quot;opacity&quot;: 1.0, &quot;radius&quot;: 450, &quot;stroke&quot;: true, &quot;weight&quot;: 3}\n",
       "            ).addTo(map_11f1c67ce06d9c80173f1ed1118eebea);\n",
       "        \n",
       "    \n",
       "            circle_ac96ec97853ca45f0a22004afad43664.bindTooltip(\n",
       "                `&lt;div&gt;\n",
       "                     CURIÑANCO\n",
       "                 &lt;/div&gt;`,\n",
       "                {&quot;sticky&quot;: true}\n",
       "            );\n",
       "        \n",
       "    \n",
       "            var circle_d91ee7b92dcf203f9f62c171dc1e2b9c = L.circle(\n",
       "                [-39.7930844112, -73.124067117],\n",
       "                {&quot;bubblingMouseEvents&quot;: true, &quot;color&quot;: &quot;#008000ff&quot;, &quot;dashArray&quot;: null, &quot;dashOffset&quot;: null, &quot;fill&quot;: false, &quot;fillColor&quot;: &quot;#008000ff&quot;, &quot;fillOpacity&quot;: 0.2, &quot;fillRule&quot;: &quot;evenodd&quot;, &quot;lineCap&quot;: &quot;round&quot;, &quot;lineJoin&quot;: &quot;round&quot;, &quot;opacity&quot;: 1.0, &quot;radius&quot;: 450, &quot;stroke&quot;: true, &quot;weight&quot;: 3}\n",
       "            ).addTo(map_11f1c67ce06d9c80173f1ed1118eebea);\n",
       "        \n",
       "    \n",
       "            circle_d91ee7b92dcf203f9f62c171dc1e2b9c.bindTooltip(\n",
       "                `&lt;div&gt;\n",
       "                     HUELLELHUE\n",
       "                 &lt;/div&gt;`,\n",
       "                {&quot;sticky&quot;: true}\n",
       "            );\n",
       "        \n",
       "    \n",
       "            var circle_c5e0da4af9029b7cc7da1fed7910148f = L.circle(\n",
       "                [-39.8715639883, -73.1852346315],\n",
       "                {&quot;bubblingMouseEvents&quot;: true, &quot;color&quot;: &quot;#ff0000ff&quot;, &quot;dashArray&quot;: null, &quot;dashOffset&quot;: null, &quot;fill&quot;: false, &quot;fillColor&quot;: &quot;#ff0000ff&quot;, &quot;fillOpacity&quot;: 0.2, &quot;fillRule&quot;: &quot;evenodd&quot;, &quot;lineCap&quot;: &quot;round&quot;, &quot;lineJoin&quot;: &quot;round&quot;, &quot;opacity&quot;: 1.0, &quot;radius&quot;: 450, &quot;stroke&quot;: true, &quot;weight&quot;: 3}\n",
       "            ).addTo(map_11f1c67ce06d9c80173f1ed1118eebea);\n",
       "        \n",
       "    \n",
       "            circle_c5e0da4af9029b7cc7da1fed7910148f.bindTooltip(\n",
       "                `&lt;div&gt;\n",
       "                     LAS GAVIOTAS\n",
       "                 &lt;/div&gt;`,\n",
       "                {&quot;sticky&quot;: true}\n",
       "            );\n",
       "        \n",
       "    \n",
       "            var circle_1bf7a14d65236749c1915c2359975984 = L.circle(\n",
       "                [-39.8547751549, -73.3907718436],\n",
       "                {&quot;bubblingMouseEvents&quot;: true, &quot;color&quot;: &quot;#800080ff&quot;, &quot;dashArray&quot;: null, &quot;dashOffset&quot;: null, &quot;fill&quot;: false, &quot;fillColor&quot;: &quot;#800080ff&quot;, &quot;fillOpacity&quot;: 0.2, &quot;fillRule&quot;: &quot;evenodd&quot;, &quot;lineCap&quot;: &quot;round&quot;, &quot;lineJoin&quot;: &quot;round&quot;, &quot;opacity&quot;: 1.0, &quot;radius&quot;: 450, &quot;stroke&quot;: true, &quot;weight&quot;: 3}\n",
       "            ).addTo(map_11f1c67ce06d9c80173f1ed1118eebea);\n",
       "        \n",
       "    \n",
       "            circle_1bf7a14d65236749c1915c2359975984.bindTooltip(\n",
       "                `&lt;div&gt;\n",
       "                     NIEBLA-LOS MOLINOS\n",
       "                 &lt;/div&gt;`,\n",
       "                {&quot;sticky&quot;: true}\n",
       "            );\n",
       "        \n",
       "    \n",
       "            var circle_f12b838156432efc926efa71f15767b7 = L.circle(\n",
       "                [-39.7603001637, -73.2705681336],\n",
       "                {&quot;bubblingMouseEvents&quot;: true, &quot;color&quot;: &quot;#ffa500ff&quot;, &quot;dashArray&quot;: null, &quot;dashOffset&quot;: null, &quot;fill&quot;: false, &quot;fillColor&quot;: &quot;#ffa500ff&quot;, &quot;fillOpacity&quot;: 0.2, &quot;fillRule&quot;: &quot;evenodd&quot;, &quot;lineCap&quot;: &quot;round&quot;, &quot;lineJoin&quot;: &quot;round&quot;, &quot;opacity&quot;: 1.0, &quot;radius&quot;: 450, &quot;stroke&quot;: true, &quot;weight&quot;: 3}\n",
       "            ).addTo(map_11f1c67ce06d9c80173f1ed1118eebea);\n",
       "        \n",
       "    \n",
       "            circle_f12b838156432efc926efa71f15767b7.bindTooltip(\n",
       "                `&lt;div&gt;\n",
       "                     PUNUCAPA\n",
       "                 &lt;/div&gt;`,\n",
       "                {&quot;sticky&quot;: true}\n",
       "            );\n",
       "        \n",
       "    \n",
       "            var circle_d516d4f2020c693f18b02e5b748fb014 = L.circle(\n",
       "                [-39.831480037, -73.4025892212],\n",
       "                {&quot;bubblingMouseEvents&quot;: true, &quot;color&quot;: &quot;#ff0000ff&quot;, &quot;dashArray&quot;: null, &quot;dashOffset&quot;: null, &quot;fill&quot;: false, &quot;fillColor&quot;: &quot;#ff0000ff&quot;, &quot;fillOpacity&quot;: 0.2, &quot;fillRule&quot;: &quot;evenodd&quot;, &quot;lineCap&quot;: &quot;round&quot;, &quot;lineJoin&quot;: &quot;round&quot;, &quot;opacity&quot;: 1.0, &quot;radius&quot;: 450, &quot;stroke&quot;: true, &quot;weight&quot;: 3}\n",
       "            ).addTo(map_11f1c67ce06d9c80173f1ed1118eebea);\n",
       "        \n",
       "    \n",
       "            circle_d516d4f2020c693f18b02e5b748fb014.bindTooltip(\n",
       "                `&lt;div&gt;\n",
       "                     SAN IGNACIO-PLAYA ROSADA\n",
       "                 &lt;/div&gt;`,\n",
       "                {&quot;sticky&quot;: true}\n",
       "            );\n",
       "        \n",
       "    \n",
       "            var circle_9f4340e259f0e9cc7133c3a69412e56f = L.circle(\n",
       "                [-39.8649364171, -73.3728400295],\n",
       "                {&quot;bubblingMouseEvents&quot;: true, &quot;color&quot;: &quot;#ff0000ff&quot;, &quot;dashArray&quot;: null, &quot;dashOffset&quot;: null, &quot;fill&quot;: false, &quot;fillColor&quot;: &quot;#ff0000ff&quot;, &quot;fillOpacity&quot;: 0.2, &quot;fillRule&quot;: &quot;evenodd&quot;, &quot;lineCap&quot;: &quot;round&quot;, &quot;lineJoin&quot;: &quot;round&quot;, &quot;opacity&quot;: 1.0, &quot;radius&quot;: 450, &quot;stroke&quot;: true, &quot;weight&quot;: 3}\n",
       "            ).addTo(map_11f1c67ce06d9c80173f1ed1118eebea);\n",
       "        \n",
       "    \n",
       "            circle_9f4340e259f0e9cc7133c3a69412e56f.bindTooltip(\n",
       "                `&lt;div&gt;\n",
       "                     TRES ESPINOS\n",
       "                 &lt;/div&gt;`,\n",
       "                {&quot;sticky&quot;: true}\n",
       "            );\n",
       "        \n",
       "    \n",
       "            var circle_24cc0ea23e24aa1c24162a31ba0ddb6c = L.circle(\n",
       "                [-39.7314121294, -73.1091043702],\n",
       "                {&quot;bubblingMouseEvents&quot;: true, &quot;color&quot;: &quot;#ff0000ff&quot;, &quot;dashArray&quot;: null, &quot;dashOffset&quot;: null, &quot;fill&quot;: false, &quot;fillColor&quot;: &quot;#ff0000ff&quot;, &quot;fillOpacity&quot;: 0.2, &quot;fillRule&quot;: &quot;evenodd&quot;, &quot;lineCap&quot;: &quot;round&quot;, &quot;lineJoin&quot;: &quot;round&quot;, &quot;opacity&quot;: 1.0, &quot;radius&quot;: 450, &quot;stroke&quot;: true, &quot;weight&quot;: 3}\n",
       "            ).addTo(map_11f1c67ce06d9c80173f1ed1118eebea);\n",
       "        \n",
       "    \n",
       "            circle_24cc0ea23e24aa1c24162a31ba0ddb6c.bindTooltip(\n",
       "                `&lt;div&gt;\n",
       "                     VILLA CAYUMAPU\n",
       "                 &lt;/div&gt;`,\n",
       "                {&quot;sticky&quot;: true}\n",
       "            );\n",
       "        \n",
       "    \n",
       "            var circle_1065f2beb11c295ed0d776ac1ae9e2e4 = L.circle(\n",
       "                [-39.772903642, -73.1970058325],\n",
       "                {&quot;bubblingMouseEvents&quot;: true, &quot;color&quot;: &quot;#ffa500ff&quot;, &quot;dashArray&quot;: null, &quot;dashOffset&quot;: null, &quot;fill&quot;: false, &quot;fillColor&quot;: &quot;#ffa500ff&quot;, &quot;fillOpacity&quot;: 0.2, &quot;fillRule&quot;: &quot;evenodd&quot;, &quot;lineCap&quot;: &quot;round&quot;, &quot;lineJoin&quot;: &quot;round&quot;, &quot;opacity&quot;: 1.0, &quot;radius&quot;: 450, &quot;stroke&quot;: true, &quot;weight&quot;: 3}\n",
       "            ).addTo(map_11f1c67ce06d9c80173f1ed1118eebea);\n",
       "        \n",
       "    \n",
       "            circle_1065f2beb11c295ed0d776ac1ae9e2e4.bindTooltip(\n",
       "                `&lt;div&gt;\n",
       "                     EL ARENAL SANTA ELVIRA\n",
       "                 &lt;/div&gt;`,\n",
       "                {&quot;sticky&quot;: true}\n",
       "            );\n",
       "        \n",
       "    \n",
       "            var circle_65e2d9ee9d7481192bddced6d72f2822 = L.circle(\n",
       "                [-39.8673123199, -73.2088638403],\n",
       "                {&quot;bubblingMouseEvents&quot;: true, &quot;color&quot;: &quot;#ff0000ff&quot;, &quot;dashArray&quot;: null, &quot;dashOffset&quot;: null, &quot;fill&quot;: false, &quot;fillColor&quot;: &quot;#ff0000ff&quot;, &quot;fillOpacity&quot;: 0.2, &quot;fillRule&quot;: &quot;evenodd&quot;, &quot;lineCap&quot;: &quot;round&quot;, &quot;lineJoin&quot;: &quot;round&quot;, &quot;opacity&quot;: 1.0, &quot;radius&quot;: 450, &quot;stroke&quot;: true, &quot;weight&quot;: 3}\n",
       "            ).addTo(map_11f1c67ce06d9c80173f1ed1118eebea);\n",
       "        \n",
       "    \n",
       "            circle_65e2d9ee9d7481192bddced6d72f2822.bindTooltip(\n",
       "                `&lt;div&gt;\n",
       "                     PAILLAO\n",
       "                 &lt;/div&gt;`,\n",
       "                {&quot;sticky&quot;: true}\n",
       "            );\n",
       "        \n",
       "    \n",
       "            var circle_50d575bcfec89809a34db9b5e9cb3e57 = L.circle(\n",
       "                [-39.7802702288, -73.2412708338],\n",
       "                {&quot;bubblingMouseEvents&quot;: true, &quot;color&quot;: &quot;#ffa500ff&quot;, &quot;dashArray&quot;: null, &quot;dashOffset&quot;: null, &quot;fill&quot;: false, &quot;fillColor&quot;: &quot;#ffa500ff&quot;, &quot;fillOpacity&quot;: 0.2, &quot;fillRule&quot;: &quot;evenodd&quot;, &quot;lineCap&quot;: &quot;round&quot;, &quot;lineJoin&quot;: &quot;round&quot;, &quot;opacity&quot;: 1.0, &quot;radius&quot;: 450, &quot;stroke&quot;: true, &quot;weight&quot;: 3}\n",
       "            ).addTo(map_11f1c67ce06d9c80173f1ed1118eebea);\n",
       "        \n",
       "    \n",
       "            circle_50d575bcfec89809a34db9b5e9cb3e57.bindTooltip(\n",
       "                `&lt;div&gt;\n",
       "                     CABO BLANCO\n",
       "                 &lt;/div&gt;`,\n",
       "                {&quot;sticky&quot;: true}\n",
       "            );\n",
       "        \n",
       "    \n",
       "            var circle_cb7433a61171f255fc092f48a9514553 = L.circle(\n",
       "                [-39.7737197231, -73.2102553189],\n",
       "                {&quot;bubblingMouseEvents&quot;: true, &quot;color&quot;: &quot;#ffa500ff&quot;, &quot;dashArray&quot;: null, &quot;dashOffset&quot;: null, &quot;fill&quot;: false, &quot;fillColor&quot;: &quot;#ffa500ff&quot;, &quot;fillOpacity&quot;: 0.2, &quot;fillRule&quot;: &quot;evenodd&quot;, &quot;lineCap&quot;: &quot;round&quot;, &quot;lineJoin&quot;: &quot;round&quot;, &quot;opacity&quot;: 1.0, &quot;radius&quot;: 450, &quot;stroke&quot;: true, &quot;weight&quot;: 3}\n",
       "            ).addTo(map_11f1c67ce06d9c80173f1ed1118eebea);\n",
       "        \n",
       "    \n",
       "            circle_cb7433a61171f255fc092f48a9514553.bindTooltip(\n",
       "                `&lt;div&gt;\n",
       "                     EL ARENAL KM 2\n",
       "                 &lt;/div&gt;`,\n",
       "                {&quot;sticky&quot;: true}\n",
       "            );\n",
       "        \n",
       "    \n",
       "            var circle_0e28b0b4ffadd53d4c3a380256478797 = L.circle(\n",
       "                [-39.7772055631, -73.3135380035],\n",
       "                {&quot;bubblingMouseEvents&quot;: true, &quot;color&quot;: &quot;#008000ff&quot;, &quot;dashArray&quot;: null, &quot;dashOffset&quot;: null, &quot;fill&quot;: false, &quot;fillColor&quot;: &quot;#008000ff&quot;, &quot;fillOpacity&quot;: 0.2, &quot;fillRule&quot;: &quot;evenodd&quot;, &quot;lineCap&quot;: &quot;round&quot;, &quot;lineJoin&quot;: &quot;round&quot;, &quot;opacity&quot;: 1.0, &quot;radius&quot;: 450, &quot;stroke&quot;: true, &quot;weight&quot;: 3}\n",
       "            ).addTo(map_11f1c67ce06d9c80173f1ed1118eebea);\n",
       "        \n",
       "    \n",
       "            circle_0e28b0b4ffadd53d4c3a380256478797.bindTooltip(\n",
       "                `&lt;div&gt;\n",
       "                     Chabelita\n",
       "                 &lt;/div&gt;`,\n",
       "                {&quot;sticky&quot;: true}\n",
       "            );\n",
       "        \n",
       "    \n",
       "            var circle_e34ef8b578d0e3b9a73faa5d5291f2d8 = L.circle(\n",
       "                [-40.1296581637, -72.7254940272],\n",
       "                {&quot;bubblingMouseEvents&quot;: true, &quot;color&quot;: &quot;#008000ff&quot;, &quot;dashArray&quot;: null, &quot;dashOffset&quot;: null, &quot;fill&quot;: false, &quot;fillColor&quot;: &quot;#008000ff&quot;, &quot;fillOpacity&quot;: 0.2, &quot;fillRule&quot;: &quot;evenodd&quot;, &quot;lineCap&quot;: &quot;round&quot;, &quot;lineJoin&quot;: &quot;round&quot;, &quot;opacity&quot;: 1.0, &quot;radius&quot;: 450, &quot;stroke&quot;: true, &quot;weight&quot;: 3}\n",
       "            ).addTo(map_11f1c67ce06d9c80173f1ed1118eebea);\n",
       "        \n",
       "    \n",
       "            circle_e34ef8b578d0e3b9a73faa5d5291f2d8.bindTooltip(\n",
       "                `&lt;div&gt;\n",
       "                     ARCO IRIS\n",
       "                 &lt;/div&gt;`,\n",
       "                {&quot;sticky&quot;: true}\n",
       "            );\n",
       "        \n",
       "    \n",
       "            var circle_90f00616923a5a4c406dcb5e9ee62ce5 = L.circle(\n",
       "                [-40.0676228293, -72.6179175677],\n",
       "                {&quot;bubblingMouseEvents&quot;: true, &quot;color&quot;: &quot;#008000ff&quot;, &quot;dashArray&quot;: null, &quot;dashOffset&quot;: null, &quot;fill&quot;: false, &quot;fillColor&quot;: &quot;#008000ff&quot;, &quot;fillOpacity&quot;: 0.2, &quot;fillRule&quot;: &quot;evenodd&quot;, &quot;lineCap&quot;: &quot;round&quot;, &quot;lineJoin&quot;: &quot;round&quot;, &quot;opacity&quot;: 1.0, &quot;radius&quot;: 450, &quot;stroke&quot;: true, &quot;weight&quot;: 3}\n",
       "            ).addTo(map_11f1c67ce06d9c80173f1ed1118eebea);\n",
       "        \n",
       "    \n",
       "            circle_90f00616923a5a4c406dcb5e9ee62ce5.bindTooltip(\n",
       "                `&lt;div&gt;\n",
       "                     EL LLOLLY\n",
       "                 &lt;/div&gt;`,\n",
       "                {&quot;sticky&quot;: true}\n",
       "            );\n",
       "        \n",
       "    \n",
       "            var circle_cc45d93ce63468d532e00e4481342e50 = L.circle(\n",
       "                [-40.1515807831, -72.8962419781],\n",
       "                {&quot;bubblingMouseEvents&quot;: true, &quot;color&quot;: &quot;#ff0000ff&quot;, &quot;dashArray&quot;: null, &quot;dashOffset&quot;: null, &quot;fill&quot;: false, &quot;fillColor&quot;: &quot;#ff0000ff&quot;, &quot;fillOpacity&quot;: 0.2, &quot;fillRule&quot;: &quot;evenodd&quot;, &quot;lineCap&quot;: &quot;round&quot;, &quot;lineJoin&quot;: &quot;round&quot;, &quot;opacity&quot;: 1.0, &quot;radius&quot;: 450, &quot;stroke&quot;: true, &quot;weight&quot;: 3}\n",
       "            ).addTo(map_11f1c67ce06d9c80173f1ed1118eebea);\n",
       "        \n",
       "    \n",
       "            circle_cc45d93ce63468d532e00e4481342e50.bindTooltip(\n",
       "                `&lt;div&gt;\n",
       "                     PICHIRROPULLI\n",
       "                 &lt;/div&gt;`,\n",
       "                {&quot;sticky&quot;: true}\n",
       "            );\n",
       "        \n",
       "    \n",
       "            var circle_22578f6ff391fc7ca80663dd540943b0 = L.circle(\n",
       "                [-39.9784746305, -72.8320348617],\n",
       "                {&quot;bubblingMouseEvents&quot;: true, &quot;color&quot;: &quot;#800080ff&quot;, &quot;dashArray&quot;: null, &quot;dashOffset&quot;: null, &quot;fill&quot;: false, &quot;fillColor&quot;: &quot;#800080ff&quot;, &quot;fillOpacity&quot;: 0.2, &quot;fillRule&quot;: &quot;evenodd&quot;, &quot;lineCap&quot;: &quot;round&quot;, &quot;lineJoin&quot;: &quot;round&quot;, &quot;opacity&quot;: 1.0, &quot;radius&quot;: 450, &quot;stroke&quot;: true, &quot;weight&quot;: 3}\n",
       "            ).addTo(map_11f1c67ce06d9c80173f1ed1118eebea);\n",
       "        \n",
       "    \n",
       "            circle_22578f6ff391fc7ca80663dd540943b0.bindTooltip(\n",
       "                `&lt;div&gt;\n",
       "                     REUMEN\n",
       "                 &lt;/div&gt;`,\n",
       "                {&quot;sticky&quot;: true}\n",
       "            );\n",
       "        \n",
       "    \n",
       "            var circle_8c86cf1e09f0dc885c9ac68944867f05 = L.circle(\n",
       "                [-40.1233358588, -72.6748177353],\n",
       "                {&quot;bubblingMouseEvents&quot;: true, &quot;color&quot;: &quot;#008000ff&quot;, &quot;dashArray&quot;: null, &quot;dashOffset&quot;: null, &quot;fill&quot;: false, &quot;fillColor&quot;: &quot;#008000ff&quot;, &quot;fillOpacity&quot;: 0.2, &quot;fillRule&quot;: &quot;evenodd&quot;, &quot;lineCap&quot;: &quot;round&quot;, &quot;lineJoin&quot;: &quot;round&quot;, &quot;opacity&quot;: 1.0, &quot;radius&quot;: 450, &quot;stroke&quot;: true, &quot;weight&quot;: 3}\n",
       "            ).addTo(map_11f1c67ce06d9c80173f1ed1118eebea);\n",
       "        \n",
       "    \n",
       "            circle_8c86cf1e09f0dc885c9ac68944867f05.bindTooltip(\n",
       "                `&lt;div&gt;\n",
       "                     SANTA FILOMENA\n",
       "                 &lt;/div&gt;`,\n",
       "                {&quot;sticky&quot;: true}\n",
       "            );\n",
       "        \n",
       "    \n",
       "            var circle_830ad57f2d2f95b9c3c3664f16712e1c = L.circle(\n",
       "                [-40.0949272285, -72.8333381781],\n",
       "                {&quot;bubblingMouseEvents&quot;: true, &quot;color&quot;: &quot;#0000ffff&quot;, &quot;dashArray&quot;: null, &quot;dashOffset&quot;: null, &quot;fill&quot;: false, &quot;fillColor&quot;: &quot;#0000ffff&quot;, &quot;fillOpacity&quot;: 0.2, &quot;fillRule&quot;: &quot;evenodd&quot;, &quot;lineCap&quot;: &quot;round&quot;, &quot;lineJoin&quot;: &quot;round&quot;, &quot;opacity&quot;: 1.0, &quot;radius&quot;: 450, &quot;stroke&quot;: true, &quot;weight&quot;: 3}\n",
       "            ).addTo(map_11f1c67ce06d9c80173f1ed1118eebea);\n",
       "        \n",
       "    \n",
       "            circle_830ad57f2d2f95b9c3c3664f16712e1c.bindTooltip(\n",
       "                `&lt;div&gt;\n",
       "                     MANAO\n",
       "                 &lt;/div&gt;`,\n",
       "                {&quot;sticky&quot;: true}\n",
       "            );\n",
       "        \n",
       "    \n",
       "            var circle_f1626020a2935adc0d16402e451518ff = L.circle(\n",
       "                [-40.1805296564, -72.5619049938],\n",
       "                {&quot;bubblingMouseEvents&quot;: true, &quot;color&quot;: &quot;#008000ff&quot;, &quot;dashArray&quot;: null, &quot;dashOffset&quot;: null, &quot;fill&quot;: false, &quot;fillColor&quot;: &quot;#008000ff&quot;, &quot;fillOpacity&quot;: 0.2, &quot;fillRule&quot;: &quot;evenodd&quot;, &quot;lineCap&quot;: &quot;round&quot;, &quot;lineJoin&quot;: &quot;round&quot;, &quot;opacity&quot;: 1.0, &quot;radius&quot;: 450, &quot;stroke&quot;: true, &quot;weight&quot;: 3}\n",
       "            ).addTo(map_11f1c67ce06d9c80173f1ed1118eebea);\n",
       "        \n",
       "    \n",
       "            circle_f1626020a2935adc0d16402e451518ff.bindTooltip(\n",
       "                `&lt;div&gt;\n",
       "                     SANTA ROSA CHICA\n",
       "                 &lt;/div&gt;`,\n",
       "                {&quot;sticky&quot;: true}\n",
       "            );\n",
       "        \n",
       "    \n",
       "            var circle_8eaf7ac5a0be3fb0de2b22eb509c7c25 = L.circle(\n",
       "                [-40.1380925113, -72.5825449417],\n",
       "                {&quot;bubblingMouseEvents&quot;: true, &quot;color&quot;: &quot;#008000ff&quot;, &quot;dashArray&quot;: null, &quot;dashOffset&quot;: null, &quot;fill&quot;: false, &quot;fillColor&quot;: &quot;#008000ff&quot;, &quot;fillOpacity&quot;: 0.2, &quot;fillRule&quot;: &quot;evenodd&quot;, &quot;lineCap&quot;: &quot;round&quot;, &quot;lineJoin&quot;: &quot;round&quot;, &quot;opacity&quot;: 1.0, &quot;radius&quot;: 450, &quot;stroke&quot;: true, &quot;weight&quot;: 3}\n",
       "            ).addTo(map_11f1c67ce06d9c80173f1ed1118eebea);\n",
       "        \n",
       "    \n",
       "            circle_8eaf7ac5a0be3fb0de2b22eb509c7c25.bindTooltip(\n",
       "                `&lt;div&gt;\n",
       "                     SANTA ROSA GRANDE\n",
       "                 &lt;/div&gt;`,\n",
       "                {&quot;sticky&quot;: true}\n",
       "            );\n",
       "        \n",
       "    \n",
       "            var circle_11a5f26f2becb61aaf4964ad36be47af = L.circle(\n",
       "                [-40.0154940534, -72.7914597178],\n",
       "                {&quot;bubblingMouseEvents&quot;: true, &quot;color&quot;: &quot;#ffa500ff&quot;, &quot;dashArray&quot;: null, &quot;dashOffset&quot;: null, &quot;fill&quot;: false, &quot;fillColor&quot;: &quot;#ffa500ff&quot;, &quot;fillOpacity&quot;: 0.2, &quot;fillRule&quot;: &quot;evenodd&quot;, &quot;lineCap&quot;: &quot;round&quot;, &quot;lineJoin&quot;: &quot;round&quot;, &quot;opacity&quot;: 1.0, &quot;radius&quot;: 450, &quot;stroke&quot;: true, &quot;weight&quot;: 3}\n",
       "            ).addTo(map_11f1c67ce06d9c80173f1ed1118eebea);\n",
       "        \n",
       "    \n",
       "            circle_11a5f26f2becb61aaf4964ad36be47af.bindTooltip(\n",
       "                `&lt;div&gt;\n",
       "                     LUMACO PAILLACO\n",
       "                 &lt;/div&gt;`,\n",
       "                {&quot;sticky&quot;: true}\n",
       "            );\n",
       "        \n",
       "    \n",
       "            var circle_3b0d3bf0cafcbbf7531324157da5fc32 = L.circle(\n",
       "                [-40.0746752187, -72.6747765849],\n",
       "                {&quot;bubblingMouseEvents&quot;: true, &quot;color&quot;: &quot;#0000ffff&quot;, &quot;dashArray&quot;: null, &quot;dashOffset&quot;: null, &quot;fill&quot;: false, &quot;fillColor&quot;: &quot;#0000ffff&quot;, &quot;fillOpacity&quot;: 0.2, &quot;fillRule&quot;: &quot;evenodd&quot;, &quot;lineCap&quot;: &quot;round&quot;, &quot;lineJoin&quot;: &quot;round&quot;, &quot;opacity&quot;: 1.0, &quot;radius&quot;: 450, &quot;stroke&quot;: true, &quot;weight&quot;: 3}\n",
       "            ).addTo(map_11f1c67ce06d9c80173f1ed1118eebea);\n",
       "        \n",
       "    \n",
       "            circle_3b0d3bf0cafcbbf7531324157da5fc32.bindTooltip(\n",
       "                `&lt;div&gt;\n",
       "                     EL MAITEN\n",
       "                 &lt;/div&gt;`,\n",
       "                {&quot;sticky&quot;: true}\n",
       "            );\n",
       "        \n",
       "    \n",
       "            var circle_c74ea0cef2a33cd23166922d089ddecc = L.circle(\n",
       "                [-40.1221748177, -72.6855485214],\n",
       "                {&quot;bubblingMouseEvents&quot;: true, &quot;color&quot;: &quot;#0000ffff&quot;, &quot;dashArray&quot;: null, &quot;dashOffset&quot;: null, &quot;fill&quot;: false, &quot;fillColor&quot;: &quot;#0000ffff&quot;, &quot;fillOpacity&quot;: 0.2, &quot;fillRule&quot;: &quot;evenodd&quot;, &quot;lineCap&quot;: &quot;round&quot;, &quot;lineJoin&quot;: &quot;round&quot;, &quot;opacity&quot;: 1.0, &quot;radius&quot;: 450, &quot;stroke&quot;: true, &quot;weight&quot;: 3}\n",
       "            ).addTo(map_11f1c67ce06d9c80173f1ed1118eebea);\n",
       "        \n",
       "    \n",
       "            circle_c74ea0cef2a33cd23166922d089ddecc.bindTooltip(\n",
       "                `&lt;div&gt;\n",
       "                     SANTA FILOMENA II\n",
       "                 &lt;/div&gt;`,\n",
       "                {&quot;sticky&quot;: true}\n",
       "            );\n",
       "        \n",
       "    \n",
       "            var circle_37c18f1d5169116cd75ba52a2a292980 = L.circle(\n",
       "                [-39.8074856345, -72.9572455712],\n",
       "                {&quot;bubblingMouseEvents&quot;: true, &quot;color&quot;: &quot;#800080ff&quot;, &quot;dashArray&quot;: null, &quot;dashOffset&quot;: null, &quot;fill&quot;: false, &quot;fillColor&quot;: &quot;#800080ff&quot;, &quot;fillOpacity&quot;: 0.2, &quot;fillRule&quot;: &quot;evenodd&quot;, &quot;lineCap&quot;: &quot;round&quot;, &quot;lineJoin&quot;: &quot;round&quot;, &quot;opacity&quot;: 1.0, &quot;radius&quot;: 450, &quot;stroke&quot;: true, &quot;weight&quot;: 3}\n",
       "            ).addTo(map_11f1c67ce06d9c80173f1ed1118eebea);\n",
       "        \n",
       "    \n",
       "            circle_37c18f1d5169116cd75ba52a2a292980.bindTooltip(\n",
       "                `&lt;div&gt;\n",
       "                     ANTILHUE\n",
       "                 &lt;/div&gt;`,\n",
       "                {&quot;sticky&quot;: true}\n",
       "            );\n",
       "        \n",
       "    \n",
       "            var circle_95c5430776aad0c7137847dfc26d9509 = L.circle(\n",
       "                [-39.8710682914, -72.6678013129],\n",
       "                {&quot;bubblingMouseEvents&quot;: true, &quot;color&quot;: &quot;#ffa500ff&quot;, &quot;dashArray&quot;: null, &quot;dashOffset&quot;: null, &quot;fill&quot;: false, &quot;fillColor&quot;: &quot;#ffa500ff&quot;, &quot;fillOpacity&quot;: 0.2, &quot;fillRule&quot;: &quot;evenodd&quot;, &quot;lineCap&quot;: &quot;round&quot;, &quot;lineJoin&quot;: &quot;round&quot;, &quot;opacity&quot;: 1.0, &quot;radius&quot;: 450, &quot;stroke&quot;: true, &quot;weight&quot;: 3}\n",
       "            ).addTo(map_11f1c67ce06d9c80173f1ed1118eebea);\n",
       "        \n",
       "    \n",
       "            circle_95c5430776aad0c7137847dfc26d9509.bindTooltip(\n",
       "                `&lt;div&gt;\n",
       "                     FOLILCO LOS LAGOS\n",
       "                 &lt;/div&gt;`,\n",
       "                {&quot;sticky&quot;: true}\n",
       "            );\n",
       "        \n",
       "    \n",
       "            var circle_ae5a58e827a10156307d958806d883d3 = L.circle(\n",
       "                [-39.9084433218, -72.5733916686],\n",
       "                {&quot;bubblingMouseEvents&quot;: true, &quot;color&quot;: &quot;#0000ffff&quot;, &quot;dashArray&quot;: null, &quot;dashOffset&quot;: null, &quot;fill&quot;: false, &quot;fillColor&quot;: &quot;#0000ffff&quot;, &quot;fillOpacity&quot;: 0.2, &quot;fillRule&quot;: &quot;evenodd&quot;, &quot;lineCap&quot;: &quot;round&quot;, &quot;lineJoin&quot;: &quot;round&quot;, &quot;opacity&quot;: 1.0, &quot;radius&quot;: 450, &quot;stroke&quot;: true, &quot;weight&quot;: 3}\n",
       "            ).addTo(map_11f1c67ce06d9c80173f1ed1118eebea);\n",
       "        \n",
       "    \n",
       "            circle_ae5a58e827a10156307d958806d883d3.bindTooltip(\n",
       "                `&lt;div&gt;\n",
       "                     QUILQUILCO\n",
       "                 &lt;/div&gt;`,\n",
       "                {&quot;sticky&quot;: true}\n",
       "            );\n",
       "        \n",
       "    \n",
       "            var circle_3b4aedde697a51bc37d39f4fcf55aba3 = L.circle(\n",
       "                [-39.8171126188, -72.4425065285],\n",
       "                {&quot;bubblingMouseEvents&quot;: true, &quot;color&quot;: &quot;#0000ffff&quot;, &quot;dashArray&quot;: null, &quot;dashOffset&quot;: null, &quot;fill&quot;: false, &quot;fillColor&quot;: &quot;#0000ffff&quot;, &quot;fillOpacity&quot;: 0.2, &quot;fillRule&quot;: &quot;evenodd&quot;, &quot;lineCap&quot;: &quot;round&quot;, &quot;lineJoin&quot;: &quot;round&quot;, &quot;opacity&quot;: 1.0, &quot;radius&quot;: 450, &quot;stroke&quot;: true, &quot;weight&quot;: 3}\n",
       "            ).addTo(map_11f1c67ce06d9c80173f1ed1118eebea);\n",
       "        \n",
       "    \n",
       "            circle_3b4aedde697a51bc37d39f4fcf55aba3.bindTooltip(\n",
       "                `&lt;div&gt;\n",
       "                     RIÑIHUE\n",
       "                 &lt;/div&gt;`,\n",
       "                {&quot;sticky&quot;: true}\n",
       "            );\n",
       "        \n",
       "    \n",
       "            var circle_d9db3d96b925a875094723c19ec8dcf9 = L.circle(\n",
       "                [-39.7751787818, -72.6519491619],\n",
       "                {&quot;bubblingMouseEvents&quot;: true, &quot;color&quot;: &quot;#008000ff&quot;, &quot;dashArray&quot;: null, &quot;dashOffset&quot;: null, &quot;fill&quot;: false, &quot;fillColor&quot;: &quot;#008000ff&quot;, &quot;fillOpacity&quot;: 0.2, &quot;fillRule&quot;: &quot;evenodd&quot;, &quot;lineCap&quot;: &quot;round&quot;, &quot;lineJoin&quot;: &quot;round&quot;, &quot;opacity&quot;: 1.0, &quot;radius&quot;: 450, &quot;stroke&quot;: true, &quot;weight&quot;: 3}\n",
       "            ).addTo(map_11f1c67ce06d9c80173f1ed1118eebea);\n",
       "        \n",
       "    \n",
       "            circle_d9db3d96b925a875094723c19ec8dcf9.bindTooltip(\n",
       "                `&lt;div&gt;\n",
       "                     USTARITZ\n",
       "                 &lt;/div&gt;`,\n",
       "                {&quot;sticky&quot;: true}\n",
       "            );\n",
       "        \n",
       "    \n",
       "            var circle_5fdb266f3319dd4b653e497df2307d10 = L.circle(\n",
       "                [-39.9987530843, -72.7108188025],\n",
       "                {&quot;bubblingMouseEvents&quot;: true, &quot;color&quot;: &quot;#ffa500ff&quot;, &quot;dashArray&quot;: null, &quot;dashOffset&quot;: null, &quot;fill&quot;: false, &quot;fillColor&quot;: &quot;#ffa500ff&quot;, &quot;fillOpacity&quot;: 0.2, &quot;fillRule&quot;: &quot;evenodd&quot;, &quot;lineCap&quot;: &quot;round&quot;, &quot;lineJoin&quot;: &quot;round&quot;, &quot;opacity&quot;: 1.0, &quot;radius&quot;: 450, &quot;stroke&quot;: true, &quot;weight&quot;: 3}\n",
       "            ).addTo(map_11f1c67ce06d9c80173f1ed1118eebea);\n",
       "        \n",
       "    \n",
       "            circle_5fdb266f3319dd4b653e497df2307d10.bindTooltip(\n",
       "                `&lt;div&gt;\n",
       "                     EL SALTO\n",
       "                 &lt;/div&gt;`,\n",
       "                {&quot;sticky&quot;: true}\n",
       "            );\n",
       "        \n",
       "    \n",
       "            var circle_ab7731741810d47e0ca5ced7d41a168f = L.circle(\n",
       "                [-40.0154665081, -72.5215180883],\n",
       "                {&quot;bubblingMouseEvents&quot;: true, &quot;color&quot;: &quot;#008000ff&quot;, &quot;dashArray&quot;: null, &quot;dashOffset&quot;: null, &quot;fill&quot;: false, &quot;fillColor&quot;: &quot;#008000ff&quot;, &quot;fillOpacity&quot;: 0.2, &quot;fillRule&quot;: &quot;evenodd&quot;, &quot;lineCap&quot;: &quot;round&quot;, &quot;lineJoin&quot;: &quot;round&quot;, &quot;opacity&quot;: 1.0, &quot;radius&quot;: 450, &quot;stroke&quot;: true, &quot;weight&quot;: 3}\n",
       "            ).addTo(map_11f1c67ce06d9c80173f1ed1118eebea);\n",
       "        \n",
       "    \n",
       "            circle_ab7731741810d47e0ca5ced7d41a168f.bindTooltip(\n",
       "                `&lt;div&gt;\n",
       "                     PELLINADA LAS QUINIENTAS\n",
       "                 &lt;/div&gt;`,\n",
       "                {&quot;sticky&quot;: true}\n",
       "            );\n",
       "        \n",
       "    \n",
       "            var circle_9d0f798e5b674054b2008f075db8a5ee = L.circle(\n",
       "                [-39.8526730412, -72.7929315347],\n",
       "                {&quot;bubblingMouseEvents&quot;: true, &quot;color&quot;: &quot;#ffa500ff&quot;, &quot;dashArray&quot;: null, &quot;dashOffset&quot;: null, &quot;fill&quot;: false, &quot;fillColor&quot;: &quot;#ffa500ff&quot;, &quot;fillOpacity&quot;: 0.2, &quot;fillRule&quot;: &quot;evenodd&quot;, &quot;lineCap&quot;: &quot;round&quot;, &quot;lineJoin&quot;: &quot;round&quot;, &quot;opacity&quot;: 1.0, &quot;radius&quot;: 450, &quot;stroke&quot;: true, &quot;weight&quot;: 3}\n",
       "            ).addTo(map_11f1c67ce06d9c80173f1ed1118eebea);\n",
       "        \n",
       "    \n",
       "            circle_9d0f798e5b674054b2008f075db8a5ee.bindTooltip(\n",
       "                `&lt;div&gt;\n",
       "                     PANCUL\n",
       "                 &lt;/div&gt;`,\n",
       "                {&quot;sticky&quot;: true}\n",
       "            );\n",
       "        \n",
       "    \n",
       "            var circle_f13b992e83b7122ef95700bedf7f38fb = L.circle(\n",
       "                [-39.8705154943, -72.781619174],\n",
       "                {&quot;bubblingMouseEvents&quot;: true, &quot;color&quot;: &quot;#ffa500ff&quot;, &quot;dashArray&quot;: null, &quot;dashOffset&quot;: null, &quot;fill&quot;: false, &quot;fillColor&quot;: &quot;#ffa500ff&quot;, &quot;fillOpacity&quot;: 0.2, &quot;fillRule&quot;: &quot;evenodd&quot;, &quot;lineCap&quot;: &quot;round&quot;, &quot;lineJoin&quot;: &quot;round&quot;, &quot;opacity&quot;: 1.0, &quot;radius&quot;: 450, &quot;stroke&quot;: true, &quot;weight&quot;: 3}\n",
       "            ).addTo(map_11f1c67ce06d9c80173f1ed1118eebea);\n",
       "        \n",
       "    \n",
       "            circle_f13b992e83b7122ef95700bedf7f38fb.bindTooltip(\n",
       "                `&lt;div&gt;\n",
       "                     LOS COLIGÜES\n",
       "                 &lt;/div&gt;`,\n",
       "                {&quot;sticky&quot;: true}\n",
       "            );\n",
       "        \n",
       "    \n",
       "            var circle_28f6c187beb03664c01fcac1e54c1b3f = L.circle(\n",
       "                [-39.8817714432, -72.6708273322],\n",
       "                {&quot;bubblingMouseEvents&quot;: true, &quot;color&quot;: &quot;#008000ff&quot;, &quot;dashArray&quot;: null, &quot;dashOffset&quot;: null, &quot;fill&quot;: false, &quot;fillColor&quot;: &quot;#008000ff&quot;, &quot;fillOpacity&quot;: 0.2, &quot;fillRule&quot;: &quot;evenodd&quot;, &quot;lineCap&quot;: &quot;round&quot;, &quot;lineJoin&quot;: &quot;round&quot;, &quot;opacity&quot;: 1.0, &quot;radius&quot;: 450, &quot;stroke&quot;: true, &quot;weight&quot;: 3}\n",
       "            ).addTo(map_11f1c67ce06d9c80173f1ed1118eebea);\n",
       "        \n",
       "    \n",
       "            circle_28f6c187beb03664c01fcac1e54c1b3f.bindTooltip(\n",
       "                `&lt;div&gt;\n",
       "                     COLO COLO\n",
       "                 &lt;/div&gt;`,\n",
       "                {&quot;sticky&quot;: true}\n",
       "            );\n",
       "        \n",
       "    \n",
       "            var circle_4109b46dde7d8c050f396c025ac9c0c8 = L.circle(\n",
       "                [-39.9027809062, -72.5930946759],\n",
       "                {&quot;bubblingMouseEvents&quot;: true, &quot;color&quot;: &quot;#0000ffff&quot;, &quot;dashArray&quot;: null, &quot;dashOffset&quot;: null, &quot;fill&quot;: false, &quot;fillColor&quot;: &quot;#0000ffff&quot;, &quot;fillOpacity&quot;: 0.2, &quot;fillRule&quot;: &quot;evenodd&quot;, &quot;lineCap&quot;: &quot;round&quot;, &quot;lineJoin&quot;: &quot;round&quot;, &quot;opacity&quot;: 1.0, &quot;radius&quot;: 450, &quot;stroke&quot;: true, &quot;weight&quot;: 3}\n",
       "            ).addTo(map_11f1c67ce06d9c80173f1ed1118eebea);\n",
       "        \n",
       "    \n",
       "            circle_4109b46dde7d8c050f396c025ac9c0c8.bindTooltip(\n",
       "                `&lt;div&gt;\n",
       "                     LAS HUELLLAS\n",
       "                 &lt;/div&gt;`,\n",
       "                {&quot;sticky&quot;: true}\n",
       "            );\n",
       "        \n",
       "    \n",
       "            var circle_a8ec8c5b80e8ee457e058a7f6e2ef7a7 = L.circle(\n",
       "                [-39.8171525324, -72.6981700465],\n",
       "                {&quot;bubblingMouseEvents&quot;: true, &quot;color&quot;: &quot;#008000ff&quot;, &quot;dashArray&quot;: null, &quot;dashOffset&quot;: null, &quot;fill&quot;: false, &quot;fillColor&quot;: &quot;#008000ff&quot;, &quot;fillOpacity&quot;: 0.2, &quot;fillRule&quot;: &quot;evenodd&quot;, &quot;lineCap&quot;: &quot;round&quot;, &quot;lineJoin&quot;: &quot;round&quot;, &quot;opacity&quot;: 1.0, &quot;radius&quot;: 450, &quot;stroke&quot;: true, &quot;weight&quot;: 3}\n",
       "            ).addTo(map_11f1c67ce06d9c80173f1ed1118eebea);\n",
       "        \n",
       "    \n",
       "            circle_a8ec8c5b80e8ee457e058a7f6e2ef7a7.bindTooltip(\n",
       "                `&lt;div&gt;\n",
       "                     San Pedro\n",
       "                 &lt;/div&gt;`,\n",
       "                {&quot;sticky&quot;: true}\n",
       "            );\n",
       "        \n",
       "    \n",
       "            var circle_426b4ae505c6872c78c429b7b0f2f222 = L.circle(\n",
       "                [-39.9151109593, -72.78974687],\n",
       "                {&quot;bubblingMouseEvents&quot;: true, &quot;color&quot;: &quot;#008000ff&quot;, &quot;dashArray&quot;: null, &quot;dashOffset&quot;: null, &quot;fill&quot;: false, &quot;fillColor&quot;: &quot;#008000ff&quot;, &quot;fillOpacity&quot;: 0.2, &quot;fillRule&quot;: &quot;evenodd&quot;, &quot;lineCap&quot;: &quot;round&quot;, &quot;lineJoin&quot;: &quot;round&quot;, &quot;opacity&quot;: 1.0, &quot;radius&quot;: 450, &quot;stroke&quot;: true, &quot;weight&quot;: 3}\n",
       "            ).addTo(map_11f1c67ce06d9c80173f1ed1118eebea);\n",
       "        \n",
       "    \n",
       "            circle_426b4ae505c6872c78c429b7b0f2f222.bindTooltip(\n",
       "                `&lt;div&gt;\n",
       "                     Lipingue\n",
       "                 &lt;/div&gt;`,\n",
       "                {&quot;sticky&quot;: true}\n",
       "            );\n",
       "        \n",
       "    \n",
       "            var circle_e9a9d84b25a1e31fff4b9587276c1e60 = L.circle(\n",
       "                [-39.9809683663, -72.7929665382],\n",
       "                {&quot;bubblingMouseEvents&quot;: true, &quot;color&quot;: &quot;#0000ffff&quot;, &quot;dashArray&quot;: null, &quot;dashOffset&quot;: null, &quot;fill&quot;: false, &quot;fillColor&quot;: &quot;#0000ffff&quot;, &quot;fillOpacity&quot;: 0.2, &quot;fillRule&quot;: &quot;evenodd&quot;, &quot;lineCap&quot;: &quot;round&quot;, &quot;lineJoin&quot;: &quot;round&quot;, &quot;opacity&quot;: 1.0, &quot;radius&quot;: 450, &quot;stroke&quot;: true, &quot;weight&quot;: 3}\n",
       "            ).addTo(map_11f1c67ce06d9c80173f1ed1118eebea);\n",
       "        \n",
       "    \n",
       "            circle_e9a9d84b25a1e31fff4b9587276c1e60.bindTooltip(\n",
       "                `&lt;div&gt;\n",
       "                     El Trebol\n",
       "                 &lt;/div&gt;`,\n",
       "                {&quot;sticky&quot;: true}\n",
       "            );\n",
       "        \n",
       "    \n",
       "            var circle_cce4a4757f33afa942cc15b61333058c = L.circle(\n",
       "                [-39.891383155, -72.7942956633],\n",
       "                {&quot;bubblingMouseEvents&quot;: true, &quot;color&quot;: &quot;#0000ffff&quot;, &quot;dashArray&quot;: null, &quot;dashOffset&quot;: null, &quot;fill&quot;: false, &quot;fillColor&quot;: &quot;#0000ffff&quot;, &quot;fillOpacity&quot;: 0.2, &quot;fillRule&quot;: &quot;evenodd&quot;, &quot;lineCap&quot;: &quot;round&quot;, &quot;lineJoin&quot;: &quot;round&quot;, &quot;opacity&quot;: 1.0, &quot;radius&quot;: 450, &quot;stroke&quot;: true, &quot;weight&quot;: 3}\n",
       "            ).addTo(map_11f1c67ce06d9c80173f1ed1118eebea);\n",
       "        \n",
       "    \n",
       "            circle_cce4a4757f33afa942cc15b61333058c.bindTooltip(\n",
       "                `&lt;div&gt;\n",
       "                     Collico Sur\n",
       "                 &lt;/div&gt;`,\n",
       "                {&quot;sticky&quot;: true}\n",
       "            );\n",
       "        \n",
       "    \n",
       "            var circle_950313878fb2f75f821c7c3b11585c39 = L.circle(\n",
       "                [-39.854954476, -72.6609940373],\n",
       "                {&quot;bubblingMouseEvents&quot;: true, &quot;color&quot;: &quot;#0000ffff&quot;, &quot;dashArray&quot;: null, &quot;dashOffset&quot;: null, &quot;fill&quot;: false, &quot;fillColor&quot;: &quot;#0000ffff&quot;, &quot;fillOpacity&quot;: 0.2, &quot;fillRule&quot;: &quot;evenodd&quot;, &quot;lineCap&quot;: &quot;round&quot;, &quot;lineJoin&quot;: &quot;round&quot;, &quot;opacity&quot;: 1.0, &quot;radius&quot;: 450, &quot;stroke&quot;: true, &quot;weight&quot;: 3}\n",
       "            ).addTo(map_11f1c67ce06d9c80173f1ed1118eebea);\n",
       "        \n",
       "    \n",
       "            circle_950313878fb2f75f821c7c3b11585c39.bindTooltip(\n",
       "                `&lt;div&gt;\n",
       "                     Mi Tierra\n",
       "                 &lt;/div&gt;`,\n",
       "                {&quot;sticky&quot;: true}\n",
       "            );\n",
       "        \n",
       "    \n",
       "            var circle_59de2780bc7e930edb8b82372dd0437a = L.circle(\n",
       "                [-39.8597946179, -72.7236128048],\n",
       "                {&quot;bubblingMouseEvents&quot;: true, &quot;color&quot;: &quot;#0000ffff&quot;, &quot;dashArray&quot;: null, &quot;dashOffset&quot;: null, &quot;fill&quot;: false, &quot;fillColor&quot;: &quot;#0000ffff&quot;, &quot;fillOpacity&quot;: 0.2, &quot;fillRule&quot;: &quot;evenodd&quot;, &quot;lineCap&quot;: &quot;round&quot;, &quot;lineJoin&quot;: &quot;round&quot;, &quot;opacity&quot;: 1.0, &quot;radius&quot;: 450, &quot;stroke&quot;: true, &quot;weight&quot;: 3}\n",
       "            ).addTo(map_11f1c67ce06d9c80173f1ed1118eebea);\n",
       "        \n",
       "    \n",
       "            circle_59de2780bc7e930edb8b82372dd0437a.bindTooltip(\n",
       "                `&lt;div&gt;\n",
       "                     Puñaco\n",
       "                 &lt;/div&gt;`,\n",
       "                {&quot;sticky&quot;: true}\n",
       "            );\n",
       "        \n",
       "    \n",
       "            var circle_28f8fe8ebf696dcd39e931086321cd05 = L.circle(\n",
       "                [-39.8183071179, -72.8753063555],\n",
       "                {&quot;bubblingMouseEvents&quot;: true, &quot;color&quot;: &quot;#0000ffff&quot;, &quot;dashArray&quot;: null, &quot;dashOffset&quot;: null, &quot;fill&quot;: false, &quot;fillColor&quot;: &quot;#0000ffff&quot;, &quot;fillOpacity&quot;: 0.2, &quot;fillRule&quot;: &quot;evenodd&quot;, &quot;lineCap&quot;: &quot;round&quot;, &quot;lineJoin&quot;: &quot;round&quot;, &quot;opacity&quot;: 1.0, &quot;radius&quot;: 450, &quot;stroke&quot;: true, &quot;weight&quot;: 3}\n",
       "            ).addTo(map_11f1c67ce06d9c80173f1ed1118eebea);\n",
       "        \n",
       "    \n",
       "            circle_28f8fe8ebf696dcd39e931086321cd05.bindTooltip(\n",
       "                `&lt;div&gt;\n",
       "                     Purey\n",
       "                 &lt;/div&gt;`,\n",
       "                {&quot;sticky&quot;: true}\n",
       "            );\n",
       "        \n",
       "    \n",
       "            var circle_dedbdf53db9cfb9479ed51b307574897 = L.circle(\n",
       "                [-39.8631470531, -73.4340874604],\n",
       "                {&quot;bubblingMouseEvents&quot;: true, &quot;color&quot;: &quot;#800080ff&quot;, &quot;dashArray&quot;: null, &quot;dashOffset&quot;: null, &quot;fill&quot;: false, &quot;fillColor&quot;: &quot;#800080ff&quot;, &quot;fillOpacity&quot;: 0.2, &quot;fillRule&quot;: &quot;evenodd&quot;, &quot;lineCap&quot;: &quot;round&quot;, &quot;lineJoin&quot;: &quot;round&quot;, &quot;opacity&quot;: 1.0, &quot;radius&quot;: 450, &quot;stroke&quot;: true, &quot;weight&quot;: 3}\n",
       "            ).addTo(map_11f1c67ce06d9c80173f1ed1118eebea);\n",
       "        \n",
       "    \n",
       "            circle_dedbdf53db9cfb9479ed51b307574897.bindTooltip(\n",
       "                `&lt;div&gt;\n",
       "                     AMARGO-SAN CARLOS\n",
       "                 &lt;/div&gt;`,\n",
       "                {&quot;sticky&quot;: true}\n",
       "            );\n",
       "        \n",
       "    \n",
       "            var circle_b6b3ee10f6dd56874d17d428945b7e51 = L.circle(\n",
       "                [-39.8754350487, -73.3587930086],\n",
       "                {&quot;bubblingMouseEvents&quot;: true, &quot;color&quot;: &quot;#ffa500ff&quot;, &quot;dashArray&quot;: null, &quot;dashOffset&quot;: null, &quot;fill&quot;: false, &quot;fillColor&quot;: &quot;#ffa500ff&quot;, &quot;fillOpacity&quot;: 0.2, &quot;fillRule&quot;: &quot;evenodd&quot;, &quot;lineCap&quot;: &quot;round&quot;, &quot;lineJoin&quot;: &quot;round&quot;, &quot;opacity&quot;: 1.0, &quot;radius&quot;: 450, &quot;stroke&quot;: true, &quot;weight&quot;: 3}\n",
       "            ).addTo(map_11f1c67ce06d9c80173f1ed1118eebea);\n",
       "        \n",
       "    \n",
       "            circle_b6b3ee10f6dd56874d17d428945b7e51.bindTooltip(\n",
       "                `&lt;div&gt;\n",
       "                     ISLA DEL REY\n",
       "                 &lt;/div&gt;`,\n",
       "                {&quot;sticky&quot;: true}\n",
       "            );\n",
       "        \n",
       "    \n",
       "            var circle_4f7111aa0051bbaa06f02cc3bfb2bb77 = L.circle(\n",
       "                [-39.8905057848, -73.3917808877],\n",
       "                {&quot;bubblingMouseEvents&quot;: true, &quot;color&quot;: &quot;#0000ffff&quot;, &quot;dashArray&quot;: null, &quot;dashOffset&quot;: null, &quot;fill&quot;: false, &quot;fillColor&quot;: &quot;#0000ffff&quot;, &quot;fillOpacity&quot;: 0.2, &quot;fillRule&quot;: &quot;evenodd&quot;, &quot;lineCap&quot;: &quot;round&quot;, &quot;lineJoin&quot;: &quot;round&quot;, &quot;opacity&quot;: 1.0, &quot;radius&quot;: 450, &quot;stroke&quot;: true, &quot;weight&quot;: 3}\n",
       "            ).addTo(map_11f1c67ce06d9c80173f1ed1118eebea);\n",
       "        \n",
       "    \n",
       "            circle_4f7111aa0051bbaa06f02cc3bfb2bb77.bindTooltip(\n",
       "                `&lt;div&gt;\n",
       "                     ISLA MANCERA\n",
       "                 &lt;/div&gt;`,\n",
       "                {&quot;sticky&quot;: true}\n",
       "            );\n",
       "        \n",
       "    \n",
       "            var circle_ec6124335bf5782ab8c99fa16e86deb0 = L.circle(\n",
       "                [-39.8964415368, -73.417776163],\n",
       "                {&quot;bubblingMouseEvents&quot;: true, &quot;color&quot;: &quot;#ffa500ff&quot;, &quot;dashArray&quot;: null, &quot;dashOffset&quot;: null, &quot;fill&quot;: false, &quot;fillColor&quot;: &quot;#ffa500ff&quot;, &quot;fillOpacity&quot;: 0.2, &quot;fillRule&quot;: &quot;evenodd&quot;, &quot;lineCap&quot;: &quot;round&quot;, &quot;lineJoin&quot;: &quot;round&quot;, &quot;opacity&quot;: 1.0, &quot;radius&quot;: 450, &quot;stroke&quot;: true, &quot;weight&quot;: 3}\n",
       "            ).addTo(map_11f1c67ce06d9c80173f1ed1118eebea);\n",
       "        \n",
       "    \n",
       "            circle_ec6124335bf5782ab8c99fa16e86deb0.bindTooltip(\n",
       "                `&lt;div&gt;\n",
       "                     LA AGUADA\n",
       "                 &lt;/div&gt;`,\n",
       "                {&quot;sticky&quot;: true}\n",
       "            );\n",
       "        \n",
       "    \n",
       "            var circle_0d4a28ad140292825ea960756f9282af = L.circle(\n",
       "                [-39.9656281859, -73.6194983481],\n",
       "                {&quot;bubblingMouseEvents&quot;: true, &quot;color&quot;: &quot;#ff0000ff&quot;, &quot;dashArray&quot;: null, &quot;dashOffset&quot;: null, &quot;fill&quot;: false, &quot;fillColor&quot;: &quot;#ff0000ff&quot;, &quot;fillOpacity&quot;: 0.2, &quot;fillRule&quot;: &quot;evenodd&quot;, &quot;lineCap&quot;: &quot;round&quot;, &quot;lineJoin&quot;: &quot;round&quot;, &quot;opacity&quot;: 1.0, &quot;radius&quot;: 450, &quot;stroke&quot;: true, &quot;weight&quot;: 3}\n",
       "            ).addTo(map_11f1c67ce06d9c80173f1ed1118eebea);\n",
       "        \n",
       "    \n",
       "            circle_0d4a28ad140292825ea960756f9282af.bindTooltip(\n",
       "                `&lt;div&gt;\n",
       "                     CHAIHUIN\n",
       "                 &lt;/div&gt;`,\n",
       "                {&quot;sticky&quot;: true}\n",
       "            );\n",
       "        \n",
       "    \n",
       "            var circle_5dde5761e60751d39a1eb288ba9e2ff3 = L.circle(\n",
       "                [-39.8970045115, -73.4310820761],\n",
       "                {&quot;bubblingMouseEvents&quot;: true, &quot;color&quot;: &quot;#ffa500ff&quot;, &quot;dashArray&quot;: null, &quot;dashOffset&quot;: null, &quot;fill&quot;: false, &quot;fillColor&quot;: &quot;#ffa500ff&quot;, &quot;fillOpacity&quot;: 0.2, &quot;fillRule&quot;: &quot;evenodd&quot;, &quot;lineCap&quot;: &quot;round&quot;, &quot;lineJoin&quot;: &quot;round&quot;, &quot;opacity&quot;: 1.0, &quot;radius&quot;: 450, &quot;stroke&quot;: true, &quot;weight&quot;: 3}\n",
       "            ).addTo(map_11f1c67ce06d9c80173f1ed1118eebea);\n",
       "        \n",
       "    \n",
       "            circle_5dde5761e60751d39a1eb288ba9e2ff3.bindTooltip(\n",
       "                `&lt;div&gt;\n",
       "                     CERROS DE CORRAL\n",
       "                 &lt;/div&gt;`,\n",
       "                {&quot;sticky&quot;: true}\n",
       "            );\n",
       "        \n",
       "&lt;/script&gt;\" style=\"position:absolute;width:100%;height:100%;left:0;top:0;border:none !important;\" allowfullscreen webkitallowfullscreen mozallowfullscreen></iframe></div></div>"
      ],
      "text/plain": [
       "<folium.folium.Map at 0x213ebd97d00>"
      ]
     },
     "execution_count": 58,
     "metadata": {},
     "output_type": "execute_result"
    }
   ],
   "source": [
    "map = folium.Map(location = [-39.925826, -73.114501], tiles = \"OpenStreetMap\", zoom_start = 9.5)\n",
    "\n",
    "#Recopilación de datos\n",
    "datos_beneficiarios_valdivia=list(datos.iloc[1963:1977,9])\n",
    "datos_beneficiarios_paillaco=list(datos.iloc[1919:1930,9])\n",
    "datos_beneficiarios_loslagos=list(datos.iloc[1885:1903,9])\n",
    "datos_beneficiarios_corral=list(datos.iloc[1873:1879,9])\n",
    "\n",
    "beneficiarios = datos_beneficiarios_valdivia+datos_beneficiarios_paillaco+datos_beneficiarios_loslagos+datos_beneficiarios_corral\n",
    "\n",
    "colormap = folium.StepColormap(colors=['blue','green','orange','red','purple'] ,\n",
    "                           index=[71,292.5,434,732.5,1327,4021],\n",
    "                           vmin= 71,\n",
    "                           vmax=4021)\n",
    "map = folium.Map(location = [-39.925826, -73.114501], tiles = \"OpenStreetMap\", zoom_start = 9.5)\n",
    "\n",
    "for i in range(len(locations)):\n",
    "    nombre=nombres[i]\n",
    "    folium.Circle(location=locations[i],tooltip=nombre,radius=450,color=colormap(beneficiarios[i])).add_to(map)\n",
    "    \n",
    "map"
   ]
  },
  {
   "cell_type": "code",
   "execution_count": 72,
   "id": "77284582-f9d8-41ff-ab08-4c0143a690be",
   "metadata": {},
   "outputs": [
    {
     "data": {
      "text/html": [
       "<div style=\"width:100%;\"><div style=\"position:relative;width:100%;height:0;padding-bottom:60%;\"><span style=\"color:#565656\">Make this Notebook Trusted to load map: File -> Trust Notebook</span><iframe srcdoc=\"&lt;!DOCTYPE html&gt;\n",
       "&lt;head&gt;    \n",
       "    &lt;meta http-equiv=&quot;content-type&quot; content=&quot;text/html; charset=UTF-8&quot; /&gt;\n",
       "    \n",
       "        &lt;script&gt;\n",
       "            L_NO_TOUCH = false;\n",
       "            L_DISABLE_3D = false;\n",
       "        &lt;/script&gt;\n",
       "    \n",
       "    &lt;style&gt;html, body {width: 100%;height: 100%;margin: 0;padding: 0;}&lt;/style&gt;\n",
       "    &lt;style&gt;#map {position:absolute;top:0;bottom:0;right:0;left:0;}&lt;/style&gt;\n",
       "    &lt;script src=&quot;https://cdn.jsdelivr.net/npm/leaflet@1.6.0/dist/leaflet.js&quot;&gt;&lt;/script&gt;\n",
       "    &lt;script src=&quot;https://code.jquery.com/jquery-1.12.4.min.js&quot;&gt;&lt;/script&gt;\n",
       "    &lt;script src=&quot;https://maxcdn.bootstrapcdn.com/bootstrap/3.2.0/js/bootstrap.min.js&quot;&gt;&lt;/script&gt;\n",
       "    &lt;script src=&quot;https://cdnjs.cloudflare.com/ajax/libs/Leaflet.awesome-markers/2.0.2/leaflet.awesome-markers.js&quot;&gt;&lt;/script&gt;\n",
       "    &lt;link rel=&quot;stylesheet&quot; href=&quot;https://cdn.jsdelivr.net/npm/leaflet@1.6.0/dist/leaflet.css&quot;/&gt;\n",
       "    &lt;link rel=&quot;stylesheet&quot; href=&quot;https://maxcdn.bootstrapcdn.com/bootstrap/3.2.0/css/bootstrap.min.css&quot;/&gt;\n",
       "    &lt;link rel=&quot;stylesheet&quot; href=&quot;https://maxcdn.bootstrapcdn.com/bootstrap/3.2.0/css/bootstrap-theme.min.css&quot;/&gt;\n",
       "    &lt;link rel=&quot;stylesheet&quot; href=&quot;https://maxcdn.bootstrapcdn.com/font-awesome/4.6.3/css/font-awesome.min.css&quot;/&gt;\n",
       "    &lt;link rel=&quot;stylesheet&quot; href=&quot;https://cdnjs.cloudflare.com/ajax/libs/Leaflet.awesome-markers/2.0.2/leaflet.awesome-markers.css&quot;/&gt;\n",
       "    &lt;link rel=&quot;stylesheet&quot; href=&quot;https://cdn.jsdelivr.net/gh/python-visualization/folium/folium/templates/leaflet.awesome.rotate.min.css&quot;/&gt;\n",
       "    \n",
       "            &lt;meta name=&quot;viewport&quot; content=&quot;width=device-width,\n",
       "                initial-scale=1.0, maximum-scale=1.0, user-scalable=no&quot; /&gt;\n",
       "            &lt;style&gt;\n",
       "                #map_ff9806f8132e2db8e53619961f39bce9 {\n",
       "                    position: relative;\n",
       "                    width: 100.0%;\n",
       "                    height: 100.0%;\n",
       "                    left: 0.0%;\n",
       "                    top: 0.0%;\n",
       "                }\n",
       "            &lt;/style&gt;\n",
       "        \n",
       "&lt;/head&gt;\n",
       "&lt;body&gt;    \n",
       "    \n",
       "            &lt;div class=&quot;folium-map&quot; id=&quot;map_ff9806f8132e2db8e53619961f39bce9&quot; &gt;&lt;/div&gt;\n",
       "        \n",
       "&lt;/body&gt;\n",
       "&lt;script&gt;    \n",
       "    \n",
       "            var map_ff9806f8132e2db8e53619961f39bce9 = L.map(\n",
       "                &quot;map_ff9806f8132e2db8e53619961f39bce9&quot;,\n",
       "                {\n",
       "                    center: [-39.925826, -73.114501],\n",
       "                    crs: L.CRS.EPSG3857,\n",
       "                    zoom: 9.5,\n",
       "                    zoomControl: true,\n",
       "                    preferCanvas: false,\n",
       "                }\n",
       "            );\n",
       "\n",
       "            \n",
       "\n",
       "        \n",
       "    \n",
       "            var tile_layer_20e0ef31967902a8b206cd3c4e591c61 = L.tileLayer(\n",
       "                &quot;https://{s}.tile.openstreetmap.org/{z}/{x}/{y}.png&quot;,\n",
       "                {&quot;attribution&quot;: &quot;Data by \\u0026copy; \\u003ca href=\\&quot;http://openstreetmap.org\\&quot;\\u003eOpenStreetMap\\u003c/a\\u003e, under \\u003ca href=\\&quot;http://www.openstreetmap.org/copyright\\&quot;\\u003eODbL\\u003c/a\\u003e.&quot;, &quot;detectRetina&quot;: false, &quot;maxNativeZoom&quot;: 18, &quot;maxZoom&quot;: 18, &quot;minZoom&quot;: 0, &quot;noWrap&quot;: false, &quot;opacity&quot;: 1, &quot;subdomains&quot;: &quot;abc&quot;, &quot;tms&quot;: false}\n",
       "            ).addTo(map_ff9806f8132e2db8e53619961f39bce9);\n",
       "        \n",
       "    \n",
       "            var marker_5edd6b4dec3c3a909519ee8405177e29 = L.marker(\n",
       "                [-39.8062305249, -73.0547464487],\n",
       "                {}\n",
       "            ).addTo(map_ff9806f8132e2db8e53619961f39bce9);\n",
       "        \n",
       "    \n",
       "            var icon_c55fe82edd4c2357c425eb10d14d53b7 = L.AwesomeMarkers.icon(\n",
       "                {&quot;extraClasses&quot;: &quot;fa-rotate-0&quot;, &quot;icon&quot;: &quot;info-sign&quot;, &quot;iconColor&quot;: &quot;white&quot;, &quot;markerColor&quot;: &quot;green&quot;, &quot;prefix&quot;: &quot;glyphicon&quot;}\n",
       "            );\n",
       "            marker_5edd6b4dec3c3a909519ee8405177e29.setIcon(icon_c55fe82edd4c2357c425eb10d14d53b7);\n",
       "        \n",
       "    \n",
       "        var popup_f4e08dd1bf8a082379c2eb848df02b66 = L.popup({&quot;maxWidth&quot;: &quot;100%&quot;});\n",
       "\n",
       "        \n",
       "            var html_b8bee3f4dd1124b89cf6b451176301fe = $(`&lt;div id=&quot;html_b8bee3f4dd1124b89cf6b451176301fe&quot; style=&quot;width: 100.0%; height: 100.0%;&quot;&gt;&lt;b&gt;Nombre: &lt;/b&gt;PISHUINCO  &lt;b&gt;Número de personas beneficiadas: &lt;/b&gt;322  &lt;b&gt;Año de puesta en marcha: &lt;/b&gt;2011.0&lt;/div&gt;`)[0];\n",
       "            popup_f4e08dd1bf8a082379c2eb848df02b66.setContent(html_b8bee3f4dd1124b89cf6b451176301fe);\n",
       "        \n",
       "\n",
       "        marker_5edd6b4dec3c3a909519ee8405177e29.bindPopup(popup_f4e08dd1bf8a082379c2eb848df02b66)\n",
       "        ;\n",
       "\n",
       "        \n",
       "    \n",
       "    \n",
       "            marker_5edd6b4dec3c3a909519ee8405177e29.bindTooltip(\n",
       "                `&lt;div&gt;\n",
       "                     PISHUINCO\n",
       "                 &lt;/div&gt;`,\n",
       "                {&quot;sticky&quot;: true}\n",
       "            );\n",
       "        \n",
       "    \n",
       "            var marker_7f53ed310c0f3b2afafce619bfb3e19a = L.marker(\n",
       "                [-39.7283824204, -73.3948919817],\n",
       "                {}\n",
       "            ).addTo(map_ff9806f8132e2db8e53619961f39bce9);\n",
       "        \n",
       "    \n",
       "            var icon_fc5673ccba189d0b942a04f3011aca1b = L.AwesomeMarkers.icon(\n",
       "                {&quot;extraClasses&quot;: &quot;fa-rotate-0&quot;, &quot;icon&quot;: &quot;info-sign&quot;, &quot;iconColor&quot;: &quot;white&quot;, &quot;markerColor&quot;: &quot;purple&quot;, &quot;prefix&quot;: &quot;glyphicon&quot;}\n",
       "            );\n",
       "            marker_7f53ed310c0f3b2afafce619bfb3e19a.setIcon(icon_fc5673ccba189d0b942a04f3011aca1b);\n",
       "        \n",
       "    \n",
       "        var popup_27e7cec17cdfa48dc03b8602c142a020 = L.popup({&quot;maxWidth&quot;: &quot;100%&quot;});\n",
       "\n",
       "        \n",
       "            var html_8464439d60e86052ba61cdc156ef56aa = $(`&lt;div id=&quot;html_8464439d60e86052ba61cdc156ef56aa&quot; style=&quot;width: 100.0%; height: 100.0%;&quot;&gt;&lt;b&gt;Nombre: &lt;/b&gt;CURIÑANCO  &lt;b&gt;Número de personas beneficiadas: &lt;/b&gt;2294  &lt;b&gt;Año de puesta en marcha: &lt;/b&gt;1997.0&lt;/div&gt;`)[0];\n",
       "            popup_27e7cec17cdfa48dc03b8602c142a020.setContent(html_8464439d60e86052ba61cdc156ef56aa);\n",
       "        \n",
       "\n",
       "        marker_7f53ed310c0f3b2afafce619bfb3e19a.bindPopup(popup_27e7cec17cdfa48dc03b8602c142a020)\n",
       "        ;\n",
       "\n",
       "        \n",
       "    \n",
       "    \n",
       "            marker_7f53ed310c0f3b2afafce619bfb3e19a.bindTooltip(\n",
       "                `&lt;div&gt;\n",
       "                     CURIÑANCO\n",
       "                 &lt;/div&gt;`,\n",
       "                {&quot;sticky&quot;: true}\n",
       "            );\n",
       "        \n",
       "    \n",
       "            var marker_c3844ac9d53276259cb571797bc8c8de = L.marker(\n",
       "                [-39.7930844112, -73.124067117],\n",
       "                {}\n",
       "            ).addTo(map_ff9806f8132e2db8e53619961f39bce9);\n",
       "        \n",
       "    \n",
       "            var icon_a833e583caa94d19f11b17c0702fc24f = L.AwesomeMarkers.icon(\n",
       "                {&quot;extraClasses&quot;: &quot;fa-rotate-0&quot;, &quot;icon&quot;: &quot;info-sign&quot;, &quot;iconColor&quot;: &quot;white&quot;, &quot;markerColor&quot;: &quot;green&quot;, &quot;prefix&quot;: &quot;glyphicon&quot;}\n",
       "            );\n",
       "            marker_c3844ac9d53276259cb571797bc8c8de.setIcon(icon_a833e583caa94d19f11b17c0702fc24f);\n",
       "        \n",
       "    \n",
       "        var popup_2d98b01673b1d6d8be5fa43971a94b21 = L.popup({&quot;maxWidth&quot;: &quot;100%&quot;});\n",
       "\n",
       "        \n",
       "            var html_357e4a98a7be511700631a1d19af7a35 = $(`&lt;div id=&quot;html_357e4a98a7be511700631a1d19af7a35&quot; style=&quot;width: 100.0%; height: 100.0%;&quot;&gt;&lt;b&gt;Nombre: &lt;/b&gt;HUELLELHUE  &lt;b&gt;Número de personas beneficiadas: &lt;/b&gt;310  &lt;b&gt;Año de puesta en marcha: &lt;/b&gt;1981.0&lt;/div&gt;`)[0];\n",
       "            popup_2d98b01673b1d6d8be5fa43971a94b21.setContent(html_357e4a98a7be511700631a1d19af7a35);\n",
       "        \n",
       "\n",
       "        marker_c3844ac9d53276259cb571797bc8c8de.bindPopup(popup_2d98b01673b1d6d8be5fa43971a94b21)\n",
       "        ;\n",
       "\n",
       "        \n",
       "    \n",
       "    \n",
       "            marker_c3844ac9d53276259cb571797bc8c8de.bindTooltip(\n",
       "                `&lt;div&gt;\n",
       "                     HUELLELHUE\n",
       "                 &lt;/div&gt;`,\n",
       "                {&quot;sticky&quot;: true}\n",
       "            );\n",
       "        \n",
       "    \n",
       "            var marker_e09225ccb01c5f355bf7f96897715337 = L.marker(\n",
       "                [-39.8715639883, -73.1852346315],\n",
       "                {}\n",
       "            ).addTo(map_ff9806f8132e2db8e53619961f39bce9);\n",
       "        \n",
       "    \n",
       "            var icon_7d5059727485b60335df2e09f90fa22f = L.AwesomeMarkers.icon(\n",
       "                {&quot;extraClasses&quot;: &quot;fa-rotate-0&quot;, &quot;icon&quot;: &quot;info-sign&quot;, &quot;iconColor&quot;: &quot;white&quot;, &quot;markerColor&quot;: &quot;red&quot;, &quot;prefix&quot;: &quot;glyphicon&quot;}\n",
       "            );\n",
       "            marker_e09225ccb01c5f355bf7f96897715337.setIcon(icon_7d5059727485b60335df2e09f90fa22f);\n",
       "        \n",
       "    \n",
       "        var popup_7e7d265c7f56e37aaeaf7b4231e58926 = L.popup({&quot;maxWidth&quot;: &quot;100%&quot;});\n",
       "\n",
       "        \n",
       "            var html_aa5f56296bcf2e14d985d4fc147c25c7 = $(`&lt;div id=&quot;html_aa5f56296bcf2e14d985d4fc147c25c7&quot; style=&quot;width: 100.0%; height: 100.0%;&quot;&gt;&lt;b&gt;Nombre: &lt;/b&gt;LAS GAVIOTAS  &lt;b&gt;Número de personas beneficiadas: &lt;/b&gt;1048  &lt;b&gt;Año de puesta en marcha: &lt;/b&gt;2002.0&lt;/div&gt;`)[0];\n",
       "            popup_7e7d265c7f56e37aaeaf7b4231e58926.setContent(html_aa5f56296bcf2e14d985d4fc147c25c7);\n",
       "        \n",
       "\n",
       "        marker_e09225ccb01c5f355bf7f96897715337.bindPopup(popup_7e7d265c7f56e37aaeaf7b4231e58926)\n",
       "        ;\n",
       "\n",
       "        \n",
       "    \n",
       "    \n",
       "            marker_e09225ccb01c5f355bf7f96897715337.bindTooltip(\n",
       "                `&lt;div&gt;\n",
       "                     LAS GAVIOTAS\n",
       "                 &lt;/div&gt;`,\n",
       "                {&quot;sticky&quot;: true}\n",
       "            );\n",
       "        \n",
       "    \n",
       "            var marker_c061a80271db058335701af81c1d29d6 = L.marker(\n",
       "                [-39.8547751549, -73.3907718436],\n",
       "                {}\n",
       "            ).addTo(map_ff9806f8132e2db8e53619961f39bce9);\n",
       "        \n",
       "    \n",
       "            var icon_740f166e0baf71017827f5dd68b585b1 = L.AwesomeMarkers.icon(\n",
       "                {&quot;extraClasses&quot;: &quot;fa-rotate-0&quot;, &quot;icon&quot;: &quot;info-sign&quot;, &quot;iconColor&quot;: &quot;white&quot;, &quot;markerColor&quot;: &quot;purple&quot;, &quot;prefix&quot;: &quot;glyphicon&quot;}\n",
       "            );\n",
       "            marker_c061a80271db058335701af81c1d29d6.setIcon(icon_740f166e0baf71017827f5dd68b585b1);\n",
       "        \n",
       "    \n",
       "        var popup_c28609630ed107dabe3757dab58f2bb7 = L.popup({&quot;maxWidth&quot;: &quot;100%&quot;});\n",
       "\n",
       "        \n",
       "            var html_aa22df709d56290d52c8e99d4bf4454e = $(`&lt;div id=&quot;html_aa22df709d56290d52c8e99d4bf4454e&quot; style=&quot;width: 100.0%; height: 100.0%;&quot;&gt;&lt;b&gt;Nombre: &lt;/b&gt;NIEBLA-LOS MOLINOS  &lt;b&gt;Número de personas beneficiadas: &lt;/b&gt;4021  &lt;b&gt;Año de puesta en marcha: &lt;/b&gt;1994.0&lt;/div&gt;`)[0];\n",
       "            popup_c28609630ed107dabe3757dab58f2bb7.setContent(html_aa22df709d56290d52c8e99d4bf4454e);\n",
       "        \n",
       "\n",
       "        marker_c061a80271db058335701af81c1d29d6.bindPopup(popup_c28609630ed107dabe3757dab58f2bb7)\n",
       "        ;\n",
       "\n",
       "        \n",
       "    \n",
       "    \n",
       "            marker_c061a80271db058335701af81c1d29d6.bindTooltip(\n",
       "                `&lt;div&gt;\n",
       "                     NIEBLA-LOS MOLINOS\n",
       "                 &lt;/div&gt;`,\n",
       "                {&quot;sticky&quot;: true}\n",
       "            );\n",
       "        \n",
       "    \n",
       "            var marker_e774df4a93def6a074a086faeb6d7904 = L.marker(\n",
       "                [-39.7603001637, -73.2705681336],\n",
       "                {}\n",
       "            ).addTo(map_ff9806f8132e2db8e53619961f39bce9);\n",
       "        \n",
       "    \n",
       "            var icon_6532add97170fdb2115b030c6fb47983 = L.AwesomeMarkers.icon(\n",
       "                {&quot;extraClasses&quot;: &quot;fa-rotate-0&quot;, &quot;icon&quot;: &quot;info-sign&quot;, &quot;iconColor&quot;: &quot;white&quot;, &quot;markerColor&quot;: &quot;orange&quot;, &quot;prefix&quot;: &quot;glyphicon&quot;}\n",
       "            );\n",
       "            marker_e774df4a93def6a074a086faeb6d7904.setIcon(icon_6532add97170fdb2115b030c6fb47983);\n",
       "        \n",
       "    \n",
       "        var popup_e4b7a49b170ae71932f45948a97e9f6a = L.popup({&quot;maxWidth&quot;: &quot;100%&quot;});\n",
       "\n",
       "        \n",
       "            var html_83266e80060491835b569ebc7f550cc2 = $(`&lt;div id=&quot;html_83266e80060491835b569ebc7f550cc2&quot; style=&quot;width: 100.0%; height: 100.0%;&quot;&gt;&lt;b&gt;Nombre: &lt;/b&gt;PUNUCAPA  &lt;b&gt;Número de personas beneficiadas: &lt;/b&gt;459  &lt;b&gt;Año de puesta en marcha: &lt;/b&gt;2001.0&lt;/div&gt;`)[0];\n",
       "            popup_e4b7a49b170ae71932f45948a97e9f6a.setContent(html_83266e80060491835b569ebc7f550cc2);\n",
       "        \n",
       "\n",
       "        marker_e774df4a93def6a074a086faeb6d7904.bindPopup(popup_e4b7a49b170ae71932f45948a97e9f6a)\n",
       "        ;\n",
       "\n",
       "        \n",
       "    \n",
       "    \n",
       "            marker_e774df4a93def6a074a086faeb6d7904.bindTooltip(\n",
       "                `&lt;div&gt;\n",
       "                     PUNUCAPA\n",
       "                 &lt;/div&gt;`,\n",
       "                {&quot;sticky&quot;: true}\n",
       "            );\n",
       "        \n",
       "    \n",
       "            var marker_279806342db85fafe0f20e62cca9909b = L.marker(\n",
       "                [-39.831480037, -73.4025892212],\n",
       "                {}\n",
       "            ).addTo(map_ff9806f8132e2db8e53619961f39bce9);\n",
       "        \n",
       "    \n",
       "            var icon_d545b80887098f3c6a25bef795330f72 = L.AwesomeMarkers.icon(\n",
       "                {&quot;extraClasses&quot;: &quot;fa-rotate-0&quot;, &quot;icon&quot;: &quot;info-sign&quot;, &quot;iconColor&quot;: &quot;white&quot;, &quot;markerColor&quot;: &quot;red&quot;, &quot;prefix&quot;: &quot;glyphicon&quot;}\n",
       "            );\n",
       "            marker_279806342db85fafe0f20e62cca9909b.setIcon(icon_d545b80887098f3c6a25bef795330f72);\n",
       "        \n",
       "    \n",
       "        var popup_4492019c4d0358fca761e15b250be2c5 = L.popup({&quot;maxWidth&quot;: &quot;100%&quot;});\n",
       "\n",
       "        \n",
       "            var html_0303163e63b972dfc6c081f6f29c7c09 = $(`&lt;div id=&quot;html_0303163e63b972dfc6c081f6f29c7c09&quot; style=&quot;width: 100.0%; height: 100.0%;&quot;&gt;&lt;b&gt;Nombre: &lt;/b&gt;SAN IGNACIO-PLAYA ROSADA  &lt;b&gt;Número de personas beneficiadas: &lt;/b&gt;936  &lt;b&gt;Año de puesta en marcha: &lt;/b&gt;2000.0&lt;/div&gt;`)[0];\n",
       "            popup_4492019c4d0358fca761e15b250be2c5.setContent(html_0303163e63b972dfc6c081f6f29c7c09);\n",
       "        \n",
       "\n",
       "        marker_279806342db85fafe0f20e62cca9909b.bindPopup(popup_4492019c4d0358fca761e15b250be2c5)\n",
       "        ;\n",
       "\n",
       "        \n",
       "    \n",
       "    \n",
       "            marker_279806342db85fafe0f20e62cca9909b.bindTooltip(\n",
       "                `&lt;div&gt;\n",
       "                     SAN IGNACIO-PLAYA ROSADA\n",
       "                 &lt;/div&gt;`,\n",
       "                {&quot;sticky&quot;: true}\n",
       "            );\n",
       "        \n",
       "    \n",
       "            var marker_6a1f006aa80d8923c6438c77fbbd8f04 = L.marker(\n",
       "                [-39.8649364171, -73.3728400295],\n",
       "                {}\n",
       "            ).addTo(map_ff9806f8132e2db8e53619961f39bce9);\n",
       "        \n",
       "    \n",
       "            var icon_a77e6126ee10951526596c633b7e3530 = L.AwesomeMarkers.icon(\n",
       "                {&quot;extraClasses&quot;: &quot;fa-rotate-0&quot;, &quot;icon&quot;: &quot;info-sign&quot;, &quot;iconColor&quot;: &quot;white&quot;, &quot;markerColor&quot;: &quot;red&quot;, &quot;prefix&quot;: &quot;glyphicon&quot;}\n",
       "            );\n",
       "            marker_6a1f006aa80d8923c6438c77fbbd8f04.setIcon(icon_a77e6126ee10951526596c633b7e3530);\n",
       "        \n",
       "    \n",
       "        var popup_c133033e6f5ad31f3929a07aa60a358d = L.popup({&quot;maxWidth&quot;: &quot;100%&quot;});\n",
       "\n",
       "        \n",
       "            var html_16e59295419234658cc49d83c536eff0 = $(`&lt;div id=&quot;html_16e59295419234658cc49d83c536eff0&quot; style=&quot;width: 100.0%; height: 100.0%;&quot;&gt;&lt;b&gt;Nombre: &lt;/b&gt;TRES ESPINOS  &lt;b&gt;Número de personas beneficiadas: &lt;/b&gt;1091  &lt;b&gt;Año de puesta en marcha: &lt;/b&gt;2002.0&lt;/div&gt;`)[0];\n",
       "            popup_c133033e6f5ad31f3929a07aa60a358d.setContent(html_16e59295419234658cc49d83c536eff0);\n",
       "        \n",
       "\n",
       "        marker_6a1f006aa80d8923c6438c77fbbd8f04.bindPopup(popup_c133033e6f5ad31f3929a07aa60a358d)\n",
       "        ;\n",
       "\n",
       "        \n",
       "    \n",
       "    \n",
       "            marker_6a1f006aa80d8923c6438c77fbbd8f04.bindTooltip(\n",
       "                `&lt;div&gt;\n",
       "                     TRES ESPINOS\n",
       "                 &lt;/div&gt;`,\n",
       "                {&quot;sticky&quot;: true}\n",
       "            );\n",
       "        \n",
       "    \n",
       "            var marker_6e61c22278579e271a11a5377636c733 = L.marker(\n",
       "                [-39.7314121294, -73.1091043702],\n",
       "                {}\n",
       "            ).addTo(map_ff9806f8132e2db8e53619961f39bce9);\n",
       "        \n",
       "    \n",
       "            var icon_b5ba728218f9c1eb1e73b531861c1008 = L.AwesomeMarkers.icon(\n",
       "                {&quot;extraClasses&quot;: &quot;fa-rotate-0&quot;, &quot;icon&quot;: &quot;info-sign&quot;, &quot;iconColor&quot;: &quot;white&quot;, &quot;markerColor&quot;: &quot;purple&quot;, &quot;prefix&quot;: &quot;glyphicon&quot;}\n",
       "            );\n",
       "            marker_6e61c22278579e271a11a5377636c733.setIcon(icon_b5ba728218f9c1eb1e73b531861c1008);\n",
       "        \n",
       "    \n",
       "        var popup_2ddb6bcbef8b59c780fe9b9965e9e471 = L.popup({&quot;maxWidth&quot;: &quot;100%&quot;});\n",
       "\n",
       "        \n",
       "            var html_21a2bc92d81ef93ffe42b9d9d074fc6a = $(`&lt;div id=&quot;html_21a2bc92d81ef93ffe42b9d9d074fc6a&quot; style=&quot;width: 100.0%; height: 100.0%;&quot;&gt;&lt;b&gt;Nombre: &lt;/b&gt;VILLA CAYUMAPU  &lt;b&gt;Número de personas beneficiadas: &lt;/b&gt;1327  &lt;b&gt;Año de puesta en marcha: &lt;/b&gt;2008.0&lt;/div&gt;`)[0];\n",
       "            popup_2ddb6bcbef8b59c780fe9b9965e9e471.setContent(html_21a2bc92d81ef93ffe42b9d9d074fc6a);\n",
       "        \n",
       "\n",
       "        marker_6e61c22278579e271a11a5377636c733.bindPopup(popup_2ddb6bcbef8b59c780fe9b9965e9e471)\n",
       "        ;\n",
       "\n",
       "        \n",
       "    \n",
       "    \n",
       "            marker_6e61c22278579e271a11a5377636c733.bindTooltip(\n",
       "                `&lt;div&gt;\n",
       "                     VILLA CAYUMAPU\n",
       "                 &lt;/div&gt;`,\n",
       "                {&quot;sticky&quot;: true}\n",
       "            );\n",
       "        \n",
       "    \n",
       "            var marker_7afd5e6d178a0c678128b8ec3fb38936 = L.marker(\n",
       "                [-39.772903642, -73.1970058325],\n",
       "                {}\n",
       "            ).addTo(map_ff9806f8132e2db8e53619961f39bce9);\n",
       "        \n",
       "    \n",
       "            var icon_7e5240ac267e46bc8ed6b913daf88aa2 = L.AwesomeMarkers.icon(\n",
       "                {&quot;extraClasses&quot;: &quot;fa-rotate-0&quot;, &quot;icon&quot;: &quot;info-sign&quot;, &quot;iconColor&quot;: &quot;white&quot;, &quot;markerColor&quot;: &quot;orange&quot;, &quot;prefix&quot;: &quot;glyphicon&quot;}\n",
       "            );\n",
       "            marker_7afd5e6d178a0c678128b8ec3fb38936.setIcon(icon_7e5240ac267e46bc8ed6b913daf88aa2);\n",
       "        \n",
       "    \n",
       "        var popup_e57629dbb632c3c960b198232abcfb48 = L.popup({&quot;maxWidth&quot;: &quot;100%&quot;});\n",
       "\n",
       "        \n",
       "            var html_5cf1d97ed5ee3fe446876f52ca455982 = $(`&lt;div id=&quot;html_5cf1d97ed5ee3fe446876f52ca455982&quot; style=&quot;width: 100.0%; height: 100.0%;&quot;&gt;&lt;b&gt;Nombre: &lt;/b&gt;EL ARENAL SANTA ELVIRA  &lt;b&gt;Número de personas beneficiadas: &lt;/b&gt;549  &lt;b&gt;Año de puesta en marcha: &lt;/b&gt;2015.0&lt;/div&gt;`)[0];\n",
       "            popup_e57629dbb632c3c960b198232abcfb48.setContent(html_5cf1d97ed5ee3fe446876f52ca455982);\n",
       "        \n",
       "\n",
       "        marker_7afd5e6d178a0c678128b8ec3fb38936.bindPopup(popup_e57629dbb632c3c960b198232abcfb48)\n",
       "        ;\n",
       "\n",
       "        \n",
       "    \n",
       "    \n",
       "            marker_7afd5e6d178a0c678128b8ec3fb38936.bindTooltip(\n",
       "                `&lt;div&gt;\n",
       "                     EL ARENAL SANTA ELVIRA\n",
       "                 &lt;/div&gt;`,\n",
       "                {&quot;sticky&quot;: true}\n",
       "            );\n",
       "        \n",
       "    \n",
       "            var marker_e92fbde4c6e1a1a7a0e2b6d3af45c7aa = L.marker(\n",
       "                [-39.8673123199, -73.2088638403],\n",
       "                {}\n",
       "            ).addTo(map_ff9806f8132e2db8e53619961f39bce9);\n",
       "        \n",
       "    \n",
       "            var icon_043244fe2d33a30145d7a4aac320146e = L.AwesomeMarkers.icon(\n",
       "                {&quot;extraClasses&quot;: &quot;fa-rotate-0&quot;, &quot;icon&quot;: &quot;info-sign&quot;, &quot;iconColor&quot;: &quot;white&quot;, &quot;markerColor&quot;: &quot;red&quot;, &quot;prefix&quot;: &quot;glyphicon&quot;}\n",
       "            );\n",
       "            marker_e92fbde4c6e1a1a7a0e2b6d3af45c7aa.setIcon(icon_043244fe2d33a30145d7a4aac320146e);\n",
       "        \n",
       "    \n",
       "        var popup_b4884cc4af916272e7923fe46acebbdb = L.popup({&quot;maxWidth&quot;: &quot;100%&quot;});\n",
       "\n",
       "        \n",
       "            var html_42a11c8c12e579d2e809509b25fe4856 = $(`&lt;div id=&quot;html_42a11c8c12e579d2e809509b25fe4856&quot; style=&quot;width: 100.0%; height: 100.0%;&quot;&gt;&lt;b&gt;Nombre: &lt;/b&gt;PAILLAO  &lt;b&gt;Número de personas beneficiadas: &lt;/b&gt;871  &lt;b&gt;Año de puesta en marcha: &lt;/b&gt;2014.0&lt;/div&gt;`)[0];\n",
       "            popup_b4884cc4af916272e7923fe46acebbdb.setContent(html_42a11c8c12e579d2e809509b25fe4856);\n",
       "        \n",
       "\n",
       "        marker_e92fbde4c6e1a1a7a0e2b6d3af45c7aa.bindPopup(popup_b4884cc4af916272e7923fe46acebbdb)\n",
       "        ;\n",
       "\n",
       "        \n",
       "    \n",
       "    \n",
       "            marker_e92fbde4c6e1a1a7a0e2b6d3af45c7aa.bindTooltip(\n",
       "                `&lt;div&gt;\n",
       "                     PAILLAO\n",
       "                 &lt;/div&gt;`,\n",
       "                {&quot;sticky&quot;: true}\n",
       "            );\n",
       "        \n",
       "    \n",
       "            var marker_d7cd0b9040e767856d556523075fe2ea = L.marker(\n",
       "                [-39.7802702288, -73.2412708338],\n",
       "                {}\n",
       "            ).addTo(map_ff9806f8132e2db8e53619961f39bce9);\n",
       "        \n",
       "    \n",
       "            var icon_565d4d930c95488f9950a1632cc4e3b9 = L.AwesomeMarkers.icon(\n",
       "                {&quot;extraClasses&quot;: &quot;fa-rotate-0&quot;, &quot;icon&quot;: &quot;info-sign&quot;, &quot;iconColor&quot;: &quot;white&quot;, &quot;markerColor&quot;: &quot;orange&quot;, &quot;prefix&quot;: &quot;glyphicon&quot;}\n",
       "            );\n",
       "            marker_d7cd0b9040e767856d556523075fe2ea.setIcon(icon_565d4d930c95488f9950a1632cc4e3b9);\n",
       "        \n",
       "    \n",
       "        var popup_39b54f89aa7a9a09c7a6988898c2a146 = L.popup({&quot;maxWidth&quot;: &quot;100%&quot;});\n",
       "\n",
       "        \n",
       "            var html_cda689ee77561cf29f9e1b8a7cb72a7f = $(`&lt;div id=&quot;html_cda689ee77561cf29f9e1b8a7cb72a7f&quot; style=&quot;width: 100.0%; height: 100.0%;&quot;&gt;&lt;b&gt;Nombre: &lt;/b&gt;CABO BLANCO  &lt;b&gt;Número de personas beneficiadas: &lt;/b&gt;543  &lt;b&gt;Año de puesta en marcha: &lt;/b&gt;2015.0&lt;/div&gt;`)[0];\n",
       "            popup_39b54f89aa7a9a09c7a6988898c2a146.setContent(html_cda689ee77561cf29f9e1b8a7cb72a7f);\n",
       "        \n",
       "\n",
       "        marker_d7cd0b9040e767856d556523075fe2ea.bindPopup(popup_39b54f89aa7a9a09c7a6988898c2a146)\n",
       "        ;\n",
       "\n",
       "        \n",
       "    \n",
       "    \n",
       "            marker_d7cd0b9040e767856d556523075fe2ea.bindTooltip(\n",
       "                `&lt;div&gt;\n",
       "                     CABO BLANCO\n",
       "                 &lt;/div&gt;`,\n",
       "                {&quot;sticky&quot;: true}\n",
       "            );\n",
       "        \n",
       "    \n",
       "            var marker_001303db26ec8349e5b23851157f9709 = L.marker(\n",
       "                [-39.7737197231, -73.2102553189],\n",
       "                {}\n",
       "            ).addTo(map_ff9806f8132e2db8e53619961f39bce9);\n",
       "        \n",
       "    \n",
       "            var icon_d9cffe771224305496cc914412dac5e6 = L.AwesomeMarkers.icon(\n",
       "                {&quot;extraClasses&quot;: &quot;fa-rotate-0&quot;, &quot;icon&quot;: &quot;info-sign&quot;, &quot;iconColor&quot;: &quot;white&quot;, &quot;markerColor&quot;: &quot;orange&quot;, &quot;prefix&quot;: &quot;glyphicon&quot;}\n",
       "            );\n",
       "            marker_001303db26ec8349e5b23851157f9709.setIcon(icon_d9cffe771224305496cc914412dac5e6);\n",
       "        \n",
       "    \n",
       "        var popup_9dff90c6e6495e87a3b9c246f8019d93 = L.popup({&quot;maxWidth&quot;: &quot;100%&quot;});\n",
       "\n",
       "        \n",
       "            var html_bb8d8b232bf6079e4237c85b0632a7ca = $(`&lt;div id=&quot;html_bb8d8b232bf6079e4237c85b0632a7ca&quot; style=&quot;width: 100.0%; height: 100.0%;&quot;&gt;&lt;b&gt;Nombre: &lt;/b&gt;EL ARENAL KM 2  &lt;b&gt;Número de personas beneficiadas: &lt;/b&gt;623  &lt;b&gt;Año de puesta en marcha: &lt;/b&gt;2017.0&lt;/div&gt;`)[0];\n",
       "            popup_9dff90c6e6495e87a3b9c246f8019d93.setContent(html_bb8d8b232bf6079e4237c85b0632a7ca);\n",
       "        \n",
       "\n",
       "        marker_001303db26ec8349e5b23851157f9709.bindPopup(popup_9dff90c6e6495e87a3b9c246f8019d93)\n",
       "        ;\n",
       "\n",
       "        \n",
       "    \n",
       "    \n",
       "            marker_001303db26ec8349e5b23851157f9709.bindTooltip(\n",
       "                `&lt;div&gt;\n",
       "                     EL ARENAL KM 2\n",
       "                 &lt;/div&gt;`,\n",
       "                {&quot;sticky&quot;: true}\n",
       "            );\n",
       "        \n",
       "    \n",
       "            var marker_c137e1f7a8480129c5b91d7bd6f20e13 = L.marker(\n",
       "                [-39.7772055631, -73.3135380035],\n",
       "                {}\n",
       "            ).addTo(map_ff9806f8132e2db8e53619961f39bce9);\n",
       "        \n",
       "    \n",
       "            var icon_4e74b67eab0bae2beab444d4b8fa8a91 = L.AwesomeMarkers.icon(\n",
       "                {&quot;extraClasses&quot;: &quot;fa-rotate-0&quot;, &quot;icon&quot;: &quot;info-sign&quot;, &quot;iconColor&quot;: &quot;white&quot;, &quot;markerColor&quot;: &quot;orange&quot;, &quot;prefix&quot;: &quot;glyphicon&quot;}\n",
       "            );\n",
       "            marker_c137e1f7a8480129c5b91d7bd6f20e13.setIcon(icon_4e74b67eab0bae2beab444d4b8fa8a91);\n",
       "        \n",
       "    \n",
       "        var popup_225f5656874f8204188fa692d76920a0 = L.popup({&quot;maxWidth&quot;: &quot;100%&quot;});\n",
       "\n",
       "        \n",
       "            var html_aa9e87d6274752e51f9da413bda06294 = $(`&lt;div id=&quot;html_aa9e87d6274752e51f9da413bda06294&quot; style=&quot;width: 100.0%; height: 100.0%;&quot;&gt;&lt;b&gt;Nombre: &lt;/b&gt;Chabelita  &lt;b&gt;Número de personas beneficiadas: &lt;/b&gt;434  &lt;b&gt;Año de puesta en marcha: &lt;/b&gt;2019.0&lt;/div&gt;`)[0];\n",
       "            popup_225f5656874f8204188fa692d76920a0.setContent(html_aa9e87d6274752e51f9da413bda06294);\n",
       "        \n",
       "\n",
       "        marker_c137e1f7a8480129c5b91d7bd6f20e13.bindPopup(popup_225f5656874f8204188fa692d76920a0)\n",
       "        ;\n",
       "\n",
       "        \n",
       "    \n",
       "    \n",
       "            marker_c137e1f7a8480129c5b91d7bd6f20e13.bindTooltip(\n",
       "                `&lt;div&gt;\n",
       "                     Chabelita\n",
       "                 &lt;/div&gt;`,\n",
       "                {&quot;sticky&quot;: true}\n",
       "            );\n",
       "        \n",
       "    \n",
       "            var marker_5eb324d84a9cff720da45115b1c0b6c5 = L.marker(\n",
       "                [-40.1296581637, -72.7254940272],\n",
       "                {}\n",
       "            ).addTo(map_ff9806f8132e2db8e53619961f39bce9);\n",
       "        \n",
       "    \n",
       "            var icon_2bad6fcf9b980c88a92fa090a8dd6d05 = L.AwesomeMarkers.icon(\n",
       "                {&quot;extraClasses&quot;: &quot;fa-rotate-0&quot;, &quot;icon&quot;: &quot;info-sign&quot;, &quot;iconColor&quot;: &quot;white&quot;, &quot;markerColor&quot;: &quot;green&quot;, &quot;prefix&quot;: &quot;glyphicon&quot;}\n",
       "            );\n",
       "            marker_5eb324d84a9cff720da45115b1c0b6c5.setIcon(icon_2bad6fcf9b980c88a92fa090a8dd6d05);\n",
       "        \n",
       "    \n",
       "        var popup_eca373a55f0c9fd7dc06bfd7c7e2d00c = L.popup({&quot;maxWidth&quot;: &quot;100%&quot;});\n",
       "\n",
       "        \n",
       "            var html_ae09ed8b581d360af54ab6e59ed080fa = $(`&lt;div id=&quot;html_ae09ed8b581d360af54ab6e59ed080fa&quot; style=&quot;width: 100.0%; height: 100.0%;&quot;&gt;&lt;b&gt;Nombre: &lt;/b&gt;ARCO IRIS  &lt;b&gt;Número de personas beneficiadas: &lt;/b&gt;394  &lt;b&gt;Año de puesta en marcha: &lt;/b&gt;1998.0&lt;/div&gt;`)[0];\n",
       "            popup_eca373a55f0c9fd7dc06bfd7c7e2d00c.setContent(html_ae09ed8b581d360af54ab6e59ed080fa);\n",
       "        \n",
       "\n",
       "        marker_5eb324d84a9cff720da45115b1c0b6c5.bindPopup(popup_eca373a55f0c9fd7dc06bfd7c7e2d00c)\n",
       "        ;\n",
       "\n",
       "        \n",
       "    \n",
       "    \n",
       "            marker_5eb324d84a9cff720da45115b1c0b6c5.bindTooltip(\n",
       "                `&lt;div&gt;\n",
       "                     ARCO IRIS\n",
       "                 &lt;/div&gt;`,\n",
       "                {&quot;sticky&quot;: true}\n",
       "            );\n",
       "        \n",
       "    \n",
       "            var marker_c09acf949b14787b035fdcd600185fcb = L.marker(\n",
       "                [-40.0676228293, -72.6179175677],\n",
       "                {}\n",
       "            ).addTo(map_ff9806f8132e2db8e53619961f39bce9);\n",
       "        \n",
       "    \n",
       "            var icon_85733de1909849112011fe9836633b21 = L.AwesomeMarkers.icon(\n",
       "                {&quot;extraClasses&quot;: &quot;fa-rotate-0&quot;, &quot;icon&quot;: &quot;info-sign&quot;, &quot;iconColor&quot;: &quot;white&quot;, &quot;markerColor&quot;: &quot;green&quot;, &quot;prefix&quot;: &quot;glyphicon&quot;}\n",
       "            );\n",
       "            marker_c09acf949b14787b035fdcd600185fcb.setIcon(icon_85733de1909849112011fe9836633b21);\n",
       "        \n",
       "    \n",
       "        var popup_29a4265130ae02526611b9a96a52b4e4 = L.popup({&quot;maxWidth&quot;: &quot;100%&quot;});\n",
       "\n",
       "        \n",
       "            var html_95d8ed2fdbb2cad0b637a36e1567fd3b = $(`&lt;div id=&quot;html_95d8ed2fdbb2cad0b637a36e1567fd3b&quot; style=&quot;width: 100.0%; height: 100.0%;&quot;&gt;&lt;b&gt;Nombre: &lt;/b&gt;EL LLOLLY  &lt;b&gt;Número de personas beneficiadas: &lt;/b&gt;428  &lt;b&gt;Año de puesta en marcha: &lt;/b&gt;1998.0&lt;/div&gt;`)[0];\n",
       "            popup_29a4265130ae02526611b9a96a52b4e4.setContent(html_95d8ed2fdbb2cad0b637a36e1567fd3b);\n",
       "        \n",
       "\n",
       "        marker_c09acf949b14787b035fdcd600185fcb.bindPopup(popup_29a4265130ae02526611b9a96a52b4e4)\n",
       "        ;\n",
       "\n",
       "        \n",
       "    \n",
       "    \n",
       "            marker_c09acf949b14787b035fdcd600185fcb.bindTooltip(\n",
       "                `&lt;div&gt;\n",
       "                     EL LLOLLY\n",
       "                 &lt;/div&gt;`,\n",
       "                {&quot;sticky&quot;: true}\n",
       "            );\n",
       "        \n",
       "    \n",
       "            var marker_6b0257116ead7375a51c2f6176a541c3 = L.marker(\n",
       "                [-40.1515807831, -72.8962419781],\n",
       "                {}\n",
       "            ).addTo(map_ff9806f8132e2db8e53619961f39bce9);\n",
       "        \n",
       "    \n",
       "            var icon_6d8e64f92fc4da22d76c41385323239d = L.AwesomeMarkers.icon(\n",
       "                {&quot;extraClasses&quot;: &quot;fa-rotate-0&quot;, &quot;icon&quot;: &quot;info-sign&quot;, &quot;iconColor&quot;: &quot;white&quot;, &quot;markerColor&quot;: &quot;red&quot;, &quot;prefix&quot;: &quot;glyphicon&quot;}\n",
       "            );\n",
       "            marker_6b0257116ead7375a51c2f6176a541c3.setIcon(icon_6d8e64f92fc4da22d76c41385323239d);\n",
       "        \n",
       "    \n",
       "        var popup_08c03d7259b9b197038f4f7f9c2da3a5 = L.popup({&quot;maxWidth&quot;: &quot;100%&quot;});\n",
       "\n",
       "        \n",
       "            var html_e60eafb87e6ae66723b4d9b874213c14 = $(`&lt;div id=&quot;html_e60eafb87e6ae66723b4d9b874213c14&quot; style=&quot;width: 100.0%; height: 100.0%;&quot;&gt;&lt;b&gt;Nombre: &lt;/b&gt;PICHIRROPULLI  &lt;b&gt;Número de personas beneficiadas: &lt;/b&gt;1079  &lt;b&gt;Año de puesta en marcha: &lt;/b&gt;1979.0&lt;/div&gt;`)[0];\n",
       "            popup_08c03d7259b9b197038f4f7f9c2da3a5.setContent(html_e60eafb87e6ae66723b4d9b874213c14);\n",
       "        \n",
       "\n",
       "        marker_6b0257116ead7375a51c2f6176a541c3.bindPopup(popup_08c03d7259b9b197038f4f7f9c2da3a5)\n",
       "        ;\n",
       "\n",
       "        \n",
       "    \n",
       "    \n",
       "            marker_6b0257116ead7375a51c2f6176a541c3.bindTooltip(\n",
       "                `&lt;div&gt;\n",
       "                     PICHIRROPULLI\n",
       "                 &lt;/div&gt;`,\n",
       "                {&quot;sticky&quot;: true}\n",
       "            );\n",
       "        \n",
       "    \n",
       "            var marker_beae37c6dd3a09d36f10f38dc19499c6 = L.marker(\n",
       "                [-39.9784746305, -72.8320348617],\n",
       "                {}\n",
       "            ).addTo(map_ff9806f8132e2db8e53619961f39bce9);\n",
       "        \n",
       "    \n",
       "            var icon_112d31c12a192d22d7afdb4ef699126e = L.AwesomeMarkers.icon(\n",
       "                {&quot;extraClasses&quot;: &quot;fa-rotate-0&quot;, &quot;icon&quot;: &quot;info-sign&quot;, &quot;iconColor&quot;: &quot;white&quot;, &quot;markerColor&quot;: &quot;purple&quot;, &quot;prefix&quot;: &quot;glyphicon&quot;}\n",
       "            );\n",
       "            marker_beae37c6dd3a09d36f10f38dc19499c6.setIcon(icon_112d31c12a192d22d7afdb4ef699126e);\n",
       "        \n",
       "    \n",
       "        var popup_0974903ba1a2b29968c75d6ff31440a2 = L.popup({&quot;maxWidth&quot;: &quot;100%&quot;});\n",
       "\n",
       "        \n",
       "            var html_6e009a53edbc4ea2f19e49b688ae89bf = $(`&lt;div id=&quot;html_6e009a53edbc4ea2f19e49b688ae89bf&quot; style=&quot;width: 100.0%; height: 100.0%;&quot;&gt;&lt;b&gt;Nombre: &lt;/b&gt;REUMEN  &lt;b&gt;Número de personas beneficiadas: &lt;/b&gt;1442  &lt;b&gt;Año de puesta en marcha: &lt;/b&gt;1983.0&lt;/div&gt;`)[0];\n",
       "            popup_0974903ba1a2b29968c75d6ff31440a2.setContent(html_6e009a53edbc4ea2f19e49b688ae89bf);\n",
       "        \n",
       "\n",
       "        marker_beae37c6dd3a09d36f10f38dc19499c6.bindPopup(popup_0974903ba1a2b29968c75d6ff31440a2)\n",
       "        ;\n",
       "\n",
       "        \n",
       "    \n",
       "    \n",
       "            marker_beae37c6dd3a09d36f10f38dc19499c6.bindTooltip(\n",
       "                `&lt;div&gt;\n",
       "                     REUMEN\n",
       "                 &lt;/div&gt;`,\n",
       "                {&quot;sticky&quot;: true}\n",
       "            );\n",
       "        \n",
       "    \n",
       "            var marker_e9c18cee3e2132fcd7196d6f5f948ac2 = L.marker(\n",
       "                [-40.1233358588, -72.6748177353],\n",
       "                {}\n",
       "            ).addTo(map_ff9806f8132e2db8e53619961f39bce9);\n",
       "        \n",
       "    \n",
       "            var icon_1fa600ee865ea0818f8fea1cb3a2011a = L.AwesomeMarkers.icon(\n",
       "                {&quot;extraClasses&quot;: &quot;fa-rotate-0&quot;, &quot;icon&quot;: &quot;info-sign&quot;, &quot;iconColor&quot;: &quot;white&quot;, &quot;markerColor&quot;: &quot;green&quot;, &quot;prefix&quot;: &quot;glyphicon&quot;}\n",
       "            );\n",
       "            marker_e9c18cee3e2132fcd7196d6f5f948ac2.setIcon(icon_1fa600ee865ea0818f8fea1cb3a2011a);\n",
       "        \n",
       "    \n",
       "        var popup_a19aef180e783460db34286ca63b9dd5 = L.popup({&quot;maxWidth&quot;: &quot;100%&quot;});\n",
       "\n",
       "        \n",
       "            var html_c721b84cfc042e24eefaef0af39fd57b = $(`&lt;div id=&quot;html_c721b84cfc042e24eefaef0af39fd57b&quot; style=&quot;width: 100.0%; height: 100.0%;&quot;&gt;&lt;b&gt;Nombre: &lt;/b&gt;SANTA FILOMENA  &lt;b&gt;Número de personas beneficiadas: &lt;/b&gt;403  &lt;b&gt;Año de puesta en marcha: &lt;/b&gt;1999.0&lt;/div&gt;`)[0];\n",
       "            popup_a19aef180e783460db34286ca63b9dd5.setContent(html_c721b84cfc042e24eefaef0af39fd57b);\n",
       "        \n",
       "\n",
       "        marker_e9c18cee3e2132fcd7196d6f5f948ac2.bindPopup(popup_a19aef180e783460db34286ca63b9dd5)\n",
       "        ;\n",
       "\n",
       "        \n",
       "    \n",
       "    \n",
       "            marker_e9c18cee3e2132fcd7196d6f5f948ac2.bindTooltip(\n",
       "                `&lt;div&gt;\n",
       "                     SANTA FILOMENA\n",
       "                 &lt;/div&gt;`,\n",
       "                {&quot;sticky&quot;: true}\n",
       "            );\n",
       "        \n",
       "    \n",
       "            var marker_c8ac003f7d605593b36cc3642d5149e0 = L.marker(\n",
       "                [-40.0949272285, -72.8333381781],\n",
       "                {}\n",
       "            ).addTo(map_ff9806f8132e2db8e53619961f39bce9);\n",
       "        \n",
       "    \n",
       "            var icon_dcfb339cf7d91f1f5aba1443e13ad226 = L.AwesomeMarkers.icon(\n",
       "                {&quot;extraClasses&quot;: &quot;fa-rotate-0&quot;, &quot;icon&quot;: &quot;info-sign&quot;, &quot;iconColor&quot;: &quot;white&quot;, &quot;markerColor&quot;: &quot;blue&quot;, &quot;prefix&quot;: &quot;glyphicon&quot;}\n",
       "            );\n",
       "            marker_c8ac003f7d605593b36cc3642d5149e0.setIcon(icon_dcfb339cf7d91f1f5aba1443e13ad226);\n",
       "        \n",
       "    \n",
       "        var popup_1ceeef8d10536c8b98f700d11221bcb0 = L.popup({&quot;maxWidth&quot;: &quot;100%&quot;});\n",
       "\n",
       "        \n",
       "            var html_eee96c0919e75301ec22ced3d97622c7 = $(`&lt;div id=&quot;html_eee96c0919e75301ec22ced3d97622c7&quot; style=&quot;width: 100.0%; height: 100.0%;&quot;&gt;&lt;b&gt;Nombre: &lt;/b&gt;MANAO  &lt;b&gt;Número de personas beneficiadas: &lt;/b&gt;220  &lt;b&gt;Año de puesta en marcha: &lt;/b&gt;2014.0&lt;/div&gt;`)[0];\n",
       "            popup_1ceeef8d10536c8b98f700d11221bcb0.setContent(html_eee96c0919e75301ec22ced3d97622c7);\n",
       "        \n",
       "\n",
       "        marker_c8ac003f7d605593b36cc3642d5149e0.bindPopup(popup_1ceeef8d10536c8b98f700d11221bcb0)\n",
       "        ;\n",
       "\n",
       "        \n",
       "    \n",
       "    \n",
       "            marker_c8ac003f7d605593b36cc3642d5149e0.bindTooltip(\n",
       "                `&lt;div&gt;\n",
       "                     MANAO\n",
       "                 &lt;/div&gt;`,\n",
       "                {&quot;sticky&quot;: true}\n",
       "            );\n",
       "        \n",
       "    \n",
       "            var marker_baee7132e29280df8e281f2bb332af50 = L.marker(\n",
       "                [-40.1805296564, -72.5619049938],\n",
       "                {}\n",
       "            ).addTo(map_ff9806f8132e2db8e53619961f39bce9);\n",
       "        \n",
       "    \n",
       "            var icon_76c44ab1361115e42971c5c88a3250a4 = L.AwesomeMarkers.icon(\n",
       "                {&quot;extraClasses&quot;: &quot;fa-rotate-0&quot;, &quot;icon&quot;: &quot;info-sign&quot;, &quot;iconColor&quot;: &quot;white&quot;, &quot;markerColor&quot;: &quot;green&quot;, &quot;prefix&quot;: &quot;glyphicon&quot;}\n",
       "            );\n",
       "            marker_baee7132e29280df8e281f2bb332af50.setIcon(icon_76c44ab1361115e42971c5c88a3250a4);\n",
       "        \n",
       "    \n",
       "        var popup_26e2e9e9548d891da36a26d3d4cd9483 = L.popup({&quot;maxWidth&quot;: &quot;100%&quot;});\n",
       "\n",
       "        \n",
       "            var html_d60d728e291e0f8389d3f5e22f5acf92 = $(`&lt;div id=&quot;html_d60d728e291e0f8389d3f5e22f5acf92&quot; style=&quot;width: 100.0%; height: 100.0%;&quot;&gt;&lt;b&gt;Nombre: &lt;/b&gt;SANTA ROSA CHICA  &lt;b&gt;Número de personas beneficiadas: &lt;/b&gt;394  &lt;b&gt;Año de puesta en marcha: &lt;/b&gt;2016.0&lt;/div&gt;`)[0];\n",
       "            popup_26e2e9e9548d891da36a26d3d4cd9483.setContent(html_d60d728e291e0f8389d3f5e22f5acf92);\n",
       "        \n",
       "\n",
       "        marker_baee7132e29280df8e281f2bb332af50.bindPopup(popup_26e2e9e9548d891da36a26d3d4cd9483)\n",
       "        ;\n",
       "\n",
       "        \n",
       "    \n",
       "    \n",
       "            marker_baee7132e29280df8e281f2bb332af50.bindTooltip(\n",
       "                `&lt;div&gt;\n",
       "                     SANTA ROSA CHICA\n",
       "                 &lt;/div&gt;`,\n",
       "                {&quot;sticky&quot;: true}\n",
       "            );\n",
       "        \n",
       "    \n",
       "            var marker_8a301056a71acc8a9ca5d121e5de08fe = L.marker(\n",
       "                [-40.1380925113, -72.5825449417],\n",
       "                {}\n",
       "            ).addTo(map_ff9806f8132e2db8e53619961f39bce9);\n",
       "        \n",
       "    \n",
       "            var icon_c9172dafa14633b4b92112422fab9bbe = L.AwesomeMarkers.icon(\n",
       "                {&quot;extraClasses&quot;: &quot;fa-rotate-0&quot;, &quot;icon&quot;: &quot;info-sign&quot;, &quot;iconColor&quot;: &quot;white&quot;, &quot;markerColor&quot;: &quot;green&quot;, &quot;prefix&quot;: &quot;glyphicon&quot;}\n",
       "            );\n",
       "            marker_8a301056a71acc8a9ca5d121e5de08fe.setIcon(icon_c9172dafa14633b4b92112422fab9bbe);\n",
       "        \n",
       "    \n",
       "        var popup_09e26bf67fe15541d4b4742740385c22 = L.popup({&quot;maxWidth&quot;: &quot;100%&quot;});\n",
       "\n",
       "        \n",
       "            var html_380ab536ab5c8e97c668053dfdb7769e = $(`&lt;div id=&quot;html_380ab536ab5c8e97c668053dfdb7769e&quot; style=&quot;width: 100.0%; height: 100.0%;&quot;&gt;&lt;b&gt;Nombre: &lt;/b&gt;SANTA ROSA GRANDE  &lt;b&gt;Número de personas beneficiadas: &lt;/b&gt;319  &lt;b&gt;Año de puesta en marcha: &lt;/b&gt;2016.0&lt;/div&gt;`)[0];\n",
       "            popup_09e26bf67fe15541d4b4742740385c22.setContent(html_380ab536ab5c8e97c668053dfdb7769e);\n",
       "        \n",
       "\n",
       "        marker_8a301056a71acc8a9ca5d121e5de08fe.bindPopup(popup_09e26bf67fe15541d4b4742740385c22)\n",
       "        ;\n",
       "\n",
       "        \n",
       "    \n",
       "    \n",
       "            marker_8a301056a71acc8a9ca5d121e5de08fe.bindTooltip(\n",
       "                `&lt;div&gt;\n",
       "                     SANTA ROSA GRANDE\n",
       "                 &lt;/div&gt;`,\n",
       "                {&quot;sticky&quot;: true}\n",
       "            );\n",
       "        \n",
       "    \n",
       "            var marker_8f58f53e19ecb67ac9091f6e2fe07ce5 = L.marker(\n",
       "                [-40.0154940534, -72.7914597178],\n",
       "                {}\n",
       "            ).addTo(map_ff9806f8132e2db8e53619961f39bce9);\n",
       "        \n",
       "    \n",
       "            var icon_283cbefe1fd3e3b94fe12726806b146f = L.AwesomeMarkers.icon(\n",
       "                {&quot;extraClasses&quot;: &quot;fa-rotate-0&quot;, &quot;icon&quot;: &quot;info-sign&quot;, &quot;iconColor&quot;: &quot;white&quot;, &quot;markerColor&quot;: &quot;orange&quot;, &quot;prefix&quot;: &quot;glyphicon&quot;}\n",
       "            );\n",
       "            marker_8f58f53e19ecb67ac9091f6e2fe07ce5.setIcon(icon_283cbefe1fd3e3b94fe12726806b146f);\n",
       "        \n",
       "    \n",
       "        var popup_19931fcb3315bffe7d1a6ee43bc188c5 = L.popup({&quot;maxWidth&quot;: &quot;100%&quot;});\n",
       "\n",
       "        \n",
       "            var html_beec9e34184bd05ec928d3331b6a9fdf = $(`&lt;div id=&quot;html_beec9e34184bd05ec928d3331b6a9fdf&quot; style=&quot;width: 100.0%; height: 100.0%;&quot;&gt;&lt;b&gt;Nombre: &lt;/b&gt;LUMACO PAILLACO  &lt;b&gt;Número de personas beneficiadas: &lt;/b&gt;710  &lt;b&gt;Año de puesta en marcha: &lt;/b&gt;2016.0&lt;/div&gt;`)[0];\n",
       "            popup_19931fcb3315bffe7d1a6ee43bc188c5.setContent(html_beec9e34184bd05ec928d3331b6a9fdf);\n",
       "        \n",
       "\n",
       "        marker_8f58f53e19ecb67ac9091f6e2fe07ce5.bindPopup(popup_19931fcb3315bffe7d1a6ee43bc188c5)\n",
       "        ;\n",
       "\n",
       "        \n",
       "    \n",
       "    \n",
       "            marker_8f58f53e19ecb67ac9091f6e2fe07ce5.bindTooltip(\n",
       "                `&lt;div&gt;\n",
       "                     LUMACO PAILLACO\n",
       "                 &lt;/div&gt;`,\n",
       "                {&quot;sticky&quot;: true}\n",
       "            );\n",
       "        \n",
       "    \n",
       "            var marker_badfb3d3dee08164adbbbfa2df51a888 = L.marker(\n",
       "                [-40.0746752187, -72.6747765849],\n",
       "                {}\n",
       "            ).addTo(map_ff9806f8132e2db8e53619961f39bce9);\n",
       "        \n",
       "    \n",
       "            var icon_ed99660be69ab5acc81db5400f8831fe = L.AwesomeMarkers.icon(\n",
       "                {&quot;extraClasses&quot;: &quot;fa-rotate-0&quot;, &quot;icon&quot;: &quot;info-sign&quot;, &quot;iconColor&quot;: &quot;white&quot;, &quot;markerColor&quot;: &quot;blue&quot;, &quot;prefix&quot;: &quot;glyphicon&quot;}\n",
       "            );\n",
       "            marker_badfb3d3dee08164adbbbfa2df51a888.setIcon(icon_ed99660be69ab5acc81db5400f8831fe);\n",
       "        \n",
       "    \n",
       "        var popup_8e53aeda7fe900c16d02cbc981bea617 = L.popup({&quot;maxWidth&quot;: &quot;100%&quot;});\n",
       "\n",
       "        \n",
       "            var html_877ae34473d1c8ca642ccdbf14e00a2e = $(`&lt;div id=&quot;html_877ae34473d1c8ca642ccdbf14e00a2e&quot; style=&quot;width: 100.0%; height: 100.0%;&quot;&gt;&lt;b&gt;Nombre: &lt;/b&gt;EL MAITEN  &lt;b&gt;Número de personas beneficiadas: &lt;/b&gt;155  &lt;b&gt;Año de puesta en marcha: &lt;/b&gt;2017.0&lt;/div&gt;`)[0];\n",
       "            popup_8e53aeda7fe900c16d02cbc981bea617.setContent(html_877ae34473d1c8ca642ccdbf14e00a2e);\n",
       "        \n",
       "\n",
       "        marker_badfb3d3dee08164adbbbfa2df51a888.bindPopup(popup_8e53aeda7fe900c16d02cbc981bea617)\n",
       "        ;\n",
       "\n",
       "        \n",
       "    \n",
       "    \n",
       "            marker_badfb3d3dee08164adbbbfa2df51a888.bindTooltip(\n",
       "                `&lt;div&gt;\n",
       "                     EL MAITEN\n",
       "                 &lt;/div&gt;`,\n",
       "                {&quot;sticky&quot;: true}\n",
       "            );\n",
       "        \n",
       "    \n",
       "            var marker_5f0e6696c53ed9e9172e6ff96f427227 = L.marker(\n",
       "                [-40.1221748177, -72.6855485214],\n",
       "                {}\n",
       "            ).addTo(map_ff9806f8132e2db8e53619961f39bce9);\n",
       "        \n",
       "    \n",
       "            var icon_124358ddf9b47c8f84d29dbaa3e96f68 = L.AwesomeMarkers.icon(\n",
       "                {&quot;extraClasses&quot;: &quot;fa-rotate-0&quot;, &quot;icon&quot;: &quot;info-sign&quot;, &quot;iconColor&quot;: &quot;white&quot;, &quot;markerColor&quot;: &quot;blue&quot;, &quot;prefix&quot;: &quot;glyphicon&quot;}\n",
       "            );\n",
       "            marker_5f0e6696c53ed9e9172e6ff96f427227.setIcon(icon_124358ddf9b47c8f84d29dbaa3e96f68);\n",
       "        \n",
       "    \n",
       "        var popup_d6c38177aec7da07c1e19bfdc80001b3 = L.popup({&quot;maxWidth&quot;: &quot;100%&quot;});\n",
       "\n",
       "        \n",
       "            var html_8ec647e515cb80cec483de243122d1f8 = $(`&lt;div id=&quot;html_8ec647e515cb80cec483de243122d1f8&quot; style=&quot;width: 100.0%; height: 100.0%;&quot;&gt;&lt;b&gt;Nombre: &lt;/b&gt;SANTA FILOMENA II  &lt;b&gt;Número de personas beneficiadas: &lt;/b&gt;211  &lt;b&gt;Año de puesta en marcha: &lt;/b&gt;2019.0&lt;/div&gt;`)[0];\n",
       "            popup_d6c38177aec7da07c1e19bfdc80001b3.setContent(html_8ec647e515cb80cec483de243122d1f8);\n",
       "        \n",
       "\n",
       "        marker_5f0e6696c53ed9e9172e6ff96f427227.bindPopup(popup_d6c38177aec7da07c1e19bfdc80001b3)\n",
       "        ;\n",
       "\n",
       "        \n",
       "    \n",
       "    \n",
       "            marker_5f0e6696c53ed9e9172e6ff96f427227.bindTooltip(\n",
       "                `&lt;div&gt;\n",
       "                     SANTA FILOMENA II\n",
       "                 &lt;/div&gt;`,\n",
       "                {&quot;sticky&quot;: true}\n",
       "            );\n",
       "        \n",
       "    \n",
       "            var marker_c23f0143269acbe076589520b55626f6 = L.marker(\n",
       "                [-39.8074856345, -72.9572455712],\n",
       "                {}\n",
       "            ).addTo(map_ff9806f8132e2db8e53619961f39bce9);\n",
       "        \n",
       "    \n",
       "            var icon_1db2dc341f648a3ee46c916372735dd4 = L.AwesomeMarkers.icon(\n",
       "                {&quot;extraClasses&quot;: &quot;fa-rotate-0&quot;, &quot;icon&quot;: &quot;info-sign&quot;, &quot;iconColor&quot;: &quot;white&quot;, &quot;markerColor&quot;: &quot;purple&quot;, &quot;prefix&quot;: &quot;glyphicon&quot;}\n",
       "            );\n",
       "            marker_c23f0143269acbe076589520b55626f6.setIcon(icon_1db2dc341f648a3ee46c916372735dd4);\n",
       "        \n",
       "    \n",
       "        var popup_eb4e8aba1e0d9a8816aed4ab37363d09 = L.popup({&quot;maxWidth&quot;: &quot;100%&quot;});\n",
       "\n",
       "        \n",
       "            var html_244af041df449a1feadbbb3d7bd35c2f = $(`&lt;div id=&quot;html_244af041df449a1feadbbb3d7bd35c2f&quot; style=&quot;width: 100.0%; height: 100.0%;&quot;&gt;&lt;b&gt;Nombre: &lt;/b&gt;ANTILHUE  &lt;b&gt;Número de personas beneficiadas: &lt;/b&gt;1414  &lt;b&gt;Año de puesta en marcha: &lt;/b&gt;1969.0&lt;/div&gt;`)[0];\n",
       "            popup_eb4e8aba1e0d9a8816aed4ab37363d09.setContent(html_244af041df449a1feadbbb3d7bd35c2f);\n",
       "        \n",
       "\n",
       "        marker_c23f0143269acbe076589520b55626f6.bindPopup(popup_eb4e8aba1e0d9a8816aed4ab37363d09)\n",
       "        ;\n",
       "\n",
       "        \n",
       "    \n",
       "    \n",
       "            marker_c23f0143269acbe076589520b55626f6.bindTooltip(\n",
       "                `&lt;div&gt;\n",
       "                     ANTILHUE\n",
       "                 &lt;/div&gt;`,\n",
       "                {&quot;sticky&quot;: true}\n",
       "            );\n",
       "        \n",
       "    \n",
       "            var marker_edae5748ccce44724eb1deb08ff19f71 = L.marker(\n",
       "                [-39.8710682914, -72.6678013129],\n",
       "                {}\n",
       "            ).addTo(map_ff9806f8132e2db8e53619961f39bce9);\n",
       "        \n",
       "    \n",
       "            var icon_8fb70e8a1dc92a17ec13665d9fa2ecd1 = L.AwesomeMarkers.icon(\n",
       "                {&quot;extraClasses&quot;: &quot;fa-rotate-0&quot;, &quot;icon&quot;: &quot;info-sign&quot;, &quot;iconColor&quot;: &quot;white&quot;, &quot;markerColor&quot;: &quot;orange&quot;, &quot;prefix&quot;: &quot;glyphicon&quot;}\n",
       "            );\n",
       "            marker_edae5748ccce44724eb1deb08ff19f71.setIcon(icon_8fb70e8a1dc92a17ec13665d9fa2ecd1);\n",
       "        \n",
       "    \n",
       "        var popup_25ebe8890f4944ce6ac4c9e98250fe05 = L.popup({&quot;maxWidth&quot;: &quot;100%&quot;});\n",
       "\n",
       "        \n",
       "            var html_8d45cf079727d9b6d27e24f2e4030594 = $(`&lt;div id=&quot;html_8d45cf079727d9b6d27e24f2e4030594&quot; style=&quot;width: 100.0%; height: 100.0%;&quot;&gt;&lt;b&gt;Nombre: &lt;/b&gt;FOLILCO LOS LAGOS  &lt;b&gt;Número de personas beneficiadas: &lt;/b&gt;474  &lt;b&gt;Año de puesta en marcha: &lt;/b&gt;1979.0&lt;/div&gt;`)[0];\n",
       "            popup_25ebe8890f4944ce6ac4c9e98250fe05.setContent(html_8d45cf079727d9b6d27e24f2e4030594);\n",
       "        \n",
       "\n",
       "        marker_edae5748ccce44724eb1deb08ff19f71.bindPopup(popup_25ebe8890f4944ce6ac4c9e98250fe05)\n",
       "        ;\n",
       "\n",
       "        \n",
       "    \n",
       "    \n",
       "            marker_edae5748ccce44724eb1deb08ff19f71.bindTooltip(\n",
       "                `&lt;div&gt;\n",
       "                     FOLILCO LOS LAGOS\n",
       "                 &lt;/div&gt;`,\n",
       "                {&quot;sticky&quot;: true}\n",
       "            );\n",
       "        \n",
       "    \n",
       "            var marker_80924f80af9fa4eef1d94c7d4207ba33 = L.marker(\n",
       "                [-39.9084433218, -72.5733916686],\n",
       "                {}\n",
       "            ).addTo(map_ff9806f8132e2db8e53619961f39bce9);\n",
       "        \n",
       "    \n",
       "            var icon_dd62e029d113651462ad7d02898bb8ea = L.AwesomeMarkers.icon(\n",
       "                {&quot;extraClasses&quot;: &quot;fa-rotate-0&quot;, &quot;icon&quot;: &quot;info-sign&quot;, &quot;iconColor&quot;: &quot;white&quot;, &quot;markerColor&quot;: &quot;blue&quot;, &quot;prefix&quot;: &quot;glyphicon&quot;}\n",
       "            );\n",
       "            marker_80924f80af9fa4eef1d94c7d4207ba33.setIcon(icon_dd62e029d113651462ad7d02898bb8ea);\n",
       "        \n",
       "    \n",
       "        var popup_017f84bc8b60b8e0d15ecade4c46b104 = L.popup({&quot;maxWidth&quot;: &quot;100%&quot;});\n",
       "\n",
       "        \n",
       "            var html_9f5a545893f1ee923ed4939071243a9b = $(`&lt;div id=&quot;html_9f5a545893f1ee923ed4939071243a9b&quot; style=&quot;width: 100.0%; height: 100.0%;&quot;&gt;&lt;b&gt;Nombre: &lt;/b&gt;QUILQUILCO  &lt;b&gt;Número de personas beneficiadas: &lt;/b&gt;149  &lt;b&gt;Año de puesta en marcha: &lt;/b&gt;2015.0&lt;/div&gt;`)[0];\n",
       "            popup_017f84bc8b60b8e0d15ecade4c46b104.setContent(html_9f5a545893f1ee923ed4939071243a9b);\n",
       "        \n",
       "\n",
       "        marker_80924f80af9fa4eef1d94c7d4207ba33.bindPopup(popup_017f84bc8b60b8e0d15ecade4c46b104)\n",
       "        ;\n",
       "\n",
       "        \n",
       "    \n",
       "    \n",
       "            marker_80924f80af9fa4eef1d94c7d4207ba33.bindTooltip(\n",
       "                `&lt;div&gt;\n",
       "                     QUILQUILCO\n",
       "                 &lt;/div&gt;`,\n",
       "                {&quot;sticky&quot;: true}\n",
       "            );\n",
       "        \n",
       "    \n",
       "            var marker_6cae2c10beb1fbe94ff6f2d4d9299cea = L.marker(\n",
       "                [-39.8171126188, -72.4425065285],\n",
       "                {}\n",
       "            ).addTo(map_ff9806f8132e2db8e53619961f39bce9);\n",
       "        \n",
       "    \n",
       "            var icon_da6a796e814be2d888a564e93226db3a = L.AwesomeMarkers.icon(\n",
       "                {&quot;extraClasses&quot;: &quot;fa-rotate-0&quot;, &quot;icon&quot;: &quot;info-sign&quot;, &quot;iconColor&quot;: &quot;white&quot;, &quot;markerColor&quot;: &quot;blue&quot;, &quot;prefix&quot;: &quot;glyphicon&quot;}\n",
       "            );\n",
       "            marker_6cae2c10beb1fbe94ff6f2d4d9299cea.setIcon(icon_da6a796e814be2d888a564e93226db3a);\n",
       "        \n",
       "    \n",
       "        var popup_18ae62702800dd8f28a1e872baa03941 = L.popup({&quot;maxWidth&quot;: &quot;100%&quot;});\n",
       "\n",
       "        \n",
       "            var html_d5a3222a832b729051b836016ea33a04 = $(`&lt;div id=&quot;html_d5a3222a832b729051b836016ea33a04&quot; style=&quot;width: 100.0%; height: 100.0%;&quot;&gt;&lt;b&gt;Nombre: &lt;/b&gt;RIÑIHUE  &lt;b&gt;Número de personas beneficiadas: &lt;/b&gt;208  &lt;b&gt;Año de puesta en marcha: &lt;/b&gt;1998.0&lt;/div&gt;`)[0];\n",
       "            popup_18ae62702800dd8f28a1e872baa03941.setContent(html_d5a3222a832b729051b836016ea33a04);\n",
       "        \n",
       "\n",
       "        marker_6cae2c10beb1fbe94ff6f2d4d9299cea.bindPopup(popup_18ae62702800dd8f28a1e872baa03941)\n",
       "        ;\n",
       "\n",
       "        \n",
       "    \n",
       "    \n",
       "            marker_6cae2c10beb1fbe94ff6f2d4d9299cea.bindTooltip(\n",
       "                `&lt;div&gt;\n",
       "                     RIÑIHUE\n",
       "                 &lt;/div&gt;`,\n",
       "                {&quot;sticky&quot;: true}\n",
       "            );\n",
       "        \n",
       "    \n",
       "            var marker_28b41d6acabf229081f21f4bffa80ad2 = L.marker(\n",
       "                [-39.7751787818, -72.6519491619],\n",
       "                {}\n",
       "            ).addTo(map_ff9806f8132e2db8e53619961f39bce9);\n",
       "        \n",
       "    \n",
       "            var icon_7c709f93d04458ecc2f84740a5e67c22 = L.AwesomeMarkers.icon(\n",
       "                {&quot;extraClasses&quot;: &quot;fa-rotate-0&quot;, &quot;icon&quot;: &quot;info-sign&quot;, &quot;iconColor&quot;: &quot;white&quot;, &quot;markerColor&quot;: &quot;orange&quot;, &quot;prefix&quot;: &quot;glyphicon&quot;}\n",
       "            );\n",
       "            marker_28b41d6acabf229081f21f4bffa80ad2.setIcon(icon_7c709f93d04458ecc2f84740a5e67c22);\n",
       "        \n",
       "    \n",
       "        var popup_ba6c54294bd776fdb63aa78773453993 = L.popup({&quot;maxWidth&quot;: &quot;100%&quot;});\n",
       "\n",
       "        \n",
       "            var html_d518a271c158eaf04f5864283b7f84aa = $(`&lt;div id=&quot;html_d518a271c158eaf04f5864283b7f84aa&quot; style=&quot;width: 100.0%; height: 100.0%;&quot;&gt;&lt;b&gt;Nombre: &lt;/b&gt;USTARITZ  &lt;b&gt;Número de personas beneficiadas: &lt;/b&gt;434  &lt;b&gt;Año de puesta en marcha: &lt;/b&gt;2002.0&lt;/div&gt;`)[0];\n",
       "            popup_ba6c54294bd776fdb63aa78773453993.setContent(html_d518a271c158eaf04f5864283b7f84aa);\n",
       "        \n",
       "\n",
       "        marker_28b41d6acabf229081f21f4bffa80ad2.bindPopup(popup_ba6c54294bd776fdb63aa78773453993)\n",
       "        ;\n",
       "\n",
       "        \n",
       "    \n",
       "    \n",
       "            marker_28b41d6acabf229081f21f4bffa80ad2.bindTooltip(\n",
       "                `&lt;div&gt;\n",
       "                     USTARITZ\n",
       "                 &lt;/div&gt;`,\n",
       "                {&quot;sticky&quot;: true}\n",
       "            );\n",
       "        \n",
       "    \n",
       "            var marker_f2b2d7fbb029cf6101605c71e54b898f = L.marker(\n",
       "                [-39.9987530843, -72.7108188025],\n",
       "                {}\n",
       "            ).addTo(map_ff9806f8132e2db8e53619961f39bce9);\n",
       "        \n",
       "    \n",
       "            var icon_ee49fa0a6a8b654e992febbe680bf472 = L.AwesomeMarkers.icon(\n",
       "                {&quot;extraClasses&quot;: &quot;fa-rotate-0&quot;, &quot;icon&quot;: &quot;info-sign&quot;, &quot;iconColor&quot;: &quot;white&quot;, &quot;markerColor&quot;: &quot;orange&quot;, &quot;prefix&quot;: &quot;glyphicon&quot;}\n",
       "            );\n",
       "            marker_f2b2d7fbb029cf6101605c71e54b898f.setIcon(icon_ee49fa0a6a8b654e992febbe680bf472);\n",
       "        \n",
       "    \n",
       "        var popup_c4cfccedbc856acf79b01977cacc5a9b = L.popup({&quot;maxWidth&quot;: &quot;100%&quot;});\n",
       "\n",
       "        \n",
       "            var html_9fb72101d2242b9cb588ebfa1961aaad = $(`&lt;div id=&quot;html_9fb72101d2242b9cb588ebfa1961aaad&quot; style=&quot;width: 100.0%; height: 100.0%;&quot;&gt;&lt;b&gt;Nombre: &lt;/b&gt;EL SALTO  &lt;b&gt;Número de personas beneficiadas: &lt;/b&gt;592  &lt;b&gt;Año de puesta en marcha: &lt;/b&gt;2013.0&lt;/div&gt;`)[0];\n",
       "            popup_c4cfccedbc856acf79b01977cacc5a9b.setContent(html_9fb72101d2242b9cb588ebfa1961aaad);\n",
       "        \n",
       "\n",
       "        marker_f2b2d7fbb029cf6101605c71e54b898f.bindPopup(popup_c4cfccedbc856acf79b01977cacc5a9b)\n",
       "        ;\n",
       "\n",
       "        \n",
       "    \n",
       "    \n",
       "            marker_f2b2d7fbb029cf6101605c71e54b898f.bindTooltip(\n",
       "                `&lt;div&gt;\n",
       "                     EL SALTO\n",
       "                 &lt;/div&gt;`,\n",
       "                {&quot;sticky&quot;: true}\n",
       "            );\n",
       "        \n",
       "    \n",
       "            var marker_0194d2ec7b524887420e8182cd454563 = L.marker(\n",
       "                [-40.0154665081, -72.5215180883],\n",
       "                {}\n",
       "            ).addTo(map_ff9806f8132e2db8e53619961f39bce9);\n",
       "        \n",
       "    \n",
       "            var icon_8153ee1454cb071279a2d0e2b82d9ca9 = L.AwesomeMarkers.icon(\n",
       "                {&quot;extraClasses&quot;: &quot;fa-rotate-0&quot;, &quot;icon&quot;: &quot;info-sign&quot;, &quot;iconColor&quot;: &quot;white&quot;, &quot;markerColor&quot;: &quot;orange&quot;, &quot;prefix&quot;: &quot;glyphicon&quot;}\n",
       "            );\n",
       "            marker_0194d2ec7b524887420e8182cd454563.setIcon(icon_8153ee1454cb071279a2d0e2b82d9ca9);\n",
       "        \n",
       "    \n",
       "        var popup_bbbebafb65262d5bc080a53273ec8f46 = L.popup({&quot;maxWidth&quot;: &quot;100%&quot;});\n",
       "\n",
       "        \n",
       "            var html_0d1ddc0ad873e4011edf1fd2d4878320 = $(`&lt;div id=&quot;html_0d1ddc0ad873e4011edf1fd2d4878320&quot; style=&quot;width: 100.0%; height: 100.0%;&quot;&gt;&lt;b&gt;Nombre: &lt;/b&gt;PELLINADA LAS QUINIENTAS  &lt;b&gt;Número de personas beneficiadas: &lt;/b&gt;434  &lt;b&gt;Año de puesta en marcha: &lt;/b&gt;2015.0&lt;/div&gt;`)[0];\n",
       "            popup_bbbebafb65262d5bc080a53273ec8f46.setContent(html_0d1ddc0ad873e4011edf1fd2d4878320);\n",
       "        \n",
       "\n",
       "        marker_0194d2ec7b524887420e8182cd454563.bindPopup(popup_bbbebafb65262d5bc080a53273ec8f46)\n",
       "        ;\n",
       "\n",
       "        \n",
       "    \n",
       "    \n",
       "            marker_0194d2ec7b524887420e8182cd454563.bindTooltip(\n",
       "                `&lt;div&gt;\n",
       "                     PELLINADA LAS QUINIENTAS\n",
       "                 &lt;/div&gt;`,\n",
       "                {&quot;sticky&quot;: true}\n",
       "            );\n",
       "        \n",
       "    \n",
       "            var marker_06dff02e47968e17b9001cdeabbd0ae7 = L.marker(\n",
       "                [-39.8526730412, -72.7929315347],\n",
       "                {}\n",
       "            ).addTo(map_ff9806f8132e2db8e53619961f39bce9);\n",
       "        \n",
       "    \n",
       "            var icon_071b3a5ebe86a13f1564cf8b54198bd1 = L.AwesomeMarkers.icon(\n",
       "                {&quot;extraClasses&quot;: &quot;fa-rotate-0&quot;, &quot;icon&quot;: &quot;info-sign&quot;, &quot;iconColor&quot;: &quot;white&quot;, &quot;markerColor&quot;: &quot;orange&quot;, &quot;prefix&quot;: &quot;glyphicon&quot;}\n",
       "            );\n",
       "            marker_06dff02e47968e17b9001cdeabbd0ae7.setIcon(icon_071b3a5ebe86a13f1564cf8b54198bd1);\n",
       "        \n",
       "    \n",
       "        var popup_8aa1cb719038765e6753bd3ddc1700d5 = L.popup({&quot;maxWidth&quot;: &quot;100%&quot;});\n",
       "\n",
       "        \n",
       "            var html_575f2a4f1ca1cbdb7f799c79ff38bd25 = $(`&lt;div id=&quot;html_575f2a4f1ca1cbdb7f799c79ff38bd25&quot; style=&quot;width: 100.0%; height: 100.0%;&quot;&gt;&lt;b&gt;Nombre: &lt;/b&gt;PANCUL  &lt;b&gt;Número de personas beneficiadas: &lt;/b&gt;729  &lt;b&gt;Año de puesta en marcha: &lt;/b&gt;2015.0&lt;/div&gt;`)[0];\n",
       "            popup_8aa1cb719038765e6753bd3ddc1700d5.setContent(html_575f2a4f1ca1cbdb7f799c79ff38bd25);\n",
       "        \n",
       "\n",
       "        marker_06dff02e47968e17b9001cdeabbd0ae7.bindPopup(popup_8aa1cb719038765e6753bd3ddc1700d5)\n",
       "        ;\n",
       "\n",
       "        \n",
       "    \n",
       "    \n",
       "            marker_06dff02e47968e17b9001cdeabbd0ae7.bindTooltip(\n",
       "                `&lt;div&gt;\n",
       "                     PANCUL\n",
       "                 &lt;/div&gt;`,\n",
       "                {&quot;sticky&quot;: true}\n",
       "            );\n",
       "        \n",
       "    \n",
       "            var marker_909c6eff24c6a159bce493a16cd1ff63 = L.marker(\n",
       "                [-39.8705154943, -72.781619174],\n",
       "                {}\n",
       "            ).addTo(map_ff9806f8132e2db8e53619961f39bce9);\n",
       "        \n",
       "    \n",
       "            var icon_37ce5f72113f74b0248ac4f9d6ca1ca7 = L.AwesomeMarkers.icon(\n",
       "                {&quot;extraClasses&quot;: &quot;fa-rotate-0&quot;, &quot;icon&quot;: &quot;info-sign&quot;, &quot;iconColor&quot;: &quot;white&quot;, &quot;markerColor&quot;: &quot;orange&quot;, &quot;prefix&quot;: &quot;glyphicon&quot;}\n",
       "            );\n",
       "            marker_909c6eff24c6a159bce493a16cd1ff63.setIcon(icon_37ce5f72113f74b0248ac4f9d6ca1ca7);\n",
       "        \n",
       "    \n",
       "        var popup_14a55c188d623d922ef6687f800a6044 = L.popup({&quot;maxWidth&quot;: &quot;100%&quot;});\n",
       "\n",
       "        \n",
       "            var html_aafeba2de9233423644d50f8f5be08c2 = $(`&lt;div id=&quot;html_aafeba2de9233423644d50f8f5be08c2&quot; style=&quot;width: 100.0%; height: 100.0%;&quot;&gt;&lt;b&gt;Nombre: &lt;/b&gt;LOS COLIGÜES  &lt;b&gt;Número de personas beneficiadas: &lt;/b&gt;456  &lt;b&gt;Año de puesta en marcha: &lt;/b&gt;2018.0&lt;/div&gt;`)[0];\n",
       "            popup_14a55c188d623d922ef6687f800a6044.setContent(html_aafeba2de9233423644d50f8f5be08c2);\n",
       "        \n",
       "\n",
       "        marker_909c6eff24c6a159bce493a16cd1ff63.bindPopup(popup_14a55c188d623d922ef6687f800a6044)\n",
       "        ;\n",
       "\n",
       "        \n",
       "    \n",
       "    \n",
       "            marker_909c6eff24c6a159bce493a16cd1ff63.bindTooltip(\n",
       "                `&lt;div&gt;\n",
       "                     LOS COLIGÜES\n",
       "                 &lt;/div&gt;`,\n",
       "                {&quot;sticky&quot;: true}\n",
       "            );\n",
       "        \n",
       "    \n",
       "            var marker_e1c19ccc52e8e90e254174fb552b275b = L.marker(\n",
       "                [-39.8817714432, -72.6708273322],\n",
       "                {}\n",
       "            ).addTo(map_ff9806f8132e2db8e53619961f39bce9);\n",
       "        \n",
       "    \n",
       "            var icon_9e0c55fa0688f25d49cf76b30f65a357 = L.AwesomeMarkers.icon(\n",
       "                {&quot;extraClasses&quot;: &quot;fa-rotate-0&quot;, &quot;icon&quot;: &quot;info-sign&quot;, &quot;iconColor&quot;: &quot;white&quot;, &quot;markerColor&quot;: &quot;green&quot;, &quot;prefix&quot;: &quot;glyphicon&quot;}\n",
       "            );\n",
       "            marker_e1c19ccc52e8e90e254174fb552b275b.setIcon(icon_9e0c55fa0688f25d49cf76b30f65a357);\n",
       "        \n",
       "    \n",
       "        var popup_d3c12f47c11fa6403e06f07d2f5f70e6 = L.popup({&quot;maxWidth&quot;: &quot;100%&quot;});\n",
       "\n",
       "        \n",
       "            var html_7cca7c3f8a496d73b378f681e3228892 = $(`&lt;div id=&quot;html_7cca7c3f8a496d73b378f681e3228892&quot; style=&quot;width: 100.0%; height: 100.0%;&quot;&gt;&lt;b&gt;Nombre: &lt;/b&gt;COLO COLO  &lt;b&gt;Número de personas beneficiadas: &lt;/b&gt;298  &lt;b&gt;Año de puesta en marcha: &lt;/b&gt;2017.0&lt;/div&gt;`)[0];\n",
       "            popup_d3c12f47c11fa6403e06f07d2f5f70e6.setContent(html_7cca7c3f8a496d73b378f681e3228892);\n",
       "        \n",
       "\n",
       "        marker_e1c19ccc52e8e90e254174fb552b275b.bindPopup(popup_d3c12f47c11fa6403e06f07d2f5f70e6)\n",
       "        ;\n",
       "\n",
       "        \n",
       "    \n",
       "    \n",
       "            marker_e1c19ccc52e8e90e254174fb552b275b.bindTooltip(\n",
       "                `&lt;div&gt;\n",
       "                     COLO COLO\n",
       "                 &lt;/div&gt;`,\n",
       "                {&quot;sticky&quot;: true}\n",
       "            );\n",
       "        \n",
       "    \n",
       "            var marker_b9db58690c8f011722011383f43377bc = L.marker(\n",
       "                [-39.9027809062, -72.5930946759],\n",
       "                {}\n",
       "            ).addTo(map_ff9806f8132e2db8e53619961f39bce9);\n",
       "        \n",
       "    \n",
       "            var icon_524fb05bd75ebc72e8cc230744608d9c = L.AwesomeMarkers.icon(\n",
       "                {&quot;extraClasses&quot;: &quot;fa-rotate-0&quot;, &quot;icon&quot;: &quot;info-sign&quot;, &quot;iconColor&quot;: &quot;white&quot;, &quot;markerColor&quot;: &quot;blue&quot;, &quot;prefix&quot;: &quot;glyphicon&quot;}\n",
       "            );\n",
       "            marker_b9db58690c8f011722011383f43377bc.setIcon(icon_524fb05bd75ebc72e8cc230744608d9c);\n",
       "        \n",
       "    \n",
       "        var popup_3ae643b2ef1269979d3f645ade38c52d = L.popup({&quot;maxWidth&quot;: &quot;100%&quot;});\n",
       "\n",
       "        \n",
       "            var html_f9cfbb6a8baf19175208040cc0745716 = $(`&lt;div id=&quot;html_f9cfbb6a8baf19175208040cc0745716&quot; style=&quot;width: 100.0%; height: 100.0%;&quot;&gt;&lt;b&gt;Nombre: &lt;/b&gt;LAS HUELLLAS  &lt;b&gt;Número de personas beneficiadas: &lt;/b&gt;276  &lt;b&gt;Año de puesta en marcha: &lt;/b&gt;2017.0&lt;/div&gt;`)[0];\n",
       "            popup_3ae643b2ef1269979d3f645ade38c52d.setContent(html_f9cfbb6a8baf19175208040cc0745716);\n",
       "        \n",
       "\n",
       "        marker_b9db58690c8f011722011383f43377bc.bindPopup(popup_3ae643b2ef1269979d3f645ade38c52d)\n",
       "        ;\n",
       "\n",
       "        \n",
       "    \n",
       "    \n",
       "            marker_b9db58690c8f011722011383f43377bc.bindTooltip(\n",
       "                `&lt;div&gt;\n",
       "                     LAS HUELLLAS\n",
       "                 &lt;/div&gt;`,\n",
       "                {&quot;sticky&quot;: true}\n",
       "            );\n",
       "        \n",
       "    \n",
       "            var marker_00f6329b1c79eedbb97910be75efcf8d = L.marker(\n",
       "                [-39.8171525324, -72.6981700465],\n",
       "                {}\n",
       "            ).addTo(map_ff9806f8132e2db8e53619961f39bce9);\n",
       "        \n",
       "    \n",
       "            var icon_a6c8b90055a80d0ad6285d117054ca32 = L.AwesomeMarkers.icon(\n",
       "                {&quot;extraClasses&quot;: &quot;fa-rotate-0&quot;, &quot;icon&quot;: &quot;info-sign&quot;, &quot;iconColor&quot;: &quot;white&quot;, &quot;markerColor&quot;: &quot;green&quot;, &quot;prefix&quot;: &quot;glyphicon&quot;}\n",
       "            );\n",
       "            marker_00f6329b1c79eedbb97910be75efcf8d.setIcon(icon_a6c8b90055a80d0ad6285d117054ca32);\n",
       "        \n",
       "    \n",
       "        var popup_6d936ad846fa21826f383c024dd3211c = L.popup({&quot;maxWidth&quot;: &quot;100%&quot;});\n",
       "\n",
       "        \n",
       "            var html_1d1943b39ad07b2151524afbbe32ae77 = $(`&lt;div id=&quot;html_1d1943b39ad07b2151524afbbe32ae77&quot; style=&quot;width: 100.0%; height: 100.0%;&quot;&gt;&lt;b&gt;Nombre: &lt;/b&gt;San Pedro  &lt;b&gt;Número de personas beneficiadas: &lt;/b&gt;375  &lt;b&gt;Año de puesta en marcha: &lt;/b&gt;2020.0&lt;/div&gt;`)[0];\n",
       "            popup_6d936ad846fa21826f383c024dd3211c.setContent(html_1d1943b39ad07b2151524afbbe32ae77);\n",
       "        \n",
       "\n",
       "        marker_00f6329b1c79eedbb97910be75efcf8d.bindPopup(popup_6d936ad846fa21826f383c024dd3211c)\n",
       "        ;\n",
       "\n",
       "        \n",
       "    \n",
       "    \n",
       "            marker_00f6329b1c79eedbb97910be75efcf8d.bindTooltip(\n",
       "                `&lt;div&gt;\n",
       "                     San Pedro\n",
       "                 &lt;/div&gt;`,\n",
       "                {&quot;sticky&quot;: true}\n",
       "            );\n",
       "        \n",
       "    \n",
       "            var marker_ff615322b3b0d8b3c9db358b086cc36e = L.marker(\n",
       "                [-39.9151109593, -72.78974687],\n",
       "                {}\n",
       "            ).addTo(map_ff9806f8132e2db8e53619961f39bce9);\n",
       "        \n",
       "    \n",
       "            var icon_4957715877b33cfd96cd0cd5d0de1913 = L.AwesomeMarkers.icon(\n",
       "                {&quot;extraClasses&quot;: &quot;fa-rotate-0&quot;, &quot;icon&quot;: &quot;info-sign&quot;, &quot;iconColor&quot;: &quot;white&quot;, &quot;markerColor&quot;: &quot;orange&quot;, &quot;prefix&quot;: &quot;glyphicon&quot;}\n",
       "            );\n",
       "            marker_ff615322b3b0d8b3c9db358b086cc36e.setIcon(icon_4957715877b33cfd96cd0cd5d0de1913);\n",
       "        \n",
       "    \n",
       "        var popup_c129375094bac1a4ece4ed2a94c19f2c = L.popup({&quot;maxWidth&quot;: &quot;100%&quot;});\n",
       "\n",
       "        \n",
       "            var html_b316bdaadd4a4309e0f8e6443809669c = $(`&lt;div id=&quot;html_b316bdaadd4a4309e0f8e6443809669c&quot; style=&quot;width: 100.0%; height: 100.0%;&quot;&gt;&lt;b&gt;Nombre: &lt;/b&gt;Lipingue  &lt;b&gt;Número de personas beneficiadas: &lt;/b&gt;434  &lt;b&gt;Año de puesta en marcha: &lt;/b&gt;2009.0&lt;/div&gt;`)[0];\n",
       "            popup_c129375094bac1a4ece4ed2a94c19f2c.setContent(html_b316bdaadd4a4309e0f8e6443809669c);\n",
       "        \n",
       "\n",
       "        marker_ff615322b3b0d8b3c9db358b086cc36e.bindPopup(popup_c129375094bac1a4ece4ed2a94c19f2c)\n",
       "        ;\n",
       "\n",
       "        \n",
       "    \n",
       "    \n",
       "            marker_ff615322b3b0d8b3c9db358b086cc36e.bindTooltip(\n",
       "                `&lt;div&gt;\n",
       "                     Lipingue\n",
       "                 &lt;/div&gt;`,\n",
       "                {&quot;sticky&quot;: true}\n",
       "            );\n",
       "        \n",
       "    \n",
       "            var marker_c9b1d1199c114ec2b57b0c988706b260 = L.marker(\n",
       "                [-39.9809683663, -72.7929665382],\n",
       "                {}\n",
       "            ).addTo(map_ff9806f8132e2db8e53619961f39bce9);\n",
       "        \n",
       "    \n",
       "            var icon_3bc7819a6721f88afedcfbbcd3be21fb = L.AwesomeMarkers.icon(\n",
       "                {&quot;extraClasses&quot;: &quot;fa-rotate-0&quot;, &quot;icon&quot;: &quot;info-sign&quot;, &quot;iconColor&quot;: &quot;white&quot;, &quot;markerColor&quot;: &quot;blue&quot;, &quot;prefix&quot;: &quot;glyphicon&quot;}\n",
       "            );\n",
       "            marker_c9b1d1199c114ec2b57b0c988706b260.setIcon(icon_3bc7819a6721f88afedcfbbcd3be21fb);\n",
       "        \n",
       "    \n",
       "        var popup_ddea7e843d131f203bb099c610d83d54 = L.popup({&quot;maxWidth&quot;: &quot;100%&quot;});\n",
       "\n",
       "        \n",
       "            var html_2193945452c6a51d30d5b16d4edc8786 = $(`&lt;div id=&quot;html_2193945452c6a51d30d5b16d4edc8786&quot; style=&quot;width: 100.0%; height: 100.0%;&quot;&gt;&lt;b&gt;Nombre: &lt;/b&gt;El Trebol  &lt;b&gt;Número de personas beneficiadas: &lt;/b&gt;208  &lt;b&gt;Año de puesta en marcha: &lt;/b&gt;1993.0&lt;/div&gt;`)[0];\n",
       "            popup_ddea7e843d131f203bb099c610d83d54.setContent(html_2193945452c6a51d30d5b16d4edc8786);\n",
       "        \n",
       "\n",
       "        marker_c9b1d1199c114ec2b57b0c988706b260.bindPopup(popup_ddea7e843d131f203bb099c610d83d54)\n",
       "        ;\n",
       "\n",
       "        \n",
       "    \n",
       "    \n",
       "            marker_c9b1d1199c114ec2b57b0c988706b260.bindTooltip(\n",
       "                `&lt;div&gt;\n",
       "                     El Trebol\n",
       "                 &lt;/div&gt;`,\n",
       "                {&quot;sticky&quot;: true}\n",
       "            );\n",
       "        \n",
       "    \n",
       "            var marker_f757e55f1fe23f77bb34355d76ae7e77 = L.marker(\n",
       "                [-39.891383155, -72.7942956633],\n",
       "                {}\n",
       "            ).addTo(map_ff9806f8132e2db8e53619961f39bce9);\n",
       "        \n",
       "    \n",
       "            var icon_d9d50ffb1de051e3d342760b4203fe92 = L.AwesomeMarkers.icon(\n",
       "                {&quot;extraClasses&quot;: &quot;fa-rotate-0&quot;, &quot;icon&quot;: &quot;info-sign&quot;, &quot;iconColor&quot;: &quot;white&quot;, &quot;markerColor&quot;: &quot;blue&quot;, &quot;prefix&quot;: &quot;glyphicon&quot;}\n",
       "            );\n",
       "            marker_f757e55f1fe23f77bb34355d76ae7e77.setIcon(icon_d9d50ffb1de051e3d342760b4203fe92);\n",
       "        \n",
       "    \n",
       "        var popup_a72ce05f4d95135fdd215c06da2d3a95 = L.popup({&quot;maxWidth&quot;: &quot;100%&quot;});\n",
       "\n",
       "        \n",
       "            var html_edc09867d6c3acc277d000cadb87604c = $(`&lt;div id=&quot;html_edc09867d6c3acc277d000cadb87604c&quot; style=&quot;width: 100.0%; height: 100.0%;&quot;&gt;&lt;b&gt;Nombre: &lt;/b&gt;Collico Sur  &lt;b&gt;Número de personas beneficiadas: &lt;/b&gt;236  &lt;b&gt;Año de puesta en marcha: &lt;/b&gt;2016.0&lt;/div&gt;`)[0];\n",
       "            popup_a72ce05f4d95135fdd215c06da2d3a95.setContent(html_edc09867d6c3acc277d000cadb87604c);\n",
       "        \n",
       "\n",
       "        marker_f757e55f1fe23f77bb34355d76ae7e77.bindPopup(popup_a72ce05f4d95135fdd215c06da2d3a95)\n",
       "        ;\n",
       "\n",
       "        \n",
       "    \n",
       "    \n",
       "            marker_f757e55f1fe23f77bb34355d76ae7e77.bindTooltip(\n",
       "                `&lt;div&gt;\n",
       "                     Collico Sur\n",
       "                 &lt;/div&gt;`,\n",
       "                {&quot;sticky&quot;: true}\n",
       "            );\n",
       "        \n",
       "    \n",
       "            var marker_bf56ae8a9cac77bae1cef679f9837fc2 = L.marker(\n",
       "                [-39.854954476, -72.6609940373],\n",
       "                {}\n",
       "            ).addTo(map_ff9806f8132e2db8e53619961f39bce9);\n",
       "        \n",
       "    \n",
       "            var icon_d5d1c0d79e593476d283aa335a93227a = L.AwesomeMarkers.icon(\n",
       "                {&quot;extraClasses&quot;: &quot;fa-rotate-0&quot;, &quot;icon&quot;: &quot;info-sign&quot;, &quot;iconColor&quot;: &quot;white&quot;, &quot;markerColor&quot;: &quot;blue&quot;, &quot;prefix&quot;: &quot;glyphicon&quot;}\n",
       "            );\n",
       "            marker_bf56ae8a9cac77bae1cef679f9837fc2.setIcon(icon_d5d1c0d79e593476d283aa335a93227a);\n",
       "        \n",
       "    \n",
       "        var popup_f1c576c5f5f5508d70f2cfad1de4f6d8 = L.popup({&quot;maxWidth&quot;: &quot;100%&quot;});\n",
       "\n",
       "        \n",
       "            var html_87dcd0634b57726d13fcac9c5d9832d4 = $(`&lt;div id=&quot;html_87dcd0634b57726d13fcac9c5d9832d4&quot; style=&quot;width: 100.0%; height: 100.0%;&quot;&gt;&lt;b&gt;Nombre: &lt;/b&gt;Mi Tierra  &lt;b&gt;Número de personas beneficiadas: &lt;/b&gt;71  &lt;b&gt;Año de puesta en marcha: &lt;/b&gt;2013.0&lt;/div&gt;`)[0];\n",
       "            popup_f1c576c5f5f5508d70f2cfad1de4f6d8.setContent(html_87dcd0634b57726d13fcac9c5d9832d4);\n",
       "        \n",
       "\n",
       "        marker_bf56ae8a9cac77bae1cef679f9837fc2.bindPopup(popup_f1c576c5f5f5508d70f2cfad1de4f6d8)\n",
       "        ;\n",
       "\n",
       "        \n",
       "    \n",
       "    \n",
       "            marker_bf56ae8a9cac77bae1cef679f9837fc2.bindTooltip(\n",
       "                `&lt;div&gt;\n",
       "                     Mi Tierra\n",
       "                 &lt;/div&gt;`,\n",
       "                {&quot;sticky&quot;: true}\n",
       "            );\n",
       "        \n",
       "    \n",
       "            var marker_bba1b4210f38db56244b5792392076c0 = L.marker(\n",
       "                [-39.8597946179, -72.7236128048],\n",
       "                {}\n",
       "            ).addTo(map_ff9806f8132e2db8e53619961f39bce9);\n",
       "        \n",
       "    \n",
       "            var icon_3951c1be81638aa9735cdb98092961ae = L.AwesomeMarkers.icon(\n",
       "                {&quot;extraClasses&quot;: &quot;fa-rotate-0&quot;, &quot;icon&quot;: &quot;info-sign&quot;, &quot;iconColor&quot;: &quot;white&quot;, &quot;markerColor&quot;: &quot;blue&quot;, &quot;prefix&quot;: &quot;glyphicon&quot;}\n",
       "            );\n",
       "            marker_bba1b4210f38db56244b5792392076c0.setIcon(icon_3951c1be81638aa9735cdb98092961ae);\n",
       "        \n",
       "    \n",
       "        var popup_60a4627271cacf582187b7958a72b871 = L.popup({&quot;maxWidth&quot;: &quot;100%&quot;});\n",
       "\n",
       "        \n",
       "            var html_1c52da3805168dc5d642804b7bb0a6fd = $(`&lt;div id=&quot;html_1c52da3805168dc5d642804b7bb0a6fd&quot; style=&quot;width: 100.0%; height: 100.0%;&quot;&gt;&lt;b&gt;Nombre: &lt;/b&gt;Puñaco  &lt;b&gt;Número de personas beneficiadas: &lt;/b&gt;81  &lt;b&gt;Año de puesta en marcha: &lt;/b&gt;1999.0&lt;/div&gt;`)[0];\n",
       "            popup_60a4627271cacf582187b7958a72b871.setContent(html_1c52da3805168dc5d642804b7bb0a6fd);\n",
       "        \n",
       "\n",
       "        marker_bba1b4210f38db56244b5792392076c0.bindPopup(popup_60a4627271cacf582187b7958a72b871)\n",
       "        ;\n",
       "\n",
       "        \n",
       "    \n",
       "    \n",
       "            marker_bba1b4210f38db56244b5792392076c0.bindTooltip(\n",
       "                `&lt;div&gt;\n",
       "                     Puñaco\n",
       "                 &lt;/div&gt;`,\n",
       "                {&quot;sticky&quot;: true}\n",
       "            );\n",
       "        \n",
       "    \n",
       "            var marker_c74a1e09872da9957e544aabade45713 = L.marker(\n",
       "                [-39.8183071179, -72.8753063555],\n",
       "                {}\n",
       "            ).addTo(map_ff9806f8132e2db8e53619961f39bce9);\n",
       "        \n",
       "    \n",
       "            var icon_1cd8b2950764ee60fa09e6b2240a231a = L.AwesomeMarkers.icon(\n",
       "                {&quot;extraClasses&quot;: &quot;fa-rotate-0&quot;, &quot;icon&quot;: &quot;info-sign&quot;, &quot;iconColor&quot;: &quot;white&quot;, &quot;markerColor&quot;: &quot;blue&quot;, &quot;prefix&quot;: &quot;glyphicon&quot;}\n",
       "            );\n",
       "            marker_c74a1e09872da9957e544aabade45713.setIcon(icon_1cd8b2950764ee60fa09e6b2240a231a);\n",
       "        \n",
       "    \n",
       "        var popup_2de522fc98a7605f36da0a2070700b0d = L.popup({&quot;maxWidth&quot;: &quot;100%&quot;});\n",
       "\n",
       "        \n",
       "            var html_d9caa59600c76181d7b84b9fc7edf962 = $(`&lt;div id=&quot;html_d9caa59600c76181d7b84b9fc7edf962&quot; style=&quot;width: 100.0%; height: 100.0%;&quot;&gt;&lt;b&gt;Nombre: &lt;/b&gt;Purey  &lt;b&gt;Número de personas beneficiadas: &lt;/b&gt;78  &lt;b&gt;Año de puesta en marcha: &lt;/b&gt;nan&lt;/div&gt;`)[0];\n",
       "            popup_2de522fc98a7605f36da0a2070700b0d.setContent(html_d9caa59600c76181d7b84b9fc7edf962);\n",
       "        \n",
       "\n",
       "        marker_c74a1e09872da9957e544aabade45713.bindPopup(popup_2de522fc98a7605f36da0a2070700b0d)\n",
       "        ;\n",
       "\n",
       "        \n",
       "    \n",
       "    \n",
       "            marker_c74a1e09872da9957e544aabade45713.bindTooltip(\n",
       "                `&lt;div&gt;\n",
       "                     Purey\n",
       "                 &lt;/div&gt;`,\n",
       "                {&quot;sticky&quot;: true}\n",
       "            );\n",
       "        \n",
       "    \n",
       "            var marker_60adabf4524db307c49337e0f986c5ca = L.marker(\n",
       "                [-39.8631470531, -73.4340874604],\n",
       "                {}\n",
       "            ).addTo(map_ff9806f8132e2db8e53619961f39bce9);\n",
       "        \n",
       "    \n",
       "            var icon_ce8a7366c8da76c107650dd0f8b47174 = L.AwesomeMarkers.icon(\n",
       "                {&quot;extraClasses&quot;: &quot;fa-rotate-0&quot;, &quot;icon&quot;: &quot;info-sign&quot;, &quot;iconColor&quot;: &quot;white&quot;, &quot;markerColor&quot;: &quot;purple&quot;, &quot;prefix&quot;: &quot;glyphicon&quot;}\n",
       "            );\n",
       "            marker_60adabf4524db307c49337e0f986c5ca.setIcon(icon_ce8a7366c8da76c107650dd0f8b47174);\n",
       "        \n",
       "    \n",
       "        var popup_5720ba3b2137dc550c29643a48c90100 = L.popup({&quot;maxWidth&quot;: &quot;100%&quot;});\n",
       "\n",
       "        \n",
       "            var html_11f457b80f424d4649f7fbe21958f8f6 = $(`&lt;div id=&quot;html_11f457b80f424d4649f7fbe21958f8f6&quot; style=&quot;width: 100.0%; height: 100.0%;&quot;&gt;&lt;b&gt;Nombre: &lt;/b&gt;AMARGO-SAN CARLOS  &lt;b&gt;Número de personas beneficiadas: &lt;/b&gt;2412  &lt;b&gt;Año de puesta en marcha: &lt;/b&gt;1981.0&lt;/div&gt;`)[0];\n",
       "            popup_5720ba3b2137dc550c29643a48c90100.setContent(html_11f457b80f424d4649f7fbe21958f8f6);\n",
       "        \n",
       "\n",
       "        marker_60adabf4524db307c49337e0f986c5ca.bindPopup(popup_5720ba3b2137dc550c29643a48c90100)\n",
       "        ;\n",
       "\n",
       "        \n",
       "    \n",
       "    \n",
       "            marker_60adabf4524db307c49337e0f986c5ca.bindTooltip(\n",
       "                `&lt;div&gt;\n",
       "                     AMARGO-SAN CARLOS\n",
       "                 &lt;/div&gt;`,\n",
       "                {&quot;sticky&quot;: true}\n",
       "            );\n",
       "        \n",
       "    \n",
       "            var marker_4f568fb21e76cd47e276e0f4643e8d03 = L.marker(\n",
       "                [-39.8754350487, -73.3587930086],\n",
       "                {}\n",
       "            ).addTo(map_ff9806f8132e2db8e53619961f39bce9);\n",
       "        \n",
       "    \n",
       "            var icon_c02c12f810dadb6b9c1a08ad6fc3eed5 = L.AwesomeMarkers.icon(\n",
       "                {&quot;extraClasses&quot;: &quot;fa-rotate-0&quot;, &quot;icon&quot;: &quot;info-sign&quot;, &quot;iconColor&quot;: &quot;white&quot;, &quot;markerColor&quot;: &quot;orange&quot;, &quot;prefix&quot;: &quot;glyphicon&quot;}\n",
       "            );\n",
       "            marker_4f568fb21e76cd47e276e0f4643e8d03.setIcon(icon_c02c12f810dadb6b9c1a08ad6fc3eed5);\n",
       "        \n",
       "    \n",
       "        var popup_399f8b22c496c062eb4a0428732721c8 = L.popup({&quot;maxWidth&quot;: &quot;100%&quot;});\n",
       "\n",
       "        \n",
       "            var html_e719f0597b4c0cef1b86c5200b8c3640 = $(`&lt;div id=&quot;html_e719f0597b4c0cef1b86c5200b8c3640&quot; style=&quot;width: 100.0%; height: 100.0%;&quot;&gt;&lt;b&gt;Nombre: &lt;/b&gt;ISLA DEL REY  &lt;b&gt;Número de personas beneficiadas: &lt;/b&gt;620  &lt;b&gt;Año de puesta en marcha: &lt;/b&gt;2010.0&lt;/div&gt;`)[0];\n",
       "            popup_399f8b22c496c062eb4a0428732721c8.setContent(html_e719f0597b4c0cef1b86c5200b8c3640);\n",
       "        \n",
       "\n",
       "        marker_4f568fb21e76cd47e276e0f4643e8d03.bindPopup(popup_399f8b22c496c062eb4a0428732721c8)\n",
       "        ;\n",
       "\n",
       "        \n",
       "    \n",
       "    \n",
       "            marker_4f568fb21e76cd47e276e0f4643e8d03.bindTooltip(\n",
       "                `&lt;div&gt;\n",
       "                     ISLA DEL REY\n",
       "                 &lt;/div&gt;`,\n",
       "                {&quot;sticky&quot;: true}\n",
       "            );\n",
       "        \n",
       "    \n",
       "            var marker_4e6b6a048775d0106b964ece92753f32 = L.marker(\n",
       "                [-39.8905057848, -73.3917808877],\n",
       "                {}\n",
       "            ).addTo(map_ff9806f8132e2db8e53619961f39bce9);\n",
       "        \n",
       "    \n",
       "            var icon_b62ed4e471b6a7c98ae7f666edad6e42 = L.AwesomeMarkers.icon(\n",
       "                {&quot;extraClasses&quot;: &quot;fa-rotate-0&quot;, &quot;icon&quot;: &quot;info-sign&quot;, &quot;iconColor&quot;: &quot;white&quot;, &quot;markerColor&quot;: &quot;blue&quot;, &quot;prefix&quot;: &quot;glyphicon&quot;}\n",
       "            );\n",
       "            marker_4e6b6a048775d0106b964ece92753f32.setIcon(icon_b62ed4e471b6a7c98ae7f666edad6e42);\n",
       "        \n",
       "    \n",
       "        var popup_e1e70cd0099de3f28efac46c62a92d58 = L.popup({&quot;maxWidth&quot;: &quot;100%&quot;});\n",
       "\n",
       "        \n",
       "            var html_fa24b2d07b532377ce70517af557c507 = $(`&lt;div id=&quot;html_fa24b2d07b532377ce70517af557c507&quot; style=&quot;width: 100.0%; height: 100.0%;&quot;&gt;&lt;b&gt;Nombre: &lt;/b&gt;ISLA MANCERA  &lt;b&gt;Número de personas beneficiadas: &lt;/b&gt;267  &lt;b&gt;Año de puesta en marcha: &lt;/b&gt;1999.0&lt;/div&gt;`)[0];\n",
       "            popup_e1e70cd0099de3f28efac46c62a92d58.setContent(html_fa24b2d07b532377ce70517af557c507);\n",
       "        \n",
       "\n",
       "        marker_4e6b6a048775d0106b964ece92753f32.bindPopup(popup_e1e70cd0099de3f28efac46c62a92d58)\n",
       "        ;\n",
       "\n",
       "        \n",
       "    \n",
       "    \n",
       "            marker_4e6b6a048775d0106b964ece92753f32.bindTooltip(\n",
       "                `&lt;div&gt;\n",
       "                     ISLA MANCERA\n",
       "                 &lt;/div&gt;`,\n",
       "                {&quot;sticky&quot;: true}\n",
       "            );\n",
       "        \n",
       "    \n",
       "            var marker_fb114fe95883167d1939b550cb1ade31 = L.marker(\n",
       "                [-39.8964415368, -73.417776163],\n",
       "                {}\n",
       "            ).addTo(map_ff9806f8132e2db8e53619961f39bce9);\n",
       "        \n",
       "    \n",
       "            var icon_a995661e96f283ad530579fd7836bd7e = L.AwesomeMarkers.icon(\n",
       "                {&quot;extraClasses&quot;: &quot;fa-rotate-0&quot;, &quot;icon&quot;: &quot;info-sign&quot;, &quot;iconColor&quot;: &quot;white&quot;, &quot;markerColor&quot;: &quot;orange&quot;, &quot;prefix&quot;: &quot;glyphicon&quot;}\n",
       "            );\n",
       "            marker_fb114fe95883167d1939b550cb1ade31.setIcon(icon_a995661e96f283ad530579fd7836bd7e);\n",
       "        \n",
       "    \n",
       "        var popup_f5acb87e82fb8781c3be79db99603276 = L.popup({&quot;maxWidth&quot;: &quot;100%&quot;});\n",
       "\n",
       "        \n",
       "            var html_f9fe7ac1c1eb874da12ec42cf92ba8ec = $(`&lt;div id=&quot;html_f9fe7ac1c1eb874da12ec42cf92ba8ec&quot; style=&quot;width: 100.0%; height: 100.0%;&quot;&gt;&lt;b&gt;Nombre: &lt;/b&gt;LA AGUADA  &lt;b&gt;Número de personas beneficiadas: &lt;/b&gt;626  &lt;b&gt;Año de puesta en marcha: &lt;/b&gt;1987.0&lt;/div&gt;`)[0];\n",
       "            popup_f5acb87e82fb8781c3be79db99603276.setContent(html_f9fe7ac1c1eb874da12ec42cf92ba8ec);\n",
       "        \n",
       "\n",
       "        marker_fb114fe95883167d1939b550cb1ade31.bindPopup(popup_f5acb87e82fb8781c3be79db99603276)\n",
       "        ;\n",
       "\n",
       "        \n",
       "    \n",
       "    \n",
       "            marker_fb114fe95883167d1939b550cb1ade31.bindTooltip(\n",
       "                `&lt;div&gt;\n",
       "                     LA AGUADA\n",
       "                 &lt;/div&gt;`,\n",
       "                {&quot;sticky&quot;: true}\n",
       "            );\n",
       "        \n",
       "    \n",
       "            var marker_f960e36fe4a0ec88c9d15d792e8119c2 = L.marker(\n",
       "                [-39.9656281859, -73.6194983481],\n",
       "                {}\n",
       "            ).addTo(map_ff9806f8132e2db8e53619961f39bce9);\n",
       "        \n",
       "    \n",
       "            var icon_6f6b6356a25bc4f07fb5fec7f6f2ce19 = L.AwesomeMarkers.icon(\n",
       "                {&quot;extraClasses&quot;: &quot;fa-rotate-0&quot;, &quot;icon&quot;: &quot;info-sign&quot;, &quot;iconColor&quot;: &quot;white&quot;, &quot;markerColor&quot;: &quot;red&quot;, &quot;prefix&quot;: &quot;glyphicon&quot;}\n",
       "            );\n",
       "            marker_f960e36fe4a0ec88c9d15d792e8119c2.setIcon(icon_6f6b6356a25bc4f07fb5fec7f6f2ce19);\n",
       "        \n",
       "    \n",
       "        var popup_512604bb21684e4c9550afea5c1db71e = L.popup({&quot;maxWidth&quot;: &quot;100%&quot;});\n",
       "\n",
       "        \n",
       "            var html_cd014595287da83369f2e386ff7c876d = $(`&lt;div id=&quot;html_cd014595287da83369f2e386ff7c876d&quot; style=&quot;width: 100.0%; height: 100.0%;&quot;&gt;&lt;b&gt;Nombre: &lt;/b&gt;CHAIHUIN  &lt;b&gt;Número de personas beneficiadas: &lt;/b&gt;744  &lt;b&gt;Año de puesta en marcha: &lt;/b&gt;2015.0&lt;/div&gt;`)[0];\n",
       "            popup_512604bb21684e4c9550afea5c1db71e.setContent(html_cd014595287da83369f2e386ff7c876d);\n",
       "        \n",
       "\n",
       "        marker_f960e36fe4a0ec88c9d15d792e8119c2.bindPopup(popup_512604bb21684e4c9550afea5c1db71e)\n",
       "        ;\n",
       "\n",
       "        \n",
       "    \n",
       "    \n",
       "            marker_f960e36fe4a0ec88c9d15d792e8119c2.bindTooltip(\n",
       "                `&lt;div&gt;\n",
       "                     CHAIHUIN\n",
       "                 &lt;/div&gt;`,\n",
       "                {&quot;sticky&quot;: true}\n",
       "            );\n",
       "        \n",
       "    \n",
       "            var marker_c5a1b54ebdb815b59fe677e2e784a10f = L.marker(\n",
       "                [-39.8970045115, -73.4310820761],\n",
       "                {}\n",
       "            ).addTo(map_ff9806f8132e2db8e53619961f39bce9);\n",
       "        \n",
       "    \n",
       "            var icon_900b139899fdab0041910997fc16bf03 = L.AwesomeMarkers.icon(\n",
       "                {&quot;extraClasses&quot;: &quot;fa-rotate-0&quot;, &quot;icon&quot;: &quot;info-sign&quot;, &quot;iconColor&quot;: &quot;white&quot;, &quot;markerColor&quot;: &quot;orange&quot;, &quot;prefix&quot;: &quot;glyphicon&quot;}\n",
       "            );\n",
       "            marker_c5a1b54ebdb815b59fe677e2e784a10f.setIcon(icon_900b139899fdab0041910997fc16bf03);\n",
       "        \n",
       "    \n",
       "        var popup_01f4148595badd19c2146f08d11414bf = L.popup({&quot;maxWidth&quot;: &quot;100%&quot;});\n",
       "\n",
       "        \n",
       "            var html_7c3f32287d70b4daaf9d670faa7b93f9 = $(`&lt;div id=&quot;html_7c3f32287d70b4daaf9d670faa7b93f9&quot; style=&quot;width: 100.0%; height: 100.0%;&quot;&gt;&lt;b&gt;Nombre: &lt;/b&gt;CERROS DE CORRAL  &lt;b&gt;Número de personas beneficiadas: &lt;/b&gt;484  &lt;b&gt;Año de puesta en marcha: &lt;/b&gt;2018.0&lt;/div&gt;`)[0];\n",
       "            popup_01f4148595badd19c2146f08d11414bf.setContent(html_7c3f32287d70b4daaf9d670faa7b93f9);\n",
       "        \n",
       "\n",
       "        marker_c5a1b54ebdb815b59fe677e2e784a10f.bindPopup(popup_01f4148595badd19c2146f08d11414bf)\n",
       "        ;\n",
       "\n",
       "        \n",
       "    \n",
       "    \n",
       "            marker_c5a1b54ebdb815b59fe677e2e784a10f.bindTooltip(\n",
       "                `&lt;div&gt;\n",
       "                     CERROS DE CORRAL\n",
       "                 &lt;/div&gt;`,\n",
       "                {&quot;sticky&quot;: true}\n",
       "            );\n",
       "        \n",
       "&lt;/script&gt;\" style=\"position:absolute;width:100%;height:100%;left:0;top:0;border:none !important;\" allowfullscreen webkitallowfullscreen mozallowfullscreen></iframe></div></div>"
      ],
      "text/plain": [
       "<folium.folium.Map at 0x213edad0370>"
      ]
     },
     "execution_count": 72,
     "metadata": {},
     "output_type": "execute_result"
    }
   ],
   "source": [
    "map = folium.Map(location = [-39.925826, -73.114501], tiles = \"OpenStreetMap\", zoom_start = 9.5)\n",
    "\n",
    "#Recopilación de datos de años\n",
    "datos_agno_valdivia=list(datos.iloc[1963:1977,5])\n",
    "datos_agno_paillaco=list(datos.iloc[1919:1930,5])\n",
    "datos_agno_loslagos=list(datos.iloc[1885:1903,5])\n",
    "datos_agno_corral=list(datos.iloc[1873:1879,5])\n",
    "datos_agno=datos_agno_valdivia+datos_agno_paillaco+datos_agno_loslagos+datos_agno_corral\n",
    "\n",
    "color_beneficiario=[]\n",
    "\n",
    "for j in range(len(locations)):\n",
    "    nombre=nombres[j]\n",
    "    u=beneficiarios[j]\n",
    "    if u<292.5:\n",
    "        colores='blue'\n",
    "    if u>=292.5 and u<434:\n",
    "        colores='green'\n",
    "    if u>=434 and u<732.5:\n",
    "        colores='orange'\n",
    "    if u>=732.5 and u<1327:\n",
    "        colores='red'               \n",
    "    if u>=1327:\n",
    "        colores='purple'\n",
    "    color_beneficiario.append(colores)\n",
    "    folium.Marker(\n",
    "    location=locations[j],\n",
    "    popup=('<b>Nombre: </b>' + str(nombre)+\n",
    "           \" \\n<b>Número de personas beneficiadas: </b>\"+str(int(beneficiarios[j]))+\n",
    "           \" \\n<b>Año de puesta en marcha: </b>\"+str(datos_agno[j])),\n",
    "    tooltip=nombres[j],\n",
    "    icon=folium.Icon(color=colores),\n",
    ").add_to(map)\n",
    "    \n",
    "map"
   ]
  },
  {
   "cell_type": "code",
   "execution_count": 32,
   "id": "6f75b46c-5d57-4c8e-9724-2953df919bcf",
   "metadata": {},
   "outputs": [
    {
     "data": {
      "application/vnd.plotly.v1+json": {
       "config": {
        "plotlyServerURL": "https://plot.ly"
       },
       "data": [
        {
         "colorscale": [
          [
           0,
           "#00083e"
          ],
          [
           0.5,
           "#ededee"
          ],
          [
           1,
           "#ffffff"
          ]
         ],
         "hoverinfo": "none",
         "opacity": 0.75,
         "showscale": false,
         "type": "heatmap",
         "z": [
          [
           0,
           0,
           0,
           0
          ],
          [
           0.5,
           0.5,
           0.5,
           0.5
          ],
          [
           1,
           1,
           1,
           1
          ],
          [
           0.5,
           0.5,
           0.5,
           0.5
          ],
          [
           1,
           1,
           1,
           1
          ],
          [
           0.5,
           0.5,
           0.5,
           0.5
          ],
          [
           1,
           1,
           1,
           1
          ],
          [
           0.5,
           0.5,
           0.5,
           0.5
          ],
          [
           1,
           1,
           1,
           1
          ],
          [
           0.5,
           0.5,
           0.5,
           0.5
          ],
          [
           1,
           1,
           1,
           1
          ],
          [
           0.5,
           0.5,
           0.5,
           0.5
          ],
          [
           1,
           1,
           1,
           1
          ],
          [
           0.5,
           0.5,
           0.5,
           0.5
          ],
          [
           1,
           1,
           1,
           1
          ],
          [
           0.5,
           0.5,
           0.5,
           0.5
          ],
          [
           1,
           1,
           1,
           1
          ],
          [
           0.5,
           0.5,
           0.5,
           0.5
          ],
          [
           1,
           1,
           1,
           1
          ],
          [
           0.5,
           0.5,
           0.5,
           0.5
          ],
          [
           1,
           1,
           1,
           1
          ],
          [
           0.5,
           0.5,
           0.5,
           0.5
          ],
          [
           1,
           1,
           1,
           1
          ],
          [
           0.5,
           0.5,
           0.5,
           0.5
          ],
          [
           1,
           1,
           1,
           1
          ],
          [
           0.5,
           0.5,
           0.5,
           0.5
          ],
          [
           1,
           1,
           1,
           1
          ],
          [
           0.5,
           0.5,
           0.5,
           0.5
          ],
          [
           1,
           1,
           1,
           1
          ],
          [
           0.5,
           0.5,
           0.5,
           0.5
          ],
          [
           1,
           1,
           1,
           1
          ],
          [
           0.5,
           0.5,
           0.5,
           0.5
          ],
          [
           1,
           1,
           1,
           1
          ],
          [
           0.5,
           0.5,
           0.5,
           0.5
          ],
          [
           1,
           1,
           1,
           1
          ],
          [
           0.5,
           0.5,
           0.5,
           0.5
          ],
          [
           1,
           1,
           1,
           1
          ],
          [
           0.5,
           0.5,
           0.5,
           0.5
          ],
          [
           1,
           1,
           1,
           1
          ],
          [
           0.5,
           0.5,
           0.5,
           0.5
          ],
          [
           1,
           1,
           1,
           1
          ],
          [
           0.5,
           0.5,
           0.5,
           0.5
          ],
          [
           1,
           1,
           1,
           1
          ],
          [
           0.5,
           0.5,
           0.5,
           0.5
          ],
          [
           1,
           1,
           1,
           1
          ],
          [
           0.5,
           0.5,
           0.5,
           0.5
          ],
          [
           1,
           1,
           1,
           1
          ],
          [
           0.5,
           0.5,
           0.5,
           0.5
          ],
          [
           1,
           1,
           1,
           1
          ],
          [
           0.5,
           0.5,
           0.5,
           0.5
          ]
         ]
        }
       ],
       "layout": {
        "annotations": [
         {
          "align": "left",
          "font": {
           "color": "#ffffff"
          },
          "showarrow": false,
          "text": "<b>Nombre Ubicación</b>",
          "x": -0.45,
          "xanchor": "left",
          "xref": "x",
          "y": 0,
          "yref": "y"
         },
         {
          "align": "left",
          "font": {
           "color": "#ffffff"
          },
          "showarrow": false,
          "text": "<b>Beneficiarios</b>",
          "x": 0.55,
          "xanchor": "left",
          "xref": "x",
          "y": 0,
          "yref": "y"
         },
         {
          "align": "left",
          "font": {
           "color": "#ffffff"
          },
          "showarrow": false,
          "text": "<b>Color</b>",
          "x": 1.55,
          "xanchor": "left",
          "xref": "x",
          "y": 0,
          "yref": "y"
         },
         {
          "align": "left",
          "font": {
           "color": "#ffffff"
          },
          "showarrow": false,
          "text": "<b>Comunas</b>",
          "x": 2.55,
          "xanchor": "left",
          "xref": "x",
          "y": 0,
          "yref": "y"
         },
         {
          "align": "left",
          "font": {
           "color": "#000000"
          },
          "showarrow": false,
          "text": "PISHUINCO",
          "x": -0.45,
          "xanchor": "left",
          "xref": "x",
          "y": 1,
          "yref": "y"
         },
         {
          "align": "left",
          "font": {
           "color": "#000000"
          },
          "showarrow": false,
          "text": "322.0",
          "x": 0.55,
          "xanchor": "left",
          "xref": "x",
          "y": 1,
          "yref": "y"
         },
         {
          "align": "left",
          "font": {
           "color": "#000000"
          },
          "showarrow": false,
          "text": "green",
          "x": 1.55,
          "xanchor": "left",
          "xref": "x",
          "y": 1,
          "yref": "y"
         },
         {
          "align": "left",
          "font": {
           "color": "#000000"
          },
          "showarrow": false,
          "text": "Valdivia",
          "x": 2.55,
          "xanchor": "left",
          "xref": "x",
          "y": 1,
          "yref": "y"
         },
         {
          "align": "left",
          "font": {
           "color": "#000000"
          },
          "showarrow": false,
          "text": "CURIÑANCO",
          "x": -0.45,
          "xanchor": "left",
          "xref": "x",
          "y": 2,
          "yref": "y"
         },
         {
          "align": "left",
          "font": {
           "color": "#000000"
          },
          "showarrow": false,
          "text": "2294.0",
          "x": 0.55,
          "xanchor": "left",
          "xref": "x",
          "y": 2,
          "yref": "y"
         },
         {
          "align": "left",
          "font": {
           "color": "#000000"
          },
          "showarrow": false,
          "text": "purple",
          "x": 1.55,
          "xanchor": "left",
          "xref": "x",
          "y": 2,
          "yref": "y"
         },
         {
          "align": "left",
          "font": {
           "color": "#000000"
          },
          "showarrow": false,
          "text": "Valdivia",
          "x": 2.55,
          "xanchor": "left",
          "xref": "x",
          "y": 2,
          "yref": "y"
         },
         {
          "align": "left",
          "font": {
           "color": "#000000"
          },
          "showarrow": false,
          "text": "HUELLELHUE",
          "x": -0.45,
          "xanchor": "left",
          "xref": "x",
          "y": 3,
          "yref": "y"
         },
         {
          "align": "left",
          "font": {
           "color": "#000000"
          },
          "showarrow": false,
          "text": "310.0",
          "x": 0.55,
          "xanchor": "left",
          "xref": "x",
          "y": 3,
          "yref": "y"
         },
         {
          "align": "left",
          "font": {
           "color": "#000000"
          },
          "showarrow": false,
          "text": "green",
          "x": 1.55,
          "xanchor": "left",
          "xref": "x",
          "y": 3,
          "yref": "y"
         },
         {
          "align": "left",
          "font": {
           "color": "#000000"
          },
          "showarrow": false,
          "text": "Valdivia",
          "x": 2.55,
          "xanchor": "left",
          "xref": "x",
          "y": 3,
          "yref": "y"
         },
         {
          "align": "left",
          "font": {
           "color": "#000000"
          },
          "showarrow": false,
          "text": "LAS GAVIOTAS",
          "x": -0.45,
          "xanchor": "left",
          "xref": "x",
          "y": 4,
          "yref": "y"
         },
         {
          "align": "left",
          "font": {
           "color": "#000000"
          },
          "showarrow": false,
          "text": "1048.0",
          "x": 0.55,
          "xanchor": "left",
          "xref": "x",
          "y": 4,
          "yref": "y"
         },
         {
          "align": "left",
          "font": {
           "color": "#000000"
          },
          "showarrow": false,
          "text": "red",
          "x": 1.55,
          "xanchor": "left",
          "xref": "x",
          "y": 4,
          "yref": "y"
         },
         {
          "align": "left",
          "font": {
           "color": "#000000"
          },
          "showarrow": false,
          "text": "Valdivia",
          "x": 2.55,
          "xanchor": "left",
          "xref": "x",
          "y": 4,
          "yref": "y"
         },
         {
          "align": "left",
          "font": {
           "color": "#000000"
          },
          "showarrow": false,
          "text": "NIEBLA-LOS MOLINOS",
          "x": -0.45,
          "xanchor": "left",
          "xref": "x",
          "y": 5,
          "yref": "y"
         },
         {
          "align": "left",
          "font": {
           "color": "#000000"
          },
          "showarrow": false,
          "text": "4021.0",
          "x": 0.55,
          "xanchor": "left",
          "xref": "x",
          "y": 5,
          "yref": "y"
         },
         {
          "align": "left",
          "font": {
           "color": "#000000"
          },
          "showarrow": false,
          "text": "purple",
          "x": 1.55,
          "xanchor": "left",
          "xref": "x",
          "y": 5,
          "yref": "y"
         },
         {
          "align": "left",
          "font": {
           "color": "#000000"
          },
          "showarrow": false,
          "text": "Valdivia",
          "x": 2.55,
          "xanchor": "left",
          "xref": "x",
          "y": 5,
          "yref": "y"
         },
         {
          "align": "left",
          "font": {
           "color": "#000000"
          },
          "showarrow": false,
          "text": "PUNUCAPA",
          "x": -0.45,
          "xanchor": "left",
          "xref": "x",
          "y": 6,
          "yref": "y"
         },
         {
          "align": "left",
          "font": {
           "color": "#000000"
          },
          "showarrow": false,
          "text": "459.0",
          "x": 0.55,
          "xanchor": "left",
          "xref": "x",
          "y": 6,
          "yref": "y"
         },
         {
          "align": "left",
          "font": {
           "color": "#000000"
          },
          "showarrow": false,
          "text": "orange",
          "x": 1.55,
          "xanchor": "left",
          "xref": "x",
          "y": 6,
          "yref": "y"
         },
         {
          "align": "left",
          "font": {
           "color": "#000000"
          },
          "showarrow": false,
          "text": "Valdivia",
          "x": 2.55,
          "xanchor": "left",
          "xref": "x",
          "y": 6,
          "yref": "y"
         },
         {
          "align": "left",
          "font": {
           "color": "#000000"
          },
          "showarrow": false,
          "text": "SAN IGNACIO-PLAYA ROSADA",
          "x": -0.45,
          "xanchor": "left",
          "xref": "x",
          "y": 7,
          "yref": "y"
         },
         {
          "align": "left",
          "font": {
           "color": "#000000"
          },
          "showarrow": false,
          "text": "936.0",
          "x": 0.55,
          "xanchor": "left",
          "xref": "x",
          "y": 7,
          "yref": "y"
         },
         {
          "align": "left",
          "font": {
           "color": "#000000"
          },
          "showarrow": false,
          "text": "red",
          "x": 1.55,
          "xanchor": "left",
          "xref": "x",
          "y": 7,
          "yref": "y"
         },
         {
          "align": "left",
          "font": {
           "color": "#000000"
          },
          "showarrow": false,
          "text": "Valdivia",
          "x": 2.55,
          "xanchor": "left",
          "xref": "x",
          "y": 7,
          "yref": "y"
         },
         {
          "align": "left",
          "font": {
           "color": "#000000"
          },
          "showarrow": false,
          "text": "TRES ESPINOS",
          "x": -0.45,
          "xanchor": "left",
          "xref": "x",
          "y": 8,
          "yref": "y"
         },
         {
          "align": "left",
          "font": {
           "color": "#000000"
          },
          "showarrow": false,
          "text": "1091.0",
          "x": 0.55,
          "xanchor": "left",
          "xref": "x",
          "y": 8,
          "yref": "y"
         },
         {
          "align": "left",
          "font": {
           "color": "#000000"
          },
          "showarrow": false,
          "text": "red",
          "x": 1.55,
          "xanchor": "left",
          "xref": "x",
          "y": 8,
          "yref": "y"
         },
         {
          "align": "left",
          "font": {
           "color": "#000000"
          },
          "showarrow": false,
          "text": "Valdivia",
          "x": 2.55,
          "xanchor": "left",
          "xref": "x",
          "y": 8,
          "yref": "y"
         },
         {
          "align": "left",
          "font": {
           "color": "#000000"
          },
          "showarrow": false,
          "text": "VILLA CAYUMAPU",
          "x": -0.45,
          "xanchor": "left",
          "xref": "x",
          "y": 9,
          "yref": "y"
         },
         {
          "align": "left",
          "font": {
           "color": "#000000"
          },
          "showarrow": false,
          "text": "1327.0",
          "x": 0.55,
          "xanchor": "left",
          "xref": "x",
          "y": 9,
          "yref": "y"
         },
         {
          "align": "left",
          "font": {
           "color": "#000000"
          },
          "showarrow": false,
          "text": "purple",
          "x": 1.55,
          "xanchor": "left",
          "xref": "x",
          "y": 9,
          "yref": "y"
         },
         {
          "align": "left",
          "font": {
           "color": "#000000"
          },
          "showarrow": false,
          "text": "Valdivia",
          "x": 2.55,
          "xanchor": "left",
          "xref": "x",
          "y": 9,
          "yref": "y"
         },
         {
          "align": "left",
          "font": {
           "color": "#000000"
          },
          "showarrow": false,
          "text": "EL ARENAL SANTA ELVIRA",
          "x": -0.45,
          "xanchor": "left",
          "xref": "x",
          "y": 10,
          "yref": "y"
         },
         {
          "align": "left",
          "font": {
           "color": "#000000"
          },
          "showarrow": false,
          "text": "549.0",
          "x": 0.55,
          "xanchor": "left",
          "xref": "x",
          "y": 10,
          "yref": "y"
         },
         {
          "align": "left",
          "font": {
           "color": "#000000"
          },
          "showarrow": false,
          "text": "orange",
          "x": 1.55,
          "xanchor": "left",
          "xref": "x",
          "y": 10,
          "yref": "y"
         },
         {
          "align": "left",
          "font": {
           "color": "#000000"
          },
          "showarrow": false,
          "text": "Valdivia",
          "x": 2.55,
          "xanchor": "left",
          "xref": "x",
          "y": 10,
          "yref": "y"
         },
         {
          "align": "left",
          "font": {
           "color": "#000000"
          },
          "showarrow": false,
          "text": "PAILLAO",
          "x": -0.45,
          "xanchor": "left",
          "xref": "x",
          "y": 11,
          "yref": "y"
         },
         {
          "align": "left",
          "font": {
           "color": "#000000"
          },
          "showarrow": false,
          "text": "871.0",
          "x": 0.55,
          "xanchor": "left",
          "xref": "x",
          "y": 11,
          "yref": "y"
         },
         {
          "align": "left",
          "font": {
           "color": "#000000"
          },
          "showarrow": false,
          "text": "red",
          "x": 1.55,
          "xanchor": "left",
          "xref": "x",
          "y": 11,
          "yref": "y"
         },
         {
          "align": "left",
          "font": {
           "color": "#000000"
          },
          "showarrow": false,
          "text": "Valdivia",
          "x": 2.55,
          "xanchor": "left",
          "xref": "x",
          "y": 11,
          "yref": "y"
         },
         {
          "align": "left",
          "font": {
           "color": "#000000"
          },
          "showarrow": false,
          "text": "CABO BLANCO",
          "x": -0.45,
          "xanchor": "left",
          "xref": "x",
          "y": 12,
          "yref": "y"
         },
         {
          "align": "left",
          "font": {
           "color": "#000000"
          },
          "showarrow": false,
          "text": "543.0",
          "x": 0.55,
          "xanchor": "left",
          "xref": "x",
          "y": 12,
          "yref": "y"
         },
         {
          "align": "left",
          "font": {
           "color": "#000000"
          },
          "showarrow": false,
          "text": "orange",
          "x": 1.55,
          "xanchor": "left",
          "xref": "x",
          "y": 12,
          "yref": "y"
         },
         {
          "align": "left",
          "font": {
           "color": "#000000"
          },
          "showarrow": false,
          "text": "Valdivia",
          "x": 2.55,
          "xanchor": "left",
          "xref": "x",
          "y": 12,
          "yref": "y"
         },
         {
          "align": "left",
          "font": {
           "color": "#000000"
          },
          "showarrow": false,
          "text": "EL ARENAL KM 2",
          "x": -0.45,
          "xanchor": "left",
          "xref": "x",
          "y": 13,
          "yref": "y"
         },
         {
          "align": "left",
          "font": {
           "color": "#000000"
          },
          "showarrow": false,
          "text": "623.0",
          "x": 0.55,
          "xanchor": "left",
          "xref": "x",
          "y": 13,
          "yref": "y"
         },
         {
          "align": "left",
          "font": {
           "color": "#000000"
          },
          "showarrow": false,
          "text": "orange",
          "x": 1.55,
          "xanchor": "left",
          "xref": "x",
          "y": 13,
          "yref": "y"
         },
         {
          "align": "left",
          "font": {
           "color": "#000000"
          },
          "showarrow": false,
          "text": "Valdivia",
          "x": 2.55,
          "xanchor": "left",
          "xref": "x",
          "y": 13,
          "yref": "y"
         },
         {
          "align": "left",
          "font": {
           "color": "#000000"
          },
          "showarrow": false,
          "text": "Chabelita",
          "x": -0.45,
          "xanchor": "left",
          "xref": "x",
          "y": 14,
          "yref": "y"
         },
         {
          "align": "left",
          "font": {
           "color": "#000000"
          },
          "showarrow": false,
          "text": "434.0",
          "x": 0.55,
          "xanchor": "left",
          "xref": "x",
          "y": 14,
          "yref": "y"
         },
         {
          "align": "left",
          "font": {
           "color": "#000000"
          },
          "showarrow": false,
          "text": "orange",
          "x": 1.55,
          "xanchor": "left",
          "xref": "x",
          "y": 14,
          "yref": "y"
         },
         {
          "align": "left",
          "font": {
           "color": "#000000"
          },
          "showarrow": false,
          "text": "Valdivia",
          "x": 2.55,
          "xanchor": "left",
          "xref": "x",
          "y": 14,
          "yref": "y"
         },
         {
          "align": "left",
          "font": {
           "color": "#000000"
          },
          "showarrow": false,
          "text": "ARCO IRIS",
          "x": -0.45,
          "xanchor": "left",
          "xref": "x",
          "y": 15,
          "yref": "y"
         },
         {
          "align": "left",
          "font": {
           "color": "#000000"
          },
          "showarrow": false,
          "text": "394.0",
          "x": 0.55,
          "xanchor": "left",
          "xref": "x",
          "y": 15,
          "yref": "y"
         },
         {
          "align": "left",
          "font": {
           "color": "#000000"
          },
          "showarrow": false,
          "text": "green",
          "x": 1.55,
          "xanchor": "left",
          "xref": "x",
          "y": 15,
          "yref": "y"
         },
         {
          "align": "left",
          "font": {
           "color": "#000000"
          },
          "showarrow": false,
          "text": "Paillaco",
          "x": 2.55,
          "xanchor": "left",
          "xref": "x",
          "y": 15,
          "yref": "y"
         },
         {
          "align": "left",
          "font": {
           "color": "#000000"
          },
          "showarrow": false,
          "text": "EL LLOLLY",
          "x": -0.45,
          "xanchor": "left",
          "xref": "x",
          "y": 16,
          "yref": "y"
         },
         {
          "align": "left",
          "font": {
           "color": "#000000"
          },
          "showarrow": false,
          "text": "428.0",
          "x": 0.55,
          "xanchor": "left",
          "xref": "x",
          "y": 16,
          "yref": "y"
         },
         {
          "align": "left",
          "font": {
           "color": "#000000"
          },
          "showarrow": false,
          "text": "green",
          "x": 1.55,
          "xanchor": "left",
          "xref": "x",
          "y": 16,
          "yref": "y"
         },
         {
          "align": "left",
          "font": {
           "color": "#000000"
          },
          "showarrow": false,
          "text": "Paillaco",
          "x": 2.55,
          "xanchor": "left",
          "xref": "x",
          "y": 16,
          "yref": "y"
         },
         {
          "align": "left",
          "font": {
           "color": "#000000"
          },
          "showarrow": false,
          "text": "PICHIRROPULLI",
          "x": -0.45,
          "xanchor": "left",
          "xref": "x",
          "y": 17,
          "yref": "y"
         },
         {
          "align": "left",
          "font": {
           "color": "#000000"
          },
          "showarrow": false,
          "text": "1079.0",
          "x": 0.55,
          "xanchor": "left",
          "xref": "x",
          "y": 17,
          "yref": "y"
         },
         {
          "align": "left",
          "font": {
           "color": "#000000"
          },
          "showarrow": false,
          "text": "red",
          "x": 1.55,
          "xanchor": "left",
          "xref": "x",
          "y": 17,
          "yref": "y"
         },
         {
          "align": "left",
          "font": {
           "color": "#000000"
          },
          "showarrow": false,
          "text": "Paillaco",
          "x": 2.55,
          "xanchor": "left",
          "xref": "x",
          "y": 17,
          "yref": "y"
         },
         {
          "align": "left",
          "font": {
           "color": "#000000"
          },
          "showarrow": false,
          "text": "REUMEN",
          "x": -0.45,
          "xanchor": "left",
          "xref": "x",
          "y": 18,
          "yref": "y"
         },
         {
          "align": "left",
          "font": {
           "color": "#000000"
          },
          "showarrow": false,
          "text": "1442.0",
          "x": 0.55,
          "xanchor": "left",
          "xref": "x",
          "y": 18,
          "yref": "y"
         },
         {
          "align": "left",
          "font": {
           "color": "#000000"
          },
          "showarrow": false,
          "text": "purple",
          "x": 1.55,
          "xanchor": "left",
          "xref": "x",
          "y": 18,
          "yref": "y"
         },
         {
          "align": "left",
          "font": {
           "color": "#000000"
          },
          "showarrow": false,
          "text": "Paillaco",
          "x": 2.55,
          "xanchor": "left",
          "xref": "x",
          "y": 18,
          "yref": "y"
         },
         {
          "align": "left",
          "font": {
           "color": "#000000"
          },
          "showarrow": false,
          "text": "SANTA FILOMENA",
          "x": -0.45,
          "xanchor": "left",
          "xref": "x",
          "y": 19,
          "yref": "y"
         },
         {
          "align": "left",
          "font": {
           "color": "#000000"
          },
          "showarrow": false,
          "text": "403.0",
          "x": 0.55,
          "xanchor": "left",
          "xref": "x",
          "y": 19,
          "yref": "y"
         },
         {
          "align": "left",
          "font": {
           "color": "#000000"
          },
          "showarrow": false,
          "text": "green",
          "x": 1.55,
          "xanchor": "left",
          "xref": "x",
          "y": 19,
          "yref": "y"
         },
         {
          "align": "left",
          "font": {
           "color": "#000000"
          },
          "showarrow": false,
          "text": "Paillaco",
          "x": 2.55,
          "xanchor": "left",
          "xref": "x",
          "y": 19,
          "yref": "y"
         },
         {
          "align": "left",
          "font": {
           "color": "#000000"
          },
          "showarrow": false,
          "text": "MANAO",
          "x": -0.45,
          "xanchor": "left",
          "xref": "x",
          "y": 20,
          "yref": "y"
         },
         {
          "align": "left",
          "font": {
           "color": "#000000"
          },
          "showarrow": false,
          "text": "220.0",
          "x": 0.55,
          "xanchor": "left",
          "xref": "x",
          "y": 20,
          "yref": "y"
         },
         {
          "align": "left",
          "font": {
           "color": "#000000"
          },
          "showarrow": false,
          "text": "blue",
          "x": 1.55,
          "xanchor": "left",
          "xref": "x",
          "y": 20,
          "yref": "y"
         },
         {
          "align": "left",
          "font": {
           "color": "#000000"
          },
          "showarrow": false,
          "text": "Paillaco",
          "x": 2.55,
          "xanchor": "left",
          "xref": "x",
          "y": 20,
          "yref": "y"
         },
         {
          "align": "left",
          "font": {
           "color": "#000000"
          },
          "showarrow": false,
          "text": "SANTA ROSA CHICA",
          "x": -0.45,
          "xanchor": "left",
          "xref": "x",
          "y": 21,
          "yref": "y"
         },
         {
          "align": "left",
          "font": {
           "color": "#000000"
          },
          "showarrow": false,
          "text": "394.0",
          "x": 0.55,
          "xanchor": "left",
          "xref": "x",
          "y": 21,
          "yref": "y"
         },
         {
          "align": "left",
          "font": {
           "color": "#000000"
          },
          "showarrow": false,
          "text": "green",
          "x": 1.55,
          "xanchor": "left",
          "xref": "x",
          "y": 21,
          "yref": "y"
         },
         {
          "align": "left",
          "font": {
           "color": "#000000"
          },
          "showarrow": false,
          "text": "Paillaco",
          "x": 2.55,
          "xanchor": "left",
          "xref": "x",
          "y": 21,
          "yref": "y"
         },
         {
          "align": "left",
          "font": {
           "color": "#000000"
          },
          "showarrow": false,
          "text": "SANTA ROSA GRANDE",
          "x": -0.45,
          "xanchor": "left",
          "xref": "x",
          "y": 22,
          "yref": "y"
         },
         {
          "align": "left",
          "font": {
           "color": "#000000"
          },
          "showarrow": false,
          "text": "319.0",
          "x": 0.55,
          "xanchor": "left",
          "xref": "x",
          "y": 22,
          "yref": "y"
         },
         {
          "align": "left",
          "font": {
           "color": "#000000"
          },
          "showarrow": false,
          "text": "green",
          "x": 1.55,
          "xanchor": "left",
          "xref": "x",
          "y": 22,
          "yref": "y"
         },
         {
          "align": "left",
          "font": {
           "color": "#000000"
          },
          "showarrow": false,
          "text": "Paillaco",
          "x": 2.55,
          "xanchor": "left",
          "xref": "x",
          "y": 22,
          "yref": "y"
         },
         {
          "align": "left",
          "font": {
           "color": "#000000"
          },
          "showarrow": false,
          "text": "LUMACO PAILLACO",
          "x": -0.45,
          "xanchor": "left",
          "xref": "x",
          "y": 23,
          "yref": "y"
         },
         {
          "align": "left",
          "font": {
           "color": "#000000"
          },
          "showarrow": false,
          "text": "710.0",
          "x": 0.55,
          "xanchor": "left",
          "xref": "x",
          "y": 23,
          "yref": "y"
         },
         {
          "align": "left",
          "font": {
           "color": "#000000"
          },
          "showarrow": false,
          "text": "orange",
          "x": 1.55,
          "xanchor": "left",
          "xref": "x",
          "y": 23,
          "yref": "y"
         },
         {
          "align": "left",
          "font": {
           "color": "#000000"
          },
          "showarrow": false,
          "text": "Paillaco",
          "x": 2.55,
          "xanchor": "left",
          "xref": "x",
          "y": 23,
          "yref": "y"
         },
         {
          "align": "left",
          "font": {
           "color": "#000000"
          },
          "showarrow": false,
          "text": "EL MAITEN",
          "x": -0.45,
          "xanchor": "left",
          "xref": "x",
          "y": 24,
          "yref": "y"
         },
         {
          "align": "left",
          "font": {
           "color": "#000000"
          },
          "showarrow": false,
          "text": "155.0",
          "x": 0.55,
          "xanchor": "left",
          "xref": "x",
          "y": 24,
          "yref": "y"
         },
         {
          "align": "left",
          "font": {
           "color": "#000000"
          },
          "showarrow": false,
          "text": "blue",
          "x": 1.55,
          "xanchor": "left",
          "xref": "x",
          "y": 24,
          "yref": "y"
         },
         {
          "align": "left",
          "font": {
           "color": "#000000"
          },
          "showarrow": false,
          "text": "Paillaco",
          "x": 2.55,
          "xanchor": "left",
          "xref": "x",
          "y": 24,
          "yref": "y"
         },
         {
          "align": "left",
          "font": {
           "color": "#000000"
          },
          "showarrow": false,
          "text": "SANTA FILOMENA II",
          "x": -0.45,
          "xanchor": "left",
          "xref": "x",
          "y": 25,
          "yref": "y"
         },
         {
          "align": "left",
          "font": {
           "color": "#000000"
          },
          "showarrow": false,
          "text": "211.0",
          "x": 0.55,
          "xanchor": "left",
          "xref": "x",
          "y": 25,
          "yref": "y"
         },
         {
          "align": "left",
          "font": {
           "color": "#000000"
          },
          "showarrow": false,
          "text": "blue",
          "x": 1.55,
          "xanchor": "left",
          "xref": "x",
          "y": 25,
          "yref": "y"
         },
         {
          "align": "left",
          "font": {
           "color": "#000000"
          },
          "showarrow": false,
          "text": "Paillaco",
          "x": 2.55,
          "xanchor": "left",
          "xref": "x",
          "y": 25,
          "yref": "y"
         },
         {
          "align": "left",
          "font": {
           "color": "#000000"
          },
          "showarrow": false,
          "text": "ANTILHUE",
          "x": -0.45,
          "xanchor": "left",
          "xref": "x",
          "y": 26,
          "yref": "y"
         },
         {
          "align": "left",
          "font": {
           "color": "#000000"
          },
          "showarrow": false,
          "text": "1414.0",
          "x": 0.55,
          "xanchor": "left",
          "xref": "x",
          "y": 26,
          "yref": "y"
         },
         {
          "align": "left",
          "font": {
           "color": "#000000"
          },
          "showarrow": false,
          "text": "purple",
          "x": 1.55,
          "xanchor": "left",
          "xref": "x",
          "y": 26,
          "yref": "y"
         },
         {
          "align": "left",
          "font": {
           "color": "#000000"
          },
          "showarrow": false,
          "text": "Los Lagos",
          "x": 2.55,
          "xanchor": "left",
          "xref": "x",
          "y": 26,
          "yref": "y"
         },
         {
          "align": "left",
          "font": {
           "color": "#000000"
          },
          "showarrow": false,
          "text": "FOLILCO LOS LAGOS",
          "x": -0.45,
          "xanchor": "left",
          "xref": "x",
          "y": 27,
          "yref": "y"
         },
         {
          "align": "left",
          "font": {
           "color": "#000000"
          },
          "showarrow": false,
          "text": "474.0",
          "x": 0.55,
          "xanchor": "left",
          "xref": "x",
          "y": 27,
          "yref": "y"
         },
         {
          "align": "left",
          "font": {
           "color": "#000000"
          },
          "showarrow": false,
          "text": "orange",
          "x": 1.55,
          "xanchor": "left",
          "xref": "x",
          "y": 27,
          "yref": "y"
         },
         {
          "align": "left",
          "font": {
           "color": "#000000"
          },
          "showarrow": false,
          "text": "Los Lagos",
          "x": 2.55,
          "xanchor": "left",
          "xref": "x",
          "y": 27,
          "yref": "y"
         },
         {
          "align": "left",
          "font": {
           "color": "#000000"
          },
          "showarrow": false,
          "text": "QUILQUILCO",
          "x": -0.45,
          "xanchor": "left",
          "xref": "x",
          "y": 28,
          "yref": "y"
         },
         {
          "align": "left",
          "font": {
           "color": "#000000"
          },
          "showarrow": false,
          "text": "149.0",
          "x": 0.55,
          "xanchor": "left",
          "xref": "x",
          "y": 28,
          "yref": "y"
         },
         {
          "align": "left",
          "font": {
           "color": "#000000"
          },
          "showarrow": false,
          "text": "blue",
          "x": 1.55,
          "xanchor": "left",
          "xref": "x",
          "y": 28,
          "yref": "y"
         },
         {
          "align": "left",
          "font": {
           "color": "#000000"
          },
          "showarrow": false,
          "text": "Los Lagos",
          "x": 2.55,
          "xanchor": "left",
          "xref": "x",
          "y": 28,
          "yref": "y"
         },
         {
          "align": "left",
          "font": {
           "color": "#000000"
          },
          "showarrow": false,
          "text": "RIÑIHUE",
          "x": -0.45,
          "xanchor": "left",
          "xref": "x",
          "y": 29,
          "yref": "y"
         },
         {
          "align": "left",
          "font": {
           "color": "#000000"
          },
          "showarrow": false,
          "text": "208.0",
          "x": 0.55,
          "xanchor": "left",
          "xref": "x",
          "y": 29,
          "yref": "y"
         },
         {
          "align": "left",
          "font": {
           "color": "#000000"
          },
          "showarrow": false,
          "text": "blue",
          "x": 1.55,
          "xanchor": "left",
          "xref": "x",
          "y": 29,
          "yref": "y"
         },
         {
          "align": "left",
          "font": {
           "color": "#000000"
          },
          "showarrow": false,
          "text": "Los Lagos",
          "x": 2.55,
          "xanchor": "left",
          "xref": "x",
          "y": 29,
          "yref": "y"
         },
         {
          "align": "left",
          "font": {
           "color": "#000000"
          },
          "showarrow": false,
          "text": "USTARITZ",
          "x": -0.45,
          "xanchor": "left",
          "xref": "x",
          "y": 30,
          "yref": "y"
         },
         {
          "align": "left",
          "font": {
           "color": "#000000"
          },
          "showarrow": false,
          "text": "434.0",
          "x": 0.55,
          "xanchor": "left",
          "xref": "x",
          "y": 30,
          "yref": "y"
         },
         {
          "align": "left",
          "font": {
           "color": "#000000"
          },
          "showarrow": false,
          "text": "orange",
          "x": 1.55,
          "xanchor": "left",
          "xref": "x",
          "y": 30,
          "yref": "y"
         },
         {
          "align": "left",
          "font": {
           "color": "#000000"
          },
          "showarrow": false,
          "text": "Los Lagos",
          "x": 2.55,
          "xanchor": "left",
          "xref": "x",
          "y": 30,
          "yref": "y"
         },
         {
          "align": "left",
          "font": {
           "color": "#000000"
          },
          "showarrow": false,
          "text": "EL SALTO",
          "x": -0.45,
          "xanchor": "left",
          "xref": "x",
          "y": 31,
          "yref": "y"
         },
         {
          "align": "left",
          "font": {
           "color": "#000000"
          },
          "showarrow": false,
          "text": "592.0",
          "x": 0.55,
          "xanchor": "left",
          "xref": "x",
          "y": 31,
          "yref": "y"
         },
         {
          "align": "left",
          "font": {
           "color": "#000000"
          },
          "showarrow": false,
          "text": "orange",
          "x": 1.55,
          "xanchor": "left",
          "xref": "x",
          "y": 31,
          "yref": "y"
         },
         {
          "align": "left",
          "font": {
           "color": "#000000"
          },
          "showarrow": false,
          "text": "Los Lagos",
          "x": 2.55,
          "xanchor": "left",
          "xref": "x",
          "y": 31,
          "yref": "y"
         },
         {
          "align": "left",
          "font": {
           "color": "#000000"
          },
          "showarrow": false,
          "text": "PELLINADA LAS QUINIENTAS",
          "x": -0.45,
          "xanchor": "left",
          "xref": "x",
          "y": 32,
          "yref": "y"
         },
         {
          "align": "left",
          "font": {
           "color": "#000000"
          },
          "showarrow": false,
          "text": "434.0",
          "x": 0.55,
          "xanchor": "left",
          "xref": "x",
          "y": 32,
          "yref": "y"
         },
         {
          "align": "left",
          "font": {
           "color": "#000000"
          },
          "showarrow": false,
          "text": "orange",
          "x": 1.55,
          "xanchor": "left",
          "xref": "x",
          "y": 32,
          "yref": "y"
         },
         {
          "align": "left",
          "font": {
           "color": "#000000"
          },
          "showarrow": false,
          "text": "Los Lagos",
          "x": 2.55,
          "xanchor": "left",
          "xref": "x",
          "y": 32,
          "yref": "y"
         },
         {
          "align": "left",
          "font": {
           "color": "#000000"
          },
          "showarrow": false,
          "text": "PANCUL",
          "x": -0.45,
          "xanchor": "left",
          "xref": "x",
          "y": 33,
          "yref": "y"
         },
         {
          "align": "left",
          "font": {
           "color": "#000000"
          },
          "showarrow": false,
          "text": "729.0",
          "x": 0.55,
          "xanchor": "left",
          "xref": "x",
          "y": 33,
          "yref": "y"
         },
         {
          "align": "left",
          "font": {
           "color": "#000000"
          },
          "showarrow": false,
          "text": "orange",
          "x": 1.55,
          "xanchor": "left",
          "xref": "x",
          "y": 33,
          "yref": "y"
         },
         {
          "align": "left",
          "font": {
           "color": "#000000"
          },
          "showarrow": false,
          "text": "Los Lagos",
          "x": 2.55,
          "xanchor": "left",
          "xref": "x",
          "y": 33,
          "yref": "y"
         },
         {
          "align": "left",
          "font": {
           "color": "#000000"
          },
          "showarrow": false,
          "text": "LOS COLIGÜES",
          "x": -0.45,
          "xanchor": "left",
          "xref": "x",
          "y": 34,
          "yref": "y"
         },
         {
          "align": "left",
          "font": {
           "color": "#000000"
          },
          "showarrow": false,
          "text": "456.0",
          "x": 0.55,
          "xanchor": "left",
          "xref": "x",
          "y": 34,
          "yref": "y"
         },
         {
          "align": "left",
          "font": {
           "color": "#000000"
          },
          "showarrow": false,
          "text": "orange",
          "x": 1.55,
          "xanchor": "left",
          "xref": "x",
          "y": 34,
          "yref": "y"
         },
         {
          "align": "left",
          "font": {
           "color": "#000000"
          },
          "showarrow": false,
          "text": "Los Lagos",
          "x": 2.55,
          "xanchor": "left",
          "xref": "x",
          "y": 34,
          "yref": "y"
         },
         {
          "align": "left",
          "font": {
           "color": "#000000"
          },
          "showarrow": false,
          "text": "COLO COLO",
          "x": -0.45,
          "xanchor": "left",
          "xref": "x",
          "y": 35,
          "yref": "y"
         },
         {
          "align": "left",
          "font": {
           "color": "#000000"
          },
          "showarrow": false,
          "text": "298.0",
          "x": 0.55,
          "xanchor": "left",
          "xref": "x",
          "y": 35,
          "yref": "y"
         },
         {
          "align": "left",
          "font": {
           "color": "#000000"
          },
          "showarrow": false,
          "text": "green",
          "x": 1.55,
          "xanchor": "left",
          "xref": "x",
          "y": 35,
          "yref": "y"
         },
         {
          "align": "left",
          "font": {
           "color": "#000000"
          },
          "showarrow": false,
          "text": "Los Lagos",
          "x": 2.55,
          "xanchor": "left",
          "xref": "x",
          "y": 35,
          "yref": "y"
         },
         {
          "align": "left",
          "font": {
           "color": "#000000"
          },
          "showarrow": false,
          "text": "LAS HUELLLAS",
          "x": -0.45,
          "xanchor": "left",
          "xref": "x",
          "y": 36,
          "yref": "y"
         },
         {
          "align": "left",
          "font": {
           "color": "#000000"
          },
          "showarrow": false,
          "text": "276.0",
          "x": 0.55,
          "xanchor": "left",
          "xref": "x",
          "y": 36,
          "yref": "y"
         },
         {
          "align": "left",
          "font": {
           "color": "#000000"
          },
          "showarrow": false,
          "text": "blue",
          "x": 1.55,
          "xanchor": "left",
          "xref": "x",
          "y": 36,
          "yref": "y"
         },
         {
          "align": "left",
          "font": {
           "color": "#000000"
          },
          "showarrow": false,
          "text": "Los Lagos",
          "x": 2.55,
          "xanchor": "left",
          "xref": "x",
          "y": 36,
          "yref": "y"
         },
         {
          "align": "left",
          "font": {
           "color": "#000000"
          },
          "showarrow": false,
          "text": "San Pedro",
          "x": -0.45,
          "xanchor": "left",
          "xref": "x",
          "y": 37,
          "yref": "y"
         },
         {
          "align": "left",
          "font": {
           "color": "#000000"
          },
          "showarrow": false,
          "text": "375.0",
          "x": 0.55,
          "xanchor": "left",
          "xref": "x",
          "y": 37,
          "yref": "y"
         },
         {
          "align": "left",
          "font": {
           "color": "#000000"
          },
          "showarrow": false,
          "text": "green",
          "x": 1.55,
          "xanchor": "left",
          "xref": "x",
          "y": 37,
          "yref": "y"
         },
         {
          "align": "left",
          "font": {
           "color": "#000000"
          },
          "showarrow": false,
          "text": "Los Lagos",
          "x": 2.55,
          "xanchor": "left",
          "xref": "x",
          "y": 37,
          "yref": "y"
         },
         {
          "align": "left",
          "font": {
           "color": "#000000"
          },
          "showarrow": false,
          "text": "Lipingue",
          "x": -0.45,
          "xanchor": "left",
          "xref": "x",
          "y": 38,
          "yref": "y"
         },
         {
          "align": "left",
          "font": {
           "color": "#000000"
          },
          "showarrow": false,
          "text": "434.0",
          "x": 0.55,
          "xanchor": "left",
          "xref": "x",
          "y": 38,
          "yref": "y"
         },
         {
          "align": "left",
          "font": {
           "color": "#000000"
          },
          "showarrow": false,
          "text": "orange",
          "x": 1.55,
          "xanchor": "left",
          "xref": "x",
          "y": 38,
          "yref": "y"
         },
         {
          "align": "left",
          "font": {
           "color": "#000000"
          },
          "showarrow": false,
          "text": "Los Lagos",
          "x": 2.55,
          "xanchor": "left",
          "xref": "x",
          "y": 38,
          "yref": "y"
         },
         {
          "align": "left",
          "font": {
           "color": "#000000"
          },
          "showarrow": false,
          "text": "El Trebol",
          "x": -0.45,
          "xanchor": "left",
          "xref": "x",
          "y": 39,
          "yref": "y"
         },
         {
          "align": "left",
          "font": {
           "color": "#000000"
          },
          "showarrow": false,
          "text": "208.0",
          "x": 0.55,
          "xanchor": "left",
          "xref": "x",
          "y": 39,
          "yref": "y"
         },
         {
          "align": "left",
          "font": {
           "color": "#000000"
          },
          "showarrow": false,
          "text": "blue",
          "x": 1.55,
          "xanchor": "left",
          "xref": "x",
          "y": 39,
          "yref": "y"
         },
         {
          "align": "left",
          "font": {
           "color": "#000000"
          },
          "showarrow": false,
          "text": "Los Lagos",
          "x": 2.55,
          "xanchor": "left",
          "xref": "x",
          "y": 39,
          "yref": "y"
         },
         {
          "align": "left",
          "font": {
           "color": "#000000"
          },
          "showarrow": false,
          "text": "Collico Sur",
          "x": -0.45,
          "xanchor": "left",
          "xref": "x",
          "y": 40,
          "yref": "y"
         },
         {
          "align": "left",
          "font": {
           "color": "#000000"
          },
          "showarrow": false,
          "text": "236.0",
          "x": 0.55,
          "xanchor": "left",
          "xref": "x",
          "y": 40,
          "yref": "y"
         },
         {
          "align": "left",
          "font": {
           "color": "#000000"
          },
          "showarrow": false,
          "text": "blue",
          "x": 1.55,
          "xanchor": "left",
          "xref": "x",
          "y": 40,
          "yref": "y"
         },
         {
          "align": "left",
          "font": {
           "color": "#000000"
          },
          "showarrow": false,
          "text": "Los Lagos",
          "x": 2.55,
          "xanchor": "left",
          "xref": "x",
          "y": 40,
          "yref": "y"
         },
         {
          "align": "left",
          "font": {
           "color": "#000000"
          },
          "showarrow": false,
          "text": "Mi Tierra",
          "x": -0.45,
          "xanchor": "left",
          "xref": "x",
          "y": 41,
          "yref": "y"
         },
         {
          "align": "left",
          "font": {
           "color": "#000000"
          },
          "showarrow": false,
          "text": "71.0",
          "x": 0.55,
          "xanchor": "left",
          "xref": "x",
          "y": 41,
          "yref": "y"
         },
         {
          "align": "left",
          "font": {
           "color": "#000000"
          },
          "showarrow": false,
          "text": "blue",
          "x": 1.55,
          "xanchor": "left",
          "xref": "x",
          "y": 41,
          "yref": "y"
         },
         {
          "align": "left",
          "font": {
           "color": "#000000"
          },
          "showarrow": false,
          "text": "Los Lagos",
          "x": 2.55,
          "xanchor": "left",
          "xref": "x",
          "y": 41,
          "yref": "y"
         },
         {
          "align": "left",
          "font": {
           "color": "#000000"
          },
          "showarrow": false,
          "text": "Puñaco",
          "x": -0.45,
          "xanchor": "left",
          "xref": "x",
          "y": 42,
          "yref": "y"
         },
         {
          "align": "left",
          "font": {
           "color": "#000000"
          },
          "showarrow": false,
          "text": "81.0",
          "x": 0.55,
          "xanchor": "left",
          "xref": "x",
          "y": 42,
          "yref": "y"
         },
         {
          "align": "left",
          "font": {
           "color": "#000000"
          },
          "showarrow": false,
          "text": "blue",
          "x": 1.55,
          "xanchor": "left",
          "xref": "x",
          "y": 42,
          "yref": "y"
         },
         {
          "align": "left",
          "font": {
           "color": "#000000"
          },
          "showarrow": false,
          "text": "Los Lagos",
          "x": 2.55,
          "xanchor": "left",
          "xref": "x",
          "y": 42,
          "yref": "y"
         },
         {
          "align": "left",
          "font": {
           "color": "#000000"
          },
          "showarrow": false,
          "text": "Purey",
          "x": -0.45,
          "xanchor": "left",
          "xref": "x",
          "y": 43,
          "yref": "y"
         },
         {
          "align": "left",
          "font": {
           "color": "#000000"
          },
          "showarrow": false,
          "text": "78.0",
          "x": 0.55,
          "xanchor": "left",
          "xref": "x",
          "y": 43,
          "yref": "y"
         },
         {
          "align": "left",
          "font": {
           "color": "#000000"
          },
          "showarrow": false,
          "text": "blue",
          "x": 1.55,
          "xanchor": "left",
          "xref": "x",
          "y": 43,
          "yref": "y"
         },
         {
          "align": "left",
          "font": {
           "color": "#000000"
          },
          "showarrow": false,
          "text": "Los Lagos",
          "x": 2.55,
          "xanchor": "left",
          "xref": "x",
          "y": 43,
          "yref": "y"
         },
         {
          "align": "left",
          "font": {
           "color": "#000000"
          },
          "showarrow": false,
          "text": "AMARGO-SAN CARLOS",
          "x": -0.45,
          "xanchor": "left",
          "xref": "x",
          "y": 44,
          "yref": "y"
         },
         {
          "align": "left",
          "font": {
           "color": "#000000"
          },
          "showarrow": false,
          "text": "2412.0",
          "x": 0.55,
          "xanchor": "left",
          "xref": "x",
          "y": 44,
          "yref": "y"
         },
         {
          "align": "left",
          "font": {
           "color": "#000000"
          },
          "showarrow": false,
          "text": "purple",
          "x": 1.55,
          "xanchor": "left",
          "xref": "x",
          "y": 44,
          "yref": "y"
         },
         {
          "align": "left",
          "font": {
           "color": "#000000"
          },
          "showarrow": false,
          "text": "Corral",
          "x": 2.55,
          "xanchor": "left",
          "xref": "x",
          "y": 44,
          "yref": "y"
         },
         {
          "align": "left",
          "font": {
           "color": "#000000"
          },
          "showarrow": false,
          "text": "ISLA DEL REY",
          "x": -0.45,
          "xanchor": "left",
          "xref": "x",
          "y": 45,
          "yref": "y"
         },
         {
          "align": "left",
          "font": {
           "color": "#000000"
          },
          "showarrow": false,
          "text": "620.0",
          "x": 0.55,
          "xanchor": "left",
          "xref": "x",
          "y": 45,
          "yref": "y"
         },
         {
          "align": "left",
          "font": {
           "color": "#000000"
          },
          "showarrow": false,
          "text": "orange",
          "x": 1.55,
          "xanchor": "left",
          "xref": "x",
          "y": 45,
          "yref": "y"
         },
         {
          "align": "left",
          "font": {
           "color": "#000000"
          },
          "showarrow": false,
          "text": "Corral",
          "x": 2.55,
          "xanchor": "left",
          "xref": "x",
          "y": 45,
          "yref": "y"
         },
         {
          "align": "left",
          "font": {
           "color": "#000000"
          },
          "showarrow": false,
          "text": "ISLA MANCERA",
          "x": -0.45,
          "xanchor": "left",
          "xref": "x",
          "y": 46,
          "yref": "y"
         },
         {
          "align": "left",
          "font": {
           "color": "#000000"
          },
          "showarrow": false,
          "text": "267.0",
          "x": 0.55,
          "xanchor": "left",
          "xref": "x",
          "y": 46,
          "yref": "y"
         },
         {
          "align": "left",
          "font": {
           "color": "#000000"
          },
          "showarrow": false,
          "text": "blue",
          "x": 1.55,
          "xanchor": "left",
          "xref": "x",
          "y": 46,
          "yref": "y"
         },
         {
          "align": "left",
          "font": {
           "color": "#000000"
          },
          "showarrow": false,
          "text": "Corral",
          "x": 2.55,
          "xanchor": "left",
          "xref": "x",
          "y": 46,
          "yref": "y"
         },
         {
          "align": "left",
          "font": {
           "color": "#000000"
          },
          "showarrow": false,
          "text": "LA AGUADA",
          "x": -0.45,
          "xanchor": "left",
          "xref": "x",
          "y": 47,
          "yref": "y"
         },
         {
          "align": "left",
          "font": {
           "color": "#000000"
          },
          "showarrow": false,
          "text": "626.0",
          "x": 0.55,
          "xanchor": "left",
          "xref": "x",
          "y": 47,
          "yref": "y"
         },
         {
          "align": "left",
          "font": {
           "color": "#000000"
          },
          "showarrow": false,
          "text": "orange",
          "x": 1.55,
          "xanchor": "left",
          "xref": "x",
          "y": 47,
          "yref": "y"
         },
         {
          "align": "left",
          "font": {
           "color": "#000000"
          },
          "showarrow": false,
          "text": "Corral",
          "x": 2.55,
          "xanchor": "left",
          "xref": "x",
          "y": 47,
          "yref": "y"
         },
         {
          "align": "left",
          "font": {
           "color": "#000000"
          },
          "showarrow": false,
          "text": "CHAIHUIN",
          "x": -0.45,
          "xanchor": "left",
          "xref": "x",
          "y": 48,
          "yref": "y"
         },
         {
          "align": "left",
          "font": {
           "color": "#000000"
          },
          "showarrow": false,
          "text": "744.0",
          "x": 0.55,
          "xanchor": "left",
          "xref": "x",
          "y": 48,
          "yref": "y"
         },
         {
          "align": "left",
          "font": {
           "color": "#000000"
          },
          "showarrow": false,
          "text": "red",
          "x": 1.55,
          "xanchor": "left",
          "xref": "x",
          "y": 48,
          "yref": "y"
         },
         {
          "align": "left",
          "font": {
           "color": "#000000"
          },
          "showarrow": false,
          "text": "Corral",
          "x": 2.55,
          "xanchor": "left",
          "xref": "x",
          "y": 48,
          "yref": "y"
         },
         {
          "align": "left",
          "font": {
           "color": "#000000"
          },
          "showarrow": false,
          "text": "CERROS DE CORRAL",
          "x": -0.45,
          "xanchor": "left",
          "xref": "x",
          "y": 49,
          "yref": "y"
         },
         {
          "align": "left",
          "font": {
           "color": "#000000"
          },
          "showarrow": false,
          "text": "484.0",
          "x": 0.55,
          "xanchor": "left",
          "xref": "x",
          "y": 49,
          "yref": "y"
         },
         {
          "align": "left",
          "font": {
           "color": "#000000"
          },
          "showarrow": false,
          "text": "orange",
          "x": 1.55,
          "xanchor": "left",
          "xref": "x",
          "y": 49,
          "yref": "y"
         },
         {
          "align": "left",
          "font": {
           "color": "#000000"
          },
          "showarrow": false,
          "text": "Corral",
          "x": 2.55,
          "xanchor": "left",
          "xref": "x",
          "y": 49,
          "yref": "y"
         }
        ],
        "autosize": true,
        "margin": {
         "b": 0,
         "l": 0,
         "r": 0,
         "t": 0
        },
        "template": {
         "data": {
          "bar": [
           {
            "error_x": {
             "color": "#2a3f5f"
            },
            "error_y": {
             "color": "#2a3f5f"
            },
            "marker": {
             "line": {
              "color": "#E5ECF6",
              "width": 0.5
             },
             "pattern": {
              "fillmode": "overlay",
              "size": 10,
              "solidity": 0.2
             }
            },
            "type": "bar"
           }
          ],
          "barpolar": [
           {
            "marker": {
             "line": {
              "color": "#E5ECF6",
              "width": 0.5
             },
             "pattern": {
              "fillmode": "overlay",
              "size": 10,
              "solidity": 0.2
             }
            },
            "type": "barpolar"
           }
          ],
          "carpet": [
           {
            "aaxis": {
             "endlinecolor": "#2a3f5f",
             "gridcolor": "white",
             "linecolor": "white",
             "minorgridcolor": "white",
             "startlinecolor": "#2a3f5f"
            },
            "baxis": {
             "endlinecolor": "#2a3f5f",
             "gridcolor": "white",
             "linecolor": "white",
             "minorgridcolor": "white",
             "startlinecolor": "#2a3f5f"
            },
            "type": "carpet"
           }
          ],
          "choropleth": [
           {
            "colorbar": {
             "outlinewidth": 0,
             "ticks": ""
            },
            "type": "choropleth"
           }
          ],
          "contour": [
           {
            "colorbar": {
             "outlinewidth": 0,
             "ticks": ""
            },
            "colorscale": [
             [
              0,
              "#0d0887"
             ],
             [
              0.1111111111111111,
              "#46039f"
             ],
             [
              0.2222222222222222,
              "#7201a8"
             ],
             [
              0.3333333333333333,
              "#9c179e"
             ],
             [
              0.4444444444444444,
              "#bd3786"
             ],
             [
              0.5555555555555556,
              "#d8576b"
             ],
             [
              0.6666666666666666,
              "#ed7953"
             ],
             [
              0.7777777777777778,
              "#fb9f3a"
             ],
             [
              0.8888888888888888,
              "#fdca26"
             ],
             [
              1,
              "#f0f921"
             ]
            ],
            "type": "contour"
           }
          ],
          "contourcarpet": [
           {
            "colorbar": {
             "outlinewidth": 0,
             "ticks": ""
            },
            "type": "contourcarpet"
           }
          ],
          "heatmap": [
           {
            "colorbar": {
             "outlinewidth": 0,
             "ticks": ""
            },
            "colorscale": [
             [
              0,
              "#0d0887"
             ],
             [
              0.1111111111111111,
              "#46039f"
             ],
             [
              0.2222222222222222,
              "#7201a8"
             ],
             [
              0.3333333333333333,
              "#9c179e"
             ],
             [
              0.4444444444444444,
              "#bd3786"
             ],
             [
              0.5555555555555556,
              "#d8576b"
             ],
             [
              0.6666666666666666,
              "#ed7953"
             ],
             [
              0.7777777777777778,
              "#fb9f3a"
             ],
             [
              0.8888888888888888,
              "#fdca26"
             ],
             [
              1,
              "#f0f921"
             ]
            ],
            "type": "heatmap"
           }
          ],
          "heatmapgl": [
           {
            "colorbar": {
             "outlinewidth": 0,
             "ticks": ""
            },
            "colorscale": [
             [
              0,
              "#0d0887"
             ],
             [
              0.1111111111111111,
              "#46039f"
             ],
             [
              0.2222222222222222,
              "#7201a8"
             ],
             [
              0.3333333333333333,
              "#9c179e"
             ],
             [
              0.4444444444444444,
              "#bd3786"
             ],
             [
              0.5555555555555556,
              "#d8576b"
             ],
             [
              0.6666666666666666,
              "#ed7953"
             ],
             [
              0.7777777777777778,
              "#fb9f3a"
             ],
             [
              0.8888888888888888,
              "#fdca26"
             ],
             [
              1,
              "#f0f921"
             ]
            ],
            "type": "heatmapgl"
           }
          ],
          "histogram": [
           {
            "marker": {
             "pattern": {
              "fillmode": "overlay",
              "size": 10,
              "solidity": 0.2
             }
            },
            "type": "histogram"
           }
          ],
          "histogram2d": [
           {
            "colorbar": {
             "outlinewidth": 0,
             "ticks": ""
            },
            "colorscale": [
             [
              0,
              "#0d0887"
             ],
             [
              0.1111111111111111,
              "#46039f"
             ],
             [
              0.2222222222222222,
              "#7201a8"
             ],
             [
              0.3333333333333333,
              "#9c179e"
             ],
             [
              0.4444444444444444,
              "#bd3786"
             ],
             [
              0.5555555555555556,
              "#d8576b"
             ],
             [
              0.6666666666666666,
              "#ed7953"
             ],
             [
              0.7777777777777778,
              "#fb9f3a"
             ],
             [
              0.8888888888888888,
              "#fdca26"
             ],
             [
              1,
              "#f0f921"
             ]
            ],
            "type": "histogram2d"
           }
          ],
          "histogram2dcontour": [
           {
            "colorbar": {
             "outlinewidth": 0,
             "ticks": ""
            },
            "colorscale": [
             [
              0,
              "#0d0887"
             ],
             [
              0.1111111111111111,
              "#46039f"
             ],
             [
              0.2222222222222222,
              "#7201a8"
             ],
             [
              0.3333333333333333,
              "#9c179e"
             ],
             [
              0.4444444444444444,
              "#bd3786"
             ],
             [
              0.5555555555555556,
              "#d8576b"
             ],
             [
              0.6666666666666666,
              "#ed7953"
             ],
             [
              0.7777777777777778,
              "#fb9f3a"
             ],
             [
              0.8888888888888888,
              "#fdca26"
             ],
             [
              1,
              "#f0f921"
             ]
            ],
            "type": "histogram2dcontour"
           }
          ],
          "mesh3d": [
           {
            "colorbar": {
             "outlinewidth": 0,
             "ticks": ""
            },
            "type": "mesh3d"
           }
          ],
          "parcoords": [
           {
            "line": {
             "colorbar": {
              "outlinewidth": 0,
              "ticks": ""
             }
            },
            "type": "parcoords"
           }
          ],
          "pie": [
           {
            "automargin": true,
            "type": "pie"
           }
          ],
          "scatter": [
           {
            "fillpattern": {
             "fillmode": "overlay",
             "size": 10,
             "solidity": 0.2
            },
            "type": "scatter"
           }
          ],
          "scatter3d": [
           {
            "line": {
             "colorbar": {
              "outlinewidth": 0,
              "ticks": ""
             }
            },
            "marker": {
             "colorbar": {
              "outlinewidth": 0,
              "ticks": ""
             }
            },
            "type": "scatter3d"
           }
          ],
          "scattercarpet": [
           {
            "marker": {
             "colorbar": {
              "outlinewidth": 0,
              "ticks": ""
             }
            },
            "type": "scattercarpet"
           }
          ],
          "scattergeo": [
           {
            "marker": {
             "colorbar": {
              "outlinewidth": 0,
              "ticks": ""
             }
            },
            "type": "scattergeo"
           }
          ],
          "scattergl": [
           {
            "marker": {
             "colorbar": {
              "outlinewidth": 0,
              "ticks": ""
             }
            },
            "type": "scattergl"
           }
          ],
          "scattermapbox": [
           {
            "marker": {
             "colorbar": {
              "outlinewidth": 0,
              "ticks": ""
             }
            },
            "type": "scattermapbox"
           }
          ],
          "scatterpolar": [
           {
            "marker": {
             "colorbar": {
              "outlinewidth": 0,
              "ticks": ""
             }
            },
            "type": "scatterpolar"
           }
          ],
          "scatterpolargl": [
           {
            "marker": {
             "colorbar": {
              "outlinewidth": 0,
              "ticks": ""
             }
            },
            "type": "scatterpolargl"
           }
          ],
          "scatterternary": [
           {
            "marker": {
             "colorbar": {
              "outlinewidth": 0,
              "ticks": ""
             }
            },
            "type": "scatterternary"
           }
          ],
          "surface": [
           {
            "colorbar": {
             "outlinewidth": 0,
             "ticks": ""
            },
            "colorscale": [
             [
              0,
              "#0d0887"
             ],
             [
              0.1111111111111111,
              "#46039f"
             ],
             [
              0.2222222222222222,
              "#7201a8"
             ],
             [
              0.3333333333333333,
              "#9c179e"
             ],
             [
              0.4444444444444444,
              "#bd3786"
             ],
             [
              0.5555555555555556,
              "#d8576b"
             ],
             [
              0.6666666666666666,
              "#ed7953"
             ],
             [
              0.7777777777777778,
              "#fb9f3a"
             ],
             [
              0.8888888888888888,
              "#fdca26"
             ],
             [
              1,
              "#f0f921"
             ]
            ],
            "type": "surface"
           }
          ],
          "table": [
           {
            "cells": {
             "fill": {
              "color": "#EBF0F8"
             },
             "line": {
              "color": "white"
             }
            },
            "header": {
             "fill": {
              "color": "#C8D4E3"
             },
             "line": {
              "color": "white"
             }
            },
            "type": "table"
           }
          ]
         },
         "layout": {
          "annotationdefaults": {
           "arrowcolor": "#2a3f5f",
           "arrowhead": 0,
           "arrowwidth": 1
          },
          "autotypenumbers": "strict",
          "coloraxis": {
           "colorbar": {
            "outlinewidth": 0,
            "ticks": ""
           }
          },
          "colorscale": {
           "diverging": [
            [
             0,
             "#8e0152"
            ],
            [
             0.1,
             "#c51b7d"
            ],
            [
             0.2,
             "#de77ae"
            ],
            [
             0.3,
             "#f1b6da"
            ],
            [
             0.4,
             "#fde0ef"
            ],
            [
             0.5,
             "#f7f7f7"
            ],
            [
             0.6,
             "#e6f5d0"
            ],
            [
             0.7,
             "#b8e186"
            ],
            [
             0.8,
             "#7fbc41"
            ],
            [
             0.9,
             "#4d9221"
            ],
            [
             1,
             "#276419"
            ]
           ],
           "sequential": [
            [
             0,
             "#0d0887"
            ],
            [
             0.1111111111111111,
             "#46039f"
            ],
            [
             0.2222222222222222,
             "#7201a8"
            ],
            [
             0.3333333333333333,
             "#9c179e"
            ],
            [
             0.4444444444444444,
             "#bd3786"
            ],
            [
             0.5555555555555556,
             "#d8576b"
            ],
            [
             0.6666666666666666,
             "#ed7953"
            ],
            [
             0.7777777777777778,
             "#fb9f3a"
            ],
            [
             0.8888888888888888,
             "#fdca26"
            ],
            [
             1,
             "#f0f921"
            ]
           ],
           "sequentialminus": [
            [
             0,
             "#0d0887"
            ],
            [
             0.1111111111111111,
             "#46039f"
            ],
            [
             0.2222222222222222,
             "#7201a8"
            ],
            [
             0.3333333333333333,
             "#9c179e"
            ],
            [
             0.4444444444444444,
             "#bd3786"
            ],
            [
             0.5555555555555556,
             "#d8576b"
            ],
            [
             0.6666666666666666,
             "#ed7953"
            ],
            [
             0.7777777777777778,
             "#fb9f3a"
            ],
            [
             0.8888888888888888,
             "#fdca26"
            ],
            [
             1,
             "#f0f921"
            ]
           ]
          },
          "colorway": [
           "#636efa",
           "#EF553B",
           "#00cc96",
           "#ab63fa",
           "#FFA15A",
           "#19d3f3",
           "#FF6692",
           "#B6E880",
           "#FF97FF",
           "#FECB52"
          ],
          "font": {
           "color": "#2a3f5f"
          },
          "geo": {
           "bgcolor": "white",
           "lakecolor": "white",
           "landcolor": "#E5ECF6",
           "showlakes": true,
           "showland": true,
           "subunitcolor": "white"
          },
          "hoverlabel": {
           "align": "left"
          },
          "hovermode": "closest",
          "mapbox": {
           "style": "light"
          },
          "paper_bgcolor": "white",
          "plot_bgcolor": "#E5ECF6",
          "polar": {
           "angularaxis": {
            "gridcolor": "white",
            "linecolor": "white",
            "ticks": ""
           },
           "bgcolor": "#E5ECF6",
           "radialaxis": {
            "gridcolor": "white",
            "linecolor": "white",
            "ticks": ""
           }
          },
          "scene": {
           "xaxis": {
            "backgroundcolor": "#E5ECF6",
            "gridcolor": "white",
            "gridwidth": 2,
            "linecolor": "white",
            "showbackground": true,
            "ticks": "",
            "zerolinecolor": "white"
           },
           "yaxis": {
            "backgroundcolor": "#E5ECF6",
            "gridcolor": "white",
            "gridwidth": 2,
            "linecolor": "white",
            "showbackground": true,
            "ticks": "",
            "zerolinecolor": "white"
           },
           "zaxis": {
            "backgroundcolor": "#E5ECF6",
            "gridcolor": "white",
            "gridwidth": 2,
            "linecolor": "white",
            "showbackground": true,
            "ticks": "",
            "zerolinecolor": "white"
           }
          },
          "shapedefaults": {
           "line": {
            "color": "#2a3f5f"
           }
          },
          "ternary": {
           "aaxis": {
            "gridcolor": "white",
            "linecolor": "white",
            "ticks": ""
           },
           "baxis": {
            "gridcolor": "white",
            "linecolor": "white",
            "ticks": ""
           },
           "bgcolor": "#E5ECF6",
           "caxis": {
            "gridcolor": "white",
            "linecolor": "white",
            "ticks": ""
           }
          },
          "title": {
           "x": 0.05
          },
          "xaxis": {
           "automargin": true,
           "gridcolor": "white",
           "linecolor": "white",
           "ticks": "",
           "title": {
            "standoff": 15
           },
           "zerolinecolor": "white",
           "zerolinewidth": 2
          },
          "yaxis": {
           "automargin": true,
           "gridcolor": "white",
           "linecolor": "white",
           "ticks": "",
           "title": {
            "standoff": 15
           },
           "zerolinecolor": "white",
           "zerolinewidth": 2
          }
         }
        },
        "xaxis": {
         "autorange": true,
         "dtick": 1,
         "gridwidth": 2,
         "range": [
          -0.5,
          3.5
         ],
         "showticklabels": false,
         "tick0": -0.5,
         "ticks": "",
         "zeroline": false
        },
        "yaxis": {
         "autorange": true,
         "dtick": 1,
         "gridwidth": 2,
         "range": [
          49.5,
          -0.5
         ],
         "showticklabels": false,
         "tick0": 0.5,
         "ticks": "",
         "zeroline": false
        }
       }
      },
      "image/png": "[encoded data removed]",
      "text/html": [
       "<div>                            <div id=\"4e32a890-1aa6-4670-8f96-3cfb7ee3f93c\" class=\"plotly-graph-div\" style=\"height:1550px; width:100%;\"></div>            <script type=\"text/javascript\">                require([\"plotly\"], function(Plotly) {                    window.PLOTLYENV=window.PLOTLYENV || {};                                    if (document.getElementById(\"4e32a890-1aa6-4670-8f96-3cfb7ee3f93c\")) {                    Plotly.newPlot(                        \"4e32a890-1aa6-4670-8f96-3cfb7ee3f93c\",                        [{\"colorscale\":[[0,\"#00083e\"],[0.5,\"#ededee\"],[1,\"#ffffff\"]],\"hoverinfo\":\"none\",\"opacity\":0.75,\"showscale\":false,\"z\":[[0,0,0,0],[0.5,0.5,0.5,0.5],[1,1,1,1],[0.5,0.5,0.5,0.5],[1,1,1,1],[0.5,0.5,0.5,0.5],[1,1,1,1],[0.5,0.5,0.5,0.5],[1,1,1,1],[0.5,0.5,0.5,0.5],[1,1,1,1],[0.5,0.5,0.5,0.5],[1,1,1,1],[0.5,0.5,0.5,0.5],[1,1,1,1],[0.5,0.5,0.5,0.5],[1,1,1,1],[0.5,0.5,0.5,0.5],[1,1,1,1],[0.5,0.5,0.5,0.5],[1,1,1,1],[0.5,0.5,0.5,0.5],[1,1,1,1],[0.5,0.5,0.5,0.5],[1,1,1,1],[0.5,0.5,0.5,0.5],[1,1,1,1],[0.5,0.5,0.5,0.5],[1,1,1,1],[0.5,0.5,0.5,0.5],[1,1,1,1],[0.5,0.5,0.5,0.5],[1,1,1,1],[0.5,0.5,0.5,0.5],[1,1,1,1],[0.5,0.5,0.5,0.5],[1,1,1,1],[0.5,0.5,0.5,0.5],[1,1,1,1],[0.5,0.5,0.5,0.5],[1,1,1,1],[0.5,0.5,0.5,0.5],[1,1,1,1],[0.5,0.5,0.5,0.5],[1,1,1,1],[0.5,0.5,0.5,0.5],[1,1,1,1],[0.5,0.5,0.5,0.5],[1,1,1,1],[0.5,0.5,0.5,0.5]],\"type\":\"heatmap\"}],                        {\"annotations\":[{\"align\":\"left\",\"font\":{\"color\":\"#ffffff\"},\"showarrow\":false,\"text\":\"<b>Nombre Ubicaci\\u00f3n</b>\",\"x\":-0.45,\"xanchor\":\"left\",\"xref\":\"x\",\"y\":0,\"yref\":\"y\"},{\"align\":\"left\",\"font\":{\"color\":\"#ffffff\"},\"showarrow\":false,\"text\":\"<b>Beneficiarios</b>\",\"x\":0.55,\"xanchor\":\"left\",\"xref\":\"x\",\"y\":0,\"yref\":\"y\"},{\"align\":\"left\",\"font\":{\"color\":\"#ffffff\"},\"showarrow\":false,\"text\":\"<b>Color</b>\",\"x\":1.55,\"xanchor\":\"left\",\"xref\":\"x\",\"y\":0,\"yref\":\"y\"},{\"align\":\"left\",\"font\":{\"color\":\"#ffffff\"},\"showarrow\":false,\"text\":\"<b>Comunas</b>\",\"x\":2.55,\"xanchor\":\"left\",\"xref\":\"x\",\"y\":0,\"yref\":\"y\"},{\"align\":\"left\",\"font\":{\"color\":\"#000000\"},\"showarrow\":false,\"text\":\"PISHUINCO\",\"x\":-0.45,\"xanchor\":\"left\",\"xref\":\"x\",\"y\":1,\"yref\":\"y\"},{\"align\":\"left\",\"font\":{\"color\":\"#000000\"},\"showarrow\":false,\"text\":\"322.0\",\"x\":0.55,\"xanchor\":\"left\",\"xref\":\"x\",\"y\":1,\"yref\":\"y\"},{\"align\":\"left\",\"font\":{\"color\":\"#000000\"},\"showarrow\":false,\"text\":\"green\",\"x\":1.55,\"xanchor\":\"left\",\"xref\":\"x\",\"y\":1,\"yref\":\"y\"},{\"align\":\"left\",\"font\":{\"color\":\"#000000\"},\"showarrow\":false,\"text\":\"Valdivia\",\"x\":2.55,\"xanchor\":\"left\",\"xref\":\"x\",\"y\":1,\"yref\":\"y\"},{\"align\":\"left\",\"font\":{\"color\":\"#000000\"},\"showarrow\":false,\"text\":\"CURI\\u00d1ANCO\",\"x\":-0.45,\"xanchor\":\"left\",\"xref\":\"x\",\"y\":2,\"yref\":\"y\"},{\"align\":\"left\",\"font\":{\"color\":\"#000000\"},\"showarrow\":false,\"text\":\"2294.0\",\"x\":0.55,\"xanchor\":\"left\",\"xref\":\"x\",\"y\":2,\"yref\":\"y\"},{\"align\":\"left\",\"font\":{\"color\":\"#000000\"},\"showarrow\":false,\"text\":\"purple\",\"x\":1.55,\"xanchor\":\"left\",\"xref\":\"x\",\"y\":2,\"yref\":\"y\"},{\"align\":\"left\",\"font\":{\"color\":\"#000000\"},\"showarrow\":false,\"text\":\"Valdivia\",\"x\":2.55,\"xanchor\":\"left\",\"xref\":\"x\",\"y\":2,\"yref\":\"y\"},{\"align\":\"left\",\"font\":{\"color\":\"#000000\"},\"showarrow\":false,\"text\":\"HUELLELHUE\",\"x\":-0.45,\"xanchor\":\"left\",\"xref\":\"x\",\"y\":3,\"yref\":\"y\"},{\"align\":\"left\",\"font\":{\"color\":\"#000000\"},\"showarrow\":false,\"text\":\"310.0\",\"x\":0.55,\"xanchor\":\"left\",\"xref\":\"x\",\"y\":3,\"yref\":\"y\"},{\"align\":\"left\",\"font\":{\"color\":\"#000000\"},\"showarrow\":false,\"text\":\"green\",\"x\":1.55,\"xanchor\":\"left\",\"xref\":\"x\",\"y\":3,\"yref\":\"y\"},{\"align\":\"left\",\"font\":{\"color\":\"#000000\"},\"showarrow\":false,\"text\":\"Valdivia\",\"x\":2.55,\"xanchor\":\"left\",\"xref\":\"x\",\"y\":3,\"yref\":\"y\"},{\"align\":\"left\",\"font\":{\"color\":\"#000000\"},\"showarrow\":false,\"text\":\"LAS GAVIOTAS\",\"x\":-0.45,\"xanchor\":\"left\",\"xref\":\"x\",\"y\":4,\"yref\":\"y\"},{\"align\":\"left\",\"font\":{\"color\":\"#000000\"},\"showarrow\":false,\"text\":\"1048.0\",\"x\":0.55,\"xanchor\":\"left\",\"xref\":\"x\",\"y\":4,\"yref\":\"y\"},{\"align\":\"left\",\"font\":{\"color\":\"#000000\"},\"showarrow\":false,\"text\":\"red\",\"x\":1.55,\"xanchor\":\"left\",\"xref\":\"x\",\"y\":4,\"yref\":\"y\"},{\"align\":\"left\",\"font\":{\"color\":\"#000000\"},\"showarrow\":false,\"text\":\"Valdivia\",\"x\":2.55,\"xanchor\":\"left\",\"xref\":\"x\",\"y\":4,\"yref\":\"y\"},{\"align\":\"left\",\"font\":{\"color\":\"#000000\"},\"showarrow\":false,\"text\":\"NIEBLA-LOS MOLINOS\",\"x\":-0.45,\"xanchor\":\"left\",\"xref\":\"x\",\"y\":5,\"yref\":\"y\"},{\"align\":\"left\",\"font\":{\"color\":\"#000000\"},\"showarrow\":false,\"text\":\"4021.0\",\"x\":0.55,\"xanchor\":\"left\",\"xref\":\"x\",\"y\":5,\"yref\":\"y\"},{\"align\":\"left\",\"font\":{\"color\":\"#000000\"},\"showarrow\":false,\"text\":\"purple\",\"x\":1.55,\"xanchor\":\"left\",\"xref\":\"x\",\"y\":5,\"yref\":\"y\"},{\"align\":\"left\",\"font\":{\"color\":\"#000000\"},\"showarrow\":false,\"text\":\"Valdivia\",\"x\":2.55,\"xanchor\":\"left\",\"xref\":\"x\",\"y\":5,\"yref\":\"y\"},{\"align\":\"left\",\"font\":{\"color\":\"#000000\"},\"showarrow\":false,\"text\":\"PUNUCAPA\",\"x\":-0.45,\"xanchor\":\"left\",\"xref\":\"x\",\"y\":6,\"yref\":\"y\"},{\"align\":\"left\",\"font\":{\"color\":\"#000000\"},\"showarrow\":false,\"text\":\"459.0\",\"x\":0.55,\"xanchor\":\"left\",\"xref\":\"x\",\"y\":6,\"yref\":\"y\"},{\"align\":\"left\",\"font\":{\"color\":\"#000000\"},\"showarrow\":false,\"text\":\"orange\",\"x\":1.55,\"xanchor\":\"left\",\"xref\":\"x\",\"y\":6,\"yref\":\"y\"},{\"align\":\"left\",\"font\":{\"color\":\"#000000\"},\"showarrow\":false,\"text\":\"Valdivia\",\"x\":2.55,\"xanchor\":\"left\",\"xref\":\"x\",\"y\":6,\"yref\":\"y\"},{\"align\":\"left\",\"font\":{\"color\":\"#000000\"},\"showarrow\":false,\"text\":\"SAN IGNACIO-PLAYA ROSADA\",\"x\":-0.45,\"xanchor\":\"left\",\"xref\":\"x\",\"y\":7,\"yref\":\"y\"},{\"align\":\"left\",\"font\":{\"color\":\"#000000\"},\"showarrow\":false,\"text\":\"936.0\",\"x\":0.55,\"xanchor\":\"left\",\"xref\":\"x\",\"y\":7,\"yref\":\"y\"},{\"align\":\"left\",\"font\":{\"color\":\"#000000\"},\"showarrow\":false,\"text\":\"red\",\"x\":1.55,\"xanchor\":\"left\",\"xref\":\"x\",\"y\":7,\"yref\":\"y\"},{\"align\":\"left\",\"font\":{\"color\":\"#000000\"},\"showarrow\":false,\"text\":\"Valdivia\",\"x\":2.55,\"xanchor\":\"left\",\"xref\":\"x\",\"y\":7,\"yref\":\"y\"},{\"align\":\"left\",\"font\":{\"color\":\"#000000\"},\"showarrow\":false,\"text\":\"TRES ESPINOS\",\"x\":-0.45,\"xanchor\":\"left\",\"xref\":\"x\",\"y\":8,\"yref\":\"y\"},{\"align\":\"left\",\"font\":{\"color\":\"#000000\"},\"showarrow\":false,\"text\":\"1091.0\",\"x\":0.55,\"xanchor\":\"left\",\"xref\":\"x\",\"y\":8,\"yref\":\"y\"},{\"align\":\"left\",\"font\":{\"color\":\"#000000\"},\"showarrow\":false,\"text\":\"red\",\"x\":1.55,\"xanchor\":\"left\",\"xref\":\"x\",\"y\":8,\"yref\":\"y\"},{\"align\":\"left\",\"font\":{\"color\":\"#000000\"},\"showarrow\":false,\"text\":\"Valdivia\",\"x\":2.55,\"xanchor\":\"left\",\"xref\":\"x\",\"y\":8,\"yref\":\"y\"},{\"align\":\"left\",\"font\":{\"color\":\"#000000\"},\"showarrow\":false,\"text\":\"VILLA CAYUMAPU\",\"x\":-0.45,\"xanchor\":\"left\",\"xref\":\"x\",\"y\":9,\"yref\":\"y\"},{\"align\":\"left\",\"font\":{\"color\":\"#000000\"},\"showarrow\":false,\"text\":\"1327.0\",\"x\":0.55,\"xanchor\":\"left\",\"xref\":\"x\",\"y\":9,\"yref\":\"y\"},{\"align\":\"left\",\"font\":{\"color\":\"#000000\"},\"showarrow\":false,\"text\":\"purple\",\"x\":1.55,\"xanchor\":\"left\",\"xref\":\"x\",\"y\":9,\"yref\":\"y\"},{\"align\":\"left\",\"font\":{\"color\":\"#000000\"},\"showarrow\":false,\"text\":\"Valdivia\",\"x\":2.55,\"xanchor\":\"left\",\"xref\":\"x\",\"y\":9,\"yref\":\"y\"},{\"align\":\"left\",\"font\":{\"color\":\"#000000\"},\"showarrow\":false,\"text\":\"EL ARENAL SANTA ELVIRA\",\"x\":-0.45,\"xanchor\":\"left\",\"xref\":\"x\",\"y\":10,\"yref\":\"y\"},{\"align\":\"left\",\"font\":{\"color\":\"#000000\"},\"showarrow\":false,\"text\":\"549.0\",\"x\":0.55,\"xanchor\":\"left\",\"xref\":\"x\",\"y\":10,\"yref\":\"y\"},{\"align\":\"left\",\"font\":{\"color\":\"#000000\"},\"showarrow\":false,\"text\":\"orange\",\"x\":1.55,\"xanchor\":\"left\",\"xref\":\"x\",\"y\":10,\"yref\":\"y\"},{\"align\":\"left\",\"font\":{\"color\":\"#000000\"},\"showarrow\":false,\"text\":\"Valdivia\",\"x\":2.55,\"xanchor\":\"left\",\"xref\":\"x\",\"y\":10,\"yref\":\"y\"},{\"align\":\"left\",\"font\":{\"color\":\"#000000\"},\"showarrow\":false,\"text\":\"PAILLAO\",\"x\":-0.45,\"xanchor\":\"left\",\"xref\":\"x\",\"y\":11,\"yref\":\"y\"},{\"align\":\"left\",\"font\":{\"color\":\"#000000\"},\"showarrow\":false,\"text\":\"871.0\",\"x\":0.55,\"xanchor\":\"left\",\"xref\":\"x\",\"y\":11,\"yref\":\"y\"},{\"align\":\"left\",\"font\":{\"color\":\"#000000\"},\"showarrow\":false,\"text\":\"red\",\"x\":1.55,\"xanchor\":\"left\",\"xref\":\"x\",\"y\":11,\"yref\":\"y\"},{\"align\":\"left\",\"font\":{\"color\":\"#000000\"},\"showarrow\":false,\"text\":\"Valdivia\",\"x\":2.55,\"xanchor\":\"left\",\"xref\":\"x\",\"y\":11,\"yref\":\"y\"},{\"align\":\"left\",\"font\":{\"color\":\"#000000\"},\"showarrow\":false,\"text\":\"CABO BLANCO\",\"x\":-0.45,\"xanchor\":\"left\",\"xref\":\"x\",\"y\":12,\"yref\":\"y\"},{\"align\":\"left\",\"font\":{\"color\":\"#000000\"},\"showarrow\":false,\"text\":\"543.0\",\"x\":0.55,\"xanchor\":\"left\",\"xref\":\"x\",\"y\":12,\"yref\":\"y\"},{\"align\":\"left\",\"font\":{\"color\":\"#000000\"},\"showarrow\":false,\"text\":\"orange\",\"x\":1.55,\"xanchor\":\"left\",\"xref\":\"x\",\"y\":12,\"yref\":\"y\"},{\"align\":\"left\",\"font\":{\"color\":\"#000000\"},\"showarrow\":false,\"text\":\"Valdivia\",\"x\":2.55,\"xanchor\":\"left\",\"xref\":\"x\",\"y\":12,\"yref\":\"y\"},{\"align\":\"left\",\"font\":{\"color\":\"#000000\"},\"showarrow\":false,\"text\":\"EL ARENAL KM 2\",\"x\":-0.45,\"xanchor\":\"left\",\"xref\":\"x\",\"y\":13,\"yref\":\"y\"},{\"align\":\"left\",\"font\":{\"color\":\"#000000\"},\"showarrow\":false,\"text\":\"623.0\",\"x\":0.55,\"xanchor\":\"left\",\"xref\":\"x\",\"y\":13,\"yref\":\"y\"},{\"align\":\"left\",\"font\":{\"color\":\"#000000\"},\"showarrow\":false,\"text\":\"orange\",\"x\":1.55,\"xanchor\":\"left\",\"xref\":\"x\",\"y\":13,\"yref\":\"y\"},{\"align\":\"left\",\"font\":{\"color\":\"#000000\"},\"showarrow\":false,\"text\":\"Valdivia\",\"x\":2.55,\"xanchor\":\"left\",\"xref\":\"x\",\"y\":13,\"yref\":\"y\"},{\"align\":\"left\",\"font\":{\"color\":\"#000000\"},\"showarrow\":false,\"text\":\"Chabelita\",\"x\":-0.45,\"xanchor\":\"left\",\"xref\":\"x\",\"y\":14,\"yref\":\"y\"},{\"align\":\"left\",\"font\":{\"color\":\"#000000\"},\"showarrow\":false,\"text\":\"434.0\",\"x\":0.55,\"xanchor\":\"left\",\"xref\":\"x\",\"y\":14,\"yref\":\"y\"},{\"align\":\"left\",\"font\":{\"color\":\"#000000\"},\"showarrow\":false,\"text\":\"orange\",\"x\":1.55,\"xanchor\":\"left\",\"xref\":\"x\",\"y\":14,\"yref\":\"y\"},{\"align\":\"left\",\"font\":{\"color\":\"#000000\"},\"showarrow\":false,\"text\":\"Valdivia\",\"x\":2.55,\"xanchor\":\"left\",\"xref\":\"x\",\"y\":14,\"yref\":\"y\"},{\"align\":\"left\",\"font\":{\"color\":\"#000000\"},\"showarrow\":false,\"text\":\"ARCO IRIS\",\"x\":-0.45,\"xanchor\":\"left\",\"xref\":\"x\",\"y\":15,\"yref\":\"y\"},{\"align\":\"left\",\"font\":{\"color\":\"#000000\"},\"showarrow\":false,\"text\":\"394.0\",\"x\":0.55,\"xanchor\":\"left\",\"xref\":\"x\",\"y\":15,\"yref\":\"y\"},{\"align\":\"left\",\"font\":{\"color\":\"#000000\"},\"showarrow\":false,\"text\":\"green\",\"x\":1.55,\"xanchor\":\"left\",\"xref\":\"x\",\"y\":15,\"yref\":\"y\"},{\"align\":\"left\",\"font\":{\"color\":\"#000000\"},\"showarrow\":false,\"text\":\"Paillaco\",\"x\":2.55,\"xanchor\":\"left\",\"xref\":\"x\",\"y\":15,\"yref\":\"y\"},{\"align\":\"left\",\"font\":{\"color\":\"#000000\"},\"showarrow\":false,\"text\":\"EL LLOLLY\",\"x\":-0.45,\"xanchor\":\"left\",\"xref\":\"x\",\"y\":16,\"yref\":\"y\"},{\"align\":\"left\",\"font\":{\"color\":\"#000000\"},\"showarrow\":false,\"text\":\"428.0\",\"x\":0.55,\"xanchor\":\"left\",\"xref\":\"x\",\"y\":16,\"yref\":\"y\"},{\"align\":\"left\",\"font\":{\"color\":\"#000000\"},\"showarrow\":false,\"text\":\"green\",\"x\":1.55,\"xanchor\":\"left\",\"xref\":\"x\",\"y\":16,\"yref\":\"y\"},{\"align\":\"left\",\"font\":{\"color\":\"#000000\"},\"showarrow\":false,\"text\":\"Paillaco\",\"x\":2.55,\"xanchor\":\"left\",\"xref\":\"x\",\"y\":16,\"yref\":\"y\"},{\"align\":\"left\",\"font\":{\"color\":\"#000000\"},\"showarrow\":false,\"text\":\"PICHIRROPULLI\",\"x\":-0.45,\"xanchor\":\"left\",\"xref\":\"x\",\"y\":17,\"yref\":\"y\"},{\"align\":\"left\",\"font\":{\"color\":\"#000000\"},\"showarrow\":false,\"text\":\"1079.0\",\"x\":0.55,\"xanchor\":\"left\",\"xref\":\"x\",\"y\":17,\"yref\":\"y\"},{\"align\":\"left\",\"font\":{\"color\":\"#000000\"},\"showarrow\":false,\"text\":\"red\",\"x\":1.55,\"xanchor\":\"left\",\"xref\":\"x\",\"y\":17,\"yref\":\"y\"},{\"align\":\"left\",\"font\":{\"color\":\"#000000\"},\"showarrow\":false,\"text\":\"Paillaco\",\"x\":2.55,\"xanchor\":\"left\",\"xref\":\"x\",\"y\":17,\"yref\":\"y\"},{\"align\":\"left\",\"font\":{\"color\":\"#000000\"},\"showarrow\":false,\"text\":\"REUMEN\",\"x\":-0.45,\"xanchor\":\"left\",\"xref\":\"x\",\"y\":18,\"yref\":\"y\"},{\"align\":\"left\",\"font\":{\"color\":\"#000000\"},\"showarrow\":false,\"text\":\"1442.0\",\"x\":0.55,\"xanchor\":\"left\",\"xref\":\"x\",\"y\":18,\"yref\":\"y\"},{\"align\":\"left\",\"font\":{\"color\":\"#000000\"},\"showarrow\":false,\"text\":\"purple\",\"x\":1.55,\"xanchor\":\"left\",\"xref\":\"x\",\"y\":18,\"yref\":\"y\"},{\"align\":\"left\",\"font\":{\"color\":\"#000000\"},\"showarrow\":false,\"text\":\"Paillaco\",\"x\":2.55,\"xanchor\":\"left\",\"xref\":\"x\",\"y\":18,\"yref\":\"y\"},{\"align\":\"left\",\"font\":{\"color\":\"#000000\"},\"showarrow\":false,\"text\":\"SANTA FILOMENA\",\"x\":-0.45,\"xanchor\":\"left\",\"xref\":\"x\",\"y\":19,\"yref\":\"y\"},{\"align\":\"left\",\"font\":{\"color\":\"#000000\"},\"showarrow\":false,\"text\":\"403.0\",\"x\":0.55,\"xanchor\":\"left\",\"xref\":\"x\",\"y\":19,\"yref\":\"y\"},{\"align\":\"left\",\"font\":{\"color\":\"#000000\"},\"showarrow\":false,\"text\":\"green\",\"x\":1.55,\"xanchor\":\"left\",\"xref\":\"x\",\"y\":19,\"yref\":\"y\"},{\"align\":\"left\",\"font\":{\"color\":\"#000000\"},\"showarrow\":false,\"text\":\"Paillaco\",\"x\":2.55,\"xanchor\":\"left\",\"xref\":\"x\",\"y\":19,\"yref\":\"y\"},{\"align\":\"left\",\"font\":{\"color\":\"#000000\"},\"showarrow\":false,\"text\":\"MANAO\",\"x\":-0.45,\"xanchor\":\"left\",\"xref\":\"x\",\"y\":20,\"yref\":\"y\"},{\"align\":\"left\",\"font\":{\"color\":\"#000000\"},\"showarrow\":false,\"text\":\"220.0\",\"x\":0.55,\"xanchor\":\"left\",\"xref\":\"x\",\"y\":20,\"yref\":\"y\"},{\"align\":\"left\",\"font\":{\"color\":\"#000000\"},\"showarrow\":false,\"text\":\"blue\",\"x\":1.55,\"xanchor\":\"left\",\"xref\":\"x\",\"y\":20,\"yref\":\"y\"},{\"align\":\"left\",\"font\":{\"color\":\"#000000\"},\"showarrow\":false,\"text\":\"Paillaco\",\"x\":2.55,\"xanchor\":\"left\",\"xref\":\"x\",\"y\":20,\"yref\":\"y\"},{\"align\":\"left\",\"font\":{\"color\":\"#000000\"},\"showarrow\":false,\"text\":\"SANTA ROSA CHICA\",\"x\":-0.45,\"xanchor\":\"left\",\"xref\":\"x\",\"y\":21,\"yref\":\"y\"},{\"align\":\"left\",\"font\":{\"color\":\"#000000\"},\"showarrow\":false,\"text\":\"394.0\",\"x\":0.55,\"xanchor\":\"left\",\"xref\":\"x\",\"y\":21,\"yref\":\"y\"},{\"align\":\"left\",\"font\":{\"color\":\"#000000\"},\"showarrow\":false,\"text\":\"green\",\"x\":1.55,\"xanchor\":\"left\",\"xref\":\"x\",\"y\":21,\"yref\":\"y\"},{\"align\":\"left\",\"font\":{\"color\":\"#000000\"},\"showarrow\":false,\"text\":\"Paillaco\",\"x\":2.55,\"xanchor\":\"left\",\"xref\":\"x\",\"y\":21,\"yref\":\"y\"},{\"align\":\"left\",\"font\":{\"color\":\"#000000\"},\"showarrow\":false,\"text\":\"SANTA ROSA GRANDE\",\"x\":-0.45,\"xanchor\":\"left\",\"xref\":\"x\",\"y\":22,\"yref\":\"y\"},{\"align\":\"left\",\"font\":{\"color\":\"#000000\"},\"showarrow\":false,\"text\":\"319.0\",\"x\":0.55,\"xanchor\":\"left\",\"xref\":\"x\",\"y\":22,\"yref\":\"y\"},{\"align\":\"left\",\"font\":{\"color\":\"#000000\"},\"showarrow\":false,\"text\":\"green\",\"x\":1.55,\"xanchor\":\"left\",\"xref\":\"x\",\"y\":22,\"yref\":\"y\"},{\"align\":\"left\",\"font\":{\"color\":\"#000000\"},\"showarrow\":false,\"text\":\"Paillaco\",\"x\":2.55,\"xanchor\":\"left\",\"xref\":\"x\",\"y\":22,\"yref\":\"y\"},{\"align\":\"left\",\"font\":{\"color\":\"#000000\"},\"showarrow\":false,\"text\":\"LUMACO PAILLACO\",\"x\":-0.45,\"xanchor\":\"left\",\"xref\":\"x\",\"y\":23,\"yref\":\"y\"},{\"align\":\"left\",\"font\":{\"color\":\"#000000\"},\"showarrow\":false,\"text\":\"710.0\",\"x\":0.55,\"xanchor\":\"left\",\"xref\":\"x\",\"y\":23,\"yref\":\"y\"},{\"align\":\"left\",\"font\":{\"color\":\"#000000\"},\"showarrow\":false,\"text\":\"orange\",\"x\":1.55,\"xanchor\":\"left\",\"xref\":\"x\",\"y\":23,\"yref\":\"y\"},{\"align\":\"left\",\"font\":{\"color\":\"#000000\"},\"showarrow\":false,\"text\":\"Paillaco\",\"x\":2.55,\"xanchor\":\"left\",\"xref\":\"x\",\"y\":23,\"yref\":\"y\"},{\"align\":\"left\",\"font\":{\"color\":\"#000000\"},\"showarrow\":false,\"text\":\"EL MAITEN\",\"x\":-0.45,\"xanchor\":\"left\",\"xref\":\"x\",\"y\":24,\"yref\":\"y\"},{\"align\":\"left\",\"font\":{\"color\":\"#000000\"},\"showarrow\":false,\"text\":\"155.0\",\"x\":0.55,\"xanchor\":\"left\",\"xref\":\"x\",\"y\":24,\"yref\":\"y\"},{\"align\":\"left\",\"font\":{\"color\":\"#000000\"},\"showarrow\":false,\"text\":\"blue\",\"x\":1.55,\"xanchor\":\"left\",\"xref\":\"x\",\"y\":24,\"yref\":\"y\"},{\"align\":\"left\",\"font\":{\"color\":\"#000000\"},\"showarrow\":false,\"text\":\"Paillaco\",\"x\":2.55,\"xanchor\":\"left\",\"xref\":\"x\",\"y\":24,\"yref\":\"y\"},{\"align\":\"left\",\"font\":{\"color\":\"#000000\"},\"showarrow\":false,\"text\":\"SANTA FILOMENA II\",\"x\":-0.45,\"xanchor\":\"left\",\"xref\":\"x\",\"y\":25,\"yref\":\"y\"},{\"align\":\"left\",\"font\":{\"color\":\"#000000\"},\"showarrow\":false,\"text\":\"211.0\",\"x\":0.55,\"xanchor\":\"left\",\"xref\":\"x\",\"y\":25,\"yref\":\"y\"},{\"align\":\"left\",\"font\":{\"color\":\"#000000\"},\"showarrow\":false,\"text\":\"blue\",\"x\":1.55,\"xanchor\":\"left\",\"xref\":\"x\",\"y\":25,\"yref\":\"y\"},{\"align\":\"left\",\"font\":{\"color\":\"#000000\"},\"showarrow\":false,\"text\":\"Paillaco\",\"x\":2.55,\"xanchor\":\"left\",\"xref\":\"x\",\"y\":25,\"yref\":\"y\"},{\"align\":\"left\",\"font\":{\"color\":\"#000000\"},\"showarrow\":false,\"text\":\"ANTILHUE\",\"x\":-0.45,\"xanchor\":\"left\",\"xref\":\"x\",\"y\":26,\"yref\":\"y\"},{\"align\":\"left\",\"font\":{\"color\":\"#000000\"},\"showarrow\":false,\"text\":\"1414.0\",\"x\":0.55,\"xanchor\":\"left\",\"xref\":\"x\",\"y\":26,\"yref\":\"y\"},{\"align\":\"left\",\"font\":{\"color\":\"#000000\"},\"showarrow\":false,\"text\":\"purple\",\"x\":1.55,\"xanchor\":\"left\",\"xref\":\"x\",\"y\":26,\"yref\":\"y\"},{\"align\":\"left\",\"font\":{\"color\":\"#000000\"},\"showarrow\":false,\"text\":\"Los Lagos\",\"x\":2.55,\"xanchor\":\"left\",\"xref\":\"x\",\"y\":26,\"yref\":\"y\"},{\"align\":\"left\",\"font\":{\"color\":\"#000000\"},\"showarrow\":false,\"text\":\"FOLILCO LOS LAGOS\",\"x\":-0.45,\"xanchor\":\"left\",\"xref\":\"x\",\"y\":27,\"yref\":\"y\"},{\"align\":\"left\",\"font\":{\"color\":\"#000000\"},\"showarrow\":false,\"text\":\"474.0\",\"x\":0.55,\"xanchor\":\"left\",\"xref\":\"x\",\"y\":27,\"yref\":\"y\"},{\"align\":\"left\",\"font\":{\"color\":\"#000000\"},\"showarrow\":false,\"text\":\"orange\",\"x\":1.55,\"xanchor\":\"left\",\"xref\":\"x\",\"y\":27,\"yref\":\"y\"},{\"align\":\"left\",\"font\":{\"color\":\"#000000\"},\"showarrow\":false,\"text\":\"Los Lagos\",\"x\":2.55,\"xanchor\":\"left\",\"xref\":\"x\",\"y\":27,\"yref\":\"y\"},{\"align\":\"left\",\"font\":{\"color\":\"#000000\"},\"showarrow\":false,\"text\":\"QUILQUILCO\",\"x\":-0.45,\"xanchor\":\"left\",\"xref\":\"x\",\"y\":28,\"yref\":\"y\"},{\"align\":\"left\",\"font\":{\"color\":\"#000000\"},\"showarrow\":false,\"text\":\"149.0\",\"x\":0.55,\"xanchor\":\"left\",\"xref\":\"x\",\"y\":28,\"yref\":\"y\"},{\"align\":\"left\",\"font\":{\"color\":\"#000000\"},\"showarrow\":false,\"text\":\"blue\",\"x\":1.55,\"xanchor\":\"left\",\"xref\":\"x\",\"y\":28,\"yref\":\"y\"},{\"align\":\"left\",\"font\":{\"color\":\"#000000\"},\"showarrow\":false,\"text\":\"Los Lagos\",\"x\":2.55,\"xanchor\":\"left\",\"xref\":\"x\",\"y\":28,\"yref\":\"y\"},{\"align\":\"left\",\"font\":{\"color\":\"#000000\"},\"showarrow\":false,\"text\":\"RI\\u00d1IHUE\",\"x\":-0.45,\"xanchor\":\"left\",\"xref\":\"x\",\"y\":29,\"yref\":\"y\"},{\"align\":\"left\",\"font\":{\"color\":\"#000000\"},\"showarrow\":false,\"text\":\"208.0\",\"x\":0.55,\"xanchor\":\"left\",\"xref\":\"x\",\"y\":29,\"yref\":\"y\"},{\"align\":\"left\",\"font\":{\"color\":\"#000000\"},\"showarrow\":false,\"text\":\"blue\",\"x\":1.55,\"xanchor\":\"left\",\"xref\":\"x\",\"y\":29,\"yref\":\"y\"},{\"align\":\"left\",\"font\":{\"color\":\"#000000\"},\"showarrow\":false,\"text\":\"Los Lagos\",\"x\":2.55,\"xanchor\":\"left\",\"xref\":\"x\",\"y\":29,\"yref\":\"y\"},{\"align\":\"left\",\"font\":{\"color\":\"#000000\"},\"showarrow\":false,\"text\":\"USTARITZ\",\"x\":-0.45,\"xanchor\":\"left\",\"xref\":\"x\",\"y\":30,\"yref\":\"y\"},{\"align\":\"left\",\"font\":{\"color\":\"#000000\"},\"showarrow\":false,\"text\":\"434.0\",\"x\":0.55,\"xanchor\":\"left\",\"xref\":\"x\",\"y\":30,\"yref\":\"y\"},{\"align\":\"left\",\"font\":{\"color\":\"#000000\"},\"showarrow\":false,\"text\":\"orange\",\"x\":1.55,\"xanchor\":\"left\",\"xref\":\"x\",\"y\":30,\"yref\":\"y\"},{\"align\":\"left\",\"font\":{\"color\":\"#000000\"},\"showarrow\":false,\"text\":\"Los Lagos\",\"x\":2.55,\"xanchor\":\"left\",\"xref\":\"x\",\"y\":30,\"yref\":\"y\"},{\"align\":\"left\",\"font\":{\"color\":\"#000000\"},\"showarrow\":false,\"text\":\"EL SALTO\",\"x\":-0.45,\"xanchor\":\"left\",\"xref\":\"x\",\"y\":31,\"yref\":\"y\"},{\"align\":\"left\",\"font\":{\"color\":\"#000000\"},\"showarrow\":false,\"text\":\"592.0\",\"x\":0.55,\"xanchor\":\"left\",\"xref\":\"x\",\"y\":31,\"yref\":\"y\"},{\"align\":\"left\",\"font\":{\"color\":\"#000000\"},\"showarrow\":false,\"text\":\"orange\",\"x\":1.55,\"xanchor\":\"left\",\"xref\":\"x\",\"y\":31,\"yref\":\"y\"},{\"align\":\"left\",\"font\":{\"color\":\"#000000\"},\"showarrow\":false,\"text\":\"Los Lagos\",\"x\":2.55,\"xanchor\":\"left\",\"xref\":\"x\",\"y\":31,\"yref\":\"y\"},{\"align\":\"left\",\"font\":{\"color\":\"#000000\"},\"showarrow\":false,\"text\":\"PELLINADA LAS QUINIENTAS\",\"x\":-0.45,\"xanchor\":\"left\",\"xref\":\"x\",\"y\":32,\"yref\":\"y\"},{\"align\":\"left\",\"font\":{\"color\":\"#000000\"},\"showarrow\":false,\"text\":\"434.0\",\"x\":0.55,\"xanchor\":\"left\",\"xref\":\"x\",\"y\":32,\"yref\":\"y\"},{\"align\":\"left\",\"font\":{\"color\":\"#000000\"},\"showarrow\":false,\"text\":\"orange\",\"x\":1.55,\"xanchor\":\"left\",\"xref\":\"x\",\"y\":32,\"yref\":\"y\"},{\"align\":\"left\",\"font\":{\"color\":\"#000000\"},\"showarrow\":false,\"text\":\"Los Lagos\",\"x\":2.55,\"xanchor\":\"left\",\"xref\":\"x\",\"y\":32,\"yref\":\"y\"},{\"align\":\"left\",\"font\":{\"color\":\"#000000\"},\"showarrow\":false,\"text\":\"PANCUL\",\"x\":-0.45,\"xanchor\":\"left\",\"xref\":\"x\",\"y\":33,\"yref\":\"y\"},{\"align\":\"left\",\"font\":{\"color\":\"#000000\"},\"showarrow\":false,\"text\":\"729.0\",\"x\":0.55,\"xanchor\":\"left\",\"xref\":\"x\",\"y\":33,\"yref\":\"y\"},{\"align\":\"left\",\"font\":{\"color\":\"#000000\"},\"showarrow\":false,\"text\":\"orange\",\"x\":1.55,\"xanchor\":\"left\",\"xref\":\"x\",\"y\":33,\"yref\":\"y\"},{\"align\":\"left\",\"font\":{\"color\":\"#000000\"},\"showarrow\":false,\"text\":\"Los Lagos\",\"x\":2.55,\"xanchor\":\"left\",\"xref\":\"x\",\"y\":33,\"yref\":\"y\"},{\"align\":\"left\",\"font\":{\"color\":\"#000000\"},\"showarrow\":false,\"text\":\"LOS COLIG\\u00dcES\",\"x\":-0.45,\"xanchor\":\"left\",\"xref\":\"x\",\"y\":34,\"yref\":\"y\"},{\"align\":\"left\",\"font\":{\"color\":\"#000000\"},\"showarrow\":false,\"text\":\"456.0\",\"x\":0.55,\"xanchor\":\"left\",\"xref\":\"x\",\"y\":34,\"yref\":\"y\"},{\"align\":\"left\",\"font\":{\"color\":\"#000000\"},\"showarrow\":false,\"text\":\"orange\",\"x\":1.55,\"xanchor\":\"left\",\"xref\":\"x\",\"y\":34,\"yref\":\"y\"},{\"align\":\"left\",\"font\":{\"color\":\"#000000\"},\"showarrow\":false,\"text\":\"Los Lagos\",\"x\":2.55,\"xanchor\":\"left\",\"xref\":\"x\",\"y\":34,\"yref\":\"y\"},{\"align\":\"left\",\"font\":{\"color\":\"#000000\"},\"showarrow\":false,\"text\":\"COLO COLO\",\"x\":-0.45,\"xanchor\":\"left\",\"xref\":\"x\",\"y\":35,\"yref\":\"y\"},{\"align\":\"left\",\"font\":{\"color\":\"#000000\"},\"showarrow\":false,\"text\":\"298.0\",\"x\":0.55,\"xanchor\":\"left\",\"xref\":\"x\",\"y\":35,\"yref\":\"y\"},{\"align\":\"left\",\"font\":{\"color\":\"#000000\"},\"showarrow\":false,\"text\":\"green\",\"x\":1.55,\"xanchor\":\"left\",\"xref\":\"x\",\"y\":35,\"yref\":\"y\"},{\"align\":\"left\",\"font\":{\"color\":\"#000000\"},\"showarrow\":false,\"text\":\"Los Lagos\",\"x\":2.55,\"xanchor\":\"left\",\"xref\":\"x\",\"y\":35,\"yref\":\"y\"},{\"align\":\"left\",\"font\":{\"color\":\"#000000\"},\"showarrow\":false,\"text\":\"LAS HUELLLAS\",\"x\":-0.45,\"xanchor\":\"left\",\"xref\":\"x\",\"y\":36,\"yref\":\"y\"},{\"align\":\"left\",\"font\":{\"color\":\"#000000\"},\"showarrow\":false,\"text\":\"276.0\",\"x\":0.55,\"xanchor\":\"left\",\"xref\":\"x\",\"y\":36,\"yref\":\"y\"},{\"align\":\"left\",\"font\":{\"color\":\"#000000\"},\"showarrow\":false,\"text\":\"blue\",\"x\":1.55,\"xanchor\":\"left\",\"xref\":\"x\",\"y\":36,\"yref\":\"y\"},{\"align\":\"left\",\"font\":{\"color\":\"#000000\"},\"showarrow\":false,\"text\":\"Los Lagos\",\"x\":2.55,\"xanchor\":\"left\",\"xref\":\"x\",\"y\":36,\"yref\":\"y\"},{\"align\":\"left\",\"font\":{\"color\":\"#000000\"},\"showarrow\":false,\"text\":\"San Pedro\",\"x\":-0.45,\"xanchor\":\"left\",\"xref\":\"x\",\"y\":37,\"yref\":\"y\"},{\"align\":\"left\",\"font\":{\"color\":\"#000000\"},\"showarrow\":false,\"text\":\"375.0\",\"x\":0.55,\"xanchor\":\"left\",\"xref\":\"x\",\"y\":37,\"yref\":\"y\"},{\"align\":\"left\",\"font\":{\"color\":\"#000000\"},\"showarrow\":false,\"text\":\"green\",\"x\":1.55,\"xanchor\":\"left\",\"xref\":\"x\",\"y\":37,\"yref\":\"y\"},{\"align\":\"left\",\"font\":{\"color\":\"#000000\"},\"showarrow\":false,\"text\":\"Los Lagos\",\"x\":2.55,\"xanchor\":\"left\",\"xref\":\"x\",\"y\":37,\"yref\":\"y\"},{\"align\":\"left\",\"font\":{\"color\":\"#000000\"},\"showarrow\":false,\"text\":\"Lipingue\",\"x\":-0.45,\"xanchor\":\"left\",\"xref\":\"x\",\"y\":38,\"yref\":\"y\"},{\"align\":\"left\",\"font\":{\"color\":\"#000000\"},\"showarrow\":false,\"text\":\"434.0\",\"x\":0.55,\"xanchor\":\"left\",\"xref\":\"x\",\"y\":38,\"yref\":\"y\"},{\"align\":\"left\",\"font\":{\"color\":\"#000000\"},\"showarrow\":false,\"text\":\"orange\",\"x\":1.55,\"xanchor\":\"left\",\"xref\":\"x\",\"y\":38,\"yref\":\"y\"},{\"align\":\"left\",\"font\":{\"color\":\"#000000\"},\"showarrow\":false,\"text\":\"Los Lagos\",\"x\":2.55,\"xanchor\":\"left\",\"xref\":\"x\",\"y\":38,\"yref\":\"y\"},{\"align\":\"left\",\"font\":{\"color\":\"#000000\"},\"showarrow\":false,\"text\":\"El Trebol\",\"x\":-0.45,\"xanchor\":\"left\",\"xref\":\"x\",\"y\":39,\"yref\":\"y\"},{\"align\":\"left\",\"font\":{\"color\":\"#000000\"},\"showarrow\":false,\"text\":\"208.0\",\"x\":0.55,\"xanchor\":\"left\",\"xref\":\"x\",\"y\":39,\"yref\":\"y\"},{\"align\":\"left\",\"font\":{\"color\":\"#000000\"},\"showarrow\":false,\"text\":\"blue\",\"x\":1.55,\"xanchor\":\"left\",\"xref\":\"x\",\"y\":39,\"yref\":\"y\"},{\"align\":\"left\",\"font\":{\"color\":\"#000000\"},\"showarrow\":false,\"text\":\"Los Lagos\",\"x\":2.55,\"xanchor\":\"left\",\"xref\":\"x\",\"y\":39,\"yref\":\"y\"},{\"align\":\"left\",\"font\":{\"color\":\"#000000\"},\"showarrow\":false,\"text\":\"Collico Sur\",\"x\":-0.45,\"xanchor\":\"left\",\"xref\":\"x\",\"y\":40,\"yref\":\"y\"},{\"align\":\"left\",\"font\":{\"color\":\"#000000\"},\"showarrow\":false,\"text\":\"236.0\",\"x\":0.55,\"xanchor\":\"left\",\"xref\":\"x\",\"y\":40,\"yref\":\"y\"},{\"align\":\"left\",\"font\":{\"color\":\"#000000\"},\"showarrow\":false,\"text\":\"blue\",\"x\":1.55,\"xanchor\":\"left\",\"xref\":\"x\",\"y\":40,\"yref\":\"y\"},{\"align\":\"left\",\"font\":{\"color\":\"#000000\"},\"showarrow\":false,\"text\":\"Los Lagos\",\"x\":2.55,\"xanchor\":\"left\",\"xref\":\"x\",\"y\":40,\"yref\":\"y\"},{\"align\":\"left\",\"font\":{\"color\":\"#000000\"},\"showarrow\":false,\"text\":\"Mi Tierra\",\"x\":-0.45,\"xanchor\":\"left\",\"xref\":\"x\",\"y\":41,\"yref\":\"y\"},{\"align\":\"left\",\"font\":{\"color\":\"#000000\"},\"showarrow\":false,\"text\":\"71.0\",\"x\":0.55,\"xanchor\":\"left\",\"xref\":\"x\",\"y\":41,\"yref\":\"y\"},{\"align\":\"left\",\"font\":{\"color\":\"#000000\"},\"showarrow\":false,\"text\":\"blue\",\"x\":1.55,\"xanchor\":\"left\",\"xref\":\"x\",\"y\":41,\"yref\":\"y\"},{\"align\":\"left\",\"font\":{\"color\":\"#000000\"},\"showarrow\":false,\"text\":\"Los Lagos\",\"x\":2.55,\"xanchor\":\"left\",\"xref\":\"x\",\"y\":41,\"yref\":\"y\"},{\"align\":\"left\",\"font\":{\"color\":\"#000000\"},\"showarrow\":false,\"text\":\"Pu\\u00f1aco\",\"x\":-0.45,\"xanchor\":\"left\",\"xref\":\"x\",\"y\":42,\"yref\":\"y\"},{\"align\":\"left\",\"font\":{\"color\":\"#000000\"},\"showarrow\":false,\"text\":\"81.0\",\"x\":0.55,\"xanchor\":\"left\",\"xref\":\"x\",\"y\":42,\"yref\":\"y\"},{\"align\":\"left\",\"font\":{\"color\":\"#000000\"},\"showarrow\":false,\"text\":\"blue\",\"x\":1.55,\"xanchor\":\"left\",\"xref\":\"x\",\"y\":42,\"yref\":\"y\"},{\"align\":\"left\",\"font\":{\"color\":\"#000000\"},\"showarrow\":false,\"text\":\"Los Lagos\",\"x\":2.55,\"xanchor\":\"left\",\"xref\":\"x\",\"y\":42,\"yref\":\"y\"},{\"align\":\"left\",\"font\":{\"color\":\"#000000\"},\"showarrow\":false,\"text\":\"Purey\",\"x\":-0.45,\"xanchor\":\"left\",\"xref\":\"x\",\"y\":43,\"yref\":\"y\"},{\"align\":\"left\",\"font\":{\"color\":\"#000000\"},\"showarrow\":false,\"text\":\"78.0\",\"x\":0.55,\"xanchor\":\"left\",\"xref\":\"x\",\"y\":43,\"yref\":\"y\"},{\"align\":\"left\",\"font\":{\"color\":\"#000000\"},\"showarrow\":false,\"text\":\"blue\",\"x\":1.55,\"xanchor\":\"left\",\"xref\":\"x\",\"y\":43,\"yref\":\"y\"},{\"align\":\"left\",\"font\":{\"color\":\"#000000\"},\"showarrow\":false,\"text\":\"Los Lagos\",\"x\":2.55,\"xanchor\":\"left\",\"xref\":\"x\",\"y\":43,\"yref\":\"y\"},{\"align\":\"left\",\"font\":{\"color\":\"#000000\"},\"showarrow\":false,\"text\":\"AMARGO-SAN CARLOS\",\"x\":-0.45,\"xanchor\":\"left\",\"xref\":\"x\",\"y\":44,\"yref\":\"y\"},{\"align\":\"left\",\"font\":{\"color\":\"#000000\"},\"showarrow\":false,\"text\":\"2412.0\",\"x\":0.55,\"xanchor\":\"left\",\"xref\":\"x\",\"y\":44,\"yref\":\"y\"},{\"align\":\"left\",\"font\":{\"color\":\"#000000\"},\"showarrow\":false,\"text\":\"purple\",\"x\":1.55,\"xanchor\":\"left\",\"xref\":\"x\",\"y\":44,\"yref\":\"y\"},{\"align\":\"left\",\"font\":{\"color\":\"#000000\"},\"showarrow\":false,\"text\":\"Corral\",\"x\":2.55,\"xanchor\":\"left\",\"xref\":\"x\",\"y\":44,\"yref\":\"y\"},{\"align\":\"left\",\"font\":{\"color\":\"#000000\"},\"showarrow\":false,\"text\":\"ISLA DEL REY\",\"x\":-0.45,\"xanchor\":\"left\",\"xref\":\"x\",\"y\":45,\"yref\":\"y\"},{\"align\":\"left\",\"font\":{\"color\":\"#000000\"},\"showarrow\":false,\"text\":\"620.0\",\"x\":0.55,\"xanchor\":\"left\",\"xref\":\"x\",\"y\":45,\"yref\":\"y\"},{\"align\":\"left\",\"font\":{\"color\":\"#000000\"},\"showarrow\":false,\"text\":\"orange\",\"x\":1.55,\"xanchor\":\"left\",\"xref\":\"x\",\"y\":45,\"yref\":\"y\"},{\"align\":\"left\",\"font\":{\"color\":\"#000000\"},\"showarrow\":false,\"text\":\"Corral\",\"x\":2.55,\"xanchor\":\"left\",\"xref\":\"x\",\"y\":45,\"yref\":\"y\"},{\"align\":\"left\",\"font\":{\"color\":\"#000000\"},\"showarrow\":false,\"text\":\"ISLA MANCERA\",\"x\":-0.45,\"xanchor\":\"left\",\"xref\":\"x\",\"y\":46,\"yref\":\"y\"},{\"align\":\"left\",\"font\":{\"color\":\"#000000\"},\"showarrow\":false,\"text\":\"267.0\",\"x\":0.55,\"xanchor\":\"left\",\"xref\":\"x\",\"y\":46,\"yref\":\"y\"},{\"align\":\"left\",\"font\":{\"color\":\"#000000\"},\"showarrow\":false,\"text\":\"blue\",\"x\":1.55,\"xanchor\":\"left\",\"xref\":\"x\",\"y\":46,\"yref\":\"y\"},{\"align\":\"left\",\"font\":{\"color\":\"#000000\"},\"showarrow\":false,\"text\":\"Corral\",\"x\":2.55,\"xanchor\":\"left\",\"xref\":\"x\",\"y\":46,\"yref\":\"y\"},{\"align\":\"left\",\"font\":{\"color\":\"#000000\"},\"showarrow\":false,\"text\":\"LA AGUADA\",\"x\":-0.45,\"xanchor\":\"left\",\"xref\":\"x\",\"y\":47,\"yref\":\"y\"},{\"align\":\"left\",\"font\":{\"color\":\"#000000\"},\"showarrow\":false,\"text\":\"626.0\",\"x\":0.55,\"xanchor\":\"left\",\"xref\":\"x\",\"y\":47,\"yref\":\"y\"},{\"align\":\"left\",\"font\":{\"color\":\"#000000\"},\"showarrow\":false,\"text\":\"orange\",\"x\":1.55,\"xanchor\":\"left\",\"xref\":\"x\",\"y\":47,\"yref\":\"y\"},{\"align\":\"left\",\"font\":{\"color\":\"#000000\"},\"showarrow\":false,\"text\":\"Corral\",\"x\":2.55,\"xanchor\":\"left\",\"xref\":\"x\",\"y\":47,\"yref\":\"y\"},{\"align\":\"left\",\"font\":{\"color\":\"#000000\"},\"showarrow\":false,\"text\":\"CHAIHUIN\",\"x\":-0.45,\"xanchor\":\"left\",\"xref\":\"x\",\"y\":48,\"yref\":\"y\"},{\"align\":\"left\",\"font\":{\"color\":\"#000000\"},\"showarrow\":false,\"text\":\"744.0\",\"x\":0.55,\"xanchor\":\"left\",\"xref\":\"x\",\"y\":48,\"yref\":\"y\"},{\"align\":\"left\",\"font\":{\"color\":\"#000000\"},\"showarrow\":false,\"text\":\"red\",\"x\":1.55,\"xanchor\":\"left\",\"xref\":\"x\",\"y\":48,\"yref\":\"y\"},{\"align\":\"left\",\"font\":{\"color\":\"#000000\"},\"showarrow\":false,\"text\":\"Corral\",\"x\":2.55,\"xanchor\":\"left\",\"xref\":\"x\",\"y\":48,\"yref\":\"y\"},{\"align\":\"left\",\"font\":{\"color\":\"#000000\"},\"showarrow\":false,\"text\":\"CERROS DE CORRAL\",\"x\":-0.45,\"xanchor\":\"left\",\"xref\":\"x\",\"y\":49,\"yref\":\"y\"},{\"align\":\"left\",\"font\":{\"color\":\"#000000\"},\"showarrow\":false,\"text\":\"484.0\",\"x\":0.55,\"xanchor\":\"left\",\"xref\":\"x\",\"y\":49,\"yref\":\"y\"},{\"align\":\"left\",\"font\":{\"color\":\"#000000\"},\"showarrow\":false,\"text\":\"orange\",\"x\":1.55,\"xanchor\":\"left\",\"xref\":\"x\",\"y\":49,\"yref\":\"y\"},{\"align\":\"left\",\"font\":{\"color\":\"#000000\"},\"showarrow\":false,\"text\":\"Corral\",\"x\":2.55,\"xanchor\":\"left\",\"xref\":\"x\",\"y\":49,\"yref\":\"y\"}],\"height\":1550,\"margin\":{\"b\":0,\"l\":0,\"r\":0,\"t\":0},\"xaxis\":{\"dtick\":1,\"gridwidth\":2,\"showticklabels\":false,\"tick0\":-0.5,\"ticks\":\"\",\"zeroline\":false},\"yaxis\":{\"autorange\":\"reversed\",\"dtick\":1,\"gridwidth\":2,\"showticklabels\":false,\"tick0\":0.5,\"ticks\":\"\",\"zeroline\":false},\"template\":{\"data\":{\"histogram2dcontour\":[{\"type\":\"histogram2dcontour\",\"colorbar\":{\"outlinewidth\":0,\"ticks\":\"\"},\"colorscale\":[[0.0,\"#0d0887\"],[0.1111111111111111,\"#46039f\"],[0.2222222222222222,\"#7201a8\"],[0.3333333333333333,\"#9c179e\"],[0.4444444444444444,\"#bd3786\"],[0.5555555555555556,\"#d8576b\"],[0.6666666666666666,\"#ed7953\"],[0.7777777777777778,\"#fb9f3a\"],[0.8888888888888888,\"#fdca26\"],[1.0,\"#f0f921\"]]}],\"choropleth\":[{\"type\":\"choropleth\",\"colorbar\":{\"outlinewidth\":0,\"ticks\":\"\"}}],\"histogram2d\":[{\"type\":\"histogram2d\",\"colorbar\":{\"outlinewidth\":0,\"ticks\":\"\"},\"colorscale\":[[0.0,\"#0d0887\"],[0.1111111111111111,\"#46039f\"],[0.2222222222222222,\"#7201a8\"],[0.3333333333333333,\"#9c179e\"],[0.4444444444444444,\"#bd3786\"],[0.5555555555555556,\"#d8576b\"],[0.6666666666666666,\"#ed7953\"],[0.7777777777777778,\"#fb9f3a\"],[0.8888888888888888,\"#fdca26\"],[1.0,\"#f0f921\"]]}],\"heatmap\":[{\"type\":\"heatmap\",\"colorbar\":{\"outlinewidth\":0,\"ticks\":\"\"},\"colorscale\":[[0.0,\"#0d0887\"],[0.1111111111111111,\"#46039f\"],[0.2222222222222222,\"#7201a8\"],[0.3333333333333333,\"#9c179e\"],[0.4444444444444444,\"#bd3786\"],[0.5555555555555556,\"#d8576b\"],[0.6666666666666666,\"#ed7953\"],[0.7777777777777778,\"#fb9f3a\"],[0.8888888888888888,\"#fdca26\"],[1.0,\"#f0f921\"]]}],\"heatmapgl\":[{\"type\":\"heatmapgl\",\"colorbar\":{\"outlinewidth\":0,\"ticks\":\"\"},\"colorscale\":[[0.0,\"#0d0887\"],[0.1111111111111111,\"#46039f\"],[0.2222222222222222,\"#7201a8\"],[0.3333333333333333,\"#9c179e\"],[0.4444444444444444,\"#bd3786\"],[0.5555555555555556,\"#d8576b\"],[0.6666666666666666,\"#ed7953\"],[0.7777777777777778,\"#fb9f3a\"],[0.8888888888888888,\"#fdca26\"],[1.0,\"#f0f921\"]]}],\"contourcarpet\":[{\"type\":\"contourcarpet\",\"colorbar\":{\"outlinewidth\":0,\"ticks\":\"\"}}],\"contour\":[{\"type\":\"contour\",\"colorbar\":{\"outlinewidth\":0,\"ticks\":\"\"},\"colorscale\":[[0.0,\"#0d0887\"],[0.1111111111111111,\"#46039f\"],[0.2222222222222222,\"#7201a8\"],[0.3333333333333333,\"#9c179e\"],[0.4444444444444444,\"#bd3786\"],[0.5555555555555556,\"#d8576b\"],[0.6666666666666666,\"#ed7953\"],[0.7777777777777778,\"#fb9f3a\"],[0.8888888888888888,\"#fdca26\"],[1.0,\"#f0f921\"]]}],\"surface\":[{\"type\":\"surface\",\"colorbar\":{\"outlinewidth\":0,\"ticks\":\"\"},\"colorscale\":[[0.0,\"#0d0887\"],[0.1111111111111111,\"#46039f\"],[0.2222222222222222,\"#7201a8\"],[0.3333333333333333,\"#9c179e\"],[0.4444444444444444,\"#bd3786\"],[0.5555555555555556,\"#d8576b\"],[0.6666666666666666,\"#ed7953\"],[0.7777777777777778,\"#fb9f3a\"],[0.8888888888888888,\"#fdca26\"],[1.0,\"#f0f921\"]]}],\"mesh3d\":[{\"type\":\"mesh3d\",\"colorbar\":{\"outlinewidth\":0,\"ticks\":\"\"}}],\"scatter\":[{\"fillpattern\":{\"fillmode\":\"overlay\",\"size\":10,\"solidity\":0.2},\"type\":\"scatter\"}],\"parcoords\":[{\"type\":\"parcoords\",\"line\":{\"colorbar\":{\"outlinewidth\":0,\"ticks\":\"\"}}}],\"scatterpolargl\":[{\"type\":\"scatterpolargl\",\"marker\":{\"colorbar\":{\"outlinewidth\":0,\"ticks\":\"\"}}}],\"bar\":[{\"error_x\":{\"color\":\"#2a3f5f\"},\"error_y\":{\"color\":\"#2a3f5f\"},\"marker\":{\"line\":{\"color\":\"#E5ECF6\",\"width\":0.5},\"pattern\":{\"fillmode\":\"overlay\",\"size\":10,\"solidity\":0.2}},\"type\":\"bar\"}],\"scattergeo\":[{\"type\":\"scattergeo\",\"marker\":{\"colorbar\":{\"outlinewidth\":0,\"ticks\":\"\"}}}],\"scatterpolar\":[{\"type\":\"scatterpolar\",\"marker\":{\"colorbar\":{\"outlinewidth\":0,\"ticks\":\"\"}}}],\"histogram\":[{\"marker\":{\"pattern\":{\"fillmode\":\"overlay\",\"size\":10,\"solidity\":0.2}},\"type\":\"histogram\"}],\"scattergl\":[{\"type\":\"scattergl\",\"marker\":{\"colorbar\":{\"outlinewidth\":0,\"ticks\":\"\"}}}],\"scatter3d\":[{\"type\":\"scatter3d\",\"line\":{\"colorbar\":{\"outlinewidth\":0,\"ticks\":\"\"}},\"marker\":{\"colorbar\":{\"outlinewidth\":0,\"ticks\":\"\"}}}],\"scattermapbox\":[{\"type\":\"scattermapbox\",\"marker\":{\"colorbar\":{\"outlinewidth\":0,\"ticks\":\"\"}}}],\"scatterternary\":[{\"type\":\"scatterternary\",\"marker\":{\"colorbar\":{\"outlinewidth\":0,\"ticks\":\"\"}}}],\"scattercarpet\":[{\"type\":\"scattercarpet\",\"marker\":{\"colorbar\":{\"outlinewidth\":0,\"ticks\":\"\"}}}],\"carpet\":[{\"aaxis\":{\"endlinecolor\":\"#2a3f5f\",\"gridcolor\":\"white\",\"linecolor\":\"white\",\"minorgridcolor\":\"white\",\"startlinecolor\":\"#2a3f5f\"},\"baxis\":{\"endlinecolor\":\"#2a3f5f\",\"gridcolor\":\"white\",\"linecolor\":\"white\",\"minorgridcolor\":\"white\",\"startlinecolor\":\"#2a3f5f\"},\"type\":\"carpet\"}],\"table\":[{\"cells\":{\"fill\":{\"color\":\"#EBF0F8\"},\"line\":{\"color\":\"white\"}},\"header\":{\"fill\":{\"color\":\"#C8D4E3\"},\"line\":{\"color\":\"white\"}},\"type\":\"table\"}],\"barpolar\":[{\"marker\":{\"line\":{\"color\":\"#E5ECF6\",\"width\":0.5},\"pattern\":{\"fillmode\":\"overlay\",\"size\":10,\"solidity\":0.2}},\"type\":\"barpolar\"}],\"pie\":[{\"automargin\":true,\"type\":\"pie\"}]},\"layout\":{\"autotypenumbers\":\"strict\",\"colorway\":[\"#636efa\",\"#EF553B\",\"#00cc96\",\"#ab63fa\",\"#FFA15A\",\"#19d3f3\",\"#FF6692\",\"#B6E880\",\"#FF97FF\",\"#FECB52\"],\"font\":{\"color\":\"#2a3f5f\"},\"hovermode\":\"closest\",\"hoverlabel\":{\"align\":\"left\"},\"paper_bgcolor\":\"white\",\"plot_bgcolor\":\"#E5ECF6\",\"polar\":{\"bgcolor\":\"#E5ECF6\",\"angularaxis\":{\"gridcolor\":\"white\",\"linecolor\":\"white\",\"ticks\":\"\"},\"radialaxis\":{\"gridcolor\":\"white\",\"linecolor\":\"white\",\"ticks\":\"\"}},\"ternary\":{\"bgcolor\":\"#E5ECF6\",\"aaxis\":{\"gridcolor\":\"white\",\"linecolor\":\"white\",\"ticks\":\"\"},\"baxis\":{\"gridcolor\":\"white\",\"linecolor\":\"white\",\"ticks\":\"\"},\"caxis\":{\"gridcolor\":\"white\",\"linecolor\":\"white\",\"ticks\":\"\"}},\"coloraxis\":{\"colorbar\":{\"outlinewidth\":0,\"ticks\":\"\"}},\"colorscale\":{\"sequential\":[[0.0,\"#0d0887\"],[0.1111111111111111,\"#46039f\"],[0.2222222222222222,\"#7201a8\"],[0.3333333333333333,\"#9c179e\"],[0.4444444444444444,\"#bd3786\"],[0.5555555555555556,\"#d8576b\"],[0.6666666666666666,\"#ed7953\"],[0.7777777777777778,\"#fb9f3a\"],[0.8888888888888888,\"#fdca26\"],[1.0,\"#f0f921\"]],\"sequentialminus\":[[0.0,\"#0d0887\"],[0.1111111111111111,\"#46039f\"],[0.2222222222222222,\"#7201a8\"],[0.3333333333333333,\"#9c179e\"],[0.4444444444444444,\"#bd3786\"],[0.5555555555555556,\"#d8576b\"],[0.6666666666666666,\"#ed7953\"],[0.7777777777777778,\"#fb9f3a\"],[0.8888888888888888,\"#fdca26\"],[1.0,\"#f0f921\"]],\"diverging\":[[0,\"#8e0152\"],[0.1,\"#c51b7d\"],[0.2,\"#de77ae\"],[0.3,\"#f1b6da\"],[0.4,\"#fde0ef\"],[0.5,\"#f7f7f7\"],[0.6,\"#e6f5d0\"],[0.7,\"#b8e186\"],[0.8,\"#7fbc41\"],[0.9,\"#4d9221\"],[1,\"#276419\"]]},\"xaxis\":{\"gridcolor\":\"white\",\"linecolor\":\"white\",\"ticks\":\"\",\"title\":{\"standoff\":15},\"zerolinecolor\":\"white\",\"automargin\":true,\"zerolinewidth\":2},\"yaxis\":{\"gridcolor\":\"white\",\"linecolor\":\"white\",\"ticks\":\"\",\"title\":{\"standoff\":15},\"zerolinecolor\":\"white\",\"automargin\":true,\"zerolinewidth\":2},\"scene\":{\"xaxis\":{\"backgroundcolor\":\"#E5ECF6\",\"gridcolor\":\"white\",\"linecolor\":\"white\",\"showbackground\":true,\"ticks\":\"\",\"zerolinecolor\":\"white\",\"gridwidth\":2},\"yaxis\":{\"backgroundcolor\":\"#E5ECF6\",\"gridcolor\":\"white\",\"linecolor\":\"white\",\"showbackground\":true,\"ticks\":\"\",\"zerolinecolor\":\"white\",\"gridwidth\":2},\"zaxis\":{\"backgroundcolor\":\"#E5ECF6\",\"gridcolor\":\"white\",\"linecolor\":\"white\",\"showbackground\":true,\"ticks\":\"\",\"zerolinecolor\":\"white\",\"gridwidth\":2}},\"shapedefaults\":{\"line\":{\"color\":\"#2a3f5f\"}},\"annotationdefaults\":{\"arrowcolor\":\"#2a3f5f\",\"arrowhead\":0,\"arrowwidth\":1},\"geo\":{\"bgcolor\":\"white\",\"landcolor\":\"#E5ECF6\",\"subunitcolor\":\"white\",\"showland\":true,\"showlakes\":true,\"lakecolor\":\"white\"},\"title\":{\"x\":0.05},\"mapbox\":{\"style\":\"light\"}}}},                        {\"responsive\": true}                    ).then(function(){\n",
       "                            \n",
       "var gd = document.getElementById('4e32a890-1aa6-4670-8f96-3cfb7ee3f93c');\n",
       "var x = new MutationObserver(function (mutations, observer) {{\n",
       "        var display = window.getComputedStyle(gd).display;\n",
       "        if (!display || display === 'none') {{\n",
       "            console.log([gd, 'removed!']);\n",
       "            Plotly.purge(gd);\n",
       "            observer.disconnect();\n",
       "        }}\n",
       "}});\n",
       "\n",
       "// Listen for the removal of the full notebook cells\n",
       "var notebookContainer = gd.closest('#notebook-container');\n",
       "if (notebookContainer) {{\n",
       "    x.observe(notebookContainer, {childList: true});\n",
       "}}\n",
       "\n",
       "// Listen for the clearing of the current output cell\n",
       "var outputEl = gd.closest('.output');\n",
       "if (outputEl) {{\n",
       "    x.observe(outputEl, {childList: true});\n",
       "}}\n",
       "\n",
       "                        })                };                });            </script>        </div>"
      ]
     },
     "metadata": {},
     "output_type": "display_data"
    }
   ],
   "source": [
    "#Creación de tabla\n",
    "tabla = pd.DataFrame()\n",
    "tabla['Nombre Ubicación'] = None\n",
    "tabla['Beneficiarios']=None\n",
    "tabla['Color']=None\n",
    "tabla['Comunas']=None\n",
    "\n",
    "#Recopilación de datos\n",
    "datos_comunas_valdivia=list(datos.iloc[1963:1977,3])\n",
    "datos_comunas_paillaco=list(datos.iloc[1919:1930,3])\n",
    "datos_comunas_loslagos=list(datos.iloc[1885:1903,3])\n",
    "datos_comunas_corral=list(datos.iloc[1873:1879,3])\n",
    "datos_comunas=datos_comunas_valdivia+datos_comunas_paillaco+datos_comunas_loslagos+datos_comunas_corral\n",
    "\n",
    "#Se agregan datos a la tabla\n",
    "tabla['Nombre Ubicación'] = nombres\n",
    "tabla['Beneficiarios'] = beneficiarios\n",
    "tabla['Color'] = color_beneficiario\n",
    "tabla['Comunas'] = datos_comunas\n",
    "\n",
    "\n",
    "ff.create_table(tabla)"
   ]
  },
  {
   "cell_type": "markdown",
   "id": "06de0a7a-726c-4b09-8960-380822273261",
   "metadata": {},
   "source": [
    "<a id='Análisis-de-beneficiarios'></a>\n",
    "## Análisis de beneficiarios\n",
    "\n",
    "[Inicio ▲](#Indice)\n"
   ]
  },
  {
   "cell_type": "code",
   "execution_count": 33,
   "id": "17027aa5-a23b-4581-8e00-fb8d2eec765d",
   "metadata": {},
   "outputs": [
    {
     "data": {
      "application/vnd.plotly.v1+json": {
       "config": {
        "plotlyServerURL": "https://plot.ly"
       },
       "data": [
        {
         "alignmentgroup": "True",
         "boxpoints": "all",
         "hovertemplate": "Beneficiarios=%{x}<extra></extra>",
         "legendgroup": "",
         "marker": {
          "color": "#636efa"
         },
         "name": "",
         "notched": false,
         "offsetgroup": "",
         "orientation": "h",
         "showlegend": false,
         "type": "box",
         "x": [
          322,
          2294,
          310,
          1048,
          4021,
          459,
          936,
          1091,
          1327,
          549,
          871,
          543,
          623,
          434,
          394,
          428,
          1079,
          1442,
          403,
          220,
          394,
          319,
          710,
          155,
          211,
          1414,
          474,
          149,
          208,
          434,
          592,
          434,
          729,
          456,
          298,
          276,
          375,
          434,
          208,
          236,
          71,
          81,
          78,
          2412,
          620,
          267,
          626,
          744,
          484
         ],
         "x0": " ",
         "xaxis": "x",
         "y0": " ",
         "yaxis": "y"
        }
       ],
       "layout": {
        "autosize": true,
        "boxmode": "group",
        "legend": {
         "tracegroupgap": 0
        },
        "margin": {
         "t": 60
        },
        "template": {
         "data": {
          "bar": [
           {
            "error_x": {
             "color": "#2a3f5f"
            },
            "error_y": {
             "color": "#2a3f5f"
            },
            "marker": {
             "line": {
              "color": "#E5ECF6",
              "width": 0.5
             },
             "pattern": {
              "fillmode": "overlay",
              "size": 10,
              "solidity": 0.2
             }
            },
            "type": "bar"
           }
          ],
          "barpolar": [
           {
            "marker": {
             "line": {
              "color": "#E5ECF6",
              "width": 0.5
             },
             "pattern": {
              "fillmode": "overlay",
              "size": 10,
              "solidity": 0.2
             }
            },
            "type": "barpolar"
           }
          ],
          "carpet": [
           {
            "aaxis": {
             "endlinecolor": "#2a3f5f",
             "gridcolor": "white",
             "linecolor": "white",
             "minorgridcolor": "white",
             "startlinecolor": "#2a3f5f"
            },
            "baxis": {
             "endlinecolor": "#2a3f5f",
             "gridcolor": "white",
             "linecolor": "white",
             "minorgridcolor": "white",
             "startlinecolor": "#2a3f5f"
            },
            "type": "carpet"
           }
          ],
          "choropleth": [
           {
            "colorbar": {
             "outlinewidth": 0,
             "ticks": ""
            },
            "type": "choropleth"
           }
          ],
          "contour": [
           {
            "colorbar": {
             "outlinewidth": 0,
             "ticks": ""
            },
            "colorscale": [
             [
              0,
              "#0d0887"
             ],
             [
              0.1111111111111111,
              "#46039f"
             ],
             [
              0.2222222222222222,
              "#7201a8"
             ],
             [
              0.3333333333333333,
              "#9c179e"
             ],
             [
              0.4444444444444444,
              "#bd3786"
             ],
             [
              0.5555555555555556,
              "#d8576b"
             ],
             [
              0.6666666666666666,
              "#ed7953"
             ],
             [
              0.7777777777777778,
              "#fb9f3a"
             ],
             [
              0.8888888888888888,
              "#fdca26"
             ],
             [
              1,
              "#f0f921"
             ]
            ],
            "type": "contour"
           }
          ],
          "contourcarpet": [
           {
            "colorbar": {
             "outlinewidth": 0,
             "ticks": ""
            },
            "type": "contourcarpet"
           }
          ],
          "heatmap": [
           {
            "colorbar": {
             "outlinewidth": 0,
             "ticks": ""
            },
            "colorscale": [
             [
              0,
              "#0d0887"
             ],
             [
              0.1111111111111111,
              "#46039f"
             ],
             [
              0.2222222222222222,
              "#7201a8"
             ],
             [
              0.3333333333333333,
              "#9c179e"
             ],
             [
              0.4444444444444444,
              "#bd3786"
             ],
             [
              0.5555555555555556,
              "#d8576b"
             ],
             [
              0.6666666666666666,
              "#ed7953"
             ],
             [
              0.7777777777777778,
              "#fb9f3a"
             ],
             [
              0.8888888888888888,
              "#fdca26"
             ],
             [
              1,
              "#f0f921"
             ]
            ],
            "type": "heatmap"
           }
          ],
          "heatmapgl": [
           {
            "colorbar": {
             "outlinewidth": 0,
             "ticks": ""
            },
            "colorscale": [
             [
              0,
              "#0d0887"
             ],
             [
              0.1111111111111111,
              "#46039f"
             ],
             [
              0.2222222222222222,
              "#7201a8"
             ],
             [
              0.3333333333333333,
              "#9c179e"
             ],
             [
              0.4444444444444444,
              "#bd3786"
             ],
             [
              0.5555555555555556,
              "#d8576b"
             ],
             [
              0.6666666666666666,
              "#ed7953"
             ],
             [
              0.7777777777777778,
              "#fb9f3a"
             ],
             [
              0.8888888888888888,
              "#fdca26"
             ],
             [
              1,
              "#f0f921"
             ]
            ],
            "type": "heatmapgl"
           }
          ],
          "histogram": [
           {
            "marker": {
             "pattern": {
              "fillmode": "overlay",
              "size": 10,
              "solidity": 0.2
             }
            },
            "type": "histogram"
           }
          ],
          "histogram2d": [
           {
            "colorbar": {
             "outlinewidth": 0,
             "ticks": ""
            },
            "colorscale": [
             [
              0,
              "#0d0887"
             ],
             [
              0.1111111111111111,
              "#46039f"
             ],
             [
              0.2222222222222222,
              "#7201a8"
             ],
             [
              0.3333333333333333,
              "#9c179e"
             ],
             [
              0.4444444444444444,
              "#bd3786"
             ],
             [
              0.5555555555555556,
              "#d8576b"
             ],
             [
              0.6666666666666666,
              "#ed7953"
             ],
             [
              0.7777777777777778,
              "#fb9f3a"
             ],
             [
              0.8888888888888888,
              "#fdca26"
             ],
             [
              1,
              "#f0f921"
             ]
            ],
            "type": "histogram2d"
           }
          ],
          "histogram2dcontour": [
           {
            "colorbar": {
             "outlinewidth": 0,
             "ticks": ""
            },
            "colorscale": [
             [
              0,
              "#0d0887"
             ],
             [
              0.1111111111111111,
              "#46039f"
             ],
             [
              0.2222222222222222,
              "#7201a8"
             ],
             [
              0.3333333333333333,
              "#9c179e"
             ],
             [
              0.4444444444444444,
              "#bd3786"
             ],
             [
              0.5555555555555556,
              "#d8576b"
             ],
             [
              0.6666666666666666,
              "#ed7953"
             ],
             [
              0.7777777777777778,
              "#fb9f3a"
             ],
             [
              0.8888888888888888,
              "#fdca26"
             ],
             [
              1,
              "#f0f921"
             ]
            ],
            "type": "histogram2dcontour"
           }
          ],
          "mesh3d": [
           {
            "colorbar": {
             "outlinewidth": 0,
             "ticks": ""
            },
            "type": "mesh3d"
           }
          ],
          "parcoords": [
           {
            "line": {
             "colorbar": {
              "outlinewidth": 0,
              "ticks": ""
             }
            },
            "type": "parcoords"
           }
          ],
          "pie": [
           {
            "automargin": true,
            "type": "pie"
           }
          ],
          "scatter": [
           {
            "fillpattern": {
             "fillmode": "overlay",
             "size": 10,
             "solidity": 0.2
            },
            "type": "scatter"
           }
          ],
          "scatter3d": [
           {
            "line": {
             "colorbar": {
              "outlinewidth": 0,
              "ticks": ""
             }
            },
            "marker": {
             "colorbar": {
              "outlinewidth": 0,
              "ticks": ""
             }
            },
            "type": "scatter3d"
           }
          ],
          "scattercarpet": [
           {
            "marker": {
             "colorbar": {
              "outlinewidth": 0,
              "ticks": ""
             }
            },
            "type": "scattercarpet"
           }
          ],
          "scattergeo": [
           {
            "marker": {
             "colorbar": {
              "outlinewidth": 0,
              "ticks": ""
             }
            },
            "type": "scattergeo"
           }
          ],
          "scattergl": [
           {
            "marker": {
             "colorbar": {
              "outlinewidth": 0,
              "ticks": ""
             }
            },
            "type": "scattergl"
           }
          ],
          "scattermapbox": [
           {
            "marker": {
             "colorbar": {
              "outlinewidth": 0,
              "ticks": ""
             }
            },
            "type": "scattermapbox"
           }
          ],
          "scatterpolar": [
           {
            "marker": {
             "colorbar": {
              "outlinewidth": 0,
              "ticks": ""
             }
            },
            "type": "scatterpolar"
           }
          ],
          "scatterpolargl": [
           {
            "marker": {
             "colorbar": {
              "outlinewidth": 0,
              "ticks": ""
             }
            },
            "type": "scatterpolargl"
           }
          ],
          "scatterternary": [
           {
            "marker": {
             "colorbar": {
              "outlinewidth": 0,
              "ticks": ""
             }
            },
            "type": "scatterternary"
           }
          ],
          "surface": [
           {
            "colorbar": {
             "outlinewidth": 0,
             "ticks": ""
            },
            "colorscale": [
             [
              0,
              "#0d0887"
             ],
             [
              0.1111111111111111,
              "#46039f"
             ],
             [
              0.2222222222222222,
              "#7201a8"
             ],
             [
              0.3333333333333333,
              "#9c179e"
             ],
             [
              0.4444444444444444,
              "#bd3786"
             ],
             [
              0.5555555555555556,
              "#d8576b"
             ],
             [
              0.6666666666666666,
              "#ed7953"
             ],
             [
              0.7777777777777778,
              "#fb9f3a"
             ],
             [
              0.8888888888888888,
              "#fdca26"
             ],
             [
              1,
              "#f0f921"
             ]
            ],
            "type": "surface"
           }
          ],
          "table": [
           {
            "cells": {
             "fill": {
              "color": "#EBF0F8"
             },
             "line": {
              "color": "white"
             }
            },
            "header": {
             "fill": {
              "color": "#C8D4E3"
             },
             "line": {
              "color": "white"
             }
            },
            "type": "table"
           }
          ]
         },
         "layout": {
          "annotationdefaults": {
           "arrowcolor": "#2a3f5f",
           "arrowhead": 0,
           "arrowwidth": 1
          },
          "autotypenumbers": "strict",
          "coloraxis": {
           "colorbar": {
            "outlinewidth": 0,
            "ticks": ""
           }
          },
          "colorscale": {
           "diverging": [
            [
             0,
             "#8e0152"
            ],
            [
             0.1,
             "#c51b7d"
            ],
            [
             0.2,
             "#de77ae"
            ],
            [
             0.3,
             "#f1b6da"
            ],
            [
             0.4,
             "#fde0ef"
            ],
            [
             0.5,
             "#f7f7f7"
            ],
            [
             0.6,
             "#e6f5d0"
            ],
            [
             0.7,
             "#b8e186"
            ],
            [
             0.8,
             "#7fbc41"
            ],
            [
             0.9,
             "#4d9221"
            ],
            [
             1,
             "#276419"
            ]
           ],
           "sequential": [
            [
             0,
             "#0d0887"
            ],
            [
             0.1111111111111111,
             "#46039f"
            ],
            [
             0.2222222222222222,
             "#7201a8"
            ],
            [
             0.3333333333333333,
             "#9c179e"
            ],
            [
             0.4444444444444444,
             "#bd3786"
            ],
            [
             0.5555555555555556,
             "#d8576b"
            ],
            [
             0.6666666666666666,
             "#ed7953"
            ],
            [
             0.7777777777777778,
             "#fb9f3a"
            ],
            [
             0.8888888888888888,
             "#fdca26"
            ],
            [
             1,
             "#f0f921"
            ]
           ],
           "sequentialminus": [
            [
             0,
             "#0d0887"
            ],
            [
             0.1111111111111111,
             "#46039f"
            ],
            [
             0.2222222222222222,
             "#7201a8"
            ],
            [
             0.3333333333333333,
             "#9c179e"
            ],
            [
             0.4444444444444444,
             "#bd3786"
            ],
            [
             0.5555555555555556,
             "#d8576b"
            ],
            [
             0.6666666666666666,
             "#ed7953"
            ],
            [
             0.7777777777777778,
             "#fb9f3a"
            ],
            [
             0.8888888888888888,
             "#fdca26"
            ],
            [
             1,
             "#f0f921"
            ]
           ]
          },
          "colorway": [
           "#636efa",
           "#EF553B",
           "#00cc96",
           "#ab63fa",
           "#FFA15A",
           "#19d3f3",
           "#FF6692",
           "#B6E880",
           "#FF97FF",
           "#FECB52"
          ],
          "font": {
           "color": "#2a3f5f"
          },
          "geo": {
           "bgcolor": "white",
           "lakecolor": "white",
           "landcolor": "#E5ECF6",
           "showlakes": true,
           "showland": true,
           "subunitcolor": "white"
          },
          "hoverlabel": {
           "align": "left"
          },
          "hovermode": "closest",
          "mapbox": {
           "style": "light"
          },
          "paper_bgcolor": "white",
          "plot_bgcolor": "#E5ECF6",
          "polar": {
           "angularaxis": {
            "gridcolor": "white",
            "linecolor": "white",
            "ticks": ""
           },
           "bgcolor": "#E5ECF6",
           "radialaxis": {
            "gridcolor": "white",
            "linecolor": "white",
            "ticks": ""
           }
          },
          "scene": {
           "xaxis": {
            "backgroundcolor": "#E5ECF6",
            "gridcolor": "white",
            "gridwidth": 2,
            "linecolor": "white",
            "showbackground": true,
            "ticks": "",
            "zerolinecolor": "white"
           },
           "yaxis": {
            "backgroundcolor": "#E5ECF6",
            "gridcolor": "white",
            "gridwidth": 2,
            "linecolor": "white",
            "showbackground": true,
            "ticks": "",
            "zerolinecolor": "white"
           },
           "zaxis": {
            "backgroundcolor": "#E5ECF6",
            "gridcolor": "white",
            "gridwidth": 2,
            "linecolor": "white",
            "showbackground": true,
            "ticks": "",
            "zerolinecolor": "white"
           }
          },
          "shapedefaults": {
           "line": {
            "color": "#2a3f5f"
           }
          },
          "ternary": {
           "aaxis": {
            "gridcolor": "white",
            "linecolor": "white",
            "ticks": ""
           },
           "baxis": {
            "gridcolor": "white",
            "linecolor": "white",
            "ticks": ""
           },
           "bgcolor": "#E5ECF6",
           "caxis": {
            "gridcolor": "white",
            "linecolor": "white",
            "ticks": ""
           }
          },
          "title": {
           "x": 0.05
          },
          "xaxis": {
           "automargin": true,
           "gridcolor": "white",
           "linecolor": "white",
           "ticks": "",
           "title": {
            "standoff": 15
           },
           "zerolinecolor": "white",
           "zerolinewidth": 2
          },
          "yaxis": {
           "automargin": true,
           "gridcolor": "white",
           "linecolor": "white",
           "ticks": "",
           "title": {
            "standoff": 15
           },
           "zerolinecolor": "white",
           "zerolinewidth": 2
          }
         }
        },
        "title": {
         "text": "Distribución de sistemas de Agua Potable Rural"
        },
        "xaxis": {
         "anchor": "y",
         "autorange": true,
         "domain": [
          0,
          1
         ],
         "range": [
          -148.44444444444443,
          4240.444444444444
         ],
         "title": {
          "text": "Beneficiarios"
         },
         "type": "linear"
        },
        "yaxis": {
         "anchor": "x",
         "autorange": true,
         "domain": [
          0,
          1
         ],
         "range": [
          -0.5138248847926268,
          0.5
         ],
         "type": "category"
        }
       }
      },
      "image/png": "[encoded data removed]",
      "text/html": [
       "<div>                            <div id=\"2a01fffd-1579-40c2-837a-91d832633cf8\" class=\"plotly-graph-div\" style=\"height:525px; width:100%;\"></div>            <script type=\"text/javascript\">                require([\"plotly\"], function(Plotly) {                    window.PLOTLYENV=window.PLOTLYENV || {};                                    if (document.getElementById(\"2a01fffd-1579-40c2-837a-91d832633cf8\")) {                    Plotly.newPlot(                        \"2a01fffd-1579-40c2-837a-91d832633cf8\",                        [{\"alignmentgroup\":\"True\",\"boxpoints\":\"all\",\"hovertemplate\":\"Beneficiarios=%{x}<extra></extra>\",\"legendgroup\":\"\",\"marker\":{\"color\":\"#636efa\"},\"name\":\"\",\"notched\":false,\"offsetgroup\":\"\",\"orientation\":\"h\",\"showlegend\":false,\"x\":[322.0,2294.0,310.0,1048.0,4021.0,459.0,936.0,1091.0,1327.0,549.0,871.0,543.0,623.0,434.0,394.0,428.0,1079.0,1442.0,403.0,220.0,394.0,319.0,710.0,155.0,211.0,1414.0,474.0,149.0,208.0,434.0,592.0,434.0,729.0,456.0,298.0,276.0,375.0,434.0,208.0,236.0,71.0,81.0,78.0,2412.0,620.0,267.0,626.0,744.0,484.0],\"x0\":\" \",\"xaxis\":\"x\",\"y0\":\" \",\"yaxis\":\"y\",\"type\":\"box\"}],                        {\"template\":{\"data\":{\"histogram2dcontour\":[{\"type\":\"histogram2dcontour\",\"colorbar\":{\"outlinewidth\":0,\"ticks\":\"\"},\"colorscale\":[[0.0,\"#0d0887\"],[0.1111111111111111,\"#46039f\"],[0.2222222222222222,\"#7201a8\"],[0.3333333333333333,\"#9c179e\"],[0.4444444444444444,\"#bd3786\"],[0.5555555555555556,\"#d8576b\"],[0.6666666666666666,\"#ed7953\"],[0.7777777777777778,\"#fb9f3a\"],[0.8888888888888888,\"#fdca26\"],[1.0,\"#f0f921\"]]}],\"choropleth\":[{\"type\":\"choropleth\",\"colorbar\":{\"outlinewidth\":0,\"ticks\":\"\"}}],\"histogram2d\":[{\"type\":\"histogram2d\",\"colorbar\":{\"outlinewidth\":0,\"ticks\":\"\"},\"colorscale\":[[0.0,\"#0d0887\"],[0.1111111111111111,\"#46039f\"],[0.2222222222222222,\"#7201a8\"],[0.3333333333333333,\"#9c179e\"],[0.4444444444444444,\"#bd3786\"],[0.5555555555555556,\"#d8576b\"],[0.6666666666666666,\"#ed7953\"],[0.7777777777777778,\"#fb9f3a\"],[0.8888888888888888,\"#fdca26\"],[1.0,\"#f0f921\"]]}],\"heatmap\":[{\"type\":\"heatmap\",\"colorbar\":{\"outlinewidth\":0,\"ticks\":\"\"},\"colorscale\":[[0.0,\"#0d0887\"],[0.1111111111111111,\"#46039f\"],[0.2222222222222222,\"#7201a8\"],[0.3333333333333333,\"#9c179e\"],[0.4444444444444444,\"#bd3786\"],[0.5555555555555556,\"#d8576b\"],[0.6666666666666666,\"#ed7953\"],[0.7777777777777778,\"#fb9f3a\"],[0.8888888888888888,\"#fdca26\"],[1.0,\"#f0f921\"]]}],\"heatmapgl\":[{\"type\":\"heatmapgl\",\"colorbar\":{\"outlinewidth\":0,\"ticks\":\"\"},\"colorscale\":[[0.0,\"#0d0887\"],[0.1111111111111111,\"#46039f\"],[0.2222222222222222,\"#7201a8\"],[0.3333333333333333,\"#9c179e\"],[0.4444444444444444,\"#bd3786\"],[0.5555555555555556,\"#d8576b\"],[0.6666666666666666,\"#ed7953\"],[0.7777777777777778,\"#fb9f3a\"],[0.8888888888888888,\"#fdca26\"],[1.0,\"#f0f921\"]]}],\"contourcarpet\":[{\"type\":\"contourcarpet\",\"colorbar\":{\"outlinewidth\":0,\"ticks\":\"\"}}],\"contour\":[{\"type\":\"contour\",\"colorbar\":{\"outlinewidth\":0,\"ticks\":\"\"},\"colorscale\":[[0.0,\"#0d0887\"],[0.1111111111111111,\"#46039f\"],[0.2222222222222222,\"#7201a8\"],[0.3333333333333333,\"#9c179e\"],[0.4444444444444444,\"#bd3786\"],[0.5555555555555556,\"#d8576b\"],[0.6666666666666666,\"#ed7953\"],[0.7777777777777778,\"#fb9f3a\"],[0.8888888888888888,\"#fdca26\"],[1.0,\"#f0f921\"]]}],\"surface\":[{\"type\":\"surface\",\"colorbar\":{\"outlinewidth\":0,\"ticks\":\"\"},\"colorscale\":[[0.0,\"#0d0887\"],[0.1111111111111111,\"#46039f\"],[0.2222222222222222,\"#7201a8\"],[0.3333333333333333,\"#9c179e\"],[0.4444444444444444,\"#bd3786\"],[0.5555555555555556,\"#d8576b\"],[0.6666666666666666,\"#ed7953\"],[0.7777777777777778,\"#fb9f3a\"],[0.8888888888888888,\"#fdca26\"],[1.0,\"#f0f921\"]]}],\"mesh3d\":[{\"type\":\"mesh3d\",\"colorbar\":{\"outlinewidth\":0,\"ticks\":\"\"}}],\"scatter\":[{\"fillpattern\":{\"fillmode\":\"overlay\",\"size\":10,\"solidity\":0.2},\"type\":\"scatter\"}],\"parcoords\":[{\"type\":\"parcoords\",\"line\":{\"colorbar\":{\"outlinewidth\":0,\"ticks\":\"\"}}}],\"scatterpolargl\":[{\"type\":\"scatterpolargl\",\"marker\":{\"colorbar\":{\"outlinewidth\":0,\"ticks\":\"\"}}}],\"bar\":[{\"error_x\":{\"color\":\"#2a3f5f\"},\"error_y\":{\"color\":\"#2a3f5f\"},\"marker\":{\"line\":{\"color\":\"#E5ECF6\",\"width\":0.5},\"pattern\":{\"fillmode\":\"overlay\",\"size\":10,\"solidity\":0.2}},\"type\":\"bar\"}],\"scattergeo\":[{\"type\":\"scattergeo\",\"marker\":{\"colorbar\":{\"outlinewidth\":0,\"ticks\":\"\"}}}],\"scatterpolar\":[{\"type\":\"scatterpolar\",\"marker\":{\"colorbar\":{\"outlinewidth\":0,\"ticks\":\"\"}}}],\"histogram\":[{\"marker\":{\"pattern\":{\"fillmode\":\"overlay\",\"size\":10,\"solidity\":0.2}},\"type\":\"histogram\"}],\"scattergl\":[{\"type\":\"scattergl\",\"marker\":{\"colorbar\":{\"outlinewidth\":0,\"ticks\":\"\"}}}],\"scatter3d\":[{\"type\":\"scatter3d\",\"line\":{\"colorbar\":{\"outlinewidth\":0,\"ticks\":\"\"}},\"marker\":{\"colorbar\":{\"outlinewidth\":0,\"ticks\":\"\"}}}],\"scattermapbox\":[{\"type\":\"scattermapbox\",\"marker\":{\"colorbar\":{\"outlinewidth\":0,\"ticks\":\"\"}}}],\"scatterternary\":[{\"type\":\"scatterternary\",\"marker\":{\"colorbar\":{\"outlinewidth\":0,\"ticks\":\"\"}}}],\"scattercarpet\":[{\"type\":\"scattercarpet\",\"marker\":{\"colorbar\":{\"outlinewidth\":0,\"ticks\":\"\"}}}],\"carpet\":[{\"aaxis\":{\"endlinecolor\":\"#2a3f5f\",\"gridcolor\":\"white\",\"linecolor\":\"white\",\"minorgridcolor\":\"white\",\"startlinecolor\":\"#2a3f5f\"},\"baxis\":{\"endlinecolor\":\"#2a3f5f\",\"gridcolor\":\"white\",\"linecolor\":\"white\",\"minorgridcolor\":\"white\",\"startlinecolor\":\"#2a3f5f\"},\"type\":\"carpet\"}],\"table\":[{\"cells\":{\"fill\":{\"color\":\"#EBF0F8\"},\"line\":{\"color\":\"white\"}},\"header\":{\"fill\":{\"color\":\"#C8D4E3\"},\"line\":{\"color\":\"white\"}},\"type\":\"table\"}],\"barpolar\":[{\"marker\":{\"line\":{\"color\":\"#E5ECF6\",\"width\":0.5},\"pattern\":{\"fillmode\":\"overlay\",\"size\":10,\"solidity\":0.2}},\"type\":\"barpolar\"}],\"pie\":[{\"automargin\":true,\"type\":\"pie\"}]},\"layout\":{\"autotypenumbers\":\"strict\",\"colorway\":[\"#636efa\",\"#EF553B\",\"#00cc96\",\"#ab63fa\",\"#FFA15A\",\"#19d3f3\",\"#FF6692\",\"#B6E880\",\"#FF97FF\",\"#FECB52\"],\"font\":{\"color\":\"#2a3f5f\"},\"hovermode\":\"closest\",\"hoverlabel\":{\"align\":\"left\"},\"paper_bgcolor\":\"white\",\"plot_bgcolor\":\"#E5ECF6\",\"polar\":{\"bgcolor\":\"#E5ECF6\",\"angularaxis\":{\"gridcolor\":\"white\",\"linecolor\":\"white\",\"ticks\":\"\"},\"radialaxis\":{\"gridcolor\":\"white\",\"linecolor\":\"white\",\"ticks\":\"\"}},\"ternary\":{\"bgcolor\":\"#E5ECF6\",\"aaxis\":{\"gridcolor\":\"white\",\"linecolor\":\"white\",\"ticks\":\"\"},\"baxis\":{\"gridcolor\":\"white\",\"linecolor\":\"white\",\"ticks\":\"\"},\"caxis\":{\"gridcolor\":\"white\",\"linecolor\":\"white\",\"ticks\":\"\"}},\"coloraxis\":{\"colorbar\":{\"outlinewidth\":0,\"ticks\":\"\"}},\"colorscale\":{\"sequential\":[[0.0,\"#0d0887\"],[0.1111111111111111,\"#46039f\"],[0.2222222222222222,\"#7201a8\"],[0.3333333333333333,\"#9c179e\"],[0.4444444444444444,\"#bd3786\"],[0.5555555555555556,\"#d8576b\"],[0.6666666666666666,\"#ed7953\"],[0.7777777777777778,\"#fb9f3a\"],[0.8888888888888888,\"#fdca26\"],[1.0,\"#f0f921\"]],\"sequentialminus\":[[0.0,\"#0d0887\"],[0.1111111111111111,\"#46039f\"],[0.2222222222222222,\"#7201a8\"],[0.3333333333333333,\"#9c179e\"],[0.4444444444444444,\"#bd3786\"],[0.5555555555555556,\"#d8576b\"],[0.6666666666666666,\"#ed7953\"],[0.7777777777777778,\"#fb9f3a\"],[0.8888888888888888,\"#fdca26\"],[1.0,\"#f0f921\"]],\"diverging\":[[0,\"#8e0152\"],[0.1,\"#c51b7d\"],[0.2,\"#de77ae\"],[0.3,\"#f1b6da\"],[0.4,\"#fde0ef\"],[0.5,\"#f7f7f7\"],[0.6,\"#e6f5d0\"],[0.7,\"#b8e186\"],[0.8,\"#7fbc41\"],[0.9,\"#4d9221\"],[1,\"#276419\"]]},\"xaxis\":{\"gridcolor\":\"white\",\"linecolor\":\"white\",\"ticks\":\"\",\"title\":{\"standoff\":15},\"zerolinecolor\":\"white\",\"automargin\":true,\"zerolinewidth\":2},\"yaxis\":{\"gridcolor\":\"white\",\"linecolor\":\"white\",\"ticks\":\"\",\"title\":{\"standoff\":15},\"zerolinecolor\":\"white\",\"automargin\":true,\"zerolinewidth\":2},\"scene\":{\"xaxis\":{\"backgroundcolor\":\"#E5ECF6\",\"gridcolor\":\"white\",\"linecolor\":\"white\",\"showbackground\":true,\"ticks\":\"\",\"zerolinecolor\":\"white\",\"gridwidth\":2},\"yaxis\":{\"backgroundcolor\":\"#E5ECF6\",\"gridcolor\":\"white\",\"linecolor\":\"white\",\"showbackground\":true,\"ticks\":\"\",\"zerolinecolor\":\"white\",\"gridwidth\":2},\"zaxis\":{\"backgroundcolor\":\"#E5ECF6\",\"gridcolor\":\"white\",\"linecolor\":\"white\",\"showbackground\":true,\"ticks\":\"\",\"zerolinecolor\":\"white\",\"gridwidth\":2}},\"shapedefaults\":{\"line\":{\"color\":\"#2a3f5f\"}},\"annotationdefaults\":{\"arrowcolor\":\"#2a3f5f\",\"arrowhead\":0,\"arrowwidth\":1},\"geo\":{\"bgcolor\":\"white\",\"landcolor\":\"#E5ECF6\",\"subunitcolor\":\"white\",\"showland\":true,\"showlakes\":true,\"lakecolor\":\"white\"},\"title\":{\"x\":0.05},\"mapbox\":{\"style\":\"light\"}}},\"xaxis\":{\"anchor\":\"y\",\"domain\":[0.0,1.0],\"title\":{\"text\":\"Beneficiarios\"}},\"yaxis\":{\"anchor\":\"x\",\"domain\":[0.0,1.0]},\"legend\":{\"tracegroupgap\":0},\"margin\":{\"t\":60},\"boxmode\":\"group\",\"title\":{\"text\":\"Distribuci\\u00f3n de sistemas de Agua Potable Rural\"}},                        {\"responsive\": true}                    ).then(function(){\n",
       "                            \n",
       "var gd = document.getElementById('2a01fffd-1579-40c2-837a-91d832633cf8');\n",
       "var x = new MutationObserver(function (mutations, observer) {{\n",
       "        var display = window.getComputedStyle(gd).display;\n",
       "        if (!display || display === 'none') {{\n",
       "            console.log([gd, 'removed!']);\n",
       "            Plotly.purge(gd);\n",
       "            observer.disconnect();\n",
       "        }}\n",
       "}});\n",
       "\n",
       "// Listen for the removal of the full notebook cells\n",
       "var notebookContainer = gd.closest('#notebook-container');\n",
       "if (notebookContainer) {{\n",
       "    x.observe(notebookContainer, {childList: true});\n",
       "}}\n",
       "\n",
       "// Listen for the clearing of the current output cell\n",
       "var outputEl = gd.closest('.output');\n",
       "if (outputEl) {{\n",
       "    x.observe(outputEl, {childList: true});\n",
       "}}\n",
       "\n",
       "                        })                };                });            </script>        </div>"
      ]
     },
     "metadata": {},
     "output_type": "display_data"
    }
   ],
   "source": [
    "df = px.data.tips()\n",
    "fig = px.box(tabla, x=\"Beneficiarios\", points=\"all\")\n",
    "fig.update_layout(title_text=\"Distribución de sistemas de Agua Potable Rural\")\n",
    "fig.show()"
   ]
  },
  {
   "cell_type": "code",
   "execution_count": 34,
   "id": "fbb8d50a-f1ea-4c7c-bce8-e03abd4d3d9c",
   "metadata": {},
   "outputs": [
    {
     "data": {
      "application/vnd.plotly.v1+json": {
       "config": {
        "plotlyServerURL": "https://plot.ly"
       },
       "data": [
        {
         "alignmentgroup": "True",
         "hovertemplate": "Nombre Ubicación=%{x}<br>Beneficiarios=%{y}<extra></extra>",
         "legendgroup": "PISHUINCO",
         "marker": {
          "color": "green",
          "pattern": {
           "shape": ""
          }
         },
         "name": "PISHUINCO",
         "offsetgroup": "PISHUINCO",
         "orientation": "v",
         "showlegend": true,
         "textposition": "auto",
         "type": "bar",
         "x": [
          "PISHUINCO"
         ],
         "xaxis": "x",
         "y": [
          322
         ],
         "yaxis": "y"
        },
        {
         "alignmentgroup": "True",
         "hovertemplate": "Nombre Ubicación=%{x}<br>Beneficiarios=%{y}<extra></extra>",
         "legendgroup": "CURIÑANCO",
         "marker": {
          "color": "purple",
          "pattern": {
           "shape": ""
          }
         },
         "name": "CURIÑANCO",
         "offsetgroup": "CURIÑANCO",
         "orientation": "v",
         "showlegend": true,
         "textposition": "auto",
         "type": "bar",
         "x": [
          "CURIÑANCO"
         ],
         "xaxis": "x",
         "y": [
          2294
         ],
         "yaxis": "y"
        },
        {
         "alignmentgroup": "True",
         "hovertemplate": "Nombre Ubicación=%{x}<br>Beneficiarios=%{y}<extra></extra>",
         "legendgroup": "HUELLELHUE",
         "marker": {
          "color": "green",
          "pattern": {
           "shape": ""
          }
         },
         "name": "HUELLELHUE",
         "offsetgroup": "HUELLELHUE",
         "orientation": "v",
         "showlegend": true,
         "textposition": "auto",
         "type": "bar",
         "x": [
          "HUELLELHUE"
         ],
         "xaxis": "x",
         "y": [
          310
         ],
         "yaxis": "y"
        },
        {
         "alignmentgroup": "True",
         "hovertemplate": "Nombre Ubicación=%{x}<br>Beneficiarios=%{y}<extra></extra>",
         "legendgroup": "LAS GAVIOTAS",
         "marker": {
          "color": "red",
          "pattern": {
           "shape": ""
          }
         },
         "name": "LAS GAVIOTAS",
         "offsetgroup": "LAS GAVIOTAS",
         "orientation": "v",
         "showlegend": true,
         "textposition": "auto",
         "type": "bar",
         "x": [
          "LAS GAVIOTAS"
         ],
         "xaxis": "x",
         "y": [
          1048
         ],
         "yaxis": "y"
        },
        {
         "alignmentgroup": "True",
         "hovertemplate": "Nombre Ubicación=%{x}<br>Beneficiarios=%{y}<extra></extra>",
         "legendgroup": "NIEBLA-LOS MOLINOS",
         "marker": {
          "color": "purple",
          "pattern": {
           "shape": ""
          }
         },
         "name": "NIEBLA-LOS MOLINOS",
         "offsetgroup": "NIEBLA-LOS MOLINOS",
         "orientation": "v",
         "showlegend": true,
         "textposition": "auto",
         "type": "bar",
         "x": [
          "NIEBLA-LOS MOLINOS"
         ],
         "xaxis": "x",
         "y": [
          4021
         ],
         "yaxis": "y"
        },
        {
         "alignmentgroup": "True",
         "hovertemplate": "Nombre Ubicación=%{x}<br>Beneficiarios=%{y}<extra></extra>",
         "legendgroup": "PUNUCAPA",
         "marker": {
          "color": "orange",
          "pattern": {
           "shape": ""
          }
         },
         "name": "PUNUCAPA",
         "offsetgroup": "PUNUCAPA",
         "orientation": "v",
         "showlegend": true,
         "textposition": "auto",
         "type": "bar",
         "x": [
          "PUNUCAPA"
         ],
         "xaxis": "x",
         "y": [
          459
         ],
         "yaxis": "y"
        },
        {
         "alignmentgroup": "True",
         "hovertemplate": "Nombre Ubicación=%{x}<br>Beneficiarios=%{y}<extra></extra>",
         "legendgroup": "SAN IGNACIO-PLAYA ROSADA",
         "marker": {
          "color": "red",
          "pattern": {
           "shape": ""
          }
         },
         "name": "SAN IGNACIO-PLAYA ROSADA",
         "offsetgroup": "SAN IGNACIO-PLAYA ROSADA",
         "orientation": "v",
         "showlegend": true,
         "textposition": "auto",
         "type": "bar",
         "x": [
          "SAN IGNACIO-PLAYA ROSADA"
         ],
         "xaxis": "x",
         "y": [
          936
         ],
         "yaxis": "y"
        },
        {
         "alignmentgroup": "True",
         "hovertemplate": "Nombre Ubicación=%{x}<br>Beneficiarios=%{y}<extra></extra>",
         "legendgroup": "TRES ESPINOS",
         "marker": {
          "color": "red",
          "pattern": {
           "shape": ""
          }
         },
         "name": "TRES ESPINOS",
         "offsetgroup": "TRES ESPINOS",
         "orientation": "v",
         "showlegend": true,
         "textposition": "auto",
         "type": "bar",
         "x": [
          "TRES ESPINOS"
         ],
         "xaxis": "x",
         "y": [
          1091
         ],
         "yaxis": "y"
        },
        {
         "alignmentgroup": "True",
         "hovertemplate": "Nombre Ubicación=%{x}<br>Beneficiarios=%{y}<extra></extra>",
         "legendgroup": "VILLA CAYUMAPU",
         "marker": {
          "color": "purple",
          "pattern": {
           "shape": ""
          }
         },
         "name": "VILLA CAYUMAPU",
         "offsetgroup": "VILLA CAYUMAPU",
         "orientation": "v",
         "showlegend": true,
         "textposition": "auto",
         "type": "bar",
         "x": [
          "VILLA CAYUMAPU"
         ],
         "xaxis": "x",
         "y": [
          1327
         ],
         "yaxis": "y"
        },
        {
         "alignmentgroup": "True",
         "hovertemplate": "Nombre Ubicación=%{x}<br>Beneficiarios=%{y}<extra></extra>",
         "legendgroup": "EL ARENAL SANTA ELVIRA",
         "marker": {
          "color": "orange",
          "pattern": {
           "shape": ""
          }
         },
         "name": "EL ARENAL SANTA ELVIRA",
         "offsetgroup": "EL ARENAL SANTA ELVIRA",
         "orientation": "v",
         "showlegend": true,
         "textposition": "auto",
         "type": "bar",
         "x": [
          "EL ARENAL SANTA ELVIRA"
         ],
         "xaxis": "x",
         "y": [
          549
         ],
         "yaxis": "y"
        },
        {
         "alignmentgroup": "True",
         "hovertemplate": "Nombre Ubicación=%{x}<br>Beneficiarios=%{y}<extra></extra>",
         "legendgroup": "PAILLAO",
         "marker": {
          "color": "red",
          "pattern": {
           "shape": ""
          }
         },
         "name": "PAILLAO",
         "offsetgroup": "PAILLAO",
         "orientation": "v",
         "showlegend": true,
         "textposition": "auto",
         "type": "bar",
         "x": [
          "PAILLAO"
         ],
         "xaxis": "x",
         "y": [
          871
         ],
         "yaxis": "y"
        },
        {
         "alignmentgroup": "True",
         "hovertemplate": "Nombre Ubicación=%{x}<br>Beneficiarios=%{y}<extra></extra>",
         "legendgroup": "CABO BLANCO",
         "marker": {
          "color": "orange",
          "pattern": {
           "shape": ""
          }
         },
         "name": "CABO BLANCO",
         "offsetgroup": "CABO BLANCO",
         "orientation": "v",
         "showlegend": true,
         "textposition": "auto",
         "type": "bar",
         "x": [
          "CABO BLANCO"
         ],
         "xaxis": "x",
         "y": [
          543
         ],
         "yaxis": "y"
        },
        {
         "alignmentgroup": "True",
         "hovertemplate": "Nombre Ubicación=%{x}<br>Beneficiarios=%{y}<extra></extra>",
         "legendgroup": "EL ARENAL KM 2",
         "marker": {
          "color": "orange",
          "pattern": {
           "shape": ""
          }
         },
         "name": "EL ARENAL KM 2",
         "offsetgroup": "EL ARENAL KM 2",
         "orientation": "v",
         "showlegend": true,
         "textposition": "auto",
         "type": "bar",
         "x": [
          "EL ARENAL KM 2"
         ],
         "xaxis": "x",
         "y": [
          623
         ],
         "yaxis": "y"
        },
        {
         "alignmentgroup": "True",
         "hovertemplate": "Nombre Ubicación=%{x}<br>Beneficiarios=%{y}<extra></extra>",
         "legendgroup": "Chabelita",
         "marker": {
          "color": "orange",
          "pattern": {
           "shape": ""
          }
         },
         "name": "Chabelita",
         "offsetgroup": "Chabelita",
         "orientation": "v",
         "showlegend": true,
         "textposition": "auto",
         "type": "bar",
         "x": [
          "Chabelita"
         ],
         "xaxis": "x",
         "y": [
          434
         ],
         "yaxis": "y"
        },
        {
         "alignmentgroup": "True",
         "hovertemplate": "Nombre Ubicación=%{x}<br>Beneficiarios=%{y}<extra></extra>",
         "legendgroup": "ARCO IRIS",
         "marker": {
          "color": "green",
          "pattern": {
           "shape": ""
          }
         },
         "name": "ARCO IRIS",
         "offsetgroup": "ARCO IRIS",
         "orientation": "v",
         "showlegend": true,
         "textposition": "auto",
         "type": "bar",
         "x": [
          "ARCO IRIS"
         ],
         "xaxis": "x",
         "y": [
          394
         ],
         "yaxis": "y"
        },
        {
         "alignmentgroup": "True",
         "hovertemplate": "Nombre Ubicación=%{x}<br>Beneficiarios=%{y}<extra></extra>",
         "legendgroup": "EL LLOLLY",
         "marker": {
          "color": "green",
          "pattern": {
           "shape": ""
          }
         },
         "name": "EL LLOLLY",
         "offsetgroup": "EL LLOLLY",
         "orientation": "v",
         "showlegend": true,
         "textposition": "auto",
         "type": "bar",
         "x": [
          "EL LLOLLY"
         ],
         "xaxis": "x",
         "y": [
          428
         ],
         "yaxis": "y"
        },
        {
         "alignmentgroup": "True",
         "hovertemplate": "Nombre Ubicación=%{x}<br>Beneficiarios=%{y}<extra></extra>",
         "legendgroup": "PICHIRROPULLI",
         "marker": {
          "color": "red",
          "pattern": {
           "shape": ""
          }
         },
         "name": "PICHIRROPULLI",
         "offsetgroup": "PICHIRROPULLI",
         "orientation": "v",
         "showlegend": true,
         "textposition": "auto",
         "type": "bar",
         "x": [
          "PICHIRROPULLI"
         ],
         "xaxis": "x",
         "y": [
          1079
         ],
         "yaxis": "y"
        },
        {
         "alignmentgroup": "True",
         "hovertemplate": "Nombre Ubicación=%{x}<br>Beneficiarios=%{y}<extra></extra>",
         "legendgroup": "REUMEN",
         "marker": {
          "color": "purple",
          "pattern": {
           "shape": ""
          }
         },
         "name": "REUMEN",
         "offsetgroup": "REUMEN",
         "orientation": "v",
         "showlegend": true,
         "textposition": "auto",
         "type": "bar",
         "x": [
          "REUMEN"
         ],
         "xaxis": "x",
         "y": [
          1442
         ],
         "yaxis": "y"
        },
        {
         "alignmentgroup": "True",
         "hovertemplate": "Nombre Ubicación=%{x}<br>Beneficiarios=%{y}<extra></extra>",
         "legendgroup": "SANTA FILOMENA",
         "marker": {
          "color": "green",
          "pattern": {
           "shape": ""
          }
         },
         "name": "SANTA FILOMENA",
         "offsetgroup": "SANTA FILOMENA",
         "orientation": "v",
         "showlegend": true,
         "textposition": "auto",
         "type": "bar",
         "x": [
          "SANTA FILOMENA"
         ],
         "xaxis": "x",
         "y": [
          403
         ],
         "yaxis": "y"
        },
        {
         "alignmentgroup": "True",
         "hovertemplate": "Nombre Ubicación=%{x}<br>Beneficiarios=%{y}<extra></extra>",
         "legendgroup": "MANAO",
         "marker": {
          "color": "blue",
          "pattern": {
           "shape": ""
          }
         },
         "name": "MANAO",
         "offsetgroup": "MANAO",
         "orientation": "v",
         "showlegend": true,
         "textposition": "auto",
         "type": "bar",
         "x": [
          "MANAO"
         ],
         "xaxis": "x",
         "y": [
          220
         ],
         "yaxis": "y"
        },
        {
         "alignmentgroup": "True",
         "hovertemplate": "Nombre Ubicación=%{x}<br>Beneficiarios=%{y}<extra></extra>",
         "legendgroup": "SANTA ROSA CHICA",
         "marker": {
          "color": "green",
          "pattern": {
           "shape": ""
          }
         },
         "name": "SANTA ROSA CHICA",
         "offsetgroup": "SANTA ROSA CHICA",
         "orientation": "v",
         "showlegend": true,
         "textposition": "auto",
         "type": "bar",
         "x": [
          "SANTA ROSA CHICA"
         ],
         "xaxis": "x",
         "y": [
          394
         ],
         "yaxis": "y"
        },
        {
         "alignmentgroup": "True",
         "hovertemplate": "Nombre Ubicación=%{x}<br>Beneficiarios=%{y}<extra></extra>",
         "legendgroup": "SANTA ROSA GRANDE",
         "marker": {
          "color": "green",
          "pattern": {
           "shape": ""
          }
         },
         "name": "SANTA ROSA GRANDE",
         "offsetgroup": "SANTA ROSA GRANDE",
         "orientation": "v",
         "showlegend": true,
         "textposition": "auto",
         "type": "bar",
         "x": [
          "SANTA ROSA GRANDE"
         ],
         "xaxis": "x",
         "y": [
          319
         ],
         "yaxis": "y"
        },
        {
         "alignmentgroup": "True",
         "hovertemplate": "Nombre Ubicación=%{x}<br>Beneficiarios=%{y}<extra></extra>",
         "legendgroup": "LUMACO PAILLACO",
         "marker": {
          "color": "orange",
          "pattern": {
           "shape": ""
          }
         },
         "name": "LUMACO PAILLACO",
         "offsetgroup": "LUMACO PAILLACO",
         "orientation": "v",
         "showlegend": true,
         "textposition": "auto",
         "type": "bar",
         "x": [
          "LUMACO PAILLACO"
         ],
         "xaxis": "x",
         "y": [
          710
         ],
         "yaxis": "y"
        },
        {
         "alignmentgroup": "True",
         "hovertemplate": "Nombre Ubicación=%{x}<br>Beneficiarios=%{y}<extra></extra>",
         "legendgroup": "EL MAITEN",
         "marker": {
          "color": "blue",
          "pattern": {
           "shape": ""
          }
         },
         "name": "EL MAITEN",
         "offsetgroup": "EL MAITEN",
         "orientation": "v",
         "showlegend": true,
         "textposition": "auto",
         "type": "bar",
         "x": [
          "EL MAITEN"
         ],
         "xaxis": "x",
         "y": [
          155
         ],
         "yaxis": "y"
        },
        {
         "alignmentgroup": "True",
         "hovertemplate": "Nombre Ubicación=%{x}<br>Beneficiarios=%{y}<extra></extra>",
         "legendgroup": "SANTA FILOMENA II",
         "marker": {
          "color": "blue",
          "pattern": {
           "shape": ""
          }
         },
         "name": "SANTA FILOMENA II",
         "offsetgroup": "SANTA FILOMENA II",
         "orientation": "v",
         "showlegend": true,
         "textposition": "auto",
         "type": "bar",
         "x": [
          "SANTA FILOMENA II"
         ],
         "xaxis": "x",
         "y": [
          211
         ],
         "yaxis": "y"
        },
        {
         "alignmentgroup": "True",
         "hovertemplate": "Nombre Ubicación=%{x}<br>Beneficiarios=%{y}<extra></extra>",
         "legendgroup": "ANTILHUE",
         "marker": {
          "color": "purple",
          "pattern": {
           "shape": ""
          }
         },
         "name": "ANTILHUE",
         "offsetgroup": "ANTILHUE",
         "orientation": "v",
         "showlegend": true,
         "textposition": "auto",
         "type": "bar",
         "x": [
          "ANTILHUE"
         ],
         "xaxis": "x",
         "y": [
          1414
         ],
         "yaxis": "y"
        },
        {
         "alignmentgroup": "True",
         "hovertemplate": "Nombre Ubicación=%{x}<br>Beneficiarios=%{y}<extra></extra>",
         "legendgroup": "FOLILCO LOS LAGOS",
         "marker": {
          "color": "orange",
          "pattern": {
           "shape": ""
          }
         },
         "name": "FOLILCO LOS LAGOS",
         "offsetgroup": "FOLILCO LOS LAGOS",
         "orientation": "v",
         "showlegend": true,
         "textposition": "auto",
         "type": "bar",
         "x": [
          "FOLILCO LOS LAGOS"
         ],
         "xaxis": "x",
         "y": [
          474
         ],
         "yaxis": "y"
        },
        {
         "alignmentgroup": "True",
         "hovertemplate": "Nombre Ubicación=%{x}<br>Beneficiarios=%{y}<extra></extra>",
         "legendgroup": "QUILQUILCO",
         "marker": {
          "color": "blue",
          "pattern": {
           "shape": ""
          }
         },
         "name": "QUILQUILCO",
         "offsetgroup": "QUILQUILCO",
         "orientation": "v",
         "showlegend": true,
         "textposition": "auto",
         "type": "bar",
         "x": [
          "QUILQUILCO"
         ],
         "xaxis": "x",
         "y": [
          149
         ],
         "yaxis": "y"
        },
        {
         "alignmentgroup": "True",
         "hovertemplate": "Nombre Ubicación=%{x}<br>Beneficiarios=%{y}<extra></extra>",
         "legendgroup": "RIÑIHUE",
         "marker": {
          "color": "blue",
          "pattern": {
           "shape": ""
          }
         },
         "name": "RIÑIHUE",
         "offsetgroup": "RIÑIHUE",
         "orientation": "v",
         "showlegend": true,
         "textposition": "auto",
         "type": "bar",
         "x": [
          "RIÑIHUE"
         ],
         "xaxis": "x",
         "y": [
          208
         ],
         "yaxis": "y"
        },
        {
         "alignmentgroup": "True",
         "hovertemplate": "Nombre Ubicación=%{x}<br>Beneficiarios=%{y}<extra></extra>",
         "legendgroup": "USTARITZ",
         "marker": {
          "color": "orange",
          "pattern": {
           "shape": ""
          }
         },
         "name": "USTARITZ",
         "offsetgroup": "USTARITZ",
         "orientation": "v",
         "showlegend": true,
         "textposition": "auto",
         "type": "bar",
         "x": [
          "USTARITZ"
         ],
         "xaxis": "x",
         "y": [
          434
         ],
         "yaxis": "y"
        },
        {
         "alignmentgroup": "True",
         "hovertemplate": "Nombre Ubicación=%{x}<br>Beneficiarios=%{y}<extra></extra>",
         "legendgroup": "EL SALTO",
         "marker": {
          "color": "orange",
          "pattern": {
           "shape": ""
          }
         },
         "name": "EL SALTO",
         "offsetgroup": "EL SALTO",
         "orientation": "v",
         "showlegend": true,
         "textposition": "auto",
         "type": "bar",
         "x": [
          "EL SALTO"
         ],
         "xaxis": "x",
         "y": [
          592
         ],
         "yaxis": "y"
        },
        {
         "alignmentgroup": "True",
         "hovertemplate": "Nombre Ubicación=%{x}<br>Beneficiarios=%{y}<extra></extra>",
         "legendgroup": "PELLINADA LAS QUINIENTAS",
         "marker": {
          "color": "orange",
          "pattern": {
           "shape": ""
          }
         },
         "name": "PELLINADA LAS QUINIENTAS",
         "offsetgroup": "PELLINADA LAS QUINIENTAS",
         "orientation": "v",
         "showlegend": true,
         "textposition": "auto",
         "type": "bar",
         "x": [
          "PELLINADA LAS QUINIENTAS"
         ],
         "xaxis": "x",
         "y": [
          434
         ],
         "yaxis": "y"
        },
        {
         "alignmentgroup": "True",
         "hovertemplate": "Nombre Ubicación=%{x}<br>Beneficiarios=%{y}<extra></extra>",
         "legendgroup": "PANCUL",
         "marker": {
          "color": "orange",
          "pattern": {
           "shape": ""
          }
         },
         "name": "PANCUL",
         "offsetgroup": "PANCUL",
         "orientation": "v",
         "showlegend": true,
         "textposition": "auto",
         "type": "bar",
         "x": [
          "PANCUL"
         ],
         "xaxis": "x",
         "y": [
          729
         ],
         "yaxis": "y"
        },
        {
         "alignmentgroup": "True",
         "hovertemplate": "Nombre Ubicación=%{x}<br>Beneficiarios=%{y}<extra></extra>",
         "legendgroup": "LOS COLIGÜES",
         "marker": {
          "color": "orange",
          "pattern": {
           "shape": ""
          }
         },
         "name": "LOS COLIGÜES",
         "offsetgroup": "LOS COLIGÜES",
         "orientation": "v",
         "showlegend": true,
         "textposition": "auto",
         "type": "bar",
         "x": [
          "LOS COLIGÜES"
         ],
         "xaxis": "x",
         "y": [
          456
         ],
         "yaxis": "y"
        },
        {
         "alignmentgroup": "True",
         "hovertemplate": "Nombre Ubicación=%{x}<br>Beneficiarios=%{y}<extra></extra>",
         "legendgroup": "COLO COLO",
         "marker": {
          "color": "green",
          "pattern": {
           "shape": ""
          }
         },
         "name": "COLO COLO",
         "offsetgroup": "COLO COLO",
         "orientation": "v",
         "showlegend": true,
         "textposition": "auto",
         "type": "bar",
         "x": [
          "COLO COLO"
         ],
         "xaxis": "x",
         "y": [
          298
         ],
         "yaxis": "y"
        },
        {
         "alignmentgroup": "True",
         "hovertemplate": "Nombre Ubicación=%{x}<br>Beneficiarios=%{y}<extra></extra>",
         "legendgroup": "LAS HUELLLAS",
         "marker": {
          "color": "blue",
          "pattern": {
           "shape": ""
          }
         },
         "name": "LAS HUELLLAS",
         "offsetgroup": "LAS HUELLLAS",
         "orientation": "v",
         "showlegend": true,
         "textposition": "auto",
         "type": "bar",
         "x": [
          "LAS HUELLLAS"
         ],
         "xaxis": "x",
         "y": [
          276
         ],
         "yaxis": "y"
        },
        {
         "alignmentgroup": "True",
         "hovertemplate": "Nombre Ubicación=%{x}<br>Beneficiarios=%{y}<extra></extra>",
         "legendgroup": "San Pedro",
         "marker": {
          "color": "green",
          "pattern": {
           "shape": ""
          }
         },
         "name": "San Pedro",
         "offsetgroup": "San Pedro",
         "orientation": "v",
         "showlegend": true,
         "textposition": "auto",
         "type": "bar",
         "x": [
          "San Pedro"
         ],
         "xaxis": "x",
         "y": [
          375
         ],
         "yaxis": "y"
        },
        {
         "alignmentgroup": "True",
         "hovertemplate": "Nombre Ubicación=%{x}<br>Beneficiarios=%{y}<extra></extra>",
         "legendgroup": "Lipingue",
         "marker": {
          "color": "orange",
          "pattern": {
           "shape": ""
          }
         },
         "name": "Lipingue",
         "offsetgroup": "Lipingue",
         "orientation": "v",
         "showlegend": true,
         "textposition": "auto",
         "type": "bar",
         "x": [
          "Lipingue"
         ],
         "xaxis": "x",
         "y": [
          434
         ],
         "yaxis": "y"
        },
        {
         "alignmentgroup": "True",
         "hovertemplate": "Nombre Ubicación=%{x}<br>Beneficiarios=%{y}<extra></extra>",
         "legendgroup": "El Trebol",
         "marker": {
          "color": "blue",
          "pattern": {
           "shape": ""
          }
         },
         "name": "El Trebol",
         "offsetgroup": "El Trebol",
         "orientation": "v",
         "showlegend": true,
         "textposition": "auto",
         "type": "bar",
         "x": [
          "El Trebol"
         ],
         "xaxis": "x",
         "y": [
          208
         ],
         "yaxis": "y"
        },
        {
         "alignmentgroup": "True",
         "hovertemplate": "Nombre Ubicación=%{x}<br>Beneficiarios=%{y}<extra></extra>",
         "legendgroup": "Collico Sur",
         "marker": {
          "color": "blue",
          "pattern": {
           "shape": ""
          }
         },
         "name": "Collico Sur",
         "offsetgroup": "Collico Sur",
         "orientation": "v",
         "showlegend": true,
         "textposition": "auto",
         "type": "bar",
         "x": [
          "Collico Sur"
         ],
         "xaxis": "x",
         "y": [
          236
         ],
         "yaxis": "y"
        },
        {
         "alignmentgroup": "True",
         "hovertemplate": "Nombre Ubicación=%{x}<br>Beneficiarios=%{y}<extra></extra>",
         "legendgroup": "Mi Tierra",
         "marker": {
          "color": "blue",
          "pattern": {
           "shape": ""
          }
         },
         "name": "Mi Tierra",
         "offsetgroup": "Mi Tierra",
         "orientation": "v",
         "showlegend": true,
         "textposition": "auto",
         "type": "bar",
         "x": [
          "Mi Tierra"
         ],
         "xaxis": "x",
         "y": [
          71
         ],
         "yaxis": "y"
        },
        {
         "alignmentgroup": "True",
         "hovertemplate": "Nombre Ubicación=%{x}<br>Beneficiarios=%{y}<extra></extra>",
         "legendgroup": "Puñaco",
         "marker": {
          "color": "blue",
          "pattern": {
           "shape": ""
          }
         },
         "name": "Puñaco",
         "offsetgroup": "Puñaco",
         "orientation": "v",
         "showlegend": true,
         "textposition": "auto",
         "type": "bar",
         "x": [
          "Puñaco"
         ],
         "xaxis": "x",
         "y": [
          81
         ],
         "yaxis": "y"
        },
        {
         "alignmentgroup": "True",
         "hovertemplate": "Nombre Ubicación=%{x}<br>Beneficiarios=%{y}<extra></extra>",
         "legendgroup": "Purey",
         "marker": {
          "color": "blue",
          "pattern": {
           "shape": ""
          }
         },
         "name": "Purey",
         "offsetgroup": "Purey",
         "orientation": "v",
         "showlegend": true,
         "textposition": "auto",
         "type": "bar",
         "x": [
          "Purey"
         ],
         "xaxis": "x",
         "y": [
          78
         ],
         "yaxis": "y"
        },
        {
         "alignmentgroup": "True",
         "hovertemplate": "Nombre Ubicación=%{x}<br>Beneficiarios=%{y}<extra></extra>",
         "legendgroup": "AMARGO-SAN CARLOS",
         "marker": {
          "color": "purple",
          "pattern": {
           "shape": ""
          }
         },
         "name": "AMARGO-SAN CARLOS",
         "offsetgroup": "AMARGO-SAN CARLOS",
         "orientation": "v",
         "showlegend": true,
         "textposition": "auto",
         "type": "bar",
         "x": [
          "AMARGO-SAN CARLOS"
         ],
         "xaxis": "x",
         "y": [
          2412
         ],
         "yaxis": "y"
        },
        {
         "alignmentgroup": "True",
         "hovertemplate": "Nombre Ubicación=%{x}<br>Beneficiarios=%{y}<extra></extra>",
         "legendgroup": "ISLA DEL REY",
         "marker": {
          "color": "orange",
          "pattern": {
           "shape": ""
          }
         },
         "name": "ISLA DEL REY",
         "offsetgroup": "ISLA DEL REY",
         "orientation": "v",
         "showlegend": true,
         "textposition": "auto",
         "type": "bar",
         "x": [
          "ISLA DEL REY"
         ],
         "xaxis": "x",
         "y": [
          620
         ],
         "yaxis": "y"
        },
        {
         "alignmentgroup": "True",
         "hovertemplate": "Nombre Ubicación=%{x}<br>Beneficiarios=%{y}<extra></extra>",
         "legendgroup": "ISLA MANCERA",
         "marker": {
          "color": "blue",
          "pattern": {
           "shape": ""
          }
         },
         "name": "ISLA MANCERA",
         "offsetgroup": "ISLA MANCERA",
         "orientation": "v",
         "showlegend": true,
         "textposition": "auto",
         "type": "bar",
         "x": [
          "ISLA MANCERA"
         ],
         "xaxis": "x",
         "y": [
          267
         ],
         "yaxis": "y"
        },
        {
         "alignmentgroup": "True",
         "hovertemplate": "Nombre Ubicación=%{x}<br>Beneficiarios=%{y}<extra></extra>",
         "legendgroup": "LA AGUADA",
         "marker": {
          "color": "orange",
          "pattern": {
           "shape": ""
          }
         },
         "name": "LA AGUADA",
         "offsetgroup": "LA AGUADA",
         "orientation": "v",
         "showlegend": true,
         "textposition": "auto",
         "type": "bar",
         "x": [
          "LA AGUADA"
         ],
         "xaxis": "x",
         "y": [
          626
         ],
         "yaxis": "y"
        },
        {
         "alignmentgroup": "True",
         "hovertemplate": "Nombre Ubicación=%{x}<br>Beneficiarios=%{y}<extra></extra>",
         "legendgroup": "CHAIHUIN",
         "marker": {
          "color": "red",
          "pattern": {
           "shape": ""
          }
         },
         "name": "CHAIHUIN",
         "offsetgroup": "CHAIHUIN",
         "orientation": "v",
         "showlegend": true,
         "textposition": "auto",
         "type": "bar",
         "x": [
          "CHAIHUIN"
         ],
         "xaxis": "x",
         "y": [
          744
         ],
         "yaxis": "y"
        },
        {
         "alignmentgroup": "True",
         "hovertemplate": "Nombre Ubicación=%{x}<br>Beneficiarios=%{y}<extra></extra>",
         "legendgroup": "CERROS DE CORRAL",
         "marker": {
          "color": "orange",
          "pattern": {
           "shape": ""
          }
         },
         "name": "CERROS DE CORRAL",
         "offsetgroup": "CERROS DE CORRAL",
         "orientation": "v",
         "showlegend": true,
         "textposition": "auto",
         "type": "bar",
         "x": [
          "CERROS DE CORRAL"
         ],
         "xaxis": "x",
         "y": [
          484
         ],
         "yaxis": "y"
        }
       ],
       "layout": {
        "autosize": true,
        "barmode": "relative",
        "legend": {
         "title": {
          "text": "Nombre Ubicación"
         },
         "tracegroupgap": 0
        },
        "template": {
         "data": {
          "bar": [
           {
            "error_x": {
             "color": "#2a3f5f"
            },
            "error_y": {
             "color": "#2a3f5f"
            },
            "marker": {
             "line": {
              "color": "#E5ECF6",
              "width": 0.5
             },
             "pattern": {
              "fillmode": "overlay",
              "size": 10,
              "solidity": 0.2
             }
            },
            "type": "bar"
           }
          ],
          "barpolar": [
           {
            "marker": {
             "line": {
              "color": "#E5ECF6",
              "width": 0.5
             },
             "pattern": {
              "fillmode": "overlay",
              "size": 10,
              "solidity": 0.2
             }
            },
            "type": "barpolar"
           }
          ],
          "carpet": [
           {
            "aaxis": {
             "endlinecolor": "#2a3f5f",
             "gridcolor": "white",
             "linecolor": "white",
             "minorgridcolor": "white",
             "startlinecolor": "#2a3f5f"
            },
            "baxis": {
             "endlinecolor": "#2a3f5f",
             "gridcolor": "white",
             "linecolor": "white",
             "minorgridcolor": "white",
             "startlinecolor": "#2a3f5f"
            },
            "type": "carpet"
           }
          ],
          "choropleth": [
           {
            "colorbar": {
             "outlinewidth": 0,
             "ticks": ""
            },
            "type": "choropleth"
           }
          ],
          "contour": [
           {
            "colorbar": {
             "outlinewidth": 0,
             "ticks": ""
            },
            "colorscale": [
             [
              0,
              "#0d0887"
             ],
             [
              0.1111111111111111,
              "#46039f"
             ],
             [
              0.2222222222222222,
              "#7201a8"
             ],
             [
              0.3333333333333333,
              "#9c179e"
             ],
             [
              0.4444444444444444,
              "#bd3786"
             ],
             [
              0.5555555555555556,
              "#d8576b"
             ],
             [
              0.6666666666666666,
              "#ed7953"
             ],
             [
              0.7777777777777778,
              "#fb9f3a"
             ],
             [
              0.8888888888888888,
              "#fdca26"
             ],
             [
              1,
              "#f0f921"
             ]
            ],
            "type": "contour"
           }
          ],
          "contourcarpet": [
           {
            "colorbar": {
             "outlinewidth": 0,
             "ticks": ""
            },
            "type": "contourcarpet"
           }
          ],
          "heatmap": [
           {
            "colorbar": {
             "outlinewidth": 0,
             "ticks": ""
            },
            "colorscale": [
             [
              0,
              "#0d0887"
             ],
             [
              0.1111111111111111,
              "#46039f"
             ],
             [
              0.2222222222222222,
              "#7201a8"
             ],
             [
              0.3333333333333333,
              "#9c179e"
             ],
             [
              0.4444444444444444,
              "#bd3786"
             ],
             [
              0.5555555555555556,
              "#d8576b"
             ],
             [
              0.6666666666666666,
              "#ed7953"
             ],
             [
              0.7777777777777778,
              "#fb9f3a"
             ],
             [
              0.8888888888888888,
              "#fdca26"
             ],
             [
              1,
              "#f0f921"
             ]
            ],
            "type": "heatmap"
           }
          ],
          "heatmapgl": [
           {
            "colorbar": {
             "outlinewidth": 0,
             "ticks": ""
            },
            "colorscale": [
             [
              0,
              "#0d0887"
             ],
             [
              0.1111111111111111,
              "#46039f"
             ],
             [
              0.2222222222222222,
              "#7201a8"
             ],
             [
              0.3333333333333333,
              "#9c179e"
             ],
             [
              0.4444444444444444,
              "#bd3786"
             ],
             [
              0.5555555555555556,
              "#d8576b"
             ],
             [
              0.6666666666666666,
              "#ed7953"
             ],
             [
              0.7777777777777778,
              "#fb9f3a"
             ],
             [
              0.8888888888888888,
              "#fdca26"
             ],
             [
              1,
              "#f0f921"
             ]
            ],
            "type": "heatmapgl"
           }
          ],
          "histogram": [
           {
            "marker": {
             "pattern": {
              "fillmode": "overlay",
              "size": 10,
              "solidity": 0.2
             }
            },
            "type": "histogram"
           }
          ],
          "histogram2d": [
           {
            "colorbar": {
             "outlinewidth": 0,
             "ticks": ""
            },
            "colorscale": [
             [
              0,
              "#0d0887"
             ],
             [
              0.1111111111111111,
              "#46039f"
             ],
             [
              0.2222222222222222,
              "#7201a8"
             ],
             [
              0.3333333333333333,
              "#9c179e"
             ],
             [
              0.4444444444444444,
              "#bd3786"
             ],
             [
              0.5555555555555556,
              "#d8576b"
             ],
             [
              0.6666666666666666,
              "#ed7953"
             ],
             [
              0.7777777777777778,
              "#fb9f3a"
             ],
             [
              0.8888888888888888,
              "#fdca26"
             ],
             [
              1,
              "#f0f921"
             ]
            ],
            "type": "histogram2d"
           }
          ],
          "histogram2dcontour": [
           {
            "colorbar": {
             "outlinewidth": 0,
             "ticks": ""
            },
            "colorscale": [
             [
              0,
              "#0d0887"
             ],
             [
              0.1111111111111111,
              "#46039f"
             ],
             [
              0.2222222222222222,
              "#7201a8"
             ],
             [
              0.3333333333333333,
              "#9c179e"
             ],
             [
              0.4444444444444444,
              "#bd3786"
             ],
             [
              0.5555555555555556,
              "#d8576b"
             ],
             [
              0.6666666666666666,
              "#ed7953"
             ],
             [
              0.7777777777777778,
              "#fb9f3a"
             ],
             [
              0.8888888888888888,
              "#fdca26"
             ],
             [
              1,
              "#f0f921"
             ]
            ],
            "type": "histogram2dcontour"
           }
          ],
          "mesh3d": [
           {
            "colorbar": {
             "outlinewidth": 0,
             "ticks": ""
            },
            "type": "mesh3d"
           }
          ],
          "parcoords": [
           {
            "line": {
             "colorbar": {
              "outlinewidth": 0,
              "ticks": ""
             }
            },
            "type": "parcoords"
           }
          ],
          "pie": [
           {
            "automargin": true,
            "type": "pie"
           }
          ],
          "scatter": [
           {
            "fillpattern": {
             "fillmode": "overlay",
             "size": 10,
             "solidity": 0.2
            },
            "type": "scatter"
           }
          ],
          "scatter3d": [
           {
            "line": {
             "colorbar": {
              "outlinewidth": 0,
              "ticks": ""
             }
            },
            "marker": {
             "colorbar": {
              "outlinewidth": 0,
              "ticks": ""
             }
            },
            "type": "scatter3d"
           }
          ],
          "scattercarpet": [
           {
            "marker": {
             "colorbar": {
              "outlinewidth": 0,
              "ticks": ""
             }
            },
            "type": "scattercarpet"
           }
          ],
          "scattergeo": [
           {
            "marker": {
             "colorbar": {
              "outlinewidth": 0,
              "ticks": ""
             }
            },
            "type": "scattergeo"
           }
          ],
          "scattergl": [
           {
            "marker": {
             "colorbar": {
              "outlinewidth": 0,
              "ticks": ""
             }
            },
            "type": "scattergl"
           }
          ],
          "scattermapbox": [
           {
            "marker": {
             "colorbar": {
              "outlinewidth": 0,
              "ticks": ""
             }
            },
            "type": "scattermapbox"
           }
          ],
          "scatterpolar": [
           {
            "marker": {
             "colorbar": {
              "outlinewidth": 0,
              "ticks": ""
             }
            },
            "type": "scatterpolar"
           }
          ],
          "scatterpolargl": [
           {
            "marker": {
             "colorbar": {
              "outlinewidth": 0,
              "ticks": ""
             }
            },
            "type": "scatterpolargl"
           }
          ],
          "scatterternary": [
           {
            "marker": {
             "colorbar": {
              "outlinewidth": 0,
              "ticks": ""
             }
            },
            "type": "scatterternary"
           }
          ],
          "surface": [
           {
            "colorbar": {
             "outlinewidth": 0,
             "ticks": ""
            },
            "colorscale": [
             [
              0,
              "#0d0887"
             ],
             [
              0.1111111111111111,
              "#46039f"
             ],
             [
              0.2222222222222222,
              "#7201a8"
             ],
             [
              0.3333333333333333,
              "#9c179e"
             ],
             [
              0.4444444444444444,
              "#bd3786"
             ],
             [
              0.5555555555555556,
              "#d8576b"
             ],
             [
              0.6666666666666666,
              "#ed7953"
             ],
             [
              0.7777777777777778,
              "#fb9f3a"
             ],
             [
              0.8888888888888888,
              "#fdca26"
             ],
             [
              1,
              "#f0f921"
             ]
            ],
            "type": "surface"
           }
          ],
          "table": [
           {
            "cells": {
             "fill": {
              "color": "#EBF0F8"
             },
             "line": {
              "color": "white"
             }
            },
            "header": {
             "fill": {
              "color": "#C8D4E3"
             },
             "line": {
              "color": "white"
             }
            },
            "type": "table"
           }
          ]
         },
         "layout": {
          "annotationdefaults": {
           "arrowcolor": "#2a3f5f",
           "arrowhead": 0,
           "arrowwidth": 1
          },
          "autotypenumbers": "strict",
          "coloraxis": {
           "colorbar": {
            "outlinewidth": 0,
            "ticks": ""
           }
          },
          "colorscale": {
           "diverging": [
            [
             0,
             "#8e0152"
            ],
            [
             0.1,
             "#c51b7d"
            ],
            [
             0.2,
             "#de77ae"
            ],
            [
             0.3,
             "#f1b6da"
            ],
            [
             0.4,
             "#fde0ef"
            ],
            [
             0.5,
             "#f7f7f7"
            ],
            [
             0.6,
             "#e6f5d0"
            ],
            [
             0.7,
             "#b8e186"
            ],
            [
             0.8,
             "#7fbc41"
            ],
            [
             0.9,
             "#4d9221"
            ],
            [
             1,
             "#276419"
            ]
           ],
           "sequential": [
            [
             0,
             "#0d0887"
            ],
            [
             0.1111111111111111,
             "#46039f"
            ],
            [
             0.2222222222222222,
             "#7201a8"
            ],
            [
             0.3333333333333333,
             "#9c179e"
            ],
            [
             0.4444444444444444,
             "#bd3786"
            ],
            [
             0.5555555555555556,
             "#d8576b"
            ],
            [
             0.6666666666666666,
             "#ed7953"
            ],
            [
             0.7777777777777778,
             "#fb9f3a"
            ],
            [
             0.8888888888888888,
             "#fdca26"
            ],
            [
             1,
             "#f0f921"
            ]
           ],
           "sequentialminus": [
            [
             0,
             "#0d0887"
            ],
            [
             0.1111111111111111,
             "#46039f"
            ],
            [
             0.2222222222222222,
             "#7201a8"
            ],
            [
             0.3333333333333333,
             "#9c179e"
            ],
            [
             0.4444444444444444,
             "#bd3786"
            ],
            [
             0.5555555555555556,
             "#d8576b"
            ],
            [
             0.6666666666666666,
             "#ed7953"
            ],
            [
             0.7777777777777778,
             "#fb9f3a"
            ],
            [
             0.8888888888888888,
             "#fdca26"
            ],
            [
             1,
             "#f0f921"
            ]
           ]
          },
          "colorway": [
           "#636efa",
           "#EF553B",
           "#00cc96",
           "#ab63fa",
           "#FFA15A",
           "#19d3f3",
           "#FF6692",
           "#B6E880",
           "#FF97FF",
           "#FECB52"
          ],
          "font": {
           "color": "#2a3f5f"
          },
          "geo": {
           "bgcolor": "white",
           "lakecolor": "white",
           "landcolor": "#E5ECF6",
           "showlakes": true,
           "showland": true,
           "subunitcolor": "white"
          },
          "hoverlabel": {
           "align": "left"
          },
          "hovermode": "closest",
          "mapbox": {
           "style": "light"
          },
          "paper_bgcolor": "white",
          "plot_bgcolor": "#E5ECF6",
          "polar": {
           "angularaxis": {
            "gridcolor": "white",
            "linecolor": "white",
            "ticks": ""
           },
           "bgcolor": "#E5ECF6",
           "radialaxis": {
            "gridcolor": "white",
            "linecolor": "white",
            "ticks": ""
           }
          },
          "scene": {
           "xaxis": {
            "backgroundcolor": "#E5ECF6",
            "gridcolor": "white",
            "gridwidth": 2,
            "linecolor": "white",
            "showbackground": true,
            "ticks": "",
            "zerolinecolor": "white"
           },
           "yaxis": {
            "backgroundcolor": "#E5ECF6",
            "gridcolor": "white",
            "gridwidth": 2,
            "linecolor": "white",
            "showbackground": true,
            "ticks": "",
            "zerolinecolor": "white"
           },
           "zaxis": {
            "backgroundcolor": "#E5ECF6",
            "gridcolor": "white",
            "gridwidth": 2,
            "linecolor": "white",
            "showbackground": true,
            "ticks": "",
            "zerolinecolor": "white"
           }
          },
          "shapedefaults": {
           "line": {
            "color": "#2a3f5f"
           }
          },
          "ternary": {
           "aaxis": {
            "gridcolor": "white",
            "linecolor": "white",
            "ticks": ""
           },
           "baxis": {
            "gridcolor": "white",
            "linecolor": "white",
            "ticks": ""
           },
           "bgcolor": "#E5ECF6",
           "caxis": {
            "gridcolor": "white",
            "linecolor": "white",
            "ticks": ""
           }
          },
          "title": {
           "x": 0.05
          },
          "xaxis": {
           "automargin": true,
           "gridcolor": "white",
           "linecolor": "white",
           "ticks": "",
           "title": {
            "standoff": 15
           },
           "zerolinecolor": "white",
           "zerolinewidth": 2
          },
          "yaxis": {
           "automargin": true,
           "gridcolor": "white",
           "linecolor": "white",
           "ticks": "",
           "title": {
            "standoff": 15
           },
           "zerolinecolor": "white",
           "zerolinewidth": 2
          }
         }
        },
        "title": {
         "text": "Beneficiarios por sector de instalación de APR"
        },
        "xaxis": {
         "anchor": "y",
         "autorange": true,
         "categoryarray": [
          "PISHUINCO",
          "CURIÑANCO",
          "HUELLELHUE",
          "LAS GAVIOTAS",
          "NIEBLA-LOS MOLINOS",
          "PUNUCAPA",
          "SAN IGNACIO-PLAYA ROSADA",
          "TRES ESPINOS",
          "VILLA CAYUMAPU",
          "EL ARENAL SANTA ELVIRA",
          "PAILLAO",
          "CABO BLANCO",
          "EL ARENAL KM 2",
          "Chabelita",
          "ARCO IRIS",
          "EL LLOLLY",
          "PICHIRROPULLI",
          "REUMEN",
          "SANTA FILOMENA",
          "MANAO",
          "SANTA ROSA CHICA",
          "SANTA ROSA GRANDE",
          "LUMACO PAILLACO",
          "EL MAITEN",
          "SANTA FILOMENA II",
          "ANTILHUE",
          "FOLILCO LOS LAGOS",
          "QUILQUILCO",
          "RIÑIHUE",
          "USTARITZ",
          "EL SALTO",
          "PELLINADA LAS QUINIENTAS",
          "PANCUL",
          "LOS COLIGÜES",
          "COLO COLO",
          "LAS HUELLLAS",
          "San Pedro",
          "Lipingue",
          "El Trebol",
          "Collico Sur",
          "Mi Tierra",
          "Puñaco",
          "Purey",
          "AMARGO-SAN CARLOS",
          "ISLA DEL REY",
          "ISLA MANCERA",
          "LA AGUADA",
          "CHAIHUIN",
          "CERROS DE CORRAL"
         ],
         "categoryorder": "array",
         "domain": [
          0,
          1
         ],
         "range": [
          -0.5,
          48.5
         ],
         "title": {
          "text": "Nombre Ubicación"
         },
         "type": "category"
        },
        "yaxis": {
         "anchor": "x",
         "autorange": true,
         "domain": [
          0,
          1
         ],
         "range": [
          0,
          4232.631578947368
         ],
         "title": {
          "text": "Beneficiarios"
         },
         "type": "linear"
        }
       }
      },
      "image/png": "[encoded data removed]",
      "text/html": [
       "<div>                            <div id=\"1e2fd8a9-d243-44f2-ae24-2059552be18b\" class=\"plotly-graph-div\" style=\"height:525px; width:100%;\"></div>            <script type=\"text/javascript\">                require([\"plotly\"], function(Plotly) {                    window.PLOTLYENV=window.PLOTLYENV || {};                                    if (document.getElementById(\"1e2fd8a9-d243-44f2-ae24-2059552be18b\")) {                    Plotly.newPlot(                        \"1e2fd8a9-d243-44f2-ae24-2059552be18b\",                        [{\"alignmentgroup\":\"True\",\"hovertemplate\":\"Nombre Ubicaci\\u00f3n=%{x}<br>Beneficiarios=%{y}<extra></extra>\",\"legendgroup\":\"PISHUINCO\",\"marker\":{\"color\":\"green\",\"pattern\":{\"shape\":\"\"}},\"name\":\"PISHUINCO\",\"offsetgroup\":\"PISHUINCO\",\"orientation\":\"v\",\"showlegend\":true,\"textposition\":\"auto\",\"x\":[\"PISHUINCO\"],\"xaxis\":\"x\",\"y\":[322.0],\"yaxis\":\"y\",\"type\":\"bar\"},{\"alignmentgroup\":\"True\",\"hovertemplate\":\"Nombre Ubicaci\\u00f3n=%{x}<br>Beneficiarios=%{y}<extra></extra>\",\"legendgroup\":\"CURI\\u00d1ANCO\",\"marker\":{\"color\":\"purple\",\"pattern\":{\"shape\":\"\"}},\"name\":\"CURI\\u00d1ANCO\",\"offsetgroup\":\"CURI\\u00d1ANCO\",\"orientation\":\"v\",\"showlegend\":true,\"textposition\":\"auto\",\"x\":[\"CURI\\u00d1ANCO\"],\"xaxis\":\"x\",\"y\":[2294.0],\"yaxis\":\"y\",\"type\":\"bar\"},{\"alignmentgroup\":\"True\",\"hovertemplate\":\"Nombre Ubicaci\\u00f3n=%{x}<br>Beneficiarios=%{y}<extra></extra>\",\"legendgroup\":\"HUELLELHUE\",\"marker\":{\"color\":\"green\",\"pattern\":{\"shape\":\"\"}},\"name\":\"HUELLELHUE\",\"offsetgroup\":\"HUELLELHUE\",\"orientation\":\"v\",\"showlegend\":true,\"textposition\":\"auto\",\"x\":[\"HUELLELHUE\"],\"xaxis\":\"x\",\"y\":[310.0],\"yaxis\":\"y\",\"type\":\"bar\"},{\"alignmentgroup\":\"True\",\"hovertemplate\":\"Nombre Ubicaci\\u00f3n=%{x}<br>Beneficiarios=%{y}<extra></extra>\",\"legendgroup\":\"LAS GAVIOTAS\",\"marker\":{\"color\":\"red\",\"pattern\":{\"shape\":\"\"}},\"name\":\"LAS GAVIOTAS\",\"offsetgroup\":\"LAS GAVIOTAS\",\"orientation\":\"v\",\"showlegend\":true,\"textposition\":\"auto\",\"x\":[\"LAS GAVIOTAS\"],\"xaxis\":\"x\",\"y\":[1048.0],\"yaxis\":\"y\",\"type\":\"bar\"},{\"alignmentgroup\":\"True\",\"hovertemplate\":\"Nombre Ubicaci\\u00f3n=%{x}<br>Beneficiarios=%{y}<extra></extra>\",\"legendgroup\":\"NIEBLA-LOS MOLINOS\",\"marker\":{\"color\":\"purple\",\"pattern\":{\"shape\":\"\"}},\"name\":\"NIEBLA-LOS MOLINOS\",\"offsetgroup\":\"NIEBLA-LOS MOLINOS\",\"orientation\":\"v\",\"showlegend\":true,\"textposition\":\"auto\",\"x\":[\"NIEBLA-LOS MOLINOS\"],\"xaxis\":\"x\",\"y\":[4021.0],\"yaxis\":\"y\",\"type\":\"bar\"},{\"alignmentgroup\":\"True\",\"hovertemplate\":\"Nombre Ubicaci\\u00f3n=%{x}<br>Beneficiarios=%{y}<extra></extra>\",\"legendgroup\":\"PUNUCAPA\",\"marker\":{\"color\":\"orange\",\"pattern\":{\"shape\":\"\"}},\"name\":\"PUNUCAPA\",\"offsetgroup\":\"PUNUCAPA\",\"orientation\":\"v\",\"showlegend\":true,\"textposition\":\"auto\",\"x\":[\"PUNUCAPA\"],\"xaxis\":\"x\",\"y\":[459.0],\"yaxis\":\"y\",\"type\":\"bar\"},{\"alignmentgroup\":\"True\",\"hovertemplate\":\"Nombre Ubicaci\\u00f3n=%{x}<br>Beneficiarios=%{y}<extra></extra>\",\"legendgroup\":\"SAN IGNACIO-PLAYA ROSADA\",\"marker\":{\"color\":\"red\",\"pattern\":{\"shape\":\"\"}},\"name\":\"SAN IGNACIO-PLAYA ROSADA\",\"offsetgroup\":\"SAN IGNACIO-PLAYA ROSADA\",\"orientation\":\"v\",\"showlegend\":true,\"textposition\":\"auto\",\"x\":[\"SAN IGNACIO-PLAYA ROSADA\"],\"xaxis\":\"x\",\"y\":[936.0],\"yaxis\":\"y\",\"type\":\"bar\"},{\"alignmentgroup\":\"True\",\"hovertemplate\":\"Nombre Ubicaci\\u00f3n=%{x}<br>Beneficiarios=%{y}<extra></extra>\",\"legendgroup\":\"TRES ESPINOS\",\"marker\":{\"color\":\"red\",\"pattern\":{\"shape\":\"\"}},\"name\":\"TRES ESPINOS\",\"offsetgroup\":\"TRES ESPINOS\",\"orientation\":\"v\",\"showlegend\":true,\"textposition\":\"auto\",\"x\":[\"TRES ESPINOS\"],\"xaxis\":\"x\",\"y\":[1091.0],\"yaxis\":\"y\",\"type\":\"bar\"},{\"alignmentgroup\":\"True\",\"hovertemplate\":\"Nombre Ubicaci\\u00f3n=%{x}<br>Beneficiarios=%{y}<extra></extra>\",\"legendgroup\":\"VILLA CAYUMAPU\",\"marker\":{\"color\":\"purple\",\"pattern\":{\"shape\":\"\"}},\"name\":\"VILLA CAYUMAPU\",\"offsetgroup\":\"VILLA CAYUMAPU\",\"orientation\":\"v\",\"showlegend\":true,\"textposition\":\"auto\",\"x\":[\"VILLA CAYUMAPU\"],\"xaxis\":\"x\",\"y\":[1327.0],\"yaxis\":\"y\",\"type\":\"bar\"},{\"alignmentgroup\":\"True\",\"hovertemplate\":\"Nombre Ubicaci\\u00f3n=%{x}<br>Beneficiarios=%{y}<extra></extra>\",\"legendgroup\":\"EL ARENAL SANTA ELVIRA\",\"marker\":{\"color\":\"orange\",\"pattern\":{\"shape\":\"\"}},\"name\":\"EL ARENAL SANTA ELVIRA\",\"offsetgroup\":\"EL ARENAL SANTA ELVIRA\",\"orientation\":\"v\",\"showlegend\":true,\"textposition\":\"auto\",\"x\":[\"EL ARENAL SANTA ELVIRA\"],\"xaxis\":\"x\",\"y\":[549.0],\"yaxis\":\"y\",\"type\":\"bar\"},{\"alignmentgroup\":\"True\",\"hovertemplate\":\"Nombre Ubicaci\\u00f3n=%{x}<br>Beneficiarios=%{y}<extra></extra>\",\"legendgroup\":\"PAILLAO\",\"marker\":{\"color\":\"red\",\"pattern\":{\"shape\":\"\"}},\"name\":\"PAILLAO\",\"offsetgroup\":\"PAILLAO\",\"orientation\":\"v\",\"showlegend\":true,\"textposition\":\"auto\",\"x\":[\"PAILLAO\"],\"xaxis\":\"x\",\"y\":[871.0],\"yaxis\":\"y\",\"type\":\"bar\"},{\"alignmentgroup\":\"True\",\"hovertemplate\":\"Nombre Ubicaci\\u00f3n=%{x}<br>Beneficiarios=%{y}<extra></extra>\",\"legendgroup\":\"CABO BLANCO\",\"marker\":{\"color\":\"orange\",\"pattern\":{\"shape\":\"\"}},\"name\":\"CABO BLANCO\",\"offsetgroup\":\"CABO BLANCO\",\"orientation\":\"v\",\"showlegend\":true,\"textposition\":\"auto\",\"x\":[\"CABO BLANCO\"],\"xaxis\":\"x\",\"y\":[543.0],\"yaxis\":\"y\",\"type\":\"bar\"},{\"alignmentgroup\":\"True\",\"hovertemplate\":\"Nombre Ubicaci\\u00f3n=%{x}<br>Beneficiarios=%{y}<extra></extra>\",\"legendgroup\":\"EL ARENAL KM 2\",\"marker\":{\"color\":\"orange\",\"pattern\":{\"shape\":\"\"}},\"name\":\"EL ARENAL KM 2\",\"offsetgroup\":\"EL ARENAL KM 2\",\"orientation\":\"v\",\"showlegend\":true,\"textposition\":\"auto\",\"x\":[\"EL ARENAL KM 2\"],\"xaxis\":\"x\",\"y\":[623.0],\"yaxis\":\"y\",\"type\":\"bar\"},{\"alignmentgroup\":\"True\",\"hovertemplate\":\"Nombre Ubicaci\\u00f3n=%{x}<br>Beneficiarios=%{y}<extra></extra>\",\"legendgroup\":\"Chabelita\",\"marker\":{\"color\":\"orange\",\"pattern\":{\"shape\":\"\"}},\"name\":\"Chabelita\",\"offsetgroup\":\"Chabelita\",\"orientation\":\"v\",\"showlegend\":true,\"textposition\":\"auto\",\"x\":[\"Chabelita\"],\"xaxis\":\"x\",\"y\":[434.0],\"yaxis\":\"y\",\"type\":\"bar\"},{\"alignmentgroup\":\"True\",\"hovertemplate\":\"Nombre Ubicaci\\u00f3n=%{x}<br>Beneficiarios=%{y}<extra></extra>\",\"legendgroup\":\"ARCO IRIS\",\"marker\":{\"color\":\"green\",\"pattern\":{\"shape\":\"\"}},\"name\":\"ARCO IRIS\",\"offsetgroup\":\"ARCO IRIS\",\"orientation\":\"v\",\"showlegend\":true,\"textposition\":\"auto\",\"x\":[\"ARCO IRIS\"],\"xaxis\":\"x\",\"y\":[394.0],\"yaxis\":\"y\",\"type\":\"bar\"},{\"alignmentgroup\":\"True\",\"hovertemplate\":\"Nombre Ubicaci\\u00f3n=%{x}<br>Beneficiarios=%{y}<extra></extra>\",\"legendgroup\":\"EL LLOLLY\",\"marker\":{\"color\":\"green\",\"pattern\":{\"shape\":\"\"}},\"name\":\"EL LLOLLY\",\"offsetgroup\":\"EL LLOLLY\",\"orientation\":\"v\",\"showlegend\":true,\"textposition\":\"auto\",\"x\":[\"EL LLOLLY\"],\"xaxis\":\"x\",\"y\":[428.0],\"yaxis\":\"y\",\"type\":\"bar\"},{\"alignmentgroup\":\"True\",\"hovertemplate\":\"Nombre Ubicaci\\u00f3n=%{x}<br>Beneficiarios=%{y}<extra></extra>\",\"legendgroup\":\"PICHIRROPULLI\",\"marker\":{\"color\":\"red\",\"pattern\":{\"shape\":\"\"}},\"name\":\"PICHIRROPULLI\",\"offsetgroup\":\"PICHIRROPULLI\",\"orientation\":\"v\",\"showlegend\":true,\"textposition\":\"auto\",\"x\":[\"PICHIRROPULLI\"],\"xaxis\":\"x\",\"y\":[1079.0],\"yaxis\":\"y\",\"type\":\"bar\"},{\"alignmentgroup\":\"True\",\"hovertemplate\":\"Nombre Ubicaci\\u00f3n=%{x}<br>Beneficiarios=%{y}<extra></extra>\",\"legendgroup\":\"REUMEN\",\"marker\":{\"color\":\"purple\",\"pattern\":{\"shape\":\"\"}},\"name\":\"REUMEN\",\"offsetgroup\":\"REUMEN\",\"orientation\":\"v\",\"showlegend\":true,\"textposition\":\"auto\",\"x\":[\"REUMEN\"],\"xaxis\":\"x\",\"y\":[1442.0],\"yaxis\":\"y\",\"type\":\"bar\"},{\"alignmentgroup\":\"True\",\"hovertemplate\":\"Nombre Ubicaci\\u00f3n=%{x}<br>Beneficiarios=%{y}<extra></extra>\",\"legendgroup\":\"SANTA FILOMENA\",\"marker\":{\"color\":\"green\",\"pattern\":{\"shape\":\"\"}},\"name\":\"SANTA FILOMENA\",\"offsetgroup\":\"SANTA FILOMENA\",\"orientation\":\"v\",\"showlegend\":true,\"textposition\":\"auto\",\"x\":[\"SANTA FILOMENA\"],\"xaxis\":\"x\",\"y\":[403.0],\"yaxis\":\"y\",\"type\":\"bar\"},{\"alignmentgroup\":\"True\",\"hovertemplate\":\"Nombre Ubicaci\\u00f3n=%{x}<br>Beneficiarios=%{y}<extra></extra>\",\"legendgroup\":\"MANAO\",\"marker\":{\"color\":\"blue\",\"pattern\":{\"shape\":\"\"}},\"name\":\"MANAO\",\"offsetgroup\":\"MANAO\",\"orientation\":\"v\",\"showlegend\":true,\"textposition\":\"auto\",\"x\":[\"MANAO\"],\"xaxis\":\"x\",\"y\":[220.0],\"yaxis\":\"y\",\"type\":\"bar\"},{\"alignmentgroup\":\"True\",\"hovertemplate\":\"Nombre Ubicaci\\u00f3n=%{x}<br>Beneficiarios=%{y}<extra></extra>\",\"legendgroup\":\"SANTA ROSA CHICA\",\"marker\":{\"color\":\"green\",\"pattern\":{\"shape\":\"\"}},\"name\":\"SANTA ROSA CHICA\",\"offsetgroup\":\"SANTA ROSA CHICA\",\"orientation\":\"v\",\"showlegend\":true,\"textposition\":\"auto\",\"x\":[\"SANTA ROSA CHICA\"],\"xaxis\":\"x\",\"y\":[394.0],\"yaxis\":\"y\",\"type\":\"bar\"},{\"alignmentgroup\":\"True\",\"hovertemplate\":\"Nombre Ubicaci\\u00f3n=%{x}<br>Beneficiarios=%{y}<extra></extra>\",\"legendgroup\":\"SANTA ROSA GRANDE\",\"marker\":{\"color\":\"green\",\"pattern\":{\"shape\":\"\"}},\"name\":\"SANTA ROSA GRANDE\",\"offsetgroup\":\"SANTA ROSA GRANDE\",\"orientation\":\"v\",\"showlegend\":true,\"textposition\":\"auto\",\"x\":[\"SANTA ROSA GRANDE\"],\"xaxis\":\"x\",\"y\":[319.0],\"yaxis\":\"y\",\"type\":\"bar\"},{\"alignmentgroup\":\"True\",\"hovertemplate\":\"Nombre Ubicaci\\u00f3n=%{x}<br>Beneficiarios=%{y}<extra></extra>\",\"legendgroup\":\"LUMACO PAILLACO\",\"marker\":{\"color\":\"orange\",\"pattern\":{\"shape\":\"\"}},\"name\":\"LUMACO PAILLACO\",\"offsetgroup\":\"LUMACO PAILLACO\",\"orientation\":\"v\",\"showlegend\":true,\"textposition\":\"auto\",\"x\":[\"LUMACO PAILLACO\"],\"xaxis\":\"x\",\"y\":[710.0],\"yaxis\":\"y\",\"type\":\"bar\"},{\"alignmentgroup\":\"True\",\"hovertemplate\":\"Nombre Ubicaci\\u00f3n=%{x}<br>Beneficiarios=%{y}<extra></extra>\",\"legendgroup\":\"EL MAITEN\",\"marker\":{\"color\":\"blue\",\"pattern\":{\"shape\":\"\"}},\"name\":\"EL MAITEN\",\"offsetgroup\":\"EL MAITEN\",\"orientation\":\"v\",\"showlegend\":true,\"textposition\":\"auto\",\"x\":[\"EL MAITEN\"],\"xaxis\":\"x\",\"y\":[155.0],\"yaxis\":\"y\",\"type\":\"bar\"},{\"alignmentgroup\":\"True\",\"hovertemplate\":\"Nombre Ubicaci\\u00f3n=%{x}<br>Beneficiarios=%{y}<extra></extra>\",\"legendgroup\":\"SANTA FILOMENA II\",\"marker\":{\"color\":\"blue\",\"pattern\":{\"shape\":\"\"}},\"name\":\"SANTA FILOMENA II\",\"offsetgroup\":\"SANTA FILOMENA II\",\"orientation\":\"v\",\"showlegend\":true,\"textposition\":\"auto\",\"x\":[\"SANTA FILOMENA II\"],\"xaxis\":\"x\",\"y\":[211.0],\"yaxis\":\"y\",\"type\":\"bar\"},{\"alignmentgroup\":\"True\",\"hovertemplate\":\"Nombre Ubicaci\\u00f3n=%{x}<br>Beneficiarios=%{y}<extra></extra>\",\"legendgroup\":\"ANTILHUE\",\"marker\":{\"color\":\"purple\",\"pattern\":{\"shape\":\"\"}},\"name\":\"ANTILHUE\",\"offsetgroup\":\"ANTILHUE\",\"orientation\":\"v\",\"showlegend\":true,\"textposition\":\"auto\",\"x\":[\"ANTILHUE\"],\"xaxis\":\"x\",\"y\":[1414.0],\"yaxis\":\"y\",\"type\":\"bar\"},{\"alignmentgroup\":\"True\",\"hovertemplate\":\"Nombre Ubicaci\\u00f3n=%{x}<br>Beneficiarios=%{y}<extra></extra>\",\"legendgroup\":\"FOLILCO LOS LAGOS\",\"marker\":{\"color\":\"orange\",\"pattern\":{\"shape\":\"\"}},\"name\":\"FOLILCO LOS LAGOS\",\"offsetgroup\":\"FOLILCO LOS LAGOS\",\"orientation\":\"v\",\"showlegend\":true,\"textposition\":\"auto\",\"x\":[\"FOLILCO LOS LAGOS\"],\"xaxis\":\"x\",\"y\":[474.0],\"yaxis\":\"y\",\"type\":\"bar\"},{\"alignmentgroup\":\"True\",\"hovertemplate\":\"Nombre Ubicaci\\u00f3n=%{x}<br>Beneficiarios=%{y}<extra></extra>\",\"legendgroup\":\"QUILQUILCO\",\"marker\":{\"color\":\"blue\",\"pattern\":{\"shape\":\"\"}},\"name\":\"QUILQUILCO\",\"offsetgroup\":\"QUILQUILCO\",\"orientation\":\"v\",\"showlegend\":true,\"textposition\":\"auto\",\"x\":[\"QUILQUILCO\"],\"xaxis\":\"x\",\"y\":[149.0],\"yaxis\":\"y\",\"type\":\"bar\"},{\"alignmentgroup\":\"True\",\"hovertemplate\":\"Nombre Ubicaci\\u00f3n=%{x}<br>Beneficiarios=%{y}<extra></extra>\",\"legendgroup\":\"RI\\u00d1IHUE\",\"marker\":{\"color\":\"blue\",\"pattern\":{\"shape\":\"\"}},\"name\":\"RI\\u00d1IHUE\",\"offsetgroup\":\"RI\\u00d1IHUE\",\"orientation\":\"v\",\"showlegend\":true,\"textposition\":\"auto\",\"x\":[\"RI\\u00d1IHUE\"],\"xaxis\":\"x\",\"y\":[208.0],\"yaxis\":\"y\",\"type\":\"bar\"},{\"alignmentgroup\":\"True\",\"hovertemplate\":\"Nombre Ubicaci\\u00f3n=%{x}<br>Beneficiarios=%{y}<extra></extra>\",\"legendgroup\":\"USTARITZ\",\"marker\":{\"color\":\"orange\",\"pattern\":{\"shape\":\"\"}},\"name\":\"USTARITZ\",\"offsetgroup\":\"USTARITZ\",\"orientation\":\"v\",\"showlegend\":true,\"textposition\":\"auto\",\"x\":[\"USTARITZ\"],\"xaxis\":\"x\",\"y\":[434.0],\"yaxis\":\"y\",\"type\":\"bar\"},{\"alignmentgroup\":\"True\",\"hovertemplate\":\"Nombre Ubicaci\\u00f3n=%{x}<br>Beneficiarios=%{y}<extra></extra>\",\"legendgroup\":\"EL SALTO\",\"marker\":{\"color\":\"orange\",\"pattern\":{\"shape\":\"\"}},\"name\":\"EL SALTO\",\"offsetgroup\":\"EL SALTO\",\"orientation\":\"v\",\"showlegend\":true,\"textposition\":\"auto\",\"x\":[\"EL SALTO\"],\"xaxis\":\"x\",\"y\":[592.0],\"yaxis\":\"y\",\"type\":\"bar\"},{\"alignmentgroup\":\"True\",\"hovertemplate\":\"Nombre Ubicaci\\u00f3n=%{x}<br>Beneficiarios=%{y}<extra></extra>\",\"legendgroup\":\"PELLINADA LAS QUINIENTAS\",\"marker\":{\"color\":\"orange\",\"pattern\":{\"shape\":\"\"}},\"name\":\"PELLINADA LAS QUINIENTAS\",\"offsetgroup\":\"PELLINADA LAS QUINIENTAS\",\"orientation\":\"v\",\"showlegend\":true,\"textposition\":\"auto\",\"x\":[\"PELLINADA LAS QUINIENTAS\"],\"xaxis\":\"x\",\"y\":[434.0],\"yaxis\":\"y\",\"type\":\"bar\"},{\"alignmentgroup\":\"True\",\"hovertemplate\":\"Nombre Ubicaci\\u00f3n=%{x}<br>Beneficiarios=%{y}<extra></extra>\",\"legendgroup\":\"PANCUL\",\"marker\":{\"color\":\"orange\",\"pattern\":{\"shape\":\"\"}},\"name\":\"PANCUL\",\"offsetgroup\":\"PANCUL\",\"orientation\":\"v\",\"showlegend\":true,\"textposition\":\"auto\",\"x\":[\"PANCUL\"],\"xaxis\":\"x\",\"y\":[729.0],\"yaxis\":\"y\",\"type\":\"bar\"},{\"alignmentgroup\":\"True\",\"hovertemplate\":\"Nombre Ubicaci\\u00f3n=%{x}<br>Beneficiarios=%{y}<extra></extra>\",\"legendgroup\":\"LOS COLIG\\u00dcES\",\"marker\":{\"color\":\"orange\",\"pattern\":{\"shape\":\"\"}},\"name\":\"LOS COLIG\\u00dcES\",\"offsetgroup\":\"LOS COLIG\\u00dcES\",\"orientation\":\"v\",\"showlegend\":true,\"textposition\":\"auto\",\"x\":[\"LOS COLIG\\u00dcES\"],\"xaxis\":\"x\",\"y\":[456.0],\"yaxis\":\"y\",\"type\":\"bar\"},{\"alignmentgroup\":\"True\",\"hovertemplate\":\"Nombre Ubicaci\\u00f3n=%{x}<br>Beneficiarios=%{y}<extra></extra>\",\"legendgroup\":\"COLO COLO\",\"marker\":{\"color\":\"green\",\"pattern\":{\"shape\":\"\"}},\"name\":\"COLO COLO\",\"offsetgroup\":\"COLO COLO\",\"orientation\":\"v\",\"showlegend\":true,\"textposition\":\"auto\",\"x\":[\"COLO COLO\"],\"xaxis\":\"x\",\"y\":[298.0],\"yaxis\":\"y\",\"type\":\"bar\"},{\"alignmentgroup\":\"True\",\"hovertemplate\":\"Nombre Ubicaci\\u00f3n=%{x}<br>Beneficiarios=%{y}<extra></extra>\",\"legendgroup\":\"LAS HUELLLAS\",\"marker\":{\"color\":\"blue\",\"pattern\":{\"shape\":\"\"}},\"name\":\"LAS HUELLLAS\",\"offsetgroup\":\"LAS HUELLLAS\",\"orientation\":\"v\",\"showlegend\":true,\"textposition\":\"auto\",\"x\":[\"LAS HUELLLAS\"],\"xaxis\":\"x\",\"y\":[276.0],\"yaxis\":\"y\",\"type\":\"bar\"},{\"alignmentgroup\":\"True\",\"hovertemplate\":\"Nombre Ubicaci\\u00f3n=%{x}<br>Beneficiarios=%{y}<extra></extra>\",\"legendgroup\":\"San Pedro\",\"marker\":{\"color\":\"green\",\"pattern\":{\"shape\":\"\"}},\"name\":\"San Pedro\",\"offsetgroup\":\"San Pedro\",\"orientation\":\"v\",\"showlegend\":true,\"textposition\":\"auto\",\"x\":[\"San Pedro\"],\"xaxis\":\"x\",\"y\":[375.0],\"yaxis\":\"y\",\"type\":\"bar\"},{\"alignmentgroup\":\"True\",\"hovertemplate\":\"Nombre Ubicaci\\u00f3n=%{x}<br>Beneficiarios=%{y}<extra></extra>\",\"legendgroup\":\"Lipingue\",\"marker\":{\"color\":\"orange\",\"pattern\":{\"shape\":\"\"}},\"name\":\"Lipingue\",\"offsetgroup\":\"Lipingue\",\"orientation\":\"v\",\"showlegend\":true,\"textposition\":\"auto\",\"x\":[\"Lipingue\"],\"xaxis\":\"x\",\"y\":[434.0],\"yaxis\":\"y\",\"type\":\"bar\"},{\"alignmentgroup\":\"True\",\"hovertemplate\":\"Nombre Ubicaci\\u00f3n=%{x}<br>Beneficiarios=%{y}<extra></extra>\",\"legendgroup\":\"El Trebol\",\"marker\":{\"color\":\"blue\",\"pattern\":{\"shape\":\"\"}},\"name\":\"El Trebol\",\"offsetgroup\":\"El Trebol\",\"orientation\":\"v\",\"showlegend\":true,\"textposition\":\"auto\",\"x\":[\"El Trebol\"],\"xaxis\":\"x\",\"y\":[208.0],\"yaxis\":\"y\",\"type\":\"bar\"},{\"alignmentgroup\":\"True\",\"hovertemplate\":\"Nombre Ubicaci\\u00f3n=%{x}<br>Beneficiarios=%{y}<extra></extra>\",\"legendgroup\":\"Collico Sur\",\"marker\":{\"color\":\"blue\",\"pattern\":{\"shape\":\"\"}},\"name\":\"Collico Sur\",\"offsetgroup\":\"Collico Sur\",\"orientation\":\"v\",\"showlegend\":true,\"textposition\":\"auto\",\"x\":[\"Collico Sur\"],\"xaxis\":\"x\",\"y\":[236.0],\"yaxis\":\"y\",\"type\":\"bar\"},{\"alignmentgroup\":\"True\",\"hovertemplate\":\"Nombre Ubicaci\\u00f3n=%{x}<br>Beneficiarios=%{y}<extra></extra>\",\"legendgroup\":\"Mi Tierra\",\"marker\":{\"color\":\"blue\",\"pattern\":{\"shape\":\"\"}},\"name\":\"Mi Tierra\",\"offsetgroup\":\"Mi Tierra\",\"orientation\":\"v\",\"showlegend\":true,\"textposition\":\"auto\",\"x\":[\"Mi Tierra\"],\"xaxis\":\"x\",\"y\":[71.0],\"yaxis\":\"y\",\"type\":\"bar\"},{\"alignmentgroup\":\"True\",\"hovertemplate\":\"Nombre Ubicaci\\u00f3n=%{x}<br>Beneficiarios=%{y}<extra></extra>\",\"legendgroup\":\"Pu\\u00f1aco\",\"marker\":{\"color\":\"blue\",\"pattern\":{\"shape\":\"\"}},\"name\":\"Pu\\u00f1aco\",\"offsetgroup\":\"Pu\\u00f1aco\",\"orientation\":\"v\",\"showlegend\":true,\"textposition\":\"auto\",\"x\":[\"Pu\\u00f1aco\"],\"xaxis\":\"x\",\"y\":[81.0],\"yaxis\":\"y\",\"type\":\"bar\"},{\"alignmentgroup\":\"True\",\"hovertemplate\":\"Nombre Ubicaci\\u00f3n=%{x}<br>Beneficiarios=%{y}<extra></extra>\",\"legendgroup\":\"Purey\",\"marker\":{\"color\":\"blue\",\"pattern\":{\"shape\":\"\"}},\"name\":\"Purey\",\"offsetgroup\":\"Purey\",\"orientation\":\"v\",\"showlegend\":true,\"textposition\":\"auto\",\"x\":[\"Purey\"],\"xaxis\":\"x\",\"y\":[78.0],\"yaxis\":\"y\",\"type\":\"bar\"},{\"alignmentgroup\":\"True\",\"hovertemplate\":\"Nombre Ubicaci\\u00f3n=%{x}<br>Beneficiarios=%{y}<extra></extra>\",\"legendgroup\":\"AMARGO-SAN CARLOS\",\"marker\":{\"color\":\"purple\",\"pattern\":{\"shape\":\"\"}},\"name\":\"AMARGO-SAN CARLOS\",\"offsetgroup\":\"AMARGO-SAN CARLOS\",\"orientation\":\"v\",\"showlegend\":true,\"textposition\":\"auto\",\"x\":[\"AMARGO-SAN CARLOS\"],\"xaxis\":\"x\",\"y\":[2412.0],\"yaxis\":\"y\",\"type\":\"bar\"},{\"alignmentgroup\":\"True\",\"hovertemplate\":\"Nombre Ubicaci\\u00f3n=%{x}<br>Beneficiarios=%{y}<extra></extra>\",\"legendgroup\":\"ISLA DEL REY\",\"marker\":{\"color\":\"orange\",\"pattern\":{\"shape\":\"\"}},\"name\":\"ISLA DEL REY\",\"offsetgroup\":\"ISLA DEL REY\",\"orientation\":\"v\",\"showlegend\":true,\"textposition\":\"auto\",\"x\":[\"ISLA DEL REY\"],\"xaxis\":\"x\",\"y\":[620.0],\"yaxis\":\"y\",\"type\":\"bar\"},{\"alignmentgroup\":\"True\",\"hovertemplate\":\"Nombre Ubicaci\\u00f3n=%{x}<br>Beneficiarios=%{y}<extra></extra>\",\"legendgroup\":\"ISLA MANCERA\",\"marker\":{\"color\":\"blue\",\"pattern\":{\"shape\":\"\"}},\"name\":\"ISLA MANCERA\",\"offsetgroup\":\"ISLA MANCERA\",\"orientation\":\"v\",\"showlegend\":true,\"textposition\":\"auto\",\"x\":[\"ISLA MANCERA\"],\"xaxis\":\"x\",\"y\":[267.0],\"yaxis\":\"y\",\"type\":\"bar\"},{\"alignmentgroup\":\"True\",\"hovertemplate\":\"Nombre Ubicaci\\u00f3n=%{x}<br>Beneficiarios=%{y}<extra></extra>\",\"legendgroup\":\"LA AGUADA\",\"marker\":{\"color\":\"orange\",\"pattern\":{\"shape\":\"\"}},\"name\":\"LA AGUADA\",\"offsetgroup\":\"LA AGUADA\",\"orientation\":\"v\",\"showlegend\":true,\"textposition\":\"auto\",\"x\":[\"LA AGUADA\"],\"xaxis\":\"x\",\"y\":[626.0],\"yaxis\":\"y\",\"type\":\"bar\"},{\"alignmentgroup\":\"True\",\"hovertemplate\":\"Nombre Ubicaci\\u00f3n=%{x}<br>Beneficiarios=%{y}<extra></extra>\",\"legendgroup\":\"CHAIHUIN\",\"marker\":{\"color\":\"red\",\"pattern\":{\"shape\":\"\"}},\"name\":\"CHAIHUIN\",\"offsetgroup\":\"CHAIHUIN\",\"orientation\":\"v\",\"showlegend\":true,\"textposition\":\"auto\",\"x\":[\"CHAIHUIN\"],\"xaxis\":\"x\",\"y\":[744.0],\"yaxis\":\"y\",\"type\":\"bar\"},{\"alignmentgroup\":\"True\",\"hovertemplate\":\"Nombre Ubicaci\\u00f3n=%{x}<br>Beneficiarios=%{y}<extra></extra>\",\"legendgroup\":\"CERROS DE CORRAL\",\"marker\":{\"color\":\"orange\",\"pattern\":{\"shape\":\"\"}},\"name\":\"CERROS DE CORRAL\",\"offsetgroup\":\"CERROS DE CORRAL\",\"orientation\":\"v\",\"showlegend\":true,\"textposition\":\"auto\",\"x\":[\"CERROS DE CORRAL\"],\"xaxis\":\"x\",\"y\":[484.0],\"yaxis\":\"y\",\"type\":\"bar\"}],                        {\"template\":{\"data\":{\"histogram2dcontour\":[{\"type\":\"histogram2dcontour\",\"colorbar\":{\"outlinewidth\":0,\"ticks\":\"\"},\"colorscale\":[[0.0,\"#0d0887\"],[0.1111111111111111,\"#46039f\"],[0.2222222222222222,\"#7201a8\"],[0.3333333333333333,\"#9c179e\"],[0.4444444444444444,\"#bd3786\"],[0.5555555555555556,\"#d8576b\"],[0.6666666666666666,\"#ed7953\"],[0.7777777777777778,\"#fb9f3a\"],[0.8888888888888888,\"#fdca26\"],[1.0,\"#f0f921\"]]}],\"choropleth\":[{\"type\":\"choropleth\",\"colorbar\":{\"outlinewidth\":0,\"ticks\":\"\"}}],\"histogram2d\":[{\"type\":\"histogram2d\",\"colorbar\":{\"outlinewidth\":0,\"ticks\":\"\"},\"colorscale\":[[0.0,\"#0d0887\"],[0.1111111111111111,\"#46039f\"],[0.2222222222222222,\"#7201a8\"],[0.3333333333333333,\"#9c179e\"],[0.4444444444444444,\"#bd3786\"],[0.5555555555555556,\"#d8576b\"],[0.6666666666666666,\"#ed7953\"],[0.7777777777777778,\"#fb9f3a\"],[0.8888888888888888,\"#fdca26\"],[1.0,\"#f0f921\"]]}],\"heatmap\":[{\"type\":\"heatmap\",\"colorbar\":{\"outlinewidth\":0,\"ticks\":\"\"},\"colorscale\":[[0.0,\"#0d0887\"],[0.1111111111111111,\"#46039f\"],[0.2222222222222222,\"#7201a8\"],[0.3333333333333333,\"#9c179e\"],[0.4444444444444444,\"#bd3786\"],[0.5555555555555556,\"#d8576b\"],[0.6666666666666666,\"#ed7953\"],[0.7777777777777778,\"#fb9f3a\"],[0.8888888888888888,\"#fdca26\"],[1.0,\"#f0f921\"]]}],\"heatmapgl\":[{\"type\":\"heatmapgl\",\"colorbar\":{\"outlinewidth\":0,\"ticks\":\"\"},\"colorscale\":[[0.0,\"#0d0887\"],[0.1111111111111111,\"#46039f\"],[0.2222222222222222,\"#7201a8\"],[0.3333333333333333,\"#9c179e\"],[0.4444444444444444,\"#bd3786\"],[0.5555555555555556,\"#d8576b\"],[0.6666666666666666,\"#ed7953\"],[0.7777777777777778,\"#fb9f3a\"],[0.8888888888888888,\"#fdca26\"],[1.0,\"#f0f921\"]]}],\"contourcarpet\":[{\"type\":\"contourcarpet\",\"colorbar\":{\"outlinewidth\":0,\"ticks\":\"\"}}],\"contour\":[{\"type\":\"contour\",\"colorbar\":{\"outlinewidth\":0,\"ticks\":\"\"},\"colorscale\":[[0.0,\"#0d0887\"],[0.1111111111111111,\"#46039f\"],[0.2222222222222222,\"#7201a8\"],[0.3333333333333333,\"#9c179e\"],[0.4444444444444444,\"#bd3786\"],[0.5555555555555556,\"#d8576b\"],[0.6666666666666666,\"#ed7953\"],[0.7777777777777778,\"#fb9f3a\"],[0.8888888888888888,\"#fdca26\"],[1.0,\"#f0f921\"]]}],\"surface\":[{\"type\":\"surface\",\"colorbar\":{\"outlinewidth\":0,\"ticks\":\"\"},\"colorscale\":[[0.0,\"#0d0887\"],[0.1111111111111111,\"#46039f\"],[0.2222222222222222,\"#7201a8\"],[0.3333333333333333,\"#9c179e\"],[0.4444444444444444,\"#bd3786\"],[0.5555555555555556,\"#d8576b\"],[0.6666666666666666,\"#ed7953\"],[0.7777777777777778,\"#fb9f3a\"],[0.8888888888888888,\"#fdca26\"],[1.0,\"#f0f921\"]]}],\"mesh3d\":[{\"type\":\"mesh3d\",\"colorbar\":{\"outlinewidth\":0,\"ticks\":\"\"}}],\"scatter\":[{\"fillpattern\":{\"fillmode\":\"overlay\",\"size\":10,\"solidity\":0.2},\"type\":\"scatter\"}],\"parcoords\":[{\"type\":\"parcoords\",\"line\":{\"colorbar\":{\"outlinewidth\":0,\"ticks\":\"\"}}}],\"scatterpolargl\":[{\"type\":\"scatterpolargl\",\"marker\":{\"colorbar\":{\"outlinewidth\":0,\"ticks\":\"\"}}}],\"bar\":[{\"error_x\":{\"color\":\"#2a3f5f\"},\"error_y\":{\"color\":\"#2a3f5f\"},\"marker\":{\"line\":{\"color\":\"#E5ECF6\",\"width\":0.5},\"pattern\":{\"fillmode\":\"overlay\",\"size\":10,\"solidity\":0.2}},\"type\":\"bar\"}],\"scattergeo\":[{\"type\":\"scattergeo\",\"marker\":{\"colorbar\":{\"outlinewidth\":0,\"ticks\":\"\"}}}],\"scatterpolar\":[{\"type\":\"scatterpolar\",\"marker\":{\"colorbar\":{\"outlinewidth\":0,\"ticks\":\"\"}}}],\"histogram\":[{\"marker\":{\"pattern\":{\"fillmode\":\"overlay\",\"size\":10,\"solidity\":0.2}},\"type\":\"histogram\"}],\"scattergl\":[{\"type\":\"scattergl\",\"marker\":{\"colorbar\":{\"outlinewidth\":0,\"ticks\":\"\"}}}],\"scatter3d\":[{\"type\":\"scatter3d\",\"line\":{\"colorbar\":{\"outlinewidth\":0,\"ticks\":\"\"}},\"marker\":{\"colorbar\":{\"outlinewidth\":0,\"ticks\":\"\"}}}],\"scattermapbox\":[{\"type\":\"scattermapbox\",\"marker\":{\"colorbar\":{\"outlinewidth\":0,\"ticks\":\"\"}}}],\"scatterternary\":[{\"type\":\"scatterternary\",\"marker\":{\"colorbar\":{\"outlinewidth\":0,\"ticks\":\"\"}}}],\"scattercarpet\":[{\"type\":\"scattercarpet\",\"marker\":{\"colorbar\":{\"outlinewidth\":0,\"ticks\":\"\"}}}],\"carpet\":[{\"aaxis\":{\"endlinecolor\":\"#2a3f5f\",\"gridcolor\":\"white\",\"linecolor\":\"white\",\"minorgridcolor\":\"white\",\"startlinecolor\":\"#2a3f5f\"},\"baxis\":{\"endlinecolor\":\"#2a3f5f\",\"gridcolor\":\"white\",\"linecolor\":\"white\",\"minorgridcolor\":\"white\",\"startlinecolor\":\"#2a3f5f\"},\"type\":\"carpet\"}],\"table\":[{\"cells\":{\"fill\":{\"color\":\"#EBF0F8\"},\"line\":{\"color\":\"white\"}},\"header\":{\"fill\":{\"color\":\"#C8D4E3\"},\"line\":{\"color\":\"white\"}},\"type\":\"table\"}],\"barpolar\":[{\"marker\":{\"line\":{\"color\":\"#E5ECF6\",\"width\":0.5},\"pattern\":{\"fillmode\":\"overlay\",\"size\":10,\"solidity\":0.2}},\"type\":\"barpolar\"}],\"pie\":[{\"automargin\":true,\"type\":\"pie\"}]},\"layout\":{\"autotypenumbers\":\"strict\",\"colorway\":[\"#636efa\",\"#EF553B\",\"#00cc96\",\"#ab63fa\",\"#FFA15A\",\"#19d3f3\",\"#FF6692\",\"#B6E880\",\"#FF97FF\",\"#FECB52\"],\"font\":{\"color\":\"#2a3f5f\"},\"hovermode\":\"closest\",\"hoverlabel\":{\"align\":\"left\"},\"paper_bgcolor\":\"white\",\"plot_bgcolor\":\"#E5ECF6\",\"polar\":{\"bgcolor\":\"#E5ECF6\",\"angularaxis\":{\"gridcolor\":\"white\",\"linecolor\":\"white\",\"ticks\":\"\"},\"radialaxis\":{\"gridcolor\":\"white\",\"linecolor\":\"white\",\"ticks\":\"\"}},\"ternary\":{\"bgcolor\":\"#E5ECF6\",\"aaxis\":{\"gridcolor\":\"white\",\"linecolor\":\"white\",\"ticks\":\"\"},\"baxis\":{\"gridcolor\":\"white\",\"linecolor\":\"white\",\"ticks\":\"\"},\"caxis\":{\"gridcolor\":\"white\",\"linecolor\":\"white\",\"ticks\":\"\"}},\"coloraxis\":{\"colorbar\":{\"outlinewidth\":0,\"ticks\":\"\"}},\"colorscale\":{\"sequential\":[[0.0,\"#0d0887\"],[0.1111111111111111,\"#46039f\"],[0.2222222222222222,\"#7201a8\"],[0.3333333333333333,\"#9c179e\"],[0.4444444444444444,\"#bd3786\"],[0.5555555555555556,\"#d8576b\"],[0.6666666666666666,\"#ed7953\"],[0.7777777777777778,\"#fb9f3a\"],[0.8888888888888888,\"#fdca26\"],[1.0,\"#f0f921\"]],\"sequentialminus\":[[0.0,\"#0d0887\"],[0.1111111111111111,\"#46039f\"],[0.2222222222222222,\"#7201a8\"],[0.3333333333333333,\"#9c179e\"],[0.4444444444444444,\"#bd3786\"],[0.5555555555555556,\"#d8576b\"],[0.6666666666666666,\"#ed7953\"],[0.7777777777777778,\"#fb9f3a\"],[0.8888888888888888,\"#fdca26\"],[1.0,\"#f0f921\"]],\"diverging\":[[0,\"#8e0152\"],[0.1,\"#c51b7d\"],[0.2,\"#de77ae\"],[0.3,\"#f1b6da\"],[0.4,\"#fde0ef\"],[0.5,\"#f7f7f7\"],[0.6,\"#e6f5d0\"],[0.7,\"#b8e186\"],[0.8,\"#7fbc41\"],[0.9,\"#4d9221\"],[1,\"#276419\"]]},\"xaxis\":{\"gridcolor\":\"white\",\"linecolor\":\"white\",\"ticks\":\"\",\"title\":{\"standoff\":15},\"zerolinecolor\":\"white\",\"automargin\":true,\"zerolinewidth\":2},\"yaxis\":{\"gridcolor\":\"white\",\"linecolor\":\"white\",\"ticks\":\"\",\"title\":{\"standoff\":15},\"zerolinecolor\":\"white\",\"automargin\":true,\"zerolinewidth\":2},\"scene\":{\"xaxis\":{\"backgroundcolor\":\"#E5ECF6\",\"gridcolor\":\"white\",\"linecolor\":\"white\",\"showbackground\":true,\"ticks\":\"\",\"zerolinecolor\":\"white\",\"gridwidth\":2},\"yaxis\":{\"backgroundcolor\":\"#E5ECF6\",\"gridcolor\":\"white\",\"linecolor\":\"white\",\"showbackground\":true,\"ticks\":\"\",\"zerolinecolor\":\"white\",\"gridwidth\":2},\"zaxis\":{\"backgroundcolor\":\"#E5ECF6\",\"gridcolor\":\"white\",\"linecolor\":\"white\",\"showbackground\":true,\"ticks\":\"\",\"zerolinecolor\":\"white\",\"gridwidth\":2}},\"shapedefaults\":{\"line\":{\"color\":\"#2a3f5f\"}},\"annotationdefaults\":{\"arrowcolor\":\"#2a3f5f\",\"arrowhead\":0,\"arrowwidth\":1},\"geo\":{\"bgcolor\":\"white\",\"landcolor\":\"#E5ECF6\",\"subunitcolor\":\"white\",\"showland\":true,\"showlakes\":true,\"lakecolor\":\"white\"},\"title\":{\"x\":0.05},\"mapbox\":{\"style\":\"light\"}}},\"xaxis\":{\"anchor\":\"y\",\"domain\":[0.0,1.0],\"title\":{\"text\":\"Nombre Ubicaci\\u00f3n\"},\"categoryorder\":\"array\",\"categoryarray\":[\"PISHUINCO\",\"CURI\\u00d1ANCO\",\"HUELLELHUE\",\"LAS GAVIOTAS\",\"NIEBLA-LOS MOLINOS\",\"PUNUCAPA\",\"SAN IGNACIO-PLAYA ROSADA\",\"TRES ESPINOS\",\"VILLA CAYUMAPU\",\"EL ARENAL SANTA ELVIRA\",\"PAILLAO\",\"CABO BLANCO\",\"EL ARENAL KM 2\",\"Chabelita\",\"ARCO IRIS\",\"EL LLOLLY\",\"PICHIRROPULLI\",\"REUMEN\",\"SANTA FILOMENA\",\"MANAO\",\"SANTA ROSA CHICA\",\"SANTA ROSA GRANDE\",\"LUMACO PAILLACO\",\"EL MAITEN\",\"SANTA FILOMENA II\",\"ANTILHUE\",\"FOLILCO LOS LAGOS\",\"QUILQUILCO\",\"RI\\u00d1IHUE\",\"USTARITZ\",\"EL SALTO\",\"PELLINADA LAS QUINIENTAS\",\"PANCUL\",\"LOS COLIG\\u00dcES\",\"COLO COLO\",\"LAS HUELLLAS\",\"San Pedro\",\"Lipingue\",\"El Trebol\",\"Collico Sur\",\"Mi Tierra\",\"Pu\\u00f1aco\",\"Purey\",\"AMARGO-SAN CARLOS\",\"ISLA DEL REY\",\"ISLA MANCERA\",\"LA AGUADA\",\"CHAIHUIN\",\"CERROS DE CORRAL\"]},\"yaxis\":{\"anchor\":\"x\",\"domain\":[0.0,1.0],\"title\":{\"text\":\"Beneficiarios\"}},\"legend\":{\"title\":{\"text\":\"Nombre Ubicaci\\u00f3n\"},\"tracegroupgap\":0},\"title\":{\"text\":\"Beneficiarios por sector de instalaci\\u00f3n de APR\"},\"barmode\":\"relative\"},                        {\"responsive\": true}                    ).then(function(){\n",
       "                            \n",
       "var gd = document.getElementById('1e2fd8a9-d243-44f2-ae24-2059552be18b');\n",
       "var x = new MutationObserver(function (mutations, observer) {{\n",
       "        var display = window.getComputedStyle(gd).display;\n",
       "        if (!display || display === 'none') {{\n",
       "            console.log([gd, 'removed!']);\n",
       "            Plotly.purge(gd);\n",
       "            observer.disconnect();\n",
       "        }}\n",
       "}});\n",
       "\n",
       "// Listen for the removal of the full notebook cells\n",
       "var notebookContainer = gd.closest('#notebook-container');\n",
       "if (notebookContainer) {{\n",
       "    x.observe(notebookContainer, {childList: true});\n",
       "}}\n",
       "\n",
       "// Listen for the clearing of the current output cell\n",
       "var outputEl = gd.closest('.output');\n",
       "if (outputEl) {{\n",
       "    x.observe(outputEl, {childList: true});\n",
       "}}\n",
       "\n",
       "                        })                };                });            </script>        </div>"
      ]
     },
     "metadata": {},
     "output_type": "display_data"
    }
   ],
   "source": [
    "#Aca estamos llamando al set de datos de la tabla,que viene precargado en la librería\n",
    "\n",
    "fig = px.bar(tabla, x=\"Nombre Ubicación\", y=\"Beneficiarios\",color=\"Nombre Ubicación\",\n",
    "             title=\"Beneficiarios por sector de instalación de APR\",\n",
    "             color_discrete_sequence=color_beneficiario)\n",
    "fig.show()"
   ]
  },
  {
   "cell_type": "code",
   "execution_count": null,
   "id": "4ba27ff4-92cf-4d18-a6e0-3da1ff44bef8",
   "metadata": {},
   "outputs": [],
   "source": []
  },
  {
   "cell_type": "code",
   "execution_count": 60,
   "id": "ec274d6b-43f4-4a8b-8956-7741085e2864",
   "metadata": {},
   "outputs": [
    {
     "name": "stdout",
     "output_type": "stream",
     "text": [
      "The bold text is \u001b[1mPython\u001b[0m\n"
     ]
    }
   ],
   "source": [
    "print(\"The bold text is\",'\\033[1m' + 'Python' + '\\033[0m')"
   ]
  },
  {
   "cell_type": "code",
   "execution_count": null,
   "id": "34a5ac60-14bd-40c0-a99b-259bcc601e39",
   "metadata": {},
   "outputs": [],
   "source": []
  }
 ],
 "metadata": {
  "kernelspec": {
   "display_name": "Python 3 (ipykernel)",
   "language": "python",
   "name": "python3"
  },
  "language_info": {
   "codemirror_mode": {
    "name": "ipython",
    "version": 3
   },
   "file_extension": ".py",
   "mimetype": "text/x-python",
   "name": "python",
   "nbconvert_exporter": "python",
   "pygments_lexer": "ipython3",
   "version": "3.10.7"
  }
 },
 "nbformat": 4,
 "nbformat_minor": 5
}
