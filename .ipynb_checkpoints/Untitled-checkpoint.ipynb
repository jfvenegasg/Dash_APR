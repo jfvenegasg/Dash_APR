{
 "cells": [
  {
   "cell_type": "markdown",
   "id": "a592d45c-29a9-4137-ac4b-819584663ce5",
   "metadata": {},
   "source": [
    "# Análisis geográfico en Jupyterlab para sistemas de agua potable rural en la región de los Ríos"
   ]
  },
  {
   "cell_type": "markdown",
   "id": "5e8c3342-5d26-4978-ad10-103dcb08c412",
   "metadata": {},
   "source": [
    "<center>\n",
    "<img src=https://www.bbva.com/wp-content/uploads/2019/05/A-2205-ODS6_CAS-BBVA-1-1920x1180.jpg width=\"700\" height=\"500\">"
   ]
  },
  {
   "cell_type": "markdown",
   "id": "7e800537-65ff-4906-b76e-c1fc5247e7f5",
   "metadata": {},
   "source": [
    "<a id='Índice'></a>\n",
    "## Indice 🛣\n",
    "[Inicio ▲](#Indice)\n",
    "\n",
    "1. [Carga de librerias](#Carga-de-librerias)\n",
    "1. [Mapas](#Mapas)\n",
    "1. [Análisis de beneficiarios](#Análisis-de-beneficiarios)"
   ]
  },
  {
   "cell_type": "markdown",
   "id": "39ad4e0b-1b63-4b5b-8e19-5aeffff0ed38",
   "metadata": {},
   "source": [
    "<a id='Carga-de-librerias'></a>\n",
    "## Carga de librerias ♻\n",
    "\n",
    "[Inicio ▲](#Indice)\n"
   ]
  },
  {
   "cell_type": "code",
   "execution_count": 1,
   "id": "488aadfe-8332-4a40-9b2c-d7ed80d93af2",
   "metadata": {},
   "outputs": [
    {
     "data": {
      "text/html": [
       "        <script type=\"text/javascript\">\n",
       "        window.PlotlyConfig = {MathJaxConfig: 'local'};\n",
       "        if (window.MathJax && window.MathJax.Hub && window.MathJax.Hub.Config) {window.MathJax.Hub.Config({SVG: {font: \"STIX-Web\"}});}\n",
       "        if (typeof require !== 'undefined') {\n",
       "        require.undef(\"plotly\");\n",
       "        requirejs.config({\n",
       "            paths: {\n",
       "                'plotly': ['https://cdn.plot.ly/plotly-2.14.0.min']\n",
       "            }\n",
       "        });\n",
       "        require(['plotly'], function(Plotly) {\n",
       "            window._Plotly = Plotly;\n",
       "        });\n",
       "        }\n",
       "        </script>\n",
       "        "
      ]
     },
     "metadata": {},
     "output_type": "display_data"
    }
   ],
   "source": [
    "# libreria para trabajar con mapas \n",
    "import folium \n",
    "import pandas as pd\n",
    "from folium import plugins\n",
    "\n",
    "import plotly.figure_factory as ff\n",
    "import plotly as plt\n",
    "import plotly.express as px\n",
    "plt.offline.init_notebook_mode(connected=True)"
   ]
  },
  {
   "cell_type": "markdown",
   "id": "f2a48aab-89c3-4556-9d72-ee19dd3cf3cc",
   "metadata": {},
   "source": [
    "<a id='Mapas'></a>\n",
    "## Mapas 🌎\n",
    "\n",
    "[Inicio ▲](#Indice)\n"
   ]
  },
  {
   "cell_type": "code",
   "execution_count": 2,
   "id": "578e22f7-afc3-472e-a125-64ee385e84c0",
   "metadata": {},
   "outputs": [
    {
     "data": {
      "text/html": [
       "<div style=\"width:100%;\"><div style=\"position:relative;width:100%;height:0;padding-bottom:60%;\"><span style=\"color:#565656\">Make this Notebook Trusted to load map: File -> Trust Notebook</span><iframe srcdoc=\"&lt;!DOCTYPE html&gt;\n",
       "&lt;head&gt;    \n",
       "    &lt;meta http-equiv=&quot;content-type&quot; content=&quot;text/html; charset=UTF-8&quot; /&gt;\n",
       "    \n",
       "        &lt;script&gt;\n",
       "            L_NO_TOUCH = false;\n",
       "            L_DISABLE_3D = false;\n",
       "        &lt;/script&gt;\n",
       "    \n",
       "    &lt;style&gt;html, body {width: 100%;height: 100%;margin: 0;padding: 0;}&lt;/style&gt;\n",
       "    &lt;style&gt;#map {position:absolute;top:0;bottom:0;right:0;left:0;}&lt;/style&gt;\n",
       "    &lt;script src=&quot;https://cdn.jsdelivr.net/npm/leaflet@1.6.0/dist/leaflet.js&quot;&gt;&lt;/script&gt;\n",
       "    &lt;script src=&quot;https://code.jquery.com/jquery-1.12.4.min.js&quot;&gt;&lt;/script&gt;\n",
       "    &lt;script src=&quot;https://maxcdn.bootstrapcdn.com/bootstrap/3.2.0/js/bootstrap.min.js&quot;&gt;&lt;/script&gt;\n",
       "    &lt;script src=&quot;https://cdnjs.cloudflare.com/ajax/libs/Leaflet.awesome-markers/2.0.2/leaflet.awesome-markers.js&quot;&gt;&lt;/script&gt;\n",
       "    &lt;link rel=&quot;stylesheet&quot; href=&quot;https://cdn.jsdelivr.net/npm/leaflet@1.6.0/dist/leaflet.css&quot;/&gt;\n",
       "    &lt;link rel=&quot;stylesheet&quot; href=&quot;https://maxcdn.bootstrapcdn.com/bootstrap/3.2.0/css/bootstrap.min.css&quot;/&gt;\n",
       "    &lt;link rel=&quot;stylesheet&quot; href=&quot;https://maxcdn.bootstrapcdn.com/bootstrap/3.2.0/css/bootstrap-theme.min.css&quot;/&gt;\n",
       "    &lt;link rel=&quot;stylesheet&quot; href=&quot;https://maxcdn.bootstrapcdn.com/font-awesome/4.6.3/css/font-awesome.min.css&quot;/&gt;\n",
       "    &lt;link rel=&quot;stylesheet&quot; href=&quot;https://cdnjs.cloudflare.com/ajax/libs/Leaflet.awesome-markers/2.0.2/leaflet.awesome-markers.css&quot;/&gt;\n",
       "    &lt;link rel=&quot;stylesheet&quot; href=&quot;https://cdn.jsdelivr.net/gh/python-visualization/folium/folium/templates/leaflet.awesome.rotate.min.css&quot;/&gt;\n",
       "    \n",
       "            &lt;meta name=&quot;viewport&quot; content=&quot;width=device-width,\n",
       "                initial-scale=1.0, maximum-scale=1.0, user-scalable=no&quot; /&gt;\n",
       "            &lt;style&gt;\n",
       "                #map_a1025b2c01f9a504f169916f6a66a3a8 {\n",
       "                    position: relative;\n",
       "                    width: 100.0%;\n",
       "                    height: 100.0%;\n",
       "                    left: 0.0%;\n",
       "                    top: 0.0%;\n",
       "                }\n",
       "            &lt;/style&gt;\n",
       "        \n",
       "    &lt;script src=&quot;https://cdnjs.cloudflare.com/ajax/libs/leaflet-minimap/3.6.1/Control.MiniMap.js&quot;&gt;&lt;/script&gt;\n",
       "    &lt;link rel=&quot;stylesheet&quot; href=&quot;https://cdnjs.cloudflare.com/ajax/libs/leaflet-minimap/3.6.1/Control.MiniMap.css&quot;/&gt;\n",
       "&lt;/head&gt;\n",
       "&lt;body&gt;    \n",
       "    \n",
       "            &lt;div class=&quot;folium-map&quot; id=&quot;map_a1025b2c01f9a504f169916f6a66a3a8&quot; &gt;&lt;/div&gt;\n",
       "        \n",
       "&lt;/body&gt;\n",
       "&lt;script&gt;    \n",
       "    \n",
       "            var map_a1025b2c01f9a504f169916f6a66a3a8 = L.map(\n",
       "                &quot;map_a1025b2c01f9a504f169916f6a66a3a8&quot;,\n",
       "                {\n",
       "                    center: [-39.925826, -73.114501],\n",
       "                    crs: L.CRS.EPSG3857,\n",
       "                    zoom: 10,\n",
       "                    zoomControl: true,\n",
       "                    preferCanvas: false,\n",
       "                }\n",
       "            );\n",
       "\n",
       "            \n",
       "\n",
       "        \n",
       "    \n",
       "            var tile_layer_7e98852b54cf7c26d073df4b6fc29452 = L.tileLayer(\n",
       "                &quot;https://{s}.tile.openstreetmap.org/{z}/{x}/{y}.png&quot;,\n",
       "                {&quot;attribution&quot;: &quot;Data by \\u0026copy; \\u003ca href=\\&quot;http://openstreetmap.org\\&quot;\\u003eOpenStreetMap\\u003c/a\\u003e, under \\u003ca href=\\&quot;http://www.openstreetmap.org/copyright\\&quot;\\u003eODbL\\u003c/a\\u003e.&quot;, &quot;detectRetina&quot;: false, &quot;maxNativeZoom&quot;: 18, &quot;maxZoom&quot;: 18, &quot;minZoom&quot;: 0, &quot;noWrap&quot;: false, &quot;opacity&quot;: 1, &quot;subdomains&quot;: &quot;abc&quot;, &quot;tms&quot;: false}\n",
       "            ).addTo(map_a1025b2c01f9a504f169916f6a66a3a8);\n",
       "        \n",
       "    \n",
       "            var marker_e081412bba034443bf8fad8096e63a22 = L.marker(\n",
       "                [-39.8062305249, -73.0547464487],\n",
       "                {}\n",
       "            ).addTo(map_a1025b2c01f9a504f169916f6a66a3a8);\n",
       "        \n",
       "    \n",
       "            marker_e081412bba034443bf8fad8096e63a22.bindTooltip(\n",
       "                `&lt;div&gt;\n",
       "                     PISHUINCO\n",
       "                 &lt;/div&gt;`,\n",
       "                {&quot;sticky&quot;: true}\n",
       "            );\n",
       "        \n",
       "    \n",
       "            var marker_9b19faac8ba2fb918bad626e42fec424 = L.marker(\n",
       "                [-39.7283824204, -73.3948919817],\n",
       "                {}\n",
       "            ).addTo(map_a1025b2c01f9a504f169916f6a66a3a8);\n",
       "        \n",
       "    \n",
       "            marker_9b19faac8ba2fb918bad626e42fec424.bindTooltip(\n",
       "                `&lt;div&gt;\n",
       "                     CURIÑANCO\n",
       "                 &lt;/div&gt;`,\n",
       "                {&quot;sticky&quot;: true}\n",
       "            );\n",
       "        \n",
       "    \n",
       "            var marker_5621a5314adbf71a2792dde6bc1f1a35 = L.marker(\n",
       "                [-39.7930844112, -73.124067117],\n",
       "                {}\n",
       "            ).addTo(map_a1025b2c01f9a504f169916f6a66a3a8);\n",
       "        \n",
       "    \n",
       "            marker_5621a5314adbf71a2792dde6bc1f1a35.bindTooltip(\n",
       "                `&lt;div&gt;\n",
       "                     HUELLELHUE\n",
       "                 &lt;/div&gt;`,\n",
       "                {&quot;sticky&quot;: true}\n",
       "            );\n",
       "        \n",
       "    \n",
       "            var marker_08ff29a5f40909f5e26d30aa1f4f9e76 = L.marker(\n",
       "                [-39.8715639883, -73.1852346315],\n",
       "                {}\n",
       "            ).addTo(map_a1025b2c01f9a504f169916f6a66a3a8);\n",
       "        \n",
       "    \n",
       "            marker_08ff29a5f40909f5e26d30aa1f4f9e76.bindTooltip(\n",
       "                `&lt;div&gt;\n",
       "                     LAS GAVIOTAS\n",
       "                 &lt;/div&gt;`,\n",
       "                {&quot;sticky&quot;: true}\n",
       "            );\n",
       "        \n",
       "    \n",
       "            var marker_f5580aca1f0a4bdebb2945feb38419de = L.marker(\n",
       "                [-39.8547751549, -73.3907718436],\n",
       "                {}\n",
       "            ).addTo(map_a1025b2c01f9a504f169916f6a66a3a8);\n",
       "        \n",
       "    \n",
       "            marker_f5580aca1f0a4bdebb2945feb38419de.bindTooltip(\n",
       "                `&lt;div&gt;\n",
       "                     NIEBLA-LOS MOLINOS\n",
       "                 &lt;/div&gt;`,\n",
       "                {&quot;sticky&quot;: true}\n",
       "            );\n",
       "        \n",
       "    \n",
       "            var marker_1f18e4057b3929c35011b6864d385a72 = L.marker(\n",
       "                [-39.7603001637, -73.2705681336],\n",
       "                {}\n",
       "            ).addTo(map_a1025b2c01f9a504f169916f6a66a3a8);\n",
       "        \n",
       "    \n",
       "            marker_1f18e4057b3929c35011b6864d385a72.bindTooltip(\n",
       "                `&lt;div&gt;\n",
       "                     PUNUCAPA\n",
       "                 &lt;/div&gt;`,\n",
       "                {&quot;sticky&quot;: true}\n",
       "            );\n",
       "        \n",
       "    \n",
       "            var marker_c2b86f52cdc700bb04ebe9706de15bf5 = L.marker(\n",
       "                [-39.831480037, -73.4025892212],\n",
       "                {}\n",
       "            ).addTo(map_a1025b2c01f9a504f169916f6a66a3a8);\n",
       "        \n",
       "    \n",
       "            marker_c2b86f52cdc700bb04ebe9706de15bf5.bindTooltip(\n",
       "                `&lt;div&gt;\n",
       "                     SAN IGNACIO-PLAYA ROSADA\n",
       "                 &lt;/div&gt;`,\n",
       "                {&quot;sticky&quot;: true}\n",
       "            );\n",
       "        \n",
       "    \n",
       "            var marker_e3a9f0478f8f9e9d1bc9a7b283b746e4 = L.marker(\n",
       "                [-39.8649364171, -73.3728400295],\n",
       "                {}\n",
       "            ).addTo(map_a1025b2c01f9a504f169916f6a66a3a8);\n",
       "        \n",
       "    \n",
       "            marker_e3a9f0478f8f9e9d1bc9a7b283b746e4.bindTooltip(\n",
       "                `&lt;div&gt;\n",
       "                     TRES ESPINOS\n",
       "                 &lt;/div&gt;`,\n",
       "                {&quot;sticky&quot;: true}\n",
       "            );\n",
       "        \n",
       "    \n",
       "            var marker_3780c84e3d7013bc3e302197ef4d422d = L.marker(\n",
       "                [-39.7314121294, -73.1091043702],\n",
       "                {}\n",
       "            ).addTo(map_a1025b2c01f9a504f169916f6a66a3a8);\n",
       "        \n",
       "    \n",
       "            marker_3780c84e3d7013bc3e302197ef4d422d.bindTooltip(\n",
       "                `&lt;div&gt;\n",
       "                     VILLA CAYUMAPU\n",
       "                 &lt;/div&gt;`,\n",
       "                {&quot;sticky&quot;: true}\n",
       "            );\n",
       "        \n",
       "    \n",
       "            var marker_edcfe4b702b2400a94dccdbe1dcb7e7e = L.marker(\n",
       "                [-39.772903642, -73.1970058325],\n",
       "                {}\n",
       "            ).addTo(map_a1025b2c01f9a504f169916f6a66a3a8);\n",
       "        \n",
       "    \n",
       "            marker_edcfe4b702b2400a94dccdbe1dcb7e7e.bindTooltip(\n",
       "                `&lt;div&gt;\n",
       "                     EL ARENAL SANTA ELVIRA\n",
       "                 &lt;/div&gt;`,\n",
       "                {&quot;sticky&quot;: true}\n",
       "            );\n",
       "        \n",
       "    \n",
       "            var marker_de34715288c402fdb7b925ed4409e04c = L.marker(\n",
       "                [-39.8673123199, -73.2088638403],\n",
       "                {}\n",
       "            ).addTo(map_a1025b2c01f9a504f169916f6a66a3a8);\n",
       "        \n",
       "    \n",
       "            marker_de34715288c402fdb7b925ed4409e04c.bindTooltip(\n",
       "                `&lt;div&gt;\n",
       "                     PAILLAO\n",
       "                 &lt;/div&gt;`,\n",
       "                {&quot;sticky&quot;: true}\n",
       "            );\n",
       "        \n",
       "    \n",
       "            var marker_8cd8a3fad109127c3963a4cc9d6200a8 = L.marker(\n",
       "                [-39.7802702288, -73.2412708338],\n",
       "                {}\n",
       "            ).addTo(map_a1025b2c01f9a504f169916f6a66a3a8);\n",
       "        \n",
       "    \n",
       "            marker_8cd8a3fad109127c3963a4cc9d6200a8.bindTooltip(\n",
       "                `&lt;div&gt;\n",
       "                     CABO BLANCO\n",
       "                 &lt;/div&gt;`,\n",
       "                {&quot;sticky&quot;: true}\n",
       "            );\n",
       "        \n",
       "    \n",
       "            var marker_8132497e451915ea94ccecd6a8634906 = L.marker(\n",
       "                [-39.7737197231, -73.2102553189],\n",
       "                {}\n",
       "            ).addTo(map_a1025b2c01f9a504f169916f6a66a3a8);\n",
       "        \n",
       "    \n",
       "            marker_8132497e451915ea94ccecd6a8634906.bindTooltip(\n",
       "                `&lt;div&gt;\n",
       "                     EL ARENAL KM 2\n",
       "                 &lt;/div&gt;`,\n",
       "                {&quot;sticky&quot;: true}\n",
       "            );\n",
       "        \n",
       "    \n",
       "            var marker_a3a9798f03a20273ef845de576758665 = L.marker(\n",
       "                [-39.7772055631, -73.3135380035],\n",
       "                {}\n",
       "            ).addTo(map_a1025b2c01f9a504f169916f6a66a3a8);\n",
       "        \n",
       "    \n",
       "            marker_a3a9798f03a20273ef845de576758665.bindTooltip(\n",
       "                `&lt;div&gt;\n",
       "                     Chabelita\n",
       "                 &lt;/div&gt;`,\n",
       "                {&quot;sticky&quot;: true}\n",
       "            );\n",
       "        \n",
       "    \n",
       "            var marker_878ee988bd04338db7ed73d29dbd3ead = L.marker(\n",
       "                [-40.1296581637, -72.7254940272],\n",
       "                {}\n",
       "            ).addTo(map_a1025b2c01f9a504f169916f6a66a3a8);\n",
       "        \n",
       "    \n",
       "            marker_878ee988bd04338db7ed73d29dbd3ead.bindTooltip(\n",
       "                `&lt;div&gt;\n",
       "                     ARCO IRIS\n",
       "                 &lt;/div&gt;`,\n",
       "                {&quot;sticky&quot;: true}\n",
       "            );\n",
       "        \n",
       "    \n",
       "            var marker_d2d261c97777ff91b7bc7e8f0a69b1cc = L.marker(\n",
       "                [-40.0676228293, -72.6179175677],\n",
       "                {}\n",
       "            ).addTo(map_a1025b2c01f9a504f169916f6a66a3a8);\n",
       "        \n",
       "    \n",
       "            marker_d2d261c97777ff91b7bc7e8f0a69b1cc.bindTooltip(\n",
       "                `&lt;div&gt;\n",
       "                     EL LLOLLY\n",
       "                 &lt;/div&gt;`,\n",
       "                {&quot;sticky&quot;: true}\n",
       "            );\n",
       "        \n",
       "    \n",
       "            var marker_344589e7593e11819ee0aba8972746ac = L.marker(\n",
       "                [-40.1515807831, -72.8962419781],\n",
       "                {}\n",
       "            ).addTo(map_a1025b2c01f9a504f169916f6a66a3a8);\n",
       "        \n",
       "    \n",
       "            marker_344589e7593e11819ee0aba8972746ac.bindTooltip(\n",
       "                `&lt;div&gt;\n",
       "                     PICHIRROPULLI\n",
       "                 &lt;/div&gt;`,\n",
       "                {&quot;sticky&quot;: true}\n",
       "            );\n",
       "        \n",
       "    \n",
       "            var marker_c1e57a4223cea9fd947dff9d459e1c4f = L.marker(\n",
       "                [-39.9784746305, -72.8320348617],\n",
       "                {}\n",
       "            ).addTo(map_a1025b2c01f9a504f169916f6a66a3a8);\n",
       "        \n",
       "    \n",
       "            marker_c1e57a4223cea9fd947dff9d459e1c4f.bindTooltip(\n",
       "                `&lt;div&gt;\n",
       "                     REUMEN\n",
       "                 &lt;/div&gt;`,\n",
       "                {&quot;sticky&quot;: true}\n",
       "            );\n",
       "        \n",
       "    \n",
       "            var marker_2017952f1fc23d82d925c52f199b7e65 = L.marker(\n",
       "                [-40.1233358588, -72.6748177353],\n",
       "                {}\n",
       "            ).addTo(map_a1025b2c01f9a504f169916f6a66a3a8);\n",
       "        \n",
       "    \n",
       "            marker_2017952f1fc23d82d925c52f199b7e65.bindTooltip(\n",
       "                `&lt;div&gt;\n",
       "                     SANTA FILOMENA\n",
       "                 &lt;/div&gt;`,\n",
       "                {&quot;sticky&quot;: true}\n",
       "            );\n",
       "        \n",
       "    \n",
       "            var marker_0567d3714e92666efb83322c1983e98b = L.marker(\n",
       "                [-40.0949272285, -72.8333381781],\n",
       "                {}\n",
       "            ).addTo(map_a1025b2c01f9a504f169916f6a66a3a8);\n",
       "        \n",
       "    \n",
       "            marker_0567d3714e92666efb83322c1983e98b.bindTooltip(\n",
       "                `&lt;div&gt;\n",
       "                     MANAO\n",
       "                 &lt;/div&gt;`,\n",
       "                {&quot;sticky&quot;: true}\n",
       "            );\n",
       "        \n",
       "    \n",
       "            var marker_daf293a5a4efbb5595062dc3483c0549 = L.marker(\n",
       "                [-40.1805296564, -72.5619049938],\n",
       "                {}\n",
       "            ).addTo(map_a1025b2c01f9a504f169916f6a66a3a8);\n",
       "        \n",
       "    \n",
       "            marker_daf293a5a4efbb5595062dc3483c0549.bindTooltip(\n",
       "                `&lt;div&gt;\n",
       "                     SANTA ROSA CHICA\n",
       "                 &lt;/div&gt;`,\n",
       "                {&quot;sticky&quot;: true}\n",
       "            );\n",
       "        \n",
       "    \n",
       "            var marker_3eab33ee86bd6afc199c9053d999013e = L.marker(\n",
       "                [-40.1380925113, -72.5825449417],\n",
       "                {}\n",
       "            ).addTo(map_a1025b2c01f9a504f169916f6a66a3a8);\n",
       "        \n",
       "    \n",
       "            marker_3eab33ee86bd6afc199c9053d999013e.bindTooltip(\n",
       "                `&lt;div&gt;\n",
       "                     SANTA ROSA GRANDE\n",
       "                 &lt;/div&gt;`,\n",
       "                {&quot;sticky&quot;: true}\n",
       "            );\n",
       "        \n",
       "    \n",
       "            var marker_e74cc9613b798e4b31c3287c5f8fefae = L.marker(\n",
       "                [-40.0154940534, -72.7914597178],\n",
       "                {}\n",
       "            ).addTo(map_a1025b2c01f9a504f169916f6a66a3a8);\n",
       "        \n",
       "    \n",
       "            marker_e74cc9613b798e4b31c3287c5f8fefae.bindTooltip(\n",
       "                `&lt;div&gt;\n",
       "                     LUMACO PAILLACO\n",
       "                 &lt;/div&gt;`,\n",
       "                {&quot;sticky&quot;: true}\n",
       "            );\n",
       "        \n",
       "    \n",
       "            var marker_1f568c479c048b838be9ab133d35ca5e = L.marker(\n",
       "                [-40.0746752187, -72.6747765849],\n",
       "                {}\n",
       "            ).addTo(map_a1025b2c01f9a504f169916f6a66a3a8);\n",
       "        \n",
       "    \n",
       "            marker_1f568c479c048b838be9ab133d35ca5e.bindTooltip(\n",
       "                `&lt;div&gt;\n",
       "                     EL MAITEN\n",
       "                 &lt;/div&gt;`,\n",
       "                {&quot;sticky&quot;: true}\n",
       "            );\n",
       "        \n",
       "    \n",
       "            var marker_68cdcf0e3e58d9247c15a056f63ff934 = L.marker(\n",
       "                [-40.1221748177, -72.6855485214],\n",
       "                {}\n",
       "            ).addTo(map_a1025b2c01f9a504f169916f6a66a3a8);\n",
       "        \n",
       "    \n",
       "            marker_68cdcf0e3e58d9247c15a056f63ff934.bindTooltip(\n",
       "                `&lt;div&gt;\n",
       "                     SANTA FILOMENA II\n",
       "                 &lt;/div&gt;`,\n",
       "                {&quot;sticky&quot;: true}\n",
       "            );\n",
       "        \n",
       "    \n",
       "            var marker_5bc380f2141975b8cf7eedab09375d34 = L.marker(\n",
       "                [-39.8074856345, -72.9572455712],\n",
       "                {}\n",
       "            ).addTo(map_a1025b2c01f9a504f169916f6a66a3a8);\n",
       "        \n",
       "    \n",
       "            marker_5bc380f2141975b8cf7eedab09375d34.bindTooltip(\n",
       "                `&lt;div&gt;\n",
       "                     ANTILHUE\n",
       "                 &lt;/div&gt;`,\n",
       "                {&quot;sticky&quot;: true}\n",
       "            );\n",
       "        \n",
       "    \n",
       "            var marker_4f1335ef49cbb96e587af3f3e36bd853 = L.marker(\n",
       "                [-39.8710682914, -72.6678013129],\n",
       "                {}\n",
       "            ).addTo(map_a1025b2c01f9a504f169916f6a66a3a8);\n",
       "        \n",
       "    \n",
       "            marker_4f1335ef49cbb96e587af3f3e36bd853.bindTooltip(\n",
       "                `&lt;div&gt;\n",
       "                     FOLILCO LOS LAGOS\n",
       "                 &lt;/div&gt;`,\n",
       "                {&quot;sticky&quot;: true}\n",
       "            );\n",
       "        \n",
       "    \n",
       "            var marker_1b786e8712e019cdfd95841fbd36bef7 = L.marker(\n",
       "                [-39.9084433218, -72.5733916686],\n",
       "                {}\n",
       "            ).addTo(map_a1025b2c01f9a504f169916f6a66a3a8);\n",
       "        \n",
       "    \n",
       "            marker_1b786e8712e019cdfd95841fbd36bef7.bindTooltip(\n",
       "                `&lt;div&gt;\n",
       "                     QUILQUILCO\n",
       "                 &lt;/div&gt;`,\n",
       "                {&quot;sticky&quot;: true}\n",
       "            );\n",
       "        \n",
       "    \n",
       "            var marker_68261aa25a5cc737b3d1409bf386d137 = L.marker(\n",
       "                [-39.8171126188, -72.4425065285],\n",
       "                {}\n",
       "            ).addTo(map_a1025b2c01f9a504f169916f6a66a3a8);\n",
       "        \n",
       "    \n",
       "            marker_68261aa25a5cc737b3d1409bf386d137.bindTooltip(\n",
       "                `&lt;div&gt;\n",
       "                     RIÑIHUE\n",
       "                 &lt;/div&gt;`,\n",
       "                {&quot;sticky&quot;: true}\n",
       "            );\n",
       "        \n",
       "    \n",
       "            var marker_c5ee893218975485487d80937dcf1493 = L.marker(\n",
       "                [-39.7751787818, -72.6519491619],\n",
       "                {}\n",
       "            ).addTo(map_a1025b2c01f9a504f169916f6a66a3a8);\n",
       "        \n",
       "    \n",
       "            marker_c5ee893218975485487d80937dcf1493.bindTooltip(\n",
       "                `&lt;div&gt;\n",
       "                     USTARITZ\n",
       "                 &lt;/div&gt;`,\n",
       "                {&quot;sticky&quot;: true}\n",
       "            );\n",
       "        \n",
       "    \n",
       "            var marker_cd1f064b8e63c1e11f0f2e21a83780e5 = L.marker(\n",
       "                [-39.9987530843, -72.7108188025],\n",
       "                {}\n",
       "            ).addTo(map_a1025b2c01f9a504f169916f6a66a3a8);\n",
       "        \n",
       "    \n",
       "            marker_cd1f064b8e63c1e11f0f2e21a83780e5.bindTooltip(\n",
       "                `&lt;div&gt;\n",
       "                     EL SALTO\n",
       "                 &lt;/div&gt;`,\n",
       "                {&quot;sticky&quot;: true}\n",
       "            );\n",
       "        \n",
       "    \n",
       "            var marker_8cf9bb830aba587499e646279db83c2b = L.marker(\n",
       "                [-40.0154665081, -72.5215180883],\n",
       "                {}\n",
       "            ).addTo(map_a1025b2c01f9a504f169916f6a66a3a8);\n",
       "        \n",
       "    \n",
       "            marker_8cf9bb830aba587499e646279db83c2b.bindTooltip(\n",
       "                `&lt;div&gt;\n",
       "                     PELLINADA LAS QUINIENTAS\n",
       "                 &lt;/div&gt;`,\n",
       "                {&quot;sticky&quot;: true}\n",
       "            );\n",
       "        \n",
       "    \n",
       "            var marker_92df34de6e1e751a6e1ccee693e36400 = L.marker(\n",
       "                [-39.8526730412, -72.7929315347],\n",
       "                {}\n",
       "            ).addTo(map_a1025b2c01f9a504f169916f6a66a3a8);\n",
       "        \n",
       "    \n",
       "            marker_92df34de6e1e751a6e1ccee693e36400.bindTooltip(\n",
       "                `&lt;div&gt;\n",
       "                     PANCUL\n",
       "                 &lt;/div&gt;`,\n",
       "                {&quot;sticky&quot;: true}\n",
       "            );\n",
       "        \n",
       "    \n",
       "            var marker_280dbdb5ac5485c75d5310733bc2ae53 = L.marker(\n",
       "                [-39.8705154943, -72.781619174],\n",
       "                {}\n",
       "            ).addTo(map_a1025b2c01f9a504f169916f6a66a3a8);\n",
       "        \n",
       "    \n",
       "            marker_280dbdb5ac5485c75d5310733bc2ae53.bindTooltip(\n",
       "                `&lt;div&gt;\n",
       "                     LOS COLIGÜES\n",
       "                 &lt;/div&gt;`,\n",
       "                {&quot;sticky&quot;: true}\n",
       "            );\n",
       "        \n",
       "    \n",
       "            var marker_17586d7129f2316f94cac76b71b72700 = L.marker(\n",
       "                [-39.8817714432, -72.6708273322],\n",
       "                {}\n",
       "            ).addTo(map_a1025b2c01f9a504f169916f6a66a3a8);\n",
       "        \n",
       "    \n",
       "            marker_17586d7129f2316f94cac76b71b72700.bindTooltip(\n",
       "                `&lt;div&gt;\n",
       "                     COLO COLO\n",
       "                 &lt;/div&gt;`,\n",
       "                {&quot;sticky&quot;: true}\n",
       "            );\n",
       "        \n",
       "    \n",
       "            var marker_c39d4bed5481a742424fec1000915eba = L.marker(\n",
       "                [-39.9027809062, -72.5930946759],\n",
       "                {}\n",
       "            ).addTo(map_a1025b2c01f9a504f169916f6a66a3a8);\n",
       "        \n",
       "    \n",
       "            marker_c39d4bed5481a742424fec1000915eba.bindTooltip(\n",
       "                `&lt;div&gt;\n",
       "                     LAS HUELLLAS\n",
       "                 &lt;/div&gt;`,\n",
       "                {&quot;sticky&quot;: true}\n",
       "            );\n",
       "        \n",
       "    \n",
       "            var marker_12028bb8d16d93f4dfbb4f4a27c0bedb = L.marker(\n",
       "                [-39.8171525324, -72.6981700465],\n",
       "                {}\n",
       "            ).addTo(map_a1025b2c01f9a504f169916f6a66a3a8);\n",
       "        \n",
       "    \n",
       "            marker_12028bb8d16d93f4dfbb4f4a27c0bedb.bindTooltip(\n",
       "                `&lt;div&gt;\n",
       "                     San Pedro\n",
       "                 &lt;/div&gt;`,\n",
       "                {&quot;sticky&quot;: true}\n",
       "            );\n",
       "        \n",
       "    \n",
       "            var marker_d52030103422af3cc078872a23be8fa9 = L.marker(\n",
       "                [-39.9151109593, -72.78974687],\n",
       "                {}\n",
       "            ).addTo(map_a1025b2c01f9a504f169916f6a66a3a8);\n",
       "        \n",
       "    \n",
       "            marker_d52030103422af3cc078872a23be8fa9.bindTooltip(\n",
       "                `&lt;div&gt;\n",
       "                     Lipingue\n",
       "                 &lt;/div&gt;`,\n",
       "                {&quot;sticky&quot;: true}\n",
       "            );\n",
       "        \n",
       "    \n",
       "            var marker_052f44fac334d504071b0af9ec342b45 = L.marker(\n",
       "                [-39.9809683663, -72.7929665382],\n",
       "                {}\n",
       "            ).addTo(map_a1025b2c01f9a504f169916f6a66a3a8);\n",
       "        \n",
       "    \n",
       "            marker_052f44fac334d504071b0af9ec342b45.bindTooltip(\n",
       "                `&lt;div&gt;\n",
       "                     El Trebol\n",
       "                 &lt;/div&gt;`,\n",
       "                {&quot;sticky&quot;: true}\n",
       "            );\n",
       "        \n",
       "    \n",
       "            var marker_7cb9491a6273443fd495dafeee990ac8 = L.marker(\n",
       "                [-39.891383155, -72.7942956633],\n",
       "                {}\n",
       "            ).addTo(map_a1025b2c01f9a504f169916f6a66a3a8);\n",
       "        \n",
       "    \n",
       "            marker_7cb9491a6273443fd495dafeee990ac8.bindTooltip(\n",
       "                `&lt;div&gt;\n",
       "                     Collico Sur\n",
       "                 &lt;/div&gt;`,\n",
       "                {&quot;sticky&quot;: true}\n",
       "            );\n",
       "        \n",
       "    \n",
       "            var marker_7b868559c66686468215428d77357678 = L.marker(\n",
       "                [-39.854954476, -72.6609940373],\n",
       "                {}\n",
       "            ).addTo(map_a1025b2c01f9a504f169916f6a66a3a8);\n",
       "        \n",
       "    \n",
       "            marker_7b868559c66686468215428d77357678.bindTooltip(\n",
       "                `&lt;div&gt;\n",
       "                     Mi Tierra\n",
       "                 &lt;/div&gt;`,\n",
       "                {&quot;sticky&quot;: true}\n",
       "            );\n",
       "        \n",
       "    \n",
       "            var marker_7eeb80217bd99c4e2af7b533fadaa82f = L.marker(\n",
       "                [-39.8597946179, -72.7236128048],\n",
       "                {}\n",
       "            ).addTo(map_a1025b2c01f9a504f169916f6a66a3a8);\n",
       "        \n",
       "    \n",
       "            marker_7eeb80217bd99c4e2af7b533fadaa82f.bindTooltip(\n",
       "                `&lt;div&gt;\n",
       "                     Puñaco\n",
       "                 &lt;/div&gt;`,\n",
       "                {&quot;sticky&quot;: true}\n",
       "            );\n",
       "        \n",
       "    \n",
       "            var marker_3cc792d7d7daa54f30844d6b42450aa4 = L.marker(\n",
       "                [-39.8183071179, -72.8753063555],\n",
       "                {}\n",
       "            ).addTo(map_a1025b2c01f9a504f169916f6a66a3a8);\n",
       "        \n",
       "    \n",
       "            marker_3cc792d7d7daa54f30844d6b42450aa4.bindTooltip(\n",
       "                `&lt;div&gt;\n",
       "                     Purey\n",
       "                 &lt;/div&gt;`,\n",
       "                {&quot;sticky&quot;: true}\n",
       "            );\n",
       "        \n",
       "    \n",
       "            var marker_c1dec505c22d0977151927afd36f8046 = L.marker(\n",
       "                [-39.8631470531, -73.4340874604],\n",
       "                {}\n",
       "            ).addTo(map_a1025b2c01f9a504f169916f6a66a3a8);\n",
       "        \n",
       "    \n",
       "            marker_c1dec505c22d0977151927afd36f8046.bindTooltip(\n",
       "                `&lt;div&gt;\n",
       "                     AMARGO-SAN CARLOS\n",
       "                 &lt;/div&gt;`,\n",
       "                {&quot;sticky&quot;: true}\n",
       "            );\n",
       "        \n",
       "    \n",
       "            var marker_b1ff8628de9643e664ec2ecae03350d9 = L.marker(\n",
       "                [-39.8754350487, -73.3587930086],\n",
       "                {}\n",
       "            ).addTo(map_a1025b2c01f9a504f169916f6a66a3a8);\n",
       "        \n",
       "    \n",
       "            marker_b1ff8628de9643e664ec2ecae03350d9.bindTooltip(\n",
       "                `&lt;div&gt;\n",
       "                     ISLA DEL REY\n",
       "                 &lt;/div&gt;`,\n",
       "                {&quot;sticky&quot;: true}\n",
       "            );\n",
       "        \n",
       "    \n",
       "            var marker_31ad551d0d93639565ead48039356182 = L.marker(\n",
       "                [-39.8905057848, -73.3917808877],\n",
       "                {}\n",
       "            ).addTo(map_a1025b2c01f9a504f169916f6a66a3a8);\n",
       "        \n",
       "    \n",
       "            marker_31ad551d0d93639565ead48039356182.bindTooltip(\n",
       "                `&lt;div&gt;\n",
       "                     ISLA MANCERA\n",
       "                 &lt;/div&gt;`,\n",
       "                {&quot;sticky&quot;: true}\n",
       "            );\n",
       "        \n",
       "    \n",
       "            var marker_e9cfc1b1cd48aa66e934bd77f02edc7a = L.marker(\n",
       "                [-39.8964415368, -73.417776163],\n",
       "                {}\n",
       "            ).addTo(map_a1025b2c01f9a504f169916f6a66a3a8);\n",
       "        \n",
       "    \n",
       "            marker_e9cfc1b1cd48aa66e934bd77f02edc7a.bindTooltip(\n",
       "                `&lt;div&gt;\n",
       "                     LA AGUADA\n",
       "                 &lt;/div&gt;`,\n",
       "                {&quot;sticky&quot;: true}\n",
       "            );\n",
       "        \n",
       "    \n",
       "            var marker_756cdc7cfb9942f224139a412907c538 = L.marker(\n",
       "                [-39.9656281859, -73.6194983481],\n",
       "                {}\n",
       "            ).addTo(map_a1025b2c01f9a504f169916f6a66a3a8);\n",
       "        \n",
       "    \n",
       "            marker_756cdc7cfb9942f224139a412907c538.bindTooltip(\n",
       "                `&lt;div&gt;\n",
       "                     CHAIHUIN\n",
       "                 &lt;/div&gt;`,\n",
       "                {&quot;sticky&quot;: true}\n",
       "            );\n",
       "        \n",
       "    \n",
       "            var marker_21dc2652806bb7f33c034797e93a54db = L.marker(\n",
       "                [-39.8970045115, -73.4310820761],\n",
       "                {}\n",
       "            ).addTo(map_a1025b2c01f9a504f169916f6a66a3a8);\n",
       "        \n",
       "    \n",
       "            marker_21dc2652806bb7f33c034797e93a54db.bindTooltip(\n",
       "                `&lt;div&gt;\n",
       "                     CERROS DE CORRAL\n",
       "                 &lt;/div&gt;`,\n",
       "                {&quot;sticky&quot;: true}\n",
       "            );\n",
       "        \n",
       "    \n",
       "            var circle_marker_f4436f58bc60bd850a84e6a8c39eb18a = L.circleMarker(\n",
       "                [-39.8062305249, -73.0547464487],\n",
       "                {&quot;bubblingMouseEvents&quot;: true, &quot;color&quot;: &quot;#3388ff&quot;, &quot;dashArray&quot;: null, &quot;dashOffset&quot;: null, &quot;fill&quot;: false, &quot;fillColor&quot;: &quot;#3388ff&quot;, &quot;fillOpacity&quot;: 0.2, &quot;fillRule&quot;: &quot;evenodd&quot;, &quot;lineCap&quot;: &quot;round&quot;, &quot;lineJoin&quot;: &quot;round&quot;, &quot;opacity&quot;: 1.0, &quot;radius&quot;: 5, &quot;stroke&quot;: true, &quot;weight&quot;: 3}\n",
       "            ).addTo(map_a1025b2c01f9a504f169916f6a66a3a8);\n",
       "        \n",
       "    \n",
       "            var circle_marker_15d3191f9a8b7c0c3c84879c2b4bef4e = L.circleMarker(\n",
       "                [-39.7283824204, -73.3948919817],\n",
       "                {&quot;bubblingMouseEvents&quot;: true, &quot;color&quot;: &quot;#3388ff&quot;, &quot;dashArray&quot;: null, &quot;dashOffset&quot;: null, &quot;fill&quot;: false, &quot;fillColor&quot;: &quot;#3388ff&quot;, &quot;fillOpacity&quot;: 0.2, &quot;fillRule&quot;: &quot;evenodd&quot;, &quot;lineCap&quot;: &quot;round&quot;, &quot;lineJoin&quot;: &quot;round&quot;, &quot;opacity&quot;: 1.0, &quot;radius&quot;: 5, &quot;stroke&quot;: true, &quot;weight&quot;: 3}\n",
       "            ).addTo(map_a1025b2c01f9a504f169916f6a66a3a8);\n",
       "        \n",
       "    \n",
       "            var circle_marker_47672189d4eea7a32feb71a9906df210 = L.circleMarker(\n",
       "                [-39.7930844112, -73.124067117],\n",
       "                {&quot;bubblingMouseEvents&quot;: true, &quot;color&quot;: &quot;#3388ff&quot;, &quot;dashArray&quot;: null, &quot;dashOffset&quot;: null, &quot;fill&quot;: false, &quot;fillColor&quot;: &quot;#3388ff&quot;, &quot;fillOpacity&quot;: 0.2, &quot;fillRule&quot;: &quot;evenodd&quot;, &quot;lineCap&quot;: &quot;round&quot;, &quot;lineJoin&quot;: &quot;round&quot;, &quot;opacity&quot;: 1.0, &quot;radius&quot;: 5, &quot;stroke&quot;: true, &quot;weight&quot;: 3}\n",
       "            ).addTo(map_a1025b2c01f9a504f169916f6a66a3a8);\n",
       "        \n",
       "    \n",
       "            var circle_marker_ce629714fd2e159df3864e5ebd2bb4da = L.circleMarker(\n",
       "                [-39.8715639883, -73.1852346315],\n",
       "                {&quot;bubblingMouseEvents&quot;: true, &quot;color&quot;: &quot;#3388ff&quot;, &quot;dashArray&quot;: null, &quot;dashOffset&quot;: null, &quot;fill&quot;: false, &quot;fillColor&quot;: &quot;#3388ff&quot;, &quot;fillOpacity&quot;: 0.2, &quot;fillRule&quot;: &quot;evenodd&quot;, &quot;lineCap&quot;: &quot;round&quot;, &quot;lineJoin&quot;: &quot;round&quot;, &quot;opacity&quot;: 1.0, &quot;radius&quot;: 5, &quot;stroke&quot;: true, &quot;weight&quot;: 3}\n",
       "            ).addTo(map_a1025b2c01f9a504f169916f6a66a3a8);\n",
       "        \n",
       "    \n",
       "            var circle_marker_e725ddf8426ff49fd31ef26fb4227cc3 = L.circleMarker(\n",
       "                [-39.8547751549, -73.3907718436],\n",
       "                {&quot;bubblingMouseEvents&quot;: true, &quot;color&quot;: &quot;#3388ff&quot;, &quot;dashArray&quot;: null, &quot;dashOffset&quot;: null, &quot;fill&quot;: false, &quot;fillColor&quot;: &quot;#3388ff&quot;, &quot;fillOpacity&quot;: 0.2, &quot;fillRule&quot;: &quot;evenodd&quot;, &quot;lineCap&quot;: &quot;round&quot;, &quot;lineJoin&quot;: &quot;round&quot;, &quot;opacity&quot;: 1.0, &quot;radius&quot;: 5, &quot;stroke&quot;: true, &quot;weight&quot;: 3}\n",
       "            ).addTo(map_a1025b2c01f9a504f169916f6a66a3a8);\n",
       "        \n",
       "    \n",
       "            var circle_marker_99acc31562a8fcd76281f3751498d7d1 = L.circleMarker(\n",
       "                [-39.7603001637, -73.2705681336],\n",
       "                {&quot;bubblingMouseEvents&quot;: true, &quot;color&quot;: &quot;#3388ff&quot;, &quot;dashArray&quot;: null, &quot;dashOffset&quot;: null, &quot;fill&quot;: false, &quot;fillColor&quot;: &quot;#3388ff&quot;, &quot;fillOpacity&quot;: 0.2, &quot;fillRule&quot;: &quot;evenodd&quot;, &quot;lineCap&quot;: &quot;round&quot;, &quot;lineJoin&quot;: &quot;round&quot;, &quot;opacity&quot;: 1.0, &quot;radius&quot;: 5, &quot;stroke&quot;: true, &quot;weight&quot;: 3}\n",
       "            ).addTo(map_a1025b2c01f9a504f169916f6a66a3a8);\n",
       "        \n",
       "    \n",
       "            var circle_marker_5d11d494dd730cfe47f5b9d704d08cac = L.circleMarker(\n",
       "                [-39.831480037, -73.4025892212],\n",
       "                {&quot;bubblingMouseEvents&quot;: true, &quot;color&quot;: &quot;#3388ff&quot;, &quot;dashArray&quot;: null, &quot;dashOffset&quot;: null, &quot;fill&quot;: false, &quot;fillColor&quot;: &quot;#3388ff&quot;, &quot;fillOpacity&quot;: 0.2, &quot;fillRule&quot;: &quot;evenodd&quot;, &quot;lineCap&quot;: &quot;round&quot;, &quot;lineJoin&quot;: &quot;round&quot;, &quot;opacity&quot;: 1.0, &quot;radius&quot;: 5, &quot;stroke&quot;: true, &quot;weight&quot;: 3}\n",
       "            ).addTo(map_a1025b2c01f9a504f169916f6a66a3a8);\n",
       "        \n",
       "    \n",
       "            var circle_marker_24f643e1ae0aeae9a387a0c205558946 = L.circleMarker(\n",
       "                [-39.8649364171, -73.3728400295],\n",
       "                {&quot;bubblingMouseEvents&quot;: true, &quot;color&quot;: &quot;#3388ff&quot;, &quot;dashArray&quot;: null, &quot;dashOffset&quot;: null, &quot;fill&quot;: false, &quot;fillColor&quot;: &quot;#3388ff&quot;, &quot;fillOpacity&quot;: 0.2, &quot;fillRule&quot;: &quot;evenodd&quot;, &quot;lineCap&quot;: &quot;round&quot;, &quot;lineJoin&quot;: &quot;round&quot;, &quot;opacity&quot;: 1.0, &quot;radius&quot;: 5, &quot;stroke&quot;: true, &quot;weight&quot;: 3}\n",
       "            ).addTo(map_a1025b2c01f9a504f169916f6a66a3a8);\n",
       "        \n",
       "    \n",
       "            var circle_marker_b80aee04ec6c3f72b282b27a40c951dc = L.circleMarker(\n",
       "                [-39.7314121294, -73.1091043702],\n",
       "                {&quot;bubblingMouseEvents&quot;: true, &quot;color&quot;: &quot;#3388ff&quot;, &quot;dashArray&quot;: null, &quot;dashOffset&quot;: null, &quot;fill&quot;: false, &quot;fillColor&quot;: &quot;#3388ff&quot;, &quot;fillOpacity&quot;: 0.2, &quot;fillRule&quot;: &quot;evenodd&quot;, &quot;lineCap&quot;: &quot;round&quot;, &quot;lineJoin&quot;: &quot;round&quot;, &quot;opacity&quot;: 1.0, &quot;radius&quot;: 5, &quot;stroke&quot;: true, &quot;weight&quot;: 3}\n",
       "            ).addTo(map_a1025b2c01f9a504f169916f6a66a3a8);\n",
       "        \n",
       "    \n",
       "            var circle_marker_4e903e65b61aa519f9d4c47a90adbe05 = L.circleMarker(\n",
       "                [-39.772903642, -73.1970058325],\n",
       "                {&quot;bubblingMouseEvents&quot;: true, &quot;color&quot;: &quot;#3388ff&quot;, &quot;dashArray&quot;: null, &quot;dashOffset&quot;: null, &quot;fill&quot;: false, &quot;fillColor&quot;: &quot;#3388ff&quot;, &quot;fillOpacity&quot;: 0.2, &quot;fillRule&quot;: &quot;evenodd&quot;, &quot;lineCap&quot;: &quot;round&quot;, &quot;lineJoin&quot;: &quot;round&quot;, &quot;opacity&quot;: 1.0, &quot;radius&quot;: 5, &quot;stroke&quot;: true, &quot;weight&quot;: 3}\n",
       "            ).addTo(map_a1025b2c01f9a504f169916f6a66a3a8);\n",
       "        \n",
       "    \n",
       "            var circle_marker_8003d67f9fb18b21a28842f7cf6255fe = L.circleMarker(\n",
       "                [-39.8673123199, -73.2088638403],\n",
       "                {&quot;bubblingMouseEvents&quot;: true, &quot;color&quot;: &quot;#3388ff&quot;, &quot;dashArray&quot;: null, &quot;dashOffset&quot;: null, &quot;fill&quot;: false, &quot;fillColor&quot;: &quot;#3388ff&quot;, &quot;fillOpacity&quot;: 0.2, &quot;fillRule&quot;: &quot;evenodd&quot;, &quot;lineCap&quot;: &quot;round&quot;, &quot;lineJoin&quot;: &quot;round&quot;, &quot;opacity&quot;: 1.0, &quot;radius&quot;: 5, &quot;stroke&quot;: true, &quot;weight&quot;: 3}\n",
       "            ).addTo(map_a1025b2c01f9a504f169916f6a66a3a8);\n",
       "        \n",
       "    \n",
       "            var circle_marker_010a14d33d515282a4c20d0844d3d5af = L.circleMarker(\n",
       "                [-39.7802702288, -73.2412708338],\n",
       "                {&quot;bubblingMouseEvents&quot;: true, &quot;color&quot;: &quot;#3388ff&quot;, &quot;dashArray&quot;: null, &quot;dashOffset&quot;: null, &quot;fill&quot;: false, &quot;fillColor&quot;: &quot;#3388ff&quot;, &quot;fillOpacity&quot;: 0.2, &quot;fillRule&quot;: &quot;evenodd&quot;, &quot;lineCap&quot;: &quot;round&quot;, &quot;lineJoin&quot;: &quot;round&quot;, &quot;opacity&quot;: 1.0, &quot;radius&quot;: 5, &quot;stroke&quot;: true, &quot;weight&quot;: 3}\n",
       "            ).addTo(map_a1025b2c01f9a504f169916f6a66a3a8);\n",
       "        \n",
       "    \n",
       "            var circle_marker_23925ba3581566251df188834fb0622f = L.circleMarker(\n",
       "                [-39.7737197231, -73.2102553189],\n",
       "                {&quot;bubblingMouseEvents&quot;: true, &quot;color&quot;: &quot;#3388ff&quot;, &quot;dashArray&quot;: null, &quot;dashOffset&quot;: null, &quot;fill&quot;: false, &quot;fillColor&quot;: &quot;#3388ff&quot;, &quot;fillOpacity&quot;: 0.2, &quot;fillRule&quot;: &quot;evenodd&quot;, &quot;lineCap&quot;: &quot;round&quot;, &quot;lineJoin&quot;: &quot;round&quot;, &quot;opacity&quot;: 1.0, &quot;radius&quot;: 5, &quot;stroke&quot;: true, &quot;weight&quot;: 3}\n",
       "            ).addTo(map_a1025b2c01f9a504f169916f6a66a3a8);\n",
       "        \n",
       "    \n",
       "            var circle_marker_229ff42562fdc3b3745f671d1c2f6bff = L.circleMarker(\n",
       "                [-39.7772055631, -73.3135380035],\n",
       "                {&quot;bubblingMouseEvents&quot;: true, &quot;color&quot;: &quot;#3388ff&quot;, &quot;dashArray&quot;: null, &quot;dashOffset&quot;: null, &quot;fill&quot;: false, &quot;fillColor&quot;: &quot;#3388ff&quot;, &quot;fillOpacity&quot;: 0.2, &quot;fillRule&quot;: &quot;evenodd&quot;, &quot;lineCap&quot;: &quot;round&quot;, &quot;lineJoin&quot;: &quot;round&quot;, &quot;opacity&quot;: 1.0, &quot;radius&quot;: 5, &quot;stroke&quot;: true, &quot;weight&quot;: 3}\n",
       "            ).addTo(map_a1025b2c01f9a504f169916f6a66a3a8);\n",
       "        \n",
       "    \n",
       "            var circle_marker_c6b736b994a8a721320e1df8dc230da1 = L.circleMarker(\n",
       "                [-40.1296581637, -72.7254940272],\n",
       "                {&quot;bubblingMouseEvents&quot;: true, &quot;color&quot;: &quot;#3388ff&quot;, &quot;dashArray&quot;: null, &quot;dashOffset&quot;: null, &quot;fill&quot;: false, &quot;fillColor&quot;: &quot;#3388ff&quot;, &quot;fillOpacity&quot;: 0.2, &quot;fillRule&quot;: &quot;evenodd&quot;, &quot;lineCap&quot;: &quot;round&quot;, &quot;lineJoin&quot;: &quot;round&quot;, &quot;opacity&quot;: 1.0, &quot;radius&quot;: 5, &quot;stroke&quot;: true, &quot;weight&quot;: 3}\n",
       "            ).addTo(map_a1025b2c01f9a504f169916f6a66a3a8);\n",
       "        \n",
       "    \n",
       "            var circle_marker_8d68a8bb6746ee6a9c9ce217d597fa4f = L.circleMarker(\n",
       "                [-40.0676228293, -72.6179175677],\n",
       "                {&quot;bubblingMouseEvents&quot;: true, &quot;color&quot;: &quot;#3388ff&quot;, &quot;dashArray&quot;: null, &quot;dashOffset&quot;: null, &quot;fill&quot;: false, &quot;fillColor&quot;: &quot;#3388ff&quot;, &quot;fillOpacity&quot;: 0.2, &quot;fillRule&quot;: &quot;evenodd&quot;, &quot;lineCap&quot;: &quot;round&quot;, &quot;lineJoin&quot;: &quot;round&quot;, &quot;opacity&quot;: 1.0, &quot;radius&quot;: 5, &quot;stroke&quot;: true, &quot;weight&quot;: 3}\n",
       "            ).addTo(map_a1025b2c01f9a504f169916f6a66a3a8);\n",
       "        \n",
       "    \n",
       "            var circle_marker_d82007ba239f89171cdc548fd362659b = L.circleMarker(\n",
       "                [-40.1515807831, -72.8962419781],\n",
       "                {&quot;bubblingMouseEvents&quot;: true, &quot;color&quot;: &quot;#3388ff&quot;, &quot;dashArray&quot;: null, &quot;dashOffset&quot;: null, &quot;fill&quot;: false, &quot;fillColor&quot;: &quot;#3388ff&quot;, &quot;fillOpacity&quot;: 0.2, &quot;fillRule&quot;: &quot;evenodd&quot;, &quot;lineCap&quot;: &quot;round&quot;, &quot;lineJoin&quot;: &quot;round&quot;, &quot;opacity&quot;: 1.0, &quot;radius&quot;: 5, &quot;stroke&quot;: true, &quot;weight&quot;: 3}\n",
       "            ).addTo(map_a1025b2c01f9a504f169916f6a66a3a8);\n",
       "        \n",
       "    \n",
       "            var circle_marker_f1b35ac3f1fc04789d90ced2c68666b9 = L.circleMarker(\n",
       "                [-39.9784746305, -72.8320348617],\n",
       "                {&quot;bubblingMouseEvents&quot;: true, &quot;color&quot;: &quot;#3388ff&quot;, &quot;dashArray&quot;: null, &quot;dashOffset&quot;: null, &quot;fill&quot;: false, &quot;fillColor&quot;: &quot;#3388ff&quot;, &quot;fillOpacity&quot;: 0.2, &quot;fillRule&quot;: &quot;evenodd&quot;, &quot;lineCap&quot;: &quot;round&quot;, &quot;lineJoin&quot;: &quot;round&quot;, &quot;opacity&quot;: 1.0, &quot;radius&quot;: 5, &quot;stroke&quot;: true, &quot;weight&quot;: 3}\n",
       "            ).addTo(map_a1025b2c01f9a504f169916f6a66a3a8);\n",
       "        \n",
       "    \n",
       "            var circle_marker_73a7cb4ae66708e70942964bbe465fcf = L.circleMarker(\n",
       "                [-40.1233358588, -72.6748177353],\n",
       "                {&quot;bubblingMouseEvents&quot;: true, &quot;color&quot;: &quot;#3388ff&quot;, &quot;dashArray&quot;: null, &quot;dashOffset&quot;: null, &quot;fill&quot;: false, &quot;fillColor&quot;: &quot;#3388ff&quot;, &quot;fillOpacity&quot;: 0.2, &quot;fillRule&quot;: &quot;evenodd&quot;, &quot;lineCap&quot;: &quot;round&quot;, &quot;lineJoin&quot;: &quot;round&quot;, &quot;opacity&quot;: 1.0, &quot;radius&quot;: 5, &quot;stroke&quot;: true, &quot;weight&quot;: 3}\n",
       "            ).addTo(map_a1025b2c01f9a504f169916f6a66a3a8);\n",
       "        \n",
       "    \n",
       "            var circle_marker_0813b46f9c6519b59da10a5ecf9afb07 = L.circleMarker(\n",
       "                [-40.0949272285, -72.8333381781],\n",
       "                {&quot;bubblingMouseEvents&quot;: true, &quot;color&quot;: &quot;#3388ff&quot;, &quot;dashArray&quot;: null, &quot;dashOffset&quot;: null, &quot;fill&quot;: false, &quot;fillColor&quot;: &quot;#3388ff&quot;, &quot;fillOpacity&quot;: 0.2, &quot;fillRule&quot;: &quot;evenodd&quot;, &quot;lineCap&quot;: &quot;round&quot;, &quot;lineJoin&quot;: &quot;round&quot;, &quot;opacity&quot;: 1.0, &quot;radius&quot;: 5, &quot;stroke&quot;: true, &quot;weight&quot;: 3}\n",
       "            ).addTo(map_a1025b2c01f9a504f169916f6a66a3a8);\n",
       "        \n",
       "    \n",
       "            var circle_marker_17782d601775d71d09a24506e5f26eb1 = L.circleMarker(\n",
       "                [-40.1805296564, -72.5619049938],\n",
       "                {&quot;bubblingMouseEvents&quot;: true, &quot;color&quot;: &quot;#3388ff&quot;, &quot;dashArray&quot;: null, &quot;dashOffset&quot;: null, &quot;fill&quot;: false, &quot;fillColor&quot;: &quot;#3388ff&quot;, &quot;fillOpacity&quot;: 0.2, &quot;fillRule&quot;: &quot;evenodd&quot;, &quot;lineCap&quot;: &quot;round&quot;, &quot;lineJoin&quot;: &quot;round&quot;, &quot;opacity&quot;: 1.0, &quot;radius&quot;: 5, &quot;stroke&quot;: true, &quot;weight&quot;: 3}\n",
       "            ).addTo(map_a1025b2c01f9a504f169916f6a66a3a8);\n",
       "        \n",
       "    \n",
       "            var circle_marker_14ffd2daccf530fc41970dc488ccea8d = L.circleMarker(\n",
       "                [-40.1380925113, -72.5825449417],\n",
       "                {&quot;bubblingMouseEvents&quot;: true, &quot;color&quot;: &quot;#3388ff&quot;, &quot;dashArray&quot;: null, &quot;dashOffset&quot;: null, &quot;fill&quot;: false, &quot;fillColor&quot;: &quot;#3388ff&quot;, &quot;fillOpacity&quot;: 0.2, &quot;fillRule&quot;: &quot;evenodd&quot;, &quot;lineCap&quot;: &quot;round&quot;, &quot;lineJoin&quot;: &quot;round&quot;, &quot;opacity&quot;: 1.0, &quot;radius&quot;: 5, &quot;stroke&quot;: true, &quot;weight&quot;: 3}\n",
       "            ).addTo(map_a1025b2c01f9a504f169916f6a66a3a8);\n",
       "        \n",
       "    \n",
       "            var circle_marker_afb573860b34e826344484b376bbcf59 = L.circleMarker(\n",
       "                [-40.0154940534, -72.7914597178],\n",
       "                {&quot;bubblingMouseEvents&quot;: true, &quot;color&quot;: &quot;#3388ff&quot;, &quot;dashArray&quot;: null, &quot;dashOffset&quot;: null, &quot;fill&quot;: false, &quot;fillColor&quot;: &quot;#3388ff&quot;, &quot;fillOpacity&quot;: 0.2, &quot;fillRule&quot;: &quot;evenodd&quot;, &quot;lineCap&quot;: &quot;round&quot;, &quot;lineJoin&quot;: &quot;round&quot;, &quot;opacity&quot;: 1.0, &quot;radius&quot;: 5, &quot;stroke&quot;: true, &quot;weight&quot;: 3}\n",
       "            ).addTo(map_a1025b2c01f9a504f169916f6a66a3a8);\n",
       "        \n",
       "    \n",
       "            var circle_marker_b42f953858475ae735887d0d4be2d11f = L.circleMarker(\n",
       "                [-40.0746752187, -72.6747765849],\n",
       "                {&quot;bubblingMouseEvents&quot;: true, &quot;color&quot;: &quot;#3388ff&quot;, &quot;dashArray&quot;: null, &quot;dashOffset&quot;: null, &quot;fill&quot;: false, &quot;fillColor&quot;: &quot;#3388ff&quot;, &quot;fillOpacity&quot;: 0.2, &quot;fillRule&quot;: &quot;evenodd&quot;, &quot;lineCap&quot;: &quot;round&quot;, &quot;lineJoin&quot;: &quot;round&quot;, &quot;opacity&quot;: 1.0, &quot;radius&quot;: 5, &quot;stroke&quot;: true, &quot;weight&quot;: 3}\n",
       "            ).addTo(map_a1025b2c01f9a504f169916f6a66a3a8);\n",
       "        \n",
       "    \n",
       "            var circle_marker_d1e27d34103a80bbb65578fd70f14fa9 = L.circleMarker(\n",
       "                [-40.1221748177, -72.6855485214],\n",
       "                {&quot;bubblingMouseEvents&quot;: true, &quot;color&quot;: &quot;#3388ff&quot;, &quot;dashArray&quot;: null, &quot;dashOffset&quot;: null, &quot;fill&quot;: false, &quot;fillColor&quot;: &quot;#3388ff&quot;, &quot;fillOpacity&quot;: 0.2, &quot;fillRule&quot;: &quot;evenodd&quot;, &quot;lineCap&quot;: &quot;round&quot;, &quot;lineJoin&quot;: &quot;round&quot;, &quot;opacity&quot;: 1.0, &quot;radius&quot;: 5, &quot;stroke&quot;: true, &quot;weight&quot;: 3}\n",
       "            ).addTo(map_a1025b2c01f9a504f169916f6a66a3a8);\n",
       "        \n",
       "    \n",
       "            var circle_marker_0a5bde0f99f1cd8d9039438ea083ea65 = L.circleMarker(\n",
       "                [-39.8074856345, -72.9572455712],\n",
       "                {&quot;bubblingMouseEvents&quot;: true, &quot;color&quot;: &quot;#3388ff&quot;, &quot;dashArray&quot;: null, &quot;dashOffset&quot;: null, &quot;fill&quot;: false, &quot;fillColor&quot;: &quot;#3388ff&quot;, &quot;fillOpacity&quot;: 0.2, &quot;fillRule&quot;: &quot;evenodd&quot;, &quot;lineCap&quot;: &quot;round&quot;, &quot;lineJoin&quot;: &quot;round&quot;, &quot;opacity&quot;: 1.0, &quot;radius&quot;: 5, &quot;stroke&quot;: true, &quot;weight&quot;: 3}\n",
       "            ).addTo(map_a1025b2c01f9a504f169916f6a66a3a8);\n",
       "        \n",
       "    \n",
       "            var circle_marker_5bfadd0082ac520ed95697147e7bdefc = L.circleMarker(\n",
       "                [-39.8710682914, -72.6678013129],\n",
       "                {&quot;bubblingMouseEvents&quot;: true, &quot;color&quot;: &quot;#3388ff&quot;, &quot;dashArray&quot;: null, &quot;dashOffset&quot;: null, &quot;fill&quot;: false, &quot;fillColor&quot;: &quot;#3388ff&quot;, &quot;fillOpacity&quot;: 0.2, &quot;fillRule&quot;: &quot;evenodd&quot;, &quot;lineCap&quot;: &quot;round&quot;, &quot;lineJoin&quot;: &quot;round&quot;, &quot;opacity&quot;: 1.0, &quot;radius&quot;: 5, &quot;stroke&quot;: true, &quot;weight&quot;: 3}\n",
       "            ).addTo(map_a1025b2c01f9a504f169916f6a66a3a8);\n",
       "        \n",
       "    \n",
       "            var circle_marker_6e2503b5c9c909c4abaafd11f2e74561 = L.circleMarker(\n",
       "                [-39.9084433218, -72.5733916686],\n",
       "                {&quot;bubblingMouseEvents&quot;: true, &quot;color&quot;: &quot;#3388ff&quot;, &quot;dashArray&quot;: null, &quot;dashOffset&quot;: null, &quot;fill&quot;: false, &quot;fillColor&quot;: &quot;#3388ff&quot;, &quot;fillOpacity&quot;: 0.2, &quot;fillRule&quot;: &quot;evenodd&quot;, &quot;lineCap&quot;: &quot;round&quot;, &quot;lineJoin&quot;: &quot;round&quot;, &quot;opacity&quot;: 1.0, &quot;radius&quot;: 5, &quot;stroke&quot;: true, &quot;weight&quot;: 3}\n",
       "            ).addTo(map_a1025b2c01f9a504f169916f6a66a3a8);\n",
       "        \n",
       "    \n",
       "            var circle_marker_107f1d0c4370b91dcc126835f4284b5a = L.circleMarker(\n",
       "                [-39.8171126188, -72.4425065285],\n",
       "                {&quot;bubblingMouseEvents&quot;: true, &quot;color&quot;: &quot;#3388ff&quot;, &quot;dashArray&quot;: null, &quot;dashOffset&quot;: null, &quot;fill&quot;: false, &quot;fillColor&quot;: &quot;#3388ff&quot;, &quot;fillOpacity&quot;: 0.2, &quot;fillRule&quot;: &quot;evenodd&quot;, &quot;lineCap&quot;: &quot;round&quot;, &quot;lineJoin&quot;: &quot;round&quot;, &quot;opacity&quot;: 1.0, &quot;radius&quot;: 5, &quot;stroke&quot;: true, &quot;weight&quot;: 3}\n",
       "            ).addTo(map_a1025b2c01f9a504f169916f6a66a3a8);\n",
       "        \n",
       "    \n",
       "            var circle_marker_beff608ca5e430c161f77bc37425aa32 = L.circleMarker(\n",
       "                [-39.7751787818, -72.6519491619],\n",
       "                {&quot;bubblingMouseEvents&quot;: true, &quot;color&quot;: &quot;#3388ff&quot;, &quot;dashArray&quot;: null, &quot;dashOffset&quot;: null, &quot;fill&quot;: false, &quot;fillColor&quot;: &quot;#3388ff&quot;, &quot;fillOpacity&quot;: 0.2, &quot;fillRule&quot;: &quot;evenodd&quot;, &quot;lineCap&quot;: &quot;round&quot;, &quot;lineJoin&quot;: &quot;round&quot;, &quot;opacity&quot;: 1.0, &quot;radius&quot;: 5, &quot;stroke&quot;: true, &quot;weight&quot;: 3}\n",
       "            ).addTo(map_a1025b2c01f9a504f169916f6a66a3a8);\n",
       "        \n",
       "    \n",
       "            var circle_marker_df8e95b12f5d8f773eee2eca8c9a5734 = L.circleMarker(\n",
       "                [-39.9987530843, -72.7108188025],\n",
       "                {&quot;bubblingMouseEvents&quot;: true, &quot;color&quot;: &quot;#3388ff&quot;, &quot;dashArray&quot;: null, &quot;dashOffset&quot;: null, &quot;fill&quot;: false, &quot;fillColor&quot;: &quot;#3388ff&quot;, &quot;fillOpacity&quot;: 0.2, &quot;fillRule&quot;: &quot;evenodd&quot;, &quot;lineCap&quot;: &quot;round&quot;, &quot;lineJoin&quot;: &quot;round&quot;, &quot;opacity&quot;: 1.0, &quot;radius&quot;: 5, &quot;stroke&quot;: true, &quot;weight&quot;: 3}\n",
       "            ).addTo(map_a1025b2c01f9a504f169916f6a66a3a8);\n",
       "        \n",
       "    \n",
       "            var circle_marker_71bba468407da85ce3c352f221e6c80a = L.circleMarker(\n",
       "                [-40.0154665081, -72.5215180883],\n",
       "                {&quot;bubblingMouseEvents&quot;: true, &quot;color&quot;: &quot;#3388ff&quot;, &quot;dashArray&quot;: null, &quot;dashOffset&quot;: null, &quot;fill&quot;: false, &quot;fillColor&quot;: &quot;#3388ff&quot;, &quot;fillOpacity&quot;: 0.2, &quot;fillRule&quot;: &quot;evenodd&quot;, &quot;lineCap&quot;: &quot;round&quot;, &quot;lineJoin&quot;: &quot;round&quot;, &quot;opacity&quot;: 1.0, &quot;radius&quot;: 5, &quot;stroke&quot;: true, &quot;weight&quot;: 3}\n",
       "            ).addTo(map_a1025b2c01f9a504f169916f6a66a3a8);\n",
       "        \n",
       "    \n",
       "            var circle_marker_2599d1e7bad268567692343cc03beb35 = L.circleMarker(\n",
       "                [-39.8526730412, -72.7929315347],\n",
       "                {&quot;bubblingMouseEvents&quot;: true, &quot;color&quot;: &quot;#3388ff&quot;, &quot;dashArray&quot;: null, &quot;dashOffset&quot;: null, &quot;fill&quot;: false, &quot;fillColor&quot;: &quot;#3388ff&quot;, &quot;fillOpacity&quot;: 0.2, &quot;fillRule&quot;: &quot;evenodd&quot;, &quot;lineCap&quot;: &quot;round&quot;, &quot;lineJoin&quot;: &quot;round&quot;, &quot;opacity&quot;: 1.0, &quot;radius&quot;: 5, &quot;stroke&quot;: true, &quot;weight&quot;: 3}\n",
       "            ).addTo(map_a1025b2c01f9a504f169916f6a66a3a8);\n",
       "        \n",
       "    \n",
       "            var circle_marker_a74c38e55efe5bbb350ae336a23a7876 = L.circleMarker(\n",
       "                [-39.8705154943, -72.781619174],\n",
       "                {&quot;bubblingMouseEvents&quot;: true, &quot;color&quot;: &quot;#3388ff&quot;, &quot;dashArray&quot;: null, &quot;dashOffset&quot;: null, &quot;fill&quot;: false, &quot;fillColor&quot;: &quot;#3388ff&quot;, &quot;fillOpacity&quot;: 0.2, &quot;fillRule&quot;: &quot;evenodd&quot;, &quot;lineCap&quot;: &quot;round&quot;, &quot;lineJoin&quot;: &quot;round&quot;, &quot;opacity&quot;: 1.0, &quot;radius&quot;: 5, &quot;stroke&quot;: true, &quot;weight&quot;: 3}\n",
       "            ).addTo(map_a1025b2c01f9a504f169916f6a66a3a8);\n",
       "        \n",
       "    \n",
       "            var circle_marker_7840c6b6589507a5587d008a58e5f1fa = L.circleMarker(\n",
       "                [-39.8817714432, -72.6708273322],\n",
       "                {&quot;bubblingMouseEvents&quot;: true, &quot;color&quot;: &quot;#3388ff&quot;, &quot;dashArray&quot;: null, &quot;dashOffset&quot;: null, &quot;fill&quot;: false, &quot;fillColor&quot;: &quot;#3388ff&quot;, &quot;fillOpacity&quot;: 0.2, &quot;fillRule&quot;: &quot;evenodd&quot;, &quot;lineCap&quot;: &quot;round&quot;, &quot;lineJoin&quot;: &quot;round&quot;, &quot;opacity&quot;: 1.0, &quot;radius&quot;: 5, &quot;stroke&quot;: true, &quot;weight&quot;: 3}\n",
       "            ).addTo(map_a1025b2c01f9a504f169916f6a66a3a8);\n",
       "        \n",
       "    \n",
       "            var circle_marker_6ad1761c21f2f8065e68489549ffe0ae = L.circleMarker(\n",
       "                [-39.9027809062, -72.5930946759],\n",
       "                {&quot;bubblingMouseEvents&quot;: true, &quot;color&quot;: &quot;#3388ff&quot;, &quot;dashArray&quot;: null, &quot;dashOffset&quot;: null, &quot;fill&quot;: false, &quot;fillColor&quot;: &quot;#3388ff&quot;, &quot;fillOpacity&quot;: 0.2, &quot;fillRule&quot;: &quot;evenodd&quot;, &quot;lineCap&quot;: &quot;round&quot;, &quot;lineJoin&quot;: &quot;round&quot;, &quot;opacity&quot;: 1.0, &quot;radius&quot;: 5, &quot;stroke&quot;: true, &quot;weight&quot;: 3}\n",
       "            ).addTo(map_a1025b2c01f9a504f169916f6a66a3a8);\n",
       "        \n",
       "    \n",
       "            var circle_marker_373e46e52e454120a90d9b3942b5f03b = L.circleMarker(\n",
       "                [-39.8171525324, -72.6981700465],\n",
       "                {&quot;bubblingMouseEvents&quot;: true, &quot;color&quot;: &quot;#3388ff&quot;, &quot;dashArray&quot;: null, &quot;dashOffset&quot;: null, &quot;fill&quot;: false, &quot;fillColor&quot;: &quot;#3388ff&quot;, &quot;fillOpacity&quot;: 0.2, &quot;fillRule&quot;: &quot;evenodd&quot;, &quot;lineCap&quot;: &quot;round&quot;, &quot;lineJoin&quot;: &quot;round&quot;, &quot;opacity&quot;: 1.0, &quot;radius&quot;: 5, &quot;stroke&quot;: true, &quot;weight&quot;: 3}\n",
       "            ).addTo(map_a1025b2c01f9a504f169916f6a66a3a8);\n",
       "        \n",
       "    \n",
       "            var circle_marker_b8af11048c57531f6de4100908dbaee3 = L.circleMarker(\n",
       "                [-39.9151109593, -72.78974687],\n",
       "                {&quot;bubblingMouseEvents&quot;: true, &quot;color&quot;: &quot;#3388ff&quot;, &quot;dashArray&quot;: null, &quot;dashOffset&quot;: null, &quot;fill&quot;: false, &quot;fillColor&quot;: &quot;#3388ff&quot;, &quot;fillOpacity&quot;: 0.2, &quot;fillRule&quot;: &quot;evenodd&quot;, &quot;lineCap&quot;: &quot;round&quot;, &quot;lineJoin&quot;: &quot;round&quot;, &quot;opacity&quot;: 1.0, &quot;radius&quot;: 5, &quot;stroke&quot;: true, &quot;weight&quot;: 3}\n",
       "            ).addTo(map_a1025b2c01f9a504f169916f6a66a3a8);\n",
       "        \n",
       "    \n",
       "            var circle_marker_560222214161774170a175503444ebe5 = L.circleMarker(\n",
       "                [-39.9809683663, -72.7929665382],\n",
       "                {&quot;bubblingMouseEvents&quot;: true, &quot;color&quot;: &quot;#3388ff&quot;, &quot;dashArray&quot;: null, &quot;dashOffset&quot;: null, &quot;fill&quot;: false, &quot;fillColor&quot;: &quot;#3388ff&quot;, &quot;fillOpacity&quot;: 0.2, &quot;fillRule&quot;: &quot;evenodd&quot;, &quot;lineCap&quot;: &quot;round&quot;, &quot;lineJoin&quot;: &quot;round&quot;, &quot;opacity&quot;: 1.0, &quot;radius&quot;: 5, &quot;stroke&quot;: true, &quot;weight&quot;: 3}\n",
       "            ).addTo(map_a1025b2c01f9a504f169916f6a66a3a8);\n",
       "        \n",
       "    \n",
       "            var circle_marker_4fb6cae659dcfce3361379b2e0f80bde = L.circleMarker(\n",
       "                [-39.891383155, -72.7942956633],\n",
       "                {&quot;bubblingMouseEvents&quot;: true, &quot;color&quot;: &quot;#3388ff&quot;, &quot;dashArray&quot;: null, &quot;dashOffset&quot;: null, &quot;fill&quot;: false, &quot;fillColor&quot;: &quot;#3388ff&quot;, &quot;fillOpacity&quot;: 0.2, &quot;fillRule&quot;: &quot;evenodd&quot;, &quot;lineCap&quot;: &quot;round&quot;, &quot;lineJoin&quot;: &quot;round&quot;, &quot;opacity&quot;: 1.0, &quot;radius&quot;: 5, &quot;stroke&quot;: true, &quot;weight&quot;: 3}\n",
       "            ).addTo(map_a1025b2c01f9a504f169916f6a66a3a8);\n",
       "        \n",
       "    \n",
       "            var circle_marker_90a24efc5942a557f450c925556c1b2b = L.circleMarker(\n",
       "                [-39.854954476, -72.6609940373],\n",
       "                {&quot;bubblingMouseEvents&quot;: true, &quot;color&quot;: &quot;#3388ff&quot;, &quot;dashArray&quot;: null, &quot;dashOffset&quot;: null, &quot;fill&quot;: false, &quot;fillColor&quot;: &quot;#3388ff&quot;, &quot;fillOpacity&quot;: 0.2, &quot;fillRule&quot;: &quot;evenodd&quot;, &quot;lineCap&quot;: &quot;round&quot;, &quot;lineJoin&quot;: &quot;round&quot;, &quot;opacity&quot;: 1.0, &quot;radius&quot;: 5, &quot;stroke&quot;: true, &quot;weight&quot;: 3}\n",
       "            ).addTo(map_a1025b2c01f9a504f169916f6a66a3a8);\n",
       "        \n",
       "    \n",
       "            var circle_marker_a0b55403908628a8d7941979a93912c5 = L.circleMarker(\n",
       "                [-39.8597946179, -72.7236128048],\n",
       "                {&quot;bubblingMouseEvents&quot;: true, &quot;color&quot;: &quot;#3388ff&quot;, &quot;dashArray&quot;: null, &quot;dashOffset&quot;: null, &quot;fill&quot;: false, &quot;fillColor&quot;: &quot;#3388ff&quot;, &quot;fillOpacity&quot;: 0.2, &quot;fillRule&quot;: &quot;evenodd&quot;, &quot;lineCap&quot;: &quot;round&quot;, &quot;lineJoin&quot;: &quot;round&quot;, &quot;opacity&quot;: 1.0, &quot;radius&quot;: 5, &quot;stroke&quot;: true, &quot;weight&quot;: 3}\n",
       "            ).addTo(map_a1025b2c01f9a504f169916f6a66a3a8);\n",
       "        \n",
       "    \n",
       "            var circle_marker_69b3bead8da526e12f2f5adedbf18c54 = L.circleMarker(\n",
       "                [-39.8183071179, -72.8753063555],\n",
       "                {&quot;bubblingMouseEvents&quot;: true, &quot;color&quot;: &quot;#3388ff&quot;, &quot;dashArray&quot;: null, &quot;dashOffset&quot;: null, &quot;fill&quot;: false, &quot;fillColor&quot;: &quot;#3388ff&quot;, &quot;fillOpacity&quot;: 0.2, &quot;fillRule&quot;: &quot;evenodd&quot;, &quot;lineCap&quot;: &quot;round&quot;, &quot;lineJoin&quot;: &quot;round&quot;, &quot;opacity&quot;: 1.0, &quot;radius&quot;: 5, &quot;stroke&quot;: true, &quot;weight&quot;: 3}\n",
       "            ).addTo(map_a1025b2c01f9a504f169916f6a66a3a8);\n",
       "        \n",
       "    \n",
       "            var circle_marker_1da1cb31ed4c68299624c68bcb6fa7cd = L.circleMarker(\n",
       "                [-39.8631470531, -73.4340874604],\n",
       "                {&quot;bubblingMouseEvents&quot;: true, &quot;color&quot;: &quot;#3388ff&quot;, &quot;dashArray&quot;: null, &quot;dashOffset&quot;: null, &quot;fill&quot;: false, &quot;fillColor&quot;: &quot;#3388ff&quot;, &quot;fillOpacity&quot;: 0.2, &quot;fillRule&quot;: &quot;evenodd&quot;, &quot;lineCap&quot;: &quot;round&quot;, &quot;lineJoin&quot;: &quot;round&quot;, &quot;opacity&quot;: 1.0, &quot;radius&quot;: 5, &quot;stroke&quot;: true, &quot;weight&quot;: 3}\n",
       "            ).addTo(map_a1025b2c01f9a504f169916f6a66a3a8);\n",
       "        \n",
       "    \n",
       "            var circle_marker_367773a43d3002db04f7fe3f9104bd39 = L.circleMarker(\n",
       "                [-39.8754350487, -73.3587930086],\n",
       "                {&quot;bubblingMouseEvents&quot;: true, &quot;color&quot;: &quot;#3388ff&quot;, &quot;dashArray&quot;: null, &quot;dashOffset&quot;: null, &quot;fill&quot;: false, &quot;fillColor&quot;: &quot;#3388ff&quot;, &quot;fillOpacity&quot;: 0.2, &quot;fillRule&quot;: &quot;evenodd&quot;, &quot;lineCap&quot;: &quot;round&quot;, &quot;lineJoin&quot;: &quot;round&quot;, &quot;opacity&quot;: 1.0, &quot;radius&quot;: 5, &quot;stroke&quot;: true, &quot;weight&quot;: 3}\n",
       "            ).addTo(map_a1025b2c01f9a504f169916f6a66a3a8);\n",
       "        \n",
       "    \n",
       "            var circle_marker_3ffc1f2ecd36ca08a3576d1ccda667bf = L.circleMarker(\n",
       "                [-39.8905057848, -73.3917808877],\n",
       "                {&quot;bubblingMouseEvents&quot;: true, &quot;color&quot;: &quot;#3388ff&quot;, &quot;dashArray&quot;: null, &quot;dashOffset&quot;: null, &quot;fill&quot;: false, &quot;fillColor&quot;: &quot;#3388ff&quot;, &quot;fillOpacity&quot;: 0.2, &quot;fillRule&quot;: &quot;evenodd&quot;, &quot;lineCap&quot;: &quot;round&quot;, &quot;lineJoin&quot;: &quot;round&quot;, &quot;opacity&quot;: 1.0, &quot;radius&quot;: 5, &quot;stroke&quot;: true, &quot;weight&quot;: 3}\n",
       "            ).addTo(map_a1025b2c01f9a504f169916f6a66a3a8);\n",
       "        \n",
       "    \n",
       "            var circle_marker_33c14f36106f1645908820f49946b7dc = L.circleMarker(\n",
       "                [-39.8964415368, -73.417776163],\n",
       "                {&quot;bubblingMouseEvents&quot;: true, &quot;color&quot;: &quot;#3388ff&quot;, &quot;dashArray&quot;: null, &quot;dashOffset&quot;: null, &quot;fill&quot;: false, &quot;fillColor&quot;: &quot;#3388ff&quot;, &quot;fillOpacity&quot;: 0.2, &quot;fillRule&quot;: &quot;evenodd&quot;, &quot;lineCap&quot;: &quot;round&quot;, &quot;lineJoin&quot;: &quot;round&quot;, &quot;opacity&quot;: 1.0, &quot;radius&quot;: 5, &quot;stroke&quot;: true, &quot;weight&quot;: 3}\n",
       "            ).addTo(map_a1025b2c01f9a504f169916f6a66a3a8);\n",
       "        \n",
       "    \n",
       "            var circle_marker_75ea95c3b24a5c4df7328fc41c05d3c2 = L.circleMarker(\n",
       "                [-39.9656281859, -73.6194983481],\n",
       "                {&quot;bubblingMouseEvents&quot;: true, &quot;color&quot;: &quot;#3388ff&quot;, &quot;dashArray&quot;: null, &quot;dashOffset&quot;: null, &quot;fill&quot;: false, &quot;fillColor&quot;: &quot;#3388ff&quot;, &quot;fillOpacity&quot;: 0.2, &quot;fillRule&quot;: &quot;evenodd&quot;, &quot;lineCap&quot;: &quot;round&quot;, &quot;lineJoin&quot;: &quot;round&quot;, &quot;opacity&quot;: 1.0, &quot;radius&quot;: 5, &quot;stroke&quot;: true, &quot;weight&quot;: 3}\n",
       "            ).addTo(map_a1025b2c01f9a504f169916f6a66a3a8);\n",
       "        \n",
       "    \n",
       "            var circle_marker_441fd09f8802da2fc578468de3788810 = L.circleMarker(\n",
       "                [-39.8970045115, -73.4310820761],\n",
       "                {&quot;bubblingMouseEvents&quot;: true, &quot;color&quot;: &quot;#3388ff&quot;, &quot;dashArray&quot;: null, &quot;dashOffset&quot;: null, &quot;fill&quot;: false, &quot;fillColor&quot;: &quot;#3388ff&quot;, &quot;fillOpacity&quot;: 0.2, &quot;fillRule&quot;: &quot;evenodd&quot;, &quot;lineCap&quot;: &quot;round&quot;, &quot;lineJoin&quot;: &quot;round&quot;, &quot;opacity&quot;: 1.0, &quot;radius&quot;: 5, &quot;stroke&quot;: true, &quot;weight&quot;: 3}\n",
       "            ).addTo(map_a1025b2c01f9a504f169916f6a66a3a8);\n",
       "        \n",
       "    \n",
       "            var tile_layer_9dd4d1f744dad54ce7021b9fb801fea1 = L.tileLayer(\n",
       "                &quot;https://{s}.tile.openstreetmap.org/{z}/{x}/{y}.png&quot;,\n",
       "                {&quot;attribution&quot;: &quot;Data by \\u0026copy; \\u003ca href=\\&quot;http://openstreetmap.org\\&quot;\\u003eOpenStreetMap\\u003c/a\\u003e, under \\u003ca href=\\&quot;http://www.openstreetmap.org/copyright\\&quot;\\u003eODbL\\u003c/a\\u003e.&quot;, &quot;detectRetina&quot;: false, &quot;maxNativeZoom&quot;: 18, &quot;maxZoom&quot;: 18, &quot;minZoom&quot;: 0, &quot;noWrap&quot;: false, &quot;opacity&quot;: 1, &quot;subdomains&quot;: &quot;abc&quot;, &quot;tms&quot;: false}\n",
       "            );\n",
       "            var mini_map_a6bf1eb401255799bba923bf18430bad = new L.Control.MiniMap(\n",
       "                tile_layer_9dd4d1f744dad54ce7021b9fb801fea1,\n",
       "                {&quot;autoToggleDisplay&quot;: false, &quot;centerFixed&quot;: false, &quot;collapsedHeight&quot;: 25, &quot;collapsedWidth&quot;: 25, &quot;height&quot;: 150, &quot;minimized&quot;: false, &quot;position&quot;: &quot;bottomleft&quot;, &quot;toggleDisplay&quot;: true, &quot;width&quot;: 150, &quot;zoomAnimation&quot;: false, &quot;zoomLevelOffset&quot;: -5}\n",
       "            );\n",
       "            map_a1025b2c01f9a504f169916f6a66a3a8.addControl(mini_map_a6bf1eb401255799bba923bf18430bad);\n",
       "        \n",
       "&lt;/script&gt;\" style=\"position:absolute;width:100%;height:100%;left:0;top:0;border:none !important;\" allowfullscreen webkitallowfullscreen mozallowfullscreen></iframe></div></div>"
      ],
      "text/plain": [
       "<folium.folium.Map at 0x1f0f72d0970>"
      ]
     },
     "execution_count": 2,
     "metadata": {},
     "output_type": "execute_result"
    }
   ],
   "source": [
    "# Primero creamos el mapa con la libreria folium y la funcion Map,tiles es el proveedor del mapa.\n",
    "#El mapa esta centrado en valdivia\n",
    "map = folium.Map(location = [-39.925826, -73.114501], tiles = \"OpenStreetMap\", zoom_start = 10)\n",
    "\n",
    "#Aca estoy cargando el set de datos que subi a la carpeta.\n",
    "datos = pd.read_excel('base_ssr.xlsx', sheet_name='Sistemas_APR',usecols=\"B:U\",skiprows=2)\n",
    "\n",
    "#Valdivia\n",
    "datos_nombres_valdivia=list(datos.iloc[1963:1977,12])\n",
    "datos_lat_valdivia=datos.iloc[1963:1977,19] \n",
    "datos_long_valdivia=datos.iloc[1963:1977,18]\n",
    "\n",
    "#Paillaco\n",
    "datos_nombres_paillaco=list(datos.iloc[1919:1930,12])\n",
    "datos_lat_paillaco=datos.iloc[1919:1930,19] \n",
    "datos_long_paillaco=datos.iloc[1919:1930,18]\n",
    "\n",
    "#Los Lagos\n",
    "datos_nombres_loslagos=list(datos.iloc[1885:1903,12])\n",
    "datos_lat_loslagos=datos.iloc[1885:1903,19] \n",
    "datos_long_loslagos=datos.iloc[1885:1903,18]\n",
    "\n",
    "#Corral\n",
    "datos_nombres_corral=list(datos.iloc[1873:1879,12])\n",
    "datos_lat_corral=datos.iloc[1873:1879,19] \n",
    "datos_long_corral=datos.iloc[1873:1879,18]\n",
    "\n",
    "#Creación del par de coordenadas\n",
    "locations_valdivia = list(zip(datos_lat_valdivia, datos_long_valdivia))\n",
    "locations_paillaco = list(zip(datos_lat_paillaco, datos_long_paillaco))\n",
    "locations_loslagos = list(zip(datos_lat_loslagos, datos_long_loslagos))\n",
    "locations_corral = list(zip(datos_lat_corral, datos_long_corral))\n",
    "\n",
    "\n",
    "#Creación de las listas\n",
    "nombres = datos_nombres_valdivia+datos_nombres_paillaco+datos_nombres_loslagos+datos_nombres_corral\n",
    "locations=locations_valdivia+locations_paillaco+locations_loslagos+locations_corral\n",
    "\n",
    "#Aca agregamos un marcador con la ubicación de valdivia\n",
    "for i in range(len(locations)):\n",
    "    nombre=nombres[i]\n",
    "    folium.Marker(location=locations[i],tooltip=nombre).add_to(map)\n",
    "    \n",
    "for i in range(len(locations)):\n",
    "    folium.CircleMarker(location=locations[i],radius=5).add_to(map)\n",
    "map\n",
    "\n",
    "# Aca estoy agregando un minimap en la esquina,para esto hay que cargar la funcion plugins desde la libreria folium\n",
    "from folium import plugins\n",
    "minimap = plugins.MiniMap(position=\"bottomleft\",toggle_display=True)\n",
    "map.add_child(minimap)\n",
    "map"
   ]
  },
  {
   "cell_type": "code",
   "execution_count": 3,
   "id": "1c494b3c-2d39-48c8-9d9c-d90525643a62",
   "metadata": {},
   "outputs": [
    {
     "data": {
      "text/html": [
       "<div style=\"width:100%;\"><div style=\"position:relative;width:100%;height:0;padding-bottom:60%;\"><span style=\"color:#565656\">Make this Notebook Trusted to load map: File -> Trust Notebook</span><iframe srcdoc=\"&lt;!DOCTYPE html&gt;\n",
       "&lt;head&gt;    \n",
       "    &lt;meta http-equiv=&quot;content-type&quot; content=&quot;text/html; charset=UTF-8&quot; /&gt;\n",
       "    \n",
       "        &lt;script&gt;\n",
       "            L_NO_TOUCH = false;\n",
       "            L_DISABLE_3D = false;\n",
       "        &lt;/script&gt;\n",
       "    \n",
       "    &lt;style&gt;html, body {width: 100%;height: 100%;margin: 0;padding: 0;}&lt;/style&gt;\n",
       "    &lt;style&gt;#map {position:absolute;top:0;bottom:0;right:0;left:0;}&lt;/style&gt;\n",
       "    &lt;script src=&quot;https://cdn.jsdelivr.net/npm/leaflet@1.6.0/dist/leaflet.js&quot;&gt;&lt;/script&gt;\n",
       "    &lt;script src=&quot;https://code.jquery.com/jquery-1.12.4.min.js&quot;&gt;&lt;/script&gt;\n",
       "    &lt;script src=&quot;https://maxcdn.bootstrapcdn.com/bootstrap/3.2.0/js/bootstrap.min.js&quot;&gt;&lt;/script&gt;\n",
       "    &lt;script src=&quot;https://cdnjs.cloudflare.com/ajax/libs/Leaflet.awesome-markers/2.0.2/leaflet.awesome-markers.js&quot;&gt;&lt;/script&gt;\n",
       "    &lt;link rel=&quot;stylesheet&quot; href=&quot;https://cdn.jsdelivr.net/npm/leaflet@1.6.0/dist/leaflet.css&quot;/&gt;\n",
       "    &lt;link rel=&quot;stylesheet&quot; href=&quot;https://maxcdn.bootstrapcdn.com/bootstrap/3.2.0/css/bootstrap.min.css&quot;/&gt;\n",
       "    &lt;link rel=&quot;stylesheet&quot; href=&quot;https://maxcdn.bootstrapcdn.com/bootstrap/3.2.0/css/bootstrap-theme.min.css&quot;/&gt;\n",
       "    &lt;link rel=&quot;stylesheet&quot; href=&quot;https://maxcdn.bootstrapcdn.com/font-awesome/4.6.3/css/font-awesome.min.css&quot;/&gt;\n",
       "    &lt;link rel=&quot;stylesheet&quot; href=&quot;https://cdnjs.cloudflare.com/ajax/libs/Leaflet.awesome-markers/2.0.2/leaflet.awesome-markers.css&quot;/&gt;\n",
       "    &lt;link rel=&quot;stylesheet&quot; href=&quot;https://cdn.jsdelivr.net/gh/python-visualization/folium/folium/templates/leaflet.awesome.rotate.min.css&quot;/&gt;\n",
       "    \n",
       "            &lt;meta name=&quot;viewport&quot; content=&quot;width=device-width,\n",
       "                initial-scale=1.0, maximum-scale=1.0, user-scalable=no&quot; /&gt;\n",
       "            &lt;style&gt;\n",
       "                #map_73a4bf384a1e083869c8d39e4d6a4145 {\n",
       "                    position: relative;\n",
       "                    width: 100.0%;\n",
       "                    height: 100.0%;\n",
       "                    left: 0.0%;\n",
       "                    top: 0.0%;\n",
       "                }\n",
       "            &lt;/style&gt;\n",
       "        \n",
       "&lt;/head&gt;\n",
       "&lt;body&gt;    \n",
       "    \n",
       "            &lt;div class=&quot;folium-map&quot; id=&quot;map_73a4bf384a1e083869c8d39e4d6a4145&quot; &gt;&lt;/div&gt;\n",
       "        \n",
       "&lt;/body&gt;\n",
       "&lt;script&gt;    \n",
       "    \n",
       "            var map_73a4bf384a1e083869c8d39e4d6a4145 = L.map(\n",
       "                &quot;map_73a4bf384a1e083869c8d39e4d6a4145&quot;,\n",
       "                {\n",
       "                    center: [-39.925826, -73.114501],\n",
       "                    crs: L.CRS.EPSG3857,\n",
       "                    zoom: 9.5,\n",
       "                    zoomControl: true,\n",
       "                    preferCanvas: false,\n",
       "                }\n",
       "            );\n",
       "\n",
       "            \n",
       "\n",
       "        \n",
       "    \n",
       "            var tile_layer_fca9ce4a9f3fd2827e5ed24ff72fbf47 = L.tileLayer(\n",
       "                &quot;https://{s}.tile.openstreetmap.org/{z}/{x}/{y}.png&quot;,\n",
       "                {&quot;attribution&quot;: &quot;Data by \\u0026copy; \\u003ca href=\\&quot;http://openstreetmap.org\\&quot;\\u003eOpenStreetMap\\u003c/a\\u003e, under \\u003ca href=\\&quot;http://www.openstreetmap.org/copyright\\&quot;\\u003eODbL\\u003c/a\\u003e.&quot;, &quot;detectRetina&quot;: false, &quot;maxNativeZoom&quot;: 18, &quot;maxZoom&quot;: 18, &quot;minZoom&quot;: 0, &quot;noWrap&quot;: false, &quot;opacity&quot;: 1, &quot;subdomains&quot;: &quot;abc&quot;, &quot;tms&quot;: false}\n",
       "            ).addTo(map_73a4bf384a1e083869c8d39e4d6a4145);\n",
       "        \n",
       "    \n",
       "            var circle_2796d091605cfc4ebdd48cfaf71599f9 = L.circle(\n",
       "                [-39.8062305249, -73.0547464487],\n",
       "                {&quot;bubblingMouseEvents&quot;: true, &quot;color&quot;: &quot;#008000ff&quot;, &quot;dashArray&quot;: null, &quot;dashOffset&quot;: null, &quot;fill&quot;: false, &quot;fillColor&quot;: &quot;#008000ff&quot;, &quot;fillOpacity&quot;: 0.2, &quot;fillRule&quot;: &quot;evenodd&quot;, &quot;lineCap&quot;: &quot;round&quot;, &quot;lineJoin&quot;: &quot;round&quot;, &quot;opacity&quot;: 1.0, &quot;radius&quot;: 450, &quot;stroke&quot;: true, &quot;weight&quot;: 3}\n",
       "            ).addTo(map_73a4bf384a1e083869c8d39e4d6a4145);\n",
       "        \n",
       "    \n",
       "            circle_2796d091605cfc4ebdd48cfaf71599f9.bindTooltip(\n",
       "                `&lt;div&gt;\n",
       "                     PISHUINCO\n",
       "                 &lt;/div&gt;`,\n",
       "                {&quot;sticky&quot;: true}\n",
       "            );\n",
       "        \n",
       "    \n",
       "            var circle_c31c06a3c47e3b0f5e9b58d2a52d0358 = L.circle(\n",
       "                [-39.7283824204, -73.3948919817],\n",
       "                {&quot;bubblingMouseEvents&quot;: true, &quot;color&quot;: &quot;#800080ff&quot;, &quot;dashArray&quot;: null, &quot;dashOffset&quot;: null, &quot;fill&quot;: false, &quot;fillColor&quot;: &quot;#800080ff&quot;, &quot;fillOpacity&quot;: 0.2, &quot;fillRule&quot;: &quot;evenodd&quot;, &quot;lineCap&quot;: &quot;round&quot;, &quot;lineJoin&quot;: &quot;round&quot;, &quot;opacity&quot;: 1.0, &quot;radius&quot;: 450, &quot;stroke&quot;: true, &quot;weight&quot;: 3}\n",
       "            ).addTo(map_73a4bf384a1e083869c8d39e4d6a4145);\n",
       "        \n",
       "    \n",
       "            circle_c31c06a3c47e3b0f5e9b58d2a52d0358.bindTooltip(\n",
       "                `&lt;div&gt;\n",
       "                     CURIÑANCO\n",
       "                 &lt;/div&gt;`,\n",
       "                {&quot;sticky&quot;: true}\n",
       "            );\n",
       "        \n",
       "    \n",
       "            var circle_c77e672a0ecb8b6ec1d71a65d50d289d = L.circle(\n",
       "                [-39.7930844112, -73.124067117],\n",
       "                {&quot;bubblingMouseEvents&quot;: true, &quot;color&quot;: &quot;#008000ff&quot;, &quot;dashArray&quot;: null, &quot;dashOffset&quot;: null, &quot;fill&quot;: false, &quot;fillColor&quot;: &quot;#008000ff&quot;, &quot;fillOpacity&quot;: 0.2, &quot;fillRule&quot;: &quot;evenodd&quot;, &quot;lineCap&quot;: &quot;round&quot;, &quot;lineJoin&quot;: &quot;round&quot;, &quot;opacity&quot;: 1.0, &quot;radius&quot;: 450, &quot;stroke&quot;: true, &quot;weight&quot;: 3}\n",
       "            ).addTo(map_73a4bf384a1e083869c8d39e4d6a4145);\n",
       "        \n",
       "    \n",
       "            circle_c77e672a0ecb8b6ec1d71a65d50d289d.bindTooltip(\n",
       "                `&lt;div&gt;\n",
       "                     HUELLELHUE\n",
       "                 &lt;/div&gt;`,\n",
       "                {&quot;sticky&quot;: true}\n",
       "            );\n",
       "        \n",
       "    \n",
       "            var circle_068984b1b21a3957f4bbe39aa335768a = L.circle(\n",
       "                [-39.8715639883, -73.1852346315],\n",
       "                {&quot;bubblingMouseEvents&quot;: true, &quot;color&quot;: &quot;#ff0000ff&quot;, &quot;dashArray&quot;: null, &quot;dashOffset&quot;: null, &quot;fill&quot;: false, &quot;fillColor&quot;: &quot;#ff0000ff&quot;, &quot;fillOpacity&quot;: 0.2, &quot;fillRule&quot;: &quot;evenodd&quot;, &quot;lineCap&quot;: &quot;round&quot;, &quot;lineJoin&quot;: &quot;round&quot;, &quot;opacity&quot;: 1.0, &quot;radius&quot;: 450, &quot;stroke&quot;: true, &quot;weight&quot;: 3}\n",
       "            ).addTo(map_73a4bf384a1e083869c8d39e4d6a4145);\n",
       "        \n",
       "    \n",
       "            circle_068984b1b21a3957f4bbe39aa335768a.bindTooltip(\n",
       "                `&lt;div&gt;\n",
       "                     LAS GAVIOTAS\n",
       "                 &lt;/div&gt;`,\n",
       "                {&quot;sticky&quot;: true}\n",
       "            );\n",
       "        \n",
       "    \n",
       "            var circle_589f8f5eac2e8d5529d6e85b9100905a = L.circle(\n",
       "                [-39.8547751549, -73.3907718436],\n",
       "                {&quot;bubblingMouseEvents&quot;: true, &quot;color&quot;: &quot;#800080ff&quot;, &quot;dashArray&quot;: null, &quot;dashOffset&quot;: null, &quot;fill&quot;: false, &quot;fillColor&quot;: &quot;#800080ff&quot;, &quot;fillOpacity&quot;: 0.2, &quot;fillRule&quot;: &quot;evenodd&quot;, &quot;lineCap&quot;: &quot;round&quot;, &quot;lineJoin&quot;: &quot;round&quot;, &quot;opacity&quot;: 1.0, &quot;radius&quot;: 450, &quot;stroke&quot;: true, &quot;weight&quot;: 3}\n",
       "            ).addTo(map_73a4bf384a1e083869c8d39e4d6a4145);\n",
       "        \n",
       "    \n",
       "            circle_589f8f5eac2e8d5529d6e85b9100905a.bindTooltip(\n",
       "                `&lt;div&gt;\n",
       "                     NIEBLA-LOS MOLINOS\n",
       "                 &lt;/div&gt;`,\n",
       "                {&quot;sticky&quot;: true}\n",
       "            );\n",
       "        \n",
       "    \n",
       "            var circle_9b92ed248358075eaefd88b6a50735e6 = L.circle(\n",
       "                [-39.7603001637, -73.2705681336],\n",
       "                {&quot;bubblingMouseEvents&quot;: true, &quot;color&quot;: &quot;#ffa500ff&quot;, &quot;dashArray&quot;: null, &quot;dashOffset&quot;: null, &quot;fill&quot;: false, &quot;fillColor&quot;: &quot;#ffa500ff&quot;, &quot;fillOpacity&quot;: 0.2, &quot;fillRule&quot;: &quot;evenodd&quot;, &quot;lineCap&quot;: &quot;round&quot;, &quot;lineJoin&quot;: &quot;round&quot;, &quot;opacity&quot;: 1.0, &quot;radius&quot;: 450, &quot;stroke&quot;: true, &quot;weight&quot;: 3}\n",
       "            ).addTo(map_73a4bf384a1e083869c8d39e4d6a4145);\n",
       "        \n",
       "    \n",
       "            circle_9b92ed248358075eaefd88b6a50735e6.bindTooltip(\n",
       "                `&lt;div&gt;\n",
       "                     PUNUCAPA\n",
       "                 &lt;/div&gt;`,\n",
       "                {&quot;sticky&quot;: true}\n",
       "            );\n",
       "        \n",
       "    \n",
       "            var circle_cbbd2072bb4a42d2a36aa8d67424c131 = L.circle(\n",
       "                [-39.831480037, -73.4025892212],\n",
       "                {&quot;bubblingMouseEvents&quot;: true, &quot;color&quot;: &quot;#ff0000ff&quot;, &quot;dashArray&quot;: null, &quot;dashOffset&quot;: null, &quot;fill&quot;: false, &quot;fillColor&quot;: &quot;#ff0000ff&quot;, &quot;fillOpacity&quot;: 0.2, &quot;fillRule&quot;: &quot;evenodd&quot;, &quot;lineCap&quot;: &quot;round&quot;, &quot;lineJoin&quot;: &quot;round&quot;, &quot;opacity&quot;: 1.0, &quot;radius&quot;: 450, &quot;stroke&quot;: true, &quot;weight&quot;: 3}\n",
       "            ).addTo(map_73a4bf384a1e083869c8d39e4d6a4145);\n",
       "        \n",
       "    \n",
       "            circle_cbbd2072bb4a42d2a36aa8d67424c131.bindTooltip(\n",
       "                `&lt;div&gt;\n",
       "                     SAN IGNACIO-PLAYA ROSADA\n",
       "                 &lt;/div&gt;`,\n",
       "                {&quot;sticky&quot;: true}\n",
       "            );\n",
       "        \n",
       "    \n",
       "            var circle_5c874f677a05003c7bea0950c953d0c0 = L.circle(\n",
       "                [-39.8649364171, -73.3728400295],\n",
       "                {&quot;bubblingMouseEvents&quot;: true, &quot;color&quot;: &quot;#ff0000ff&quot;, &quot;dashArray&quot;: null, &quot;dashOffset&quot;: null, &quot;fill&quot;: false, &quot;fillColor&quot;: &quot;#ff0000ff&quot;, &quot;fillOpacity&quot;: 0.2, &quot;fillRule&quot;: &quot;evenodd&quot;, &quot;lineCap&quot;: &quot;round&quot;, &quot;lineJoin&quot;: &quot;round&quot;, &quot;opacity&quot;: 1.0, &quot;radius&quot;: 450, &quot;stroke&quot;: true, &quot;weight&quot;: 3}\n",
       "            ).addTo(map_73a4bf384a1e083869c8d39e4d6a4145);\n",
       "        \n",
       "    \n",
       "            circle_5c874f677a05003c7bea0950c953d0c0.bindTooltip(\n",
       "                `&lt;div&gt;\n",
       "                     TRES ESPINOS\n",
       "                 &lt;/div&gt;`,\n",
       "                {&quot;sticky&quot;: true}\n",
       "            );\n",
       "        \n",
       "    \n",
       "            var circle_698c8740a9f25ccf590bc0d4e41185ec = L.circle(\n",
       "                [-39.7314121294, -73.1091043702],\n",
       "                {&quot;bubblingMouseEvents&quot;: true, &quot;color&quot;: &quot;#ff0000ff&quot;, &quot;dashArray&quot;: null, &quot;dashOffset&quot;: null, &quot;fill&quot;: false, &quot;fillColor&quot;: &quot;#ff0000ff&quot;, &quot;fillOpacity&quot;: 0.2, &quot;fillRule&quot;: &quot;evenodd&quot;, &quot;lineCap&quot;: &quot;round&quot;, &quot;lineJoin&quot;: &quot;round&quot;, &quot;opacity&quot;: 1.0, &quot;radius&quot;: 450, &quot;stroke&quot;: true, &quot;weight&quot;: 3}\n",
       "            ).addTo(map_73a4bf384a1e083869c8d39e4d6a4145);\n",
       "        \n",
       "    \n",
       "            circle_698c8740a9f25ccf590bc0d4e41185ec.bindTooltip(\n",
       "                `&lt;div&gt;\n",
       "                     VILLA CAYUMAPU\n",
       "                 &lt;/div&gt;`,\n",
       "                {&quot;sticky&quot;: true}\n",
       "            );\n",
       "        \n",
       "    \n",
       "            var circle_ec4df986a27de1a8cf385899fab1773f = L.circle(\n",
       "                [-39.772903642, -73.1970058325],\n",
       "                {&quot;bubblingMouseEvents&quot;: true, &quot;color&quot;: &quot;#ffa500ff&quot;, &quot;dashArray&quot;: null, &quot;dashOffset&quot;: null, &quot;fill&quot;: false, &quot;fillColor&quot;: &quot;#ffa500ff&quot;, &quot;fillOpacity&quot;: 0.2, &quot;fillRule&quot;: &quot;evenodd&quot;, &quot;lineCap&quot;: &quot;round&quot;, &quot;lineJoin&quot;: &quot;round&quot;, &quot;opacity&quot;: 1.0, &quot;radius&quot;: 450, &quot;stroke&quot;: true, &quot;weight&quot;: 3}\n",
       "            ).addTo(map_73a4bf384a1e083869c8d39e4d6a4145);\n",
       "        \n",
       "    \n",
       "            circle_ec4df986a27de1a8cf385899fab1773f.bindTooltip(\n",
       "                `&lt;div&gt;\n",
       "                     EL ARENAL SANTA ELVIRA\n",
       "                 &lt;/div&gt;`,\n",
       "                {&quot;sticky&quot;: true}\n",
       "            );\n",
       "        \n",
       "    \n",
       "            var circle_e0b2e3510ba5e051fdcf3988adbd36af = L.circle(\n",
       "                [-39.8673123199, -73.2088638403],\n",
       "                {&quot;bubblingMouseEvents&quot;: true, &quot;color&quot;: &quot;#ff0000ff&quot;, &quot;dashArray&quot;: null, &quot;dashOffset&quot;: null, &quot;fill&quot;: false, &quot;fillColor&quot;: &quot;#ff0000ff&quot;, &quot;fillOpacity&quot;: 0.2, &quot;fillRule&quot;: &quot;evenodd&quot;, &quot;lineCap&quot;: &quot;round&quot;, &quot;lineJoin&quot;: &quot;round&quot;, &quot;opacity&quot;: 1.0, &quot;radius&quot;: 450, &quot;stroke&quot;: true, &quot;weight&quot;: 3}\n",
       "            ).addTo(map_73a4bf384a1e083869c8d39e4d6a4145);\n",
       "        \n",
       "    \n",
       "            circle_e0b2e3510ba5e051fdcf3988adbd36af.bindTooltip(\n",
       "                `&lt;div&gt;\n",
       "                     PAILLAO\n",
       "                 &lt;/div&gt;`,\n",
       "                {&quot;sticky&quot;: true}\n",
       "            );\n",
       "        \n",
       "    \n",
       "            var circle_8829eb34654c7796b03c844d23a3bda4 = L.circle(\n",
       "                [-39.7802702288, -73.2412708338],\n",
       "                {&quot;bubblingMouseEvents&quot;: true, &quot;color&quot;: &quot;#ffa500ff&quot;, &quot;dashArray&quot;: null, &quot;dashOffset&quot;: null, &quot;fill&quot;: false, &quot;fillColor&quot;: &quot;#ffa500ff&quot;, &quot;fillOpacity&quot;: 0.2, &quot;fillRule&quot;: &quot;evenodd&quot;, &quot;lineCap&quot;: &quot;round&quot;, &quot;lineJoin&quot;: &quot;round&quot;, &quot;opacity&quot;: 1.0, &quot;radius&quot;: 450, &quot;stroke&quot;: true, &quot;weight&quot;: 3}\n",
       "            ).addTo(map_73a4bf384a1e083869c8d39e4d6a4145);\n",
       "        \n",
       "    \n",
       "            circle_8829eb34654c7796b03c844d23a3bda4.bindTooltip(\n",
       "                `&lt;div&gt;\n",
       "                     CABO BLANCO\n",
       "                 &lt;/div&gt;`,\n",
       "                {&quot;sticky&quot;: true}\n",
       "            );\n",
       "        \n",
       "    \n",
       "            var circle_7c6efe255aeccb74444c48112dfc0a55 = L.circle(\n",
       "                [-39.7737197231, -73.2102553189],\n",
       "                {&quot;bubblingMouseEvents&quot;: true, &quot;color&quot;: &quot;#ffa500ff&quot;, &quot;dashArray&quot;: null, &quot;dashOffset&quot;: null, &quot;fill&quot;: false, &quot;fillColor&quot;: &quot;#ffa500ff&quot;, &quot;fillOpacity&quot;: 0.2, &quot;fillRule&quot;: &quot;evenodd&quot;, &quot;lineCap&quot;: &quot;round&quot;, &quot;lineJoin&quot;: &quot;round&quot;, &quot;opacity&quot;: 1.0, &quot;radius&quot;: 450, &quot;stroke&quot;: true, &quot;weight&quot;: 3}\n",
       "            ).addTo(map_73a4bf384a1e083869c8d39e4d6a4145);\n",
       "        \n",
       "    \n",
       "            circle_7c6efe255aeccb74444c48112dfc0a55.bindTooltip(\n",
       "                `&lt;div&gt;\n",
       "                     EL ARENAL KM 2\n",
       "                 &lt;/div&gt;`,\n",
       "                {&quot;sticky&quot;: true}\n",
       "            );\n",
       "        \n",
       "    \n",
       "            var circle_53fb5994606bf7a83bad2fcebba4427b = L.circle(\n",
       "                [-39.7772055631, -73.3135380035],\n",
       "                {&quot;bubblingMouseEvents&quot;: true, &quot;color&quot;: &quot;#008000ff&quot;, &quot;dashArray&quot;: null, &quot;dashOffset&quot;: null, &quot;fill&quot;: false, &quot;fillColor&quot;: &quot;#008000ff&quot;, &quot;fillOpacity&quot;: 0.2, &quot;fillRule&quot;: &quot;evenodd&quot;, &quot;lineCap&quot;: &quot;round&quot;, &quot;lineJoin&quot;: &quot;round&quot;, &quot;opacity&quot;: 1.0, &quot;radius&quot;: 450, &quot;stroke&quot;: true, &quot;weight&quot;: 3}\n",
       "            ).addTo(map_73a4bf384a1e083869c8d39e4d6a4145);\n",
       "        \n",
       "    \n",
       "            circle_53fb5994606bf7a83bad2fcebba4427b.bindTooltip(\n",
       "                `&lt;div&gt;\n",
       "                     Chabelita\n",
       "                 &lt;/div&gt;`,\n",
       "                {&quot;sticky&quot;: true}\n",
       "            );\n",
       "        \n",
       "    \n",
       "            var circle_f12db784229de16086b4c34fdba13e38 = L.circle(\n",
       "                [-40.1296581637, -72.7254940272],\n",
       "                {&quot;bubblingMouseEvents&quot;: true, &quot;color&quot;: &quot;#008000ff&quot;, &quot;dashArray&quot;: null, &quot;dashOffset&quot;: null, &quot;fill&quot;: false, &quot;fillColor&quot;: &quot;#008000ff&quot;, &quot;fillOpacity&quot;: 0.2, &quot;fillRule&quot;: &quot;evenodd&quot;, &quot;lineCap&quot;: &quot;round&quot;, &quot;lineJoin&quot;: &quot;round&quot;, &quot;opacity&quot;: 1.0, &quot;radius&quot;: 450, &quot;stroke&quot;: true, &quot;weight&quot;: 3}\n",
       "            ).addTo(map_73a4bf384a1e083869c8d39e4d6a4145);\n",
       "        \n",
       "    \n",
       "            circle_f12db784229de16086b4c34fdba13e38.bindTooltip(\n",
       "                `&lt;div&gt;\n",
       "                     ARCO IRIS\n",
       "                 &lt;/div&gt;`,\n",
       "                {&quot;sticky&quot;: true}\n",
       "            );\n",
       "        \n",
       "    \n",
       "            var circle_c96e53ad58dccb892d944130ea750660 = L.circle(\n",
       "                [-40.0676228293, -72.6179175677],\n",
       "                {&quot;bubblingMouseEvents&quot;: true, &quot;color&quot;: &quot;#008000ff&quot;, &quot;dashArray&quot;: null, &quot;dashOffset&quot;: null, &quot;fill&quot;: false, &quot;fillColor&quot;: &quot;#008000ff&quot;, &quot;fillOpacity&quot;: 0.2, &quot;fillRule&quot;: &quot;evenodd&quot;, &quot;lineCap&quot;: &quot;round&quot;, &quot;lineJoin&quot;: &quot;round&quot;, &quot;opacity&quot;: 1.0, &quot;radius&quot;: 450, &quot;stroke&quot;: true, &quot;weight&quot;: 3}\n",
       "            ).addTo(map_73a4bf384a1e083869c8d39e4d6a4145);\n",
       "        \n",
       "    \n",
       "            circle_c96e53ad58dccb892d944130ea750660.bindTooltip(\n",
       "                `&lt;div&gt;\n",
       "                     EL LLOLLY\n",
       "                 &lt;/div&gt;`,\n",
       "                {&quot;sticky&quot;: true}\n",
       "            );\n",
       "        \n",
       "    \n",
       "            var circle_124a7c4a0e9352e76f75d2c0bd302107 = L.circle(\n",
       "                [-40.1515807831, -72.8962419781],\n",
       "                {&quot;bubblingMouseEvents&quot;: true, &quot;color&quot;: &quot;#ff0000ff&quot;, &quot;dashArray&quot;: null, &quot;dashOffset&quot;: null, &quot;fill&quot;: false, &quot;fillColor&quot;: &quot;#ff0000ff&quot;, &quot;fillOpacity&quot;: 0.2, &quot;fillRule&quot;: &quot;evenodd&quot;, &quot;lineCap&quot;: &quot;round&quot;, &quot;lineJoin&quot;: &quot;round&quot;, &quot;opacity&quot;: 1.0, &quot;radius&quot;: 450, &quot;stroke&quot;: true, &quot;weight&quot;: 3}\n",
       "            ).addTo(map_73a4bf384a1e083869c8d39e4d6a4145);\n",
       "        \n",
       "    \n",
       "            circle_124a7c4a0e9352e76f75d2c0bd302107.bindTooltip(\n",
       "                `&lt;div&gt;\n",
       "                     PICHIRROPULLI\n",
       "                 &lt;/div&gt;`,\n",
       "                {&quot;sticky&quot;: true}\n",
       "            );\n",
       "        \n",
       "    \n",
       "            var circle_b8cbc7185a1fc94eb349f4127c0e5e38 = L.circle(\n",
       "                [-39.9784746305, -72.8320348617],\n",
       "                {&quot;bubblingMouseEvents&quot;: true, &quot;color&quot;: &quot;#800080ff&quot;, &quot;dashArray&quot;: null, &quot;dashOffset&quot;: null, &quot;fill&quot;: false, &quot;fillColor&quot;: &quot;#800080ff&quot;, &quot;fillOpacity&quot;: 0.2, &quot;fillRule&quot;: &quot;evenodd&quot;, &quot;lineCap&quot;: &quot;round&quot;, &quot;lineJoin&quot;: &quot;round&quot;, &quot;opacity&quot;: 1.0, &quot;radius&quot;: 450, &quot;stroke&quot;: true, &quot;weight&quot;: 3}\n",
       "            ).addTo(map_73a4bf384a1e083869c8d39e4d6a4145);\n",
       "        \n",
       "    \n",
       "            circle_b8cbc7185a1fc94eb349f4127c0e5e38.bindTooltip(\n",
       "                `&lt;div&gt;\n",
       "                     REUMEN\n",
       "                 &lt;/div&gt;`,\n",
       "                {&quot;sticky&quot;: true}\n",
       "            );\n",
       "        \n",
       "    \n",
       "            var circle_9a05ff7063738dc3fa7733f2daa478f6 = L.circle(\n",
       "                [-40.1233358588, -72.6748177353],\n",
       "                {&quot;bubblingMouseEvents&quot;: true, &quot;color&quot;: &quot;#008000ff&quot;, &quot;dashArray&quot;: null, &quot;dashOffset&quot;: null, &quot;fill&quot;: false, &quot;fillColor&quot;: &quot;#008000ff&quot;, &quot;fillOpacity&quot;: 0.2, &quot;fillRule&quot;: &quot;evenodd&quot;, &quot;lineCap&quot;: &quot;round&quot;, &quot;lineJoin&quot;: &quot;round&quot;, &quot;opacity&quot;: 1.0, &quot;radius&quot;: 450, &quot;stroke&quot;: true, &quot;weight&quot;: 3}\n",
       "            ).addTo(map_73a4bf384a1e083869c8d39e4d6a4145);\n",
       "        \n",
       "    \n",
       "            circle_9a05ff7063738dc3fa7733f2daa478f6.bindTooltip(\n",
       "                `&lt;div&gt;\n",
       "                     SANTA FILOMENA\n",
       "                 &lt;/div&gt;`,\n",
       "                {&quot;sticky&quot;: true}\n",
       "            );\n",
       "        \n",
       "    \n",
       "            var circle_445e969c4fa5fccb2a2a94d4f3594854 = L.circle(\n",
       "                [-40.0949272285, -72.8333381781],\n",
       "                {&quot;bubblingMouseEvents&quot;: true, &quot;color&quot;: &quot;#0000ffff&quot;, &quot;dashArray&quot;: null, &quot;dashOffset&quot;: null, &quot;fill&quot;: false, &quot;fillColor&quot;: &quot;#0000ffff&quot;, &quot;fillOpacity&quot;: 0.2, &quot;fillRule&quot;: &quot;evenodd&quot;, &quot;lineCap&quot;: &quot;round&quot;, &quot;lineJoin&quot;: &quot;round&quot;, &quot;opacity&quot;: 1.0, &quot;radius&quot;: 450, &quot;stroke&quot;: true, &quot;weight&quot;: 3}\n",
       "            ).addTo(map_73a4bf384a1e083869c8d39e4d6a4145);\n",
       "        \n",
       "    \n",
       "            circle_445e969c4fa5fccb2a2a94d4f3594854.bindTooltip(\n",
       "                `&lt;div&gt;\n",
       "                     MANAO\n",
       "                 &lt;/div&gt;`,\n",
       "                {&quot;sticky&quot;: true}\n",
       "            );\n",
       "        \n",
       "    \n",
       "            var circle_46953f59127b41b4a74cc587daeb9204 = L.circle(\n",
       "                [-40.1805296564, -72.5619049938],\n",
       "                {&quot;bubblingMouseEvents&quot;: true, &quot;color&quot;: &quot;#008000ff&quot;, &quot;dashArray&quot;: null, &quot;dashOffset&quot;: null, &quot;fill&quot;: false, &quot;fillColor&quot;: &quot;#008000ff&quot;, &quot;fillOpacity&quot;: 0.2, &quot;fillRule&quot;: &quot;evenodd&quot;, &quot;lineCap&quot;: &quot;round&quot;, &quot;lineJoin&quot;: &quot;round&quot;, &quot;opacity&quot;: 1.0, &quot;radius&quot;: 450, &quot;stroke&quot;: true, &quot;weight&quot;: 3}\n",
       "            ).addTo(map_73a4bf384a1e083869c8d39e4d6a4145);\n",
       "        \n",
       "    \n",
       "            circle_46953f59127b41b4a74cc587daeb9204.bindTooltip(\n",
       "                `&lt;div&gt;\n",
       "                     SANTA ROSA CHICA\n",
       "                 &lt;/div&gt;`,\n",
       "                {&quot;sticky&quot;: true}\n",
       "            );\n",
       "        \n",
       "    \n",
       "            var circle_00c690d1076a839649e178ddaa6b3b7e = L.circle(\n",
       "                [-40.1380925113, -72.5825449417],\n",
       "                {&quot;bubblingMouseEvents&quot;: true, &quot;color&quot;: &quot;#008000ff&quot;, &quot;dashArray&quot;: null, &quot;dashOffset&quot;: null, &quot;fill&quot;: false, &quot;fillColor&quot;: &quot;#008000ff&quot;, &quot;fillOpacity&quot;: 0.2, &quot;fillRule&quot;: &quot;evenodd&quot;, &quot;lineCap&quot;: &quot;round&quot;, &quot;lineJoin&quot;: &quot;round&quot;, &quot;opacity&quot;: 1.0, &quot;radius&quot;: 450, &quot;stroke&quot;: true, &quot;weight&quot;: 3}\n",
       "            ).addTo(map_73a4bf384a1e083869c8d39e4d6a4145);\n",
       "        \n",
       "    \n",
       "            circle_00c690d1076a839649e178ddaa6b3b7e.bindTooltip(\n",
       "                `&lt;div&gt;\n",
       "                     SANTA ROSA GRANDE\n",
       "                 &lt;/div&gt;`,\n",
       "                {&quot;sticky&quot;: true}\n",
       "            );\n",
       "        \n",
       "    \n",
       "            var circle_12958b2c46c68fa3f2f522089347aa3f = L.circle(\n",
       "                [-40.0154940534, -72.7914597178],\n",
       "                {&quot;bubblingMouseEvents&quot;: true, &quot;color&quot;: &quot;#ffa500ff&quot;, &quot;dashArray&quot;: null, &quot;dashOffset&quot;: null, &quot;fill&quot;: false, &quot;fillColor&quot;: &quot;#ffa500ff&quot;, &quot;fillOpacity&quot;: 0.2, &quot;fillRule&quot;: &quot;evenodd&quot;, &quot;lineCap&quot;: &quot;round&quot;, &quot;lineJoin&quot;: &quot;round&quot;, &quot;opacity&quot;: 1.0, &quot;radius&quot;: 450, &quot;stroke&quot;: true, &quot;weight&quot;: 3}\n",
       "            ).addTo(map_73a4bf384a1e083869c8d39e4d6a4145);\n",
       "        \n",
       "    \n",
       "            circle_12958b2c46c68fa3f2f522089347aa3f.bindTooltip(\n",
       "                `&lt;div&gt;\n",
       "                     LUMACO PAILLACO\n",
       "                 &lt;/div&gt;`,\n",
       "                {&quot;sticky&quot;: true}\n",
       "            );\n",
       "        \n",
       "    \n",
       "            var circle_269e5d60b05f7d59b0b1401fefdee095 = L.circle(\n",
       "                [-40.0746752187, -72.6747765849],\n",
       "                {&quot;bubblingMouseEvents&quot;: true, &quot;color&quot;: &quot;#0000ffff&quot;, &quot;dashArray&quot;: null, &quot;dashOffset&quot;: null, &quot;fill&quot;: false, &quot;fillColor&quot;: &quot;#0000ffff&quot;, &quot;fillOpacity&quot;: 0.2, &quot;fillRule&quot;: &quot;evenodd&quot;, &quot;lineCap&quot;: &quot;round&quot;, &quot;lineJoin&quot;: &quot;round&quot;, &quot;opacity&quot;: 1.0, &quot;radius&quot;: 450, &quot;stroke&quot;: true, &quot;weight&quot;: 3}\n",
       "            ).addTo(map_73a4bf384a1e083869c8d39e4d6a4145);\n",
       "        \n",
       "    \n",
       "            circle_269e5d60b05f7d59b0b1401fefdee095.bindTooltip(\n",
       "                `&lt;div&gt;\n",
       "                     EL MAITEN\n",
       "                 &lt;/div&gt;`,\n",
       "                {&quot;sticky&quot;: true}\n",
       "            );\n",
       "        \n",
       "    \n",
       "            var circle_b916cf86b4e7d800ab0b2ce155f5cd12 = L.circle(\n",
       "                [-40.1221748177, -72.6855485214],\n",
       "                {&quot;bubblingMouseEvents&quot;: true, &quot;color&quot;: &quot;#0000ffff&quot;, &quot;dashArray&quot;: null, &quot;dashOffset&quot;: null, &quot;fill&quot;: false, &quot;fillColor&quot;: &quot;#0000ffff&quot;, &quot;fillOpacity&quot;: 0.2, &quot;fillRule&quot;: &quot;evenodd&quot;, &quot;lineCap&quot;: &quot;round&quot;, &quot;lineJoin&quot;: &quot;round&quot;, &quot;opacity&quot;: 1.0, &quot;radius&quot;: 450, &quot;stroke&quot;: true, &quot;weight&quot;: 3}\n",
       "            ).addTo(map_73a4bf384a1e083869c8d39e4d6a4145);\n",
       "        \n",
       "    \n",
       "            circle_b916cf86b4e7d800ab0b2ce155f5cd12.bindTooltip(\n",
       "                `&lt;div&gt;\n",
       "                     SANTA FILOMENA II\n",
       "                 &lt;/div&gt;`,\n",
       "                {&quot;sticky&quot;: true}\n",
       "            );\n",
       "        \n",
       "    \n",
       "            var circle_d30afd9c2f42534cd1982ff1386cddc5 = L.circle(\n",
       "                [-39.8074856345, -72.9572455712],\n",
       "                {&quot;bubblingMouseEvents&quot;: true, &quot;color&quot;: &quot;#800080ff&quot;, &quot;dashArray&quot;: null, &quot;dashOffset&quot;: null, &quot;fill&quot;: false, &quot;fillColor&quot;: &quot;#800080ff&quot;, &quot;fillOpacity&quot;: 0.2, &quot;fillRule&quot;: &quot;evenodd&quot;, &quot;lineCap&quot;: &quot;round&quot;, &quot;lineJoin&quot;: &quot;round&quot;, &quot;opacity&quot;: 1.0, &quot;radius&quot;: 450, &quot;stroke&quot;: true, &quot;weight&quot;: 3}\n",
       "            ).addTo(map_73a4bf384a1e083869c8d39e4d6a4145);\n",
       "        \n",
       "    \n",
       "            circle_d30afd9c2f42534cd1982ff1386cddc5.bindTooltip(\n",
       "                `&lt;div&gt;\n",
       "                     ANTILHUE\n",
       "                 &lt;/div&gt;`,\n",
       "                {&quot;sticky&quot;: true}\n",
       "            );\n",
       "        \n",
       "    \n",
       "            var circle_c207e3255818f9fc9d6547ec7e42dcca = L.circle(\n",
       "                [-39.8710682914, -72.6678013129],\n",
       "                {&quot;bubblingMouseEvents&quot;: true, &quot;color&quot;: &quot;#ffa500ff&quot;, &quot;dashArray&quot;: null, &quot;dashOffset&quot;: null, &quot;fill&quot;: false, &quot;fillColor&quot;: &quot;#ffa500ff&quot;, &quot;fillOpacity&quot;: 0.2, &quot;fillRule&quot;: &quot;evenodd&quot;, &quot;lineCap&quot;: &quot;round&quot;, &quot;lineJoin&quot;: &quot;round&quot;, &quot;opacity&quot;: 1.0, &quot;radius&quot;: 450, &quot;stroke&quot;: true, &quot;weight&quot;: 3}\n",
       "            ).addTo(map_73a4bf384a1e083869c8d39e4d6a4145);\n",
       "        \n",
       "    \n",
       "            circle_c207e3255818f9fc9d6547ec7e42dcca.bindTooltip(\n",
       "                `&lt;div&gt;\n",
       "                     FOLILCO LOS LAGOS\n",
       "                 &lt;/div&gt;`,\n",
       "                {&quot;sticky&quot;: true}\n",
       "            );\n",
       "        \n",
       "    \n",
       "            var circle_f7aba5fd855cd9c50a8bd9e62dd382f9 = L.circle(\n",
       "                [-39.9084433218, -72.5733916686],\n",
       "                {&quot;bubblingMouseEvents&quot;: true, &quot;color&quot;: &quot;#0000ffff&quot;, &quot;dashArray&quot;: null, &quot;dashOffset&quot;: null, &quot;fill&quot;: false, &quot;fillColor&quot;: &quot;#0000ffff&quot;, &quot;fillOpacity&quot;: 0.2, &quot;fillRule&quot;: &quot;evenodd&quot;, &quot;lineCap&quot;: &quot;round&quot;, &quot;lineJoin&quot;: &quot;round&quot;, &quot;opacity&quot;: 1.0, &quot;radius&quot;: 450, &quot;stroke&quot;: true, &quot;weight&quot;: 3}\n",
       "            ).addTo(map_73a4bf384a1e083869c8d39e4d6a4145);\n",
       "        \n",
       "    \n",
       "            circle_f7aba5fd855cd9c50a8bd9e62dd382f9.bindTooltip(\n",
       "                `&lt;div&gt;\n",
       "                     QUILQUILCO\n",
       "                 &lt;/div&gt;`,\n",
       "                {&quot;sticky&quot;: true}\n",
       "            );\n",
       "        \n",
       "    \n",
       "            var circle_1f2756189165950d10464f4a7c7b44e2 = L.circle(\n",
       "                [-39.8171126188, -72.4425065285],\n",
       "                {&quot;bubblingMouseEvents&quot;: true, &quot;color&quot;: &quot;#0000ffff&quot;, &quot;dashArray&quot;: null, &quot;dashOffset&quot;: null, &quot;fill&quot;: false, &quot;fillColor&quot;: &quot;#0000ffff&quot;, &quot;fillOpacity&quot;: 0.2, &quot;fillRule&quot;: &quot;evenodd&quot;, &quot;lineCap&quot;: &quot;round&quot;, &quot;lineJoin&quot;: &quot;round&quot;, &quot;opacity&quot;: 1.0, &quot;radius&quot;: 450, &quot;stroke&quot;: true, &quot;weight&quot;: 3}\n",
       "            ).addTo(map_73a4bf384a1e083869c8d39e4d6a4145);\n",
       "        \n",
       "    \n",
       "            circle_1f2756189165950d10464f4a7c7b44e2.bindTooltip(\n",
       "                `&lt;div&gt;\n",
       "                     RIÑIHUE\n",
       "                 &lt;/div&gt;`,\n",
       "                {&quot;sticky&quot;: true}\n",
       "            );\n",
       "        \n",
       "    \n",
       "            var circle_0e6b5c4dc558485a278800099f07d72d = L.circle(\n",
       "                [-39.7751787818, -72.6519491619],\n",
       "                {&quot;bubblingMouseEvents&quot;: true, &quot;color&quot;: &quot;#008000ff&quot;, &quot;dashArray&quot;: null, &quot;dashOffset&quot;: null, &quot;fill&quot;: false, &quot;fillColor&quot;: &quot;#008000ff&quot;, &quot;fillOpacity&quot;: 0.2, &quot;fillRule&quot;: &quot;evenodd&quot;, &quot;lineCap&quot;: &quot;round&quot;, &quot;lineJoin&quot;: &quot;round&quot;, &quot;opacity&quot;: 1.0, &quot;radius&quot;: 450, &quot;stroke&quot;: true, &quot;weight&quot;: 3}\n",
       "            ).addTo(map_73a4bf384a1e083869c8d39e4d6a4145);\n",
       "        \n",
       "    \n",
       "            circle_0e6b5c4dc558485a278800099f07d72d.bindTooltip(\n",
       "                `&lt;div&gt;\n",
       "                     USTARITZ\n",
       "                 &lt;/div&gt;`,\n",
       "                {&quot;sticky&quot;: true}\n",
       "            );\n",
       "        \n",
       "    \n",
       "            var circle_2bc703cd0337bb9259fce1a678c09b9a = L.circle(\n",
       "                [-39.9987530843, -72.7108188025],\n",
       "                {&quot;bubblingMouseEvents&quot;: true, &quot;color&quot;: &quot;#ffa500ff&quot;, &quot;dashArray&quot;: null, &quot;dashOffset&quot;: null, &quot;fill&quot;: false, &quot;fillColor&quot;: &quot;#ffa500ff&quot;, &quot;fillOpacity&quot;: 0.2, &quot;fillRule&quot;: &quot;evenodd&quot;, &quot;lineCap&quot;: &quot;round&quot;, &quot;lineJoin&quot;: &quot;round&quot;, &quot;opacity&quot;: 1.0, &quot;radius&quot;: 450, &quot;stroke&quot;: true, &quot;weight&quot;: 3}\n",
       "            ).addTo(map_73a4bf384a1e083869c8d39e4d6a4145);\n",
       "        \n",
       "    \n",
       "            circle_2bc703cd0337bb9259fce1a678c09b9a.bindTooltip(\n",
       "                `&lt;div&gt;\n",
       "                     EL SALTO\n",
       "                 &lt;/div&gt;`,\n",
       "                {&quot;sticky&quot;: true}\n",
       "            );\n",
       "        \n",
       "    \n",
       "            var circle_526383bdfc9a52e4a79329e19d0d71bb = L.circle(\n",
       "                [-40.0154665081, -72.5215180883],\n",
       "                {&quot;bubblingMouseEvents&quot;: true, &quot;color&quot;: &quot;#008000ff&quot;, &quot;dashArray&quot;: null, &quot;dashOffset&quot;: null, &quot;fill&quot;: false, &quot;fillColor&quot;: &quot;#008000ff&quot;, &quot;fillOpacity&quot;: 0.2, &quot;fillRule&quot;: &quot;evenodd&quot;, &quot;lineCap&quot;: &quot;round&quot;, &quot;lineJoin&quot;: &quot;round&quot;, &quot;opacity&quot;: 1.0, &quot;radius&quot;: 450, &quot;stroke&quot;: true, &quot;weight&quot;: 3}\n",
       "            ).addTo(map_73a4bf384a1e083869c8d39e4d6a4145);\n",
       "        \n",
       "    \n",
       "            circle_526383bdfc9a52e4a79329e19d0d71bb.bindTooltip(\n",
       "                `&lt;div&gt;\n",
       "                     PELLINADA LAS QUINIENTAS\n",
       "                 &lt;/div&gt;`,\n",
       "                {&quot;sticky&quot;: true}\n",
       "            );\n",
       "        \n",
       "    \n",
       "            var circle_0e1a5b9e1656a3dc23ea9653f5dfe98a = L.circle(\n",
       "                [-39.8526730412, -72.7929315347],\n",
       "                {&quot;bubblingMouseEvents&quot;: true, &quot;color&quot;: &quot;#ffa500ff&quot;, &quot;dashArray&quot;: null, &quot;dashOffset&quot;: null, &quot;fill&quot;: false, &quot;fillColor&quot;: &quot;#ffa500ff&quot;, &quot;fillOpacity&quot;: 0.2, &quot;fillRule&quot;: &quot;evenodd&quot;, &quot;lineCap&quot;: &quot;round&quot;, &quot;lineJoin&quot;: &quot;round&quot;, &quot;opacity&quot;: 1.0, &quot;radius&quot;: 450, &quot;stroke&quot;: true, &quot;weight&quot;: 3}\n",
       "            ).addTo(map_73a4bf384a1e083869c8d39e4d6a4145);\n",
       "        \n",
       "    \n",
       "            circle_0e1a5b9e1656a3dc23ea9653f5dfe98a.bindTooltip(\n",
       "                `&lt;div&gt;\n",
       "                     PANCUL\n",
       "                 &lt;/div&gt;`,\n",
       "                {&quot;sticky&quot;: true}\n",
       "            );\n",
       "        \n",
       "    \n",
       "            var circle_0ff0e5eccdc5760e97820f4c29b76ffc = L.circle(\n",
       "                [-39.8705154943, -72.781619174],\n",
       "                {&quot;bubblingMouseEvents&quot;: true, &quot;color&quot;: &quot;#ffa500ff&quot;, &quot;dashArray&quot;: null, &quot;dashOffset&quot;: null, &quot;fill&quot;: false, &quot;fillColor&quot;: &quot;#ffa500ff&quot;, &quot;fillOpacity&quot;: 0.2, &quot;fillRule&quot;: &quot;evenodd&quot;, &quot;lineCap&quot;: &quot;round&quot;, &quot;lineJoin&quot;: &quot;round&quot;, &quot;opacity&quot;: 1.0, &quot;radius&quot;: 450, &quot;stroke&quot;: true, &quot;weight&quot;: 3}\n",
       "            ).addTo(map_73a4bf384a1e083869c8d39e4d6a4145);\n",
       "        \n",
       "    \n",
       "            circle_0ff0e5eccdc5760e97820f4c29b76ffc.bindTooltip(\n",
       "                `&lt;div&gt;\n",
       "                     LOS COLIGÜES\n",
       "                 &lt;/div&gt;`,\n",
       "                {&quot;sticky&quot;: true}\n",
       "            );\n",
       "        \n",
       "    \n",
       "            var circle_9ac16125bc32a8c36ca35a9fae8fba60 = L.circle(\n",
       "                [-39.8817714432, -72.6708273322],\n",
       "                {&quot;bubblingMouseEvents&quot;: true, &quot;color&quot;: &quot;#008000ff&quot;, &quot;dashArray&quot;: null, &quot;dashOffset&quot;: null, &quot;fill&quot;: false, &quot;fillColor&quot;: &quot;#008000ff&quot;, &quot;fillOpacity&quot;: 0.2, &quot;fillRule&quot;: &quot;evenodd&quot;, &quot;lineCap&quot;: &quot;round&quot;, &quot;lineJoin&quot;: &quot;round&quot;, &quot;opacity&quot;: 1.0, &quot;radius&quot;: 450, &quot;stroke&quot;: true, &quot;weight&quot;: 3}\n",
       "            ).addTo(map_73a4bf384a1e083869c8d39e4d6a4145);\n",
       "        \n",
       "    \n",
       "            circle_9ac16125bc32a8c36ca35a9fae8fba60.bindTooltip(\n",
       "                `&lt;div&gt;\n",
       "                     COLO COLO\n",
       "                 &lt;/div&gt;`,\n",
       "                {&quot;sticky&quot;: true}\n",
       "            );\n",
       "        \n",
       "    \n",
       "            var circle_40bb34eab472f1e6f171a75a24be43f4 = L.circle(\n",
       "                [-39.9027809062, -72.5930946759],\n",
       "                {&quot;bubblingMouseEvents&quot;: true, &quot;color&quot;: &quot;#0000ffff&quot;, &quot;dashArray&quot;: null, &quot;dashOffset&quot;: null, &quot;fill&quot;: false, &quot;fillColor&quot;: &quot;#0000ffff&quot;, &quot;fillOpacity&quot;: 0.2, &quot;fillRule&quot;: &quot;evenodd&quot;, &quot;lineCap&quot;: &quot;round&quot;, &quot;lineJoin&quot;: &quot;round&quot;, &quot;opacity&quot;: 1.0, &quot;radius&quot;: 450, &quot;stroke&quot;: true, &quot;weight&quot;: 3}\n",
       "            ).addTo(map_73a4bf384a1e083869c8d39e4d6a4145);\n",
       "        \n",
       "    \n",
       "            circle_40bb34eab472f1e6f171a75a24be43f4.bindTooltip(\n",
       "                `&lt;div&gt;\n",
       "                     LAS HUELLLAS\n",
       "                 &lt;/div&gt;`,\n",
       "                {&quot;sticky&quot;: true}\n",
       "            );\n",
       "        \n",
       "    \n",
       "            var circle_3b1ed0d8dcf0af8016dc3f3edece2c69 = L.circle(\n",
       "                [-39.8171525324, -72.6981700465],\n",
       "                {&quot;bubblingMouseEvents&quot;: true, &quot;color&quot;: &quot;#008000ff&quot;, &quot;dashArray&quot;: null, &quot;dashOffset&quot;: null, &quot;fill&quot;: false, &quot;fillColor&quot;: &quot;#008000ff&quot;, &quot;fillOpacity&quot;: 0.2, &quot;fillRule&quot;: &quot;evenodd&quot;, &quot;lineCap&quot;: &quot;round&quot;, &quot;lineJoin&quot;: &quot;round&quot;, &quot;opacity&quot;: 1.0, &quot;radius&quot;: 450, &quot;stroke&quot;: true, &quot;weight&quot;: 3}\n",
       "            ).addTo(map_73a4bf384a1e083869c8d39e4d6a4145);\n",
       "        \n",
       "    \n",
       "            circle_3b1ed0d8dcf0af8016dc3f3edece2c69.bindTooltip(\n",
       "                `&lt;div&gt;\n",
       "                     San Pedro\n",
       "                 &lt;/div&gt;`,\n",
       "                {&quot;sticky&quot;: true}\n",
       "            );\n",
       "        \n",
       "    \n",
       "            var circle_c70fe8d60e4a4b41dbfa82b667a57166 = L.circle(\n",
       "                [-39.9151109593, -72.78974687],\n",
       "                {&quot;bubblingMouseEvents&quot;: true, &quot;color&quot;: &quot;#008000ff&quot;, &quot;dashArray&quot;: null, &quot;dashOffset&quot;: null, &quot;fill&quot;: false, &quot;fillColor&quot;: &quot;#008000ff&quot;, &quot;fillOpacity&quot;: 0.2, &quot;fillRule&quot;: &quot;evenodd&quot;, &quot;lineCap&quot;: &quot;round&quot;, &quot;lineJoin&quot;: &quot;round&quot;, &quot;opacity&quot;: 1.0, &quot;radius&quot;: 450, &quot;stroke&quot;: true, &quot;weight&quot;: 3}\n",
       "            ).addTo(map_73a4bf384a1e083869c8d39e4d6a4145);\n",
       "        \n",
       "    \n",
       "            circle_c70fe8d60e4a4b41dbfa82b667a57166.bindTooltip(\n",
       "                `&lt;div&gt;\n",
       "                     Lipingue\n",
       "                 &lt;/div&gt;`,\n",
       "                {&quot;sticky&quot;: true}\n",
       "            );\n",
       "        \n",
       "    \n",
       "            var circle_617799e122691bcc167a4c78fddd78aa = L.circle(\n",
       "                [-39.9809683663, -72.7929665382],\n",
       "                {&quot;bubblingMouseEvents&quot;: true, &quot;color&quot;: &quot;#0000ffff&quot;, &quot;dashArray&quot;: null, &quot;dashOffset&quot;: null, &quot;fill&quot;: false, &quot;fillColor&quot;: &quot;#0000ffff&quot;, &quot;fillOpacity&quot;: 0.2, &quot;fillRule&quot;: &quot;evenodd&quot;, &quot;lineCap&quot;: &quot;round&quot;, &quot;lineJoin&quot;: &quot;round&quot;, &quot;opacity&quot;: 1.0, &quot;radius&quot;: 450, &quot;stroke&quot;: true, &quot;weight&quot;: 3}\n",
       "            ).addTo(map_73a4bf384a1e083869c8d39e4d6a4145);\n",
       "        \n",
       "    \n",
       "            circle_617799e122691bcc167a4c78fddd78aa.bindTooltip(\n",
       "                `&lt;div&gt;\n",
       "                     El Trebol\n",
       "                 &lt;/div&gt;`,\n",
       "                {&quot;sticky&quot;: true}\n",
       "            );\n",
       "        \n",
       "    \n",
       "            var circle_5a5828e4bd51d7edd8004b7cd60cd8e3 = L.circle(\n",
       "                [-39.891383155, -72.7942956633],\n",
       "                {&quot;bubblingMouseEvents&quot;: true, &quot;color&quot;: &quot;#0000ffff&quot;, &quot;dashArray&quot;: null, &quot;dashOffset&quot;: null, &quot;fill&quot;: false, &quot;fillColor&quot;: &quot;#0000ffff&quot;, &quot;fillOpacity&quot;: 0.2, &quot;fillRule&quot;: &quot;evenodd&quot;, &quot;lineCap&quot;: &quot;round&quot;, &quot;lineJoin&quot;: &quot;round&quot;, &quot;opacity&quot;: 1.0, &quot;radius&quot;: 450, &quot;stroke&quot;: true, &quot;weight&quot;: 3}\n",
       "            ).addTo(map_73a4bf384a1e083869c8d39e4d6a4145);\n",
       "        \n",
       "    \n",
       "            circle_5a5828e4bd51d7edd8004b7cd60cd8e3.bindTooltip(\n",
       "                `&lt;div&gt;\n",
       "                     Collico Sur\n",
       "                 &lt;/div&gt;`,\n",
       "                {&quot;sticky&quot;: true}\n",
       "            );\n",
       "        \n",
       "    \n",
       "            var circle_69947c2d276a3120e3ee524ca77d4f31 = L.circle(\n",
       "                [-39.854954476, -72.6609940373],\n",
       "                {&quot;bubblingMouseEvents&quot;: true, &quot;color&quot;: &quot;#0000ffff&quot;, &quot;dashArray&quot;: null, &quot;dashOffset&quot;: null, &quot;fill&quot;: false, &quot;fillColor&quot;: &quot;#0000ffff&quot;, &quot;fillOpacity&quot;: 0.2, &quot;fillRule&quot;: &quot;evenodd&quot;, &quot;lineCap&quot;: &quot;round&quot;, &quot;lineJoin&quot;: &quot;round&quot;, &quot;opacity&quot;: 1.0, &quot;radius&quot;: 450, &quot;stroke&quot;: true, &quot;weight&quot;: 3}\n",
       "            ).addTo(map_73a4bf384a1e083869c8d39e4d6a4145);\n",
       "        \n",
       "    \n",
       "            circle_69947c2d276a3120e3ee524ca77d4f31.bindTooltip(\n",
       "                `&lt;div&gt;\n",
       "                     Mi Tierra\n",
       "                 &lt;/div&gt;`,\n",
       "                {&quot;sticky&quot;: true}\n",
       "            );\n",
       "        \n",
       "    \n",
       "            var circle_62201a9ff69168bf914e2cc851e8b078 = L.circle(\n",
       "                [-39.8597946179, -72.7236128048],\n",
       "                {&quot;bubblingMouseEvents&quot;: true, &quot;color&quot;: &quot;#0000ffff&quot;, &quot;dashArray&quot;: null, &quot;dashOffset&quot;: null, &quot;fill&quot;: false, &quot;fillColor&quot;: &quot;#0000ffff&quot;, &quot;fillOpacity&quot;: 0.2, &quot;fillRule&quot;: &quot;evenodd&quot;, &quot;lineCap&quot;: &quot;round&quot;, &quot;lineJoin&quot;: &quot;round&quot;, &quot;opacity&quot;: 1.0, &quot;radius&quot;: 450, &quot;stroke&quot;: true, &quot;weight&quot;: 3}\n",
       "            ).addTo(map_73a4bf384a1e083869c8d39e4d6a4145);\n",
       "        \n",
       "    \n",
       "            circle_62201a9ff69168bf914e2cc851e8b078.bindTooltip(\n",
       "                `&lt;div&gt;\n",
       "                     Puñaco\n",
       "                 &lt;/div&gt;`,\n",
       "                {&quot;sticky&quot;: true}\n",
       "            );\n",
       "        \n",
       "    \n",
       "            var circle_e52f857e064be083e91d3180984cdfb9 = L.circle(\n",
       "                [-39.8183071179, -72.8753063555],\n",
       "                {&quot;bubblingMouseEvents&quot;: true, &quot;color&quot;: &quot;#0000ffff&quot;, &quot;dashArray&quot;: null, &quot;dashOffset&quot;: null, &quot;fill&quot;: false, &quot;fillColor&quot;: &quot;#0000ffff&quot;, &quot;fillOpacity&quot;: 0.2, &quot;fillRule&quot;: &quot;evenodd&quot;, &quot;lineCap&quot;: &quot;round&quot;, &quot;lineJoin&quot;: &quot;round&quot;, &quot;opacity&quot;: 1.0, &quot;radius&quot;: 450, &quot;stroke&quot;: true, &quot;weight&quot;: 3}\n",
       "            ).addTo(map_73a4bf384a1e083869c8d39e4d6a4145);\n",
       "        \n",
       "    \n",
       "            circle_e52f857e064be083e91d3180984cdfb9.bindTooltip(\n",
       "                `&lt;div&gt;\n",
       "                     Purey\n",
       "                 &lt;/div&gt;`,\n",
       "                {&quot;sticky&quot;: true}\n",
       "            );\n",
       "        \n",
       "    \n",
       "            var circle_1a2b54974969f38ca1d42a8ecdc1b2fd = L.circle(\n",
       "                [-39.8631470531, -73.4340874604],\n",
       "                {&quot;bubblingMouseEvents&quot;: true, &quot;color&quot;: &quot;#800080ff&quot;, &quot;dashArray&quot;: null, &quot;dashOffset&quot;: null, &quot;fill&quot;: false, &quot;fillColor&quot;: &quot;#800080ff&quot;, &quot;fillOpacity&quot;: 0.2, &quot;fillRule&quot;: &quot;evenodd&quot;, &quot;lineCap&quot;: &quot;round&quot;, &quot;lineJoin&quot;: &quot;round&quot;, &quot;opacity&quot;: 1.0, &quot;radius&quot;: 450, &quot;stroke&quot;: true, &quot;weight&quot;: 3}\n",
       "            ).addTo(map_73a4bf384a1e083869c8d39e4d6a4145);\n",
       "        \n",
       "    \n",
       "            circle_1a2b54974969f38ca1d42a8ecdc1b2fd.bindTooltip(\n",
       "                `&lt;div&gt;\n",
       "                     AMARGO-SAN CARLOS\n",
       "                 &lt;/div&gt;`,\n",
       "                {&quot;sticky&quot;: true}\n",
       "            );\n",
       "        \n",
       "    \n",
       "            var circle_513f1eb0e2c917130c37a12cb1290bde = L.circle(\n",
       "                [-39.8754350487, -73.3587930086],\n",
       "                {&quot;bubblingMouseEvents&quot;: true, &quot;color&quot;: &quot;#ffa500ff&quot;, &quot;dashArray&quot;: null, &quot;dashOffset&quot;: null, &quot;fill&quot;: false, &quot;fillColor&quot;: &quot;#ffa500ff&quot;, &quot;fillOpacity&quot;: 0.2, &quot;fillRule&quot;: &quot;evenodd&quot;, &quot;lineCap&quot;: &quot;round&quot;, &quot;lineJoin&quot;: &quot;round&quot;, &quot;opacity&quot;: 1.0, &quot;radius&quot;: 450, &quot;stroke&quot;: true, &quot;weight&quot;: 3}\n",
       "            ).addTo(map_73a4bf384a1e083869c8d39e4d6a4145);\n",
       "        \n",
       "    \n",
       "            circle_513f1eb0e2c917130c37a12cb1290bde.bindTooltip(\n",
       "                `&lt;div&gt;\n",
       "                     ISLA DEL REY\n",
       "                 &lt;/div&gt;`,\n",
       "                {&quot;sticky&quot;: true}\n",
       "            );\n",
       "        \n",
       "    \n",
       "            var circle_251c4832c0d480126cb2b55f1bef7f22 = L.circle(\n",
       "                [-39.8905057848, -73.3917808877],\n",
       "                {&quot;bubblingMouseEvents&quot;: true, &quot;color&quot;: &quot;#0000ffff&quot;, &quot;dashArray&quot;: null, &quot;dashOffset&quot;: null, &quot;fill&quot;: false, &quot;fillColor&quot;: &quot;#0000ffff&quot;, &quot;fillOpacity&quot;: 0.2, &quot;fillRule&quot;: &quot;evenodd&quot;, &quot;lineCap&quot;: &quot;round&quot;, &quot;lineJoin&quot;: &quot;round&quot;, &quot;opacity&quot;: 1.0, &quot;radius&quot;: 450, &quot;stroke&quot;: true, &quot;weight&quot;: 3}\n",
       "            ).addTo(map_73a4bf384a1e083869c8d39e4d6a4145);\n",
       "        \n",
       "    \n",
       "            circle_251c4832c0d480126cb2b55f1bef7f22.bindTooltip(\n",
       "                `&lt;div&gt;\n",
       "                     ISLA MANCERA\n",
       "                 &lt;/div&gt;`,\n",
       "                {&quot;sticky&quot;: true}\n",
       "            );\n",
       "        \n",
       "    \n",
       "            var circle_46ace52abada4debabe378f6e296c15d = L.circle(\n",
       "                [-39.8964415368, -73.417776163],\n",
       "                {&quot;bubblingMouseEvents&quot;: true, &quot;color&quot;: &quot;#ffa500ff&quot;, &quot;dashArray&quot;: null, &quot;dashOffset&quot;: null, &quot;fill&quot;: false, &quot;fillColor&quot;: &quot;#ffa500ff&quot;, &quot;fillOpacity&quot;: 0.2, &quot;fillRule&quot;: &quot;evenodd&quot;, &quot;lineCap&quot;: &quot;round&quot;, &quot;lineJoin&quot;: &quot;round&quot;, &quot;opacity&quot;: 1.0, &quot;radius&quot;: 450, &quot;stroke&quot;: true, &quot;weight&quot;: 3}\n",
       "            ).addTo(map_73a4bf384a1e083869c8d39e4d6a4145);\n",
       "        \n",
       "    \n",
       "            circle_46ace52abada4debabe378f6e296c15d.bindTooltip(\n",
       "                `&lt;div&gt;\n",
       "                     LA AGUADA\n",
       "                 &lt;/div&gt;`,\n",
       "                {&quot;sticky&quot;: true}\n",
       "            );\n",
       "        \n",
       "    \n",
       "            var circle_7b6dd6f250aee59ddebd740b36d65626 = L.circle(\n",
       "                [-39.9656281859, -73.6194983481],\n",
       "                {&quot;bubblingMouseEvents&quot;: true, &quot;color&quot;: &quot;#ff0000ff&quot;, &quot;dashArray&quot;: null, &quot;dashOffset&quot;: null, &quot;fill&quot;: false, &quot;fillColor&quot;: &quot;#ff0000ff&quot;, &quot;fillOpacity&quot;: 0.2, &quot;fillRule&quot;: &quot;evenodd&quot;, &quot;lineCap&quot;: &quot;round&quot;, &quot;lineJoin&quot;: &quot;round&quot;, &quot;opacity&quot;: 1.0, &quot;radius&quot;: 450, &quot;stroke&quot;: true, &quot;weight&quot;: 3}\n",
       "            ).addTo(map_73a4bf384a1e083869c8d39e4d6a4145);\n",
       "        \n",
       "    \n",
       "            circle_7b6dd6f250aee59ddebd740b36d65626.bindTooltip(\n",
       "                `&lt;div&gt;\n",
       "                     CHAIHUIN\n",
       "                 &lt;/div&gt;`,\n",
       "                {&quot;sticky&quot;: true}\n",
       "            );\n",
       "        \n",
       "    \n",
       "            var circle_e390de82200b7c5bd446aff44e3b4ff3 = L.circle(\n",
       "                [-39.8970045115, -73.4310820761],\n",
       "                {&quot;bubblingMouseEvents&quot;: true, &quot;color&quot;: &quot;#ffa500ff&quot;, &quot;dashArray&quot;: null, &quot;dashOffset&quot;: null, &quot;fill&quot;: false, &quot;fillColor&quot;: &quot;#ffa500ff&quot;, &quot;fillOpacity&quot;: 0.2, &quot;fillRule&quot;: &quot;evenodd&quot;, &quot;lineCap&quot;: &quot;round&quot;, &quot;lineJoin&quot;: &quot;round&quot;, &quot;opacity&quot;: 1.0, &quot;radius&quot;: 450, &quot;stroke&quot;: true, &quot;weight&quot;: 3}\n",
       "            ).addTo(map_73a4bf384a1e083869c8d39e4d6a4145);\n",
       "        \n",
       "    \n",
       "            circle_e390de82200b7c5bd446aff44e3b4ff3.bindTooltip(\n",
       "                `&lt;div&gt;\n",
       "                     CERROS DE CORRAL\n",
       "                 &lt;/div&gt;`,\n",
       "                {&quot;sticky&quot;: true}\n",
       "            );\n",
       "        \n",
       "&lt;/script&gt;\" style=\"position:absolute;width:100%;height:100%;left:0;top:0;border:none !important;\" allowfullscreen webkitallowfullscreen mozallowfullscreen></iframe></div></div>"
      ],
      "text/plain": [
       "<folium.folium.Map at 0x1f0b7fda260>"
      ]
     },
     "execution_count": 3,
     "metadata": {},
     "output_type": "execute_result"
    }
   ],
   "source": [
    "map = folium.Map(location = [-39.925826, -73.114501], tiles = \"OpenStreetMap\", zoom_start = 9.5)\n",
    "\n",
    "#Recopilación de datos\n",
    "datos_beneficiarios_valdivia=list(datos.iloc[1963:1977,9])\n",
    "datos_beneficiarios_paillaco=list(datos.iloc[1919:1930,9])\n",
    "datos_beneficiarios_loslagos=list(datos.iloc[1885:1903,9])\n",
    "datos_beneficiarios_corral=list(datos.iloc[1873:1879,9])\n",
    "\n",
    "beneficiarios = datos_beneficiarios_valdivia+datos_beneficiarios_paillaco+datos_beneficiarios_loslagos+datos_beneficiarios_corral\n",
    "\n",
    "colormap = folium.StepColormap(colors=['blue','green','orange','red','purple'] ,\n",
    "                           index=[71,292.5,434,732.5,1327,4021],\n",
    "                           vmin= 71,\n",
    "                           vmax=4021)\n",
    "map = folium.Map(location = [-39.925826, -73.114501], tiles = \"OpenStreetMap\", zoom_start = 9.5)\n",
    "\n",
    "for i in range(len(locations)):\n",
    "    nombre=nombres[i]\n",
    "    folium.Circle(location=locations[i],tooltip=nombre,radius=450,color=colormap(beneficiarios[i])).add_to(map)\n",
    "    \n",
    "map"
   ]
  },
  {
   "cell_type": "code",
   "execution_count": 4,
   "id": "77284582-f9d8-41ff-ab08-4c0143a690be",
   "metadata": {},
   "outputs": [
    {
     "data": {
      "text/html": [
       "<div style=\"width:100%;\"><div style=\"position:relative;width:100%;height:0;padding-bottom:60%;\"><span style=\"color:#565656\">Make this Notebook Trusted to load map: File -> Trust Notebook</span><iframe srcdoc=\"&lt;!DOCTYPE html&gt;\n",
       "&lt;head&gt;    \n",
       "    &lt;meta http-equiv=&quot;content-type&quot; content=&quot;text/html; charset=UTF-8&quot; /&gt;\n",
       "    \n",
       "        &lt;script&gt;\n",
       "            L_NO_TOUCH = false;\n",
       "            L_DISABLE_3D = false;\n",
       "        &lt;/script&gt;\n",
       "    \n",
       "    &lt;style&gt;html, body {width: 100%;height: 100%;margin: 0;padding: 0;}&lt;/style&gt;\n",
       "    &lt;style&gt;#map {position:absolute;top:0;bottom:0;right:0;left:0;}&lt;/style&gt;\n",
       "    &lt;script src=&quot;https://cdn.jsdelivr.net/npm/leaflet@1.6.0/dist/leaflet.js&quot;&gt;&lt;/script&gt;\n",
       "    &lt;script src=&quot;https://code.jquery.com/jquery-1.12.4.min.js&quot;&gt;&lt;/script&gt;\n",
       "    &lt;script src=&quot;https://maxcdn.bootstrapcdn.com/bootstrap/3.2.0/js/bootstrap.min.js&quot;&gt;&lt;/script&gt;\n",
       "    &lt;script src=&quot;https://cdnjs.cloudflare.com/ajax/libs/Leaflet.awesome-markers/2.0.2/leaflet.awesome-markers.js&quot;&gt;&lt;/script&gt;\n",
       "    &lt;link rel=&quot;stylesheet&quot; href=&quot;https://cdn.jsdelivr.net/npm/leaflet@1.6.0/dist/leaflet.css&quot;/&gt;\n",
       "    &lt;link rel=&quot;stylesheet&quot; href=&quot;https://maxcdn.bootstrapcdn.com/bootstrap/3.2.0/css/bootstrap.min.css&quot;/&gt;\n",
       "    &lt;link rel=&quot;stylesheet&quot; href=&quot;https://maxcdn.bootstrapcdn.com/bootstrap/3.2.0/css/bootstrap-theme.min.css&quot;/&gt;\n",
       "    &lt;link rel=&quot;stylesheet&quot; href=&quot;https://maxcdn.bootstrapcdn.com/font-awesome/4.6.3/css/font-awesome.min.css&quot;/&gt;\n",
       "    &lt;link rel=&quot;stylesheet&quot; href=&quot;https://cdnjs.cloudflare.com/ajax/libs/Leaflet.awesome-markers/2.0.2/leaflet.awesome-markers.css&quot;/&gt;\n",
       "    &lt;link rel=&quot;stylesheet&quot; href=&quot;https://cdn.jsdelivr.net/gh/python-visualization/folium/folium/templates/leaflet.awesome.rotate.min.css&quot;/&gt;\n",
       "    \n",
       "            &lt;meta name=&quot;viewport&quot; content=&quot;width=device-width,\n",
       "                initial-scale=1.0, maximum-scale=1.0, user-scalable=no&quot; /&gt;\n",
       "            &lt;style&gt;\n",
       "                #map_6085fe524e4b7582ca9b09e9e03680c6 {\n",
       "                    position: relative;\n",
       "                    width: 100.0%;\n",
       "                    height: 100.0%;\n",
       "                    left: 0.0%;\n",
       "                    top: 0.0%;\n",
       "                }\n",
       "            &lt;/style&gt;\n",
       "        \n",
       "&lt;/head&gt;\n",
       "&lt;body&gt;    \n",
       "    \n",
       "            &lt;div class=&quot;folium-map&quot; id=&quot;map_6085fe524e4b7582ca9b09e9e03680c6&quot; &gt;&lt;/div&gt;\n",
       "        \n",
       "&lt;/body&gt;\n",
       "&lt;script&gt;    \n",
       "    \n",
       "            var map_6085fe524e4b7582ca9b09e9e03680c6 = L.map(\n",
       "                &quot;map_6085fe524e4b7582ca9b09e9e03680c6&quot;,\n",
       "                {\n",
       "                    center: [-39.925826, -73.114501],\n",
       "                    crs: L.CRS.EPSG3857,\n",
       "                    zoom: 9.5,\n",
       "                    zoomControl: true,\n",
       "                    preferCanvas: false,\n",
       "                }\n",
       "            );\n",
       "\n",
       "            \n",
       "\n",
       "        \n",
       "    \n",
       "            var tile_layer_d24daf6e1b87ecc66b6b65df032bfc7e = L.tileLayer(\n",
       "                &quot;https://{s}.tile.openstreetmap.org/{z}/{x}/{y}.png&quot;,\n",
       "                {&quot;attribution&quot;: &quot;Data by \\u0026copy; \\u003ca href=\\&quot;http://openstreetmap.org\\&quot;\\u003eOpenStreetMap\\u003c/a\\u003e, under \\u003ca href=\\&quot;http://www.openstreetmap.org/copyright\\&quot;\\u003eODbL\\u003c/a\\u003e.&quot;, &quot;detectRetina&quot;: false, &quot;maxNativeZoom&quot;: 18, &quot;maxZoom&quot;: 18, &quot;minZoom&quot;: 0, &quot;noWrap&quot;: false, &quot;opacity&quot;: 1, &quot;subdomains&quot;: &quot;abc&quot;, &quot;tms&quot;: false}\n",
       "            ).addTo(map_6085fe524e4b7582ca9b09e9e03680c6);\n",
       "        \n",
       "    \n",
       "            var marker_9e16675ca44a3c43b8e99e263b5e2c00 = L.marker(\n",
       "                [-39.8062305249, -73.0547464487],\n",
       "                {}\n",
       "            ).addTo(map_6085fe524e4b7582ca9b09e9e03680c6);\n",
       "        \n",
       "    \n",
       "            var icon_65c3dc82edaa99a117ad1a6901a5f006 = L.AwesomeMarkers.icon(\n",
       "                {&quot;extraClasses&quot;: &quot;fa-rotate-0&quot;, &quot;icon&quot;: &quot;info-sign&quot;, &quot;iconColor&quot;: &quot;white&quot;, &quot;markerColor&quot;: &quot;green&quot;, &quot;prefix&quot;: &quot;glyphicon&quot;}\n",
       "            );\n",
       "            marker_9e16675ca44a3c43b8e99e263b5e2c00.setIcon(icon_65c3dc82edaa99a117ad1a6901a5f006);\n",
       "        \n",
       "    \n",
       "        var popup_e68b6ca2b58e9641ee1836e56ad4bbfb = L.popup({&quot;maxWidth&quot;: &quot;100%&quot;});\n",
       "\n",
       "        \n",
       "            var html_8cbc43d46b5bdcd811a7f46cd1084202 = $(`&lt;div id=&quot;html_8cbc43d46b5bdcd811a7f46cd1084202&quot; style=&quot;width: 100.0%; height: 100.0%;&quot;&gt;&lt;b&gt;Nombre: &lt;/b&gt;PISHUINCO  &lt;b&gt;Número de personas beneficiadas: &lt;/b&gt;322  &lt;b&gt;Año de puesta en marcha: &lt;/b&gt;2011.0&lt;/div&gt;`)[0];\n",
       "            popup_e68b6ca2b58e9641ee1836e56ad4bbfb.setContent(html_8cbc43d46b5bdcd811a7f46cd1084202);\n",
       "        \n",
       "\n",
       "        marker_9e16675ca44a3c43b8e99e263b5e2c00.bindPopup(popup_e68b6ca2b58e9641ee1836e56ad4bbfb)\n",
       "        ;\n",
       "\n",
       "        \n",
       "    \n",
       "    \n",
       "            marker_9e16675ca44a3c43b8e99e263b5e2c00.bindTooltip(\n",
       "                `&lt;div&gt;\n",
       "                     PISHUINCO\n",
       "                 &lt;/div&gt;`,\n",
       "                {&quot;sticky&quot;: true}\n",
       "            );\n",
       "        \n",
       "    \n",
       "            var marker_5e0448e7d80898f962c8dd4a238e0f22 = L.marker(\n",
       "                [-39.7283824204, -73.3948919817],\n",
       "                {}\n",
       "            ).addTo(map_6085fe524e4b7582ca9b09e9e03680c6);\n",
       "        \n",
       "    \n",
       "            var icon_a64e7783e85bebba072e8c019297cd16 = L.AwesomeMarkers.icon(\n",
       "                {&quot;extraClasses&quot;: &quot;fa-rotate-0&quot;, &quot;icon&quot;: &quot;info-sign&quot;, &quot;iconColor&quot;: &quot;white&quot;, &quot;markerColor&quot;: &quot;purple&quot;, &quot;prefix&quot;: &quot;glyphicon&quot;}\n",
       "            );\n",
       "            marker_5e0448e7d80898f962c8dd4a238e0f22.setIcon(icon_a64e7783e85bebba072e8c019297cd16);\n",
       "        \n",
       "    \n",
       "        var popup_465c3cd50db1c3137d27d35e644df1fe = L.popup({&quot;maxWidth&quot;: &quot;100%&quot;});\n",
       "\n",
       "        \n",
       "            var html_859344ec9a52314dd42fc6beae270ae9 = $(`&lt;div id=&quot;html_859344ec9a52314dd42fc6beae270ae9&quot; style=&quot;width: 100.0%; height: 100.0%;&quot;&gt;&lt;b&gt;Nombre: &lt;/b&gt;CURIÑANCO  &lt;b&gt;Número de personas beneficiadas: &lt;/b&gt;2294  &lt;b&gt;Año de puesta en marcha: &lt;/b&gt;1997.0&lt;/div&gt;`)[0];\n",
       "            popup_465c3cd50db1c3137d27d35e644df1fe.setContent(html_859344ec9a52314dd42fc6beae270ae9);\n",
       "        \n",
       "\n",
       "        marker_5e0448e7d80898f962c8dd4a238e0f22.bindPopup(popup_465c3cd50db1c3137d27d35e644df1fe)\n",
       "        ;\n",
       "\n",
       "        \n",
       "    \n",
       "    \n",
       "            marker_5e0448e7d80898f962c8dd4a238e0f22.bindTooltip(\n",
       "                `&lt;div&gt;\n",
       "                     CURIÑANCO\n",
       "                 &lt;/div&gt;`,\n",
       "                {&quot;sticky&quot;: true}\n",
       "            );\n",
       "        \n",
       "    \n",
       "            var marker_ec72428d70f990da3bbf0fa1c4111479 = L.marker(\n",
       "                [-39.7930844112, -73.124067117],\n",
       "                {}\n",
       "            ).addTo(map_6085fe524e4b7582ca9b09e9e03680c6);\n",
       "        \n",
       "    \n",
       "            var icon_cb1efcf230cb362a42f3d2fb9586e6be = L.AwesomeMarkers.icon(\n",
       "                {&quot;extraClasses&quot;: &quot;fa-rotate-0&quot;, &quot;icon&quot;: &quot;info-sign&quot;, &quot;iconColor&quot;: &quot;white&quot;, &quot;markerColor&quot;: &quot;green&quot;, &quot;prefix&quot;: &quot;glyphicon&quot;}\n",
       "            );\n",
       "            marker_ec72428d70f990da3bbf0fa1c4111479.setIcon(icon_cb1efcf230cb362a42f3d2fb9586e6be);\n",
       "        \n",
       "    \n",
       "        var popup_f01ae5a037099f418621c436e0d547ba = L.popup({&quot;maxWidth&quot;: &quot;100%&quot;});\n",
       "\n",
       "        \n",
       "            var html_d529deac94dc46ff41fa8454185cf26d = $(`&lt;div id=&quot;html_d529deac94dc46ff41fa8454185cf26d&quot; style=&quot;width: 100.0%; height: 100.0%;&quot;&gt;&lt;b&gt;Nombre: &lt;/b&gt;HUELLELHUE  &lt;b&gt;Número de personas beneficiadas: &lt;/b&gt;310  &lt;b&gt;Año de puesta en marcha: &lt;/b&gt;1981.0&lt;/div&gt;`)[0];\n",
       "            popup_f01ae5a037099f418621c436e0d547ba.setContent(html_d529deac94dc46ff41fa8454185cf26d);\n",
       "        \n",
       "\n",
       "        marker_ec72428d70f990da3bbf0fa1c4111479.bindPopup(popup_f01ae5a037099f418621c436e0d547ba)\n",
       "        ;\n",
       "\n",
       "        \n",
       "    \n",
       "    \n",
       "            marker_ec72428d70f990da3bbf0fa1c4111479.bindTooltip(\n",
       "                `&lt;div&gt;\n",
       "                     HUELLELHUE\n",
       "                 &lt;/div&gt;`,\n",
       "                {&quot;sticky&quot;: true}\n",
       "            );\n",
       "        \n",
       "    \n",
       "            var marker_a676987db616fbb42e661af6a6649b13 = L.marker(\n",
       "                [-39.8715639883, -73.1852346315],\n",
       "                {}\n",
       "            ).addTo(map_6085fe524e4b7582ca9b09e9e03680c6);\n",
       "        \n",
       "    \n",
       "            var icon_bcc5bb7ea579b6059d9b5826f6238ada = L.AwesomeMarkers.icon(\n",
       "                {&quot;extraClasses&quot;: &quot;fa-rotate-0&quot;, &quot;icon&quot;: &quot;info-sign&quot;, &quot;iconColor&quot;: &quot;white&quot;, &quot;markerColor&quot;: &quot;red&quot;, &quot;prefix&quot;: &quot;glyphicon&quot;}\n",
       "            );\n",
       "            marker_a676987db616fbb42e661af6a6649b13.setIcon(icon_bcc5bb7ea579b6059d9b5826f6238ada);\n",
       "        \n",
       "    \n",
       "        var popup_58efa2d2f45c810229c6bb0157b5dd5b = L.popup({&quot;maxWidth&quot;: &quot;100%&quot;});\n",
       "\n",
       "        \n",
       "            var html_44c5bae7e4b145aab82a4d7e71d31a95 = $(`&lt;div id=&quot;html_44c5bae7e4b145aab82a4d7e71d31a95&quot; style=&quot;width: 100.0%; height: 100.0%;&quot;&gt;&lt;b&gt;Nombre: &lt;/b&gt;LAS GAVIOTAS  &lt;b&gt;Número de personas beneficiadas: &lt;/b&gt;1048  &lt;b&gt;Año de puesta en marcha: &lt;/b&gt;2002.0&lt;/div&gt;`)[0];\n",
       "            popup_58efa2d2f45c810229c6bb0157b5dd5b.setContent(html_44c5bae7e4b145aab82a4d7e71d31a95);\n",
       "        \n",
       "\n",
       "        marker_a676987db616fbb42e661af6a6649b13.bindPopup(popup_58efa2d2f45c810229c6bb0157b5dd5b)\n",
       "        ;\n",
       "\n",
       "        \n",
       "    \n",
       "    \n",
       "            marker_a676987db616fbb42e661af6a6649b13.bindTooltip(\n",
       "                `&lt;div&gt;\n",
       "                     LAS GAVIOTAS\n",
       "                 &lt;/div&gt;`,\n",
       "                {&quot;sticky&quot;: true}\n",
       "            );\n",
       "        \n",
       "    \n",
       "            var marker_cd90b45d3391082f03a8b0c9bc9283f8 = L.marker(\n",
       "                [-39.8547751549, -73.3907718436],\n",
       "                {}\n",
       "            ).addTo(map_6085fe524e4b7582ca9b09e9e03680c6);\n",
       "        \n",
       "    \n",
       "            var icon_7e1e1ff49044558dfbfea30af3cf481c = L.AwesomeMarkers.icon(\n",
       "                {&quot;extraClasses&quot;: &quot;fa-rotate-0&quot;, &quot;icon&quot;: &quot;info-sign&quot;, &quot;iconColor&quot;: &quot;white&quot;, &quot;markerColor&quot;: &quot;purple&quot;, &quot;prefix&quot;: &quot;glyphicon&quot;}\n",
       "            );\n",
       "            marker_cd90b45d3391082f03a8b0c9bc9283f8.setIcon(icon_7e1e1ff49044558dfbfea30af3cf481c);\n",
       "        \n",
       "    \n",
       "        var popup_05192d0d996b015d842e18f9493a6e69 = L.popup({&quot;maxWidth&quot;: &quot;100%&quot;});\n",
       "\n",
       "        \n",
       "            var html_7c4c5550b6f950b3f40b42dbc1b4df20 = $(`&lt;div id=&quot;html_7c4c5550b6f950b3f40b42dbc1b4df20&quot; style=&quot;width: 100.0%; height: 100.0%;&quot;&gt;&lt;b&gt;Nombre: &lt;/b&gt;NIEBLA-LOS MOLINOS  &lt;b&gt;Número de personas beneficiadas: &lt;/b&gt;4021  &lt;b&gt;Año de puesta en marcha: &lt;/b&gt;1994.0&lt;/div&gt;`)[0];\n",
       "            popup_05192d0d996b015d842e18f9493a6e69.setContent(html_7c4c5550b6f950b3f40b42dbc1b4df20);\n",
       "        \n",
       "\n",
       "        marker_cd90b45d3391082f03a8b0c9bc9283f8.bindPopup(popup_05192d0d996b015d842e18f9493a6e69)\n",
       "        ;\n",
       "\n",
       "        \n",
       "    \n",
       "    \n",
       "            marker_cd90b45d3391082f03a8b0c9bc9283f8.bindTooltip(\n",
       "                `&lt;div&gt;\n",
       "                     NIEBLA-LOS MOLINOS\n",
       "                 &lt;/div&gt;`,\n",
       "                {&quot;sticky&quot;: true}\n",
       "            );\n",
       "        \n",
       "    \n",
       "            var marker_15156f44f536094fef11de44b03c5f56 = L.marker(\n",
       "                [-39.7603001637, -73.2705681336],\n",
       "                {}\n",
       "            ).addTo(map_6085fe524e4b7582ca9b09e9e03680c6);\n",
       "        \n",
       "    \n",
       "            var icon_eb761b832ea9f18e39b55375e799d138 = L.AwesomeMarkers.icon(\n",
       "                {&quot;extraClasses&quot;: &quot;fa-rotate-0&quot;, &quot;icon&quot;: &quot;info-sign&quot;, &quot;iconColor&quot;: &quot;white&quot;, &quot;markerColor&quot;: &quot;orange&quot;, &quot;prefix&quot;: &quot;glyphicon&quot;}\n",
       "            );\n",
       "            marker_15156f44f536094fef11de44b03c5f56.setIcon(icon_eb761b832ea9f18e39b55375e799d138);\n",
       "        \n",
       "    \n",
       "        var popup_ba19cff4a7531e4777fc0c686f1e1793 = L.popup({&quot;maxWidth&quot;: &quot;100%&quot;});\n",
       "\n",
       "        \n",
       "            var html_332037155bbb945695441f6d6c11d7e7 = $(`&lt;div id=&quot;html_332037155bbb945695441f6d6c11d7e7&quot; style=&quot;width: 100.0%; height: 100.0%;&quot;&gt;&lt;b&gt;Nombre: &lt;/b&gt;PUNUCAPA  &lt;b&gt;Número de personas beneficiadas: &lt;/b&gt;459  &lt;b&gt;Año de puesta en marcha: &lt;/b&gt;2001.0&lt;/div&gt;`)[0];\n",
       "            popup_ba19cff4a7531e4777fc0c686f1e1793.setContent(html_332037155bbb945695441f6d6c11d7e7);\n",
       "        \n",
       "\n",
       "        marker_15156f44f536094fef11de44b03c5f56.bindPopup(popup_ba19cff4a7531e4777fc0c686f1e1793)\n",
       "        ;\n",
       "\n",
       "        \n",
       "    \n",
       "    \n",
       "            marker_15156f44f536094fef11de44b03c5f56.bindTooltip(\n",
       "                `&lt;div&gt;\n",
       "                     PUNUCAPA\n",
       "                 &lt;/div&gt;`,\n",
       "                {&quot;sticky&quot;: true}\n",
       "            );\n",
       "        \n",
       "    \n",
       "            var marker_fcae851a55a0e6a3bd237118f4b1beee = L.marker(\n",
       "                [-39.831480037, -73.4025892212],\n",
       "                {}\n",
       "            ).addTo(map_6085fe524e4b7582ca9b09e9e03680c6);\n",
       "        \n",
       "    \n",
       "            var icon_3eaab6896e1a586d61f344e6017b5172 = L.AwesomeMarkers.icon(\n",
       "                {&quot;extraClasses&quot;: &quot;fa-rotate-0&quot;, &quot;icon&quot;: &quot;info-sign&quot;, &quot;iconColor&quot;: &quot;white&quot;, &quot;markerColor&quot;: &quot;red&quot;, &quot;prefix&quot;: &quot;glyphicon&quot;}\n",
       "            );\n",
       "            marker_fcae851a55a0e6a3bd237118f4b1beee.setIcon(icon_3eaab6896e1a586d61f344e6017b5172);\n",
       "        \n",
       "    \n",
       "        var popup_dd4fe853f4091e135db4cc3a5b1005dd = L.popup({&quot;maxWidth&quot;: &quot;100%&quot;});\n",
       "\n",
       "        \n",
       "            var html_bc841dc50f577d4946754e05ee5fc494 = $(`&lt;div id=&quot;html_bc841dc50f577d4946754e05ee5fc494&quot; style=&quot;width: 100.0%; height: 100.0%;&quot;&gt;&lt;b&gt;Nombre: &lt;/b&gt;SAN IGNACIO-PLAYA ROSADA  &lt;b&gt;Número de personas beneficiadas: &lt;/b&gt;936  &lt;b&gt;Año de puesta en marcha: &lt;/b&gt;2000.0&lt;/div&gt;`)[0];\n",
       "            popup_dd4fe853f4091e135db4cc3a5b1005dd.setContent(html_bc841dc50f577d4946754e05ee5fc494);\n",
       "        \n",
       "\n",
       "        marker_fcae851a55a0e6a3bd237118f4b1beee.bindPopup(popup_dd4fe853f4091e135db4cc3a5b1005dd)\n",
       "        ;\n",
       "\n",
       "        \n",
       "    \n",
       "    \n",
       "            marker_fcae851a55a0e6a3bd237118f4b1beee.bindTooltip(\n",
       "                `&lt;div&gt;\n",
       "                     SAN IGNACIO-PLAYA ROSADA\n",
       "                 &lt;/div&gt;`,\n",
       "                {&quot;sticky&quot;: true}\n",
       "            );\n",
       "        \n",
       "    \n",
       "            var marker_72b7dce2a3a13f91a6b6f750d6605f5e = L.marker(\n",
       "                [-39.8649364171, -73.3728400295],\n",
       "                {}\n",
       "            ).addTo(map_6085fe524e4b7582ca9b09e9e03680c6);\n",
       "        \n",
       "    \n",
       "            var icon_13c2d5aa17fe9fabdca4aed8ce90f2df = L.AwesomeMarkers.icon(\n",
       "                {&quot;extraClasses&quot;: &quot;fa-rotate-0&quot;, &quot;icon&quot;: &quot;info-sign&quot;, &quot;iconColor&quot;: &quot;white&quot;, &quot;markerColor&quot;: &quot;red&quot;, &quot;prefix&quot;: &quot;glyphicon&quot;}\n",
       "            );\n",
       "            marker_72b7dce2a3a13f91a6b6f750d6605f5e.setIcon(icon_13c2d5aa17fe9fabdca4aed8ce90f2df);\n",
       "        \n",
       "    \n",
       "        var popup_894d674067c263eef61b55262510f90d = L.popup({&quot;maxWidth&quot;: &quot;100%&quot;});\n",
       "\n",
       "        \n",
       "            var html_75703bf3d1528ad8df3ac6747ccd3104 = $(`&lt;div id=&quot;html_75703bf3d1528ad8df3ac6747ccd3104&quot; style=&quot;width: 100.0%; height: 100.0%;&quot;&gt;&lt;b&gt;Nombre: &lt;/b&gt;TRES ESPINOS  &lt;b&gt;Número de personas beneficiadas: &lt;/b&gt;1091  &lt;b&gt;Año de puesta en marcha: &lt;/b&gt;2002.0&lt;/div&gt;`)[0];\n",
       "            popup_894d674067c263eef61b55262510f90d.setContent(html_75703bf3d1528ad8df3ac6747ccd3104);\n",
       "        \n",
       "\n",
       "        marker_72b7dce2a3a13f91a6b6f750d6605f5e.bindPopup(popup_894d674067c263eef61b55262510f90d)\n",
       "        ;\n",
       "\n",
       "        \n",
       "    \n",
       "    \n",
       "            marker_72b7dce2a3a13f91a6b6f750d6605f5e.bindTooltip(\n",
       "                `&lt;div&gt;\n",
       "                     TRES ESPINOS\n",
       "                 &lt;/div&gt;`,\n",
       "                {&quot;sticky&quot;: true}\n",
       "            );\n",
       "        \n",
       "    \n",
       "            var marker_26be29693129a2ab46eb0f8b86875312 = L.marker(\n",
       "                [-39.7314121294, -73.1091043702],\n",
       "                {}\n",
       "            ).addTo(map_6085fe524e4b7582ca9b09e9e03680c6);\n",
       "        \n",
       "    \n",
       "            var icon_4ec49132c565c042a435a16be6c1eb85 = L.AwesomeMarkers.icon(\n",
       "                {&quot;extraClasses&quot;: &quot;fa-rotate-0&quot;, &quot;icon&quot;: &quot;info-sign&quot;, &quot;iconColor&quot;: &quot;white&quot;, &quot;markerColor&quot;: &quot;purple&quot;, &quot;prefix&quot;: &quot;glyphicon&quot;}\n",
       "            );\n",
       "            marker_26be29693129a2ab46eb0f8b86875312.setIcon(icon_4ec49132c565c042a435a16be6c1eb85);\n",
       "        \n",
       "    \n",
       "        var popup_b1f488837c2a070f89e15d242f192527 = L.popup({&quot;maxWidth&quot;: &quot;100%&quot;});\n",
       "\n",
       "        \n",
       "            var html_9a1b544dd2e94c81d6579b0600368859 = $(`&lt;div id=&quot;html_9a1b544dd2e94c81d6579b0600368859&quot; style=&quot;width: 100.0%; height: 100.0%;&quot;&gt;&lt;b&gt;Nombre: &lt;/b&gt;VILLA CAYUMAPU  &lt;b&gt;Número de personas beneficiadas: &lt;/b&gt;1327  &lt;b&gt;Año de puesta en marcha: &lt;/b&gt;2008.0&lt;/div&gt;`)[0];\n",
       "            popup_b1f488837c2a070f89e15d242f192527.setContent(html_9a1b544dd2e94c81d6579b0600368859);\n",
       "        \n",
       "\n",
       "        marker_26be29693129a2ab46eb0f8b86875312.bindPopup(popup_b1f488837c2a070f89e15d242f192527)\n",
       "        ;\n",
       "\n",
       "        \n",
       "    \n",
       "    \n",
       "            marker_26be29693129a2ab46eb0f8b86875312.bindTooltip(\n",
       "                `&lt;div&gt;\n",
       "                     VILLA CAYUMAPU\n",
       "                 &lt;/div&gt;`,\n",
       "                {&quot;sticky&quot;: true}\n",
       "            );\n",
       "        \n",
       "    \n",
       "            var marker_8fc0d86ca82d4dfad35334564541b673 = L.marker(\n",
       "                [-39.772903642, -73.1970058325],\n",
       "                {}\n",
       "            ).addTo(map_6085fe524e4b7582ca9b09e9e03680c6);\n",
       "        \n",
       "    \n",
       "            var icon_dfa2ac582e106222bf1d178e9692f8f1 = L.AwesomeMarkers.icon(\n",
       "                {&quot;extraClasses&quot;: &quot;fa-rotate-0&quot;, &quot;icon&quot;: &quot;info-sign&quot;, &quot;iconColor&quot;: &quot;white&quot;, &quot;markerColor&quot;: &quot;orange&quot;, &quot;prefix&quot;: &quot;glyphicon&quot;}\n",
       "            );\n",
       "            marker_8fc0d86ca82d4dfad35334564541b673.setIcon(icon_dfa2ac582e106222bf1d178e9692f8f1);\n",
       "        \n",
       "    \n",
       "        var popup_d0340dfa052cf9a5b6aed5788d5b5192 = L.popup({&quot;maxWidth&quot;: &quot;100%&quot;});\n",
       "\n",
       "        \n",
       "            var html_2a5fb2721fa837f18f28b50f2b5690b2 = $(`&lt;div id=&quot;html_2a5fb2721fa837f18f28b50f2b5690b2&quot; style=&quot;width: 100.0%; height: 100.0%;&quot;&gt;&lt;b&gt;Nombre: &lt;/b&gt;EL ARENAL SANTA ELVIRA  &lt;b&gt;Número de personas beneficiadas: &lt;/b&gt;549  &lt;b&gt;Año de puesta en marcha: &lt;/b&gt;2015.0&lt;/div&gt;`)[0];\n",
       "            popup_d0340dfa052cf9a5b6aed5788d5b5192.setContent(html_2a5fb2721fa837f18f28b50f2b5690b2);\n",
       "        \n",
       "\n",
       "        marker_8fc0d86ca82d4dfad35334564541b673.bindPopup(popup_d0340dfa052cf9a5b6aed5788d5b5192)\n",
       "        ;\n",
       "\n",
       "        \n",
       "    \n",
       "    \n",
       "            marker_8fc0d86ca82d4dfad35334564541b673.bindTooltip(\n",
       "                `&lt;div&gt;\n",
       "                     EL ARENAL SANTA ELVIRA\n",
       "                 &lt;/div&gt;`,\n",
       "                {&quot;sticky&quot;: true}\n",
       "            );\n",
       "        \n",
       "    \n",
       "            var marker_f3203b4bbd0f79f31117cad48b06b853 = L.marker(\n",
       "                [-39.8673123199, -73.2088638403],\n",
       "                {}\n",
       "            ).addTo(map_6085fe524e4b7582ca9b09e9e03680c6);\n",
       "        \n",
       "    \n",
       "            var icon_7326b0aef3e7fe6e3b939106948e0af8 = L.AwesomeMarkers.icon(\n",
       "                {&quot;extraClasses&quot;: &quot;fa-rotate-0&quot;, &quot;icon&quot;: &quot;info-sign&quot;, &quot;iconColor&quot;: &quot;white&quot;, &quot;markerColor&quot;: &quot;red&quot;, &quot;prefix&quot;: &quot;glyphicon&quot;}\n",
       "            );\n",
       "            marker_f3203b4bbd0f79f31117cad48b06b853.setIcon(icon_7326b0aef3e7fe6e3b939106948e0af8);\n",
       "        \n",
       "    \n",
       "        var popup_0ff8137c21d87b6665c99965f75f491e = L.popup({&quot;maxWidth&quot;: &quot;100%&quot;});\n",
       "\n",
       "        \n",
       "            var html_841b01c74bf386e3f741b6dafd17cf38 = $(`&lt;div id=&quot;html_841b01c74bf386e3f741b6dafd17cf38&quot; style=&quot;width: 100.0%; height: 100.0%;&quot;&gt;&lt;b&gt;Nombre: &lt;/b&gt;PAILLAO  &lt;b&gt;Número de personas beneficiadas: &lt;/b&gt;871  &lt;b&gt;Año de puesta en marcha: &lt;/b&gt;2014.0&lt;/div&gt;`)[0];\n",
       "            popup_0ff8137c21d87b6665c99965f75f491e.setContent(html_841b01c74bf386e3f741b6dafd17cf38);\n",
       "        \n",
       "\n",
       "        marker_f3203b4bbd0f79f31117cad48b06b853.bindPopup(popup_0ff8137c21d87b6665c99965f75f491e)\n",
       "        ;\n",
       "\n",
       "        \n",
       "    \n",
       "    \n",
       "            marker_f3203b4bbd0f79f31117cad48b06b853.bindTooltip(\n",
       "                `&lt;div&gt;\n",
       "                     PAILLAO\n",
       "                 &lt;/div&gt;`,\n",
       "                {&quot;sticky&quot;: true}\n",
       "            );\n",
       "        \n",
       "    \n",
       "            var marker_5a56b28b86ced07d277eebed5dbe89d4 = L.marker(\n",
       "                [-39.7802702288, -73.2412708338],\n",
       "                {}\n",
       "            ).addTo(map_6085fe524e4b7582ca9b09e9e03680c6);\n",
       "        \n",
       "    \n",
       "            var icon_1401cc4b99917df6e730d6272720006d = L.AwesomeMarkers.icon(\n",
       "                {&quot;extraClasses&quot;: &quot;fa-rotate-0&quot;, &quot;icon&quot;: &quot;info-sign&quot;, &quot;iconColor&quot;: &quot;white&quot;, &quot;markerColor&quot;: &quot;orange&quot;, &quot;prefix&quot;: &quot;glyphicon&quot;}\n",
       "            );\n",
       "            marker_5a56b28b86ced07d277eebed5dbe89d4.setIcon(icon_1401cc4b99917df6e730d6272720006d);\n",
       "        \n",
       "    \n",
       "        var popup_601fbd6052a661fd79cf3f20e430e7d9 = L.popup({&quot;maxWidth&quot;: &quot;100%&quot;});\n",
       "\n",
       "        \n",
       "            var html_ca9d61dacc6cc3bd53fb3d29d07edd89 = $(`&lt;div id=&quot;html_ca9d61dacc6cc3bd53fb3d29d07edd89&quot; style=&quot;width: 100.0%; height: 100.0%;&quot;&gt;&lt;b&gt;Nombre: &lt;/b&gt;CABO BLANCO  &lt;b&gt;Número de personas beneficiadas: &lt;/b&gt;543  &lt;b&gt;Año de puesta en marcha: &lt;/b&gt;2015.0&lt;/div&gt;`)[0];\n",
       "            popup_601fbd6052a661fd79cf3f20e430e7d9.setContent(html_ca9d61dacc6cc3bd53fb3d29d07edd89);\n",
       "        \n",
       "\n",
       "        marker_5a56b28b86ced07d277eebed5dbe89d4.bindPopup(popup_601fbd6052a661fd79cf3f20e430e7d9)\n",
       "        ;\n",
       "\n",
       "        \n",
       "    \n",
       "    \n",
       "            marker_5a56b28b86ced07d277eebed5dbe89d4.bindTooltip(\n",
       "                `&lt;div&gt;\n",
       "                     CABO BLANCO\n",
       "                 &lt;/div&gt;`,\n",
       "                {&quot;sticky&quot;: true}\n",
       "            );\n",
       "        \n",
       "    \n",
       "            var marker_db9e7a23ba29e06eff71cf22b700b3c6 = L.marker(\n",
       "                [-39.7737197231, -73.2102553189],\n",
       "                {}\n",
       "            ).addTo(map_6085fe524e4b7582ca9b09e9e03680c6);\n",
       "        \n",
       "    \n",
       "            var icon_81c21d1f3feb0279695c14d815cb9cad = L.AwesomeMarkers.icon(\n",
       "                {&quot;extraClasses&quot;: &quot;fa-rotate-0&quot;, &quot;icon&quot;: &quot;info-sign&quot;, &quot;iconColor&quot;: &quot;white&quot;, &quot;markerColor&quot;: &quot;orange&quot;, &quot;prefix&quot;: &quot;glyphicon&quot;}\n",
       "            );\n",
       "            marker_db9e7a23ba29e06eff71cf22b700b3c6.setIcon(icon_81c21d1f3feb0279695c14d815cb9cad);\n",
       "        \n",
       "    \n",
       "        var popup_4bf97bb02c34a7a051658aaf92bc9ecc = L.popup({&quot;maxWidth&quot;: &quot;100%&quot;});\n",
       "\n",
       "        \n",
       "            var html_7277e6b9d586c008c56a200b8efcdc5e = $(`&lt;div id=&quot;html_7277e6b9d586c008c56a200b8efcdc5e&quot; style=&quot;width: 100.0%; height: 100.0%;&quot;&gt;&lt;b&gt;Nombre: &lt;/b&gt;EL ARENAL KM 2  &lt;b&gt;Número de personas beneficiadas: &lt;/b&gt;623  &lt;b&gt;Año de puesta en marcha: &lt;/b&gt;2017.0&lt;/div&gt;`)[0];\n",
       "            popup_4bf97bb02c34a7a051658aaf92bc9ecc.setContent(html_7277e6b9d586c008c56a200b8efcdc5e);\n",
       "        \n",
       "\n",
       "        marker_db9e7a23ba29e06eff71cf22b700b3c6.bindPopup(popup_4bf97bb02c34a7a051658aaf92bc9ecc)\n",
       "        ;\n",
       "\n",
       "        \n",
       "    \n",
       "    \n",
       "            marker_db9e7a23ba29e06eff71cf22b700b3c6.bindTooltip(\n",
       "                `&lt;div&gt;\n",
       "                     EL ARENAL KM 2\n",
       "                 &lt;/div&gt;`,\n",
       "                {&quot;sticky&quot;: true}\n",
       "            );\n",
       "        \n",
       "    \n",
       "            var marker_6e88b48a79641fdddd232d7205522112 = L.marker(\n",
       "                [-39.7772055631, -73.3135380035],\n",
       "                {}\n",
       "            ).addTo(map_6085fe524e4b7582ca9b09e9e03680c6);\n",
       "        \n",
       "    \n",
       "            var icon_bf877e142e290abb2be5c84d3695bf7a = L.AwesomeMarkers.icon(\n",
       "                {&quot;extraClasses&quot;: &quot;fa-rotate-0&quot;, &quot;icon&quot;: &quot;info-sign&quot;, &quot;iconColor&quot;: &quot;white&quot;, &quot;markerColor&quot;: &quot;orange&quot;, &quot;prefix&quot;: &quot;glyphicon&quot;}\n",
       "            );\n",
       "            marker_6e88b48a79641fdddd232d7205522112.setIcon(icon_bf877e142e290abb2be5c84d3695bf7a);\n",
       "        \n",
       "    \n",
       "        var popup_bff2091bcba1afaa8c264d320ec672b0 = L.popup({&quot;maxWidth&quot;: &quot;100%&quot;});\n",
       "\n",
       "        \n",
       "            var html_10be5161bc192543ac8b16fad82ed654 = $(`&lt;div id=&quot;html_10be5161bc192543ac8b16fad82ed654&quot; style=&quot;width: 100.0%; height: 100.0%;&quot;&gt;&lt;b&gt;Nombre: &lt;/b&gt;Chabelita  &lt;b&gt;Número de personas beneficiadas: &lt;/b&gt;434  &lt;b&gt;Año de puesta en marcha: &lt;/b&gt;2019.0&lt;/div&gt;`)[0];\n",
       "            popup_bff2091bcba1afaa8c264d320ec672b0.setContent(html_10be5161bc192543ac8b16fad82ed654);\n",
       "        \n",
       "\n",
       "        marker_6e88b48a79641fdddd232d7205522112.bindPopup(popup_bff2091bcba1afaa8c264d320ec672b0)\n",
       "        ;\n",
       "\n",
       "        \n",
       "    \n",
       "    \n",
       "            marker_6e88b48a79641fdddd232d7205522112.bindTooltip(\n",
       "                `&lt;div&gt;\n",
       "                     Chabelita\n",
       "                 &lt;/div&gt;`,\n",
       "                {&quot;sticky&quot;: true}\n",
       "            );\n",
       "        \n",
       "    \n",
       "            var marker_ae7d7028a1623f1fb00c5c219576bc56 = L.marker(\n",
       "                [-40.1296581637, -72.7254940272],\n",
       "                {}\n",
       "            ).addTo(map_6085fe524e4b7582ca9b09e9e03680c6);\n",
       "        \n",
       "    \n",
       "            var icon_7e26064de3a5b7fad4f73f6278044ee5 = L.AwesomeMarkers.icon(\n",
       "                {&quot;extraClasses&quot;: &quot;fa-rotate-0&quot;, &quot;icon&quot;: &quot;info-sign&quot;, &quot;iconColor&quot;: &quot;white&quot;, &quot;markerColor&quot;: &quot;green&quot;, &quot;prefix&quot;: &quot;glyphicon&quot;}\n",
       "            );\n",
       "            marker_ae7d7028a1623f1fb00c5c219576bc56.setIcon(icon_7e26064de3a5b7fad4f73f6278044ee5);\n",
       "        \n",
       "    \n",
       "        var popup_cf3c2438ec851317057a04e7f588cc44 = L.popup({&quot;maxWidth&quot;: &quot;100%&quot;});\n",
       "\n",
       "        \n",
       "            var html_346dfa1d23cd42ff810bde91fd09fbc0 = $(`&lt;div id=&quot;html_346dfa1d23cd42ff810bde91fd09fbc0&quot; style=&quot;width: 100.0%; height: 100.0%;&quot;&gt;&lt;b&gt;Nombre: &lt;/b&gt;ARCO IRIS  &lt;b&gt;Número de personas beneficiadas: &lt;/b&gt;394  &lt;b&gt;Año de puesta en marcha: &lt;/b&gt;1998.0&lt;/div&gt;`)[0];\n",
       "            popup_cf3c2438ec851317057a04e7f588cc44.setContent(html_346dfa1d23cd42ff810bde91fd09fbc0);\n",
       "        \n",
       "\n",
       "        marker_ae7d7028a1623f1fb00c5c219576bc56.bindPopup(popup_cf3c2438ec851317057a04e7f588cc44)\n",
       "        ;\n",
       "\n",
       "        \n",
       "    \n",
       "    \n",
       "            marker_ae7d7028a1623f1fb00c5c219576bc56.bindTooltip(\n",
       "                `&lt;div&gt;\n",
       "                     ARCO IRIS\n",
       "                 &lt;/div&gt;`,\n",
       "                {&quot;sticky&quot;: true}\n",
       "            );\n",
       "        \n",
       "    \n",
       "            var marker_288b251fcec0c6cff9ca5d0f4562d501 = L.marker(\n",
       "                [-40.0676228293, -72.6179175677],\n",
       "                {}\n",
       "            ).addTo(map_6085fe524e4b7582ca9b09e9e03680c6);\n",
       "        \n",
       "    \n",
       "            var icon_cd69f6daef6c8d593186df6a1fcc8972 = L.AwesomeMarkers.icon(\n",
       "                {&quot;extraClasses&quot;: &quot;fa-rotate-0&quot;, &quot;icon&quot;: &quot;info-sign&quot;, &quot;iconColor&quot;: &quot;white&quot;, &quot;markerColor&quot;: &quot;green&quot;, &quot;prefix&quot;: &quot;glyphicon&quot;}\n",
       "            );\n",
       "            marker_288b251fcec0c6cff9ca5d0f4562d501.setIcon(icon_cd69f6daef6c8d593186df6a1fcc8972);\n",
       "        \n",
       "    \n",
       "        var popup_8ff85c0fc21d7fa7474fb5a0d1d179e1 = L.popup({&quot;maxWidth&quot;: &quot;100%&quot;});\n",
       "\n",
       "        \n",
       "            var html_57979c2028f7b7be3f3ba376bddd8bf9 = $(`&lt;div id=&quot;html_57979c2028f7b7be3f3ba376bddd8bf9&quot; style=&quot;width: 100.0%; height: 100.0%;&quot;&gt;&lt;b&gt;Nombre: &lt;/b&gt;EL LLOLLY  &lt;b&gt;Número de personas beneficiadas: &lt;/b&gt;428  &lt;b&gt;Año de puesta en marcha: &lt;/b&gt;1998.0&lt;/div&gt;`)[0];\n",
       "            popup_8ff85c0fc21d7fa7474fb5a0d1d179e1.setContent(html_57979c2028f7b7be3f3ba376bddd8bf9);\n",
       "        \n",
       "\n",
       "        marker_288b251fcec0c6cff9ca5d0f4562d501.bindPopup(popup_8ff85c0fc21d7fa7474fb5a0d1d179e1)\n",
       "        ;\n",
       "\n",
       "        \n",
       "    \n",
       "    \n",
       "            marker_288b251fcec0c6cff9ca5d0f4562d501.bindTooltip(\n",
       "                `&lt;div&gt;\n",
       "                     EL LLOLLY\n",
       "                 &lt;/div&gt;`,\n",
       "                {&quot;sticky&quot;: true}\n",
       "            );\n",
       "        \n",
       "    \n",
       "            var marker_5decd53156cc72cff3b6f319e44cb649 = L.marker(\n",
       "                [-40.1515807831, -72.8962419781],\n",
       "                {}\n",
       "            ).addTo(map_6085fe524e4b7582ca9b09e9e03680c6);\n",
       "        \n",
       "    \n",
       "            var icon_0f640e447e0883d63875ed6e022335cb = L.AwesomeMarkers.icon(\n",
       "                {&quot;extraClasses&quot;: &quot;fa-rotate-0&quot;, &quot;icon&quot;: &quot;info-sign&quot;, &quot;iconColor&quot;: &quot;white&quot;, &quot;markerColor&quot;: &quot;red&quot;, &quot;prefix&quot;: &quot;glyphicon&quot;}\n",
       "            );\n",
       "            marker_5decd53156cc72cff3b6f319e44cb649.setIcon(icon_0f640e447e0883d63875ed6e022335cb);\n",
       "        \n",
       "    \n",
       "        var popup_6a04e12c91dc347ba75b79a367ccb081 = L.popup({&quot;maxWidth&quot;: &quot;100%&quot;});\n",
       "\n",
       "        \n",
       "            var html_3939d20ee6843a2851e8ded4b0070ee7 = $(`&lt;div id=&quot;html_3939d20ee6843a2851e8ded4b0070ee7&quot; style=&quot;width: 100.0%; height: 100.0%;&quot;&gt;&lt;b&gt;Nombre: &lt;/b&gt;PICHIRROPULLI  &lt;b&gt;Número de personas beneficiadas: &lt;/b&gt;1079  &lt;b&gt;Año de puesta en marcha: &lt;/b&gt;1979.0&lt;/div&gt;`)[0];\n",
       "            popup_6a04e12c91dc347ba75b79a367ccb081.setContent(html_3939d20ee6843a2851e8ded4b0070ee7);\n",
       "        \n",
       "\n",
       "        marker_5decd53156cc72cff3b6f319e44cb649.bindPopup(popup_6a04e12c91dc347ba75b79a367ccb081)\n",
       "        ;\n",
       "\n",
       "        \n",
       "    \n",
       "    \n",
       "            marker_5decd53156cc72cff3b6f319e44cb649.bindTooltip(\n",
       "                `&lt;div&gt;\n",
       "                     PICHIRROPULLI\n",
       "                 &lt;/div&gt;`,\n",
       "                {&quot;sticky&quot;: true}\n",
       "            );\n",
       "        \n",
       "    \n",
       "            var marker_98d1bf25b87fc0e03a475e7c38ad2fbc = L.marker(\n",
       "                [-39.9784746305, -72.8320348617],\n",
       "                {}\n",
       "            ).addTo(map_6085fe524e4b7582ca9b09e9e03680c6);\n",
       "        \n",
       "    \n",
       "            var icon_ded0e3ab9855d2bf46c3725c81a608f7 = L.AwesomeMarkers.icon(\n",
       "                {&quot;extraClasses&quot;: &quot;fa-rotate-0&quot;, &quot;icon&quot;: &quot;info-sign&quot;, &quot;iconColor&quot;: &quot;white&quot;, &quot;markerColor&quot;: &quot;purple&quot;, &quot;prefix&quot;: &quot;glyphicon&quot;}\n",
       "            );\n",
       "            marker_98d1bf25b87fc0e03a475e7c38ad2fbc.setIcon(icon_ded0e3ab9855d2bf46c3725c81a608f7);\n",
       "        \n",
       "    \n",
       "        var popup_e8396907721068aa7722fd8140a548a5 = L.popup({&quot;maxWidth&quot;: &quot;100%&quot;});\n",
       "\n",
       "        \n",
       "            var html_6e14379ad376223a98db54757cd8bf65 = $(`&lt;div id=&quot;html_6e14379ad376223a98db54757cd8bf65&quot; style=&quot;width: 100.0%; height: 100.0%;&quot;&gt;&lt;b&gt;Nombre: &lt;/b&gt;REUMEN  &lt;b&gt;Número de personas beneficiadas: &lt;/b&gt;1442  &lt;b&gt;Año de puesta en marcha: &lt;/b&gt;1983.0&lt;/div&gt;`)[0];\n",
       "            popup_e8396907721068aa7722fd8140a548a5.setContent(html_6e14379ad376223a98db54757cd8bf65);\n",
       "        \n",
       "\n",
       "        marker_98d1bf25b87fc0e03a475e7c38ad2fbc.bindPopup(popup_e8396907721068aa7722fd8140a548a5)\n",
       "        ;\n",
       "\n",
       "        \n",
       "    \n",
       "    \n",
       "            marker_98d1bf25b87fc0e03a475e7c38ad2fbc.bindTooltip(\n",
       "                `&lt;div&gt;\n",
       "                     REUMEN\n",
       "                 &lt;/div&gt;`,\n",
       "                {&quot;sticky&quot;: true}\n",
       "            );\n",
       "        \n",
       "    \n",
       "            var marker_22a3d745ad48a05bb7e2903fe8b3879d = L.marker(\n",
       "                [-40.1233358588, -72.6748177353],\n",
       "                {}\n",
       "            ).addTo(map_6085fe524e4b7582ca9b09e9e03680c6);\n",
       "        \n",
       "    \n",
       "            var icon_b87014d340230d8fd1104c66418d5427 = L.AwesomeMarkers.icon(\n",
       "                {&quot;extraClasses&quot;: &quot;fa-rotate-0&quot;, &quot;icon&quot;: &quot;info-sign&quot;, &quot;iconColor&quot;: &quot;white&quot;, &quot;markerColor&quot;: &quot;green&quot;, &quot;prefix&quot;: &quot;glyphicon&quot;}\n",
       "            );\n",
       "            marker_22a3d745ad48a05bb7e2903fe8b3879d.setIcon(icon_b87014d340230d8fd1104c66418d5427);\n",
       "        \n",
       "    \n",
       "        var popup_30af83182abd7157d4c5833ac9939dc9 = L.popup({&quot;maxWidth&quot;: &quot;100%&quot;});\n",
       "\n",
       "        \n",
       "            var html_a710ec2586c7910bc32791f3ea615013 = $(`&lt;div id=&quot;html_a710ec2586c7910bc32791f3ea615013&quot; style=&quot;width: 100.0%; height: 100.0%;&quot;&gt;&lt;b&gt;Nombre: &lt;/b&gt;SANTA FILOMENA  &lt;b&gt;Número de personas beneficiadas: &lt;/b&gt;403  &lt;b&gt;Año de puesta en marcha: &lt;/b&gt;1999.0&lt;/div&gt;`)[0];\n",
       "            popup_30af83182abd7157d4c5833ac9939dc9.setContent(html_a710ec2586c7910bc32791f3ea615013);\n",
       "        \n",
       "\n",
       "        marker_22a3d745ad48a05bb7e2903fe8b3879d.bindPopup(popup_30af83182abd7157d4c5833ac9939dc9)\n",
       "        ;\n",
       "\n",
       "        \n",
       "    \n",
       "    \n",
       "            marker_22a3d745ad48a05bb7e2903fe8b3879d.bindTooltip(\n",
       "                `&lt;div&gt;\n",
       "                     SANTA FILOMENA\n",
       "                 &lt;/div&gt;`,\n",
       "                {&quot;sticky&quot;: true}\n",
       "            );\n",
       "        \n",
       "    \n",
       "            var marker_8b440cf737ced2633a8ca3c02a1f3c59 = L.marker(\n",
       "                [-40.0949272285, -72.8333381781],\n",
       "                {}\n",
       "            ).addTo(map_6085fe524e4b7582ca9b09e9e03680c6);\n",
       "        \n",
       "    \n",
       "            var icon_9a79127ee004834d7c5c1f01834202da = L.AwesomeMarkers.icon(\n",
       "                {&quot;extraClasses&quot;: &quot;fa-rotate-0&quot;, &quot;icon&quot;: &quot;info-sign&quot;, &quot;iconColor&quot;: &quot;white&quot;, &quot;markerColor&quot;: &quot;blue&quot;, &quot;prefix&quot;: &quot;glyphicon&quot;}\n",
       "            );\n",
       "            marker_8b440cf737ced2633a8ca3c02a1f3c59.setIcon(icon_9a79127ee004834d7c5c1f01834202da);\n",
       "        \n",
       "    \n",
       "        var popup_7f9c7210a2b96adbc468b8bf675908d1 = L.popup({&quot;maxWidth&quot;: &quot;100%&quot;});\n",
       "\n",
       "        \n",
       "            var html_0caa1d3f13932247f1f6c50887a6a761 = $(`&lt;div id=&quot;html_0caa1d3f13932247f1f6c50887a6a761&quot; style=&quot;width: 100.0%; height: 100.0%;&quot;&gt;&lt;b&gt;Nombre: &lt;/b&gt;MANAO  &lt;b&gt;Número de personas beneficiadas: &lt;/b&gt;220  &lt;b&gt;Año de puesta en marcha: &lt;/b&gt;2014.0&lt;/div&gt;`)[0];\n",
       "            popup_7f9c7210a2b96adbc468b8bf675908d1.setContent(html_0caa1d3f13932247f1f6c50887a6a761);\n",
       "        \n",
       "\n",
       "        marker_8b440cf737ced2633a8ca3c02a1f3c59.bindPopup(popup_7f9c7210a2b96adbc468b8bf675908d1)\n",
       "        ;\n",
       "\n",
       "        \n",
       "    \n",
       "    \n",
       "            marker_8b440cf737ced2633a8ca3c02a1f3c59.bindTooltip(\n",
       "                `&lt;div&gt;\n",
       "                     MANAO\n",
       "                 &lt;/div&gt;`,\n",
       "                {&quot;sticky&quot;: true}\n",
       "            );\n",
       "        \n",
       "    \n",
       "            var marker_213ff95b84e98a010b10f546f1e20975 = L.marker(\n",
       "                [-40.1805296564, -72.5619049938],\n",
       "                {}\n",
       "            ).addTo(map_6085fe524e4b7582ca9b09e9e03680c6);\n",
       "        \n",
       "    \n",
       "            var icon_abbb6c90fea5b8434d5b5ab912639f9e = L.AwesomeMarkers.icon(\n",
       "                {&quot;extraClasses&quot;: &quot;fa-rotate-0&quot;, &quot;icon&quot;: &quot;info-sign&quot;, &quot;iconColor&quot;: &quot;white&quot;, &quot;markerColor&quot;: &quot;green&quot;, &quot;prefix&quot;: &quot;glyphicon&quot;}\n",
       "            );\n",
       "            marker_213ff95b84e98a010b10f546f1e20975.setIcon(icon_abbb6c90fea5b8434d5b5ab912639f9e);\n",
       "        \n",
       "    \n",
       "        var popup_75fdcffd0e5f6e8f2f0406eee33a970a = L.popup({&quot;maxWidth&quot;: &quot;100%&quot;});\n",
       "\n",
       "        \n",
       "            var html_b9c4e47533d630be5f90a5b7141f9373 = $(`&lt;div id=&quot;html_b9c4e47533d630be5f90a5b7141f9373&quot; style=&quot;width: 100.0%; height: 100.0%;&quot;&gt;&lt;b&gt;Nombre: &lt;/b&gt;SANTA ROSA CHICA  &lt;b&gt;Número de personas beneficiadas: &lt;/b&gt;394  &lt;b&gt;Año de puesta en marcha: &lt;/b&gt;2016.0&lt;/div&gt;`)[0];\n",
       "            popup_75fdcffd0e5f6e8f2f0406eee33a970a.setContent(html_b9c4e47533d630be5f90a5b7141f9373);\n",
       "        \n",
       "\n",
       "        marker_213ff95b84e98a010b10f546f1e20975.bindPopup(popup_75fdcffd0e5f6e8f2f0406eee33a970a)\n",
       "        ;\n",
       "\n",
       "        \n",
       "    \n",
       "    \n",
       "            marker_213ff95b84e98a010b10f546f1e20975.bindTooltip(\n",
       "                `&lt;div&gt;\n",
       "                     SANTA ROSA CHICA\n",
       "                 &lt;/div&gt;`,\n",
       "                {&quot;sticky&quot;: true}\n",
       "            );\n",
       "        \n",
       "    \n",
       "            var marker_9b515b23d0e01c951a05a4c98dd42e01 = L.marker(\n",
       "                [-40.1380925113, -72.5825449417],\n",
       "                {}\n",
       "            ).addTo(map_6085fe524e4b7582ca9b09e9e03680c6);\n",
       "        \n",
       "    \n",
       "            var icon_f38727c32eaf263633154bb05cd6af1c = L.AwesomeMarkers.icon(\n",
       "                {&quot;extraClasses&quot;: &quot;fa-rotate-0&quot;, &quot;icon&quot;: &quot;info-sign&quot;, &quot;iconColor&quot;: &quot;white&quot;, &quot;markerColor&quot;: &quot;green&quot;, &quot;prefix&quot;: &quot;glyphicon&quot;}\n",
       "            );\n",
       "            marker_9b515b23d0e01c951a05a4c98dd42e01.setIcon(icon_f38727c32eaf263633154bb05cd6af1c);\n",
       "        \n",
       "    \n",
       "        var popup_14b0859fd13b68168d41a6e337e4a123 = L.popup({&quot;maxWidth&quot;: &quot;100%&quot;});\n",
       "\n",
       "        \n",
       "            var html_648b00d0a39e0b047f3d87bc3030ac15 = $(`&lt;div id=&quot;html_648b00d0a39e0b047f3d87bc3030ac15&quot; style=&quot;width: 100.0%; height: 100.0%;&quot;&gt;&lt;b&gt;Nombre: &lt;/b&gt;SANTA ROSA GRANDE  &lt;b&gt;Número de personas beneficiadas: &lt;/b&gt;319  &lt;b&gt;Año de puesta en marcha: &lt;/b&gt;2016.0&lt;/div&gt;`)[0];\n",
       "            popup_14b0859fd13b68168d41a6e337e4a123.setContent(html_648b00d0a39e0b047f3d87bc3030ac15);\n",
       "        \n",
       "\n",
       "        marker_9b515b23d0e01c951a05a4c98dd42e01.bindPopup(popup_14b0859fd13b68168d41a6e337e4a123)\n",
       "        ;\n",
       "\n",
       "        \n",
       "    \n",
       "    \n",
       "            marker_9b515b23d0e01c951a05a4c98dd42e01.bindTooltip(\n",
       "                `&lt;div&gt;\n",
       "                     SANTA ROSA GRANDE\n",
       "                 &lt;/div&gt;`,\n",
       "                {&quot;sticky&quot;: true}\n",
       "            );\n",
       "        \n",
       "    \n",
       "            var marker_577b095bcdbca65520e254c682cade93 = L.marker(\n",
       "                [-40.0154940534, -72.7914597178],\n",
       "                {}\n",
       "            ).addTo(map_6085fe524e4b7582ca9b09e9e03680c6);\n",
       "        \n",
       "    \n",
       "            var icon_ad100ba6b44cdff303bab20f14ff82c8 = L.AwesomeMarkers.icon(\n",
       "                {&quot;extraClasses&quot;: &quot;fa-rotate-0&quot;, &quot;icon&quot;: &quot;info-sign&quot;, &quot;iconColor&quot;: &quot;white&quot;, &quot;markerColor&quot;: &quot;orange&quot;, &quot;prefix&quot;: &quot;glyphicon&quot;}\n",
       "            );\n",
       "            marker_577b095bcdbca65520e254c682cade93.setIcon(icon_ad100ba6b44cdff303bab20f14ff82c8);\n",
       "        \n",
       "    \n",
       "        var popup_7b7982f37a7cfb13a5901460fc2fb99e = L.popup({&quot;maxWidth&quot;: &quot;100%&quot;});\n",
       "\n",
       "        \n",
       "            var html_a62c11e883bcbf0d518d604a0fc88913 = $(`&lt;div id=&quot;html_a62c11e883bcbf0d518d604a0fc88913&quot; style=&quot;width: 100.0%; height: 100.0%;&quot;&gt;&lt;b&gt;Nombre: &lt;/b&gt;LUMACO PAILLACO  &lt;b&gt;Número de personas beneficiadas: &lt;/b&gt;710  &lt;b&gt;Año de puesta en marcha: &lt;/b&gt;2016.0&lt;/div&gt;`)[0];\n",
       "            popup_7b7982f37a7cfb13a5901460fc2fb99e.setContent(html_a62c11e883bcbf0d518d604a0fc88913);\n",
       "        \n",
       "\n",
       "        marker_577b095bcdbca65520e254c682cade93.bindPopup(popup_7b7982f37a7cfb13a5901460fc2fb99e)\n",
       "        ;\n",
       "\n",
       "        \n",
       "    \n",
       "    \n",
       "            marker_577b095bcdbca65520e254c682cade93.bindTooltip(\n",
       "                `&lt;div&gt;\n",
       "                     LUMACO PAILLACO\n",
       "                 &lt;/div&gt;`,\n",
       "                {&quot;sticky&quot;: true}\n",
       "            );\n",
       "        \n",
       "    \n",
       "            var marker_920633d16a136c26c825ffe701e68cc4 = L.marker(\n",
       "                [-40.0746752187, -72.6747765849],\n",
       "                {}\n",
       "            ).addTo(map_6085fe524e4b7582ca9b09e9e03680c6);\n",
       "        \n",
       "    \n",
       "            var icon_1059f59d16eb9fcf3e7d00b2ea82f28c = L.AwesomeMarkers.icon(\n",
       "                {&quot;extraClasses&quot;: &quot;fa-rotate-0&quot;, &quot;icon&quot;: &quot;info-sign&quot;, &quot;iconColor&quot;: &quot;white&quot;, &quot;markerColor&quot;: &quot;blue&quot;, &quot;prefix&quot;: &quot;glyphicon&quot;}\n",
       "            );\n",
       "            marker_920633d16a136c26c825ffe701e68cc4.setIcon(icon_1059f59d16eb9fcf3e7d00b2ea82f28c);\n",
       "        \n",
       "    \n",
       "        var popup_d9024fa002886924c778b0eaf0556d29 = L.popup({&quot;maxWidth&quot;: &quot;100%&quot;});\n",
       "\n",
       "        \n",
       "            var html_040230df20b741a75f7ac08c0bc42fe4 = $(`&lt;div id=&quot;html_040230df20b741a75f7ac08c0bc42fe4&quot; style=&quot;width: 100.0%; height: 100.0%;&quot;&gt;&lt;b&gt;Nombre: &lt;/b&gt;EL MAITEN  &lt;b&gt;Número de personas beneficiadas: &lt;/b&gt;155  &lt;b&gt;Año de puesta en marcha: &lt;/b&gt;2017.0&lt;/div&gt;`)[0];\n",
       "            popup_d9024fa002886924c778b0eaf0556d29.setContent(html_040230df20b741a75f7ac08c0bc42fe4);\n",
       "        \n",
       "\n",
       "        marker_920633d16a136c26c825ffe701e68cc4.bindPopup(popup_d9024fa002886924c778b0eaf0556d29)\n",
       "        ;\n",
       "\n",
       "        \n",
       "    \n",
       "    \n",
       "            marker_920633d16a136c26c825ffe701e68cc4.bindTooltip(\n",
       "                `&lt;div&gt;\n",
       "                     EL MAITEN\n",
       "                 &lt;/div&gt;`,\n",
       "                {&quot;sticky&quot;: true}\n",
       "            );\n",
       "        \n",
       "    \n",
       "            var marker_36f8f7549111818890e8ef62d7124f7d = L.marker(\n",
       "                [-40.1221748177, -72.6855485214],\n",
       "                {}\n",
       "            ).addTo(map_6085fe524e4b7582ca9b09e9e03680c6);\n",
       "        \n",
       "    \n",
       "            var icon_da4d9d1bc72079505bac5d914dceddcb = L.AwesomeMarkers.icon(\n",
       "                {&quot;extraClasses&quot;: &quot;fa-rotate-0&quot;, &quot;icon&quot;: &quot;info-sign&quot;, &quot;iconColor&quot;: &quot;white&quot;, &quot;markerColor&quot;: &quot;blue&quot;, &quot;prefix&quot;: &quot;glyphicon&quot;}\n",
       "            );\n",
       "            marker_36f8f7549111818890e8ef62d7124f7d.setIcon(icon_da4d9d1bc72079505bac5d914dceddcb);\n",
       "        \n",
       "    \n",
       "        var popup_b2ced42cc47b8699a1347201ee2cb92c = L.popup({&quot;maxWidth&quot;: &quot;100%&quot;});\n",
       "\n",
       "        \n",
       "            var html_9f144d2bcf0d885eeb1ed57c3531e7bc = $(`&lt;div id=&quot;html_9f144d2bcf0d885eeb1ed57c3531e7bc&quot; style=&quot;width: 100.0%; height: 100.0%;&quot;&gt;&lt;b&gt;Nombre: &lt;/b&gt;SANTA FILOMENA II  &lt;b&gt;Número de personas beneficiadas: &lt;/b&gt;211  &lt;b&gt;Año de puesta en marcha: &lt;/b&gt;2019.0&lt;/div&gt;`)[0];\n",
       "            popup_b2ced42cc47b8699a1347201ee2cb92c.setContent(html_9f144d2bcf0d885eeb1ed57c3531e7bc);\n",
       "        \n",
       "\n",
       "        marker_36f8f7549111818890e8ef62d7124f7d.bindPopup(popup_b2ced42cc47b8699a1347201ee2cb92c)\n",
       "        ;\n",
       "\n",
       "        \n",
       "    \n",
       "    \n",
       "            marker_36f8f7549111818890e8ef62d7124f7d.bindTooltip(\n",
       "                `&lt;div&gt;\n",
       "                     SANTA FILOMENA II\n",
       "                 &lt;/div&gt;`,\n",
       "                {&quot;sticky&quot;: true}\n",
       "            );\n",
       "        \n",
       "    \n",
       "            var marker_8d4f211967ff8d683c99cbd37a4abce6 = L.marker(\n",
       "                [-39.8074856345, -72.9572455712],\n",
       "                {}\n",
       "            ).addTo(map_6085fe524e4b7582ca9b09e9e03680c6);\n",
       "        \n",
       "    \n",
       "            var icon_293a37d885f87be8fddf601799fd1c17 = L.AwesomeMarkers.icon(\n",
       "                {&quot;extraClasses&quot;: &quot;fa-rotate-0&quot;, &quot;icon&quot;: &quot;info-sign&quot;, &quot;iconColor&quot;: &quot;white&quot;, &quot;markerColor&quot;: &quot;purple&quot;, &quot;prefix&quot;: &quot;glyphicon&quot;}\n",
       "            );\n",
       "            marker_8d4f211967ff8d683c99cbd37a4abce6.setIcon(icon_293a37d885f87be8fddf601799fd1c17);\n",
       "        \n",
       "    \n",
       "        var popup_6ddf108863948d5194532b5b195e4053 = L.popup({&quot;maxWidth&quot;: &quot;100%&quot;});\n",
       "\n",
       "        \n",
       "            var html_dc4e9ee7ff00aff01835a71cb0f1b4ec = $(`&lt;div id=&quot;html_dc4e9ee7ff00aff01835a71cb0f1b4ec&quot; style=&quot;width: 100.0%; height: 100.0%;&quot;&gt;&lt;b&gt;Nombre: &lt;/b&gt;ANTILHUE  &lt;b&gt;Número de personas beneficiadas: &lt;/b&gt;1414  &lt;b&gt;Año de puesta en marcha: &lt;/b&gt;1969.0&lt;/div&gt;`)[0];\n",
       "            popup_6ddf108863948d5194532b5b195e4053.setContent(html_dc4e9ee7ff00aff01835a71cb0f1b4ec);\n",
       "        \n",
       "\n",
       "        marker_8d4f211967ff8d683c99cbd37a4abce6.bindPopup(popup_6ddf108863948d5194532b5b195e4053)\n",
       "        ;\n",
       "\n",
       "        \n",
       "    \n",
       "    \n",
       "            marker_8d4f211967ff8d683c99cbd37a4abce6.bindTooltip(\n",
       "                `&lt;div&gt;\n",
       "                     ANTILHUE\n",
       "                 &lt;/div&gt;`,\n",
       "                {&quot;sticky&quot;: true}\n",
       "            );\n",
       "        \n",
       "    \n",
       "            var marker_a17bbe31aa2d5e8bcd546eb17789cd71 = L.marker(\n",
       "                [-39.8710682914, -72.6678013129],\n",
       "                {}\n",
       "            ).addTo(map_6085fe524e4b7582ca9b09e9e03680c6);\n",
       "        \n",
       "    \n",
       "            var icon_49358348ce3ea8a67ceb55cf78928fb9 = L.AwesomeMarkers.icon(\n",
       "                {&quot;extraClasses&quot;: &quot;fa-rotate-0&quot;, &quot;icon&quot;: &quot;info-sign&quot;, &quot;iconColor&quot;: &quot;white&quot;, &quot;markerColor&quot;: &quot;orange&quot;, &quot;prefix&quot;: &quot;glyphicon&quot;}\n",
       "            );\n",
       "            marker_a17bbe31aa2d5e8bcd546eb17789cd71.setIcon(icon_49358348ce3ea8a67ceb55cf78928fb9);\n",
       "        \n",
       "    \n",
       "        var popup_415e823ba9c34765d1b7a3ac6fd4c576 = L.popup({&quot;maxWidth&quot;: &quot;100%&quot;});\n",
       "\n",
       "        \n",
       "            var html_096a748f629ad0fc1047c712a3ab8e74 = $(`&lt;div id=&quot;html_096a748f629ad0fc1047c712a3ab8e74&quot; style=&quot;width: 100.0%; height: 100.0%;&quot;&gt;&lt;b&gt;Nombre: &lt;/b&gt;FOLILCO LOS LAGOS  &lt;b&gt;Número de personas beneficiadas: &lt;/b&gt;474  &lt;b&gt;Año de puesta en marcha: &lt;/b&gt;1979.0&lt;/div&gt;`)[0];\n",
       "            popup_415e823ba9c34765d1b7a3ac6fd4c576.setContent(html_096a748f629ad0fc1047c712a3ab8e74);\n",
       "        \n",
       "\n",
       "        marker_a17bbe31aa2d5e8bcd546eb17789cd71.bindPopup(popup_415e823ba9c34765d1b7a3ac6fd4c576)\n",
       "        ;\n",
       "\n",
       "        \n",
       "    \n",
       "    \n",
       "            marker_a17bbe31aa2d5e8bcd546eb17789cd71.bindTooltip(\n",
       "                `&lt;div&gt;\n",
       "                     FOLILCO LOS LAGOS\n",
       "                 &lt;/div&gt;`,\n",
       "                {&quot;sticky&quot;: true}\n",
       "            );\n",
       "        \n",
       "    \n",
       "            var marker_2164f16e9d723dd39e36eeeb6ed563c2 = L.marker(\n",
       "                [-39.9084433218, -72.5733916686],\n",
       "                {}\n",
       "            ).addTo(map_6085fe524e4b7582ca9b09e9e03680c6);\n",
       "        \n",
       "    \n",
       "            var icon_1dbcbb90aaf4f8d77e7e121b7bad5cc5 = L.AwesomeMarkers.icon(\n",
       "                {&quot;extraClasses&quot;: &quot;fa-rotate-0&quot;, &quot;icon&quot;: &quot;info-sign&quot;, &quot;iconColor&quot;: &quot;white&quot;, &quot;markerColor&quot;: &quot;blue&quot;, &quot;prefix&quot;: &quot;glyphicon&quot;}\n",
       "            );\n",
       "            marker_2164f16e9d723dd39e36eeeb6ed563c2.setIcon(icon_1dbcbb90aaf4f8d77e7e121b7bad5cc5);\n",
       "        \n",
       "    \n",
       "        var popup_084e81aa0a9518de79640f35a20c1a00 = L.popup({&quot;maxWidth&quot;: &quot;100%&quot;});\n",
       "\n",
       "        \n",
       "            var html_ec56bb206f0257e7da049b2855f5831e = $(`&lt;div id=&quot;html_ec56bb206f0257e7da049b2855f5831e&quot; style=&quot;width: 100.0%; height: 100.0%;&quot;&gt;&lt;b&gt;Nombre: &lt;/b&gt;QUILQUILCO  &lt;b&gt;Número de personas beneficiadas: &lt;/b&gt;149  &lt;b&gt;Año de puesta en marcha: &lt;/b&gt;2015.0&lt;/div&gt;`)[0];\n",
       "            popup_084e81aa0a9518de79640f35a20c1a00.setContent(html_ec56bb206f0257e7da049b2855f5831e);\n",
       "        \n",
       "\n",
       "        marker_2164f16e9d723dd39e36eeeb6ed563c2.bindPopup(popup_084e81aa0a9518de79640f35a20c1a00)\n",
       "        ;\n",
       "\n",
       "        \n",
       "    \n",
       "    \n",
       "            marker_2164f16e9d723dd39e36eeeb6ed563c2.bindTooltip(\n",
       "                `&lt;div&gt;\n",
       "                     QUILQUILCO\n",
       "                 &lt;/div&gt;`,\n",
       "                {&quot;sticky&quot;: true}\n",
       "            );\n",
       "        \n",
       "    \n",
       "            var marker_5be8c7d1ed6dff031f19b0caf0178e61 = L.marker(\n",
       "                [-39.8171126188, -72.4425065285],\n",
       "                {}\n",
       "            ).addTo(map_6085fe524e4b7582ca9b09e9e03680c6);\n",
       "        \n",
       "    \n",
       "            var icon_5ca7a9637c4ee89772376c5f6e79923b = L.AwesomeMarkers.icon(\n",
       "                {&quot;extraClasses&quot;: &quot;fa-rotate-0&quot;, &quot;icon&quot;: &quot;info-sign&quot;, &quot;iconColor&quot;: &quot;white&quot;, &quot;markerColor&quot;: &quot;blue&quot;, &quot;prefix&quot;: &quot;glyphicon&quot;}\n",
       "            );\n",
       "            marker_5be8c7d1ed6dff031f19b0caf0178e61.setIcon(icon_5ca7a9637c4ee89772376c5f6e79923b);\n",
       "        \n",
       "    \n",
       "        var popup_09135d50aa80eb9812a40cf80bdde060 = L.popup({&quot;maxWidth&quot;: &quot;100%&quot;});\n",
       "\n",
       "        \n",
       "            var html_c265c91cd337906f9b38cdf206c29959 = $(`&lt;div id=&quot;html_c265c91cd337906f9b38cdf206c29959&quot; style=&quot;width: 100.0%; height: 100.0%;&quot;&gt;&lt;b&gt;Nombre: &lt;/b&gt;RIÑIHUE  &lt;b&gt;Número de personas beneficiadas: &lt;/b&gt;208  &lt;b&gt;Año de puesta en marcha: &lt;/b&gt;1998.0&lt;/div&gt;`)[0];\n",
       "            popup_09135d50aa80eb9812a40cf80bdde060.setContent(html_c265c91cd337906f9b38cdf206c29959);\n",
       "        \n",
       "\n",
       "        marker_5be8c7d1ed6dff031f19b0caf0178e61.bindPopup(popup_09135d50aa80eb9812a40cf80bdde060)\n",
       "        ;\n",
       "\n",
       "        \n",
       "    \n",
       "    \n",
       "            marker_5be8c7d1ed6dff031f19b0caf0178e61.bindTooltip(\n",
       "                `&lt;div&gt;\n",
       "                     RIÑIHUE\n",
       "                 &lt;/div&gt;`,\n",
       "                {&quot;sticky&quot;: true}\n",
       "            );\n",
       "        \n",
       "    \n",
       "            var marker_8617be896feb04601077fa7febfab188 = L.marker(\n",
       "                [-39.7751787818, -72.6519491619],\n",
       "                {}\n",
       "            ).addTo(map_6085fe524e4b7582ca9b09e9e03680c6);\n",
       "        \n",
       "    \n",
       "            var icon_3bb73c3edc14ea79347dc0491612a8e6 = L.AwesomeMarkers.icon(\n",
       "                {&quot;extraClasses&quot;: &quot;fa-rotate-0&quot;, &quot;icon&quot;: &quot;info-sign&quot;, &quot;iconColor&quot;: &quot;white&quot;, &quot;markerColor&quot;: &quot;orange&quot;, &quot;prefix&quot;: &quot;glyphicon&quot;}\n",
       "            );\n",
       "            marker_8617be896feb04601077fa7febfab188.setIcon(icon_3bb73c3edc14ea79347dc0491612a8e6);\n",
       "        \n",
       "    \n",
       "        var popup_eb9b5bae910844d2ffab9e0bfdbfd728 = L.popup({&quot;maxWidth&quot;: &quot;100%&quot;});\n",
       "\n",
       "        \n",
       "            var html_bea1e43262f45bd451949a601bd400e5 = $(`&lt;div id=&quot;html_bea1e43262f45bd451949a601bd400e5&quot; style=&quot;width: 100.0%; height: 100.0%;&quot;&gt;&lt;b&gt;Nombre: &lt;/b&gt;USTARITZ  &lt;b&gt;Número de personas beneficiadas: &lt;/b&gt;434  &lt;b&gt;Año de puesta en marcha: &lt;/b&gt;2002.0&lt;/div&gt;`)[0];\n",
       "            popup_eb9b5bae910844d2ffab9e0bfdbfd728.setContent(html_bea1e43262f45bd451949a601bd400e5);\n",
       "        \n",
       "\n",
       "        marker_8617be896feb04601077fa7febfab188.bindPopup(popup_eb9b5bae910844d2ffab9e0bfdbfd728)\n",
       "        ;\n",
       "\n",
       "        \n",
       "    \n",
       "    \n",
       "            marker_8617be896feb04601077fa7febfab188.bindTooltip(\n",
       "                `&lt;div&gt;\n",
       "                     USTARITZ\n",
       "                 &lt;/div&gt;`,\n",
       "                {&quot;sticky&quot;: true}\n",
       "            );\n",
       "        \n",
       "    \n",
       "            var marker_1b847b29a059889aec31bce0743df4f9 = L.marker(\n",
       "                [-39.9987530843, -72.7108188025],\n",
       "                {}\n",
       "            ).addTo(map_6085fe524e4b7582ca9b09e9e03680c6);\n",
       "        \n",
       "    \n",
       "            var icon_fa844d669e8be87e0e3437d0d4f4789a = L.AwesomeMarkers.icon(\n",
       "                {&quot;extraClasses&quot;: &quot;fa-rotate-0&quot;, &quot;icon&quot;: &quot;info-sign&quot;, &quot;iconColor&quot;: &quot;white&quot;, &quot;markerColor&quot;: &quot;orange&quot;, &quot;prefix&quot;: &quot;glyphicon&quot;}\n",
       "            );\n",
       "            marker_1b847b29a059889aec31bce0743df4f9.setIcon(icon_fa844d669e8be87e0e3437d0d4f4789a);\n",
       "        \n",
       "    \n",
       "        var popup_be9e7426526f702412cbf5c65fdbdfd4 = L.popup({&quot;maxWidth&quot;: &quot;100%&quot;});\n",
       "\n",
       "        \n",
       "            var html_828812f1e655c517cfecfd61067e248a = $(`&lt;div id=&quot;html_828812f1e655c517cfecfd61067e248a&quot; style=&quot;width: 100.0%; height: 100.0%;&quot;&gt;&lt;b&gt;Nombre: &lt;/b&gt;EL SALTO  &lt;b&gt;Número de personas beneficiadas: &lt;/b&gt;592  &lt;b&gt;Año de puesta en marcha: &lt;/b&gt;2013.0&lt;/div&gt;`)[0];\n",
       "            popup_be9e7426526f702412cbf5c65fdbdfd4.setContent(html_828812f1e655c517cfecfd61067e248a);\n",
       "        \n",
       "\n",
       "        marker_1b847b29a059889aec31bce0743df4f9.bindPopup(popup_be9e7426526f702412cbf5c65fdbdfd4)\n",
       "        ;\n",
       "\n",
       "        \n",
       "    \n",
       "    \n",
       "            marker_1b847b29a059889aec31bce0743df4f9.bindTooltip(\n",
       "                `&lt;div&gt;\n",
       "                     EL SALTO\n",
       "                 &lt;/div&gt;`,\n",
       "                {&quot;sticky&quot;: true}\n",
       "            );\n",
       "        \n",
       "    \n",
       "            var marker_2c9ae6b7805f5cf86b4c4d7d18885d79 = L.marker(\n",
       "                [-40.0154665081, -72.5215180883],\n",
       "                {}\n",
       "            ).addTo(map_6085fe524e4b7582ca9b09e9e03680c6);\n",
       "        \n",
       "    \n",
       "            var icon_6eb1f2d41312e1d8242b25abd6410dbd = L.AwesomeMarkers.icon(\n",
       "                {&quot;extraClasses&quot;: &quot;fa-rotate-0&quot;, &quot;icon&quot;: &quot;info-sign&quot;, &quot;iconColor&quot;: &quot;white&quot;, &quot;markerColor&quot;: &quot;orange&quot;, &quot;prefix&quot;: &quot;glyphicon&quot;}\n",
       "            );\n",
       "            marker_2c9ae6b7805f5cf86b4c4d7d18885d79.setIcon(icon_6eb1f2d41312e1d8242b25abd6410dbd);\n",
       "        \n",
       "    \n",
       "        var popup_878c4ee45b0637c83898aa6d432c5664 = L.popup({&quot;maxWidth&quot;: &quot;100%&quot;});\n",
       "\n",
       "        \n",
       "            var html_203df66857cb131c48299aec99da3779 = $(`&lt;div id=&quot;html_203df66857cb131c48299aec99da3779&quot; style=&quot;width: 100.0%; height: 100.0%;&quot;&gt;&lt;b&gt;Nombre: &lt;/b&gt;PELLINADA LAS QUINIENTAS  &lt;b&gt;Número de personas beneficiadas: &lt;/b&gt;434  &lt;b&gt;Año de puesta en marcha: &lt;/b&gt;2015.0&lt;/div&gt;`)[0];\n",
       "            popup_878c4ee45b0637c83898aa6d432c5664.setContent(html_203df66857cb131c48299aec99da3779);\n",
       "        \n",
       "\n",
       "        marker_2c9ae6b7805f5cf86b4c4d7d18885d79.bindPopup(popup_878c4ee45b0637c83898aa6d432c5664)\n",
       "        ;\n",
       "\n",
       "        \n",
       "    \n",
       "    \n",
       "            marker_2c9ae6b7805f5cf86b4c4d7d18885d79.bindTooltip(\n",
       "                `&lt;div&gt;\n",
       "                     PELLINADA LAS QUINIENTAS\n",
       "                 &lt;/div&gt;`,\n",
       "                {&quot;sticky&quot;: true}\n",
       "            );\n",
       "        \n",
       "    \n",
       "            var marker_80e1bb80b08fdceacbbb1398b65bc48b = L.marker(\n",
       "                [-39.8526730412, -72.7929315347],\n",
       "                {}\n",
       "            ).addTo(map_6085fe524e4b7582ca9b09e9e03680c6);\n",
       "        \n",
       "    \n",
       "            var icon_6afb19903e84d5fb973ab819c8ed5359 = L.AwesomeMarkers.icon(\n",
       "                {&quot;extraClasses&quot;: &quot;fa-rotate-0&quot;, &quot;icon&quot;: &quot;info-sign&quot;, &quot;iconColor&quot;: &quot;white&quot;, &quot;markerColor&quot;: &quot;orange&quot;, &quot;prefix&quot;: &quot;glyphicon&quot;}\n",
       "            );\n",
       "            marker_80e1bb80b08fdceacbbb1398b65bc48b.setIcon(icon_6afb19903e84d5fb973ab819c8ed5359);\n",
       "        \n",
       "    \n",
       "        var popup_7d434ab0e7ee426fa18aa1b0443b4bfc = L.popup({&quot;maxWidth&quot;: &quot;100%&quot;});\n",
       "\n",
       "        \n",
       "            var html_9fef3aa0ad79217a11ba564cb907680b = $(`&lt;div id=&quot;html_9fef3aa0ad79217a11ba564cb907680b&quot; style=&quot;width: 100.0%; height: 100.0%;&quot;&gt;&lt;b&gt;Nombre: &lt;/b&gt;PANCUL  &lt;b&gt;Número de personas beneficiadas: &lt;/b&gt;729  &lt;b&gt;Año de puesta en marcha: &lt;/b&gt;2015.0&lt;/div&gt;`)[0];\n",
       "            popup_7d434ab0e7ee426fa18aa1b0443b4bfc.setContent(html_9fef3aa0ad79217a11ba564cb907680b);\n",
       "        \n",
       "\n",
       "        marker_80e1bb80b08fdceacbbb1398b65bc48b.bindPopup(popup_7d434ab0e7ee426fa18aa1b0443b4bfc)\n",
       "        ;\n",
       "\n",
       "        \n",
       "    \n",
       "    \n",
       "            marker_80e1bb80b08fdceacbbb1398b65bc48b.bindTooltip(\n",
       "                `&lt;div&gt;\n",
       "                     PANCUL\n",
       "                 &lt;/div&gt;`,\n",
       "                {&quot;sticky&quot;: true}\n",
       "            );\n",
       "        \n",
       "    \n",
       "            var marker_a350750b0dbabb886a1dd71790022c22 = L.marker(\n",
       "                [-39.8705154943, -72.781619174],\n",
       "                {}\n",
       "            ).addTo(map_6085fe524e4b7582ca9b09e9e03680c6);\n",
       "        \n",
       "    \n",
       "            var icon_f91f8099c251a7b1e01b489c31474114 = L.AwesomeMarkers.icon(\n",
       "                {&quot;extraClasses&quot;: &quot;fa-rotate-0&quot;, &quot;icon&quot;: &quot;info-sign&quot;, &quot;iconColor&quot;: &quot;white&quot;, &quot;markerColor&quot;: &quot;orange&quot;, &quot;prefix&quot;: &quot;glyphicon&quot;}\n",
       "            );\n",
       "            marker_a350750b0dbabb886a1dd71790022c22.setIcon(icon_f91f8099c251a7b1e01b489c31474114);\n",
       "        \n",
       "    \n",
       "        var popup_f00700dd128d737c877012950fd6bc7a = L.popup({&quot;maxWidth&quot;: &quot;100%&quot;});\n",
       "\n",
       "        \n",
       "            var html_ac0eec25d4591d6e73e4ce6c0b52d676 = $(`&lt;div id=&quot;html_ac0eec25d4591d6e73e4ce6c0b52d676&quot; style=&quot;width: 100.0%; height: 100.0%;&quot;&gt;&lt;b&gt;Nombre: &lt;/b&gt;LOS COLIGÜES  &lt;b&gt;Número de personas beneficiadas: &lt;/b&gt;456  &lt;b&gt;Año de puesta en marcha: &lt;/b&gt;2018.0&lt;/div&gt;`)[0];\n",
       "            popup_f00700dd128d737c877012950fd6bc7a.setContent(html_ac0eec25d4591d6e73e4ce6c0b52d676);\n",
       "        \n",
       "\n",
       "        marker_a350750b0dbabb886a1dd71790022c22.bindPopup(popup_f00700dd128d737c877012950fd6bc7a)\n",
       "        ;\n",
       "\n",
       "        \n",
       "    \n",
       "    \n",
       "            marker_a350750b0dbabb886a1dd71790022c22.bindTooltip(\n",
       "                `&lt;div&gt;\n",
       "                     LOS COLIGÜES\n",
       "                 &lt;/div&gt;`,\n",
       "                {&quot;sticky&quot;: true}\n",
       "            );\n",
       "        \n",
       "    \n",
       "            var marker_13d5b18a2e71ecd2c670acfaf24994bd = L.marker(\n",
       "                [-39.8817714432, -72.6708273322],\n",
       "                {}\n",
       "            ).addTo(map_6085fe524e4b7582ca9b09e9e03680c6);\n",
       "        \n",
       "    \n",
       "            var icon_8f32ea56ffa157fe68bee2ba3c5109b9 = L.AwesomeMarkers.icon(\n",
       "                {&quot;extraClasses&quot;: &quot;fa-rotate-0&quot;, &quot;icon&quot;: &quot;info-sign&quot;, &quot;iconColor&quot;: &quot;white&quot;, &quot;markerColor&quot;: &quot;green&quot;, &quot;prefix&quot;: &quot;glyphicon&quot;}\n",
       "            );\n",
       "            marker_13d5b18a2e71ecd2c670acfaf24994bd.setIcon(icon_8f32ea56ffa157fe68bee2ba3c5109b9);\n",
       "        \n",
       "    \n",
       "        var popup_428d3810b08dc51c8566667c55b31de8 = L.popup({&quot;maxWidth&quot;: &quot;100%&quot;});\n",
       "\n",
       "        \n",
       "            var html_99de02f9990504d382f0df831f6b27b6 = $(`&lt;div id=&quot;html_99de02f9990504d382f0df831f6b27b6&quot; style=&quot;width: 100.0%; height: 100.0%;&quot;&gt;&lt;b&gt;Nombre: &lt;/b&gt;COLO COLO  &lt;b&gt;Número de personas beneficiadas: &lt;/b&gt;298  &lt;b&gt;Año de puesta en marcha: &lt;/b&gt;2017.0&lt;/div&gt;`)[0];\n",
       "            popup_428d3810b08dc51c8566667c55b31de8.setContent(html_99de02f9990504d382f0df831f6b27b6);\n",
       "        \n",
       "\n",
       "        marker_13d5b18a2e71ecd2c670acfaf24994bd.bindPopup(popup_428d3810b08dc51c8566667c55b31de8)\n",
       "        ;\n",
       "\n",
       "        \n",
       "    \n",
       "    \n",
       "            marker_13d5b18a2e71ecd2c670acfaf24994bd.bindTooltip(\n",
       "                `&lt;div&gt;\n",
       "                     COLO COLO\n",
       "                 &lt;/div&gt;`,\n",
       "                {&quot;sticky&quot;: true}\n",
       "            );\n",
       "        \n",
       "    \n",
       "            var marker_c84cbfde44b84a567bcf38ecdef23ce9 = L.marker(\n",
       "                [-39.9027809062, -72.5930946759],\n",
       "                {}\n",
       "            ).addTo(map_6085fe524e4b7582ca9b09e9e03680c6);\n",
       "        \n",
       "    \n",
       "            var icon_101d62658e376b9f1cf2d00cdd144431 = L.AwesomeMarkers.icon(\n",
       "                {&quot;extraClasses&quot;: &quot;fa-rotate-0&quot;, &quot;icon&quot;: &quot;info-sign&quot;, &quot;iconColor&quot;: &quot;white&quot;, &quot;markerColor&quot;: &quot;blue&quot;, &quot;prefix&quot;: &quot;glyphicon&quot;}\n",
       "            );\n",
       "            marker_c84cbfde44b84a567bcf38ecdef23ce9.setIcon(icon_101d62658e376b9f1cf2d00cdd144431);\n",
       "        \n",
       "    \n",
       "        var popup_6b174f5b494e781f7a5d00ed59db698b = L.popup({&quot;maxWidth&quot;: &quot;100%&quot;});\n",
       "\n",
       "        \n",
       "            var html_6930458ee9e11a16467da713b55612ce = $(`&lt;div id=&quot;html_6930458ee9e11a16467da713b55612ce&quot; style=&quot;width: 100.0%; height: 100.0%;&quot;&gt;&lt;b&gt;Nombre: &lt;/b&gt;LAS HUELLLAS  &lt;b&gt;Número de personas beneficiadas: &lt;/b&gt;276  &lt;b&gt;Año de puesta en marcha: &lt;/b&gt;2017.0&lt;/div&gt;`)[0];\n",
       "            popup_6b174f5b494e781f7a5d00ed59db698b.setContent(html_6930458ee9e11a16467da713b55612ce);\n",
       "        \n",
       "\n",
       "        marker_c84cbfde44b84a567bcf38ecdef23ce9.bindPopup(popup_6b174f5b494e781f7a5d00ed59db698b)\n",
       "        ;\n",
       "\n",
       "        \n",
       "    \n",
       "    \n",
       "            marker_c84cbfde44b84a567bcf38ecdef23ce9.bindTooltip(\n",
       "                `&lt;div&gt;\n",
       "                     LAS HUELLLAS\n",
       "                 &lt;/div&gt;`,\n",
       "                {&quot;sticky&quot;: true}\n",
       "            );\n",
       "        \n",
       "    \n",
       "            var marker_e35da4e6913f8a2769aee3ab94e83fe2 = L.marker(\n",
       "                [-39.8171525324, -72.6981700465],\n",
       "                {}\n",
       "            ).addTo(map_6085fe524e4b7582ca9b09e9e03680c6);\n",
       "        \n",
       "    \n",
       "            var icon_7945da0093066bb4717d9c96a824ab2b = L.AwesomeMarkers.icon(\n",
       "                {&quot;extraClasses&quot;: &quot;fa-rotate-0&quot;, &quot;icon&quot;: &quot;info-sign&quot;, &quot;iconColor&quot;: &quot;white&quot;, &quot;markerColor&quot;: &quot;green&quot;, &quot;prefix&quot;: &quot;glyphicon&quot;}\n",
       "            );\n",
       "            marker_e35da4e6913f8a2769aee3ab94e83fe2.setIcon(icon_7945da0093066bb4717d9c96a824ab2b);\n",
       "        \n",
       "    \n",
       "        var popup_7e3b338ca85b6948f02799f0058db836 = L.popup({&quot;maxWidth&quot;: &quot;100%&quot;});\n",
       "\n",
       "        \n",
       "            var html_4949959b05816f8e3ea217be5eb589c2 = $(`&lt;div id=&quot;html_4949959b05816f8e3ea217be5eb589c2&quot; style=&quot;width: 100.0%; height: 100.0%;&quot;&gt;&lt;b&gt;Nombre: &lt;/b&gt;San Pedro  &lt;b&gt;Número de personas beneficiadas: &lt;/b&gt;375  &lt;b&gt;Año de puesta en marcha: &lt;/b&gt;2020.0&lt;/div&gt;`)[0];\n",
       "            popup_7e3b338ca85b6948f02799f0058db836.setContent(html_4949959b05816f8e3ea217be5eb589c2);\n",
       "        \n",
       "\n",
       "        marker_e35da4e6913f8a2769aee3ab94e83fe2.bindPopup(popup_7e3b338ca85b6948f02799f0058db836)\n",
       "        ;\n",
       "\n",
       "        \n",
       "    \n",
       "    \n",
       "            marker_e35da4e6913f8a2769aee3ab94e83fe2.bindTooltip(\n",
       "                `&lt;div&gt;\n",
       "                     San Pedro\n",
       "                 &lt;/div&gt;`,\n",
       "                {&quot;sticky&quot;: true}\n",
       "            );\n",
       "        \n",
       "    \n",
       "            var marker_26bcd39f6d4ca23a3c79602199737bf0 = L.marker(\n",
       "                [-39.9151109593, -72.78974687],\n",
       "                {}\n",
       "            ).addTo(map_6085fe524e4b7582ca9b09e9e03680c6);\n",
       "        \n",
       "    \n",
       "            var icon_6886fc93ed529fb78b4607abc0357dc3 = L.AwesomeMarkers.icon(\n",
       "                {&quot;extraClasses&quot;: &quot;fa-rotate-0&quot;, &quot;icon&quot;: &quot;info-sign&quot;, &quot;iconColor&quot;: &quot;white&quot;, &quot;markerColor&quot;: &quot;orange&quot;, &quot;prefix&quot;: &quot;glyphicon&quot;}\n",
       "            );\n",
       "            marker_26bcd39f6d4ca23a3c79602199737bf0.setIcon(icon_6886fc93ed529fb78b4607abc0357dc3);\n",
       "        \n",
       "    \n",
       "        var popup_c40fce22e5cf32c47dd0d07717fd4ce3 = L.popup({&quot;maxWidth&quot;: &quot;100%&quot;});\n",
       "\n",
       "        \n",
       "            var html_5d04df43f48d2308cd72a28440c5d71e = $(`&lt;div id=&quot;html_5d04df43f48d2308cd72a28440c5d71e&quot; style=&quot;width: 100.0%; height: 100.0%;&quot;&gt;&lt;b&gt;Nombre: &lt;/b&gt;Lipingue  &lt;b&gt;Número de personas beneficiadas: &lt;/b&gt;434  &lt;b&gt;Año de puesta en marcha: &lt;/b&gt;2009.0&lt;/div&gt;`)[0];\n",
       "            popup_c40fce22e5cf32c47dd0d07717fd4ce3.setContent(html_5d04df43f48d2308cd72a28440c5d71e);\n",
       "        \n",
       "\n",
       "        marker_26bcd39f6d4ca23a3c79602199737bf0.bindPopup(popup_c40fce22e5cf32c47dd0d07717fd4ce3)\n",
       "        ;\n",
       "\n",
       "        \n",
       "    \n",
       "    \n",
       "            marker_26bcd39f6d4ca23a3c79602199737bf0.bindTooltip(\n",
       "                `&lt;div&gt;\n",
       "                     Lipingue\n",
       "                 &lt;/div&gt;`,\n",
       "                {&quot;sticky&quot;: true}\n",
       "            );\n",
       "        \n",
       "    \n",
       "            var marker_e497637bb13466a0565938836f1c3300 = L.marker(\n",
       "                [-39.9809683663, -72.7929665382],\n",
       "                {}\n",
       "            ).addTo(map_6085fe524e4b7582ca9b09e9e03680c6);\n",
       "        \n",
       "    \n",
       "            var icon_80bc4f9295b5c6c6f52d8e3e05399bff = L.AwesomeMarkers.icon(\n",
       "                {&quot;extraClasses&quot;: &quot;fa-rotate-0&quot;, &quot;icon&quot;: &quot;info-sign&quot;, &quot;iconColor&quot;: &quot;white&quot;, &quot;markerColor&quot;: &quot;blue&quot;, &quot;prefix&quot;: &quot;glyphicon&quot;}\n",
       "            );\n",
       "            marker_e497637bb13466a0565938836f1c3300.setIcon(icon_80bc4f9295b5c6c6f52d8e3e05399bff);\n",
       "        \n",
       "    \n",
       "        var popup_f4dbb11180502c733531e754695bc3d2 = L.popup({&quot;maxWidth&quot;: &quot;100%&quot;});\n",
       "\n",
       "        \n",
       "            var html_090228a52eb22609c01992bc1bc60dff = $(`&lt;div id=&quot;html_090228a52eb22609c01992bc1bc60dff&quot; style=&quot;width: 100.0%; height: 100.0%;&quot;&gt;&lt;b&gt;Nombre: &lt;/b&gt;El Trebol  &lt;b&gt;Número de personas beneficiadas: &lt;/b&gt;208  &lt;b&gt;Año de puesta en marcha: &lt;/b&gt;1993.0&lt;/div&gt;`)[0];\n",
       "            popup_f4dbb11180502c733531e754695bc3d2.setContent(html_090228a52eb22609c01992bc1bc60dff);\n",
       "        \n",
       "\n",
       "        marker_e497637bb13466a0565938836f1c3300.bindPopup(popup_f4dbb11180502c733531e754695bc3d2)\n",
       "        ;\n",
       "\n",
       "        \n",
       "    \n",
       "    \n",
       "            marker_e497637bb13466a0565938836f1c3300.bindTooltip(\n",
       "                `&lt;div&gt;\n",
       "                     El Trebol\n",
       "                 &lt;/div&gt;`,\n",
       "                {&quot;sticky&quot;: true}\n",
       "            );\n",
       "        \n",
       "    \n",
       "            var marker_516ecc1fad3ae7b7578891b5bfea3f9a = L.marker(\n",
       "                [-39.891383155, -72.7942956633],\n",
       "                {}\n",
       "            ).addTo(map_6085fe524e4b7582ca9b09e9e03680c6);\n",
       "        \n",
       "    \n",
       "            var icon_d165353b5f68f83c4b3d092182f18abc = L.AwesomeMarkers.icon(\n",
       "                {&quot;extraClasses&quot;: &quot;fa-rotate-0&quot;, &quot;icon&quot;: &quot;info-sign&quot;, &quot;iconColor&quot;: &quot;white&quot;, &quot;markerColor&quot;: &quot;blue&quot;, &quot;prefix&quot;: &quot;glyphicon&quot;}\n",
       "            );\n",
       "            marker_516ecc1fad3ae7b7578891b5bfea3f9a.setIcon(icon_d165353b5f68f83c4b3d092182f18abc);\n",
       "        \n",
       "    \n",
       "        var popup_2c891fd053ed28318bc36a55bc8b7bab = L.popup({&quot;maxWidth&quot;: &quot;100%&quot;});\n",
       "\n",
       "        \n",
       "            var html_5ecfc82b7e6dff315f44183617e60855 = $(`&lt;div id=&quot;html_5ecfc82b7e6dff315f44183617e60855&quot; style=&quot;width: 100.0%; height: 100.0%;&quot;&gt;&lt;b&gt;Nombre: &lt;/b&gt;Collico Sur  &lt;b&gt;Número de personas beneficiadas: &lt;/b&gt;236  &lt;b&gt;Año de puesta en marcha: &lt;/b&gt;2016.0&lt;/div&gt;`)[0];\n",
       "            popup_2c891fd053ed28318bc36a55bc8b7bab.setContent(html_5ecfc82b7e6dff315f44183617e60855);\n",
       "        \n",
       "\n",
       "        marker_516ecc1fad3ae7b7578891b5bfea3f9a.bindPopup(popup_2c891fd053ed28318bc36a55bc8b7bab)\n",
       "        ;\n",
       "\n",
       "        \n",
       "    \n",
       "    \n",
       "            marker_516ecc1fad3ae7b7578891b5bfea3f9a.bindTooltip(\n",
       "                `&lt;div&gt;\n",
       "                     Collico Sur\n",
       "                 &lt;/div&gt;`,\n",
       "                {&quot;sticky&quot;: true}\n",
       "            );\n",
       "        \n",
       "    \n",
       "            var marker_5f36172ebec4c084426f1308bb47c4b1 = L.marker(\n",
       "                [-39.854954476, -72.6609940373],\n",
       "                {}\n",
       "            ).addTo(map_6085fe524e4b7582ca9b09e9e03680c6);\n",
       "        \n",
       "    \n",
       "            var icon_71163992dc472a4d402e6486211955fc = L.AwesomeMarkers.icon(\n",
       "                {&quot;extraClasses&quot;: &quot;fa-rotate-0&quot;, &quot;icon&quot;: &quot;info-sign&quot;, &quot;iconColor&quot;: &quot;white&quot;, &quot;markerColor&quot;: &quot;blue&quot;, &quot;prefix&quot;: &quot;glyphicon&quot;}\n",
       "            );\n",
       "            marker_5f36172ebec4c084426f1308bb47c4b1.setIcon(icon_71163992dc472a4d402e6486211955fc);\n",
       "        \n",
       "    \n",
       "        var popup_d716acb8757dabec1c1dab879d71d382 = L.popup({&quot;maxWidth&quot;: &quot;100%&quot;});\n",
       "\n",
       "        \n",
       "            var html_cbf67cc7f0c4e2eaf8ab8fa4a191b0e7 = $(`&lt;div id=&quot;html_cbf67cc7f0c4e2eaf8ab8fa4a191b0e7&quot; style=&quot;width: 100.0%; height: 100.0%;&quot;&gt;&lt;b&gt;Nombre: &lt;/b&gt;Mi Tierra  &lt;b&gt;Número de personas beneficiadas: &lt;/b&gt;71  &lt;b&gt;Año de puesta en marcha: &lt;/b&gt;2013.0&lt;/div&gt;`)[0];\n",
       "            popup_d716acb8757dabec1c1dab879d71d382.setContent(html_cbf67cc7f0c4e2eaf8ab8fa4a191b0e7);\n",
       "        \n",
       "\n",
       "        marker_5f36172ebec4c084426f1308bb47c4b1.bindPopup(popup_d716acb8757dabec1c1dab879d71d382)\n",
       "        ;\n",
       "\n",
       "        \n",
       "    \n",
       "    \n",
       "            marker_5f36172ebec4c084426f1308bb47c4b1.bindTooltip(\n",
       "                `&lt;div&gt;\n",
       "                     Mi Tierra\n",
       "                 &lt;/div&gt;`,\n",
       "                {&quot;sticky&quot;: true}\n",
       "            );\n",
       "        \n",
       "    \n",
       "            var marker_3dbd95eee7b2920395f93089dd53c519 = L.marker(\n",
       "                [-39.8597946179, -72.7236128048],\n",
       "                {}\n",
       "            ).addTo(map_6085fe524e4b7582ca9b09e9e03680c6);\n",
       "        \n",
       "    \n",
       "            var icon_af3e4da070b83ed0a72e6389ef726e1a = L.AwesomeMarkers.icon(\n",
       "                {&quot;extraClasses&quot;: &quot;fa-rotate-0&quot;, &quot;icon&quot;: &quot;info-sign&quot;, &quot;iconColor&quot;: &quot;white&quot;, &quot;markerColor&quot;: &quot;blue&quot;, &quot;prefix&quot;: &quot;glyphicon&quot;}\n",
       "            );\n",
       "            marker_3dbd95eee7b2920395f93089dd53c519.setIcon(icon_af3e4da070b83ed0a72e6389ef726e1a);\n",
       "        \n",
       "    \n",
       "        var popup_b7f5b92fb2d81f0daebabce86b09ce95 = L.popup({&quot;maxWidth&quot;: &quot;100%&quot;});\n",
       "\n",
       "        \n",
       "            var html_105f773a9841498537dfffc4bffa2199 = $(`&lt;div id=&quot;html_105f773a9841498537dfffc4bffa2199&quot; style=&quot;width: 100.0%; height: 100.0%;&quot;&gt;&lt;b&gt;Nombre: &lt;/b&gt;Puñaco  &lt;b&gt;Número de personas beneficiadas: &lt;/b&gt;81  &lt;b&gt;Año de puesta en marcha: &lt;/b&gt;1999.0&lt;/div&gt;`)[0];\n",
       "            popup_b7f5b92fb2d81f0daebabce86b09ce95.setContent(html_105f773a9841498537dfffc4bffa2199);\n",
       "        \n",
       "\n",
       "        marker_3dbd95eee7b2920395f93089dd53c519.bindPopup(popup_b7f5b92fb2d81f0daebabce86b09ce95)\n",
       "        ;\n",
       "\n",
       "        \n",
       "    \n",
       "    \n",
       "            marker_3dbd95eee7b2920395f93089dd53c519.bindTooltip(\n",
       "                `&lt;div&gt;\n",
       "                     Puñaco\n",
       "                 &lt;/div&gt;`,\n",
       "                {&quot;sticky&quot;: true}\n",
       "            );\n",
       "        \n",
       "    \n",
       "            var marker_c4eb7a5155eedf39bf6271545a62c855 = L.marker(\n",
       "                [-39.8183071179, -72.8753063555],\n",
       "                {}\n",
       "            ).addTo(map_6085fe524e4b7582ca9b09e9e03680c6);\n",
       "        \n",
       "    \n",
       "            var icon_44dbde7686ec3e9327f0ccb1ddc021c8 = L.AwesomeMarkers.icon(\n",
       "                {&quot;extraClasses&quot;: &quot;fa-rotate-0&quot;, &quot;icon&quot;: &quot;info-sign&quot;, &quot;iconColor&quot;: &quot;white&quot;, &quot;markerColor&quot;: &quot;blue&quot;, &quot;prefix&quot;: &quot;glyphicon&quot;}\n",
       "            );\n",
       "            marker_c4eb7a5155eedf39bf6271545a62c855.setIcon(icon_44dbde7686ec3e9327f0ccb1ddc021c8);\n",
       "        \n",
       "    \n",
       "        var popup_151c1cdfd3f9f49121bfd8b0f8c9c9ab = L.popup({&quot;maxWidth&quot;: &quot;100%&quot;});\n",
       "\n",
       "        \n",
       "            var html_8e35bc556b61fbc42530f766768d9d9e = $(`&lt;div id=&quot;html_8e35bc556b61fbc42530f766768d9d9e&quot; style=&quot;width: 100.0%; height: 100.0%;&quot;&gt;&lt;b&gt;Nombre: &lt;/b&gt;Purey  &lt;b&gt;Número de personas beneficiadas: &lt;/b&gt;78  &lt;b&gt;Año de puesta en marcha: &lt;/b&gt;nan&lt;/div&gt;`)[0];\n",
       "            popup_151c1cdfd3f9f49121bfd8b0f8c9c9ab.setContent(html_8e35bc556b61fbc42530f766768d9d9e);\n",
       "        \n",
       "\n",
       "        marker_c4eb7a5155eedf39bf6271545a62c855.bindPopup(popup_151c1cdfd3f9f49121bfd8b0f8c9c9ab)\n",
       "        ;\n",
       "\n",
       "        \n",
       "    \n",
       "    \n",
       "            marker_c4eb7a5155eedf39bf6271545a62c855.bindTooltip(\n",
       "                `&lt;div&gt;\n",
       "                     Purey\n",
       "                 &lt;/div&gt;`,\n",
       "                {&quot;sticky&quot;: true}\n",
       "            );\n",
       "        \n",
       "    \n",
       "            var marker_4ce67ef1277aada7659232d1f6b3f6de = L.marker(\n",
       "                [-39.8631470531, -73.4340874604],\n",
       "                {}\n",
       "            ).addTo(map_6085fe524e4b7582ca9b09e9e03680c6);\n",
       "        \n",
       "    \n",
       "            var icon_4298c074483279e33fc0ceea55708d4d = L.AwesomeMarkers.icon(\n",
       "                {&quot;extraClasses&quot;: &quot;fa-rotate-0&quot;, &quot;icon&quot;: &quot;info-sign&quot;, &quot;iconColor&quot;: &quot;white&quot;, &quot;markerColor&quot;: &quot;purple&quot;, &quot;prefix&quot;: &quot;glyphicon&quot;}\n",
       "            );\n",
       "            marker_4ce67ef1277aada7659232d1f6b3f6de.setIcon(icon_4298c074483279e33fc0ceea55708d4d);\n",
       "        \n",
       "    \n",
       "        var popup_02aa347365f230678502b27d0cabe4dd = L.popup({&quot;maxWidth&quot;: &quot;100%&quot;});\n",
       "\n",
       "        \n",
       "            var html_0445ca0a4d21e0d718eebfd254406d92 = $(`&lt;div id=&quot;html_0445ca0a4d21e0d718eebfd254406d92&quot; style=&quot;width: 100.0%; height: 100.0%;&quot;&gt;&lt;b&gt;Nombre: &lt;/b&gt;AMARGO-SAN CARLOS  &lt;b&gt;Número de personas beneficiadas: &lt;/b&gt;2412  &lt;b&gt;Año de puesta en marcha: &lt;/b&gt;1981.0&lt;/div&gt;`)[0];\n",
       "            popup_02aa347365f230678502b27d0cabe4dd.setContent(html_0445ca0a4d21e0d718eebfd254406d92);\n",
       "        \n",
       "\n",
       "        marker_4ce67ef1277aada7659232d1f6b3f6de.bindPopup(popup_02aa347365f230678502b27d0cabe4dd)\n",
       "        ;\n",
       "\n",
       "        \n",
       "    \n",
       "    \n",
       "            marker_4ce67ef1277aada7659232d1f6b3f6de.bindTooltip(\n",
       "                `&lt;div&gt;\n",
       "                     AMARGO-SAN CARLOS\n",
       "                 &lt;/div&gt;`,\n",
       "                {&quot;sticky&quot;: true}\n",
       "            );\n",
       "        \n",
       "    \n",
       "            var marker_2db9f3c01596e77668983a0e603bb035 = L.marker(\n",
       "                [-39.8754350487, -73.3587930086],\n",
       "                {}\n",
       "            ).addTo(map_6085fe524e4b7582ca9b09e9e03680c6);\n",
       "        \n",
       "    \n",
       "            var icon_ad25982455afbcc2d27c9f53ab06c807 = L.AwesomeMarkers.icon(\n",
       "                {&quot;extraClasses&quot;: &quot;fa-rotate-0&quot;, &quot;icon&quot;: &quot;info-sign&quot;, &quot;iconColor&quot;: &quot;white&quot;, &quot;markerColor&quot;: &quot;orange&quot;, &quot;prefix&quot;: &quot;glyphicon&quot;}\n",
       "            );\n",
       "            marker_2db9f3c01596e77668983a0e603bb035.setIcon(icon_ad25982455afbcc2d27c9f53ab06c807);\n",
       "        \n",
       "    \n",
       "        var popup_61c03cd81d7d237da2230a986960a4ba = L.popup({&quot;maxWidth&quot;: &quot;100%&quot;});\n",
       "\n",
       "        \n",
       "            var html_4d44dc293a43846c86eff00e89383ff1 = $(`&lt;div id=&quot;html_4d44dc293a43846c86eff00e89383ff1&quot; style=&quot;width: 100.0%; height: 100.0%;&quot;&gt;&lt;b&gt;Nombre: &lt;/b&gt;ISLA DEL REY  &lt;b&gt;Número de personas beneficiadas: &lt;/b&gt;620  &lt;b&gt;Año de puesta en marcha: &lt;/b&gt;2010.0&lt;/div&gt;`)[0];\n",
       "            popup_61c03cd81d7d237da2230a986960a4ba.setContent(html_4d44dc293a43846c86eff00e89383ff1);\n",
       "        \n",
       "\n",
       "        marker_2db9f3c01596e77668983a0e603bb035.bindPopup(popup_61c03cd81d7d237da2230a986960a4ba)\n",
       "        ;\n",
       "\n",
       "        \n",
       "    \n",
       "    \n",
       "            marker_2db9f3c01596e77668983a0e603bb035.bindTooltip(\n",
       "                `&lt;div&gt;\n",
       "                     ISLA DEL REY\n",
       "                 &lt;/div&gt;`,\n",
       "                {&quot;sticky&quot;: true}\n",
       "            );\n",
       "        \n",
       "    \n",
       "            var marker_d4faa52a15c3c4a9ad8eb3a21fac61fd = L.marker(\n",
       "                [-39.8905057848, -73.3917808877],\n",
       "                {}\n",
       "            ).addTo(map_6085fe524e4b7582ca9b09e9e03680c6);\n",
       "        \n",
       "    \n",
       "            var icon_525abcfebd98467042548db3f9eb0d1c = L.AwesomeMarkers.icon(\n",
       "                {&quot;extraClasses&quot;: &quot;fa-rotate-0&quot;, &quot;icon&quot;: &quot;info-sign&quot;, &quot;iconColor&quot;: &quot;white&quot;, &quot;markerColor&quot;: &quot;blue&quot;, &quot;prefix&quot;: &quot;glyphicon&quot;}\n",
       "            );\n",
       "            marker_d4faa52a15c3c4a9ad8eb3a21fac61fd.setIcon(icon_525abcfebd98467042548db3f9eb0d1c);\n",
       "        \n",
       "    \n",
       "        var popup_1735db90c97e4c3018a0620086be6535 = L.popup({&quot;maxWidth&quot;: &quot;100%&quot;});\n",
       "\n",
       "        \n",
       "            var html_53f5b6b28a1454c38783f0add1832f36 = $(`&lt;div id=&quot;html_53f5b6b28a1454c38783f0add1832f36&quot; style=&quot;width: 100.0%; height: 100.0%;&quot;&gt;&lt;b&gt;Nombre: &lt;/b&gt;ISLA MANCERA  &lt;b&gt;Número de personas beneficiadas: &lt;/b&gt;267  &lt;b&gt;Año de puesta en marcha: &lt;/b&gt;1999.0&lt;/div&gt;`)[0];\n",
       "            popup_1735db90c97e4c3018a0620086be6535.setContent(html_53f5b6b28a1454c38783f0add1832f36);\n",
       "        \n",
       "\n",
       "        marker_d4faa52a15c3c4a9ad8eb3a21fac61fd.bindPopup(popup_1735db90c97e4c3018a0620086be6535)\n",
       "        ;\n",
       "\n",
       "        \n",
       "    \n",
       "    \n",
       "            marker_d4faa52a15c3c4a9ad8eb3a21fac61fd.bindTooltip(\n",
       "                `&lt;div&gt;\n",
       "                     ISLA MANCERA\n",
       "                 &lt;/div&gt;`,\n",
       "                {&quot;sticky&quot;: true}\n",
       "            );\n",
       "        \n",
       "    \n",
       "            var marker_b0e6f56bf78849750bace96ac30d40a6 = L.marker(\n",
       "                [-39.8964415368, -73.417776163],\n",
       "                {}\n",
       "            ).addTo(map_6085fe524e4b7582ca9b09e9e03680c6);\n",
       "        \n",
       "    \n",
       "            var icon_98a7f9fda9579b13f40dbc3cc41d4572 = L.AwesomeMarkers.icon(\n",
       "                {&quot;extraClasses&quot;: &quot;fa-rotate-0&quot;, &quot;icon&quot;: &quot;info-sign&quot;, &quot;iconColor&quot;: &quot;white&quot;, &quot;markerColor&quot;: &quot;orange&quot;, &quot;prefix&quot;: &quot;glyphicon&quot;}\n",
       "            );\n",
       "            marker_b0e6f56bf78849750bace96ac30d40a6.setIcon(icon_98a7f9fda9579b13f40dbc3cc41d4572);\n",
       "        \n",
       "    \n",
       "        var popup_cb42731616e39ffc6f1342cf3b294072 = L.popup({&quot;maxWidth&quot;: &quot;100%&quot;});\n",
       "\n",
       "        \n",
       "            var html_185b937c7913d166351b815b2e1ce443 = $(`&lt;div id=&quot;html_185b937c7913d166351b815b2e1ce443&quot; style=&quot;width: 100.0%; height: 100.0%;&quot;&gt;&lt;b&gt;Nombre: &lt;/b&gt;LA AGUADA  &lt;b&gt;Número de personas beneficiadas: &lt;/b&gt;626  &lt;b&gt;Año de puesta en marcha: &lt;/b&gt;1987.0&lt;/div&gt;`)[0];\n",
       "            popup_cb42731616e39ffc6f1342cf3b294072.setContent(html_185b937c7913d166351b815b2e1ce443);\n",
       "        \n",
       "\n",
       "        marker_b0e6f56bf78849750bace96ac30d40a6.bindPopup(popup_cb42731616e39ffc6f1342cf3b294072)\n",
       "        ;\n",
       "\n",
       "        \n",
       "    \n",
       "    \n",
       "            marker_b0e6f56bf78849750bace96ac30d40a6.bindTooltip(\n",
       "                `&lt;div&gt;\n",
       "                     LA AGUADA\n",
       "                 &lt;/div&gt;`,\n",
       "                {&quot;sticky&quot;: true}\n",
       "            );\n",
       "        \n",
       "    \n",
       "            var marker_3f978e710d009f2cc2b012127f804e7c = L.marker(\n",
       "                [-39.9656281859, -73.6194983481],\n",
       "                {}\n",
       "            ).addTo(map_6085fe524e4b7582ca9b09e9e03680c6);\n",
       "        \n",
       "    \n",
       "            var icon_264c2cd46b5f98367b7a857267096206 = L.AwesomeMarkers.icon(\n",
       "                {&quot;extraClasses&quot;: &quot;fa-rotate-0&quot;, &quot;icon&quot;: &quot;info-sign&quot;, &quot;iconColor&quot;: &quot;white&quot;, &quot;markerColor&quot;: &quot;red&quot;, &quot;prefix&quot;: &quot;glyphicon&quot;}\n",
       "            );\n",
       "            marker_3f978e710d009f2cc2b012127f804e7c.setIcon(icon_264c2cd46b5f98367b7a857267096206);\n",
       "        \n",
       "    \n",
       "        var popup_15807c499511a6561da4770bffc227ac = L.popup({&quot;maxWidth&quot;: &quot;100%&quot;});\n",
       "\n",
       "        \n",
       "            var html_d81e00d1dd3fc47ce1a6f4f170421b55 = $(`&lt;div id=&quot;html_d81e00d1dd3fc47ce1a6f4f170421b55&quot; style=&quot;width: 100.0%; height: 100.0%;&quot;&gt;&lt;b&gt;Nombre: &lt;/b&gt;CHAIHUIN  &lt;b&gt;Número de personas beneficiadas: &lt;/b&gt;744  &lt;b&gt;Año de puesta en marcha: &lt;/b&gt;2015.0&lt;/div&gt;`)[0];\n",
       "            popup_15807c499511a6561da4770bffc227ac.setContent(html_d81e00d1dd3fc47ce1a6f4f170421b55);\n",
       "        \n",
       "\n",
       "        marker_3f978e710d009f2cc2b012127f804e7c.bindPopup(popup_15807c499511a6561da4770bffc227ac)\n",
       "        ;\n",
       "\n",
       "        \n",
       "    \n",
       "    \n",
       "            marker_3f978e710d009f2cc2b012127f804e7c.bindTooltip(\n",
       "                `&lt;div&gt;\n",
       "                     CHAIHUIN\n",
       "                 &lt;/div&gt;`,\n",
       "                {&quot;sticky&quot;: true}\n",
       "            );\n",
       "        \n",
       "    \n",
       "            var marker_172eef3a2954d8980bea034faceedc44 = L.marker(\n",
       "                [-39.8970045115, -73.4310820761],\n",
       "                {}\n",
       "            ).addTo(map_6085fe524e4b7582ca9b09e9e03680c6);\n",
       "        \n",
       "    \n",
       "            var icon_c17a078b4ddd43804057204729e4e9e2 = L.AwesomeMarkers.icon(\n",
       "                {&quot;extraClasses&quot;: &quot;fa-rotate-0&quot;, &quot;icon&quot;: &quot;info-sign&quot;, &quot;iconColor&quot;: &quot;white&quot;, &quot;markerColor&quot;: &quot;orange&quot;, &quot;prefix&quot;: &quot;glyphicon&quot;}\n",
       "            );\n",
       "            marker_172eef3a2954d8980bea034faceedc44.setIcon(icon_c17a078b4ddd43804057204729e4e9e2);\n",
       "        \n",
       "    \n",
       "        var popup_379a59a137ecdad95feeb9ab5ed1297c = L.popup({&quot;maxWidth&quot;: &quot;100%&quot;});\n",
       "\n",
       "        \n",
       "            var html_eb2f9be3571846f16a9eee382fb7889d = $(`&lt;div id=&quot;html_eb2f9be3571846f16a9eee382fb7889d&quot; style=&quot;width: 100.0%; height: 100.0%;&quot;&gt;&lt;b&gt;Nombre: &lt;/b&gt;CERROS DE CORRAL  &lt;b&gt;Número de personas beneficiadas: &lt;/b&gt;484  &lt;b&gt;Año de puesta en marcha: &lt;/b&gt;2018.0&lt;/div&gt;`)[0];\n",
       "            popup_379a59a137ecdad95feeb9ab5ed1297c.setContent(html_eb2f9be3571846f16a9eee382fb7889d);\n",
       "        \n",
       "\n",
       "        marker_172eef3a2954d8980bea034faceedc44.bindPopup(popup_379a59a137ecdad95feeb9ab5ed1297c)\n",
       "        ;\n",
       "\n",
       "        \n",
       "    \n",
       "    \n",
       "            marker_172eef3a2954d8980bea034faceedc44.bindTooltip(\n",
       "                `&lt;div&gt;\n",
       "                     CERROS DE CORRAL\n",
       "                 &lt;/div&gt;`,\n",
       "                {&quot;sticky&quot;: true}\n",
       "            );\n",
       "        \n",
       "&lt;/script&gt;\" style=\"position:absolute;width:100%;height:100%;left:0;top:0;border:none !important;\" allowfullscreen webkitallowfullscreen mozallowfullscreen></iframe></div></div>"
      ],
      "text/plain": [
       "<folium.folium.Map at 0x1f0b88ffb80>"
      ]
     },
     "execution_count": 4,
     "metadata": {},
     "output_type": "execute_result"
    }
   ],
   "source": [
    "map = folium.Map(location = [-39.925826, -73.114501], tiles = \"OpenStreetMap\", zoom_start = 9.5)\n",
    "\n",
    "#Recopilación de datos de años\n",
    "datos_agno_valdivia=list(datos.iloc[1963:1977,5])\n",
    "datos_agno_paillaco=list(datos.iloc[1919:1930,5])\n",
    "datos_agno_loslagos=list(datos.iloc[1885:1903,5])\n",
    "datos_agno_corral=list(datos.iloc[1873:1879,5])\n",
    "datos_agno=datos_agno_valdivia+datos_agno_paillaco+datos_agno_loslagos+datos_agno_corral\n",
    "\n",
    "color_beneficiario=[]\n",
    "\n",
    "for j in range(len(locations)):\n",
    "    nombre=nombres[j]\n",
    "    u=beneficiarios[j]\n",
    "    if u<292.5:\n",
    "        colores='blue'\n",
    "    if u>=292.5 and u<434:\n",
    "        colores='green'\n",
    "    if u>=434 and u<732.5:\n",
    "        colores='orange'\n",
    "    if u>=732.5 and u<1327:\n",
    "        colores='red'               \n",
    "    if u>=1327:\n",
    "        colores='purple'\n",
    "    color_beneficiario.append(colores)\n",
    "    folium.Marker(\n",
    "    location=locations[j],\n",
    "    popup=('<b>Nombre: </b>' + str(nombre)+\n",
    "           \" \\n<b>Número de personas beneficiadas: </b>\"+str(int(beneficiarios[j]))+\n",
    "           \" \\n<b>Año de puesta en marcha: </b>\"+str(datos_agno[j])),\n",
    "    tooltip=nombres[j],\n",
    "    icon=folium.Icon(color=colores),\n",
    ").add_to(map)\n",
    "    \n",
    "map"
   ]
  },
  {
   "cell_type": "code",
   "execution_count": 5,
   "id": "6f75b46c-5d57-4c8e-9724-2953df919bcf",
   "metadata": {},
   "outputs": [
    {
     "data": {
      "application/vnd.plotly.v1+json": {
       "config": {
        "plotlyServerURL": "https://plot.ly"
       },
       "data": [
        {
         "colorscale": [
          [
           0,
           "#00083e"
          ],
          [
           0.5,
           "#ededee"
          ],
          [
           1,
           "#ffffff"
          ]
         ],
         "hoverinfo": "none",
         "opacity": 0.75,
         "showscale": false,
         "type": "heatmap",
         "z": [
          [
           0,
           0,
           0,
           0
          ],
          [
           0.5,
           0.5,
           0.5,
           0.5
          ],
          [
           1,
           1,
           1,
           1
          ],
          [
           0.5,
           0.5,
           0.5,
           0.5
          ],
          [
           1,
           1,
           1,
           1
          ],
          [
           0.5,
           0.5,
           0.5,
           0.5
          ],
          [
           1,
           1,
           1,
           1
          ],
          [
           0.5,
           0.5,
           0.5,
           0.5
          ],
          [
           1,
           1,
           1,
           1
          ],
          [
           0.5,
           0.5,
           0.5,
           0.5
          ],
          [
           1,
           1,
           1,
           1
          ],
          [
           0.5,
           0.5,
           0.5,
           0.5
          ],
          [
           1,
           1,
           1,
           1
          ],
          [
           0.5,
           0.5,
           0.5,
           0.5
          ],
          [
           1,
           1,
           1,
           1
          ],
          [
           0.5,
           0.5,
           0.5,
           0.5
          ],
          [
           1,
           1,
           1,
           1
          ],
          [
           0.5,
           0.5,
           0.5,
           0.5
          ],
          [
           1,
           1,
           1,
           1
          ],
          [
           0.5,
           0.5,
           0.5,
           0.5
          ],
          [
           1,
           1,
           1,
           1
          ],
          [
           0.5,
           0.5,
           0.5,
           0.5
          ],
          [
           1,
           1,
           1,
           1
          ],
          [
           0.5,
           0.5,
           0.5,
           0.5
          ],
          [
           1,
           1,
           1,
           1
          ],
          [
           0.5,
           0.5,
           0.5,
           0.5
          ],
          [
           1,
           1,
           1,
           1
          ],
          [
           0.5,
           0.5,
           0.5,
           0.5
          ],
          [
           1,
           1,
           1,
           1
          ],
          [
           0.5,
           0.5,
           0.5,
           0.5
          ],
          [
           1,
           1,
           1,
           1
          ],
          [
           0.5,
           0.5,
           0.5,
           0.5
          ],
          [
           1,
           1,
           1,
           1
          ],
          [
           0.5,
           0.5,
           0.5,
           0.5
          ],
          [
           1,
           1,
           1,
           1
          ],
          [
           0.5,
           0.5,
           0.5,
           0.5
          ],
          [
           1,
           1,
           1,
           1
          ],
          [
           0.5,
           0.5,
           0.5,
           0.5
          ],
          [
           1,
           1,
           1,
           1
          ],
          [
           0.5,
           0.5,
           0.5,
           0.5
          ],
          [
           1,
           1,
           1,
           1
          ],
          [
           0.5,
           0.5,
           0.5,
           0.5
          ],
          [
           1,
           1,
           1,
           1
          ],
          [
           0.5,
           0.5,
           0.5,
           0.5
          ],
          [
           1,
           1,
           1,
           1
          ],
          [
           0.5,
           0.5,
           0.5,
           0.5
          ],
          [
           1,
           1,
           1,
           1
          ],
          [
           0.5,
           0.5,
           0.5,
           0.5
          ],
          [
           1,
           1,
           1,
           1
          ],
          [
           0.5,
           0.5,
           0.5,
           0.5
          ]
         ]
        }
       ],
       "layout": {
        "annotations": [
         {
          "align": "left",
          "font": {
           "color": "#ffffff"
          },
          "showarrow": false,
          "text": "<b>Nombre Ubicación</b>",
          "x": -0.45,
          "xanchor": "left",
          "xref": "x",
          "y": 0,
          "yref": "y"
         },
         {
          "align": "left",
          "font": {
           "color": "#ffffff"
          },
          "showarrow": false,
          "text": "<b>Beneficiarios</b>",
          "x": 0.55,
          "xanchor": "left",
          "xref": "x",
          "y": 0,
          "yref": "y"
         },
         {
          "align": "left",
          "font": {
           "color": "#ffffff"
          },
          "showarrow": false,
          "text": "<b>Color</b>",
          "x": 1.55,
          "xanchor": "left",
          "xref": "x",
          "y": 0,
          "yref": "y"
         },
         {
          "align": "left",
          "font": {
           "color": "#ffffff"
          },
          "showarrow": false,
          "text": "<b>Comunas</b>",
          "x": 2.55,
          "xanchor": "left",
          "xref": "x",
          "y": 0,
          "yref": "y"
         },
         {
          "align": "left",
          "font": {
           "color": "#000000"
          },
          "showarrow": false,
          "text": "PISHUINCO",
          "x": -0.45,
          "xanchor": "left",
          "xref": "x",
          "y": 1,
          "yref": "y"
         },
         {
          "align": "left",
          "font": {
           "color": "#000000"
          },
          "showarrow": false,
          "text": "322.0",
          "x": 0.55,
          "xanchor": "left",
          "xref": "x",
          "y": 1,
          "yref": "y"
         },
         {
          "align": "left",
          "font": {
           "color": "#000000"
          },
          "showarrow": false,
          "text": "green",
          "x": 1.55,
          "xanchor": "left",
          "xref": "x",
          "y": 1,
          "yref": "y"
         },
         {
          "align": "left",
          "font": {
           "color": "#000000"
          },
          "showarrow": false,
          "text": "Valdivia",
          "x": 2.55,
          "xanchor": "left",
          "xref": "x",
          "y": 1,
          "yref": "y"
         },
         {
          "align": "left",
          "font": {
           "color": "#000000"
          },
          "showarrow": false,
          "text": "CURIÑANCO",
          "x": -0.45,
          "xanchor": "left",
          "xref": "x",
          "y": 2,
          "yref": "y"
         },
         {
          "align": "left",
          "font": {
           "color": "#000000"
          },
          "showarrow": false,
          "text": "2294.0",
          "x": 0.55,
          "xanchor": "left",
          "xref": "x",
          "y": 2,
          "yref": "y"
         },
         {
          "align": "left",
          "font": {
           "color": "#000000"
          },
          "showarrow": false,
          "text": "purple",
          "x": 1.55,
          "xanchor": "left",
          "xref": "x",
          "y": 2,
          "yref": "y"
         },
         {
          "align": "left",
          "font": {
           "color": "#000000"
          },
          "showarrow": false,
          "text": "Valdivia",
          "x": 2.55,
          "xanchor": "left",
          "xref": "x",
          "y": 2,
          "yref": "y"
         },
         {
          "align": "left",
          "font": {
           "color": "#000000"
          },
          "showarrow": false,
          "text": "HUELLELHUE",
          "x": -0.45,
          "xanchor": "left",
          "xref": "x",
          "y": 3,
          "yref": "y"
         },
         {
          "align": "left",
          "font": {
           "color": "#000000"
          },
          "showarrow": false,
          "text": "310.0",
          "x": 0.55,
          "xanchor": "left",
          "xref": "x",
          "y": 3,
          "yref": "y"
         },
         {
          "align": "left",
          "font": {
           "color": "#000000"
          },
          "showarrow": false,
          "text": "green",
          "x": 1.55,
          "xanchor": "left",
          "xref": "x",
          "y": 3,
          "yref": "y"
         },
         {
          "align": "left",
          "font": {
           "color": "#000000"
          },
          "showarrow": false,
          "text": "Valdivia",
          "x": 2.55,
          "xanchor": "left",
          "xref": "x",
          "y": 3,
          "yref": "y"
         },
         {
          "align": "left",
          "font": {
           "color": "#000000"
          },
          "showarrow": false,
          "text": "LAS GAVIOTAS",
          "x": -0.45,
          "xanchor": "left",
          "xref": "x",
          "y": 4,
          "yref": "y"
         },
         {
          "align": "left",
          "font": {
           "color": "#000000"
          },
          "showarrow": false,
          "text": "1048.0",
          "x": 0.55,
          "xanchor": "left",
          "xref": "x",
          "y": 4,
          "yref": "y"
         },
         {
          "align": "left",
          "font": {
           "color": "#000000"
          },
          "showarrow": false,
          "text": "red",
          "x": 1.55,
          "xanchor": "left",
          "xref": "x",
          "y": 4,
          "yref": "y"
         },
         {
          "align": "left",
          "font": {
           "color": "#000000"
          },
          "showarrow": false,
          "text": "Valdivia",
          "x": 2.55,
          "xanchor": "left",
          "xref": "x",
          "y": 4,
          "yref": "y"
         },
         {
          "align": "left",
          "font": {
           "color": "#000000"
          },
          "showarrow": false,
          "text": "NIEBLA-LOS MOLINOS",
          "x": -0.45,
          "xanchor": "left",
          "xref": "x",
          "y": 5,
          "yref": "y"
         },
         {
          "align": "left",
          "font": {
           "color": "#000000"
          },
          "showarrow": false,
          "text": "4021.0",
          "x": 0.55,
          "xanchor": "left",
          "xref": "x",
          "y": 5,
          "yref": "y"
         },
         {
          "align": "left",
          "font": {
           "color": "#000000"
          },
          "showarrow": false,
          "text": "purple",
          "x": 1.55,
          "xanchor": "left",
          "xref": "x",
          "y": 5,
          "yref": "y"
         },
         {
          "align": "left",
          "font": {
           "color": "#000000"
          },
          "showarrow": false,
          "text": "Valdivia",
          "x": 2.55,
          "xanchor": "left",
          "xref": "x",
          "y": 5,
          "yref": "y"
         },
         {
          "align": "left",
          "font": {
           "color": "#000000"
          },
          "showarrow": false,
          "text": "PUNUCAPA",
          "x": -0.45,
          "xanchor": "left",
          "xref": "x",
          "y": 6,
          "yref": "y"
         },
         {
          "align": "left",
          "font": {
           "color": "#000000"
          },
          "showarrow": false,
          "text": "459.0",
          "x": 0.55,
          "xanchor": "left",
          "xref": "x",
          "y": 6,
          "yref": "y"
         },
         {
          "align": "left",
          "font": {
           "color": "#000000"
          },
          "showarrow": false,
          "text": "orange",
          "x": 1.55,
          "xanchor": "left",
          "xref": "x",
          "y": 6,
          "yref": "y"
         },
         {
          "align": "left",
          "font": {
           "color": "#000000"
          },
          "showarrow": false,
          "text": "Valdivia",
          "x": 2.55,
          "xanchor": "left",
          "xref": "x",
          "y": 6,
          "yref": "y"
         },
         {
          "align": "left",
          "font": {
           "color": "#000000"
          },
          "showarrow": false,
          "text": "SAN IGNACIO-PLAYA ROSADA",
          "x": -0.45,
          "xanchor": "left",
          "xref": "x",
          "y": 7,
          "yref": "y"
         },
         {
          "align": "left",
          "font": {
           "color": "#000000"
          },
          "showarrow": false,
          "text": "936.0",
          "x": 0.55,
          "xanchor": "left",
          "xref": "x",
          "y": 7,
          "yref": "y"
         },
         {
          "align": "left",
          "font": {
           "color": "#000000"
          },
          "showarrow": false,
          "text": "red",
          "x": 1.55,
          "xanchor": "left",
          "xref": "x",
          "y": 7,
          "yref": "y"
         },
         {
          "align": "left",
          "font": {
           "color": "#000000"
          },
          "showarrow": false,
          "text": "Valdivia",
          "x": 2.55,
          "xanchor": "left",
          "xref": "x",
          "y": 7,
          "yref": "y"
         },
         {
          "align": "left",
          "font": {
           "color": "#000000"
          },
          "showarrow": false,
          "text": "TRES ESPINOS",
          "x": -0.45,
          "xanchor": "left",
          "xref": "x",
          "y": 8,
          "yref": "y"
         },
         {
          "align": "left",
          "font": {
           "color": "#000000"
          },
          "showarrow": false,
          "text": "1091.0",
          "x": 0.55,
          "xanchor": "left",
          "xref": "x",
          "y": 8,
          "yref": "y"
         },
         {
          "align": "left",
          "font": {
           "color": "#000000"
          },
          "showarrow": false,
          "text": "red",
          "x": 1.55,
          "xanchor": "left",
          "xref": "x",
          "y": 8,
          "yref": "y"
         },
         {
          "align": "left",
          "font": {
           "color": "#000000"
          },
          "showarrow": false,
          "text": "Valdivia",
          "x": 2.55,
          "xanchor": "left",
          "xref": "x",
          "y": 8,
          "yref": "y"
         },
         {
          "align": "left",
          "font": {
           "color": "#000000"
          },
          "showarrow": false,
          "text": "VILLA CAYUMAPU",
          "x": -0.45,
          "xanchor": "left",
          "xref": "x",
          "y": 9,
          "yref": "y"
         },
         {
          "align": "left",
          "font": {
           "color": "#000000"
          },
          "showarrow": false,
          "text": "1327.0",
          "x": 0.55,
          "xanchor": "left",
          "xref": "x",
          "y": 9,
          "yref": "y"
         },
         {
          "align": "left",
          "font": {
           "color": "#000000"
          },
          "showarrow": false,
          "text": "purple",
          "x": 1.55,
          "xanchor": "left",
          "xref": "x",
          "y": 9,
          "yref": "y"
         },
         {
          "align": "left",
          "font": {
           "color": "#000000"
          },
          "showarrow": false,
          "text": "Valdivia",
          "x": 2.55,
          "xanchor": "left",
          "xref": "x",
          "y": 9,
          "yref": "y"
         },
         {
          "align": "left",
          "font": {
           "color": "#000000"
          },
          "showarrow": false,
          "text": "EL ARENAL SANTA ELVIRA",
          "x": -0.45,
          "xanchor": "left",
          "xref": "x",
          "y": 10,
          "yref": "y"
         },
         {
          "align": "left",
          "font": {
           "color": "#000000"
          },
          "showarrow": false,
          "text": "549.0",
          "x": 0.55,
          "xanchor": "left",
          "xref": "x",
          "y": 10,
          "yref": "y"
         },
         {
          "align": "left",
          "font": {
           "color": "#000000"
          },
          "showarrow": false,
          "text": "orange",
          "x": 1.55,
          "xanchor": "left",
          "xref": "x",
          "y": 10,
          "yref": "y"
         },
         {
          "align": "left",
          "font": {
           "color": "#000000"
          },
          "showarrow": false,
          "text": "Valdivia",
          "x": 2.55,
          "xanchor": "left",
          "xref": "x",
          "y": 10,
          "yref": "y"
         },
         {
          "align": "left",
          "font": {
           "color": "#000000"
          },
          "showarrow": false,
          "text": "PAILLAO",
          "x": -0.45,
          "xanchor": "left",
          "xref": "x",
          "y": 11,
          "yref": "y"
         },
         {
          "align": "left",
          "font": {
           "color": "#000000"
          },
          "showarrow": false,
          "text": "871.0",
          "x": 0.55,
          "xanchor": "left",
          "xref": "x",
          "y": 11,
          "yref": "y"
         },
         {
          "align": "left",
          "font": {
           "color": "#000000"
          },
          "showarrow": false,
          "text": "red",
          "x": 1.55,
          "xanchor": "left",
          "xref": "x",
          "y": 11,
          "yref": "y"
         },
         {
          "align": "left",
          "font": {
           "color": "#000000"
          },
          "showarrow": false,
          "text": "Valdivia",
          "x": 2.55,
          "xanchor": "left",
          "xref": "x",
          "y": 11,
          "yref": "y"
         },
         {
          "align": "left",
          "font": {
           "color": "#000000"
          },
          "showarrow": false,
          "text": "CABO BLANCO",
          "x": -0.45,
          "xanchor": "left",
          "xref": "x",
          "y": 12,
          "yref": "y"
         },
         {
          "align": "left",
          "font": {
           "color": "#000000"
          },
          "showarrow": false,
          "text": "543.0",
          "x": 0.55,
          "xanchor": "left",
          "xref": "x",
          "y": 12,
          "yref": "y"
         },
         {
          "align": "left",
          "font": {
           "color": "#000000"
          },
          "showarrow": false,
          "text": "orange",
          "x": 1.55,
          "xanchor": "left",
          "xref": "x",
          "y": 12,
          "yref": "y"
         },
         {
          "align": "left",
          "font": {
           "color": "#000000"
          },
          "showarrow": false,
          "text": "Valdivia",
          "x": 2.55,
          "xanchor": "left",
          "xref": "x",
          "y": 12,
          "yref": "y"
         },
         {
          "align": "left",
          "font": {
           "color": "#000000"
          },
          "showarrow": false,
          "text": "EL ARENAL KM 2",
          "x": -0.45,
          "xanchor": "left",
          "xref": "x",
          "y": 13,
          "yref": "y"
         },
         {
          "align": "left",
          "font": {
           "color": "#000000"
          },
          "showarrow": false,
          "text": "623.0",
          "x": 0.55,
          "xanchor": "left",
          "xref": "x",
          "y": 13,
          "yref": "y"
         },
         {
          "align": "left",
          "font": {
           "color": "#000000"
          },
          "showarrow": false,
          "text": "orange",
          "x": 1.55,
          "xanchor": "left",
          "xref": "x",
          "y": 13,
          "yref": "y"
         },
         {
          "align": "left",
          "font": {
           "color": "#000000"
          },
          "showarrow": false,
          "text": "Valdivia",
          "x": 2.55,
          "xanchor": "left",
          "xref": "x",
          "y": 13,
          "yref": "y"
         },
         {
          "align": "left",
          "font": {
           "color": "#000000"
          },
          "showarrow": false,
          "text": "Chabelita",
          "x": -0.45,
          "xanchor": "left",
          "xref": "x",
          "y": 14,
          "yref": "y"
         },
         {
          "align": "left",
          "font": {
           "color": "#000000"
          },
          "showarrow": false,
          "text": "434.0",
          "x": 0.55,
          "xanchor": "left",
          "xref": "x",
          "y": 14,
          "yref": "y"
         },
         {
          "align": "left",
          "font": {
           "color": "#000000"
          },
          "showarrow": false,
          "text": "orange",
          "x": 1.55,
          "xanchor": "left",
          "xref": "x",
          "y": 14,
          "yref": "y"
         },
         {
          "align": "left",
          "font": {
           "color": "#000000"
          },
          "showarrow": false,
          "text": "Valdivia",
          "x": 2.55,
          "xanchor": "left",
          "xref": "x",
          "y": 14,
          "yref": "y"
         },
         {
          "align": "left",
          "font": {
           "color": "#000000"
          },
          "showarrow": false,
          "text": "ARCO IRIS",
          "x": -0.45,
          "xanchor": "left",
          "xref": "x",
          "y": 15,
          "yref": "y"
         },
         {
          "align": "left",
          "font": {
           "color": "#000000"
          },
          "showarrow": false,
          "text": "394.0",
          "x": 0.55,
          "xanchor": "left",
          "xref": "x",
          "y": 15,
          "yref": "y"
         },
         {
          "align": "left",
          "font": {
           "color": "#000000"
          },
          "showarrow": false,
          "text": "green",
          "x": 1.55,
          "xanchor": "left",
          "xref": "x",
          "y": 15,
          "yref": "y"
         },
         {
          "align": "left",
          "font": {
           "color": "#000000"
          },
          "showarrow": false,
          "text": "Paillaco",
          "x": 2.55,
          "xanchor": "left",
          "xref": "x",
          "y": 15,
          "yref": "y"
         },
         {
          "align": "left",
          "font": {
           "color": "#000000"
          },
          "showarrow": false,
          "text": "EL LLOLLY",
          "x": -0.45,
          "xanchor": "left",
          "xref": "x",
          "y": 16,
          "yref": "y"
         },
         {
          "align": "left",
          "font": {
           "color": "#000000"
          },
          "showarrow": false,
          "text": "428.0",
          "x": 0.55,
          "xanchor": "left",
          "xref": "x",
          "y": 16,
          "yref": "y"
         },
         {
          "align": "left",
          "font": {
           "color": "#000000"
          },
          "showarrow": false,
          "text": "green",
          "x": 1.55,
          "xanchor": "left",
          "xref": "x",
          "y": 16,
          "yref": "y"
         },
         {
          "align": "left",
          "font": {
           "color": "#000000"
          },
          "showarrow": false,
          "text": "Paillaco",
          "x": 2.55,
          "xanchor": "left",
          "xref": "x",
          "y": 16,
          "yref": "y"
         },
         {
          "align": "left",
          "font": {
           "color": "#000000"
          },
          "showarrow": false,
          "text": "PICHIRROPULLI",
          "x": -0.45,
          "xanchor": "left",
          "xref": "x",
          "y": 17,
          "yref": "y"
         },
         {
          "align": "left",
          "font": {
           "color": "#000000"
          },
          "showarrow": false,
          "text": "1079.0",
          "x": 0.55,
          "xanchor": "left",
          "xref": "x",
          "y": 17,
          "yref": "y"
         },
         {
          "align": "left",
          "font": {
           "color": "#000000"
          },
          "showarrow": false,
          "text": "red",
          "x": 1.55,
          "xanchor": "left",
          "xref": "x",
          "y": 17,
          "yref": "y"
         },
         {
          "align": "left",
          "font": {
           "color": "#000000"
          },
          "showarrow": false,
          "text": "Paillaco",
          "x": 2.55,
          "xanchor": "left",
          "xref": "x",
          "y": 17,
          "yref": "y"
         },
         {
          "align": "left",
          "font": {
           "color": "#000000"
          },
          "showarrow": false,
          "text": "REUMEN",
          "x": -0.45,
          "xanchor": "left",
          "xref": "x",
          "y": 18,
          "yref": "y"
         },
         {
          "align": "left",
          "font": {
           "color": "#000000"
          },
          "showarrow": false,
          "text": "1442.0",
          "x": 0.55,
          "xanchor": "left",
          "xref": "x",
          "y": 18,
          "yref": "y"
         },
         {
          "align": "left",
          "font": {
           "color": "#000000"
          },
          "showarrow": false,
          "text": "purple",
          "x": 1.55,
          "xanchor": "left",
          "xref": "x",
          "y": 18,
          "yref": "y"
         },
         {
          "align": "left",
          "font": {
           "color": "#000000"
          },
          "showarrow": false,
          "text": "Paillaco",
          "x": 2.55,
          "xanchor": "left",
          "xref": "x",
          "y": 18,
          "yref": "y"
         },
         {
          "align": "left",
          "font": {
           "color": "#000000"
          },
          "showarrow": false,
          "text": "SANTA FILOMENA",
          "x": -0.45,
          "xanchor": "left",
          "xref": "x",
          "y": 19,
          "yref": "y"
         },
         {
          "align": "left",
          "font": {
           "color": "#000000"
          },
          "showarrow": false,
          "text": "403.0",
          "x": 0.55,
          "xanchor": "left",
          "xref": "x",
          "y": 19,
          "yref": "y"
         },
         {
          "align": "left",
          "font": {
           "color": "#000000"
          },
          "showarrow": false,
          "text": "green",
          "x": 1.55,
          "xanchor": "left",
          "xref": "x",
          "y": 19,
          "yref": "y"
         },
         {
          "align": "left",
          "font": {
           "color": "#000000"
          },
          "showarrow": false,
          "text": "Paillaco",
          "x": 2.55,
          "xanchor": "left",
          "xref": "x",
          "y": 19,
          "yref": "y"
         },
         {
          "align": "left",
          "font": {
           "color": "#000000"
          },
          "showarrow": false,
          "text": "MANAO",
          "x": -0.45,
          "xanchor": "left",
          "xref": "x",
          "y": 20,
          "yref": "y"
         },
         {
          "align": "left",
          "font": {
           "color": "#000000"
          },
          "showarrow": false,
          "text": "220.0",
          "x": 0.55,
          "xanchor": "left",
          "xref": "x",
          "y": 20,
          "yref": "y"
         },
         {
          "align": "left",
          "font": {
           "color": "#000000"
          },
          "showarrow": false,
          "text": "blue",
          "x": 1.55,
          "xanchor": "left",
          "xref": "x",
          "y": 20,
          "yref": "y"
         },
         {
          "align": "left",
          "font": {
           "color": "#000000"
          },
          "showarrow": false,
          "text": "Paillaco",
          "x": 2.55,
          "xanchor": "left",
          "xref": "x",
          "y": 20,
          "yref": "y"
         },
         {
          "align": "left",
          "font": {
           "color": "#000000"
          },
          "showarrow": false,
          "text": "SANTA ROSA CHICA",
          "x": -0.45,
          "xanchor": "left",
          "xref": "x",
          "y": 21,
          "yref": "y"
         },
         {
          "align": "left",
          "font": {
           "color": "#000000"
          },
          "showarrow": false,
          "text": "394.0",
          "x": 0.55,
          "xanchor": "left",
          "xref": "x",
          "y": 21,
          "yref": "y"
         },
         {
          "align": "left",
          "font": {
           "color": "#000000"
          },
          "showarrow": false,
          "text": "green",
          "x": 1.55,
          "xanchor": "left",
          "xref": "x",
          "y": 21,
          "yref": "y"
         },
         {
          "align": "left",
          "font": {
           "color": "#000000"
          },
          "showarrow": false,
          "text": "Paillaco",
          "x": 2.55,
          "xanchor": "left",
          "xref": "x",
          "y": 21,
          "yref": "y"
         },
         {
          "align": "left",
          "font": {
           "color": "#000000"
          },
          "showarrow": false,
          "text": "SANTA ROSA GRANDE",
          "x": -0.45,
          "xanchor": "left",
          "xref": "x",
          "y": 22,
          "yref": "y"
         },
         {
          "align": "left",
          "font": {
           "color": "#000000"
          },
          "showarrow": false,
          "text": "319.0",
          "x": 0.55,
          "xanchor": "left",
          "xref": "x",
          "y": 22,
          "yref": "y"
         },
         {
          "align": "left",
          "font": {
           "color": "#000000"
          },
          "showarrow": false,
          "text": "green",
          "x": 1.55,
          "xanchor": "left",
          "xref": "x",
          "y": 22,
          "yref": "y"
         },
         {
          "align": "left",
          "font": {
           "color": "#000000"
          },
          "showarrow": false,
          "text": "Paillaco",
          "x": 2.55,
          "xanchor": "left",
          "xref": "x",
          "y": 22,
          "yref": "y"
         },
         {
          "align": "left",
          "font": {
           "color": "#000000"
          },
          "showarrow": false,
          "text": "LUMACO PAILLACO",
          "x": -0.45,
          "xanchor": "left",
          "xref": "x",
          "y": 23,
          "yref": "y"
         },
         {
          "align": "left",
          "font": {
           "color": "#000000"
          },
          "showarrow": false,
          "text": "710.0",
          "x": 0.55,
          "xanchor": "left",
          "xref": "x",
          "y": 23,
          "yref": "y"
         },
         {
          "align": "left",
          "font": {
           "color": "#000000"
          },
          "showarrow": false,
          "text": "orange",
          "x": 1.55,
          "xanchor": "left",
          "xref": "x",
          "y": 23,
          "yref": "y"
         },
         {
          "align": "left",
          "font": {
           "color": "#000000"
          },
          "showarrow": false,
          "text": "Paillaco",
          "x": 2.55,
          "xanchor": "left",
          "xref": "x",
          "y": 23,
          "yref": "y"
         },
         {
          "align": "left",
          "font": {
           "color": "#000000"
          },
          "showarrow": false,
          "text": "EL MAITEN",
          "x": -0.45,
          "xanchor": "left",
          "xref": "x",
          "y": 24,
          "yref": "y"
         },
         {
          "align": "left",
          "font": {
           "color": "#000000"
          },
          "showarrow": false,
          "text": "155.0",
          "x": 0.55,
          "xanchor": "left",
          "xref": "x",
          "y": 24,
          "yref": "y"
         },
         {
          "align": "left",
          "font": {
           "color": "#000000"
          },
          "showarrow": false,
          "text": "blue",
          "x": 1.55,
          "xanchor": "left",
          "xref": "x",
          "y": 24,
          "yref": "y"
         },
         {
          "align": "left",
          "font": {
           "color": "#000000"
          },
          "showarrow": false,
          "text": "Paillaco",
          "x": 2.55,
          "xanchor": "left",
          "xref": "x",
          "y": 24,
          "yref": "y"
         },
         {
          "align": "left",
          "font": {
           "color": "#000000"
          },
          "showarrow": false,
          "text": "SANTA FILOMENA II",
          "x": -0.45,
          "xanchor": "left",
          "xref": "x",
          "y": 25,
          "yref": "y"
         },
         {
          "align": "left",
          "font": {
           "color": "#000000"
          },
          "showarrow": false,
          "text": "211.0",
          "x": 0.55,
          "xanchor": "left",
          "xref": "x",
          "y": 25,
          "yref": "y"
         },
         {
          "align": "left",
          "font": {
           "color": "#000000"
          },
          "showarrow": false,
          "text": "blue",
          "x": 1.55,
          "xanchor": "left",
          "xref": "x",
          "y": 25,
          "yref": "y"
         },
         {
          "align": "left",
          "font": {
           "color": "#000000"
          },
          "showarrow": false,
          "text": "Paillaco",
          "x": 2.55,
          "xanchor": "left",
          "xref": "x",
          "y": 25,
          "yref": "y"
         },
         {
          "align": "left",
          "font": {
           "color": "#000000"
          },
          "showarrow": false,
          "text": "ANTILHUE",
          "x": -0.45,
          "xanchor": "left",
          "xref": "x",
          "y": 26,
          "yref": "y"
         },
         {
          "align": "left",
          "font": {
           "color": "#000000"
          },
          "showarrow": false,
          "text": "1414.0",
          "x": 0.55,
          "xanchor": "left",
          "xref": "x",
          "y": 26,
          "yref": "y"
         },
         {
          "align": "left",
          "font": {
           "color": "#000000"
          },
          "showarrow": false,
          "text": "purple",
          "x": 1.55,
          "xanchor": "left",
          "xref": "x",
          "y": 26,
          "yref": "y"
         },
         {
          "align": "left",
          "font": {
           "color": "#000000"
          },
          "showarrow": false,
          "text": "Los Lagos",
          "x": 2.55,
          "xanchor": "left",
          "xref": "x",
          "y": 26,
          "yref": "y"
         },
         {
          "align": "left",
          "font": {
           "color": "#000000"
          },
          "showarrow": false,
          "text": "FOLILCO LOS LAGOS",
          "x": -0.45,
          "xanchor": "left",
          "xref": "x",
          "y": 27,
          "yref": "y"
         },
         {
          "align": "left",
          "font": {
           "color": "#000000"
          },
          "showarrow": false,
          "text": "474.0",
          "x": 0.55,
          "xanchor": "left",
          "xref": "x",
          "y": 27,
          "yref": "y"
         },
         {
          "align": "left",
          "font": {
           "color": "#000000"
          },
          "showarrow": false,
          "text": "orange",
          "x": 1.55,
          "xanchor": "left",
          "xref": "x",
          "y": 27,
          "yref": "y"
         },
         {
          "align": "left",
          "font": {
           "color": "#000000"
          },
          "showarrow": false,
          "text": "Los Lagos",
          "x": 2.55,
          "xanchor": "left",
          "xref": "x",
          "y": 27,
          "yref": "y"
         },
         {
          "align": "left",
          "font": {
           "color": "#000000"
          },
          "showarrow": false,
          "text": "QUILQUILCO",
          "x": -0.45,
          "xanchor": "left",
          "xref": "x",
          "y": 28,
          "yref": "y"
         },
         {
          "align": "left",
          "font": {
           "color": "#000000"
          },
          "showarrow": false,
          "text": "149.0",
          "x": 0.55,
          "xanchor": "left",
          "xref": "x",
          "y": 28,
          "yref": "y"
         },
         {
          "align": "left",
          "font": {
           "color": "#000000"
          },
          "showarrow": false,
          "text": "blue",
          "x": 1.55,
          "xanchor": "left",
          "xref": "x",
          "y": 28,
          "yref": "y"
         },
         {
          "align": "left",
          "font": {
           "color": "#000000"
          },
          "showarrow": false,
          "text": "Los Lagos",
          "x": 2.55,
          "xanchor": "left",
          "xref": "x",
          "y": 28,
          "yref": "y"
         },
         {
          "align": "left",
          "font": {
           "color": "#000000"
          },
          "showarrow": false,
          "text": "RIÑIHUE",
          "x": -0.45,
          "xanchor": "left",
          "xref": "x",
          "y": 29,
          "yref": "y"
         },
         {
          "align": "left",
          "font": {
           "color": "#000000"
          },
          "showarrow": false,
          "text": "208.0",
          "x": 0.55,
          "xanchor": "left",
          "xref": "x",
          "y": 29,
          "yref": "y"
         },
         {
          "align": "left",
          "font": {
           "color": "#000000"
          },
          "showarrow": false,
          "text": "blue",
          "x": 1.55,
          "xanchor": "left",
          "xref": "x",
          "y": 29,
          "yref": "y"
         },
         {
          "align": "left",
          "font": {
           "color": "#000000"
          },
          "showarrow": false,
          "text": "Los Lagos",
          "x": 2.55,
          "xanchor": "left",
          "xref": "x",
          "y": 29,
          "yref": "y"
         },
         {
          "align": "left",
          "font": {
           "color": "#000000"
          },
          "showarrow": false,
          "text": "USTARITZ",
          "x": -0.45,
          "xanchor": "left",
          "xref": "x",
          "y": 30,
          "yref": "y"
         },
         {
          "align": "left",
          "font": {
           "color": "#000000"
          },
          "showarrow": false,
          "text": "434.0",
          "x": 0.55,
          "xanchor": "left",
          "xref": "x",
          "y": 30,
          "yref": "y"
         },
         {
          "align": "left",
          "font": {
           "color": "#000000"
          },
          "showarrow": false,
          "text": "orange",
          "x": 1.55,
          "xanchor": "left",
          "xref": "x",
          "y": 30,
          "yref": "y"
         },
         {
          "align": "left",
          "font": {
           "color": "#000000"
          },
          "showarrow": false,
          "text": "Los Lagos",
          "x": 2.55,
          "xanchor": "left",
          "xref": "x",
          "y": 30,
          "yref": "y"
         },
         {
          "align": "left",
          "font": {
           "color": "#000000"
          },
          "showarrow": false,
          "text": "EL SALTO",
          "x": -0.45,
          "xanchor": "left",
          "xref": "x",
          "y": 31,
          "yref": "y"
         },
         {
          "align": "left",
          "font": {
           "color": "#000000"
          },
          "showarrow": false,
          "text": "592.0",
          "x": 0.55,
          "xanchor": "left",
          "xref": "x",
          "y": 31,
          "yref": "y"
         },
         {
          "align": "left",
          "font": {
           "color": "#000000"
          },
          "showarrow": false,
          "text": "orange",
          "x": 1.55,
          "xanchor": "left",
          "xref": "x",
          "y": 31,
          "yref": "y"
         },
         {
          "align": "left",
          "font": {
           "color": "#000000"
          },
          "showarrow": false,
          "text": "Los Lagos",
          "x": 2.55,
          "xanchor": "left",
          "xref": "x",
          "y": 31,
          "yref": "y"
         },
         {
          "align": "left",
          "font": {
           "color": "#000000"
          },
          "showarrow": false,
          "text": "PELLINADA LAS QUINIENTAS",
          "x": -0.45,
          "xanchor": "left",
          "xref": "x",
          "y": 32,
          "yref": "y"
         },
         {
          "align": "left",
          "font": {
           "color": "#000000"
          },
          "showarrow": false,
          "text": "434.0",
          "x": 0.55,
          "xanchor": "left",
          "xref": "x",
          "y": 32,
          "yref": "y"
         },
         {
          "align": "left",
          "font": {
           "color": "#000000"
          },
          "showarrow": false,
          "text": "orange",
          "x": 1.55,
          "xanchor": "left",
          "xref": "x",
          "y": 32,
          "yref": "y"
         },
         {
          "align": "left",
          "font": {
           "color": "#000000"
          },
          "showarrow": false,
          "text": "Los Lagos",
          "x": 2.55,
          "xanchor": "left",
          "xref": "x",
          "y": 32,
          "yref": "y"
         },
         {
          "align": "left",
          "font": {
           "color": "#000000"
          },
          "showarrow": false,
          "text": "PANCUL",
          "x": -0.45,
          "xanchor": "left",
          "xref": "x",
          "y": 33,
          "yref": "y"
         },
         {
          "align": "left",
          "font": {
           "color": "#000000"
          },
          "showarrow": false,
          "text": "729.0",
          "x": 0.55,
          "xanchor": "left",
          "xref": "x",
          "y": 33,
          "yref": "y"
         },
         {
          "align": "left",
          "font": {
           "color": "#000000"
          },
          "showarrow": false,
          "text": "orange",
          "x": 1.55,
          "xanchor": "left",
          "xref": "x",
          "y": 33,
          "yref": "y"
         },
         {
          "align": "left",
          "font": {
           "color": "#000000"
          },
          "showarrow": false,
          "text": "Los Lagos",
          "x": 2.55,
          "xanchor": "left",
          "xref": "x",
          "y": 33,
          "yref": "y"
         },
         {
          "align": "left",
          "font": {
           "color": "#000000"
          },
          "showarrow": false,
          "text": "LOS COLIGÜES",
          "x": -0.45,
          "xanchor": "left",
          "xref": "x",
          "y": 34,
          "yref": "y"
         },
         {
          "align": "left",
          "font": {
           "color": "#000000"
          },
          "showarrow": false,
          "text": "456.0",
          "x": 0.55,
          "xanchor": "left",
          "xref": "x",
          "y": 34,
          "yref": "y"
         },
         {
          "align": "left",
          "font": {
           "color": "#000000"
          },
          "showarrow": false,
          "text": "orange",
          "x": 1.55,
          "xanchor": "left",
          "xref": "x",
          "y": 34,
          "yref": "y"
         },
         {
          "align": "left",
          "font": {
           "color": "#000000"
          },
          "showarrow": false,
          "text": "Los Lagos",
          "x": 2.55,
          "xanchor": "left",
          "xref": "x",
          "y": 34,
          "yref": "y"
         },
         {
          "align": "left",
          "font": {
           "color": "#000000"
          },
          "showarrow": false,
          "text": "COLO COLO",
          "x": -0.45,
          "xanchor": "left",
          "xref": "x",
          "y": 35,
          "yref": "y"
         },
         {
          "align": "left",
          "font": {
           "color": "#000000"
          },
          "showarrow": false,
          "text": "298.0",
          "x": 0.55,
          "xanchor": "left",
          "xref": "x",
          "y": 35,
          "yref": "y"
         },
         {
          "align": "left",
          "font": {
           "color": "#000000"
          },
          "showarrow": false,
          "text": "green",
          "x": 1.55,
          "xanchor": "left",
          "xref": "x",
          "y": 35,
          "yref": "y"
         },
         {
          "align": "left",
          "font": {
           "color": "#000000"
          },
          "showarrow": false,
          "text": "Los Lagos",
          "x": 2.55,
          "xanchor": "left",
          "xref": "x",
          "y": 35,
          "yref": "y"
         },
         {
          "align": "left",
          "font": {
           "color": "#000000"
          },
          "showarrow": false,
          "text": "LAS HUELLLAS",
          "x": -0.45,
          "xanchor": "left",
          "xref": "x",
          "y": 36,
          "yref": "y"
         },
         {
          "align": "left",
          "font": {
           "color": "#000000"
          },
          "showarrow": false,
          "text": "276.0",
          "x": 0.55,
          "xanchor": "left",
          "xref": "x",
          "y": 36,
          "yref": "y"
         },
         {
          "align": "left",
          "font": {
           "color": "#000000"
          },
          "showarrow": false,
          "text": "blue",
          "x": 1.55,
          "xanchor": "left",
          "xref": "x",
          "y": 36,
          "yref": "y"
         },
         {
          "align": "left",
          "font": {
           "color": "#000000"
          },
          "showarrow": false,
          "text": "Los Lagos",
          "x": 2.55,
          "xanchor": "left",
          "xref": "x",
          "y": 36,
          "yref": "y"
         },
         {
          "align": "left",
          "font": {
           "color": "#000000"
          },
          "showarrow": false,
          "text": "San Pedro",
          "x": -0.45,
          "xanchor": "left",
          "xref": "x",
          "y": 37,
          "yref": "y"
         },
         {
          "align": "left",
          "font": {
           "color": "#000000"
          },
          "showarrow": false,
          "text": "375.0",
          "x": 0.55,
          "xanchor": "left",
          "xref": "x",
          "y": 37,
          "yref": "y"
         },
         {
          "align": "left",
          "font": {
           "color": "#000000"
          },
          "showarrow": false,
          "text": "green",
          "x": 1.55,
          "xanchor": "left",
          "xref": "x",
          "y": 37,
          "yref": "y"
         },
         {
          "align": "left",
          "font": {
           "color": "#000000"
          },
          "showarrow": false,
          "text": "Los Lagos",
          "x": 2.55,
          "xanchor": "left",
          "xref": "x",
          "y": 37,
          "yref": "y"
         },
         {
          "align": "left",
          "font": {
           "color": "#000000"
          },
          "showarrow": false,
          "text": "Lipingue",
          "x": -0.45,
          "xanchor": "left",
          "xref": "x",
          "y": 38,
          "yref": "y"
         },
         {
          "align": "left",
          "font": {
           "color": "#000000"
          },
          "showarrow": false,
          "text": "434.0",
          "x": 0.55,
          "xanchor": "left",
          "xref": "x",
          "y": 38,
          "yref": "y"
         },
         {
          "align": "left",
          "font": {
           "color": "#000000"
          },
          "showarrow": false,
          "text": "orange",
          "x": 1.55,
          "xanchor": "left",
          "xref": "x",
          "y": 38,
          "yref": "y"
         },
         {
          "align": "left",
          "font": {
           "color": "#000000"
          },
          "showarrow": false,
          "text": "Los Lagos",
          "x": 2.55,
          "xanchor": "left",
          "xref": "x",
          "y": 38,
          "yref": "y"
         },
         {
          "align": "left",
          "font": {
           "color": "#000000"
          },
          "showarrow": false,
          "text": "El Trebol",
          "x": -0.45,
          "xanchor": "left",
          "xref": "x",
          "y": 39,
          "yref": "y"
         },
         {
          "align": "left",
          "font": {
           "color": "#000000"
          },
          "showarrow": false,
          "text": "208.0",
          "x": 0.55,
          "xanchor": "left",
          "xref": "x",
          "y": 39,
          "yref": "y"
         },
         {
          "align": "left",
          "font": {
           "color": "#000000"
          },
          "showarrow": false,
          "text": "blue",
          "x": 1.55,
          "xanchor": "left",
          "xref": "x",
          "y": 39,
          "yref": "y"
         },
         {
          "align": "left",
          "font": {
           "color": "#000000"
          },
          "showarrow": false,
          "text": "Los Lagos",
          "x": 2.55,
          "xanchor": "left",
          "xref": "x",
          "y": 39,
          "yref": "y"
         },
         {
          "align": "left",
          "font": {
           "color": "#000000"
          },
          "showarrow": false,
          "text": "Collico Sur",
          "x": -0.45,
          "xanchor": "left",
          "xref": "x",
          "y": 40,
          "yref": "y"
         },
         {
          "align": "left",
          "font": {
           "color": "#000000"
          },
          "showarrow": false,
          "text": "236.0",
          "x": 0.55,
          "xanchor": "left",
          "xref": "x",
          "y": 40,
          "yref": "y"
         },
         {
          "align": "left",
          "font": {
           "color": "#000000"
          },
          "showarrow": false,
          "text": "blue",
          "x": 1.55,
          "xanchor": "left",
          "xref": "x",
          "y": 40,
          "yref": "y"
         },
         {
          "align": "left",
          "font": {
           "color": "#000000"
          },
          "showarrow": false,
          "text": "Los Lagos",
          "x": 2.55,
          "xanchor": "left",
          "xref": "x",
          "y": 40,
          "yref": "y"
         },
         {
          "align": "left",
          "font": {
           "color": "#000000"
          },
          "showarrow": false,
          "text": "Mi Tierra",
          "x": -0.45,
          "xanchor": "left",
          "xref": "x",
          "y": 41,
          "yref": "y"
         },
         {
          "align": "left",
          "font": {
           "color": "#000000"
          },
          "showarrow": false,
          "text": "71.0",
          "x": 0.55,
          "xanchor": "left",
          "xref": "x",
          "y": 41,
          "yref": "y"
         },
         {
          "align": "left",
          "font": {
           "color": "#000000"
          },
          "showarrow": false,
          "text": "blue",
          "x": 1.55,
          "xanchor": "left",
          "xref": "x",
          "y": 41,
          "yref": "y"
         },
         {
          "align": "left",
          "font": {
           "color": "#000000"
          },
          "showarrow": false,
          "text": "Los Lagos",
          "x": 2.55,
          "xanchor": "left",
          "xref": "x",
          "y": 41,
          "yref": "y"
         },
         {
          "align": "left",
          "font": {
           "color": "#000000"
          },
          "showarrow": false,
          "text": "Puñaco",
          "x": -0.45,
          "xanchor": "left",
          "xref": "x",
          "y": 42,
          "yref": "y"
         },
         {
          "align": "left",
          "font": {
           "color": "#000000"
          },
          "showarrow": false,
          "text": "81.0",
          "x": 0.55,
          "xanchor": "left",
          "xref": "x",
          "y": 42,
          "yref": "y"
         },
         {
          "align": "left",
          "font": {
           "color": "#000000"
          },
          "showarrow": false,
          "text": "blue",
          "x": 1.55,
          "xanchor": "left",
          "xref": "x",
          "y": 42,
          "yref": "y"
         },
         {
          "align": "left",
          "font": {
           "color": "#000000"
          },
          "showarrow": false,
          "text": "Los Lagos",
          "x": 2.55,
          "xanchor": "left",
          "xref": "x",
          "y": 42,
          "yref": "y"
         },
         {
          "align": "left",
          "font": {
           "color": "#000000"
          },
          "showarrow": false,
          "text": "Purey",
          "x": -0.45,
          "xanchor": "left",
          "xref": "x",
          "y": 43,
          "yref": "y"
         },
         {
          "align": "left",
          "font": {
           "color": "#000000"
          },
          "showarrow": false,
          "text": "78.0",
          "x": 0.55,
          "xanchor": "left",
          "xref": "x",
          "y": 43,
          "yref": "y"
         },
         {
          "align": "left",
          "font": {
           "color": "#000000"
          },
          "showarrow": false,
          "text": "blue",
          "x": 1.55,
          "xanchor": "left",
          "xref": "x",
          "y": 43,
          "yref": "y"
         },
         {
          "align": "left",
          "font": {
           "color": "#000000"
          },
          "showarrow": false,
          "text": "Los Lagos",
          "x": 2.55,
          "xanchor": "left",
          "xref": "x",
          "y": 43,
          "yref": "y"
         },
         {
          "align": "left",
          "font": {
           "color": "#000000"
          },
          "showarrow": false,
          "text": "AMARGO-SAN CARLOS",
          "x": -0.45,
          "xanchor": "left",
          "xref": "x",
          "y": 44,
          "yref": "y"
         },
         {
          "align": "left",
          "font": {
           "color": "#000000"
          },
          "showarrow": false,
          "text": "2412.0",
          "x": 0.55,
          "xanchor": "left",
          "xref": "x",
          "y": 44,
          "yref": "y"
         },
         {
          "align": "left",
          "font": {
           "color": "#000000"
          },
          "showarrow": false,
          "text": "purple",
          "x": 1.55,
          "xanchor": "left",
          "xref": "x",
          "y": 44,
          "yref": "y"
         },
         {
          "align": "left",
          "font": {
           "color": "#000000"
          },
          "showarrow": false,
          "text": "Corral",
          "x": 2.55,
          "xanchor": "left",
          "xref": "x",
          "y": 44,
          "yref": "y"
         },
         {
          "align": "left",
          "font": {
           "color": "#000000"
          },
          "showarrow": false,
          "text": "ISLA DEL REY",
          "x": -0.45,
          "xanchor": "left",
          "xref": "x",
          "y": 45,
          "yref": "y"
         },
         {
          "align": "left",
          "font": {
           "color": "#000000"
          },
          "showarrow": false,
          "text": "620.0",
          "x": 0.55,
          "xanchor": "left",
          "xref": "x",
          "y": 45,
          "yref": "y"
         },
         {
          "align": "left",
          "font": {
           "color": "#000000"
          },
          "showarrow": false,
          "text": "orange",
          "x": 1.55,
          "xanchor": "left",
          "xref": "x",
          "y": 45,
          "yref": "y"
         },
         {
          "align": "left",
          "font": {
           "color": "#000000"
          },
          "showarrow": false,
          "text": "Corral",
          "x": 2.55,
          "xanchor": "left",
          "xref": "x",
          "y": 45,
          "yref": "y"
         },
         {
          "align": "left",
          "font": {
           "color": "#000000"
          },
          "showarrow": false,
          "text": "ISLA MANCERA",
          "x": -0.45,
          "xanchor": "left",
          "xref": "x",
          "y": 46,
          "yref": "y"
         },
         {
          "align": "left",
          "font": {
           "color": "#000000"
          },
          "showarrow": false,
          "text": "267.0",
          "x": 0.55,
          "xanchor": "left",
          "xref": "x",
          "y": 46,
          "yref": "y"
         },
         {
          "align": "left",
          "font": {
           "color": "#000000"
          },
          "showarrow": false,
          "text": "blue",
          "x": 1.55,
          "xanchor": "left",
          "xref": "x",
          "y": 46,
          "yref": "y"
         },
         {
          "align": "left",
          "font": {
           "color": "#000000"
          },
          "showarrow": false,
          "text": "Corral",
          "x": 2.55,
          "xanchor": "left",
          "xref": "x",
          "y": 46,
          "yref": "y"
         },
         {
          "align": "left",
          "font": {
           "color": "#000000"
          },
          "showarrow": false,
          "text": "LA AGUADA",
          "x": -0.45,
          "xanchor": "left",
          "xref": "x",
          "y": 47,
          "yref": "y"
         },
         {
          "align": "left",
          "font": {
           "color": "#000000"
          },
          "showarrow": false,
          "text": "626.0",
          "x": 0.55,
          "xanchor": "left",
          "xref": "x",
          "y": 47,
          "yref": "y"
         },
         {
          "align": "left",
          "font": {
           "color": "#000000"
          },
          "showarrow": false,
          "text": "orange",
          "x": 1.55,
          "xanchor": "left",
          "xref": "x",
          "y": 47,
          "yref": "y"
         },
         {
          "align": "left",
          "font": {
           "color": "#000000"
          },
          "showarrow": false,
          "text": "Corral",
          "x": 2.55,
          "xanchor": "left",
          "xref": "x",
          "y": 47,
          "yref": "y"
         },
         {
          "align": "left",
          "font": {
           "color": "#000000"
          },
          "showarrow": false,
          "text": "CHAIHUIN",
          "x": -0.45,
          "xanchor": "left",
          "xref": "x",
          "y": 48,
          "yref": "y"
         },
         {
          "align": "left",
          "font": {
           "color": "#000000"
          },
          "showarrow": false,
          "text": "744.0",
          "x": 0.55,
          "xanchor": "left",
          "xref": "x",
          "y": 48,
          "yref": "y"
         },
         {
          "align": "left",
          "font": {
           "color": "#000000"
          },
          "showarrow": false,
          "text": "red",
          "x": 1.55,
          "xanchor": "left",
          "xref": "x",
          "y": 48,
          "yref": "y"
         },
         {
          "align": "left",
          "font": {
           "color": "#000000"
          },
          "showarrow": false,
          "text": "Corral",
          "x": 2.55,
          "xanchor": "left",
          "xref": "x",
          "y": 48,
          "yref": "y"
         },
         {
          "align": "left",
          "font": {
           "color": "#000000"
          },
          "showarrow": false,
          "text": "CERROS DE CORRAL",
          "x": -0.45,
          "xanchor": "left",
          "xref": "x",
          "y": 49,
          "yref": "y"
         },
         {
          "align": "left",
          "font": {
           "color": "#000000"
          },
          "showarrow": false,
          "text": "484.0",
          "x": 0.55,
          "xanchor": "left",
          "xref": "x",
          "y": 49,
          "yref": "y"
         },
         {
          "align": "left",
          "font": {
           "color": "#000000"
          },
          "showarrow": false,
          "text": "orange",
          "x": 1.55,
          "xanchor": "left",
          "xref": "x",
          "y": 49,
          "yref": "y"
         },
         {
          "align": "left",
          "font": {
           "color": "#000000"
          },
          "showarrow": false,
          "text": "Corral",
          "x": 2.55,
          "xanchor": "left",
          "xref": "x",
          "y": 49,
          "yref": "y"
         }
        ],
        "autosize": true,
        "margin": {
         "b": 0,
         "l": 0,
         "r": 0,
         "t": 0
        },
        "template": {
         "data": {
          "bar": [
           {
            "error_x": {
             "color": "#2a3f5f"
            },
            "error_y": {
             "color": "#2a3f5f"
            },
            "marker": {
             "line": {
              "color": "#E5ECF6",
              "width": 0.5
             },
             "pattern": {
              "fillmode": "overlay",
              "size": 10,
              "solidity": 0.2
             }
            },
            "type": "bar"
           }
          ],
          "barpolar": [
           {
            "marker": {
             "line": {
              "color": "#E5ECF6",
              "width": 0.5
             },
             "pattern": {
              "fillmode": "overlay",
              "size": 10,
              "solidity": 0.2
             }
            },
            "type": "barpolar"
           }
          ],
          "carpet": [
           {
            "aaxis": {
             "endlinecolor": "#2a3f5f",
             "gridcolor": "white",
             "linecolor": "white",
             "minorgridcolor": "white",
             "startlinecolor": "#2a3f5f"
            },
            "baxis": {
             "endlinecolor": "#2a3f5f",
             "gridcolor": "white",
             "linecolor": "white",
             "minorgridcolor": "white",
             "startlinecolor": "#2a3f5f"
            },
            "type": "carpet"
           }
          ],
          "choropleth": [
           {
            "colorbar": {
             "outlinewidth": 0,
             "ticks": ""
            },
            "type": "choropleth"
           }
          ],
          "contour": [
           {
            "colorbar": {
             "outlinewidth": 0,
             "ticks": ""
            },
            "colorscale": [
             [
              0,
              "#0d0887"
             ],
             [
              0.1111111111111111,
              "#46039f"
             ],
             [
              0.2222222222222222,
              "#7201a8"
             ],
             [
              0.3333333333333333,
              "#9c179e"
             ],
             [
              0.4444444444444444,
              "#bd3786"
             ],
             [
              0.5555555555555556,
              "#d8576b"
             ],
             [
              0.6666666666666666,
              "#ed7953"
             ],
             [
              0.7777777777777778,
              "#fb9f3a"
             ],
             [
              0.8888888888888888,
              "#fdca26"
             ],
             [
              1,
              "#f0f921"
             ]
            ],
            "type": "contour"
           }
          ],
          "contourcarpet": [
           {
            "colorbar": {
             "outlinewidth": 0,
             "ticks": ""
            },
            "type": "contourcarpet"
           }
          ],
          "heatmap": [
           {
            "colorbar": {
             "outlinewidth": 0,
             "ticks": ""
            },
            "colorscale": [
             [
              0,
              "#0d0887"
             ],
             [
              0.1111111111111111,
              "#46039f"
             ],
             [
              0.2222222222222222,
              "#7201a8"
             ],
             [
              0.3333333333333333,
              "#9c179e"
             ],
             [
              0.4444444444444444,
              "#bd3786"
             ],
             [
              0.5555555555555556,
              "#d8576b"
             ],
             [
              0.6666666666666666,
              "#ed7953"
             ],
             [
              0.7777777777777778,
              "#fb9f3a"
             ],
             [
              0.8888888888888888,
              "#fdca26"
             ],
             [
              1,
              "#f0f921"
             ]
            ],
            "type": "heatmap"
           }
          ],
          "heatmapgl": [
           {
            "colorbar": {
             "outlinewidth": 0,
             "ticks": ""
            },
            "colorscale": [
             [
              0,
              "#0d0887"
             ],
             [
              0.1111111111111111,
              "#46039f"
             ],
             [
              0.2222222222222222,
              "#7201a8"
             ],
             [
              0.3333333333333333,
              "#9c179e"
             ],
             [
              0.4444444444444444,
              "#bd3786"
             ],
             [
              0.5555555555555556,
              "#d8576b"
             ],
             [
              0.6666666666666666,
              "#ed7953"
             ],
             [
              0.7777777777777778,
              "#fb9f3a"
             ],
             [
              0.8888888888888888,
              "#fdca26"
             ],
             [
              1,
              "#f0f921"
             ]
            ],
            "type": "heatmapgl"
           }
          ],
          "histogram": [
           {
            "marker": {
             "pattern": {
              "fillmode": "overlay",
              "size": 10,
              "solidity": 0.2
             }
            },
            "type": "histogram"
           }
          ],
          "histogram2d": [
           {
            "colorbar": {
             "outlinewidth": 0,
             "ticks": ""
            },
            "colorscale": [
             [
              0,
              "#0d0887"
             ],
             [
              0.1111111111111111,
              "#46039f"
             ],
             [
              0.2222222222222222,
              "#7201a8"
             ],
             [
              0.3333333333333333,
              "#9c179e"
             ],
             [
              0.4444444444444444,
              "#bd3786"
             ],
             [
              0.5555555555555556,
              "#d8576b"
             ],
             [
              0.6666666666666666,
              "#ed7953"
             ],
             [
              0.7777777777777778,
              "#fb9f3a"
             ],
             [
              0.8888888888888888,
              "#fdca26"
             ],
             [
              1,
              "#f0f921"
             ]
            ],
            "type": "histogram2d"
           }
          ],
          "histogram2dcontour": [
           {
            "colorbar": {
             "outlinewidth": 0,
             "ticks": ""
            },
            "colorscale": [
             [
              0,
              "#0d0887"
             ],
             [
              0.1111111111111111,
              "#46039f"
             ],
             [
              0.2222222222222222,
              "#7201a8"
             ],
             [
              0.3333333333333333,
              "#9c179e"
             ],
             [
              0.4444444444444444,
              "#bd3786"
             ],
             [
              0.5555555555555556,
              "#d8576b"
             ],
             [
              0.6666666666666666,
              "#ed7953"
             ],
             [
              0.7777777777777778,
              "#fb9f3a"
             ],
             [
              0.8888888888888888,
              "#fdca26"
             ],
             [
              1,
              "#f0f921"
             ]
            ],
            "type": "histogram2dcontour"
           }
          ],
          "mesh3d": [
           {
            "colorbar": {
             "outlinewidth": 0,
             "ticks": ""
            },
            "type": "mesh3d"
           }
          ],
          "parcoords": [
           {
            "line": {
             "colorbar": {
              "outlinewidth": 0,
              "ticks": ""
             }
            },
            "type": "parcoords"
           }
          ],
          "pie": [
           {
            "automargin": true,
            "type": "pie"
           }
          ],
          "scatter": [
           {
            "fillpattern": {
             "fillmode": "overlay",
             "size": 10,
             "solidity": 0.2
            },
            "type": "scatter"
           }
          ],
          "scatter3d": [
           {
            "line": {
             "colorbar": {
              "outlinewidth": 0,
              "ticks": ""
             }
            },
            "marker": {
             "colorbar": {
              "outlinewidth": 0,
              "ticks": ""
             }
            },
            "type": "scatter3d"
           }
          ],
          "scattercarpet": [
           {
            "marker": {
             "colorbar": {
              "outlinewidth": 0,
              "ticks": ""
             }
            },
            "type": "scattercarpet"
           }
          ],
          "scattergeo": [
           {
            "marker": {
             "colorbar": {
              "outlinewidth": 0,
              "ticks": ""
             }
            },
            "type": "scattergeo"
           }
          ],
          "scattergl": [
           {
            "marker": {
             "colorbar": {
              "outlinewidth": 0,
              "ticks": ""
             }
            },
            "type": "scattergl"
           }
          ],
          "scattermapbox": [
           {
            "marker": {
             "colorbar": {
              "outlinewidth": 0,
              "ticks": ""
             }
            },
            "type": "scattermapbox"
           }
          ],
          "scatterpolar": [
           {
            "marker": {
             "colorbar": {
              "outlinewidth": 0,
              "ticks": ""
             }
            },
            "type": "scatterpolar"
           }
          ],
          "scatterpolargl": [
           {
            "marker": {
             "colorbar": {
              "outlinewidth": 0,
              "ticks": ""
             }
            },
            "type": "scatterpolargl"
           }
          ],
          "scatterternary": [
           {
            "marker": {
             "colorbar": {
              "outlinewidth": 0,
              "ticks": ""
             }
            },
            "type": "scatterternary"
           }
          ],
          "surface": [
           {
            "colorbar": {
             "outlinewidth": 0,
             "ticks": ""
            },
            "colorscale": [
             [
              0,
              "#0d0887"
             ],
             [
              0.1111111111111111,
              "#46039f"
             ],
             [
              0.2222222222222222,
              "#7201a8"
             ],
             [
              0.3333333333333333,
              "#9c179e"
             ],
             [
              0.4444444444444444,
              "#bd3786"
             ],
             [
              0.5555555555555556,
              "#d8576b"
             ],
             [
              0.6666666666666666,
              "#ed7953"
             ],
             [
              0.7777777777777778,
              "#fb9f3a"
             ],
             [
              0.8888888888888888,
              "#fdca26"
             ],
             [
              1,
              "#f0f921"
             ]
            ],
            "type": "surface"
           }
          ],
          "table": [
           {
            "cells": {
             "fill": {
              "color": "#EBF0F8"
             },
             "line": {
              "color": "white"
             }
            },
            "header": {
             "fill": {
              "color": "#C8D4E3"
             },
             "line": {
              "color": "white"
             }
            },
            "type": "table"
           }
          ]
         },
         "layout": {
          "annotationdefaults": {
           "arrowcolor": "#2a3f5f",
           "arrowhead": 0,
           "arrowwidth": 1
          },
          "autotypenumbers": "strict",
          "coloraxis": {
           "colorbar": {
            "outlinewidth": 0,
            "ticks": ""
           }
          },
          "colorscale": {
           "diverging": [
            [
             0,
             "#8e0152"
            ],
            [
             0.1,
             "#c51b7d"
            ],
            [
             0.2,
             "#de77ae"
            ],
            [
             0.3,
             "#f1b6da"
            ],
            [
             0.4,
             "#fde0ef"
            ],
            [
             0.5,
             "#f7f7f7"
            ],
            [
             0.6,
             "#e6f5d0"
            ],
            [
             0.7,
             "#b8e186"
            ],
            [
             0.8,
             "#7fbc41"
            ],
            [
             0.9,
             "#4d9221"
            ],
            [
             1,
             "#276419"
            ]
           ],
           "sequential": [
            [
             0,
             "#0d0887"
            ],
            [
             0.1111111111111111,
             "#46039f"
            ],
            [
             0.2222222222222222,
             "#7201a8"
            ],
            [
             0.3333333333333333,
             "#9c179e"
            ],
            [
             0.4444444444444444,
             "#bd3786"
            ],
            [
             0.5555555555555556,
             "#d8576b"
            ],
            [
             0.6666666666666666,
             "#ed7953"
            ],
            [
             0.7777777777777778,
             "#fb9f3a"
            ],
            [
             0.8888888888888888,
             "#fdca26"
            ],
            [
             1,
             "#f0f921"
            ]
           ],
           "sequentialminus": [
            [
             0,
             "#0d0887"
            ],
            [
             0.1111111111111111,
             "#46039f"
            ],
            [
             0.2222222222222222,
             "#7201a8"
            ],
            [
             0.3333333333333333,
             "#9c179e"
            ],
            [
             0.4444444444444444,
             "#bd3786"
            ],
            [
             0.5555555555555556,
             "#d8576b"
            ],
            [
             0.6666666666666666,
             "#ed7953"
            ],
            [
             0.7777777777777778,
             "#fb9f3a"
            ],
            [
             0.8888888888888888,
             "#fdca26"
            ],
            [
             1,
             "#f0f921"
            ]
           ]
          },
          "colorway": [
           "#636efa",
           "#EF553B",
           "#00cc96",
           "#ab63fa",
           "#FFA15A",
           "#19d3f3",
           "#FF6692",
           "#B6E880",
           "#FF97FF",
           "#FECB52"
          ],
          "font": {
           "color": "#2a3f5f"
          },
          "geo": {
           "bgcolor": "white",
           "lakecolor": "white",
           "landcolor": "#E5ECF6",
           "showlakes": true,
           "showland": true,
           "subunitcolor": "white"
          },
          "hoverlabel": {
           "align": "left"
          },
          "hovermode": "closest",
          "mapbox": {
           "style": "light"
          },
          "paper_bgcolor": "white",
          "plot_bgcolor": "#E5ECF6",
          "polar": {
           "angularaxis": {
            "gridcolor": "white",
            "linecolor": "white",
            "ticks": ""
           },
           "bgcolor": "#E5ECF6",
           "radialaxis": {
            "gridcolor": "white",
            "linecolor": "white",
            "ticks": ""
           }
          },
          "scene": {
           "xaxis": {
            "backgroundcolor": "#E5ECF6",
            "gridcolor": "white",
            "gridwidth": 2,
            "linecolor": "white",
            "showbackground": true,
            "ticks": "",
            "zerolinecolor": "white"
           },
           "yaxis": {
            "backgroundcolor": "#E5ECF6",
            "gridcolor": "white",
            "gridwidth": 2,
            "linecolor": "white",
            "showbackground": true,
            "ticks": "",
            "zerolinecolor": "white"
           },
           "zaxis": {
            "backgroundcolor": "#E5ECF6",
            "gridcolor": "white",
            "gridwidth": 2,
            "linecolor": "white",
            "showbackground": true,
            "ticks": "",
            "zerolinecolor": "white"
           }
          },
          "shapedefaults": {
           "line": {
            "color": "#2a3f5f"
           }
          },
          "ternary": {
           "aaxis": {
            "gridcolor": "white",
            "linecolor": "white",
            "ticks": ""
           },
           "baxis": {
            "gridcolor": "white",
            "linecolor": "white",
            "ticks": ""
           },
           "bgcolor": "#E5ECF6",
           "caxis": {
            "gridcolor": "white",
            "linecolor": "white",
            "ticks": ""
           }
          },
          "title": {
           "x": 0.05
          },
          "xaxis": {
           "automargin": true,
           "gridcolor": "white",
           "linecolor": "white",
           "ticks": "",
           "title": {
            "standoff": 15
           },
           "zerolinecolor": "white",
           "zerolinewidth": 2
          },
          "yaxis": {
           "automargin": true,
           "gridcolor": "white",
           "linecolor": "white",
           "ticks": "",
           "title": {
            "standoff": 15
           },
           "zerolinecolor": "white",
           "zerolinewidth": 2
          }
         }
        },
        "xaxis": {
         "autorange": true,
         "dtick": 1,
         "gridwidth": 2,
         "range": [
          -0.5,
          3.5
         ],
         "showticklabels": false,
         "tick0": -0.5,
         "ticks": "",
         "zeroline": false
        },
        "yaxis": {
         "autorange": true,
         "dtick": 1,
         "gridwidth": 2,
         "range": [
          49.5,
          -0.5
         ],
         "showticklabels": false,
         "tick0": 0.5,
         "ticks": "",
         "zeroline": false
        }
       }
      },
      "image/png": "[encoded data removed]",
      "text/html": [
       "<div>                            <div id=\"78cbc733-d030-4df7-8ba1-45525d7e831b\" class=\"plotly-graph-div\" style=\"height:1550px; width:100%;\"></div>            <script type=\"text/javascript\">                require([\"plotly\"], function(Plotly) {                    window.PLOTLYENV=window.PLOTLYENV || {};                                    if (document.getElementById(\"78cbc733-d030-4df7-8ba1-45525d7e831b\")) {                    Plotly.newPlot(                        \"78cbc733-d030-4df7-8ba1-45525d7e831b\",                        [{\"colorscale\":[[0,\"#00083e\"],[0.5,\"#ededee\"],[1,\"#ffffff\"]],\"hoverinfo\":\"none\",\"opacity\":0.75,\"showscale\":false,\"z\":[[0,0,0,0],[0.5,0.5,0.5,0.5],[1,1,1,1],[0.5,0.5,0.5,0.5],[1,1,1,1],[0.5,0.5,0.5,0.5],[1,1,1,1],[0.5,0.5,0.5,0.5],[1,1,1,1],[0.5,0.5,0.5,0.5],[1,1,1,1],[0.5,0.5,0.5,0.5],[1,1,1,1],[0.5,0.5,0.5,0.5],[1,1,1,1],[0.5,0.5,0.5,0.5],[1,1,1,1],[0.5,0.5,0.5,0.5],[1,1,1,1],[0.5,0.5,0.5,0.5],[1,1,1,1],[0.5,0.5,0.5,0.5],[1,1,1,1],[0.5,0.5,0.5,0.5],[1,1,1,1],[0.5,0.5,0.5,0.5],[1,1,1,1],[0.5,0.5,0.5,0.5],[1,1,1,1],[0.5,0.5,0.5,0.5],[1,1,1,1],[0.5,0.5,0.5,0.5],[1,1,1,1],[0.5,0.5,0.5,0.5],[1,1,1,1],[0.5,0.5,0.5,0.5],[1,1,1,1],[0.5,0.5,0.5,0.5],[1,1,1,1],[0.5,0.5,0.5,0.5],[1,1,1,1],[0.5,0.5,0.5,0.5],[1,1,1,1],[0.5,0.5,0.5,0.5],[1,1,1,1],[0.5,0.5,0.5,0.5],[1,1,1,1],[0.5,0.5,0.5,0.5],[1,1,1,1],[0.5,0.5,0.5,0.5]],\"type\":\"heatmap\"}],                        {\"annotations\":[{\"align\":\"left\",\"font\":{\"color\":\"#ffffff\"},\"showarrow\":false,\"text\":\"<b>Nombre Ubicaci\\u00f3n</b>\",\"x\":-0.45,\"xanchor\":\"left\",\"xref\":\"x\",\"y\":0,\"yref\":\"y\"},{\"align\":\"left\",\"font\":{\"color\":\"#ffffff\"},\"showarrow\":false,\"text\":\"<b>Beneficiarios</b>\",\"x\":0.55,\"xanchor\":\"left\",\"xref\":\"x\",\"y\":0,\"yref\":\"y\"},{\"align\":\"left\",\"font\":{\"color\":\"#ffffff\"},\"showarrow\":false,\"text\":\"<b>Color</b>\",\"x\":1.55,\"xanchor\":\"left\",\"xref\":\"x\",\"y\":0,\"yref\":\"y\"},{\"align\":\"left\",\"font\":{\"color\":\"#ffffff\"},\"showarrow\":false,\"text\":\"<b>Comunas</b>\",\"x\":2.55,\"xanchor\":\"left\",\"xref\":\"x\",\"y\":0,\"yref\":\"y\"},{\"align\":\"left\",\"font\":{\"color\":\"#000000\"},\"showarrow\":false,\"text\":\"PISHUINCO\",\"x\":-0.45,\"xanchor\":\"left\",\"xref\":\"x\",\"y\":1,\"yref\":\"y\"},{\"align\":\"left\",\"font\":{\"color\":\"#000000\"},\"showarrow\":false,\"text\":\"322.0\",\"x\":0.55,\"xanchor\":\"left\",\"xref\":\"x\",\"y\":1,\"yref\":\"y\"},{\"align\":\"left\",\"font\":{\"color\":\"#000000\"},\"showarrow\":false,\"text\":\"green\",\"x\":1.55,\"xanchor\":\"left\",\"xref\":\"x\",\"y\":1,\"yref\":\"y\"},{\"align\":\"left\",\"font\":{\"color\":\"#000000\"},\"showarrow\":false,\"text\":\"Valdivia\",\"x\":2.55,\"xanchor\":\"left\",\"xref\":\"x\",\"y\":1,\"yref\":\"y\"},{\"align\":\"left\",\"font\":{\"color\":\"#000000\"},\"showarrow\":false,\"text\":\"CURI\\u00d1ANCO\",\"x\":-0.45,\"xanchor\":\"left\",\"xref\":\"x\",\"y\":2,\"yref\":\"y\"},{\"align\":\"left\",\"font\":{\"color\":\"#000000\"},\"showarrow\":false,\"text\":\"2294.0\",\"x\":0.55,\"xanchor\":\"left\",\"xref\":\"x\",\"y\":2,\"yref\":\"y\"},{\"align\":\"left\",\"font\":{\"color\":\"#000000\"},\"showarrow\":false,\"text\":\"purple\",\"x\":1.55,\"xanchor\":\"left\",\"xref\":\"x\",\"y\":2,\"yref\":\"y\"},{\"align\":\"left\",\"font\":{\"color\":\"#000000\"},\"showarrow\":false,\"text\":\"Valdivia\",\"x\":2.55,\"xanchor\":\"left\",\"xref\":\"x\",\"y\":2,\"yref\":\"y\"},{\"align\":\"left\",\"font\":{\"color\":\"#000000\"},\"showarrow\":false,\"text\":\"HUELLELHUE\",\"x\":-0.45,\"xanchor\":\"left\",\"xref\":\"x\",\"y\":3,\"yref\":\"y\"},{\"align\":\"left\",\"font\":{\"color\":\"#000000\"},\"showarrow\":false,\"text\":\"310.0\",\"x\":0.55,\"xanchor\":\"left\",\"xref\":\"x\",\"y\":3,\"yref\":\"y\"},{\"align\":\"left\",\"font\":{\"color\":\"#000000\"},\"showarrow\":false,\"text\":\"green\",\"x\":1.55,\"xanchor\":\"left\",\"xref\":\"x\",\"y\":3,\"yref\":\"y\"},{\"align\":\"left\",\"font\":{\"color\":\"#000000\"},\"showarrow\":false,\"text\":\"Valdivia\",\"x\":2.55,\"xanchor\":\"left\",\"xref\":\"x\",\"y\":3,\"yref\":\"y\"},{\"align\":\"left\",\"font\":{\"color\":\"#000000\"},\"showarrow\":false,\"text\":\"LAS GAVIOTAS\",\"x\":-0.45,\"xanchor\":\"left\",\"xref\":\"x\",\"y\":4,\"yref\":\"y\"},{\"align\":\"left\",\"font\":{\"color\":\"#000000\"},\"showarrow\":false,\"text\":\"1048.0\",\"x\":0.55,\"xanchor\":\"left\",\"xref\":\"x\",\"y\":4,\"yref\":\"y\"},{\"align\":\"left\",\"font\":{\"color\":\"#000000\"},\"showarrow\":false,\"text\":\"red\",\"x\":1.55,\"xanchor\":\"left\",\"xref\":\"x\",\"y\":4,\"yref\":\"y\"},{\"align\":\"left\",\"font\":{\"color\":\"#000000\"},\"showarrow\":false,\"text\":\"Valdivia\",\"x\":2.55,\"xanchor\":\"left\",\"xref\":\"x\",\"y\":4,\"yref\":\"y\"},{\"align\":\"left\",\"font\":{\"color\":\"#000000\"},\"showarrow\":false,\"text\":\"NIEBLA-LOS MOLINOS\",\"x\":-0.45,\"xanchor\":\"left\",\"xref\":\"x\",\"y\":5,\"yref\":\"y\"},{\"align\":\"left\",\"font\":{\"color\":\"#000000\"},\"showarrow\":false,\"text\":\"4021.0\",\"x\":0.55,\"xanchor\":\"left\",\"xref\":\"x\",\"y\":5,\"yref\":\"y\"},{\"align\":\"left\",\"font\":{\"color\":\"#000000\"},\"showarrow\":false,\"text\":\"purple\",\"x\":1.55,\"xanchor\":\"left\",\"xref\":\"x\",\"y\":5,\"yref\":\"y\"},{\"align\":\"left\",\"font\":{\"color\":\"#000000\"},\"showarrow\":false,\"text\":\"Valdivia\",\"x\":2.55,\"xanchor\":\"left\",\"xref\":\"x\",\"y\":5,\"yref\":\"y\"},{\"align\":\"left\",\"font\":{\"color\":\"#000000\"},\"showarrow\":false,\"text\":\"PUNUCAPA\",\"x\":-0.45,\"xanchor\":\"left\",\"xref\":\"x\",\"y\":6,\"yref\":\"y\"},{\"align\":\"left\",\"font\":{\"color\":\"#000000\"},\"showarrow\":false,\"text\":\"459.0\",\"x\":0.55,\"xanchor\":\"left\",\"xref\":\"x\",\"y\":6,\"yref\":\"y\"},{\"align\":\"left\",\"font\":{\"color\":\"#000000\"},\"showarrow\":false,\"text\":\"orange\",\"x\":1.55,\"xanchor\":\"left\",\"xref\":\"x\",\"y\":6,\"yref\":\"y\"},{\"align\":\"left\",\"font\":{\"color\":\"#000000\"},\"showarrow\":false,\"text\":\"Valdivia\",\"x\":2.55,\"xanchor\":\"left\",\"xref\":\"x\",\"y\":6,\"yref\":\"y\"},{\"align\":\"left\",\"font\":{\"color\":\"#000000\"},\"showarrow\":false,\"text\":\"SAN IGNACIO-PLAYA ROSADA\",\"x\":-0.45,\"xanchor\":\"left\",\"xref\":\"x\",\"y\":7,\"yref\":\"y\"},{\"align\":\"left\",\"font\":{\"color\":\"#000000\"},\"showarrow\":false,\"text\":\"936.0\",\"x\":0.55,\"xanchor\":\"left\",\"xref\":\"x\",\"y\":7,\"yref\":\"y\"},{\"align\":\"left\",\"font\":{\"color\":\"#000000\"},\"showarrow\":false,\"text\":\"red\",\"x\":1.55,\"xanchor\":\"left\",\"xref\":\"x\",\"y\":7,\"yref\":\"y\"},{\"align\":\"left\",\"font\":{\"color\":\"#000000\"},\"showarrow\":false,\"text\":\"Valdivia\",\"x\":2.55,\"xanchor\":\"left\",\"xref\":\"x\",\"y\":7,\"yref\":\"y\"},{\"align\":\"left\",\"font\":{\"color\":\"#000000\"},\"showarrow\":false,\"text\":\"TRES ESPINOS\",\"x\":-0.45,\"xanchor\":\"left\",\"xref\":\"x\",\"y\":8,\"yref\":\"y\"},{\"align\":\"left\",\"font\":{\"color\":\"#000000\"},\"showarrow\":false,\"text\":\"1091.0\",\"x\":0.55,\"xanchor\":\"left\",\"xref\":\"x\",\"y\":8,\"yref\":\"y\"},{\"align\":\"left\",\"font\":{\"color\":\"#000000\"},\"showarrow\":false,\"text\":\"red\",\"x\":1.55,\"xanchor\":\"left\",\"xref\":\"x\",\"y\":8,\"yref\":\"y\"},{\"align\":\"left\",\"font\":{\"color\":\"#000000\"},\"showarrow\":false,\"text\":\"Valdivia\",\"x\":2.55,\"xanchor\":\"left\",\"xref\":\"x\",\"y\":8,\"yref\":\"y\"},{\"align\":\"left\",\"font\":{\"color\":\"#000000\"},\"showarrow\":false,\"text\":\"VILLA CAYUMAPU\",\"x\":-0.45,\"xanchor\":\"left\",\"xref\":\"x\",\"y\":9,\"yref\":\"y\"},{\"align\":\"left\",\"font\":{\"color\":\"#000000\"},\"showarrow\":false,\"text\":\"1327.0\",\"x\":0.55,\"xanchor\":\"left\",\"xref\":\"x\",\"y\":9,\"yref\":\"y\"},{\"align\":\"left\",\"font\":{\"color\":\"#000000\"},\"showarrow\":false,\"text\":\"purple\",\"x\":1.55,\"xanchor\":\"left\",\"xref\":\"x\",\"y\":9,\"yref\":\"y\"},{\"align\":\"left\",\"font\":{\"color\":\"#000000\"},\"showarrow\":false,\"text\":\"Valdivia\",\"x\":2.55,\"xanchor\":\"left\",\"xref\":\"x\",\"y\":9,\"yref\":\"y\"},{\"align\":\"left\",\"font\":{\"color\":\"#000000\"},\"showarrow\":false,\"text\":\"EL ARENAL SANTA ELVIRA\",\"x\":-0.45,\"xanchor\":\"left\",\"xref\":\"x\",\"y\":10,\"yref\":\"y\"},{\"align\":\"left\",\"font\":{\"color\":\"#000000\"},\"showarrow\":false,\"text\":\"549.0\",\"x\":0.55,\"xanchor\":\"left\",\"xref\":\"x\",\"y\":10,\"yref\":\"y\"},{\"align\":\"left\",\"font\":{\"color\":\"#000000\"},\"showarrow\":false,\"text\":\"orange\",\"x\":1.55,\"xanchor\":\"left\",\"xref\":\"x\",\"y\":10,\"yref\":\"y\"},{\"align\":\"left\",\"font\":{\"color\":\"#000000\"},\"showarrow\":false,\"text\":\"Valdivia\",\"x\":2.55,\"xanchor\":\"left\",\"xref\":\"x\",\"y\":10,\"yref\":\"y\"},{\"align\":\"left\",\"font\":{\"color\":\"#000000\"},\"showarrow\":false,\"text\":\"PAILLAO\",\"x\":-0.45,\"xanchor\":\"left\",\"xref\":\"x\",\"y\":11,\"yref\":\"y\"},{\"align\":\"left\",\"font\":{\"color\":\"#000000\"},\"showarrow\":false,\"text\":\"871.0\",\"x\":0.55,\"xanchor\":\"left\",\"xref\":\"x\",\"y\":11,\"yref\":\"y\"},{\"align\":\"left\",\"font\":{\"color\":\"#000000\"},\"showarrow\":false,\"text\":\"red\",\"x\":1.55,\"xanchor\":\"left\",\"xref\":\"x\",\"y\":11,\"yref\":\"y\"},{\"align\":\"left\",\"font\":{\"color\":\"#000000\"},\"showarrow\":false,\"text\":\"Valdivia\",\"x\":2.55,\"xanchor\":\"left\",\"xref\":\"x\",\"y\":11,\"yref\":\"y\"},{\"align\":\"left\",\"font\":{\"color\":\"#000000\"},\"showarrow\":false,\"text\":\"CABO BLANCO\",\"x\":-0.45,\"xanchor\":\"left\",\"xref\":\"x\",\"y\":12,\"yref\":\"y\"},{\"align\":\"left\",\"font\":{\"color\":\"#000000\"},\"showarrow\":false,\"text\":\"543.0\",\"x\":0.55,\"xanchor\":\"left\",\"xref\":\"x\",\"y\":12,\"yref\":\"y\"},{\"align\":\"left\",\"font\":{\"color\":\"#000000\"},\"showarrow\":false,\"text\":\"orange\",\"x\":1.55,\"xanchor\":\"left\",\"xref\":\"x\",\"y\":12,\"yref\":\"y\"},{\"align\":\"left\",\"font\":{\"color\":\"#000000\"},\"showarrow\":false,\"text\":\"Valdivia\",\"x\":2.55,\"xanchor\":\"left\",\"xref\":\"x\",\"y\":12,\"yref\":\"y\"},{\"align\":\"left\",\"font\":{\"color\":\"#000000\"},\"showarrow\":false,\"text\":\"EL ARENAL KM 2\",\"x\":-0.45,\"xanchor\":\"left\",\"xref\":\"x\",\"y\":13,\"yref\":\"y\"},{\"align\":\"left\",\"font\":{\"color\":\"#000000\"},\"showarrow\":false,\"text\":\"623.0\",\"x\":0.55,\"xanchor\":\"left\",\"xref\":\"x\",\"y\":13,\"yref\":\"y\"},{\"align\":\"left\",\"font\":{\"color\":\"#000000\"},\"showarrow\":false,\"text\":\"orange\",\"x\":1.55,\"xanchor\":\"left\",\"xref\":\"x\",\"y\":13,\"yref\":\"y\"},{\"align\":\"left\",\"font\":{\"color\":\"#000000\"},\"showarrow\":false,\"text\":\"Valdivia\",\"x\":2.55,\"xanchor\":\"left\",\"xref\":\"x\",\"y\":13,\"yref\":\"y\"},{\"align\":\"left\",\"font\":{\"color\":\"#000000\"},\"showarrow\":false,\"text\":\"Chabelita\",\"x\":-0.45,\"xanchor\":\"left\",\"xref\":\"x\",\"y\":14,\"yref\":\"y\"},{\"align\":\"left\",\"font\":{\"color\":\"#000000\"},\"showarrow\":false,\"text\":\"434.0\",\"x\":0.55,\"xanchor\":\"left\",\"xref\":\"x\",\"y\":14,\"yref\":\"y\"},{\"align\":\"left\",\"font\":{\"color\":\"#000000\"},\"showarrow\":false,\"text\":\"orange\",\"x\":1.55,\"xanchor\":\"left\",\"xref\":\"x\",\"y\":14,\"yref\":\"y\"},{\"align\":\"left\",\"font\":{\"color\":\"#000000\"},\"showarrow\":false,\"text\":\"Valdivia\",\"x\":2.55,\"xanchor\":\"left\",\"xref\":\"x\",\"y\":14,\"yref\":\"y\"},{\"align\":\"left\",\"font\":{\"color\":\"#000000\"},\"showarrow\":false,\"text\":\"ARCO IRIS\",\"x\":-0.45,\"xanchor\":\"left\",\"xref\":\"x\",\"y\":15,\"yref\":\"y\"},{\"align\":\"left\",\"font\":{\"color\":\"#000000\"},\"showarrow\":false,\"text\":\"394.0\",\"x\":0.55,\"xanchor\":\"left\",\"xref\":\"x\",\"y\":15,\"yref\":\"y\"},{\"align\":\"left\",\"font\":{\"color\":\"#000000\"},\"showarrow\":false,\"text\":\"green\",\"x\":1.55,\"xanchor\":\"left\",\"xref\":\"x\",\"y\":15,\"yref\":\"y\"},{\"align\":\"left\",\"font\":{\"color\":\"#000000\"},\"showarrow\":false,\"text\":\"Paillaco\",\"x\":2.55,\"xanchor\":\"left\",\"xref\":\"x\",\"y\":15,\"yref\":\"y\"},{\"align\":\"left\",\"font\":{\"color\":\"#000000\"},\"showarrow\":false,\"text\":\"EL LLOLLY\",\"x\":-0.45,\"xanchor\":\"left\",\"xref\":\"x\",\"y\":16,\"yref\":\"y\"},{\"align\":\"left\",\"font\":{\"color\":\"#000000\"},\"showarrow\":false,\"text\":\"428.0\",\"x\":0.55,\"xanchor\":\"left\",\"xref\":\"x\",\"y\":16,\"yref\":\"y\"},{\"align\":\"left\",\"font\":{\"color\":\"#000000\"},\"showarrow\":false,\"text\":\"green\",\"x\":1.55,\"xanchor\":\"left\",\"xref\":\"x\",\"y\":16,\"yref\":\"y\"},{\"align\":\"left\",\"font\":{\"color\":\"#000000\"},\"showarrow\":false,\"text\":\"Paillaco\",\"x\":2.55,\"xanchor\":\"left\",\"xref\":\"x\",\"y\":16,\"yref\":\"y\"},{\"align\":\"left\",\"font\":{\"color\":\"#000000\"},\"showarrow\":false,\"text\":\"PICHIRROPULLI\",\"x\":-0.45,\"xanchor\":\"left\",\"xref\":\"x\",\"y\":17,\"yref\":\"y\"},{\"align\":\"left\",\"font\":{\"color\":\"#000000\"},\"showarrow\":false,\"text\":\"1079.0\",\"x\":0.55,\"xanchor\":\"left\",\"xref\":\"x\",\"y\":17,\"yref\":\"y\"},{\"align\":\"left\",\"font\":{\"color\":\"#000000\"},\"showarrow\":false,\"text\":\"red\",\"x\":1.55,\"xanchor\":\"left\",\"xref\":\"x\",\"y\":17,\"yref\":\"y\"},{\"align\":\"left\",\"font\":{\"color\":\"#000000\"},\"showarrow\":false,\"text\":\"Paillaco\",\"x\":2.55,\"xanchor\":\"left\",\"xref\":\"x\",\"y\":17,\"yref\":\"y\"},{\"align\":\"left\",\"font\":{\"color\":\"#000000\"},\"showarrow\":false,\"text\":\"REUMEN\",\"x\":-0.45,\"xanchor\":\"left\",\"xref\":\"x\",\"y\":18,\"yref\":\"y\"},{\"align\":\"left\",\"font\":{\"color\":\"#000000\"},\"showarrow\":false,\"text\":\"1442.0\",\"x\":0.55,\"xanchor\":\"left\",\"xref\":\"x\",\"y\":18,\"yref\":\"y\"},{\"align\":\"left\",\"font\":{\"color\":\"#000000\"},\"showarrow\":false,\"text\":\"purple\",\"x\":1.55,\"xanchor\":\"left\",\"xref\":\"x\",\"y\":18,\"yref\":\"y\"},{\"align\":\"left\",\"font\":{\"color\":\"#000000\"},\"showarrow\":false,\"text\":\"Paillaco\",\"x\":2.55,\"xanchor\":\"left\",\"xref\":\"x\",\"y\":18,\"yref\":\"y\"},{\"align\":\"left\",\"font\":{\"color\":\"#000000\"},\"showarrow\":false,\"text\":\"SANTA FILOMENA\",\"x\":-0.45,\"xanchor\":\"left\",\"xref\":\"x\",\"y\":19,\"yref\":\"y\"},{\"align\":\"left\",\"font\":{\"color\":\"#000000\"},\"showarrow\":false,\"text\":\"403.0\",\"x\":0.55,\"xanchor\":\"left\",\"xref\":\"x\",\"y\":19,\"yref\":\"y\"},{\"align\":\"left\",\"font\":{\"color\":\"#000000\"},\"showarrow\":false,\"text\":\"green\",\"x\":1.55,\"xanchor\":\"left\",\"xref\":\"x\",\"y\":19,\"yref\":\"y\"},{\"align\":\"left\",\"font\":{\"color\":\"#000000\"},\"showarrow\":false,\"text\":\"Paillaco\",\"x\":2.55,\"xanchor\":\"left\",\"xref\":\"x\",\"y\":19,\"yref\":\"y\"},{\"align\":\"left\",\"font\":{\"color\":\"#000000\"},\"showarrow\":false,\"text\":\"MANAO\",\"x\":-0.45,\"xanchor\":\"left\",\"xref\":\"x\",\"y\":20,\"yref\":\"y\"},{\"align\":\"left\",\"font\":{\"color\":\"#000000\"},\"showarrow\":false,\"text\":\"220.0\",\"x\":0.55,\"xanchor\":\"left\",\"xref\":\"x\",\"y\":20,\"yref\":\"y\"},{\"align\":\"left\",\"font\":{\"color\":\"#000000\"},\"showarrow\":false,\"text\":\"blue\",\"x\":1.55,\"xanchor\":\"left\",\"xref\":\"x\",\"y\":20,\"yref\":\"y\"},{\"align\":\"left\",\"font\":{\"color\":\"#000000\"},\"showarrow\":false,\"text\":\"Paillaco\",\"x\":2.55,\"xanchor\":\"left\",\"xref\":\"x\",\"y\":20,\"yref\":\"y\"},{\"align\":\"left\",\"font\":{\"color\":\"#000000\"},\"showarrow\":false,\"text\":\"SANTA ROSA CHICA\",\"x\":-0.45,\"xanchor\":\"left\",\"xref\":\"x\",\"y\":21,\"yref\":\"y\"},{\"align\":\"left\",\"font\":{\"color\":\"#000000\"},\"showarrow\":false,\"text\":\"394.0\",\"x\":0.55,\"xanchor\":\"left\",\"xref\":\"x\",\"y\":21,\"yref\":\"y\"},{\"align\":\"left\",\"font\":{\"color\":\"#000000\"},\"showarrow\":false,\"text\":\"green\",\"x\":1.55,\"xanchor\":\"left\",\"xref\":\"x\",\"y\":21,\"yref\":\"y\"},{\"align\":\"left\",\"font\":{\"color\":\"#000000\"},\"showarrow\":false,\"text\":\"Paillaco\",\"x\":2.55,\"xanchor\":\"left\",\"xref\":\"x\",\"y\":21,\"yref\":\"y\"},{\"align\":\"left\",\"font\":{\"color\":\"#000000\"},\"showarrow\":false,\"text\":\"SANTA ROSA GRANDE\",\"x\":-0.45,\"xanchor\":\"left\",\"xref\":\"x\",\"y\":22,\"yref\":\"y\"},{\"align\":\"left\",\"font\":{\"color\":\"#000000\"},\"showarrow\":false,\"text\":\"319.0\",\"x\":0.55,\"xanchor\":\"left\",\"xref\":\"x\",\"y\":22,\"yref\":\"y\"},{\"align\":\"left\",\"font\":{\"color\":\"#000000\"},\"showarrow\":false,\"text\":\"green\",\"x\":1.55,\"xanchor\":\"left\",\"xref\":\"x\",\"y\":22,\"yref\":\"y\"},{\"align\":\"left\",\"font\":{\"color\":\"#000000\"},\"showarrow\":false,\"text\":\"Paillaco\",\"x\":2.55,\"xanchor\":\"left\",\"xref\":\"x\",\"y\":22,\"yref\":\"y\"},{\"align\":\"left\",\"font\":{\"color\":\"#000000\"},\"showarrow\":false,\"text\":\"LUMACO PAILLACO\",\"x\":-0.45,\"xanchor\":\"left\",\"xref\":\"x\",\"y\":23,\"yref\":\"y\"},{\"align\":\"left\",\"font\":{\"color\":\"#000000\"},\"showarrow\":false,\"text\":\"710.0\",\"x\":0.55,\"xanchor\":\"left\",\"xref\":\"x\",\"y\":23,\"yref\":\"y\"},{\"align\":\"left\",\"font\":{\"color\":\"#000000\"},\"showarrow\":false,\"text\":\"orange\",\"x\":1.55,\"xanchor\":\"left\",\"xref\":\"x\",\"y\":23,\"yref\":\"y\"},{\"align\":\"left\",\"font\":{\"color\":\"#000000\"},\"showarrow\":false,\"text\":\"Paillaco\",\"x\":2.55,\"xanchor\":\"left\",\"xref\":\"x\",\"y\":23,\"yref\":\"y\"},{\"align\":\"left\",\"font\":{\"color\":\"#000000\"},\"showarrow\":false,\"text\":\"EL MAITEN\",\"x\":-0.45,\"xanchor\":\"left\",\"xref\":\"x\",\"y\":24,\"yref\":\"y\"},{\"align\":\"left\",\"font\":{\"color\":\"#000000\"},\"showarrow\":false,\"text\":\"155.0\",\"x\":0.55,\"xanchor\":\"left\",\"xref\":\"x\",\"y\":24,\"yref\":\"y\"},{\"align\":\"left\",\"font\":{\"color\":\"#000000\"},\"showarrow\":false,\"text\":\"blue\",\"x\":1.55,\"xanchor\":\"left\",\"xref\":\"x\",\"y\":24,\"yref\":\"y\"},{\"align\":\"left\",\"font\":{\"color\":\"#000000\"},\"showarrow\":false,\"text\":\"Paillaco\",\"x\":2.55,\"xanchor\":\"left\",\"xref\":\"x\",\"y\":24,\"yref\":\"y\"},{\"align\":\"left\",\"font\":{\"color\":\"#000000\"},\"showarrow\":false,\"text\":\"SANTA FILOMENA II\",\"x\":-0.45,\"xanchor\":\"left\",\"xref\":\"x\",\"y\":25,\"yref\":\"y\"},{\"align\":\"left\",\"font\":{\"color\":\"#000000\"},\"showarrow\":false,\"text\":\"211.0\",\"x\":0.55,\"xanchor\":\"left\",\"xref\":\"x\",\"y\":25,\"yref\":\"y\"},{\"align\":\"left\",\"font\":{\"color\":\"#000000\"},\"showarrow\":false,\"text\":\"blue\",\"x\":1.55,\"xanchor\":\"left\",\"xref\":\"x\",\"y\":25,\"yref\":\"y\"},{\"align\":\"left\",\"font\":{\"color\":\"#000000\"},\"showarrow\":false,\"text\":\"Paillaco\",\"x\":2.55,\"xanchor\":\"left\",\"xref\":\"x\",\"y\":25,\"yref\":\"y\"},{\"align\":\"left\",\"font\":{\"color\":\"#000000\"},\"showarrow\":false,\"text\":\"ANTILHUE\",\"x\":-0.45,\"xanchor\":\"left\",\"xref\":\"x\",\"y\":26,\"yref\":\"y\"},{\"align\":\"left\",\"font\":{\"color\":\"#000000\"},\"showarrow\":false,\"text\":\"1414.0\",\"x\":0.55,\"xanchor\":\"left\",\"xref\":\"x\",\"y\":26,\"yref\":\"y\"},{\"align\":\"left\",\"font\":{\"color\":\"#000000\"},\"showarrow\":false,\"text\":\"purple\",\"x\":1.55,\"xanchor\":\"left\",\"xref\":\"x\",\"y\":26,\"yref\":\"y\"},{\"align\":\"left\",\"font\":{\"color\":\"#000000\"},\"showarrow\":false,\"text\":\"Los Lagos\",\"x\":2.55,\"xanchor\":\"left\",\"xref\":\"x\",\"y\":26,\"yref\":\"y\"},{\"align\":\"left\",\"font\":{\"color\":\"#000000\"},\"showarrow\":false,\"text\":\"FOLILCO LOS LAGOS\",\"x\":-0.45,\"xanchor\":\"left\",\"xref\":\"x\",\"y\":27,\"yref\":\"y\"},{\"align\":\"left\",\"font\":{\"color\":\"#000000\"},\"showarrow\":false,\"text\":\"474.0\",\"x\":0.55,\"xanchor\":\"left\",\"xref\":\"x\",\"y\":27,\"yref\":\"y\"},{\"align\":\"left\",\"font\":{\"color\":\"#000000\"},\"showarrow\":false,\"text\":\"orange\",\"x\":1.55,\"xanchor\":\"left\",\"xref\":\"x\",\"y\":27,\"yref\":\"y\"},{\"align\":\"left\",\"font\":{\"color\":\"#000000\"},\"showarrow\":false,\"text\":\"Los Lagos\",\"x\":2.55,\"xanchor\":\"left\",\"xref\":\"x\",\"y\":27,\"yref\":\"y\"},{\"align\":\"left\",\"font\":{\"color\":\"#000000\"},\"showarrow\":false,\"text\":\"QUILQUILCO\",\"x\":-0.45,\"xanchor\":\"left\",\"xref\":\"x\",\"y\":28,\"yref\":\"y\"},{\"align\":\"left\",\"font\":{\"color\":\"#000000\"},\"showarrow\":false,\"text\":\"149.0\",\"x\":0.55,\"xanchor\":\"left\",\"xref\":\"x\",\"y\":28,\"yref\":\"y\"},{\"align\":\"left\",\"font\":{\"color\":\"#000000\"},\"showarrow\":false,\"text\":\"blue\",\"x\":1.55,\"xanchor\":\"left\",\"xref\":\"x\",\"y\":28,\"yref\":\"y\"},{\"align\":\"left\",\"font\":{\"color\":\"#000000\"},\"showarrow\":false,\"text\":\"Los Lagos\",\"x\":2.55,\"xanchor\":\"left\",\"xref\":\"x\",\"y\":28,\"yref\":\"y\"},{\"align\":\"left\",\"font\":{\"color\":\"#000000\"},\"showarrow\":false,\"text\":\"RI\\u00d1IHUE\",\"x\":-0.45,\"xanchor\":\"left\",\"xref\":\"x\",\"y\":29,\"yref\":\"y\"},{\"align\":\"left\",\"font\":{\"color\":\"#000000\"},\"showarrow\":false,\"text\":\"208.0\",\"x\":0.55,\"xanchor\":\"left\",\"xref\":\"x\",\"y\":29,\"yref\":\"y\"},{\"align\":\"left\",\"font\":{\"color\":\"#000000\"},\"showarrow\":false,\"text\":\"blue\",\"x\":1.55,\"xanchor\":\"left\",\"xref\":\"x\",\"y\":29,\"yref\":\"y\"},{\"align\":\"left\",\"font\":{\"color\":\"#000000\"},\"showarrow\":false,\"text\":\"Los Lagos\",\"x\":2.55,\"xanchor\":\"left\",\"xref\":\"x\",\"y\":29,\"yref\":\"y\"},{\"align\":\"left\",\"font\":{\"color\":\"#000000\"},\"showarrow\":false,\"text\":\"USTARITZ\",\"x\":-0.45,\"xanchor\":\"left\",\"xref\":\"x\",\"y\":30,\"yref\":\"y\"},{\"align\":\"left\",\"font\":{\"color\":\"#000000\"},\"showarrow\":false,\"text\":\"434.0\",\"x\":0.55,\"xanchor\":\"left\",\"xref\":\"x\",\"y\":30,\"yref\":\"y\"},{\"align\":\"left\",\"font\":{\"color\":\"#000000\"},\"showarrow\":false,\"text\":\"orange\",\"x\":1.55,\"xanchor\":\"left\",\"xref\":\"x\",\"y\":30,\"yref\":\"y\"},{\"align\":\"left\",\"font\":{\"color\":\"#000000\"},\"showarrow\":false,\"text\":\"Los Lagos\",\"x\":2.55,\"xanchor\":\"left\",\"xref\":\"x\",\"y\":30,\"yref\":\"y\"},{\"align\":\"left\",\"font\":{\"color\":\"#000000\"},\"showarrow\":false,\"text\":\"EL SALTO\",\"x\":-0.45,\"xanchor\":\"left\",\"xref\":\"x\",\"y\":31,\"yref\":\"y\"},{\"align\":\"left\",\"font\":{\"color\":\"#000000\"},\"showarrow\":false,\"text\":\"592.0\",\"x\":0.55,\"xanchor\":\"left\",\"xref\":\"x\",\"y\":31,\"yref\":\"y\"},{\"align\":\"left\",\"font\":{\"color\":\"#000000\"},\"showarrow\":false,\"text\":\"orange\",\"x\":1.55,\"xanchor\":\"left\",\"xref\":\"x\",\"y\":31,\"yref\":\"y\"},{\"align\":\"left\",\"font\":{\"color\":\"#000000\"},\"showarrow\":false,\"text\":\"Los Lagos\",\"x\":2.55,\"xanchor\":\"left\",\"xref\":\"x\",\"y\":31,\"yref\":\"y\"},{\"align\":\"left\",\"font\":{\"color\":\"#000000\"},\"showarrow\":false,\"text\":\"PELLINADA LAS QUINIENTAS\",\"x\":-0.45,\"xanchor\":\"left\",\"xref\":\"x\",\"y\":32,\"yref\":\"y\"},{\"align\":\"left\",\"font\":{\"color\":\"#000000\"},\"showarrow\":false,\"text\":\"434.0\",\"x\":0.55,\"xanchor\":\"left\",\"xref\":\"x\",\"y\":32,\"yref\":\"y\"},{\"align\":\"left\",\"font\":{\"color\":\"#000000\"},\"showarrow\":false,\"text\":\"orange\",\"x\":1.55,\"xanchor\":\"left\",\"xref\":\"x\",\"y\":32,\"yref\":\"y\"},{\"align\":\"left\",\"font\":{\"color\":\"#000000\"},\"showarrow\":false,\"text\":\"Los Lagos\",\"x\":2.55,\"xanchor\":\"left\",\"xref\":\"x\",\"y\":32,\"yref\":\"y\"},{\"align\":\"left\",\"font\":{\"color\":\"#000000\"},\"showarrow\":false,\"text\":\"PANCUL\",\"x\":-0.45,\"xanchor\":\"left\",\"xref\":\"x\",\"y\":33,\"yref\":\"y\"},{\"align\":\"left\",\"font\":{\"color\":\"#000000\"},\"showarrow\":false,\"text\":\"729.0\",\"x\":0.55,\"xanchor\":\"left\",\"xref\":\"x\",\"y\":33,\"yref\":\"y\"},{\"align\":\"left\",\"font\":{\"color\":\"#000000\"},\"showarrow\":false,\"text\":\"orange\",\"x\":1.55,\"xanchor\":\"left\",\"xref\":\"x\",\"y\":33,\"yref\":\"y\"},{\"align\":\"left\",\"font\":{\"color\":\"#000000\"},\"showarrow\":false,\"text\":\"Los Lagos\",\"x\":2.55,\"xanchor\":\"left\",\"xref\":\"x\",\"y\":33,\"yref\":\"y\"},{\"align\":\"left\",\"font\":{\"color\":\"#000000\"},\"showarrow\":false,\"text\":\"LOS COLIG\\u00dcES\",\"x\":-0.45,\"xanchor\":\"left\",\"xref\":\"x\",\"y\":34,\"yref\":\"y\"},{\"align\":\"left\",\"font\":{\"color\":\"#000000\"},\"showarrow\":false,\"text\":\"456.0\",\"x\":0.55,\"xanchor\":\"left\",\"xref\":\"x\",\"y\":34,\"yref\":\"y\"},{\"align\":\"left\",\"font\":{\"color\":\"#000000\"},\"showarrow\":false,\"text\":\"orange\",\"x\":1.55,\"xanchor\":\"left\",\"xref\":\"x\",\"y\":34,\"yref\":\"y\"},{\"align\":\"left\",\"font\":{\"color\":\"#000000\"},\"showarrow\":false,\"text\":\"Los Lagos\",\"x\":2.55,\"xanchor\":\"left\",\"xref\":\"x\",\"y\":34,\"yref\":\"y\"},{\"align\":\"left\",\"font\":{\"color\":\"#000000\"},\"showarrow\":false,\"text\":\"COLO COLO\",\"x\":-0.45,\"xanchor\":\"left\",\"xref\":\"x\",\"y\":35,\"yref\":\"y\"},{\"align\":\"left\",\"font\":{\"color\":\"#000000\"},\"showarrow\":false,\"text\":\"298.0\",\"x\":0.55,\"xanchor\":\"left\",\"xref\":\"x\",\"y\":35,\"yref\":\"y\"},{\"align\":\"left\",\"font\":{\"color\":\"#000000\"},\"showarrow\":false,\"text\":\"green\",\"x\":1.55,\"xanchor\":\"left\",\"xref\":\"x\",\"y\":35,\"yref\":\"y\"},{\"align\":\"left\",\"font\":{\"color\":\"#000000\"},\"showarrow\":false,\"text\":\"Los Lagos\",\"x\":2.55,\"xanchor\":\"left\",\"xref\":\"x\",\"y\":35,\"yref\":\"y\"},{\"align\":\"left\",\"font\":{\"color\":\"#000000\"},\"showarrow\":false,\"text\":\"LAS HUELLLAS\",\"x\":-0.45,\"xanchor\":\"left\",\"xref\":\"x\",\"y\":36,\"yref\":\"y\"},{\"align\":\"left\",\"font\":{\"color\":\"#000000\"},\"showarrow\":false,\"text\":\"276.0\",\"x\":0.55,\"xanchor\":\"left\",\"xref\":\"x\",\"y\":36,\"yref\":\"y\"},{\"align\":\"left\",\"font\":{\"color\":\"#000000\"},\"showarrow\":false,\"text\":\"blue\",\"x\":1.55,\"xanchor\":\"left\",\"xref\":\"x\",\"y\":36,\"yref\":\"y\"},{\"align\":\"left\",\"font\":{\"color\":\"#000000\"},\"showarrow\":false,\"text\":\"Los Lagos\",\"x\":2.55,\"xanchor\":\"left\",\"xref\":\"x\",\"y\":36,\"yref\":\"y\"},{\"align\":\"left\",\"font\":{\"color\":\"#000000\"},\"showarrow\":false,\"text\":\"San Pedro\",\"x\":-0.45,\"xanchor\":\"left\",\"xref\":\"x\",\"y\":37,\"yref\":\"y\"},{\"align\":\"left\",\"font\":{\"color\":\"#000000\"},\"showarrow\":false,\"text\":\"375.0\",\"x\":0.55,\"xanchor\":\"left\",\"xref\":\"x\",\"y\":37,\"yref\":\"y\"},{\"align\":\"left\",\"font\":{\"color\":\"#000000\"},\"showarrow\":false,\"text\":\"green\",\"x\":1.55,\"xanchor\":\"left\",\"xref\":\"x\",\"y\":37,\"yref\":\"y\"},{\"align\":\"left\",\"font\":{\"color\":\"#000000\"},\"showarrow\":false,\"text\":\"Los Lagos\",\"x\":2.55,\"xanchor\":\"left\",\"xref\":\"x\",\"y\":37,\"yref\":\"y\"},{\"align\":\"left\",\"font\":{\"color\":\"#000000\"},\"showarrow\":false,\"text\":\"Lipingue\",\"x\":-0.45,\"xanchor\":\"left\",\"xref\":\"x\",\"y\":38,\"yref\":\"y\"},{\"align\":\"left\",\"font\":{\"color\":\"#000000\"},\"showarrow\":false,\"text\":\"434.0\",\"x\":0.55,\"xanchor\":\"left\",\"xref\":\"x\",\"y\":38,\"yref\":\"y\"},{\"align\":\"left\",\"font\":{\"color\":\"#000000\"},\"showarrow\":false,\"text\":\"orange\",\"x\":1.55,\"xanchor\":\"left\",\"xref\":\"x\",\"y\":38,\"yref\":\"y\"},{\"align\":\"left\",\"font\":{\"color\":\"#000000\"},\"showarrow\":false,\"text\":\"Los Lagos\",\"x\":2.55,\"xanchor\":\"left\",\"xref\":\"x\",\"y\":38,\"yref\":\"y\"},{\"align\":\"left\",\"font\":{\"color\":\"#000000\"},\"showarrow\":false,\"text\":\"El Trebol\",\"x\":-0.45,\"xanchor\":\"left\",\"xref\":\"x\",\"y\":39,\"yref\":\"y\"},{\"align\":\"left\",\"font\":{\"color\":\"#000000\"},\"showarrow\":false,\"text\":\"208.0\",\"x\":0.55,\"xanchor\":\"left\",\"xref\":\"x\",\"y\":39,\"yref\":\"y\"},{\"align\":\"left\",\"font\":{\"color\":\"#000000\"},\"showarrow\":false,\"text\":\"blue\",\"x\":1.55,\"xanchor\":\"left\",\"xref\":\"x\",\"y\":39,\"yref\":\"y\"},{\"align\":\"left\",\"font\":{\"color\":\"#000000\"},\"showarrow\":false,\"text\":\"Los Lagos\",\"x\":2.55,\"xanchor\":\"left\",\"xref\":\"x\",\"y\":39,\"yref\":\"y\"},{\"align\":\"left\",\"font\":{\"color\":\"#000000\"},\"showarrow\":false,\"text\":\"Collico Sur\",\"x\":-0.45,\"xanchor\":\"left\",\"xref\":\"x\",\"y\":40,\"yref\":\"y\"},{\"align\":\"left\",\"font\":{\"color\":\"#000000\"},\"showarrow\":false,\"text\":\"236.0\",\"x\":0.55,\"xanchor\":\"left\",\"xref\":\"x\",\"y\":40,\"yref\":\"y\"},{\"align\":\"left\",\"font\":{\"color\":\"#000000\"},\"showarrow\":false,\"text\":\"blue\",\"x\":1.55,\"xanchor\":\"left\",\"xref\":\"x\",\"y\":40,\"yref\":\"y\"},{\"align\":\"left\",\"font\":{\"color\":\"#000000\"},\"showarrow\":false,\"text\":\"Los Lagos\",\"x\":2.55,\"xanchor\":\"left\",\"xref\":\"x\",\"y\":40,\"yref\":\"y\"},{\"align\":\"left\",\"font\":{\"color\":\"#000000\"},\"showarrow\":false,\"text\":\"Mi Tierra\",\"x\":-0.45,\"xanchor\":\"left\",\"xref\":\"x\",\"y\":41,\"yref\":\"y\"},{\"align\":\"left\",\"font\":{\"color\":\"#000000\"},\"showarrow\":false,\"text\":\"71.0\",\"x\":0.55,\"xanchor\":\"left\",\"xref\":\"x\",\"y\":41,\"yref\":\"y\"},{\"align\":\"left\",\"font\":{\"color\":\"#000000\"},\"showarrow\":false,\"text\":\"blue\",\"x\":1.55,\"xanchor\":\"left\",\"xref\":\"x\",\"y\":41,\"yref\":\"y\"},{\"align\":\"left\",\"font\":{\"color\":\"#000000\"},\"showarrow\":false,\"text\":\"Los Lagos\",\"x\":2.55,\"xanchor\":\"left\",\"xref\":\"x\",\"y\":41,\"yref\":\"y\"},{\"align\":\"left\",\"font\":{\"color\":\"#000000\"},\"showarrow\":false,\"text\":\"Pu\\u00f1aco\",\"x\":-0.45,\"xanchor\":\"left\",\"xref\":\"x\",\"y\":42,\"yref\":\"y\"},{\"align\":\"left\",\"font\":{\"color\":\"#000000\"},\"showarrow\":false,\"text\":\"81.0\",\"x\":0.55,\"xanchor\":\"left\",\"xref\":\"x\",\"y\":42,\"yref\":\"y\"},{\"align\":\"left\",\"font\":{\"color\":\"#000000\"},\"showarrow\":false,\"text\":\"blue\",\"x\":1.55,\"xanchor\":\"left\",\"xref\":\"x\",\"y\":42,\"yref\":\"y\"},{\"align\":\"left\",\"font\":{\"color\":\"#000000\"},\"showarrow\":false,\"text\":\"Los Lagos\",\"x\":2.55,\"xanchor\":\"left\",\"xref\":\"x\",\"y\":42,\"yref\":\"y\"},{\"align\":\"left\",\"font\":{\"color\":\"#000000\"},\"showarrow\":false,\"text\":\"Purey\",\"x\":-0.45,\"xanchor\":\"left\",\"xref\":\"x\",\"y\":43,\"yref\":\"y\"},{\"align\":\"left\",\"font\":{\"color\":\"#000000\"},\"showarrow\":false,\"text\":\"78.0\",\"x\":0.55,\"xanchor\":\"left\",\"xref\":\"x\",\"y\":43,\"yref\":\"y\"},{\"align\":\"left\",\"font\":{\"color\":\"#000000\"},\"showarrow\":false,\"text\":\"blue\",\"x\":1.55,\"xanchor\":\"left\",\"xref\":\"x\",\"y\":43,\"yref\":\"y\"},{\"align\":\"left\",\"font\":{\"color\":\"#000000\"},\"showarrow\":false,\"text\":\"Los Lagos\",\"x\":2.55,\"xanchor\":\"left\",\"xref\":\"x\",\"y\":43,\"yref\":\"y\"},{\"align\":\"left\",\"font\":{\"color\":\"#000000\"},\"showarrow\":false,\"text\":\"AMARGO-SAN CARLOS\",\"x\":-0.45,\"xanchor\":\"left\",\"xref\":\"x\",\"y\":44,\"yref\":\"y\"},{\"align\":\"left\",\"font\":{\"color\":\"#000000\"},\"showarrow\":false,\"text\":\"2412.0\",\"x\":0.55,\"xanchor\":\"left\",\"xref\":\"x\",\"y\":44,\"yref\":\"y\"},{\"align\":\"left\",\"font\":{\"color\":\"#000000\"},\"showarrow\":false,\"text\":\"purple\",\"x\":1.55,\"xanchor\":\"left\",\"xref\":\"x\",\"y\":44,\"yref\":\"y\"},{\"align\":\"left\",\"font\":{\"color\":\"#000000\"},\"showarrow\":false,\"text\":\"Corral\",\"x\":2.55,\"xanchor\":\"left\",\"xref\":\"x\",\"y\":44,\"yref\":\"y\"},{\"align\":\"left\",\"font\":{\"color\":\"#000000\"},\"showarrow\":false,\"text\":\"ISLA DEL REY\",\"x\":-0.45,\"xanchor\":\"left\",\"xref\":\"x\",\"y\":45,\"yref\":\"y\"},{\"align\":\"left\",\"font\":{\"color\":\"#000000\"},\"showarrow\":false,\"text\":\"620.0\",\"x\":0.55,\"xanchor\":\"left\",\"xref\":\"x\",\"y\":45,\"yref\":\"y\"},{\"align\":\"left\",\"font\":{\"color\":\"#000000\"},\"showarrow\":false,\"text\":\"orange\",\"x\":1.55,\"xanchor\":\"left\",\"xref\":\"x\",\"y\":45,\"yref\":\"y\"},{\"align\":\"left\",\"font\":{\"color\":\"#000000\"},\"showarrow\":false,\"text\":\"Corral\",\"x\":2.55,\"xanchor\":\"left\",\"xref\":\"x\",\"y\":45,\"yref\":\"y\"},{\"align\":\"left\",\"font\":{\"color\":\"#000000\"},\"showarrow\":false,\"text\":\"ISLA MANCERA\",\"x\":-0.45,\"xanchor\":\"left\",\"xref\":\"x\",\"y\":46,\"yref\":\"y\"},{\"align\":\"left\",\"font\":{\"color\":\"#000000\"},\"showarrow\":false,\"text\":\"267.0\",\"x\":0.55,\"xanchor\":\"left\",\"xref\":\"x\",\"y\":46,\"yref\":\"y\"},{\"align\":\"left\",\"font\":{\"color\":\"#000000\"},\"showarrow\":false,\"text\":\"blue\",\"x\":1.55,\"xanchor\":\"left\",\"xref\":\"x\",\"y\":46,\"yref\":\"y\"},{\"align\":\"left\",\"font\":{\"color\":\"#000000\"},\"showarrow\":false,\"text\":\"Corral\",\"x\":2.55,\"xanchor\":\"left\",\"xref\":\"x\",\"y\":46,\"yref\":\"y\"},{\"align\":\"left\",\"font\":{\"color\":\"#000000\"},\"showarrow\":false,\"text\":\"LA AGUADA\",\"x\":-0.45,\"xanchor\":\"left\",\"xref\":\"x\",\"y\":47,\"yref\":\"y\"},{\"align\":\"left\",\"font\":{\"color\":\"#000000\"},\"showarrow\":false,\"text\":\"626.0\",\"x\":0.55,\"xanchor\":\"left\",\"xref\":\"x\",\"y\":47,\"yref\":\"y\"},{\"align\":\"left\",\"font\":{\"color\":\"#000000\"},\"showarrow\":false,\"text\":\"orange\",\"x\":1.55,\"xanchor\":\"left\",\"xref\":\"x\",\"y\":47,\"yref\":\"y\"},{\"align\":\"left\",\"font\":{\"color\":\"#000000\"},\"showarrow\":false,\"text\":\"Corral\",\"x\":2.55,\"xanchor\":\"left\",\"xref\":\"x\",\"y\":47,\"yref\":\"y\"},{\"align\":\"left\",\"font\":{\"color\":\"#000000\"},\"showarrow\":false,\"text\":\"CHAIHUIN\",\"x\":-0.45,\"xanchor\":\"left\",\"xref\":\"x\",\"y\":48,\"yref\":\"y\"},{\"align\":\"left\",\"font\":{\"color\":\"#000000\"},\"showarrow\":false,\"text\":\"744.0\",\"x\":0.55,\"xanchor\":\"left\",\"xref\":\"x\",\"y\":48,\"yref\":\"y\"},{\"align\":\"left\",\"font\":{\"color\":\"#000000\"},\"showarrow\":false,\"text\":\"red\",\"x\":1.55,\"xanchor\":\"left\",\"xref\":\"x\",\"y\":48,\"yref\":\"y\"},{\"align\":\"left\",\"font\":{\"color\":\"#000000\"},\"showarrow\":false,\"text\":\"Corral\",\"x\":2.55,\"xanchor\":\"left\",\"xref\":\"x\",\"y\":48,\"yref\":\"y\"},{\"align\":\"left\",\"font\":{\"color\":\"#000000\"},\"showarrow\":false,\"text\":\"CERROS DE CORRAL\",\"x\":-0.45,\"xanchor\":\"left\",\"xref\":\"x\",\"y\":49,\"yref\":\"y\"},{\"align\":\"left\",\"font\":{\"color\":\"#000000\"},\"showarrow\":false,\"text\":\"484.0\",\"x\":0.55,\"xanchor\":\"left\",\"xref\":\"x\",\"y\":49,\"yref\":\"y\"},{\"align\":\"left\",\"font\":{\"color\":\"#000000\"},\"showarrow\":false,\"text\":\"orange\",\"x\":1.55,\"xanchor\":\"left\",\"xref\":\"x\",\"y\":49,\"yref\":\"y\"},{\"align\":\"left\",\"font\":{\"color\":\"#000000\"},\"showarrow\":false,\"text\":\"Corral\",\"x\":2.55,\"xanchor\":\"left\",\"xref\":\"x\",\"y\":49,\"yref\":\"y\"}],\"height\":1550,\"margin\":{\"b\":0,\"l\":0,\"r\":0,\"t\":0},\"xaxis\":{\"dtick\":1,\"gridwidth\":2,\"showticklabels\":false,\"tick0\":-0.5,\"ticks\":\"\",\"zeroline\":false},\"yaxis\":{\"autorange\":\"reversed\",\"dtick\":1,\"gridwidth\":2,\"showticklabels\":false,\"tick0\":0.5,\"ticks\":\"\",\"zeroline\":false},\"template\":{\"data\":{\"histogram2dcontour\":[{\"type\":\"histogram2dcontour\",\"colorbar\":{\"outlinewidth\":0,\"ticks\":\"\"},\"colorscale\":[[0.0,\"#0d0887\"],[0.1111111111111111,\"#46039f\"],[0.2222222222222222,\"#7201a8\"],[0.3333333333333333,\"#9c179e\"],[0.4444444444444444,\"#bd3786\"],[0.5555555555555556,\"#d8576b\"],[0.6666666666666666,\"#ed7953\"],[0.7777777777777778,\"#fb9f3a\"],[0.8888888888888888,\"#fdca26\"],[1.0,\"#f0f921\"]]}],\"choropleth\":[{\"type\":\"choropleth\",\"colorbar\":{\"outlinewidth\":0,\"ticks\":\"\"}}],\"histogram2d\":[{\"type\":\"histogram2d\",\"colorbar\":{\"outlinewidth\":0,\"ticks\":\"\"},\"colorscale\":[[0.0,\"#0d0887\"],[0.1111111111111111,\"#46039f\"],[0.2222222222222222,\"#7201a8\"],[0.3333333333333333,\"#9c179e\"],[0.4444444444444444,\"#bd3786\"],[0.5555555555555556,\"#d8576b\"],[0.6666666666666666,\"#ed7953\"],[0.7777777777777778,\"#fb9f3a\"],[0.8888888888888888,\"#fdca26\"],[1.0,\"#f0f921\"]]}],\"heatmap\":[{\"type\":\"heatmap\",\"colorbar\":{\"outlinewidth\":0,\"ticks\":\"\"},\"colorscale\":[[0.0,\"#0d0887\"],[0.1111111111111111,\"#46039f\"],[0.2222222222222222,\"#7201a8\"],[0.3333333333333333,\"#9c179e\"],[0.4444444444444444,\"#bd3786\"],[0.5555555555555556,\"#d8576b\"],[0.6666666666666666,\"#ed7953\"],[0.7777777777777778,\"#fb9f3a\"],[0.8888888888888888,\"#fdca26\"],[1.0,\"#f0f921\"]]}],\"heatmapgl\":[{\"type\":\"heatmapgl\",\"colorbar\":{\"outlinewidth\":0,\"ticks\":\"\"},\"colorscale\":[[0.0,\"#0d0887\"],[0.1111111111111111,\"#46039f\"],[0.2222222222222222,\"#7201a8\"],[0.3333333333333333,\"#9c179e\"],[0.4444444444444444,\"#bd3786\"],[0.5555555555555556,\"#d8576b\"],[0.6666666666666666,\"#ed7953\"],[0.7777777777777778,\"#fb9f3a\"],[0.8888888888888888,\"#fdca26\"],[1.0,\"#f0f921\"]]}],\"contourcarpet\":[{\"type\":\"contourcarpet\",\"colorbar\":{\"outlinewidth\":0,\"ticks\":\"\"}}],\"contour\":[{\"type\":\"contour\",\"colorbar\":{\"outlinewidth\":0,\"ticks\":\"\"},\"colorscale\":[[0.0,\"#0d0887\"],[0.1111111111111111,\"#46039f\"],[0.2222222222222222,\"#7201a8\"],[0.3333333333333333,\"#9c179e\"],[0.4444444444444444,\"#bd3786\"],[0.5555555555555556,\"#d8576b\"],[0.6666666666666666,\"#ed7953\"],[0.7777777777777778,\"#fb9f3a\"],[0.8888888888888888,\"#fdca26\"],[1.0,\"#f0f921\"]]}],\"surface\":[{\"type\":\"surface\",\"colorbar\":{\"outlinewidth\":0,\"ticks\":\"\"},\"colorscale\":[[0.0,\"#0d0887\"],[0.1111111111111111,\"#46039f\"],[0.2222222222222222,\"#7201a8\"],[0.3333333333333333,\"#9c179e\"],[0.4444444444444444,\"#bd3786\"],[0.5555555555555556,\"#d8576b\"],[0.6666666666666666,\"#ed7953\"],[0.7777777777777778,\"#fb9f3a\"],[0.8888888888888888,\"#fdca26\"],[1.0,\"#f0f921\"]]}],\"mesh3d\":[{\"type\":\"mesh3d\",\"colorbar\":{\"outlinewidth\":0,\"ticks\":\"\"}}],\"scatter\":[{\"fillpattern\":{\"fillmode\":\"overlay\",\"size\":10,\"solidity\":0.2},\"type\":\"scatter\"}],\"parcoords\":[{\"type\":\"parcoords\",\"line\":{\"colorbar\":{\"outlinewidth\":0,\"ticks\":\"\"}}}],\"scatterpolargl\":[{\"type\":\"scatterpolargl\",\"marker\":{\"colorbar\":{\"outlinewidth\":0,\"ticks\":\"\"}}}],\"bar\":[{\"error_x\":{\"color\":\"#2a3f5f\"},\"error_y\":{\"color\":\"#2a3f5f\"},\"marker\":{\"line\":{\"color\":\"#E5ECF6\",\"width\":0.5},\"pattern\":{\"fillmode\":\"overlay\",\"size\":10,\"solidity\":0.2}},\"type\":\"bar\"}],\"scattergeo\":[{\"type\":\"scattergeo\",\"marker\":{\"colorbar\":{\"outlinewidth\":0,\"ticks\":\"\"}}}],\"scatterpolar\":[{\"type\":\"scatterpolar\",\"marker\":{\"colorbar\":{\"outlinewidth\":0,\"ticks\":\"\"}}}],\"histogram\":[{\"marker\":{\"pattern\":{\"fillmode\":\"overlay\",\"size\":10,\"solidity\":0.2}},\"type\":\"histogram\"}],\"scattergl\":[{\"type\":\"scattergl\",\"marker\":{\"colorbar\":{\"outlinewidth\":0,\"ticks\":\"\"}}}],\"scatter3d\":[{\"type\":\"scatter3d\",\"line\":{\"colorbar\":{\"outlinewidth\":0,\"ticks\":\"\"}},\"marker\":{\"colorbar\":{\"outlinewidth\":0,\"ticks\":\"\"}}}],\"scattermapbox\":[{\"type\":\"scattermapbox\",\"marker\":{\"colorbar\":{\"outlinewidth\":0,\"ticks\":\"\"}}}],\"scatterternary\":[{\"type\":\"scatterternary\",\"marker\":{\"colorbar\":{\"outlinewidth\":0,\"ticks\":\"\"}}}],\"scattercarpet\":[{\"type\":\"scattercarpet\",\"marker\":{\"colorbar\":{\"outlinewidth\":0,\"ticks\":\"\"}}}],\"carpet\":[{\"aaxis\":{\"endlinecolor\":\"#2a3f5f\",\"gridcolor\":\"white\",\"linecolor\":\"white\",\"minorgridcolor\":\"white\",\"startlinecolor\":\"#2a3f5f\"},\"baxis\":{\"endlinecolor\":\"#2a3f5f\",\"gridcolor\":\"white\",\"linecolor\":\"white\",\"minorgridcolor\":\"white\",\"startlinecolor\":\"#2a3f5f\"},\"type\":\"carpet\"}],\"table\":[{\"cells\":{\"fill\":{\"color\":\"#EBF0F8\"},\"line\":{\"color\":\"white\"}},\"header\":{\"fill\":{\"color\":\"#C8D4E3\"},\"line\":{\"color\":\"white\"}},\"type\":\"table\"}],\"barpolar\":[{\"marker\":{\"line\":{\"color\":\"#E5ECF6\",\"width\":0.5},\"pattern\":{\"fillmode\":\"overlay\",\"size\":10,\"solidity\":0.2}},\"type\":\"barpolar\"}],\"pie\":[{\"automargin\":true,\"type\":\"pie\"}]},\"layout\":{\"autotypenumbers\":\"strict\",\"colorway\":[\"#636efa\",\"#EF553B\",\"#00cc96\",\"#ab63fa\",\"#FFA15A\",\"#19d3f3\",\"#FF6692\",\"#B6E880\",\"#FF97FF\",\"#FECB52\"],\"font\":{\"color\":\"#2a3f5f\"},\"hovermode\":\"closest\",\"hoverlabel\":{\"align\":\"left\"},\"paper_bgcolor\":\"white\",\"plot_bgcolor\":\"#E5ECF6\",\"polar\":{\"bgcolor\":\"#E5ECF6\",\"angularaxis\":{\"gridcolor\":\"white\",\"linecolor\":\"white\",\"ticks\":\"\"},\"radialaxis\":{\"gridcolor\":\"white\",\"linecolor\":\"white\",\"ticks\":\"\"}},\"ternary\":{\"bgcolor\":\"#E5ECF6\",\"aaxis\":{\"gridcolor\":\"white\",\"linecolor\":\"white\",\"ticks\":\"\"},\"baxis\":{\"gridcolor\":\"white\",\"linecolor\":\"white\",\"ticks\":\"\"},\"caxis\":{\"gridcolor\":\"white\",\"linecolor\":\"white\",\"ticks\":\"\"}},\"coloraxis\":{\"colorbar\":{\"outlinewidth\":0,\"ticks\":\"\"}},\"colorscale\":{\"sequential\":[[0.0,\"#0d0887\"],[0.1111111111111111,\"#46039f\"],[0.2222222222222222,\"#7201a8\"],[0.3333333333333333,\"#9c179e\"],[0.4444444444444444,\"#bd3786\"],[0.5555555555555556,\"#d8576b\"],[0.6666666666666666,\"#ed7953\"],[0.7777777777777778,\"#fb9f3a\"],[0.8888888888888888,\"#fdca26\"],[1.0,\"#f0f921\"]],\"sequentialminus\":[[0.0,\"#0d0887\"],[0.1111111111111111,\"#46039f\"],[0.2222222222222222,\"#7201a8\"],[0.3333333333333333,\"#9c179e\"],[0.4444444444444444,\"#bd3786\"],[0.5555555555555556,\"#d8576b\"],[0.6666666666666666,\"#ed7953\"],[0.7777777777777778,\"#fb9f3a\"],[0.8888888888888888,\"#fdca26\"],[1.0,\"#f0f921\"]],\"diverging\":[[0,\"#8e0152\"],[0.1,\"#c51b7d\"],[0.2,\"#de77ae\"],[0.3,\"#f1b6da\"],[0.4,\"#fde0ef\"],[0.5,\"#f7f7f7\"],[0.6,\"#e6f5d0\"],[0.7,\"#b8e186\"],[0.8,\"#7fbc41\"],[0.9,\"#4d9221\"],[1,\"#276419\"]]},\"xaxis\":{\"gridcolor\":\"white\",\"linecolor\":\"white\",\"ticks\":\"\",\"title\":{\"standoff\":15},\"zerolinecolor\":\"white\",\"automargin\":true,\"zerolinewidth\":2},\"yaxis\":{\"gridcolor\":\"white\",\"linecolor\":\"white\",\"ticks\":\"\",\"title\":{\"standoff\":15},\"zerolinecolor\":\"white\",\"automargin\":true,\"zerolinewidth\":2},\"scene\":{\"xaxis\":{\"backgroundcolor\":\"#E5ECF6\",\"gridcolor\":\"white\",\"linecolor\":\"white\",\"showbackground\":true,\"ticks\":\"\",\"zerolinecolor\":\"white\",\"gridwidth\":2},\"yaxis\":{\"backgroundcolor\":\"#E5ECF6\",\"gridcolor\":\"white\",\"linecolor\":\"white\",\"showbackground\":true,\"ticks\":\"\",\"zerolinecolor\":\"white\",\"gridwidth\":2},\"zaxis\":{\"backgroundcolor\":\"#E5ECF6\",\"gridcolor\":\"white\",\"linecolor\":\"white\",\"showbackground\":true,\"ticks\":\"\",\"zerolinecolor\":\"white\",\"gridwidth\":2}},\"shapedefaults\":{\"line\":{\"color\":\"#2a3f5f\"}},\"annotationdefaults\":{\"arrowcolor\":\"#2a3f5f\",\"arrowhead\":0,\"arrowwidth\":1},\"geo\":{\"bgcolor\":\"white\",\"landcolor\":\"#E5ECF6\",\"subunitcolor\":\"white\",\"showland\":true,\"showlakes\":true,\"lakecolor\":\"white\"},\"title\":{\"x\":0.05},\"mapbox\":{\"style\":\"light\"}}}},                        {\"responsive\": true}                    ).then(function(){\n",
       "                            \n",
       "var gd = document.getElementById('78cbc733-d030-4df7-8ba1-45525d7e831b');\n",
       "var x = new MutationObserver(function (mutations, observer) {{\n",
       "        var display = window.getComputedStyle(gd).display;\n",
       "        if (!display || display === 'none') {{\n",
       "            console.log([gd, 'removed!']);\n",
       "            Plotly.purge(gd);\n",
       "            observer.disconnect();\n",
       "        }}\n",
       "}});\n",
       "\n",
       "// Listen for the removal of the full notebook cells\n",
       "var notebookContainer = gd.closest('#notebook-container');\n",
       "if (notebookContainer) {{\n",
       "    x.observe(notebookContainer, {childList: true});\n",
       "}}\n",
       "\n",
       "// Listen for the clearing of the current output cell\n",
       "var outputEl = gd.closest('.output');\n",
       "if (outputEl) {{\n",
       "    x.observe(outputEl, {childList: true});\n",
       "}}\n",
       "\n",
       "                        })                };                });            </script>        </div>"
      ]
     },
     "metadata": {},
     "output_type": "display_data"
    }
   ],
   "source": [
    "#Creación de tabla\n",
    "tabla = pd.DataFrame()\n",
    "tabla['Nombre Ubicación'] = None\n",
    "tabla['Beneficiarios']=None\n",
    "tabla['Color']=None\n",
    "tabla['Comunas']=None\n",
    "\n",
    "#Recopilación de datos\n",
    "datos_comunas_valdivia=list(datos.iloc[1963:1977,3])\n",
    "datos_comunas_paillaco=list(datos.iloc[1919:1930,3])\n",
    "datos_comunas_loslagos=list(datos.iloc[1885:1903,3])\n",
    "datos_comunas_corral=list(datos.iloc[1873:1879,3])\n",
    "datos_comunas=datos_comunas_valdivia+datos_comunas_paillaco+datos_comunas_loslagos+datos_comunas_corral\n",
    "\n",
    "#Se agregan datos a la tabla\n",
    "tabla['Nombre Ubicación'] = nombres\n",
    "tabla['Beneficiarios'] = beneficiarios\n",
    "tabla['Color'] = color_beneficiario\n",
    "tabla['Comunas'] = datos_comunas\n",
    "\n",
    "\n",
    "ff.create_table(tabla)"
   ]
  },
  {
   "cell_type": "markdown",
   "id": "06de0a7a-726c-4b09-8960-380822273261",
   "metadata": {},
   "source": [
    "<a id='Análisis-de-beneficiarios'></a>\n",
    "## Análisis de beneficiarios 👨‍👩‍👧\n",
    "\n",
    "[Inicio ▲](#Indice)\n"
   ]
  },
  {
   "cell_type": "code",
   "execution_count": 6,
   "id": "17027aa5-a23b-4581-8e00-fb8d2eec765d",
   "metadata": {},
   "outputs": [
    {
     "data": {
      "application/vnd.plotly.v1+json": {
       "config": {
        "plotlyServerURL": "https://plot.ly"
       },
       "data": [
        {
         "alignmentgroup": "True",
         "boxpoints": "all",
         "hovertemplate": "Beneficiarios=%{x}<extra></extra>",
         "legendgroup": "",
         "marker": {
          "color": "#636efa"
         },
         "name": "",
         "notched": false,
         "offsetgroup": "",
         "orientation": "h",
         "showlegend": false,
         "type": "box",
         "x": [
          322,
          2294,
          310,
          1048,
          4021,
          459,
          936,
          1091,
          1327,
          549,
          871,
          543,
          623,
          434,
          394,
          428,
          1079,
          1442,
          403,
          220,
          394,
          319,
          710,
          155,
          211,
          1414,
          474,
          149,
          208,
          434,
          592,
          434,
          729,
          456,
          298,
          276,
          375,
          434,
          208,
          236,
          71,
          81,
          78,
          2412,
          620,
          267,
          626,
          744,
          484
         ],
         "x0": " ",
         "xaxis": "x",
         "y0": " ",
         "yaxis": "y"
        }
       ],
       "layout": {
        "autosize": true,
        "boxmode": "group",
        "legend": {
         "tracegroupgap": 0
        },
        "margin": {
         "t": 60
        },
        "template": {
         "data": {
          "bar": [
           {
            "error_x": {
             "color": "#2a3f5f"
            },
            "error_y": {
             "color": "#2a3f5f"
            },
            "marker": {
             "line": {
              "color": "#E5ECF6",
              "width": 0.5
             },
             "pattern": {
              "fillmode": "overlay",
              "size": 10,
              "solidity": 0.2
             }
            },
            "type": "bar"
           }
          ],
          "barpolar": [
           {
            "marker": {
             "line": {
              "color": "#E5ECF6",
              "width": 0.5
             },
             "pattern": {
              "fillmode": "overlay",
              "size": 10,
              "solidity": 0.2
             }
            },
            "type": "barpolar"
           }
          ],
          "carpet": [
           {
            "aaxis": {
             "endlinecolor": "#2a3f5f",
             "gridcolor": "white",
             "linecolor": "white",
             "minorgridcolor": "white",
             "startlinecolor": "#2a3f5f"
            },
            "baxis": {
             "endlinecolor": "#2a3f5f",
             "gridcolor": "white",
             "linecolor": "white",
             "minorgridcolor": "white",
             "startlinecolor": "#2a3f5f"
            },
            "type": "carpet"
           }
          ],
          "choropleth": [
           {
            "colorbar": {
             "outlinewidth": 0,
             "ticks": ""
            },
            "type": "choropleth"
           }
          ],
          "contour": [
           {
            "colorbar": {
             "outlinewidth": 0,
             "ticks": ""
            },
            "colorscale": [
             [
              0,
              "#0d0887"
             ],
             [
              0.1111111111111111,
              "#46039f"
             ],
             [
              0.2222222222222222,
              "#7201a8"
             ],
             [
              0.3333333333333333,
              "#9c179e"
             ],
             [
              0.4444444444444444,
              "#bd3786"
             ],
             [
              0.5555555555555556,
              "#d8576b"
             ],
             [
              0.6666666666666666,
              "#ed7953"
             ],
             [
              0.7777777777777778,
              "#fb9f3a"
             ],
             [
              0.8888888888888888,
              "#fdca26"
             ],
             [
              1,
              "#f0f921"
             ]
            ],
            "type": "contour"
           }
          ],
          "contourcarpet": [
           {
            "colorbar": {
             "outlinewidth": 0,
             "ticks": ""
            },
            "type": "contourcarpet"
           }
          ],
          "heatmap": [
           {
            "colorbar": {
             "outlinewidth": 0,
             "ticks": ""
            },
            "colorscale": [
             [
              0,
              "#0d0887"
             ],
             [
              0.1111111111111111,
              "#46039f"
             ],
             [
              0.2222222222222222,
              "#7201a8"
             ],
             [
              0.3333333333333333,
              "#9c179e"
             ],
             [
              0.4444444444444444,
              "#bd3786"
             ],
             [
              0.5555555555555556,
              "#d8576b"
             ],
             [
              0.6666666666666666,
              "#ed7953"
             ],
             [
              0.7777777777777778,
              "#fb9f3a"
             ],
             [
              0.8888888888888888,
              "#fdca26"
             ],
             [
              1,
              "#f0f921"
             ]
            ],
            "type": "heatmap"
           }
          ],
          "heatmapgl": [
           {
            "colorbar": {
             "outlinewidth": 0,
             "ticks": ""
            },
            "colorscale": [
             [
              0,
              "#0d0887"
             ],
             [
              0.1111111111111111,
              "#46039f"
             ],
             [
              0.2222222222222222,
              "#7201a8"
             ],
             [
              0.3333333333333333,
              "#9c179e"
             ],
             [
              0.4444444444444444,
              "#bd3786"
             ],
             [
              0.5555555555555556,
              "#d8576b"
             ],
             [
              0.6666666666666666,
              "#ed7953"
             ],
             [
              0.7777777777777778,
              "#fb9f3a"
             ],
             [
              0.8888888888888888,
              "#fdca26"
             ],
             [
              1,
              "#f0f921"
             ]
            ],
            "type": "heatmapgl"
           }
          ],
          "histogram": [
           {
            "marker": {
             "pattern": {
              "fillmode": "overlay",
              "size": 10,
              "solidity": 0.2
             }
            },
            "type": "histogram"
           }
          ],
          "histogram2d": [
           {
            "colorbar": {
             "outlinewidth": 0,
             "ticks": ""
            },
            "colorscale": [
             [
              0,
              "#0d0887"
             ],
             [
              0.1111111111111111,
              "#46039f"
             ],
             [
              0.2222222222222222,
              "#7201a8"
             ],
             [
              0.3333333333333333,
              "#9c179e"
             ],
             [
              0.4444444444444444,
              "#bd3786"
             ],
             [
              0.5555555555555556,
              "#d8576b"
             ],
             [
              0.6666666666666666,
              "#ed7953"
             ],
             [
              0.7777777777777778,
              "#fb9f3a"
             ],
             [
              0.8888888888888888,
              "#fdca26"
             ],
             [
              1,
              "#f0f921"
             ]
            ],
            "type": "histogram2d"
           }
          ],
          "histogram2dcontour": [
           {
            "colorbar": {
             "outlinewidth": 0,
             "ticks": ""
            },
            "colorscale": [
             [
              0,
              "#0d0887"
             ],
             [
              0.1111111111111111,
              "#46039f"
             ],
             [
              0.2222222222222222,
              "#7201a8"
             ],
             [
              0.3333333333333333,
              "#9c179e"
             ],
             [
              0.4444444444444444,
              "#bd3786"
             ],
             [
              0.5555555555555556,
              "#d8576b"
             ],
             [
              0.6666666666666666,
              "#ed7953"
             ],
             [
              0.7777777777777778,
              "#fb9f3a"
             ],
             [
              0.8888888888888888,
              "#fdca26"
             ],
             [
              1,
              "#f0f921"
             ]
            ],
            "type": "histogram2dcontour"
           }
          ],
          "mesh3d": [
           {
            "colorbar": {
             "outlinewidth": 0,
             "ticks": ""
            },
            "type": "mesh3d"
           }
          ],
          "parcoords": [
           {
            "line": {
             "colorbar": {
              "outlinewidth": 0,
              "ticks": ""
             }
            },
            "type": "parcoords"
           }
          ],
          "pie": [
           {
            "automargin": true,
            "type": "pie"
           }
          ],
          "scatter": [
           {
            "fillpattern": {
             "fillmode": "overlay",
             "size": 10,
             "solidity": 0.2
            },
            "type": "scatter"
           }
          ],
          "scatter3d": [
           {
            "line": {
             "colorbar": {
              "outlinewidth": 0,
              "ticks": ""
             }
            },
            "marker": {
             "colorbar": {
              "outlinewidth": 0,
              "ticks": ""
             }
            },
            "type": "scatter3d"
           }
          ],
          "scattercarpet": [
           {
            "marker": {
             "colorbar": {
              "outlinewidth": 0,
              "ticks": ""
             }
            },
            "type": "scattercarpet"
           }
          ],
          "scattergeo": [
           {
            "marker": {
             "colorbar": {
              "outlinewidth": 0,
              "ticks": ""
             }
            },
            "type": "scattergeo"
           }
          ],
          "scattergl": [
           {
            "marker": {
             "colorbar": {
              "outlinewidth": 0,
              "ticks": ""
             }
            },
            "type": "scattergl"
           }
          ],
          "scattermapbox": [
           {
            "marker": {
             "colorbar": {
              "outlinewidth": 0,
              "ticks": ""
             }
            },
            "type": "scattermapbox"
           }
          ],
          "scatterpolar": [
           {
            "marker": {
             "colorbar": {
              "outlinewidth": 0,
              "ticks": ""
             }
            },
            "type": "scatterpolar"
           }
          ],
          "scatterpolargl": [
           {
            "marker": {
             "colorbar": {
              "outlinewidth": 0,
              "ticks": ""
             }
            },
            "type": "scatterpolargl"
           }
          ],
          "scatterternary": [
           {
            "marker": {
             "colorbar": {
              "outlinewidth": 0,
              "ticks": ""
             }
            },
            "type": "scatterternary"
           }
          ],
          "surface": [
           {
            "colorbar": {
             "outlinewidth": 0,
             "ticks": ""
            },
            "colorscale": [
             [
              0,
              "#0d0887"
             ],
             [
              0.1111111111111111,
              "#46039f"
             ],
             [
              0.2222222222222222,
              "#7201a8"
             ],
             [
              0.3333333333333333,
              "#9c179e"
             ],
             [
              0.4444444444444444,
              "#bd3786"
             ],
             [
              0.5555555555555556,
              "#d8576b"
             ],
             [
              0.6666666666666666,
              "#ed7953"
             ],
             [
              0.7777777777777778,
              "#fb9f3a"
             ],
             [
              0.8888888888888888,
              "#fdca26"
             ],
             [
              1,
              "#f0f921"
             ]
            ],
            "type": "surface"
           }
          ],
          "table": [
           {
            "cells": {
             "fill": {
              "color": "#EBF0F8"
             },
             "line": {
              "color": "white"
             }
            },
            "header": {
             "fill": {
              "color": "#C8D4E3"
             },
             "line": {
              "color": "white"
             }
            },
            "type": "table"
           }
          ]
         },
         "layout": {
          "annotationdefaults": {
           "arrowcolor": "#2a3f5f",
           "arrowhead": 0,
           "arrowwidth": 1
          },
          "autotypenumbers": "strict",
          "coloraxis": {
           "colorbar": {
            "outlinewidth": 0,
            "ticks": ""
           }
          },
          "colorscale": {
           "diverging": [
            [
             0,
             "#8e0152"
            ],
            [
             0.1,
             "#c51b7d"
            ],
            [
             0.2,
             "#de77ae"
            ],
            [
             0.3,
             "#f1b6da"
            ],
            [
             0.4,
             "#fde0ef"
            ],
            [
             0.5,
             "#f7f7f7"
            ],
            [
             0.6,
             "#e6f5d0"
            ],
            [
             0.7,
             "#b8e186"
            ],
            [
             0.8,
             "#7fbc41"
            ],
            [
             0.9,
             "#4d9221"
            ],
            [
             1,
             "#276419"
            ]
           ],
           "sequential": [
            [
             0,
             "#0d0887"
            ],
            [
             0.1111111111111111,
             "#46039f"
            ],
            [
             0.2222222222222222,
             "#7201a8"
            ],
            [
             0.3333333333333333,
             "#9c179e"
            ],
            [
             0.4444444444444444,
             "#bd3786"
            ],
            [
             0.5555555555555556,
             "#d8576b"
            ],
            [
             0.6666666666666666,
             "#ed7953"
            ],
            [
             0.7777777777777778,
             "#fb9f3a"
            ],
            [
             0.8888888888888888,
             "#fdca26"
            ],
            [
             1,
             "#f0f921"
            ]
           ],
           "sequentialminus": [
            [
             0,
             "#0d0887"
            ],
            [
             0.1111111111111111,
             "#46039f"
            ],
            [
             0.2222222222222222,
             "#7201a8"
            ],
            [
             0.3333333333333333,
             "#9c179e"
            ],
            [
             0.4444444444444444,
             "#bd3786"
            ],
            [
             0.5555555555555556,
             "#d8576b"
            ],
            [
             0.6666666666666666,
             "#ed7953"
            ],
            [
             0.7777777777777778,
             "#fb9f3a"
            ],
            [
             0.8888888888888888,
             "#fdca26"
            ],
            [
             1,
             "#f0f921"
            ]
           ]
          },
          "colorway": [
           "#636efa",
           "#EF553B",
           "#00cc96",
           "#ab63fa",
           "#FFA15A",
           "#19d3f3",
           "#FF6692",
           "#B6E880",
           "#FF97FF",
           "#FECB52"
          ],
          "font": {
           "color": "#2a3f5f"
          },
          "geo": {
           "bgcolor": "white",
           "lakecolor": "white",
           "landcolor": "#E5ECF6",
           "showlakes": true,
           "showland": true,
           "subunitcolor": "white"
          },
          "hoverlabel": {
           "align": "left"
          },
          "hovermode": "closest",
          "mapbox": {
           "style": "light"
          },
          "paper_bgcolor": "white",
          "plot_bgcolor": "#E5ECF6",
          "polar": {
           "angularaxis": {
            "gridcolor": "white",
            "linecolor": "white",
            "ticks": ""
           },
           "bgcolor": "#E5ECF6",
           "radialaxis": {
            "gridcolor": "white",
            "linecolor": "white",
            "ticks": ""
           }
          },
          "scene": {
           "xaxis": {
            "backgroundcolor": "#E5ECF6",
            "gridcolor": "white",
            "gridwidth": 2,
            "linecolor": "white",
            "showbackground": true,
            "ticks": "",
            "zerolinecolor": "white"
           },
           "yaxis": {
            "backgroundcolor": "#E5ECF6",
            "gridcolor": "white",
            "gridwidth": 2,
            "linecolor": "white",
            "showbackground": true,
            "ticks": "",
            "zerolinecolor": "white"
           },
           "zaxis": {
            "backgroundcolor": "#E5ECF6",
            "gridcolor": "white",
            "gridwidth": 2,
            "linecolor": "white",
            "showbackground": true,
            "ticks": "",
            "zerolinecolor": "white"
           }
          },
          "shapedefaults": {
           "line": {
            "color": "#2a3f5f"
           }
          },
          "ternary": {
           "aaxis": {
            "gridcolor": "white",
            "linecolor": "white",
            "ticks": ""
           },
           "baxis": {
            "gridcolor": "white",
            "linecolor": "white",
            "ticks": ""
           },
           "bgcolor": "#E5ECF6",
           "caxis": {
            "gridcolor": "white",
            "linecolor": "white",
            "ticks": ""
           }
          },
          "title": {
           "x": 0.05
          },
          "xaxis": {
           "automargin": true,
           "gridcolor": "white",
           "linecolor": "white",
           "ticks": "",
           "title": {
            "standoff": 15
           },
           "zerolinecolor": "white",
           "zerolinewidth": 2
          },
          "yaxis": {
           "automargin": true,
           "gridcolor": "white",
           "linecolor": "white",
           "ticks": "",
           "title": {
            "standoff": 15
           },
           "zerolinecolor": "white",
           "zerolinewidth": 2
          }
         }
        },
        "title": {
         "text": "Distribución de sistemas de Agua Potable Rural"
        },
        "xaxis": {
         "anchor": "y",
         "autorange": true,
         "domain": [
          0,
          1
         ],
         "range": [
          -148.44444444444446,
          4240.444444444444
         ],
         "title": {
          "text": "Beneficiarios"
         },
         "type": "linear"
        },
        "yaxis": {
         "anchor": "x",
         "autorange": true,
         "domain": [
          0,
          1
         ],
         "range": [
          -0.5138248847926268,
          0.5
         ],
         "type": "category"
        }
       }
      },
      "image/png": "[encoded data removed]",
      "text/html": [
       "<div>                            <div id=\"9ef1b95a-59f5-4729-8c0f-623534199a98\" class=\"plotly-graph-div\" style=\"height:525px; width:100%;\"></div>            <script type=\"text/javascript\">                require([\"plotly\"], function(Plotly) {                    window.PLOTLYENV=window.PLOTLYENV || {};                                    if (document.getElementById(\"9ef1b95a-59f5-4729-8c0f-623534199a98\")) {                    Plotly.newPlot(                        \"9ef1b95a-59f5-4729-8c0f-623534199a98\",                        [{\"alignmentgroup\":\"True\",\"boxpoints\":\"all\",\"hovertemplate\":\"Beneficiarios=%{x}<extra></extra>\",\"legendgroup\":\"\",\"marker\":{\"color\":\"#636efa\"},\"name\":\"\",\"notched\":false,\"offsetgroup\":\"\",\"orientation\":\"h\",\"showlegend\":false,\"x\":[322.0,2294.0,310.0,1048.0,4021.0,459.0,936.0,1091.0,1327.0,549.0,871.0,543.0,623.0,434.0,394.0,428.0,1079.0,1442.0,403.0,220.0,394.0,319.0,710.0,155.0,211.0,1414.0,474.0,149.0,208.0,434.0,592.0,434.0,729.0,456.0,298.0,276.0,375.0,434.0,208.0,236.0,71.0,81.0,78.0,2412.0,620.0,267.0,626.0,744.0,484.0],\"x0\":\" \",\"xaxis\":\"x\",\"y0\":\" \",\"yaxis\":\"y\",\"type\":\"box\"}],                        {\"template\":{\"data\":{\"histogram2dcontour\":[{\"type\":\"histogram2dcontour\",\"colorbar\":{\"outlinewidth\":0,\"ticks\":\"\"},\"colorscale\":[[0.0,\"#0d0887\"],[0.1111111111111111,\"#46039f\"],[0.2222222222222222,\"#7201a8\"],[0.3333333333333333,\"#9c179e\"],[0.4444444444444444,\"#bd3786\"],[0.5555555555555556,\"#d8576b\"],[0.6666666666666666,\"#ed7953\"],[0.7777777777777778,\"#fb9f3a\"],[0.8888888888888888,\"#fdca26\"],[1.0,\"#f0f921\"]]}],\"choropleth\":[{\"type\":\"choropleth\",\"colorbar\":{\"outlinewidth\":0,\"ticks\":\"\"}}],\"histogram2d\":[{\"type\":\"histogram2d\",\"colorbar\":{\"outlinewidth\":0,\"ticks\":\"\"},\"colorscale\":[[0.0,\"#0d0887\"],[0.1111111111111111,\"#46039f\"],[0.2222222222222222,\"#7201a8\"],[0.3333333333333333,\"#9c179e\"],[0.4444444444444444,\"#bd3786\"],[0.5555555555555556,\"#d8576b\"],[0.6666666666666666,\"#ed7953\"],[0.7777777777777778,\"#fb9f3a\"],[0.8888888888888888,\"#fdca26\"],[1.0,\"#f0f921\"]]}],\"heatmap\":[{\"type\":\"heatmap\",\"colorbar\":{\"outlinewidth\":0,\"ticks\":\"\"},\"colorscale\":[[0.0,\"#0d0887\"],[0.1111111111111111,\"#46039f\"],[0.2222222222222222,\"#7201a8\"],[0.3333333333333333,\"#9c179e\"],[0.4444444444444444,\"#bd3786\"],[0.5555555555555556,\"#d8576b\"],[0.6666666666666666,\"#ed7953\"],[0.7777777777777778,\"#fb9f3a\"],[0.8888888888888888,\"#fdca26\"],[1.0,\"#f0f921\"]]}],\"heatmapgl\":[{\"type\":\"heatmapgl\",\"colorbar\":{\"outlinewidth\":0,\"ticks\":\"\"},\"colorscale\":[[0.0,\"#0d0887\"],[0.1111111111111111,\"#46039f\"],[0.2222222222222222,\"#7201a8\"],[0.3333333333333333,\"#9c179e\"],[0.4444444444444444,\"#bd3786\"],[0.5555555555555556,\"#d8576b\"],[0.6666666666666666,\"#ed7953\"],[0.7777777777777778,\"#fb9f3a\"],[0.8888888888888888,\"#fdca26\"],[1.0,\"#f0f921\"]]}],\"contourcarpet\":[{\"type\":\"contourcarpet\",\"colorbar\":{\"outlinewidth\":0,\"ticks\":\"\"}}],\"contour\":[{\"type\":\"contour\",\"colorbar\":{\"outlinewidth\":0,\"ticks\":\"\"},\"colorscale\":[[0.0,\"#0d0887\"],[0.1111111111111111,\"#46039f\"],[0.2222222222222222,\"#7201a8\"],[0.3333333333333333,\"#9c179e\"],[0.4444444444444444,\"#bd3786\"],[0.5555555555555556,\"#d8576b\"],[0.6666666666666666,\"#ed7953\"],[0.7777777777777778,\"#fb9f3a\"],[0.8888888888888888,\"#fdca26\"],[1.0,\"#f0f921\"]]}],\"surface\":[{\"type\":\"surface\",\"colorbar\":{\"outlinewidth\":0,\"ticks\":\"\"},\"colorscale\":[[0.0,\"#0d0887\"],[0.1111111111111111,\"#46039f\"],[0.2222222222222222,\"#7201a8\"],[0.3333333333333333,\"#9c179e\"],[0.4444444444444444,\"#bd3786\"],[0.5555555555555556,\"#d8576b\"],[0.6666666666666666,\"#ed7953\"],[0.7777777777777778,\"#fb9f3a\"],[0.8888888888888888,\"#fdca26\"],[1.0,\"#f0f921\"]]}],\"mesh3d\":[{\"type\":\"mesh3d\",\"colorbar\":{\"outlinewidth\":0,\"ticks\":\"\"}}],\"scatter\":[{\"fillpattern\":{\"fillmode\":\"overlay\",\"size\":10,\"solidity\":0.2},\"type\":\"scatter\"}],\"parcoords\":[{\"type\":\"parcoords\",\"line\":{\"colorbar\":{\"outlinewidth\":0,\"ticks\":\"\"}}}],\"scatterpolargl\":[{\"type\":\"scatterpolargl\",\"marker\":{\"colorbar\":{\"outlinewidth\":0,\"ticks\":\"\"}}}],\"bar\":[{\"error_x\":{\"color\":\"#2a3f5f\"},\"error_y\":{\"color\":\"#2a3f5f\"},\"marker\":{\"line\":{\"color\":\"#E5ECF6\",\"width\":0.5},\"pattern\":{\"fillmode\":\"overlay\",\"size\":10,\"solidity\":0.2}},\"type\":\"bar\"}],\"scattergeo\":[{\"type\":\"scattergeo\",\"marker\":{\"colorbar\":{\"outlinewidth\":0,\"ticks\":\"\"}}}],\"scatterpolar\":[{\"type\":\"scatterpolar\",\"marker\":{\"colorbar\":{\"outlinewidth\":0,\"ticks\":\"\"}}}],\"histogram\":[{\"marker\":{\"pattern\":{\"fillmode\":\"overlay\",\"size\":10,\"solidity\":0.2}},\"type\":\"histogram\"}],\"scattergl\":[{\"type\":\"scattergl\",\"marker\":{\"colorbar\":{\"outlinewidth\":0,\"ticks\":\"\"}}}],\"scatter3d\":[{\"type\":\"scatter3d\",\"line\":{\"colorbar\":{\"outlinewidth\":0,\"ticks\":\"\"}},\"marker\":{\"colorbar\":{\"outlinewidth\":0,\"ticks\":\"\"}}}],\"scattermapbox\":[{\"type\":\"scattermapbox\",\"marker\":{\"colorbar\":{\"outlinewidth\":0,\"ticks\":\"\"}}}],\"scatterternary\":[{\"type\":\"scatterternary\",\"marker\":{\"colorbar\":{\"outlinewidth\":0,\"ticks\":\"\"}}}],\"scattercarpet\":[{\"type\":\"scattercarpet\",\"marker\":{\"colorbar\":{\"outlinewidth\":0,\"ticks\":\"\"}}}],\"carpet\":[{\"aaxis\":{\"endlinecolor\":\"#2a3f5f\",\"gridcolor\":\"white\",\"linecolor\":\"white\",\"minorgridcolor\":\"white\",\"startlinecolor\":\"#2a3f5f\"},\"baxis\":{\"endlinecolor\":\"#2a3f5f\",\"gridcolor\":\"white\",\"linecolor\":\"white\",\"minorgridcolor\":\"white\",\"startlinecolor\":\"#2a3f5f\"},\"type\":\"carpet\"}],\"table\":[{\"cells\":{\"fill\":{\"color\":\"#EBF0F8\"},\"line\":{\"color\":\"white\"}},\"header\":{\"fill\":{\"color\":\"#C8D4E3\"},\"line\":{\"color\":\"white\"}},\"type\":\"table\"}],\"barpolar\":[{\"marker\":{\"line\":{\"color\":\"#E5ECF6\",\"width\":0.5},\"pattern\":{\"fillmode\":\"overlay\",\"size\":10,\"solidity\":0.2}},\"type\":\"barpolar\"}],\"pie\":[{\"automargin\":true,\"type\":\"pie\"}]},\"layout\":{\"autotypenumbers\":\"strict\",\"colorway\":[\"#636efa\",\"#EF553B\",\"#00cc96\",\"#ab63fa\",\"#FFA15A\",\"#19d3f3\",\"#FF6692\",\"#B6E880\",\"#FF97FF\",\"#FECB52\"],\"font\":{\"color\":\"#2a3f5f\"},\"hovermode\":\"closest\",\"hoverlabel\":{\"align\":\"left\"},\"paper_bgcolor\":\"white\",\"plot_bgcolor\":\"#E5ECF6\",\"polar\":{\"bgcolor\":\"#E5ECF6\",\"angularaxis\":{\"gridcolor\":\"white\",\"linecolor\":\"white\",\"ticks\":\"\"},\"radialaxis\":{\"gridcolor\":\"white\",\"linecolor\":\"white\",\"ticks\":\"\"}},\"ternary\":{\"bgcolor\":\"#E5ECF6\",\"aaxis\":{\"gridcolor\":\"white\",\"linecolor\":\"white\",\"ticks\":\"\"},\"baxis\":{\"gridcolor\":\"white\",\"linecolor\":\"white\",\"ticks\":\"\"},\"caxis\":{\"gridcolor\":\"white\",\"linecolor\":\"white\",\"ticks\":\"\"}},\"coloraxis\":{\"colorbar\":{\"outlinewidth\":0,\"ticks\":\"\"}},\"colorscale\":{\"sequential\":[[0.0,\"#0d0887\"],[0.1111111111111111,\"#46039f\"],[0.2222222222222222,\"#7201a8\"],[0.3333333333333333,\"#9c179e\"],[0.4444444444444444,\"#bd3786\"],[0.5555555555555556,\"#d8576b\"],[0.6666666666666666,\"#ed7953\"],[0.7777777777777778,\"#fb9f3a\"],[0.8888888888888888,\"#fdca26\"],[1.0,\"#f0f921\"]],\"sequentialminus\":[[0.0,\"#0d0887\"],[0.1111111111111111,\"#46039f\"],[0.2222222222222222,\"#7201a8\"],[0.3333333333333333,\"#9c179e\"],[0.4444444444444444,\"#bd3786\"],[0.5555555555555556,\"#d8576b\"],[0.6666666666666666,\"#ed7953\"],[0.7777777777777778,\"#fb9f3a\"],[0.8888888888888888,\"#fdca26\"],[1.0,\"#f0f921\"]],\"diverging\":[[0,\"#8e0152\"],[0.1,\"#c51b7d\"],[0.2,\"#de77ae\"],[0.3,\"#f1b6da\"],[0.4,\"#fde0ef\"],[0.5,\"#f7f7f7\"],[0.6,\"#e6f5d0\"],[0.7,\"#b8e186\"],[0.8,\"#7fbc41\"],[0.9,\"#4d9221\"],[1,\"#276419\"]]},\"xaxis\":{\"gridcolor\":\"white\",\"linecolor\":\"white\",\"ticks\":\"\",\"title\":{\"standoff\":15},\"zerolinecolor\":\"white\",\"automargin\":true,\"zerolinewidth\":2},\"yaxis\":{\"gridcolor\":\"white\",\"linecolor\":\"white\",\"ticks\":\"\",\"title\":{\"standoff\":15},\"zerolinecolor\":\"white\",\"automargin\":true,\"zerolinewidth\":2},\"scene\":{\"xaxis\":{\"backgroundcolor\":\"#E5ECF6\",\"gridcolor\":\"white\",\"linecolor\":\"white\",\"showbackground\":true,\"ticks\":\"\",\"zerolinecolor\":\"white\",\"gridwidth\":2},\"yaxis\":{\"backgroundcolor\":\"#E5ECF6\",\"gridcolor\":\"white\",\"linecolor\":\"white\",\"showbackground\":true,\"ticks\":\"\",\"zerolinecolor\":\"white\",\"gridwidth\":2},\"zaxis\":{\"backgroundcolor\":\"#E5ECF6\",\"gridcolor\":\"white\",\"linecolor\":\"white\",\"showbackground\":true,\"ticks\":\"\",\"zerolinecolor\":\"white\",\"gridwidth\":2}},\"shapedefaults\":{\"line\":{\"color\":\"#2a3f5f\"}},\"annotationdefaults\":{\"arrowcolor\":\"#2a3f5f\",\"arrowhead\":0,\"arrowwidth\":1},\"geo\":{\"bgcolor\":\"white\",\"landcolor\":\"#E5ECF6\",\"subunitcolor\":\"white\",\"showland\":true,\"showlakes\":true,\"lakecolor\":\"white\"},\"title\":{\"x\":0.05},\"mapbox\":{\"style\":\"light\"}}},\"xaxis\":{\"anchor\":\"y\",\"domain\":[0.0,1.0],\"title\":{\"text\":\"Beneficiarios\"}},\"yaxis\":{\"anchor\":\"x\",\"domain\":[0.0,1.0]},\"legend\":{\"tracegroupgap\":0},\"margin\":{\"t\":60},\"boxmode\":\"group\",\"title\":{\"text\":\"Distribuci\\u00f3n de sistemas de Agua Potable Rural\"}},                        {\"responsive\": true}                    ).then(function(){\n",
       "                            \n",
       "var gd = document.getElementById('9ef1b95a-59f5-4729-8c0f-623534199a98');\n",
       "var x = new MutationObserver(function (mutations, observer) {{\n",
       "        var display = window.getComputedStyle(gd).display;\n",
       "        if (!display || display === 'none') {{\n",
       "            console.log([gd, 'removed!']);\n",
       "            Plotly.purge(gd);\n",
       "            observer.disconnect();\n",
       "        }}\n",
       "}});\n",
       "\n",
       "// Listen for the removal of the full notebook cells\n",
       "var notebookContainer = gd.closest('#notebook-container');\n",
       "if (notebookContainer) {{\n",
       "    x.observe(notebookContainer, {childList: true});\n",
       "}}\n",
       "\n",
       "// Listen for the clearing of the current output cell\n",
       "var outputEl = gd.closest('.output');\n",
       "if (outputEl) {{\n",
       "    x.observe(outputEl, {childList: true});\n",
       "}}\n",
       "\n",
       "                        })                };                });            </script>        </div>"
      ]
     },
     "metadata": {},
     "output_type": "display_data"
    }
   ],
   "source": [
    "df = px.data.tips()\n",
    "fig = px.box(tabla, x=\"Beneficiarios\", points=\"all\")\n",
    "fig.update_layout(title_text=\"Distribución de sistemas de Agua Potable Rural\")\n",
    "fig.show()"
   ]
  },
  {
   "cell_type": "code",
   "execution_count": 7,
   "id": "fbb8d50a-f1ea-4c7c-bce8-e03abd4d3d9c",
   "metadata": {},
   "outputs": [
    {
     "data": {
      "application/vnd.plotly.v1+json": {
       "config": {
        "plotlyServerURL": "https://plot.ly"
       },
       "data": [
        {
         "alignmentgroup": "True",
         "hovertemplate": "Nombre Ubicación=%{x}<br>Beneficiarios=%{y}<extra></extra>",
         "legendgroup": "PISHUINCO",
         "marker": {
          "color": "green",
          "pattern": {
           "shape": ""
          }
         },
         "name": "PISHUINCO",
         "offsetgroup": "PISHUINCO",
         "orientation": "v",
         "showlegend": true,
         "textposition": "auto",
         "type": "bar",
         "x": [
          "PISHUINCO"
         ],
         "xaxis": "x",
         "y": [
          322
         ],
         "yaxis": "y"
        },
        {
         "alignmentgroup": "True",
         "hovertemplate": "Nombre Ubicación=%{x}<br>Beneficiarios=%{y}<extra></extra>",
         "legendgroup": "CURIÑANCO",
         "marker": {
          "color": "purple",
          "pattern": {
           "shape": ""
          }
         },
         "name": "CURIÑANCO",
         "offsetgroup": "CURIÑANCO",
         "orientation": "v",
         "showlegend": true,
         "textposition": "auto",
         "type": "bar",
         "x": [
          "CURIÑANCO"
         ],
         "xaxis": "x",
         "y": [
          2294
         ],
         "yaxis": "y"
        },
        {
         "alignmentgroup": "True",
         "hovertemplate": "Nombre Ubicación=%{x}<br>Beneficiarios=%{y}<extra></extra>",
         "legendgroup": "HUELLELHUE",
         "marker": {
          "color": "green",
          "pattern": {
           "shape": ""
          }
         },
         "name": "HUELLELHUE",
         "offsetgroup": "HUELLELHUE",
         "orientation": "v",
         "showlegend": true,
         "textposition": "auto",
         "type": "bar",
         "x": [
          "HUELLELHUE"
         ],
         "xaxis": "x",
         "y": [
          310
         ],
         "yaxis": "y"
        },
        {
         "alignmentgroup": "True",
         "hovertemplate": "Nombre Ubicación=%{x}<br>Beneficiarios=%{y}<extra></extra>",
         "legendgroup": "LAS GAVIOTAS",
         "marker": {
          "color": "red",
          "pattern": {
           "shape": ""
          }
         },
         "name": "LAS GAVIOTAS",
         "offsetgroup": "LAS GAVIOTAS",
         "orientation": "v",
         "showlegend": true,
         "textposition": "auto",
         "type": "bar",
         "x": [
          "LAS GAVIOTAS"
         ],
         "xaxis": "x",
         "y": [
          1048
         ],
         "yaxis": "y"
        },
        {
         "alignmentgroup": "True",
         "hovertemplate": "Nombre Ubicación=%{x}<br>Beneficiarios=%{y}<extra></extra>",
         "legendgroup": "NIEBLA-LOS MOLINOS",
         "marker": {
          "color": "purple",
          "pattern": {
           "shape": ""
          }
         },
         "name": "NIEBLA-LOS MOLINOS",
         "offsetgroup": "NIEBLA-LOS MOLINOS",
         "orientation": "v",
         "showlegend": true,
         "textposition": "auto",
         "type": "bar",
         "x": [
          "NIEBLA-LOS MOLINOS"
         ],
         "xaxis": "x",
         "y": [
          4021
         ],
         "yaxis": "y"
        },
        {
         "alignmentgroup": "True",
         "hovertemplate": "Nombre Ubicación=%{x}<br>Beneficiarios=%{y}<extra></extra>",
         "legendgroup": "PUNUCAPA",
         "marker": {
          "color": "orange",
          "pattern": {
           "shape": ""
          }
         },
         "name": "PUNUCAPA",
         "offsetgroup": "PUNUCAPA",
         "orientation": "v",
         "showlegend": true,
         "textposition": "auto",
         "type": "bar",
         "x": [
          "PUNUCAPA"
         ],
         "xaxis": "x",
         "y": [
          459
         ],
         "yaxis": "y"
        },
        {
         "alignmentgroup": "True",
         "hovertemplate": "Nombre Ubicación=%{x}<br>Beneficiarios=%{y}<extra></extra>",
         "legendgroup": "SAN IGNACIO-PLAYA ROSADA",
         "marker": {
          "color": "red",
          "pattern": {
           "shape": ""
          }
         },
         "name": "SAN IGNACIO-PLAYA ROSADA",
         "offsetgroup": "SAN IGNACIO-PLAYA ROSADA",
         "orientation": "v",
         "showlegend": true,
         "textposition": "auto",
         "type": "bar",
         "x": [
          "SAN IGNACIO-PLAYA ROSADA"
         ],
         "xaxis": "x",
         "y": [
          936
         ],
         "yaxis": "y"
        },
        {
         "alignmentgroup": "True",
         "hovertemplate": "Nombre Ubicación=%{x}<br>Beneficiarios=%{y}<extra></extra>",
         "legendgroup": "TRES ESPINOS",
         "marker": {
          "color": "red",
          "pattern": {
           "shape": ""
          }
         },
         "name": "TRES ESPINOS",
         "offsetgroup": "TRES ESPINOS",
         "orientation": "v",
         "showlegend": true,
         "textposition": "auto",
         "type": "bar",
         "x": [
          "TRES ESPINOS"
         ],
         "xaxis": "x",
         "y": [
          1091
         ],
         "yaxis": "y"
        },
        {
         "alignmentgroup": "True",
         "hovertemplate": "Nombre Ubicación=%{x}<br>Beneficiarios=%{y}<extra></extra>",
         "legendgroup": "VILLA CAYUMAPU",
         "marker": {
          "color": "purple",
          "pattern": {
           "shape": ""
          }
         },
         "name": "VILLA CAYUMAPU",
         "offsetgroup": "VILLA CAYUMAPU",
         "orientation": "v",
         "showlegend": true,
         "textposition": "auto",
         "type": "bar",
         "x": [
          "VILLA CAYUMAPU"
         ],
         "xaxis": "x",
         "y": [
          1327
         ],
         "yaxis": "y"
        },
        {
         "alignmentgroup": "True",
         "hovertemplate": "Nombre Ubicación=%{x}<br>Beneficiarios=%{y}<extra></extra>",
         "legendgroup": "EL ARENAL SANTA ELVIRA",
         "marker": {
          "color": "orange",
          "pattern": {
           "shape": ""
          }
         },
         "name": "EL ARENAL SANTA ELVIRA",
         "offsetgroup": "EL ARENAL SANTA ELVIRA",
         "orientation": "v",
         "showlegend": true,
         "textposition": "auto",
         "type": "bar",
         "x": [
          "EL ARENAL SANTA ELVIRA"
         ],
         "xaxis": "x",
         "y": [
          549
         ],
         "yaxis": "y"
        },
        {
         "alignmentgroup": "True",
         "hovertemplate": "Nombre Ubicación=%{x}<br>Beneficiarios=%{y}<extra></extra>",
         "legendgroup": "PAILLAO",
         "marker": {
          "color": "red",
          "pattern": {
           "shape": ""
          }
         },
         "name": "PAILLAO",
         "offsetgroup": "PAILLAO",
         "orientation": "v",
         "showlegend": true,
         "textposition": "auto",
         "type": "bar",
         "x": [
          "PAILLAO"
         ],
         "xaxis": "x",
         "y": [
          871
         ],
         "yaxis": "y"
        },
        {
         "alignmentgroup": "True",
         "hovertemplate": "Nombre Ubicación=%{x}<br>Beneficiarios=%{y}<extra></extra>",
         "legendgroup": "CABO BLANCO",
         "marker": {
          "color": "orange",
          "pattern": {
           "shape": ""
          }
         },
         "name": "CABO BLANCO",
         "offsetgroup": "CABO BLANCO",
         "orientation": "v",
         "showlegend": true,
         "textposition": "auto",
         "type": "bar",
         "x": [
          "CABO BLANCO"
         ],
         "xaxis": "x",
         "y": [
          543
         ],
         "yaxis": "y"
        },
        {
         "alignmentgroup": "True",
         "hovertemplate": "Nombre Ubicación=%{x}<br>Beneficiarios=%{y}<extra></extra>",
         "legendgroup": "EL ARENAL KM 2",
         "marker": {
          "color": "orange",
          "pattern": {
           "shape": ""
          }
         },
         "name": "EL ARENAL KM 2",
         "offsetgroup": "EL ARENAL KM 2",
         "orientation": "v",
         "showlegend": true,
         "textposition": "auto",
         "type": "bar",
         "x": [
          "EL ARENAL KM 2"
         ],
         "xaxis": "x",
         "y": [
          623
         ],
         "yaxis": "y"
        },
        {
         "alignmentgroup": "True",
         "hovertemplate": "Nombre Ubicación=%{x}<br>Beneficiarios=%{y}<extra></extra>",
         "legendgroup": "Chabelita",
         "marker": {
          "color": "orange",
          "pattern": {
           "shape": ""
          }
         },
         "name": "Chabelita",
         "offsetgroup": "Chabelita",
         "orientation": "v",
         "showlegend": true,
         "textposition": "auto",
         "type": "bar",
         "x": [
          "Chabelita"
         ],
         "xaxis": "x",
         "y": [
          434
         ],
         "yaxis": "y"
        },
        {
         "alignmentgroup": "True",
         "hovertemplate": "Nombre Ubicación=%{x}<br>Beneficiarios=%{y}<extra></extra>",
         "legendgroup": "ARCO IRIS",
         "marker": {
          "color": "green",
          "pattern": {
           "shape": ""
          }
         },
         "name": "ARCO IRIS",
         "offsetgroup": "ARCO IRIS",
         "orientation": "v",
         "showlegend": true,
         "textposition": "auto",
         "type": "bar",
         "x": [
          "ARCO IRIS"
         ],
         "xaxis": "x",
         "y": [
          394
         ],
         "yaxis": "y"
        },
        {
         "alignmentgroup": "True",
         "hovertemplate": "Nombre Ubicación=%{x}<br>Beneficiarios=%{y}<extra></extra>",
         "legendgroup": "EL LLOLLY",
         "marker": {
          "color": "green",
          "pattern": {
           "shape": ""
          }
         },
         "name": "EL LLOLLY",
         "offsetgroup": "EL LLOLLY",
         "orientation": "v",
         "showlegend": true,
         "textposition": "auto",
         "type": "bar",
         "x": [
          "EL LLOLLY"
         ],
         "xaxis": "x",
         "y": [
          428
         ],
         "yaxis": "y"
        },
        {
         "alignmentgroup": "True",
         "hovertemplate": "Nombre Ubicación=%{x}<br>Beneficiarios=%{y}<extra></extra>",
         "legendgroup": "PICHIRROPULLI",
         "marker": {
          "color": "red",
          "pattern": {
           "shape": ""
          }
         },
         "name": "PICHIRROPULLI",
         "offsetgroup": "PICHIRROPULLI",
         "orientation": "v",
         "showlegend": true,
         "textposition": "auto",
         "type": "bar",
         "x": [
          "PICHIRROPULLI"
         ],
         "xaxis": "x",
         "y": [
          1079
         ],
         "yaxis": "y"
        },
        {
         "alignmentgroup": "True",
         "hovertemplate": "Nombre Ubicación=%{x}<br>Beneficiarios=%{y}<extra></extra>",
         "legendgroup": "REUMEN",
         "marker": {
          "color": "purple",
          "pattern": {
           "shape": ""
          }
         },
         "name": "REUMEN",
         "offsetgroup": "REUMEN",
         "orientation": "v",
         "showlegend": true,
         "textposition": "auto",
         "type": "bar",
         "x": [
          "REUMEN"
         ],
         "xaxis": "x",
         "y": [
          1442
         ],
         "yaxis": "y"
        },
        {
         "alignmentgroup": "True",
         "hovertemplate": "Nombre Ubicación=%{x}<br>Beneficiarios=%{y}<extra></extra>",
         "legendgroup": "SANTA FILOMENA",
         "marker": {
          "color": "green",
          "pattern": {
           "shape": ""
          }
         },
         "name": "SANTA FILOMENA",
         "offsetgroup": "SANTA FILOMENA",
         "orientation": "v",
         "showlegend": true,
         "textposition": "auto",
         "type": "bar",
         "x": [
          "SANTA FILOMENA"
         ],
         "xaxis": "x",
         "y": [
          403
         ],
         "yaxis": "y"
        },
        {
         "alignmentgroup": "True",
         "hovertemplate": "Nombre Ubicación=%{x}<br>Beneficiarios=%{y}<extra></extra>",
         "legendgroup": "MANAO",
         "marker": {
          "color": "blue",
          "pattern": {
           "shape": ""
          }
         },
         "name": "MANAO",
         "offsetgroup": "MANAO",
         "orientation": "v",
         "showlegend": true,
         "textposition": "auto",
         "type": "bar",
         "x": [
          "MANAO"
         ],
         "xaxis": "x",
         "y": [
          220
         ],
         "yaxis": "y"
        },
        {
         "alignmentgroup": "True",
         "hovertemplate": "Nombre Ubicación=%{x}<br>Beneficiarios=%{y}<extra></extra>",
         "legendgroup": "SANTA ROSA CHICA",
         "marker": {
          "color": "green",
          "pattern": {
           "shape": ""
          }
         },
         "name": "SANTA ROSA CHICA",
         "offsetgroup": "SANTA ROSA CHICA",
         "orientation": "v",
         "showlegend": true,
         "textposition": "auto",
         "type": "bar",
         "x": [
          "SANTA ROSA CHICA"
         ],
         "xaxis": "x",
         "y": [
          394
         ],
         "yaxis": "y"
        },
        {
         "alignmentgroup": "True",
         "hovertemplate": "Nombre Ubicación=%{x}<br>Beneficiarios=%{y}<extra></extra>",
         "legendgroup": "SANTA ROSA GRANDE",
         "marker": {
          "color": "green",
          "pattern": {
           "shape": ""
          }
         },
         "name": "SANTA ROSA GRANDE",
         "offsetgroup": "SANTA ROSA GRANDE",
         "orientation": "v",
         "showlegend": true,
         "textposition": "auto",
         "type": "bar",
         "x": [
          "SANTA ROSA GRANDE"
         ],
         "xaxis": "x",
         "y": [
          319
         ],
         "yaxis": "y"
        },
        {
         "alignmentgroup": "True",
         "hovertemplate": "Nombre Ubicación=%{x}<br>Beneficiarios=%{y}<extra></extra>",
         "legendgroup": "LUMACO PAILLACO",
         "marker": {
          "color": "orange",
          "pattern": {
           "shape": ""
          }
         },
         "name": "LUMACO PAILLACO",
         "offsetgroup": "LUMACO PAILLACO",
         "orientation": "v",
         "showlegend": true,
         "textposition": "auto",
         "type": "bar",
         "x": [
          "LUMACO PAILLACO"
         ],
         "xaxis": "x",
         "y": [
          710
         ],
         "yaxis": "y"
        },
        {
         "alignmentgroup": "True",
         "hovertemplate": "Nombre Ubicación=%{x}<br>Beneficiarios=%{y}<extra></extra>",
         "legendgroup": "EL MAITEN",
         "marker": {
          "color": "blue",
          "pattern": {
           "shape": ""
          }
         },
         "name": "EL MAITEN",
         "offsetgroup": "EL MAITEN",
         "orientation": "v",
         "showlegend": true,
         "textposition": "auto",
         "type": "bar",
         "x": [
          "EL MAITEN"
         ],
         "xaxis": "x",
         "y": [
          155
         ],
         "yaxis": "y"
        },
        {
         "alignmentgroup": "True",
         "hovertemplate": "Nombre Ubicación=%{x}<br>Beneficiarios=%{y}<extra></extra>",
         "legendgroup": "SANTA FILOMENA II",
         "marker": {
          "color": "blue",
          "pattern": {
           "shape": ""
          }
         },
         "name": "SANTA FILOMENA II",
         "offsetgroup": "SANTA FILOMENA II",
         "orientation": "v",
         "showlegend": true,
         "textposition": "auto",
         "type": "bar",
         "x": [
          "SANTA FILOMENA II"
         ],
         "xaxis": "x",
         "y": [
          211
         ],
         "yaxis": "y"
        },
        {
         "alignmentgroup": "True",
         "hovertemplate": "Nombre Ubicación=%{x}<br>Beneficiarios=%{y}<extra></extra>",
         "legendgroup": "ANTILHUE",
         "marker": {
          "color": "purple",
          "pattern": {
           "shape": ""
          }
         },
         "name": "ANTILHUE",
         "offsetgroup": "ANTILHUE",
         "orientation": "v",
         "showlegend": true,
         "textposition": "auto",
         "type": "bar",
         "x": [
          "ANTILHUE"
         ],
         "xaxis": "x",
         "y": [
          1414
         ],
         "yaxis": "y"
        },
        {
         "alignmentgroup": "True",
         "hovertemplate": "Nombre Ubicación=%{x}<br>Beneficiarios=%{y}<extra></extra>",
         "legendgroup": "FOLILCO LOS LAGOS",
         "marker": {
          "color": "orange",
          "pattern": {
           "shape": ""
          }
         },
         "name": "FOLILCO LOS LAGOS",
         "offsetgroup": "FOLILCO LOS LAGOS",
         "orientation": "v",
         "showlegend": true,
         "textposition": "auto",
         "type": "bar",
         "x": [
          "FOLILCO LOS LAGOS"
         ],
         "xaxis": "x",
         "y": [
          474
         ],
         "yaxis": "y"
        },
        {
         "alignmentgroup": "True",
         "hovertemplate": "Nombre Ubicación=%{x}<br>Beneficiarios=%{y}<extra></extra>",
         "legendgroup": "QUILQUILCO",
         "marker": {
          "color": "blue",
          "pattern": {
           "shape": ""
          }
         },
         "name": "QUILQUILCO",
         "offsetgroup": "QUILQUILCO",
         "orientation": "v",
         "showlegend": true,
         "textposition": "auto",
         "type": "bar",
         "x": [
          "QUILQUILCO"
         ],
         "xaxis": "x",
         "y": [
          149
         ],
         "yaxis": "y"
        },
        {
         "alignmentgroup": "True",
         "hovertemplate": "Nombre Ubicación=%{x}<br>Beneficiarios=%{y}<extra></extra>",
         "legendgroup": "RIÑIHUE",
         "marker": {
          "color": "blue",
          "pattern": {
           "shape": ""
          }
         },
         "name": "RIÑIHUE",
         "offsetgroup": "RIÑIHUE",
         "orientation": "v",
         "showlegend": true,
         "textposition": "auto",
         "type": "bar",
         "x": [
          "RIÑIHUE"
         ],
         "xaxis": "x",
         "y": [
          208
         ],
         "yaxis": "y"
        },
        {
         "alignmentgroup": "True",
         "hovertemplate": "Nombre Ubicación=%{x}<br>Beneficiarios=%{y}<extra></extra>",
         "legendgroup": "USTARITZ",
         "marker": {
          "color": "orange",
          "pattern": {
           "shape": ""
          }
         },
         "name": "USTARITZ",
         "offsetgroup": "USTARITZ",
         "orientation": "v",
         "showlegend": true,
         "textposition": "auto",
         "type": "bar",
         "x": [
          "USTARITZ"
         ],
         "xaxis": "x",
         "y": [
          434
         ],
         "yaxis": "y"
        },
        {
         "alignmentgroup": "True",
         "hovertemplate": "Nombre Ubicación=%{x}<br>Beneficiarios=%{y}<extra></extra>",
         "legendgroup": "EL SALTO",
         "marker": {
          "color": "orange",
          "pattern": {
           "shape": ""
          }
         },
         "name": "EL SALTO",
         "offsetgroup": "EL SALTO",
         "orientation": "v",
         "showlegend": true,
         "textposition": "auto",
         "type": "bar",
         "x": [
          "EL SALTO"
         ],
         "xaxis": "x",
         "y": [
          592
         ],
         "yaxis": "y"
        },
        {
         "alignmentgroup": "True",
         "hovertemplate": "Nombre Ubicación=%{x}<br>Beneficiarios=%{y}<extra></extra>",
         "legendgroup": "PELLINADA LAS QUINIENTAS",
         "marker": {
          "color": "orange",
          "pattern": {
           "shape": ""
          }
         },
         "name": "PELLINADA LAS QUINIENTAS",
         "offsetgroup": "PELLINADA LAS QUINIENTAS",
         "orientation": "v",
         "showlegend": true,
         "textposition": "auto",
         "type": "bar",
         "x": [
          "PELLINADA LAS QUINIENTAS"
         ],
         "xaxis": "x",
         "y": [
          434
         ],
         "yaxis": "y"
        },
        {
         "alignmentgroup": "True",
         "hovertemplate": "Nombre Ubicación=%{x}<br>Beneficiarios=%{y}<extra></extra>",
         "legendgroup": "PANCUL",
         "marker": {
          "color": "orange",
          "pattern": {
           "shape": ""
          }
         },
         "name": "PANCUL",
         "offsetgroup": "PANCUL",
         "orientation": "v",
         "showlegend": true,
         "textposition": "auto",
         "type": "bar",
         "x": [
          "PANCUL"
         ],
         "xaxis": "x",
         "y": [
          729
         ],
         "yaxis": "y"
        },
        {
         "alignmentgroup": "True",
         "hovertemplate": "Nombre Ubicación=%{x}<br>Beneficiarios=%{y}<extra></extra>",
         "legendgroup": "LOS COLIGÜES",
         "marker": {
          "color": "orange",
          "pattern": {
           "shape": ""
          }
         },
         "name": "LOS COLIGÜES",
         "offsetgroup": "LOS COLIGÜES",
         "orientation": "v",
         "showlegend": true,
         "textposition": "auto",
         "type": "bar",
         "x": [
          "LOS COLIGÜES"
         ],
         "xaxis": "x",
         "y": [
          456
         ],
         "yaxis": "y"
        },
        {
         "alignmentgroup": "True",
         "hovertemplate": "Nombre Ubicación=%{x}<br>Beneficiarios=%{y}<extra></extra>",
         "legendgroup": "COLO COLO",
         "marker": {
          "color": "green",
          "pattern": {
           "shape": ""
          }
         },
         "name": "COLO COLO",
         "offsetgroup": "COLO COLO",
         "orientation": "v",
         "showlegend": true,
         "textposition": "auto",
         "type": "bar",
         "x": [
          "COLO COLO"
         ],
         "xaxis": "x",
         "y": [
          298
         ],
         "yaxis": "y"
        },
        {
         "alignmentgroup": "True",
         "hovertemplate": "Nombre Ubicación=%{x}<br>Beneficiarios=%{y}<extra></extra>",
         "legendgroup": "LAS HUELLLAS",
         "marker": {
          "color": "blue",
          "pattern": {
           "shape": ""
          }
         },
         "name": "LAS HUELLLAS",
         "offsetgroup": "LAS HUELLLAS",
         "orientation": "v",
         "showlegend": true,
         "textposition": "auto",
         "type": "bar",
         "x": [
          "LAS HUELLLAS"
         ],
         "xaxis": "x",
         "y": [
          276
         ],
         "yaxis": "y"
        },
        {
         "alignmentgroup": "True",
         "hovertemplate": "Nombre Ubicación=%{x}<br>Beneficiarios=%{y}<extra></extra>",
         "legendgroup": "San Pedro",
         "marker": {
          "color": "green",
          "pattern": {
           "shape": ""
          }
         },
         "name": "San Pedro",
         "offsetgroup": "San Pedro",
         "orientation": "v",
         "showlegend": true,
         "textposition": "auto",
         "type": "bar",
         "x": [
          "San Pedro"
         ],
         "xaxis": "x",
         "y": [
          375
         ],
         "yaxis": "y"
        },
        {
         "alignmentgroup": "True",
         "hovertemplate": "Nombre Ubicación=%{x}<br>Beneficiarios=%{y}<extra></extra>",
         "legendgroup": "Lipingue",
         "marker": {
          "color": "orange",
          "pattern": {
           "shape": ""
          }
         },
         "name": "Lipingue",
         "offsetgroup": "Lipingue",
         "orientation": "v",
         "showlegend": true,
         "textposition": "auto",
         "type": "bar",
         "x": [
          "Lipingue"
         ],
         "xaxis": "x",
         "y": [
          434
         ],
         "yaxis": "y"
        },
        {
         "alignmentgroup": "True",
         "hovertemplate": "Nombre Ubicación=%{x}<br>Beneficiarios=%{y}<extra></extra>",
         "legendgroup": "El Trebol",
         "marker": {
          "color": "blue",
          "pattern": {
           "shape": ""
          }
         },
         "name": "El Trebol",
         "offsetgroup": "El Trebol",
         "orientation": "v",
         "showlegend": true,
         "textposition": "auto",
         "type": "bar",
         "x": [
          "El Trebol"
         ],
         "xaxis": "x",
         "y": [
          208
         ],
         "yaxis": "y"
        },
        {
         "alignmentgroup": "True",
         "hovertemplate": "Nombre Ubicación=%{x}<br>Beneficiarios=%{y}<extra></extra>",
         "legendgroup": "Collico Sur",
         "marker": {
          "color": "blue",
          "pattern": {
           "shape": ""
          }
         },
         "name": "Collico Sur",
         "offsetgroup": "Collico Sur",
         "orientation": "v",
         "showlegend": true,
         "textposition": "auto",
         "type": "bar",
         "x": [
          "Collico Sur"
         ],
         "xaxis": "x",
         "y": [
          236
         ],
         "yaxis": "y"
        },
        {
         "alignmentgroup": "True",
         "hovertemplate": "Nombre Ubicación=%{x}<br>Beneficiarios=%{y}<extra></extra>",
         "legendgroup": "Mi Tierra",
         "marker": {
          "color": "blue",
          "pattern": {
           "shape": ""
          }
         },
         "name": "Mi Tierra",
         "offsetgroup": "Mi Tierra",
         "orientation": "v",
         "showlegend": true,
         "textposition": "auto",
         "type": "bar",
         "x": [
          "Mi Tierra"
         ],
         "xaxis": "x",
         "y": [
          71
         ],
         "yaxis": "y"
        },
        {
         "alignmentgroup": "True",
         "hovertemplate": "Nombre Ubicación=%{x}<br>Beneficiarios=%{y}<extra></extra>",
         "legendgroup": "Puñaco",
         "marker": {
          "color": "blue",
          "pattern": {
           "shape": ""
          }
         },
         "name": "Puñaco",
         "offsetgroup": "Puñaco",
         "orientation": "v",
         "showlegend": true,
         "textposition": "auto",
         "type": "bar",
         "x": [
          "Puñaco"
         ],
         "xaxis": "x",
         "y": [
          81
         ],
         "yaxis": "y"
        },
        {
         "alignmentgroup": "True",
         "hovertemplate": "Nombre Ubicación=%{x}<br>Beneficiarios=%{y}<extra></extra>",
         "legendgroup": "Purey",
         "marker": {
          "color": "blue",
          "pattern": {
           "shape": ""
          }
         },
         "name": "Purey",
         "offsetgroup": "Purey",
         "orientation": "v",
         "showlegend": true,
         "textposition": "auto",
         "type": "bar",
         "x": [
          "Purey"
         ],
         "xaxis": "x",
         "y": [
          78
         ],
         "yaxis": "y"
        },
        {
         "alignmentgroup": "True",
         "hovertemplate": "Nombre Ubicación=%{x}<br>Beneficiarios=%{y}<extra></extra>",
         "legendgroup": "AMARGO-SAN CARLOS",
         "marker": {
          "color": "purple",
          "pattern": {
           "shape": ""
          }
         },
         "name": "AMARGO-SAN CARLOS",
         "offsetgroup": "AMARGO-SAN CARLOS",
         "orientation": "v",
         "showlegend": true,
         "textposition": "auto",
         "type": "bar",
         "x": [
          "AMARGO-SAN CARLOS"
         ],
         "xaxis": "x",
         "y": [
          2412
         ],
         "yaxis": "y"
        },
        {
         "alignmentgroup": "True",
         "hovertemplate": "Nombre Ubicación=%{x}<br>Beneficiarios=%{y}<extra></extra>",
         "legendgroup": "ISLA DEL REY",
         "marker": {
          "color": "orange",
          "pattern": {
           "shape": ""
          }
         },
         "name": "ISLA DEL REY",
         "offsetgroup": "ISLA DEL REY",
         "orientation": "v",
         "showlegend": true,
         "textposition": "auto",
         "type": "bar",
         "x": [
          "ISLA DEL REY"
         ],
         "xaxis": "x",
         "y": [
          620
         ],
         "yaxis": "y"
        },
        {
         "alignmentgroup": "True",
         "hovertemplate": "Nombre Ubicación=%{x}<br>Beneficiarios=%{y}<extra></extra>",
         "legendgroup": "ISLA MANCERA",
         "marker": {
          "color": "blue",
          "pattern": {
           "shape": ""
          }
         },
         "name": "ISLA MANCERA",
         "offsetgroup": "ISLA MANCERA",
         "orientation": "v",
         "showlegend": true,
         "textposition": "auto",
         "type": "bar",
         "x": [
          "ISLA MANCERA"
         ],
         "xaxis": "x",
         "y": [
          267
         ],
         "yaxis": "y"
        },
        {
         "alignmentgroup": "True",
         "hovertemplate": "Nombre Ubicación=%{x}<br>Beneficiarios=%{y}<extra></extra>",
         "legendgroup": "LA AGUADA",
         "marker": {
          "color": "orange",
          "pattern": {
           "shape": ""
          }
         },
         "name": "LA AGUADA",
         "offsetgroup": "LA AGUADA",
         "orientation": "v",
         "showlegend": true,
         "textposition": "auto",
         "type": "bar",
         "x": [
          "LA AGUADA"
         ],
         "xaxis": "x",
         "y": [
          626
         ],
         "yaxis": "y"
        },
        {
         "alignmentgroup": "True",
         "hovertemplate": "Nombre Ubicación=%{x}<br>Beneficiarios=%{y}<extra></extra>",
         "legendgroup": "CHAIHUIN",
         "marker": {
          "color": "red",
          "pattern": {
           "shape": ""
          }
         },
         "name": "CHAIHUIN",
         "offsetgroup": "CHAIHUIN",
         "orientation": "v",
         "showlegend": true,
         "textposition": "auto",
         "type": "bar",
         "x": [
          "CHAIHUIN"
         ],
         "xaxis": "x",
         "y": [
          744
         ],
         "yaxis": "y"
        },
        {
         "alignmentgroup": "True",
         "hovertemplate": "Nombre Ubicación=%{x}<br>Beneficiarios=%{y}<extra></extra>",
         "legendgroup": "CERROS DE CORRAL",
         "marker": {
          "color": "orange",
          "pattern": {
           "shape": ""
          }
         },
         "name": "CERROS DE CORRAL",
         "offsetgroup": "CERROS DE CORRAL",
         "orientation": "v",
         "showlegend": true,
         "textposition": "auto",
         "type": "bar",
         "x": [
          "CERROS DE CORRAL"
         ],
         "xaxis": "x",
         "y": [
          484
         ],
         "yaxis": "y"
        }
       ],
       "layout": {
        "autosize": true,
        "barmode": "relative",
        "legend": {
         "title": {
          "text": "Nombre Ubicación"
         },
         "tracegroupgap": 0
        },
        "template": {
         "data": {
          "bar": [
           {
            "error_x": {
             "color": "#2a3f5f"
            },
            "error_y": {
             "color": "#2a3f5f"
            },
            "marker": {
             "line": {
              "color": "#E5ECF6",
              "width": 0.5
             },
             "pattern": {
              "fillmode": "overlay",
              "size": 10,
              "solidity": 0.2
             }
            },
            "type": "bar"
           }
          ],
          "barpolar": [
           {
            "marker": {
             "line": {
              "color": "#E5ECF6",
              "width": 0.5
             },
             "pattern": {
              "fillmode": "overlay",
              "size": 10,
              "solidity": 0.2
             }
            },
            "type": "barpolar"
           }
          ],
          "carpet": [
           {
            "aaxis": {
             "endlinecolor": "#2a3f5f",
             "gridcolor": "white",
             "linecolor": "white",
             "minorgridcolor": "white",
             "startlinecolor": "#2a3f5f"
            },
            "baxis": {
             "endlinecolor": "#2a3f5f",
             "gridcolor": "white",
             "linecolor": "white",
             "minorgridcolor": "white",
             "startlinecolor": "#2a3f5f"
            },
            "type": "carpet"
           }
          ],
          "choropleth": [
           {
            "colorbar": {
             "outlinewidth": 0,
             "ticks": ""
            },
            "type": "choropleth"
           }
          ],
          "contour": [
           {
            "colorbar": {
             "outlinewidth": 0,
             "ticks": ""
            },
            "colorscale": [
             [
              0,
              "#0d0887"
             ],
             [
              0.1111111111111111,
              "#46039f"
             ],
             [
              0.2222222222222222,
              "#7201a8"
             ],
             [
              0.3333333333333333,
              "#9c179e"
             ],
             [
              0.4444444444444444,
              "#bd3786"
             ],
             [
              0.5555555555555556,
              "#d8576b"
             ],
             [
              0.6666666666666666,
              "#ed7953"
             ],
             [
              0.7777777777777778,
              "#fb9f3a"
             ],
             [
              0.8888888888888888,
              "#fdca26"
             ],
             [
              1,
              "#f0f921"
             ]
            ],
            "type": "contour"
           }
          ],
          "contourcarpet": [
           {
            "colorbar": {
             "outlinewidth": 0,
             "ticks": ""
            },
            "type": "contourcarpet"
           }
          ],
          "heatmap": [
           {
            "colorbar": {
             "outlinewidth": 0,
             "ticks": ""
            },
            "colorscale": [
             [
              0,
              "#0d0887"
             ],
             [
              0.1111111111111111,
              "#46039f"
             ],
             [
              0.2222222222222222,
              "#7201a8"
             ],
             [
              0.3333333333333333,
              "#9c179e"
             ],
             [
              0.4444444444444444,
              "#bd3786"
             ],
             [
              0.5555555555555556,
              "#d8576b"
             ],
             [
              0.6666666666666666,
              "#ed7953"
             ],
             [
              0.7777777777777778,
              "#fb9f3a"
             ],
             [
              0.8888888888888888,
              "#fdca26"
             ],
             [
              1,
              "#f0f921"
             ]
            ],
            "type": "heatmap"
           }
          ],
          "heatmapgl": [
           {
            "colorbar": {
             "outlinewidth": 0,
             "ticks": ""
            },
            "colorscale": [
             [
              0,
              "#0d0887"
             ],
             [
              0.1111111111111111,
              "#46039f"
             ],
             [
              0.2222222222222222,
              "#7201a8"
             ],
             [
              0.3333333333333333,
              "#9c179e"
             ],
             [
              0.4444444444444444,
              "#bd3786"
             ],
             [
              0.5555555555555556,
              "#d8576b"
             ],
             [
              0.6666666666666666,
              "#ed7953"
             ],
             [
              0.7777777777777778,
              "#fb9f3a"
             ],
             [
              0.8888888888888888,
              "#fdca26"
             ],
             [
              1,
              "#f0f921"
             ]
            ],
            "type": "heatmapgl"
           }
          ],
          "histogram": [
           {
            "marker": {
             "pattern": {
              "fillmode": "overlay",
              "size": 10,
              "solidity": 0.2
             }
            },
            "type": "histogram"
           }
          ],
          "histogram2d": [
           {
            "colorbar": {
             "outlinewidth": 0,
             "ticks": ""
            },
            "colorscale": [
             [
              0,
              "#0d0887"
             ],
             [
              0.1111111111111111,
              "#46039f"
             ],
             [
              0.2222222222222222,
              "#7201a8"
             ],
             [
              0.3333333333333333,
              "#9c179e"
             ],
             [
              0.4444444444444444,
              "#bd3786"
             ],
             [
              0.5555555555555556,
              "#d8576b"
             ],
             [
              0.6666666666666666,
              "#ed7953"
             ],
             [
              0.7777777777777778,
              "#fb9f3a"
             ],
             [
              0.8888888888888888,
              "#fdca26"
             ],
             [
              1,
              "#f0f921"
             ]
            ],
            "type": "histogram2d"
           }
          ],
          "histogram2dcontour": [
           {
            "colorbar": {
             "outlinewidth": 0,
             "ticks": ""
            },
            "colorscale": [
             [
              0,
              "#0d0887"
             ],
             [
              0.1111111111111111,
              "#46039f"
             ],
             [
              0.2222222222222222,
              "#7201a8"
             ],
             [
              0.3333333333333333,
              "#9c179e"
             ],
             [
              0.4444444444444444,
              "#bd3786"
             ],
             [
              0.5555555555555556,
              "#d8576b"
             ],
             [
              0.6666666666666666,
              "#ed7953"
             ],
             [
              0.7777777777777778,
              "#fb9f3a"
             ],
             [
              0.8888888888888888,
              "#fdca26"
             ],
             [
              1,
              "#f0f921"
             ]
            ],
            "type": "histogram2dcontour"
           }
          ],
          "mesh3d": [
           {
            "colorbar": {
             "outlinewidth": 0,
             "ticks": ""
            },
            "type": "mesh3d"
           }
          ],
          "parcoords": [
           {
            "line": {
             "colorbar": {
              "outlinewidth": 0,
              "ticks": ""
             }
            },
            "type": "parcoords"
           }
          ],
          "pie": [
           {
            "automargin": true,
            "type": "pie"
           }
          ],
          "scatter": [
           {
            "fillpattern": {
             "fillmode": "overlay",
             "size": 10,
             "solidity": 0.2
            },
            "type": "scatter"
           }
          ],
          "scatter3d": [
           {
            "line": {
             "colorbar": {
              "outlinewidth": 0,
              "ticks": ""
             }
            },
            "marker": {
             "colorbar": {
              "outlinewidth": 0,
              "ticks": ""
             }
            },
            "type": "scatter3d"
           }
          ],
          "scattercarpet": [
           {
            "marker": {
             "colorbar": {
              "outlinewidth": 0,
              "ticks": ""
             }
            },
            "type": "scattercarpet"
           }
          ],
          "scattergeo": [
           {
            "marker": {
             "colorbar": {
              "outlinewidth": 0,
              "ticks": ""
             }
            },
            "type": "scattergeo"
           }
          ],
          "scattergl": [
           {
            "marker": {
             "colorbar": {
              "outlinewidth": 0,
              "ticks": ""
             }
            },
            "type": "scattergl"
           }
          ],
          "scattermapbox": [
           {
            "marker": {
             "colorbar": {
              "outlinewidth": 0,
              "ticks": ""
             }
            },
            "type": "scattermapbox"
           }
          ],
          "scatterpolar": [
           {
            "marker": {
             "colorbar": {
              "outlinewidth": 0,
              "ticks": ""
             }
            },
            "type": "scatterpolar"
           }
          ],
          "scatterpolargl": [
           {
            "marker": {
             "colorbar": {
              "outlinewidth": 0,
              "ticks": ""
             }
            },
            "type": "scatterpolargl"
           }
          ],
          "scatterternary": [
           {
            "marker": {
             "colorbar": {
              "outlinewidth": 0,
              "ticks": ""
             }
            },
            "type": "scatterternary"
           }
          ],
          "surface": [
           {
            "colorbar": {
             "outlinewidth": 0,
             "ticks": ""
            },
            "colorscale": [
             [
              0,
              "#0d0887"
             ],
             [
              0.1111111111111111,
              "#46039f"
             ],
             [
              0.2222222222222222,
              "#7201a8"
             ],
             [
              0.3333333333333333,
              "#9c179e"
             ],
             [
              0.4444444444444444,
              "#bd3786"
             ],
             [
              0.5555555555555556,
              "#d8576b"
             ],
             [
              0.6666666666666666,
              "#ed7953"
             ],
             [
              0.7777777777777778,
              "#fb9f3a"
             ],
             [
              0.8888888888888888,
              "#fdca26"
             ],
             [
              1,
              "#f0f921"
             ]
            ],
            "type": "surface"
           }
          ],
          "table": [
           {
            "cells": {
             "fill": {
              "color": "#EBF0F8"
             },
             "line": {
              "color": "white"
             }
            },
            "header": {
             "fill": {
              "color": "#C8D4E3"
             },
             "line": {
              "color": "white"
             }
            },
            "type": "table"
           }
          ]
         },
         "layout": {
          "annotationdefaults": {
           "arrowcolor": "#2a3f5f",
           "arrowhead": 0,
           "arrowwidth": 1
          },
          "autotypenumbers": "strict",
          "coloraxis": {
           "colorbar": {
            "outlinewidth": 0,
            "ticks": ""
           }
          },
          "colorscale": {
           "diverging": [
            [
             0,
             "#8e0152"
            ],
            [
             0.1,
             "#c51b7d"
            ],
            [
             0.2,
             "#de77ae"
            ],
            [
             0.3,
             "#f1b6da"
            ],
            [
             0.4,
             "#fde0ef"
            ],
            [
             0.5,
             "#f7f7f7"
            ],
            [
             0.6,
             "#e6f5d0"
            ],
            [
             0.7,
             "#b8e186"
            ],
            [
             0.8,
             "#7fbc41"
            ],
            [
             0.9,
             "#4d9221"
            ],
            [
             1,
             "#276419"
            ]
           ],
           "sequential": [
            [
             0,
             "#0d0887"
            ],
            [
             0.1111111111111111,
             "#46039f"
            ],
            [
             0.2222222222222222,
             "#7201a8"
            ],
            [
             0.3333333333333333,
             "#9c179e"
            ],
            [
             0.4444444444444444,
             "#bd3786"
            ],
            [
             0.5555555555555556,
             "#d8576b"
            ],
            [
             0.6666666666666666,
             "#ed7953"
            ],
            [
             0.7777777777777778,
             "#fb9f3a"
            ],
            [
             0.8888888888888888,
             "#fdca26"
            ],
            [
             1,
             "#f0f921"
            ]
           ],
           "sequentialminus": [
            [
             0,
             "#0d0887"
            ],
            [
             0.1111111111111111,
             "#46039f"
            ],
            [
             0.2222222222222222,
             "#7201a8"
            ],
            [
             0.3333333333333333,
             "#9c179e"
            ],
            [
             0.4444444444444444,
             "#bd3786"
            ],
            [
             0.5555555555555556,
             "#d8576b"
            ],
            [
             0.6666666666666666,
             "#ed7953"
            ],
            [
             0.7777777777777778,
             "#fb9f3a"
            ],
            [
             0.8888888888888888,
             "#fdca26"
            ],
            [
             1,
             "#f0f921"
            ]
           ]
          },
          "colorway": [
           "#636efa",
           "#EF553B",
           "#00cc96",
           "#ab63fa",
           "#FFA15A",
           "#19d3f3",
           "#FF6692",
           "#B6E880",
           "#FF97FF",
           "#FECB52"
          ],
          "font": {
           "color": "#2a3f5f"
          },
          "geo": {
           "bgcolor": "white",
           "lakecolor": "white",
           "landcolor": "#E5ECF6",
           "showlakes": true,
           "showland": true,
           "subunitcolor": "white"
          },
          "hoverlabel": {
           "align": "left"
          },
          "hovermode": "closest",
          "mapbox": {
           "style": "light"
          },
          "paper_bgcolor": "white",
          "plot_bgcolor": "#E5ECF6",
          "polar": {
           "angularaxis": {
            "gridcolor": "white",
            "linecolor": "white",
            "ticks": ""
           },
           "bgcolor": "#E5ECF6",
           "radialaxis": {
            "gridcolor": "white",
            "linecolor": "white",
            "ticks": ""
           }
          },
          "scene": {
           "xaxis": {
            "backgroundcolor": "#E5ECF6",
            "gridcolor": "white",
            "gridwidth": 2,
            "linecolor": "white",
            "showbackground": true,
            "ticks": "",
            "zerolinecolor": "white"
           },
           "yaxis": {
            "backgroundcolor": "#E5ECF6",
            "gridcolor": "white",
            "gridwidth": 2,
            "linecolor": "white",
            "showbackground": true,
            "ticks": "",
            "zerolinecolor": "white"
           },
           "zaxis": {
            "backgroundcolor": "#E5ECF6",
            "gridcolor": "white",
            "gridwidth": 2,
            "linecolor": "white",
            "showbackground": true,
            "ticks": "",
            "zerolinecolor": "white"
           }
          },
          "shapedefaults": {
           "line": {
            "color": "#2a3f5f"
           }
          },
          "ternary": {
           "aaxis": {
            "gridcolor": "white",
            "linecolor": "white",
            "ticks": ""
           },
           "baxis": {
            "gridcolor": "white",
            "linecolor": "white",
            "ticks": ""
           },
           "bgcolor": "#E5ECF6",
           "caxis": {
            "gridcolor": "white",
            "linecolor": "white",
            "ticks": ""
           }
          },
          "title": {
           "x": 0.05
          },
          "xaxis": {
           "automargin": true,
           "gridcolor": "white",
           "linecolor": "white",
           "ticks": "",
           "title": {
            "standoff": 15
           },
           "zerolinecolor": "white",
           "zerolinewidth": 2
          },
          "yaxis": {
           "automargin": true,
           "gridcolor": "white",
           "linecolor": "white",
           "ticks": "",
           "title": {
            "standoff": 15
           },
           "zerolinecolor": "white",
           "zerolinewidth": 2
          }
         }
        },
        "title": {
         "text": "Beneficiarios por sector de instalación de APR"
        },
        "xaxis": {
         "anchor": "y",
         "autorange": true,
         "categoryarray": [
          "PISHUINCO",
          "CURIÑANCO",
          "HUELLELHUE",
          "LAS GAVIOTAS",
          "NIEBLA-LOS MOLINOS",
          "PUNUCAPA",
          "SAN IGNACIO-PLAYA ROSADA",
          "TRES ESPINOS",
          "VILLA CAYUMAPU",
          "EL ARENAL SANTA ELVIRA",
          "PAILLAO",
          "CABO BLANCO",
          "EL ARENAL KM 2",
          "Chabelita",
          "ARCO IRIS",
          "EL LLOLLY",
          "PICHIRROPULLI",
          "REUMEN",
          "SANTA FILOMENA",
          "MANAO",
          "SANTA ROSA CHICA",
          "SANTA ROSA GRANDE",
          "LUMACO PAILLACO",
          "EL MAITEN",
          "SANTA FILOMENA II",
          "ANTILHUE",
          "FOLILCO LOS LAGOS",
          "QUILQUILCO",
          "RIÑIHUE",
          "USTARITZ",
          "EL SALTO",
          "PELLINADA LAS QUINIENTAS",
          "PANCUL",
          "LOS COLIGÜES",
          "COLO COLO",
          "LAS HUELLLAS",
          "San Pedro",
          "Lipingue",
          "El Trebol",
          "Collico Sur",
          "Mi Tierra",
          "Puñaco",
          "Purey",
          "AMARGO-SAN CARLOS",
          "ISLA DEL REY",
          "ISLA MANCERA",
          "LA AGUADA",
          "CHAIHUIN",
          "CERROS DE CORRAL"
         ],
         "categoryorder": "array",
         "domain": [
          0,
          1
         ],
         "range": [
          -0.5,
          48.5
         ],
         "title": {
          "text": "Nombre Ubicación"
         },
         "type": "category"
        },
        "yaxis": {
         "anchor": "x",
         "autorange": true,
         "domain": [
          0,
          1
         ],
         "range": [
          0,
          4232.631578947368
         ],
         "title": {
          "text": "Beneficiarios"
         },
         "type": "linear"
        }
       }
      },
      "image/png": "[encoded data removed]",
      "text/html": [
       "<div>                            <div id=\"4f7b0cbc-6016-45f6-bd32-66c9e358b164\" class=\"plotly-graph-div\" style=\"height:525px; width:100%;\"></div>            <script type=\"text/javascript\">                require([\"plotly\"], function(Plotly) {                    window.PLOTLYENV=window.PLOTLYENV || {};                                    if (document.getElementById(\"4f7b0cbc-6016-45f6-bd32-66c9e358b164\")) {                    Plotly.newPlot(                        \"4f7b0cbc-6016-45f6-bd32-66c9e358b164\",                        [{\"alignmentgroup\":\"True\",\"hovertemplate\":\"Nombre Ubicaci\\u00f3n=%{x}<br>Beneficiarios=%{y}<extra></extra>\",\"legendgroup\":\"PISHUINCO\",\"marker\":{\"color\":\"green\",\"pattern\":{\"shape\":\"\"}},\"name\":\"PISHUINCO\",\"offsetgroup\":\"PISHUINCO\",\"orientation\":\"v\",\"showlegend\":true,\"textposition\":\"auto\",\"x\":[\"PISHUINCO\"],\"xaxis\":\"x\",\"y\":[322.0],\"yaxis\":\"y\",\"type\":\"bar\"},{\"alignmentgroup\":\"True\",\"hovertemplate\":\"Nombre Ubicaci\\u00f3n=%{x}<br>Beneficiarios=%{y}<extra></extra>\",\"legendgroup\":\"CURI\\u00d1ANCO\",\"marker\":{\"color\":\"purple\",\"pattern\":{\"shape\":\"\"}},\"name\":\"CURI\\u00d1ANCO\",\"offsetgroup\":\"CURI\\u00d1ANCO\",\"orientation\":\"v\",\"showlegend\":true,\"textposition\":\"auto\",\"x\":[\"CURI\\u00d1ANCO\"],\"xaxis\":\"x\",\"y\":[2294.0],\"yaxis\":\"y\",\"type\":\"bar\"},{\"alignmentgroup\":\"True\",\"hovertemplate\":\"Nombre Ubicaci\\u00f3n=%{x}<br>Beneficiarios=%{y}<extra></extra>\",\"legendgroup\":\"HUELLELHUE\",\"marker\":{\"color\":\"green\",\"pattern\":{\"shape\":\"\"}},\"name\":\"HUELLELHUE\",\"offsetgroup\":\"HUELLELHUE\",\"orientation\":\"v\",\"showlegend\":true,\"textposition\":\"auto\",\"x\":[\"HUELLELHUE\"],\"xaxis\":\"x\",\"y\":[310.0],\"yaxis\":\"y\",\"type\":\"bar\"},{\"alignmentgroup\":\"True\",\"hovertemplate\":\"Nombre Ubicaci\\u00f3n=%{x}<br>Beneficiarios=%{y}<extra></extra>\",\"legendgroup\":\"LAS GAVIOTAS\",\"marker\":{\"color\":\"red\",\"pattern\":{\"shape\":\"\"}},\"name\":\"LAS GAVIOTAS\",\"offsetgroup\":\"LAS GAVIOTAS\",\"orientation\":\"v\",\"showlegend\":true,\"textposition\":\"auto\",\"x\":[\"LAS GAVIOTAS\"],\"xaxis\":\"x\",\"y\":[1048.0],\"yaxis\":\"y\",\"type\":\"bar\"},{\"alignmentgroup\":\"True\",\"hovertemplate\":\"Nombre Ubicaci\\u00f3n=%{x}<br>Beneficiarios=%{y}<extra></extra>\",\"legendgroup\":\"NIEBLA-LOS MOLINOS\",\"marker\":{\"color\":\"purple\",\"pattern\":{\"shape\":\"\"}},\"name\":\"NIEBLA-LOS MOLINOS\",\"offsetgroup\":\"NIEBLA-LOS MOLINOS\",\"orientation\":\"v\",\"showlegend\":true,\"textposition\":\"auto\",\"x\":[\"NIEBLA-LOS MOLINOS\"],\"xaxis\":\"x\",\"y\":[4021.0],\"yaxis\":\"y\",\"type\":\"bar\"},{\"alignmentgroup\":\"True\",\"hovertemplate\":\"Nombre Ubicaci\\u00f3n=%{x}<br>Beneficiarios=%{y}<extra></extra>\",\"legendgroup\":\"PUNUCAPA\",\"marker\":{\"color\":\"orange\",\"pattern\":{\"shape\":\"\"}},\"name\":\"PUNUCAPA\",\"offsetgroup\":\"PUNUCAPA\",\"orientation\":\"v\",\"showlegend\":true,\"textposition\":\"auto\",\"x\":[\"PUNUCAPA\"],\"xaxis\":\"x\",\"y\":[459.0],\"yaxis\":\"y\",\"type\":\"bar\"},{\"alignmentgroup\":\"True\",\"hovertemplate\":\"Nombre Ubicaci\\u00f3n=%{x}<br>Beneficiarios=%{y}<extra></extra>\",\"legendgroup\":\"SAN IGNACIO-PLAYA ROSADA\",\"marker\":{\"color\":\"red\",\"pattern\":{\"shape\":\"\"}},\"name\":\"SAN IGNACIO-PLAYA ROSADA\",\"offsetgroup\":\"SAN IGNACIO-PLAYA ROSADA\",\"orientation\":\"v\",\"showlegend\":true,\"textposition\":\"auto\",\"x\":[\"SAN IGNACIO-PLAYA ROSADA\"],\"xaxis\":\"x\",\"y\":[936.0],\"yaxis\":\"y\",\"type\":\"bar\"},{\"alignmentgroup\":\"True\",\"hovertemplate\":\"Nombre Ubicaci\\u00f3n=%{x}<br>Beneficiarios=%{y}<extra></extra>\",\"legendgroup\":\"TRES ESPINOS\",\"marker\":{\"color\":\"red\",\"pattern\":{\"shape\":\"\"}},\"name\":\"TRES ESPINOS\",\"offsetgroup\":\"TRES ESPINOS\",\"orientation\":\"v\",\"showlegend\":true,\"textposition\":\"auto\",\"x\":[\"TRES ESPINOS\"],\"xaxis\":\"x\",\"y\":[1091.0],\"yaxis\":\"y\",\"type\":\"bar\"},{\"alignmentgroup\":\"True\",\"hovertemplate\":\"Nombre Ubicaci\\u00f3n=%{x}<br>Beneficiarios=%{y}<extra></extra>\",\"legendgroup\":\"VILLA CAYUMAPU\",\"marker\":{\"color\":\"purple\",\"pattern\":{\"shape\":\"\"}},\"name\":\"VILLA CAYUMAPU\",\"offsetgroup\":\"VILLA CAYUMAPU\",\"orientation\":\"v\",\"showlegend\":true,\"textposition\":\"auto\",\"x\":[\"VILLA CAYUMAPU\"],\"xaxis\":\"x\",\"y\":[1327.0],\"yaxis\":\"y\",\"type\":\"bar\"},{\"alignmentgroup\":\"True\",\"hovertemplate\":\"Nombre Ubicaci\\u00f3n=%{x}<br>Beneficiarios=%{y}<extra></extra>\",\"legendgroup\":\"EL ARENAL SANTA ELVIRA\",\"marker\":{\"color\":\"orange\",\"pattern\":{\"shape\":\"\"}},\"name\":\"EL ARENAL SANTA ELVIRA\",\"offsetgroup\":\"EL ARENAL SANTA ELVIRA\",\"orientation\":\"v\",\"showlegend\":true,\"textposition\":\"auto\",\"x\":[\"EL ARENAL SANTA ELVIRA\"],\"xaxis\":\"x\",\"y\":[549.0],\"yaxis\":\"y\",\"type\":\"bar\"},{\"alignmentgroup\":\"True\",\"hovertemplate\":\"Nombre Ubicaci\\u00f3n=%{x}<br>Beneficiarios=%{y}<extra></extra>\",\"legendgroup\":\"PAILLAO\",\"marker\":{\"color\":\"red\",\"pattern\":{\"shape\":\"\"}},\"name\":\"PAILLAO\",\"offsetgroup\":\"PAILLAO\",\"orientation\":\"v\",\"showlegend\":true,\"textposition\":\"auto\",\"x\":[\"PAILLAO\"],\"xaxis\":\"x\",\"y\":[871.0],\"yaxis\":\"y\",\"type\":\"bar\"},{\"alignmentgroup\":\"True\",\"hovertemplate\":\"Nombre Ubicaci\\u00f3n=%{x}<br>Beneficiarios=%{y}<extra></extra>\",\"legendgroup\":\"CABO BLANCO\",\"marker\":{\"color\":\"orange\",\"pattern\":{\"shape\":\"\"}},\"name\":\"CABO BLANCO\",\"offsetgroup\":\"CABO BLANCO\",\"orientation\":\"v\",\"showlegend\":true,\"textposition\":\"auto\",\"x\":[\"CABO BLANCO\"],\"xaxis\":\"x\",\"y\":[543.0],\"yaxis\":\"y\",\"type\":\"bar\"},{\"alignmentgroup\":\"True\",\"hovertemplate\":\"Nombre Ubicaci\\u00f3n=%{x}<br>Beneficiarios=%{y}<extra></extra>\",\"legendgroup\":\"EL ARENAL KM 2\",\"marker\":{\"color\":\"orange\",\"pattern\":{\"shape\":\"\"}},\"name\":\"EL ARENAL KM 2\",\"offsetgroup\":\"EL ARENAL KM 2\",\"orientation\":\"v\",\"showlegend\":true,\"textposition\":\"auto\",\"x\":[\"EL ARENAL KM 2\"],\"xaxis\":\"x\",\"y\":[623.0],\"yaxis\":\"y\",\"type\":\"bar\"},{\"alignmentgroup\":\"True\",\"hovertemplate\":\"Nombre Ubicaci\\u00f3n=%{x}<br>Beneficiarios=%{y}<extra></extra>\",\"legendgroup\":\"Chabelita\",\"marker\":{\"color\":\"orange\",\"pattern\":{\"shape\":\"\"}},\"name\":\"Chabelita\",\"offsetgroup\":\"Chabelita\",\"orientation\":\"v\",\"showlegend\":true,\"textposition\":\"auto\",\"x\":[\"Chabelita\"],\"xaxis\":\"x\",\"y\":[434.0],\"yaxis\":\"y\",\"type\":\"bar\"},{\"alignmentgroup\":\"True\",\"hovertemplate\":\"Nombre Ubicaci\\u00f3n=%{x}<br>Beneficiarios=%{y}<extra></extra>\",\"legendgroup\":\"ARCO IRIS\",\"marker\":{\"color\":\"green\",\"pattern\":{\"shape\":\"\"}},\"name\":\"ARCO IRIS\",\"offsetgroup\":\"ARCO IRIS\",\"orientation\":\"v\",\"showlegend\":true,\"textposition\":\"auto\",\"x\":[\"ARCO IRIS\"],\"xaxis\":\"x\",\"y\":[394.0],\"yaxis\":\"y\",\"type\":\"bar\"},{\"alignmentgroup\":\"True\",\"hovertemplate\":\"Nombre Ubicaci\\u00f3n=%{x}<br>Beneficiarios=%{y}<extra></extra>\",\"legendgroup\":\"EL LLOLLY\",\"marker\":{\"color\":\"green\",\"pattern\":{\"shape\":\"\"}},\"name\":\"EL LLOLLY\",\"offsetgroup\":\"EL LLOLLY\",\"orientation\":\"v\",\"showlegend\":true,\"textposition\":\"auto\",\"x\":[\"EL LLOLLY\"],\"xaxis\":\"x\",\"y\":[428.0],\"yaxis\":\"y\",\"type\":\"bar\"},{\"alignmentgroup\":\"True\",\"hovertemplate\":\"Nombre Ubicaci\\u00f3n=%{x}<br>Beneficiarios=%{y}<extra></extra>\",\"legendgroup\":\"PICHIRROPULLI\",\"marker\":{\"color\":\"red\",\"pattern\":{\"shape\":\"\"}},\"name\":\"PICHIRROPULLI\",\"offsetgroup\":\"PICHIRROPULLI\",\"orientation\":\"v\",\"showlegend\":true,\"textposition\":\"auto\",\"x\":[\"PICHIRROPULLI\"],\"xaxis\":\"x\",\"y\":[1079.0],\"yaxis\":\"y\",\"type\":\"bar\"},{\"alignmentgroup\":\"True\",\"hovertemplate\":\"Nombre Ubicaci\\u00f3n=%{x}<br>Beneficiarios=%{y}<extra></extra>\",\"legendgroup\":\"REUMEN\",\"marker\":{\"color\":\"purple\",\"pattern\":{\"shape\":\"\"}},\"name\":\"REUMEN\",\"offsetgroup\":\"REUMEN\",\"orientation\":\"v\",\"showlegend\":true,\"textposition\":\"auto\",\"x\":[\"REUMEN\"],\"xaxis\":\"x\",\"y\":[1442.0],\"yaxis\":\"y\",\"type\":\"bar\"},{\"alignmentgroup\":\"True\",\"hovertemplate\":\"Nombre Ubicaci\\u00f3n=%{x}<br>Beneficiarios=%{y}<extra></extra>\",\"legendgroup\":\"SANTA FILOMENA\",\"marker\":{\"color\":\"green\",\"pattern\":{\"shape\":\"\"}},\"name\":\"SANTA FILOMENA\",\"offsetgroup\":\"SANTA FILOMENA\",\"orientation\":\"v\",\"showlegend\":true,\"textposition\":\"auto\",\"x\":[\"SANTA FILOMENA\"],\"xaxis\":\"x\",\"y\":[403.0],\"yaxis\":\"y\",\"type\":\"bar\"},{\"alignmentgroup\":\"True\",\"hovertemplate\":\"Nombre Ubicaci\\u00f3n=%{x}<br>Beneficiarios=%{y}<extra></extra>\",\"legendgroup\":\"MANAO\",\"marker\":{\"color\":\"blue\",\"pattern\":{\"shape\":\"\"}},\"name\":\"MANAO\",\"offsetgroup\":\"MANAO\",\"orientation\":\"v\",\"showlegend\":true,\"textposition\":\"auto\",\"x\":[\"MANAO\"],\"xaxis\":\"x\",\"y\":[220.0],\"yaxis\":\"y\",\"type\":\"bar\"},{\"alignmentgroup\":\"True\",\"hovertemplate\":\"Nombre Ubicaci\\u00f3n=%{x}<br>Beneficiarios=%{y}<extra></extra>\",\"legendgroup\":\"SANTA ROSA CHICA\",\"marker\":{\"color\":\"green\",\"pattern\":{\"shape\":\"\"}},\"name\":\"SANTA ROSA CHICA\",\"offsetgroup\":\"SANTA ROSA CHICA\",\"orientation\":\"v\",\"showlegend\":true,\"textposition\":\"auto\",\"x\":[\"SANTA ROSA CHICA\"],\"xaxis\":\"x\",\"y\":[394.0],\"yaxis\":\"y\",\"type\":\"bar\"},{\"alignmentgroup\":\"True\",\"hovertemplate\":\"Nombre Ubicaci\\u00f3n=%{x}<br>Beneficiarios=%{y}<extra></extra>\",\"legendgroup\":\"SANTA ROSA GRANDE\",\"marker\":{\"color\":\"green\",\"pattern\":{\"shape\":\"\"}},\"name\":\"SANTA ROSA GRANDE\",\"offsetgroup\":\"SANTA ROSA GRANDE\",\"orientation\":\"v\",\"showlegend\":true,\"textposition\":\"auto\",\"x\":[\"SANTA ROSA GRANDE\"],\"xaxis\":\"x\",\"y\":[319.0],\"yaxis\":\"y\",\"type\":\"bar\"},{\"alignmentgroup\":\"True\",\"hovertemplate\":\"Nombre Ubicaci\\u00f3n=%{x}<br>Beneficiarios=%{y}<extra></extra>\",\"legendgroup\":\"LUMACO PAILLACO\",\"marker\":{\"color\":\"orange\",\"pattern\":{\"shape\":\"\"}},\"name\":\"LUMACO PAILLACO\",\"offsetgroup\":\"LUMACO PAILLACO\",\"orientation\":\"v\",\"showlegend\":true,\"textposition\":\"auto\",\"x\":[\"LUMACO PAILLACO\"],\"xaxis\":\"x\",\"y\":[710.0],\"yaxis\":\"y\",\"type\":\"bar\"},{\"alignmentgroup\":\"True\",\"hovertemplate\":\"Nombre Ubicaci\\u00f3n=%{x}<br>Beneficiarios=%{y}<extra></extra>\",\"legendgroup\":\"EL MAITEN\",\"marker\":{\"color\":\"blue\",\"pattern\":{\"shape\":\"\"}},\"name\":\"EL MAITEN\",\"offsetgroup\":\"EL MAITEN\",\"orientation\":\"v\",\"showlegend\":true,\"textposition\":\"auto\",\"x\":[\"EL MAITEN\"],\"xaxis\":\"x\",\"y\":[155.0],\"yaxis\":\"y\",\"type\":\"bar\"},{\"alignmentgroup\":\"True\",\"hovertemplate\":\"Nombre Ubicaci\\u00f3n=%{x}<br>Beneficiarios=%{y}<extra></extra>\",\"legendgroup\":\"SANTA FILOMENA II\",\"marker\":{\"color\":\"blue\",\"pattern\":{\"shape\":\"\"}},\"name\":\"SANTA FILOMENA II\",\"offsetgroup\":\"SANTA FILOMENA II\",\"orientation\":\"v\",\"showlegend\":true,\"textposition\":\"auto\",\"x\":[\"SANTA FILOMENA II\"],\"xaxis\":\"x\",\"y\":[211.0],\"yaxis\":\"y\",\"type\":\"bar\"},{\"alignmentgroup\":\"True\",\"hovertemplate\":\"Nombre Ubicaci\\u00f3n=%{x}<br>Beneficiarios=%{y}<extra></extra>\",\"legendgroup\":\"ANTILHUE\",\"marker\":{\"color\":\"purple\",\"pattern\":{\"shape\":\"\"}},\"name\":\"ANTILHUE\",\"offsetgroup\":\"ANTILHUE\",\"orientation\":\"v\",\"showlegend\":true,\"textposition\":\"auto\",\"x\":[\"ANTILHUE\"],\"xaxis\":\"x\",\"y\":[1414.0],\"yaxis\":\"y\",\"type\":\"bar\"},{\"alignmentgroup\":\"True\",\"hovertemplate\":\"Nombre Ubicaci\\u00f3n=%{x}<br>Beneficiarios=%{y}<extra></extra>\",\"legendgroup\":\"FOLILCO LOS LAGOS\",\"marker\":{\"color\":\"orange\",\"pattern\":{\"shape\":\"\"}},\"name\":\"FOLILCO LOS LAGOS\",\"offsetgroup\":\"FOLILCO LOS LAGOS\",\"orientation\":\"v\",\"showlegend\":true,\"textposition\":\"auto\",\"x\":[\"FOLILCO LOS LAGOS\"],\"xaxis\":\"x\",\"y\":[474.0],\"yaxis\":\"y\",\"type\":\"bar\"},{\"alignmentgroup\":\"True\",\"hovertemplate\":\"Nombre Ubicaci\\u00f3n=%{x}<br>Beneficiarios=%{y}<extra></extra>\",\"legendgroup\":\"QUILQUILCO\",\"marker\":{\"color\":\"blue\",\"pattern\":{\"shape\":\"\"}},\"name\":\"QUILQUILCO\",\"offsetgroup\":\"QUILQUILCO\",\"orientation\":\"v\",\"showlegend\":true,\"textposition\":\"auto\",\"x\":[\"QUILQUILCO\"],\"xaxis\":\"x\",\"y\":[149.0],\"yaxis\":\"y\",\"type\":\"bar\"},{\"alignmentgroup\":\"True\",\"hovertemplate\":\"Nombre Ubicaci\\u00f3n=%{x}<br>Beneficiarios=%{y}<extra></extra>\",\"legendgroup\":\"RI\\u00d1IHUE\",\"marker\":{\"color\":\"blue\",\"pattern\":{\"shape\":\"\"}},\"name\":\"RI\\u00d1IHUE\",\"offsetgroup\":\"RI\\u00d1IHUE\",\"orientation\":\"v\",\"showlegend\":true,\"textposition\":\"auto\",\"x\":[\"RI\\u00d1IHUE\"],\"xaxis\":\"x\",\"y\":[208.0],\"yaxis\":\"y\",\"type\":\"bar\"},{\"alignmentgroup\":\"True\",\"hovertemplate\":\"Nombre Ubicaci\\u00f3n=%{x}<br>Beneficiarios=%{y}<extra></extra>\",\"legendgroup\":\"USTARITZ\",\"marker\":{\"color\":\"orange\",\"pattern\":{\"shape\":\"\"}},\"name\":\"USTARITZ\",\"offsetgroup\":\"USTARITZ\",\"orientation\":\"v\",\"showlegend\":true,\"textposition\":\"auto\",\"x\":[\"USTARITZ\"],\"xaxis\":\"x\",\"y\":[434.0],\"yaxis\":\"y\",\"type\":\"bar\"},{\"alignmentgroup\":\"True\",\"hovertemplate\":\"Nombre Ubicaci\\u00f3n=%{x}<br>Beneficiarios=%{y}<extra></extra>\",\"legendgroup\":\"EL SALTO\",\"marker\":{\"color\":\"orange\",\"pattern\":{\"shape\":\"\"}},\"name\":\"EL SALTO\",\"offsetgroup\":\"EL SALTO\",\"orientation\":\"v\",\"showlegend\":true,\"textposition\":\"auto\",\"x\":[\"EL SALTO\"],\"xaxis\":\"x\",\"y\":[592.0],\"yaxis\":\"y\",\"type\":\"bar\"},{\"alignmentgroup\":\"True\",\"hovertemplate\":\"Nombre Ubicaci\\u00f3n=%{x}<br>Beneficiarios=%{y}<extra></extra>\",\"legendgroup\":\"PELLINADA LAS QUINIENTAS\",\"marker\":{\"color\":\"orange\",\"pattern\":{\"shape\":\"\"}},\"name\":\"PELLINADA LAS QUINIENTAS\",\"offsetgroup\":\"PELLINADA LAS QUINIENTAS\",\"orientation\":\"v\",\"showlegend\":true,\"textposition\":\"auto\",\"x\":[\"PELLINADA LAS QUINIENTAS\"],\"xaxis\":\"x\",\"y\":[434.0],\"yaxis\":\"y\",\"type\":\"bar\"},{\"alignmentgroup\":\"True\",\"hovertemplate\":\"Nombre Ubicaci\\u00f3n=%{x}<br>Beneficiarios=%{y}<extra></extra>\",\"legendgroup\":\"PANCUL\",\"marker\":{\"color\":\"orange\",\"pattern\":{\"shape\":\"\"}},\"name\":\"PANCUL\",\"offsetgroup\":\"PANCUL\",\"orientation\":\"v\",\"showlegend\":true,\"textposition\":\"auto\",\"x\":[\"PANCUL\"],\"xaxis\":\"x\",\"y\":[729.0],\"yaxis\":\"y\",\"type\":\"bar\"},{\"alignmentgroup\":\"True\",\"hovertemplate\":\"Nombre Ubicaci\\u00f3n=%{x}<br>Beneficiarios=%{y}<extra></extra>\",\"legendgroup\":\"LOS COLIG\\u00dcES\",\"marker\":{\"color\":\"orange\",\"pattern\":{\"shape\":\"\"}},\"name\":\"LOS COLIG\\u00dcES\",\"offsetgroup\":\"LOS COLIG\\u00dcES\",\"orientation\":\"v\",\"showlegend\":true,\"textposition\":\"auto\",\"x\":[\"LOS COLIG\\u00dcES\"],\"xaxis\":\"x\",\"y\":[456.0],\"yaxis\":\"y\",\"type\":\"bar\"},{\"alignmentgroup\":\"True\",\"hovertemplate\":\"Nombre Ubicaci\\u00f3n=%{x}<br>Beneficiarios=%{y}<extra></extra>\",\"legendgroup\":\"COLO COLO\",\"marker\":{\"color\":\"green\",\"pattern\":{\"shape\":\"\"}},\"name\":\"COLO COLO\",\"offsetgroup\":\"COLO COLO\",\"orientation\":\"v\",\"showlegend\":true,\"textposition\":\"auto\",\"x\":[\"COLO COLO\"],\"xaxis\":\"x\",\"y\":[298.0],\"yaxis\":\"y\",\"type\":\"bar\"},{\"alignmentgroup\":\"True\",\"hovertemplate\":\"Nombre Ubicaci\\u00f3n=%{x}<br>Beneficiarios=%{y}<extra></extra>\",\"legendgroup\":\"LAS HUELLLAS\",\"marker\":{\"color\":\"blue\",\"pattern\":{\"shape\":\"\"}},\"name\":\"LAS HUELLLAS\",\"offsetgroup\":\"LAS HUELLLAS\",\"orientation\":\"v\",\"showlegend\":true,\"textposition\":\"auto\",\"x\":[\"LAS HUELLLAS\"],\"xaxis\":\"x\",\"y\":[276.0],\"yaxis\":\"y\",\"type\":\"bar\"},{\"alignmentgroup\":\"True\",\"hovertemplate\":\"Nombre Ubicaci\\u00f3n=%{x}<br>Beneficiarios=%{y}<extra></extra>\",\"legendgroup\":\"San Pedro\",\"marker\":{\"color\":\"green\",\"pattern\":{\"shape\":\"\"}},\"name\":\"San Pedro\",\"offsetgroup\":\"San Pedro\",\"orientation\":\"v\",\"showlegend\":true,\"textposition\":\"auto\",\"x\":[\"San Pedro\"],\"xaxis\":\"x\",\"y\":[375.0],\"yaxis\":\"y\",\"type\":\"bar\"},{\"alignmentgroup\":\"True\",\"hovertemplate\":\"Nombre Ubicaci\\u00f3n=%{x}<br>Beneficiarios=%{y}<extra></extra>\",\"legendgroup\":\"Lipingue\",\"marker\":{\"color\":\"orange\",\"pattern\":{\"shape\":\"\"}},\"name\":\"Lipingue\",\"offsetgroup\":\"Lipingue\",\"orientation\":\"v\",\"showlegend\":true,\"textposition\":\"auto\",\"x\":[\"Lipingue\"],\"xaxis\":\"x\",\"y\":[434.0],\"yaxis\":\"y\",\"type\":\"bar\"},{\"alignmentgroup\":\"True\",\"hovertemplate\":\"Nombre Ubicaci\\u00f3n=%{x}<br>Beneficiarios=%{y}<extra></extra>\",\"legendgroup\":\"El Trebol\",\"marker\":{\"color\":\"blue\",\"pattern\":{\"shape\":\"\"}},\"name\":\"El Trebol\",\"offsetgroup\":\"El Trebol\",\"orientation\":\"v\",\"showlegend\":true,\"textposition\":\"auto\",\"x\":[\"El Trebol\"],\"xaxis\":\"x\",\"y\":[208.0],\"yaxis\":\"y\",\"type\":\"bar\"},{\"alignmentgroup\":\"True\",\"hovertemplate\":\"Nombre Ubicaci\\u00f3n=%{x}<br>Beneficiarios=%{y}<extra></extra>\",\"legendgroup\":\"Collico Sur\",\"marker\":{\"color\":\"blue\",\"pattern\":{\"shape\":\"\"}},\"name\":\"Collico Sur\",\"offsetgroup\":\"Collico Sur\",\"orientation\":\"v\",\"showlegend\":true,\"textposition\":\"auto\",\"x\":[\"Collico Sur\"],\"xaxis\":\"x\",\"y\":[236.0],\"yaxis\":\"y\",\"type\":\"bar\"},{\"alignmentgroup\":\"True\",\"hovertemplate\":\"Nombre Ubicaci\\u00f3n=%{x}<br>Beneficiarios=%{y}<extra></extra>\",\"legendgroup\":\"Mi Tierra\",\"marker\":{\"color\":\"blue\",\"pattern\":{\"shape\":\"\"}},\"name\":\"Mi Tierra\",\"offsetgroup\":\"Mi Tierra\",\"orientation\":\"v\",\"showlegend\":true,\"textposition\":\"auto\",\"x\":[\"Mi Tierra\"],\"xaxis\":\"x\",\"y\":[71.0],\"yaxis\":\"y\",\"type\":\"bar\"},{\"alignmentgroup\":\"True\",\"hovertemplate\":\"Nombre Ubicaci\\u00f3n=%{x}<br>Beneficiarios=%{y}<extra></extra>\",\"legendgroup\":\"Pu\\u00f1aco\",\"marker\":{\"color\":\"blue\",\"pattern\":{\"shape\":\"\"}},\"name\":\"Pu\\u00f1aco\",\"offsetgroup\":\"Pu\\u00f1aco\",\"orientation\":\"v\",\"showlegend\":true,\"textposition\":\"auto\",\"x\":[\"Pu\\u00f1aco\"],\"xaxis\":\"x\",\"y\":[81.0],\"yaxis\":\"y\",\"type\":\"bar\"},{\"alignmentgroup\":\"True\",\"hovertemplate\":\"Nombre Ubicaci\\u00f3n=%{x}<br>Beneficiarios=%{y}<extra></extra>\",\"legendgroup\":\"Purey\",\"marker\":{\"color\":\"blue\",\"pattern\":{\"shape\":\"\"}},\"name\":\"Purey\",\"offsetgroup\":\"Purey\",\"orientation\":\"v\",\"showlegend\":true,\"textposition\":\"auto\",\"x\":[\"Purey\"],\"xaxis\":\"x\",\"y\":[78.0],\"yaxis\":\"y\",\"type\":\"bar\"},{\"alignmentgroup\":\"True\",\"hovertemplate\":\"Nombre Ubicaci\\u00f3n=%{x}<br>Beneficiarios=%{y}<extra></extra>\",\"legendgroup\":\"AMARGO-SAN CARLOS\",\"marker\":{\"color\":\"purple\",\"pattern\":{\"shape\":\"\"}},\"name\":\"AMARGO-SAN CARLOS\",\"offsetgroup\":\"AMARGO-SAN CARLOS\",\"orientation\":\"v\",\"showlegend\":true,\"textposition\":\"auto\",\"x\":[\"AMARGO-SAN CARLOS\"],\"xaxis\":\"x\",\"y\":[2412.0],\"yaxis\":\"y\",\"type\":\"bar\"},{\"alignmentgroup\":\"True\",\"hovertemplate\":\"Nombre Ubicaci\\u00f3n=%{x}<br>Beneficiarios=%{y}<extra></extra>\",\"legendgroup\":\"ISLA DEL REY\",\"marker\":{\"color\":\"orange\",\"pattern\":{\"shape\":\"\"}},\"name\":\"ISLA DEL REY\",\"offsetgroup\":\"ISLA DEL REY\",\"orientation\":\"v\",\"showlegend\":true,\"textposition\":\"auto\",\"x\":[\"ISLA DEL REY\"],\"xaxis\":\"x\",\"y\":[620.0],\"yaxis\":\"y\",\"type\":\"bar\"},{\"alignmentgroup\":\"True\",\"hovertemplate\":\"Nombre Ubicaci\\u00f3n=%{x}<br>Beneficiarios=%{y}<extra></extra>\",\"legendgroup\":\"ISLA MANCERA\",\"marker\":{\"color\":\"blue\",\"pattern\":{\"shape\":\"\"}},\"name\":\"ISLA MANCERA\",\"offsetgroup\":\"ISLA MANCERA\",\"orientation\":\"v\",\"showlegend\":true,\"textposition\":\"auto\",\"x\":[\"ISLA MANCERA\"],\"xaxis\":\"x\",\"y\":[267.0],\"yaxis\":\"y\",\"type\":\"bar\"},{\"alignmentgroup\":\"True\",\"hovertemplate\":\"Nombre Ubicaci\\u00f3n=%{x}<br>Beneficiarios=%{y}<extra></extra>\",\"legendgroup\":\"LA AGUADA\",\"marker\":{\"color\":\"orange\",\"pattern\":{\"shape\":\"\"}},\"name\":\"LA AGUADA\",\"offsetgroup\":\"LA AGUADA\",\"orientation\":\"v\",\"showlegend\":true,\"textposition\":\"auto\",\"x\":[\"LA AGUADA\"],\"xaxis\":\"x\",\"y\":[626.0],\"yaxis\":\"y\",\"type\":\"bar\"},{\"alignmentgroup\":\"True\",\"hovertemplate\":\"Nombre Ubicaci\\u00f3n=%{x}<br>Beneficiarios=%{y}<extra></extra>\",\"legendgroup\":\"CHAIHUIN\",\"marker\":{\"color\":\"red\",\"pattern\":{\"shape\":\"\"}},\"name\":\"CHAIHUIN\",\"offsetgroup\":\"CHAIHUIN\",\"orientation\":\"v\",\"showlegend\":true,\"textposition\":\"auto\",\"x\":[\"CHAIHUIN\"],\"xaxis\":\"x\",\"y\":[744.0],\"yaxis\":\"y\",\"type\":\"bar\"},{\"alignmentgroup\":\"True\",\"hovertemplate\":\"Nombre Ubicaci\\u00f3n=%{x}<br>Beneficiarios=%{y}<extra></extra>\",\"legendgroup\":\"CERROS DE CORRAL\",\"marker\":{\"color\":\"orange\",\"pattern\":{\"shape\":\"\"}},\"name\":\"CERROS DE CORRAL\",\"offsetgroup\":\"CERROS DE CORRAL\",\"orientation\":\"v\",\"showlegend\":true,\"textposition\":\"auto\",\"x\":[\"CERROS DE CORRAL\"],\"xaxis\":\"x\",\"y\":[484.0],\"yaxis\":\"y\",\"type\":\"bar\"}],                        {\"template\":{\"data\":{\"histogram2dcontour\":[{\"type\":\"histogram2dcontour\",\"colorbar\":{\"outlinewidth\":0,\"ticks\":\"\"},\"colorscale\":[[0.0,\"#0d0887\"],[0.1111111111111111,\"#46039f\"],[0.2222222222222222,\"#7201a8\"],[0.3333333333333333,\"#9c179e\"],[0.4444444444444444,\"#bd3786\"],[0.5555555555555556,\"#d8576b\"],[0.6666666666666666,\"#ed7953\"],[0.7777777777777778,\"#fb9f3a\"],[0.8888888888888888,\"#fdca26\"],[1.0,\"#f0f921\"]]}],\"choropleth\":[{\"type\":\"choropleth\",\"colorbar\":{\"outlinewidth\":0,\"ticks\":\"\"}}],\"histogram2d\":[{\"type\":\"histogram2d\",\"colorbar\":{\"outlinewidth\":0,\"ticks\":\"\"},\"colorscale\":[[0.0,\"#0d0887\"],[0.1111111111111111,\"#46039f\"],[0.2222222222222222,\"#7201a8\"],[0.3333333333333333,\"#9c179e\"],[0.4444444444444444,\"#bd3786\"],[0.5555555555555556,\"#d8576b\"],[0.6666666666666666,\"#ed7953\"],[0.7777777777777778,\"#fb9f3a\"],[0.8888888888888888,\"#fdca26\"],[1.0,\"#f0f921\"]]}],\"heatmap\":[{\"type\":\"heatmap\",\"colorbar\":{\"outlinewidth\":0,\"ticks\":\"\"},\"colorscale\":[[0.0,\"#0d0887\"],[0.1111111111111111,\"#46039f\"],[0.2222222222222222,\"#7201a8\"],[0.3333333333333333,\"#9c179e\"],[0.4444444444444444,\"#bd3786\"],[0.5555555555555556,\"#d8576b\"],[0.6666666666666666,\"#ed7953\"],[0.7777777777777778,\"#fb9f3a\"],[0.8888888888888888,\"#fdca26\"],[1.0,\"#f0f921\"]]}],\"heatmapgl\":[{\"type\":\"heatmapgl\",\"colorbar\":{\"outlinewidth\":0,\"ticks\":\"\"},\"colorscale\":[[0.0,\"#0d0887\"],[0.1111111111111111,\"#46039f\"],[0.2222222222222222,\"#7201a8\"],[0.3333333333333333,\"#9c179e\"],[0.4444444444444444,\"#bd3786\"],[0.5555555555555556,\"#d8576b\"],[0.6666666666666666,\"#ed7953\"],[0.7777777777777778,\"#fb9f3a\"],[0.8888888888888888,\"#fdca26\"],[1.0,\"#f0f921\"]]}],\"contourcarpet\":[{\"type\":\"contourcarpet\",\"colorbar\":{\"outlinewidth\":0,\"ticks\":\"\"}}],\"contour\":[{\"type\":\"contour\",\"colorbar\":{\"outlinewidth\":0,\"ticks\":\"\"},\"colorscale\":[[0.0,\"#0d0887\"],[0.1111111111111111,\"#46039f\"],[0.2222222222222222,\"#7201a8\"],[0.3333333333333333,\"#9c179e\"],[0.4444444444444444,\"#bd3786\"],[0.5555555555555556,\"#d8576b\"],[0.6666666666666666,\"#ed7953\"],[0.7777777777777778,\"#fb9f3a\"],[0.8888888888888888,\"#fdca26\"],[1.0,\"#f0f921\"]]}],\"surface\":[{\"type\":\"surface\",\"colorbar\":{\"outlinewidth\":0,\"ticks\":\"\"},\"colorscale\":[[0.0,\"#0d0887\"],[0.1111111111111111,\"#46039f\"],[0.2222222222222222,\"#7201a8\"],[0.3333333333333333,\"#9c179e\"],[0.4444444444444444,\"#bd3786\"],[0.5555555555555556,\"#d8576b\"],[0.6666666666666666,\"#ed7953\"],[0.7777777777777778,\"#fb9f3a\"],[0.8888888888888888,\"#fdca26\"],[1.0,\"#f0f921\"]]}],\"mesh3d\":[{\"type\":\"mesh3d\",\"colorbar\":{\"outlinewidth\":0,\"ticks\":\"\"}}],\"scatter\":[{\"fillpattern\":{\"fillmode\":\"overlay\",\"size\":10,\"solidity\":0.2},\"type\":\"scatter\"}],\"parcoords\":[{\"type\":\"parcoords\",\"line\":{\"colorbar\":{\"outlinewidth\":0,\"ticks\":\"\"}}}],\"scatterpolargl\":[{\"type\":\"scatterpolargl\",\"marker\":{\"colorbar\":{\"outlinewidth\":0,\"ticks\":\"\"}}}],\"bar\":[{\"error_x\":{\"color\":\"#2a3f5f\"},\"error_y\":{\"color\":\"#2a3f5f\"},\"marker\":{\"line\":{\"color\":\"#E5ECF6\",\"width\":0.5},\"pattern\":{\"fillmode\":\"overlay\",\"size\":10,\"solidity\":0.2}},\"type\":\"bar\"}],\"scattergeo\":[{\"type\":\"scattergeo\",\"marker\":{\"colorbar\":{\"outlinewidth\":0,\"ticks\":\"\"}}}],\"scatterpolar\":[{\"type\":\"scatterpolar\",\"marker\":{\"colorbar\":{\"outlinewidth\":0,\"ticks\":\"\"}}}],\"histogram\":[{\"marker\":{\"pattern\":{\"fillmode\":\"overlay\",\"size\":10,\"solidity\":0.2}},\"type\":\"histogram\"}],\"scattergl\":[{\"type\":\"scattergl\",\"marker\":{\"colorbar\":{\"outlinewidth\":0,\"ticks\":\"\"}}}],\"scatter3d\":[{\"type\":\"scatter3d\",\"line\":{\"colorbar\":{\"outlinewidth\":0,\"ticks\":\"\"}},\"marker\":{\"colorbar\":{\"outlinewidth\":0,\"ticks\":\"\"}}}],\"scattermapbox\":[{\"type\":\"scattermapbox\",\"marker\":{\"colorbar\":{\"outlinewidth\":0,\"ticks\":\"\"}}}],\"scatterternary\":[{\"type\":\"scatterternary\",\"marker\":{\"colorbar\":{\"outlinewidth\":0,\"ticks\":\"\"}}}],\"scattercarpet\":[{\"type\":\"scattercarpet\",\"marker\":{\"colorbar\":{\"outlinewidth\":0,\"ticks\":\"\"}}}],\"carpet\":[{\"aaxis\":{\"endlinecolor\":\"#2a3f5f\",\"gridcolor\":\"white\",\"linecolor\":\"white\",\"minorgridcolor\":\"white\",\"startlinecolor\":\"#2a3f5f\"},\"baxis\":{\"endlinecolor\":\"#2a3f5f\",\"gridcolor\":\"white\",\"linecolor\":\"white\",\"minorgridcolor\":\"white\",\"startlinecolor\":\"#2a3f5f\"},\"type\":\"carpet\"}],\"table\":[{\"cells\":{\"fill\":{\"color\":\"#EBF0F8\"},\"line\":{\"color\":\"white\"}},\"header\":{\"fill\":{\"color\":\"#C8D4E3\"},\"line\":{\"color\":\"white\"}},\"type\":\"table\"}],\"barpolar\":[{\"marker\":{\"line\":{\"color\":\"#E5ECF6\",\"width\":0.5},\"pattern\":{\"fillmode\":\"overlay\",\"size\":10,\"solidity\":0.2}},\"type\":\"barpolar\"}],\"pie\":[{\"automargin\":true,\"type\":\"pie\"}]},\"layout\":{\"autotypenumbers\":\"strict\",\"colorway\":[\"#636efa\",\"#EF553B\",\"#00cc96\",\"#ab63fa\",\"#FFA15A\",\"#19d3f3\",\"#FF6692\",\"#B6E880\",\"#FF97FF\",\"#FECB52\"],\"font\":{\"color\":\"#2a3f5f\"},\"hovermode\":\"closest\",\"hoverlabel\":{\"align\":\"left\"},\"paper_bgcolor\":\"white\",\"plot_bgcolor\":\"#E5ECF6\",\"polar\":{\"bgcolor\":\"#E5ECF6\",\"angularaxis\":{\"gridcolor\":\"white\",\"linecolor\":\"white\",\"ticks\":\"\"},\"radialaxis\":{\"gridcolor\":\"white\",\"linecolor\":\"white\",\"ticks\":\"\"}},\"ternary\":{\"bgcolor\":\"#E5ECF6\",\"aaxis\":{\"gridcolor\":\"white\",\"linecolor\":\"white\",\"ticks\":\"\"},\"baxis\":{\"gridcolor\":\"white\",\"linecolor\":\"white\",\"ticks\":\"\"},\"caxis\":{\"gridcolor\":\"white\",\"linecolor\":\"white\",\"ticks\":\"\"}},\"coloraxis\":{\"colorbar\":{\"outlinewidth\":0,\"ticks\":\"\"}},\"colorscale\":{\"sequential\":[[0.0,\"#0d0887\"],[0.1111111111111111,\"#46039f\"],[0.2222222222222222,\"#7201a8\"],[0.3333333333333333,\"#9c179e\"],[0.4444444444444444,\"#bd3786\"],[0.5555555555555556,\"#d8576b\"],[0.6666666666666666,\"#ed7953\"],[0.7777777777777778,\"#fb9f3a\"],[0.8888888888888888,\"#fdca26\"],[1.0,\"#f0f921\"]],\"sequentialminus\":[[0.0,\"#0d0887\"],[0.1111111111111111,\"#46039f\"],[0.2222222222222222,\"#7201a8\"],[0.3333333333333333,\"#9c179e\"],[0.4444444444444444,\"#bd3786\"],[0.5555555555555556,\"#d8576b\"],[0.6666666666666666,\"#ed7953\"],[0.7777777777777778,\"#fb9f3a\"],[0.8888888888888888,\"#fdca26\"],[1.0,\"#f0f921\"]],\"diverging\":[[0,\"#8e0152\"],[0.1,\"#c51b7d\"],[0.2,\"#de77ae\"],[0.3,\"#f1b6da\"],[0.4,\"#fde0ef\"],[0.5,\"#f7f7f7\"],[0.6,\"#e6f5d0\"],[0.7,\"#b8e186\"],[0.8,\"#7fbc41\"],[0.9,\"#4d9221\"],[1,\"#276419\"]]},\"xaxis\":{\"gridcolor\":\"white\",\"linecolor\":\"white\",\"ticks\":\"\",\"title\":{\"standoff\":15},\"zerolinecolor\":\"white\",\"automargin\":true,\"zerolinewidth\":2},\"yaxis\":{\"gridcolor\":\"white\",\"linecolor\":\"white\",\"ticks\":\"\",\"title\":{\"standoff\":15},\"zerolinecolor\":\"white\",\"automargin\":true,\"zerolinewidth\":2},\"scene\":{\"xaxis\":{\"backgroundcolor\":\"#E5ECF6\",\"gridcolor\":\"white\",\"linecolor\":\"white\",\"showbackground\":true,\"ticks\":\"\",\"zerolinecolor\":\"white\",\"gridwidth\":2},\"yaxis\":{\"backgroundcolor\":\"#E5ECF6\",\"gridcolor\":\"white\",\"linecolor\":\"white\",\"showbackground\":true,\"ticks\":\"\",\"zerolinecolor\":\"white\",\"gridwidth\":2},\"zaxis\":{\"backgroundcolor\":\"#E5ECF6\",\"gridcolor\":\"white\",\"linecolor\":\"white\",\"showbackground\":true,\"ticks\":\"\",\"zerolinecolor\":\"white\",\"gridwidth\":2}},\"shapedefaults\":{\"line\":{\"color\":\"#2a3f5f\"}},\"annotationdefaults\":{\"arrowcolor\":\"#2a3f5f\",\"arrowhead\":0,\"arrowwidth\":1},\"geo\":{\"bgcolor\":\"white\",\"landcolor\":\"#E5ECF6\",\"subunitcolor\":\"white\",\"showland\":true,\"showlakes\":true,\"lakecolor\":\"white\"},\"title\":{\"x\":0.05},\"mapbox\":{\"style\":\"light\"}}},\"xaxis\":{\"anchor\":\"y\",\"domain\":[0.0,1.0],\"title\":{\"text\":\"Nombre Ubicaci\\u00f3n\"},\"categoryorder\":\"array\",\"categoryarray\":[\"PISHUINCO\",\"CURI\\u00d1ANCO\",\"HUELLELHUE\",\"LAS GAVIOTAS\",\"NIEBLA-LOS MOLINOS\",\"PUNUCAPA\",\"SAN IGNACIO-PLAYA ROSADA\",\"TRES ESPINOS\",\"VILLA CAYUMAPU\",\"EL ARENAL SANTA ELVIRA\",\"PAILLAO\",\"CABO BLANCO\",\"EL ARENAL KM 2\",\"Chabelita\",\"ARCO IRIS\",\"EL LLOLLY\",\"PICHIRROPULLI\",\"REUMEN\",\"SANTA FILOMENA\",\"MANAO\",\"SANTA ROSA CHICA\",\"SANTA ROSA GRANDE\",\"LUMACO PAILLACO\",\"EL MAITEN\",\"SANTA FILOMENA II\",\"ANTILHUE\",\"FOLILCO LOS LAGOS\",\"QUILQUILCO\",\"RI\\u00d1IHUE\",\"USTARITZ\",\"EL SALTO\",\"PELLINADA LAS QUINIENTAS\",\"PANCUL\",\"LOS COLIG\\u00dcES\",\"COLO COLO\",\"LAS HUELLLAS\",\"San Pedro\",\"Lipingue\",\"El Trebol\",\"Collico Sur\",\"Mi Tierra\",\"Pu\\u00f1aco\",\"Purey\",\"AMARGO-SAN CARLOS\",\"ISLA DEL REY\",\"ISLA MANCERA\",\"LA AGUADA\",\"CHAIHUIN\",\"CERROS DE CORRAL\"]},\"yaxis\":{\"anchor\":\"x\",\"domain\":[0.0,1.0],\"title\":{\"text\":\"Beneficiarios\"}},\"legend\":{\"title\":{\"text\":\"Nombre Ubicaci\\u00f3n\"},\"tracegroupgap\":0},\"title\":{\"text\":\"Beneficiarios por sector de instalaci\\u00f3n de APR\"},\"barmode\":\"relative\"},                        {\"responsive\": true}                    ).then(function(){\n",
       "                            \n",
       "var gd = document.getElementById('4f7b0cbc-6016-45f6-bd32-66c9e358b164');\n",
       "var x = new MutationObserver(function (mutations, observer) {{\n",
       "        var display = window.getComputedStyle(gd).display;\n",
       "        if (!display || display === 'none') {{\n",
       "            console.log([gd, 'removed!']);\n",
       "            Plotly.purge(gd);\n",
       "            observer.disconnect();\n",
       "        }}\n",
       "}});\n",
       "\n",
       "// Listen for the removal of the full notebook cells\n",
       "var notebookContainer = gd.closest('#notebook-container');\n",
       "if (notebookContainer) {{\n",
       "    x.observe(notebookContainer, {childList: true});\n",
       "}}\n",
       "\n",
       "// Listen for the clearing of the current output cell\n",
       "var outputEl = gd.closest('.output');\n",
       "if (outputEl) {{\n",
       "    x.observe(outputEl, {childList: true});\n",
       "}}\n",
       "\n",
       "                        })                };                });            </script>        </div>"
      ]
     },
     "metadata": {},
     "output_type": "display_data"
    }
   ],
   "source": [
    "#Aca estamos llamando al set de datos de la tabla,que viene precargado en la librería\n",
    "\n",
    "fig = px.bar(tabla, x=\"Nombre Ubicación\", y=\"Beneficiarios\",color=\"Nombre Ubicación\",\n",
    "             title=\"Beneficiarios por sector de instalación de APR\",\n",
    "             color_discrete_sequence=color_beneficiario)\n",
    "fig.show()"
   ]
  },
  {
   "cell_type": "code",
   "execution_count": null,
   "id": "e5e4b629-96ee-4857-a16b-3f96a4b3401d",
   "metadata": {},
   "outputs": [],
   "source": []
  }
 ],
 "metadata": {
  "kernelspec": {
   "display_name": "Python 3 (ipykernel)",
   "language": "python",
   "name": "python3"
  },
  "language_info": {
   "codemirror_mode": {
    "name": "ipython",
    "version": 3
   },
   "file_extension": ".py",
   "mimetype": "text/x-python",
   "name": "python",
   "nbconvert_exporter": "python",
   "pygments_lexer": "ipython3",
   "version": "3.10.7"
  }
 },
 "nbformat": 4,
 "nbformat_minor": 5
}
