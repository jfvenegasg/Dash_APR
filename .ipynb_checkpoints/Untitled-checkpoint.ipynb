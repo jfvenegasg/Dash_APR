{
 "cells": [
  {
   "cell_type": "code",
   "execution_count": 4,
   "id": "488aadfe-8332-4a40-9b2c-d7ed80d93af2",
   "metadata": {},
   "outputs": [],
   "source": [
    "# libreria para trabajar con mapas \n",
    "import folium \n",
    "import pandas as pd"
   ]
  },
  {
   "cell_type": "code",
   "execution_count": 17,
   "id": "578e22f7-afc3-472e-a125-64ee385e84c0",
   "metadata": {},
   "outputs": [
    {
     "data": {
      "text/html": [
       "<div style=\"width:100%;\"><div style=\"position:relative;width:100%;height:0;padding-bottom:60%;\"><span style=\"color:#565656\">Make this Notebook Trusted to load map: File -> Trust Notebook</span><iframe srcdoc=\"&lt;!DOCTYPE html&gt;\n",
       "&lt;head&gt;    \n",
       "    &lt;meta http-equiv=&quot;content-type&quot; content=&quot;text/html; charset=UTF-8&quot; /&gt;\n",
       "    \n",
       "        &lt;script&gt;\n",
       "            L_NO_TOUCH = false;\n",
       "            L_DISABLE_3D = false;\n",
       "        &lt;/script&gt;\n",
       "    \n",
       "    &lt;style&gt;html, body {width: 100%;height: 100%;margin: 0;padding: 0;}&lt;/style&gt;\n",
       "    &lt;style&gt;#map {position:absolute;top:0;bottom:0;right:0;left:0;}&lt;/style&gt;\n",
       "    &lt;script src=&quot;https://cdn.jsdelivr.net/npm/leaflet@1.6.0/dist/leaflet.js&quot;&gt;&lt;/script&gt;\n",
       "    &lt;script src=&quot;https://code.jquery.com/jquery-1.12.4.min.js&quot;&gt;&lt;/script&gt;\n",
       "    &lt;script src=&quot;https://maxcdn.bootstrapcdn.com/bootstrap/3.2.0/js/bootstrap.min.js&quot;&gt;&lt;/script&gt;\n",
       "    &lt;script src=&quot;https://cdnjs.cloudflare.com/ajax/libs/Leaflet.awesome-markers/2.0.2/leaflet.awesome-markers.js&quot;&gt;&lt;/script&gt;\n",
       "    &lt;link rel=&quot;stylesheet&quot; href=&quot;https://cdn.jsdelivr.net/npm/leaflet@1.6.0/dist/leaflet.css&quot;/&gt;\n",
       "    &lt;link rel=&quot;stylesheet&quot; href=&quot;https://maxcdn.bootstrapcdn.com/bootstrap/3.2.0/css/bootstrap.min.css&quot;/&gt;\n",
       "    &lt;link rel=&quot;stylesheet&quot; href=&quot;https://maxcdn.bootstrapcdn.com/bootstrap/3.2.0/css/bootstrap-theme.min.css&quot;/&gt;\n",
       "    &lt;link rel=&quot;stylesheet&quot; href=&quot;https://maxcdn.bootstrapcdn.com/font-awesome/4.6.3/css/font-awesome.min.css&quot;/&gt;\n",
       "    &lt;link rel=&quot;stylesheet&quot; href=&quot;https://cdnjs.cloudflare.com/ajax/libs/Leaflet.awesome-markers/2.0.2/leaflet.awesome-markers.css&quot;/&gt;\n",
       "    &lt;link rel=&quot;stylesheet&quot; href=&quot;https://cdn.jsdelivr.net/gh/python-visualization/folium/folium/templates/leaflet.awesome.rotate.min.css&quot;/&gt;\n",
       "    \n",
       "            &lt;meta name=&quot;viewport&quot; content=&quot;width=device-width,\n",
       "                initial-scale=1.0, maximum-scale=1.0, user-scalable=no&quot; /&gt;\n",
       "            &lt;style&gt;\n",
       "                #map_7a84a47a11060697acec666d383f0969 {\n",
       "                    position: relative;\n",
       "                    width: 100.0%;\n",
       "                    height: 100.0%;\n",
       "                    left: 0.0%;\n",
       "                    top: 0.0%;\n",
       "                }\n",
       "            &lt;/style&gt;\n",
       "        \n",
       "    &lt;script src=&quot;https://cdnjs.cloudflare.com/ajax/libs/leaflet-minimap/3.6.1/Control.MiniMap.js&quot;&gt;&lt;/script&gt;\n",
       "    &lt;link rel=&quot;stylesheet&quot; href=&quot;https://cdnjs.cloudflare.com/ajax/libs/leaflet-minimap/3.6.1/Control.MiniMap.css&quot;/&gt;\n",
       "&lt;/head&gt;\n",
       "&lt;body&gt;    \n",
       "    \n",
       "            &lt;div class=&quot;folium-map&quot; id=&quot;map_7a84a47a11060697acec666d383f0969&quot; &gt;&lt;/div&gt;\n",
       "        \n",
       "&lt;/body&gt;\n",
       "&lt;script&gt;    \n",
       "    \n",
       "            var map_7a84a47a11060697acec666d383f0969 = L.map(\n",
       "                &quot;map_7a84a47a11060697acec666d383f0969&quot;,\n",
       "                {\n",
       "                    center: [-39.925826, -73.114501],\n",
       "                    crs: L.CRS.EPSG3857,\n",
       "                    zoom: 10,\n",
       "                    zoomControl: true,\n",
       "                    preferCanvas: false,\n",
       "                }\n",
       "            );\n",
       "\n",
       "            \n",
       "\n",
       "        \n",
       "    \n",
       "            var tile_layer_0ac91ae58b2aa9fe8e0bb65376341398 = L.tileLayer(\n",
       "                &quot;https://{s}.tile.openstreetmap.org/{z}/{x}/{y}.png&quot;,\n",
       "                {&quot;attribution&quot;: &quot;Data by \\u0026copy; \\u003ca href=\\&quot;http://openstreetmap.org\\&quot;\\u003eOpenStreetMap\\u003c/a\\u003e, under \\u003ca href=\\&quot;http://www.openstreetmap.org/copyright\\&quot;\\u003eODbL\\u003c/a\\u003e.&quot;, &quot;detectRetina&quot;: false, &quot;maxNativeZoom&quot;: 18, &quot;maxZoom&quot;: 18, &quot;minZoom&quot;: 0, &quot;noWrap&quot;: false, &quot;opacity&quot;: 1, &quot;subdomains&quot;: &quot;abc&quot;, &quot;tms&quot;: false}\n",
       "            ).addTo(map_7a84a47a11060697acec666d383f0969);\n",
       "        \n",
       "    \n",
       "            var marker_e63ebd82cab5b802fdf8208493d459a8 = L.marker(\n",
       "                [-39.8062305249, -73.0547464487],\n",
       "                {}\n",
       "            ).addTo(map_7a84a47a11060697acec666d383f0969);\n",
       "        \n",
       "    \n",
       "            marker_e63ebd82cab5b802fdf8208493d459a8.bindTooltip(\n",
       "                `&lt;div&gt;\n",
       "                     PISHUINCO\n",
       "                 &lt;/div&gt;`,\n",
       "                {&quot;sticky&quot;: true}\n",
       "            );\n",
       "        \n",
       "    \n",
       "            var marker_4651da58eb96abe6aa9122a0d2626a2a = L.marker(\n",
       "                [-39.7283824204, -73.3948919817],\n",
       "                {}\n",
       "            ).addTo(map_7a84a47a11060697acec666d383f0969);\n",
       "        \n",
       "    \n",
       "            marker_4651da58eb96abe6aa9122a0d2626a2a.bindTooltip(\n",
       "                `&lt;div&gt;\n",
       "                     CURIÑANCO\n",
       "                 &lt;/div&gt;`,\n",
       "                {&quot;sticky&quot;: true}\n",
       "            );\n",
       "        \n",
       "    \n",
       "            var marker_670f34407baf9480aab6730642546d7b = L.marker(\n",
       "                [-39.7930844112, -73.124067117],\n",
       "                {}\n",
       "            ).addTo(map_7a84a47a11060697acec666d383f0969);\n",
       "        \n",
       "    \n",
       "            marker_670f34407baf9480aab6730642546d7b.bindTooltip(\n",
       "                `&lt;div&gt;\n",
       "                     HUELLELHUE\n",
       "                 &lt;/div&gt;`,\n",
       "                {&quot;sticky&quot;: true}\n",
       "            );\n",
       "        \n",
       "    \n",
       "            var marker_2ff13448aa7829663c8d9dc05c666813 = L.marker(\n",
       "                [-39.8715639883, -73.1852346315],\n",
       "                {}\n",
       "            ).addTo(map_7a84a47a11060697acec666d383f0969);\n",
       "        \n",
       "    \n",
       "            marker_2ff13448aa7829663c8d9dc05c666813.bindTooltip(\n",
       "                `&lt;div&gt;\n",
       "                     LAS GAVIOTAS\n",
       "                 &lt;/div&gt;`,\n",
       "                {&quot;sticky&quot;: true}\n",
       "            );\n",
       "        \n",
       "    \n",
       "            var marker_3ffd07736fe139f6dbda78b614c68d90 = L.marker(\n",
       "                [-39.8547751549, -73.3907718436],\n",
       "                {}\n",
       "            ).addTo(map_7a84a47a11060697acec666d383f0969);\n",
       "        \n",
       "    \n",
       "            marker_3ffd07736fe139f6dbda78b614c68d90.bindTooltip(\n",
       "                `&lt;div&gt;\n",
       "                     NIEBLA-LOS MOLINOS\n",
       "                 &lt;/div&gt;`,\n",
       "                {&quot;sticky&quot;: true}\n",
       "            );\n",
       "        \n",
       "    \n",
       "            var marker_995325489a910cd5caf7f2475d91efb7 = L.marker(\n",
       "                [-39.7603001637, -73.2705681336],\n",
       "                {}\n",
       "            ).addTo(map_7a84a47a11060697acec666d383f0969);\n",
       "        \n",
       "    \n",
       "            marker_995325489a910cd5caf7f2475d91efb7.bindTooltip(\n",
       "                `&lt;div&gt;\n",
       "                     PUNUCAPA\n",
       "                 &lt;/div&gt;`,\n",
       "                {&quot;sticky&quot;: true}\n",
       "            );\n",
       "        \n",
       "    \n",
       "            var marker_06ffc0d5cafa26ab6c41eaceeec4ab2a = L.marker(\n",
       "                [-39.831480037, -73.4025892212],\n",
       "                {}\n",
       "            ).addTo(map_7a84a47a11060697acec666d383f0969);\n",
       "        \n",
       "    \n",
       "            marker_06ffc0d5cafa26ab6c41eaceeec4ab2a.bindTooltip(\n",
       "                `&lt;div&gt;\n",
       "                     SAN IGNACIO-PLAYA ROSADA\n",
       "                 &lt;/div&gt;`,\n",
       "                {&quot;sticky&quot;: true}\n",
       "            );\n",
       "        \n",
       "    \n",
       "            var marker_66ca068bd34565fa150df4eca229cb33 = L.marker(\n",
       "                [-39.8649364171, -73.3728400295],\n",
       "                {}\n",
       "            ).addTo(map_7a84a47a11060697acec666d383f0969);\n",
       "        \n",
       "    \n",
       "            marker_66ca068bd34565fa150df4eca229cb33.bindTooltip(\n",
       "                `&lt;div&gt;\n",
       "                     TRES ESPINOS\n",
       "                 &lt;/div&gt;`,\n",
       "                {&quot;sticky&quot;: true}\n",
       "            );\n",
       "        \n",
       "    \n",
       "            var marker_d50c5ad850d461dd7fb66489c2d5e300 = L.marker(\n",
       "                [-39.7314121294, -73.1091043702],\n",
       "                {}\n",
       "            ).addTo(map_7a84a47a11060697acec666d383f0969);\n",
       "        \n",
       "    \n",
       "            marker_d50c5ad850d461dd7fb66489c2d5e300.bindTooltip(\n",
       "                `&lt;div&gt;\n",
       "                     VILLA CAYUMAPU\n",
       "                 &lt;/div&gt;`,\n",
       "                {&quot;sticky&quot;: true}\n",
       "            );\n",
       "        \n",
       "    \n",
       "            var marker_a473f3482661240e12a7a3b2aa3b4a99 = L.marker(\n",
       "                [-39.772903642, -73.1970058325],\n",
       "                {}\n",
       "            ).addTo(map_7a84a47a11060697acec666d383f0969);\n",
       "        \n",
       "    \n",
       "            marker_a473f3482661240e12a7a3b2aa3b4a99.bindTooltip(\n",
       "                `&lt;div&gt;\n",
       "                     EL ARENAL SANTA ELVIRA\n",
       "                 &lt;/div&gt;`,\n",
       "                {&quot;sticky&quot;: true}\n",
       "            );\n",
       "        \n",
       "    \n",
       "            var marker_3fe17b42aac7cad1b8c7a905bd88bac1 = L.marker(\n",
       "                [-39.8673123199, -73.2088638403],\n",
       "                {}\n",
       "            ).addTo(map_7a84a47a11060697acec666d383f0969);\n",
       "        \n",
       "    \n",
       "            marker_3fe17b42aac7cad1b8c7a905bd88bac1.bindTooltip(\n",
       "                `&lt;div&gt;\n",
       "                     PAILLAO\n",
       "                 &lt;/div&gt;`,\n",
       "                {&quot;sticky&quot;: true}\n",
       "            );\n",
       "        \n",
       "    \n",
       "            var marker_0e2c9773e61c4405d9534c7f46e768e4 = L.marker(\n",
       "                [-39.7802702288, -73.2412708338],\n",
       "                {}\n",
       "            ).addTo(map_7a84a47a11060697acec666d383f0969);\n",
       "        \n",
       "    \n",
       "            marker_0e2c9773e61c4405d9534c7f46e768e4.bindTooltip(\n",
       "                `&lt;div&gt;\n",
       "                     CABO BLANCO\n",
       "                 &lt;/div&gt;`,\n",
       "                {&quot;sticky&quot;: true}\n",
       "            );\n",
       "        \n",
       "    \n",
       "            var marker_1d2d38e9c7b7b8e23d5c470473a96e26 = L.marker(\n",
       "                [-39.7737197231, -73.2102553189],\n",
       "                {}\n",
       "            ).addTo(map_7a84a47a11060697acec666d383f0969);\n",
       "        \n",
       "    \n",
       "            marker_1d2d38e9c7b7b8e23d5c470473a96e26.bindTooltip(\n",
       "                `&lt;div&gt;\n",
       "                     EL ARENAL KM 2\n",
       "                 &lt;/div&gt;`,\n",
       "                {&quot;sticky&quot;: true}\n",
       "            );\n",
       "        \n",
       "    \n",
       "            var marker_8b19e6126a40c958f36855fbdf22ad63 = L.marker(\n",
       "                [-39.7772055631, -73.3135380035],\n",
       "                {}\n",
       "            ).addTo(map_7a84a47a11060697acec666d383f0969);\n",
       "        \n",
       "    \n",
       "            marker_8b19e6126a40c958f36855fbdf22ad63.bindTooltip(\n",
       "                `&lt;div&gt;\n",
       "                     Chabelita\n",
       "                 &lt;/div&gt;`,\n",
       "                {&quot;sticky&quot;: true}\n",
       "            );\n",
       "        \n",
       "    \n",
       "            var marker_437615a93b530fa995d8fb6ae45b1bd9 = L.marker(\n",
       "                [-40.1296581637, -72.7254940272],\n",
       "                {}\n",
       "            ).addTo(map_7a84a47a11060697acec666d383f0969);\n",
       "        \n",
       "    \n",
       "            marker_437615a93b530fa995d8fb6ae45b1bd9.bindTooltip(\n",
       "                `&lt;div&gt;\n",
       "                     ARCO IRIS\n",
       "                 &lt;/div&gt;`,\n",
       "                {&quot;sticky&quot;: true}\n",
       "            );\n",
       "        \n",
       "    \n",
       "            var marker_46a97a32d802a69e57c10ab5db31491b = L.marker(\n",
       "                [-40.0676228293, -72.6179175677],\n",
       "                {}\n",
       "            ).addTo(map_7a84a47a11060697acec666d383f0969);\n",
       "        \n",
       "    \n",
       "            marker_46a97a32d802a69e57c10ab5db31491b.bindTooltip(\n",
       "                `&lt;div&gt;\n",
       "                     EL LLOLLY\n",
       "                 &lt;/div&gt;`,\n",
       "                {&quot;sticky&quot;: true}\n",
       "            );\n",
       "        \n",
       "    \n",
       "            var marker_1751d65f37b958fb926bad24085cd9a2 = L.marker(\n",
       "                [-40.1515807831, -72.8962419781],\n",
       "                {}\n",
       "            ).addTo(map_7a84a47a11060697acec666d383f0969);\n",
       "        \n",
       "    \n",
       "            marker_1751d65f37b958fb926bad24085cd9a2.bindTooltip(\n",
       "                `&lt;div&gt;\n",
       "                     PICHIRROPULLI\n",
       "                 &lt;/div&gt;`,\n",
       "                {&quot;sticky&quot;: true}\n",
       "            );\n",
       "        \n",
       "    \n",
       "            var marker_1a307d87a6c7aa04b5bd541ac89e649f = L.marker(\n",
       "                [-39.9784746305, -72.8320348617],\n",
       "                {}\n",
       "            ).addTo(map_7a84a47a11060697acec666d383f0969);\n",
       "        \n",
       "    \n",
       "            marker_1a307d87a6c7aa04b5bd541ac89e649f.bindTooltip(\n",
       "                `&lt;div&gt;\n",
       "                     REUMEN\n",
       "                 &lt;/div&gt;`,\n",
       "                {&quot;sticky&quot;: true}\n",
       "            );\n",
       "        \n",
       "    \n",
       "            var marker_c303c09038a124a23f0e2935d59a30f5 = L.marker(\n",
       "                [-40.1233358588, -72.6748177353],\n",
       "                {}\n",
       "            ).addTo(map_7a84a47a11060697acec666d383f0969);\n",
       "        \n",
       "    \n",
       "            marker_c303c09038a124a23f0e2935d59a30f5.bindTooltip(\n",
       "                `&lt;div&gt;\n",
       "                     SANTA FILOMENA\n",
       "                 &lt;/div&gt;`,\n",
       "                {&quot;sticky&quot;: true}\n",
       "            );\n",
       "        \n",
       "    \n",
       "            var marker_068640060ec992f0f515ec6c13e6ae0d = L.marker(\n",
       "                [-40.0949272285, -72.8333381781],\n",
       "                {}\n",
       "            ).addTo(map_7a84a47a11060697acec666d383f0969);\n",
       "        \n",
       "    \n",
       "            marker_068640060ec992f0f515ec6c13e6ae0d.bindTooltip(\n",
       "                `&lt;div&gt;\n",
       "                     MANAO\n",
       "                 &lt;/div&gt;`,\n",
       "                {&quot;sticky&quot;: true}\n",
       "            );\n",
       "        \n",
       "    \n",
       "            var marker_9472d75573680a537f431cacdb14d5a0 = L.marker(\n",
       "                [-40.1805296564, -72.5619049938],\n",
       "                {}\n",
       "            ).addTo(map_7a84a47a11060697acec666d383f0969);\n",
       "        \n",
       "    \n",
       "            marker_9472d75573680a537f431cacdb14d5a0.bindTooltip(\n",
       "                `&lt;div&gt;\n",
       "                     SANTA ROSA CHICA\n",
       "                 &lt;/div&gt;`,\n",
       "                {&quot;sticky&quot;: true}\n",
       "            );\n",
       "        \n",
       "    \n",
       "            var marker_ead92c850cbfbd94ade4569781c456c3 = L.marker(\n",
       "                [-40.1380925113, -72.5825449417],\n",
       "                {}\n",
       "            ).addTo(map_7a84a47a11060697acec666d383f0969);\n",
       "        \n",
       "    \n",
       "            marker_ead92c850cbfbd94ade4569781c456c3.bindTooltip(\n",
       "                `&lt;div&gt;\n",
       "                     SANTA ROSA GRANDE\n",
       "                 &lt;/div&gt;`,\n",
       "                {&quot;sticky&quot;: true}\n",
       "            );\n",
       "        \n",
       "    \n",
       "            var marker_9bee105393a1dd786fe5349ad04d9144 = L.marker(\n",
       "                [-40.0154940534, -72.7914597178],\n",
       "                {}\n",
       "            ).addTo(map_7a84a47a11060697acec666d383f0969);\n",
       "        \n",
       "    \n",
       "            marker_9bee105393a1dd786fe5349ad04d9144.bindTooltip(\n",
       "                `&lt;div&gt;\n",
       "                     LUMACO PAILLACO\n",
       "                 &lt;/div&gt;`,\n",
       "                {&quot;sticky&quot;: true}\n",
       "            );\n",
       "        \n",
       "    \n",
       "            var marker_c64d3eb383ae04eab94b93b7e7da11f4 = L.marker(\n",
       "                [-40.0746752187, -72.6747765849],\n",
       "                {}\n",
       "            ).addTo(map_7a84a47a11060697acec666d383f0969);\n",
       "        \n",
       "    \n",
       "            marker_c64d3eb383ae04eab94b93b7e7da11f4.bindTooltip(\n",
       "                `&lt;div&gt;\n",
       "                     EL MAITEN\n",
       "                 &lt;/div&gt;`,\n",
       "                {&quot;sticky&quot;: true}\n",
       "            );\n",
       "        \n",
       "    \n",
       "            var marker_7f692762e96a16c436e44f1948f53c80 = L.marker(\n",
       "                [-40.1221748177, -72.6855485214],\n",
       "                {}\n",
       "            ).addTo(map_7a84a47a11060697acec666d383f0969);\n",
       "        \n",
       "    \n",
       "            marker_7f692762e96a16c436e44f1948f53c80.bindTooltip(\n",
       "                `&lt;div&gt;\n",
       "                     SANTA FILOMENA II\n",
       "                 &lt;/div&gt;`,\n",
       "                {&quot;sticky&quot;: true}\n",
       "            );\n",
       "        \n",
       "    \n",
       "            var marker_92fdcbc55c216face3c8995c5a71c201 = L.marker(\n",
       "                [-39.8074856345, -72.9572455712],\n",
       "                {}\n",
       "            ).addTo(map_7a84a47a11060697acec666d383f0969);\n",
       "        \n",
       "    \n",
       "            marker_92fdcbc55c216face3c8995c5a71c201.bindTooltip(\n",
       "                `&lt;div&gt;\n",
       "                     ANTILHUE\n",
       "                 &lt;/div&gt;`,\n",
       "                {&quot;sticky&quot;: true}\n",
       "            );\n",
       "        \n",
       "    \n",
       "            var marker_dd4a95070067e299f30851fcf71811cb = L.marker(\n",
       "                [-39.8710682914, -72.6678013129],\n",
       "                {}\n",
       "            ).addTo(map_7a84a47a11060697acec666d383f0969);\n",
       "        \n",
       "    \n",
       "            marker_dd4a95070067e299f30851fcf71811cb.bindTooltip(\n",
       "                `&lt;div&gt;\n",
       "                     FOLILCO LOS LAGOS\n",
       "                 &lt;/div&gt;`,\n",
       "                {&quot;sticky&quot;: true}\n",
       "            );\n",
       "        \n",
       "    \n",
       "            var marker_ade45a5cd9a8732b17062fe5e67beb0b = L.marker(\n",
       "                [-39.9084433218, -72.5733916686],\n",
       "                {}\n",
       "            ).addTo(map_7a84a47a11060697acec666d383f0969);\n",
       "        \n",
       "    \n",
       "            marker_ade45a5cd9a8732b17062fe5e67beb0b.bindTooltip(\n",
       "                `&lt;div&gt;\n",
       "                     QUILQUILCO\n",
       "                 &lt;/div&gt;`,\n",
       "                {&quot;sticky&quot;: true}\n",
       "            );\n",
       "        \n",
       "    \n",
       "            var marker_4502cfe9fcdaa29959f066d1acd5d433 = L.marker(\n",
       "                [-39.8171126188, -72.4425065285],\n",
       "                {}\n",
       "            ).addTo(map_7a84a47a11060697acec666d383f0969);\n",
       "        \n",
       "    \n",
       "            marker_4502cfe9fcdaa29959f066d1acd5d433.bindTooltip(\n",
       "                `&lt;div&gt;\n",
       "                     RIÑIHUE\n",
       "                 &lt;/div&gt;`,\n",
       "                {&quot;sticky&quot;: true}\n",
       "            );\n",
       "        \n",
       "    \n",
       "            var marker_1e2f0e1c18ca5036cf9d76000b4abb45 = L.marker(\n",
       "                [-39.7751787818, -72.6519491619],\n",
       "                {}\n",
       "            ).addTo(map_7a84a47a11060697acec666d383f0969);\n",
       "        \n",
       "    \n",
       "            marker_1e2f0e1c18ca5036cf9d76000b4abb45.bindTooltip(\n",
       "                `&lt;div&gt;\n",
       "                     USTARITZ\n",
       "                 &lt;/div&gt;`,\n",
       "                {&quot;sticky&quot;: true}\n",
       "            );\n",
       "        \n",
       "    \n",
       "            var marker_85581ea31287d1e5a1fc7c730fb102cc = L.marker(\n",
       "                [-39.9987530843, -72.7108188025],\n",
       "                {}\n",
       "            ).addTo(map_7a84a47a11060697acec666d383f0969);\n",
       "        \n",
       "    \n",
       "            marker_85581ea31287d1e5a1fc7c730fb102cc.bindTooltip(\n",
       "                `&lt;div&gt;\n",
       "                     EL SALTO\n",
       "                 &lt;/div&gt;`,\n",
       "                {&quot;sticky&quot;: true}\n",
       "            );\n",
       "        \n",
       "    \n",
       "            var marker_0d769023d586fadcee77170387727e83 = L.marker(\n",
       "                [-40.0154665081, -72.5215180883],\n",
       "                {}\n",
       "            ).addTo(map_7a84a47a11060697acec666d383f0969);\n",
       "        \n",
       "    \n",
       "            marker_0d769023d586fadcee77170387727e83.bindTooltip(\n",
       "                `&lt;div&gt;\n",
       "                     PELLINADA LAS QUINIENTAS\n",
       "                 &lt;/div&gt;`,\n",
       "                {&quot;sticky&quot;: true}\n",
       "            );\n",
       "        \n",
       "    \n",
       "            var marker_8072d67569bf33bc0c3318160bb3fb80 = L.marker(\n",
       "                [-39.8526730412, -72.7929315347],\n",
       "                {}\n",
       "            ).addTo(map_7a84a47a11060697acec666d383f0969);\n",
       "        \n",
       "    \n",
       "            marker_8072d67569bf33bc0c3318160bb3fb80.bindTooltip(\n",
       "                `&lt;div&gt;\n",
       "                     PANCUL\n",
       "                 &lt;/div&gt;`,\n",
       "                {&quot;sticky&quot;: true}\n",
       "            );\n",
       "        \n",
       "    \n",
       "            var marker_1526cbd4c001d614dcec50a5b8db50d0 = L.marker(\n",
       "                [-39.8705154943, -72.781619174],\n",
       "                {}\n",
       "            ).addTo(map_7a84a47a11060697acec666d383f0969);\n",
       "        \n",
       "    \n",
       "            marker_1526cbd4c001d614dcec50a5b8db50d0.bindTooltip(\n",
       "                `&lt;div&gt;\n",
       "                     LOS COLIGÜES\n",
       "                 &lt;/div&gt;`,\n",
       "                {&quot;sticky&quot;: true}\n",
       "            );\n",
       "        \n",
       "    \n",
       "            var marker_19b5f64d422a378f1ca8793c0b79e196 = L.marker(\n",
       "                [-39.8817714432, -72.6708273322],\n",
       "                {}\n",
       "            ).addTo(map_7a84a47a11060697acec666d383f0969);\n",
       "        \n",
       "    \n",
       "            marker_19b5f64d422a378f1ca8793c0b79e196.bindTooltip(\n",
       "                `&lt;div&gt;\n",
       "                     COLO COLO\n",
       "                 &lt;/div&gt;`,\n",
       "                {&quot;sticky&quot;: true}\n",
       "            );\n",
       "        \n",
       "    \n",
       "            var marker_dedc091dcd46ae6b38b68930953000e9 = L.marker(\n",
       "                [-39.9027809062, -72.5930946759],\n",
       "                {}\n",
       "            ).addTo(map_7a84a47a11060697acec666d383f0969);\n",
       "        \n",
       "    \n",
       "            marker_dedc091dcd46ae6b38b68930953000e9.bindTooltip(\n",
       "                `&lt;div&gt;\n",
       "                     LAS HUELLLAS\n",
       "                 &lt;/div&gt;`,\n",
       "                {&quot;sticky&quot;: true}\n",
       "            );\n",
       "        \n",
       "    \n",
       "            var marker_94766a85ad67ce76c41b2ac40cf380d3 = L.marker(\n",
       "                [-39.8171525324, -72.6981700465],\n",
       "                {}\n",
       "            ).addTo(map_7a84a47a11060697acec666d383f0969);\n",
       "        \n",
       "    \n",
       "            marker_94766a85ad67ce76c41b2ac40cf380d3.bindTooltip(\n",
       "                `&lt;div&gt;\n",
       "                     San Pedro\n",
       "                 &lt;/div&gt;`,\n",
       "                {&quot;sticky&quot;: true}\n",
       "            );\n",
       "        \n",
       "    \n",
       "            var marker_f247d9049ba26e7de20424fa28ac1ee8 = L.marker(\n",
       "                [-39.9151109593, -72.78974687],\n",
       "                {}\n",
       "            ).addTo(map_7a84a47a11060697acec666d383f0969);\n",
       "        \n",
       "    \n",
       "            marker_f247d9049ba26e7de20424fa28ac1ee8.bindTooltip(\n",
       "                `&lt;div&gt;\n",
       "                     Lipingue\n",
       "                 &lt;/div&gt;`,\n",
       "                {&quot;sticky&quot;: true}\n",
       "            );\n",
       "        \n",
       "    \n",
       "            var marker_875dabf4cb68611b4162310d0cbfa30d = L.marker(\n",
       "                [-39.9809683663, -72.7929665382],\n",
       "                {}\n",
       "            ).addTo(map_7a84a47a11060697acec666d383f0969);\n",
       "        \n",
       "    \n",
       "            marker_875dabf4cb68611b4162310d0cbfa30d.bindTooltip(\n",
       "                `&lt;div&gt;\n",
       "                     El Trebol\n",
       "                 &lt;/div&gt;`,\n",
       "                {&quot;sticky&quot;: true}\n",
       "            );\n",
       "        \n",
       "    \n",
       "            var marker_1f90d3efc0eeef526f1274d98c5a7537 = L.marker(\n",
       "                [-39.891383155, -72.7942956633],\n",
       "                {}\n",
       "            ).addTo(map_7a84a47a11060697acec666d383f0969);\n",
       "        \n",
       "    \n",
       "            marker_1f90d3efc0eeef526f1274d98c5a7537.bindTooltip(\n",
       "                `&lt;div&gt;\n",
       "                     Collico Sur\n",
       "                 &lt;/div&gt;`,\n",
       "                {&quot;sticky&quot;: true}\n",
       "            );\n",
       "        \n",
       "    \n",
       "            var marker_61515d48b7af15670caef74f7ea6cf53 = L.marker(\n",
       "                [-39.854954476, -72.6609940373],\n",
       "                {}\n",
       "            ).addTo(map_7a84a47a11060697acec666d383f0969);\n",
       "        \n",
       "    \n",
       "            marker_61515d48b7af15670caef74f7ea6cf53.bindTooltip(\n",
       "                `&lt;div&gt;\n",
       "                     Mi Tierra\n",
       "                 &lt;/div&gt;`,\n",
       "                {&quot;sticky&quot;: true}\n",
       "            );\n",
       "        \n",
       "    \n",
       "            var marker_5e3fc892e9cb3f52cb91e31908b2f163 = L.marker(\n",
       "                [-39.8597946179, -72.7236128048],\n",
       "                {}\n",
       "            ).addTo(map_7a84a47a11060697acec666d383f0969);\n",
       "        \n",
       "    \n",
       "            marker_5e3fc892e9cb3f52cb91e31908b2f163.bindTooltip(\n",
       "                `&lt;div&gt;\n",
       "                     Puñaco\n",
       "                 &lt;/div&gt;`,\n",
       "                {&quot;sticky&quot;: true}\n",
       "            );\n",
       "        \n",
       "    \n",
       "            var marker_3d1da322afafec2fca3759daaa97cd56 = L.marker(\n",
       "                [-39.8183071179, -72.8753063555],\n",
       "                {}\n",
       "            ).addTo(map_7a84a47a11060697acec666d383f0969);\n",
       "        \n",
       "    \n",
       "            marker_3d1da322afafec2fca3759daaa97cd56.bindTooltip(\n",
       "                `&lt;div&gt;\n",
       "                     Purey\n",
       "                 &lt;/div&gt;`,\n",
       "                {&quot;sticky&quot;: true}\n",
       "            );\n",
       "        \n",
       "    \n",
       "            var marker_653bedb67269074137c220b9874098da = L.marker(\n",
       "                [-39.8631470531, -73.4340874604],\n",
       "                {}\n",
       "            ).addTo(map_7a84a47a11060697acec666d383f0969);\n",
       "        \n",
       "    \n",
       "            marker_653bedb67269074137c220b9874098da.bindTooltip(\n",
       "                `&lt;div&gt;\n",
       "                     AMARGO-SAN CARLOS\n",
       "                 &lt;/div&gt;`,\n",
       "                {&quot;sticky&quot;: true}\n",
       "            );\n",
       "        \n",
       "    \n",
       "            var marker_0dd580cbc3a53b2a6b46e2c3adff27a3 = L.marker(\n",
       "                [-39.8754350487, -73.3587930086],\n",
       "                {}\n",
       "            ).addTo(map_7a84a47a11060697acec666d383f0969);\n",
       "        \n",
       "    \n",
       "            marker_0dd580cbc3a53b2a6b46e2c3adff27a3.bindTooltip(\n",
       "                `&lt;div&gt;\n",
       "                     ISLA DEL REY\n",
       "                 &lt;/div&gt;`,\n",
       "                {&quot;sticky&quot;: true}\n",
       "            );\n",
       "        \n",
       "    \n",
       "            var marker_f9640780548cc58cda6d7d4a4c1a79c3 = L.marker(\n",
       "                [-39.8905057848, -73.3917808877],\n",
       "                {}\n",
       "            ).addTo(map_7a84a47a11060697acec666d383f0969);\n",
       "        \n",
       "    \n",
       "            marker_f9640780548cc58cda6d7d4a4c1a79c3.bindTooltip(\n",
       "                `&lt;div&gt;\n",
       "                     ISLA MANCERA\n",
       "                 &lt;/div&gt;`,\n",
       "                {&quot;sticky&quot;: true}\n",
       "            );\n",
       "        \n",
       "    \n",
       "            var marker_ab7100ff912f5ef239053433e2d714ad = L.marker(\n",
       "                [-39.8964415368, -73.417776163],\n",
       "                {}\n",
       "            ).addTo(map_7a84a47a11060697acec666d383f0969);\n",
       "        \n",
       "    \n",
       "            marker_ab7100ff912f5ef239053433e2d714ad.bindTooltip(\n",
       "                `&lt;div&gt;\n",
       "                     LA AGUADA\n",
       "                 &lt;/div&gt;`,\n",
       "                {&quot;sticky&quot;: true}\n",
       "            );\n",
       "        \n",
       "    \n",
       "            var marker_02cb950c72d6fba3c1a69910fb11c172 = L.marker(\n",
       "                [-39.9656281859, -73.6194983481],\n",
       "                {}\n",
       "            ).addTo(map_7a84a47a11060697acec666d383f0969);\n",
       "        \n",
       "    \n",
       "            marker_02cb950c72d6fba3c1a69910fb11c172.bindTooltip(\n",
       "                `&lt;div&gt;\n",
       "                     CHAIHUIN\n",
       "                 &lt;/div&gt;`,\n",
       "                {&quot;sticky&quot;: true}\n",
       "            );\n",
       "        \n",
       "    \n",
       "            var marker_4d03651cd8bafeb03fe4f65f76b19f0f = L.marker(\n",
       "                [-39.8970045115, -73.4310820761],\n",
       "                {}\n",
       "            ).addTo(map_7a84a47a11060697acec666d383f0969);\n",
       "        \n",
       "    \n",
       "            marker_4d03651cd8bafeb03fe4f65f76b19f0f.bindTooltip(\n",
       "                `&lt;div&gt;\n",
       "                     CERROS DE CORRAL\n",
       "                 &lt;/div&gt;`,\n",
       "                {&quot;sticky&quot;: true}\n",
       "            );\n",
       "        \n",
       "    \n",
       "            var circle_marker_0384e3c6a476149c86f1decd0b6711aa = L.circleMarker(\n",
       "                [-39.8062305249, -73.0547464487],\n",
       "                {&quot;bubblingMouseEvents&quot;: true, &quot;color&quot;: &quot;#3388ff&quot;, &quot;dashArray&quot;: null, &quot;dashOffset&quot;: null, &quot;fill&quot;: false, &quot;fillColor&quot;: &quot;#3388ff&quot;, &quot;fillOpacity&quot;: 0.2, &quot;fillRule&quot;: &quot;evenodd&quot;, &quot;lineCap&quot;: &quot;round&quot;, &quot;lineJoin&quot;: &quot;round&quot;, &quot;opacity&quot;: 1.0, &quot;radius&quot;: 5, &quot;stroke&quot;: true, &quot;weight&quot;: 3}\n",
       "            ).addTo(map_7a84a47a11060697acec666d383f0969);\n",
       "        \n",
       "    \n",
       "            var circle_marker_a66a4dbf0a3e4693813c466df5e0d02a = L.circleMarker(\n",
       "                [-39.7283824204, -73.3948919817],\n",
       "                {&quot;bubblingMouseEvents&quot;: true, &quot;color&quot;: &quot;#3388ff&quot;, &quot;dashArray&quot;: null, &quot;dashOffset&quot;: null, &quot;fill&quot;: false, &quot;fillColor&quot;: &quot;#3388ff&quot;, &quot;fillOpacity&quot;: 0.2, &quot;fillRule&quot;: &quot;evenodd&quot;, &quot;lineCap&quot;: &quot;round&quot;, &quot;lineJoin&quot;: &quot;round&quot;, &quot;opacity&quot;: 1.0, &quot;radius&quot;: 5, &quot;stroke&quot;: true, &quot;weight&quot;: 3}\n",
       "            ).addTo(map_7a84a47a11060697acec666d383f0969);\n",
       "        \n",
       "    \n",
       "            var circle_marker_c5258563318f13bb1f3e2611b675d61f = L.circleMarker(\n",
       "                [-39.7930844112, -73.124067117],\n",
       "                {&quot;bubblingMouseEvents&quot;: true, &quot;color&quot;: &quot;#3388ff&quot;, &quot;dashArray&quot;: null, &quot;dashOffset&quot;: null, &quot;fill&quot;: false, &quot;fillColor&quot;: &quot;#3388ff&quot;, &quot;fillOpacity&quot;: 0.2, &quot;fillRule&quot;: &quot;evenodd&quot;, &quot;lineCap&quot;: &quot;round&quot;, &quot;lineJoin&quot;: &quot;round&quot;, &quot;opacity&quot;: 1.0, &quot;radius&quot;: 5, &quot;stroke&quot;: true, &quot;weight&quot;: 3}\n",
       "            ).addTo(map_7a84a47a11060697acec666d383f0969);\n",
       "        \n",
       "    \n",
       "            var circle_marker_7d4cb1c2af8fdea7e80aefbe0154667f = L.circleMarker(\n",
       "                [-39.8715639883, -73.1852346315],\n",
       "                {&quot;bubblingMouseEvents&quot;: true, &quot;color&quot;: &quot;#3388ff&quot;, &quot;dashArray&quot;: null, &quot;dashOffset&quot;: null, &quot;fill&quot;: false, &quot;fillColor&quot;: &quot;#3388ff&quot;, &quot;fillOpacity&quot;: 0.2, &quot;fillRule&quot;: &quot;evenodd&quot;, &quot;lineCap&quot;: &quot;round&quot;, &quot;lineJoin&quot;: &quot;round&quot;, &quot;opacity&quot;: 1.0, &quot;radius&quot;: 5, &quot;stroke&quot;: true, &quot;weight&quot;: 3}\n",
       "            ).addTo(map_7a84a47a11060697acec666d383f0969);\n",
       "        \n",
       "    \n",
       "            var circle_marker_aa9b8a8dfc176a85f8a8dd29320950ba = L.circleMarker(\n",
       "                [-39.8547751549, -73.3907718436],\n",
       "                {&quot;bubblingMouseEvents&quot;: true, &quot;color&quot;: &quot;#3388ff&quot;, &quot;dashArray&quot;: null, &quot;dashOffset&quot;: null, &quot;fill&quot;: false, &quot;fillColor&quot;: &quot;#3388ff&quot;, &quot;fillOpacity&quot;: 0.2, &quot;fillRule&quot;: &quot;evenodd&quot;, &quot;lineCap&quot;: &quot;round&quot;, &quot;lineJoin&quot;: &quot;round&quot;, &quot;opacity&quot;: 1.0, &quot;radius&quot;: 5, &quot;stroke&quot;: true, &quot;weight&quot;: 3}\n",
       "            ).addTo(map_7a84a47a11060697acec666d383f0969);\n",
       "        \n",
       "    \n",
       "            var circle_marker_22aa6300589cd2822159e194b998a2eb = L.circleMarker(\n",
       "                [-39.7603001637, -73.2705681336],\n",
       "                {&quot;bubblingMouseEvents&quot;: true, &quot;color&quot;: &quot;#3388ff&quot;, &quot;dashArray&quot;: null, &quot;dashOffset&quot;: null, &quot;fill&quot;: false, &quot;fillColor&quot;: &quot;#3388ff&quot;, &quot;fillOpacity&quot;: 0.2, &quot;fillRule&quot;: &quot;evenodd&quot;, &quot;lineCap&quot;: &quot;round&quot;, &quot;lineJoin&quot;: &quot;round&quot;, &quot;opacity&quot;: 1.0, &quot;radius&quot;: 5, &quot;stroke&quot;: true, &quot;weight&quot;: 3}\n",
       "            ).addTo(map_7a84a47a11060697acec666d383f0969);\n",
       "        \n",
       "    \n",
       "            var circle_marker_05f875839c29782dfe2c01c5b0dd7cd5 = L.circleMarker(\n",
       "                [-39.831480037, -73.4025892212],\n",
       "                {&quot;bubblingMouseEvents&quot;: true, &quot;color&quot;: &quot;#3388ff&quot;, &quot;dashArray&quot;: null, &quot;dashOffset&quot;: null, &quot;fill&quot;: false, &quot;fillColor&quot;: &quot;#3388ff&quot;, &quot;fillOpacity&quot;: 0.2, &quot;fillRule&quot;: &quot;evenodd&quot;, &quot;lineCap&quot;: &quot;round&quot;, &quot;lineJoin&quot;: &quot;round&quot;, &quot;opacity&quot;: 1.0, &quot;radius&quot;: 5, &quot;stroke&quot;: true, &quot;weight&quot;: 3}\n",
       "            ).addTo(map_7a84a47a11060697acec666d383f0969);\n",
       "        \n",
       "    \n",
       "            var circle_marker_2fc703d7f92074ec94ee0ea993485053 = L.circleMarker(\n",
       "                [-39.8649364171, -73.3728400295],\n",
       "                {&quot;bubblingMouseEvents&quot;: true, &quot;color&quot;: &quot;#3388ff&quot;, &quot;dashArray&quot;: null, &quot;dashOffset&quot;: null, &quot;fill&quot;: false, &quot;fillColor&quot;: &quot;#3388ff&quot;, &quot;fillOpacity&quot;: 0.2, &quot;fillRule&quot;: &quot;evenodd&quot;, &quot;lineCap&quot;: &quot;round&quot;, &quot;lineJoin&quot;: &quot;round&quot;, &quot;opacity&quot;: 1.0, &quot;radius&quot;: 5, &quot;stroke&quot;: true, &quot;weight&quot;: 3}\n",
       "            ).addTo(map_7a84a47a11060697acec666d383f0969);\n",
       "        \n",
       "    \n",
       "            var circle_marker_9d317f5ec42760a531ecfb81ad351d10 = L.circleMarker(\n",
       "                [-39.7314121294, -73.1091043702],\n",
       "                {&quot;bubblingMouseEvents&quot;: true, &quot;color&quot;: &quot;#3388ff&quot;, &quot;dashArray&quot;: null, &quot;dashOffset&quot;: null, &quot;fill&quot;: false, &quot;fillColor&quot;: &quot;#3388ff&quot;, &quot;fillOpacity&quot;: 0.2, &quot;fillRule&quot;: &quot;evenodd&quot;, &quot;lineCap&quot;: &quot;round&quot;, &quot;lineJoin&quot;: &quot;round&quot;, &quot;opacity&quot;: 1.0, &quot;radius&quot;: 5, &quot;stroke&quot;: true, &quot;weight&quot;: 3}\n",
       "            ).addTo(map_7a84a47a11060697acec666d383f0969);\n",
       "        \n",
       "    \n",
       "            var circle_marker_671dd4a3627fa2725d7782b57feca58e = L.circleMarker(\n",
       "                [-39.772903642, -73.1970058325],\n",
       "                {&quot;bubblingMouseEvents&quot;: true, &quot;color&quot;: &quot;#3388ff&quot;, &quot;dashArray&quot;: null, &quot;dashOffset&quot;: null, &quot;fill&quot;: false, &quot;fillColor&quot;: &quot;#3388ff&quot;, &quot;fillOpacity&quot;: 0.2, &quot;fillRule&quot;: &quot;evenodd&quot;, &quot;lineCap&quot;: &quot;round&quot;, &quot;lineJoin&quot;: &quot;round&quot;, &quot;opacity&quot;: 1.0, &quot;radius&quot;: 5, &quot;stroke&quot;: true, &quot;weight&quot;: 3}\n",
       "            ).addTo(map_7a84a47a11060697acec666d383f0969);\n",
       "        \n",
       "    \n",
       "            var circle_marker_f15d3ba9be065c5a85c98c2a508c5b1a = L.circleMarker(\n",
       "                [-39.8673123199, -73.2088638403],\n",
       "                {&quot;bubblingMouseEvents&quot;: true, &quot;color&quot;: &quot;#3388ff&quot;, &quot;dashArray&quot;: null, &quot;dashOffset&quot;: null, &quot;fill&quot;: false, &quot;fillColor&quot;: &quot;#3388ff&quot;, &quot;fillOpacity&quot;: 0.2, &quot;fillRule&quot;: &quot;evenodd&quot;, &quot;lineCap&quot;: &quot;round&quot;, &quot;lineJoin&quot;: &quot;round&quot;, &quot;opacity&quot;: 1.0, &quot;radius&quot;: 5, &quot;stroke&quot;: true, &quot;weight&quot;: 3}\n",
       "            ).addTo(map_7a84a47a11060697acec666d383f0969);\n",
       "        \n",
       "    \n",
       "            var circle_marker_b3afb45cf32e4fda157e500e9ade4063 = L.circleMarker(\n",
       "                [-39.7802702288, -73.2412708338],\n",
       "                {&quot;bubblingMouseEvents&quot;: true, &quot;color&quot;: &quot;#3388ff&quot;, &quot;dashArray&quot;: null, &quot;dashOffset&quot;: null, &quot;fill&quot;: false, &quot;fillColor&quot;: &quot;#3388ff&quot;, &quot;fillOpacity&quot;: 0.2, &quot;fillRule&quot;: &quot;evenodd&quot;, &quot;lineCap&quot;: &quot;round&quot;, &quot;lineJoin&quot;: &quot;round&quot;, &quot;opacity&quot;: 1.0, &quot;radius&quot;: 5, &quot;stroke&quot;: true, &quot;weight&quot;: 3}\n",
       "            ).addTo(map_7a84a47a11060697acec666d383f0969);\n",
       "        \n",
       "    \n",
       "            var circle_marker_d8b9588dc6785fa4d7266dfa49c74440 = L.circleMarker(\n",
       "                [-39.7737197231, -73.2102553189],\n",
       "                {&quot;bubblingMouseEvents&quot;: true, &quot;color&quot;: &quot;#3388ff&quot;, &quot;dashArray&quot;: null, &quot;dashOffset&quot;: null, &quot;fill&quot;: false, &quot;fillColor&quot;: &quot;#3388ff&quot;, &quot;fillOpacity&quot;: 0.2, &quot;fillRule&quot;: &quot;evenodd&quot;, &quot;lineCap&quot;: &quot;round&quot;, &quot;lineJoin&quot;: &quot;round&quot;, &quot;opacity&quot;: 1.0, &quot;radius&quot;: 5, &quot;stroke&quot;: true, &quot;weight&quot;: 3}\n",
       "            ).addTo(map_7a84a47a11060697acec666d383f0969);\n",
       "        \n",
       "    \n",
       "            var circle_marker_856695443e5313c1f909849188801ae7 = L.circleMarker(\n",
       "                [-39.7772055631, -73.3135380035],\n",
       "                {&quot;bubblingMouseEvents&quot;: true, &quot;color&quot;: &quot;#3388ff&quot;, &quot;dashArray&quot;: null, &quot;dashOffset&quot;: null, &quot;fill&quot;: false, &quot;fillColor&quot;: &quot;#3388ff&quot;, &quot;fillOpacity&quot;: 0.2, &quot;fillRule&quot;: &quot;evenodd&quot;, &quot;lineCap&quot;: &quot;round&quot;, &quot;lineJoin&quot;: &quot;round&quot;, &quot;opacity&quot;: 1.0, &quot;radius&quot;: 5, &quot;stroke&quot;: true, &quot;weight&quot;: 3}\n",
       "            ).addTo(map_7a84a47a11060697acec666d383f0969);\n",
       "        \n",
       "    \n",
       "            var circle_marker_63df2aa49f509d2637a04d989af904bb = L.circleMarker(\n",
       "                [-40.1296581637, -72.7254940272],\n",
       "                {&quot;bubblingMouseEvents&quot;: true, &quot;color&quot;: &quot;#3388ff&quot;, &quot;dashArray&quot;: null, &quot;dashOffset&quot;: null, &quot;fill&quot;: false, &quot;fillColor&quot;: &quot;#3388ff&quot;, &quot;fillOpacity&quot;: 0.2, &quot;fillRule&quot;: &quot;evenodd&quot;, &quot;lineCap&quot;: &quot;round&quot;, &quot;lineJoin&quot;: &quot;round&quot;, &quot;opacity&quot;: 1.0, &quot;radius&quot;: 5, &quot;stroke&quot;: true, &quot;weight&quot;: 3}\n",
       "            ).addTo(map_7a84a47a11060697acec666d383f0969);\n",
       "        \n",
       "    \n",
       "            var circle_marker_34912e3f08ea951acc60a860b6453267 = L.circleMarker(\n",
       "                [-40.0676228293, -72.6179175677],\n",
       "                {&quot;bubblingMouseEvents&quot;: true, &quot;color&quot;: &quot;#3388ff&quot;, &quot;dashArray&quot;: null, &quot;dashOffset&quot;: null, &quot;fill&quot;: false, &quot;fillColor&quot;: &quot;#3388ff&quot;, &quot;fillOpacity&quot;: 0.2, &quot;fillRule&quot;: &quot;evenodd&quot;, &quot;lineCap&quot;: &quot;round&quot;, &quot;lineJoin&quot;: &quot;round&quot;, &quot;opacity&quot;: 1.0, &quot;radius&quot;: 5, &quot;stroke&quot;: true, &quot;weight&quot;: 3}\n",
       "            ).addTo(map_7a84a47a11060697acec666d383f0969);\n",
       "        \n",
       "    \n",
       "            var circle_marker_b7e8fbe0130ddeffb39c698290051658 = L.circleMarker(\n",
       "                [-40.1515807831, -72.8962419781],\n",
       "                {&quot;bubblingMouseEvents&quot;: true, &quot;color&quot;: &quot;#3388ff&quot;, &quot;dashArray&quot;: null, &quot;dashOffset&quot;: null, &quot;fill&quot;: false, &quot;fillColor&quot;: &quot;#3388ff&quot;, &quot;fillOpacity&quot;: 0.2, &quot;fillRule&quot;: &quot;evenodd&quot;, &quot;lineCap&quot;: &quot;round&quot;, &quot;lineJoin&quot;: &quot;round&quot;, &quot;opacity&quot;: 1.0, &quot;radius&quot;: 5, &quot;stroke&quot;: true, &quot;weight&quot;: 3}\n",
       "            ).addTo(map_7a84a47a11060697acec666d383f0969);\n",
       "        \n",
       "    \n",
       "            var circle_marker_0b5f38af140d16d6c9bb3a5ffe73bc02 = L.circleMarker(\n",
       "                [-39.9784746305, -72.8320348617],\n",
       "                {&quot;bubblingMouseEvents&quot;: true, &quot;color&quot;: &quot;#3388ff&quot;, &quot;dashArray&quot;: null, &quot;dashOffset&quot;: null, &quot;fill&quot;: false, &quot;fillColor&quot;: &quot;#3388ff&quot;, &quot;fillOpacity&quot;: 0.2, &quot;fillRule&quot;: &quot;evenodd&quot;, &quot;lineCap&quot;: &quot;round&quot;, &quot;lineJoin&quot;: &quot;round&quot;, &quot;opacity&quot;: 1.0, &quot;radius&quot;: 5, &quot;stroke&quot;: true, &quot;weight&quot;: 3}\n",
       "            ).addTo(map_7a84a47a11060697acec666d383f0969);\n",
       "        \n",
       "    \n",
       "            var circle_marker_3938e789b06da0df2abdb18f6e71562a = L.circleMarker(\n",
       "                [-40.1233358588, -72.6748177353],\n",
       "                {&quot;bubblingMouseEvents&quot;: true, &quot;color&quot;: &quot;#3388ff&quot;, &quot;dashArray&quot;: null, &quot;dashOffset&quot;: null, &quot;fill&quot;: false, &quot;fillColor&quot;: &quot;#3388ff&quot;, &quot;fillOpacity&quot;: 0.2, &quot;fillRule&quot;: &quot;evenodd&quot;, &quot;lineCap&quot;: &quot;round&quot;, &quot;lineJoin&quot;: &quot;round&quot;, &quot;opacity&quot;: 1.0, &quot;radius&quot;: 5, &quot;stroke&quot;: true, &quot;weight&quot;: 3}\n",
       "            ).addTo(map_7a84a47a11060697acec666d383f0969);\n",
       "        \n",
       "    \n",
       "            var circle_marker_5692a890c5e4a4c124daf70728ca5c45 = L.circleMarker(\n",
       "                [-40.0949272285, -72.8333381781],\n",
       "                {&quot;bubblingMouseEvents&quot;: true, &quot;color&quot;: &quot;#3388ff&quot;, &quot;dashArray&quot;: null, &quot;dashOffset&quot;: null, &quot;fill&quot;: false, &quot;fillColor&quot;: &quot;#3388ff&quot;, &quot;fillOpacity&quot;: 0.2, &quot;fillRule&quot;: &quot;evenodd&quot;, &quot;lineCap&quot;: &quot;round&quot;, &quot;lineJoin&quot;: &quot;round&quot;, &quot;opacity&quot;: 1.0, &quot;radius&quot;: 5, &quot;stroke&quot;: true, &quot;weight&quot;: 3}\n",
       "            ).addTo(map_7a84a47a11060697acec666d383f0969);\n",
       "        \n",
       "    \n",
       "            var circle_marker_39c6aad200b6f131553a6d8f16971ea6 = L.circleMarker(\n",
       "                [-40.1805296564, -72.5619049938],\n",
       "                {&quot;bubblingMouseEvents&quot;: true, &quot;color&quot;: &quot;#3388ff&quot;, &quot;dashArray&quot;: null, &quot;dashOffset&quot;: null, &quot;fill&quot;: false, &quot;fillColor&quot;: &quot;#3388ff&quot;, &quot;fillOpacity&quot;: 0.2, &quot;fillRule&quot;: &quot;evenodd&quot;, &quot;lineCap&quot;: &quot;round&quot;, &quot;lineJoin&quot;: &quot;round&quot;, &quot;opacity&quot;: 1.0, &quot;radius&quot;: 5, &quot;stroke&quot;: true, &quot;weight&quot;: 3}\n",
       "            ).addTo(map_7a84a47a11060697acec666d383f0969);\n",
       "        \n",
       "    \n",
       "            var circle_marker_6e1f14c1eea5bdf05837c522851acd54 = L.circleMarker(\n",
       "                [-40.1380925113, -72.5825449417],\n",
       "                {&quot;bubblingMouseEvents&quot;: true, &quot;color&quot;: &quot;#3388ff&quot;, &quot;dashArray&quot;: null, &quot;dashOffset&quot;: null, &quot;fill&quot;: false, &quot;fillColor&quot;: &quot;#3388ff&quot;, &quot;fillOpacity&quot;: 0.2, &quot;fillRule&quot;: &quot;evenodd&quot;, &quot;lineCap&quot;: &quot;round&quot;, &quot;lineJoin&quot;: &quot;round&quot;, &quot;opacity&quot;: 1.0, &quot;radius&quot;: 5, &quot;stroke&quot;: true, &quot;weight&quot;: 3}\n",
       "            ).addTo(map_7a84a47a11060697acec666d383f0969);\n",
       "        \n",
       "    \n",
       "            var circle_marker_23c76e0f18d46a0602efcab7f48081d7 = L.circleMarker(\n",
       "                [-40.0154940534, -72.7914597178],\n",
       "                {&quot;bubblingMouseEvents&quot;: true, &quot;color&quot;: &quot;#3388ff&quot;, &quot;dashArray&quot;: null, &quot;dashOffset&quot;: null, &quot;fill&quot;: false, &quot;fillColor&quot;: &quot;#3388ff&quot;, &quot;fillOpacity&quot;: 0.2, &quot;fillRule&quot;: &quot;evenodd&quot;, &quot;lineCap&quot;: &quot;round&quot;, &quot;lineJoin&quot;: &quot;round&quot;, &quot;opacity&quot;: 1.0, &quot;radius&quot;: 5, &quot;stroke&quot;: true, &quot;weight&quot;: 3}\n",
       "            ).addTo(map_7a84a47a11060697acec666d383f0969);\n",
       "        \n",
       "    \n",
       "            var circle_marker_e16fd129a3b1081703fce70d76749882 = L.circleMarker(\n",
       "                [-40.0746752187, -72.6747765849],\n",
       "                {&quot;bubblingMouseEvents&quot;: true, &quot;color&quot;: &quot;#3388ff&quot;, &quot;dashArray&quot;: null, &quot;dashOffset&quot;: null, &quot;fill&quot;: false, &quot;fillColor&quot;: &quot;#3388ff&quot;, &quot;fillOpacity&quot;: 0.2, &quot;fillRule&quot;: &quot;evenodd&quot;, &quot;lineCap&quot;: &quot;round&quot;, &quot;lineJoin&quot;: &quot;round&quot;, &quot;opacity&quot;: 1.0, &quot;radius&quot;: 5, &quot;stroke&quot;: true, &quot;weight&quot;: 3}\n",
       "            ).addTo(map_7a84a47a11060697acec666d383f0969);\n",
       "        \n",
       "    \n",
       "            var circle_marker_1b146eb488943c122d6fae1433da9fc1 = L.circleMarker(\n",
       "                [-40.1221748177, -72.6855485214],\n",
       "                {&quot;bubblingMouseEvents&quot;: true, &quot;color&quot;: &quot;#3388ff&quot;, &quot;dashArray&quot;: null, &quot;dashOffset&quot;: null, &quot;fill&quot;: false, &quot;fillColor&quot;: &quot;#3388ff&quot;, &quot;fillOpacity&quot;: 0.2, &quot;fillRule&quot;: &quot;evenodd&quot;, &quot;lineCap&quot;: &quot;round&quot;, &quot;lineJoin&quot;: &quot;round&quot;, &quot;opacity&quot;: 1.0, &quot;radius&quot;: 5, &quot;stroke&quot;: true, &quot;weight&quot;: 3}\n",
       "            ).addTo(map_7a84a47a11060697acec666d383f0969);\n",
       "        \n",
       "    \n",
       "            var circle_marker_339d196aaddc9e3cd76d840141cfd04a = L.circleMarker(\n",
       "                [-39.8074856345, -72.9572455712],\n",
       "                {&quot;bubblingMouseEvents&quot;: true, &quot;color&quot;: &quot;#3388ff&quot;, &quot;dashArray&quot;: null, &quot;dashOffset&quot;: null, &quot;fill&quot;: false, &quot;fillColor&quot;: &quot;#3388ff&quot;, &quot;fillOpacity&quot;: 0.2, &quot;fillRule&quot;: &quot;evenodd&quot;, &quot;lineCap&quot;: &quot;round&quot;, &quot;lineJoin&quot;: &quot;round&quot;, &quot;opacity&quot;: 1.0, &quot;radius&quot;: 5, &quot;stroke&quot;: true, &quot;weight&quot;: 3}\n",
       "            ).addTo(map_7a84a47a11060697acec666d383f0969);\n",
       "        \n",
       "    \n",
       "            var circle_marker_55f9464e8e7e30e7494d25e20cd84f20 = L.circleMarker(\n",
       "                [-39.8710682914, -72.6678013129],\n",
       "                {&quot;bubblingMouseEvents&quot;: true, &quot;color&quot;: &quot;#3388ff&quot;, &quot;dashArray&quot;: null, &quot;dashOffset&quot;: null, &quot;fill&quot;: false, &quot;fillColor&quot;: &quot;#3388ff&quot;, &quot;fillOpacity&quot;: 0.2, &quot;fillRule&quot;: &quot;evenodd&quot;, &quot;lineCap&quot;: &quot;round&quot;, &quot;lineJoin&quot;: &quot;round&quot;, &quot;opacity&quot;: 1.0, &quot;radius&quot;: 5, &quot;stroke&quot;: true, &quot;weight&quot;: 3}\n",
       "            ).addTo(map_7a84a47a11060697acec666d383f0969);\n",
       "        \n",
       "    \n",
       "            var circle_marker_b1256dd1d8db96ebb7fd2be3681200e2 = L.circleMarker(\n",
       "                [-39.9084433218, -72.5733916686],\n",
       "                {&quot;bubblingMouseEvents&quot;: true, &quot;color&quot;: &quot;#3388ff&quot;, &quot;dashArray&quot;: null, &quot;dashOffset&quot;: null, &quot;fill&quot;: false, &quot;fillColor&quot;: &quot;#3388ff&quot;, &quot;fillOpacity&quot;: 0.2, &quot;fillRule&quot;: &quot;evenodd&quot;, &quot;lineCap&quot;: &quot;round&quot;, &quot;lineJoin&quot;: &quot;round&quot;, &quot;opacity&quot;: 1.0, &quot;radius&quot;: 5, &quot;stroke&quot;: true, &quot;weight&quot;: 3}\n",
       "            ).addTo(map_7a84a47a11060697acec666d383f0969);\n",
       "        \n",
       "    \n",
       "            var circle_marker_1df3b172d9be7ccac46732e1f0a28cd1 = L.circleMarker(\n",
       "                [-39.8171126188, -72.4425065285],\n",
       "                {&quot;bubblingMouseEvents&quot;: true, &quot;color&quot;: &quot;#3388ff&quot;, &quot;dashArray&quot;: null, &quot;dashOffset&quot;: null, &quot;fill&quot;: false, &quot;fillColor&quot;: &quot;#3388ff&quot;, &quot;fillOpacity&quot;: 0.2, &quot;fillRule&quot;: &quot;evenodd&quot;, &quot;lineCap&quot;: &quot;round&quot;, &quot;lineJoin&quot;: &quot;round&quot;, &quot;opacity&quot;: 1.0, &quot;radius&quot;: 5, &quot;stroke&quot;: true, &quot;weight&quot;: 3}\n",
       "            ).addTo(map_7a84a47a11060697acec666d383f0969);\n",
       "        \n",
       "    \n",
       "            var circle_marker_44959f3d7aed0b0bec0f2cf46605d56d = L.circleMarker(\n",
       "                [-39.7751787818, -72.6519491619],\n",
       "                {&quot;bubblingMouseEvents&quot;: true, &quot;color&quot;: &quot;#3388ff&quot;, &quot;dashArray&quot;: null, &quot;dashOffset&quot;: null, &quot;fill&quot;: false, &quot;fillColor&quot;: &quot;#3388ff&quot;, &quot;fillOpacity&quot;: 0.2, &quot;fillRule&quot;: &quot;evenodd&quot;, &quot;lineCap&quot;: &quot;round&quot;, &quot;lineJoin&quot;: &quot;round&quot;, &quot;opacity&quot;: 1.0, &quot;radius&quot;: 5, &quot;stroke&quot;: true, &quot;weight&quot;: 3}\n",
       "            ).addTo(map_7a84a47a11060697acec666d383f0969);\n",
       "        \n",
       "    \n",
       "            var circle_marker_8244a1b2d8deec8bb6e60675b47f6f36 = L.circleMarker(\n",
       "                [-39.9987530843, -72.7108188025],\n",
       "                {&quot;bubblingMouseEvents&quot;: true, &quot;color&quot;: &quot;#3388ff&quot;, &quot;dashArray&quot;: null, &quot;dashOffset&quot;: null, &quot;fill&quot;: false, &quot;fillColor&quot;: &quot;#3388ff&quot;, &quot;fillOpacity&quot;: 0.2, &quot;fillRule&quot;: &quot;evenodd&quot;, &quot;lineCap&quot;: &quot;round&quot;, &quot;lineJoin&quot;: &quot;round&quot;, &quot;opacity&quot;: 1.0, &quot;radius&quot;: 5, &quot;stroke&quot;: true, &quot;weight&quot;: 3}\n",
       "            ).addTo(map_7a84a47a11060697acec666d383f0969);\n",
       "        \n",
       "    \n",
       "            var circle_marker_3a3fcfa87ad36326d7ad72c40fe828e5 = L.circleMarker(\n",
       "                [-40.0154665081, -72.5215180883],\n",
       "                {&quot;bubblingMouseEvents&quot;: true, &quot;color&quot;: &quot;#3388ff&quot;, &quot;dashArray&quot;: null, &quot;dashOffset&quot;: null, &quot;fill&quot;: false, &quot;fillColor&quot;: &quot;#3388ff&quot;, &quot;fillOpacity&quot;: 0.2, &quot;fillRule&quot;: &quot;evenodd&quot;, &quot;lineCap&quot;: &quot;round&quot;, &quot;lineJoin&quot;: &quot;round&quot;, &quot;opacity&quot;: 1.0, &quot;radius&quot;: 5, &quot;stroke&quot;: true, &quot;weight&quot;: 3}\n",
       "            ).addTo(map_7a84a47a11060697acec666d383f0969);\n",
       "        \n",
       "    \n",
       "            var circle_marker_6f9547ed3e4de8a47e7ba51bf07dcf03 = L.circleMarker(\n",
       "                [-39.8526730412, -72.7929315347],\n",
       "                {&quot;bubblingMouseEvents&quot;: true, &quot;color&quot;: &quot;#3388ff&quot;, &quot;dashArray&quot;: null, &quot;dashOffset&quot;: null, &quot;fill&quot;: false, &quot;fillColor&quot;: &quot;#3388ff&quot;, &quot;fillOpacity&quot;: 0.2, &quot;fillRule&quot;: &quot;evenodd&quot;, &quot;lineCap&quot;: &quot;round&quot;, &quot;lineJoin&quot;: &quot;round&quot;, &quot;opacity&quot;: 1.0, &quot;radius&quot;: 5, &quot;stroke&quot;: true, &quot;weight&quot;: 3}\n",
       "            ).addTo(map_7a84a47a11060697acec666d383f0969);\n",
       "        \n",
       "    \n",
       "            var circle_marker_f6cfcaf1664fe6763f31129053bc91b2 = L.circleMarker(\n",
       "                [-39.8705154943, -72.781619174],\n",
       "                {&quot;bubblingMouseEvents&quot;: true, &quot;color&quot;: &quot;#3388ff&quot;, &quot;dashArray&quot;: null, &quot;dashOffset&quot;: null, &quot;fill&quot;: false, &quot;fillColor&quot;: &quot;#3388ff&quot;, &quot;fillOpacity&quot;: 0.2, &quot;fillRule&quot;: &quot;evenodd&quot;, &quot;lineCap&quot;: &quot;round&quot;, &quot;lineJoin&quot;: &quot;round&quot;, &quot;opacity&quot;: 1.0, &quot;radius&quot;: 5, &quot;stroke&quot;: true, &quot;weight&quot;: 3}\n",
       "            ).addTo(map_7a84a47a11060697acec666d383f0969);\n",
       "        \n",
       "    \n",
       "            var circle_marker_6e754fc6eb2fec476b89e37ed9f255b7 = L.circleMarker(\n",
       "                [-39.8817714432, -72.6708273322],\n",
       "                {&quot;bubblingMouseEvents&quot;: true, &quot;color&quot;: &quot;#3388ff&quot;, &quot;dashArray&quot;: null, &quot;dashOffset&quot;: null, &quot;fill&quot;: false, &quot;fillColor&quot;: &quot;#3388ff&quot;, &quot;fillOpacity&quot;: 0.2, &quot;fillRule&quot;: &quot;evenodd&quot;, &quot;lineCap&quot;: &quot;round&quot;, &quot;lineJoin&quot;: &quot;round&quot;, &quot;opacity&quot;: 1.0, &quot;radius&quot;: 5, &quot;stroke&quot;: true, &quot;weight&quot;: 3}\n",
       "            ).addTo(map_7a84a47a11060697acec666d383f0969);\n",
       "        \n",
       "    \n",
       "            var circle_marker_41def81ff152322db93ad90ee99c0f1d = L.circleMarker(\n",
       "                [-39.9027809062, -72.5930946759],\n",
       "                {&quot;bubblingMouseEvents&quot;: true, &quot;color&quot;: &quot;#3388ff&quot;, &quot;dashArray&quot;: null, &quot;dashOffset&quot;: null, &quot;fill&quot;: false, &quot;fillColor&quot;: &quot;#3388ff&quot;, &quot;fillOpacity&quot;: 0.2, &quot;fillRule&quot;: &quot;evenodd&quot;, &quot;lineCap&quot;: &quot;round&quot;, &quot;lineJoin&quot;: &quot;round&quot;, &quot;opacity&quot;: 1.0, &quot;radius&quot;: 5, &quot;stroke&quot;: true, &quot;weight&quot;: 3}\n",
       "            ).addTo(map_7a84a47a11060697acec666d383f0969);\n",
       "        \n",
       "    \n",
       "            var circle_marker_886b0f08e54ef085c6864371af9e75cf = L.circleMarker(\n",
       "                [-39.8171525324, -72.6981700465],\n",
       "                {&quot;bubblingMouseEvents&quot;: true, &quot;color&quot;: &quot;#3388ff&quot;, &quot;dashArray&quot;: null, &quot;dashOffset&quot;: null, &quot;fill&quot;: false, &quot;fillColor&quot;: &quot;#3388ff&quot;, &quot;fillOpacity&quot;: 0.2, &quot;fillRule&quot;: &quot;evenodd&quot;, &quot;lineCap&quot;: &quot;round&quot;, &quot;lineJoin&quot;: &quot;round&quot;, &quot;opacity&quot;: 1.0, &quot;radius&quot;: 5, &quot;stroke&quot;: true, &quot;weight&quot;: 3}\n",
       "            ).addTo(map_7a84a47a11060697acec666d383f0969);\n",
       "        \n",
       "    \n",
       "            var circle_marker_ca52313e5318567207efa47132cf0d67 = L.circleMarker(\n",
       "                [-39.9151109593, -72.78974687],\n",
       "                {&quot;bubblingMouseEvents&quot;: true, &quot;color&quot;: &quot;#3388ff&quot;, &quot;dashArray&quot;: null, &quot;dashOffset&quot;: null, &quot;fill&quot;: false, &quot;fillColor&quot;: &quot;#3388ff&quot;, &quot;fillOpacity&quot;: 0.2, &quot;fillRule&quot;: &quot;evenodd&quot;, &quot;lineCap&quot;: &quot;round&quot;, &quot;lineJoin&quot;: &quot;round&quot;, &quot;opacity&quot;: 1.0, &quot;radius&quot;: 5, &quot;stroke&quot;: true, &quot;weight&quot;: 3}\n",
       "            ).addTo(map_7a84a47a11060697acec666d383f0969);\n",
       "        \n",
       "    \n",
       "            var circle_marker_4488b604abdda323cb86dd4c02efa0b6 = L.circleMarker(\n",
       "                [-39.9809683663, -72.7929665382],\n",
       "                {&quot;bubblingMouseEvents&quot;: true, &quot;color&quot;: &quot;#3388ff&quot;, &quot;dashArray&quot;: null, &quot;dashOffset&quot;: null, &quot;fill&quot;: false, &quot;fillColor&quot;: &quot;#3388ff&quot;, &quot;fillOpacity&quot;: 0.2, &quot;fillRule&quot;: &quot;evenodd&quot;, &quot;lineCap&quot;: &quot;round&quot;, &quot;lineJoin&quot;: &quot;round&quot;, &quot;opacity&quot;: 1.0, &quot;radius&quot;: 5, &quot;stroke&quot;: true, &quot;weight&quot;: 3}\n",
       "            ).addTo(map_7a84a47a11060697acec666d383f0969);\n",
       "        \n",
       "    \n",
       "            var circle_marker_ab96ff55afd59431f0c8de201d8ae60f = L.circleMarker(\n",
       "                [-39.891383155, -72.7942956633],\n",
       "                {&quot;bubblingMouseEvents&quot;: true, &quot;color&quot;: &quot;#3388ff&quot;, &quot;dashArray&quot;: null, &quot;dashOffset&quot;: null, &quot;fill&quot;: false, &quot;fillColor&quot;: &quot;#3388ff&quot;, &quot;fillOpacity&quot;: 0.2, &quot;fillRule&quot;: &quot;evenodd&quot;, &quot;lineCap&quot;: &quot;round&quot;, &quot;lineJoin&quot;: &quot;round&quot;, &quot;opacity&quot;: 1.0, &quot;radius&quot;: 5, &quot;stroke&quot;: true, &quot;weight&quot;: 3}\n",
       "            ).addTo(map_7a84a47a11060697acec666d383f0969);\n",
       "        \n",
       "    \n",
       "            var circle_marker_487b24c3f96eea3a4d45d19d1fb84eee = L.circleMarker(\n",
       "                [-39.854954476, -72.6609940373],\n",
       "                {&quot;bubblingMouseEvents&quot;: true, &quot;color&quot;: &quot;#3388ff&quot;, &quot;dashArray&quot;: null, &quot;dashOffset&quot;: null, &quot;fill&quot;: false, &quot;fillColor&quot;: &quot;#3388ff&quot;, &quot;fillOpacity&quot;: 0.2, &quot;fillRule&quot;: &quot;evenodd&quot;, &quot;lineCap&quot;: &quot;round&quot;, &quot;lineJoin&quot;: &quot;round&quot;, &quot;opacity&quot;: 1.0, &quot;radius&quot;: 5, &quot;stroke&quot;: true, &quot;weight&quot;: 3}\n",
       "            ).addTo(map_7a84a47a11060697acec666d383f0969);\n",
       "        \n",
       "    \n",
       "            var circle_marker_8ba54e2770f7f02cff07d19be49bb363 = L.circleMarker(\n",
       "                [-39.8597946179, -72.7236128048],\n",
       "                {&quot;bubblingMouseEvents&quot;: true, &quot;color&quot;: &quot;#3388ff&quot;, &quot;dashArray&quot;: null, &quot;dashOffset&quot;: null, &quot;fill&quot;: false, &quot;fillColor&quot;: &quot;#3388ff&quot;, &quot;fillOpacity&quot;: 0.2, &quot;fillRule&quot;: &quot;evenodd&quot;, &quot;lineCap&quot;: &quot;round&quot;, &quot;lineJoin&quot;: &quot;round&quot;, &quot;opacity&quot;: 1.0, &quot;radius&quot;: 5, &quot;stroke&quot;: true, &quot;weight&quot;: 3}\n",
       "            ).addTo(map_7a84a47a11060697acec666d383f0969);\n",
       "        \n",
       "    \n",
       "            var circle_marker_9756503491d6fcbfc8ce0be5956acf7b = L.circleMarker(\n",
       "                [-39.8183071179, -72.8753063555],\n",
       "                {&quot;bubblingMouseEvents&quot;: true, &quot;color&quot;: &quot;#3388ff&quot;, &quot;dashArray&quot;: null, &quot;dashOffset&quot;: null, &quot;fill&quot;: false, &quot;fillColor&quot;: &quot;#3388ff&quot;, &quot;fillOpacity&quot;: 0.2, &quot;fillRule&quot;: &quot;evenodd&quot;, &quot;lineCap&quot;: &quot;round&quot;, &quot;lineJoin&quot;: &quot;round&quot;, &quot;opacity&quot;: 1.0, &quot;radius&quot;: 5, &quot;stroke&quot;: true, &quot;weight&quot;: 3}\n",
       "            ).addTo(map_7a84a47a11060697acec666d383f0969);\n",
       "        \n",
       "    \n",
       "            var circle_marker_ca41a3f7fbd0fdd4238c7986811b64e8 = L.circleMarker(\n",
       "                [-39.8631470531, -73.4340874604],\n",
       "                {&quot;bubblingMouseEvents&quot;: true, &quot;color&quot;: &quot;#3388ff&quot;, &quot;dashArray&quot;: null, &quot;dashOffset&quot;: null, &quot;fill&quot;: false, &quot;fillColor&quot;: &quot;#3388ff&quot;, &quot;fillOpacity&quot;: 0.2, &quot;fillRule&quot;: &quot;evenodd&quot;, &quot;lineCap&quot;: &quot;round&quot;, &quot;lineJoin&quot;: &quot;round&quot;, &quot;opacity&quot;: 1.0, &quot;radius&quot;: 5, &quot;stroke&quot;: true, &quot;weight&quot;: 3}\n",
       "            ).addTo(map_7a84a47a11060697acec666d383f0969);\n",
       "        \n",
       "    \n",
       "            var circle_marker_785d3efebcc0eba2c464f7312cb1e30c = L.circleMarker(\n",
       "                [-39.8754350487, -73.3587930086],\n",
       "                {&quot;bubblingMouseEvents&quot;: true, &quot;color&quot;: &quot;#3388ff&quot;, &quot;dashArray&quot;: null, &quot;dashOffset&quot;: null, &quot;fill&quot;: false, &quot;fillColor&quot;: &quot;#3388ff&quot;, &quot;fillOpacity&quot;: 0.2, &quot;fillRule&quot;: &quot;evenodd&quot;, &quot;lineCap&quot;: &quot;round&quot;, &quot;lineJoin&quot;: &quot;round&quot;, &quot;opacity&quot;: 1.0, &quot;radius&quot;: 5, &quot;stroke&quot;: true, &quot;weight&quot;: 3}\n",
       "            ).addTo(map_7a84a47a11060697acec666d383f0969);\n",
       "        \n",
       "    \n",
       "            var circle_marker_f8bc0c0871e7d5e9a9eb9355defb2649 = L.circleMarker(\n",
       "                [-39.8905057848, -73.3917808877],\n",
       "                {&quot;bubblingMouseEvents&quot;: true, &quot;color&quot;: &quot;#3388ff&quot;, &quot;dashArray&quot;: null, &quot;dashOffset&quot;: null, &quot;fill&quot;: false, &quot;fillColor&quot;: &quot;#3388ff&quot;, &quot;fillOpacity&quot;: 0.2, &quot;fillRule&quot;: &quot;evenodd&quot;, &quot;lineCap&quot;: &quot;round&quot;, &quot;lineJoin&quot;: &quot;round&quot;, &quot;opacity&quot;: 1.0, &quot;radius&quot;: 5, &quot;stroke&quot;: true, &quot;weight&quot;: 3}\n",
       "            ).addTo(map_7a84a47a11060697acec666d383f0969);\n",
       "        \n",
       "    \n",
       "            var circle_marker_305bc786129e1f350d6fdd74ade0b742 = L.circleMarker(\n",
       "                [-39.8964415368, -73.417776163],\n",
       "                {&quot;bubblingMouseEvents&quot;: true, &quot;color&quot;: &quot;#3388ff&quot;, &quot;dashArray&quot;: null, &quot;dashOffset&quot;: null, &quot;fill&quot;: false, &quot;fillColor&quot;: &quot;#3388ff&quot;, &quot;fillOpacity&quot;: 0.2, &quot;fillRule&quot;: &quot;evenodd&quot;, &quot;lineCap&quot;: &quot;round&quot;, &quot;lineJoin&quot;: &quot;round&quot;, &quot;opacity&quot;: 1.0, &quot;radius&quot;: 5, &quot;stroke&quot;: true, &quot;weight&quot;: 3}\n",
       "            ).addTo(map_7a84a47a11060697acec666d383f0969);\n",
       "        \n",
       "    \n",
       "            var circle_marker_71282ed6c6adee35affa822d78c50782 = L.circleMarker(\n",
       "                [-39.9656281859, -73.6194983481],\n",
       "                {&quot;bubblingMouseEvents&quot;: true, &quot;color&quot;: &quot;#3388ff&quot;, &quot;dashArray&quot;: null, &quot;dashOffset&quot;: null, &quot;fill&quot;: false, &quot;fillColor&quot;: &quot;#3388ff&quot;, &quot;fillOpacity&quot;: 0.2, &quot;fillRule&quot;: &quot;evenodd&quot;, &quot;lineCap&quot;: &quot;round&quot;, &quot;lineJoin&quot;: &quot;round&quot;, &quot;opacity&quot;: 1.0, &quot;radius&quot;: 5, &quot;stroke&quot;: true, &quot;weight&quot;: 3}\n",
       "            ).addTo(map_7a84a47a11060697acec666d383f0969);\n",
       "        \n",
       "    \n",
       "            var circle_marker_62d9bb9bf9c557a64903fd0ad933d0b1 = L.circleMarker(\n",
       "                [-39.8970045115, -73.4310820761],\n",
       "                {&quot;bubblingMouseEvents&quot;: true, &quot;color&quot;: &quot;#3388ff&quot;, &quot;dashArray&quot;: null, &quot;dashOffset&quot;: null, &quot;fill&quot;: false, &quot;fillColor&quot;: &quot;#3388ff&quot;, &quot;fillOpacity&quot;: 0.2, &quot;fillRule&quot;: &quot;evenodd&quot;, &quot;lineCap&quot;: &quot;round&quot;, &quot;lineJoin&quot;: &quot;round&quot;, &quot;opacity&quot;: 1.0, &quot;radius&quot;: 5, &quot;stroke&quot;: true, &quot;weight&quot;: 3}\n",
       "            ).addTo(map_7a84a47a11060697acec666d383f0969);\n",
       "        \n",
       "    \n",
       "            var tile_layer_ffa088e1a6af98a7f5bbaa690166acd5 = L.tileLayer(\n",
       "                &quot;https://{s}.tile.openstreetmap.org/{z}/{x}/{y}.png&quot;,\n",
       "                {&quot;attribution&quot;: &quot;Data by \\u0026copy; \\u003ca href=\\&quot;http://openstreetmap.org\\&quot;\\u003eOpenStreetMap\\u003c/a\\u003e, under \\u003ca href=\\&quot;http://www.openstreetmap.org/copyright\\&quot;\\u003eODbL\\u003c/a\\u003e.&quot;, &quot;detectRetina&quot;: false, &quot;maxNativeZoom&quot;: 18, &quot;maxZoom&quot;: 18, &quot;minZoom&quot;: 0, &quot;noWrap&quot;: false, &quot;opacity&quot;: 1, &quot;subdomains&quot;: &quot;abc&quot;, &quot;tms&quot;: false}\n",
       "            );\n",
       "            var mini_map_2a42bfbba653e1f9c819fdd7d7e7f2e6 = new L.Control.MiniMap(\n",
       "                tile_layer_ffa088e1a6af98a7f5bbaa690166acd5,\n",
       "                {&quot;autoToggleDisplay&quot;: false, &quot;centerFixed&quot;: false, &quot;collapsedHeight&quot;: 25, &quot;collapsedWidth&quot;: 25, &quot;height&quot;: 150, &quot;minimized&quot;: false, &quot;position&quot;: &quot;bottomleft&quot;, &quot;toggleDisplay&quot;: true, &quot;width&quot;: 150, &quot;zoomAnimation&quot;: false, &quot;zoomLevelOffset&quot;: -5}\n",
       "            );\n",
       "            map_7a84a47a11060697acec666d383f0969.addControl(mini_map_2a42bfbba653e1f9c819fdd7d7e7f2e6);\n",
       "        \n",
       "&lt;/script&gt;\" style=\"position:absolute;width:100%;height:100%;left:0;top:0;border:none !important;\" allowfullscreen webkitallowfullscreen mozallowfullscreen></iframe></div></div>"
      ],
      "text/plain": [
       "<folium.folium.Map at 0x205f38ca950>"
      ]
     },
     "execution_count": 17,
     "metadata": {},
     "output_type": "execute_result"
    }
   ],
   "source": [
    "# Primero creamos el mapa con la libreria folium y la funcion Map,tiles es el proveedor del mapa.\n",
    "#El mapa esta centrado en valdivia\n",
    "map = folium.Map(location = [-39.925826, -73.114501], tiles = \"OpenStreetMap\", zoom_start = 10)\n",
    "\n",
    "#Aca estoy cargando el set de datos que subi a la carpeta.\n",
    "datos = pd.read_excel('base_ssr.xlsx', sheet_name='Sistemas_APR',usecols=\"B:U\",skiprows=2)\n",
    "\n",
    "#Valdivia\n",
    "datos_nombres_valdivia=list(datos.iloc[1963:1977,12])\n",
    "datos_lat_valdivia=datos.iloc[1963:1977,19] \n",
    "datos_long_valdivia=datos.iloc[1963:1977,18]\n",
    "\n",
    "#Paillaco\n",
    "datos_nombres_paillaco=list(datos.iloc[1919:1930,12])\n",
    "datos_lat_paillaco=datos.iloc[1919:1930,19] \n",
    "datos_long_paillaco=datos.iloc[1919:1930,18]\n",
    "\n",
    "#Los Lagos\n",
    "datos_nombres_loslagos=list(datos.iloc[1885:1903,12])\n",
    "datos_lat_loslagos=datos.iloc[1885:1903,19] \n",
    "datos_long_loslagos=datos.iloc[1885:1903,18]\n",
    "\n",
    "#Corral\n",
    "datos_nombres_corral=list(datos.iloc[1873:1879,12])\n",
    "datos_lat_corral=datos.iloc[1873:1879,19] \n",
    "datos_long_corral=datos.iloc[1873:1879,18]\n",
    "\n",
    "#Creación del par de coordenadas\n",
    "locations_valdivia = list(zip(datos_lat_valdivia, datos_long_valdivia))\n",
    "locations_paillaco = list(zip(datos_lat_paillaco, datos_long_paillaco))\n",
    "locations_loslagos = list(zip(datos_lat_loslagos, datos_long_loslagos))\n",
    "locations_corral = list(zip(datos_lat_corral, datos_long_corral))\n",
    "\n",
    "\n",
    "#Creación de las listas\n",
    "nombres = datos_nombres_valdivia+datos_nombres_paillaco+datos_nombres_loslagos+datos_nombres_corral\n",
    "locations=locations_valdivia+locations_paillaco+locations_loslagos+locations_corral\n",
    "\n",
    "#Aca agregamos un marcador con la ubicación de valdivia\n",
    "for i in range(len(locations)):\n",
    "    nombre=nombres[i]\n",
    "    folium.Marker(location=locations[i],tooltip=nombre).add_to(map)\n",
    "    \n",
    "for i in range(len(locations)):\n",
    "    folium.CircleMarker(location=locations[i],radius=5).add_to(map)\n",
    "map\n",
    "\n",
    "# Aca estoy agregando un minimap en la esquina,para esto hay que cargar la funcion plugins desde la libreria folium\n",
    "from folium import plugins\n",
    "minimap = plugins.MiniMap(position=\"bottomleft\",toggle_display=True)\n",
    "map.add_child(minimap)\n",
    "map"
   ]
  },
  {
   "cell_type": "code",
   "execution_count": 18,
   "id": "1c494b3c-2d39-48c8-9d9c-d90525643a62",
   "metadata": {},
   "outputs": [
    {
     "data": {
      "text/html": [
       "<div style=\"width:100%;\"><div style=\"position:relative;width:100%;height:0;padding-bottom:60%;\"><span style=\"color:#565656\">Make this Notebook Trusted to load map: File -> Trust Notebook</span><iframe srcdoc=\"&lt;!DOCTYPE html&gt;\n",
       "&lt;head&gt;    \n",
       "    &lt;meta http-equiv=&quot;content-type&quot; content=&quot;text/html; charset=UTF-8&quot; /&gt;\n",
       "    \n",
       "        &lt;script&gt;\n",
       "            L_NO_TOUCH = false;\n",
       "            L_DISABLE_3D = false;\n",
       "        &lt;/script&gt;\n",
       "    \n",
       "    &lt;style&gt;html, body {width: 100%;height: 100%;margin: 0;padding: 0;}&lt;/style&gt;\n",
       "    &lt;style&gt;#map {position:absolute;top:0;bottom:0;right:0;left:0;}&lt;/style&gt;\n",
       "    &lt;script src=&quot;https://cdn.jsdelivr.net/npm/leaflet@1.6.0/dist/leaflet.js&quot;&gt;&lt;/script&gt;\n",
       "    &lt;script src=&quot;https://code.jquery.com/jquery-1.12.4.min.js&quot;&gt;&lt;/script&gt;\n",
       "    &lt;script src=&quot;https://maxcdn.bootstrapcdn.com/bootstrap/3.2.0/js/bootstrap.min.js&quot;&gt;&lt;/script&gt;\n",
       "    &lt;script src=&quot;https://cdnjs.cloudflare.com/ajax/libs/Leaflet.awesome-markers/2.0.2/leaflet.awesome-markers.js&quot;&gt;&lt;/script&gt;\n",
       "    &lt;link rel=&quot;stylesheet&quot; href=&quot;https://cdn.jsdelivr.net/npm/leaflet@1.6.0/dist/leaflet.css&quot;/&gt;\n",
       "    &lt;link rel=&quot;stylesheet&quot; href=&quot;https://maxcdn.bootstrapcdn.com/bootstrap/3.2.0/css/bootstrap.min.css&quot;/&gt;\n",
       "    &lt;link rel=&quot;stylesheet&quot; href=&quot;https://maxcdn.bootstrapcdn.com/bootstrap/3.2.0/css/bootstrap-theme.min.css&quot;/&gt;\n",
       "    &lt;link rel=&quot;stylesheet&quot; href=&quot;https://maxcdn.bootstrapcdn.com/font-awesome/4.6.3/css/font-awesome.min.css&quot;/&gt;\n",
       "    &lt;link rel=&quot;stylesheet&quot; href=&quot;https://cdnjs.cloudflare.com/ajax/libs/Leaflet.awesome-markers/2.0.2/leaflet.awesome-markers.css&quot;/&gt;\n",
       "    &lt;link rel=&quot;stylesheet&quot; href=&quot;https://cdn.jsdelivr.net/gh/python-visualization/folium/folium/templates/leaflet.awesome.rotate.min.css&quot;/&gt;\n",
       "    \n",
       "            &lt;meta name=&quot;viewport&quot; content=&quot;width=device-width,\n",
       "                initial-scale=1.0, maximum-scale=1.0, user-scalable=no&quot; /&gt;\n",
       "            &lt;style&gt;\n",
       "                #map_164c0d5c5827f901dec2e3dbe3c5ca3c {\n",
       "                    position: relative;\n",
       "                    width: 100.0%;\n",
       "                    height: 100.0%;\n",
       "                    left: 0.0%;\n",
       "                    top: 0.0%;\n",
       "                }\n",
       "            &lt;/style&gt;\n",
       "        \n",
       "&lt;/head&gt;\n",
       "&lt;body&gt;    \n",
       "    \n",
       "            &lt;div class=&quot;folium-map&quot; id=&quot;map_164c0d5c5827f901dec2e3dbe3c5ca3c&quot; &gt;&lt;/div&gt;\n",
       "        \n",
       "&lt;/body&gt;\n",
       "&lt;script&gt;    \n",
       "    \n",
       "            var map_164c0d5c5827f901dec2e3dbe3c5ca3c = L.map(\n",
       "                &quot;map_164c0d5c5827f901dec2e3dbe3c5ca3c&quot;,\n",
       "                {\n",
       "                    center: [-39.925826, -73.114501],\n",
       "                    crs: L.CRS.EPSG3857,\n",
       "                    zoom: 9.5,\n",
       "                    zoomControl: true,\n",
       "                    preferCanvas: false,\n",
       "                }\n",
       "            );\n",
       "\n",
       "            \n",
       "\n",
       "        \n",
       "    \n",
       "            var tile_layer_34782e74df7975b74a68f8bc53c98966 = L.tileLayer(\n",
       "                &quot;https://{s}.tile.openstreetmap.org/{z}/{x}/{y}.png&quot;,\n",
       "                {&quot;attribution&quot;: &quot;Data by \\u0026copy; \\u003ca href=\\&quot;http://openstreetmap.org\\&quot;\\u003eOpenStreetMap\\u003c/a\\u003e, under \\u003ca href=\\&quot;http://www.openstreetmap.org/copyright\\&quot;\\u003eODbL\\u003c/a\\u003e.&quot;, &quot;detectRetina&quot;: false, &quot;maxNativeZoom&quot;: 18, &quot;maxZoom&quot;: 18, &quot;minZoom&quot;: 0, &quot;noWrap&quot;: false, &quot;opacity&quot;: 1, &quot;subdomains&quot;: &quot;abc&quot;, &quot;tms&quot;: false}\n",
       "            ).addTo(map_164c0d5c5827f901dec2e3dbe3c5ca3c);\n",
       "        \n",
       "    \n",
       "            var circle_bde8de0b89478cdf759dc0765345c5ab = L.circle(\n",
       "                [-39.8062305249, -73.0547464487],\n",
       "                {&quot;bubblingMouseEvents&quot;: true, &quot;color&quot;: &quot;#ffff00ff&quot;, &quot;dashArray&quot;: null, &quot;dashOffset&quot;: null, &quot;fill&quot;: false, &quot;fillColor&quot;: &quot;#ffff00ff&quot;, &quot;fillOpacity&quot;: 0.2, &quot;fillRule&quot;: &quot;evenodd&quot;, &quot;lineCap&quot;: &quot;round&quot;, &quot;lineJoin&quot;: &quot;round&quot;, &quot;opacity&quot;: 1.0, &quot;radius&quot;: 450, &quot;stroke&quot;: true, &quot;weight&quot;: 3}\n",
       "            ).addTo(map_164c0d5c5827f901dec2e3dbe3c5ca3c);\n",
       "        \n",
       "    \n",
       "            var circle_7ac63aa24a8e9446e60dd996f6d9945d = L.circle(\n",
       "                [-39.7283824204, -73.3948919817],\n",
       "                {&quot;bubblingMouseEvents&quot;: true, &quot;color&quot;: &quot;#ff0000ff&quot;, &quot;dashArray&quot;: null, &quot;dashOffset&quot;: null, &quot;fill&quot;: false, &quot;fillColor&quot;: &quot;#ff0000ff&quot;, &quot;fillOpacity&quot;: 0.2, &quot;fillRule&quot;: &quot;evenodd&quot;, &quot;lineCap&quot;: &quot;round&quot;, &quot;lineJoin&quot;: &quot;round&quot;, &quot;opacity&quot;: 1.0, &quot;radius&quot;: 450, &quot;stroke&quot;: true, &quot;weight&quot;: 3}\n",
       "            ).addTo(map_164c0d5c5827f901dec2e3dbe3c5ca3c);\n",
       "        \n",
       "    \n",
       "            var circle_678f9b0ae6d39d5b7f0a193941eff731 = L.circle(\n",
       "                [-39.7930844112, -73.124067117],\n",
       "                {&quot;bubblingMouseEvents&quot;: true, &quot;color&quot;: &quot;#ffff00ff&quot;, &quot;dashArray&quot;: null, &quot;dashOffset&quot;: null, &quot;fill&quot;: false, &quot;fillColor&quot;: &quot;#ffff00ff&quot;, &quot;fillOpacity&quot;: 0.2, &quot;fillRule&quot;: &quot;evenodd&quot;, &quot;lineCap&quot;: &quot;round&quot;, &quot;lineJoin&quot;: &quot;round&quot;, &quot;opacity&quot;: 1.0, &quot;radius&quot;: 450, &quot;stroke&quot;: true, &quot;weight&quot;: 3}\n",
       "            ).addTo(map_164c0d5c5827f901dec2e3dbe3c5ca3c);\n",
       "        \n",
       "    \n",
       "            var circle_436c473a601698736859a2ffbc14ffdd = L.circle(\n",
       "                [-39.8715639883, -73.1852346315],\n",
       "                {&quot;bubblingMouseEvents&quot;: true, &quot;color&quot;: &quot;#ff0000ff&quot;, &quot;dashArray&quot;: null, &quot;dashOffset&quot;: null, &quot;fill&quot;: false, &quot;fillColor&quot;: &quot;#ff0000ff&quot;, &quot;fillOpacity&quot;: 0.2, &quot;fillRule&quot;: &quot;evenodd&quot;, &quot;lineCap&quot;: &quot;round&quot;, &quot;lineJoin&quot;: &quot;round&quot;, &quot;opacity&quot;: 1.0, &quot;radius&quot;: 450, &quot;stroke&quot;: true, &quot;weight&quot;: 3}\n",
       "            ).addTo(map_164c0d5c5827f901dec2e3dbe3c5ca3c);\n",
       "        \n",
       "    \n",
       "            var circle_e49fd7782cb2043c4e793841d5dbb49d = L.circle(\n",
       "                [-39.8547751549, -73.3907718436],\n",
       "                {&quot;bubblingMouseEvents&quot;: true, &quot;color&quot;: &quot;#800080ff&quot;, &quot;dashArray&quot;: null, &quot;dashOffset&quot;: null, &quot;fill&quot;: false, &quot;fillColor&quot;: &quot;#800080ff&quot;, &quot;fillOpacity&quot;: 0.2, &quot;fillRule&quot;: &quot;evenodd&quot;, &quot;lineCap&quot;: &quot;round&quot;, &quot;lineJoin&quot;: &quot;round&quot;, &quot;opacity&quot;: 1.0, &quot;radius&quot;: 450, &quot;stroke&quot;: true, &quot;weight&quot;: 3}\n",
       "            ).addTo(map_164c0d5c5827f901dec2e3dbe3c5ca3c);\n",
       "        \n",
       "    \n",
       "            var circle_fb23adfc97784f6a9a2ac23678bee6ee = L.circle(\n",
       "                [-39.7603001637, -73.2705681336],\n",
       "                {&quot;bubblingMouseEvents&quot;: true, &quot;color&quot;: &quot;#ffff00ff&quot;, &quot;dashArray&quot;: null, &quot;dashOffset&quot;: null, &quot;fill&quot;: false, &quot;fillColor&quot;: &quot;#ffff00ff&quot;, &quot;fillOpacity&quot;: 0.2, &quot;fillRule&quot;: &quot;evenodd&quot;, &quot;lineCap&quot;: &quot;round&quot;, &quot;lineJoin&quot;: &quot;round&quot;, &quot;opacity&quot;: 1.0, &quot;radius&quot;: 450, &quot;stroke&quot;: true, &quot;weight&quot;: 3}\n",
       "            ).addTo(map_164c0d5c5827f901dec2e3dbe3c5ca3c);\n",
       "        \n",
       "    \n",
       "            var circle_2dc3b726929e61eaefde92bad441a34f = L.circle(\n",
       "                [-39.831480037, -73.4025892212],\n",
       "                {&quot;bubblingMouseEvents&quot;: true, &quot;color&quot;: &quot;#ffa500ff&quot;, &quot;dashArray&quot;: null, &quot;dashOffset&quot;: null, &quot;fill&quot;: false, &quot;fillColor&quot;: &quot;#ffa500ff&quot;, &quot;fillOpacity&quot;: 0.2, &quot;fillRule&quot;: &quot;evenodd&quot;, &quot;lineCap&quot;: &quot;round&quot;, &quot;lineJoin&quot;: &quot;round&quot;, &quot;opacity&quot;: 1.0, &quot;radius&quot;: 450, &quot;stroke&quot;: true, &quot;weight&quot;: 3}\n",
       "            ).addTo(map_164c0d5c5827f901dec2e3dbe3c5ca3c);\n",
       "        \n",
       "    \n",
       "            var circle_1240dbc1d8741801c3e7d883f8508d50 = L.circle(\n",
       "                [-39.8649364171, -73.3728400295],\n",
       "                {&quot;bubblingMouseEvents&quot;: true, &quot;color&quot;: &quot;#ff0000ff&quot;, &quot;dashArray&quot;: null, &quot;dashOffset&quot;: null, &quot;fill&quot;: false, &quot;fillColor&quot;: &quot;#ff0000ff&quot;, &quot;fillOpacity&quot;: 0.2, &quot;fillRule&quot;: &quot;evenodd&quot;, &quot;lineCap&quot;: &quot;round&quot;, &quot;lineJoin&quot;: &quot;round&quot;, &quot;opacity&quot;: 1.0, &quot;radius&quot;: 450, &quot;stroke&quot;: true, &quot;weight&quot;: 3}\n",
       "            ).addTo(map_164c0d5c5827f901dec2e3dbe3c5ca3c);\n",
       "        \n",
       "    \n",
       "            var circle_ed1d6ab47b52a9a9c15895167e08dfc2 = L.circle(\n",
       "                [-39.7314121294, -73.1091043702],\n",
       "                {&quot;bubblingMouseEvents&quot;: true, &quot;color&quot;: &quot;#ff0000ff&quot;, &quot;dashArray&quot;: null, &quot;dashOffset&quot;: null, &quot;fill&quot;: false, &quot;fillColor&quot;: &quot;#ff0000ff&quot;, &quot;fillOpacity&quot;: 0.2, &quot;fillRule&quot;: &quot;evenodd&quot;, &quot;lineCap&quot;: &quot;round&quot;, &quot;lineJoin&quot;: &quot;round&quot;, &quot;opacity&quot;: 1.0, &quot;radius&quot;: 450, &quot;stroke&quot;: true, &quot;weight&quot;: 3}\n",
       "            ).addTo(map_164c0d5c5827f901dec2e3dbe3c5ca3c);\n",
       "        \n",
       "    \n",
       "            var circle_f2bff209045d722950294af09d92a813 = L.circle(\n",
       "                [-39.772903642, -73.1970058325],\n",
       "                {&quot;bubblingMouseEvents&quot;: true, &quot;color&quot;: &quot;#ffa500ff&quot;, &quot;dashArray&quot;: null, &quot;dashOffset&quot;: null, &quot;fill&quot;: false, &quot;fillColor&quot;: &quot;#ffa500ff&quot;, &quot;fillOpacity&quot;: 0.2, &quot;fillRule&quot;: &quot;evenodd&quot;, &quot;lineCap&quot;: &quot;round&quot;, &quot;lineJoin&quot;: &quot;round&quot;, &quot;opacity&quot;: 1.0, &quot;radius&quot;: 450, &quot;stroke&quot;: true, &quot;weight&quot;: 3}\n",
       "            ).addTo(map_164c0d5c5827f901dec2e3dbe3c5ca3c);\n",
       "        \n",
       "    \n",
       "            var circle_54d87744268c49882d11a0395900e952 = L.circle(\n",
       "                [-39.8673123199, -73.2088638403],\n",
       "                {&quot;bubblingMouseEvents&quot;: true, &quot;color&quot;: &quot;#ffa500ff&quot;, &quot;dashArray&quot;: null, &quot;dashOffset&quot;: null, &quot;fill&quot;: false, &quot;fillColor&quot;: &quot;#ffa500ff&quot;, &quot;fillOpacity&quot;: 0.2, &quot;fillRule&quot;: &quot;evenodd&quot;, &quot;lineCap&quot;: &quot;round&quot;, &quot;lineJoin&quot;: &quot;round&quot;, &quot;opacity&quot;: 1.0, &quot;radius&quot;: 450, &quot;stroke&quot;: true, &quot;weight&quot;: 3}\n",
       "            ).addTo(map_164c0d5c5827f901dec2e3dbe3c5ca3c);\n",
       "        \n",
       "    \n",
       "            var circle_64e209871aba62029cb9ef4b17b2cec1 = L.circle(\n",
       "                [-39.7802702288, -73.2412708338],\n",
       "                {&quot;bubblingMouseEvents&quot;: true, &quot;color&quot;: &quot;#ffff00ff&quot;, &quot;dashArray&quot;: null, &quot;dashOffset&quot;: null, &quot;fill&quot;: false, &quot;fillColor&quot;: &quot;#ffff00ff&quot;, &quot;fillOpacity&quot;: 0.2, &quot;fillRule&quot;: &quot;evenodd&quot;, &quot;lineCap&quot;: &quot;round&quot;, &quot;lineJoin&quot;: &quot;round&quot;, &quot;opacity&quot;: 1.0, &quot;radius&quot;: 450, &quot;stroke&quot;: true, &quot;weight&quot;: 3}\n",
       "            ).addTo(map_164c0d5c5827f901dec2e3dbe3c5ca3c);\n",
       "        \n",
       "    \n",
       "            var circle_06a85024be22ed95a06cb1580870ec38 = L.circle(\n",
       "                [-39.7737197231, -73.2102553189],\n",
       "                {&quot;bubblingMouseEvents&quot;: true, &quot;color&quot;: &quot;#ffa500ff&quot;, &quot;dashArray&quot;: null, &quot;dashOffset&quot;: null, &quot;fill&quot;: false, &quot;fillColor&quot;: &quot;#ffa500ff&quot;, &quot;fillOpacity&quot;: 0.2, &quot;fillRule&quot;: &quot;evenodd&quot;, &quot;lineCap&quot;: &quot;round&quot;, &quot;lineJoin&quot;: &quot;round&quot;, &quot;opacity&quot;: 1.0, &quot;radius&quot;: 450, &quot;stroke&quot;: true, &quot;weight&quot;: 3}\n",
       "            ).addTo(map_164c0d5c5827f901dec2e3dbe3c5ca3c);\n",
       "        \n",
       "    \n",
       "            var circle_b76fe0ec17445635889e64ddb4c75c80 = L.circle(\n",
       "                [-39.7772055631, -73.3135380035],\n",
       "                {&quot;bubblingMouseEvents&quot;: true, &quot;color&quot;: &quot;#ffff00ff&quot;, &quot;dashArray&quot;: null, &quot;dashOffset&quot;: null, &quot;fill&quot;: false, &quot;fillColor&quot;: &quot;#ffff00ff&quot;, &quot;fillOpacity&quot;: 0.2, &quot;fillRule&quot;: &quot;evenodd&quot;, &quot;lineCap&quot;: &quot;round&quot;, &quot;lineJoin&quot;: &quot;round&quot;, &quot;opacity&quot;: 1.0, &quot;radius&quot;: 450, &quot;stroke&quot;: true, &quot;weight&quot;: 3}\n",
       "            ).addTo(map_164c0d5c5827f901dec2e3dbe3c5ca3c);\n",
       "        \n",
       "    \n",
       "            var circle_38edcbf3515519229d82593ad3bffddb = L.circle(\n",
       "                [-40.1296581637, -72.7254940272],\n",
       "                {&quot;bubblingMouseEvents&quot;: true, &quot;color&quot;: &quot;#ffff00ff&quot;, &quot;dashArray&quot;: null, &quot;dashOffset&quot;: null, &quot;fill&quot;: false, &quot;fillColor&quot;: &quot;#ffff00ff&quot;, &quot;fillOpacity&quot;: 0.2, &quot;fillRule&quot;: &quot;evenodd&quot;, &quot;lineCap&quot;: &quot;round&quot;, &quot;lineJoin&quot;: &quot;round&quot;, &quot;opacity&quot;: 1.0, &quot;radius&quot;: 450, &quot;stroke&quot;: true, &quot;weight&quot;: 3}\n",
       "            ).addTo(map_164c0d5c5827f901dec2e3dbe3c5ca3c);\n",
       "        \n",
       "    \n",
       "            var circle_dc0b348798381475f28a7d0563727c1c = L.circle(\n",
       "                [-40.0676228293, -72.6179175677],\n",
       "                {&quot;bubblingMouseEvents&quot;: true, &quot;color&quot;: &quot;#ffff00ff&quot;, &quot;dashArray&quot;: null, &quot;dashOffset&quot;: null, &quot;fill&quot;: false, &quot;fillColor&quot;: &quot;#ffff00ff&quot;, &quot;fillOpacity&quot;: 0.2, &quot;fillRule&quot;: &quot;evenodd&quot;, &quot;lineCap&quot;: &quot;round&quot;, &quot;lineJoin&quot;: &quot;round&quot;, &quot;opacity&quot;: 1.0, &quot;radius&quot;: 450, &quot;stroke&quot;: true, &quot;weight&quot;: 3}\n",
       "            ).addTo(map_164c0d5c5827f901dec2e3dbe3c5ca3c);\n",
       "        \n",
       "    \n",
       "            var circle_16145648bf02aa8971a3d98dcc195139 = L.circle(\n",
       "                [-40.1515807831, -72.8962419781],\n",
       "                {&quot;bubblingMouseEvents&quot;: true, &quot;color&quot;: &quot;#ff0000ff&quot;, &quot;dashArray&quot;: null, &quot;dashOffset&quot;: null, &quot;fill&quot;: false, &quot;fillColor&quot;: &quot;#ff0000ff&quot;, &quot;fillOpacity&quot;: 0.2, &quot;fillRule&quot;: &quot;evenodd&quot;, &quot;lineCap&quot;: &quot;round&quot;, &quot;lineJoin&quot;: &quot;round&quot;, &quot;opacity&quot;: 1.0, &quot;radius&quot;: 450, &quot;stroke&quot;: true, &quot;weight&quot;: 3}\n",
       "            ).addTo(map_164c0d5c5827f901dec2e3dbe3c5ca3c);\n",
       "        \n",
       "    \n",
       "            var circle_673b850e12bd50506453805a78709008 = L.circle(\n",
       "                [-39.9784746305, -72.8320348617],\n",
       "                {&quot;bubblingMouseEvents&quot;: true, &quot;color&quot;: &quot;#ff0000ff&quot;, &quot;dashArray&quot;: null, &quot;dashOffset&quot;: null, &quot;fill&quot;: false, &quot;fillColor&quot;: &quot;#ff0000ff&quot;, &quot;fillOpacity&quot;: 0.2, &quot;fillRule&quot;: &quot;evenodd&quot;, &quot;lineCap&quot;: &quot;round&quot;, &quot;lineJoin&quot;: &quot;round&quot;, &quot;opacity&quot;: 1.0, &quot;radius&quot;: 450, &quot;stroke&quot;: true, &quot;weight&quot;: 3}\n",
       "            ).addTo(map_164c0d5c5827f901dec2e3dbe3c5ca3c);\n",
       "        \n",
       "    \n",
       "            var circle_c3b525922d2fa47604f000c038ae2c9e = L.circle(\n",
       "                [-40.1233358588, -72.6748177353],\n",
       "                {&quot;bubblingMouseEvents&quot;: true, &quot;color&quot;: &quot;#ffff00ff&quot;, &quot;dashArray&quot;: null, &quot;dashOffset&quot;: null, &quot;fill&quot;: false, &quot;fillColor&quot;: &quot;#ffff00ff&quot;, &quot;fillOpacity&quot;: 0.2, &quot;fillRule&quot;: &quot;evenodd&quot;, &quot;lineCap&quot;: &quot;round&quot;, &quot;lineJoin&quot;: &quot;round&quot;, &quot;opacity&quot;: 1.0, &quot;radius&quot;: 450, &quot;stroke&quot;: true, &quot;weight&quot;: 3}\n",
       "            ).addTo(map_164c0d5c5827f901dec2e3dbe3c5ca3c);\n",
       "        \n",
       "    \n",
       "            var circle_31944b82868f4e5c68edb62e7851edb0 = L.circle(\n",
       "                [-40.0949272285, -72.8333381781],\n",
       "                {&quot;bubblingMouseEvents&quot;: true, &quot;color&quot;: &quot;#008000ff&quot;, &quot;dashArray&quot;: null, &quot;dashOffset&quot;: null, &quot;fill&quot;: false, &quot;fillColor&quot;: &quot;#008000ff&quot;, &quot;fillOpacity&quot;: 0.2, &quot;fillRule&quot;: &quot;evenodd&quot;, &quot;lineCap&quot;: &quot;round&quot;, &quot;lineJoin&quot;: &quot;round&quot;, &quot;opacity&quot;: 1.0, &quot;radius&quot;: 450, &quot;stroke&quot;: true, &quot;weight&quot;: 3}\n",
       "            ).addTo(map_164c0d5c5827f901dec2e3dbe3c5ca3c);\n",
       "        \n",
       "    \n",
       "            var circle_6420311a70ed75a6b153ee9ee2f04a13 = L.circle(\n",
       "                [-40.1805296564, -72.5619049938],\n",
       "                {&quot;bubblingMouseEvents&quot;: true, &quot;color&quot;: &quot;#ffff00ff&quot;, &quot;dashArray&quot;: null, &quot;dashOffset&quot;: null, &quot;fill&quot;: false, &quot;fillColor&quot;: &quot;#ffff00ff&quot;, &quot;fillOpacity&quot;: 0.2, &quot;fillRule&quot;: &quot;evenodd&quot;, &quot;lineCap&quot;: &quot;round&quot;, &quot;lineJoin&quot;: &quot;round&quot;, &quot;opacity&quot;: 1.0, &quot;radius&quot;: 450, &quot;stroke&quot;: true, &quot;weight&quot;: 3}\n",
       "            ).addTo(map_164c0d5c5827f901dec2e3dbe3c5ca3c);\n",
       "        \n",
       "    \n",
       "            var circle_52883079431708f6522238dae08183d2 = L.circle(\n",
       "                [-40.1380925113, -72.5825449417],\n",
       "                {&quot;bubblingMouseEvents&quot;: true, &quot;color&quot;: &quot;#ffff00ff&quot;, &quot;dashArray&quot;: null, &quot;dashOffset&quot;: null, &quot;fill&quot;: false, &quot;fillColor&quot;: &quot;#ffff00ff&quot;, &quot;fillOpacity&quot;: 0.2, &quot;fillRule&quot;: &quot;evenodd&quot;, &quot;lineCap&quot;: &quot;round&quot;, &quot;lineJoin&quot;: &quot;round&quot;, &quot;opacity&quot;: 1.0, &quot;radius&quot;: 450, &quot;stroke&quot;: true, &quot;weight&quot;: 3}\n",
       "            ).addTo(map_164c0d5c5827f901dec2e3dbe3c5ca3c);\n",
       "        \n",
       "    \n",
       "            var circle_b5f068675ac70163ccbfe805fd4c43fd = L.circle(\n",
       "                [-40.0154940534, -72.7914597178],\n",
       "                {&quot;bubblingMouseEvents&quot;: true, &quot;color&quot;: &quot;#ffa500ff&quot;, &quot;dashArray&quot;: null, &quot;dashOffset&quot;: null, &quot;fill&quot;: false, &quot;fillColor&quot;: &quot;#ffa500ff&quot;, &quot;fillOpacity&quot;: 0.2, &quot;fillRule&quot;: &quot;evenodd&quot;, &quot;lineCap&quot;: &quot;round&quot;, &quot;lineJoin&quot;: &quot;round&quot;, &quot;opacity&quot;: 1.0, &quot;radius&quot;: 450, &quot;stroke&quot;: true, &quot;weight&quot;: 3}\n",
       "            ).addTo(map_164c0d5c5827f901dec2e3dbe3c5ca3c);\n",
       "        \n",
       "    \n",
       "            var circle_d41bcf75f811886b46a64643f10da71f = L.circle(\n",
       "                [-40.0746752187, -72.6747765849],\n",
       "                {&quot;bubblingMouseEvents&quot;: true, &quot;color&quot;: &quot;#008000ff&quot;, &quot;dashArray&quot;: null, &quot;dashOffset&quot;: null, &quot;fill&quot;: false, &quot;fillColor&quot;: &quot;#008000ff&quot;, &quot;fillOpacity&quot;: 0.2, &quot;fillRule&quot;: &quot;evenodd&quot;, &quot;lineCap&quot;: &quot;round&quot;, &quot;lineJoin&quot;: &quot;round&quot;, &quot;opacity&quot;: 1.0, &quot;radius&quot;: 450, &quot;stroke&quot;: true, &quot;weight&quot;: 3}\n",
       "            ).addTo(map_164c0d5c5827f901dec2e3dbe3c5ca3c);\n",
       "        \n",
       "    \n",
       "            var circle_2c1d1eadbe1df8fd5bc9cd01bc0739d5 = L.circle(\n",
       "                [-40.1221748177, -72.6855485214],\n",
       "                {&quot;bubblingMouseEvents&quot;: true, &quot;color&quot;: &quot;#008000ff&quot;, &quot;dashArray&quot;: null, &quot;dashOffset&quot;: null, &quot;fill&quot;: false, &quot;fillColor&quot;: &quot;#008000ff&quot;, &quot;fillOpacity&quot;: 0.2, &quot;fillRule&quot;: &quot;evenodd&quot;, &quot;lineCap&quot;: &quot;round&quot;, &quot;lineJoin&quot;: &quot;round&quot;, &quot;opacity&quot;: 1.0, &quot;radius&quot;: 450, &quot;stroke&quot;: true, &quot;weight&quot;: 3}\n",
       "            ).addTo(map_164c0d5c5827f901dec2e3dbe3c5ca3c);\n",
       "        \n",
       "    \n",
       "            var circle_c62fc9c2149dd185e34aa89c50a192e0 = L.circle(\n",
       "                [-39.8074856345, -72.9572455712],\n",
       "                {&quot;bubblingMouseEvents&quot;: true, &quot;color&quot;: &quot;#ff0000ff&quot;, &quot;dashArray&quot;: null, &quot;dashOffset&quot;: null, &quot;fill&quot;: false, &quot;fillColor&quot;: &quot;#ff0000ff&quot;, &quot;fillOpacity&quot;: 0.2, &quot;fillRule&quot;: &quot;evenodd&quot;, &quot;lineCap&quot;: &quot;round&quot;, &quot;lineJoin&quot;: &quot;round&quot;, &quot;opacity&quot;: 1.0, &quot;radius&quot;: 450, &quot;stroke&quot;: true, &quot;weight&quot;: 3}\n",
       "            ).addTo(map_164c0d5c5827f901dec2e3dbe3c5ca3c);\n",
       "        \n",
       "    \n",
       "            var circle_1c00c50850c172c92a8ac73df44ae8a5 = L.circle(\n",
       "                [-39.8710682914, -72.6678013129],\n",
       "                {&quot;bubblingMouseEvents&quot;: true, &quot;color&quot;: &quot;#ffff00ff&quot;, &quot;dashArray&quot;: null, &quot;dashOffset&quot;: null, &quot;fill&quot;: false, &quot;fillColor&quot;: &quot;#ffff00ff&quot;, &quot;fillOpacity&quot;: 0.2, &quot;fillRule&quot;: &quot;evenodd&quot;, &quot;lineCap&quot;: &quot;round&quot;, &quot;lineJoin&quot;: &quot;round&quot;, &quot;opacity&quot;: 1.0, &quot;radius&quot;: 450, &quot;stroke&quot;: true, &quot;weight&quot;: 3}\n",
       "            ).addTo(map_164c0d5c5827f901dec2e3dbe3c5ca3c);\n",
       "        \n",
       "    \n",
       "            var circle_e950b3eb93d28e918bf46b47fe4490f4 = L.circle(\n",
       "                [-39.9084433218, -72.5733916686],\n",
       "                {&quot;bubblingMouseEvents&quot;: true, &quot;color&quot;: &quot;#008000ff&quot;, &quot;dashArray&quot;: null, &quot;dashOffset&quot;: null, &quot;fill&quot;: false, &quot;fillColor&quot;: &quot;#008000ff&quot;, &quot;fillOpacity&quot;: 0.2, &quot;fillRule&quot;: &quot;evenodd&quot;, &quot;lineCap&quot;: &quot;round&quot;, &quot;lineJoin&quot;: &quot;round&quot;, &quot;opacity&quot;: 1.0, &quot;radius&quot;: 450, &quot;stroke&quot;: true, &quot;weight&quot;: 3}\n",
       "            ).addTo(map_164c0d5c5827f901dec2e3dbe3c5ca3c);\n",
       "        \n",
       "    \n",
       "            var circle_1c90ca205c7a0c2124cc9d4d7cc3271f = L.circle(\n",
       "                [-39.8171126188, -72.4425065285],\n",
       "                {&quot;bubblingMouseEvents&quot;: true, &quot;color&quot;: &quot;#008000ff&quot;, &quot;dashArray&quot;: null, &quot;dashOffset&quot;: null, &quot;fill&quot;: false, &quot;fillColor&quot;: &quot;#008000ff&quot;, &quot;fillOpacity&quot;: 0.2, &quot;fillRule&quot;: &quot;evenodd&quot;, &quot;lineCap&quot;: &quot;round&quot;, &quot;lineJoin&quot;: &quot;round&quot;, &quot;opacity&quot;: 1.0, &quot;radius&quot;: 450, &quot;stroke&quot;: true, &quot;weight&quot;: 3}\n",
       "            ).addTo(map_164c0d5c5827f901dec2e3dbe3c5ca3c);\n",
       "        \n",
       "    \n",
       "            var circle_16ac96dc74cb606129fc5965e61a573d = L.circle(\n",
       "                [-39.7751787818, -72.6519491619],\n",
       "                {&quot;bubblingMouseEvents&quot;: true, &quot;color&quot;: &quot;#ffff00ff&quot;, &quot;dashArray&quot;: null, &quot;dashOffset&quot;: null, &quot;fill&quot;: false, &quot;fillColor&quot;: &quot;#ffff00ff&quot;, &quot;fillOpacity&quot;: 0.2, &quot;fillRule&quot;: &quot;evenodd&quot;, &quot;lineCap&quot;: &quot;round&quot;, &quot;lineJoin&quot;: &quot;round&quot;, &quot;opacity&quot;: 1.0, &quot;radius&quot;: 450, &quot;stroke&quot;: true, &quot;weight&quot;: 3}\n",
       "            ).addTo(map_164c0d5c5827f901dec2e3dbe3c5ca3c);\n",
       "        \n",
       "    \n",
       "            var circle_59df9050aa73733cfa32267db603cb15 = L.circle(\n",
       "                [-39.9987530843, -72.7108188025],\n",
       "                {&quot;bubblingMouseEvents&quot;: true, &quot;color&quot;: &quot;#ffa500ff&quot;, &quot;dashArray&quot;: null, &quot;dashOffset&quot;: null, &quot;fill&quot;: false, &quot;fillColor&quot;: &quot;#ffa500ff&quot;, &quot;fillOpacity&quot;: 0.2, &quot;fillRule&quot;: &quot;evenodd&quot;, &quot;lineCap&quot;: &quot;round&quot;, &quot;lineJoin&quot;: &quot;round&quot;, &quot;opacity&quot;: 1.0, &quot;radius&quot;: 450, &quot;stroke&quot;: true, &quot;weight&quot;: 3}\n",
       "            ).addTo(map_164c0d5c5827f901dec2e3dbe3c5ca3c);\n",
       "        \n",
       "    \n",
       "            var circle_a2ed9684a1fcc4f7488374e0b39cf9df = L.circle(\n",
       "                [-40.0154665081, -72.5215180883],\n",
       "                {&quot;bubblingMouseEvents&quot;: true, &quot;color&quot;: &quot;#ffff00ff&quot;, &quot;dashArray&quot;: null, &quot;dashOffset&quot;: null, &quot;fill&quot;: false, &quot;fillColor&quot;: &quot;#ffff00ff&quot;, &quot;fillOpacity&quot;: 0.2, &quot;fillRule&quot;: &quot;evenodd&quot;, &quot;lineCap&quot;: &quot;round&quot;, &quot;lineJoin&quot;: &quot;round&quot;, &quot;opacity&quot;: 1.0, &quot;radius&quot;: 450, &quot;stroke&quot;: true, &quot;weight&quot;: 3}\n",
       "            ).addTo(map_164c0d5c5827f901dec2e3dbe3c5ca3c);\n",
       "        \n",
       "    \n",
       "            var circle_0f377ab7c5e8baf8c81231e4e43e4280 = L.circle(\n",
       "                [-39.8526730412, -72.7929315347],\n",
       "                {&quot;bubblingMouseEvents&quot;: true, &quot;color&quot;: &quot;#ffa500ff&quot;, &quot;dashArray&quot;: null, &quot;dashOffset&quot;: null, &quot;fill&quot;: false, &quot;fillColor&quot;: &quot;#ffa500ff&quot;, &quot;fillOpacity&quot;: 0.2, &quot;fillRule&quot;: &quot;evenodd&quot;, &quot;lineCap&quot;: &quot;round&quot;, &quot;lineJoin&quot;: &quot;round&quot;, &quot;opacity&quot;: 1.0, &quot;radius&quot;: 450, &quot;stroke&quot;: true, &quot;weight&quot;: 3}\n",
       "            ).addTo(map_164c0d5c5827f901dec2e3dbe3c5ca3c);\n",
       "        \n",
       "    \n",
       "            var circle_46218fbccc8240760aecc98504b42472 = L.circle(\n",
       "                [-39.8705154943, -72.781619174],\n",
       "                {&quot;bubblingMouseEvents&quot;: true, &quot;color&quot;: &quot;#ffff00ff&quot;, &quot;dashArray&quot;: null, &quot;dashOffset&quot;: null, &quot;fill&quot;: false, &quot;fillColor&quot;: &quot;#ffff00ff&quot;, &quot;fillOpacity&quot;: 0.2, &quot;fillRule&quot;: &quot;evenodd&quot;, &quot;lineCap&quot;: &quot;round&quot;, &quot;lineJoin&quot;: &quot;round&quot;, &quot;opacity&quot;: 1.0, &quot;radius&quot;: 450, &quot;stroke&quot;: true, &quot;weight&quot;: 3}\n",
       "            ).addTo(map_164c0d5c5827f901dec2e3dbe3c5ca3c);\n",
       "        \n",
       "    \n",
       "            var circle_521c124abef73e8e3af87d651729e424 = L.circle(\n",
       "                [-39.8817714432, -72.6708273322],\n",
       "                {&quot;bubblingMouseEvents&quot;: true, &quot;color&quot;: &quot;#008000ff&quot;, &quot;dashArray&quot;: null, &quot;dashOffset&quot;: null, &quot;fill&quot;: false, &quot;fillColor&quot;: &quot;#008000ff&quot;, &quot;fillOpacity&quot;: 0.2, &quot;fillRule&quot;: &quot;evenodd&quot;, &quot;lineCap&quot;: &quot;round&quot;, &quot;lineJoin&quot;: &quot;round&quot;, &quot;opacity&quot;: 1.0, &quot;radius&quot;: 450, &quot;stroke&quot;: true, &quot;weight&quot;: 3}\n",
       "            ).addTo(map_164c0d5c5827f901dec2e3dbe3c5ca3c);\n",
       "        \n",
       "    \n",
       "            var circle_c4e83746c129c195dd487cb5c1550785 = L.circle(\n",
       "                [-39.9027809062, -72.5930946759],\n",
       "                {&quot;bubblingMouseEvents&quot;: true, &quot;color&quot;: &quot;#008000ff&quot;, &quot;dashArray&quot;: null, &quot;dashOffset&quot;: null, &quot;fill&quot;: false, &quot;fillColor&quot;: &quot;#008000ff&quot;, &quot;fillOpacity&quot;: 0.2, &quot;fillRule&quot;: &quot;evenodd&quot;, &quot;lineCap&quot;: &quot;round&quot;, &quot;lineJoin&quot;: &quot;round&quot;, &quot;opacity&quot;: 1.0, &quot;radius&quot;: 450, &quot;stroke&quot;: true, &quot;weight&quot;: 3}\n",
       "            ).addTo(map_164c0d5c5827f901dec2e3dbe3c5ca3c);\n",
       "        \n",
       "    \n",
       "            var circle_173b5939947d9c07025ba6200b3600cb = L.circle(\n",
       "                [-39.8171525324, -72.6981700465],\n",
       "                {&quot;bubblingMouseEvents&quot;: true, &quot;color&quot;: &quot;#ffff00ff&quot;, &quot;dashArray&quot;: null, &quot;dashOffset&quot;: null, &quot;fill&quot;: false, &quot;fillColor&quot;: &quot;#ffff00ff&quot;, &quot;fillOpacity&quot;: 0.2, &quot;fillRule&quot;: &quot;evenodd&quot;, &quot;lineCap&quot;: &quot;round&quot;, &quot;lineJoin&quot;: &quot;round&quot;, &quot;opacity&quot;: 1.0, &quot;radius&quot;: 450, &quot;stroke&quot;: true, &quot;weight&quot;: 3}\n",
       "            ).addTo(map_164c0d5c5827f901dec2e3dbe3c5ca3c);\n",
       "        \n",
       "    \n",
       "            var circle_db091b57fcda2b0b43220a30f57f2f9e = L.circle(\n",
       "                [-39.9151109593, -72.78974687],\n",
       "                {&quot;bubblingMouseEvents&quot;: true, &quot;color&quot;: &quot;#ffff00ff&quot;, &quot;dashArray&quot;: null, &quot;dashOffset&quot;: null, &quot;fill&quot;: false, &quot;fillColor&quot;: &quot;#ffff00ff&quot;, &quot;fillOpacity&quot;: 0.2, &quot;fillRule&quot;: &quot;evenodd&quot;, &quot;lineCap&quot;: &quot;round&quot;, &quot;lineJoin&quot;: &quot;round&quot;, &quot;opacity&quot;: 1.0, &quot;radius&quot;: 450, &quot;stroke&quot;: true, &quot;weight&quot;: 3}\n",
       "            ).addTo(map_164c0d5c5827f901dec2e3dbe3c5ca3c);\n",
       "        \n",
       "    \n",
       "            var circle_d6c199ac45884f02f007742880627fa9 = L.circle(\n",
       "                [-39.9809683663, -72.7929665382],\n",
       "                {&quot;bubblingMouseEvents&quot;: true, &quot;color&quot;: &quot;#008000ff&quot;, &quot;dashArray&quot;: null, &quot;dashOffset&quot;: null, &quot;fill&quot;: false, &quot;fillColor&quot;: &quot;#008000ff&quot;, &quot;fillOpacity&quot;: 0.2, &quot;fillRule&quot;: &quot;evenodd&quot;, &quot;lineCap&quot;: &quot;round&quot;, &quot;lineJoin&quot;: &quot;round&quot;, &quot;opacity&quot;: 1.0, &quot;radius&quot;: 450, &quot;stroke&quot;: true, &quot;weight&quot;: 3}\n",
       "            ).addTo(map_164c0d5c5827f901dec2e3dbe3c5ca3c);\n",
       "        \n",
       "    \n",
       "            var circle_c57b65f96767cdd783bdcbcfcaf6627b = L.circle(\n",
       "                [-39.891383155, -72.7942956633],\n",
       "                {&quot;bubblingMouseEvents&quot;: true, &quot;color&quot;: &quot;#008000ff&quot;, &quot;dashArray&quot;: null, &quot;dashOffset&quot;: null, &quot;fill&quot;: false, &quot;fillColor&quot;: &quot;#008000ff&quot;, &quot;fillOpacity&quot;: 0.2, &quot;fillRule&quot;: &quot;evenodd&quot;, &quot;lineCap&quot;: &quot;round&quot;, &quot;lineJoin&quot;: &quot;round&quot;, &quot;opacity&quot;: 1.0, &quot;radius&quot;: 450, &quot;stroke&quot;: true, &quot;weight&quot;: 3}\n",
       "            ).addTo(map_164c0d5c5827f901dec2e3dbe3c5ca3c);\n",
       "        \n",
       "    \n",
       "            var circle_3e7817e305c9bac119df016bcd8093e3 = L.circle(\n",
       "                [-39.854954476, -72.6609940373],\n",
       "                {&quot;bubblingMouseEvents&quot;: true, &quot;color&quot;: &quot;#008000ff&quot;, &quot;dashArray&quot;: null, &quot;dashOffset&quot;: null, &quot;fill&quot;: false, &quot;fillColor&quot;: &quot;#008000ff&quot;, &quot;fillOpacity&quot;: 0.2, &quot;fillRule&quot;: &quot;evenodd&quot;, &quot;lineCap&quot;: &quot;round&quot;, &quot;lineJoin&quot;: &quot;round&quot;, &quot;opacity&quot;: 1.0, &quot;radius&quot;: 450, &quot;stroke&quot;: true, &quot;weight&quot;: 3}\n",
       "            ).addTo(map_164c0d5c5827f901dec2e3dbe3c5ca3c);\n",
       "        \n",
       "    \n",
       "            var circle_2f233d28a5921e51d5da8ce94d0adea8 = L.circle(\n",
       "                [-39.8597946179, -72.7236128048],\n",
       "                {&quot;bubblingMouseEvents&quot;: true, &quot;color&quot;: &quot;#008000ff&quot;, &quot;dashArray&quot;: null, &quot;dashOffset&quot;: null, &quot;fill&quot;: false, &quot;fillColor&quot;: &quot;#008000ff&quot;, &quot;fillOpacity&quot;: 0.2, &quot;fillRule&quot;: &quot;evenodd&quot;, &quot;lineCap&quot;: &quot;round&quot;, &quot;lineJoin&quot;: &quot;round&quot;, &quot;opacity&quot;: 1.0, &quot;radius&quot;: 450, &quot;stroke&quot;: true, &quot;weight&quot;: 3}\n",
       "            ).addTo(map_164c0d5c5827f901dec2e3dbe3c5ca3c);\n",
       "        \n",
       "    \n",
       "            var circle_1e8310f347fd4e3bc7cb290a9fe1fc40 = L.circle(\n",
       "                [-39.8183071179, -72.8753063555],\n",
       "                {&quot;bubblingMouseEvents&quot;: true, &quot;color&quot;: &quot;#008000ff&quot;, &quot;dashArray&quot;: null, &quot;dashOffset&quot;: null, &quot;fill&quot;: false, &quot;fillColor&quot;: &quot;#008000ff&quot;, &quot;fillOpacity&quot;: 0.2, &quot;fillRule&quot;: &quot;evenodd&quot;, &quot;lineCap&quot;: &quot;round&quot;, &quot;lineJoin&quot;: &quot;round&quot;, &quot;opacity&quot;: 1.0, &quot;radius&quot;: 450, &quot;stroke&quot;: true, &quot;weight&quot;: 3}\n",
       "            ).addTo(map_164c0d5c5827f901dec2e3dbe3c5ca3c);\n",
       "        \n",
       "    \n",
       "            var circle_51785f425a72d2b760e1b0de71b69bc2 = L.circle(\n",
       "                [-39.8631470531, -73.4340874604],\n",
       "                {&quot;bubblingMouseEvents&quot;: true, &quot;color&quot;: &quot;#800080ff&quot;, &quot;dashArray&quot;: null, &quot;dashOffset&quot;: null, &quot;fill&quot;: false, &quot;fillColor&quot;: &quot;#800080ff&quot;, &quot;fillOpacity&quot;: 0.2, &quot;fillRule&quot;: &quot;evenodd&quot;, &quot;lineCap&quot;: &quot;round&quot;, &quot;lineJoin&quot;: &quot;round&quot;, &quot;opacity&quot;: 1.0, &quot;radius&quot;: 450, &quot;stroke&quot;: true, &quot;weight&quot;: 3}\n",
       "            ).addTo(map_164c0d5c5827f901dec2e3dbe3c5ca3c);\n",
       "        \n",
       "    \n",
       "            var circle_9de269a665d47a45a49294e654e065ff = L.circle(\n",
       "                [-39.8754350487, -73.3587930086],\n",
       "                {&quot;bubblingMouseEvents&quot;: true, &quot;color&quot;: &quot;#ffa500ff&quot;, &quot;dashArray&quot;: null, &quot;dashOffset&quot;: null, &quot;fill&quot;: false, &quot;fillColor&quot;: &quot;#ffa500ff&quot;, &quot;fillOpacity&quot;: 0.2, &quot;fillRule&quot;: &quot;evenodd&quot;, &quot;lineCap&quot;: &quot;round&quot;, &quot;lineJoin&quot;: &quot;round&quot;, &quot;opacity&quot;: 1.0, &quot;radius&quot;: 450, &quot;stroke&quot;: true, &quot;weight&quot;: 3}\n",
       "            ).addTo(map_164c0d5c5827f901dec2e3dbe3c5ca3c);\n",
       "        \n",
       "    \n",
       "            var circle_2a8828f0e5bc8ecd811faf99c6116bb8 = L.circle(\n",
       "                [-39.8905057848, -73.3917808877],\n",
       "                {&quot;bubblingMouseEvents&quot;: true, &quot;color&quot;: &quot;#008000ff&quot;, &quot;dashArray&quot;: null, &quot;dashOffset&quot;: null, &quot;fill&quot;: false, &quot;fillColor&quot;: &quot;#008000ff&quot;, &quot;fillOpacity&quot;: 0.2, &quot;fillRule&quot;: &quot;evenodd&quot;, &quot;lineCap&quot;: &quot;round&quot;, &quot;lineJoin&quot;: &quot;round&quot;, &quot;opacity&quot;: 1.0, &quot;radius&quot;: 450, &quot;stroke&quot;: true, &quot;weight&quot;: 3}\n",
       "            ).addTo(map_164c0d5c5827f901dec2e3dbe3c5ca3c);\n",
       "        \n",
       "    \n",
       "            var circle_8dd5e7019bd17c09d3e2212b3dda5599 = L.circle(\n",
       "                [-39.8964415368, -73.417776163],\n",
       "                {&quot;bubblingMouseEvents&quot;: true, &quot;color&quot;: &quot;#ffa500ff&quot;, &quot;dashArray&quot;: null, &quot;dashOffset&quot;: null, &quot;fill&quot;: false, &quot;fillColor&quot;: &quot;#ffa500ff&quot;, &quot;fillOpacity&quot;: 0.2, &quot;fillRule&quot;: &quot;evenodd&quot;, &quot;lineCap&quot;: &quot;round&quot;, &quot;lineJoin&quot;: &quot;round&quot;, &quot;opacity&quot;: 1.0, &quot;radius&quot;: 450, &quot;stroke&quot;: true, &quot;weight&quot;: 3}\n",
       "            ).addTo(map_164c0d5c5827f901dec2e3dbe3c5ca3c);\n",
       "        \n",
       "    \n",
       "            var circle_d3b51feed6de4c9e9abfa1f25bc0ad3a = L.circle(\n",
       "                [-39.9656281859, -73.6194983481],\n",
       "                {&quot;bubblingMouseEvents&quot;: true, &quot;color&quot;: &quot;#ffa500ff&quot;, &quot;dashArray&quot;: null, &quot;dashOffset&quot;: null, &quot;fill&quot;: false, &quot;fillColor&quot;: &quot;#ffa500ff&quot;, &quot;fillOpacity&quot;: 0.2, &quot;fillRule&quot;: &quot;evenodd&quot;, &quot;lineCap&quot;: &quot;round&quot;, &quot;lineJoin&quot;: &quot;round&quot;, &quot;opacity&quot;: 1.0, &quot;radius&quot;: 450, &quot;stroke&quot;: true, &quot;weight&quot;: 3}\n",
       "            ).addTo(map_164c0d5c5827f901dec2e3dbe3c5ca3c);\n",
       "        \n",
       "    \n",
       "            var circle_7061ad73931eddae1199699e1fe64150 = L.circle(\n",
       "                [-39.8970045115, -73.4310820761],\n",
       "                {&quot;bubblingMouseEvents&quot;: true, &quot;color&quot;: &quot;#ffff00ff&quot;, &quot;dashArray&quot;: null, &quot;dashOffset&quot;: null, &quot;fill&quot;: false, &quot;fillColor&quot;: &quot;#ffff00ff&quot;, &quot;fillOpacity&quot;: 0.2, &quot;fillRule&quot;: &quot;evenodd&quot;, &quot;lineCap&quot;: &quot;round&quot;, &quot;lineJoin&quot;: &quot;round&quot;, &quot;opacity&quot;: 1.0, &quot;radius&quot;: 450, &quot;stroke&quot;: true, &quot;weight&quot;: 3}\n",
       "            ).addTo(map_164c0d5c5827f901dec2e3dbe3c5ca3c);\n",
       "        \n",
       "&lt;/script&gt;\" style=\"position:absolute;width:100%;height:100%;left:0;top:0;border:none !important;\" allowfullscreen webkitallowfullscreen mozallowfullscreen></iframe></div></div>"
      ],
      "text/plain": [
       "<folium.folium.Map at 0x205f1ed6ad0>"
      ]
     },
     "execution_count": 18,
     "metadata": {},
     "output_type": "execute_result"
    }
   ],
   "source": [
    "from folium import plugins\n",
    "map = folium.Map(location = [-39.925826, -73.114501], tiles = \"OpenStreetMap\", zoom_start = 9.5)\n",
    "\n",
    "#Recopilación de datos\n",
    "datos_beneficiarios_valdivia=list(datos.iloc[1963:1977,9])\n",
    "datos_beneficiarios_paillaco=list(datos.iloc[1919:1930,9])\n",
    "datos_beneficiarios_loslagos=list(datos.iloc[1885:1903,9])\n",
    "datos_beneficiarios_corral=list(datos.iloc[1873:1879,9])\n",
    "\n",
    "beneficiarios = datos_beneficiarios_valdivia+datos_beneficiarios_paillaco+datos_beneficiarios_loslagos+datos_beneficiarios_corral\n",
    "\n",
    "colormap = folium.StepColormap(colors=['green','yellow','orange','red','purple'] ,\n",
    "                           index=[121,298,546,964,2294,4021],\n",
    "                           vmin= 121,\n",
    "                           vmax=4021)\n",
    "map = folium.Map(location = [-39.925826, -73.114501], tiles = \"OpenStreetMap\", zoom_start = 9.5)\n",
    "\n",
    "for i in range(len(locations)):\n",
    "    folium.Circle(location=locations[i],radius=450,color=colormap(beneficiarios[i]),).add_to(map)\n",
    "    nombre=nombres[i]\n",
    "map"
   ]
  },
  {
   "cell_type": "code",
   "execution_count": 19,
   "id": "77284582-f9d8-41ff-ab08-4c0143a690be",
   "metadata": {},
   "outputs": [
    {
     "data": {
      "text/html": [
       "<div style=\"width:100%;\"><div style=\"position:relative;width:100%;height:0;padding-bottom:60%;\"><span style=\"color:#565656\">Make this Notebook Trusted to load map: File -> Trust Notebook</span><iframe srcdoc=\"&lt;!DOCTYPE html&gt;\n",
       "&lt;head&gt;    \n",
       "    &lt;meta http-equiv=&quot;content-type&quot; content=&quot;text/html; charset=UTF-8&quot; /&gt;\n",
       "    \n",
       "        &lt;script&gt;\n",
       "            L_NO_TOUCH = false;\n",
       "            L_DISABLE_3D = false;\n",
       "        &lt;/script&gt;\n",
       "    \n",
       "    &lt;style&gt;html, body {width: 100%;height: 100%;margin: 0;padding: 0;}&lt;/style&gt;\n",
       "    &lt;style&gt;#map {position:absolute;top:0;bottom:0;right:0;left:0;}&lt;/style&gt;\n",
       "    &lt;script src=&quot;https://cdn.jsdelivr.net/npm/leaflet@1.6.0/dist/leaflet.js&quot;&gt;&lt;/script&gt;\n",
       "    &lt;script src=&quot;https://code.jquery.com/jquery-1.12.4.min.js&quot;&gt;&lt;/script&gt;\n",
       "    &lt;script src=&quot;https://maxcdn.bootstrapcdn.com/bootstrap/3.2.0/js/bootstrap.min.js&quot;&gt;&lt;/script&gt;\n",
       "    &lt;script src=&quot;https://cdnjs.cloudflare.com/ajax/libs/Leaflet.awesome-markers/2.0.2/leaflet.awesome-markers.js&quot;&gt;&lt;/script&gt;\n",
       "    &lt;link rel=&quot;stylesheet&quot; href=&quot;https://cdn.jsdelivr.net/npm/leaflet@1.6.0/dist/leaflet.css&quot;/&gt;\n",
       "    &lt;link rel=&quot;stylesheet&quot; href=&quot;https://maxcdn.bootstrapcdn.com/bootstrap/3.2.0/css/bootstrap.min.css&quot;/&gt;\n",
       "    &lt;link rel=&quot;stylesheet&quot; href=&quot;https://maxcdn.bootstrapcdn.com/bootstrap/3.2.0/css/bootstrap-theme.min.css&quot;/&gt;\n",
       "    &lt;link rel=&quot;stylesheet&quot; href=&quot;https://maxcdn.bootstrapcdn.com/font-awesome/4.6.3/css/font-awesome.min.css&quot;/&gt;\n",
       "    &lt;link rel=&quot;stylesheet&quot; href=&quot;https://cdnjs.cloudflare.com/ajax/libs/Leaflet.awesome-markers/2.0.2/leaflet.awesome-markers.css&quot;/&gt;\n",
       "    &lt;link rel=&quot;stylesheet&quot; href=&quot;https://cdn.jsdelivr.net/gh/python-visualization/folium/folium/templates/leaflet.awesome.rotate.min.css&quot;/&gt;\n",
       "    \n",
       "            &lt;meta name=&quot;viewport&quot; content=&quot;width=device-width,\n",
       "                initial-scale=1.0, maximum-scale=1.0, user-scalable=no&quot; /&gt;\n",
       "            &lt;style&gt;\n",
       "                #map_edfb81fb8043a76798456157d9b063a4 {\n",
       "                    position: relative;\n",
       "                    width: 100.0%;\n",
       "                    height: 100.0%;\n",
       "                    left: 0.0%;\n",
       "                    top: 0.0%;\n",
       "                }\n",
       "            &lt;/style&gt;\n",
       "        \n",
       "&lt;/head&gt;\n",
       "&lt;body&gt;    \n",
       "    \n",
       "            &lt;div class=&quot;folium-map&quot; id=&quot;map_edfb81fb8043a76798456157d9b063a4&quot; &gt;&lt;/div&gt;\n",
       "        \n",
       "&lt;/body&gt;\n",
       "&lt;script&gt;    \n",
       "    \n",
       "            var map_edfb81fb8043a76798456157d9b063a4 = L.map(\n",
       "                &quot;map_edfb81fb8043a76798456157d9b063a4&quot;,\n",
       "                {\n",
       "                    center: [-39.925826, -73.114501],\n",
       "                    crs: L.CRS.EPSG3857,\n",
       "                    zoom: 9.5,\n",
       "                    zoomControl: true,\n",
       "                    preferCanvas: false,\n",
       "                }\n",
       "            );\n",
       "\n",
       "            \n",
       "\n",
       "        \n",
       "    \n",
       "            var tile_layer_7b30aaed42c0d920367b64309b9f22d0 = L.tileLayer(\n",
       "                &quot;https://{s}.tile.openstreetmap.org/{z}/{x}/{y}.png&quot;,\n",
       "                {&quot;attribution&quot;: &quot;Data by \\u0026copy; \\u003ca href=\\&quot;http://openstreetmap.org\\&quot;\\u003eOpenStreetMap\\u003c/a\\u003e, under \\u003ca href=\\&quot;http://www.openstreetmap.org/copyright\\&quot;\\u003eODbL\\u003c/a\\u003e.&quot;, &quot;detectRetina&quot;: false, &quot;maxNativeZoom&quot;: 18, &quot;maxZoom&quot;: 18, &quot;minZoom&quot;: 0, &quot;noWrap&quot;: false, &quot;opacity&quot;: 1, &quot;subdomains&quot;: &quot;abc&quot;, &quot;tms&quot;: false}\n",
       "            ).addTo(map_edfb81fb8043a76798456157d9b063a4);\n",
       "        \n",
       "    \n",
       "            var marker_0a331147e8724a906e84d5e06109b6e6 = L.marker(\n",
       "                [-39.8062305249, -73.0547464487],\n",
       "                {}\n",
       "            ).addTo(map_edfb81fb8043a76798456157d9b063a4);\n",
       "        \n",
       "    \n",
       "            var icon_f54a38930404c215d32275750e9a1191 = L.AwesomeMarkers.icon(\n",
       "                {&quot;extraClasses&quot;: &quot;fa-rotate-0&quot;, &quot;icon&quot;: &quot;info-sign&quot;, &quot;iconColor&quot;: &quot;white&quot;, &quot;markerColor&quot;: &quot;green&quot;, &quot;prefix&quot;: &quot;glyphicon&quot;}\n",
       "            );\n",
       "            marker_0a331147e8724a906e84d5e06109b6e6.setIcon(icon_f54a38930404c215d32275750e9a1191);\n",
       "        \n",
       "    \n",
       "        var popup_390e64ec6ccb0bfc51af20a493ab4c2b = L.popup({&quot;maxWidth&quot;: &quot;100%&quot;});\n",
       "\n",
       "        \n",
       "            var html_a20fe52785e0304bffae4fddf59eb113 = $(`&lt;div id=&quot;html_a20fe52785e0304bffae4fddf59eb113&quot; style=&quot;width: 100.0%; height: 100.0%;&quot;&gt;Punto&lt;/div&gt;`)[0];\n",
       "            popup_390e64ec6ccb0bfc51af20a493ab4c2b.setContent(html_a20fe52785e0304bffae4fddf59eb113);\n",
       "        \n",
       "\n",
       "        marker_0a331147e8724a906e84d5e06109b6e6.bindPopup(popup_390e64ec6ccb0bfc51af20a493ab4c2b)\n",
       "        ;\n",
       "\n",
       "        \n",
       "    \n",
       "    \n",
       "            marker_0a331147e8724a906e84d5e06109b6e6.bindTooltip(\n",
       "                `&lt;div&gt;\n",
       "                     PISHUINCO\n",
       "                 &lt;/div&gt;`,\n",
       "                {&quot;sticky&quot;: true}\n",
       "            );\n",
       "        \n",
       "    \n",
       "            var marker_233620421eda8d7215fc64e4b8a4a4b4 = L.marker(\n",
       "                [-39.7283824204, -73.3948919817],\n",
       "                {}\n",
       "            ).addTo(map_edfb81fb8043a76798456157d9b063a4);\n",
       "        \n",
       "    \n",
       "            var icon_8bb384fcda1ab4b1fff44ef1c0ca3188 = L.AwesomeMarkers.icon(\n",
       "                {&quot;extraClasses&quot;: &quot;fa-rotate-0&quot;, &quot;icon&quot;: &quot;info-sign&quot;, &quot;iconColor&quot;: &quot;white&quot;, &quot;markerColor&quot;: &quot;purple&quot;, &quot;prefix&quot;: &quot;glyphicon&quot;}\n",
       "            );\n",
       "            marker_233620421eda8d7215fc64e4b8a4a4b4.setIcon(icon_8bb384fcda1ab4b1fff44ef1c0ca3188);\n",
       "        \n",
       "    \n",
       "        var popup_84de7a1d4370eb486bf8ff3d2e245fb2 = L.popup({&quot;maxWidth&quot;: &quot;100%&quot;});\n",
       "\n",
       "        \n",
       "            var html_d32a85860abf37e1d2eb24269a058d65 = $(`&lt;div id=&quot;html_d32a85860abf37e1d2eb24269a058d65&quot; style=&quot;width: 100.0%; height: 100.0%;&quot;&gt;Punto&lt;/div&gt;`)[0];\n",
       "            popup_84de7a1d4370eb486bf8ff3d2e245fb2.setContent(html_d32a85860abf37e1d2eb24269a058d65);\n",
       "        \n",
       "\n",
       "        marker_233620421eda8d7215fc64e4b8a4a4b4.bindPopup(popup_84de7a1d4370eb486bf8ff3d2e245fb2)\n",
       "        ;\n",
       "\n",
       "        \n",
       "    \n",
       "    \n",
       "            marker_233620421eda8d7215fc64e4b8a4a4b4.bindTooltip(\n",
       "                `&lt;div&gt;\n",
       "                     CURIÑANCO\n",
       "                 &lt;/div&gt;`,\n",
       "                {&quot;sticky&quot;: true}\n",
       "            );\n",
       "        \n",
       "    \n",
       "            var marker_0cdf295d8a8e2ccb049792a082441525 = L.marker(\n",
       "                [-39.7930844112, -73.124067117],\n",
       "                {}\n",
       "            ).addTo(map_edfb81fb8043a76798456157d9b063a4);\n",
       "        \n",
       "    \n",
       "            var icon_e935c849fd604a444f4ae2cb806f24de = L.AwesomeMarkers.icon(\n",
       "                {&quot;extraClasses&quot;: &quot;fa-rotate-0&quot;, &quot;icon&quot;: &quot;info-sign&quot;, &quot;iconColor&quot;: &quot;white&quot;, &quot;markerColor&quot;: &quot;green&quot;, &quot;prefix&quot;: &quot;glyphicon&quot;}\n",
       "            );\n",
       "            marker_0cdf295d8a8e2ccb049792a082441525.setIcon(icon_e935c849fd604a444f4ae2cb806f24de);\n",
       "        \n",
       "    \n",
       "        var popup_cd70db68e58672fe1b785bee7496ea10 = L.popup({&quot;maxWidth&quot;: &quot;100%&quot;});\n",
       "\n",
       "        \n",
       "            var html_a9c73d12dc9bb079ed204585df7aaba6 = $(`&lt;div id=&quot;html_a9c73d12dc9bb079ed204585df7aaba6&quot; style=&quot;width: 100.0%; height: 100.0%;&quot;&gt;Punto&lt;/div&gt;`)[0];\n",
       "            popup_cd70db68e58672fe1b785bee7496ea10.setContent(html_a9c73d12dc9bb079ed204585df7aaba6);\n",
       "        \n",
       "\n",
       "        marker_0cdf295d8a8e2ccb049792a082441525.bindPopup(popup_cd70db68e58672fe1b785bee7496ea10)\n",
       "        ;\n",
       "\n",
       "        \n",
       "    \n",
       "    \n",
       "            marker_0cdf295d8a8e2ccb049792a082441525.bindTooltip(\n",
       "                `&lt;div&gt;\n",
       "                     HUELLELHUE\n",
       "                 &lt;/div&gt;`,\n",
       "                {&quot;sticky&quot;: true}\n",
       "            );\n",
       "        \n",
       "    \n",
       "            var marker_787014a95b7d5bc878d6a8d96c592f0b = L.marker(\n",
       "                [-39.8715639883, -73.1852346315],\n",
       "                {}\n",
       "            ).addTo(map_edfb81fb8043a76798456157d9b063a4);\n",
       "        \n",
       "    \n",
       "            var icon_c70b395d97d9e9989669351d391599df = L.AwesomeMarkers.icon(\n",
       "                {&quot;extraClasses&quot;: &quot;fa-rotate-0&quot;, &quot;icon&quot;: &quot;info-sign&quot;, &quot;iconColor&quot;: &quot;white&quot;, &quot;markerColor&quot;: &quot;red&quot;, &quot;prefix&quot;: &quot;glyphicon&quot;}\n",
       "            );\n",
       "            marker_787014a95b7d5bc878d6a8d96c592f0b.setIcon(icon_c70b395d97d9e9989669351d391599df);\n",
       "        \n",
       "    \n",
       "        var popup_690b46d58f690c1aeb93d688342d12eb = L.popup({&quot;maxWidth&quot;: &quot;100%&quot;});\n",
       "\n",
       "        \n",
       "            var html_4dbe3ab5df4aed5edb17cac339eb7212 = $(`&lt;div id=&quot;html_4dbe3ab5df4aed5edb17cac339eb7212&quot; style=&quot;width: 100.0%; height: 100.0%;&quot;&gt;Punto&lt;/div&gt;`)[0];\n",
       "            popup_690b46d58f690c1aeb93d688342d12eb.setContent(html_4dbe3ab5df4aed5edb17cac339eb7212);\n",
       "        \n",
       "\n",
       "        marker_787014a95b7d5bc878d6a8d96c592f0b.bindPopup(popup_690b46d58f690c1aeb93d688342d12eb)\n",
       "        ;\n",
       "\n",
       "        \n",
       "    \n",
       "    \n",
       "            marker_787014a95b7d5bc878d6a8d96c592f0b.bindTooltip(\n",
       "                `&lt;div&gt;\n",
       "                     LAS GAVIOTAS\n",
       "                 &lt;/div&gt;`,\n",
       "                {&quot;sticky&quot;: true}\n",
       "            );\n",
       "        \n",
       "    \n",
       "            var marker_bcdd2faa7389820e47cb3996e6b2e681 = L.marker(\n",
       "                [-39.8547751549, -73.3907718436],\n",
       "                {}\n",
       "            ).addTo(map_edfb81fb8043a76798456157d9b063a4);\n",
       "        \n",
       "    \n",
       "            var icon_f3aec500dd5fee6363a1f3405d5f8fe0 = L.AwesomeMarkers.icon(\n",
       "                {&quot;extraClasses&quot;: &quot;fa-rotate-0&quot;, &quot;icon&quot;: &quot;info-sign&quot;, &quot;iconColor&quot;: &quot;white&quot;, &quot;markerColor&quot;: &quot;purple&quot;, &quot;prefix&quot;: &quot;glyphicon&quot;}\n",
       "            );\n",
       "            marker_bcdd2faa7389820e47cb3996e6b2e681.setIcon(icon_f3aec500dd5fee6363a1f3405d5f8fe0);\n",
       "        \n",
       "    \n",
       "        var popup_910bd81f9db5f786050043e31e0144c1 = L.popup({&quot;maxWidth&quot;: &quot;100%&quot;});\n",
       "\n",
       "        \n",
       "            var html_9edb374daf9893b8f10170d45705b78f = $(`&lt;div id=&quot;html_9edb374daf9893b8f10170d45705b78f&quot; style=&quot;width: 100.0%; height: 100.0%;&quot;&gt;Punto&lt;/div&gt;`)[0];\n",
       "            popup_910bd81f9db5f786050043e31e0144c1.setContent(html_9edb374daf9893b8f10170d45705b78f);\n",
       "        \n",
       "\n",
       "        marker_bcdd2faa7389820e47cb3996e6b2e681.bindPopup(popup_910bd81f9db5f786050043e31e0144c1)\n",
       "        ;\n",
       "\n",
       "        \n",
       "    \n",
       "    \n",
       "            marker_bcdd2faa7389820e47cb3996e6b2e681.bindTooltip(\n",
       "                `&lt;div&gt;\n",
       "                     NIEBLA-LOS MOLINOS\n",
       "                 &lt;/div&gt;`,\n",
       "                {&quot;sticky&quot;: true}\n",
       "            );\n",
       "        \n",
       "    \n",
       "            var marker_c16f527e25e06c7046eda8d890c97b11 = L.marker(\n",
       "                [-39.7603001637, -73.2705681336],\n",
       "                {}\n",
       "            ).addTo(map_edfb81fb8043a76798456157d9b063a4);\n",
       "        \n",
       "    \n",
       "            var icon_f1cf41fd70fc9d1207871b6b86cf379f = L.AwesomeMarkers.icon(\n",
       "                {&quot;extraClasses&quot;: &quot;fa-rotate-0&quot;, &quot;icon&quot;: &quot;info-sign&quot;, &quot;iconColor&quot;: &quot;white&quot;, &quot;markerColor&quot;: &quot;green&quot;, &quot;prefix&quot;: &quot;glyphicon&quot;}\n",
       "            );\n",
       "            marker_c16f527e25e06c7046eda8d890c97b11.setIcon(icon_f1cf41fd70fc9d1207871b6b86cf379f);\n",
       "        \n",
       "    \n",
       "        var popup_70a3d998ab458aca912ff04dc20aaef4 = L.popup({&quot;maxWidth&quot;: &quot;100%&quot;});\n",
       "\n",
       "        \n",
       "            var html_1a326417d1c962e60e9f9c32ceeaf40f = $(`&lt;div id=&quot;html_1a326417d1c962e60e9f9c32ceeaf40f&quot; style=&quot;width: 100.0%; height: 100.0%;&quot;&gt;Punto&lt;/div&gt;`)[0];\n",
       "            popup_70a3d998ab458aca912ff04dc20aaef4.setContent(html_1a326417d1c962e60e9f9c32ceeaf40f);\n",
       "        \n",
       "\n",
       "        marker_c16f527e25e06c7046eda8d890c97b11.bindPopup(popup_70a3d998ab458aca912ff04dc20aaef4)\n",
       "        ;\n",
       "\n",
       "        \n",
       "    \n",
       "    \n",
       "            marker_c16f527e25e06c7046eda8d890c97b11.bindTooltip(\n",
       "                `&lt;div&gt;\n",
       "                     PUNUCAPA\n",
       "                 &lt;/div&gt;`,\n",
       "                {&quot;sticky&quot;: true}\n",
       "            );\n",
       "        \n",
       "    \n",
       "            var marker_a07aa034fd1b4b9dc2eb4bbcdf0b51e3 = L.marker(\n",
       "                [-39.831480037, -73.4025892212],\n",
       "                {}\n",
       "            ).addTo(map_edfb81fb8043a76798456157d9b063a4);\n",
       "        \n",
       "    \n",
       "            var icon_64537e9318b14fbcbf551fd44fdbd397 = L.AwesomeMarkers.icon(\n",
       "                {&quot;extraClasses&quot;: &quot;fa-rotate-0&quot;, &quot;icon&quot;: &quot;info-sign&quot;, &quot;iconColor&quot;: &quot;white&quot;, &quot;markerColor&quot;: &quot;orange&quot;, &quot;prefix&quot;: &quot;glyphicon&quot;}\n",
       "            );\n",
       "            marker_a07aa034fd1b4b9dc2eb4bbcdf0b51e3.setIcon(icon_64537e9318b14fbcbf551fd44fdbd397);\n",
       "        \n",
       "    \n",
       "        var popup_6dd509a37691c58d888f5bb9c22edbd7 = L.popup({&quot;maxWidth&quot;: &quot;100%&quot;});\n",
       "\n",
       "        \n",
       "            var html_83d56833b019268a38b6b809e0ee4e06 = $(`&lt;div id=&quot;html_83d56833b019268a38b6b809e0ee4e06&quot; style=&quot;width: 100.0%; height: 100.0%;&quot;&gt;Punto&lt;/div&gt;`)[0];\n",
       "            popup_6dd509a37691c58d888f5bb9c22edbd7.setContent(html_83d56833b019268a38b6b809e0ee4e06);\n",
       "        \n",
       "\n",
       "        marker_a07aa034fd1b4b9dc2eb4bbcdf0b51e3.bindPopup(popup_6dd509a37691c58d888f5bb9c22edbd7)\n",
       "        ;\n",
       "\n",
       "        \n",
       "    \n",
       "    \n",
       "            marker_a07aa034fd1b4b9dc2eb4bbcdf0b51e3.bindTooltip(\n",
       "                `&lt;div&gt;\n",
       "                     SAN IGNACIO-PLAYA ROSADA\n",
       "                 &lt;/div&gt;`,\n",
       "                {&quot;sticky&quot;: true}\n",
       "            );\n",
       "        \n",
       "    \n",
       "            var marker_2e9d6b258e22750639a18976e8aa824e = L.marker(\n",
       "                [-39.8649364171, -73.3728400295],\n",
       "                {}\n",
       "            ).addTo(map_edfb81fb8043a76798456157d9b063a4);\n",
       "        \n",
       "    \n",
       "            var icon_eaadc8b68dd7e21d8f13dc5a490e5da0 = L.AwesomeMarkers.icon(\n",
       "                {&quot;extraClasses&quot;: &quot;fa-rotate-0&quot;, &quot;icon&quot;: &quot;info-sign&quot;, &quot;iconColor&quot;: &quot;white&quot;, &quot;markerColor&quot;: &quot;red&quot;, &quot;prefix&quot;: &quot;glyphicon&quot;}\n",
       "            );\n",
       "            marker_2e9d6b258e22750639a18976e8aa824e.setIcon(icon_eaadc8b68dd7e21d8f13dc5a490e5da0);\n",
       "        \n",
       "    \n",
       "        var popup_87778ed3f20241e439e61e7885cf72f8 = L.popup({&quot;maxWidth&quot;: &quot;100%&quot;});\n",
       "\n",
       "        \n",
       "            var html_52289fcf1249197da7cb8b1c4046c822 = $(`&lt;div id=&quot;html_52289fcf1249197da7cb8b1c4046c822&quot; style=&quot;width: 100.0%; height: 100.0%;&quot;&gt;Punto&lt;/div&gt;`)[0];\n",
       "            popup_87778ed3f20241e439e61e7885cf72f8.setContent(html_52289fcf1249197da7cb8b1c4046c822);\n",
       "        \n",
       "\n",
       "        marker_2e9d6b258e22750639a18976e8aa824e.bindPopup(popup_87778ed3f20241e439e61e7885cf72f8)\n",
       "        ;\n",
       "\n",
       "        \n",
       "    \n",
       "    \n",
       "            marker_2e9d6b258e22750639a18976e8aa824e.bindTooltip(\n",
       "                `&lt;div&gt;\n",
       "                     TRES ESPINOS\n",
       "                 &lt;/div&gt;`,\n",
       "                {&quot;sticky&quot;: true}\n",
       "            );\n",
       "        \n",
       "    \n",
       "            var marker_cbf071226bd4c6cbdec43fb35765d153 = L.marker(\n",
       "                [-39.7314121294, -73.1091043702],\n",
       "                {}\n",
       "            ).addTo(map_edfb81fb8043a76798456157d9b063a4);\n",
       "        \n",
       "    \n",
       "            var icon_3e3be059856e37878cbf076891a81cf8 = L.AwesomeMarkers.icon(\n",
       "                {&quot;extraClasses&quot;: &quot;fa-rotate-0&quot;, &quot;icon&quot;: &quot;info-sign&quot;, &quot;iconColor&quot;: &quot;white&quot;, &quot;markerColor&quot;: &quot;red&quot;, &quot;prefix&quot;: &quot;glyphicon&quot;}\n",
       "            );\n",
       "            marker_cbf071226bd4c6cbdec43fb35765d153.setIcon(icon_3e3be059856e37878cbf076891a81cf8);\n",
       "        \n",
       "    \n",
       "        var popup_8d58c9edbb8b844d63a09a2d0fe02b94 = L.popup({&quot;maxWidth&quot;: &quot;100%&quot;});\n",
       "\n",
       "        \n",
       "            var html_60e1e02c9d79b53b793330563232f3d7 = $(`&lt;div id=&quot;html_60e1e02c9d79b53b793330563232f3d7&quot; style=&quot;width: 100.0%; height: 100.0%;&quot;&gt;Punto&lt;/div&gt;`)[0];\n",
       "            popup_8d58c9edbb8b844d63a09a2d0fe02b94.setContent(html_60e1e02c9d79b53b793330563232f3d7);\n",
       "        \n",
       "\n",
       "        marker_cbf071226bd4c6cbdec43fb35765d153.bindPopup(popup_8d58c9edbb8b844d63a09a2d0fe02b94)\n",
       "        ;\n",
       "\n",
       "        \n",
       "    \n",
       "    \n",
       "            marker_cbf071226bd4c6cbdec43fb35765d153.bindTooltip(\n",
       "                `&lt;div&gt;\n",
       "                     VILLA CAYUMAPU\n",
       "                 &lt;/div&gt;`,\n",
       "                {&quot;sticky&quot;: true}\n",
       "            );\n",
       "        \n",
       "    \n",
       "            var marker_6bb5782e7ef8e8870fe828759ff463c0 = L.marker(\n",
       "                [-39.772903642, -73.1970058325],\n",
       "                {}\n",
       "            ).addTo(map_edfb81fb8043a76798456157d9b063a4);\n",
       "        \n",
       "    \n",
       "            var icon_038455b29f1ef71d0c88b31950ae53d8 = L.AwesomeMarkers.icon(\n",
       "                {&quot;extraClasses&quot;: &quot;fa-rotate-0&quot;, &quot;icon&quot;: &quot;info-sign&quot;, &quot;iconColor&quot;: &quot;white&quot;, &quot;markerColor&quot;: &quot;orange&quot;, &quot;prefix&quot;: &quot;glyphicon&quot;}\n",
       "            );\n",
       "            marker_6bb5782e7ef8e8870fe828759ff463c0.setIcon(icon_038455b29f1ef71d0c88b31950ae53d8);\n",
       "        \n",
       "    \n",
       "        var popup_d12df0955c19584f9f041d3ff400783b = L.popup({&quot;maxWidth&quot;: &quot;100%&quot;});\n",
       "\n",
       "        \n",
       "            var html_a345b0cddeb50c9ce9f8fbc6cfc44714 = $(`&lt;div id=&quot;html_a345b0cddeb50c9ce9f8fbc6cfc44714&quot; style=&quot;width: 100.0%; height: 100.0%;&quot;&gt;Punto&lt;/div&gt;`)[0];\n",
       "            popup_d12df0955c19584f9f041d3ff400783b.setContent(html_a345b0cddeb50c9ce9f8fbc6cfc44714);\n",
       "        \n",
       "\n",
       "        marker_6bb5782e7ef8e8870fe828759ff463c0.bindPopup(popup_d12df0955c19584f9f041d3ff400783b)\n",
       "        ;\n",
       "\n",
       "        \n",
       "    \n",
       "    \n",
       "            marker_6bb5782e7ef8e8870fe828759ff463c0.bindTooltip(\n",
       "                `&lt;div&gt;\n",
       "                     EL ARENAL SANTA ELVIRA\n",
       "                 &lt;/div&gt;`,\n",
       "                {&quot;sticky&quot;: true}\n",
       "            );\n",
       "        \n",
       "    \n",
       "            var marker_77167541edca2ca82d022734d08f0e96 = L.marker(\n",
       "                [-39.8673123199, -73.2088638403],\n",
       "                {}\n",
       "            ).addTo(map_edfb81fb8043a76798456157d9b063a4);\n",
       "        \n",
       "    \n",
       "            var icon_56371d55e65d31eb7e173f8ad33a1d0e = L.AwesomeMarkers.icon(\n",
       "                {&quot;extraClasses&quot;: &quot;fa-rotate-0&quot;, &quot;icon&quot;: &quot;info-sign&quot;, &quot;iconColor&quot;: &quot;white&quot;, &quot;markerColor&quot;: &quot;orange&quot;, &quot;prefix&quot;: &quot;glyphicon&quot;}\n",
       "            );\n",
       "            marker_77167541edca2ca82d022734d08f0e96.setIcon(icon_56371d55e65d31eb7e173f8ad33a1d0e);\n",
       "        \n",
       "    \n",
       "        var popup_def164430842c0d72bcdd3aaa8a2fc16 = L.popup({&quot;maxWidth&quot;: &quot;100%&quot;});\n",
       "\n",
       "        \n",
       "            var html_7dca3db1a22bc2374e1f0c3681b60acf = $(`&lt;div id=&quot;html_7dca3db1a22bc2374e1f0c3681b60acf&quot; style=&quot;width: 100.0%; height: 100.0%;&quot;&gt;Punto&lt;/div&gt;`)[0];\n",
       "            popup_def164430842c0d72bcdd3aaa8a2fc16.setContent(html_7dca3db1a22bc2374e1f0c3681b60acf);\n",
       "        \n",
       "\n",
       "        marker_77167541edca2ca82d022734d08f0e96.bindPopup(popup_def164430842c0d72bcdd3aaa8a2fc16)\n",
       "        ;\n",
       "\n",
       "        \n",
       "    \n",
       "    \n",
       "            marker_77167541edca2ca82d022734d08f0e96.bindTooltip(\n",
       "                `&lt;div&gt;\n",
       "                     PAILLAO\n",
       "                 &lt;/div&gt;`,\n",
       "                {&quot;sticky&quot;: true}\n",
       "            );\n",
       "        \n",
       "    \n",
       "            var marker_23409e1b95592653fe51d2d13bb86406 = L.marker(\n",
       "                [-39.7802702288, -73.2412708338],\n",
       "                {}\n",
       "            ).addTo(map_edfb81fb8043a76798456157d9b063a4);\n",
       "        \n",
       "    \n",
       "            var icon_492199a82935f4ede2011a4785e29723 = L.AwesomeMarkers.icon(\n",
       "                {&quot;extraClasses&quot;: &quot;fa-rotate-0&quot;, &quot;icon&quot;: &quot;info-sign&quot;, &quot;iconColor&quot;: &quot;white&quot;, &quot;markerColor&quot;: &quot;green&quot;, &quot;prefix&quot;: &quot;glyphicon&quot;}\n",
       "            );\n",
       "            marker_23409e1b95592653fe51d2d13bb86406.setIcon(icon_492199a82935f4ede2011a4785e29723);\n",
       "        \n",
       "    \n",
       "        var popup_bd03c5e9bf2c884d18b4f874276d3e41 = L.popup({&quot;maxWidth&quot;: &quot;100%&quot;});\n",
       "\n",
       "        \n",
       "            var html_4a7ffde3b106b670ffa3abb0c6dbef6a = $(`&lt;div id=&quot;html_4a7ffde3b106b670ffa3abb0c6dbef6a&quot; style=&quot;width: 100.0%; height: 100.0%;&quot;&gt;Punto&lt;/div&gt;`)[0];\n",
       "            popup_bd03c5e9bf2c884d18b4f874276d3e41.setContent(html_4a7ffde3b106b670ffa3abb0c6dbef6a);\n",
       "        \n",
       "\n",
       "        marker_23409e1b95592653fe51d2d13bb86406.bindPopup(popup_bd03c5e9bf2c884d18b4f874276d3e41)\n",
       "        ;\n",
       "\n",
       "        \n",
       "    \n",
       "    \n",
       "            marker_23409e1b95592653fe51d2d13bb86406.bindTooltip(\n",
       "                `&lt;div&gt;\n",
       "                     CABO BLANCO\n",
       "                 &lt;/div&gt;`,\n",
       "                {&quot;sticky&quot;: true}\n",
       "            );\n",
       "        \n",
       "    \n",
       "            var marker_d6a2e62e4ca9a435cc103f8599cbb490 = L.marker(\n",
       "                [-39.7737197231, -73.2102553189],\n",
       "                {}\n",
       "            ).addTo(map_edfb81fb8043a76798456157d9b063a4);\n",
       "        \n",
       "    \n",
       "            var icon_c62222f96232feb19cf76db6b5ea1b1a = L.AwesomeMarkers.icon(\n",
       "                {&quot;extraClasses&quot;: &quot;fa-rotate-0&quot;, &quot;icon&quot;: &quot;info-sign&quot;, &quot;iconColor&quot;: &quot;white&quot;, &quot;markerColor&quot;: &quot;orange&quot;, &quot;prefix&quot;: &quot;glyphicon&quot;}\n",
       "            );\n",
       "            marker_d6a2e62e4ca9a435cc103f8599cbb490.setIcon(icon_c62222f96232feb19cf76db6b5ea1b1a);\n",
       "        \n",
       "    \n",
       "        var popup_007ce96999058cd9c5318d989b1847f6 = L.popup({&quot;maxWidth&quot;: &quot;100%&quot;});\n",
       "\n",
       "        \n",
       "            var html_41c5560852381fe1e8bd2f15e085000f = $(`&lt;div id=&quot;html_41c5560852381fe1e8bd2f15e085000f&quot; style=&quot;width: 100.0%; height: 100.0%;&quot;&gt;Punto&lt;/div&gt;`)[0];\n",
       "            popup_007ce96999058cd9c5318d989b1847f6.setContent(html_41c5560852381fe1e8bd2f15e085000f);\n",
       "        \n",
       "\n",
       "        marker_d6a2e62e4ca9a435cc103f8599cbb490.bindPopup(popup_007ce96999058cd9c5318d989b1847f6)\n",
       "        ;\n",
       "\n",
       "        \n",
       "    \n",
       "    \n",
       "            marker_d6a2e62e4ca9a435cc103f8599cbb490.bindTooltip(\n",
       "                `&lt;div&gt;\n",
       "                     EL ARENAL KM 2\n",
       "                 &lt;/div&gt;`,\n",
       "                {&quot;sticky&quot;: true}\n",
       "            );\n",
       "        \n",
       "    \n",
       "            var marker_c502e2f636c200486c0c3c524d8583bd = L.marker(\n",
       "                [-39.7772055631, -73.3135380035],\n",
       "                {}\n",
       "            ).addTo(map_edfb81fb8043a76798456157d9b063a4);\n",
       "        \n",
       "    \n",
       "            var icon_7a228314b92d3151161695a6753d2cb7 = L.AwesomeMarkers.icon(\n",
       "                {&quot;extraClasses&quot;: &quot;fa-rotate-0&quot;, &quot;icon&quot;: &quot;info-sign&quot;, &quot;iconColor&quot;: &quot;white&quot;, &quot;markerColor&quot;: &quot;green&quot;, &quot;prefix&quot;: &quot;glyphicon&quot;}\n",
       "            );\n",
       "            marker_c502e2f636c200486c0c3c524d8583bd.setIcon(icon_7a228314b92d3151161695a6753d2cb7);\n",
       "        \n",
       "    \n",
       "        var popup_6dbdee40740ba5ce5603bda002f47d10 = L.popup({&quot;maxWidth&quot;: &quot;100%&quot;});\n",
       "\n",
       "        \n",
       "            var html_a2c7d3be6ebb2f002ab6422627103736 = $(`&lt;div id=&quot;html_a2c7d3be6ebb2f002ab6422627103736&quot; style=&quot;width: 100.0%; height: 100.0%;&quot;&gt;Punto&lt;/div&gt;`)[0];\n",
       "            popup_6dbdee40740ba5ce5603bda002f47d10.setContent(html_a2c7d3be6ebb2f002ab6422627103736);\n",
       "        \n",
       "\n",
       "        marker_c502e2f636c200486c0c3c524d8583bd.bindPopup(popup_6dbdee40740ba5ce5603bda002f47d10)\n",
       "        ;\n",
       "\n",
       "        \n",
       "    \n",
       "    \n",
       "            marker_c502e2f636c200486c0c3c524d8583bd.bindTooltip(\n",
       "                `&lt;div&gt;\n",
       "                     Chabelita\n",
       "                 &lt;/div&gt;`,\n",
       "                {&quot;sticky&quot;: true}\n",
       "            );\n",
       "        \n",
       "    \n",
       "            var marker_c4db90ddd54c348434be61af3c26e206 = L.marker(\n",
       "                [-40.1296581637, -72.7254940272],\n",
       "                {}\n",
       "            ).addTo(map_edfb81fb8043a76798456157d9b063a4);\n",
       "        \n",
       "    \n",
       "            var icon_9f547613ca67542631bc88e365551dae = L.AwesomeMarkers.icon(\n",
       "                {&quot;extraClasses&quot;: &quot;fa-rotate-0&quot;, &quot;icon&quot;: &quot;info-sign&quot;, &quot;iconColor&quot;: &quot;white&quot;, &quot;markerColor&quot;: &quot;green&quot;, &quot;prefix&quot;: &quot;glyphicon&quot;}\n",
       "            );\n",
       "            marker_c4db90ddd54c348434be61af3c26e206.setIcon(icon_9f547613ca67542631bc88e365551dae);\n",
       "        \n",
       "    \n",
       "        var popup_0b69ffc5dd012027cb51c3be6b2b5b86 = L.popup({&quot;maxWidth&quot;: &quot;100%&quot;});\n",
       "\n",
       "        \n",
       "            var html_b9b3ef1555bc70568a71d98dc5199218 = $(`&lt;div id=&quot;html_b9b3ef1555bc70568a71d98dc5199218&quot; style=&quot;width: 100.0%; height: 100.0%;&quot;&gt;Punto&lt;/div&gt;`)[0];\n",
       "            popup_0b69ffc5dd012027cb51c3be6b2b5b86.setContent(html_b9b3ef1555bc70568a71d98dc5199218);\n",
       "        \n",
       "\n",
       "        marker_c4db90ddd54c348434be61af3c26e206.bindPopup(popup_0b69ffc5dd012027cb51c3be6b2b5b86)\n",
       "        ;\n",
       "\n",
       "        \n",
       "    \n",
       "    \n",
       "            marker_c4db90ddd54c348434be61af3c26e206.bindTooltip(\n",
       "                `&lt;div&gt;\n",
       "                     ARCO IRIS\n",
       "                 &lt;/div&gt;`,\n",
       "                {&quot;sticky&quot;: true}\n",
       "            );\n",
       "        \n",
       "    \n",
       "            var marker_a0c5b990e4757b3b6704c866d1558cb6 = L.marker(\n",
       "                [-40.0676228293, -72.6179175677],\n",
       "                {}\n",
       "            ).addTo(map_edfb81fb8043a76798456157d9b063a4);\n",
       "        \n",
       "    \n",
       "            var icon_01eb5c1d810f9f5da8bd7c66fbad5e3b = L.AwesomeMarkers.icon(\n",
       "                {&quot;extraClasses&quot;: &quot;fa-rotate-0&quot;, &quot;icon&quot;: &quot;info-sign&quot;, &quot;iconColor&quot;: &quot;white&quot;, &quot;markerColor&quot;: &quot;green&quot;, &quot;prefix&quot;: &quot;glyphicon&quot;}\n",
       "            );\n",
       "            marker_a0c5b990e4757b3b6704c866d1558cb6.setIcon(icon_01eb5c1d810f9f5da8bd7c66fbad5e3b);\n",
       "        \n",
       "    \n",
       "        var popup_56ec3584e4d4df66008d61f5c55894b7 = L.popup({&quot;maxWidth&quot;: &quot;100%&quot;});\n",
       "\n",
       "        \n",
       "            var html_a7ba7365168862551945a0b769ac0415 = $(`&lt;div id=&quot;html_a7ba7365168862551945a0b769ac0415&quot; style=&quot;width: 100.0%; height: 100.0%;&quot;&gt;Punto&lt;/div&gt;`)[0];\n",
       "            popup_56ec3584e4d4df66008d61f5c55894b7.setContent(html_a7ba7365168862551945a0b769ac0415);\n",
       "        \n",
       "\n",
       "        marker_a0c5b990e4757b3b6704c866d1558cb6.bindPopup(popup_56ec3584e4d4df66008d61f5c55894b7)\n",
       "        ;\n",
       "\n",
       "        \n",
       "    \n",
       "    \n",
       "            marker_a0c5b990e4757b3b6704c866d1558cb6.bindTooltip(\n",
       "                `&lt;div&gt;\n",
       "                     EL LLOLLY\n",
       "                 &lt;/div&gt;`,\n",
       "                {&quot;sticky&quot;: true}\n",
       "            );\n",
       "        \n",
       "    \n",
       "            var marker_bb051a82d31301adb9898534682a3a0a = L.marker(\n",
       "                [-40.1515807831, -72.8962419781],\n",
       "                {}\n",
       "            ).addTo(map_edfb81fb8043a76798456157d9b063a4);\n",
       "        \n",
       "    \n",
       "            var icon_31e3b24c4dbe459828bf4dd46b096476 = L.AwesomeMarkers.icon(\n",
       "                {&quot;extraClasses&quot;: &quot;fa-rotate-0&quot;, &quot;icon&quot;: &quot;info-sign&quot;, &quot;iconColor&quot;: &quot;white&quot;, &quot;markerColor&quot;: &quot;red&quot;, &quot;prefix&quot;: &quot;glyphicon&quot;}\n",
       "            );\n",
       "            marker_bb051a82d31301adb9898534682a3a0a.setIcon(icon_31e3b24c4dbe459828bf4dd46b096476);\n",
       "        \n",
       "    \n",
       "        var popup_d5c9782c8af28122083d5227ed19438c = L.popup({&quot;maxWidth&quot;: &quot;100%&quot;});\n",
       "\n",
       "        \n",
       "            var html_b305a62d1d1d5711845d5e2eabf172d4 = $(`&lt;div id=&quot;html_b305a62d1d1d5711845d5e2eabf172d4&quot; style=&quot;width: 100.0%; height: 100.0%;&quot;&gt;Punto&lt;/div&gt;`)[0];\n",
       "            popup_d5c9782c8af28122083d5227ed19438c.setContent(html_b305a62d1d1d5711845d5e2eabf172d4);\n",
       "        \n",
       "\n",
       "        marker_bb051a82d31301adb9898534682a3a0a.bindPopup(popup_d5c9782c8af28122083d5227ed19438c)\n",
       "        ;\n",
       "\n",
       "        \n",
       "    \n",
       "    \n",
       "            marker_bb051a82d31301adb9898534682a3a0a.bindTooltip(\n",
       "                `&lt;div&gt;\n",
       "                     PICHIRROPULLI\n",
       "                 &lt;/div&gt;`,\n",
       "                {&quot;sticky&quot;: true}\n",
       "            );\n",
       "        \n",
       "    \n",
       "            var marker_5f16a51b92a0f21df8410616e0712832 = L.marker(\n",
       "                [-39.9784746305, -72.8320348617],\n",
       "                {}\n",
       "            ).addTo(map_edfb81fb8043a76798456157d9b063a4);\n",
       "        \n",
       "    \n",
       "            var icon_5cbdc2eb016da787290a6050012afe23 = L.AwesomeMarkers.icon(\n",
       "                {&quot;extraClasses&quot;: &quot;fa-rotate-0&quot;, &quot;icon&quot;: &quot;info-sign&quot;, &quot;iconColor&quot;: &quot;white&quot;, &quot;markerColor&quot;: &quot;red&quot;, &quot;prefix&quot;: &quot;glyphicon&quot;}\n",
       "            );\n",
       "            marker_5f16a51b92a0f21df8410616e0712832.setIcon(icon_5cbdc2eb016da787290a6050012afe23);\n",
       "        \n",
       "    \n",
       "        var popup_f238261228207b445ccd1b76498c0928 = L.popup({&quot;maxWidth&quot;: &quot;100%&quot;});\n",
       "\n",
       "        \n",
       "            var html_d72a533f080849d1b38e6c1bc208f2e0 = $(`&lt;div id=&quot;html_d72a533f080849d1b38e6c1bc208f2e0&quot; style=&quot;width: 100.0%; height: 100.0%;&quot;&gt;Punto&lt;/div&gt;`)[0];\n",
       "            popup_f238261228207b445ccd1b76498c0928.setContent(html_d72a533f080849d1b38e6c1bc208f2e0);\n",
       "        \n",
       "\n",
       "        marker_5f16a51b92a0f21df8410616e0712832.bindPopup(popup_f238261228207b445ccd1b76498c0928)\n",
       "        ;\n",
       "\n",
       "        \n",
       "    \n",
       "    \n",
       "            marker_5f16a51b92a0f21df8410616e0712832.bindTooltip(\n",
       "                `&lt;div&gt;\n",
       "                     REUMEN\n",
       "                 &lt;/div&gt;`,\n",
       "                {&quot;sticky&quot;: true}\n",
       "            );\n",
       "        \n",
       "    \n",
       "            var marker_60e45c24e4ad2a15413c07e800cc0638 = L.marker(\n",
       "                [-40.1233358588, -72.6748177353],\n",
       "                {}\n",
       "            ).addTo(map_edfb81fb8043a76798456157d9b063a4);\n",
       "        \n",
       "    \n",
       "            var icon_5860388a813ee3ea1bd69e0619cf45ca = L.AwesomeMarkers.icon(\n",
       "                {&quot;extraClasses&quot;: &quot;fa-rotate-0&quot;, &quot;icon&quot;: &quot;info-sign&quot;, &quot;iconColor&quot;: &quot;white&quot;, &quot;markerColor&quot;: &quot;green&quot;, &quot;prefix&quot;: &quot;glyphicon&quot;}\n",
       "            );\n",
       "            marker_60e45c24e4ad2a15413c07e800cc0638.setIcon(icon_5860388a813ee3ea1bd69e0619cf45ca);\n",
       "        \n",
       "    \n",
       "        var popup_278cb4332203c1dc0a12989693bd30e6 = L.popup({&quot;maxWidth&quot;: &quot;100%&quot;});\n",
       "\n",
       "        \n",
       "            var html_c3f3a2c7f1d8f9b18cc0d2ffc6f57c78 = $(`&lt;div id=&quot;html_c3f3a2c7f1d8f9b18cc0d2ffc6f57c78&quot; style=&quot;width: 100.0%; height: 100.0%;&quot;&gt;Punto&lt;/div&gt;`)[0];\n",
       "            popup_278cb4332203c1dc0a12989693bd30e6.setContent(html_c3f3a2c7f1d8f9b18cc0d2ffc6f57c78);\n",
       "        \n",
       "\n",
       "        marker_60e45c24e4ad2a15413c07e800cc0638.bindPopup(popup_278cb4332203c1dc0a12989693bd30e6)\n",
       "        ;\n",
       "\n",
       "        \n",
       "    \n",
       "    \n",
       "            marker_60e45c24e4ad2a15413c07e800cc0638.bindTooltip(\n",
       "                `&lt;div&gt;\n",
       "                     SANTA FILOMENA\n",
       "                 &lt;/div&gt;`,\n",
       "                {&quot;sticky&quot;: true}\n",
       "            );\n",
       "        \n",
       "    \n",
       "            var marker_2f19bbd8c1a95f87e19c75cfc7a474bb = L.marker(\n",
       "                [-40.0949272285, -72.8333381781],\n",
       "                {}\n",
       "            ).addTo(map_edfb81fb8043a76798456157d9b063a4);\n",
       "        \n",
       "    \n",
       "            var icon_dd63dbaae27e86ec9db49c2fd67b5792 = L.AwesomeMarkers.icon(\n",
       "                {&quot;extraClasses&quot;: &quot;fa-rotate-0&quot;, &quot;icon&quot;: &quot;info-sign&quot;, &quot;iconColor&quot;: &quot;white&quot;, &quot;markerColor&quot;: &quot;darkred&quot;, &quot;prefix&quot;: &quot;glyphicon&quot;}\n",
       "            );\n",
       "            marker_2f19bbd8c1a95f87e19c75cfc7a474bb.setIcon(icon_dd63dbaae27e86ec9db49c2fd67b5792);\n",
       "        \n",
       "    \n",
       "        var popup_4bd117411fac31f0b9d7f679c60fc75b = L.popup({&quot;maxWidth&quot;: &quot;100%&quot;});\n",
       "\n",
       "        \n",
       "            var html_ff22d642cae152fbfcbd37eb5fb7a0ff = $(`&lt;div id=&quot;html_ff22d642cae152fbfcbd37eb5fb7a0ff&quot; style=&quot;width: 100.0%; height: 100.0%;&quot;&gt;Punto&lt;/div&gt;`)[0];\n",
       "            popup_4bd117411fac31f0b9d7f679c60fc75b.setContent(html_ff22d642cae152fbfcbd37eb5fb7a0ff);\n",
       "        \n",
       "\n",
       "        marker_2f19bbd8c1a95f87e19c75cfc7a474bb.bindPopup(popup_4bd117411fac31f0b9d7f679c60fc75b)\n",
       "        ;\n",
       "\n",
       "        \n",
       "    \n",
       "    \n",
       "            marker_2f19bbd8c1a95f87e19c75cfc7a474bb.bindTooltip(\n",
       "                `&lt;div&gt;\n",
       "                     MANAO\n",
       "                 &lt;/div&gt;`,\n",
       "                {&quot;sticky&quot;: true}\n",
       "            );\n",
       "        \n",
       "    \n",
       "            var marker_ec7e4666e7eaff884f3246ff8dc29919 = L.marker(\n",
       "                [-40.1805296564, -72.5619049938],\n",
       "                {}\n",
       "            ).addTo(map_edfb81fb8043a76798456157d9b063a4);\n",
       "        \n",
       "    \n",
       "            var icon_6c999ef74afa118a80e8ae2bdd2b66db = L.AwesomeMarkers.icon(\n",
       "                {&quot;extraClasses&quot;: &quot;fa-rotate-0&quot;, &quot;icon&quot;: &quot;info-sign&quot;, &quot;iconColor&quot;: &quot;white&quot;, &quot;markerColor&quot;: &quot;green&quot;, &quot;prefix&quot;: &quot;glyphicon&quot;}\n",
       "            );\n",
       "            marker_ec7e4666e7eaff884f3246ff8dc29919.setIcon(icon_6c999ef74afa118a80e8ae2bdd2b66db);\n",
       "        \n",
       "    \n",
       "        var popup_97a12a4c74c022155e8e8ecd59af5e78 = L.popup({&quot;maxWidth&quot;: &quot;100%&quot;});\n",
       "\n",
       "        \n",
       "            var html_6dc0182ff4e319e851e5ca4a8fe0fd6c = $(`&lt;div id=&quot;html_6dc0182ff4e319e851e5ca4a8fe0fd6c&quot; style=&quot;width: 100.0%; height: 100.0%;&quot;&gt;Punto&lt;/div&gt;`)[0];\n",
       "            popup_97a12a4c74c022155e8e8ecd59af5e78.setContent(html_6dc0182ff4e319e851e5ca4a8fe0fd6c);\n",
       "        \n",
       "\n",
       "        marker_ec7e4666e7eaff884f3246ff8dc29919.bindPopup(popup_97a12a4c74c022155e8e8ecd59af5e78)\n",
       "        ;\n",
       "\n",
       "        \n",
       "    \n",
       "    \n",
       "            marker_ec7e4666e7eaff884f3246ff8dc29919.bindTooltip(\n",
       "                `&lt;div&gt;\n",
       "                     SANTA ROSA CHICA\n",
       "                 &lt;/div&gt;`,\n",
       "                {&quot;sticky&quot;: true}\n",
       "            );\n",
       "        \n",
       "    \n",
       "            var marker_7b127a86db57756734d89565f9047b5f = L.marker(\n",
       "                [-40.1380925113, -72.5825449417],\n",
       "                {}\n",
       "            ).addTo(map_edfb81fb8043a76798456157d9b063a4);\n",
       "        \n",
       "    \n",
       "            var icon_62ff741d3af1b224573b283519f5a322 = L.AwesomeMarkers.icon(\n",
       "                {&quot;extraClasses&quot;: &quot;fa-rotate-0&quot;, &quot;icon&quot;: &quot;info-sign&quot;, &quot;iconColor&quot;: &quot;white&quot;, &quot;markerColor&quot;: &quot;green&quot;, &quot;prefix&quot;: &quot;glyphicon&quot;}\n",
       "            );\n",
       "            marker_7b127a86db57756734d89565f9047b5f.setIcon(icon_62ff741d3af1b224573b283519f5a322);\n",
       "        \n",
       "    \n",
       "        var popup_a0091f0de575f7c3fa6da708d99a0cce = L.popup({&quot;maxWidth&quot;: &quot;100%&quot;});\n",
       "\n",
       "        \n",
       "            var html_2affdc2f1322355cd6cbef556dd2767f = $(`&lt;div id=&quot;html_2affdc2f1322355cd6cbef556dd2767f&quot; style=&quot;width: 100.0%; height: 100.0%;&quot;&gt;Punto&lt;/div&gt;`)[0];\n",
       "            popup_a0091f0de575f7c3fa6da708d99a0cce.setContent(html_2affdc2f1322355cd6cbef556dd2767f);\n",
       "        \n",
       "\n",
       "        marker_7b127a86db57756734d89565f9047b5f.bindPopup(popup_a0091f0de575f7c3fa6da708d99a0cce)\n",
       "        ;\n",
       "\n",
       "        \n",
       "    \n",
       "    \n",
       "            marker_7b127a86db57756734d89565f9047b5f.bindTooltip(\n",
       "                `&lt;div&gt;\n",
       "                     SANTA ROSA GRANDE\n",
       "                 &lt;/div&gt;`,\n",
       "                {&quot;sticky&quot;: true}\n",
       "            );\n",
       "        \n",
       "    \n",
       "            var marker_10812b3f099a183e845a757c0d74a34f = L.marker(\n",
       "                [-40.0154940534, -72.7914597178],\n",
       "                {}\n",
       "            ).addTo(map_edfb81fb8043a76798456157d9b063a4);\n",
       "        \n",
       "    \n",
       "            var icon_f5bb8172839a8821c727764fac04b8f2 = L.AwesomeMarkers.icon(\n",
       "                {&quot;extraClasses&quot;: &quot;fa-rotate-0&quot;, &quot;icon&quot;: &quot;info-sign&quot;, &quot;iconColor&quot;: &quot;white&quot;, &quot;markerColor&quot;: &quot;orange&quot;, &quot;prefix&quot;: &quot;glyphicon&quot;}\n",
       "            );\n",
       "            marker_10812b3f099a183e845a757c0d74a34f.setIcon(icon_f5bb8172839a8821c727764fac04b8f2);\n",
       "        \n",
       "    \n",
       "        var popup_34a045196b539d58d9a45a0d7fc2e849 = L.popup({&quot;maxWidth&quot;: &quot;100%&quot;});\n",
       "\n",
       "        \n",
       "            var html_2fdaf2bdea1f1d56c4c3bdc8bd811c9f = $(`&lt;div id=&quot;html_2fdaf2bdea1f1d56c4c3bdc8bd811c9f&quot; style=&quot;width: 100.0%; height: 100.0%;&quot;&gt;Punto&lt;/div&gt;`)[0];\n",
       "            popup_34a045196b539d58d9a45a0d7fc2e849.setContent(html_2fdaf2bdea1f1d56c4c3bdc8bd811c9f);\n",
       "        \n",
       "\n",
       "        marker_10812b3f099a183e845a757c0d74a34f.bindPopup(popup_34a045196b539d58d9a45a0d7fc2e849)\n",
       "        ;\n",
       "\n",
       "        \n",
       "    \n",
       "    \n",
       "            marker_10812b3f099a183e845a757c0d74a34f.bindTooltip(\n",
       "                `&lt;div&gt;\n",
       "                     LUMACO PAILLACO\n",
       "                 &lt;/div&gt;`,\n",
       "                {&quot;sticky&quot;: true}\n",
       "            );\n",
       "        \n",
       "    \n",
       "            var marker_db68ede9b12a3f6be945e7be0dcd42a4 = L.marker(\n",
       "                [-40.0746752187, -72.6747765849],\n",
       "                {}\n",
       "            ).addTo(map_edfb81fb8043a76798456157d9b063a4);\n",
       "        \n",
       "    \n",
       "            var icon_a8aa3708a78fc10c7ca06ce002900f8a = L.AwesomeMarkers.icon(\n",
       "                {&quot;extraClasses&quot;: &quot;fa-rotate-0&quot;, &quot;icon&quot;: &quot;info-sign&quot;, &quot;iconColor&quot;: &quot;white&quot;, &quot;markerColor&quot;: &quot;darkred&quot;, &quot;prefix&quot;: &quot;glyphicon&quot;}\n",
       "            );\n",
       "            marker_db68ede9b12a3f6be945e7be0dcd42a4.setIcon(icon_a8aa3708a78fc10c7ca06ce002900f8a);\n",
       "        \n",
       "    \n",
       "        var popup_67bee2ef60b955f43eb5625e006c3f3e = L.popup({&quot;maxWidth&quot;: &quot;100%&quot;});\n",
       "\n",
       "        \n",
       "            var html_5dc4fd81fffde4a4e512549707bd7cbe = $(`&lt;div id=&quot;html_5dc4fd81fffde4a4e512549707bd7cbe&quot; style=&quot;width: 100.0%; height: 100.0%;&quot;&gt;Punto&lt;/div&gt;`)[0];\n",
       "            popup_67bee2ef60b955f43eb5625e006c3f3e.setContent(html_5dc4fd81fffde4a4e512549707bd7cbe);\n",
       "        \n",
       "\n",
       "        marker_db68ede9b12a3f6be945e7be0dcd42a4.bindPopup(popup_67bee2ef60b955f43eb5625e006c3f3e)\n",
       "        ;\n",
       "\n",
       "        \n",
       "    \n",
       "    \n",
       "            marker_db68ede9b12a3f6be945e7be0dcd42a4.bindTooltip(\n",
       "                `&lt;div&gt;\n",
       "                     EL MAITEN\n",
       "                 &lt;/div&gt;`,\n",
       "                {&quot;sticky&quot;: true}\n",
       "            );\n",
       "        \n",
       "    \n",
       "            var marker_d19c7520f1c13c19014aa4102ab465a4 = L.marker(\n",
       "                [-40.1221748177, -72.6855485214],\n",
       "                {}\n",
       "            ).addTo(map_edfb81fb8043a76798456157d9b063a4);\n",
       "        \n",
       "    \n",
       "            var icon_c317c266e17478aa8a666c13d231da5b = L.AwesomeMarkers.icon(\n",
       "                {&quot;extraClasses&quot;: &quot;fa-rotate-0&quot;, &quot;icon&quot;: &quot;info-sign&quot;, &quot;iconColor&quot;: &quot;white&quot;, &quot;markerColor&quot;: &quot;darkred&quot;, &quot;prefix&quot;: &quot;glyphicon&quot;}\n",
       "            );\n",
       "            marker_d19c7520f1c13c19014aa4102ab465a4.setIcon(icon_c317c266e17478aa8a666c13d231da5b);\n",
       "        \n",
       "    \n",
       "        var popup_7dcac230ca1968649cdec335ffde9ce8 = L.popup({&quot;maxWidth&quot;: &quot;100%&quot;});\n",
       "\n",
       "        \n",
       "            var html_3e59ae4a01c6a5e0a6515c95c84d3c55 = $(`&lt;div id=&quot;html_3e59ae4a01c6a5e0a6515c95c84d3c55&quot; style=&quot;width: 100.0%; height: 100.0%;&quot;&gt;Punto&lt;/div&gt;`)[0];\n",
       "            popup_7dcac230ca1968649cdec335ffde9ce8.setContent(html_3e59ae4a01c6a5e0a6515c95c84d3c55);\n",
       "        \n",
       "\n",
       "        marker_d19c7520f1c13c19014aa4102ab465a4.bindPopup(popup_7dcac230ca1968649cdec335ffde9ce8)\n",
       "        ;\n",
       "\n",
       "        \n",
       "    \n",
       "    \n",
       "            marker_d19c7520f1c13c19014aa4102ab465a4.bindTooltip(\n",
       "                `&lt;div&gt;\n",
       "                     SANTA FILOMENA II\n",
       "                 &lt;/div&gt;`,\n",
       "                {&quot;sticky&quot;: true}\n",
       "            );\n",
       "        \n",
       "    \n",
       "            var marker_2615751469221bc3c080c71ba150b123 = L.marker(\n",
       "                [-39.8074856345, -72.9572455712],\n",
       "                {}\n",
       "            ).addTo(map_edfb81fb8043a76798456157d9b063a4);\n",
       "        \n",
       "    \n",
       "            var icon_5ef9fa92e1d6b392c6adcd7372cc6424 = L.AwesomeMarkers.icon(\n",
       "                {&quot;extraClasses&quot;: &quot;fa-rotate-0&quot;, &quot;icon&quot;: &quot;info-sign&quot;, &quot;iconColor&quot;: &quot;white&quot;, &quot;markerColor&quot;: &quot;red&quot;, &quot;prefix&quot;: &quot;glyphicon&quot;}\n",
       "            );\n",
       "            marker_2615751469221bc3c080c71ba150b123.setIcon(icon_5ef9fa92e1d6b392c6adcd7372cc6424);\n",
       "        \n",
       "    \n",
       "        var popup_41d7759654e8076f86439861db9df298 = L.popup({&quot;maxWidth&quot;: &quot;100%&quot;});\n",
       "\n",
       "        \n",
       "            var html_f55a9f4f515a63c9d110707b9d36e4c1 = $(`&lt;div id=&quot;html_f55a9f4f515a63c9d110707b9d36e4c1&quot; style=&quot;width: 100.0%; height: 100.0%;&quot;&gt;Punto&lt;/div&gt;`)[0];\n",
       "            popup_41d7759654e8076f86439861db9df298.setContent(html_f55a9f4f515a63c9d110707b9d36e4c1);\n",
       "        \n",
       "\n",
       "        marker_2615751469221bc3c080c71ba150b123.bindPopup(popup_41d7759654e8076f86439861db9df298)\n",
       "        ;\n",
       "\n",
       "        \n",
       "    \n",
       "    \n",
       "            marker_2615751469221bc3c080c71ba150b123.bindTooltip(\n",
       "                `&lt;div&gt;\n",
       "                     ANTILHUE\n",
       "                 &lt;/div&gt;`,\n",
       "                {&quot;sticky&quot;: true}\n",
       "            );\n",
       "        \n",
       "    \n",
       "            var marker_207278fcb1be8ea95dd608c4f72cc6eb = L.marker(\n",
       "                [-39.8710682914, -72.6678013129],\n",
       "                {}\n",
       "            ).addTo(map_edfb81fb8043a76798456157d9b063a4);\n",
       "        \n",
       "    \n",
       "            var icon_999b4064fa22b73e20e7db6e3e649423 = L.AwesomeMarkers.icon(\n",
       "                {&quot;extraClasses&quot;: &quot;fa-rotate-0&quot;, &quot;icon&quot;: &quot;info-sign&quot;, &quot;iconColor&quot;: &quot;white&quot;, &quot;markerColor&quot;: &quot;green&quot;, &quot;prefix&quot;: &quot;glyphicon&quot;}\n",
       "            );\n",
       "            marker_207278fcb1be8ea95dd608c4f72cc6eb.setIcon(icon_999b4064fa22b73e20e7db6e3e649423);\n",
       "        \n",
       "    \n",
       "        var popup_b03116dd4f16e099b80e90fefbf357cb = L.popup({&quot;maxWidth&quot;: &quot;100%&quot;});\n",
       "\n",
       "        \n",
       "            var html_7b807167c6163817ff69edb633da6fa1 = $(`&lt;div id=&quot;html_7b807167c6163817ff69edb633da6fa1&quot; style=&quot;width: 100.0%; height: 100.0%;&quot;&gt;Punto&lt;/div&gt;`)[0];\n",
       "            popup_b03116dd4f16e099b80e90fefbf357cb.setContent(html_7b807167c6163817ff69edb633da6fa1);\n",
       "        \n",
       "\n",
       "        marker_207278fcb1be8ea95dd608c4f72cc6eb.bindPopup(popup_b03116dd4f16e099b80e90fefbf357cb)\n",
       "        ;\n",
       "\n",
       "        \n",
       "    \n",
       "    \n",
       "            marker_207278fcb1be8ea95dd608c4f72cc6eb.bindTooltip(\n",
       "                `&lt;div&gt;\n",
       "                     FOLILCO LOS LAGOS\n",
       "                 &lt;/div&gt;`,\n",
       "                {&quot;sticky&quot;: true}\n",
       "            );\n",
       "        \n",
       "    \n",
       "            var marker_de8a2860430ae613aa95a02244f1ebf3 = L.marker(\n",
       "                [-39.9084433218, -72.5733916686],\n",
       "                {}\n",
       "            ).addTo(map_edfb81fb8043a76798456157d9b063a4);\n",
       "        \n",
       "    \n",
       "            var icon_7d3c87a9210a8a57c421d8c494082b8e = L.AwesomeMarkers.icon(\n",
       "                {&quot;extraClasses&quot;: &quot;fa-rotate-0&quot;, &quot;icon&quot;: &quot;info-sign&quot;, &quot;iconColor&quot;: &quot;white&quot;, &quot;markerColor&quot;: &quot;darkred&quot;, &quot;prefix&quot;: &quot;glyphicon&quot;}\n",
       "            );\n",
       "            marker_de8a2860430ae613aa95a02244f1ebf3.setIcon(icon_7d3c87a9210a8a57c421d8c494082b8e);\n",
       "        \n",
       "    \n",
       "        var popup_3b46c82dca5d6e42f246d284095e93e6 = L.popup({&quot;maxWidth&quot;: &quot;100%&quot;});\n",
       "\n",
       "        \n",
       "            var html_e3aeabb21248893b840ee171f20c2d39 = $(`&lt;div id=&quot;html_e3aeabb21248893b840ee171f20c2d39&quot; style=&quot;width: 100.0%; height: 100.0%;&quot;&gt;Punto&lt;/div&gt;`)[0];\n",
       "            popup_3b46c82dca5d6e42f246d284095e93e6.setContent(html_e3aeabb21248893b840ee171f20c2d39);\n",
       "        \n",
       "\n",
       "        marker_de8a2860430ae613aa95a02244f1ebf3.bindPopup(popup_3b46c82dca5d6e42f246d284095e93e6)\n",
       "        ;\n",
       "\n",
       "        \n",
       "    \n",
       "    \n",
       "            marker_de8a2860430ae613aa95a02244f1ebf3.bindTooltip(\n",
       "                `&lt;div&gt;\n",
       "                     QUILQUILCO\n",
       "                 &lt;/div&gt;`,\n",
       "                {&quot;sticky&quot;: true}\n",
       "            );\n",
       "        \n",
       "    \n",
       "            var marker_11180018db442c45953ac62cd17d2a04 = L.marker(\n",
       "                [-39.8171126188, -72.4425065285],\n",
       "                {}\n",
       "            ).addTo(map_edfb81fb8043a76798456157d9b063a4);\n",
       "        \n",
       "    \n",
       "            var icon_d09b889b198ea8c71471fcdf6ca9f759 = L.AwesomeMarkers.icon(\n",
       "                {&quot;extraClasses&quot;: &quot;fa-rotate-0&quot;, &quot;icon&quot;: &quot;info-sign&quot;, &quot;iconColor&quot;: &quot;white&quot;, &quot;markerColor&quot;: &quot;darkred&quot;, &quot;prefix&quot;: &quot;glyphicon&quot;}\n",
       "            );\n",
       "            marker_11180018db442c45953ac62cd17d2a04.setIcon(icon_d09b889b198ea8c71471fcdf6ca9f759);\n",
       "        \n",
       "    \n",
       "        var popup_4603c9202c555daa09b5f8e98f3964fa = L.popup({&quot;maxWidth&quot;: &quot;100%&quot;});\n",
       "\n",
       "        \n",
       "            var html_acc43eddcf179259d42f56be7fd3755b = $(`&lt;div id=&quot;html_acc43eddcf179259d42f56be7fd3755b&quot; style=&quot;width: 100.0%; height: 100.0%;&quot;&gt;Punto&lt;/div&gt;`)[0];\n",
       "            popup_4603c9202c555daa09b5f8e98f3964fa.setContent(html_acc43eddcf179259d42f56be7fd3755b);\n",
       "        \n",
       "\n",
       "        marker_11180018db442c45953ac62cd17d2a04.bindPopup(popup_4603c9202c555daa09b5f8e98f3964fa)\n",
       "        ;\n",
       "\n",
       "        \n",
       "    \n",
       "    \n",
       "            marker_11180018db442c45953ac62cd17d2a04.bindTooltip(\n",
       "                `&lt;div&gt;\n",
       "                     RIÑIHUE\n",
       "                 &lt;/div&gt;`,\n",
       "                {&quot;sticky&quot;: true}\n",
       "            );\n",
       "        \n",
       "    \n",
       "            var marker_a86ba682633fdc866216c245b76bc92c = L.marker(\n",
       "                [-39.7751787818, -72.6519491619],\n",
       "                {}\n",
       "            ).addTo(map_edfb81fb8043a76798456157d9b063a4);\n",
       "        \n",
       "    \n",
       "            var icon_c8c13bba3e7a9b9d18fa413415a24038 = L.AwesomeMarkers.icon(\n",
       "                {&quot;extraClasses&quot;: &quot;fa-rotate-0&quot;, &quot;icon&quot;: &quot;info-sign&quot;, &quot;iconColor&quot;: &quot;white&quot;, &quot;markerColor&quot;: &quot;green&quot;, &quot;prefix&quot;: &quot;glyphicon&quot;}\n",
       "            );\n",
       "            marker_a86ba682633fdc866216c245b76bc92c.setIcon(icon_c8c13bba3e7a9b9d18fa413415a24038);\n",
       "        \n",
       "    \n",
       "        var popup_457126ff61755da846a4924a8a96e56b = L.popup({&quot;maxWidth&quot;: &quot;100%&quot;});\n",
       "\n",
       "        \n",
       "            var html_65287b111108f413e01461390eea22f5 = $(`&lt;div id=&quot;html_65287b111108f413e01461390eea22f5&quot; style=&quot;width: 100.0%; height: 100.0%;&quot;&gt;Punto&lt;/div&gt;`)[0];\n",
       "            popup_457126ff61755da846a4924a8a96e56b.setContent(html_65287b111108f413e01461390eea22f5);\n",
       "        \n",
       "\n",
       "        marker_a86ba682633fdc866216c245b76bc92c.bindPopup(popup_457126ff61755da846a4924a8a96e56b)\n",
       "        ;\n",
       "\n",
       "        \n",
       "    \n",
       "    \n",
       "            marker_a86ba682633fdc866216c245b76bc92c.bindTooltip(\n",
       "                `&lt;div&gt;\n",
       "                     USTARITZ\n",
       "                 &lt;/div&gt;`,\n",
       "                {&quot;sticky&quot;: true}\n",
       "            );\n",
       "        \n",
       "    \n",
       "            var marker_bb270b6fdb544ddeb458bbe50af05050 = L.marker(\n",
       "                [-39.9987530843, -72.7108188025],\n",
       "                {}\n",
       "            ).addTo(map_edfb81fb8043a76798456157d9b063a4);\n",
       "        \n",
       "    \n",
       "            var icon_5930501786a725541a5e2e19ce842757 = L.AwesomeMarkers.icon(\n",
       "                {&quot;extraClasses&quot;: &quot;fa-rotate-0&quot;, &quot;icon&quot;: &quot;info-sign&quot;, &quot;iconColor&quot;: &quot;white&quot;, &quot;markerColor&quot;: &quot;orange&quot;, &quot;prefix&quot;: &quot;glyphicon&quot;}\n",
       "            );\n",
       "            marker_bb270b6fdb544ddeb458bbe50af05050.setIcon(icon_5930501786a725541a5e2e19ce842757);\n",
       "        \n",
       "    \n",
       "        var popup_177704f3e83cc5358c7ae1b26938bb2a = L.popup({&quot;maxWidth&quot;: &quot;100%&quot;});\n",
       "\n",
       "        \n",
       "            var html_2cb5c3fdf6976b1b62069013f4d9e5fc = $(`&lt;div id=&quot;html_2cb5c3fdf6976b1b62069013f4d9e5fc&quot; style=&quot;width: 100.0%; height: 100.0%;&quot;&gt;Punto&lt;/div&gt;`)[0];\n",
       "            popup_177704f3e83cc5358c7ae1b26938bb2a.setContent(html_2cb5c3fdf6976b1b62069013f4d9e5fc);\n",
       "        \n",
       "\n",
       "        marker_bb270b6fdb544ddeb458bbe50af05050.bindPopup(popup_177704f3e83cc5358c7ae1b26938bb2a)\n",
       "        ;\n",
       "\n",
       "        \n",
       "    \n",
       "    \n",
       "            marker_bb270b6fdb544ddeb458bbe50af05050.bindTooltip(\n",
       "                `&lt;div&gt;\n",
       "                     EL SALTO\n",
       "                 &lt;/div&gt;`,\n",
       "                {&quot;sticky&quot;: true}\n",
       "            );\n",
       "        \n",
       "    \n",
       "            var marker_00fd78302c65b5267556dddbc32bb0b0 = L.marker(\n",
       "                [-40.0154665081, -72.5215180883],\n",
       "                {}\n",
       "            ).addTo(map_edfb81fb8043a76798456157d9b063a4);\n",
       "        \n",
       "    \n",
       "            var icon_99572d0c0c9ceb86912c7a4c69b7f089 = L.AwesomeMarkers.icon(\n",
       "                {&quot;extraClasses&quot;: &quot;fa-rotate-0&quot;, &quot;icon&quot;: &quot;info-sign&quot;, &quot;iconColor&quot;: &quot;white&quot;, &quot;markerColor&quot;: &quot;green&quot;, &quot;prefix&quot;: &quot;glyphicon&quot;}\n",
       "            );\n",
       "            marker_00fd78302c65b5267556dddbc32bb0b0.setIcon(icon_99572d0c0c9ceb86912c7a4c69b7f089);\n",
       "        \n",
       "    \n",
       "        var popup_7486c790e852807b18d20c8b3d603407 = L.popup({&quot;maxWidth&quot;: &quot;100%&quot;});\n",
       "\n",
       "        \n",
       "            var html_d18ff0dc253559927e015bd7b2b5480e = $(`&lt;div id=&quot;html_d18ff0dc253559927e015bd7b2b5480e&quot; style=&quot;width: 100.0%; height: 100.0%;&quot;&gt;Punto&lt;/div&gt;`)[0];\n",
       "            popup_7486c790e852807b18d20c8b3d603407.setContent(html_d18ff0dc253559927e015bd7b2b5480e);\n",
       "        \n",
       "\n",
       "        marker_00fd78302c65b5267556dddbc32bb0b0.bindPopup(popup_7486c790e852807b18d20c8b3d603407)\n",
       "        ;\n",
       "\n",
       "        \n",
       "    \n",
       "    \n",
       "            marker_00fd78302c65b5267556dddbc32bb0b0.bindTooltip(\n",
       "                `&lt;div&gt;\n",
       "                     PELLINADA LAS QUINIENTAS\n",
       "                 &lt;/div&gt;`,\n",
       "                {&quot;sticky&quot;: true}\n",
       "            );\n",
       "        \n",
       "    \n",
       "            var marker_14d4f4364ef49a6d353bb33384a6704a = L.marker(\n",
       "                [-39.8526730412, -72.7929315347],\n",
       "                {}\n",
       "            ).addTo(map_edfb81fb8043a76798456157d9b063a4);\n",
       "        \n",
       "    \n",
       "            var icon_3a4d26c80c0c1ab88f8e3afb6e2b9f14 = L.AwesomeMarkers.icon(\n",
       "                {&quot;extraClasses&quot;: &quot;fa-rotate-0&quot;, &quot;icon&quot;: &quot;info-sign&quot;, &quot;iconColor&quot;: &quot;white&quot;, &quot;markerColor&quot;: &quot;orange&quot;, &quot;prefix&quot;: &quot;glyphicon&quot;}\n",
       "            );\n",
       "            marker_14d4f4364ef49a6d353bb33384a6704a.setIcon(icon_3a4d26c80c0c1ab88f8e3afb6e2b9f14);\n",
       "        \n",
       "    \n",
       "        var popup_b0fab364748d22b6e4f4bf7686dd2f03 = L.popup({&quot;maxWidth&quot;: &quot;100%&quot;});\n",
       "\n",
       "        \n",
       "            var html_c96d7a4881a821381a4b8b445372ecf0 = $(`&lt;div id=&quot;html_c96d7a4881a821381a4b8b445372ecf0&quot; style=&quot;width: 100.0%; height: 100.0%;&quot;&gt;Punto&lt;/div&gt;`)[0];\n",
       "            popup_b0fab364748d22b6e4f4bf7686dd2f03.setContent(html_c96d7a4881a821381a4b8b445372ecf0);\n",
       "        \n",
       "\n",
       "        marker_14d4f4364ef49a6d353bb33384a6704a.bindPopup(popup_b0fab364748d22b6e4f4bf7686dd2f03)\n",
       "        ;\n",
       "\n",
       "        \n",
       "    \n",
       "    \n",
       "            marker_14d4f4364ef49a6d353bb33384a6704a.bindTooltip(\n",
       "                `&lt;div&gt;\n",
       "                     PANCUL\n",
       "                 &lt;/div&gt;`,\n",
       "                {&quot;sticky&quot;: true}\n",
       "            );\n",
       "        \n",
       "    \n",
       "            var marker_6b4e158cc4522705ffe6a5ddf992faa9 = L.marker(\n",
       "                [-39.8705154943, -72.781619174],\n",
       "                {}\n",
       "            ).addTo(map_edfb81fb8043a76798456157d9b063a4);\n",
       "        \n",
       "    \n",
       "            var icon_75ac39936b3e3458136377c07e236a5f = L.AwesomeMarkers.icon(\n",
       "                {&quot;extraClasses&quot;: &quot;fa-rotate-0&quot;, &quot;icon&quot;: &quot;info-sign&quot;, &quot;iconColor&quot;: &quot;white&quot;, &quot;markerColor&quot;: &quot;green&quot;, &quot;prefix&quot;: &quot;glyphicon&quot;}\n",
       "            );\n",
       "            marker_6b4e158cc4522705ffe6a5ddf992faa9.setIcon(icon_75ac39936b3e3458136377c07e236a5f);\n",
       "        \n",
       "    \n",
       "        var popup_6de342d29ee66ff834ad38bc838c7fe7 = L.popup({&quot;maxWidth&quot;: &quot;100%&quot;});\n",
       "\n",
       "        \n",
       "            var html_3dc7db39cfc29a5da8aa58554bcb6ff9 = $(`&lt;div id=&quot;html_3dc7db39cfc29a5da8aa58554bcb6ff9&quot; style=&quot;width: 100.0%; height: 100.0%;&quot;&gt;Punto&lt;/div&gt;`)[0];\n",
       "            popup_6de342d29ee66ff834ad38bc838c7fe7.setContent(html_3dc7db39cfc29a5da8aa58554bcb6ff9);\n",
       "        \n",
       "\n",
       "        marker_6b4e158cc4522705ffe6a5ddf992faa9.bindPopup(popup_6de342d29ee66ff834ad38bc838c7fe7)\n",
       "        ;\n",
       "\n",
       "        \n",
       "    \n",
       "    \n",
       "            marker_6b4e158cc4522705ffe6a5ddf992faa9.bindTooltip(\n",
       "                `&lt;div&gt;\n",
       "                     LOS COLIGÜES\n",
       "                 &lt;/div&gt;`,\n",
       "                {&quot;sticky&quot;: true}\n",
       "            );\n",
       "        \n",
       "    \n",
       "            var marker_98e57daeda015928248af19950d9dade = L.marker(\n",
       "                [-39.8817714432, -72.6708273322],\n",
       "                {}\n",
       "            ).addTo(map_edfb81fb8043a76798456157d9b063a4);\n",
       "        \n",
       "    \n",
       "            var icon_25248a7147a2c150e715930cd6397be3 = L.AwesomeMarkers.icon(\n",
       "                {&quot;extraClasses&quot;: &quot;fa-rotate-0&quot;, &quot;icon&quot;: &quot;info-sign&quot;, &quot;iconColor&quot;: &quot;white&quot;, &quot;markerColor&quot;: &quot;darkred&quot;, &quot;prefix&quot;: &quot;glyphicon&quot;}\n",
       "            );\n",
       "            marker_98e57daeda015928248af19950d9dade.setIcon(icon_25248a7147a2c150e715930cd6397be3);\n",
       "        \n",
       "    \n",
       "        var popup_e9b5015d1be7e767185be75f90771d95 = L.popup({&quot;maxWidth&quot;: &quot;100%&quot;});\n",
       "\n",
       "        \n",
       "            var html_401d8c85da15a8417f2ec07e1a567ab3 = $(`&lt;div id=&quot;html_401d8c85da15a8417f2ec07e1a567ab3&quot; style=&quot;width: 100.0%; height: 100.0%;&quot;&gt;Punto&lt;/div&gt;`)[0];\n",
       "            popup_e9b5015d1be7e767185be75f90771d95.setContent(html_401d8c85da15a8417f2ec07e1a567ab3);\n",
       "        \n",
       "\n",
       "        marker_98e57daeda015928248af19950d9dade.bindPopup(popup_e9b5015d1be7e767185be75f90771d95)\n",
       "        ;\n",
       "\n",
       "        \n",
       "    \n",
       "    \n",
       "            marker_98e57daeda015928248af19950d9dade.bindTooltip(\n",
       "                `&lt;div&gt;\n",
       "                     COLO COLO\n",
       "                 &lt;/div&gt;`,\n",
       "                {&quot;sticky&quot;: true}\n",
       "            );\n",
       "        \n",
       "    \n",
       "            var marker_20de66f285af1f1adbf8a1f0ef5205c2 = L.marker(\n",
       "                [-39.9027809062, -72.5930946759],\n",
       "                {}\n",
       "            ).addTo(map_edfb81fb8043a76798456157d9b063a4);\n",
       "        \n",
       "    \n",
       "            var icon_9d91a28bf609ac2a6979480c685a534e = L.AwesomeMarkers.icon(\n",
       "                {&quot;extraClasses&quot;: &quot;fa-rotate-0&quot;, &quot;icon&quot;: &quot;info-sign&quot;, &quot;iconColor&quot;: &quot;white&quot;, &quot;markerColor&quot;: &quot;darkred&quot;, &quot;prefix&quot;: &quot;glyphicon&quot;}\n",
       "            );\n",
       "            marker_20de66f285af1f1adbf8a1f0ef5205c2.setIcon(icon_9d91a28bf609ac2a6979480c685a534e);\n",
       "        \n",
       "    \n",
       "        var popup_e06fbf1bbeac1365ea101b82c993d128 = L.popup({&quot;maxWidth&quot;: &quot;100%&quot;});\n",
       "\n",
       "        \n",
       "            var html_8160f43b8c9ebf4d945ea70e94d9a11f = $(`&lt;div id=&quot;html_8160f43b8c9ebf4d945ea70e94d9a11f&quot; style=&quot;width: 100.0%; height: 100.0%;&quot;&gt;Punto&lt;/div&gt;`)[0];\n",
       "            popup_e06fbf1bbeac1365ea101b82c993d128.setContent(html_8160f43b8c9ebf4d945ea70e94d9a11f);\n",
       "        \n",
       "\n",
       "        marker_20de66f285af1f1adbf8a1f0ef5205c2.bindPopup(popup_e06fbf1bbeac1365ea101b82c993d128)\n",
       "        ;\n",
       "\n",
       "        \n",
       "    \n",
       "    \n",
       "            marker_20de66f285af1f1adbf8a1f0ef5205c2.bindTooltip(\n",
       "                `&lt;div&gt;\n",
       "                     LAS HUELLLAS\n",
       "                 &lt;/div&gt;`,\n",
       "                {&quot;sticky&quot;: true}\n",
       "            );\n",
       "        \n",
       "    \n",
       "            var marker_1489b5f5baee516705ca84494781d9c6 = L.marker(\n",
       "                [-39.8171525324, -72.6981700465],\n",
       "                {}\n",
       "            ).addTo(map_edfb81fb8043a76798456157d9b063a4);\n",
       "        \n",
       "    \n",
       "            var icon_908eadc48ef4de735b57ab1c8e42cb6c = L.AwesomeMarkers.icon(\n",
       "                {&quot;extraClasses&quot;: &quot;fa-rotate-0&quot;, &quot;icon&quot;: &quot;info-sign&quot;, &quot;iconColor&quot;: &quot;white&quot;, &quot;markerColor&quot;: &quot;green&quot;, &quot;prefix&quot;: &quot;glyphicon&quot;}\n",
       "            );\n",
       "            marker_1489b5f5baee516705ca84494781d9c6.setIcon(icon_908eadc48ef4de735b57ab1c8e42cb6c);\n",
       "        \n",
       "    \n",
       "        var popup_dcccbc96edda359f2afa34ea1d170b31 = L.popup({&quot;maxWidth&quot;: &quot;100%&quot;});\n",
       "\n",
       "        \n",
       "            var html_99171b816609d868113420162578e9fc = $(`&lt;div id=&quot;html_99171b816609d868113420162578e9fc&quot; style=&quot;width: 100.0%; height: 100.0%;&quot;&gt;Punto&lt;/div&gt;`)[0];\n",
       "            popup_dcccbc96edda359f2afa34ea1d170b31.setContent(html_99171b816609d868113420162578e9fc);\n",
       "        \n",
       "\n",
       "        marker_1489b5f5baee516705ca84494781d9c6.bindPopup(popup_dcccbc96edda359f2afa34ea1d170b31)\n",
       "        ;\n",
       "\n",
       "        \n",
       "    \n",
       "    \n",
       "            marker_1489b5f5baee516705ca84494781d9c6.bindTooltip(\n",
       "                `&lt;div&gt;\n",
       "                     San Pedro\n",
       "                 &lt;/div&gt;`,\n",
       "                {&quot;sticky&quot;: true}\n",
       "            );\n",
       "        \n",
       "    \n",
       "            var marker_73fd3114c77431b8bd8ddded6a88a10d = L.marker(\n",
       "                [-39.9151109593, -72.78974687],\n",
       "                {}\n",
       "            ).addTo(map_edfb81fb8043a76798456157d9b063a4);\n",
       "        \n",
       "    \n",
       "            var icon_93a8b606513f20b107c59b01eafba2f9 = L.AwesomeMarkers.icon(\n",
       "                {&quot;extraClasses&quot;: &quot;fa-rotate-0&quot;, &quot;icon&quot;: &quot;info-sign&quot;, &quot;iconColor&quot;: &quot;white&quot;, &quot;markerColor&quot;: &quot;green&quot;, &quot;prefix&quot;: &quot;glyphicon&quot;}\n",
       "            );\n",
       "            marker_73fd3114c77431b8bd8ddded6a88a10d.setIcon(icon_93a8b606513f20b107c59b01eafba2f9);\n",
       "        \n",
       "    \n",
       "        var popup_9f928723e70feb24d45ce3ae524c6f90 = L.popup({&quot;maxWidth&quot;: &quot;100%&quot;});\n",
       "\n",
       "        \n",
       "            var html_d0f50390d6f885f3ec249637f3ed2e15 = $(`&lt;div id=&quot;html_d0f50390d6f885f3ec249637f3ed2e15&quot; style=&quot;width: 100.0%; height: 100.0%;&quot;&gt;Punto&lt;/div&gt;`)[0];\n",
       "            popup_9f928723e70feb24d45ce3ae524c6f90.setContent(html_d0f50390d6f885f3ec249637f3ed2e15);\n",
       "        \n",
       "\n",
       "        marker_73fd3114c77431b8bd8ddded6a88a10d.bindPopup(popup_9f928723e70feb24d45ce3ae524c6f90)\n",
       "        ;\n",
       "\n",
       "        \n",
       "    \n",
       "    \n",
       "            marker_73fd3114c77431b8bd8ddded6a88a10d.bindTooltip(\n",
       "                `&lt;div&gt;\n",
       "                     Lipingue\n",
       "                 &lt;/div&gt;`,\n",
       "                {&quot;sticky&quot;: true}\n",
       "            );\n",
       "        \n",
       "    \n",
       "            var marker_48bc53d48a519ff70b0a7987fa1a64c3 = L.marker(\n",
       "                [-39.9809683663, -72.7929665382],\n",
       "                {}\n",
       "            ).addTo(map_edfb81fb8043a76798456157d9b063a4);\n",
       "        \n",
       "    \n",
       "            var icon_1c9b8f7d8f782860adbff0c9c5928a30 = L.AwesomeMarkers.icon(\n",
       "                {&quot;extraClasses&quot;: &quot;fa-rotate-0&quot;, &quot;icon&quot;: &quot;info-sign&quot;, &quot;iconColor&quot;: &quot;white&quot;, &quot;markerColor&quot;: &quot;darkred&quot;, &quot;prefix&quot;: &quot;glyphicon&quot;}\n",
       "            );\n",
       "            marker_48bc53d48a519ff70b0a7987fa1a64c3.setIcon(icon_1c9b8f7d8f782860adbff0c9c5928a30);\n",
       "        \n",
       "    \n",
       "        var popup_3d5ce840f9d5c32a9c825a0ad98f3741 = L.popup({&quot;maxWidth&quot;: &quot;100%&quot;});\n",
       "\n",
       "        \n",
       "            var html_d5b9006ddc50d517a8af285182ea6238 = $(`&lt;div id=&quot;html_d5b9006ddc50d517a8af285182ea6238&quot; style=&quot;width: 100.0%; height: 100.0%;&quot;&gt;Punto&lt;/div&gt;`)[0];\n",
       "            popup_3d5ce840f9d5c32a9c825a0ad98f3741.setContent(html_d5b9006ddc50d517a8af285182ea6238);\n",
       "        \n",
       "\n",
       "        marker_48bc53d48a519ff70b0a7987fa1a64c3.bindPopup(popup_3d5ce840f9d5c32a9c825a0ad98f3741)\n",
       "        ;\n",
       "\n",
       "        \n",
       "    \n",
       "    \n",
       "            marker_48bc53d48a519ff70b0a7987fa1a64c3.bindTooltip(\n",
       "                `&lt;div&gt;\n",
       "                     El Trebol\n",
       "                 &lt;/div&gt;`,\n",
       "                {&quot;sticky&quot;: true}\n",
       "            );\n",
       "        \n",
       "    \n",
       "            var marker_7c1d9be9b4fabcca49a2b010e79353f4 = L.marker(\n",
       "                [-39.891383155, -72.7942956633],\n",
       "                {}\n",
       "            ).addTo(map_edfb81fb8043a76798456157d9b063a4);\n",
       "        \n",
       "    \n",
       "            var icon_e3cce486d5c862d7098a6cd4ecfd56f0 = L.AwesomeMarkers.icon(\n",
       "                {&quot;extraClasses&quot;: &quot;fa-rotate-0&quot;, &quot;icon&quot;: &quot;info-sign&quot;, &quot;iconColor&quot;: &quot;white&quot;, &quot;markerColor&quot;: &quot;darkred&quot;, &quot;prefix&quot;: &quot;glyphicon&quot;}\n",
       "            );\n",
       "            marker_7c1d9be9b4fabcca49a2b010e79353f4.setIcon(icon_e3cce486d5c862d7098a6cd4ecfd56f0);\n",
       "        \n",
       "    \n",
       "        var popup_257ccfff46bed0cfa8aa7517431e2bf2 = L.popup({&quot;maxWidth&quot;: &quot;100%&quot;});\n",
       "\n",
       "        \n",
       "            var html_a111dcc8debfae39861278c65df8a5c6 = $(`&lt;div id=&quot;html_a111dcc8debfae39861278c65df8a5c6&quot; style=&quot;width: 100.0%; height: 100.0%;&quot;&gt;Punto&lt;/div&gt;`)[0];\n",
       "            popup_257ccfff46bed0cfa8aa7517431e2bf2.setContent(html_a111dcc8debfae39861278c65df8a5c6);\n",
       "        \n",
       "\n",
       "        marker_7c1d9be9b4fabcca49a2b010e79353f4.bindPopup(popup_257ccfff46bed0cfa8aa7517431e2bf2)\n",
       "        ;\n",
       "\n",
       "        \n",
       "    \n",
       "    \n",
       "            marker_7c1d9be9b4fabcca49a2b010e79353f4.bindTooltip(\n",
       "                `&lt;div&gt;\n",
       "                     Collico Sur\n",
       "                 &lt;/div&gt;`,\n",
       "                {&quot;sticky&quot;: true}\n",
       "            );\n",
       "        \n",
       "    \n",
       "            var marker_132f9c69230c0da0739bca1cd7118952 = L.marker(\n",
       "                [-39.854954476, -72.6609940373],\n",
       "                {}\n",
       "            ).addTo(map_edfb81fb8043a76798456157d9b063a4);\n",
       "        \n",
       "    \n",
       "            var icon_a86a192c266e6d51037efc0d99283a66 = L.AwesomeMarkers.icon(\n",
       "                {&quot;extraClasses&quot;: &quot;fa-rotate-0&quot;, &quot;icon&quot;: &quot;info-sign&quot;, &quot;iconColor&quot;: &quot;white&quot;, &quot;markerColor&quot;: &quot;darkred&quot;, &quot;prefix&quot;: &quot;glyphicon&quot;}\n",
       "            );\n",
       "            marker_132f9c69230c0da0739bca1cd7118952.setIcon(icon_a86a192c266e6d51037efc0d99283a66);\n",
       "        \n",
       "    \n",
       "        var popup_861d000e10e89cbc47be6ad69dddf3cf = L.popup({&quot;maxWidth&quot;: &quot;100%&quot;});\n",
       "\n",
       "        \n",
       "            var html_cfdcd060a0dfe73457f4c5919bf4f9c2 = $(`&lt;div id=&quot;html_cfdcd060a0dfe73457f4c5919bf4f9c2&quot; style=&quot;width: 100.0%; height: 100.0%;&quot;&gt;Punto&lt;/div&gt;`)[0];\n",
       "            popup_861d000e10e89cbc47be6ad69dddf3cf.setContent(html_cfdcd060a0dfe73457f4c5919bf4f9c2);\n",
       "        \n",
       "\n",
       "        marker_132f9c69230c0da0739bca1cd7118952.bindPopup(popup_861d000e10e89cbc47be6ad69dddf3cf)\n",
       "        ;\n",
       "\n",
       "        \n",
       "    \n",
       "    \n",
       "            marker_132f9c69230c0da0739bca1cd7118952.bindTooltip(\n",
       "                `&lt;div&gt;\n",
       "                     Mi Tierra\n",
       "                 &lt;/div&gt;`,\n",
       "                {&quot;sticky&quot;: true}\n",
       "            );\n",
       "        \n",
       "    \n",
       "            var marker_e98729ea062d3e205dc1fdacb2fccbf5 = L.marker(\n",
       "                [-39.8597946179, -72.7236128048],\n",
       "                {}\n",
       "            ).addTo(map_edfb81fb8043a76798456157d9b063a4);\n",
       "        \n",
       "    \n",
       "            var icon_cc2454aa42bcbab6138e4d5748f4a65d = L.AwesomeMarkers.icon(\n",
       "                {&quot;extraClasses&quot;: &quot;fa-rotate-0&quot;, &quot;icon&quot;: &quot;info-sign&quot;, &quot;iconColor&quot;: &quot;white&quot;, &quot;markerColor&quot;: &quot;darkred&quot;, &quot;prefix&quot;: &quot;glyphicon&quot;}\n",
       "            );\n",
       "            marker_e98729ea062d3e205dc1fdacb2fccbf5.setIcon(icon_cc2454aa42bcbab6138e4d5748f4a65d);\n",
       "        \n",
       "    \n",
       "        var popup_0234844712ce2a525fe77ace5a73d214 = L.popup({&quot;maxWidth&quot;: &quot;100%&quot;});\n",
       "\n",
       "        \n",
       "            var html_05d922b221a12258d4afe6fee7af19c3 = $(`&lt;div id=&quot;html_05d922b221a12258d4afe6fee7af19c3&quot; style=&quot;width: 100.0%; height: 100.0%;&quot;&gt;Punto&lt;/div&gt;`)[0];\n",
       "            popup_0234844712ce2a525fe77ace5a73d214.setContent(html_05d922b221a12258d4afe6fee7af19c3);\n",
       "        \n",
       "\n",
       "        marker_e98729ea062d3e205dc1fdacb2fccbf5.bindPopup(popup_0234844712ce2a525fe77ace5a73d214)\n",
       "        ;\n",
       "\n",
       "        \n",
       "    \n",
       "    \n",
       "            marker_e98729ea062d3e205dc1fdacb2fccbf5.bindTooltip(\n",
       "                `&lt;div&gt;\n",
       "                     Puñaco\n",
       "                 &lt;/div&gt;`,\n",
       "                {&quot;sticky&quot;: true}\n",
       "            );\n",
       "        \n",
       "    \n",
       "            var marker_178f1da1d4a196fa232ea2836428ec0c = L.marker(\n",
       "                [-39.8183071179, -72.8753063555],\n",
       "                {}\n",
       "            ).addTo(map_edfb81fb8043a76798456157d9b063a4);\n",
       "        \n",
       "    \n",
       "            var icon_27d5a53ec507ce49ef72e01f929eace5 = L.AwesomeMarkers.icon(\n",
       "                {&quot;extraClasses&quot;: &quot;fa-rotate-0&quot;, &quot;icon&quot;: &quot;info-sign&quot;, &quot;iconColor&quot;: &quot;white&quot;, &quot;markerColor&quot;: &quot;darkred&quot;, &quot;prefix&quot;: &quot;glyphicon&quot;}\n",
       "            );\n",
       "            marker_178f1da1d4a196fa232ea2836428ec0c.setIcon(icon_27d5a53ec507ce49ef72e01f929eace5);\n",
       "        \n",
       "    \n",
       "        var popup_1b51121ff55c43e98943f33d2fe91c78 = L.popup({&quot;maxWidth&quot;: &quot;100%&quot;});\n",
       "\n",
       "        \n",
       "            var html_7fc91681d4440f1f869374ad19504618 = $(`&lt;div id=&quot;html_7fc91681d4440f1f869374ad19504618&quot; style=&quot;width: 100.0%; height: 100.0%;&quot;&gt;Punto&lt;/div&gt;`)[0];\n",
       "            popup_1b51121ff55c43e98943f33d2fe91c78.setContent(html_7fc91681d4440f1f869374ad19504618);\n",
       "        \n",
       "\n",
       "        marker_178f1da1d4a196fa232ea2836428ec0c.bindPopup(popup_1b51121ff55c43e98943f33d2fe91c78)\n",
       "        ;\n",
       "\n",
       "        \n",
       "    \n",
       "    \n",
       "            marker_178f1da1d4a196fa232ea2836428ec0c.bindTooltip(\n",
       "                `&lt;div&gt;\n",
       "                     Purey\n",
       "                 &lt;/div&gt;`,\n",
       "                {&quot;sticky&quot;: true}\n",
       "            );\n",
       "        \n",
       "    \n",
       "            var marker_1b0b59170f2c2a019ab2fb9673ac1561 = L.marker(\n",
       "                [-39.8631470531, -73.4340874604],\n",
       "                {}\n",
       "            ).addTo(map_edfb81fb8043a76798456157d9b063a4);\n",
       "        \n",
       "    \n",
       "            var icon_301f89cf22e003753234c192a7320d2a = L.AwesomeMarkers.icon(\n",
       "                {&quot;extraClasses&quot;: &quot;fa-rotate-0&quot;, &quot;icon&quot;: &quot;info-sign&quot;, &quot;iconColor&quot;: &quot;white&quot;, &quot;markerColor&quot;: &quot;purple&quot;, &quot;prefix&quot;: &quot;glyphicon&quot;}\n",
       "            );\n",
       "            marker_1b0b59170f2c2a019ab2fb9673ac1561.setIcon(icon_301f89cf22e003753234c192a7320d2a);\n",
       "        \n",
       "    \n",
       "        var popup_68b56b2a3b84ac1d7b17607a062134b8 = L.popup({&quot;maxWidth&quot;: &quot;100%&quot;});\n",
       "\n",
       "        \n",
       "            var html_f513b512771a0880f676b8036bb1df41 = $(`&lt;div id=&quot;html_f513b512771a0880f676b8036bb1df41&quot; style=&quot;width: 100.0%; height: 100.0%;&quot;&gt;Punto&lt;/div&gt;`)[0];\n",
       "            popup_68b56b2a3b84ac1d7b17607a062134b8.setContent(html_f513b512771a0880f676b8036bb1df41);\n",
       "        \n",
       "\n",
       "        marker_1b0b59170f2c2a019ab2fb9673ac1561.bindPopup(popup_68b56b2a3b84ac1d7b17607a062134b8)\n",
       "        ;\n",
       "\n",
       "        \n",
       "    \n",
       "    \n",
       "            marker_1b0b59170f2c2a019ab2fb9673ac1561.bindTooltip(\n",
       "                `&lt;div&gt;\n",
       "                     AMARGO-SAN CARLOS\n",
       "                 &lt;/div&gt;`,\n",
       "                {&quot;sticky&quot;: true}\n",
       "            );\n",
       "        \n",
       "    \n",
       "            var marker_72d03b99d5bf6bc8ecc222e39cc9de9e = L.marker(\n",
       "                [-39.8754350487, -73.3587930086],\n",
       "                {}\n",
       "            ).addTo(map_edfb81fb8043a76798456157d9b063a4);\n",
       "        \n",
       "    \n",
       "            var icon_8f28d8db64705b4e5d2a49a0225263e8 = L.AwesomeMarkers.icon(\n",
       "                {&quot;extraClasses&quot;: &quot;fa-rotate-0&quot;, &quot;icon&quot;: &quot;info-sign&quot;, &quot;iconColor&quot;: &quot;white&quot;, &quot;markerColor&quot;: &quot;orange&quot;, &quot;prefix&quot;: &quot;glyphicon&quot;}\n",
       "            );\n",
       "            marker_72d03b99d5bf6bc8ecc222e39cc9de9e.setIcon(icon_8f28d8db64705b4e5d2a49a0225263e8);\n",
       "        \n",
       "    \n",
       "        var popup_a11860f5df99695c977714a556fc1092 = L.popup({&quot;maxWidth&quot;: &quot;100%&quot;});\n",
       "\n",
       "        \n",
       "            var html_3a97eaf3c61f49b67d9eabc154598b86 = $(`&lt;div id=&quot;html_3a97eaf3c61f49b67d9eabc154598b86&quot; style=&quot;width: 100.0%; height: 100.0%;&quot;&gt;Punto&lt;/div&gt;`)[0];\n",
       "            popup_a11860f5df99695c977714a556fc1092.setContent(html_3a97eaf3c61f49b67d9eabc154598b86);\n",
       "        \n",
       "\n",
       "        marker_72d03b99d5bf6bc8ecc222e39cc9de9e.bindPopup(popup_a11860f5df99695c977714a556fc1092)\n",
       "        ;\n",
       "\n",
       "        \n",
       "    \n",
       "    \n",
       "            marker_72d03b99d5bf6bc8ecc222e39cc9de9e.bindTooltip(\n",
       "                `&lt;div&gt;\n",
       "                     ISLA DEL REY\n",
       "                 &lt;/div&gt;`,\n",
       "                {&quot;sticky&quot;: true}\n",
       "            );\n",
       "        \n",
       "    \n",
       "            var marker_5833140ae630d6b930f3d6c775db35f6 = L.marker(\n",
       "                [-39.8905057848, -73.3917808877],\n",
       "                {}\n",
       "            ).addTo(map_edfb81fb8043a76798456157d9b063a4);\n",
       "        \n",
       "    \n",
       "            var icon_2df3f05f2fbac176cecf801da3efb08a = L.AwesomeMarkers.icon(\n",
       "                {&quot;extraClasses&quot;: &quot;fa-rotate-0&quot;, &quot;icon&quot;: &quot;info-sign&quot;, &quot;iconColor&quot;: &quot;white&quot;, &quot;markerColor&quot;: &quot;darkred&quot;, &quot;prefix&quot;: &quot;glyphicon&quot;}\n",
       "            );\n",
       "            marker_5833140ae630d6b930f3d6c775db35f6.setIcon(icon_2df3f05f2fbac176cecf801da3efb08a);\n",
       "        \n",
       "    \n",
       "        var popup_0b5018a63f2b5d3287d1a0d49eadd6a6 = L.popup({&quot;maxWidth&quot;: &quot;100%&quot;});\n",
       "\n",
       "        \n",
       "            var html_3884f2146e6d55575a495251a6fe4286 = $(`&lt;div id=&quot;html_3884f2146e6d55575a495251a6fe4286&quot; style=&quot;width: 100.0%; height: 100.0%;&quot;&gt;Punto&lt;/div&gt;`)[0];\n",
       "            popup_0b5018a63f2b5d3287d1a0d49eadd6a6.setContent(html_3884f2146e6d55575a495251a6fe4286);\n",
       "        \n",
       "\n",
       "        marker_5833140ae630d6b930f3d6c775db35f6.bindPopup(popup_0b5018a63f2b5d3287d1a0d49eadd6a6)\n",
       "        ;\n",
       "\n",
       "        \n",
       "    \n",
       "    \n",
       "            marker_5833140ae630d6b930f3d6c775db35f6.bindTooltip(\n",
       "                `&lt;div&gt;\n",
       "                     ISLA MANCERA\n",
       "                 &lt;/div&gt;`,\n",
       "                {&quot;sticky&quot;: true}\n",
       "            );\n",
       "        \n",
       "    \n",
       "            var marker_925ce6271b043dcd833d6a1e1b6a4acd = L.marker(\n",
       "                [-39.8964415368, -73.417776163],\n",
       "                {}\n",
       "            ).addTo(map_edfb81fb8043a76798456157d9b063a4);\n",
       "        \n",
       "    \n",
       "            var icon_342fb828700b8f532f8dbd18ceaf2796 = L.AwesomeMarkers.icon(\n",
       "                {&quot;extraClasses&quot;: &quot;fa-rotate-0&quot;, &quot;icon&quot;: &quot;info-sign&quot;, &quot;iconColor&quot;: &quot;white&quot;, &quot;markerColor&quot;: &quot;orange&quot;, &quot;prefix&quot;: &quot;glyphicon&quot;}\n",
       "            );\n",
       "            marker_925ce6271b043dcd833d6a1e1b6a4acd.setIcon(icon_342fb828700b8f532f8dbd18ceaf2796);\n",
       "        \n",
       "    \n",
       "        var popup_b4d9e7cc4a00421623dd176f06f9f377 = L.popup({&quot;maxWidth&quot;: &quot;100%&quot;});\n",
       "\n",
       "        \n",
       "            var html_85eedf4e9dd306cdea976ece63d45550 = $(`&lt;div id=&quot;html_85eedf4e9dd306cdea976ece63d45550&quot; style=&quot;width: 100.0%; height: 100.0%;&quot;&gt;Punto&lt;/div&gt;`)[0];\n",
       "            popup_b4d9e7cc4a00421623dd176f06f9f377.setContent(html_85eedf4e9dd306cdea976ece63d45550);\n",
       "        \n",
       "\n",
       "        marker_925ce6271b043dcd833d6a1e1b6a4acd.bindPopup(popup_b4d9e7cc4a00421623dd176f06f9f377)\n",
       "        ;\n",
       "\n",
       "        \n",
       "    \n",
       "    \n",
       "            marker_925ce6271b043dcd833d6a1e1b6a4acd.bindTooltip(\n",
       "                `&lt;div&gt;\n",
       "                     LA AGUADA\n",
       "                 &lt;/div&gt;`,\n",
       "                {&quot;sticky&quot;: true}\n",
       "            );\n",
       "        \n",
       "    \n",
       "            var marker_d9db32397ccc432378ba7149493d925e = L.marker(\n",
       "                [-39.9656281859, -73.6194983481],\n",
       "                {}\n",
       "            ).addTo(map_edfb81fb8043a76798456157d9b063a4);\n",
       "        \n",
       "    \n",
       "            var icon_1b0b2e558ea98b07f83a42e899259332 = L.AwesomeMarkers.icon(\n",
       "                {&quot;extraClasses&quot;: &quot;fa-rotate-0&quot;, &quot;icon&quot;: &quot;info-sign&quot;, &quot;iconColor&quot;: &quot;white&quot;, &quot;markerColor&quot;: &quot;orange&quot;, &quot;prefix&quot;: &quot;glyphicon&quot;}\n",
       "            );\n",
       "            marker_d9db32397ccc432378ba7149493d925e.setIcon(icon_1b0b2e558ea98b07f83a42e899259332);\n",
       "        \n",
       "    \n",
       "        var popup_16b798f0ab60f555d1d3d51105e915d2 = L.popup({&quot;maxWidth&quot;: &quot;100%&quot;});\n",
       "\n",
       "        \n",
       "            var html_70e1e87218df3607dc62d53f5cb1059c = $(`&lt;div id=&quot;html_70e1e87218df3607dc62d53f5cb1059c&quot; style=&quot;width: 100.0%; height: 100.0%;&quot;&gt;Punto&lt;/div&gt;`)[0];\n",
       "            popup_16b798f0ab60f555d1d3d51105e915d2.setContent(html_70e1e87218df3607dc62d53f5cb1059c);\n",
       "        \n",
       "\n",
       "        marker_d9db32397ccc432378ba7149493d925e.bindPopup(popup_16b798f0ab60f555d1d3d51105e915d2)\n",
       "        ;\n",
       "\n",
       "        \n",
       "    \n",
       "    \n",
       "            marker_d9db32397ccc432378ba7149493d925e.bindTooltip(\n",
       "                `&lt;div&gt;\n",
       "                     CHAIHUIN\n",
       "                 &lt;/div&gt;`,\n",
       "                {&quot;sticky&quot;: true}\n",
       "            );\n",
       "        \n",
       "    \n",
       "            var marker_d9ea2aca398f359e86b4b40a27f9b486 = L.marker(\n",
       "                [-39.8970045115, -73.4310820761],\n",
       "                {}\n",
       "            ).addTo(map_edfb81fb8043a76798456157d9b063a4);\n",
       "        \n",
       "    \n",
       "            var icon_b109455c0e71ec0371f915603bf19c9a = L.AwesomeMarkers.icon(\n",
       "                {&quot;extraClasses&quot;: &quot;fa-rotate-0&quot;, &quot;icon&quot;: &quot;info-sign&quot;, &quot;iconColor&quot;: &quot;white&quot;, &quot;markerColor&quot;: &quot;green&quot;, &quot;prefix&quot;: &quot;glyphicon&quot;}\n",
       "            );\n",
       "            marker_d9ea2aca398f359e86b4b40a27f9b486.setIcon(icon_b109455c0e71ec0371f915603bf19c9a);\n",
       "        \n",
       "    \n",
       "        var popup_5748e71e54d2f225547306de17465f59 = L.popup({&quot;maxWidth&quot;: &quot;100%&quot;});\n",
       "\n",
       "        \n",
       "            var html_613328eb299ff4848a24b55d18fb65a3 = $(`&lt;div id=&quot;html_613328eb299ff4848a24b55d18fb65a3&quot; style=&quot;width: 100.0%; height: 100.0%;&quot;&gt;Punto&lt;/div&gt;`)[0];\n",
       "            popup_5748e71e54d2f225547306de17465f59.setContent(html_613328eb299ff4848a24b55d18fb65a3);\n",
       "        \n",
       "\n",
       "        marker_d9ea2aca398f359e86b4b40a27f9b486.bindPopup(popup_5748e71e54d2f225547306de17465f59)\n",
       "        ;\n",
       "\n",
       "        \n",
       "    \n",
       "    \n",
       "            marker_d9ea2aca398f359e86b4b40a27f9b486.bindTooltip(\n",
       "                `&lt;div&gt;\n",
       "                     CERROS DE CORRAL\n",
       "                 &lt;/div&gt;`,\n",
       "                {&quot;sticky&quot;: true}\n",
       "            );\n",
       "        \n",
       "&lt;/script&gt;\" style=\"position:absolute;width:100%;height:100%;left:0;top:0;border:none !important;\" allowfullscreen webkitallowfullscreen mozallowfullscreen></iframe></div></div>"
      ],
      "text/plain": [
       "<folium.folium.Map at 0x205f3b6ad70>"
      ]
     },
     "execution_count": 19,
     "metadata": {},
     "output_type": "execute_result"
    }
   ],
   "source": [
    "map = folium.Map(location = [-39.925826, -73.114501], tiles = \"OpenStreetMap\", zoom_start = 9.5)\n",
    "\n",
    "\n",
    "color_beneficiario=[]\n",
    "\n",
    "for j in range(len(locations)):\n",
    "    u=beneficiarios[j]\n",
    "    if u<299:\n",
    "        colores='darkred'\n",
    "    if u>=299 and u<546:\n",
    "        colores='green'\n",
    "    if u>=546 and u<964:\n",
    "        colores='orange'\n",
    "    if u>=964 and u<2294:\n",
    "        colores='red'               \n",
    "    if u>=2294:\n",
    "        colores='purple'\n",
    "    color_beneficiario.append(colores)\n",
    "    folium.Marker(\n",
    "    location=locations[j],\n",
    "    popup=\"Punto\",\n",
    "    tooltip=nombres[j],\n",
    "    icon=folium.Icon(color=colores),\n",
    ").add_to(map)\n",
    "    \n",
    "map\n"
   ]
  },
  {
   "cell_type": "code",
   "execution_count": 25,
   "id": "6f75b46c-5d57-4c8e-9724-2953df919bcf",
   "metadata": {},
   "outputs": [
    {
     "data": {
      "application/vnd.plotly.v1+json": {
       "config": {
        "plotlyServerURL": "https://plot.ly"
       },
       "data": [
        {
         "colorscale": [
          [
           0,
           "#00083e"
          ],
          [
           0.5,
           "#ededee"
          ],
          [
           1,
           "#ffffff"
          ]
         ],
         "hoverinfo": "none",
         "opacity": 0.75,
         "showscale": false,
         "type": "heatmap",
         "z": [
          [
           0,
           0,
           0
          ],
          [
           0.5,
           0.5,
           0.5
          ],
          [
           1,
           1,
           1
          ],
          [
           0.5,
           0.5,
           0.5
          ],
          [
           1,
           1,
           1
          ],
          [
           0.5,
           0.5,
           0.5
          ],
          [
           1,
           1,
           1
          ],
          [
           0.5,
           0.5,
           0.5
          ],
          [
           1,
           1,
           1
          ],
          [
           0.5,
           0.5,
           0.5
          ],
          [
           1,
           1,
           1
          ],
          [
           0.5,
           0.5,
           0.5
          ],
          [
           1,
           1,
           1
          ],
          [
           0.5,
           0.5,
           0.5
          ],
          [
           1,
           1,
           1
          ],
          [
           0.5,
           0.5,
           0.5
          ],
          [
           1,
           1,
           1
          ],
          [
           0.5,
           0.5,
           0.5
          ],
          [
           1,
           1,
           1
          ],
          [
           0.5,
           0.5,
           0.5
          ],
          [
           1,
           1,
           1
          ],
          [
           0.5,
           0.5,
           0.5
          ],
          [
           1,
           1,
           1
          ],
          [
           0.5,
           0.5,
           0.5
          ],
          [
           1,
           1,
           1
          ],
          [
           0.5,
           0.5,
           0.5
          ],
          [
           1,
           1,
           1
          ],
          [
           0.5,
           0.5,
           0.5
          ],
          [
           1,
           1,
           1
          ],
          [
           0.5,
           0.5,
           0.5
          ],
          [
           1,
           1,
           1
          ],
          [
           0.5,
           0.5,
           0.5
          ],
          [
           1,
           1,
           1
          ],
          [
           0.5,
           0.5,
           0.5
          ],
          [
           1,
           1,
           1
          ],
          [
           0.5,
           0.5,
           0.5
          ],
          [
           1,
           1,
           1
          ],
          [
           0.5,
           0.5,
           0.5
          ],
          [
           1,
           1,
           1
          ],
          [
           0.5,
           0.5,
           0.5
          ],
          [
           1,
           1,
           1
          ],
          [
           0.5,
           0.5,
           0.5
          ],
          [
           1,
           1,
           1
          ],
          [
           0.5,
           0.5,
           0.5
          ],
          [
           1,
           1,
           1
          ],
          [
           0.5,
           0.5,
           0.5
          ],
          [
           1,
           1,
           1
          ],
          [
           0.5,
           0.5,
           0.5
          ],
          [
           1,
           1,
           1
          ],
          [
           0.5,
           0.5,
           0.5
          ]
         ]
        }
       ],
       "layout": {
        "annotations": [
         {
          "align": "left",
          "font": {
           "color": "#ffffff"
          },
          "showarrow": false,
          "text": "<b>Nombre Ubicación</b>",
          "x": -0.45,
          "xanchor": "left",
          "xref": "x",
          "y": 0,
          "yref": "y"
         },
         {
          "align": "left",
          "font": {
           "color": "#ffffff"
          },
          "showarrow": false,
          "text": "<b>Beneficiarios</b>",
          "x": 0.55,
          "xanchor": "left",
          "xref": "x",
          "y": 0,
          "yref": "y"
         },
         {
          "align": "left",
          "font": {
           "color": "#ffffff"
          },
          "showarrow": false,
          "text": "<b>Color</b>",
          "x": 1.55,
          "xanchor": "left",
          "xref": "x",
          "y": 0,
          "yref": "y"
         },
         {
          "align": "left",
          "font": {
           "color": "#000000"
          },
          "showarrow": false,
          "text": "PISHUINCO",
          "x": -0.45,
          "xanchor": "left",
          "xref": "x",
          "y": 1,
          "yref": "y"
         },
         {
          "align": "left",
          "font": {
           "color": "#000000"
          },
          "showarrow": false,
          "text": "322.0",
          "x": 0.55,
          "xanchor": "left",
          "xref": "x",
          "y": 1,
          "yref": "y"
         },
         {
          "align": "left",
          "font": {
           "color": "#000000"
          },
          "showarrow": false,
          "text": "green",
          "x": 1.55,
          "xanchor": "left",
          "xref": "x",
          "y": 1,
          "yref": "y"
         },
         {
          "align": "left",
          "font": {
           "color": "#000000"
          },
          "showarrow": false,
          "text": "CURIÑANCO",
          "x": -0.45,
          "xanchor": "left",
          "xref": "x",
          "y": 2,
          "yref": "y"
         },
         {
          "align": "left",
          "font": {
           "color": "#000000"
          },
          "showarrow": false,
          "text": "2294.0",
          "x": 0.55,
          "xanchor": "left",
          "xref": "x",
          "y": 2,
          "yref": "y"
         },
         {
          "align": "left",
          "font": {
           "color": "#000000"
          },
          "showarrow": false,
          "text": "purple",
          "x": 1.55,
          "xanchor": "left",
          "xref": "x",
          "y": 2,
          "yref": "y"
         },
         {
          "align": "left",
          "font": {
           "color": "#000000"
          },
          "showarrow": false,
          "text": "HUELLELHUE",
          "x": -0.45,
          "xanchor": "left",
          "xref": "x",
          "y": 3,
          "yref": "y"
         },
         {
          "align": "left",
          "font": {
           "color": "#000000"
          },
          "showarrow": false,
          "text": "310.0",
          "x": 0.55,
          "xanchor": "left",
          "xref": "x",
          "y": 3,
          "yref": "y"
         },
         {
          "align": "left",
          "font": {
           "color": "#000000"
          },
          "showarrow": false,
          "text": "green",
          "x": 1.55,
          "xanchor": "left",
          "xref": "x",
          "y": 3,
          "yref": "y"
         },
         {
          "align": "left",
          "font": {
           "color": "#000000"
          },
          "showarrow": false,
          "text": "LAS GAVIOTAS",
          "x": -0.45,
          "xanchor": "left",
          "xref": "x",
          "y": 4,
          "yref": "y"
         },
         {
          "align": "left",
          "font": {
           "color": "#000000"
          },
          "showarrow": false,
          "text": "1048.0",
          "x": 0.55,
          "xanchor": "left",
          "xref": "x",
          "y": 4,
          "yref": "y"
         },
         {
          "align": "left",
          "font": {
           "color": "#000000"
          },
          "showarrow": false,
          "text": "red",
          "x": 1.55,
          "xanchor": "left",
          "xref": "x",
          "y": 4,
          "yref": "y"
         },
         {
          "align": "left",
          "font": {
           "color": "#000000"
          },
          "showarrow": false,
          "text": "NIEBLA-LOS MOLINOS",
          "x": -0.45,
          "xanchor": "left",
          "xref": "x",
          "y": 5,
          "yref": "y"
         },
         {
          "align": "left",
          "font": {
           "color": "#000000"
          },
          "showarrow": false,
          "text": "4021.0",
          "x": 0.55,
          "xanchor": "left",
          "xref": "x",
          "y": 5,
          "yref": "y"
         },
         {
          "align": "left",
          "font": {
           "color": "#000000"
          },
          "showarrow": false,
          "text": "purple",
          "x": 1.55,
          "xanchor": "left",
          "xref": "x",
          "y": 5,
          "yref": "y"
         },
         {
          "align": "left",
          "font": {
           "color": "#000000"
          },
          "showarrow": false,
          "text": "PUNUCAPA",
          "x": -0.45,
          "xanchor": "left",
          "xref": "x",
          "y": 6,
          "yref": "y"
         },
         {
          "align": "left",
          "font": {
           "color": "#000000"
          },
          "showarrow": false,
          "text": "459.0",
          "x": 0.55,
          "xanchor": "left",
          "xref": "x",
          "y": 6,
          "yref": "y"
         },
         {
          "align": "left",
          "font": {
           "color": "#000000"
          },
          "showarrow": false,
          "text": "green",
          "x": 1.55,
          "xanchor": "left",
          "xref": "x",
          "y": 6,
          "yref": "y"
         },
         {
          "align": "left",
          "font": {
           "color": "#000000"
          },
          "showarrow": false,
          "text": "SAN IGNACIO-PLAYA ROSADA",
          "x": -0.45,
          "xanchor": "left",
          "xref": "x",
          "y": 7,
          "yref": "y"
         },
         {
          "align": "left",
          "font": {
           "color": "#000000"
          },
          "showarrow": false,
          "text": "936.0",
          "x": 0.55,
          "xanchor": "left",
          "xref": "x",
          "y": 7,
          "yref": "y"
         },
         {
          "align": "left",
          "font": {
           "color": "#000000"
          },
          "showarrow": false,
          "text": "orange",
          "x": 1.55,
          "xanchor": "left",
          "xref": "x",
          "y": 7,
          "yref": "y"
         },
         {
          "align": "left",
          "font": {
           "color": "#000000"
          },
          "showarrow": false,
          "text": "TRES ESPINOS",
          "x": -0.45,
          "xanchor": "left",
          "xref": "x",
          "y": 8,
          "yref": "y"
         },
         {
          "align": "left",
          "font": {
           "color": "#000000"
          },
          "showarrow": false,
          "text": "1091.0",
          "x": 0.55,
          "xanchor": "left",
          "xref": "x",
          "y": 8,
          "yref": "y"
         },
         {
          "align": "left",
          "font": {
           "color": "#000000"
          },
          "showarrow": false,
          "text": "red",
          "x": 1.55,
          "xanchor": "left",
          "xref": "x",
          "y": 8,
          "yref": "y"
         },
         {
          "align": "left",
          "font": {
           "color": "#000000"
          },
          "showarrow": false,
          "text": "VILLA CAYUMAPU",
          "x": -0.45,
          "xanchor": "left",
          "xref": "x",
          "y": 9,
          "yref": "y"
         },
         {
          "align": "left",
          "font": {
           "color": "#000000"
          },
          "showarrow": false,
          "text": "1327.0",
          "x": 0.55,
          "xanchor": "left",
          "xref": "x",
          "y": 9,
          "yref": "y"
         },
         {
          "align": "left",
          "font": {
           "color": "#000000"
          },
          "showarrow": false,
          "text": "red",
          "x": 1.55,
          "xanchor": "left",
          "xref": "x",
          "y": 9,
          "yref": "y"
         },
         {
          "align": "left",
          "font": {
           "color": "#000000"
          },
          "showarrow": false,
          "text": "EL ARENAL SANTA ELVIRA",
          "x": -0.45,
          "xanchor": "left",
          "xref": "x",
          "y": 10,
          "yref": "y"
         },
         {
          "align": "left",
          "font": {
           "color": "#000000"
          },
          "showarrow": false,
          "text": "549.0",
          "x": 0.55,
          "xanchor": "left",
          "xref": "x",
          "y": 10,
          "yref": "y"
         },
         {
          "align": "left",
          "font": {
           "color": "#000000"
          },
          "showarrow": false,
          "text": "orange",
          "x": 1.55,
          "xanchor": "left",
          "xref": "x",
          "y": 10,
          "yref": "y"
         },
         {
          "align": "left",
          "font": {
           "color": "#000000"
          },
          "showarrow": false,
          "text": "PAILLAO",
          "x": -0.45,
          "xanchor": "left",
          "xref": "x",
          "y": 11,
          "yref": "y"
         },
         {
          "align": "left",
          "font": {
           "color": "#000000"
          },
          "showarrow": false,
          "text": "871.0",
          "x": 0.55,
          "xanchor": "left",
          "xref": "x",
          "y": 11,
          "yref": "y"
         },
         {
          "align": "left",
          "font": {
           "color": "#000000"
          },
          "showarrow": false,
          "text": "orange",
          "x": 1.55,
          "xanchor": "left",
          "xref": "x",
          "y": 11,
          "yref": "y"
         },
         {
          "align": "left",
          "font": {
           "color": "#000000"
          },
          "showarrow": false,
          "text": "CABO BLANCO",
          "x": -0.45,
          "xanchor": "left",
          "xref": "x",
          "y": 12,
          "yref": "y"
         },
         {
          "align": "left",
          "font": {
           "color": "#000000"
          },
          "showarrow": false,
          "text": "543.0",
          "x": 0.55,
          "xanchor": "left",
          "xref": "x",
          "y": 12,
          "yref": "y"
         },
         {
          "align": "left",
          "font": {
           "color": "#000000"
          },
          "showarrow": false,
          "text": "green",
          "x": 1.55,
          "xanchor": "left",
          "xref": "x",
          "y": 12,
          "yref": "y"
         },
         {
          "align": "left",
          "font": {
           "color": "#000000"
          },
          "showarrow": false,
          "text": "EL ARENAL KM 2",
          "x": -0.45,
          "xanchor": "left",
          "xref": "x",
          "y": 13,
          "yref": "y"
         },
         {
          "align": "left",
          "font": {
           "color": "#000000"
          },
          "showarrow": false,
          "text": "623.0",
          "x": 0.55,
          "xanchor": "left",
          "xref": "x",
          "y": 13,
          "yref": "y"
         },
         {
          "align": "left",
          "font": {
           "color": "#000000"
          },
          "showarrow": false,
          "text": "orange",
          "x": 1.55,
          "xanchor": "left",
          "xref": "x",
          "y": 13,
          "yref": "y"
         },
         {
          "align": "left",
          "font": {
           "color": "#000000"
          },
          "showarrow": false,
          "text": "Chabelita",
          "x": -0.45,
          "xanchor": "left",
          "xref": "x",
          "y": 14,
          "yref": "y"
         },
         {
          "align": "left",
          "font": {
           "color": "#000000"
          },
          "showarrow": false,
          "text": "434.0",
          "x": 0.55,
          "xanchor": "left",
          "xref": "x",
          "y": 14,
          "yref": "y"
         },
         {
          "align": "left",
          "font": {
           "color": "#000000"
          },
          "showarrow": false,
          "text": "green",
          "x": 1.55,
          "xanchor": "left",
          "xref": "x",
          "y": 14,
          "yref": "y"
         },
         {
          "align": "left",
          "font": {
           "color": "#000000"
          },
          "showarrow": false,
          "text": "ARCO IRIS",
          "x": -0.45,
          "xanchor": "left",
          "xref": "x",
          "y": 15,
          "yref": "y"
         },
         {
          "align": "left",
          "font": {
           "color": "#000000"
          },
          "showarrow": false,
          "text": "394.0",
          "x": 0.55,
          "xanchor": "left",
          "xref": "x",
          "y": 15,
          "yref": "y"
         },
         {
          "align": "left",
          "font": {
           "color": "#000000"
          },
          "showarrow": false,
          "text": "green",
          "x": 1.55,
          "xanchor": "left",
          "xref": "x",
          "y": 15,
          "yref": "y"
         },
         {
          "align": "left",
          "font": {
           "color": "#000000"
          },
          "showarrow": false,
          "text": "EL LLOLLY",
          "x": -0.45,
          "xanchor": "left",
          "xref": "x",
          "y": 16,
          "yref": "y"
         },
         {
          "align": "left",
          "font": {
           "color": "#000000"
          },
          "showarrow": false,
          "text": "428.0",
          "x": 0.55,
          "xanchor": "left",
          "xref": "x",
          "y": 16,
          "yref": "y"
         },
         {
          "align": "left",
          "font": {
           "color": "#000000"
          },
          "showarrow": false,
          "text": "green",
          "x": 1.55,
          "xanchor": "left",
          "xref": "x",
          "y": 16,
          "yref": "y"
         },
         {
          "align": "left",
          "font": {
           "color": "#000000"
          },
          "showarrow": false,
          "text": "PICHIRROPULLI",
          "x": -0.45,
          "xanchor": "left",
          "xref": "x",
          "y": 17,
          "yref": "y"
         },
         {
          "align": "left",
          "font": {
           "color": "#000000"
          },
          "showarrow": false,
          "text": "1079.0",
          "x": 0.55,
          "xanchor": "left",
          "xref": "x",
          "y": 17,
          "yref": "y"
         },
         {
          "align": "left",
          "font": {
           "color": "#000000"
          },
          "showarrow": false,
          "text": "red",
          "x": 1.55,
          "xanchor": "left",
          "xref": "x",
          "y": 17,
          "yref": "y"
         },
         {
          "align": "left",
          "font": {
           "color": "#000000"
          },
          "showarrow": false,
          "text": "REUMEN",
          "x": -0.45,
          "xanchor": "left",
          "xref": "x",
          "y": 18,
          "yref": "y"
         },
         {
          "align": "left",
          "font": {
           "color": "#000000"
          },
          "showarrow": false,
          "text": "1442.0",
          "x": 0.55,
          "xanchor": "left",
          "xref": "x",
          "y": 18,
          "yref": "y"
         },
         {
          "align": "left",
          "font": {
           "color": "#000000"
          },
          "showarrow": false,
          "text": "red",
          "x": 1.55,
          "xanchor": "left",
          "xref": "x",
          "y": 18,
          "yref": "y"
         },
         {
          "align": "left",
          "font": {
           "color": "#000000"
          },
          "showarrow": false,
          "text": "SANTA FILOMENA",
          "x": -0.45,
          "xanchor": "left",
          "xref": "x",
          "y": 19,
          "yref": "y"
         },
         {
          "align": "left",
          "font": {
           "color": "#000000"
          },
          "showarrow": false,
          "text": "403.0",
          "x": 0.55,
          "xanchor": "left",
          "xref": "x",
          "y": 19,
          "yref": "y"
         },
         {
          "align": "left",
          "font": {
           "color": "#000000"
          },
          "showarrow": false,
          "text": "green",
          "x": 1.55,
          "xanchor": "left",
          "xref": "x",
          "y": 19,
          "yref": "y"
         },
         {
          "align": "left",
          "font": {
           "color": "#000000"
          },
          "showarrow": false,
          "text": "MANAO",
          "x": -0.45,
          "xanchor": "left",
          "xref": "x",
          "y": 20,
          "yref": "y"
         },
         {
          "align": "left",
          "font": {
           "color": "#000000"
          },
          "showarrow": false,
          "text": "220.0",
          "x": 0.55,
          "xanchor": "left",
          "xref": "x",
          "y": 20,
          "yref": "y"
         },
         {
          "align": "left",
          "font": {
           "color": "#000000"
          },
          "showarrow": false,
          "text": "darkred",
          "x": 1.55,
          "xanchor": "left",
          "xref": "x",
          "y": 20,
          "yref": "y"
         },
         {
          "align": "left",
          "font": {
           "color": "#000000"
          },
          "showarrow": false,
          "text": "SANTA ROSA CHICA",
          "x": -0.45,
          "xanchor": "left",
          "xref": "x",
          "y": 21,
          "yref": "y"
         },
         {
          "align": "left",
          "font": {
           "color": "#000000"
          },
          "showarrow": false,
          "text": "394.0",
          "x": 0.55,
          "xanchor": "left",
          "xref": "x",
          "y": 21,
          "yref": "y"
         },
         {
          "align": "left",
          "font": {
           "color": "#000000"
          },
          "showarrow": false,
          "text": "green",
          "x": 1.55,
          "xanchor": "left",
          "xref": "x",
          "y": 21,
          "yref": "y"
         },
         {
          "align": "left",
          "font": {
           "color": "#000000"
          },
          "showarrow": false,
          "text": "SANTA ROSA GRANDE",
          "x": -0.45,
          "xanchor": "left",
          "xref": "x",
          "y": 22,
          "yref": "y"
         },
         {
          "align": "left",
          "font": {
           "color": "#000000"
          },
          "showarrow": false,
          "text": "319.0",
          "x": 0.55,
          "xanchor": "left",
          "xref": "x",
          "y": 22,
          "yref": "y"
         },
         {
          "align": "left",
          "font": {
           "color": "#000000"
          },
          "showarrow": false,
          "text": "green",
          "x": 1.55,
          "xanchor": "left",
          "xref": "x",
          "y": 22,
          "yref": "y"
         },
         {
          "align": "left",
          "font": {
           "color": "#000000"
          },
          "showarrow": false,
          "text": "LUMACO PAILLACO",
          "x": -0.45,
          "xanchor": "left",
          "xref": "x",
          "y": 23,
          "yref": "y"
         },
         {
          "align": "left",
          "font": {
           "color": "#000000"
          },
          "showarrow": false,
          "text": "710.0",
          "x": 0.55,
          "xanchor": "left",
          "xref": "x",
          "y": 23,
          "yref": "y"
         },
         {
          "align": "left",
          "font": {
           "color": "#000000"
          },
          "showarrow": false,
          "text": "orange",
          "x": 1.55,
          "xanchor": "left",
          "xref": "x",
          "y": 23,
          "yref": "y"
         },
         {
          "align": "left",
          "font": {
           "color": "#000000"
          },
          "showarrow": false,
          "text": "EL MAITEN",
          "x": -0.45,
          "xanchor": "left",
          "xref": "x",
          "y": 24,
          "yref": "y"
         },
         {
          "align": "left",
          "font": {
           "color": "#000000"
          },
          "showarrow": false,
          "text": "155.0",
          "x": 0.55,
          "xanchor": "left",
          "xref": "x",
          "y": 24,
          "yref": "y"
         },
         {
          "align": "left",
          "font": {
           "color": "#000000"
          },
          "showarrow": false,
          "text": "darkred",
          "x": 1.55,
          "xanchor": "left",
          "xref": "x",
          "y": 24,
          "yref": "y"
         },
         {
          "align": "left",
          "font": {
           "color": "#000000"
          },
          "showarrow": false,
          "text": "SANTA FILOMENA II",
          "x": -0.45,
          "xanchor": "left",
          "xref": "x",
          "y": 25,
          "yref": "y"
         },
         {
          "align": "left",
          "font": {
           "color": "#000000"
          },
          "showarrow": false,
          "text": "211.0",
          "x": 0.55,
          "xanchor": "left",
          "xref": "x",
          "y": 25,
          "yref": "y"
         },
         {
          "align": "left",
          "font": {
           "color": "#000000"
          },
          "showarrow": false,
          "text": "darkred",
          "x": 1.55,
          "xanchor": "left",
          "xref": "x",
          "y": 25,
          "yref": "y"
         },
         {
          "align": "left",
          "font": {
           "color": "#000000"
          },
          "showarrow": false,
          "text": "ANTILHUE",
          "x": -0.45,
          "xanchor": "left",
          "xref": "x",
          "y": 26,
          "yref": "y"
         },
         {
          "align": "left",
          "font": {
           "color": "#000000"
          },
          "showarrow": false,
          "text": "1414.0",
          "x": 0.55,
          "xanchor": "left",
          "xref": "x",
          "y": 26,
          "yref": "y"
         },
         {
          "align": "left",
          "font": {
           "color": "#000000"
          },
          "showarrow": false,
          "text": "red",
          "x": 1.55,
          "xanchor": "left",
          "xref": "x",
          "y": 26,
          "yref": "y"
         },
         {
          "align": "left",
          "font": {
           "color": "#000000"
          },
          "showarrow": false,
          "text": "FOLILCO LOS LAGOS",
          "x": -0.45,
          "xanchor": "left",
          "xref": "x",
          "y": 27,
          "yref": "y"
         },
         {
          "align": "left",
          "font": {
           "color": "#000000"
          },
          "showarrow": false,
          "text": "474.0",
          "x": 0.55,
          "xanchor": "left",
          "xref": "x",
          "y": 27,
          "yref": "y"
         },
         {
          "align": "left",
          "font": {
           "color": "#000000"
          },
          "showarrow": false,
          "text": "green",
          "x": 1.55,
          "xanchor": "left",
          "xref": "x",
          "y": 27,
          "yref": "y"
         },
         {
          "align": "left",
          "font": {
           "color": "#000000"
          },
          "showarrow": false,
          "text": "QUILQUILCO",
          "x": -0.45,
          "xanchor": "left",
          "xref": "x",
          "y": 28,
          "yref": "y"
         },
         {
          "align": "left",
          "font": {
           "color": "#000000"
          },
          "showarrow": false,
          "text": "149.0",
          "x": 0.55,
          "xanchor": "left",
          "xref": "x",
          "y": 28,
          "yref": "y"
         },
         {
          "align": "left",
          "font": {
           "color": "#000000"
          },
          "showarrow": false,
          "text": "darkred",
          "x": 1.55,
          "xanchor": "left",
          "xref": "x",
          "y": 28,
          "yref": "y"
         },
         {
          "align": "left",
          "font": {
           "color": "#000000"
          },
          "showarrow": false,
          "text": "RIÑIHUE",
          "x": -0.45,
          "xanchor": "left",
          "xref": "x",
          "y": 29,
          "yref": "y"
         },
         {
          "align": "left",
          "font": {
           "color": "#000000"
          },
          "showarrow": false,
          "text": "208.0",
          "x": 0.55,
          "xanchor": "left",
          "xref": "x",
          "y": 29,
          "yref": "y"
         },
         {
          "align": "left",
          "font": {
           "color": "#000000"
          },
          "showarrow": false,
          "text": "darkred",
          "x": 1.55,
          "xanchor": "left",
          "xref": "x",
          "y": 29,
          "yref": "y"
         },
         {
          "align": "left",
          "font": {
           "color": "#000000"
          },
          "showarrow": false,
          "text": "USTARITZ",
          "x": -0.45,
          "xanchor": "left",
          "xref": "x",
          "y": 30,
          "yref": "y"
         },
         {
          "align": "left",
          "font": {
           "color": "#000000"
          },
          "showarrow": false,
          "text": "434.0",
          "x": 0.55,
          "xanchor": "left",
          "xref": "x",
          "y": 30,
          "yref": "y"
         },
         {
          "align": "left",
          "font": {
           "color": "#000000"
          },
          "showarrow": false,
          "text": "green",
          "x": 1.55,
          "xanchor": "left",
          "xref": "x",
          "y": 30,
          "yref": "y"
         },
         {
          "align": "left",
          "font": {
           "color": "#000000"
          },
          "showarrow": false,
          "text": "EL SALTO",
          "x": -0.45,
          "xanchor": "left",
          "xref": "x",
          "y": 31,
          "yref": "y"
         },
         {
          "align": "left",
          "font": {
           "color": "#000000"
          },
          "showarrow": false,
          "text": "592.0",
          "x": 0.55,
          "xanchor": "left",
          "xref": "x",
          "y": 31,
          "yref": "y"
         },
         {
          "align": "left",
          "font": {
           "color": "#000000"
          },
          "showarrow": false,
          "text": "orange",
          "x": 1.55,
          "xanchor": "left",
          "xref": "x",
          "y": 31,
          "yref": "y"
         },
         {
          "align": "left",
          "font": {
           "color": "#000000"
          },
          "showarrow": false,
          "text": "PELLINADA LAS QUINIENTAS",
          "x": -0.45,
          "xanchor": "left",
          "xref": "x",
          "y": 32,
          "yref": "y"
         },
         {
          "align": "left",
          "font": {
           "color": "#000000"
          },
          "showarrow": false,
          "text": "434.0",
          "x": 0.55,
          "xanchor": "left",
          "xref": "x",
          "y": 32,
          "yref": "y"
         },
         {
          "align": "left",
          "font": {
           "color": "#000000"
          },
          "showarrow": false,
          "text": "green",
          "x": 1.55,
          "xanchor": "left",
          "xref": "x",
          "y": 32,
          "yref": "y"
         },
         {
          "align": "left",
          "font": {
           "color": "#000000"
          },
          "showarrow": false,
          "text": "PANCUL",
          "x": -0.45,
          "xanchor": "left",
          "xref": "x",
          "y": 33,
          "yref": "y"
         },
         {
          "align": "left",
          "font": {
           "color": "#000000"
          },
          "showarrow": false,
          "text": "729.0",
          "x": 0.55,
          "xanchor": "left",
          "xref": "x",
          "y": 33,
          "yref": "y"
         },
         {
          "align": "left",
          "font": {
           "color": "#000000"
          },
          "showarrow": false,
          "text": "orange",
          "x": 1.55,
          "xanchor": "left",
          "xref": "x",
          "y": 33,
          "yref": "y"
         },
         {
          "align": "left",
          "font": {
           "color": "#000000"
          },
          "showarrow": false,
          "text": "LOS COLIGÜES",
          "x": -0.45,
          "xanchor": "left",
          "xref": "x",
          "y": 34,
          "yref": "y"
         },
         {
          "align": "left",
          "font": {
           "color": "#000000"
          },
          "showarrow": false,
          "text": "456.0",
          "x": 0.55,
          "xanchor": "left",
          "xref": "x",
          "y": 34,
          "yref": "y"
         },
         {
          "align": "left",
          "font": {
           "color": "#000000"
          },
          "showarrow": false,
          "text": "green",
          "x": 1.55,
          "xanchor": "left",
          "xref": "x",
          "y": 34,
          "yref": "y"
         },
         {
          "align": "left",
          "font": {
           "color": "#000000"
          },
          "showarrow": false,
          "text": "COLO COLO",
          "x": -0.45,
          "xanchor": "left",
          "xref": "x",
          "y": 35,
          "yref": "y"
         },
         {
          "align": "left",
          "font": {
           "color": "#000000"
          },
          "showarrow": false,
          "text": "298.0",
          "x": 0.55,
          "xanchor": "left",
          "xref": "x",
          "y": 35,
          "yref": "y"
         },
         {
          "align": "left",
          "font": {
           "color": "#000000"
          },
          "showarrow": false,
          "text": "darkred",
          "x": 1.55,
          "xanchor": "left",
          "xref": "x",
          "y": 35,
          "yref": "y"
         },
         {
          "align": "left",
          "font": {
           "color": "#000000"
          },
          "showarrow": false,
          "text": "LAS HUELLLAS",
          "x": -0.45,
          "xanchor": "left",
          "xref": "x",
          "y": 36,
          "yref": "y"
         },
         {
          "align": "left",
          "font": {
           "color": "#000000"
          },
          "showarrow": false,
          "text": "276.0",
          "x": 0.55,
          "xanchor": "left",
          "xref": "x",
          "y": 36,
          "yref": "y"
         },
         {
          "align": "left",
          "font": {
           "color": "#000000"
          },
          "showarrow": false,
          "text": "darkred",
          "x": 1.55,
          "xanchor": "left",
          "xref": "x",
          "y": 36,
          "yref": "y"
         },
         {
          "align": "left",
          "font": {
           "color": "#000000"
          },
          "showarrow": false,
          "text": "San Pedro",
          "x": -0.45,
          "xanchor": "left",
          "xref": "x",
          "y": 37,
          "yref": "y"
         },
         {
          "align": "left",
          "font": {
           "color": "#000000"
          },
          "showarrow": false,
          "text": "375.0",
          "x": 0.55,
          "xanchor": "left",
          "xref": "x",
          "y": 37,
          "yref": "y"
         },
         {
          "align": "left",
          "font": {
           "color": "#000000"
          },
          "showarrow": false,
          "text": "green",
          "x": 1.55,
          "xanchor": "left",
          "xref": "x",
          "y": 37,
          "yref": "y"
         },
         {
          "align": "left",
          "font": {
           "color": "#000000"
          },
          "showarrow": false,
          "text": "Lipingue",
          "x": -0.45,
          "xanchor": "left",
          "xref": "x",
          "y": 38,
          "yref": "y"
         },
         {
          "align": "left",
          "font": {
           "color": "#000000"
          },
          "showarrow": false,
          "text": "434.0",
          "x": 0.55,
          "xanchor": "left",
          "xref": "x",
          "y": 38,
          "yref": "y"
         },
         {
          "align": "left",
          "font": {
           "color": "#000000"
          },
          "showarrow": false,
          "text": "green",
          "x": 1.55,
          "xanchor": "left",
          "xref": "x",
          "y": 38,
          "yref": "y"
         },
         {
          "align": "left",
          "font": {
           "color": "#000000"
          },
          "showarrow": false,
          "text": "El Trebol",
          "x": -0.45,
          "xanchor": "left",
          "xref": "x",
          "y": 39,
          "yref": "y"
         },
         {
          "align": "left",
          "font": {
           "color": "#000000"
          },
          "showarrow": false,
          "text": "208.0",
          "x": 0.55,
          "xanchor": "left",
          "xref": "x",
          "y": 39,
          "yref": "y"
         },
         {
          "align": "left",
          "font": {
           "color": "#000000"
          },
          "showarrow": false,
          "text": "darkred",
          "x": 1.55,
          "xanchor": "left",
          "xref": "x",
          "y": 39,
          "yref": "y"
         },
         {
          "align": "left",
          "font": {
           "color": "#000000"
          },
          "showarrow": false,
          "text": "Collico Sur",
          "x": -0.45,
          "xanchor": "left",
          "xref": "x",
          "y": 40,
          "yref": "y"
         },
         {
          "align": "left",
          "font": {
           "color": "#000000"
          },
          "showarrow": false,
          "text": "236.0",
          "x": 0.55,
          "xanchor": "left",
          "xref": "x",
          "y": 40,
          "yref": "y"
         },
         {
          "align": "left",
          "font": {
           "color": "#000000"
          },
          "showarrow": false,
          "text": "darkred",
          "x": 1.55,
          "xanchor": "left",
          "xref": "x",
          "y": 40,
          "yref": "y"
         },
         {
          "align": "left",
          "font": {
           "color": "#000000"
          },
          "showarrow": false,
          "text": "Mi Tierra",
          "x": -0.45,
          "xanchor": "left",
          "xref": "x",
          "y": 41,
          "yref": "y"
         },
         {
          "align": "left",
          "font": {
           "color": "#000000"
          },
          "showarrow": false,
          "text": "71.0",
          "x": 0.55,
          "xanchor": "left",
          "xref": "x",
          "y": 41,
          "yref": "y"
         },
         {
          "align": "left",
          "font": {
           "color": "#000000"
          },
          "showarrow": false,
          "text": "darkred",
          "x": 1.55,
          "xanchor": "left",
          "xref": "x",
          "y": 41,
          "yref": "y"
         },
         {
          "align": "left",
          "font": {
           "color": "#000000"
          },
          "showarrow": false,
          "text": "Puñaco",
          "x": -0.45,
          "xanchor": "left",
          "xref": "x",
          "y": 42,
          "yref": "y"
         },
         {
          "align": "left",
          "font": {
           "color": "#000000"
          },
          "showarrow": false,
          "text": "81.0",
          "x": 0.55,
          "xanchor": "left",
          "xref": "x",
          "y": 42,
          "yref": "y"
         },
         {
          "align": "left",
          "font": {
           "color": "#000000"
          },
          "showarrow": false,
          "text": "darkred",
          "x": 1.55,
          "xanchor": "left",
          "xref": "x",
          "y": 42,
          "yref": "y"
         },
         {
          "align": "left",
          "font": {
           "color": "#000000"
          },
          "showarrow": false,
          "text": "Purey",
          "x": -0.45,
          "xanchor": "left",
          "xref": "x",
          "y": 43,
          "yref": "y"
         },
         {
          "align": "left",
          "font": {
           "color": "#000000"
          },
          "showarrow": false,
          "text": "78.0",
          "x": 0.55,
          "xanchor": "left",
          "xref": "x",
          "y": 43,
          "yref": "y"
         },
         {
          "align": "left",
          "font": {
           "color": "#000000"
          },
          "showarrow": false,
          "text": "darkred",
          "x": 1.55,
          "xanchor": "left",
          "xref": "x",
          "y": 43,
          "yref": "y"
         },
         {
          "align": "left",
          "font": {
           "color": "#000000"
          },
          "showarrow": false,
          "text": "AMARGO-SAN CARLOS",
          "x": -0.45,
          "xanchor": "left",
          "xref": "x",
          "y": 44,
          "yref": "y"
         },
         {
          "align": "left",
          "font": {
           "color": "#000000"
          },
          "showarrow": false,
          "text": "2412.0",
          "x": 0.55,
          "xanchor": "left",
          "xref": "x",
          "y": 44,
          "yref": "y"
         },
         {
          "align": "left",
          "font": {
           "color": "#000000"
          },
          "showarrow": false,
          "text": "purple",
          "x": 1.55,
          "xanchor": "left",
          "xref": "x",
          "y": 44,
          "yref": "y"
         },
         {
          "align": "left",
          "font": {
           "color": "#000000"
          },
          "showarrow": false,
          "text": "ISLA DEL REY",
          "x": -0.45,
          "xanchor": "left",
          "xref": "x",
          "y": 45,
          "yref": "y"
         },
         {
          "align": "left",
          "font": {
           "color": "#000000"
          },
          "showarrow": false,
          "text": "620.0",
          "x": 0.55,
          "xanchor": "left",
          "xref": "x",
          "y": 45,
          "yref": "y"
         },
         {
          "align": "left",
          "font": {
           "color": "#000000"
          },
          "showarrow": false,
          "text": "orange",
          "x": 1.55,
          "xanchor": "left",
          "xref": "x",
          "y": 45,
          "yref": "y"
         },
         {
          "align": "left",
          "font": {
           "color": "#000000"
          },
          "showarrow": false,
          "text": "ISLA MANCERA",
          "x": -0.45,
          "xanchor": "left",
          "xref": "x",
          "y": 46,
          "yref": "y"
         },
         {
          "align": "left",
          "font": {
           "color": "#000000"
          },
          "showarrow": false,
          "text": "267.0",
          "x": 0.55,
          "xanchor": "left",
          "xref": "x",
          "y": 46,
          "yref": "y"
         },
         {
          "align": "left",
          "font": {
           "color": "#000000"
          },
          "showarrow": false,
          "text": "darkred",
          "x": 1.55,
          "xanchor": "left",
          "xref": "x",
          "y": 46,
          "yref": "y"
         },
         {
          "align": "left",
          "font": {
           "color": "#000000"
          },
          "showarrow": false,
          "text": "LA AGUADA",
          "x": -0.45,
          "xanchor": "left",
          "xref": "x",
          "y": 47,
          "yref": "y"
         },
         {
          "align": "left",
          "font": {
           "color": "#000000"
          },
          "showarrow": false,
          "text": "626.0",
          "x": 0.55,
          "xanchor": "left",
          "xref": "x",
          "y": 47,
          "yref": "y"
         },
         {
          "align": "left",
          "font": {
           "color": "#000000"
          },
          "showarrow": false,
          "text": "orange",
          "x": 1.55,
          "xanchor": "left",
          "xref": "x",
          "y": 47,
          "yref": "y"
         },
         {
          "align": "left",
          "font": {
           "color": "#000000"
          },
          "showarrow": false,
          "text": "CHAIHUIN",
          "x": -0.45,
          "xanchor": "left",
          "xref": "x",
          "y": 48,
          "yref": "y"
         },
         {
          "align": "left",
          "font": {
           "color": "#000000"
          },
          "showarrow": false,
          "text": "744.0",
          "x": 0.55,
          "xanchor": "left",
          "xref": "x",
          "y": 48,
          "yref": "y"
         },
         {
          "align": "left",
          "font": {
           "color": "#000000"
          },
          "showarrow": false,
          "text": "orange",
          "x": 1.55,
          "xanchor": "left",
          "xref": "x",
          "y": 48,
          "yref": "y"
         },
         {
          "align": "left",
          "font": {
           "color": "#000000"
          },
          "showarrow": false,
          "text": "CERROS DE CORRAL",
          "x": -0.45,
          "xanchor": "left",
          "xref": "x",
          "y": 49,
          "yref": "y"
         },
         {
          "align": "left",
          "font": {
           "color": "#000000"
          },
          "showarrow": false,
          "text": "484.0",
          "x": 0.55,
          "xanchor": "left",
          "xref": "x",
          "y": 49,
          "yref": "y"
         },
         {
          "align": "left",
          "font": {
           "color": "#000000"
          },
          "showarrow": false,
          "text": "green",
          "x": 1.55,
          "xanchor": "left",
          "xref": "x",
          "y": 49,
          "yref": "y"
         }
        ],
        "autosize": true,
        "margin": {
         "b": 0,
         "l": 0,
         "r": 0,
         "t": 0
        },
        "template": {
         "data": {
          "bar": [
           {
            "error_x": {
             "color": "#2a3f5f"
            },
            "error_y": {
             "color": "#2a3f5f"
            },
            "marker": {
             "line": {
              "color": "#E5ECF6",
              "width": 0.5
             },
             "pattern": {
              "fillmode": "overlay",
              "size": 10,
              "solidity": 0.2
             }
            },
            "type": "bar"
           }
          ],
          "barpolar": [
           {
            "marker": {
             "line": {
              "color": "#E5ECF6",
              "width": 0.5
             },
             "pattern": {
              "fillmode": "overlay",
              "size": 10,
              "solidity": 0.2
             }
            },
            "type": "barpolar"
           }
          ],
          "carpet": [
           {
            "aaxis": {
             "endlinecolor": "#2a3f5f",
             "gridcolor": "white",
             "linecolor": "white",
             "minorgridcolor": "white",
             "startlinecolor": "#2a3f5f"
            },
            "baxis": {
             "endlinecolor": "#2a3f5f",
             "gridcolor": "white",
             "linecolor": "white",
             "minorgridcolor": "white",
             "startlinecolor": "#2a3f5f"
            },
            "type": "carpet"
           }
          ],
          "choropleth": [
           {
            "colorbar": {
             "outlinewidth": 0,
             "ticks": ""
            },
            "type": "choropleth"
           }
          ],
          "contour": [
           {
            "colorbar": {
             "outlinewidth": 0,
             "ticks": ""
            },
            "colorscale": [
             [
              0,
              "#0d0887"
             ],
             [
              0.1111111111111111,
              "#46039f"
             ],
             [
              0.2222222222222222,
              "#7201a8"
             ],
             [
              0.3333333333333333,
              "#9c179e"
             ],
             [
              0.4444444444444444,
              "#bd3786"
             ],
             [
              0.5555555555555556,
              "#d8576b"
             ],
             [
              0.6666666666666666,
              "#ed7953"
             ],
             [
              0.7777777777777778,
              "#fb9f3a"
             ],
             [
              0.8888888888888888,
              "#fdca26"
             ],
             [
              1,
              "#f0f921"
             ]
            ],
            "type": "contour"
           }
          ],
          "contourcarpet": [
           {
            "colorbar": {
             "outlinewidth": 0,
             "ticks": ""
            },
            "type": "contourcarpet"
           }
          ],
          "heatmap": [
           {
            "colorbar": {
             "outlinewidth": 0,
             "ticks": ""
            },
            "colorscale": [
             [
              0,
              "#0d0887"
             ],
             [
              0.1111111111111111,
              "#46039f"
             ],
             [
              0.2222222222222222,
              "#7201a8"
             ],
             [
              0.3333333333333333,
              "#9c179e"
             ],
             [
              0.4444444444444444,
              "#bd3786"
             ],
             [
              0.5555555555555556,
              "#d8576b"
             ],
             [
              0.6666666666666666,
              "#ed7953"
             ],
             [
              0.7777777777777778,
              "#fb9f3a"
             ],
             [
              0.8888888888888888,
              "#fdca26"
             ],
             [
              1,
              "#f0f921"
             ]
            ],
            "type": "heatmap"
           }
          ],
          "heatmapgl": [
           {
            "colorbar": {
             "outlinewidth": 0,
             "ticks": ""
            },
            "colorscale": [
             [
              0,
              "#0d0887"
             ],
             [
              0.1111111111111111,
              "#46039f"
             ],
             [
              0.2222222222222222,
              "#7201a8"
             ],
             [
              0.3333333333333333,
              "#9c179e"
             ],
             [
              0.4444444444444444,
              "#bd3786"
             ],
             [
              0.5555555555555556,
              "#d8576b"
             ],
             [
              0.6666666666666666,
              "#ed7953"
             ],
             [
              0.7777777777777778,
              "#fb9f3a"
             ],
             [
              0.8888888888888888,
              "#fdca26"
             ],
             [
              1,
              "#f0f921"
             ]
            ],
            "type": "heatmapgl"
           }
          ],
          "histogram": [
           {
            "marker": {
             "pattern": {
              "fillmode": "overlay",
              "size": 10,
              "solidity": 0.2
             }
            },
            "type": "histogram"
           }
          ],
          "histogram2d": [
           {
            "colorbar": {
             "outlinewidth": 0,
             "ticks": ""
            },
            "colorscale": [
             [
              0,
              "#0d0887"
             ],
             [
              0.1111111111111111,
              "#46039f"
             ],
             [
              0.2222222222222222,
              "#7201a8"
             ],
             [
              0.3333333333333333,
              "#9c179e"
             ],
             [
              0.4444444444444444,
              "#bd3786"
             ],
             [
              0.5555555555555556,
              "#d8576b"
             ],
             [
              0.6666666666666666,
              "#ed7953"
             ],
             [
              0.7777777777777778,
              "#fb9f3a"
             ],
             [
              0.8888888888888888,
              "#fdca26"
             ],
             [
              1,
              "#f0f921"
             ]
            ],
            "type": "histogram2d"
           }
          ],
          "histogram2dcontour": [
           {
            "colorbar": {
             "outlinewidth": 0,
             "ticks": ""
            },
            "colorscale": [
             [
              0,
              "#0d0887"
             ],
             [
              0.1111111111111111,
              "#46039f"
             ],
             [
              0.2222222222222222,
              "#7201a8"
             ],
             [
              0.3333333333333333,
              "#9c179e"
             ],
             [
              0.4444444444444444,
              "#bd3786"
             ],
             [
              0.5555555555555556,
              "#d8576b"
             ],
             [
              0.6666666666666666,
              "#ed7953"
             ],
             [
              0.7777777777777778,
              "#fb9f3a"
             ],
             [
              0.8888888888888888,
              "#fdca26"
             ],
             [
              1,
              "#f0f921"
             ]
            ],
            "type": "histogram2dcontour"
           }
          ],
          "mesh3d": [
           {
            "colorbar": {
             "outlinewidth": 0,
             "ticks": ""
            },
            "type": "mesh3d"
           }
          ],
          "parcoords": [
           {
            "line": {
             "colorbar": {
              "outlinewidth": 0,
              "ticks": ""
             }
            },
            "type": "parcoords"
           }
          ],
          "pie": [
           {
            "automargin": true,
            "type": "pie"
           }
          ],
          "scatter": [
           {
            "fillpattern": {
             "fillmode": "overlay",
             "size": 10,
             "solidity": 0.2
            },
            "type": "scatter"
           }
          ],
          "scatter3d": [
           {
            "line": {
             "colorbar": {
              "outlinewidth": 0,
              "ticks": ""
             }
            },
            "marker": {
             "colorbar": {
              "outlinewidth": 0,
              "ticks": ""
             }
            },
            "type": "scatter3d"
           }
          ],
          "scattercarpet": [
           {
            "marker": {
             "colorbar": {
              "outlinewidth": 0,
              "ticks": ""
             }
            },
            "type": "scattercarpet"
           }
          ],
          "scattergeo": [
           {
            "marker": {
             "colorbar": {
              "outlinewidth": 0,
              "ticks": ""
             }
            },
            "type": "scattergeo"
           }
          ],
          "scattergl": [
           {
            "marker": {
             "colorbar": {
              "outlinewidth": 0,
              "ticks": ""
             }
            },
            "type": "scattergl"
           }
          ],
          "scattermapbox": [
           {
            "marker": {
             "colorbar": {
              "outlinewidth": 0,
              "ticks": ""
             }
            },
            "type": "scattermapbox"
           }
          ],
          "scatterpolar": [
           {
            "marker": {
             "colorbar": {
              "outlinewidth": 0,
              "ticks": ""
             }
            },
            "type": "scatterpolar"
           }
          ],
          "scatterpolargl": [
           {
            "marker": {
             "colorbar": {
              "outlinewidth": 0,
              "ticks": ""
             }
            },
            "type": "scatterpolargl"
           }
          ],
          "scatterternary": [
           {
            "marker": {
             "colorbar": {
              "outlinewidth": 0,
              "ticks": ""
             }
            },
            "type": "scatterternary"
           }
          ],
          "surface": [
           {
            "colorbar": {
             "outlinewidth": 0,
             "ticks": ""
            },
            "colorscale": [
             [
              0,
              "#0d0887"
             ],
             [
              0.1111111111111111,
              "#46039f"
             ],
             [
              0.2222222222222222,
              "#7201a8"
             ],
             [
              0.3333333333333333,
              "#9c179e"
             ],
             [
              0.4444444444444444,
              "#bd3786"
             ],
             [
              0.5555555555555556,
              "#d8576b"
             ],
             [
              0.6666666666666666,
              "#ed7953"
             ],
             [
              0.7777777777777778,
              "#fb9f3a"
             ],
             [
              0.8888888888888888,
              "#fdca26"
             ],
             [
              1,
              "#f0f921"
             ]
            ],
            "type": "surface"
           }
          ],
          "table": [
           {
            "cells": {
             "fill": {
              "color": "#EBF0F8"
             },
             "line": {
              "color": "white"
             }
            },
            "header": {
             "fill": {
              "color": "#C8D4E3"
             },
             "line": {
              "color": "white"
             }
            },
            "type": "table"
           }
          ]
         },
         "layout": {
          "annotationdefaults": {
           "arrowcolor": "#2a3f5f",
           "arrowhead": 0,
           "arrowwidth": 1
          },
          "autotypenumbers": "strict",
          "coloraxis": {
           "colorbar": {
            "outlinewidth": 0,
            "ticks": ""
           }
          },
          "colorscale": {
           "diverging": [
            [
             0,
             "#8e0152"
            ],
            [
             0.1,
             "#c51b7d"
            ],
            [
             0.2,
             "#de77ae"
            ],
            [
             0.3,
             "#f1b6da"
            ],
            [
             0.4,
             "#fde0ef"
            ],
            [
             0.5,
             "#f7f7f7"
            ],
            [
             0.6,
             "#e6f5d0"
            ],
            [
             0.7,
             "#b8e186"
            ],
            [
             0.8,
             "#7fbc41"
            ],
            [
             0.9,
             "#4d9221"
            ],
            [
             1,
             "#276419"
            ]
           ],
           "sequential": [
            [
             0,
             "#0d0887"
            ],
            [
             0.1111111111111111,
             "#46039f"
            ],
            [
             0.2222222222222222,
             "#7201a8"
            ],
            [
             0.3333333333333333,
             "#9c179e"
            ],
            [
             0.4444444444444444,
             "#bd3786"
            ],
            [
             0.5555555555555556,
             "#d8576b"
            ],
            [
             0.6666666666666666,
             "#ed7953"
            ],
            [
             0.7777777777777778,
             "#fb9f3a"
            ],
            [
             0.8888888888888888,
             "#fdca26"
            ],
            [
             1,
             "#f0f921"
            ]
           ],
           "sequentialminus": [
            [
             0,
             "#0d0887"
            ],
            [
             0.1111111111111111,
             "#46039f"
            ],
            [
             0.2222222222222222,
             "#7201a8"
            ],
            [
             0.3333333333333333,
             "#9c179e"
            ],
            [
             0.4444444444444444,
             "#bd3786"
            ],
            [
             0.5555555555555556,
             "#d8576b"
            ],
            [
             0.6666666666666666,
             "#ed7953"
            ],
            [
             0.7777777777777778,
             "#fb9f3a"
            ],
            [
             0.8888888888888888,
             "#fdca26"
            ],
            [
             1,
             "#f0f921"
            ]
           ]
          },
          "colorway": [
           "#636efa",
           "#EF553B",
           "#00cc96",
           "#ab63fa",
           "#FFA15A",
           "#19d3f3",
           "#FF6692",
           "#B6E880",
           "#FF97FF",
           "#FECB52"
          ],
          "font": {
           "color": "#2a3f5f"
          },
          "geo": {
           "bgcolor": "white",
           "lakecolor": "white",
           "landcolor": "#E5ECF6",
           "showlakes": true,
           "showland": true,
           "subunitcolor": "white"
          },
          "hoverlabel": {
           "align": "left"
          },
          "hovermode": "closest",
          "mapbox": {
           "style": "light"
          },
          "paper_bgcolor": "white",
          "plot_bgcolor": "#E5ECF6",
          "polar": {
           "angularaxis": {
            "gridcolor": "white",
            "linecolor": "white",
            "ticks": ""
           },
           "bgcolor": "#E5ECF6",
           "radialaxis": {
            "gridcolor": "white",
            "linecolor": "white",
            "ticks": ""
           }
          },
          "scene": {
           "xaxis": {
            "backgroundcolor": "#E5ECF6",
            "gridcolor": "white",
            "gridwidth": 2,
            "linecolor": "white",
            "showbackground": true,
            "ticks": "",
            "zerolinecolor": "white"
           },
           "yaxis": {
            "backgroundcolor": "#E5ECF6",
            "gridcolor": "white",
            "gridwidth": 2,
            "linecolor": "white",
            "showbackground": true,
            "ticks": "",
            "zerolinecolor": "white"
           },
           "zaxis": {
            "backgroundcolor": "#E5ECF6",
            "gridcolor": "white",
            "gridwidth": 2,
            "linecolor": "white",
            "showbackground": true,
            "ticks": "",
            "zerolinecolor": "white"
           }
          },
          "shapedefaults": {
           "line": {
            "color": "#2a3f5f"
           }
          },
          "ternary": {
           "aaxis": {
            "gridcolor": "white",
            "linecolor": "white",
            "ticks": ""
           },
           "baxis": {
            "gridcolor": "white",
            "linecolor": "white",
            "ticks": ""
           },
           "bgcolor": "#E5ECF6",
           "caxis": {
            "gridcolor": "white",
            "linecolor": "white",
            "ticks": ""
           }
          },
          "title": {
           "x": 0.05
          },
          "xaxis": {
           "automargin": true,
           "gridcolor": "white",
           "linecolor": "white",
           "ticks": "",
           "title": {
            "standoff": 15
           },
           "zerolinecolor": "white",
           "zerolinewidth": 2
          },
          "yaxis": {
           "automargin": true,
           "gridcolor": "white",
           "linecolor": "white",
           "ticks": "",
           "title": {
            "standoff": 15
           },
           "zerolinecolor": "white",
           "zerolinewidth": 2
          }
         }
        },
        "xaxis": {
         "autorange": true,
         "dtick": 1,
         "gridwidth": 2,
         "range": [
          -0.5,
          2.5
         ],
         "showticklabels": false,
         "tick0": -0.5,
         "ticks": "",
         "zeroline": false
        },
        "yaxis": {
         "autorange": true,
         "dtick": 1,
         "gridwidth": 2,
         "range": [
          49.5,
          -0.5
         ],
         "showticklabels": false,
         "tick0": 0.5,
         "ticks": "",
         "zeroline": false
        }
       }
      },
      "image/png": "[encoded data removed]",
      "text/html": [
       "<div>                            <div id=\"c41a96e8-1084-4941-a6a2-67745a5b1a22\" class=\"plotly-graph-div\" style=\"height:1550px; width:100%;\"></div>            <script type=\"text/javascript\">                require([\"plotly\"], function(Plotly) {                    window.PLOTLYENV=window.PLOTLYENV || {};                                    if (document.getElementById(\"c41a96e8-1084-4941-a6a2-67745a5b1a22\")) {                    Plotly.newPlot(                        \"c41a96e8-1084-4941-a6a2-67745a5b1a22\",                        [{\"colorscale\":[[0,\"#00083e\"],[0.5,\"#ededee\"],[1,\"#ffffff\"]],\"hoverinfo\":\"none\",\"opacity\":0.75,\"showscale\":false,\"z\":[[0,0,0],[0.5,0.5,0.5],[1,1,1],[0.5,0.5,0.5],[1,1,1],[0.5,0.5,0.5],[1,1,1],[0.5,0.5,0.5],[1,1,1],[0.5,0.5,0.5],[1,1,1],[0.5,0.5,0.5],[1,1,1],[0.5,0.5,0.5],[1,1,1],[0.5,0.5,0.5],[1,1,1],[0.5,0.5,0.5],[1,1,1],[0.5,0.5,0.5],[1,1,1],[0.5,0.5,0.5],[1,1,1],[0.5,0.5,0.5],[1,1,1],[0.5,0.5,0.5],[1,1,1],[0.5,0.5,0.5],[1,1,1],[0.5,0.5,0.5],[1,1,1],[0.5,0.5,0.5],[1,1,1],[0.5,0.5,0.5],[1,1,1],[0.5,0.5,0.5],[1,1,1],[0.5,0.5,0.5],[1,1,1],[0.5,0.5,0.5],[1,1,1],[0.5,0.5,0.5],[1,1,1],[0.5,0.5,0.5],[1,1,1],[0.5,0.5,0.5],[1,1,1],[0.5,0.5,0.5],[1,1,1],[0.5,0.5,0.5]],\"type\":\"heatmap\"}],                        {\"annotations\":[{\"align\":\"left\",\"font\":{\"color\":\"#ffffff\"},\"showarrow\":false,\"text\":\"<b>Nombre Ubicaci\\u00f3n</b>\",\"x\":-0.45,\"xanchor\":\"left\",\"xref\":\"x\",\"y\":0,\"yref\":\"y\"},{\"align\":\"left\",\"font\":{\"color\":\"#ffffff\"},\"showarrow\":false,\"text\":\"<b>Beneficiarios</b>\",\"x\":0.55,\"xanchor\":\"left\",\"xref\":\"x\",\"y\":0,\"yref\":\"y\"},{\"align\":\"left\",\"font\":{\"color\":\"#ffffff\"},\"showarrow\":false,\"text\":\"<b>Color</b>\",\"x\":1.55,\"xanchor\":\"left\",\"xref\":\"x\",\"y\":0,\"yref\":\"y\"},{\"align\":\"left\",\"font\":{\"color\":\"#000000\"},\"showarrow\":false,\"text\":\"PISHUINCO\",\"x\":-0.45,\"xanchor\":\"left\",\"xref\":\"x\",\"y\":1,\"yref\":\"y\"},{\"align\":\"left\",\"font\":{\"color\":\"#000000\"},\"showarrow\":false,\"text\":\"322.0\",\"x\":0.55,\"xanchor\":\"left\",\"xref\":\"x\",\"y\":1,\"yref\":\"y\"},{\"align\":\"left\",\"font\":{\"color\":\"#000000\"},\"showarrow\":false,\"text\":\"green\",\"x\":1.55,\"xanchor\":\"left\",\"xref\":\"x\",\"y\":1,\"yref\":\"y\"},{\"align\":\"left\",\"font\":{\"color\":\"#000000\"},\"showarrow\":false,\"text\":\"CURI\\u00d1ANCO\",\"x\":-0.45,\"xanchor\":\"left\",\"xref\":\"x\",\"y\":2,\"yref\":\"y\"},{\"align\":\"left\",\"font\":{\"color\":\"#000000\"},\"showarrow\":false,\"text\":\"2294.0\",\"x\":0.55,\"xanchor\":\"left\",\"xref\":\"x\",\"y\":2,\"yref\":\"y\"},{\"align\":\"left\",\"font\":{\"color\":\"#000000\"},\"showarrow\":false,\"text\":\"purple\",\"x\":1.55,\"xanchor\":\"left\",\"xref\":\"x\",\"y\":2,\"yref\":\"y\"},{\"align\":\"left\",\"font\":{\"color\":\"#000000\"},\"showarrow\":false,\"text\":\"HUELLELHUE\",\"x\":-0.45,\"xanchor\":\"left\",\"xref\":\"x\",\"y\":3,\"yref\":\"y\"},{\"align\":\"left\",\"font\":{\"color\":\"#000000\"},\"showarrow\":false,\"text\":\"310.0\",\"x\":0.55,\"xanchor\":\"left\",\"xref\":\"x\",\"y\":3,\"yref\":\"y\"},{\"align\":\"left\",\"font\":{\"color\":\"#000000\"},\"showarrow\":false,\"text\":\"green\",\"x\":1.55,\"xanchor\":\"left\",\"xref\":\"x\",\"y\":3,\"yref\":\"y\"},{\"align\":\"left\",\"font\":{\"color\":\"#000000\"},\"showarrow\":false,\"text\":\"LAS GAVIOTAS\",\"x\":-0.45,\"xanchor\":\"left\",\"xref\":\"x\",\"y\":4,\"yref\":\"y\"},{\"align\":\"left\",\"font\":{\"color\":\"#000000\"},\"showarrow\":false,\"text\":\"1048.0\",\"x\":0.55,\"xanchor\":\"left\",\"xref\":\"x\",\"y\":4,\"yref\":\"y\"},{\"align\":\"left\",\"font\":{\"color\":\"#000000\"},\"showarrow\":false,\"text\":\"red\",\"x\":1.55,\"xanchor\":\"left\",\"xref\":\"x\",\"y\":4,\"yref\":\"y\"},{\"align\":\"left\",\"font\":{\"color\":\"#000000\"},\"showarrow\":false,\"text\":\"NIEBLA-LOS MOLINOS\",\"x\":-0.45,\"xanchor\":\"left\",\"xref\":\"x\",\"y\":5,\"yref\":\"y\"},{\"align\":\"left\",\"font\":{\"color\":\"#000000\"},\"showarrow\":false,\"text\":\"4021.0\",\"x\":0.55,\"xanchor\":\"left\",\"xref\":\"x\",\"y\":5,\"yref\":\"y\"},{\"align\":\"left\",\"font\":{\"color\":\"#000000\"},\"showarrow\":false,\"text\":\"purple\",\"x\":1.55,\"xanchor\":\"left\",\"xref\":\"x\",\"y\":5,\"yref\":\"y\"},{\"align\":\"left\",\"font\":{\"color\":\"#000000\"},\"showarrow\":false,\"text\":\"PUNUCAPA\",\"x\":-0.45,\"xanchor\":\"left\",\"xref\":\"x\",\"y\":6,\"yref\":\"y\"},{\"align\":\"left\",\"font\":{\"color\":\"#000000\"},\"showarrow\":false,\"text\":\"459.0\",\"x\":0.55,\"xanchor\":\"left\",\"xref\":\"x\",\"y\":6,\"yref\":\"y\"},{\"align\":\"left\",\"font\":{\"color\":\"#000000\"},\"showarrow\":false,\"text\":\"green\",\"x\":1.55,\"xanchor\":\"left\",\"xref\":\"x\",\"y\":6,\"yref\":\"y\"},{\"align\":\"left\",\"font\":{\"color\":\"#000000\"},\"showarrow\":false,\"text\":\"SAN IGNACIO-PLAYA ROSADA\",\"x\":-0.45,\"xanchor\":\"left\",\"xref\":\"x\",\"y\":7,\"yref\":\"y\"},{\"align\":\"left\",\"font\":{\"color\":\"#000000\"},\"showarrow\":false,\"text\":\"936.0\",\"x\":0.55,\"xanchor\":\"left\",\"xref\":\"x\",\"y\":7,\"yref\":\"y\"},{\"align\":\"left\",\"font\":{\"color\":\"#000000\"},\"showarrow\":false,\"text\":\"orange\",\"x\":1.55,\"xanchor\":\"left\",\"xref\":\"x\",\"y\":7,\"yref\":\"y\"},{\"align\":\"left\",\"font\":{\"color\":\"#000000\"},\"showarrow\":false,\"text\":\"TRES ESPINOS\",\"x\":-0.45,\"xanchor\":\"left\",\"xref\":\"x\",\"y\":8,\"yref\":\"y\"},{\"align\":\"left\",\"font\":{\"color\":\"#000000\"},\"showarrow\":false,\"text\":\"1091.0\",\"x\":0.55,\"xanchor\":\"left\",\"xref\":\"x\",\"y\":8,\"yref\":\"y\"},{\"align\":\"left\",\"font\":{\"color\":\"#000000\"},\"showarrow\":false,\"text\":\"red\",\"x\":1.55,\"xanchor\":\"left\",\"xref\":\"x\",\"y\":8,\"yref\":\"y\"},{\"align\":\"left\",\"font\":{\"color\":\"#000000\"},\"showarrow\":false,\"text\":\"VILLA CAYUMAPU\",\"x\":-0.45,\"xanchor\":\"left\",\"xref\":\"x\",\"y\":9,\"yref\":\"y\"},{\"align\":\"left\",\"font\":{\"color\":\"#000000\"},\"showarrow\":false,\"text\":\"1327.0\",\"x\":0.55,\"xanchor\":\"left\",\"xref\":\"x\",\"y\":9,\"yref\":\"y\"},{\"align\":\"left\",\"font\":{\"color\":\"#000000\"},\"showarrow\":false,\"text\":\"red\",\"x\":1.55,\"xanchor\":\"left\",\"xref\":\"x\",\"y\":9,\"yref\":\"y\"},{\"align\":\"left\",\"font\":{\"color\":\"#000000\"},\"showarrow\":false,\"text\":\"EL ARENAL SANTA ELVIRA\",\"x\":-0.45,\"xanchor\":\"left\",\"xref\":\"x\",\"y\":10,\"yref\":\"y\"},{\"align\":\"left\",\"font\":{\"color\":\"#000000\"},\"showarrow\":false,\"text\":\"549.0\",\"x\":0.55,\"xanchor\":\"left\",\"xref\":\"x\",\"y\":10,\"yref\":\"y\"},{\"align\":\"left\",\"font\":{\"color\":\"#000000\"},\"showarrow\":false,\"text\":\"orange\",\"x\":1.55,\"xanchor\":\"left\",\"xref\":\"x\",\"y\":10,\"yref\":\"y\"},{\"align\":\"left\",\"font\":{\"color\":\"#000000\"},\"showarrow\":false,\"text\":\"PAILLAO\",\"x\":-0.45,\"xanchor\":\"left\",\"xref\":\"x\",\"y\":11,\"yref\":\"y\"},{\"align\":\"left\",\"font\":{\"color\":\"#000000\"},\"showarrow\":false,\"text\":\"871.0\",\"x\":0.55,\"xanchor\":\"left\",\"xref\":\"x\",\"y\":11,\"yref\":\"y\"},{\"align\":\"left\",\"font\":{\"color\":\"#000000\"},\"showarrow\":false,\"text\":\"orange\",\"x\":1.55,\"xanchor\":\"left\",\"xref\":\"x\",\"y\":11,\"yref\":\"y\"},{\"align\":\"left\",\"font\":{\"color\":\"#000000\"},\"showarrow\":false,\"text\":\"CABO BLANCO\",\"x\":-0.45,\"xanchor\":\"left\",\"xref\":\"x\",\"y\":12,\"yref\":\"y\"},{\"align\":\"left\",\"font\":{\"color\":\"#000000\"},\"showarrow\":false,\"text\":\"543.0\",\"x\":0.55,\"xanchor\":\"left\",\"xref\":\"x\",\"y\":12,\"yref\":\"y\"},{\"align\":\"left\",\"font\":{\"color\":\"#000000\"},\"showarrow\":false,\"text\":\"green\",\"x\":1.55,\"xanchor\":\"left\",\"xref\":\"x\",\"y\":12,\"yref\":\"y\"},{\"align\":\"left\",\"font\":{\"color\":\"#000000\"},\"showarrow\":false,\"text\":\"EL ARENAL KM 2\",\"x\":-0.45,\"xanchor\":\"left\",\"xref\":\"x\",\"y\":13,\"yref\":\"y\"},{\"align\":\"left\",\"font\":{\"color\":\"#000000\"},\"showarrow\":false,\"text\":\"623.0\",\"x\":0.55,\"xanchor\":\"left\",\"xref\":\"x\",\"y\":13,\"yref\":\"y\"},{\"align\":\"left\",\"font\":{\"color\":\"#000000\"},\"showarrow\":false,\"text\":\"orange\",\"x\":1.55,\"xanchor\":\"left\",\"xref\":\"x\",\"y\":13,\"yref\":\"y\"},{\"align\":\"left\",\"font\":{\"color\":\"#000000\"},\"showarrow\":false,\"text\":\"Chabelita\",\"x\":-0.45,\"xanchor\":\"left\",\"xref\":\"x\",\"y\":14,\"yref\":\"y\"},{\"align\":\"left\",\"font\":{\"color\":\"#000000\"},\"showarrow\":false,\"text\":\"434.0\",\"x\":0.55,\"xanchor\":\"left\",\"xref\":\"x\",\"y\":14,\"yref\":\"y\"},{\"align\":\"left\",\"font\":{\"color\":\"#000000\"},\"showarrow\":false,\"text\":\"green\",\"x\":1.55,\"xanchor\":\"left\",\"xref\":\"x\",\"y\":14,\"yref\":\"y\"},{\"align\":\"left\",\"font\":{\"color\":\"#000000\"},\"showarrow\":false,\"text\":\"ARCO IRIS\",\"x\":-0.45,\"xanchor\":\"left\",\"xref\":\"x\",\"y\":15,\"yref\":\"y\"},{\"align\":\"left\",\"font\":{\"color\":\"#000000\"},\"showarrow\":false,\"text\":\"394.0\",\"x\":0.55,\"xanchor\":\"left\",\"xref\":\"x\",\"y\":15,\"yref\":\"y\"},{\"align\":\"left\",\"font\":{\"color\":\"#000000\"},\"showarrow\":false,\"text\":\"green\",\"x\":1.55,\"xanchor\":\"left\",\"xref\":\"x\",\"y\":15,\"yref\":\"y\"},{\"align\":\"left\",\"font\":{\"color\":\"#000000\"},\"showarrow\":false,\"text\":\"EL LLOLLY\",\"x\":-0.45,\"xanchor\":\"left\",\"xref\":\"x\",\"y\":16,\"yref\":\"y\"},{\"align\":\"left\",\"font\":{\"color\":\"#000000\"},\"showarrow\":false,\"text\":\"428.0\",\"x\":0.55,\"xanchor\":\"left\",\"xref\":\"x\",\"y\":16,\"yref\":\"y\"},{\"align\":\"left\",\"font\":{\"color\":\"#000000\"},\"showarrow\":false,\"text\":\"green\",\"x\":1.55,\"xanchor\":\"left\",\"xref\":\"x\",\"y\":16,\"yref\":\"y\"},{\"align\":\"left\",\"font\":{\"color\":\"#000000\"},\"showarrow\":false,\"text\":\"PICHIRROPULLI\",\"x\":-0.45,\"xanchor\":\"left\",\"xref\":\"x\",\"y\":17,\"yref\":\"y\"},{\"align\":\"left\",\"font\":{\"color\":\"#000000\"},\"showarrow\":false,\"text\":\"1079.0\",\"x\":0.55,\"xanchor\":\"left\",\"xref\":\"x\",\"y\":17,\"yref\":\"y\"},{\"align\":\"left\",\"font\":{\"color\":\"#000000\"},\"showarrow\":false,\"text\":\"red\",\"x\":1.55,\"xanchor\":\"left\",\"xref\":\"x\",\"y\":17,\"yref\":\"y\"},{\"align\":\"left\",\"font\":{\"color\":\"#000000\"},\"showarrow\":false,\"text\":\"REUMEN\",\"x\":-0.45,\"xanchor\":\"left\",\"xref\":\"x\",\"y\":18,\"yref\":\"y\"},{\"align\":\"left\",\"font\":{\"color\":\"#000000\"},\"showarrow\":false,\"text\":\"1442.0\",\"x\":0.55,\"xanchor\":\"left\",\"xref\":\"x\",\"y\":18,\"yref\":\"y\"},{\"align\":\"left\",\"font\":{\"color\":\"#000000\"},\"showarrow\":false,\"text\":\"red\",\"x\":1.55,\"xanchor\":\"left\",\"xref\":\"x\",\"y\":18,\"yref\":\"y\"},{\"align\":\"left\",\"font\":{\"color\":\"#000000\"},\"showarrow\":false,\"text\":\"SANTA FILOMENA\",\"x\":-0.45,\"xanchor\":\"left\",\"xref\":\"x\",\"y\":19,\"yref\":\"y\"},{\"align\":\"left\",\"font\":{\"color\":\"#000000\"},\"showarrow\":false,\"text\":\"403.0\",\"x\":0.55,\"xanchor\":\"left\",\"xref\":\"x\",\"y\":19,\"yref\":\"y\"},{\"align\":\"left\",\"font\":{\"color\":\"#000000\"},\"showarrow\":false,\"text\":\"green\",\"x\":1.55,\"xanchor\":\"left\",\"xref\":\"x\",\"y\":19,\"yref\":\"y\"},{\"align\":\"left\",\"font\":{\"color\":\"#000000\"},\"showarrow\":false,\"text\":\"MANAO\",\"x\":-0.45,\"xanchor\":\"left\",\"xref\":\"x\",\"y\":20,\"yref\":\"y\"},{\"align\":\"left\",\"font\":{\"color\":\"#000000\"},\"showarrow\":false,\"text\":\"220.0\",\"x\":0.55,\"xanchor\":\"left\",\"xref\":\"x\",\"y\":20,\"yref\":\"y\"},{\"align\":\"left\",\"font\":{\"color\":\"#000000\"},\"showarrow\":false,\"text\":\"darkred\",\"x\":1.55,\"xanchor\":\"left\",\"xref\":\"x\",\"y\":20,\"yref\":\"y\"},{\"align\":\"left\",\"font\":{\"color\":\"#000000\"},\"showarrow\":false,\"text\":\"SANTA ROSA CHICA\",\"x\":-0.45,\"xanchor\":\"left\",\"xref\":\"x\",\"y\":21,\"yref\":\"y\"},{\"align\":\"left\",\"font\":{\"color\":\"#000000\"},\"showarrow\":false,\"text\":\"394.0\",\"x\":0.55,\"xanchor\":\"left\",\"xref\":\"x\",\"y\":21,\"yref\":\"y\"},{\"align\":\"left\",\"font\":{\"color\":\"#000000\"},\"showarrow\":false,\"text\":\"green\",\"x\":1.55,\"xanchor\":\"left\",\"xref\":\"x\",\"y\":21,\"yref\":\"y\"},{\"align\":\"left\",\"font\":{\"color\":\"#000000\"},\"showarrow\":false,\"text\":\"SANTA ROSA GRANDE\",\"x\":-0.45,\"xanchor\":\"left\",\"xref\":\"x\",\"y\":22,\"yref\":\"y\"},{\"align\":\"left\",\"font\":{\"color\":\"#000000\"},\"showarrow\":false,\"text\":\"319.0\",\"x\":0.55,\"xanchor\":\"left\",\"xref\":\"x\",\"y\":22,\"yref\":\"y\"},{\"align\":\"left\",\"font\":{\"color\":\"#000000\"},\"showarrow\":false,\"text\":\"green\",\"x\":1.55,\"xanchor\":\"left\",\"xref\":\"x\",\"y\":22,\"yref\":\"y\"},{\"align\":\"left\",\"font\":{\"color\":\"#000000\"},\"showarrow\":false,\"text\":\"LUMACO PAILLACO\",\"x\":-0.45,\"xanchor\":\"left\",\"xref\":\"x\",\"y\":23,\"yref\":\"y\"},{\"align\":\"left\",\"font\":{\"color\":\"#000000\"},\"showarrow\":false,\"text\":\"710.0\",\"x\":0.55,\"xanchor\":\"left\",\"xref\":\"x\",\"y\":23,\"yref\":\"y\"},{\"align\":\"left\",\"font\":{\"color\":\"#000000\"},\"showarrow\":false,\"text\":\"orange\",\"x\":1.55,\"xanchor\":\"left\",\"xref\":\"x\",\"y\":23,\"yref\":\"y\"},{\"align\":\"left\",\"font\":{\"color\":\"#000000\"},\"showarrow\":false,\"text\":\"EL MAITEN\",\"x\":-0.45,\"xanchor\":\"left\",\"xref\":\"x\",\"y\":24,\"yref\":\"y\"},{\"align\":\"left\",\"font\":{\"color\":\"#000000\"},\"showarrow\":false,\"text\":\"155.0\",\"x\":0.55,\"xanchor\":\"left\",\"xref\":\"x\",\"y\":24,\"yref\":\"y\"},{\"align\":\"left\",\"font\":{\"color\":\"#000000\"},\"showarrow\":false,\"text\":\"darkred\",\"x\":1.55,\"xanchor\":\"left\",\"xref\":\"x\",\"y\":24,\"yref\":\"y\"},{\"align\":\"left\",\"font\":{\"color\":\"#000000\"},\"showarrow\":false,\"text\":\"SANTA FILOMENA II\",\"x\":-0.45,\"xanchor\":\"left\",\"xref\":\"x\",\"y\":25,\"yref\":\"y\"},{\"align\":\"left\",\"font\":{\"color\":\"#000000\"},\"showarrow\":false,\"text\":\"211.0\",\"x\":0.55,\"xanchor\":\"left\",\"xref\":\"x\",\"y\":25,\"yref\":\"y\"},{\"align\":\"left\",\"font\":{\"color\":\"#000000\"},\"showarrow\":false,\"text\":\"darkred\",\"x\":1.55,\"xanchor\":\"left\",\"xref\":\"x\",\"y\":25,\"yref\":\"y\"},{\"align\":\"left\",\"font\":{\"color\":\"#000000\"},\"showarrow\":false,\"text\":\"ANTILHUE\",\"x\":-0.45,\"xanchor\":\"left\",\"xref\":\"x\",\"y\":26,\"yref\":\"y\"},{\"align\":\"left\",\"font\":{\"color\":\"#000000\"},\"showarrow\":false,\"text\":\"1414.0\",\"x\":0.55,\"xanchor\":\"left\",\"xref\":\"x\",\"y\":26,\"yref\":\"y\"},{\"align\":\"left\",\"font\":{\"color\":\"#000000\"},\"showarrow\":false,\"text\":\"red\",\"x\":1.55,\"xanchor\":\"left\",\"xref\":\"x\",\"y\":26,\"yref\":\"y\"},{\"align\":\"left\",\"font\":{\"color\":\"#000000\"},\"showarrow\":false,\"text\":\"FOLILCO LOS LAGOS\",\"x\":-0.45,\"xanchor\":\"left\",\"xref\":\"x\",\"y\":27,\"yref\":\"y\"},{\"align\":\"left\",\"font\":{\"color\":\"#000000\"},\"showarrow\":false,\"text\":\"474.0\",\"x\":0.55,\"xanchor\":\"left\",\"xref\":\"x\",\"y\":27,\"yref\":\"y\"},{\"align\":\"left\",\"font\":{\"color\":\"#000000\"},\"showarrow\":false,\"text\":\"green\",\"x\":1.55,\"xanchor\":\"left\",\"xref\":\"x\",\"y\":27,\"yref\":\"y\"},{\"align\":\"left\",\"font\":{\"color\":\"#000000\"},\"showarrow\":false,\"text\":\"QUILQUILCO\",\"x\":-0.45,\"xanchor\":\"left\",\"xref\":\"x\",\"y\":28,\"yref\":\"y\"},{\"align\":\"left\",\"font\":{\"color\":\"#000000\"},\"showarrow\":false,\"text\":\"149.0\",\"x\":0.55,\"xanchor\":\"left\",\"xref\":\"x\",\"y\":28,\"yref\":\"y\"},{\"align\":\"left\",\"font\":{\"color\":\"#000000\"},\"showarrow\":false,\"text\":\"darkred\",\"x\":1.55,\"xanchor\":\"left\",\"xref\":\"x\",\"y\":28,\"yref\":\"y\"},{\"align\":\"left\",\"font\":{\"color\":\"#000000\"},\"showarrow\":false,\"text\":\"RI\\u00d1IHUE\",\"x\":-0.45,\"xanchor\":\"left\",\"xref\":\"x\",\"y\":29,\"yref\":\"y\"},{\"align\":\"left\",\"font\":{\"color\":\"#000000\"},\"showarrow\":false,\"text\":\"208.0\",\"x\":0.55,\"xanchor\":\"left\",\"xref\":\"x\",\"y\":29,\"yref\":\"y\"},{\"align\":\"left\",\"font\":{\"color\":\"#000000\"},\"showarrow\":false,\"text\":\"darkred\",\"x\":1.55,\"xanchor\":\"left\",\"xref\":\"x\",\"y\":29,\"yref\":\"y\"},{\"align\":\"left\",\"font\":{\"color\":\"#000000\"},\"showarrow\":false,\"text\":\"USTARITZ\",\"x\":-0.45,\"xanchor\":\"left\",\"xref\":\"x\",\"y\":30,\"yref\":\"y\"},{\"align\":\"left\",\"font\":{\"color\":\"#000000\"},\"showarrow\":false,\"text\":\"434.0\",\"x\":0.55,\"xanchor\":\"left\",\"xref\":\"x\",\"y\":30,\"yref\":\"y\"},{\"align\":\"left\",\"font\":{\"color\":\"#000000\"},\"showarrow\":false,\"text\":\"green\",\"x\":1.55,\"xanchor\":\"left\",\"xref\":\"x\",\"y\":30,\"yref\":\"y\"},{\"align\":\"left\",\"font\":{\"color\":\"#000000\"},\"showarrow\":false,\"text\":\"EL SALTO\",\"x\":-0.45,\"xanchor\":\"left\",\"xref\":\"x\",\"y\":31,\"yref\":\"y\"},{\"align\":\"left\",\"font\":{\"color\":\"#000000\"},\"showarrow\":false,\"text\":\"592.0\",\"x\":0.55,\"xanchor\":\"left\",\"xref\":\"x\",\"y\":31,\"yref\":\"y\"},{\"align\":\"left\",\"font\":{\"color\":\"#000000\"},\"showarrow\":false,\"text\":\"orange\",\"x\":1.55,\"xanchor\":\"left\",\"xref\":\"x\",\"y\":31,\"yref\":\"y\"},{\"align\":\"left\",\"font\":{\"color\":\"#000000\"},\"showarrow\":false,\"text\":\"PELLINADA LAS QUINIENTAS\",\"x\":-0.45,\"xanchor\":\"left\",\"xref\":\"x\",\"y\":32,\"yref\":\"y\"},{\"align\":\"left\",\"font\":{\"color\":\"#000000\"},\"showarrow\":false,\"text\":\"434.0\",\"x\":0.55,\"xanchor\":\"left\",\"xref\":\"x\",\"y\":32,\"yref\":\"y\"},{\"align\":\"left\",\"font\":{\"color\":\"#000000\"},\"showarrow\":false,\"text\":\"green\",\"x\":1.55,\"xanchor\":\"left\",\"xref\":\"x\",\"y\":32,\"yref\":\"y\"},{\"align\":\"left\",\"font\":{\"color\":\"#000000\"},\"showarrow\":false,\"text\":\"PANCUL\",\"x\":-0.45,\"xanchor\":\"left\",\"xref\":\"x\",\"y\":33,\"yref\":\"y\"},{\"align\":\"left\",\"font\":{\"color\":\"#000000\"},\"showarrow\":false,\"text\":\"729.0\",\"x\":0.55,\"xanchor\":\"left\",\"xref\":\"x\",\"y\":33,\"yref\":\"y\"},{\"align\":\"left\",\"font\":{\"color\":\"#000000\"},\"showarrow\":false,\"text\":\"orange\",\"x\":1.55,\"xanchor\":\"left\",\"xref\":\"x\",\"y\":33,\"yref\":\"y\"},{\"align\":\"left\",\"font\":{\"color\":\"#000000\"},\"showarrow\":false,\"text\":\"LOS COLIG\\u00dcES\",\"x\":-0.45,\"xanchor\":\"left\",\"xref\":\"x\",\"y\":34,\"yref\":\"y\"},{\"align\":\"left\",\"font\":{\"color\":\"#000000\"},\"showarrow\":false,\"text\":\"456.0\",\"x\":0.55,\"xanchor\":\"left\",\"xref\":\"x\",\"y\":34,\"yref\":\"y\"},{\"align\":\"left\",\"font\":{\"color\":\"#000000\"},\"showarrow\":false,\"text\":\"green\",\"x\":1.55,\"xanchor\":\"left\",\"xref\":\"x\",\"y\":34,\"yref\":\"y\"},{\"align\":\"left\",\"font\":{\"color\":\"#000000\"},\"showarrow\":false,\"text\":\"COLO COLO\",\"x\":-0.45,\"xanchor\":\"left\",\"xref\":\"x\",\"y\":35,\"yref\":\"y\"},{\"align\":\"left\",\"font\":{\"color\":\"#000000\"},\"showarrow\":false,\"text\":\"298.0\",\"x\":0.55,\"xanchor\":\"left\",\"xref\":\"x\",\"y\":35,\"yref\":\"y\"},{\"align\":\"left\",\"font\":{\"color\":\"#000000\"},\"showarrow\":false,\"text\":\"darkred\",\"x\":1.55,\"xanchor\":\"left\",\"xref\":\"x\",\"y\":35,\"yref\":\"y\"},{\"align\":\"left\",\"font\":{\"color\":\"#000000\"},\"showarrow\":false,\"text\":\"LAS HUELLLAS\",\"x\":-0.45,\"xanchor\":\"left\",\"xref\":\"x\",\"y\":36,\"yref\":\"y\"},{\"align\":\"left\",\"font\":{\"color\":\"#000000\"},\"showarrow\":false,\"text\":\"276.0\",\"x\":0.55,\"xanchor\":\"left\",\"xref\":\"x\",\"y\":36,\"yref\":\"y\"},{\"align\":\"left\",\"font\":{\"color\":\"#000000\"},\"showarrow\":false,\"text\":\"darkred\",\"x\":1.55,\"xanchor\":\"left\",\"xref\":\"x\",\"y\":36,\"yref\":\"y\"},{\"align\":\"left\",\"font\":{\"color\":\"#000000\"},\"showarrow\":false,\"text\":\"San Pedro\",\"x\":-0.45,\"xanchor\":\"left\",\"xref\":\"x\",\"y\":37,\"yref\":\"y\"},{\"align\":\"left\",\"font\":{\"color\":\"#000000\"},\"showarrow\":false,\"text\":\"375.0\",\"x\":0.55,\"xanchor\":\"left\",\"xref\":\"x\",\"y\":37,\"yref\":\"y\"},{\"align\":\"left\",\"font\":{\"color\":\"#000000\"},\"showarrow\":false,\"text\":\"green\",\"x\":1.55,\"xanchor\":\"left\",\"xref\":\"x\",\"y\":37,\"yref\":\"y\"},{\"align\":\"left\",\"font\":{\"color\":\"#000000\"},\"showarrow\":false,\"text\":\"Lipingue\",\"x\":-0.45,\"xanchor\":\"left\",\"xref\":\"x\",\"y\":38,\"yref\":\"y\"},{\"align\":\"left\",\"font\":{\"color\":\"#000000\"},\"showarrow\":false,\"text\":\"434.0\",\"x\":0.55,\"xanchor\":\"left\",\"xref\":\"x\",\"y\":38,\"yref\":\"y\"},{\"align\":\"left\",\"font\":{\"color\":\"#000000\"},\"showarrow\":false,\"text\":\"green\",\"x\":1.55,\"xanchor\":\"left\",\"xref\":\"x\",\"y\":38,\"yref\":\"y\"},{\"align\":\"left\",\"font\":{\"color\":\"#000000\"},\"showarrow\":false,\"text\":\"El Trebol\",\"x\":-0.45,\"xanchor\":\"left\",\"xref\":\"x\",\"y\":39,\"yref\":\"y\"},{\"align\":\"left\",\"font\":{\"color\":\"#000000\"},\"showarrow\":false,\"text\":\"208.0\",\"x\":0.55,\"xanchor\":\"left\",\"xref\":\"x\",\"y\":39,\"yref\":\"y\"},{\"align\":\"left\",\"font\":{\"color\":\"#000000\"},\"showarrow\":false,\"text\":\"darkred\",\"x\":1.55,\"xanchor\":\"left\",\"xref\":\"x\",\"y\":39,\"yref\":\"y\"},{\"align\":\"left\",\"font\":{\"color\":\"#000000\"},\"showarrow\":false,\"text\":\"Collico Sur\",\"x\":-0.45,\"xanchor\":\"left\",\"xref\":\"x\",\"y\":40,\"yref\":\"y\"},{\"align\":\"left\",\"font\":{\"color\":\"#000000\"},\"showarrow\":false,\"text\":\"236.0\",\"x\":0.55,\"xanchor\":\"left\",\"xref\":\"x\",\"y\":40,\"yref\":\"y\"},{\"align\":\"left\",\"font\":{\"color\":\"#000000\"},\"showarrow\":false,\"text\":\"darkred\",\"x\":1.55,\"xanchor\":\"left\",\"xref\":\"x\",\"y\":40,\"yref\":\"y\"},{\"align\":\"left\",\"font\":{\"color\":\"#000000\"},\"showarrow\":false,\"text\":\"Mi Tierra\",\"x\":-0.45,\"xanchor\":\"left\",\"xref\":\"x\",\"y\":41,\"yref\":\"y\"},{\"align\":\"left\",\"font\":{\"color\":\"#000000\"},\"showarrow\":false,\"text\":\"71.0\",\"x\":0.55,\"xanchor\":\"left\",\"xref\":\"x\",\"y\":41,\"yref\":\"y\"},{\"align\":\"left\",\"font\":{\"color\":\"#000000\"},\"showarrow\":false,\"text\":\"darkred\",\"x\":1.55,\"xanchor\":\"left\",\"xref\":\"x\",\"y\":41,\"yref\":\"y\"},{\"align\":\"left\",\"font\":{\"color\":\"#000000\"},\"showarrow\":false,\"text\":\"Pu\\u00f1aco\",\"x\":-0.45,\"xanchor\":\"left\",\"xref\":\"x\",\"y\":42,\"yref\":\"y\"},{\"align\":\"left\",\"font\":{\"color\":\"#000000\"},\"showarrow\":false,\"text\":\"81.0\",\"x\":0.55,\"xanchor\":\"left\",\"xref\":\"x\",\"y\":42,\"yref\":\"y\"},{\"align\":\"left\",\"font\":{\"color\":\"#000000\"},\"showarrow\":false,\"text\":\"darkred\",\"x\":1.55,\"xanchor\":\"left\",\"xref\":\"x\",\"y\":42,\"yref\":\"y\"},{\"align\":\"left\",\"font\":{\"color\":\"#000000\"},\"showarrow\":false,\"text\":\"Purey\",\"x\":-0.45,\"xanchor\":\"left\",\"xref\":\"x\",\"y\":43,\"yref\":\"y\"},{\"align\":\"left\",\"font\":{\"color\":\"#000000\"},\"showarrow\":false,\"text\":\"78.0\",\"x\":0.55,\"xanchor\":\"left\",\"xref\":\"x\",\"y\":43,\"yref\":\"y\"},{\"align\":\"left\",\"font\":{\"color\":\"#000000\"},\"showarrow\":false,\"text\":\"darkred\",\"x\":1.55,\"xanchor\":\"left\",\"xref\":\"x\",\"y\":43,\"yref\":\"y\"},{\"align\":\"left\",\"font\":{\"color\":\"#000000\"},\"showarrow\":false,\"text\":\"AMARGO-SAN CARLOS\",\"x\":-0.45,\"xanchor\":\"left\",\"xref\":\"x\",\"y\":44,\"yref\":\"y\"},{\"align\":\"left\",\"font\":{\"color\":\"#000000\"},\"showarrow\":false,\"text\":\"2412.0\",\"x\":0.55,\"xanchor\":\"left\",\"xref\":\"x\",\"y\":44,\"yref\":\"y\"},{\"align\":\"left\",\"font\":{\"color\":\"#000000\"},\"showarrow\":false,\"text\":\"purple\",\"x\":1.55,\"xanchor\":\"left\",\"xref\":\"x\",\"y\":44,\"yref\":\"y\"},{\"align\":\"left\",\"font\":{\"color\":\"#000000\"},\"showarrow\":false,\"text\":\"ISLA DEL REY\",\"x\":-0.45,\"xanchor\":\"left\",\"xref\":\"x\",\"y\":45,\"yref\":\"y\"},{\"align\":\"left\",\"font\":{\"color\":\"#000000\"},\"showarrow\":false,\"text\":\"620.0\",\"x\":0.55,\"xanchor\":\"left\",\"xref\":\"x\",\"y\":45,\"yref\":\"y\"},{\"align\":\"left\",\"font\":{\"color\":\"#000000\"},\"showarrow\":false,\"text\":\"orange\",\"x\":1.55,\"xanchor\":\"left\",\"xref\":\"x\",\"y\":45,\"yref\":\"y\"},{\"align\":\"left\",\"font\":{\"color\":\"#000000\"},\"showarrow\":false,\"text\":\"ISLA MANCERA\",\"x\":-0.45,\"xanchor\":\"left\",\"xref\":\"x\",\"y\":46,\"yref\":\"y\"},{\"align\":\"left\",\"font\":{\"color\":\"#000000\"},\"showarrow\":false,\"text\":\"267.0\",\"x\":0.55,\"xanchor\":\"left\",\"xref\":\"x\",\"y\":46,\"yref\":\"y\"},{\"align\":\"left\",\"font\":{\"color\":\"#000000\"},\"showarrow\":false,\"text\":\"darkred\",\"x\":1.55,\"xanchor\":\"left\",\"xref\":\"x\",\"y\":46,\"yref\":\"y\"},{\"align\":\"left\",\"font\":{\"color\":\"#000000\"},\"showarrow\":false,\"text\":\"LA AGUADA\",\"x\":-0.45,\"xanchor\":\"left\",\"xref\":\"x\",\"y\":47,\"yref\":\"y\"},{\"align\":\"left\",\"font\":{\"color\":\"#000000\"},\"showarrow\":false,\"text\":\"626.0\",\"x\":0.55,\"xanchor\":\"left\",\"xref\":\"x\",\"y\":47,\"yref\":\"y\"},{\"align\":\"left\",\"font\":{\"color\":\"#000000\"},\"showarrow\":false,\"text\":\"orange\",\"x\":1.55,\"xanchor\":\"left\",\"xref\":\"x\",\"y\":47,\"yref\":\"y\"},{\"align\":\"left\",\"font\":{\"color\":\"#000000\"},\"showarrow\":false,\"text\":\"CHAIHUIN\",\"x\":-0.45,\"xanchor\":\"left\",\"xref\":\"x\",\"y\":48,\"yref\":\"y\"},{\"align\":\"left\",\"font\":{\"color\":\"#000000\"},\"showarrow\":false,\"text\":\"744.0\",\"x\":0.55,\"xanchor\":\"left\",\"xref\":\"x\",\"y\":48,\"yref\":\"y\"},{\"align\":\"left\",\"font\":{\"color\":\"#000000\"},\"showarrow\":false,\"text\":\"orange\",\"x\":1.55,\"xanchor\":\"left\",\"xref\":\"x\",\"y\":48,\"yref\":\"y\"},{\"align\":\"left\",\"font\":{\"color\":\"#000000\"},\"showarrow\":false,\"text\":\"CERROS DE CORRAL\",\"x\":-0.45,\"xanchor\":\"left\",\"xref\":\"x\",\"y\":49,\"yref\":\"y\"},{\"align\":\"left\",\"font\":{\"color\":\"#000000\"},\"showarrow\":false,\"text\":\"484.0\",\"x\":0.55,\"xanchor\":\"left\",\"xref\":\"x\",\"y\":49,\"yref\":\"y\"},{\"align\":\"left\",\"font\":{\"color\":\"#000000\"},\"showarrow\":false,\"text\":\"green\",\"x\":1.55,\"xanchor\":\"left\",\"xref\":\"x\",\"y\":49,\"yref\":\"y\"}],\"height\":1550,\"margin\":{\"b\":0,\"l\":0,\"r\":0,\"t\":0},\"xaxis\":{\"dtick\":1,\"gridwidth\":2,\"showticklabels\":false,\"tick0\":-0.5,\"ticks\":\"\",\"zeroline\":false},\"yaxis\":{\"autorange\":\"reversed\",\"dtick\":1,\"gridwidth\":2,\"showticklabels\":false,\"tick0\":0.5,\"ticks\":\"\",\"zeroline\":false},\"template\":{\"data\":{\"histogram2dcontour\":[{\"type\":\"histogram2dcontour\",\"colorbar\":{\"outlinewidth\":0,\"ticks\":\"\"},\"colorscale\":[[0.0,\"#0d0887\"],[0.1111111111111111,\"#46039f\"],[0.2222222222222222,\"#7201a8\"],[0.3333333333333333,\"#9c179e\"],[0.4444444444444444,\"#bd3786\"],[0.5555555555555556,\"#d8576b\"],[0.6666666666666666,\"#ed7953\"],[0.7777777777777778,\"#fb9f3a\"],[0.8888888888888888,\"#fdca26\"],[1.0,\"#f0f921\"]]}],\"choropleth\":[{\"type\":\"choropleth\",\"colorbar\":{\"outlinewidth\":0,\"ticks\":\"\"}}],\"histogram2d\":[{\"type\":\"histogram2d\",\"colorbar\":{\"outlinewidth\":0,\"ticks\":\"\"},\"colorscale\":[[0.0,\"#0d0887\"],[0.1111111111111111,\"#46039f\"],[0.2222222222222222,\"#7201a8\"],[0.3333333333333333,\"#9c179e\"],[0.4444444444444444,\"#bd3786\"],[0.5555555555555556,\"#d8576b\"],[0.6666666666666666,\"#ed7953\"],[0.7777777777777778,\"#fb9f3a\"],[0.8888888888888888,\"#fdca26\"],[1.0,\"#f0f921\"]]}],\"heatmap\":[{\"type\":\"heatmap\",\"colorbar\":{\"outlinewidth\":0,\"ticks\":\"\"},\"colorscale\":[[0.0,\"#0d0887\"],[0.1111111111111111,\"#46039f\"],[0.2222222222222222,\"#7201a8\"],[0.3333333333333333,\"#9c179e\"],[0.4444444444444444,\"#bd3786\"],[0.5555555555555556,\"#d8576b\"],[0.6666666666666666,\"#ed7953\"],[0.7777777777777778,\"#fb9f3a\"],[0.8888888888888888,\"#fdca26\"],[1.0,\"#f0f921\"]]}],\"heatmapgl\":[{\"type\":\"heatmapgl\",\"colorbar\":{\"outlinewidth\":0,\"ticks\":\"\"},\"colorscale\":[[0.0,\"#0d0887\"],[0.1111111111111111,\"#46039f\"],[0.2222222222222222,\"#7201a8\"],[0.3333333333333333,\"#9c179e\"],[0.4444444444444444,\"#bd3786\"],[0.5555555555555556,\"#d8576b\"],[0.6666666666666666,\"#ed7953\"],[0.7777777777777778,\"#fb9f3a\"],[0.8888888888888888,\"#fdca26\"],[1.0,\"#f0f921\"]]}],\"contourcarpet\":[{\"type\":\"contourcarpet\",\"colorbar\":{\"outlinewidth\":0,\"ticks\":\"\"}}],\"contour\":[{\"type\":\"contour\",\"colorbar\":{\"outlinewidth\":0,\"ticks\":\"\"},\"colorscale\":[[0.0,\"#0d0887\"],[0.1111111111111111,\"#46039f\"],[0.2222222222222222,\"#7201a8\"],[0.3333333333333333,\"#9c179e\"],[0.4444444444444444,\"#bd3786\"],[0.5555555555555556,\"#d8576b\"],[0.6666666666666666,\"#ed7953\"],[0.7777777777777778,\"#fb9f3a\"],[0.8888888888888888,\"#fdca26\"],[1.0,\"#f0f921\"]]}],\"surface\":[{\"type\":\"surface\",\"colorbar\":{\"outlinewidth\":0,\"ticks\":\"\"},\"colorscale\":[[0.0,\"#0d0887\"],[0.1111111111111111,\"#46039f\"],[0.2222222222222222,\"#7201a8\"],[0.3333333333333333,\"#9c179e\"],[0.4444444444444444,\"#bd3786\"],[0.5555555555555556,\"#d8576b\"],[0.6666666666666666,\"#ed7953\"],[0.7777777777777778,\"#fb9f3a\"],[0.8888888888888888,\"#fdca26\"],[1.0,\"#f0f921\"]]}],\"mesh3d\":[{\"type\":\"mesh3d\",\"colorbar\":{\"outlinewidth\":0,\"ticks\":\"\"}}],\"scatter\":[{\"fillpattern\":{\"fillmode\":\"overlay\",\"size\":10,\"solidity\":0.2},\"type\":\"scatter\"}],\"parcoords\":[{\"type\":\"parcoords\",\"line\":{\"colorbar\":{\"outlinewidth\":0,\"ticks\":\"\"}}}],\"scatterpolargl\":[{\"type\":\"scatterpolargl\",\"marker\":{\"colorbar\":{\"outlinewidth\":0,\"ticks\":\"\"}}}],\"bar\":[{\"error_x\":{\"color\":\"#2a3f5f\"},\"error_y\":{\"color\":\"#2a3f5f\"},\"marker\":{\"line\":{\"color\":\"#E5ECF6\",\"width\":0.5},\"pattern\":{\"fillmode\":\"overlay\",\"size\":10,\"solidity\":0.2}},\"type\":\"bar\"}],\"scattergeo\":[{\"type\":\"scattergeo\",\"marker\":{\"colorbar\":{\"outlinewidth\":0,\"ticks\":\"\"}}}],\"scatterpolar\":[{\"type\":\"scatterpolar\",\"marker\":{\"colorbar\":{\"outlinewidth\":0,\"ticks\":\"\"}}}],\"histogram\":[{\"marker\":{\"pattern\":{\"fillmode\":\"overlay\",\"size\":10,\"solidity\":0.2}},\"type\":\"histogram\"}],\"scattergl\":[{\"type\":\"scattergl\",\"marker\":{\"colorbar\":{\"outlinewidth\":0,\"ticks\":\"\"}}}],\"scatter3d\":[{\"type\":\"scatter3d\",\"line\":{\"colorbar\":{\"outlinewidth\":0,\"ticks\":\"\"}},\"marker\":{\"colorbar\":{\"outlinewidth\":0,\"ticks\":\"\"}}}],\"scattermapbox\":[{\"type\":\"scattermapbox\",\"marker\":{\"colorbar\":{\"outlinewidth\":0,\"ticks\":\"\"}}}],\"scatterternary\":[{\"type\":\"scatterternary\",\"marker\":{\"colorbar\":{\"outlinewidth\":0,\"ticks\":\"\"}}}],\"scattercarpet\":[{\"type\":\"scattercarpet\",\"marker\":{\"colorbar\":{\"outlinewidth\":0,\"ticks\":\"\"}}}],\"carpet\":[{\"aaxis\":{\"endlinecolor\":\"#2a3f5f\",\"gridcolor\":\"white\",\"linecolor\":\"white\",\"minorgridcolor\":\"white\",\"startlinecolor\":\"#2a3f5f\"},\"baxis\":{\"endlinecolor\":\"#2a3f5f\",\"gridcolor\":\"white\",\"linecolor\":\"white\",\"minorgridcolor\":\"white\",\"startlinecolor\":\"#2a3f5f\"},\"type\":\"carpet\"}],\"table\":[{\"cells\":{\"fill\":{\"color\":\"#EBF0F8\"},\"line\":{\"color\":\"white\"}},\"header\":{\"fill\":{\"color\":\"#C8D4E3\"},\"line\":{\"color\":\"white\"}},\"type\":\"table\"}],\"barpolar\":[{\"marker\":{\"line\":{\"color\":\"#E5ECF6\",\"width\":0.5},\"pattern\":{\"fillmode\":\"overlay\",\"size\":10,\"solidity\":0.2}},\"type\":\"barpolar\"}],\"pie\":[{\"automargin\":true,\"type\":\"pie\"}]},\"layout\":{\"autotypenumbers\":\"strict\",\"colorway\":[\"#636efa\",\"#EF553B\",\"#00cc96\",\"#ab63fa\",\"#FFA15A\",\"#19d3f3\",\"#FF6692\",\"#B6E880\",\"#FF97FF\",\"#FECB52\"],\"font\":{\"color\":\"#2a3f5f\"},\"hovermode\":\"closest\",\"hoverlabel\":{\"align\":\"left\"},\"paper_bgcolor\":\"white\",\"plot_bgcolor\":\"#E5ECF6\",\"polar\":{\"bgcolor\":\"#E5ECF6\",\"angularaxis\":{\"gridcolor\":\"white\",\"linecolor\":\"white\",\"ticks\":\"\"},\"radialaxis\":{\"gridcolor\":\"white\",\"linecolor\":\"white\",\"ticks\":\"\"}},\"ternary\":{\"bgcolor\":\"#E5ECF6\",\"aaxis\":{\"gridcolor\":\"white\",\"linecolor\":\"white\",\"ticks\":\"\"},\"baxis\":{\"gridcolor\":\"white\",\"linecolor\":\"white\",\"ticks\":\"\"},\"caxis\":{\"gridcolor\":\"white\",\"linecolor\":\"white\",\"ticks\":\"\"}},\"coloraxis\":{\"colorbar\":{\"outlinewidth\":0,\"ticks\":\"\"}},\"colorscale\":{\"sequential\":[[0.0,\"#0d0887\"],[0.1111111111111111,\"#46039f\"],[0.2222222222222222,\"#7201a8\"],[0.3333333333333333,\"#9c179e\"],[0.4444444444444444,\"#bd3786\"],[0.5555555555555556,\"#d8576b\"],[0.6666666666666666,\"#ed7953\"],[0.7777777777777778,\"#fb9f3a\"],[0.8888888888888888,\"#fdca26\"],[1.0,\"#f0f921\"]],\"sequentialminus\":[[0.0,\"#0d0887\"],[0.1111111111111111,\"#46039f\"],[0.2222222222222222,\"#7201a8\"],[0.3333333333333333,\"#9c179e\"],[0.4444444444444444,\"#bd3786\"],[0.5555555555555556,\"#d8576b\"],[0.6666666666666666,\"#ed7953\"],[0.7777777777777778,\"#fb9f3a\"],[0.8888888888888888,\"#fdca26\"],[1.0,\"#f0f921\"]],\"diverging\":[[0,\"#8e0152\"],[0.1,\"#c51b7d\"],[0.2,\"#de77ae\"],[0.3,\"#f1b6da\"],[0.4,\"#fde0ef\"],[0.5,\"#f7f7f7\"],[0.6,\"#e6f5d0\"],[0.7,\"#b8e186\"],[0.8,\"#7fbc41\"],[0.9,\"#4d9221\"],[1,\"#276419\"]]},\"xaxis\":{\"gridcolor\":\"white\",\"linecolor\":\"white\",\"ticks\":\"\",\"title\":{\"standoff\":15},\"zerolinecolor\":\"white\",\"automargin\":true,\"zerolinewidth\":2},\"yaxis\":{\"gridcolor\":\"white\",\"linecolor\":\"white\",\"ticks\":\"\",\"title\":{\"standoff\":15},\"zerolinecolor\":\"white\",\"automargin\":true,\"zerolinewidth\":2},\"scene\":{\"xaxis\":{\"backgroundcolor\":\"#E5ECF6\",\"gridcolor\":\"white\",\"linecolor\":\"white\",\"showbackground\":true,\"ticks\":\"\",\"zerolinecolor\":\"white\",\"gridwidth\":2},\"yaxis\":{\"backgroundcolor\":\"#E5ECF6\",\"gridcolor\":\"white\",\"linecolor\":\"white\",\"showbackground\":true,\"ticks\":\"\",\"zerolinecolor\":\"white\",\"gridwidth\":2},\"zaxis\":{\"backgroundcolor\":\"#E5ECF6\",\"gridcolor\":\"white\",\"linecolor\":\"white\",\"showbackground\":true,\"ticks\":\"\",\"zerolinecolor\":\"white\",\"gridwidth\":2}},\"shapedefaults\":{\"line\":{\"color\":\"#2a3f5f\"}},\"annotationdefaults\":{\"arrowcolor\":\"#2a3f5f\",\"arrowhead\":0,\"arrowwidth\":1},\"geo\":{\"bgcolor\":\"white\",\"landcolor\":\"#E5ECF6\",\"subunitcolor\":\"white\",\"showland\":true,\"showlakes\":true,\"lakecolor\":\"white\"},\"title\":{\"x\":0.05},\"mapbox\":{\"style\":\"light\"}}}},                        {\"responsive\": true}                    ).then(function(){\n",
       "                            \n",
       "var gd = document.getElementById('c41a96e8-1084-4941-a6a2-67745a5b1a22');\n",
       "var x = new MutationObserver(function (mutations, observer) {{\n",
       "        var display = window.getComputedStyle(gd).display;\n",
       "        if (!display || display === 'none') {{\n",
       "            console.log([gd, 'removed!']);\n",
       "            Plotly.purge(gd);\n",
       "            observer.disconnect();\n",
       "        }}\n",
       "}});\n",
       "\n",
       "// Listen for the removal of the full notebook cells\n",
       "var notebookContainer = gd.closest('#notebook-container');\n",
       "if (notebookContainer) {{\n",
       "    x.observe(notebookContainer, {childList: true});\n",
       "}}\n",
       "\n",
       "// Listen for the clearing of the current output cell\n",
       "var outputEl = gd.closest('.output');\n",
       "if (outputEl) {{\n",
       "    x.observe(outputEl, {childList: true});\n",
       "}}\n",
       "\n",
       "                        })                };                });            </script>        </div>"
      ]
     },
     "metadata": {},
     "output_type": "display_data"
    }
   ],
   "source": [
    "import pandas as pd\n",
    "import plotly.figure_factory as ff\n",
    "\n",
    "tabla = pd.DataFrame()\n",
    "tabla['Nombre Ubicación'] = None\n",
    "tabla['Beneficiarios']=None\n",
    "tabla['Color']=None\n",
    "\n",
    "tabla['Nombre Ubicación'] = nombres\n",
    "tabla['Beneficiarios'] = beneficiarios\n",
    "tabla['Color'] = color_beneficiario\n",
    "\n",
    "ff.create_table(tabla)"
   ]
  },
  {
   "cell_type": "code",
   "execution_count": 21,
   "id": "fbb8d50a-f1ea-4c7c-bce8-e03abd4d3d9c",
   "metadata": {},
   "outputs": [
    {
     "data": {
      "application/vnd.plotly.v1+json": {
       "config": {
        "plotlyServerURL": "https://plot.ly"
       },
       "data": [
        {
         "alignmentgroup": "True",
         "hovertemplate": "Nombre Ubicación=%{x}<br>Beneficiarios=%{y}<extra></extra>",
         "legendgroup": "PISHUINCO",
         "marker": {
          "color": "green",
          "pattern": {
           "shape": ""
          }
         },
         "name": "PISHUINCO",
         "offsetgroup": "PISHUINCO",
         "orientation": "v",
         "showlegend": true,
         "textposition": "auto",
         "type": "bar",
         "x": [
          "PISHUINCO"
         ],
         "xaxis": "x",
         "y": [
          322
         ],
         "yaxis": "y"
        },
        {
         "alignmentgroup": "True",
         "hovertemplate": "Nombre Ubicación=%{x}<br>Beneficiarios=%{y}<extra></extra>",
         "legendgroup": "CURIÑANCO",
         "marker": {
          "color": "purple",
          "pattern": {
           "shape": ""
          }
         },
         "name": "CURIÑANCO",
         "offsetgroup": "CURIÑANCO",
         "orientation": "v",
         "showlegend": true,
         "textposition": "auto",
         "type": "bar",
         "x": [
          "CURIÑANCO"
         ],
         "xaxis": "x",
         "y": [
          2294
         ],
         "yaxis": "y"
        },
        {
         "alignmentgroup": "True",
         "hovertemplate": "Nombre Ubicación=%{x}<br>Beneficiarios=%{y}<extra></extra>",
         "legendgroup": "HUELLELHUE",
         "marker": {
          "color": "green",
          "pattern": {
           "shape": ""
          }
         },
         "name": "HUELLELHUE",
         "offsetgroup": "HUELLELHUE",
         "orientation": "v",
         "showlegend": true,
         "textposition": "auto",
         "type": "bar",
         "x": [
          "HUELLELHUE"
         ],
         "xaxis": "x",
         "y": [
          310
         ],
         "yaxis": "y"
        },
        {
         "alignmentgroup": "True",
         "hovertemplate": "Nombre Ubicación=%{x}<br>Beneficiarios=%{y}<extra></extra>",
         "legendgroup": "LAS GAVIOTAS",
         "marker": {
          "color": "red",
          "pattern": {
           "shape": ""
          }
         },
         "name": "LAS GAVIOTAS",
         "offsetgroup": "LAS GAVIOTAS",
         "orientation": "v",
         "showlegend": true,
         "textposition": "auto",
         "type": "bar",
         "x": [
          "LAS GAVIOTAS"
         ],
         "xaxis": "x",
         "y": [
          1048
         ],
         "yaxis": "y"
        },
        {
         "alignmentgroup": "True",
         "hovertemplate": "Nombre Ubicación=%{x}<br>Beneficiarios=%{y}<extra></extra>",
         "legendgroup": "NIEBLA-LOS MOLINOS",
         "marker": {
          "color": "purple",
          "pattern": {
           "shape": ""
          }
         },
         "name": "NIEBLA-LOS MOLINOS",
         "offsetgroup": "NIEBLA-LOS MOLINOS",
         "orientation": "v",
         "showlegend": true,
         "textposition": "auto",
         "type": "bar",
         "x": [
          "NIEBLA-LOS MOLINOS"
         ],
         "xaxis": "x",
         "y": [
          4021
         ],
         "yaxis": "y"
        },
        {
         "alignmentgroup": "True",
         "hovertemplate": "Nombre Ubicación=%{x}<br>Beneficiarios=%{y}<extra></extra>",
         "legendgroup": "PUNUCAPA",
         "marker": {
          "color": "green",
          "pattern": {
           "shape": ""
          }
         },
         "name": "PUNUCAPA",
         "offsetgroup": "PUNUCAPA",
         "orientation": "v",
         "showlegend": true,
         "textposition": "auto",
         "type": "bar",
         "x": [
          "PUNUCAPA"
         ],
         "xaxis": "x",
         "y": [
          459
         ],
         "yaxis": "y"
        },
        {
         "alignmentgroup": "True",
         "hovertemplate": "Nombre Ubicación=%{x}<br>Beneficiarios=%{y}<extra></extra>",
         "legendgroup": "SAN IGNACIO-PLAYA ROSADA",
         "marker": {
          "color": "orange",
          "pattern": {
           "shape": ""
          }
         },
         "name": "SAN IGNACIO-PLAYA ROSADA",
         "offsetgroup": "SAN IGNACIO-PLAYA ROSADA",
         "orientation": "v",
         "showlegend": true,
         "textposition": "auto",
         "type": "bar",
         "x": [
          "SAN IGNACIO-PLAYA ROSADA"
         ],
         "xaxis": "x",
         "y": [
          936
         ],
         "yaxis": "y"
        },
        {
         "alignmentgroup": "True",
         "hovertemplate": "Nombre Ubicación=%{x}<br>Beneficiarios=%{y}<extra></extra>",
         "legendgroup": "TRES ESPINOS",
         "marker": {
          "color": "red",
          "pattern": {
           "shape": ""
          }
         },
         "name": "TRES ESPINOS",
         "offsetgroup": "TRES ESPINOS",
         "orientation": "v",
         "showlegend": true,
         "textposition": "auto",
         "type": "bar",
         "x": [
          "TRES ESPINOS"
         ],
         "xaxis": "x",
         "y": [
          1091
         ],
         "yaxis": "y"
        },
        {
         "alignmentgroup": "True",
         "hovertemplate": "Nombre Ubicación=%{x}<br>Beneficiarios=%{y}<extra></extra>",
         "legendgroup": "VILLA CAYUMAPU",
         "marker": {
          "color": "red",
          "pattern": {
           "shape": ""
          }
         },
         "name": "VILLA CAYUMAPU",
         "offsetgroup": "VILLA CAYUMAPU",
         "orientation": "v",
         "showlegend": true,
         "textposition": "auto",
         "type": "bar",
         "x": [
          "VILLA CAYUMAPU"
         ],
         "xaxis": "x",
         "y": [
          1327
         ],
         "yaxis": "y"
        },
        {
         "alignmentgroup": "True",
         "hovertemplate": "Nombre Ubicación=%{x}<br>Beneficiarios=%{y}<extra></extra>",
         "legendgroup": "EL ARENAL SANTA ELVIRA",
         "marker": {
          "color": "orange",
          "pattern": {
           "shape": ""
          }
         },
         "name": "EL ARENAL SANTA ELVIRA",
         "offsetgroup": "EL ARENAL SANTA ELVIRA",
         "orientation": "v",
         "showlegend": true,
         "textposition": "auto",
         "type": "bar",
         "x": [
          "EL ARENAL SANTA ELVIRA"
         ],
         "xaxis": "x",
         "y": [
          549
         ],
         "yaxis": "y"
        },
        {
         "alignmentgroup": "True",
         "hovertemplate": "Nombre Ubicación=%{x}<br>Beneficiarios=%{y}<extra></extra>",
         "legendgroup": "PAILLAO",
         "marker": {
          "color": "orange",
          "pattern": {
           "shape": ""
          }
         },
         "name": "PAILLAO",
         "offsetgroup": "PAILLAO",
         "orientation": "v",
         "showlegend": true,
         "textposition": "auto",
         "type": "bar",
         "x": [
          "PAILLAO"
         ],
         "xaxis": "x",
         "y": [
          871
         ],
         "yaxis": "y"
        },
        {
         "alignmentgroup": "True",
         "hovertemplate": "Nombre Ubicación=%{x}<br>Beneficiarios=%{y}<extra></extra>",
         "legendgroup": "CABO BLANCO",
         "marker": {
          "color": "green",
          "pattern": {
           "shape": ""
          }
         },
         "name": "CABO BLANCO",
         "offsetgroup": "CABO BLANCO",
         "orientation": "v",
         "showlegend": true,
         "textposition": "auto",
         "type": "bar",
         "x": [
          "CABO BLANCO"
         ],
         "xaxis": "x",
         "y": [
          543
         ],
         "yaxis": "y"
        },
        {
         "alignmentgroup": "True",
         "hovertemplate": "Nombre Ubicación=%{x}<br>Beneficiarios=%{y}<extra></extra>",
         "legendgroup": "EL ARENAL KM 2",
         "marker": {
          "color": "orange",
          "pattern": {
           "shape": ""
          }
         },
         "name": "EL ARENAL KM 2",
         "offsetgroup": "EL ARENAL KM 2",
         "orientation": "v",
         "showlegend": true,
         "textposition": "auto",
         "type": "bar",
         "x": [
          "EL ARENAL KM 2"
         ],
         "xaxis": "x",
         "y": [
          623
         ],
         "yaxis": "y"
        },
        {
         "alignmentgroup": "True",
         "hovertemplate": "Nombre Ubicación=%{x}<br>Beneficiarios=%{y}<extra></extra>",
         "legendgroup": "Chabelita",
         "marker": {
          "color": "green",
          "pattern": {
           "shape": ""
          }
         },
         "name": "Chabelita",
         "offsetgroup": "Chabelita",
         "orientation": "v",
         "showlegend": true,
         "textposition": "auto",
         "type": "bar",
         "x": [
          "Chabelita"
         ],
         "xaxis": "x",
         "y": [
          434
         ],
         "yaxis": "y"
        },
        {
         "alignmentgroup": "True",
         "hovertemplate": "Nombre Ubicación=%{x}<br>Beneficiarios=%{y}<extra></extra>",
         "legendgroup": "ARCO IRIS",
         "marker": {
          "color": "green",
          "pattern": {
           "shape": ""
          }
         },
         "name": "ARCO IRIS",
         "offsetgroup": "ARCO IRIS",
         "orientation": "v",
         "showlegend": true,
         "textposition": "auto",
         "type": "bar",
         "x": [
          "ARCO IRIS"
         ],
         "xaxis": "x",
         "y": [
          394
         ],
         "yaxis": "y"
        },
        {
         "alignmentgroup": "True",
         "hovertemplate": "Nombre Ubicación=%{x}<br>Beneficiarios=%{y}<extra></extra>",
         "legendgroup": "EL LLOLLY",
         "marker": {
          "color": "green",
          "pattern": {
           "shape": ""
          }
         },
         "name": "EL LLOLLY",
         "offsetgroup": "EL LLOLLY",
         "orientation": "v",
         "showlegend": true,
         "textposition": "auto",
         "type": "bar",
         "x": [
          "EL LLOLLY"
         ],
         "xaxis": "x",
         "y": [
          428
         ],
         "yaxis": "y"
        },
        {
         "alignmentgroup": "True",
         "hovertemplate": "Nombre Ubicación=%{x}<br>Beneficiarios=%{y}<extra></extra>",
         "legendgroup": "PICHIRROPULLI",
         "marker": {
          "color": "red",
          "pattern": {
           "shape": ""
          }
         },
         "name": "PICHIRROPULLI",
         "offsetgroup": "PICHIRROPULLI",
         "orientation": "v",
         "showlegend": true,
         "textposition": "auto",
         "type": "bar",
         "x": [
          "PICHIRROPULLI"
         ],
         "xaxis": "x",
         "y": [
          1079
         ],
         "yaxis": "y"
        },
        {
         "alignmentgroup": "True",
         "hovertemplate": "Nombre Ubicación=%{x}<br>Beneficiarios=%{y}<extra></extra>",
         "legendgroup": "REUMEN",
         "marker": {
          "color": "red",
          "pattern": {
           "shape": ""
          }
         },
         "name": "REUMEN",
         "offsetgroup": "REUMEN",
         "orientation": "v",
         "showlegend": true,
         "textposition": "auto",
         "type": "bar",
         "x": [
          "REUMEN"
         ],
         "xaxis": "x",
         "y": [
          1442
         ],
         "yaxis": "y"
        },
        {
         "alignmentgroup": "True",
         "hovertemplate": "Nombre Ubicación=%{x}<br>Beneficiarios=%{y}<extra></extra>",
         "legendgroup": "SANTA FILOMENA",
         "marker": {
          "color": "green",
          "pattern": {
           "shape": ""
          }
         },
         "name": "SANTA FILOMENA",
         "offsetgroup": "SANTA FILOMENA",
         "orientation": "v",
         "showlegend": true,
         "textposition": "auto",
         "type": "bar",
         "x": [
          "SANTA FILOMENA"
         ],
         "xaxis": "x",
         "y": [
          403
         ],
         "yaxis": "y"
        },
        {
         "alignmentgroup": "True",
         "hovertemplate": "Nombre Ubicación=%{x}<br>Beneficiarios=%{y}<extra></extra>",
         "legendgroup": "MANAO",
         "marker": {
          "color": "darkred",
          "pattern": {
           "shape": ""
          }
         },
         "name": "MANAO",
         "offsetgroup": "MANAO",
         "orientation": "v",
         "showlegend": true,
         "textposition": "auto",
         "type": "bar",
         "x": [
          "MANAO"
         ],
         "xaxis": "x",
         "y": [
          220
         ],
         "yaxis": "y"
        },
        {
         "alignmentgroup": "True",
         "hovertemplate": "Nombre Ubicación=%{x}<br>Beneficiarios=%{y}<extra></extra>",
         "legendgroup": "SANTA ROSA CHICA",
         "marker": {
          "color": "green",
          "pattern": {
           "shape": ""
          }
         },
         "name": "SANTA ROSA CHICA",
         "offsetgroup": "SANTA ROSA CHICA",
         "orientation": "v",
         "showlegend": true,
         "textposition": "auto",
         "type": "bar",
         "x": [
          "SANTA ROSA CHICA"
         ],
         "xaxis": "x",
         "y": [
          394
         ],
         "yaxis": "y"
        },
        {
         "alignmentgroup": "True",
         "hovertemplate": "Nombre Ubicación=%{x}<br>Beneficiarios=%{y}<extra></extra>",
         "legendgroup": "SANTA ROSA GRANDE",
         "marker": {
          "color": "green",
          "pattern": {
           "shape": ""
          }
         },
         "name": "SANTA ROSA GRANDE",
         "offsetgroup": "SANTA ROSA GRANDE",
         "orientation": "v",
         "showlegend": true,
         "textposition": "auto",
         "type": "bar",
         "x": [
          "SANTA ROSA GRANDE"
         ],
         "xaxis": "x",
         "y": [
          319
         ],
         "yaxis": "y"
        },
        {
         "alignmentgroup": "True",
         "hovertemplate": "Nombre Ubicación=%{x}<br>Beneficiarios=%{y}<extra></extra>",
         "legendgroup": "LUMACO PAILLACO",
         "marker": {
          "color": "orange",
          "pattern": {
           "shape": ""
          }
         },
         "name": "LUMACO PAILLACO",
         "offsetgroup": "LUMACO PAILLACO",
         "orientation": "v",
         "showlegend": true,
         "textposition": "auto",
         "type": "bar",
         "x": [
          "LUMACO PAILLACO"
         ],
         "xaxis": "x",
         "y": [
          710
         ],
         "yaxis": "y"
        },
        {
         "alignmentgroup": "True",
         "hovertemplate": "Nombre Ubicación=%{x}<br>Beneficiarios=%{y}<extra></extra>",
         "legendgroup": "EL MAITEN",
         "marker": {
          "color": "darkred",
          "pattern": {
           "shape": ""
          }
         },
         "name": "EL MAITEN",
         "offsetgroup": "EL MAITEN",
         "orientation": "v",
         "showlegend": true,
         "textposition": "auto",
         "type": "bar",
         "x": [
          "EL MAITEN"
         ],
         "xaxis": "x",
         "y": [
          155
         ],
         "yaxis": "y"
        },
        {
         "alignmentgroup": "True",
         "hovertemplate": "Nombre Ubicación=%{x}<br>Beneficiarios=%{y}<extra></extra>",
         "legendgroup": "SANTA FILOMENA II",
         "marker": {
          "color": "darkred",
          "pattern": {
           "shape": ""
          }
         },
         "name": "SANTA FILOMENA II",
         "offsetgroup": "SANTA FILOMENA II",
         "orientation": "v",
         "showlegend": true,
         "textposition": "auto",
         "type": "bar",
         "x": [
          "SANTA FILOMENA II"
         ],
         "xaxis": "x",
         "y": [
          211
         ],
         "yaxis": "y"
        },
        {
         "alignmentgroup": "True",
         "hovertemplate": "Nombre Ubicación=%{x}<br>Beneficiarios=%{y}<extra></extra>",
         "legendgroup": "ANTILHUE",
         "marker": {
          "color": "red",
          "pattern": {
           "shape": ""
          }
         },
         "name": "ANTILHUE",
         "offsetgroup": "ANTILHUE",
         "orientation": "v",
         "showlegend": true,
         "textposition": "auto",
         "type": "bar",
         "x": [
          "ANTILHUE"
         ],
         "xaxis": "x",
         "y": [
          1414
         ],
         "yaxis": "y"
        },
        {
         "alignmentgroup": "True",
         "hovertemplate": "Nombre Ubicación=%{x}<br>Beneficiarios=%{y}<extra></extra>",
         "legendgroup": "FOLILCO LOS LAGOS",
         "marker": {
          "color": "green",
          "pattern": {
           "shape": ""
          }
         },
         "name": "FOLILCO LOS LAGOS",
         "offsetgroup": "FOLILCO LOS LAGOS",
         "orientation": "v",
         "showlegend": true,
         "textposition": "auto",
         "type": "bar",
         "x": [
          "FOLILCO LOS LAGOS"
         ],
         "xaxis": "x",
         "y": [
          474
         ],
         "yaxis": "y"
        },
        {
         "alignmentgroup": "True",
         "hovertemplate": "Nombre Ubicación=%{x}<br>Beneficiarios=%{y}<extra></extra>",
         "legendgroup": "QUILQUILCO",
         "marker": {
          "color": "darkred",
          "pattern": {
           "shape": ""
          }
         },
         "name": "QUILQUILCO",
         "offsetgroup": "QUILQUILCO",
         "orientation": "v",
         "showlegend": true,
         "textposition": "auto",
         "type": "bar",
         "x": [
          "QUILQUILCO"
         ],
         "xaxis": "x",
         "y": [
          149
         ],
         "yaxis": "y"
        },
        {
         "alignmentgroup": "True",
         "hovertemplate": "Nombre Ubicación=%{x}<br>Beneficiarios=%{y}<extra></extra>",
         "legendgroup": "RIÑIHUE",
         "marker": {
          "color": "darkred",
          "pattern": {
           "shape": ""
          }
         },
         "name": "RIÑIHUE",
         "offsetgroup": "RIÑIHUE",
         "orientation": "v",
         "showlegend": true,
         "textposition": "auto",
         "type": "bar",
         "x": [
          "RIÑIHUE"
         ],
         "xaxis": "x",
         "y": [
          208
         ],
         "yaxis": "y"
        },
        {
         "alignmentgroup": "True",
         "hovertemplate": "Nombre Ubicación=%{x}<br>Beneficiarios=%{y}<extra></extra>",
         "legendgroup": "USTARITZ",
         "marker": {
          "color": "green",
          "pattern": {
           "shape": ""
          }
         },
         "name": "USTARITZ",
         "offsetgroup": "USTARITZ",
         "orientation": "v",
         "showlegend": true,
         "textposition": "auto",
         "type": "bar",
         "x": [
          "USTARITZ"
         ],
         "xaxis": "x",
         "y": [
          434
         ],
         "yaxis": "y"
        },
        {
         "alignmentgroup": "True",
         "hovertemplate": "Nombre Ubicación=%{x}<br>Beneficiarios=%{y}<extra></extra>",
         "legendgroup": "EL SALTO",
         "marker": {
          "color": "orange",
          "pattern": {
           "shape": ""
          }
         },
         "name": "EL SALTO",
         "offsetgroup": "EL SALTO",
         "orientation": "v",
         "showlegend": true,
         "textposition": "auto",
         "type": "bar",
         "x": [
          "EL SALTO"
         ],
         "xaxis": "x",
         "y": [
          592
         ],
         "yaxis": "y"
        },
        {
         "alignmentgroup": "True",
         "hovertemplate": "Nombre Ubicación=%{x}<br>Beneficiarios=%{y}<extra></extra>",
         "legendgroup": "PELLINADA LAS QUINIENTAS",
         "marker": {
          "color": "green",
          "pattern": {
           "shape": ""
          }
         },
         "name": "PELLINADA LAS QUINIENTAS",
         "offsetgroup": "PELLINADA LAS QUINIENTAS",
         "orientation": "v",
         "showlegend": true,
         "textposition": "auto",
         "type": "bar",
         "x": [
          "PELLINADA LAS QUINIENTAS"
         ],
         "xaxis": "x",
         "y": [
          434
         ],
         "yaxis": "y"
        },
        {
         "alignmentgroup": "True",
         "hovertemplate": "Nombre Ubicación=%{x}<br>Beneficiarios=%{y}<extra></extra>",
         "legendgroup": "PANCUL",
         "marker": {
          "color": "orange",
          "pattern": {
           "shape": ""
          }
         },
         "name": "PANCUL",
         "offsetgroup": "PANCUL",
         "orientation": "v",
         "showlegend": true,
         "textposition": "auto",
         "type": "bar",
         "x": [
          "PANCUL"
         ],
         "xaxis": "x",
         "y": [
          729
         ],
         "yaxis": "y"
        },
        {
         "alignmentgroup": "True",
         "hovertemplate": "Nombre Ubicación=%{x}<br>Beneficiarios=%{y}<extra></extra>",
         "legendgroup": "LOS COLIGÜES",
         "marker": {
          "color": "green",
          "pattern": {
           "shape": ""
          }
         },
         "name": "LOS COLIGÜES",
         "offsetgroup": "LOS COLIGÜES",
         "orientation": "v",
         "showlegend": true,
         "textposition": "auto",
         "type": "bar",
         "x": [
          "LOS COLIGÜES"
         ],
         "xaxis": "x",
         "y": [
          456
         ],
         "yaxis": "y"
        },
        {
         "alignmentgroup": "True",
         "hovertemplate": "Nombre Ubicación=%{x}<br>Beneficiarios=%{y}<extra></extra>",
         "legendgroup": "COLO COLO",
         "marker": {
          "color": "darkred",
          "pattern": {
           "shape": ""
          }
         },
         "name": "COLO COLO",
         "offsetgroup": "COLO COLO",
         "orientation": "v",
         "showlegend": true,
         "textposition": "auto",
         "type": "bar",
         "x": [
          "COLO COLO"
         ],
         "xaxis": "x",
         "y": [
          298
         ],
         "yaxis": "y"
        },
        {
         "alignmentgroup": "True",
         "hovertemplate": "Nombre Ubicación=%{x}<br>Beneficiarios=%{y}<extra></extra>",
         "legendgroup": "LAS HUELLLAS",
         "marker": {
          "color": "darkred",
          "pattern": {
           "shape": ""
          }
         },
         "name": "LAS HUELLLAS",
         "offsetgroup": "LAS HUELLLAS",
         "orientation": "v",
         "showlegend": true,
         "textposition": "auto",
         "type": "bar",
         "x": [
          "LAS HUELLLAS"
         ],
         "xaxis": "x",
         "y": [
          276
         ],
         "yaxis": "y"
        },
        {
         "alignmentgroup": "True",
         "hovertemplate": "Nombre Ubicación=%{x}<br>Beneficiarios=%{y}<extra></extra>",
         "legendgroup": "San Pedro",
         "marker": {
          "color": "green",
          "pattern": {
           "shape": ""
          }
         },
         "name": "San Pedro",
         "offsetgroup": "San Pedro",
         "orientation": "v",
         "showlegend": true,
         "textposition": "auto",
         "type": "bar",
         "x": [
          "San Pedro"
         ],
         "xaxis": "x",
         "y": [
          375
         ],
         "yaxis": "y"
        },
        {
         "alignmentgroup": "True",
         "hovertemplate": "Nombre Ubicación=%{x}<br>Beneficiarios=%{y}<extra></extra>",
         "legendgroup": "Lipingue",
         "marker": {
          "color": "green",
          "pattern": {
           "shape": ""
          }
         },
         "name": "Lipingue",
         "offsetgroup": "Lipingue",
         "orientation": "v",
         "showlegend": true,
         "textposition": "auto",
         "type": "bar",
         "x": [
          "Lipingue"
         ],
         "xaxis": "x",
         "y": [
          434
         ],
         "yaxis": "y"
        },
        {
         "alignmentgroup": "True",
         "hovertemplate": "Nombre Ubicación=%{x}<br>Beneficiarios=%{y}<extra></extra>",
         "legendgroup": "El Trebol",
         "marker": {
          "color": "darkred",
          "pattern": {
           "shape": ""
          }
         },
         "name": "El Trebol",
         "offsetgroup": "El Trebol",
         "orientation": "v",
         "showlegend": true,
         "textposition": "auto",
         "type": "bar",
         "x": [
          "El Trebol"
         ],
         "xaxis": "x",
         "y": [
          208
         ],
         "yaxis": "y"
        },
        {
         "alignmentgroup": "True",
         "hovertemplate": "Nombre Ubicación=%{x}<br>Beneficiarios=%{y}<extra></extra>",
         "legendgroup": "Collico Sur",
         "marker": {
          "color": "darkred",
          "pattern": {
           "shape": ""
          }
         },
         "name": "Collico Sur",
         "offsetgroup": "Collico Sur",
         "orientation": "v",
         "showlegend": true,
         "textposition": "auto",
         "type": "bar",
         "x": [
          "Collico Sur"
         ],
         "xaxis": "x",
         "y": [
          236
         ],
         "yaxis": "y"
        },
        {
         "alignmentgroup": "True",
         "hovertemplate": "Nombre Ubicación=%{x}<br>Beneficiarios=%{y}<extra></extra>",
         "legendgroup": "Mi Tierra",
         "marker": {
          "color": "darkred",
          "pattern": {
           "shape": ""
          }
         },
         "name": "Mi Tierra",
         "offsetgroup": "Mi Tierra",
         "orientation": "v",
         "showlegend": true,
         "textposition": "auto",
         "type": "bar",
         "x": [
          "Mi Tierra"
         ],
         "xaxis": "x",
         "y": [
          71
         ],
         "yaxis": "y"
        },
        {
         "alignmentgroup": "True",
         "hovertemplate": "Nombre Ubicación=%{x}<br>Beneficiarios=%{y}<extra></extra>",
         "legendgroup": "Puñaco",
         "marker": {
          "color": "darkred",
          "pattern": {
           "shape": ""
          }
         },
         "name": "Puñaco",
         "offsetgroup": "Puñaco",
         "orientation": "v",
         "showlegend": true,
         "textposition": "auto",
         "type": "bar",
         "x": [
          "Puñaco"
         ],
         "xaxis": "x",
         "y": [
          81
         ],
         "yaxis": "y"
        },
        {
         "alignmentgroup": "True",
         "hovertemplate": "Nombre Ubicación=%{x}<br>Beneficiarios=%{y}<extra></extra>",
         "legendgroup": "Purey",
         "marker": {
          "color": "darkred",
          "pattern": {
           "shape": ""
          }
         },
         "name": "Purey",
         "offsetgroup": "Purey",
         "orientation": "v",
         "showlegend": true,
         "textposition": "auto",
         "type": "bar",
         "x": [
          "Purey"
         ],
         "xaxis": "x",
         "y": [
          78
         ],
         "yaxis": "y"
        },
        {
         "alignmentgroup": "True",
         "hovertemplate": "Nombre Ubicación=%{x}<br>Beneficiarios=%{y}<extra></extra>",
         "legendgroup": "AMARGO-SAN CARLOS",
         "marker": {
          "color": "purple",
          "pattern": {
           "shape": ""
          }
         },
         "name": "AMARGO-SAN CARLOS",
         "offsetgroup": "AMARGO-SAN CARLOS",
         "orientation": "v",
         "showlegend": true,
         "textposition": "auto",
         "type": "bar",
         "x": [
          "AMARGO-SAN CARLOS"
         ],
         "xaxis": "x",
         "y": [
          2412
         ],
         "yaxis": "y"
        },
        {
         "alignmentgroup": "True",
         "hovertemplate": "Nombre Ubicación=%{x}<br>Beneficiarios=%{y}<extra></extra>",
         "legendgroup": "ISLA DEL REY",
         "marker": {
          "color": "orange",
          "pattern": {
           "shape": ""
          }
         },
         "name": "ISLA DEL REY",
         "offsetgroup": "ISLA DEL REY",
         "orientation": "v",
         "showlegend": true,
         "textposition": "auto",
         "type": "bar",
         "x": [
          "ISLA DEL REY"
         ],
         "xaxis": "x",
         "y": [
          620
         ],
         "yaxis": "y"
        },
        {
         "alignmentgroup": "True",
         "hovertemplate": "Nombre Ubicación=%{x}<br>Beneficiarios=%{y}<extra></extra>",
         "legendgroup": "ISLA MANCERA",
         "marker": {
          "color": "darkred",
          "pattern": {
           "shape": ""
          }
         },
         "name": "ISLA MANCERA",
         "offsetgroup": "ISLA MANCERA",
         "orientation": "v",
         "showlegend": true,
         "textposition": "auto",
         "type": "bar",
         "x": [
          "ISLA MANCERA"
         ],
         "xaxis": "x",
         "y": [
          267
         ],
         "yaxis": "y"
        },
        {
         "alignmentgroup": "True",
         "hovertemplate": "Nombre Ubicación=%{x}<br>Beneficiarios=%{y}<extra></extra>",
         "legendgroup": "LA AGUADA",
         "marker": {
          "color": "orange",
          "pattern": {
           "shape": ""
          }
         },
         "name": "LA AGUADA",
         "offsetgroup": "LA AGUADA",
         "orientation": "v",
         "showlegend": true,
         "textposition": "auto",
         "type": "bar",
         "x": [
          "LA AGUADA"
         ],
         "xaxis": "x",
         "y": [
          626
         ],
         "yaxis": "y"
        },
        {
         "alignmentgroup": "True",
         "hovertemplate": "Nombre Ubicación=%{x}<br>Beneficiarios=%{y}<extra></extra>",
         "legendgroup": "CHAIHUIN",
         "marker": {
          "color": "orange",
          "pattern": {
           "shape": ""
          }
         },
         "name": "CHAIHUIN",
         "offsetgroup": "CHAIHUIN",
         "orientation": "v",
         "showlegend": true,
         "textposition": "auto",
         "type": "bar",
         "x": [
          "CHAIHUIN"
         ],
         "xaxis": "x",
         "y": [
          744
         ],
         "yaxis": "y"
        },
        {
         "alignmentgroup": "True",
         "hovertemplate": "Nombre Ubicación=%{x}<br>Beneficiarios=%{y}<extra></extra>",
         "legendgroup": "CERROS DE CORRAL",
         "marker": {
          "color": "green",
          "pattern": {
           "shape": ""
          }
         },
         "name": "CERROS DE CORRAL",
         "offsetgroup": "CERROS DE CORRAL",
         "orientation": "v",
         "showlegend": true,
         "textposition": "auto",
         "type": "bar",
         "x": [
          "CERROS DE CORRAL"
         ],
         "xaxis": "x",
         "y": [
          484
         ],
         "yaxis": "y"
        }
       ],
       "layout": {
        "autosize": true,
        "barmode": "relative",
        "legend": {
         "title": {
          "text": "Nombre Ubicación"
         },
         "tracegroupgap": 0
        },
        "template": {
         "data": {
          "bar": [
           {
            "error_x": {
             "color": "#2a3f5f"
            },
            "error_y": {
             "color": "#2a3f5f"
            },
            "marker": {
             "line": {
              "color": "#E5ECF6",
              "width": 0.5
             },
             "pattern": {
              "fillmode": "overlay",
              "size": 10,
              "solidity": 0.2
             }
            },
            "type": "bar"
           }
          ],
          "barpolar": [
           {
            "marker": {
             "line": {
              "color": "#E5ECF6",
              "width": 0.5
             },
             "pattern": {
              "fillmode": "overlay",
              "size": 10,
              "solidity": 0.2
             }
            },
            "type": "barpolar"
           }
          ],
          "carpet": [
           {
            "aaxis": {
             "endlinecolor": "#2a3f5f",
             "gridcolor": "white",
             "linecolor": "white",
             "minorgridcolor": "white",
             "startlinecolor": "#2a3f5f"
            },
            "baxis": {
             "endlinecolor": "#2a3f5f",
             "gridcolor": "white",
             "linecolor": "white",
             "minorgridcolor": "white",
             "startlinecolor": "#2a3f5f"
            },
            "type": "carpet"
           }
          ],
          "choropleth": [
           {
            "colorbar": {
             "outlinewidth": 0,
             "ticks": ""
            },
            "type": "choropleth"
           }
          ],
          "contour": [
           {
            "colorbar": {
             "outlinewidth": 0,
             "ticks": ""
            },
            "colorscale": [
             [
              0,
              "#0d0887"
             ],
             [
              0.1111111111111111,
              "#46039f"
             ],
             [
              0.2222222222222222,
              "#7201a8"
             ],
             [
              0.3333333333333333,
              "#9c179e"
             ],
             [
              0.4444444444444444,
              "#bd3786"
             ],
             [
              0.5555555555555556,
              "#d8576b"
             ],
             [
              0.6666666666666666,
              "#ed7953"
             ],
             [
              0.7777777777777778,
              "#fb9f3a"
             ],
             [
              0.8888888888888888,
              "#fdca26"
             ],
             [
              1,
              "#f0f921"
             ]
            ],
            "type": "contour"
           }
          ],
          "contourcarpet": [
           {
            "colorbar": {
             "outlinewidth": 0,
             "ticks": ""
            },
            "type": "contourcarpet"
           }
          ],
          "heatmap": [
           {
            "colorbar": {
             "outlinewidth": 0,
             "ticks": ""
            },
            "colorscale": [
             [
              0,
              "#0d0887"
             ],
             [
              0.1111111111111111,
              "#46039f"
             ],
             [
              0.2222222222222222,
              "#7201a8"
             ],
             [
              0.3333333333333333,
              "#9c179e"
             ],
             [
              0.4444444444444444,
              "#bd3786"
             ],
             [
              0.5555555555555556,
              "#d8576b"
             ],
             [
              0.6666666666666666,
              "#ed7953"
             ],
             [
              0.7777777777777778,
              "#fb9f3a"
             ],
             [
              0.8888888888888888,
              "#fdca26"
             ],
             [
              1,
              "#f0f921"
             ]
            ],
            "type": "heatmap"
           }
          ],
          "heatmapgl": [
           {
            "colorbar": {
             "outlinewidth": 0,
             "ticks": ""
            },
            "colorscale": [
             [
              0,
              "#0d0887"
             ],
             [
              0.1111111111111111,
              "#46039f"
             ],
             [
              0.2222222222222222,
              "#7201a8"
             ],
             [
              0.3333333333333333,
              "#9c179e"
             ],
             [
              0.4444444444444444,
              "#bd3786"
             ],
             [
              0.5555555555555556,
              "#d8576b"
             ],
             [
              0.6666666666666666,
              "#ed7953"
             ],
             [
              0.7777777777777778,
              "#fb9f3a"
             ],
             [
              0.8888888888888888,
              "#fdca26"
             ],
             [
              1,
              "#f0f921"
             ]
            ],
            "type": "heatmapgl"
           }
          ],
          "histogram": [
           {
            "marker": {
             "pattern": {
              "fillmode": "overlay",
              "size": 10,
              "solidity": 0.2
             }
            },
            "type": "histogram"
           }
          ],
          "histogram2d": [
           {
            "colorbar": {
             "outlinewidth": 0,
             "ticks": ""
            },
            "colorscale": [
             [
              0,
              "#0d0887"
             ],
             [
              0.1111111111111111,
              "#46039f"
             ],
             [
              0.2222222222222222,
              "#7201a8"
             ],
             [
              0.3333333333333333,
              "#9c179e"
             ],
             [
              0.4444444444444444,
              "#bd3786"
             ],
             [
              0.5555555555555556,
              "#d8576b"
             ],
             [
              0.6666666666666666,
              "#ed7953"
             ],
             [
              0.7777777777777778,
              "#fb9f3a"
             ],
             [
              0.8888888888888888,
              "#fdca26"
             ],
             [
              1,
              "#f0f921"
             ]
            ],
            "type": "histogram2d"
           }
          ],
          "histogram2dcontour": [
           {
            "colorbar": {
             "outlinewidth": 0,
             "ticks": ""
            },
            "colorscale": [
             [
              0,
              "#0d0887"
             ],
             [
              0.1111111111111111,
              "#46039f"
             ],
             [
              0.2222222222222222,
              "#7201a8"
             ],
             [
              0.3333333333333333,
              "#9c179e"
             ],
             [
              0.4444444444444444,
              "#bd3786"
             ],
             [
              0.5555555555555556,
              "#d8576b"
             ],
             [
              0.6666666666666666,
              "#ed7953"
             ],
             [
              0.7777777777777778,
              "#fb9f3a"
             ],
             [
              0.8888888888888888,
              "#fdca26"
             ],
             [
              1,
              "#f0f921"
             ]
            ],
            "type": "histogram2dcontour"
           }
          ],
          "mesh3d": [
           {
            "colorbar": {
             "outlinewidth": 0,
             "ticks": ""
            },
            "type": "mesh3d"
           }
          ],
          "parcoords": [
           {
            "line": {
             "colorbar": {
              "outlinewidth": 0,
              "ticks": ""
             }
            },
            "type": "parcoords"
           }
          ],
          "pie": [
           {
            "automargin": true,
            "type": "pie"
           }
          ],
          "scatter": [
           {
            "fillpattern": {
             "fillmode": "overlay",
             "size": 10,
             "solidity": 0.2
            },
            "type": "scatter"
           }
          ],
          "scatter3d": [
           {
            "line": {
             "colorbar": {
              "outlinewidth": 0,
              "ticks": ""
             }
            },
            "marker": {
             "colorbar": {
              "outlinewidth": 0,
              "ticks": ""
             }
            },
            "type": "scatter3d"
           }
          ],
          "scattercarpet": [
           {
            "marker": {
             "colorbar": {
              "outlinewidth": 0,
              "ticks": ""
             }
            },
            "type": "scattercarpet"
           }
          ],
          "scattergeo": [
           {
            "marker": {
             "colorbar": {
              "outlinewidth": 0,
              "ticks": ""
             }
            },
            "type": "scattergeo"
           }
          ],
          "scattergl": [
           {
            "marker": {
             "colorbar": {
              "outlinewidth": 0,
              "ticks": ""
             }
            },
            "type": "scattergl"
           }
          ],
          "scattermapbox": [
           {
            "marker": {
             "colorbar": {
              "outlinewidth": 0,
              "ticks": ""
             }
            },
            "type": "scattermapbox"
           }
          ],
          "scatterpolar": [
           {
            "marker": {
             "colorbar": {
              "outlinewidth": 0,
              "ticks": ""
             }
            },
            "type": "scatterpolar"
           }
          ],
          "scatterpolargl": [
           {
            "marker": {
             "colorbar": {
              "outlinewidth": 0,
              "ticks": ""
             }
            },
            "type": "scatterpolargl"
           }
          ],
          "scatterternary": [
           {
            "marker": {
             "colorbar": {
              "outlinewidth": 0,
              "ticks": ""
             }
            },
            "type": "scatterternary"
           }
          ],
          "surface": [
           {
            "colorbar": {
             "outlinewidth": 0,
             "ticks": ""
            },
            "colorscale": [
             [
              0,
              "#0d0887"
             ],
             [
              0.1111111111111111,
              "#46039f"
             ],
             [
              0.2222222222222222,
              "#7201a8"
             ],
             [
              0.3333333333333333,
              "#9c179e"
             ],
             [
              0.4444444444444444,
              "#bd3786"
             ],
             [
              0.5555555555555556,
              "#d8576b"
             ],
             [
              0.6666666666666666,
              "#ed7953"
             ],
             [
              0.7777777777777778,
              "#fb9f3a"
             ],
             [
              0.8888888888888888,
              "#fdca26"
             ],
             [
              1,
              "#f0f921"
             ]
            ],
            "type": "surface"
           }
          ],
          "table": [
           {
            "cells": {
             "fill": {
              "color": "#EBF0F8"
             },
             "line": {
              "color": "white"
             }
            },
            "header": {
             "fill": {
              "color": "#C8D4E3"
             },
             "line": {
              "color": "white"
             }
            },
            "type": "table"
           }
          ]
         },
         "layout": {
          "annotationdefaults": {
           "arrowcolor": "#2a3f5f",
           "arrowhead": 0,
           "arrowwidth": 1
          },
          "autotypenumbers": "strict",
          "coloraxis": {
           "colorbar": {
            "outlinewidth": 0,
            "ticks": ""
           }
          },
          "colorscale": {
           "diverging": [
            [
             0,
             "#8e0152"
            ],
            [
             0.1,
             "#c51b7d"
            ],
            [
             0.2,
             "#de77ae"
            ],
            [
             0.3,
             "#f1b6da"
            ],
            [
             0.4,
             "#fde0ef"
            ],
            [
             0.5,
             "#f7f7f7"
            ],
            [
             0.6,
             "#e6f5d0"
            ],
            [
             0.7,
             "#b8e186"
            ],
            [
             0.8,
             "#7fbc41"
            ],
            [
             0.9,
             "#4d9221"
            ],
            [
             1,
             "#276419"
            ]
           ],
           "sequential": [
            [
             0,
             "#0d0887"
            ],
            [
             0.1111111111111111,
             "#46039f"
            ],
            [
             0.2222222222222222,
             "#7201a8"
            ],
            [
             0.3333333333333333,
             "#9c179e"
            ],
            [
             0.4444444444444444,
             "#bd3786"
            ],
            [
             0.5555555555555556,
             "#d8576b"
            ],
            [
             0.6666666666666666,
             "#ed7953"
            ],
            [
             0.7777777777777778,
             "#fb9f3a"
            ],
            [
             0.8888888888888888,
             "#fdca26"
            ],
            [
             1,
             "#f0f921"
            ]
           ],
           "sequentialminus": [
            [
             0,
             "#0d0887"
            ],
            [
             0.1111111111111111,
             "#46039f"
            ],
            [
             0.2222222222222222,
             "#7201a8"
            ],
            [
             0.3333333333333333,
             "#9c179e"
            ],
            [
             0.4444444444444444,
             "#bd3786"
            ],
            [
             0.5555555555555556,
             "#d8576b"
            ],
            [
             0.6666666666666666,
             "#ed7953"
            ],
            [
             0.7777777777777778,
             "#fb9f3a"
            ],
            [
             0.8888888888888888,
             "#fdca26"
            ],
            [
             1,
             "#f0f921"
            ]
           ]
          },
          "colorway": [
           "#636efa",
           "#EF553B",
           "#00cc96",
           "#ab63fa",
           "#FFA15A",
           "#19d3f3",
           "#FF6692",
           "#B6E880",
           "#FF97FF",
           "#FECB52"
          ],
          "font": {
           "color": "#2a3f5f"
          },
          "geo": {
           "bgcolor": "white",
           "lakecolor": "white",
           "landcolor": "#E5ECF6",
           "showlakes": true,
           "showland": true,
           "subunitcolor": "white"
          },
          "hoverlabel": {
           "align": "left"
          },
          "hovermode": "closest",
          "mapbox": {
           "style": "light"
          },
          "paper_bgcolor": "white",
          "plot_bgcolor": "#E5ECF6",
          "polar": {
           "angularaxis": {
            "gridcolor": "white",
            "linecolor": "white",
            "ticks": ""
           },
           "bgcolor": "#E5ECF6",
           "radialaxis": {
            "gridcolor": "white",
            "linecolor": "white",
            "ticks": ""
           }
          },
          "scene": {
           "xaxis": {
            "backgroundcolor": "#E5ECF6",
            "gridcolor": "white",
            "gridwidth": 2,
            "linecolor": "white",
            "showbackground": true,
            "ticks": "",
            "zerolinecolor": "white"
           },
           "yaxis": {
            "backgroundcolor": "#E5ECF6",
            "gridcolor": "white",
            "gridwidth": 2,
            "linecolor": "white",
            "showbackground": true,
            "ticks": "",
            "zerolinecolor": "white"
           },
           "zaxis": {
            "backgroundcolor": "#E5ECF6",
            "gridcolor": "white",
            "gridwidth": 2,
            "linecolor": "white",
            "showbackground": true,
            "ticks": "",
            "zerolinecolor": "white"
           }
          },
          "shapedefaults": {
           "line": {
            "color": "#2a3f5f"
           }
          },
          "ternary": {
           "aaxis": {
            "gridcolor": "white",
            "linecolor": "white",
            "ticks": ""
           },
           "baxis": {
            "gridcolor": "white",
            "linecolor": "white",
            "ticks": ""
           },
           "bgcolor": "#E5ECF6",
           "caxis": {
            "gridcolor": "white",
            "linecolor": "white",
            "ticks": ""
           }
          },
          "title": {
           "x": 0.05
          },
          "xaxis": {
           "automargin": true,
           "gridcolor": "white",
           "linecolor": "white",
           "ticks": "",
           "title": {
            "standoff": 15
           },
           "zerolinecolor": "white",
           "zerolinewidth": 2
          },
          "yaxis": {
           "automargin": true,
           "gridcolor": "white",
           "linecolor": "white",
           "ticks": "",
           "title": {
            "standoff": 15
           },
           "zerolinecolor": "white",
           "zerolinewidth": 2
          }
         }
        },
        "title": {
         "text": "Beneficiarios por sector de instalación de APR"
        },
        "xaxis": {
         "anchor": "y",
         "autorange": true,
         "categoryarray": [
          "PISHUINCO",
          "CURIÑANCO",
          "HUELLELHUE",
          "LAS GAVIOTAS",
          "NIEBLA-LOS MOLINOS",
          "PUNUCAPA",
          "SAN IGNACIO-PLAYA ROSADA",
          "TRES ESPINOS",
          "VILLA CAYUMAPU",
          "EL ARENAL SANTA ELVIRA",
          "PAILLAO",
          "CABO BLANCO",
          "EL ARENAL KM 2",
          "Chabelita",
          "ARCO IRIS",
          "EL LLOLLY",
          "PICHIRROPULLI",
          "REUMEN",
          "SANTA FILOMENA",
          "MANAO",
          "SANTA ROSA CHICA",
          "SANTA ROSA GRANDE",
          "LUMACO PAILLACO",
          "EL MAITEN",
          "SANTA FILOMENA II",
          "ANTILHUE",
          "FOLILCO LOS LAGOS",
          "QUILQUILCO",
          "RIÑIHUE",
          "USTARITZ",
          "EL SALTO",
          "PELLINADA LAS QUINIENTAS",
          "PANCUL",
          "LOS COLIGÜES",
          "COLO COLO",
          "LAS HUELLLAS",
          "San Pedro",
          "Lipingue",
          "El Trebol",
          "Collico Sur",
          "Mi Tierra",
          "Puñaco",
          "Purey",
          "AMARGO-SAN CARLOS",
          "ISLA DEL REY",
          "ISLA MANCERA",
          "LA AGUADA",
          "CHAIHUIN",
          "CERROS DE CORRAL"
         ],
         "categoryorder": "array",
         "domain": [
          0,
          1
         ],
         "range": [
          -0.5,
          48.5
         ],
         "title": {
          "text": "Nombre Ubicación"
         },
         "type": "category"
        },
        "yaxis": {
         "anchor": "x",
         "autorange": true,
         "domain": [
          0,
          1
         ],
         "range": [
          0,
          4232.631578947368
         ],
         "title": {
          "text": "Beneficiarios"
         },
         "type": "linear"
        }
       }
      },
      "image/png": "[encoded data removed]",
      "text/html": [
       "<div>                            <div id=\"220f0473-b1f8-4e7a-99f0-f1a5f14e21f9\" class=\"plotly-graph-div\" style=\"height:525px; width:100%;\"></div>            <script type=\"text/javascript\">                require([\"plotly\"], function(Plotly) {                    window.PLOTLYENV=window.PLOTLYENV || {};                                    if (document.getElementById(\"220f0473-b1f8-4e7a-99f0-f1a5f14e21f9\")) {                    Plotly.newPlot(                        \"220f0473-b1f8-4e7a-99f0-f1a5f14e21f9\",                        [{\"alignmentgroup\":\"True\",\"hovertemplate\":\"Nombre Ubicaci\\u00f3n=%{x}<br>Beneficiarios=%{y}<extra></extra>\",\"legendgroup\":\"PISHUINCO\",\"marker\":{\"color\":\"green\",\"pattern\":{\"shape\":\"\"}},\"name\":\"PISHUINCO\",\"offsetgroup\":\"PISHUINCO\",\"orientation\":\"v\",\"showlegend\":true,\"textposition\":\"auto\",\"x\":[\"PISHUINCO\"],\"xaxis\":\"x\",\"y\":[322.0],\"yaxis\":\"y\",\"type\":\"bar\"},{\"alignmentgroup\":\"True\",\"hovertemplate\":\"Nombre Ubicaci\\u00f3n=%{x}<br>Beneficiarios=%{y}<extra></extra>\",\"legendgroup\":\"CURI\\u00d1ANCO\",\"marker\":{\"color\":\"purple\",\"pattern\":{\"shape\":\"\"}},\"name\":\"CURI\\u00d1ANCO\",\"offsetgroup\":\"CURI\\u00d1ANCO\",\"orientation\":\"v\",\"showlegend\":true,\"textposition\":\"auto\",\"x\":[\"CURI\\u00d1ANCO\"],\"xaxis\":\"x\",\"y\":[2294.0],\"yaxis\":\"y\",\"type\":\"bar\"},{\"alignmentgroup\":\"True\",\"hovertemplate\":\"Nombre Ubicaci\\u00f3n=%{x}<br>Beneficiarios=%{y}<extra></extra>\",\"legendgroup\":\"HUELLELHUE\",\"marker\":{\"color\":\"green\",\"pattern\":{\"shape\":\"\"}},\"name\":\"HUELLELHUE\",\"offsetgroup\":\"HUELLELHUE\",\"orientation\":\"v\",\"showlegend\":true,\"textposition\":\"auto\",\"x\":[\"HUELLELHUE\"],\"xaxis\":\"x\",\"y\":[310.0],\"yaxis\":\"y\",\"type\":\"bar\"},{\"alignmentgroup\":\"True\",\"hovertemplate\":\"Nombre Ubicaci\\u00f3n=%{x}<br>Beneficiarios=%{y}<extra></extra>\",\"legendgroup\":\"LAS GAVIOTAS\",\"marker\":{\"color\":\"red\",\"pattern\":{\"shape\":\"\"}},\"name\":\"LAS GAVIOTAS\",\"offsetgroup\":\"LAS GAVIOTAS\",\"orientation\":\"v\",\"showlegend\":true,\"textposition\":\"auto\",\"x\":[\"LAS GAVIOTAS\"],\"xaxis\":\"x\",\"y\":[1048.0],\"yaxis\":\"y\",\"type\":\"bar\"},{\"alignmentgroup\":\"True\",\"hovertemplate\":\"Nombre Ubicaci\\u00f3n=%{x}<br>Beneficiarios=%{y}<extra></extra>\",\"legendgroup\":\"NIEBLA-LOS MOLINOS\",\"marker\":{\"color\":\"purple\",\"pattern\":{\"shape\":\"\"}},\"name\":\"NIEBLA-LOS MOLINOS\",\"offsetgroup\":\"NIEBLA-LOS MOLINOS\",\"orientation\":\"v\",\"showlegend\":true,\"textposition\":\"auto\",\"x\":[\"NIEBLA-LOS MOLINOS\"],\"xaxis\":\"x\",\"y\":[4021.0],\"yaxis\":\"y\",\"type\":\"bar\"},{\"alignmentgroup\":\"True\",\"hovertemplate\":\"Nombre Ubicaci\\u00f3n=%{x}<br>Beneficiarios=%{y}<extra></extra>\",\"legendgroup\":\"PUNUCAPA\",\"marker\":{\"color\":\"green\",\"pattern\":{\"shape\":\"\"}},\"name\":\"PUNUCAPA\",\"offsetgroup\":\"PUNUCAPA\",\"orientation\":\"v\",\"showlegend\":true,\"textposition\":\"auto\",\"x\":[\"PUNUCAPA\"],\"xaxis\":\"x\",\"y\":[459.0],\"yaxis\":\"y\",\"type\":\"bar\"},{\"alignmentgroup\":\"True\",\"hovertemplate\":\"Nombre Ubicaci\\u00f3n=%{x}<br>Beneficiarios=%{y}<extra></extra>\",\"legendgroup\":\"SAN IGNACIO-PLAYA ROSADA\",\"marker\":{\"color\":\"orange\",\"pattern\":{\"shape\":\"\"}},\"name\":\"SAN IGNACIO-PLAYA ROSADA\",\"offsetgroup\":\"SAN IGNACIO-PLAYA ROSADA\",\"orientation\":\"v\",\"showlegend\":true,\"textposition\":\"auto\",\"x\":[\"SAN IGNACIO-PLAYA ROSADA\"],\"xaxis\":\"x\",\"y\":[936.0],\"yaxis\":\"y\",\"type\":\"bar\"},{\"alignmentgroup\":\"True\",\"hovertemplate\":\"Nombre Ubicaci\\u00f3n=%{x}<br>Beneficiarios=%{y}<extra></extra>\",\"legendgroup\":\"TRES ESPINOS\",\"marker\":{\"color\":\"red\",\"pattern\":{\"shape\":\"\"}},\"name\":\"TRES ESPINOS\",\"offsetgroup\":\"TRES ESPINOS\",\"orientation\":\"v\",\"showlegend\":true,\"textposition\":\"auto\",\"x\":[\"TRES ESPINOS\"],\"xaxis\":\"x\",\"y\":[1091.0],\"yaxis\":\"y\",\"type\":\"bar\"},{\"alignmentgroup\":\"True\",\"hovertemplate\":\"Nombre Ubicaci\\u00f3n=%{x}<br>Beneficiarios=%{y}<extra></extra>\",\"legendgroup\":\"VILLA CAYUMAPU\",\"marker\":{\"color\":\"red\",\"pattern\":{\"shape\":\"\"}},\"name\":\"VILLA CAYUMAPU\",\"offsetgroup\":\"VILLA CAYUMAPU\",\"orientation\":\"v\",\"showlegend\":true,\"textposition\":\"auto\",\"x\":[\"VILLA CAYUMAPU\"],\"xaxis\":\"x\",\"y\":[1327.0],\"yaxis\":\"y\",\"type\":\"bar\"},{\"alignmentgroup\":\"True\",\"hovertemplate\":\"Nombre Ubicaci\\u00f3n=%{x}<br>Beneficiarios=%{y}<extra></extra>\",\"legendgroup\":\"EL ARENAL SANTA ELVIRA\",\"marker\":{\"color\":\"orange\",\"pattern\":{\"shape\":\"\"}},\"name\":\"EL ARENAL SANTA ELVIRA\",\"offsetgroup\":\"EL ARENAL SANTA ELVIRA\",\"orientation\":\"v\",\"showlegend\":true,\"textposition\":\"auto\",\"x\":[\"EL ARENAL SANTA ELVIRA\"],\"xaxis\":\"x\",\"y\":[549.0],\"yaxis\":\"y\",\"type\":\"bar\"},{\"alignmentgroup\":\"True\",\"hovertemplate\":\"Nombre Ubicaci\\u00f3n=%{x}<br>Beneficiarios=%{y}<extra></extra>\",\"legendgroup\":\"PAILLAO\",\"marker\":{\"color\":\"orange\",\"pattern\":{\"shape\":\"\"}},\"name\":\"PAILLAO\",\"offsetgroup\":\"PAILLAO\",\"orientation\":\"v\",\"showlegend\":true,\"textposition\":\"auto\",\"x\":[\"PAILLAO\"],\"xaxis\":\"x\",\"y\":[871.0],\"yaxis\":\"y\",\"type\":\"bar\"},{\"alignmentgroup\":\"True\",\"hovertemplate\":\"Nombre Ubicaci\\u00f3n=%{x}<br>Beneficiarios=%{y}<extra></extra>\",\"legendgroup\":\"CABO BLANCO\",\"marker\":{\"color\":\"green\",\"pattern\":{\"shape\":\"\"}},\"name\":\"CABO BLANCO\",\"offsetgroup\":\"CABO BLANCO\",\"orientation\":\"v\",\"showlegend\":true,\"textposition\":\"auto\",\"x\":[\"CABO BLANCO\"],\"xaxis\":\"x\",\"y\":[543.0],\"yaxis\":\"y\",\"type\":\"bar\"},{\"alignmentgroup\":\"True\",\"hovertemplate\":\"Nombre Ubicaci\\u00f3n=%{x}<br>Beneficiarios=%{y}<extra></extra>\",\"legendgroup\":\"EL ARENAL KM 2\",\"marker\":{\"color\":\"orange\",\"pattern\":{\"shape\":\"\"}},\"name\":\"EL ARENAL KM 2\",\"offsetgroup\":\"EL ARENAL KM 2\",\"orientation\":\"v\",\"showlegend\":true,\"textposition\":\"auto\",\"x\":[\"EL ARENAL KM 2\"],\"xaxis\":\"x\",\"y\":[623.0],\"yaxis\":\"y\",\"type\":\"bar\"},{\"alignmentgroup\":\"True\",\"hovertemplate\":\"Nombre Ubicaci\\u00f3n=%{x}<br>Beneficiarios=%{y}<extra></extra>\",\"legendgroup\":\"Chabelita\",\"marker\":{\"color\":\"green\",\"pattern\":{\"shape\":\"\"}},\"name\":\"Chabelita\",\"offsetgroup\":\"Chabelita\",\"orientation\":\"v\",\"showlegend\":true,\"textposition\":\"auto\",\"x\":[\"Chabelita\"],\"xaxis\":\"x\",\"y\":[434.0],\"yaxis\":\"y\",\"type\":\"bar\"},{\"alignmentgroup\":\"True\",\"hovertemplate\":\"Nombre Ubicaci\\u00f3n=%{x}<br>Beneficiarios=%{y}<extra></extra>\",\"legendgroup\":\"ARCO IRIS\",\"marker\":{\"color\":\"green\",\"pattern\":{\"shape\":\"\"}},\"name\":\"ARCO IRIS\",\"offsetgroup\":\"ARCO IRIS\",\"orientation\":\"v\",\"showlegend\":true,\"textposition\":\"auto\",\"x\":[\"ARCO IRIS\"],\"xaxis\":\"x\",\"y\":[394.0],\"yaxis\":\"y\",\"type\":\"bar\"},{\"alignmentgroup\":\"True\",\"hovertemplate\":\"Nombre Ubicaci\\u00f3n=%{x}<br>Beneficiarios=%{y}<extra></extra>\",\"legendgroup\":\"EL LLOLLY\",\"marker\":{\"color\":\"green\",\"pattern\":{\"shape\":\"\"}},\"name\":\"EL LLOLLY\",\"offsetgroup\":\"EL LLOLLY\",\"orientation\":\"v\",\"showlegend\":true,\"textposition\":\"auto\",\"x\":[\"EL LLOLLY\"],\"xaxis\":\"x\",\"y\":[428.0],\"yaxis\":\"y\",\"type\":\"bar\"},{\"alignmentgroup\":\"True\",\"hovertemplate\":\"Nombre Ubicaci\\u00f3n=%{x}<br>Beneficiarios=%{y}<extra></extra>\",\"legendgroup\":\"PICHIRROPULLI\",\"marker\":{\"color\":\"red\",\"pattern\":{\"shape\":\"\"}},\"name\":\"PICHIRROPULLI\",\"offsetgroup\":\"PICHIRROPULLI\",\"orientation\":\"v\",\"showlegend\":true,\"textposition\":\"auto\",\"x\":[\"PICHIRROPULLI\"],\"xaxis\":\"x\",\"y\":[1079.0],\"yaxis\":\"y\",\"type\":\"bar\"},{\"alignmentgroup\":\"True\",\"hovertemplate\":\"Nombre Ubicaci\\u00f3n=%{x}<br>Beneficiarios=%{y}<extra></extra>\",\"legendgroup\":\"REUMEN\",\"marker\":{\"color\":\"red\",\"pattern\":{\"shape\":\"\"}},\"name\":\"REUMEN\",\"offsetgroup\":\"REUMEN\",\"orientation\":\"v\",\"showlegend\":true,\"textposition\":\"auto\",\"x\":[\"REUMEN\"],\"xaxis\":\"x\",\"y\":[1442.0],\"yaxis\":\"y\",\"type\":\"bar\"},{\"alignmentgroup\":\"True\",\"hovertemplate\":\"Nombre Ubicaci\\u00f3n=%{x}<br>Beneficiarios=%{y}<extra></extra>\",\"legendgroup\":\"SANTA FILOMENA\",\"marker\":{\"color\":\"green\",\"pattern\":{\"shape\":\"\"}},\"name\":\"SANTA FILOMENA\",\"offsetgroup\":\"SANTA FILOMENA\",\"orientation\":\"v\",\"showlegend\":true,\"textposition\":\"auto\",\"x\":[\"SANTA FILOMENA\"],\"xaxis\":\"x\",\"y\":[403.0],\"yaxis\":\"y\",\"type\":\"bar\"},{\"alignmentgroup\":\"True\",\"hovertemplate\":\"Nombre Ubicaci\\u00f3n=%{x}<br>Beneficiarios=%{y}<extra></extra>\",\"legendgroup\":\"MANAO\",\"marker\":{\"color\":\"darkred\",\"pattern\":{\"shape\":\"\"}},\"name\":\"MANAO\",\"offsetgroup\":\"MANAO\",\"orientation\":\"v\",\"showlegend\":true,\"textposition\":\"auto\",\"x\":[\"MANAO\"],\"xaxis\":\"x\",\"y\":[220.0],\"yaxis\":\"y\",\"type\":\"bar\"},{\"alignmentgroup\":\"True\",\"hovertemplate\":\"Nombre Ubicaci\\u00f3n=%{x}<br>Beneficiarios=%{y}<extra></extra>\",\"legendgroup\":\"SANTA ROSA CHICA\",\"marker\":{\"color\":\"green\",\"pattern\":{\"shape\":\"\"}},\"name\":\"SANTA ROSA CHICA\",\"offsetgroup\":\"SANTA ROSA CHICA\",\"orientation\":\"v\",\"showlegend\":true,\"textposition\":\"auto\",\"x\":[\"SANTA ROSA CHICA\"],\"xaxis\":\"x\",\"y\":[394.0],\"yaxis\":\"y\",\"type\":\"bar\"},{\"alignmentgroup\":\"True\",\"hovertemplate\":\"Nombre Ubicaci\\u00f3n=%{x}<br>Beneficiarios=%{y}<extra></extra>\",\"legendgroup\":\"SANTA ROSA GRANDE\",\"marker\":{\"color\":\"green\",\"pattern\":{\"shape\":\"\"}},\"name\":\"SANTA ROSA GRANDE\",\"offsetgroup\":\"SANTA ROSA GRANDE\",\"orientation\":\"v\",\"showlegend\":true,\"textposition\":\"auto\",\"x\":[\"SANTA ROSA GRANDE\"],\"xaxis\":\"x\",\"y\":[319.0],\"yaxis\":\"y\",\"type\":\"bar\"},{\"alignmentgroup\":\"True\",\"hovertemplate\":\"Nombre Ubicaci\\u00f3n=%{x}<br>Beneficiarios=%{y}<extra></extra>\",\"legendgroup\":\"LUMACO PAILLACO\",\"marker\":{\"color\":\"orange\",\"pattern\":{\"shape\":\"\"}},\"name\":\"LUMACO PAILLACO\",\"offsetgroup\":\"LUMACO PAILLACO\",\"orientation\":\"v\",\"showlegend\":true,\"textposition\":\"auto\",\"x\":[\"LUMACO PAILLACO\"],\"xaxis\":\"x\",\"y\":[710.0],\"yaxis\":\"y\",\"type\":\"bar\"},{\"alignmentgroup\":\"True\",\"hovertemplate\":\"Nombre Ubicaci\\u00f3n=%{x}<br>Beneficiarios=%{y}<extra></extra>\",\"legendgroup\":\"EL MAITEN\",\"marker\":{\"color\":\"darkred\",\"pattern\":{\"shape\":\"\"}},\"name\":\"EL MAITEN\",\"offsetgroup\":\"EL MAITEN\",\"orientation\":\"v\",\"showlegend\":true,\"textposition\":\"auto\",\"x\":[\"EL MAITEN\"],\"xaxis\":\"x\",\"y\":[155.0],\"yaxis\":\"y\",\"type\":\"bar\"},{\"alignmentgroup\":\"True\",\"hovertemplate\":\"Nombre Ubicaci\\u00f3n=%{x}<br>Beneficiarios=%{y}<extra></extra>\",\"legendgroup\":\"SANTA FILOMENA II\",\"marker\":{\"color\":\"darkred\",\"pattern\":{\"shape\":\"\"}},\"name\":\"SANTA FILOMENA II\",\"offsetgroup\":\"SANTA FILOMENA II\",\"orientation\":\"v\",\"showlegend\":true,\"textposition\":\"auto\",\"x\":[\"SANTA FILOMENA II\"],\"xaxis\":\"x\",\"y\":[211.0],\"yaxis\":\"y\",\"type\":\"bar\"},{\"alignmentgroup\":\"True\",\"hovertemplate\":\"Nombre Ubicaci\\u00f3n=%{x}<br>Beneficiarios=%{y}<extra></extra>\",\"legendgroup\":\"ANTILHUE\",\"marker\":{\"color\":\"red\",\"pattern\":{\"shape\":\"\"}},\"name\":\"ANTILHUE\",\"offsetgroup\":\"ANTILHUE\",\"orientation\":\"v\",\"showlegend\":true,\"textposition\":\"auto\",\"x\":[\"ANTILHUE\"],\"xaxis\":\"x\",\"y\":[1414.0],\"yaxis\":\"y\",\"type\":\"bar\"},{\"alignmentgroup\":\"True\",\"hovertemplate\":\"Nombre Ubicaci\\u00f3n=%{x}<br>Beneficiarios=%{y}<extra></extra>\",\"legendgroup\":\"FOLILCO LOS LAGOS\",\"marker\":{\"color\":\"green\",\"pattern\":{\"shape\":\"\"}},\"name\":\"FOLILCO LOS LAGOS\",\"offsetgroup\":\"FOLILCO LOS LAGOS\",\"orientation\":\"v\",\"showlegend\":true,\"textposition\":\"auto\",\"x\":[\"FOLILCO LOS LAGOS\"],\"xaxis\":\"x\",\"y\":[474.0],\"yaxis\":\"y\",\"type\":\"bar\"},{\"alignmentgroup\":\"True\",\"hovertemplate\":\"Nombre Ubicaci\\u00f3n=%{x}<br>Beneficiarios=%{y}<extra></extra>\",\"legendgroup\":\"QUILQUILCO\",\"marker\":{\"color\":\"darkred\",\"pattern\":{\"shape\":\"\"}},\"name\":\"QUILQUILCO\",\"offsetgroup\":\"QUILQUILCO\",\"orientation\":\"v\",\"showlegend\":true,\"textposition\":\"auto\",\"x\":[\"QUILQUILCO\"],\"xaxis\":\"x\",\"y\":[149.0],\"yaxis\":\"y\",\"type\":\"bar\"},{\"alignmentgroup\":\"True\",\"hovertemplate\":\"Nombre Ubicaci\\u00f3n=%{x}<br>Beneficiarios=%{y}<extra></extra>\",\"legendgroup\":\"RI\\u00d1IHUE\",\"marker\":{\"color\":\"darkred\",\"pattern\":{\"shape\":\"\"}},\"name\":\"RI\\u00d1IHUE\",\"offsetgroup\":\"RI\\u00d1IHUE\",\"orientation\":\"v\",\"showlegend\":true,\"textposition\":\"auto\",\"x\":[\"RI\\u00d1IHUE\"],\"xaxis\":\"x\",\"y\":[208.0],\"yaxis\":\"y\",\"type\":\"bar\"},{\"alignmentgroup\":\"True\",\"hovertemplate\":\"Nombre Ubicaci\\u00f3n=%{x}<br>Beneficiarios=%{y}<extra></extra>\",\"legendgroup\":\"USTARITZ\",\"marker\":{\"color\":\"green\",\"pattern\":{\"shape\":\"\"}},\"name\":\"USTARITZ\",\"offsetgroup\":\"USTARITZ\",\"orientation\":\"v\",\"showlegend\":true,\"textposition\":\"auto\",\"x\":[\"USTARITZ\"],\"xaxis\":\"x\",\"y\":[434.0],\"yaxis\":\"y\",\"type\":\"bar\"},{\"alignmentgroup\":\"True\",\"hovertemplate\":\"Nombre Ubicaci\\u00f3n=%{x}<br>Beneficiarios=%{y}<extra></extra>\",\"legendgroup\":\"EL SALTO\",\"marker\":{\"color\":\"orange\",\"pattern\":{\"shape\":\"\"}},\"name\":\"EL SALTO\",\"offsetgroup\":\"EL SALTO\",\"orientation\":\"v\",\"showlegend\":true,\"textposition\":\"auto\",\"x\":[\"EL SALTO\"],\"xaxis\":\"x\",\"y\":[592.0],\"yaxis\":\"y\",\"type\":\"bar\"},{\"alignmentgroup\":\"True\",\"hovertemplate\":\"Nombre Ubicaci\\u00f3n=%{x}<br>Beneficiarios=%{y}<extra></extra>\",\"legendgroup\":\"PELLINADA LAS QUINIENTAS\",\"marker\":{\"color\":\"green\",\"pattern\":{\"shape\":\"\"}},\"name\":\"PELLINADA LAS QUINIENTAS\",\"offsetgroup\":\"PELLINADA LAS QUINIENTAS\",\"orientation\":\"v\",\"showlegend\":true,\"textposition\":\"auto\",\"x\":[\"PELLINADA LAS QUINIENTAS\"],\"xaxis\":\"x\",\"y\":[434.0],\"yaxis\":\"y\",\"type\":\"bar\"},{\"alignmentgroup\":\"True\",\"hovertemplate\":\"Nombre Ubicaci\\u00f3n=%{x}<br>Beneficiarios=%{y}<extra></extra>\",\"legendgroup\":\"PANCUL\",\"marker\":{\"color\":\"orange\",\"pattern\":{\"shape\":\"\"}},\"name\":\"PANCUL\",\"offsetgroup\":\"PANCUL\",\"orientation\":\"v\",\"showlegend\":true,\"textposition\":\"auto\",\"x\":[\"PANCUL\"],\"xaxis\":\"x\",\"y\":[729.0],\"yaxis\":\"y\",\"type\":\"bar\"},{\"alignmentgroup\":\"True\",\"hovertemplate\":\"Nombre Ubicaci\\u00f3n=%{x}<br>Beneficiarios=%{y}<extra></extra>\",\"legendgroup\":\"LOS COLIG\\u00dcES\",\"marker\":{\"color\":\"green\",\"pattern\":{\"shape\":\"\"}},\"name\":\"LOS COLIG\\u00dcES\",\"offsetgroup\":\"LOS COLIG\\u00dcES\",\"orientation\":\"v\",\"showlegend\":true,\"textposition\":\"auto\",\"x\":[\"LOS COLIG\\u00dcES\"],\"xaxis\":\"x\",\"y\":[456.0],\"yaxis\":\"y\",\"type\":\"bar\"},{\"alignmentgroup\":\"True\",\"hovertemplate\":\"Nombre Ubicaci\\u00f3n=%{x}<br>Beneficiarios=%{y}<extra></extra>\",\"legendgroup\":\"COLO COLO\",\"marker\":{\"color\":\"darkred\",\"pattern\":{\"shape\":\"\"}},\"name\":\"COLO COLO\",\"offsetgroup\":\"COLO COLO\",\"orientation\":\"v\",\"showlegend\":true,\"textposition\":\"auto\",\"x\":[\"COLO COLO\"],\"xaxis\":\"x\",\"y\":[298.0],\"yaxis\":\"y\",\"type\":\"bar\"},{\"alignmentgroup\":\"True\",\"hovertemplate\":\"Nombre Ubicaci\\u00f3n=%{x}<br>Beneficiarios=%{y}<extra></extra>\",\"legendgroup\":\"LAS HUELLLAS\",\"marker\":{\"color\":\"darkred\",\"pattern\":{\"shape\":\"\"}},\"name\":\"LAS HUELLLAS\",\"offsetgroup\":\"LAS HUELLLAS\",\"orientation\":\"v\",\"showlegend\":true,\"textposition\":\"auto\",\"x\":[\"LAS HUELLLAS\"],\"xaxis\":\"x\",\"y\":[276.0],\"yaxis\":\"y\",\"type\":\"bar\"},{\"alignmentgroup\":\"True\",\"hovertemplate\":\"Nombre Ubicaci\\u00f3n=%{x}<br>Beneficiarios=%{y}<extra></extra>\",\"legendgroup\":\"San Pedro\",\"marker\":{\"color\":\"green\",\"pattern\":{\"shape\":\"\"}},\"name\":\"San Pedro\",\"offsetgroup\":\"San Pedro\",\"orientation\":\"v\",\"showlegend\":true,\"textposition\":\"auto\",\"x\":[\"San Pedro\"],\"xaxis\":\"x\",\"y\":[375.0],\"yaxis\":\"y\",\"type\":\"bar\"},{\"alignmentgroup\":\"True\",\"hovertemplate\":\"Nombre Ubicaci\\u00f3n=%{x}<br>Beneficiarios=%{y}<extra></extra>\",\"legendgroup\":\"Lipingue\",\"marker\":{\"color\":\"green\",\"pattern\":{\"shape\":\"\"}},\"name\":\"Lipingue\",\"offsetgroup\":\"Lipingue\",\"orientation\":\"v\",\"showlegend\":true,\"textposition\":\"auto\",\"x\":[\"Lipingue\"],\"xaxis\":\"x\",\"y\":[434.0],\"yaxis\":\"y\",\"type\":\"bar\"},{\"alignmentgroup\":\"True\",\"hovertemplate\":\"Nombre Ubicaci\\u00f3n=%{x}<br>Beneficiarios=%{y}<extra></extra>\",\"legendgroup\":\"El Trebol\",\"marker\":{\"color\":\"darkred\",\"pattern\":{\"shape\":\"\"}},\"name\":\"El Trebol\",\"offsetgroup\":\"El Trebol\",\"orientation\":\"v\",\"showlegend\":true,\"textposition\":\"auto\",\"x\":[\"El Trebol\"],\"xaxis\":\"x\",\"y\":[208.0],\"yaxis\":\"y\",\"type\":\"bar\"},{\"alignmentgroup\":\"True\",\"hovertemplate\":\"Nombre Ubicaci\\u00f3n=%{x}<br>Beneficiarios=%{y}<extra></extra>\",\"legendgroup\":\"Collico Sur\",\"marker\":{\"color\":\"darkred\",\"pattern\":{\"shape\":\"\"}},\"name\":\"Collico Sur\",\"offsetgroup\":\"Collico Sur\",\"orientation\":\"v\",\"showlegend\":true,\"textposition\":\"auto\",\"x\":[\"Collico Sur\"],\"xaxis\":\"x\",\"y\":[236.0],\"yaxis\":\"y\",\"type\":\"bar\"},{\"alignmentgroup\":\"True\",\"hovertemplate\":\"Nombre Ubicaci\\u00f3n=%{x}<br>Beneficiarios=%{y}<extra></extra>\",\"legendgroup\":\"Mi Tierra\",\"marker\":{\"color\":\"darkred\",\"pattern\":{\"shape\":\"\"}},\"name\":\"Mi Tierra\",\"offsetgroup\":\"Mi Tierra\",\"orientation\":\"v\",\"showlegend\":true,\"textposition\":\"auto\",\"x\":[\"Mi Tierra\"],\"xaxis\":\"x\",\"y\":[71.0],\"yaxis\":\"y\",\"type\":\"bar\"},{\"alignmentgroup\":\"True\",\"hovertemplate\":\"Nombre Ubicaci\\u00f3n=%{x}<br>Beneficiarios=%{y}<extra></extra>\",\"legendgroup\":\"Pu\\u00f1aco\",\"marker\":{\"color\":\"darkred\",\"pattern\":{\"shape\":\"\"}},\"name\":\"Pu\\u00f1aco\",\"offsetgroup\":\"Pu\\u00f1aco\",\"orientation\":\"v\",\"showlegend\":true,\"textposition\":\"auto\",\"x\":[\"Pu\\u00f1aco\"],\"xaxis\":\"x\",\"y\":[81.0],\"yaxis\":\"y\",\"type\":\"bar\"},{\"alignmentgroup\":\"True\",\"hovertemplate\":\"Nombre Ubicaci\\u00f3n=%{x}<br>Beneficiarios=%{y}<extra></extra>\",\"legendgroup\":\"Purey\",\"marker\":{\"color\":\"darkred\",\"pattern\":{\"shape\":\"\"}},\"name\":\"Purey\",\"offsetgroup\":\"Purey\",\"orientation\":\"v\",\"showlegend\":true,\"textposition\":\"auto\",\"x\":[\"Purey\"],\"xaxis\":\"x\",\"y\":[78.0],\"yaxis\":\"y\",\"type\":\"bar\"},{\"alignmentgroup\":\"True\",\"hovertemplate\":\"Nombre Ubicaci\\u00f3n=%{x}<br>Beneficiarios=%{y}<extra></extra>\",\"legendgroup\":\"AMARGO-SAN CARLOS\",\"marker\":{\"color\":\"purple\",\"pattern\":{\"shape\":\"\"}},\"name\":\"AMARGO-SAN CARLOS\",\"offsetgroup\":\"AMARGO-SAN CARLOS\",\"orientation\":\"v\",\"showlegend\":true,\"textposition\":\"auto\",\"x\":[\"AMARGO-SAN CARLOS\"],\"xaxis\":\"x\",\"y\":[2412.0],\"yaxis\":\"y\",\"type\":\"bar\"},{\"alignmentgroup\":\"True\",\"hovertemplate\":\"Nombre Ubicaci\\u00f3n=%{x}<br>Beneficiarios=%{y}<extra></extra>\",\"legendgroup\":\"ISLA DEL REY\",\"marker\":{\"color\":\"orange\",\"pattern\":{\"shape\":\"\"}},\"name\":\"ISLA DEL REY\",\"offsetgroup\":\"ISLA DEL REY\",\"orientation\":\"v\",\"showlegend\":true,\"textposition\":\"auto\",\"x\":[\"ISLA DEL REY\"],\"xaxis\":\"x\",\"y\":[620.0],\"yaxis\":\"y\",\"type\":\"bar\"},{\"alignmentgroup\":\"True\",\"hovertemplate\":\"Nombre Ubicaci\\u00f3n=%{x}<br>Beneficiarios=%{y}<extra></extra>\",\"legendgroup\":\"ISLA MANCERA\",\"marker\":{\"color\":\"darkred\",\"pattern\":{\"shape\":\"\"}},\"name\":\"ISLA MANCERA\",\"offsetgroup\":\"ISLA MANCERA\",\"orientation\":\"v\",\"showlegend\":true,\"textposition\":\"auto\",\"x\":[\"ISLA MANCERA\"],\"xaxis\":\"x\",\"y\":[267.0],\"yaxis\":\"y\",\"type\":\"bar\"},{\"alignmentgroup\":\"True\",\"hovertemplate\":\"Nombre Ubicaci\\u00f3n=%{x}<br>Beneficiarios=%{y}<extra></extra>\",\"legendgroup\":\"LA AGUADA\",\"marker\":{\"color\":\"orange\",\"pattern\":{\"shape\":\"\"}},\"name\":\"LA AGUADA\",\"offsetgroup\":\"LA AGUADA\",\"orientation\":\"v\",\"showlegend\":true,\"textposition\":\"auto\",\"x\":[\"LA AGUADA\"],\"xaxis\":\"x\",\"y\":[626.0],\"yaxis\":\"y\",\"type\":\"bar\"},{\"alignmentgroup\":\"True\",\"hovertemplate\":\"Nombre Ubicaci\\u00f3n=%{x}<br>Beneficiarios=%{y}<extra></extra>\",\"legendgroup\":\"CHAIHUIN\",\"marker\":{\"color\":\"orange\",\"pattern\":{\"shape\":\"\"}},\"name\":\"CHAIHUIN\",\"offsetgroup\":\"CHAIHUIN\",\"orientation\":\"v\",\"showlegend\":true,\"textposition\":\"auto\",\"x\":[\"CHAIHUIN\"],\"xaxis\":\"x\",\"y\":[744.0],\"yaxis\":\"y\",\"type\":\"bar\"},{\"alignmentgroup\":\"True\",\"hovertemplate\":\"Nombre Ubicaci\\u00f3n=%{x}<br>Beneficiarios=%{y}<extra></extra>\",\"legendgroup\":\"CERROS DE CORRAL\",\"marker\":{\"color\":\"green\",\"pattern\":{\"shape\":\"\"}},\"name\":\"CERROS DE CORRAL\",\"offsetgroup\":\"CERROS DE CORRAL\",\"orientation\":\"v\",\"showlegend\":true,\"textposition\":\"auto\",\"x\":[\"CERROS DE CORRAL\"],\"xaxis\":\"x\",\"y\":[484.0],\"yaxis\":\"y\",\"type\":\"bar\"}],                        {\"template\":{\"data\":{\"histogram2dcontour\":[{\"type\":\"histogram2dcontour\",\"colorbar\":{\"outlinewidth\":0,\"ticks\":\"\"},\"colorscale\":[[0.0,\"#0d0887\"],[0.1111111111111111,\"#46039f\"],[0.2222222222222222,\"#7201a8\"],[0.3333333333333333,\"#9c179e\"],[0.4444444444444444,\"#bd3786\"],[0.5555555555555556,\"#d8576b\"],[0.6666666666666666,\"#ed7953\"],[0.7777777777777778,\"#fb9f3a\"],[0.8888888888888888,\"#fdca26\"],[1.0,\"#f0f921\"]]}],\"choropleth\":[{\"type\":\"choropleth\",\"colorbar\":{\"outlinewidth\":0,\"ticks\":\"\"}}],\"histogram2d\":[{\"type\":\"histogram2d\",\"colorbar\":{\"outlinewidth\":0,\"ticks\":\"\"},\"colorscale\":[[0.0,\"#0d0887\"],[0.1111111111111111,\"#46039f\"],[0.2222222222222222,\"#7201a8\"],[0.3333333333333333,\"#9c179e\"],[0.4444444444444444,\"#bd3786\"],[0.5555555555555556,\"#d8576b\"],[0.6666666666666666,\"#ed7953\"],[0.7777777777777778,\"#fb9f3a\"],[0.8888888888888888,\"#fdca26\"],[1.0,\"#f0f921\"]]}],\"heatmap\":[{\"type\":\"heatmap\",\"colorbar\":{\"outlinewidth\":0,\"ticks\":\"\"},\"colorscale\":[[0.0,\"#0d0887\"],[0.1111111111111111,\"#46039f\"],[0.2222222222222222,\"#7201a8\"],[0.3333333333333333,\"#9c179e\"],[0.4444444444444444,\"#bd3786\"],[0.5555555555555556,\"#d8576b\"],[0.6666666666666666,\"#ed7953\"],[0.7777777777777778,\"#fb9f3a\"],[0.8888888888888888,\"#fdca26\"],[1.0,\"#f0f921\"]]}],\"heatmapgl\":[{\"type\":\"heatmapgl\",\"colorbar\":{\"outlinewidth\":0,\"ticks\":\"\"},\"colorscale\":[[0.0,\"#0d0887\"],[0.1111111111111111,\"#46039f\"],[0.2222222222222222,\"#7201a8\"],[0.3333333333333333,\"#9c179e\"],[0.4444444444444444,\"#bd3786\"],[0.5555555555555556,\"#d8576b\"],[0.6666666666666666,\"#ed7953\"],[0.7777777777777778,\"#fb9f3a\"],[0.8888888888888888,\"#fdca26\"],[1.0,\"#f0f921\"]]}],\"contourcarpet\":[{\"type\":\"contourcarpet\",\"colorbar\":{\"outlinewidth\":0,\"ticks\":\"\"}}],\"contour\":[{\"type\":\"contour\",\"colorbar\":{\"outlinewidth\":0,\"ticks\":\"\"},\"colorscale\":[[0.0,\"#0d0887\"],[0.1111111111111111,\"#46039f\"],[0.2222222222222222,\"#7201a8\"],[0.3333333333333333,\"#9c179e\"],[0.4444444444444444,\"#bd3786\"],[0.5555555555555556,\"#d8576b\"],[0.6666666666666666,\"#ed7953\"],[0.7777777777777778,\"#fb9f3a\"],[0.8888888888888888,\"#fdca26\"],[1.0,\"#f0f921\"]]}],\"surface\":[{\"type\":\"surface\",\"colorbar\":{\"outlinewidth\":0,\"ticks\":\"\"},\"colorscale\":[[0.0,\"#0d0887\"],[0.1111111111111111,\"#46039f\"],[0.2222222222222222,\"#7201a8\"],[0.3333333333333333,\"#9c179e\"],[0.4444444444444444,\"#bd3786\"],[0.5555555555555556,\"#d8576b\"],[0.6666666666666666,\"#ed7953\"],[0.7777777777777778,\"#fb9f3a\"],[0.8888888888888888,\"#fdca26\"],[1.0,\"#f0f921\"]]}],\"mesh3d\":[{\"type\":\"mesh3d\",\"colorbar\":{\"outlinewidth\":0,\"ticks\":\"\"}}],\"scatter\":[{\"fillpattern\":{\"fillmode\":\"overlay\",\"size\":10,\"solidity\":0.2},\"type\":\"scatter\"}],\"parcoords\":[{\"type\":\"parcoords\",\"line\":{\"colorbar\":{\"outlinewidth\":0,\"ticks\":\"\"}}}],\"scatterpolargl\":[{\"type\":\"scatterpolargl\",\"marker\":{\"colorbar\":{\"outlinewidth\":0,\"ticks\":\"\"}}}],\"bar\":[{\"error_x\":{\"color\":\"#2a3f5f\"},\"error_y\":{\"color\":\"#2a3f5f\"},\"marker\":{\"line\":{\"color\":\"#E5ECF6\",\"width\":0.5},\"pattern\":{\"fillmode\":\"overlay\",\"size\":10,\"solidity\":0.2}},\"type\":\"bar\"}],\"scattergeo\":[{\"type\":\"scattergeo\",\"marker\":{\"colorbar\":{\"outlinewidth\":0,\"ticks\":\"\"}}}],\"scatterpolar\":[{\"type\":\"scatterpolar\",\"marker\":{\"colorbar\":{\"outlinewidth\":0,\"ticks\":\"\"}}}],\"histogram\":[{\"marker\":{\"pattern\":{\"fillmode\":\"overlay\",\"size\":10,\"solidity\":0.2}},\"type\":\"histogram\"}],\"scattergl\":[{\"type\":\"scattergl\",\"marker\":{\"colorbar\":{\"outlinewidth\":0,\"ticks\":\"\"}}}],\"scatter3d\":[{\"type\":\"scatter3d\",\"line\":{\"colorbar\":{\"outlinewidth\":0,\"ticks\":\"\"}},\"marker\":{\"colorbar\":{\"outlinewidth\":0,\"ticks\":\"\"}}}],\"scattermapbox\":[{\"type\":\"scattermapbox\",\"marker\":{\"colorbar\":{\"outlinewidth\":0,\"ticks\":\"\"}}}],\"scatterternary\":[{\"type\":\"scatterternary\",\"marker\":{\"colorbar\":{\"outlinewidth\":0,\"ticks\":\"\"}}}],\"scattercarpet\":[{\"type\":\"scattercarpet\",\"marker\":{\"colorbar\":{\"outlinewidth\":0,\"ticks\":\"\"}}}],\"carpet\":[{\"aaxis\":{\"endlinecolor\":\"#2a3f5f\",\"gridcolor\":\"white\",\"linecolor\":\"white\",\"minorgridcolor\":\"white\",\"startlinecolor\":\"#2a3f5f\"},\"baxis\":{\"endlinecolor\":\"#2a3f5f\",\"gridcolor\":\"white\",\"linecolor\":\"white\",\"minorgridcolor\":\"white\",\"startlinecolor\":\"#2a3f5f\"},\"type\":\"carpet\"}],\"table\":[{\"cells\":{\"fill\":{\"color\":\"#EBF0F8\"},\"line\":{\"color\":\"white\"}},\"header\":{\"fill\":{\"color\":\"#C8D4E3\"},\"line\":{\"color\":\"white\"}},\"type\":\"table\"}],\"barpolar\":[{\"marker\":{\"line\":{\"color\":\"#E5ECF6\",\"width\":0.5},\"pattern\":{\"fillmode\":\"overlay\",\"size\":10,\"solidity\":0.2}},\"type\":\"barpolar\"}],\"pie\":[{\"automargin\":true,\"type\":\"pie\"}]},\"layout\":{\"autotypenumbers\":\"strict\",\"colorway\":[\"#636efa\",\"#EF553B\",\"#00cc96\",\"#ab63fa\",\"#FFA15A\",\"#19d3f3\",\"#FF6692\",\"#B6E880\",\"#FF97FF\",\"#FECB52\"],\"font\":{\"color\":\"#2a3f5f\"},\"hovermode\":\"closest\",\"hoverlabel\":{\"align\":\"left\"},\"paper_bgcolor\":\"white\",\"plot_bgcolor\":\"#E5ECF6\",\"polar\":{\"bgcolor\":\"#E5ECF6\",\"angularaxis\":{\"gridcolor\":\"white\",\"linecolor\":\"white\",\"ticks\":\"\"},\"radialaxis\":{\"gridcolor\":\"white\",\"linecolor\":\"white\",\"ticks\":\"\"}},\"ternary\":{\"bgcolor\":\"#E5ECF6\",\"aaxis\":{\"gridcolor\":\"white\",\"linecolor\":\"white\",\"ticks\":\"\"},\"baxis\":{\"gridcolor\":\"white\",\"linecolor\":\"white\",\"ticks\":\"\"},\"caxis\":{\"gridcolor\":\"white\",\"linecolor\":\"white\",\"ticks\":\"\"}},\"coloraxis\":{\"colorbar\":{\"outlinewidth\":0,\"ticks\":\"\"}},\"colorscale\":{\"sequential\":[[0.0,\"#0d0887\"],[0.1111111111111111,\"#46039f\"],[0.2222222222222222,\"#7201a8\"],[0.3333333333333333,\"#9c179e\"],[0.4444444444444444,\"#bd3786\"],[0.5555555555555556,\"#d8576b\"],[0.6666666666666666,\"#ed7953\"],[0.7777777777777778,\"#fb9f3a\"],[0.8888888888888888,\"#fdca26\"],[1.0,\"#f0f921\"]],\"sequentialminus\":[[0.0,\"#0d0887\"],[0.1111111111111111,\"#46039f\"],[0.2222222222222222,\"#7201a8\"],[0.3333333333333333,\"#9c179e\"],[0.4444444444444444,\"#bd3786\"],[0.5555555555555556,\"#d8576b\"],[0.6666666666666666,\"#ed7953\"],[0.7777777777777778,\"#fb9f3a\"],[0.8888888888888888,\"#fdca26\"],[1.0,\"#f0f921\"]],\"diverging\":[[0,\"#8e0152\"],[0.1,\"#c51b7d\"],[0.2,\"#de77ae\"],[0.3,\"#f1b6da\"],[0.4,\"#fde0ef\"],[0.5,\"#f7f7f7\"],[0.6,\"#e6f5d0\"],[0.7,\"#b8e186\"],[0.8,\"#7fbc41\"],[0.9,\"#4d9221\"],[1,\"#276419\"]]},\"xaxis\":{\"gridcolor\":\"white\",\"linecolor\":\"white\",\"ticks\":\"\",\"title\":{\"standoff\":15},\"zerolinecolor\":\"white\",\"automargin\":true,\"zerolinewidth\":2},\"yaxis\":{\"gridcolor\":\"white\",\"linecolor\":\"white\",\"ticks\":\"\",\"title\":{\"standoff\":15},\"zerolinecolor\":\"white\",\"automargin\":true,\"zerolinewidth\":2},\"scene\":{\"xaxis\":{\"backgroundcolor\":\"#E5ECF6\",\"gridcolor\":\"white\",\"linecolor\":\"white\",\"showbackground\":true,\"ticks\":\"\",\"zerolinecolor\":\"white\",\"gridwidth\":2},\"yaxis\":{\"backgroundcolor\":\"#E5ECF6\",\"gridcolor\":\"white\",\"linecolor\":\"white\",\"showbackground\":true,\"ticks\":\"\",\"zerolinecolor\":\"white\",\"gridwidth\":2},\"zaxis\":{\"backgroundcolor\":\"#E5ECF6\",\"gridcolor\":\"white\",\"linecolor\":\"white\",\"showbackground\":true,\"ticks\":\"\",\"zerolinecolor\":\"white\",\"gridwidth\":2}},\"shapedefaults\":{\"line\":{\"color\":\"#2a3f5f\"}},\"annotationdefaults\":{\"arrowcolor\":\"#2a3f5f\",\"arrowhead\":0,\"arrowwidth\":1},\"geo\":{\"bgcolor\":\"white\",\"landcolor\":\"#E5ECF6\",\"subunitcolor\":\"white\",\"showland\":true,\"showlakes\":true,\"lakecolor\":\"white\"},\"title\":{\"x\":0.05},\"mapbox\":{\"style\":\"light\"}}},\"xaxis\":{\"anchor\":\"y\",\"domain\":[0.0,1.0],\"title\":{\"text\":\"Nombre Ubicaci\\u00f3n\"},\"categoryorder\":\"array\",\"categoryarray\":[\"PISHUINCO\",\"CURI\\u00d1ANCO\",\"HUELLELHUE\",\"LAS GAVIOTAS\",\"NIEBLA-LOS MOLINOS\",\"PUNUCAPA\",\"SAN IGNACIO-PLAYA ROSADA\",\"TRES ESPINOS\",\"VILLA CAYUMAPU\",\"EL ARENAL SANTA ELVIRA\",\"PAILLAO\",\"CABO BLANCO\",\"EL ARENAL KM 2\",\"Chabelita\",\"ARCO IRIS\",\"EL LLOLLY\",\"PICHIRROPULLI\",\"REUMEN\",\"SANTA FILOMENA\",\"MANAO\",\"SANTA ROSA CHICA\",\"SANTA ROSA GRANDE\",\"LUMACO PAILLACO\",\"EL MAITEN\",\"SANTA FILOMENA II\",\"ANTILHUE\",\"FOLILCO LOS LAGOS\",\"QUILQUILCO\",\"RI\\u00d1IHUE\",\"USTARITZ\",\"EL SALTO\",\"PELLINADA LAS QUINIENTAS\",\"PANCUL\",\"LOS COLIG\\u00dcES\",\"COLO COLO\",\"LAS HUELLLAS\",\"San Pedro\",\"Lipingue\",\"El Trebol\",\"Collico Sur\",\"Mi Tierra\",\"Pu\\u00f1aco\",\"Purey\",\"AMARGO-SAN CARLOS\",\"ISLA DEL REY\",\"ISLA MANCERA\",\"LA AGUADA\",\"CHAIHUIN\",\"CERROS DE CORRAL\"]},\"yaxis\":{\"anchor\":\"x\",\"domain\":[0.0,1.0],\"title\":{\"text\":\"Beneficiarios\"}},\"legend\":{\"title\":{\"text\":\"Nombre Ubicaci\\u00f3n\"},\"tracegroupgap\":0},\"title\":{\"text\":\"Beneficiarios por sector de instalaci\\u00f3n de APR\"},\"barmode\":\"relative\"},                        {\"responsive\": true}                    ).then(function(){\n",
       "                            \n",
       "var gd = document.getElementById('220f0473-b1f8-4e7a-99f0-f1a5f14e21f9');\n",
       "var x = new MutationObserver(function (mutations, observer) {{\n",
       "        var display = window.getComputedStyle(gd).display;\n",
       "        if (!display || display === 'none') {{\n",
       "            console.log([gd, 'removed!']);\n",
       "            Plotly.purge(gd);\n",
       "            observer.disconnect();\n",
       "        }}\n",
       "}});\n",
       "\n",
       "// Listen for the removal of the full notebook cells\n",
       "var notebookContainer = gd.closest('#notebook-container');\n",
       "if (notebookContainer) {{\n",
       "    x.observe(notebookContainer, {childList: true});\n",
       "}}\n",
       "\n",
       "// Listen for the clearing of the current output cell\n",
       "var outputEl = gd.closest('.output');\n",
       "if (outputEl) {{\n",
       "    x.observe(outputEl, {childList: true});\n",
       "}}\n",
       "\n",
       "                        })                };                });            </script>        </div>"
      ]
     },
     "metadata": {},
     "output_type": "display_data"
    }
   ],
   "source": [
    "import plotly.express as px\n",
    "#Aca estamos llamando al set de datos de la tabla,que viene precargado en la librería\n",
    "\n",
    "fig = px.bar(tabla, x=\"Nombre Ubicación\", y=\"Beneficiarios\",color=\"Nombre Ubicación\",\n",
    "             title=\"Beneficiarios por sector de instalación de APR\",\n",
    "             color_discrete_sequence=color_beneficiario)\n",
    "fig.show()\n",
    "\n"
   ]
  },
  {
   "cell_type": "code",
   "execution_count": null,
   "id": "4ba27ff4-92cf-4d18-a6e0-3da1ff44bef8",
   "metadata": {},
   "outputs": [],
   "source": []
  }
 ],
 "metadata": {
  "kernelspec": {
   "display_name": "Python 3 (ipykernel)",
   "language": "python",
   "name": "python3"
  },
  "language_info": {
   "codemirror_mode": {
    "name": "ipython",
    "version": 3
   },
   "file_extension": ".py",
   "mimetype": "text/x-python",
   "name": "python",
   "nbconvert_exporter": "python",
   "pygments_lexer": "ipython3",
   "version": "3.10.7"
  }
 },
 "nbformat": 4,
 "nbformat_minor": 5
}
